{
  "cells": [
    {
      "cell_type": "markdown",
      "metadata": {
        "id": "_sMTtW6c96gq"
      },
      "source": [
        "# Выбор локации для скважины"
      ]
    },
    {
      "cell_type": "markdown",
      "metadata": {
        "id": "enk2nlVb96gq"
      },
      "source": [
        "## Описание проекта\n",
        "\n",
        "Вы работаете в добывающей компании «ГлавРосГосНефть». Нужно решить, где бурить новую скважину.\n",
        "\n",
        "Шаги для выбора локации обычно такие:\n",
        "- В избранном регионе собирают характеристики для скважин: качество нефти и объём её запасов;\n",
        "- Строят модель для предсказания объёма запасов в новых скважинах;\n",
        "- Выбирают скважины с самыми высокими оценками значений;\n",
        "- Определяют регион с максимальной суммарной прибылью отобранных скважин.\n",
        "\n",
        "Вам предоставлены пробы нефти в трёх регионах. Характеристики для каждой скважины в регионе уже известны. Постройте модель для определения региона, где добыча принесёт наибольшую прибыль. Проанализируйте возможную прибыль и риски техникой Bootstrap.\n"
      ]
    },
    {
      "cell_type": "markdown",
      "source": [
        "## Цель исследования\n",
        "\n",
        "Построить модель для определения региона, где добыча принесёт наибольшую прибыль"
      ],
      "metadata": {
        "id": "Lmm1PIEn-Mg5"
      }
    },
    {
      "cell_type": "markdown",
      "source": [
        "## Инструкция по выполнению проекта\n",
        "\n",
        "Загрузите и подготовьте данные. Поясните порядок действий.\n",
        "\n",
        "Обучите и проверьте модель для каждого региона:\n",
        "- Разбейте данные на обучающую и валидационную выборки в соотношении 75:25.\n",
        "- Обучите модель и сделайте предсказания на валидационной выборке.\n",
        "- Сохраните предсказания и правильные ответы на валидационной выборке.\n",
        "- Напечатайте на экране средний запас предсказанного сырья и RMSE модели.\n",
        "- Проанализируйте результаты.\n",
        "Подготовьтесь к расчёту прибыли:\n",
        "- Все ключевые значения для расчётов сохраните в отдельных переменных.\n",
        "- Рассчитайте достаточный объём сырья для безубыточной разработки новой скважины. Сравните полученный объём сырья со средним запасом в каждом регионе.\n",
        "- Напишите выводы по этапу подготовки расчёта прибыли.\n",
        "Напишите функцию для расчёта прибыли по выбранным скважинам и предсказаниям модели:\n",
        "- Выберите скважины с максимальными значениями предсказаний.\n",
        "- Просуммируйте целевое значение объёма сырья, соответствующее этим предсказаниям.\n",
        "- Рассчитайте прибыль для полученного объёма сырья.\n",
        "Посчитайте риски и прибыль для каждого региона:\n",
        "- Примените технику Bootstrap с 1000 выборок, чтобы найти распределение прибыли.\n",
        "- Найдите среднюю прибыль, 95%-й доверительный интервал и риск убытков. Убыток — это отрицательная прибыль.\n",
        "- Напишите выводы: предложите регион для разработки скважин и обоснуйте выбор."
      ],
      "metadata": {
        "id": "9HXJu7PA-Mjp"
      }
    },
    {
      "cell_type": "markdown",
      "source": [
        "## Описание данных\n",
        "\n",
        "Данные геологоразведки трёх регионов находятся в файлах:\n",
        "- geo_data_0.csv.\n",
        "- geo_data_1.csv.\n",
        "- geo_data_2.csv.\n",
        "  \n",
        "- id — уникальный идентификатор скважины;\n",
        "- f0, f1, f2 — три признака точек (неважно, что они означают, но сами признаки значимы);\n",
        "- product — объём запасов в скважине (тыс. баррелей)."
      ],
      "metadata": {
        "id": "ZbdhHPWS-MmZ"
      }
    },
    {
      "cell_type": "markdown",
      "metadata": {
        "id": "tK3gOzBX96gr"
      },
      "source": [
        "## Загрузка и подготовка данных"
      ]
    },
    {
      "cell_type": "markdown",
      "metadata": {
        "id": "TTsvAkcl96gr"
      },
      "source": [
        "### Загрузка и подготовка данных"
      ]
    },
    {
      "cell_type": "code",
      "execution_count": null,
      "metadata": {
        "id": "cJ5RTe6U96gr"
      },
      "outputs": [],
      "source": [
        "# Загрузим необходимые библиотеки и функции\n",
        "\n",
        "import pandas as pd\n",
        "import numpy as np\n",
        "import matplotlib.pyplot as plt\n",
        "import seaborn as sns\n",
        "import warnings\n",
        "from sklearn.model_selection import train_test_split\n",
        "from sklearn.metrics import mean_squared_error\n",
        "from sklearn.preprocessing import StandardScaler\n",
        "from sklearn.linear_model import LinearRegression"
      ]
    },
    {
      "cell_type": "code",
      "execution_count": null,
      "metadata": {
        "id": "V8TXTJEh96gt"
      },
      "outputs": [],
      "source": [
        "# отключим некритические предупреждения в коде\n",
        "warnings.filterwarnings(\"ignore\")"
      ]
    },
    {
      "cell_type": "code",
      "execution_count": null,
      "metadata": {
        "id": "TDKe4Zp_96gt"
      },
      "outputs": [],
      "source": [
        "# сбросим ограничение на количество выводимых столбцов, что бы просмотреть все столбцы\n",
        "pd.set_option('display.max_columns', None)"
      ]
    },
    {
      "cell_type": "code",
      "execution_count": null,
      "metadata": {
        "id": "mAg70VbC96gu"
      },
      "outputs": [],
      "source": [
        "# Загрузим данные\n",
        "\n",
        "geo_data_0 = pd.read_csv('/datasets/geo_data_0.csv')\n",
        "geo_data_1 = pd.read_csv('/datasets/geo_data_1.csv')\n",
        "geo_data_2 = pd.read_csv('/datasets/geo_data_2.csv')\n",
        "\n",
        "\n",
        "# Дабы в дальнейшем не повторять одни и те же действия на каждом датасете, объеденим их в список.\n",
        "# А действия, которые надо выполнять, авернем в функции\n",
        "\n",
        "datas= [geo_data_0, geo_data_1, geo_data_2]"
      ]
    },
    {
      "cell_type": "code",
      "execution_count": null,
      "metadata": {
        "id": "e7fK-jil96gv",
        "outputId": "33ccf67c-18e8-40a4-a791-3d76e48a7c6a"
      },
      "outputs": [
        {
          "name": "stdout",
          "output_type": "stream",
          "text": [
            "[          id        f0        f1        f2     product\n",
            "0      txEyH  0.705745 -0.497823  1.221170  105.280062\n",
            "1      2acmU  1.334711 -0.340164  4.365080   73.037750\n",
            "2      409Wp  1.022732  0.151990  1.419926   85.265647\n",
            "3      iJLyR -0.032172  0.139033  2.978566  168.620776\n",
            "4      Xdl7t  1.988431  0.155413  4.751769  154.036647\n",
            "...      ...       ...       ...       ...         ...\n",
            "99995  DLsed  0.971957  0.370953  6.075346  110.744026\n",
            "99996  QKivN  1.392429 -0.382606  1.273912  122.346843\n",
            "99997  3rnvd  1.029585  0.018787 -1.348308   64.375443\n",
            "99998  7kl59  0.998163 -0.528582  1.583869   74.040764\n",
            "99999  1CWhH  1.764754 -0.266417  5.722849  149.633246\n",
            "\n",
            "[100000 rows x 5 columns],           id         f0         f1        f2     product\n",
            "0      kBEdx -15.001348  -8.276000 -0.005876    3.179103\n",
            "1      62mP7  14.272088  -3.475083  0.999183   26.953261\n",
            "2      vyE1P   6.263187  -5.948386  5.001160  134.766305\n",
            "3      KcrkZ -13.081196 -11.506057  4.999415  137.945408\n",
            "4      AHL4O  12.702195  -8.147433  5.004363  134.766305\n",
            "...      ...        ...        ...       ...         ...\n",
            "99995  QywKC   9.535637  -6.878139  1.998296   53.906522\n",
            "99996  ptvty -10.160631 -12.558096  5.005581  137.945408\n",
            "99997  09gWa  -7.378891  -3.084104  4.998651  137.945408\n",
            "99998  rqwUm   0.665714  -6.152593  1.000146   30.132364\n",
            "99999  relB0  -3.426139  -7.794274 -0.003299    3.179103\n",
            "\n",
            "[100000 rows x 5 columns],           id        f0        f1        f2     product\n",
            "0      fwXo0 -1.146987  0.963328 -0.828965   27.758673\n",
            "1      WJtFt  0.262778  0.269839 -2.530187   56.069697\n",
            "2      ovLUW  0.194587  0.289035 -5.586433   62.871910\n",
            "3      q6cA6  2.236060 -0.553760  0.930038  114.572842\n",
            "4      WPMUX -0.515993  1.716266  5.899011  149.600746\n",
            "...      ...       ...       ...       ...         ...\n",
            "99995  4GxBu -1.777037  1.125220  6.263374  172.327046\n",
            "99996  YKFjq -1.261523 -0.894828  2.524545  138.748846\n",
            "99997  tKPY3 -1.199934 -2.957637  5.219411  157.080080\n",
            "99998  nmxp2 -2.419896  2.417221 -5.548444   51.795253\n",
            "99999  V9kWn -2.551421 -2.025625  6.090891  102.775767\n",
            "\n",
            "[100000 rows x 5 columns]]\n"
          ]
        }
      ],
      "source": [
        "print(datas)"
      ]
    },
    {
      "cell_type": "code",
      "execution_count": null,
      "metadata": {
        "id": "6vBkKxxQ96gw"
      },
      "outputs": [],
      "source": [
        "# Выводит информацию по датасету\n",
        "\n",
        "def view(data):\n",
        "\n",
        "    print('Обзор данных', '\\n')\n",
        "    print(data.head(10))\n",
        "    print('\\n')\n",
        "    print('Общая информация ', '\\n')\n",
        "    print(data.info())\n",
        "    print('\\n')\n",
        "    print('Описательная статистика', '\\n')\n",
        "    print(data.describe())\n",
        "    print('\\n')\n",
        "    print('Дубикаты', '\\n')\n",
        "    print(data.duplicated().sum())\n",
        "    print('-' * 65)\n",
        "    print('\\n' * 3)"
      ]
    },
    {
      "cell_type": "code",
      "execution_count": null,
      "metadata": {
        "scrolled": false,
        "id": "U7na0efz96gx",
        "outputId": "33e33354-c85d-47b2-bf3d-1fd25339762f"
      },
      "outputs": [
        {
          "name": "stdout",
          "output_type": "stream",
          "text": [
            "Обзор данных \n",
            "\n",
            "      id        f0        f1        f2     product\n",
            "0  txEyH  0.705745 -0.497823  1.221170  105.280062\n",
            "1  2acmU  1.334711 -0.340164  4.365080   73.037750\n",
            "2  409Wp  1.022732  0.151990  1.419926   85.265647\n",
            "3  iJLyR -0.032172  0.139033  2.978566  168.620776\n",
            "4  Xdl7t  1.988431  0.155413  4.751769  154.036647\n",
            "5  wX4Hy  0.969570  0.489775 -0.735383   64.741541\n",
            "6  tL6pL  0.645075  0.530656  1.780266   49.055285\n",
            "7  BYPU6 -0.400648  0.808337 -5.624670   72.943292\n",
            "8  j9Oui  0.643105 -0.551583  2.372141  113.356160\n",
            "9  OLuZU  2.173381  0.563698  9.441852  127.910945\n",
            "\n",
            "\n",
            "Общая информация  \n",
            "\n",
            "<class 'pandas.core.frame.DataFrame'>\n",
            "RangeIndex: 100000 entries, 0 to 99999\n",
            "Data columns (total 5 columns):\n",
            " #   Column   Non-Null Count   Dtype  \n",
            "---  ------   --------------   -----  \n",
            " 0   id       100000 non-null  object \n",
            " 1   f0       100000 non-null  float64\n",
            " 2   f1       100000 non-null  float64\n",
            " 3   f2       100000 non-null  float64\n",
            " 4   product  100000 non-null  float64\n",
            "dtypes: float64(4), object(1)\n",
            "memory usage: 3.8+ MB\n",
            "None\n",
            "\n",
            "\n",
            "Описательная статистика \n",
            "\n",
            "                  f0             f1             f2        product\n",
            "count  100000.000000  100000.000000  100000.000000  100000.000000\n",
            "mean        0.500419       0.250143       2.502647      92.500000\n",
            "std         0.871832       0.504433       3.248248      44.288691\n",
            "min        -1.408605      -0.848218     -12.088328       0.000000\n",
            "25%        -0.072580      -0.200881       0.287748      56.497507\n",
            "50%         0.502360       0.250252       2.515969      91.849972\n",
            "75%         1.073581       0.700646       4.715088     128.564089\n",
            "max         2.362331       1.343769      16.003790     185.364347\n",
            "\n",
            "\n",
            "Дубикаты \n",
            "\n",
            "0\n",
            "-----------------------------------------------------------------\n",
            "\n",
            "\n",
            "\n",
            "\n",
            "Обзор данных \n",
            "\n",
            "      id         f0         f1        f2     product\n",
            "0  kBEdx -15.001348  -8.276000 -0.005876    3.179103\n",
            "1  62mP7  14.272088  -3.475083  0.999183   26.953261\n",
            "2  vyE1P   6.263187  -5.948386  5.001160  134.766305\n",
            "3  KcrkZ -13.081196 -11.506057  4.999415  137.945408\n",
            "4  AHL4O  12.702195  -8.147433  5.004363  134.766305\n",
            "5  HHckp  -3.327590  -2.205276  3.003647   84.038886\n",
            "6  h5Ujo -11.142655 -10.133399  4.002382  110.992147\n",
            "7  muH9x   4.234715  -0.001354  2.004588   53.906522\n",
            "8  YiRkx  13.355129  -0.332068  4.998647  134.766305\n",
            "9  jG6Gi   1.069227 -11.025667  4.997844  137.945408\n",
            "\n",
            "\n",
            "Общая информация  \n",
            "\n",
            "<class 'pandas.core.frame.DataFrame'>\n",
            "RangeIndex: 100000 entries, 0 to 99999\n",
            "Data columns (total 5 columns):\n",
            " #   Column   Non-Null Count   Dtype  \n",
            "---  ------   --------------   -----  \n",
            " 0   id       100000 non-null  object \n",
            " 1   f0       100000 non-null  float64\n",
            " 2   f1       100000 non-null  float64\n",
            " 3   f2       100000 non-null  float64\n",
            " 4   product  100000 non-null  float64\n",
            "dtypes: float64(4), object(1)\n",
            "memory usage: 3.8+ MB\n",
            "None\n",
            "\n",
            "\n",
            "Описательная статистика \n",
            "\n",
            "                  f0             f1             f2        product\n",
            "count  100000.000000  100000.000000  100000.000000  100000.000000\n",
            "mean        1.141296      -4.796579       2.494541      68.825000\n",
            "std         8.965932       5.119872       1.703572      45.944423\n",
            "min       -31.609576     -26.358598      -0.018144       0.000000\n",
            "25%        -6.298551      -8.267985       1.000021      26.953261\n",
            "50%         1.153055      -4.813172       2.011479      57.085625\n",
            "75%         8.621015      -1.332816       3.999904     107.813044\n",
            "max        29.421755      18.734063       5.019721     137.945408\n",
            "\n",
            "\n",
            "Дубикаты \n",
            "\n",
            "0\n",
            "-----------------------------------------------------------------\n",
            "\n",
            "\n",
            "\n",
            "\n",
            "Обзор данных \n",
            "\n",
            "      id        f0        f1        f2     product\n",
            "0  fwXo0 -1.146987  0.963328 -0.828965   27.758673\n",
            "1  WJtFt  0.262778  0.269839 -2.530187   56.069697\n",
            "2  ovLUW  0.194587  0.289035 -5.586433   62.871910\n",
            "3  q6cA6  2.236060 -0.553760  0.930038  114.572842\n",
            "4  WPMUX -0.515993  1.716266  5.899011  149.600746\n",
            "5  LzZXx -0.758092  0.710691  2.585887   90.222465\n",
            "6  WBHRv -0.574891  0.317727  1.773745   45.641478\n",
            "7  XO8fn -1.906649 -2.458350 -0.177097   72.480640\n",
            "8  ybmQ5  1.776292 -0.279356  3.004156  106.616832\n",
            "9  OilcN -1.214452 -0.439314  5.922514   52.954532\n",
            "\n",
            "\n",
            "Общая информация  \n",
            "\n",
            "<class 'pandas.core.frame.DataFrame'>\n",
            "RangeIndex: 100000 entries, 0 to 99999\n",
            "Data columns (total 5 columns):\n",
            " #   Column   Non-Null Count   Dtype  \n",
            "---  ------   --------------   -----  \n",
            " 0   id       100000 non-null  object \n",
            " 1   f0       100000 non-null  float64\n",
            " 2   f1       100000 non-null  float64\n",
            " 3   f2       100000 non-null  float64\n",
            " 4   product  100000 non-null  float64\n",
            "dtypes: float64(4), object(1)\n",
            "memory usage: 3.8+ MB\n",
            "None\n",
            "\n",
            "\n",
            "Описательная статистика \n",
            "\n",
            "                  f0             f1             f2        product\n",
            "count  100000.000000  100000.000000  100000.000000  100000.000000\n",
            "mean        0.002023      -0.002081       2.495128      95.000000\n",
            "std         1.732045       1.730417       3.473445      44.749921\n",
            "min        -8.760004      -7.084020     -11.970335       0.000000\n",
            "25%        -1.162288      -1.174820       0.130359      59.450441\n",
            "50%         0.009424      -0.009482       2.484236      94.925613\n",
            "75%         1.158535       1.163678       4.858794     130.595027\n",
            "max         7.238262       7.844801      16.739402     190.029838\n",
            "\n",
            "\n",
            "Дубикаты \n",
            "\n",
            "0\n",
            "-----------------------------------------------------------------\n",
            "\n",
            "\n",
            "\n",
            "\n"
          ]
        }
      ],
      "source": [
        "#Так как data - это список с датасетами, пройдемся по нему, вывода информацию по каждому датасету\n",
        "\n",
        "for data in datas:\n",
        "    view(data)"
      ]
    },
    {
      "cell_type": "markdown",
      "metadata": {
        "id": "vg3kRzLL96gx"
      },
      "source": [
        "Пропусков нет. Дубликатов нет. Аномалий и выбросов не наблюдается. Данные в отличном состоянии!\n",
        "Нужно лишь удалить столбец ID, так как он не несет никакой ценности для дальнейшх исследований"
      ]
    },
    {
      "cell_type": "code",
      "execution_count": null,
      "metadata": {
        "id": "UvG0SwgH96gx"
      },
      "outputs": [],
      "source": [
        "for i in range(len(datas)):\n",
        "    datas[i] = datas[i].drop(columns=['id'], axis=0)"
      ]
    },
    {
      "cell_type": "markdown",
      "metadata": {
        "id": "g8ajirqv96gy"
      },
      "source": [
        "### Итог"
      ]
    },
    {
      "cell_type": "markdown",
      "metadata": {
        "id": "px1ZZXFw96gy"
      },
      "source": [
        "- Прочитали данные и объеденили их.\n",
        "\n",
        "- Проверили корректность данных.\n",
        "\n",
        "- Удалили ненужный столбец.\n",
        "\n",
        "Данные, как и сказанно выше, в отличном состоянии и не требуют большей предобработки."
      ]
    },
    {
      "cell_type": "markdown",
      "metadata": {
        "id": "7ZNkkiBg96gy"
      },
      "source": [
        "## Обучение и проверка модели"
      ]
    },
    {
      "cell_type": "markdown",
      "metadata": {
        "id": "7SpKpTbm96gy"
      },
      "source": [
        "### Обучение и проверка модели"
      ]
    },
    {
      "cell_type": "code",
      "execution_count": null,
      "metadata": {
        "id": "EShn-LYt96gz"
      },
      "outputs": [],
      "source": [
        "# разбивает на тренировочные и тестовые выборки и отделяет целевой признак\n",
        "\n",
        "def data_split(data):\n",
        "\n",
        "    train, test = train_test_split(data, test_size=0.25, random_state=12345)\n",
        "\n",
        "    features_train = train.drop(columns=['product'], axis=0)\n",
        "    target_train = train['product']\n",
        "\n",
        "    features_test = test.drop(columns=['product'], axis=0)\n",
        "    target_test= test['product']\n",
        "\n",
        "    return features_train, target_train, features_test, target_test"
      ]
    },
    {
      "cell_type": "code",
      "execution_count": null,
      "metadata": {
        "id": "w7fSgJHs96gz"
      },
      "outputs": [],
      "source": [
        "# создадим выборки по каждому датасету\n",
        "\n",
        "features_train_0, target_train_0, features_test_0, target_test_0 = data_split(datas[0])\n",
        "features_train_1, target_train_1, features_test_1, target_test_1 = data_split(datas[1])\n",
        "features_train_2, target_train_2, features_test_2, target_test_2 = data_split(datas[2])"
      ]
    },
    {
      "cell_type": "code",
      "execution_count": null,
      "metadata": {
        "id": "TKmjZo6c96gz"
      },
      "outputs": [],
      "source": [
        "# Стандартизируем данные\n",
        "\n",
        "scaler = StandardScaler()\n",
        "\n",
        "scaler.fit(features_train_0)\n",
        "features_train_0 = scaler.transform(features_train_0)\n",
        "features_test_0 = scaler.transform(features_test_0)\n",
        "\n",
        "scaler.fit(features_train_1)\n",
        "features_train_1 = scaler.transform(features_train_1)\n",
        "features_test_1 = scaler.transform(features_test_1)\n",
        "\n",
        "scaler.fit(features_train_2)\n",
        "features_train_2 = scaler.transform(features_train_2)\n",
        "features_test_2 = scaler.transform(features_test_2)"
      ]
    },
    {
      "cell_type": "code",
      "execution_count": null,
      "metadata": {
        "id": "bN-z-QNJ96g0"
      },
      "outputs": [],
      "source": [
        "model = LinearRegression()\n",
        "\n",
        "# Обучает и предсказывает по каждому датасету\n",
        "\n",
        "def learning_and_predicted(features_train, target_train, features_test, target_test):\n",
        "\n",
        "    model.fit(features_train, target_train)\n",
        "    predict = pd.Series(model.predict(features_test), target_test.index)\n",
        "\n",
        "    return predict"
      ]
    },
    {
      "cell_type": "code",
      "execution_count": null,
      "metadata": {
        "id": "K8oNot_396g0"
      },
      "outputs": [],
      "source": [
        "predict_0 = learning_and_predicted(features_train_0, target_train_0, features_test_0, target_test_0)\n",
        "predict_1 = learning_and_predicted(features_train_1, target_train_1, features_test_1, target_test_1)\n",
        "predict_2 = learning_and_predicted(features_train_2, target_train_2, features_test_2, target_test_2)"
      ]
    },
    {
      "cell_type": "code",
      "execution_count": null,
      "metadata": {
        "id": "oxQlBKUc96g0",
        "outputId": "907e2633-886d-4ac2-f2fd-fe66ef5fbe74"
      },
      "outputs": [
        {
          "name": "stdout",
          "output_type": "stream",
          "text": [
            "Регион 1\n",
            "Предсказанный средний запас: 92.59\n",
            "RMSE: 37.58 \n",
            "\n",
            "Регион 2\n",
            "Предсказанный средний запас: 68.73\n",
            "RMSE: 0.89 \n",
            "\n",
            "Регион 3\n",
            "Предсказанный средний запас: 94.97\n",
            "RMSE: 40.03 \n",
            "\n"
          ]
        }
      ],
      "source": [
        "predictions = [predict_0, predict_1, predict_2]\n",
        "targets_test = [target_test_0, target_test_1, target_test_2]\n",
        "\n",
        "for i in range(len(predictions)):\n",
        "\n",
        "    print('Регион', i+1) # Дабы \"Регион 0\" не резал глаз\n",
        "\n",
        "    mse = mean_squared_error(predictions[i], targets_test[i])\n",
        "    rmse = mse**0.5\n",
        "\n",
        "    print('Предсказанный средний запас: {:,.2f}'.format(predictions[i].mean()))\n",
        "    print('RMSE: {:,.2f}'.format(rmse), '\\n')"
      ]
    },
    {
      "cell_type": "markdown",
      "metadata": {
        "id": "K8JH55qz96g0"
      },
      "source": [
        "### Итог"
      ]
    },
    {
      "cell_type": "markdown",
      "metadata": {
        "id": "LJOsS9tH96g1"
      },
      "source": [
        "В первом и третьем регионах модель ошибается довольно таки сильно, при этом во втором регионе ошибки в предсказаниях крайне малы.\n",
        "Для выдвижения гипотезы о том, почему так, нет достаточных данных. Потому просто приму как есть"
      ]
    },
    {
      "cell_type": "markdown",
      "metadata": {
        "id": "UfWEOISL96g1"
      },
      "source": [
        "## Подготовка к расчёту прибыли"
      ]
    },
    {
      "cell_type": "markdown",
      "metadata": {
        "id": "-izZjblR96g1"
      },
      "source": [
        "### Создадим константы"
      ]
    },
    {
      "cell_type": "code",
      "execution_count": null,
      "metadata": {
        "id": "W8KrPytv96g1"
      },
      "outputs": [],
      "source": [
        "# кол-во используемых точек\n",
        "\n",
        "TOTAL_OBJECTS_= 200\n",
        "\n",
        "# Бюджет на регион\n",
        "\n",
        "TOTAL_BUDJET_= 10e9\n",
        "\n",
        "# Цена за тысячу баррелей\n",
        "\n",
        "THOUSEND_BARREL_PRICE_= 450e3\n",
        "\n",
        "# Значение допустимого риска\n",
        "RISK = 0.025\n"
      ]
    },
    {
      "cell_type": "markdown",
      "metadata": {
        "id": "IrW-ibkw96g2"
      },
      "source": [
        "### Рассчитаем достаточный объем для безубыточности"
      ]
    },
    {
      "cell_type": "code",
      "execution_count": null,
      "metadata": {
        "id": "i0EpxLbc96g2",
        "outputId": "35b2e32a-54f0-4498-ddad-ebc33c85f5ab"
      },
      "outputs": [
        {
          "name": "stdout",
          "output_type": "stream",
          "text": [
            "Цена одной скважины: 50000000.00\n",
            "Минимальный объем в скважине, для окупаемости: 111111.11 bar\n"
          ]
        }
      ],
      "source": [
        "# Цена одной скважины\n",
        "\n",
        "object_price_ = TOTAL_BUDJET_/TOTAL_OBJECTS_\n",
        "\n",
        "# Объем для окупаемости\n",
        "\n",
        "min_volume_ = object_price_/THOUSEND_BARREL_PRICE_\n",
        "\n",
        "\n",
        "print('Цена одной скважины: {:.2f}'.format(object_price_))\n",
        "print('Минимальный объем в скважине, для окупаемости: {:.2f} bar'.format(min_volume_*1000)) #"
      ]
    },
    {
      "cell_type": "markdown",
      "metadata": {
        "id": "_QyLfcpA96g3"
      },
      "source": [
        "### Создадим функцию для расчета прибыли\n",
        "\n"
      ]
    },
    {
      "cell_type": "code",
      "execution_count": null,
      "metadata": {
        "id": "z_HfV9qd96g3"
      },
      "outputs": [],
      "source": [
        "def revenue(target, probabilities, count): # Считаем прибыль\n",
        "    probs_sorted = probabilities.sort_values(ascending=False)\n",
        "    selected = target[probs_sorted.index][:count]\n",
        "    return selected.sum() * thousand_barrel_price_ - total_budjet_\n",
        "\n",
        "state = np.random.RandomState(12345)"
      ]
    },
    {
      "cell_type": "markdown",
      "metadata": {
        "id": "q7BaShrp96g3"
      },
      "source": [
        "### Итог"
      ]
    },
    {
      "cell_type": "markdown",
      "metadata": {
        "id": "MtunkIrz96g4"
      },
      "source": [
        "Как видим, средние объемы в регионах ниже, чем минимальный объем для окупаемости, особенно во втором регионе - почти в два раза.\n"
      ]
    },
    {
      "cell_type": "markdown",
      "metadata": {
        "id": "39QI_tvn96g4"
      },
      "source": [
        "## Расчёт прибыли и рисков"
      ]
    },
    {
      "cell_type": "code",
      "execution_count": null,
      "metadata": {
        "scrolled": false,
        "id": "_QlFtUHr96g4",
        "outputId": "f984851d-e4ea-4f4c-a3ff-9ef40cf03c00"
      },
      "outputs": [
        {
          "name": "stdout",
          "output_type": "stream",
          "text": [
            "РЕГИОН №1 \n",
            "\n",
            "Средняя выручка:426280874.05\n",
            "95% доверительный интервал: -102090094.84 - 947976353.36\n",
            "Риск убытков: 6.00%\n",
            "\n",
            "\n",
            "РЕГИОН №2 \n",
            "\n",
            "Средняя выручка:517022253.90\n",
            "95% доверительный интервал: 128123231.43 - 953612982.07\n",
            "Риск убытков: 0.30%\n",
            "\n",
            "\n",
            "РЕГИОН №3 \n",
            "\n",
            "Средняя выручка:420046101.84\n",
            "95% доверительный интервал: -115852609.16 - 989629939.84\n",
            "Риск убытков: 6.20%\n",
            "\n",
            "\n"
          ]
        }
      ],
      "source": [
        "# Расчитаем выручку по каждому региону\n",
        "\n",
        "for i in range(len(targets_test)):\n",
        "    values = []\n",
        "    counter = 0\n",
        "    for _ in range(1000):\n",
        "        target_subsample = targets_test[i].sample(n = 500, replace=True, random_state=state)\n",
        "        probs_subsample = predictions[i][target_subsample.index]\n",
        "        reven = revenue(target_subsample, probs_subsample, total_objects_)\n",
        "        values.append(reven)\n",
        "        if reven < 0:\n",
        "            counter += 1\n",
        "    name = 'регион №' + str(i+1)\n",
        "    values = pd.Series(values)\n",
        "    lower = values.quantile(RISK)\n",
        "    upper = values.quantile(0.975)\n",
        "    mean =  values[(lower < values) & (values < upper)].mean()\n",
        "\n",
        "    print(name.upper(),'\\n')\n",
        "    print(\"Средняя выручка:{:.2f}\".format(mean))\n",
        "    print ('95% доверительный интервал: {:.2f} - {:.2f}'.format(lower, upper))\n",
        "    print('Риск убытков: {:.2%}'.format(counter / 1000))\n",
        "    print('\\n')\n"
      ]
    },
    {
      "cell_type": "markdown",
      "metadata": {
        "id": "KBP49Muj96g5"
      },
      "source": [
        "## Общий итог"
      ]
    },
    {
      "cell_type": "markdown",
      "metadata": {
        "id": "rpMN9kT196g5"
      },
      "source": [
        "По результатам исследования могу рекомендовать 2 регион:\n",
        "\n",
        "- риск убытков 1%\n",
        "- средняя предполагаемая выручка - 499279008.41 - так же выше, чем в остальных регионах\n",
        "- RMSE по предсказаниям в этом регионе самая низкая - всего 0.89.\n",
        "\n",
        "Так как ошибки в предсказаниях по другим регионам намного выше, можем предположить, что и предсказанные уровни прибыли по регионам могут сильно отличаться от реальных.\n",
        "Да и риск убытков может быть выше"
      ]
    },
    {
      "cell_type": "code",
      "execution_count": null,
      "metadata": {
        "id": "bpvLPMy796g7"
      },
      "outputs": [],
      "source": []
    }
  ],
  "metadata": {
    "ExecuteTimeLog": [
      {
        "duration": 1794,
        "start_time": "2023-05-02T11:05:53.628Z"
      },
      {
        "duration": 942,
        "start_time": "2023-05-02T11:06:04.389Z"
      },
      {
        "duration": 385,
        "start_time": "2023-05-02T11:06:21.809Z"
      },
      {
        "duration": 27,
        "start_time": "2023-05-02T11:06:23.433Z"
      },
      {
        "duration": 109,
        "start_time": "2023-05-02T11:07:26.419Z"
      },
      {
        "duration": 373,
        "start_time": "2023-05-02T11:09:16.166Z"
      },
      {
        "duration": 8,
        "start_time": "2023-05-02T11:09:17.138Z"
      },
      {
        "duration": 10,
        "start_time": "2023-05-02T11:10:31.005Z"
      },
      {
        "duration": 465,
        "start_time": "2023-05-02T11:10:33.937Z"
      },
      {
        "duration": 16,
        "start_time": "2023-05-02T11:10:34.404Z"
      },
      {
        "duration": 9,
        "start_time": "2023-05-02T11:10:37.129Z"
      },
      {
        "duration": 5,
        "start_time": "2023-05-02T11:12:35.060Z"
      },
      {
        "duration": 10,
        "start_time": "2023-05-02T11:12:36.050Z"
      },
      {
        "duration": 361,
        "start_time": "2023-05-02T11:12:41.587Z"
      },
      {
        "duration": 16,
        "start_time": "2023-05-02T11:12:42.057Z"
      },
      {
        "duration": 21,
        "start_time": "2023-05-02T11:12:47.730Z"
      },
      {
        "duration": 5,
        "start_time": "2023-05-02T11:12:48.560Z"
      },
      {
        "duration": 283,
        "start_time": "2023-05-02T11:12:49.612Z"
      },
      {
        "duration": 4,
        "start_time": "2023-05-02T11:13:08.067Z"
      },
      {
        "duration": 18,
        "start_time": "2023-05-02T11:13:11.107Z"
      },
      {
        "duration": 5,
        "start_time": "2023-05-02T11:13:24.649Z"
      },
      {
        "duration": 15,
        "start_time": "2023-05-02T11:13:25.475Z"
      },
      {
        "duration": 5,
        "start_time": "2023-05-02T11:13:34.523Z"
      },
      {
        "duration": 264,
        "start_time": "2023-05-02T11:13:35.809Z"
      },
      {
        "duration": 343,
        "start_time": "2023-05-02T11:15:48.171Z"
      },
      {
        "duration": 17,
        "start_time": "2023-05-02T11:15:56.611Z"
      },
      {
        "duration": 18,
        "start_time": "2023-05-02T11:21:45.321Z"
      },
      {
        "duration": 22,
        "start_time": "2023-05-02T11:21:53.224Z"
      },
      {
        "duration": 4,
        "start_time": "2023-05-02T11:22:06.620Z"
      },
      {
        "duration": 387,
        "start_time": "2023-05-02T11:22:06.815Z"
      },
      {
        "duration": 23,
        "start_time": "2023-05-02T11:22:07.204Z"
      },
      {
        "duration": 13,
        "start_time": "2023-05-02T11:22:07.229Z"
      },
      {
        "duration": 376,
        "start_time": "2023-05-02T11:22:07.423Z"
      },
      {
        "duration": 10,
        "start_time": "2023-05-02T11:22:07.924Z"
      },
      {
        "duration": 381,
        "start_time": "2023-05-02T11:29:47.121Z"
      },
      {
        "duration": 16,
        "start_time": "2023-05-02T11:29:49.336Z"
      },
      {
        "duration": 4,
        "start_time": "2023-05-02T11:29:49.686Z"
      },
      {
        "duration": 271,
        "start_time": "2023-05-02T11:29:50.619Z"
      },
      {
        "duration": 7,
        "start_time": "2023-05-02T11:29:50.892Z"
      },
      {
        "duration": 5,
        "start_time": "2023-05-02T11:29:52.165Z"
      },
      {
        "duration": 3,
        "start_time": "2023-05-02T11:30:29.317Z"
      },
      {
        "duration": 73,
        "start_time": "2023-05-02T11:32:00.729Z"
      },
      {
        "duration": 3,
        "start_time": "2023-05-02T11:32:25.583Z"
      },
      {
        "duration": 11,
        "start_time": "2023-05-02T11:32:42.420Z"
      },
      {
        "duration": 37,
        "start_time": "2023-05-02T11:32:50.467Z"
      },
      {
        "duration": 28,
        "start_time": "2023-05-02T11:34:01.506Z"
      },
      {
        "duration": 4,
        "start_time": "2023-05-02T11:34:48.883Z"
      },
      {
        "duration": 200,
        "start_time": "2023-05-02T11:35:01.057Z"
      },
      {
        "duration": 9,
        "start_time": "2023-05-02T11:35:13.407Z"
      },
      {
        "duration": 14,
        "start_time": "2023-05-02T11:43:56.975Z"
      },
      {
        "duration": 13,
        "start_time": "2023-05-02T11:44:17.514Z"
      },
      {
        "duration": 12,
        "start_time": "2023-05-02T11:44:26.328Z"
      },
      {
        "duration": 10,
        "start_time": "2023-05-02T11:45:36.868Z"
      },
      {
        "duration": 102,
        "start_time": "2023-05-02T11:51:27.602Z"
      },
      {
        "duration": 2,
        "start_time": "2023-05-02T11:59:46.917Z"
      },
      {
        "duration": 3,
        "start_time": "2023-05-02T12:04:30.641Z"
      },
      {
        "duration": 4,
        "start_time": "2023-05-02T12:04:37.745Z"
      },
      {
        "duration": 3,
        "start_time": "2023-05-02T12:04:43.613Z"
      },
      {
        "duration": 2,
        "start_time": "2023-05-02T12:06:38.141Z"
      },
      {
        "duration": 3,
        "start_time": "2023-05-02T12:07:44.078Z"
      },
      {
        "duration": 9,
        "start_time": "2023-05-02T12:08:42.213Z"
      },
      {
        "duration": 3,
        "start_time": "2023-05-02T12:10:14.619Z"
      },
      {
        "duration": 4,
        "start_time": "2023-05-02T12:11:26.513Z"
      },
      {
        "duration": 71,
        "start_time": "2023-05-02T12:15:06.778Z"
      },
      {
        "duration": 39,
        "start_time": "2023-05-02T12:16:27.310Z"
      },
      {
        "duration": 40,
        "start_time": "2023-05-02T12:17:34.478Z"
      },
      {
        "duration": 52,
        "start_time": "2023-05-02T12:17:57.182Z"
      },
      {
        "duration": 5904,
        "start_time": "2023-05-02T12:18:09.763Z"
      },
      {
        "duration": 5724,
        "start_time": "2023-05-02T12:18:36.109Z"
      },
      {
        "duration": 3,
        "start_time": "2023-05-02T12:21:32.814Z"
      },
      {
        "duration": 4,
        "start_time": "2023-05-02T12:22:09.522Z"
      },
      {
        "duration": 3,
        "start_time": "2023-05-02T12:22:10.119Z"
      },
      {
        "duration": 5503,
        "start_time": "2023-05-02T12:22:17.049Z"
      },
      {
        "duration": 2,
        "start_time": "2023-05-02T12:29:55.883Z"
      },
      {
        "duration": 4,
        "start_time": "2023-05-02T12:30:25.104Z"
      },
      {
        "duration": 5558,
        "start_time": "2023-05-02T12:31:01.818Z"
      },
      {
        "duration": 4680,
        "start_time": "2023-05-02T12:32:19.904Z"
      },
      {
        "duration": 4261,
        "start_time": "2023-05-02T12:32:47.808Z"
      },
      {
        "duration": 78,
        "start_time": "2023-05-02T12:33:01.261Z"
      },
      {
        "duration": 4529,
        "start_time": "2023-05-02T12:33:05.506Z"
      },
      {
        "duration": 4,
        "start_time": "2023-05-02T12:34:34.617Z"
      },
      {
        "duration": 4756,
        "start_time": "2023-05-02T12:34:37.022Z"
      },
      {
        "duration": 48,
        "start_time": "2023-05-02T16:26:39.530Z"
      },
      {
        "duration": 75,
        "start_time": "2023-05-02T16:28:53.471Z"
      },
      {
        "duration": 1483,
        "start_time": "2023-09-02T22:15:29.205Z"
      },
      {
        "duration": 3,
        "start_time": "2023-09-02T22:15:30.690Z"
      },
      {
        "duration": 65,
        "start_time": "2023-09-02T22:15:30.695Z"
      },
      {
        "duration": 962,
        "start_time": "2023-09-02T22:15:30.762Z"
      },
      {
        "duration": 18,
        "start_time": "2023-09-02T22:15:31.727Z"
      },
      {
        "duration": 14,
        "start_time": "2023-09-02T22:15:31.747Z"
      },
      {
        "duration": 327,
        "start_time": "2023-09-02T22:15:31.762Z"
      },
      {
        "duration": 13,
        "start_time": "2023-09-02T22:15:32.091Z"
      },
      {
        "duration": 22,
        "start_time": "2023-09-02T22:15:32.106Z"
      },
      {
        "duration": 62,
        "start_time": "2023-09-02T22:15:32.130Z"
      },
      {
        "duration": 33,
        "start_time": "2023-09-02T22:15:32.195Z"
      },
      {
        "duration": 9,
        "start_time": "2023-09-02T22:15:32.230Z"
      },
      {
        "duration": 143,
        "start_time": "2023-09-02T22:15:32.241Z"
      },
      {
        "duration": 102,
        "start_time": "2023-09-02T22:15:32.388Z"
      },
      {
        "duration": 15,
        "start_time": "2023-09-02T22:15:32.581Z"
      },
      {
        "duration": 28,
        "start_time": "2023-09-02T22:15:32.597Z"
      },
      {
        "duration": 7,
        "start_time": "2023-09-02T22:15:32.627Z"
      },
      {
        "duration": 4223,
        "start_time": "2023-09-02T22:15:32.636Z"
      }
    ],
    "kernelspec": {
      "display_name": "Python 3 (ipykernel)",
      "language": "python",
      "name": "python3"
    },
    "language_info": {
      "codemirror_mode": {
        "name": "ipython",
        "version": 3
      },
      "file_extension": ".py",
      "mimetype": "text/x-python",
      "name": "python",
      "nbconvert_exporter": "python",
      "pygments_lexer": "ipython3",
      "version": "3.9.5"
    },
    "toc": {
      "base_numbering": 1,
      "nav_menu": {},
      "number_sections": true,
      "sideBar": true,
      "skip_h1_title": true,
      "title_cell": "Table of Contents",
      "title_sidebar": "Contents",
      "toc_cell": false,
      "toc_position": {},
      "toc_section_display": true,
      "toc_window_display": true
    },
    "colab": {
      "provenance": []
    }
  },
  "nbformat": 4,
  "nbformat_minor": 0
}