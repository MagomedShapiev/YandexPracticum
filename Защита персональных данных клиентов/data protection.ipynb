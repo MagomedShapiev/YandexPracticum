{
 "cells": [
  {
   "cell_type": "markdown",
   "metadata": {
    "toc": true
   },
   "source": [
    "<h1>Содержание<span class=\"tocSkip\"></span></h1>\n",
    "<div class=\"toc\"><ul class=\"toc-item\"><li><span><a href=\"#Описание-проекта\" data-toc-modified-id=\"Описание-проекта-1\"><span class=\"toc-item-num\">1&nbsp;&nbsp;</span>Описание проекта</a></span><ul class=\"toc-item\"><li><span><a href=\"#Инструкция-по-выполнению-проекта\" data-toc-modified-id=\"Инструкция-по-выполнению-проекта-1.1\"><span class=\"toc-item-num\">1.1&nbsp;&nbsp;</span>Инструкция по выполнению проекта</a></span></li><li><span><a href=\"#Описание-данных\" data-toc-modified-id=\"Описание-данных-1.2\"><span class=\"toc-item-num\">1.2&nbsp;&nbsp;</span>Описание данных</a></span></li></ul></li><li><span><a href=\"#Загрузка-данных\" data-toc-modified-id=\"Загрузка-данных-2\"><span class=\"toc-item-num\">2&nbsp;&nbsp;</span>Загрузка данных</a></span><ul class=\"toc-item\"><li><span><a href=\"#Вывод\" data-toc-modified-id=\"Вывод-2.1\"><span class=\"toc-item-num\">2.1&nbsp;&nbsp;</span>Вывод</a></span></li></ul></li><li><span><a href=\"#Умножение-матриц\" data-toc-modified-id=\"Умножение-матриц-3\"><span class=\"toc-item-num\">3&nbsp;&nbsp;</span>Умножение матриц</a></span><ul class=\"toc-item\"><li><span><a href=\"#Обоснование\" data-toc-modified-id=\"Обоснование-3.1\"><span class=\"toc-item-num\">3.1&nbsp;&nbsp;</span>Обоснование</a></span></li><li><span><a href=\"#Ответ\" data-toc-modified-id=\"Ответ-3.2\"><span class=\"toc-item-num\">3.2&nbsp;&nbsp;</span>Ответ</a></span></li></ul></li><li><span><a href=\"#Алгоритм-преобразования\" data-toc-modified-id=\"Алгоритм-преобразования-4\"><span class=\"toc-item-num\">4&nbsp;&nbsp;</span>Алгоритм преобразования</a></span></li><li><span><a href=\"#Проверка-алгоритма\" data-toc-modified-id=\"Проверка-алгоритма-5\"><span class=\"toc-item-num\">5&nbsp;&nbsp;</span>Проверка алгоритма</a></span><ul class=\"toc-item\"><li><span><a href=\"#Вывод\" data-toc-modified-id=\"Вывод-5.1\"><span class=\"toc-item-num\">5.1&nbsp;&nbsp;</span>Вывод</a></span></li></ul></li><li><span><a href=\"#Заключение\" data-toc-modified-id=\"Заключение-6\"><span class=\"toc-item-num\">6&nbsp;&nbsp;</span>Заключение</a></span></li><li><span><a href=\"#Чек-лист-проверки\" data-toc-modified-id=\"Чек-лист-проверки-7\"><span class=\"toc-item-num\">7&nbsp;&nbsp;</span>Чек-лист проверки</a></span></li></ul></div>"
   ]
  },
  {
   "cell_type": "markdown",
   "metadata": {},
   "source": [
    "# Защита персональных данных клиентов"
   ]
  },
  {
   "cell_type": "markdown",
   "metadata": {},
   "source": [
    "## Описание проекта\n",
    "\n",
    "Вам нужно защитить данные клиентов страховой компании «Хоть потоп». Разработайте такой метод преобразования данных, чтобы по ним было сложно восстановить персональную информацию. Обоснуйте корректность его работы.\n",
    "\n",
    "Нужно защитить данные, чтобы при преобразовании качество моделей машинного обучения не ухудшилось. Подбирать наилучшую модель не требуется."
   ]
  },
  {
   "cell_type": "markdown",
   "metadata": {},
   "source": [
    "### Инструкция по выполнению проекта\n",
    "\n",
    "- Загрузите и изучите данные.\n",
    "- Ответьте на вопрос и обоснуйте решение. \n",
    "   Признаки умножают на обратимую матрицу. Изменится ли качество линейной регрессии? (Её можно обучить заново.)\n",
    "   -  a. Изменится. Приведите примеры матриц.\n",
    "   -  b. Не изменится. Укажите, как связаны параметры линейной регрессии в исходной задаче и в преобразованной.\n",
    "- Предложите алгоритм преобразования данных для решения задачи. Обоснуйте, почему качество линейной регрессии не поменяется.\n",
    "- Запрограммируйте этот алгоритм, применив матричные операции. Проверьте, что качество линейной регрессии из sklearn не отличается до и после преобразования. Примените метрику R2."
   ]
  },
  {
   "cell_type": "markdown",
   "metadata": {},
   "source": [
    "### Описание данных\n",
    "\n",
    "/datasets/insurance.csv \n",
    "\n",
    "Признаки: \n",
    "- пол\n",
    "- возраст\n",
    "- зарплата застрахованного\n",
    "- количество членов его семьи.\n",
    "  \n",
    "Целевой признак: \n",
    "- количество страховых выплат клиенту за последние 5 лет."
   ]
  },
  {
   "cell_type": "markdown",
   "metadata": {},
   "source": [
    "## Загрузка данных"
   ]
  },
  {
   "cell_type": "code",
   "execution_count": 1,
   "metadata": {},
   "outputs": [
    {
     "name": "stdout",
     "output_type": "stream",
     "text": [
      "\u001b[31mERROR: Could not find a version that satisfies the requirement pandas-profiling==2.11 (from versions: 3.0.0, 3.1.0, 3.2.0, 3.3.0, 3.4.0, 3.5.0, 3.6.0, 3.6.1, 3.6.2, 3.6.3, 3.6.4, 3.6.5, 3.6.6)\u001b[0m\r\n",
      "\u001b[31mERROR: No matching distribution found for pandas-profiling==2.11\u001b[0m\r\n"
     ]
    }
   ],
   "source": [
    "# Загрузим pandas profiling\n",
    "\n",
    "!pip3 install pandas-profiling==2.11"
   ]
  },
  {
   "cell_type": "code",
   "execution_count": 2,
   "metadata": {},
   "outputs": [],
   "source": [
    "# Загрузим необходимые модули и библиотеки\n",
    "\n",
    "import pandas as pd\n",
    "from pandas_profiling import ProfileReport\n",
    "import numpy as np\n",
    "from sklearn.metrics import r2_score\n",
    "from sklearn.linear_model import LinearRegression\n",
    "import warnings"
   ]
  },
  {
   "cell_type": "code",
   "execution_count": 3,
   "metadata": {},
   "outputs": [],
   "source": [
    "# отключим некритические предупреждения в коде\n",
    "\n",
    "warnings.filterwarnings(\"ignore\")"
   ]
  },
  {
   "cell_type": "code",
   "execution_count": 4,
   "metadata": {},
   "outputs": [],
   "source": [
    "# сбросим ограничение на количество выводимых столбцов, что бы просмотреть все столбцы\n",
    "\n",
    "pd.set_option('display.max_columns', None)"
   ]
  },
  {
   "cell_type": "code",
   "execution_count": 5,
   "metadata": {},
   "outputs": [],
   "source": [
    "# Загрузим датасет\n",
    "\n",
    "data = pd.read_csv('/datasets/insurance.csv')"
   ]
  },
  {
   "cell_type": "code",
   "execution_count": 6,
   "metadata": {
    "scrolled": true
   },
   "outputs": [
    {
     "name": "stdout",
     "output_type": "stream",
     "text": [
      "<class 'pandas.core.frame.DataFrame'>\n",
      "RangeIndex: 5000 entries, 0 to 4999\n",
      "Data columns (total 5 columns):\n",
      " #   Column             Non-Null Count  Dtype  \n",
      "---  ------             --------------  -----  \n",
      " 0   Пол                5000 non-null   int64  \n",
      " 1   Возраст            5000 non-null   float64\n",
      " 2   Зарплата           5000 non-null   float64\n",
      " 3   Члены семьи        5000 non-null   int64  \n",
      " 4   Страховые выплаты  5000 non-null   int64  \n",
      "dtypes: float64(2), int64(3)\n",
      "memory usage: 195.4 KB\n"
     ]
    }
   ],
   "source": [
    "# Посмотрим краткое инфо о таблице\n",
    "\n",
    "data.info()"
   ]
  },
  {
   "cell_type": "code",
   "execution_count": 7,
   "metadata": {
    "scrolled": true
   },
   "outputs": [],
   "source": [
    "#Посмотрим на таблицу детально\n",
    "\n",
    "#profile_data = data.profile_report()\n",
    "\n",
    "#profile_data"
   ]
  },
  {
   "cell_type": "code",
   "execution_count": 8,
   "metadata": {},
   "outputs": [],
   "source": [
    "# Поменяем типы данных в столбцах \"Возраст\" и \"Зарплата\"\n",
    "\n",
    "data['Возраст'] = data['Возраст'].astype('int')\n",
    "data['Зарплата'] = data['Зарплата'].astype('int')\n"
   ]
  },
  {
   "cell_type": "code",
   "execution_count": 9,
   "metadata": {},
   "outputs": [],
   "source": [
    "# Удалим дубликаты\n",
    "\n",
    "data = data.drop_duplicates()"
   ]
  },
  {
   "cell_type": "markdown",
   "metadata": {},
   "source": [
    "### Вывод"
   ]
  },
  {
   "cell_type": "markdown",
   "metadata": {},
   "source": [
    "Данные в отличном состоянии: пропусков нет, аномалий нет,маленькое количество дубликатов.\n",
    "От дубликатов избавились.\n",
    "Также поменяли тип данных в столбцах \"Возраст\" и \"Зарплата\" на целочисленный\n"
   ]
  },
  {
   "cell_type": "markdown",
   "metadata": {},
   "source": [
    "## Умножение матриц"
   ]
  },
  {
   "cell_type": "markdown",
   "metadata": {},
   "source": [
    "Обозначения:\n",
    "\n",
    "- $X$ — матрица признаков (нулевой столбец состоит из единиц)\n",
    "\n",
    "- $y$ — вектор целевого признака\n",
    "\n",
    "- $P$ — матрица, на которую умножаются признаки\n",
    "\n",
    "- $w$ — вектор весов линейной регрессии (нулевой элемент равен сдвигу)"
   ]
  },
  {
   "cell_type": "markdown",
   "metadata": {},
   "source": [
    "Предсказания:\n",
    "\n",
    "$$\n",
    "a = Xw\n",
    "$$\n",
    "\n",
    "Задача обучения:\n",
    "\n",
    "$$\n",
    "w = \\arg\\min_w MSE(Xw, y)\n",
    "$$\n",
    "\n",
    "Формула обучения:\n",
    "\n",
    "$$\n",
    "w = (X^T X)^{-1} X^T y\n",
    "$$"
   ]
  },
  {
   "cell_type": "markdown",
   "metadata": {},
   "source": [
    "### Обоснование"
   ]
  },
  {
   "cell_type": "markdown",
   "metadata": {},
   "source": [
    "Формула обучения линейной регрессии для исходных данных:\n",
    "$$𝑤 = (𝑋^T𝑋)⁻¹𝑋^T𝑦$$\n",
    "\n",
    "В формулу преобразованных предсказаний $$a' = X'*w'$$ вставим значения $$a' = XP((X*P)^T XP)^{-1}(XP)^T y$$  \n",
    "Транспонированное произведение матриц равно произведению транспонированых матриц, потому раскроем скобки\n",
    "$$a' = XP(P^TX^TXP)^{-1}P^TX^Ty$$ \n",
    "\n",
    "Матрицы ассоциативны - $$a' = XP(P^T(X^TX)P)^{-1}P^TX^Ty$$ \n",
    "\n",
    "Обратная матрица от произведения трех матриц равна провзведению обратных матриц в обратном порядке $$a' = XPP^{-1}(X^TX)^{-1}(P^T)^{-1}P^TX^Ty$$  \n",
    "\n",
    "PP^{-1} и (P^T)^{-1}P^T - единичные матрицы, при умножении матрицы на единичную матрицу получается сама матрица $$a' = X(X^TX)^{-1}X^Ty = Xw$$\n",
    "\n",
    "\n",
    "как выдим и a' и a равны Xw, а раз предсказания равны, то и качество тоже одинаковое\n"
   ]
  },
  {
   "cell_type": "markdown",
   "metadata": {},
   "source": [
    "### Ответ\n"
   ]
  },
  {
   "cell_type": "markdown",
   "metadata": {},
   "source": [
    "**b**: Не изменится"
   ]
  },
  {
   "cell_type": "markdown",
   "metadata": {},
   "source": [
    "## Алгоритм преобразования"
   ]
  },
  {
   "cell_type": "markdown",
   "metadata": {},
   "source": [
    "**Алгоритм**\n",
    "\n",
    " - разобьем датасет на выборки и преобразуем их в векторы и матрицы\n",
    " - создадим матрицы P и проверим ее на обратимость.\n",
    " - преобразуем признаки, умножив их на P.\n",
    " - обучим модель на обеих выборках и сравним R2"
   ]
  },
  {
   "cell_type": "markdown",
   "metadata": {},
   "source": [
    "**Обоснование**\n",
    "\n",
    "Как указано выше, качество не поменяется, так как не поменяется предсказания. В следующем рахделе проверим это практическим опытом"
   ]
  },
  {
   "cell_type": "markdown",
   "metadata": {},
   "source": [
    "## Проверка алгоритма"
   ]
  },
  {
   "cell_type": "code",
   "execution_count": 10,
   "metadata": {},
   "outputs": [],
   "source": [
    "# Создадим выборки\n",
    "\n",
    "features = data.drop('Страховые выплаты', axis = 1).values\n",
    "target = data['Страховые выплаты'].values"
   ]
  },
  {
   "cell_type": "code",
   "execution_count": 11,
   "metadata": {},
   "outputs": [],
   "source": [
    "# Cоздадим матрицы P и проверим ее на обратимость\n",
    "\n",
    "P = np.random.rand(features.shape[1], features.shape[1])\n",
    "try:\n",
    "    P_inv = np.linalg.inv(P)\n",
    "except:\n",
    "    print('Р неоратима')"
   ]
  },
  {
   "cell_type": "code",
   "execution_count": 12,
   "metadata": {},
   "outputs": [
    {
     "data": {
      "text/plain": [
       "array([[False, False, False, False],\n",
       "       [False, False, False, False],\n",
       "       [False, False, False, False],\n",
       "       ...,\n",
       "       [False, False, False, False],\n",
       "       [False, False, False, False],\n",
       "       [False, False, False, False]])"
      ]
     },
     "execution_count": 12,
     "metadata": {},
     "output_type": "execute_result"
    }
   ],
   "source": [
    "np.dot(features,P) == np.dot(features,P_inv)"
   ]
  },
  {
   "cell_type": "code",
   "execution_count": null,
   "metadata": {},
   "outputs": [],
   "source": []
  },
  {
   "cell_type": "code",
   "execution_count": 13,
   "metadata": {},
   "outputs": [],
   "source": [
    "# Преобразуем признаки, умножив их на P\n",
    "\n",
    "features_P = np.dot(features,P)"
   ]
  },
  {
   "cell_type": "code",
   "execution_count": 14,
   "metadata": {},
   "outputs": [
    {
     "name": "stdout",
     "output_type": "stream",
     "text": [
      "Качество модели до преобразований: 0.4302010046633359\n"
     ]
    }
   ],
   "source": [
    "# Обучим модель на features\n",
    "\n",
    "model = LinearRegression()\n",
    "model.fit(features,target)\n",
    "predictions = model.predict(features)\n",
    "\n",
    "\n",
    "print('Качество модели до преобразований:', r2_score(target, predictions))"
   ]
  },
  {
   "cell_type": "code",
   "execution_count": 15,
   "metadata": {},
   "outputs": [
    {
     "name": "stdout",
     "output_type": "stream",
     "text": [
      "Качество модели после преобразований: 0.4302010046633029\n"
     ]
    }
   ],
   "source": [
    "# Обучим модель на features_P\n",
    "\n",
    "model = LinearRegression()\n",
    "model.fit(features_P,target)\n",
    "prediction_P = model.predict(features_P)\n",
    "\n",
    "\n",
    "print('Качество модели после преобразований:', r2_score(target, prediction_P))"
   ]
  },
  {
   "cell_type": "markdown",
   "metadata": {},
   "source": [
    "### Вывод"
   ]
  },
  {
   "cell_type": "markdown",
   "metadata": {},
   "source": [
    "Как видим, результаты в обоих случаях одинаковый. Ответ, данный во второй разделе, подтвержден"
   ]
  },
  {
   "cell_type": "markdown",
   "metadata": {},
   "source": [
    "## Заключение"
   ]
  },
  {
   "cell_type": "markdown",
   "metadata": {},
   "source": [
    "В ходе проекта были выполнены следующие шаги:\n",
    "\n",
    "**Изучение и предобработка данных:**\n",
    "\n",
    "- вывели информацию по всем таблицами столбцам\n",
    "- проверии корректность данных. Удалили дубуликаты.\n",
    "\n",
    "**Ответили на главный вопрос проекта:*\n",
    "\n",
    "- описали и обосновали предположение.что резльтат не будет меняться\n",
    "\n",
    "**Описали алгоритм решения вопроса**\n",
    "**Написали код и на практике подтвердили ранее озвученное предположение**\n",
    "\n",
    "\n",
    "Итогом проекта стало подтверждение того, что преобразование данных, посредством умножения их на обратимую матрицу, действительно может помочь соранить их конфиденциальность, при этом не теряя качество работы модели"
   ]
  }
 ],
 "metadata": {
  "ExecuteTimeLog": [
   {
    "duration": 14677,
    "start_time": "2023-06-27T18:35:17.831Z"
   },
   {
    "duration": 1909,
    "start_time": "2023-06-27T18:36:39.491Z"
   },
   {
    "duration": 140,
    "start_time": "2023-06-27T18:36:41.402Z"
   },
   {
    "duration": 3,
    "start_time": "2023-06-27T18:36:59.644Z"
   },
   {
    "duration": 3,
    "start_time": "2023-06-27T18:37:00.889Z"
   },
   {
    "duration": 3,
    "start_time": "2023-06-27T18:37:11.858Z"
   },
   {
    "duration": 89,
    "start_time": "2023-06-27T18:37:45.842Z"
   },
   {
    "duration": 2734,
    "start_time": "2023-06-27T18:38:22.184Z"
   },
   {
    "duration": 10,
    "start_time": "2023-06-27T18:41:20.024Z"
   },
   {
    "duration": 6260,
    "start_time": "2023-06-27T18:41:23.258Z"
   },
   {
    "duration": 14,
    "start_time": "2023-06-27T18:46:34.036Z"
   },
   {
    "duration": 5986,
    "start_time": "2023-06-27T18:46:48.138Z"
   },
   {
    "duration": 13,
    "start_time": "2023-06-27T18:47:56.064Z"
   },
   {
    "duration": 5,
    "start_time": "2023-06-27T18:48:02.215Z"
   },
   {
    "duration": 20,
    "start_time": "2023-06-27T18:48:46.941Z"
   },
   {
    "duration": 6,
    "start_time": "2023-06-27T18:48:56.906Z"
   },
   {
    "duration": 3,
    "start_time": "2023-06-27T19:10:06.361Z"
   },
   {
    "duration": 265,
    "start_time": "2023-06-27T19:10:29.371Z"
   },
   {
    "duration": 5,
    "start_time": "2023-06-27T20:44:30.344Z"
   },
   {
    "duration": 3,
    "start_time": "2023-06-27T20:44:42.118Z"
   },
   {
    "duration": 5,
    "start_time": "2023-06-27T20:46:31.509Z"
   },
   {
    "duration": 122,
    "start_time": "2023-06-27T20:48:40.848Z"
   },
   {
    "duration": 113,
    "start_time": "2023-06-27T20:49:43.525Z"
   },
   {
    "duration": 7,
    "start_time": "2023-06-27T20:49:49.609Z"
   },
   {
    "duration": 12,
    "start_time": "2023-06-27T20:51:16.737Z"
   },
   {
    "duration": 16,
    "start_time": "2023-06-27T20:51:26.953Z"
   },
   {
    "duration": 3,
    "start_time": "2023-06-27T20:51:42.997Z"
   },
   {
    "duration": 5,
    "start_time": "2023-06-27T20:52:14.098Z"
   },
   {
    "duration": 3,
    "start_time": "2023-06-27T20:52:15.298Z"
   },
   {
    "duration": 4,
    "start_time": "2023-06-27T20:54:15.202Z"
   },
   {
    "duration": 4,
    "start_time": "2023-06-27T20:54:22.118Z"
   },
   {
    "duration": 40,
    "start_time": "2023-06-27T20:54:38.218Z"
   },
   {
    "duration": 6,
    "start_time": "2023-06-27T20:54:57.043Z"
   },
   {
    "duration": 2,
    "start_time": "2023-06-27T21:00:02.740Z"
   },
   {
    "duration": 174,
    "start_time": "2023-06-27T21:01:06.841Z"
   },
   {
    "duration": 15615,
    "start_time": "2023-06-27T21:33:37.025Z"
   },
   {
    "duration": 2585,
    "start_time": "2023-06-27T21:33:52.642Z"
   },
   {
    "duration": 3,
    "start_time": "2023-06-27T21:33:55.229Z"
   },
   {
    "duration": 13,
    "start_time": "2023-06-27T21:33:55.234Z"
   },
   {
    "duration": 49,
    "start_time": "2023-06-27T21:33:55.249Z"
   },
   {
    "duration": 16,
    "start_time": "2023-06-27T21:33:55.300Z"
   },
   {
    "duration": 7034,
    "start_time": "2023-06-27T21:33:55.318Z"
   },
   {
    "duration": 5,
    "start_time": "2023-06-27T21:34:02.355Z"
   },
   {
    "duration": 24,
    "start_time": "2023-06-27T21:34:02.366Z"
   },
   {
    "duration": 23,
    "start_time": "2023-06-27T21:34:02.392Z"
   },
   {
    "duration": 82,
    "start_time": "2023-06-27T21:34:02.416Z"
   },
   {
    "duration": 55,
    "start_time": "2023-06-27T21:34:02.500Z"
   },
   {
    "duration": 103,
    "start_time": "2023-06-27T21:34:02.557Z"
   },
   {
    "duration": 201,
    "start_time": "2023-06-27T21:34:02.663Z"
   },
   {
    "duration": 2679,
    "start_time": "2023-06-27T21:39:04.252Z"
   },
   {
    "duration": 2776,
    "start_time": "2023-06-27T21:39:06.934Z"
   },
   {
    "duration": 3,
    "start_time": "2023-06-27T21:39:09.712Z"
   },
   {
    "duration": 12,
    "start_time": "2023-06-27T21:39:09.717Z"
   },
   {
    "duration": 34,
    "start_time": "2023-06-27T21:39:09.731Z"
   },
   {
    "duration": 15,
    "start_time": "2023-06-27T21:39:09.766Z"
   },
   {
    "duration": 6819,
    "start_time": "2023-06-27T21:39:09.783Z"
   },
   {
    "duration": 5,
    "start_time": "2023-06-27T21:39:16.604Z"
   },
   {
    "duration": 15,
    "start_time": "2023-06-27T21:39:16.611Z"
   },
   {
    "duration": 27,
    "start_time": "2023-06-27T21:39:16.628Z"
   },
   {
    "duration": 8,
    "start_time": "2023-06-27T21:39:16.658Z"
   },
   {
    "duration": 12,
    "start_time": "2023-06-27T21:39:16.668Z"
   },
   {
    "duration": 84,
    "start_time": "2023-06-27T21:39:16.682Z"
   },
   {
    "duration": 194,
    "start_time": "2023-06-27T21:39:16.768Z"
   },
   {
    "duration": 7,
    "start_time": "2023-06-28T16:42:43.803Z"
   },
   {
    "duration": 7,
    "start_time": "2023-06-28T16:42:49.402Z"
   },
   {
    "duration": 8,
    "start_time": "2023-06-28T16:43:54.989Z"
   },
   {
    "duration": 6,
    "start_time": "2023-06-28T16:45:10.889Z"
   },
   {
    "duration": 9,
    "start_time": "2023-06-28T16:45:13.837Z"
   },
   {
    "duration": 8,
    "start_time": "2023-06-28T16:45:15.932Z"
   },
   {
    "duration": 7,
    "start_time": "2023-06-28T16:50:30.499Z"
   },
   {
    "duration": 160,
    "start_time": "2023-06-28T16:50:49.665Z"
   },
   {
    "duration": 6,
    "start_time": "2023-06-28T16:51:07.033Z"
   },
   {
    "duration": 7,
    "start_time": "2023-06-28T16:51:40.101Z"
   },
   {
    "duration": 132,
    "start_time": "2023-06-28T17:14:25.353Z"
   },
   {
    "duration": 120,
    "start_time": "2023-06-28T17:16:38.871Z"
   },
   {
    "duration": 5141,
    "start_time": "2023-06-28T21:27:07.214Z"
   },
   {
    "duration": 2775,
    "start_time": "2023-06-28T21:27:12.358Z"
   },
   {
    "duration": 4,
    "start_time": "2023-06-28T21:27:15.135Z"
   },
   {
    "duration": 20,
    "start_time": "2023-06-28T21:27:15.141Z"
   },
   {
    "duration": 44,
    "start_time": "2023-06-28T21:27:15.163Z"
   },
   {
    "duration": 13,
    "start_time": "2023-06-28T21:27:15.208Z"
   },
   {
    "duration": 6819,
    "start_time": "2023-06-28T21:27:15.223Z"
   },
   {
    "duration": 6,
    "start_time": "2023-06-28T21:27:22.055Z"
   },
   {
    "duration": 54,
    "start_time": "2023-06-28T21:27:22.064Z"
   },
   {
    "duration": 36,
    "start_time": "2023-06-28T21:27:22.122Z"
   },
   {
    "duration": 31,
    "start_time": "2023-06-28T21:27:22.159Z"
   },
   {
    "duration": 16,
    "start_time": "2023-06-28T21:27:22.192Z"
   },
   {
    "duration": 39,
    "start_time": "2023-06-28T21:27:22.210Z"
   },
   {
    "duration": 201,
    "start_time": "2023-06-28T21:27:22.258Z"
   },
   {
    "duration": 16,
    "start_time": "2023-06-28T21:51:23.524Z"
   },
   {
    "duration": 44,
    "start_time": "2023-06-28T22:04:34.212Z"
   },
   {
    "duration": 2807,
    "start_time": "2023-06-28T22:55:43.290Z"
   },
   {
    "duration": 2516,
    "start_time": "2023-06-28T22:55:46.101Z"
   },
   {
    "duration": 3,
    "start_time": "2023-06-28T22:55:48.619Z"
   },
   {
    "duration": 7,
    "start_time": "2023-06-28T22:55:48.624Z"
   },
   {
    "duration": 44,
    "start_time": "2023-06-28T22:55:48.633Z"
   },
   {
    "duration": 20,
    "start_time": "2023-06-28T22:55:48.680Z"
   },
   {
    "duration": 7083,
    "start_time": "2023-06-28T22:55:48.702Z"
   },
   {
    "duration": 5,
    "start_time": "2023-06-28T22:55:55.787Z"
   },
   {
    "duration": 41,
    "start_time": "2023-06-28T22:55:55.793Z"
   },
   {
    "duration": 30,
    "start_time": "2023-06-28T22:55:55.855Z"
   },
   {
    "duration": 13,
    "start_time": "2023-06-28T22:55:55.886Z"
   },
   {
    "duration": 53,
    "start_time": "2023-06-28T22:55:55.901Z"
   },
   {
    "duration": 110,
    "start_time": "2023-06-28T22:55:55.957Z"
   },
   {
    "duration": 185,
    "start_time": "2023-06-28T22:55:56.069Z"
   },
   {
    "duration": 6,
    "start_time": "2023-06-28T23:32:12.602Z"
   },
   {
    "duration": 14090,
    "start_time": "2023-06-28T23:33:03.316Z"
   },
   {
    "duration": 1919,
    "start_time": "2023-06-28T23:33:17.408Z"
   },
   {
    "duration": 2,
    "start_time": "2023-06-28T23:33:19.329Z"
   },
   {
    "duration": 7,
    "start_time": "2023-06-28T23:33:19.333Z"
   },
   {
    "duration": 101,
    "start_time": "2023-06-28T23:33:19.342Z"
   },
   {
    "duration": 13,
    "start_time": "2023-06-28T23:33:19.444Z"
   },
   {
    "duration": 7,
    "start_time": "2023-06-28T23:33:19.458Z"
   },
   {
    "duration": 20,
    "start_time": "2023-06-28T23:33:19.467Z"
   },
   {
    "duration": 6,
    "start_time": "2023-06-28T23:33:19.488Z"
   },
   {
    "duration": 5,
    "start_time": "2023-06-28T23:33:19.495Z"
   },
   {
    "duration": 16,
    "start_time": "2023-06-28T23:33:19.513Z"
   },
   {
    "duration": 70,
    "start_time": "2023-06-28T23:33:19.531Z"
   },
   {
    "duration": 112,
    "start_time": "2023-06-28T23:33:19.603Z"
   },
   {
    "duration": 198,
    "start_time": "2023-06-28T23:33:19.717Z"
   },
   {
    "duration": 150,
    "start_time": "2023-06-28T23:37:28.651Z"
   },
   {
    "duration": 126,
    "start_time": "2023-06-28T23:38:12.241Z"
   },
   {
    "duration": 6,
    "start_time": "2023-06-28T23:38:19.593Z"
   },
   {
    "duration": 143,
    "start_time": "2023-06-29T01:12:29.452Z"
   },
   {
    "duration": 155,
    "start_time": "2023-06-29T01:43:00.372Z"
   },
   {
    "duration": 15216,
    "start_time": "2023-06-29T03:56:43.717Z"
   },
   {
    "duration": 3136,
    "start_time": "2023-06-29T03:56:58.937Z"
   },
   {
    "duration": 3,
    "start_time": "2023-06-29T03:57:02.075Z"
   },
   {
    "duration": 77,
    "start_time": "2023-06-29T03:57:02.079Z"
   },
   {
    "duration": 104,
    "start_time": "2023-06-29T03:57:02.158Z"
   },
   {
    "duration": 16,
    "start_time": "2023-06-29T03:57:02.264Z"
   },
   {
    "duration": 23,
    "start_time": "2023-06-29T03:57:02.282Z"
   },
   {
    "duration": 24,
    "start_time": "2023-06-29T03:57:02.307Z"
   },
   {
    "duration": 21,
    "start_time": "2023-06-29T03:57:02.333Z"
   },
   {
    "duration": 6,
    "start_time": "2023-06-29T03:57:02.357Z"
   },
   {
    "duration": 48,
    "start_time": "2023-06-29T03:57:02.364Z"
   },
   {
    "duration": 154,
    "start_time": "2023-06-29T03:57:02.414Z"
   },
   {
    "duration": 33,
    "start_time": "2023-06-29T03:57:02.570Z"
   },
   {
    "duration": 30,
    "start_time": "2023-06-29T03:57:02.604Z"
   },
   {
    "duration": 224,
    "start_time": "2023-06-29T03:57:02.637Z"
   },
   {
    "duration": 2034,
    "start_time": "2023-09-02T22:51:30.043Z"
   }
  ],
  "kernelspec": {
   "display_name": "Python 3 (ipykernel)",
   "language": "python",
   "name": "python3"
  },
  "language_info": {
   "codemirror_mode": {
    "name": "ipython",
    "version": 3
   },
   "file_extension": ".py",
   "mimetype": "text/x-python",
   "name": "python",
   "nbconvert_exporter": "python",
   "pygments_lexer": "ipython3",
   "version": "3.9.5"
  },
  "toc": {
   "base_numbering": 1,
   "nav_menu": {},
   "number_sections": true,
   "sideBar": true,
   "skip_h1_title": true,
   "title_cell": "Содержание",
   "title_sidebar": "Contents",
   "toc_cell": true,
   "toc_position": {},
   "toc_section_display": true,
   "toc_window_display": true
  }
 },
 "nbformat": 4,
 "nbformat_minor": 2
}
