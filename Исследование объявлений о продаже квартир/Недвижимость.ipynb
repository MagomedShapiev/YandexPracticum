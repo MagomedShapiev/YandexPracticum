{
 "cells": [
  {
   "cell_type": "markdown",
   "metadata": {},
   "source": [
    "# Исследование объявлений о продаже квартир\n"
   ]
  },
  {
   "cell_type": "markdown",
   "metadata": {},
   "source": [
    "## Описание проекта\n"
   ]
  },
  {
   "cell_type": "markdown",
   "metadata": {},
   "source": [
    "В вашем распоряжении данные сервиса Яндекс.Недвижимость — архив объявлений о продаже квартир в Санкт-Петербурге и соседних населённых пунктов за несколько лет. Нужно научиться определять рыночную стоимость объектов недвижимости. Ваша задача — установить параметры. Это позволит построить автоматизированную систему: она отследит аномалии и мошенническую деятельность. \n",
    "\n",
    "По каждой квартире на продажу доступны два вида данных. Первые вписаны пользователем, вторые — получены автоматически на основе картографических данных. Например, расстояние до центра, аэропорта, ближайшего парка и водоёма. "
   ]
  },
  {
   "cell_type": "markdown",
   "metadata": {},
   "source": [
    "## Данные"
   ]
  },
  {
   "cell_type": "markdown",
   "metadata": {},
   "source": [
    "`airports_nearest` — расстояние до ближайшего аэропорта в метрах (м)\n",
    "\n",
    "`balcony` — число балконов\n",
    "\n",
    "`ceiling_height` — высота потолков (м)\n",
    "\n",
    "`cityCenters_nearest` — расстояние до центра города (м)\n",
    "\n",
    "`days_exposition` — сколько дней было размещено объявление (от публикации до снятия)\n",
    "\n",
    "`first_day_exposition` — дата публикации\n",
    "\n",
    "`floor` — этаж\n",
    "\n",
    "`floors_total` — всего этажей в доме\n",
    "\n",
    "`is_apartment` — апартаменты (булев тип)\n",
    "\n",
    "`kitchen_area` — площадь кухни в квадратных метрах (м²)\n",
    "\n",
    "`last_price` — цена на момент снятия с публикации\n",
    "\n",
    "`living_area` — жилая площадь в квадратных метрах (м²)\n",
    "\n",
    "`locality_name` — название населённого пункта\n",
    "\n",
    "`open_plan` — свободная планировка (булев тип)\n",
    "\n",
    "`parks_around3000` — число парков в радиусе 3 км\n",
    "\n",
    "`parks_nearest` — расстояние до ближайшего парка (м)\n",
    "\n",
    "`ponds_around3000` — число водоёмов в радиусе 3 км\n",
    "\n",
    "`ponds_nearest` — расстояние до ближайшего водоёма (м)\n",
    "\n",
    "`rooms` — число комнат\n",
    "\n",
    "`studio` — квартира-студия (булев тип)\n",
    "\n",
    "`total_area` — общая площадь квартиры в квадратных метрах (м²)\n",
    "\n",
    "`total_images` — число фотографий квартиры в объявлении"
   ]
  },
  {
   "cell_type": "markdown",
   "metadata": {},
   "source": [
    "## Цель проекта"
   ]
  },
  {
   "cell_type": "markdown",
   "metadata": {},
   "source": [
    "Используя данные сервиса Яндекс.Недвижимость необходимо выявить основные параметры и факторы, влияющие на рыночную цену квартиры."
   ]
  },
  {
   "cell_type": "markdown",
   "metadata": {},
   "source": [
    "### 1 Откроем  файл с данными и изучим общую информацию. "
   ]
  },
  {
   "cell_type": "code",
   "execution_count": 1,
   "metadata": {},
   "outputs": [],
   "source": [
    "import pandas as pd\n",
    "import matplotlib.pyplot as plt\n",
    "\n",
    "try:\n",
    "    data=pd.read_csv('C:\\\\Users\\\\magas\\\\Desktop\\\\Шпаргалки\\\\real_estate_data.csv',sep='\\t')\n",
    "except:    \n",
    "    data = pd.read_csv('/datasets/real_estate_data.csv', sep='\\t')\n",
    "\n"
   ]
  },
  {
   "cell_type": "markdown",
   "metadata": {},
   "source": [
    "**1.2 Посмотрим общую информацию о датафрейме**"
   ]
  },
  {
   "cell_type": "code",
   "execution_count": 2,
   "metadata": {},
   "outputs": [
    {
     "name": "stdout",
     "output_type": "stream",
     "text": [
      "<class 'pandas.core.frame.DataFrame'>\n",
      "RangeIndex: 23699 entries, 0 to 23698\n",
      "Data columns (total 22 columns):\n",
      " #   Column                Non-Null Count  Dtype  \n",
      "---  ------                --------------  -----  \n",
      " 0   total_images          23699 non-null  int64  \n",
      " 1   last_price            23699 non-null  float64\n",
      " 2   total_area            23699 non-null  float64\n",
      " 3   first_day_exposition  23699 non-null  object \n",
      " 4   rooms                 23699 non-null  int64  \n",
      " 5   ceiling_height        14504 non-null  float64\n",
      " 6   floors_total          23613 non-null  float64\n",
      " 7   living_area           21796 non-null  float64\n",
      " 8   floor                 23699 non-null  int64  \n",
      " 9   is_apartment          2775 non-null   object \n",
      " 10  studio                23699 non-null  bool   \n",
      " 11  open_plan             23699 non-null  bool   \n",
      " 12  kitchen_area          21421 non-null  float64\n",
      " 13  balcony               12180 non-null  float64\n",
      " 14  locality_name         23650 non-null  object \n",
      " 15  airports_nearest      18157 non-null  float64\n",
      " 16  cityCenters_nearest   18180 non-null  float64\n",
      " 17  parks_around3000      18181 non-null  float64\n",
      " 18  parks_nearest         8079 non-null   float64\n",
      " 19  ponds_around3000      18181 non-null  float64\n",
      " 20  ponds_nearest         9110 non-null   float64\n",
      " 21  days_exposition       20518 non-null  float64\n",
      "dtypes: bool(2), float64(14), int64(3), object(3)\n",
      "memory usage: 3.7+ MB\n"
     ]
    }
   ],
   "source": [
    "data.info()"
   ]
  },
  {
   "cell_type": "markdown",
   "metadata": {},
   "source": [
    "**1.3 Визуально осмотрим таблицу по первым 5 строкам**"
   ]
  },
  {
   "cell_type": "code",
   "execution_count": 3,
   "metadata": {},
   "outputs": [
    {
     "data": {
      "text/html": [
       "<div>\n",
       "<style scoped>\n",
       "    .dataframe tbody tr th:only-of-type {\n",
       "        vertical-align: middle;\n",
       "    }\n",
       "\n",
       "    .dataframe tbody tr th {\n",
       "        vertical-align: top;\n",
       "    }\n",
       "\n",
       "    .dataframe thead th {\n",
       "        text-align: right;\n",
       "    }\n",
       "</style>\n",
       "<table border=\"1\" class=\"dataframe\">\n",
       "  <thead>\n",
       "    <tr style=\"text-align: right;\">\n",
       "      <th></th>\n",
       "      <th>total_images</th>\n",
       "      <th>last_price</th>\n",
       "      <th>total_area</th>\n",
       "      <th>first_day_exposition</th>\n",
       "      <th>rooms</th>\n",
       "      <th>ceiling_height</th>\n",
       "      <th>floors_total</th>\n",
       "      <th>living_area</th>\n",
       "      <th>floor</th>\n",
       "      <th>is_apartment</th>\n",
       "      <th>...</th>\n",
       "      <th>kitchen_area</th>\n",
       "      <th>balcony</th>\n",
       "      <th>locality_name</th>\n",
       "      <th>airports_nearest</th>\n",
       "      <th>cityCenters_nearest</th>\n",
       "      <th>parks_around3000</th>\n",
       "      <th>parks_nearest</th>\n",
       "      <th>ponds_around3000</th>\n",
       "      <th>ponds_nearest</th>\n",
       "      <th>days_exposition</th>\n",
       "    </tr>\n",
       "  </thead>\n",
       "  <tbody>\n",
       "    <tr>\n",
       "      <th>0</th>\n",
       "      <td>20</td>\n",
       "      <td>13000000.0</td>\n",
       "      <td>108.0</td>\n",
       "      <td>2019-03-07T00:00:00</td>\n",
       "      <td>3</td>\n",
       "      <td>2.70</td>\n",
       "      <td>16.0</td>\n",
       "      <td>51.0</td>\n",
       "      <td>8</td>\n",
       "      <td>NaN</td>\n",
       "      <td>...</td>\n",
       "      <td>25.0</td>\n",
       "      <td>NaN</td>\n",
       "      <td>Санкт-Петербург</td>\n",
       "      <td>18863.0</td>\n",
       "      <td>16028.0</td>\n",
       "      <td>1.0</td>\n",
       "      <td>482.0</td>\n",
       "      <td>2.0</td>\n",
       "      <td>755.0</td>\n",
       "      <td>NaN</td>\n",
       "    </tr>\n",
       "    <tr>\n",
       "      <th>1</th>\n",
       "      <td>7</td>\n",
       "      <td>3350000.0</td>\n",
       "      <td>40.4</td>\n",
       "      <td>2018-12-04T00:00:00</td>\n",
       "      <td>1</td>\n",
       "      <td>NaN</td>\n",
       "      <td>11.0</td>\n",
       "      <td>18.6</td>\n",
       "      <td>1</td>\n",
       "      <td>NaN</td>\n",
       "      <td>...</td>\n",
       "      <td>11.0</td>\n",
       "      <td>2.0</td>\n",
       "      <td>посёлок Шушары</td>\n",
       "      <td>12817.0</td>\n",
       "      <td>18603.0</td>\n",
       "      <td>0.0</td>\n",
       "      <td>NaN</td>\n",
       "      <td>0.0</td>\n",
       "      <td>NaN</td>\n",
       "      <td>81.0</td>\n",
       "    </tr>\n",
       "    <tr>\n",
       "      <th>2</th>\n",
       "      <td>10</td>\n",
       "      <td>5196000.0</td>\n",
       "      <td>56.0</td>\n",
       "      <td>2015-08-20T00:00:00</td>\n",
       "      <td>2</td>\n",
       "      <td>NaN</td>\n",
       "      <td>5.0</td>\n",
       "      <td>34.3</td>\n",
       "      <td>4</td>\n",
       "      <td>NaN</td>\n",
       "      <td>...</td>\n",
       "      <td>8.3</td>\n",
       "      <td>0.0</td>\n",
       "      <td>Санкт-Петербург</td>\n",
       "      <td>21741.0</td>\n",
       "      <td>13933.0</td>\n",
       "      <td>1.0</td>\n",
       "      <td>90.0</td>\n",
       "      <td>2.0</td>\n",
       "      <td>574.0</td>\n",
       "      <td>558.0</td>\n",
       "    </tr>\n",
       "    <tr>\n",
       "      <th>3</th>\n",
       "      <td>0</td>\n",
       "      <td>64900000.0</td>\n",
       "      <td>159.0</td>\n",
       "      <td>2015-07-24T00:00:00</td>\n",
       "      <td>3</td>\n",
       "      <td>NaN</td>\n",
       "      <td>14.0</td>\n",
       "      <td>NaN</td>\n",
       "      <td>9</td>\n",
       "      <td>NaN</td>\n",
       "      <td>...</td>\n",
       "      <td>NaN</td>\n",
       "      <td>0.0</td>\n",
       "      <td>Санкт-Петербург</td>\n",
       "      <td>28098.0</td>\n",
       "      <td>6800.0</td>\n",
       "      <td>2.0</td>\n",
       "      <td>84.0</td>\n",
       "      <td>3.0</td>\n",
       "      <td>234.0</td>\n",
       "      <td>424.0</td>\n",
       "    </tr>\n",
       "    <tr>\n",
       "      <th>4</th>\n",
       "      <td>2</td>\n",
       "      <td>10000000.0</td>\n",
       "      <td>100.0</td>\n",
       "      <td>2018-06-19T00:00:00</td>\n",
       "      <td>2</td>\n",
       "      <td>3.03</td>\n",
       "      <td>14.0</td>\n",
       "      <td>32.0</td>\n",
       "      <td>13</td>\n",
       "      <td>NaN</td>\n",
       "      <td>...</td>\n",
       "      <td>41.0</td>\n",
       "      <td>NaN</td>\n",
       "      <td>Санкт-Петербург</td>\n",
       "      <td>31856.0</td>\n",
       "      <td>8098.0</td>\n",
       "      <td>2.0</td>\n",
       "      <td>112.0</td>\n",
       "      <td>1.0</td>\n",
       "      <td>48.0</td>\n",
       "      <td>121.0</td>\n",
       "    </tr>\n",
       "  </tbody>\n",
       "</table>\n",
       "<p>5 rows × 22 columns</p>\n",
       "</div>"
      ],
      "text/plain": [
       "   total_images  last_price  total_area first_day_exposition  rooms  \\\n",
       "0            20  13000000.0       108.0  2019-03-07T00:00:00      3   \n",
       "1             7   3350000.0        40.4  2018-12-04T00:00:00      1   \n",
       "2            10   5196000.0        56.0  2015-08-20T00:00:00      2   \n",
       "3             0  64900000.0       159.0  2015-07-24T00:00:00      3   \n",
       "4             2  10000000.0       100.0  2018-06-19T00:00:00      2   \n",
       "\n",
       "   ceiling_height  floors_total  living_area  floor is_apartment  ...  \\\n",
       "0            2.70          16.0         51.0      8          NaN  ...   \n",
       "1             NaN          11.0         18.6      1          NaN  ...   \n",
       "2             NaN           5.0         34.3      4          NaN  ...   \n",
       "3             NaN          14.0          NaN      9          NaN  ...   \n",
       "4            3.03          14.0         32.0     13          NaN  ...   \n",
       "\n",
       "   kitchen_area  balcony    locality_name  airports_nearest  \\\n",
       "0          25.0      NaN  Санкт-Петербург           18863.0   \n",
       "1          11.0      2.0   посёлок Шушары           12817.0   \n",
       "2           8.3      0.0  Санкт-Петербург           21741.0   \n",
       "3           NaN      0.0  Санкт-Петербург           28098.0   \n",
       "4          41.0      NaN  Санкт-Петербург           31856.0   \n",
       "\n",
       "  cityCenters_nearest  parks_around3000  parks_nearest  ponds_around3000  \\\n",
       "0             16028.0               1.0          482.0               2.0   \n",
       "1             18603.0               0.0            NaN               0.0   \n",
       "2             13933.0               1.0           90.0               2.0   \n",
       "3              6800.0               2.0           84.0               3.0   \n",
       "4              8098.0               2.0          112.0               1.0   \n",
       "\n",
       "   ponds_nearest  days_exposition  \n",
       "0          755.0              NaN  \n",
       "1            NaN             81.0  \n",
       "2          574.0            558.0  \n",
       "3          234.0            424.0  \n",
       "4           48.0            121.0  \n",
       "\n",
       "[5 rows x 22 columns]"
      ]
     },
     "execution_count": 3,
     "metadata": {},
     "output_type": "execute_result"
    }
   ],
   "source": [
    "data.head()"
   ]
  },
  {
   "cell_type": "markdown",
   "metadata": {},
   "source": [
    "**1.4 Построим гистограммы по каждому столбцу и выведем общую статистику**"
   ]
  },
  {
   "cell_type": "code",
   "execution_count": 4,
   "metadata": {},
   "outputs": [
    {
     "data": {
      "image/png": "[encoded data removed]",
      "text/plain": [
       "<Figure size 1080x1080 with 20 Axes>"
      ]
     },
     "metadata": {
      "needs_background": "light"
     },
     "output_type": "display_data"
    }
   ],
   "source": [
    "data.hist(figsize=(15,15))\n",
    "plt.show()"
   ]
  },
  {
   "cell_type": "code",
   "execution_count": 5,
   "metadata": {},
   "outputs": [
    {
     "data": {
      "text/html": [
       "<div>\n",
       "<style scoped>\n",
       "    .dataframe tbody tr th:only-of-type {\n",
       "        vertical-align: middle;\n",
       "    }\n",
       "\n",
       "    .dataframe tbody tr th {\n",
       "        vertical-align: top;\n",
       "    }\n",
       "\n",
       "    .dataframe thead th {\n",
       "        text-align: right;\n",
       "    }\n",
       "</style>\n",
       "<table border=\"1\" class=\"dataframe\">\n",
       "  <thead>\n",
       "    <tr style=\"text-align: right;\">\n",
       "      <th></th>\n",
       "      <th>total_images</th>\n",
       "      <th>last_price</th>\n",
       "      <th>total_area</th>\n",
       "      <th>rooms</th>\n",
       "      <th>ceiling_height</th>\n",
       "      <th>floors_total</th>\n",
       "      <th>living_area</th>\n",
       "      <th>floor</th>\n",
       "      <th>kitchen_area</th>\n",
       "      <th>balcony</th>\n",
       "      <th>airports_nearest</th>\n",
       "      <th>cityCenters_nearest</th>\n",
       "      <th>parks_around3000</th>\n",
       "      <th>parks_nearest</th>\n",
       "      <th>ponds_around3000</th>\n",
       "      <th>ponds_nearest</th>\n",
       "      <th>days_exposition</th>\n",
       "    </tr>\n",
       "  </thead>\n",
       "  <tbody>\n",
       "    <tr>\n",
       "      <th>count</th>\n",
       "      <td>23699.000000</td>\n",
       "      <td>2.369900e+04</td>\n",
       "      <td>23699.000000</td>\n",
       "      <td>23699.000000</td>\n",
       "      <td>14504.000000</td>\n",
       "      <td>23613.000000</td>\n",
       "      <td>21796.000000</td>\n",
       "      <td>23699.000000</td>\n",
       "      <td>21421.000000</td>\n",
       "      <td>12180.000000</td>\n",
       "      <td>18157.000000</td>\n",
       "      <td>18180.000000</td>\n",
       "      <td>18181.000000</td>\n",
       "      <td>8079.000000</td>\n",
       "      <td>18181.000000</td>\n",
       "      <td>9110.000000</td>\n",
       "      <td>20518.000000</td>\n",
       "    </tr>\n",
       "    <tr>\n",
       "      <th>mean</th>\n",
       "      <td>9.858475</td>\n",
       "      <td>6.541549e+06</td>\n",
       "      <td>60.348651</td>\n",
       "      <td>2.070636</td>\n",
       "      <td>2.771499</td>\n",
       "      <td>10.673824</td>\n",
       "      <td>34.457852</td>\n",
       "      <td>5.892358</td>\n",
       "      <td>10.569807</td>\n",
       "      <td>1.150082</td>\n",
       "      <td>28793.672193</td>\n",
       "      <td>14191.277833</td>\n",
       "      <td>0.611408</td>\n",
       "      <td>490.804555</td>\n",
       "      <td>0.770255</td>\n",
       "      <td>517.980900</td>\n",
       "      <td>180.888634</td>\n",
       "    </tr>\n",
       "    <tr>\n",
       "      <th>std</th>\n",
       "      <td>5.682529</td>\n",
       "      <td>1.088701e+07</td>\n",
       "      <td>35.654083</td>\n",
       "      <td>1.078405</td>\n",
       "      <td>1.261056</td>\n",
       "      <td>6.597173</td>\n",
       "      <td>22.030445</td>\n",
       "      <td>4.885249</td>\n",
       "      <td>5.905438</td>\n",
       "      <td>1.071300</td>\n",
       "      <td>12630.880622</td>\n",
       "      <td>8608.386210</td>\n",
       "      <td>0.802074</td>\n",
       "      <td>342.317995</td>\n",
       "      <td>0.938346</td>\n",
       "      <td>277.720643</td>\n",
       "      <td>219.727988</td>\n",
       "    </tr>\n",
       "    <tr>\n",
       "      <th>min</th>\n",
       "      <td>0.000000</td>\n",
       "      <td>1.219000e+04</td>\n",
       "      <td>12.000000</td>\n",
       "      <td>0.000000</td>\n",
       "      <td>1.000000</td>\n",
       "      <td>1.000000</td>\n",
       "      <td>2.000000</td>\n",
       "      <td>1.000000</td>\n",
       "      <td>1.300000</td>\n",
       "      <td>0.000000</td>\n",
       "      <td>0.000000</td>\n",
       "      <td>181.000000</td>\n",
       "      <td>0.000000</td>\n",
       "      <td>1.000000</td>\n",
       "      <td>0.000000</td>\n",
       "      <td>13.000000</td>\n",
       "      <td>1.000000</td>\n",
       "    </tr>\n",
       "    <tr>\n",
       "      <th>25%</th>\n",
       "      <td>6.000000</td>\n",
       "      <td>3.400000e+06</td>\n",
       "      <td>40.000000</td>\n",
       "      <td>1.000000</td>\n",
       "      <td>2.520000</td>\n",
       "      <td>5.000000</td>\n",
       "      <td>18.600000</td>\n",
       "      <td>2.000000</td>\n",
       "      <td>7.000000</td>\n",
       "      <td>0.000000</td>\n",
       "      <td>18585.000000</td>\n",
       "      <td>9238.000000</td>\n",
       "      <td>0.000000</td>\n",
       "      <td>288.000000</td>\n",
       "      <td>0.000000</td>\n",
       "      <td>294.000000</td>\n",
       "      <td>45.000000</td>\n",
       "    </tr>\n",
       "    <tr>\n",
       "      <th>50%</th>\n",
       "      <td>9.000000</td>\n",
       "      <td>4.650000e+06</td>\n",
       "      <td>52.000000</td>\n",
       "      <td>2.000000</td>\n",
       "      <td>2.650000</td>\n",
       "      <td>9.000000</td>\n",
       "      <td>30.000000</td>\n",
       "      <td>4.000000</td>\n",
       "      <td>9.100000</td>\n",
       "      <td>1.000000</td>\n",
       "      <td>26726.000000</td>\n",
       "      <td>13098.500000</td>\n",
       "      <td>0.000000</td>\n",
       "      <td>455.000000</td>\n",
       "      <td>1.000000</td>\n",
       "      <td>502.000000</td>\n",
       "      <td>95.000000</td>\n",
       "    </tr>\n",
       "    <tr>\n",
       "      <th>75%</th>\n",
       "      <td>14.000000</td>\n",
       "      <td>6.800000e+06</td>\n",
       "      <td>69.900000</td>\n",
       "      <td>3.000000</td>\n",
       "      <td>2.800000</td>\n",
       "      <td>16.000000</td>\n",
       "      <td>42.300000</td>\n",
       "      <td>8.000000</td>\n",
       "      <td>12.000000</td>\n",
       "      <td>2.000000</td>\n",
       "      <td>37273.000000</td>\n",
       "      <td>16293.000000</td>\n",
       "      <td>1.000000</td>\n",
       "      <td>612.000000</td>\n",
       "      <td>1.000000</td>\n",
       "      <td>729.000000</td>\n",
       "      <td>232.000000</td>\n",
       "    </tr>\n",
       "    <tr>\n",
       "      <th>max</th>\n",
       "      <td>50.000000</td>\n",
       "      <td>7.630000e+08</td>\n",
       "      <td>900.000000</td>\n",
       "      <td>19.000000</td>\n",
       "      <td>100.000000</td>\n",
       "      <td>60.000000</td>\n",
       "      <td>409.700000</td>\n",
       "      <td>33.000000</td>\n",
       "      <td>112.000000</td>\n",
       "      <td>5.000000</td>\n",
       "      <td>84869.000000</td>\n",
       "      <td>65968.000000</td>\n",
       "      <td>3.000000</td>\n",
       "      <td>3190.000000</td>\n",
       "      <td>3.000000</td>\n",
       "      <td>1344.000000</td>\n",
       "      <td>1580.000000</td>\n",
       "    </tr>\n",
       "  </tbody>\n",
       "</table>\n",
       "</div>"
      ],
      "text/plain": [
       "       total_images    last_price    total_area         rooms  ceiling_height  \\\n",
       "count  23699.000000  2.369900e+04  23699.000000  23699.000000    14504.000000   \n",
       "mean       9.858475  6.541549e+06     60.348651      2.070636        2.771499   \n",
       "std        5.682529  1.088701e+07     35.654083      1.078405        1.261056   \n",
       "min        0.000000  1.219000e+04     12.000000      0.000000        1.000000   \n",
       "25%        6.000000  3.400000e+06     40.000000      1.000000        2.520000   \n",
       "50%        9.000000  4.650000e+06     52.000000      2.000000        2.650000   \n",
       "75%       14.000000  6.800000e+06     69.900000      3.000000        2.800000   \n",
       "max       50.000000  7.630000e+08    900.000000     19.000000      100.000000   \n",
       "\n",
       "       floors_total   living_area         floor  kitchen_area       balcony  \\\n",
       "count  23613.000000  21796.000000  23699.000000  21421.000000  12180.000000   \n",
       "mean      10.673824     34.457852      5.892358     10.569807      1.150082   \n",
       "std        6.597173     22.030445      4.885249      5.905438      1.071300   \n",
       "min        1.000000      2.000000      1.000000      1.300000      0.000000   \n",
       "25%        5.000000     18.600000      2.000000      7.000000      0.000000   \n",
       "50%        9.000000     30.000000      4.000000      9.100000      1.000000   \n",
       "75%       16.000000     42.300000      8.000000     12.000000      2.000000   \n",
       "max       60.000000    409.700000     33.000000    112.000000      5.000000   \n",
       "\n",
       "       airports_nearest  cityCenters_nearest  parks_around3000  parks_nearest  \\\n",
       "count      18157.000000         18180.000000      18181.000000    8079.000000   \n",
       "mean       28793.672193         14191.277833          0.611408     490.804555   \n",
       "std        12630.880622          8608.386210          0.802074     342.317995   \n",
       "min            0.000000           181.000000          0.000000       1.000000   \n",
       "25%        18585.000000          9238.000000          0.000000     288.000000   \n",
       "50%        26726.000000         13098.500000          0.000000     455.000000   \n",
       "75%        37273.000000         16293.000000          1.000000     612.000000   \n",
       "max        84869.000000         65968.000000          3.000000    3190.000000   \n",
       "\n",
       "       ponds_around3000  ponds_nearest  days_exposition  \n",
       "count      18181.000000    9110.000000     20518.000000  \n",
       "mean           0.770255     517.980900       180.888634  \n",
       "std            0.938346     277.720643       219.727988  \n",
       "min            0.000000      13.000000         1.000000  \n",
       "25%            0.000000     294.000000        45.000000  \n",
       "50%            1.000000     502.000000        95.000000  \n",
       "75%            1.000000     729.000000       232.000000  \n",
       "max            3.000000    1344.000000      1580.000000  "
      ]
     },
     "execution_count": 5,
     "metadata": {},
     "output_type": "execute_result"
    }
   ],
   "source": [
    "data.describe()"
   ]
  },
  {
   "cell_type": "markdown",
   "metadata": {},
   "source": [
    "**1.5 Предварительно проверим количесвто пропусков и дубликатов**"
   ]
  },
  {
   "cell_type": "code",
   "execution_count": 6,
   "metadata": {},
   "outputs": [
    {
     "data": {
      "text/plain": [
       "total_images                0\n",
       "last_price                  0\n",
       "total_area                  0\n",
       "first_day_exposition        0\n",
       "rooms                       0\n",
       "ceiling_height           9195\n",
       "floors_total               86\n",
       "living_area              1903\n",
       "floor                       0\n",
       "is_apartment            20924\n",
       "studio                      0\n",
       "open_plan                   0\n",
       "kitchen_area             2278\n",
       "balcony                 11519\n",
       "locality_name              49\n",
       "airports_nearest         5542\n",
       "cityCenters_nearest      5519\n",
       "parks_around3000         5518\n",
       "parks_nearest           15620\n",
       "ponds_around3000         5518\n",
       "ponds_nearest           14589\n",
       "days_exposition          3181\n",
       "dtype: int64"
      ]
     },
     "execution_count": 6,
     "metadata": {},
     "output_type": "execute_result"
    }
   ],
   "source": [
    "data.isna().sum()"
   ]
  },
  {
   "cell_type": "code",
   "execution_count": 7,
   "metadata": {},
   "outputs": [
    {
     "data": {
      "text/plain": [
       "0"
      ]
     },
     "execution_count": 7,
     "metadata": {},
     "output_type": "execute_result"
    }
   ],
   "source": [
    "data.duplicated().sum()"
   ]
  },
  {
   "cell_type": "markdown",
   "metadata": {},
   "source": [
    "**Предворительный вывод**\n",
    "\n",
    "Сразу можно обратить внимание на имеющиеся пропуски и аномальные значения.\n",
    "Следующие шаги:\n",
    "\n",
    "0) Скорректируем названия столбцов и поменяем тип данных в столбцах `last_price` и `total_area`\n",
    "\n",
    "1) Проверим корректность наименований населенных пунктов в столбце `locality_name`\n",
    "\n",
    "\n",
    "2) Заполним пропуски в столбцах и проверим аномальные значения и, при необходимости, удалим неправдоподобные значения, в столбцах:\n",
    "\n",
    "- `ceiling_height`\n",
    "- `living_area`\n",
    "- `is_apartment`\n",
    "- `balcony`\n",
    "- `kitchen_area`\n",
    "- `locality_name`\n",
    "- `airports_nearest`\n",
    "- `city_centers_nearest`\n",
    "- `total_area`\n",
    "- `floors_total`\n",
    "\n",
    "3) По возможности, заполним пропуски в столбцах:\n",
    "\n",
    "- `parks_around_3000`\n",
    "- `parks_nearest`\n",
    "- `ponds_around_3000`\n",
    "- `ponds_nearest`\n",
    "\n",
    "4) Скорректируем формат даты в столбцах \n",
    "- `first_day_exposition`"
   ]
  },
  {
   "cell_type": "markdown",
   "metadata": {},
   "source": [
    "###  Предобработка данных"
   ]
  },
  {
   "cell_type": "markdown",
   "metadata": {},
   "source": [
    "**0 Скорректируем названия столбцов**"
   ]
  },
  {
   "cell_type": "code",
   "execution_count": 8,
   "metadata": {},
   "outputs": [],
   "source": [
    "data.rename(columns={'cityCenters_nearest' : 'city_centers_nearest',\\\n",
    "'parks_around3000' : 'parks_around_3000',\\\n",
    "'ponds_around3000': 'ponds_around_3000'},\\\n",
    "    inplace=True)"
   ]
  },
  {
   "cell_type": "markdown",
   "metadata": {},
   "source": [
    "**0.1 Поменяем тип данных в столбцах `last_price` и `total_area`**\n",
    "\n",
    "Большая точность в этих стобцах не нужна, а целые числа проще читать"
   ]
  },
  {
   "cell_type": "code",
   "execution_count": 9,
   "metadata": {},
   "outputs": [],
   "source": [
    "data['last_price'] = data['last_price'].astype('int')\n",
    "data['total_area'] = data['total_area'].astype('int')"
   ]
  },
  {
   "cell_type": "markdown",
   "metadata": {},
   "source": [
    "**1.1 Для начала посмотрим на уникальные значения в в столбце `locality_name` и проверим неявные дубликаты**"
   ]
  },
  {
   "cell_type": "code",
   "execution_count": 10,
   "metadata": {},
   "outputs": [
    {
     "data": {
      "text/plain": [
       "array(['Санкт-Петербург', 'посёлок Шушары', 'городской посёлок Янино-1',\n",
       "       'посёлок Парголово', 'посёлок Мурино', 'Ломоносов', 'Сертолово',\n",
       "       'Петергоф', 'Пушкин', 'деревня Кудрово', 'Коммунар', 'Колпино',\n",
       "       'поселок городского типа Красный Бор', 'Гатчина', 'поселок Мурино',\n",
       "       'деревня Фёдоровское', 'Выборг', 'Кронштадт', 'Кировск',\n",
       "       'деревня Новое Девяткино', 'посёлок Металлострой',\n",
       "       'посёлок городского типа Лебяжье',\n",
       "       'посёлок городского типа Сиверский', 'поселок Молодцово',\n",
       "       'поселок городского типа Кузьмоловский',\n",
       "       'садовое товарищество Новая Ропша', 'Павловск',\n",
       "       'деревня Пикколово', 'Всеволожск', 'Волхов', 'Кингисепп',\n",
       "       'Приозерск', 'Сестрорецк', 'деревня Куттузи', 'посёлок Аннино',\n",
       "       'поселок городского типа Ефимовский', 'посёлок Плодовое',\n",
       "       'деревня Заклинье', 'поселок Торковичи', 'поселок Первомайское',\n",
       "       'Красное Село', 'посёлок Понтонный', 'Сясьстрой', 'деревня Старая',\n",
       "       'деревня Лесколово', 'посёлок Новый Свет', 'Сланцы',\n",
       "       'село Путилово', 'Ивангород', 'Мурино', 'Шлиссельбург',\n",
       "       'Никольское', 'Зеленогорск', 'Сосновый Бор', 'поселок Новый Свет',\n",
       "       'деревня Оржицы', 'деревня Кальтино', 'Кудрово',\n",
       "       'поселок Романовка', 'посёлок Бугры', 'поселок Бугры',\n",
       "       'поселок городского типа Рощино', 'Кириши', 'Луга', 'Волосово',\n",
       "       'Отрадное', 'село Павлово', 'поселок Оредеж', 'село Копорье',\n",
       "       'посёлок городского типа Красный Бор', 'посёлок Молодёжное',\n",
       "       'Тихвин', 'посёлок Победа', 'деревня Нурма',\n",
       "       'поселок городского типа Синявино', 'Тосно',\n",
       "       'посёлок городского типа Кузьмоловский', 'посёлок Стрельна',\n",
       "       'Бокситогорск', 'посёлок Александровская', 'деревня Лопухинка',\n",
       "       'Пикалёво', 'поселок Терволово',\n",
       "       'поселок городского типа Советский', 'Подпорожье',\n",
       "       'посёлок Петровское', 'посёлок городского типа Токсово',\n",
       "       'поселок Сельцо', 'посёлок городского типа Вырица',\n",
       "       'деревня Кипень', 'деревня Келози', 'деревня Вартемяги',\n",
       "       'посёлок Тельмана', 'поселок Севастьяново',\n",
       "       'городской поселок Большая Ижора', nan,\n",
       "       'городской посёлок Павлово', 'деревня Агалатово',\n",
       "       'посёлок Новогорелово', 'городской посёлок Лесогорский',\n",
       "       'деревня Лаголово', 'поселок Цвелодубово',\n",
       "       'поселок городского типа Рахья', 'поселок городского типа Вырица',\n",
       "       'деревня Белогорка', 'поселок Заводской',\n",
       "       'городской посёлок Новоселье', 'деревня Большие Колпаны',\n",
       "       'деревня Горбунки', 'деревня Батово', 'деревня Заневка',\n",
       "       'деревня Иссад', 'Приморск', 'городской посёлок Фёдоровское',\n",
       "       'деревня Мистолово', 'Новая Ладога', 'поселок Зимитицы',\n",
       "       'поселок Барышево', 'деревня Разметелево',\n",
       "       'поселок городского типа имени Свердлова', 'деревня Пеники',\n",
       "       'поселок Рябово', 'деревня Пудомяги', 'поселок станции Корнево',\n",
       "       'деревня Низино', 'деревня Бегуницы', 'посёлок Поляны',\n",
       "       'городской посёлок Мга', 'поселок Елизаветино',\n",
       "       'посёлок городского типа Кузнечное', 'деревня Колтуши',\n",
       "       'поселок Запорожское', 'посёлок городского типа Рощино',\n",
       "       'деревня Гостилицы', 'деревня Малое Карлино',\n",
       "       'посёлок Мичуринское', 'посёлок городского типа имени Морозова',\n",
       "       'посёлок Песочный', 'посёлок Сосново', 'деревня Аро',\n",
       "       'поселок Ильичёво', 'посёлок городского типа Тайцы',\n",
       "       'деревня Малое Верево', 'деревня Извара', 'поселок станции Вещево',\n",
       "       'село Паша', 'деревня Калитино',\n",
       "       'посёлок городского типа Ульяновка', 'деревня Чудской Бор',\n",
       "       'поселок городского типа Дубровка', 'деревня Мины',\n",
       "       'поселок Войсковицы', 'посёлок городского типа имени Свердлова',\n",
       "       'деревня Коркино', 'посёлок Ропша',\n",
       "       'поселок городского типа Приладожский', 'посёлок Щеглово',\n",
       "       'посёлок Гаврилово', 'Лодейное Поле', 'деревня Рабитицы',\n",
       "       'поселок городского типа Никольский', 'деревня Кузьмолово',\n",
       "       'деревня Малые Колпаны', 'поселок Тельмана',\n",
       "       'посёлок Петро-Славянка', 'городской посёлок Назия',\n",
       "       'посёлок Репино', 'посёлок Ильичёво', 'поселок Углово',\n",
       "       'поселок Старая Малукса', 'садовое товарищество Рахья',\n",
       "       'поселок Аннино', 'поселок Победа', 'деревня Меньково',\n",
       "       'деревня Старые Бегуницы', 'посёлок Сапёрный', 'поселок Семрино',\n",
       "       'поселок Гаврилово', 'поселок Глажево', 'поселок Кобринское',\n",
       "       'деревня Гарболово', 'деревня Юкки',\n",
       "       'поселок станции Приветнинское', 'деревня Мануйлово',\n",
       "       'деревня Пчева', 'поселок Поляны', 'поселок Цвылёво',\n",
       "       'поселок Мельниково', 'посёлок Пудость', 'посёлок Усть-Луга',\n",
       "       'Светогорск', 'Любань', 'поселок Селезнёво',\n",
       "       'поселок городского типа Рябово', 'Каменногорск', 'деревня Кривко',\n",
       "       'поселок Глебычево', 'деревня Парицы', 'поселок Жилпосёлок',\n",
       "       'посёлок городского типа Мга', 'городской поселок Янино-1',\n",
       "       'посёлок Войскорово', 'село Никольское', 'посёлок Терволово',\n",
       "       'поселок Стеклянный', 'посёлок городского типа Важины',\n",
       "       'посёлок Мыза-Ивановка', 'село Русско-Высоцкое',\n",
       "       'поселок городского типа Лебяжье',\n",
       "       'поселок городского типа Форносово', 'село Старая Ладога',\n",
       "       'поселок Житково', 'городской посёлок Виллози', 'деревня Лампово',\n",
       "       'деревня Шпаньково', 'деревня Лаврики', 'посёлок Сумино',\n",
       "       'посёлок Возрождение', 'деревня Старосиверская',\n",
       "       'посёлок Кикерино', 'поселок Возрождение',\n",
       "       'деревня Старое Хинколово', 'посёлок Пригородный',\n",
       "       'посёлок Торфяное', 'городской посёлок Будогощь',\n",
       "       'поселок Суходолье', 'поселок Красная Долина', 'деревня Хапо-Ое',\n",
       "       'поселок городского типа Дружная Горка', 'поселок Лисий Нос',\n",
       "       'деревня Яльгелево', 'посёлок Стеклянный', 'село Рождествено',\n",
       "       'деревня Старополье', 'посёлок Левашово', 'деревня Сяськелево',\n",
       "       'деревня Камышовка',\n",
       "       'садоводческое некоммерческое товарищество Лесная Поляна',\n",
       "       'деревня Хязельки', 'поселок Жилгородок',\n",
       "       'посёлок городского типа Павлово', 'деревня Ялгино',\n",
       "       'поселок Новый Учхоз', 'городской посёлок Рощино',\n",
       "       'поселок Гончарово', 'поселок Почап', 'посёлок Сапёрное',\n",
       "       'посёлок Платформа 69-й километр', 'поселок Каложицы',\n",
       "       'деревня Фалилеево', 'деревня Пельгора',\n",
       "       'поселок городского типа Лесогорский', 'деревня Торошковичи',\n",
       "       'посёлок Белоостров', 'посёлок Алексеевка', 'поселок Серебрянский',\n",
       "       'поселок Лукаши', 'поселок Петровское', 'деревня Щеглово',\n",
       "       'поселок Мичуринское', 'деревня Тарасово', 'поселок Кингисеппский',\n",
       "       'посёлок при железнодорожной станции Вещево', 'поселок Ушаки',\n",
       "       'деревня Котлы', 'деревня Сижно', 'деревня Торосово',\n",
       "       'посёлок Форт Красная Горка', 'поселок городского типа Токсово',\n",
       "       'деревня Новолисино', 'посёлок станции Громово', 'деревня Глинка',\n",
       "       'посёлок Мельниково', 'поселок городского типа Назия',\n",
       "       'деревня Старая Пустошь', 'поселок Коммунары', 'поселок Починок',\n",
       "       'посёлок городского типа Вознесенье', 'деревня Разбегаево',\n",
       "       'посёлок городского типа Рябово', 'поселок Гладкое',\n",
       "       'посёлок при железнодорожной станции Приветнинское',\n",
       "       'поселок Тёсово-4', 'посёлок Жилгородок', 'деревня Бор',\n",
       "       'посёлок Коробицыно', 'деревня Большая Вруда', 'деревня Курковицы',\n",
       "       'посёлок Лисий Нос', 'городской посёлок Советский',\n",
       "       'посёлок Кобралово', 'деревня Суоранда', 'поселок Кобралово',\n",
       "       'поселок городского типа Кондратьево',\n",
       "       'коттеджный поселок Счастье', 'поселок Любань', 'деревня Реброво',\n",
       "       'деревня Зимитицы', 'деревня Тойворово', 'поселок Семиозерье',\n",
       "       'поселок Лесное', 'поселок Совхозный', 'поселок Усть-Луга',\n",
       "       'посёлок Ленинское', 'посёлок Суйда',\n",
       "       'посёлок городского типа Форносово', 'деревня Нижние Осельки',\n",
       "       'посёлок станции Свирь', 'поселок Перово', 'Высоцк',\n",
       "       'поселок Гарболово', 'село Шум', 'поселок Котельский',\n",
       "       'поселок станции Лужайка', 'деревня Большая Пустомержа',\n",
       "       'поселок Красносельское', 'деревня Вахнова Кара', 'деревня Пижма',\n",
       "       'коттеджный поселок Кивеннапа Север', 'поселок Коробицыно',\n",
       "       'поселок Ромашки', 'посёлок Перово', 'деревня Каськово',\n",
       "       'деревня Куровицы', 'посёлок Плоское', 'поселок Сумино',\n",
       "       'поселок городского типа Большая Ижора', 'поселок Кирпичное',\n",
       "       'деревня Ям-Тесово', 'деревня Раздолье', 'деревня Терпилицы',\n",
       "       'посёлок Шугозеро', 'деревня Ваганово', 'поселок Пушное',\n",
       "       'садовое товарищество Садко', 'посёлок Усть-Ижора',\n",
       "       'деревня Выскатка', 'городской посёлок Свирьстрой',\n",
       "       'поселок Громово', 'деревня Кисельня', 'посёлок Старая Малукса',\n",
       "       'деревня Трубников Бор', 'поселок Калитино',\n",
       "       'посёлок Высокоключевой', 'садовое товарищество Приладожский',\n",
       "       'посёлок Пансионат Зелёный Бор', 'деревня Ненимяки',\n",
       "       'поселок Пансионат Зелёный Бор', 'деревня Снегирёвка',\n",
       "       'деревня Рапполово', 'деревня Пустынка', 'поселок Рабитицы',\n",
       "       'деревня Большой Сабск', 'деревня Русско', 'деревня Лупполово',\n",
       "       'деревня Большое Рейзино', 'деревня Малая Романовка',\n",
       "       'поселок Дружноселье', 'поселок Пчевжа', 'поселок Володарское',\n",
       "       'деревня Нижняя', 'коттеджный посёлок Лесное', 'деревня Тихковицы',\n",
       "       'деревня Борисова Грива', 'посёлок Дзержинского'], dtype=object)"
      ]
     },
     "execution_count": 10,
     "metadata": {},
     "output_type": "execute_result"
    }
   ],
   "source": [
    "data['locality_name'].unique()"
   ]
  },
  {
   "cell_type": "markdown",
   "metadata": {},
   "source": [
    "Список огромный, но уже видны совпадения:'посёлок Пансионат Зелёный Бор' - 'поселок Пансионат Зелёный Бор'."
   ]
  },
  {
   "cell_type": "markdown",
   "metadata": {},
   "source": [
    "**1.2 Удалим тип населенного пункта, и оставим лишь наименование**"
   ]
  },
  {
   "cell_type": "code",
   "execution_count": 11,
   "metadata": {},
   "outputs": [],
   "source": [
    "def clean_location_name(x:str):\n",
    "    \n",
    "# функция принимает строку и удаляет из нее лишние вхождения\n",
    "# например: из строки \"поселок Шушары\" будет удалено \"поселок \"\n",
    "\n",
    "\n",
    "    try:\n",
    "        if 'городской поселок' in x:\n",
    "            return x.replace('городской посёлок ','')\n",
    "        elif 'городской посёлок' in x:\n",
    "            return x.replace('городской посёлок ','')\n",
    "        elif 'деревня' in x:\n",
    "            return x.replace('деревня','')\n",
    "        elif 'коттеджный поселок' in x:\n",
    "            return x.replace('коттеджный поселок ','')\n",
    "        elif 'коттеджный посёлок' in x:\n",
    "            return x.replace('коттеджный посёлок ','')\n",
    "        elif 'поселок' in x:\n",
    "            return x.replace('поселок ','')\n",
    "        elif 'поселок городского типа'in x:\n",
    "            return x.replace('поселок городского типа ','')\n",
    "        elif 'поселок станции'in x:\n",
    "            return x.replace('поселок станции ','')\n",
    "        elif 'посёлок'in x:\n",
    "            return x.replace('посёлок ','')\n",
    "        elif 'городского'in x:\n",
    "            return x.replace('посёлок городского типа ','')\n",
    "        elif 'типа имени'in x:\n",
    "            return x.replace('типа имени ','')\n",
    "        elif 'посёлок при железнодорожной станции' in x:\n",
    "            return x.replace('посёлок при железнодорожной станции ','')\n",
    "        elif 'станции' in x:\n",
    "            return x.replace('станции ','')\n",
    "        elif 'садоводческое некоммерческое товарищество' in x:\n",
    "            return x.replace('садоводческое некоммерческое товарищество ','')\n",
    "        elif 'садовое товарищество' in x:\n",
    "            return x.replace('садовое товарищество ','')\n",
    "        elif ' село' in x:\n",
    "            return x.replace('село ','')\n",
    "        else:\n",
    "            return x\n",
    "    except:\n",
    "        return x\n",
    "        \n",
    "    \n",
    "data['locality_name'] = data['locality_name'].apply(clean_location_name)"
   ]
  },
  {
   "cell_type": "markdown",
   "metadata": {},
   "source": [
    "**1.3 Удалим строки, в которых не указан населенный пункт. Таких всего 86 - количество крайне мало и не повлияет на дальнейшие иследования**"
   ]
  },
  {
   "cell_type": "code",
   "execution_count": 12,
   "metadata": {},
   "outputs": [],
   "source": [
    "data=data.dropna(subset=['locality_name'])"
   ]
  },
  {
   "cell_type": "markdown",
   "metadata": {},
   "source": [
    "**2 Обработка пропусков**"
   ]
  },
  {
   "cell_type": "markdown",
   "metadata": {},
   "source": [
    "**2.2 Выведем уникальные знначение в столбце `balcony`.**"
   ]
  },
  {
   "cell_type": "code",
   "execution_count": 13,
   "metadata": {},
   "outputs": [
    {
     "data": {
      "text/plain": [
       "array([nan,  2.,  0.,  1.,  5.,  4.,  3.])"
      ]
     },
     "execution_count": 13,
     "metadata": {},
     "output_type": "execute_result"
    }
   ],
   "source": [
    "data['balcony'].unique()"
   ]
  },
  {
   "cell_type": "markdown",
   "metadata": {},
   "source": [
    "**2.2.1 Удалим пропуски в столбце `balcony` и поменяем тип данных**\n",
    "\n",
    "Так как количество балконов не зависит от данных в других столбцах, логичнее всего предположить, что пропуски обусловленны тем, что их количество не вводилось из за их отсутствия.\n",
    "Потому все пропуски поменяем на 0."
   ]
  },
  {
   "cell_type": "code",
   "execution_count": 14,
   "metadata": {},
   "outputs": [],
   "source": [
    "data['balcony'] = data['balcony'].fillna('0').astype('int',errors='ignore')"
   ]
  },
  {
   "cell_type": "markdown",
   "metadata": {},
   "source": [
    "**2.3 Выведем уникальные знначение в столбце `is_apartment`**"
   ]
  },
  {
   "cell_type": "code",
   "execution_count": 15,
   "metadata": {},
   "outputs": [
    {
     "data": {
      "text/plain": [
       "array([nan, False, True], dtype=object)"
      ]
     },
     "execution_count": 15,
     "metadata": {},
     "output_type": "execute_result"
    }
   ],
   "source": [
    "data['is_apartment'].unique()"
   ]
  },
  {
   "cell_type": "markdown",
   "metadata": {},
   "source": [
    "Как и ожидалась, в столбце только два варианта - True и False, соответствующие 'да' или 'нет'.\n",
    "Пропуски, как и в случае с `balciny`, обусловлены тем, что не заполнялся в случае, если квартира не является апартаментами.\n",
    " "
   ]
  },
  {
   "cell_type": "markdown",
   "metadata": {},
   "source": [
    "**2.3.1 Изменим пропуски на False**"
   ]
  },
  {
   "cell_type": "code",
   "execution_count": 16,
   "metadata": {},
   "outputs": [],
   "source": [
    "data['is_apartment'] = data['is_apartment'].fillna(False)"
   ]
  },
  {
   "cell_type": "markdown",
   "metadata": {},
   "source": [
    "**2.4 Посмотрим на уникальные значения в столбце `ceiling_height`**"
   ]
  },
  {
   "cell_type": "code",
   "execution_count": 17,
   "metadata": {},
   "outputs": [
    {
     "data": {
      "text/plain": [
       "array([  2.7 ,    nan,   3.03,   2.5 ,   2.67,   2.56,   3.05,   2.75,\n",
       "         2.6 ,   2.9 ,   2.8 ,   2.55,   3.  ,   2.65,   3.2 ,   2.61,\n",
       "         3.25,   3.45,   2.77,   2.85,   2.64,   2.57,   4.15,   3.5 ,\n",
       "         3.3 ,   2.71,   4.  ,   2.47,   2.73,   2.84,   3.1 ,   2.34,\n",
       "         3.4 ,   3.06,   2.72,   2.54,   2.51,   2.78,   2.76,  25.  ,\n",
       "         2.58,   3.7 ,   2.52,   5.2 ,   2.87,   2.66,   2.59,   2.  ,\n",
       "         2.45,   3.6 ,   2.92,   3.11,   3.13,   3.8 ,   3.15,   3.55,\n",
       "         3.16,   3.62,   3.12,   2.53,   2.74,   2.96,   2.46,   5.3 ,\n",
       "         5.  ,   2.79,   2.95,   4.06,   2.94,   3.82,   3.54,   3.53,\n",
       "         2.83,   4.7 ,   2.4 ,   3.38,   3.01,   5.6 ,   3.65,   3.9 ,\n",
       "         3.18,   3.35,   2.3 ,   3.57,   2.48,   2.62,   2.82,   3.98,\n",
       "         2.63,   3.83,   3.52,   3.95,   3.75,   2.88,   3.67,   3.87,\n",
       "         3.66,   3.85,   3.86,   4.19,   3.24,   4.8 ,   4.5 ,   4.2 ,\n",
       "         3.36,  32.  ,   3.08,   3.68,   3.07,   3.37,   3.09,   8.  ,\n",
       "         3.26,   3.34,   2.81,   3.44,   2.97,   3.14,   4.37,   2.68,\n",
       "         3.22,   3.27,  27.  ,   4.1 ,   2.93,   3.46,  24.  ,   3.47,\n",
       "         3.33,   3.63,   3.32,  26.  ,   1.2 ,   8.3 ,   2.98,   2.86,\n",
       "         3.17,   4.4 ,   3.28,   3.04,   4.45,   5.5 ,   3.84,   3.23,\n",
       "         3.02,   3.21,   3.43,   3.78,   4.3 ,   3.39,   2.69,   3.31,\n",
       "         4.65,   3.56,   2.2 ,   3.51,   3.93,   3.42,   2.99,   3.49,\n",
       "        14.  ,   4.14,   2.91,   3.88,   1.75,   4.25,   3.29,  20.  ,\n",
       "         2.25,   3.76,   3.69,   6.  ,  22.6 ,   2.89,   3.58,   5.8 ,\n",
       "        27.5 ,   2.49,   4.9 ,   3.48,  10.3 ,   1.  , 100.  ,   3.59])"
      ]
     },
     "execution_count": 17,
     "metadata": {},
     "output_type": "execute_result"
    }
   ],
   "source": [
    "data['ceiling_height'].unique()"
   ]
  },
  {
   "cell_type": "markdown",
   "metadata": {},
   "source": [
    "Сразу бросаются в глаза неправдободобные значения: 100, 22.6, 26 и т.д.\n",
    "\n",
    "Таких высоких потолков явно не существует. \n",
    "\n",
    "Вывод напрашивается сам собой - неверное расположение точки в числе(то ли ошибка при выгрузке, то ли человеческий фактор).\n"
   ]
  },
  {
   "cell_type": "markdown",
   "metadata": {},
   "source": [
    "**2.4.1 Разделим все значения больше 10 на 10, дабы сдвинуть точку на один порядок влево**"
   ]
  },
  {
   "cell_type": "code",
   "execution_count": 18,
   "metadata": {},
   "outputs": [],
   "source": [
    "data.loc[data['ceiling_height'] > 10,['ceiling_height']] = data.loc[data['ceiling_height'] > 10,['ceiling_height'] ]/ 10"
   ]
  },
  {
   "cell_type": "markdown",
   "metadata": {},
   "source": [
    "**2.4.2 Удалим значения ниже 2 и выше 8**"
   ]
  },
  {
   "cell_type": "code",
   "execution_count": 19,
   "metadata": {},
   "outputs": [],
   "source": [
    "data.loc[data['ceiling_height'] != 'NaN',['ceiling_height']]= (\n",
    "    data.loc[(data['ceiling_height'] > 2) & \n",
    "    (data['ceiling_height'] < 10)]\n",
    ")"
   ]
  },
  {
   "cell_type": "markdown",
   "metadata": {},
   "source": [
    "**2.4.3 Заполним пропуски медианами.**\n",
    "Скорее всего, пропуски образовались из за того, что высота потолков сренестатистическая, потому высота и не заполнялась - то есть отстутствуют какие-либо аномальные значения"
   ]
  },
  {
   "cell_type": "code",
   "execution_count": 20,
   "metadata": {},
   "outputs": [],
   "source": [
    "for locality_name in data['ceiling_height'].unique():\n",
    "    median = data.loc[data['locality_name'] == locality_name,'ceiling_height'].median()\n",
    "    data.loc[(data['ceiling_height'].isna()) & (data['locality_name'] == locality_name),'ceiling_height'] = median"
   ]
  },
  {
   "cell_type": "code",
   "execution_count": 21,
   "metadata": {},
   "outputs": [],
   "source": [
    "data['ceiling_height'] = data['ceiling_height'].fillna(data['ceiling_height'].median())"
   ]
  },
  {
   "cell_type": "markdown",
   "metadata": {},
   "source": []
  },
  {
   "cell_type": "markdown",
   "metadata": {},
   "source": [
    "**2.5 Выведем уникальные значения столбца `floors_total`**"
   ]
  },
  {
   "cell_type": "code",
   "execution_count": 22,
   "metadata": {},
   "outputs": [
    {
     "data": {
      "text/plain": [
       "array([16., 11.,  5., 14., 12., 26., 24., 27.,  9.,  6., 17., 25.,  3.,\n",
       "       23., 19., 18.,  4., 22.,  8.,  2., 10.,  7., 13., 15., nan, 20.,\n",
       "       28., 36., 21., 35., 34., 60.,  1., 29., 33., 52., 37.])"
      ]
     },
     "execution_count": 22,
     "metadata": {},
     "output_type": "execute_result"
    }
   ],
   "source": [
    "data['floors_total'].unique()"
   ]
  },
  {
   "cell_type": "markdown",
   "metadata": {},
   "source": [
    "**2.5.1 Все значения - целочисленные, потому поменяем тип столбца, для простоты расчетов в дальнейшем.**\n",
    "\n",
    "Так же видны аномалии: 60 этажей - если верить Google`у, самое высокое здание в Ленинградской области - Лахта-центр 35 этажей.\n",
    "\n",
    "Потому проверим, сколько строк с подобным значением и, при необходимости, удалим или сдвинем точку в числе"
   ]
  },
  {
   "cell_type": "code",
   "execution_count": 23,
   "metadata": {},
   "outputs": [],
   "source": [
    "data['floors_total']=data['floors_total'].astype('int',errors='ignore')"
   ]
  },
  {
   "cell_type": "code",
   "execution_count": 24,
   "metadata": {},
   "outputs": [
    {
     "data": {
      "text/html": [
       "<div>\n",
       "<style scoped>\n",
       "    .dataframe tbody tr th:only-of-type {\n",
       "        vertical-align: middle;\n",
       "    }\n",
       "\n",
       "    .dataframe tbody tr th {\n",
       "        vertical-align: top;\n",
       "    }\n",
       "\n",
       "    .dataframe thead th {\n",
       "        text-align: right;\n",
       "    }\n",
       "</style>\n",
       "<table border=\"1\" class=\"dataframe\">\n",
       "  <thead>\n",
       "    <tr style=\"text-align: right;\">\n",
       "      <th></th>\n",
       "      <th>total_images</th>\n",
       "      <th>last_price</th>\n",
       "      <th>total_area</th>\n",
       "      <th>first_day_exposition</th>\n",
       "      <th>rooms</th>\n",
       "      <th>ceiling_height</th>\n",
       "      <th>floors_total</th>\n",
       "      <th>living_area</th>\n",
       "      <th>floor</th>\n",
       "      <th>is_apartment</th>\n",
       "      <th>...</th>\n",
       "      <th>kitchen_area</th>\n",
       "      <th>balcony</th>\n",
       "      <th>locality_name</th>\n",
       "      <th>airports_nearest</th>\n",
       "      <th>city_centers_nearest</th>\n",
       "      <th>parks_around_3000</th>\n",
       "      <th>parks_nearest</th>\n",
       "      <th>ponds_around_3000</th>\n",
       "      <th>ponds_nearest</th>\n",
       "      <th>days_exposition</th>\n",
       "    </tr>\n",
       "  </thead>\n",
       "  <tbody>\n",
       "    <tr>\n",
       "      <th>2253</th>\n",
       "      <td>12</td>\n",
       "      <td>3800000</td>\n",
       "      <td>45</td>\n",
       "      <td>2018-06-28T00:00:00</td>\n",
       "      <td>2</td>\n",
       "      <td>2.88</td>\n",
       "      <td>60.0</td>\n",
       "      <td>27.4</td>\n",
       "      <td>4</td>\n",
       "      <td>False</td>\n",
       "      <td>...</td>\n",
       "      <td>7.4</td>\n",
       "      <td>0</td>\n",
       "      <td>Кронштадт</td>\n",
       "      <td>67763.0</td>\n",
       "      <td>49488.0</td>\n",
       "      <td>2.0</td>\n",
       "      <td>342.0</td>\n",
       "      <td>3.0</td>\n",
       "      <td>614.0</td>\n",
       "      <td>166.0</td>\n",
       "    </tr>\n",
       "  </tbody>\n",
       "</table>\n",
       "<p>1 rows × 22 columns</p>\n",
       "</div>"
      ],
      "text/plain": [
       "      total_images  last_price  total_area first_day_exposition  rooms  \\\n",
       "2253            12     3800000          45  2018-06-28T00:00:00      2   \n",
       "\n",
       "      ceiling_height  floors_total  living_area  floor  is_apartment  ...  \\\n",
       "2253            2.88          60.0         27.4      4         False  ...   \n",
       "\n",
       "      kitchen_area  balcony  locality_name  airports_nearest  \\\n",
       "2253           7.4        0      Кронштадт           67763.0   \n",
       "\n",
       "     city_centers_nearest  parks_around_3000  parks_nearest  \\\n",
       "2253              49488.0                2.0          342.0   \n",
       "\n",
       "      ponds_around_3000  ponds_nearest  days_exposition  \n",
       "2253                3.0          614.0            166.0  \n",
       "\n",
       "[1 rows x 22 columns]"
      ]
     },
     "execution_count": 24,
     "metadata": {},
     "output_type": "execute_result"
    }
   ],
   "source": [
    "data.query('floors_total == 60')"
   ]
  },
  {
   "cell_type": "code",
   "execution_count": 25,
   "metadata": {},
   "outputs": [
    {
     "data": {
      "text/html": [
       "<div>\n",
       "<style scoped>\n",
       "    .dataframe tbody tr th:only-of-type {\n",
       "        vertical-align: middle;\n",
       "    }\n",
       "\n",
       "    .dataframe tbody tr th {\n",
       "        vertical-align: top;\n",
       "    }\n",
       "\n",
       "    .dataframe thead th {\n",
       "        text-align: right;\n",
       "    }\n",
       "</style>\n",
       "<table border=\"1\" class=\"dataframe\">\n",
       "  <thead>\n",
       "    <tr style=\"text-align: right;\">\n",
       "      <th></th>\n",
       "      <th>total_images</th>\n",
       "      <th>last_price</th>\n",
       "      <th>total_area</th>\n",
       "      <th>first_day_exposition</th>\n",
       "      <th>rooms</th>\n",
       "      <th>ceiling_height</th>\n",
       "      <th>floors_total</th>\n",
       "      <th>living_area</th>\n",
       "      <th>floor</th>\n",
       "      <th>is_apartment</th>\n",
       "      <th>...</th>\n",
       "      <th>kitchen_area</th>\n",
       "      <th>balcony</th>\n",
       "      <th>locality_name</th>\n",
       "      <th>airports_nearest</th>\n",
       "      <th>city_centers_nearest</th>\n",
       "      <th>parks_around_3000</th>\n",
       "      <th>parks_nearest</th>\n",
       "      <th>ponds_around_3000</th>\n",
       "      <th>ponds_nearest</th>\n",
       "      <th>days_exposition</th>\n",
       "    </tr>\n",
       "  </thead>\n",
       "  <tbody>\n",
       "    <tr>\n",
       "      <th>397</th>\n",
       "      <td>15</td>\n",
       "      <td>5990000</td>\n",
       "      <td>54</td>\n",
       "      <td>2018-03-22T00:00:00</td>\n",
       "      <td>2</td>\n",
       "      <td>2.65</td>\n",
       "      <td>36.0</td>\n",
       "      <td>21.4</td>\n",
       "      <td>28</td>\n",
       "      <td>False</td>\n",
       "      <td>...</td>\n",
       "      <td>18.70</td>\n",
       "      <td>1</td>\n",
       "      <td>Санкт-Петербург</td>\n",
       "      <td>18732.0</td>\n",
       "      <td>20444.0</td>\n",
       "      <td>0.0</td>\n",
       "      <td>NaN</td>\n",
       "      <td>3.0</td>\n",
       "      <td>80.0</td>\n",
       "      <td>11.0</td>\n",
       "    </tr>\n",
       "    <tr>\n",
       "      <th>2253</th>\n",
       "      <td>12</td>\n",
       "      <td>3800000</td>\n",
       "      <td>45</td>\n",
       "      <td>2018-06-28T00:00:00</td>\n",
       "      <td>2</td>\n",
       "      <td>2.88</td>\n",
       "      <td>60.0</td>\n",
       "      <td>27.4</td>\n",
       "      <td>4</td>\n",
       "      <td>False</td>\n",
       "      <td>...</td>\n",
       "      <td>7.40</td>\n",
       "      <td>0</td>\n",
       "      <td>Кронштадт</td>\n",
       "      <td>67763.0</td>\n",
       "      <td>49488.0</td>\n",
       "      <td>2.0</td>\n",
       "      <td>342.0</td>\n",
       "      <td>3.0</td>\n",
       "      <td>614.0</td>\n",
       "      <td>166.0</td>\n",
       "    </tr>\n",
       "    <tr>\n",
       "      <th>5807</th>\n",
       "      <td>17</td>\n",
       "      <td>8150000</td>\n",
       "      <td>80</td>\n",
       "      <td>2019-01-09T00:00:00</td>\n",
       "      <td>2</td>\n",
       "      <td>2.70</td>\n",
       "      <td>36.0</td>\n",
       "      <td>41.0</td>\n",
       "      <td>13</td>\n",
       "      <td>False</td>\n",
       "      <td>...</td>\n",
       "      <td>12.00</td>\n",
       "      <td>5</td>\n",
       "      <td>Санкт-Петербург</td>\n",
       "      <td>18732.0</td>\n",
       "      <td>20444.0</td>\n",
       "      <td>0.0</td>\n",
       "      <td>NaN</td>\n",
       "      <td>3.0</td>\n",
       "      <td>80.0</td>\n",
       "      <td>38.0</td>\n",
       "    </tr>\n",
       "    <tr>\n",
       "      <th>11079</th>\n",
       "      <td>16</td>\n",
       "      <td>9200000</td>\n",
       "      <td>75</td>\n",
       "      <td>2019-02-22T00:00:00</td>\n",
       "      <td>2</td>\n",
       "      <td>2.70</td>\n",
       "      <td>36.0</td>\n",
       "      <td>40.0</td>\n",
       "      <td>29</td>\n",
       "      <td>False</td>\n",
       "      <td>...</td>\n",
       "      <td>12.00</td>\n",
       "      <td>2</td>\n",
       "      <td>Санкт-Петербург</td>\n",
       "      <td>18732.0</td>\n",
       "      <td>20444.0</td>\n",
       "      <td>0.0</td>\n",
       "      <td>NaN</td>\n",
       "      <td>3.0</td>\n",
       "      <td>80.0</td>\n",
       "      <td>NaN</td>\n",
       "    </tr>\n",
       "    <tr>\n",
       "      <th>16731</th>\n",
       "      <td>9</td>\n",
       "      <td>3978000</td>\n",
       "      <td>40</td>\n",
       "      <td>2018-09-24T00:00:00</td>\n",
       "      <td>1</td>\n",
       "      <td>2.65</td>\n",
       "      <td>52.0</td>\n",
       "      <td>10.5</td>\n",
       "      <td>18</td>\n",
       "      <td>False</td>\n",
       "      <td>...</td>\n",
       "      <td>14.00</td>\n",
       "      <td>0</td>\n",
       "      <td>Санкт-Петербург</td>\n",
       "      <td>20728.0</td>\n",
       "      <td>12978.0</td>\n",
       "      <td>1.0</td>\n",
       "      <td>793.0</td>\n",
       "      <td>0.0</td>\n",
       "      <td>NaN</td>\n",
       "      <td>45.0</td>\n",
       "    </tr>\n",
       "    <tr>\n",
       "      <th>16934</th>\n",
       "      <td>5</td>\n",
       "      <td>4100000</td>\n",
       "      <td>40</td>\n",
       "      <td>2017-10-17T00:00:00</td>\n",
       "      <td>1</td>\n",
       "      <td>2.65</td>\n",
       "      <td>37.0</td>\n",
       "      <td>17.4</td>\n",
       "      <td>5</td>\n",
       "      <td>False</td>\n",
       "      <td>...</td>\n",
       "      <td>8.34</td>\n",
       "      <td>0</td>\n",
       "      <td>Санкт-Петербург</td>\n",
       "      <td>18732.0</td>\n",
       "      <td>20444.0</td>\n",
       "      <td>0.0</td>\n",
       "      <td>NaN</td>\n",
       "      <td>3.0</td>\n",
       "      <td>80.0</td>\n",
       "      <td>71.0</td>\n",
       "    </tr>\n",
       "  </tbody>\n",
       "</table>\n",
       "<p>6 rows × 22 columns</p>\n",
       "</div>"
      ],
      "text/plain": [
       "       total_images  last_price  total_area first_day_exposition  rooms  \\\n",
       "397              15     5990000          54  2018-03-22T00:00:00      2   \n",
       "2253             12     3800000          45  2018-06-28T00:00:00      2   \n",
       "5807             17     8150000          80  2019-01-09T00:00:00      2   \n",
       "11079            16     9200000          75  2019-02-22T00:00:00      2   \n",
       "16731             9     3978000          40  2018-09-24T00:00:00      1   \n",
       "16934             5     4100000          40  2017-10-17T00:00:00      1   \n",
       "\n",
       "       ceiling_height  floors_total  living_area  floor  is_apartment  ...  \\\n",
       "397              2.65          36.0         21.4     28         False  ...   \n",
       "2253             2.88          60.0         27.4      4         False  ...   \n",
       "5807             2.70          36.0         41.0     13         False  ...   \n",
       "11079            2.70          36.0         40.0     29         False  ...   \n",
       "16731            2.65          52.0         10.5     18         False  ...   \n",
       "16934            2.65          37.0         17.4      5         False  ...   \n",
       "\n",
       "       kitchen_area  balcony    locality_name  airports_nearest  \\\n",
       "397           18.70        1  Санкт-Петербург           18732.0   \n",
       "2253           7.40        0        Кронштадт           67763.0   \n",
       "5807          12.00        5  Санкт-Петербург           18732.0   \n",
       "11079         12.00        2  Санкт-Петербург           18732.0   \n",
       "16731         14.00        0  Санкт-Петербург           20728.0   \n",
       "16934          8.34        0  Санкт-Петербург           18732.0   \n",
       "\n",
       "      city_centers_nearest  parks_around_3000  parks_nearest  \\\n",
       "397                20444.0                0.0            NaN   \n",
       "2253               49488.0                2.0          342.0   \n",
       "5807               20444.0                0.0            NaN   \n",
       "11079              20444.0                0.0            NaN   \n",
       "16731              12978.0                1.0          793.0   \n",
       "16934              20444.0                0.0            NaN   \n",
       "\n",
       "       ponds_around_3000  ponds_nearest  days_exposition  \n",
       "397                  3.0           80.0             11.0  \n",
       "2253                 3.0          614.0            166.0  \n",
       "5807                 3.0           80.0             38.0  \n",
       "11079                3.0           80.0              NaN  \n",
       "16731                0.0            NaN             45.0  \n",
       "16934                3.0           80.0             71.0  \n",
       "\n",
       "[6 rows x 22 columns]"
      ]
     },
     "execution_count": 25,
     "metadata": {},
     "output_type": "execute_result"
    }
   ],
   "source": [
    "data.query('floors_total > 35')"
   ]
  },
  {
   "cell_type": "markdown",
   "metadata": {},
   "source": [
    "**2.5.2 Не похоже, что ошибка в точке. Не может быть 2,7 этажа в доме - 6 строк удаляем**"
   ]
  },
  {
   "cell_type": "markdown",
   "metadata": {},
   "source": [
    "ИИ сразу удалим пропуски\n",
    "Их всего 85, потому удаление так же не повлияеть на общие ислодования.\n",
    "Скорее всего, пропуски обусловлены человеческим фактором, не похоже на техническую ошибку - слишком мало"
   ]
  },
  {
   "cell_type": "code",
   "execution_count": 26,
   "metadata": {},
   "outputs": [],
   "source": [
    "data = data.dropna(subset=['floors_total'])"
   ]
  },
  {
   "cell_type": "code",
   "execution_count": 27,
   "metadata": {},
   "outputs": [],
   "source": [
    "data = data[data['floors_total'] < 36]"
   ]
  },
  {
   "cell_type": "markdown",
   "metadata": {},
   "source": [
    "**2.6 Проверим аномалии в столбце  `total_area`**\n",
    "Если верить тому же Google`у, в Ленинградской области есть квартиры площадью и более 900 метров, и находятся они не только в Санкт-Петербурге. \n",
    "\n",
    "Потому самым верным решение - оставить данные как есть."
   ]
  },
  {
   "cell_type": "code",
   "execution_count": 28,
   "metadata": {},
   "outputs": [
    {
     "data": {
      "text/plain": [
       "count    23559.000000\n",
       "mean        60.096354\n",
       "std         35.672294\n",
       "min         12.000000\n",
       "25%         40.000000\n",
       "50%         52.000000\n",
       "75%         69.000000\n",
       "max        900.000000\n",
       "Name: total_area, dtype: float64"
      ]
     },
     "execution_count": 28,
     "metadata": {},
     "output_type": "execute_result"
    }
   ],
   "source": [
    "data['total_area'].describe()"
   ]
  },
  {
   "cell_type": "code",
   "execution_count": 29,
   "metadata": {},
   "outputs": [
    {
     "data": {
      "text/plain": [
       "<AxesSubplot:>"
      ]
     },
     "execution_count": 29,
     "metadata": {},
     "output_type": "execute_result"
    },
    {
     "data": {
      "image/png": "[encoded data removed]",
      "text/plain": [
       "<Figure size 432x288 with 1 Axes>"
      ]
     },
     "metadata": {
      "needs_background": "light"
     },
     "output_type": "display_data"
    }
   ],
   "source": [
    "data['total_area'].hist(bins=200,)"
   ]
  },
  {
   "cell_type": "code",
   "execution_count": 30,
   "metadata": {},
   "outputs": [
    {
     "data": {
      "text/plain": [
       "<AxesSubplot:>"
      ]
     },
     "execution_count": 30,
     "metadata": {},
     "output_type": "execute_result"
    },
    {
     "data": {
      "image/png": "[encoded data removed]",
      "text/plain": [
       "<Figure size 432x288 with 1 Axes>"
      ]
     },
     "metadata": {
      "needs_background": "light"
     },
     "output_type": "display_data"
    }
   ],
   "source": [
    "data.boxplot('total_area')"
   ]
  },
  {
   "cell_type": "code",
   "execution_count": 31,
   "metadata": {},
   "outputs": [
    {
     "data": {
      "text/plain": [
       "<AxesSubplot:>"
      ]
     },
     "execution_count": 31,
     "metadata": {},
     "output_type": "execute_result"
    },
    {
     "data": {
      "image/png": "[encoded data removed]",
      "text/plain": [
       "<Figure size 432x288 with 1 Axes>"
      ]
     },
     "metadata": {
      "needs_background": "light"
     },
     "output_type": "display_data"
    }
   ],
   "source": [
    "data['total_area'].hist(bins=50,range=(500,910))"
   ]
  },
  {
   "cell_type": "markdown",
   "metadata": {},
   "source": [
    "Удалим квартиры больше 500, так как они редки и явно похожи на выброс"
   ]
  },
  {
   "cell_type": "code",
   "execution_count": 32,
   "metadata": {},
   "outputs": [],
   "source": [
    "data = data[data['total_area'] < 510]"
   ]
  },
  {
   "cell_type": "markdown",
   "metadata": {},
   "source": [
    "**2.7 Устраним аномалии в `rooms`**\n",
    "\n",
    "В таблице с общей информацией можно было заметить, что в столбце `rooms`, в минимальном значении, имеется квартира с нулевым количеством комнат. Этого быть не может, т.к. даже самая маленькая студия - это 1комнатная квартира.\n",
    "Также смущает 19 комнат - надо проверить"
   ]
  },
  {
   "cell_type": "code",
   "execution_count": 33,
   "metadata": {},
   "outputs": [
    {
     "data": {
      "image/png": "[encoded data removed]",
      "text/plain": [
       "<Figure size 432x288 with 1 Axes>"
      ]
     },
     "metadata": {
      "needs_background": "light"
     },
     "output_type": "display_data"
    },
    {
     "data": {
      "text/plain": [
       "<AxesSubplot:>"
      ]
     },
     "execution_count": 33,
     "metadata": {},
     "output_type": "execute_result"
    },
    {
     "data": {
      "image/png": "[encoded data removed]",
      "text/plain": [
       "<Figure size 432x288 with 1 Axes>"
      ]
     },
     "metadata": {
      "needs_background": "light"
     },
     "output_type": "display_data"
    }
   ],
   "source": [
    "data['rooms'].hist(bins=100)\n",
    "plt.show()\n",
    "data.boxplot('rooms')"
   ]
  },
  {
   "cell_type": "code",
   "execution_count": 34,
   "metadata": {},
   "outputs": [
    {
     "data": {
      "text/html": [
       "<div>\n",
       "<style scoped>\n",
       "    .dataframe tbody tr th:only-of-type {\n",
       "        vertical-align: middle;\n",
       "    }\n",
       "\n",
       "    .dataframe tbody tr th {\n",
       "        vertical-align: top;\n",
       "    }\n",
       "\n",
       "    .dataframe thead th {\n",
       "        text-align: right;\n",
       "    }\n",
       "</style>\n",
       "<table border=\"1\" class=\"dataframe\">\n",
       "  <thead>\n",
       "    <tr style=\"text-align: right;\">\n",
       "      <th></th>\n",
       "      <th>total_images</th>\n",
       "      <th>last_price</th>\n",
       "      <th>total_area</th>\n",
       "      <th>first_day_exposition</th>\n",
       "      <th>rooms</th>\n",
       "      <th>ceiling_height</th>\n",
       "      <th>floors_total</th>\n",
       "      <th>living_area</th>\n",
       "      <th>floor</th>\n",
       "      <th>is_apartment</th>\n",
       "      <th>...</th>\n",
       "      <th>kitchen_area</th>\n",
       "      <th>balcony</th>\n",
       "      <th>locality_name</th>\n",
       "      <th>airports_nearest</th>\n",
       "      <th>city_centers_nearest</th>\n",
       "      <th>parks_around_3000</th>\n",
       "      <th>parks_nearest</th>\n",
       "      <th>ponds_around_3000</th>\n",
       "      <th>ponds_nearest</th>\n",
       "      <th>days_exposition</th>\n",
       "    </tr>\n",
       "  </thead>\n",
       "  <tbody>\n",
       "    <tr>\n",
       "      <th>52</th>\n",
       "      <td>20</td>\n",
       "      <td>11795000</td>\n",
       "      <td>136</td>\n",
       "      <td>2017-09-22T00:00:00</td>\n",
       "      <td>6</td>\n",
       "      <td>3.00</td>\n",
       "      <td>2.0</td>\n",
       "      <td>94.00</td>\n",
       "      <td>2</td>\n",
       "      <td>False</td>\n",
       "      <td>...</td>\n",
       "      <td>11.0</td>\n",
       "      <td>1</td>\n",
       "      <td>Санкт-Петербург</td>\n",
       "      <td>16510.0</td>\n",
       "      <td>6582.0</td>\n",
       "      <td>1.0</td>\n",
       "      <td>526.0</td>\n",
       "      <td>0.0</td>\n",
       "      <td>NaN</td>\n",
       "      <td>NaN</td>\n",
       "    </tr>\n",
       "    <tr>\n",
       "      <th>201</th>\n",
       "      <td>5</td>\n",
       "      <td>10880000</td>\n",
       "      <td>123</td>\n",
       "      <td>2015-11-12T00:00:00</td>\n",
       "      <td>6</td>\n",
       "      <td>3.20</td>\n",
       "      <td>5.0</td>\n",
       "      <td>89.00</td>\n",
       "      <td>2</td>\n",
       "      <td>False</td>\n",
       "      <td>...</td>\n",
       "      <td>11.0</td>\n",
       "      <td>0</td>\n",
       "      <td>Санкт-Петербург</td>\n",
       "      <td>26009.0</td>\n",
       "      <td>3369.0</td>\n",
       "      <td>2.0</td>\n",
       "      <td>516.0</td>\n",
       "      <td>0.0</td>\n",
       "      <td>NaN</td>\n",
       "      <td>992.0</td>\n",
       "    </tr>\n",
       "    <tr>\n",
       "      <th>464</th>\n",
       "      <td>15</td>\n",
       "      <td>66571000</td>\n",
       "      <td>280</td>\n",
       "      <td>2015-06-11T00:00:00</td>\n",
       "      <td>6</td>\n",
       "      <td>5.20</td>\n",
       "      <td>8.0</td>\n",
       "      <td>159.50</td>\n",
       "      <td>7</td>\n",
       "      <td>False</td>\n",
       "      <td>...</td>\n",
       "      <td>21.1</td>\n",
       "      <td>0</td>\n",
       "      <td>Санкт-Петербург</td>\n",
       "      <td>26316.0</td>\n",
       "      <td>6655.0</td>\n",
       "      <td>3.0</td>\n",
       "      <td>187.0</td>\n",
       "      <td>1.0</td>\n",
       "      <td>616.0</td>\n",
       "      <td>578.0</td>\n",
       "    </tr>\n",
       "    <tr>\n",
       "      <th>509</th>\n",
       "      <td>5</td>\n",
       "      <td>90000000</td>\n",
       "      <td>225</td>\n",
       "      <td>2016-06-26T00:00:00</td>\n",
       "      <td>6</td>\n",
       "      <td>2.65</td>\n",
       "      <td>4.0</td>\n",
       "      <td>134.00</td>\n",
       "      <td>2</td>\n",
       "      <td>False</td>\n",
       "      <td>...</td>\n",
       "      <td>19.5</td>\n",
       "      <td>2</td>\n",
       "      <td>Санкт-Петербург</td>\n",
       "      <td>32864.0</td>\n",
       "      <td>5720.0</td>\n",
       "      <td>0.0</td>\n",
       "      <td>NaN</td>\n",
       "      <td>2.0</td>\n",
       "      <td>519.0</td>\n",
       "      <td>416.0</td>\n",
       "    </tr>\n",
       "    <tr>\n",
       "      <th>581</th>\n",
       "      <td>20</td>\n",
       "      <td>65000000</td>\n",
       "      <td>365</td>\n",
       "      <td>2019-03-18T00:00:00</td>\n",
       "      <td>7</td>\n",
       "      <td>2.90</td>\n",
       "      <td>7.0</td>\n",
       "      <td>NaN</td>\n",
       "      <td>7</td>\n",
       "      <td>False</td>\n",
       "      <td>...</td>\n",
       "      <td>NaN</td>\n",
       "      <td>0</td>\n",
       "      <td>Санкт-Петербург</td>\n",
       "      <td>19827.0</td>\n",
       "      <td>1690.0</td>\n",
       "      <td>3.0</td>\n",
       "      <td>378.0</td>\n",
       "      <td>3.0</td>\n",
       "      <td>58.0</td>\n",
       "      <td>NaN</td>\n",
       "    </tr>\n",
       "    <tr>\n",
       "      <th>...</th>\n",
       "      <td>...</td>\n",
       "      <td>...</td>\n",
       "      <td>...</td>\n",
       "      <td>...</td>\n",
       "      <td>...</td>\n",
       "      <td>...</td>\n",
       "      <td>...</td>\n",
       "      <td>...</td>\n",
       "      <td>...</td>\n",
       "      <td>...</td>\n",
       "      <td>...</td>\n",
       "      <td>...</td>\n",
       "      <td>...</td>\n",
       "      <td>...</td>\n",
       "      <td>...</td>\n",
       "      <td>...</td>\n",
       "      <td>...</td>\n",
       "      <td>...</td>\n",
       "      <td>...</td>\n",
       "      <td>...</td>\n",
       "      <td>...</td>\n",
       "    </tr>\n",
       "    <tr>\n",
       "      <th>23281</th>\n",
       "      <td>20</td>\n",
       "      <td>24800000</td>\n",
       "      <td>231</td>\n",
       "      <td>2015-01-21T00:00:00</td>\n",
       "      <td>6</td>\n",
       "      <td>3.10</td>\n",
       "      <td>5.0</td>\n",
       "      <td>99.80</td>\n",
       "      <td>4</td>\n",
       "      <td>False</td>\n",
       "      <td>...</td>\n",
       "      <td>27.4</td>\n",
       "      <td>0</td>\n",
       "      <td>Санкт-Петербург</td>\n",
       "      <td>21480.0</td>\n",
       "      <td>2453.0</td>\n",
       "      <td>3.0</td>\n",
       "      <td>75.0</td>\n",
       "      <td>1.0</td>\n",
       "      <td>795.0</td>\n",
       "      <td>NaN</td>\n",
       "    </tr>\n",
       "    <tr>\n",
       "      <th>23395</th>\n",
       "      <td>4</td>\n",
       "      <td>40000000</td>\n",
       "      <td>188</td>\n",
       "      <td>2017-05-29T00:00:00</td>\n",
       "      <td>6</td>\n",
       "      <td>2.65</td>\n",
       "      <td>6.0</td>\n",
       "      <td>109.51</td>\n",
       "      <td>4</td>\n",
       "      <td>False</td>\n",
       "      <td>...</td>\n",
       "      <td>31.3</td>\n",
       "      <td>0</td>\n",
       "      <td>Санкт-Петербург</td>\n",
       "      <td>23390.0</td>\n",
       "      <td>2254.0</td>\n",
       "      <td>2.0</td>\n",
       "      <td>425.0</td>\n",
       "      <td>1.0</td>\n",
       "      <td>62.0</td>\n",
       "      <td>30.0</td>\n",
       "    </tr>\n",
       "    <tr>\n",
       "      <th>23400</th>\n",
       "      <td>17</td>\n",
       "      <td>30000000</td>\n",
       "      <td>213</td>\n",
       "      <td>2017-09-28T00:00:00</td>\n",
       "      <td>7</td>\n",
       "      <td>3.40</td>\n",
       "      <td>5.0</td>\n",
       "      <td>151.40</td>\n",
       "      <td>5</td>\n",
       "      <td>False</td>\n",
       "      <td>...</td>\n",
       "      <td>30.8</td>\n",
       "      <td>0</td>\n",
       "      <td>Санкт-Петербург</td>\n",
       "      <td>21146.0</td>\n",
       "      <td>1225.0</td>\n",
       "      <td>2.0</td>\n",
       "      <td>342.0</td>\n",
       "      <td>3.0</td>\n",
       "      <td>30.0</td>\n",
       "      <td>299.0</td>\n",
       "    </tr>\n",
       "    <tr>\n",
       "      <th>23448</th>\n",
       "      <td>3</td>\n",
       "      <td>14700000</td>\n",
       "      <td>180</td>\n",
       "      <td>2018-02-08T00:00:00</td>\n",
       "      <td>6</td>\n",
       "      <td>3.00</td>\n",
       "      <td>6.0</td>\n",
       "      <td>126.00</td>\n",
       "      <td>5</td>\n",
       "      <td>False</td>\n",
       "      <td>...</td>\n",
       "      <td>20.0</td>\n",
       "      <td>0</td>\n",
       "      <td>Санкт-Петербург</td>\n",
       "      <td>23955.0</td>\n",
       "      <td>5089.0</td>\n",
       "      <td>0.0</td>\n",
       "      <td>NaN</td>\n",
       "      <td>2.0</td>\n",
       "      <td>616.0</td>\n",
       "      <td>NaN</td>\n",
       "    </tr>\n",
       "    <tr>\n",
       "      <th>23555</th>\n",
       "      <td>5</td>\n",
       "      <td>15350000</td>\n",
       "      <td>158</td>\n",
       "      <td>2019-03-07T00:00:00</td>\n",
       "      <td>7</td>\n",
       "      <td>2.95</td>\n",
       "      <td>7.0</td>\n",
       "      <td>57.40</td>\n",
       "      <td>7</td>\n",
       "      <td>False</td>\n",
       "      <td>...</td>\n",
       "      <td>12.4</td>\n",
       "      <td>1</td>\n",
       "      <td>Санкт-Петербург</td>\n",
       "      <td>23546.0</td>\n",
       "      <td>3088.0</td>\n",
       "      <td>1.0</td>\n",
       "      <td>347.0</td>\n",
       "      <td>0.0</td>\n",
       "      <td>NaN</td>\n",
       "      <td>NaN</td>\n",
       "    </tr>\n",
       "  </tbody>\n",
       "</table>\n",
       "<p>188 rows × 22 columns</p>\n",
       "</div>"
      ],
      "text/plain": [
       "       total_images  last_price  total_area first_day_exposition  rooms  \\\n",
       "52               20    11795000         136  2017-09-22T00:00:00      6   \n",
       "201               5    10880000         123  2015-11-12T00:00:00      6   \n",
       "464              15    66571000         280  2015-06-11T00:00:00      6   \n",
       "509               5    90000000         225  2016-06-26T00:00:00      6   \n",
       "581              20    65000000         365  2019-03-18T00:00:00      7   \n",
       "...             ...         ...         ...                  ...    ...   \n",
       "23281            20    24800000         231  2015-01-21T00:00:00      6   \n",
       "23395             4    40000000         188  2017-05-29T00:00:00      6   \n",
       "23400            17    30000000         213  2017-09-28T00:00:00      7   \n",
       "23448             3    14700000         180  2018-02-08T00:00:00      6   \n",
       "23555             5    15350000         158  2019-03-07T00:00:00      7   \n",
       "\n",
       "       ceiling_height  floors_total  living_area  floor  is_apartment  ...  \\\n",
       "52               3.00           2.0        94.00      2         False  ...   \n",
       "201              3.20           5.0        89.00      2         False  ...   \n",
       "464              5.20           8.0       159.50      7         False  ...   \n",
       "509              2.65           4.0       134.00      2         False  ...   \n",
       "581              2.90           7.0          NaN      7         False  ...   \n",
       "...               ...           ...          ...    ...           ...  ...   \n",
       "23281            3.10           5.0        99.80      4         False  ...   \n",
       "23395            2.65           6.0       109.51      4         False  ...   \n",
       "23400            3.40           5.0       151.40      5         False  ...   \n",
       "23448            3.00           6.0       126.00      5         False  ...   \n",
       "23555            2.95           7.0        57.40      7         False  ...   \n",
       "\n",
       "       kitchen_area  balcony    locality_name  airports_nearest  \\\n",
       "52             11.0        1  Санкт-Петербург           16510.0   \n",
       "201            11.0        0  Санкт-Петербург           26009.0   \n",
       "464            21.1        0  Санкт-Петербург           26316.0   \n",
       "509            19.5        2  Санкт-Петербург           32864.0   \n",
       "581             NaN        0  Санкт-Петербург           19827.0   \n",
       "...             ...      ...              ...               ...   \n",
       "23281          27.4        0  Санкт-Петербург           21480.0   \n",
       "23395          31.3        0  Санкт-Петербург           23390.0   \n",
       "23400          30.8        0  Санкт-Петербург           21146.0   \n",
       "23448          20.0        0  Санкт-Петербург           23955.0   \n",
       "23555          12.4        1  Санкт-Петербург           23546.0   \n",
       "\n",
       "      city_centers_nearest  parks_around_3000  parks_nearest  \\\n",
       "52                  6582.0                1.0          526.0   \n",
       "201                 3369.0                2.0          516.0   \n",
       "464                 6655.0                3.0          187.0   \n",
       "509                 5720.0                0.0            NaN   \n",
       "581                 1690.0                3.0          378.0   \n",
       "...                    ...                ...            ...   \n",
       "23281               2453.0                3.0           75.0   \n",
       "23395               2254.0                2.0          425.0   \n",
       "23400               1225.0                2.0          342.0   \n",
       "23448               5089.0                0.0            NaN   \n",
       "23555               3088.0                1.0          347.0   \n",
       "\n",
       "       ponds_around_3000  ponds_nearest  days_exposition  \n",
       "52                   0.0            NaN              NaN  \n",
       "201                  0.0            NaN            992.0  \n",
       "464                  1.0          616.0            578.0  \n",
       "509                  2.0          519.0            416.0  \n",
       "581                  3.0           58.0              NaN  \n",
       "...                  ...            ...              ...  \n",
       "23281                1.0          795.0              NaN  \n",
       "23395                1.0           62.0             30.0  \n",
       "23400                3.0           30.0            299.0  \n",
       "23448                2.0          616.0              NaN  \n",
       "23555                0.0            NaN              NaN  \n",
       "\n",
       "[188 rows x 22 columns]"
      ]
     },
     "execution_count": 34,
     "metadata": {},
     "output_type": "execute_result"
    }
   ],
   "source": [
    "data.query('rooms > 5')"
   ]
  },
  {
   "cell_type": "markdown",
   "metadata": {},
   "source": [
    "Как видим, квартиры, в которым больше 5 комнат, можно отнести к редкими выбросами. В дальнейшем, они могут исказить исследования, потому удалим их"
   ]
  },
  {
   "cell_type": "code",
   "execution_count": 35,
   "metadata": {},
   "outputs": [],
   "source": [
    "data= data[data['rooms'] < 6]"
   ]
  },
  {
   "cell_type": "code",
   "execution_count": 36,
   "metadata": {},
   "outputs": [
    {
     "data": {
      "text/html": [
       "<div>\n",
       "<style scoped>\n",
       "    .dataframe tbody tr th:only-of-type {\n",
       "        vertical-align: middle;\n",
       "    }\n",
       "\n",
       "    .dataframe tbody tr th {\n",
       "        vertical-align: top;\n",
       "    }\n",
       "\n",
       "    .dataframe thead th {\n",
       "        text-align: right;\n",
       "    }\n",
       "</style>\n",
       "<table border=\"1\" class=\"dataframe\">\n",
       "  <thead>\n",
       "    <tr style=\"text-align: right;\">\n",
       "      <th></th>\n",
       "      <th>total_images</th>\n",
       "      <th>last_price</th>\n",
       "      <th>total_area</th>\n",
       "      <th>first_day_exposition</th>\n",
       "      <th>rooms</th>\n",
       "      <th>ceiling_height</th>\n",
       "      <th>floors_total</th>\n",
       "      <th>living_area</th>\n",
       "      <th>floor</th>\n",
       "      <th>is_apartment</th>\n",
       "      <th>...</th>\n",
       "      <th>kitchen_area</th>\n",
       "      <th>balcony</th>\n",
       "      <th>locality_name</th>\n",
       "      <th>airports_nearest</th>\n",
       "      <th>city_centers_nearest</th>\n",
       "      <th>parks_around_3000</th>\n",
       "      <th>parks_nearest</th>\n",
       "      <th>ponds_around_3000</th>\n",
       "      <th>ponds_nearest</th>\n",
       "      <th>days_exposition</th>\n",
       "    </tr>\n",
       "  </thead>\n",
       "  <tbody>\n",
       "    <tr>\n",
       "      <th>144</th>\n",
       "      <td>1</td>\n",
       "      <td>2450000</td>\n",
       "      <td>27</td>\n",
       "      <td>2017-03-30T00:00:00</td>\n",
       "      <td>0</td>\n",
       "      <td>2.65</td>\n",
       "      <td>24.0</td>\n",
       "      <td>15.50</td>\n",
       "      <td>2</td>\n",
       "      <td>False</td>\n",
       "      <td>...</td>\n",
       "      <td>NaN</td>\n",
       "      <td>2</td>\n",
       "      <td>Мурино</td>\n",
       "      <td>NaN</td>\n",
       "      <td>NaN</td>\n",
       "      <td>NaN</td>\n",
       "      <td>NaN</td>\n",
       "      <td>NaN</td>\n",
       "      <td>NaN</td>\n",
       "      <td>181.0</td>\n",
       "    </tr>\n",
       "    <tr>\n",
       "      <th>349</th>\n",
       "      <td>4</td>\n",
       "      <td>2320000</td>\n",
       "      <td>25</td>\n",
       "      <td>2017-09-27T00:00:00</td>\n",
       "      <td>0</td>\n",
       "      <td>2.65</td>\n",
       "      <td>14.0</td>\n",
       "      <td>17.00</td>\n",
       "      <td>1</td>\n",
       "      <td>False</td>\n",
       "      <td>...</td>\n",
       "      <td>NaN</td>\n",
       "      <td>0</td>\n",
       "      <td>Кудрово</td>\n",
       "      <td>NaN</td>\n",
       "      <td>NaN</td>\n",
       "      <td>NaN</td>\n",
       "      <td>NaN</td>\n",
       "      <td>NaN</td>\n",
       "      <td>NaN</td>\n",
       "      <td>45.0</td>\n",
       "    </tr>\n",
       "    <tr>\n",
       "      <th>440</th>\n",
       "      <td>8</td>\n",
       "      <td>2480000</td>\n",
       "      <td>27</td>\n",
       "      <td>2018-03-12T00:00:00</td>\n",
       "      <td>0</td>\n",
       "      <td>2.65</td>\n",
       "      <td>17.0</td>\n",
       "      <td>24.75</td>\n",
       "      <td>4</td>\n",
       "      <td>False</td>\n",
       "      <td>...</td>\n",
       "      <td>NaN</td>\n",
       "      <td>2</td>\n",
       "      <td>Санкт-Петербург</td>\n",
       "      <td>38171.0</td>\n",
       "      <td>15015.0</td>\n",
       "      <td>0.0</td>\n",
       "      <td>NaN</td>\n",
       "      <td>2.0</td>\n",
       "      <td>982.0</td>\n",
       "      <td>64.0</td>\n",
       "    </tr>\n",
       "    <tr>\n",
       "      <th>508</th>\n",
       "      <td>0</td>\n",
       "      <td>3375000</td>\n",
       "      <td>34</td>\n",
       "      <td>2017-03-28T00:00:00</td>\n",
       "      <td>0</td>\n",
       "      <td>2.65</td>\n",
       "      <td>26.0</td>\n",
       "      <td>24.30</td>\n",
       "      <td>19</td>\n",
       "      <td>False</td>\n",
       "      <td>...</td>\n",
       "      <td>NaN</td>\n",
       "      <td>1</td>\n",
       "      <td>Парголово</td>\n",
       "      <td>53115.0</td>\n",
       "      <td>19292.0</td>\n",
       "      <td>0.0</td>\n",
       "      <td>NaN</td>\n",
       "      <td>1.0</td>\n",
       "      <td>593.0</td>\n",
       "      <td>430.0</td>\n",
       "    </tr>\n",
       "    <tr>\n",
       "      <th>608</th>\n",
       "      <td>2</td>\n",
       "      <td>1850000</td>\n",
       "      <td>25</td>\n",
       "      <td>2019-02-20T00:00:00</td>\n",
       "      <td>0</td>\n",
       "      <td>2.65</td>\n",
       "      <td>10.0</td>\n",
       "      <td>NaN</td>\n",
       "      <td>7</td>\n",
       "      <td>False</td>\n",
       "      <td>...</td>\n",
       "      <td>NaN</td>\n",
       "      <td>0</td>\n",
       "      <td>Шушары</td>\n",
       "      <td>NaN</td>\n",
       "      <td>NaN</td>\n",
       "      <td>NaN</td>\n",
       "      <td>NaN</td>\n",
       "      <td>NaN</td>\n",
       "      <td>NaN</td>\n",
       "      <td>29.0</td>\n",
       "    </tr>\n",
       "    <tr>\n",
       "      <th>...</th>\n",
       "      <td>...</td>\n",
       "      <td>...</td>\n",
       "      <td>...</td>\n",
       "      <td>...</td>\n",
       "      <td>...</td>\n",
       "      <td>...</td>\n",
       "      <td>...</td>\n",
       "      <td>...</td>\n",
       "      <td>...</td>\n",
       "      <td>...</td>\n",
       "      <td>...</td>\n",
       "      <td>...</td>\n",
       "      <td>...</td>\n",
       "      <td>...</td>\n",
       "      <td>...</td>\n",
       "      <td>...</td>\n",
       "      <td>...</td>\n",
       "      <td>...</td>\n",
       "      <td>...</td>\n",
       "      <td>...</td>\n",
       "      <td>...</td>\n",
       "    </tr>\n",
       "    <tr>\n",
       "      <th>23210</th>\n",
       "      <td>7</td>\n",
       "      <td>3200000</td>\n",
       "      <td>26</td>\n",
       "      <td>2017-09-01T00:00:00</td>\n",
       "      <td>0</td>\n",
       "      <td>2.65</td>\n",
       "      <td>25.0</td>\n",
       "      <td>18.00</td>\n",
       "      <td>16</td>\n",
       "      <td>False</td>\n",
       "      <td>...</td>\n",
       "      <td>NaN</td>\n",
       "      <td>0</td>\n",
       "      <td>Санкт-Петербург</td>\n",
       "      <td>11405.0</td>\n",
       "      <td>13222.0</td>\n",
       "      <td>0.0</td>\n",
       "      <td>NaN</td>\n",
       "      <td>1.0</td>\n",
       "      <td>623.0</td>\n",
       "      <td>14.0</td>\n",
       "    </tr>\n",
       "    <tr>\n",
       "      <th>23442</th>\n",
       "      <td>0</td>\n",
       "      <td>2500000</td>\n",
       "      <td>27</td>\n",
       "      <td>2017-09-28T00:00:00</td>\n",
       "      <td>0</td>\n",
       "      <td>2.65</td>\n",
       "      <td>24.0</td>\n",
       "      <td>18.00</td>\n",
       "      <td>4</td>\n",
       "      <td>False</td>\n",
       "      <td>...</td>\n",
       "      <td>NaN</td>\n",
       "      <td>2</td>\n",
       "      <td>Мурино</td>\n",
       "      <td>NaN</td>\n",
       "      <td>NaN</td>\n",
       "      <td>NaN</td>\n",
       "      <td>NaN</td>\n",
       "      <td>NaN</td>\n",
       "      <td>NaN</td>\n",
       "      <td>4.0</td>\n",
       "    </tr>\n",
       "    <tr>\n",
       "      <th>23554</th>\n",
       "      <td>15</td>\n",
       "      <td>3350000</td>\n",
       "      <td>26</td>\n",
       "      <td>2018-09-07T00:00:00</td>\n",
       "      <td>0</td>\n",
       "      <td>2.65</td>\n",
       "      <td>19.0</td>\n",
       "      <td>NaN</td>\n",
       "      <td>8</td>\n",
       "      <td>False</td>\n",
       "      <td>...</td>\n",
       "      <td>NaN</td>\n",
       "      <td>0</td>\n",
       "      <td>Санкт-Петербург</td>\n",
       "      <td>18090.0</td>\n",
       "      <td>17092.0</td>\n",
       "      <td>0.0</td>\n",
       "      <td>NaN</td>\n",
       "      <td>2.0</td>\n",
       "      <td>112.0</td>\n",
       "      <td>31.0</td>\n",
       "    </tr>\n",
       "    <tr>\n",
       "      <th>23592</th>\n",
       "      <td>10</td>\n",
       "      <td>1450000</td>\n",
       "      <td>29</td>\n",
       "      <td>2017-11-11T00:00:00</td>\n",
       "      <td>0</td>\n",
       "      <td>2.65</td>\n",
       "      <td>9.0</td>\n",
       "      <td>18.00</td>\n",
       "      <td>8</td>\n",
       "      <td>False</td>\n",
       "      <td>...</td>\n",
       "      <td>NaN</td>\n",
       "      <td>2</td>\n",
       "      <td>Никольское</td>\n",
       "      <td>NaN</td>\n",
       "      <td>NaN</td>\n",
       "      <td>NaN</td>\n",
       "      <td>NaN</td>\n",
       "      <td>NaN</td>\n",
       "      <td>NaN</td>\n",
       "      <td>82.0</td>\n",
       "    </tr>\n",
       "    <tr>\n",
       "      <th>23637</th>\n",
       "      <td>8</td>\n",
       "      <td>2350000</td>\n",
       "      <td>26</td>\n",
       "      <td>2018-06-26T00:00:00</td>\n",
       "      <td>0</td>\n",
       "      <td>2.65</td>\n",
       "      <td>25.0</td>\n",
       "      <td>17.00</td>\n",
       "      <td>4</td>\n",
       "      <td>False</td>\n",
       "      <td>...</td>\n",
       "      <td>NaN</td>\n",
       "      <td>2</td>\n",
       "      <td>Бугры</td>\n",
       "      <td>NaN</td>\n",
       "      <td>NaN</td>\n",
       "      <td>NaN</td>\n",
       "      <td>NaN</td>\n",
       "      <td>NaN</td>\n",
       "      <td>NaN</td>\n",
       "      <td>207.0</td>\n",
       "    </tr>\n",
       "  </tbody>\n",
       "</table>\n",
       "<p>194 rows × 22 columns</p>\n",
       "</div>"
      ],
      "text/plain": [
       "       total_images  last_price  total_area first_day_exposition  rooms  \\\n",
       "144               1     2450000          27  2017-03-30T00:00:00      0   \n",
       "349               4     2320000          25  2017-09-27T00:00:00      0   \n",
       "440               8     2480000          27  2018-03-12T00:00:00      0   \n",
       "508               0     3375000          34  2017-03-28T00:00:00      0   \n",
       "608               2     1850000          25  2019-02-20T00:00:00      0   \n",
       "...             ...         ...         ...                  ...    ...   \n",
       "23210             7     3200000          26  2017-09-01T00:00:00      0   \n",
       "23442             0     2500000          27  2017-09-28T00:00:00      0   \n",
       "23554            15     3350000          26  2018-09-07T00:00:00      0   \n",
       "23592            10     1450000          29  2017-11-11T00:00:00      0   \n",
       "23637             8     2350000          26  2018-06-26T00:00:00      0   \n",
       "\n",
       "       ceiling_height  floors_total  living_area  floor  is_apartment  ...  \\\n",
       "144              2.65          24.0        15.50      2         False  ...   \n",
       "349              2.65          14.0        17.00      1         False  ...   \n",
       "440              2.65          17.0        24.75      4         False  ...   \n",
       "508              2.65          26.0        24.30     19         False  ...   \n",
       "608              2.65          10.0          NaN      7         False  ...   \n",
       "...               ...           ...          ...    ...           ...  ...   \n",
       "23210            2.65          25.0        18.00     16         False  ...   \n",
       "23442            2.65          24.0        18.00      4         False  ...   \n",
       "23554            2.65          19.0          NaN      8         False  ...   \n",
       "23592            2.65           9.0        18.00      8         False  ...   \n",
       "23637            2.65          25.0        17.00      4         False  ...   \n",
       "\n",
       "       kitchen_area  balcony    locality_name  airports_nearest  \\\n",
       "144             NaN        2           Мурино               NaN   \n",
       "349             NaN        0          Кудрово               NaN   \n",
       "440             NaN        2  Санкт-Петербург           38171.0   \n",
       "508             NaN        1        Парголово           53115.0   \n",
       "608             NaN        0           Шушары               NaN   \n",
       "...             ...      ...              ...               ...   \n",
       "23210           NaN        0  Санкт-Петербург           11405.0   \n",
       "23442           NaN        2           Мурино               NaN   \n",
       "23554           NaN        0  Санкт-Петербург           18090.0   \n",
       "23592           NaN        2       Никольское               NaN   \n",
       "23637           NaN        2            Бугры               NaN   \n",
       "\n",
       "      city_centers_nearest  parks_around_3000  parks_nearest  \\\n",
       "144                    NaN                NaN            NaN   \n",
       "349                    NaN                NaN            NaN   \n",
       "440                15015.0                0.0            NaN   \n",
       "508                19292.0                0.0            NaN   \n",
       "608                    NaN                NaN            NaN   \n",
       "...                    ...                ...            ...   \n",
       "23210              13222.0                0.0            NaN   \n",
       "23442                  NaN                NaN            NaN   \n",
       "23554              17092.0                0.0            NaN   \n",
       "23592                  NaN                NaN            NaN   \n",
       "23637                  NaN                NaN            NaN   \n",
       "\n",
       "       ponds_around_3000  ponds_nearest  days_exposition  \n",
       "144                  NaN            NaN            181.0  \n",
       "349                  NaN            NaN             45.0  \n",
       "440                  2.0          982.0             64.0  \n",
       "508                  1.0          593.0            430.0  \n",
       "608                  NaN            NaN             29.0  \n",
       "...                  ...            ...              ...  \n",
       "23210                1.0          623.0             14.0  \n",
       "23442                NaN            NaN              4.0  \n",
       "23554                2.0          112.0             31.0  \n",
       "23592                NaN            NaN             82.0  \n",
       "23637                NaN            NaN            207.0  \n",
       "\n",
       "[194 rows x 22 columns]"
      ]
     },
     "execution_count": 36,
     "metadata": {},
     "output_type": "execute_result"
    }
   ],
   "source": [
    "data[data['rooms'] < 1]"
   ]
  },
  {
   "cell_type": "markdown",
   "metadata": {},
   "source": [
    "**2.7.1. Посмотрим максимальную площадь этих квартир.**"
   ]
  },
  {
   "cell_type": "code",
   "execution_count": 37,
   "metadata": {},
   "outputs": [
    {
     "data": {
      "text/plain": [
       "count    194.000000\n",
       "mean      29.123711\n",
       "std       26.060415\n",
       "min       15.000000\n",
       "25%       24.000000\n",
       "50%       26.000000\n",
       "75%       28.000000\n",
       "max      371.000000\n",
       "Name: total_area, dtype: float64"
      ]
     },
     "execution_count": 37,
     "metadata": {},
     "output_type": "execute_result"
    }
   ],
   "source": [
    "data[data['rooms'] <1]['total_area'].describe()"
   ]
  },
  {
   "cell_type": "markdown",
   "metadata": {},
   "source": [
    "**2.7.2 Как мы видим, разброс по площади таких квартир велик.**\n",
    "\n",
    "Можно перепроверить каждое аномальное значение, изменить 0 на медианы по количеству комнат.\n",
    "\n",
    "ОДнако, это больше исказит данные, нежели удаление менее 1% некорректных данных.\n",
    "\n",
    "Потому, эти 194 строки удалим.\n"
   ]
  },
  {
   "cell_type": "code",
   "execution_count": 38,
   "metadata": {},
   "outputs": [],
   "source": [
    "data = data[data['rooms'] >=1]"
   ]
  },
  {
   "cell_type": "markdown",
   "metadata": {},
   "source": [
    "**2.8 Заполним пропуски в столбце `living_area`**"
   ]
  },
  {
   "cell_type": "markdown",
   "metadata": {},
   "source": [
    "Есть предположение, что жилая площадь может зависеть либо от  количества комнат.\n",
    "\n",
    "Потому проверим корреляцию."
   ]
  },
  {
   "cell_type": "code",
   "execution_count": 39,
   "metadata": {},
   "outputs": [
    {
     "data": {
      "text/plain": [
       "0.8412838315406808"
      ]
     },
     "execution_count": 39,
     "metadata": {},
     "output_type": "execute_result"
    }
   ],
   "source": [
    "data['living_area'].corr(data['rooms'])"
   ]
  },
  {
   "cell_type": "markdown",
   "metadata": {},
   "source": [
    "Как видим, зависимость высока потому заполним по среднему значению относительно количества комнат"
   ]
  },
  {
   "cell_type": "markdown",
   "metadata": {},
   "source": [
    "**2.8.1 Заполним пропуски медианами**"
   ]
  },
  {
   "cell_type": "code",
   "execution_count": 40,
   "metadata": {},
   "outputs": [
    {
     "data": {
      "text/html": [
       "<div>\n",
       "<style scoped>\n",
       "    .dataframe tbody tr th:only-of-type {\n",
       "        vertical-align: middle;\n",
       "    }\n",
       "\n",
       "    .dataframe tbody tr th {\n",
       "        vertical-align: top;\n",
       "    }\n",
       "\n",
       "    .dataframe thead th {\n",
       "        text-align: right;\n",
       "    }\n",
       "</style>\n",
       "<table border=\"1\" class=\"dataframe\">\n",
       "  <thead>\n",
       "    <tr style=\"text-align: right;\">\n",
       "      <th></th>\n",
       "      <th>median</th>\n",
       "    </tr>\n",
       "    <tr>\n",
       "      <th>rooms</th>\n",
       "      <th></th>\n",
       "    </tr>\n",
       "  </thead>\n",
       "  <tbody>\n",
       "    <tr>\n",
       "      <th>1</th>\n",
       "      <td>17.600</td>\n",
       "    </tr>\n",
       "    <tr>\n",
       "      <th>2</th>\n",
       "      <td>30.500</td>\n",
       "    </tr>\n",
       "    <tr>\n",
       "      <th>3</th>\n",
       "      <td>45.000</td>\n",
       "    </tr>\n",
       "    <tr>\n",
       "      <th>4</th>\n",
       "      <td>63.650</td>\n",
       "    </tr>\n",
       "    <tr>\n",
       "      <th>5</th>\n",
       "      <td>91.785</td>\n",
       "    </tr>\n",
       "  </tbody>\n",
       "</table>\n",
       "</div>"
      ],
      "text/plain": [
       "       median\n",
       "rooms        \n",
       "1      17.600\n",
       "2      30.500\n",
       "3      45.000\n",
       "4      63.650\n",
       "5      91.785"
      ]
     },
     "execution_count": 40,
     "metadata": {},
     "output_type": "execute_result"
    }
   ],
   "source": [
    "rooms_pivot = data.pivot_table(index='rooms', values='living_area', aggfunc=['median'])\n",
    "rooms_pivot.columns = ['median']\n",
    "rooms_pivot"
   ]
  },
  {
   "cell_type": "code",
   "execution_count": 41,
   "metadata": {},
   "outputs": [],
   "source": [
    "def data_replace(data, data_pivot,column1,column2):\n",
    "    \n",
    "    for column, value in data_pivot['median'].items(): \n",
    "        data.loc[(data.loc[:,column1]== column) &(data.loc[:, column2].isnull()), column2] = value"
   ]
  },
  {
   "cell_type": "markdown",
   "metadata": {},
   "source": []
  },
  {
   "cell_type": "code",
   "execution_count": 42,
   "metadata": {},
   "outputs": [],
   "source": [
    "data_replace(data, rooms_pivot,'rooms','living_area')  "
   ]
  },
  {
   "cell_type": "code",
   "execution_count": 43,
   "metadata": {},
   "outputs": [
    {
     "data": {
      "text/plain": [
       "total_images                0\n",
       "last_price                  0\n",
       "total_area                  0\n",
       "first_day_exposition        0\n",
       "rooms                       0\n",
       "ceiling_height              0\n",
       "floors_total                0\n",
       "living_area                 0\n",
       "floor                       0\n",
       "is_apartment                0\n",
       "studio                      0\n",
       "open_plan                   0\n",
       "kitchen_area             2009\n",
       "balcony                     0\n",
       "locality_name               0\n",
       "airports_nearest         5441\n",
       "city_centers_nearest     5419\n",
       "parks_around_3000        5418\n",
       "parks_nearest           15303\n",
       "ponds_around_3000        5418\n",
       "ponds_nearest           14336\n",
       "days_exposition          3099\n",
       "dtype: int64"
      ]
     },
     "execution_count": 43,
     "metadata": {},
     "output_type": "execute_result"
    }
   ],
   "source": [
    "data.isna().sum()"
   ]
  },
  {
   "cell_type": "markdown",
   "metadata": {},
   "source": [
    "**2.9 Заполним пропуски в `kitchen_area`**\n",
    "\n",
    "Пример с квартирой в 900 кв.м показывает, что и кухни могут быть огромными.\n",
    "Потому не будем обращать внимание на выдающиеся значения и заполним пропуски мадианами.\n",
    "Сами же пропуски, скорее всего, из за этоо и появились - кухня обычная - незачем ее указывать"
   ]
  },
  {
   "cell_type": "markdown",
   "metadata": {},
   "source": [
    "**2.9.1 Проверим, зависит ли размер кухни от общей площади**"
   ]
  },
  {
   "cell_type": "code",
   "execution_count": 44,
   "metadata": {},
   "outputs": [
    {
     "data": {
      "text/plain": [
       "0.5955448022727534"
      ]
     },
     "execution_count": 44,
     "metadata": {},
     "output_type": "execute_result"
    }
   ],
   "source": [
    "data['kitchen_area'].corr(data['total_area'])"
   ]
  },
  {
   "cell_type": "markdown",
   "metadata": {},
   "source": [
    "**2.9.2 Зависимость небольшая, потому не будем обращать на нее внимание и заполним общей медианой**"
   ]
  },
  {
   "cell_type": "code",
   "execution_count": 45,
   "metadata": {},
   "outputs": [],
   "source": [
    "data['kitchen_area'] = data['kitchen_area'].fillna(data['kitchen_area'].median())"
   ]
  },
  {
   "cell_type": "markdown",
   "metadata": {},
   "source": [
    "**2.10 Заполним пропуски в `airports_nearest`**"
   ]
  },
  {
   "cell_type": "markdown",
   "metadata": {},
   "source": [
    "**2.10.1 Для заполнения пропусков так же сгруппируем по городам и подставим медианы**"
   ]
  },
  {
   "cell_type": "code",
   "execution_count": 46,
   "metadata": {},
   "outputs": [
    {
     "data": {
      "text/html": [
       "<div>\n",
       "<style scoped>\n",
       "    .dataframe tbody tr th:only-of-type {\n",
       "        vertical-align: middle;\n",
       "    }\n",
       "\n",
       "    .dataframe tbody tr th {\n",
       "        vertical-align: top;\n",
       "    }\n",
       "\n",
       "    .dataframe thead th {\n",
       "        text-align: right;\n",
       "    }\n",
       "</style>\n",
       "<table border=\"1\" class=\"dataframe\">\n",
       "  <thead>\n",
       "    <tr style=\"text-align: right;\">\n",
       "      <th></th>\n",
       "      <th>median</th>\n",
       "    </tr>\n",
       "    <tr>\n",
       "      <th>locality_name</th>\n",
       "      <th></th>\n",
       "    </tr>\n",
       "  </thead>\n",
       "  <tbody>\n",
       "    <tr>\n",
       "      <th>Александровская</th>\n",
       "      <td>12896.5</td>\n",
       "    </tr>\n",
       "    <tr>\n",
       "      <th>Белоостров</th>\n",
       "      <td>57769.0</td>\n",
       "    </tr>\n",
       "    <tr>\n",
       "      <th>Зеленогорск</th>\n",
       "      <td>72282.0</td>\n",
       "    </tr>\n",
       "    <tr>\n",
       "      <th>Колпино</th>\n",
       "      <td>26232.0</td>\n",
       "    </tr>\n",
       "    <tr>\n",
       "      <th>Красное Село</th>\n",
       "      <td>25717.0</td>\n",
       "    </tr>\n",
       "    <tr>\n",
       "      <th>Кронштадт</th>\n",
       "      <td>67872.5</td>\n",
       "    </tr>\n",
       "    <tr>\n",
       "      <th>Левашово</th>\n",
       "      <td>52693.0</td>\n",
       "    </tr>\n",
       "    <tr>\n",
       "      <th>Лисий Нос</th>\n",
       "      <td>55909.0</td>\n",
       "    </tr>\n",
       "    <tr>\n",
       "      <th>Ломоносов</th>\n",
       "      <td>48415.5</td>\n",
       "    </tr>\n",
       "    <tr>\n",
       "      <th>Металлострой</th>\n",
       "      <td>25758.0</td>\n",
       "    </tr>\n",
       "    <tr>\n",
       "      <th>Молодёжное</th>\n",
       "      <td>84665.0</td>\n",
       "    </tr>\n",
       "    <tr>\n",
       "      <th>Павловск</th>\n",
       "      <td>20502.0</td>\n",
       "    </tr>\n",
       "    <tr>\n",
       "      <th>Парголово</th>\n",
       "      <td>53426.0</td>\n",
       "    </tr>\n",
       "    <tr>\n",
       "      <th>Песочный</th>\n",
       "      <td>54831.5</td>\n",
       "    </tr>\n",
       "    <tr>\n",
       "      <th>Петергоф</th>\n",
       "      <td>39231.0</td>\n",
       "    </tr>\n",
       "    <tr>\n",
       "      <th>Понтонный</th>\n",
       "      <td>30642.0</td>\n",
       "    </tr>\n",
       "    <tr>\n",
       "      <th>Пушкин</th>\n",
       "      <td>15766.0</td>\n",
       "    </tr>\n",
       "    <tr>\n",
       "      <th>Репино</th>\n",
       "      <td>61797.5</td>\n",
       "    </tr>\n",
       "    <tr>\n",
       "      <th>Санкт-Петербург</th>\n",
       "      <td>26933.0</td>\n",
       "    </tr>\n",
       "    <tr>\n",
       "      <th>Сапёрный</th>\n",
       "      <td>34147.5</td>\n",
       "    </tr>\n",
       "    <tr>\n",
       "      <th>Сестрорецк</th>\n",
       "      <td>56692.0</td>\n",
       "    </tr>\n",
       "    <tr>\n",
       "      <th>Стрельна</th>\n",
       "      <td>28317.0</td>\n",
       "    </tr>\n",
       "    <tr>\n",
       "      <th>Усть-Ижора</th>\n",
       "      <td>26510.5</td>\n",
       "    </tr>\n",
       "    <tr>\n",
       "      <th>Шушары</th>\n",
       "      <td>17429.0</td>\n",
       "    </tr>\n",
       "  </tbody>\n",
       "</table>\n",
       "</div>"
      ],
      "text/plain": [
       "                  median\n",
       "locality_name           \n",
       "Александровская  12896.5\n",
       "Белоостров       57769.0\n",
       "Зеленогорск      72282.0\n",
       "Колпино          26232.0\n",
       "Красное Село     25717.0\n",
       "Кронштадт        67872.5\n",
       "Левашово         52693.0\n",
       "Лисий Нос        55909.0\n",
       "Ломоносов        48415.5\n",
       "Металлострой     25758.0\n",
       "Молодёжное       84665.0\n",
       "Павловск         20502.0\n",
       "Парголово        53426.0\n",
       "Песочный         54831.5\n",
       "Петергоф         39231.0\n",
       "Понтонный        30642.0\n",
       "Пушкин           15766.0\n",
       "Репино           61797.5\n",
       "Санкт-Петербург  26933.0\n",
       "Сапёрный         34147.5\n",
       "Сестрорецк       56692.0\n",
       "Стрельна         28317.0\n",
       "Усть-Ижора       26510.5\n",
       "Шушары           17429.0"
      ]
     },
     "execution_count": 46,
     "metadata": {},
     "output_type": "execute_result"
    }
   ],
   "source": [
    "airports_nearest_pivot = data.pivot_table(index='locality_name', values='airports_nearest', aggfunc=['median'])\n",
    "airports_nearest_pivot.columns = ['median']\n",
    "airports_nearest_pivot"
   ]
  },
  {
   "cell_type": "code",
   "execution_count": 47,
   "metadata": {},
   "outputs": [],
   "source": [
    "data_replace(data, rooms_pivot,'locality_name','airports_nearest')  "
   ]
  },
  {
   "cell_type": "markdown",
   "metadata": {},
   "source": [
    "**2.11 Заполним пропуски в `city_centers_nearest`, повторив шаги с `airports_nearest`**"
   ]
  },
  {
   "cell_type": "code",
   "execution_count": 48,
   "metadata": {},
   "outputs": [
    {
     "data": {
      "text/html": [
       "<div>\n",
       "<style scoped>\n",
       "    .dataframe tbody tr th:only-of-type {\n",
       "        vertical-align: middle;\n",
       "    }\n",
       "\n",
       "    .dataframe tbody tr th {\n",
       "        vertical-align: top;\n",
       "    }\n",
       "\n",
       "    .dataframe thead th {\n",
       "        text-align: right;\n",
       "    }\n",
       "</style>\n",
       "<table border=\"1\" class=\"dataframe\">\n",
       "  <thead>\n",
       "    <tr style=\"text-align: right;\">\n",
       "      <th></th>\n",
       "      <th>median</th>\n",
       "    </tr>\n",
       "    <tr>\n",
       "      <th>locality_name</th>\n",
       "      <th></th>\n",
       "    </tr>\n",
       "  </thead>\n",
       "  <tbody>\n",
       "    <tr>\n",
       "      <th>Александровская</th>\n",
       "      <td>27468.0</td>\n",
       "    </tr>\n",
       "    <tr>\n",
       "      <th>Белоостров</th>\n",
       "      <td>38868.0</td>\n",
       "    </tr>\n",
       "    <tr>\n",
       "      <th>Зеленогорск</th>\n",
       "      <td>53381.0</td>\n",
       "    </tr>\n",
       "    <tr>\n",
       "      <th>Колпино</th>\n",
       "      <td>32018.0</td>\n",
       "    </tr>\n",
       "    <tr>\n",
       "      <th>Красное Село</th>\n",
       "      <td>29142.0</td>\n",
       "    </tr>\n",
       "    <tr>\n",
       "      <th>Кронштадт</th>\n",
       "      <td>49597.5</td>\n",
       "    </tr>\n",
       "    <tr>\n",
       "      <th>Левашово</th>\n",
       "      <td>25727.0</td>\n",
       "    </tr>\n",
       "    <tr>\n",
       "      <th>Лисий Нос</th>\n",
       "      <td>28226.0</td>\n",
       "    </tr>\n",
       "    <tr>\n",
       "      <th>Ломоносов</th>\n",
       "      <td>51677.0</td>\n",
       "    </tr>\n",
       "    <tr>\n",
       "      <th>Металлострой</th>\n",
       "      <td>27602.0</td>\n",
       "    </tr>\n",
       "    <tr>\n",
       "      <th>Молодёжное</th>\n",
       "      <td>65764.0</td>\n",
       "    </tr>\n",
       "    <tr>\n",
       "      <th>Павловск</th>\n",
       "      <td>32655.0</td>\n",
       "    </tr>\n",
       "    <tr>\n",
       "      <th>Парголово</th>\n",
       "      <td>19318.0</td>\n",
       "    </tr>\n",
       "    <tr>\n",
       "      <th>Песочный</th>\n",
       "      <td>26099.5</td>\n",
       "    </tr>\n",
       "    <tr>\n",
       "      <th>Петергоф</th>\n",
       "      <td>33771.0</td>\n",
       "    </tr>\n",
       "    <tr>\n",
       "      <th>Понтонный</th>\n",
       "      <td>32354.0</td>\n",
       "    </tr>\n",
       "    <tr>\n",
       "      <th>Пушкин</th>\n",
       "      <td>27920.0</td>\n",
       "    </tr>\n",
       "    <tr>\n",
       "      <th>Репино</th>\n",
       "      <td>42896.5</td>\n",
       "    </tr>\n",
       "    <tr>\n",
       "      <th>Санкт-Петербург</th>\n",
       "      <td>12273.0</td>\n",
       "    </tr>\n",
       "    <tr>\n",
       "      <th>Сапёрный</th>\n",
       "      <td>35859.5</td>\n",
       "    </tr>\n",
       "    <tr>\n",
       "      <th>Сестрорецк</th>\n",
       "      <td>34821.0</td>\n",
       "    </tr>\n",
       "    <tr>\n",
       "      <th>Стрельна</th>\n",
       "      <td>23506.0</td>\n",
       "    </tr>\n",
       "    <tr>\n",
       "      <th>Усть-Ижора</th>\n",
       "      <td>28222.5</td>\n",
       "    </tr>\n",
       "    <tr>\n",
       "      <th>Шушары</th>\n",
       "      <td>24213.0</td>\n",
       "    </tr>\n",
       "  </tbody>\n",
       "</table>\n",
       "</div>"
      ],
      "text/plain": [
       "                  median\n",
       "locality_name           \n",
       "Александровская  27468.0\n",
       "Белоостров       38868.0\n",
       "Зеленогорск      53381.0\n",
       "Колпино          32018.0\n",
       "Красное Село     29142.0\n",
       "Кронштадт        49597.5\n",
       "Левашово         25727.0\n",
       "Лисий Нос        28226.0\n",
       "Ломоносов        51677.0\n",
       "Металлострой     27602.0\n",
       "Молодёжное       65764.0\n",
       "Павловск         32655.0\n",
       "Парголово        19318.0\n",
       "Песочный         26099.5\n",
       "Петергоф         33771.0\n",
       "Понтонный        32354.0\n",
       "Пушкин           27920.0\n",
       "Репино           42896.5\n",
       "Санкт-Петербург  12273.0\n",
       "Сапёрный         35859.5\n",
       "Сестрорецк       34821.0\n",
       "Стрельна         23506.0\n",
       "Усть-Ижора       28222.5\n",
       "Шушары           24213.0"
      ]
     },
     "execution_count": 48,
     "metadata": {},
     "output_type": "execute_result"
    }
   ],
   "source": [
    "city_centers_pivot = data.pivot_table(index='locality_name', values='city_centers_nearest', aggfunc=['median'])\n",
    "city_centers_pivot.columns = ['median']\n",
    "city_centers_pivot"
   ]
  },
  {
   "cell_type": "code",
   "execution_count": 49,
   "metadata": {},
   "outputs": [],
   "source": [
    "data_replace(data, rooms_pivot,'locality_name','airports_nearest')"
   ]
  },
  {
   "cell_type": "markdown",
   "metadata": {},
   "source": [
    "**2.11 Посмотрим информацию по столбцe `parks_around_3000`**\n"
   ]
  },
  {
   "cell_type": "code",
   "execution_count": 50,
   "metadata": {},
   "outputs": [
    {
     "data": {
      "text/html": [
       "<div>\n",
       "<style scoped>\n",
       "    .dataframe tbody tr th:only-of-type {\n",
       "        vertical-align: middle;\n",
       "    }\n",
       "\n",
       "    .dataframe tbody tr th {\n",
       "        vertical-align: top;\n",
       "    }\n",
       "\n",
       "    .dataframe thead th {\n",
       "        text-align: right;\n",
       "    }\n",
       "</style>\n",
       "<table border=\"1\" class=\"dataframe\">\n",
       "  <thead>\n",
       "    <tr style=\"text-align: right;\">\n",
       "      <th></th>\n",
       "      <th>total_images</th>\n",
       "      <th>last_price</th>\n",
       "      <th>total_area</th>\n",
       "      <th>first_day_exposition</th>\n",
       "      <th>rooms</th>\n",
       "      <th>ceiling_height</th>\n",
       "      <th>floors_total</th>\n",
       "      <th>living_area</th>\n",
       "      <th>floor</th>\n",
       "      <th>is_apartment</th>\n",
       "      <th>...</th>\n",
       "      <th>kitchen_area</th>\n",
       "      <th>balcony</th>\n",
       "      <th>locality_name</th>\n",
       "      <th>airports_nearest</th>\n",
       "      <th>city_centers_nearest</th>\n",
       "      <th>parks_around_3000</th>\n",
       "      <th>parks_nearest</th>\n",
       "      <th>ponds_around_3000</th>\n",
       "      <th>ponds_nearest</th>\n",
       "      <th>days_exposition</th>\n",
       "    </tr>\n",
       "  </thead>\n",
       "  <tbody>\n",
       "  </tbody>\n",
       "</table>\n",
       "<p>0 rows × 22 columns</p>\n",
       "</div>"
      ],
      "text/plain": [
       "Empty DataFrame\n",
       "Columns: [total_images, last_price, total_area, first_day_exposition, rooms, ceiling_height, floors_total, living_area, floor, is_apartment, studio, open_plan, kitchen_area, balcony, locality_name, airports_nearest, city_centers_nearest, parks_around_3000, parks_nearest, ponds_around_3000, ponds_nearest, days_exposition]\n",
       "Index: []\n",
       "\n",
       "[0 rows x 22 columns]"
      ]
     },
     "execution_count": 50,
     "metadata": {},
     "output_type": "execute_result"
    }
   ],
   "source": [
    "data.query('parks_around_3000 == \"NaN\" and parks_nearest <= 3000')"
   ]
  },
  {
   "cell_type": "markdown",
   "metadata": {},
   "source": [
    "Проверим уникальные значения"
   ]
  },
  {
   "cell_type": "code",
   "execution_count": 51,
   "metadata": {},
   "outputs": [
    {
     "data": {
      "text/plain": [
       "array([ 1.,  0.,  2., nan,  3.])"
      ]
     },
     "execution_count": 51,
     "metadata": {},
     "output_type": "execute_result"
    }
   ],
   "source": [
    "data['parks_around_3000'].unique()"
   ]
  },
  {
   "cell_type": "markdown",
   "metadata": {},
   "source": [
    "**2.11.1Как видим, среди пропусков в `parks_around_3000` нет строк, где parks_nearest будет меньше 3000, потому пропуски, скорее всего, означают отсутствие парков поблизости. Потому заполним им 0.**"
   ]
  },
  {
   "cell_type": "code",
   "execution_count": 52,
   "metadata": {},
   "outputs": [],
   "source": [
    "data['parks_around_3000'] = data['parks_around_3000'].fillna(0)"
   ]
  },
  {
   "cell_type": "markdown",
   "metadata": {},
   "source": [
    "**2.12 Проверим `parks_nearest`**"
   ]
  },
  {
   "cell_type": "code",
   "execution_count": 53,
   "metadata": {},
   "outputs": [
    {
     "data": {
      "text/html": [
       "<div>\n",
       "<style scoped>\n",
       "    .dataframe tbody tr th:only-of-type {\n",
       "        vertical-align: middle;\n",
       "    }\n",
       "\n",
       "    .dataframe tbody tr th {\n",
       "        vertical-align: top;\n",
       "    }\n",
       "\n",
       "    .dataframe thead th {\n",
       "        text-align: right;\n",
       "    }\n",
       "</style>\n",
       "<table border=\"1\" class=\"dataframe\">\n",
       "  <thead>\n",
       "    <tr style=\"text-align: right;\">\n",
       "      <th></th>\n",
       "      <th>total_images</th>\n",
       "      <th>last_price</th>\n",
       "      <th>total_area</th>\n",
       "      <th>first_day_exposition</th>\n",
       "      <th>rooms</th>\n",
       "      <th>ceiling_height</th>\n",
       "      <th>floors_total</th>\n",
       "      <th>living_area</th>\n",
       "      <th>floor</th>\n",
       "      <th>is_apartment</th>\n",
       "      <th>...</th>\n",
       "      <th>kitchen_area</th>\n",
       "      <th>balcony</th>\n",
       "      <th>locality_name</th>\n",
       "      <th>airports_nearest</th>\n",
       "      <th>city_centers_nearest</th>\n",
       "      <th>parks_around_3000</th>\n",
       "      <th>parks_nearest</th>\n",
       "      <th>ponds_around_3000</th>\n",
       "      <th>ponds_nearest</th>\n",
       "      <th>days_exposition</th>\n",
       "    </tr>\n",
       "  </thead>\n",
       "  <tbody>\n",
       "  </tbody>\n",
       "</table>\n",
       "<p>0 rows × 22 columns</p>\n",
       "</div>"
      ],
      "text/plain": [
       "Empty DataFrame\n",
       "Columns: [total_images, last_price, total_area, first_day_exposition, rooms, ceiling_height, floors_total, living_area, floor, is_apartment, studio, open_plan, kitchen_area, balcony, locality_name, airports_nearest, city_centers_nearest, parks_around_3000, parks_nearest, ponds_around_3000, ponds_nearest, days_exposition]\n",
       "Index: []\n",
       "\n",
       "[0 rows x 22 columns]"
      ]
     },
     "execution_count": 53,
     "metadata": {},
     "output_type": "execute_result"
    }
   ],
   "source": [
    "data.query('parks_nearest == \"NaN\" and parks_around_3000 != 0')"
   ]
  },
  {
   "cell_type": "markdown",
   "metadata": {},
   "source": [
    "**2.12.1 Среди пропусков в `parks_nearest` нет строк с имеющимися парками, потому заполним пропуски с помощью `data_replace`**"
   ]
  },
  {
   "cell_type": "code",
   "execution_count": 54,
   "metadata": {},
   "outputs": [
    {
     "data": {
      "text/html": [
       "<div>\n",
       "<style scoped>\n",
       "    .dataframe tbody tr th:only-of-type {\n",
       "        vertical-align: middle;\n",
       "    }\n",
       "\n",
       "    .dataframe tbody tr th {\n",
       "        vertical-align: top;\n",
       "    }\n",
       "\n",
       "    .dataframe thead th {\n",
       "        text-align: right;\n",
       "    }\n",
       "</style>\n",
       "<table border=\"1\" class=\"dataframe\">\n",
       "  <thead>\n",
       "    <tr style=\"text-align: right;\">\n",
       "      <th></th>\n",
       "      <th>median</th>\n",
       "    </tr>\n",
       "    <tr>\n",
       "      <th>locality_name</th>\n",
       "      <th></th>\n",
       "    </tr>\n",
       "  </thead>\n",
       "  <tbody>\n",
       "    <tr>\n",
       "      <th>Зеленогорск</th>\n",
       "      <td>147.5</td>\n",
       "    </tr>\n",
       "    <tr>\n",
       "      <th>Колпино</th>\n",
       "      <td>393.0</td>\n",
       "    </tr>\n",
       "    <tr>\n",
       "      <th>Красное Село</th>\n",
       "      <td>428.5</td>\n",
       "    </tr>\n",
       "    <tr>\n",
       "      <th>Кронштадт</th>\n",
       "      <td>289.5</td>\n",
       "    </tr>\n",
       "    <tr>\n",
       "      <th>Ломоносов</th>\n",
       "      <td>407.0</td>\n",
       "    </tr>\n",
       "    <tr>\n",
       "      <th>Павловск</th>\n",
       "      <td>310.0</td>\n",
       "    </tr>\n",
       "    <tr>\n",
       "      <th>Парголово</th>\n",
       "      <td>733.0</td>\n",
       "    </tr>\n",
       "    <tr>\n",
       "      <th>Петергоф</th>\n",
       "      <td>294.0</td>\n",
       "    </tr>\n",
       "    <tr>\n",
       "      <th>Пушкин</th>\n",
       "      <td>398.0</td>\n",
       "    </tr>\n",
       "    <tr>\n",
       "      <th>Санкт-Петербург</th>\n",
       "      <td>462.0</td>\n",
       "    </tr>\n",
       "    <tr>\n",
       "      <th>Сестрорецк</th>\n",
       "      <td>367.0</td>\n",
       "    </tr>\n",
       "    <tr>\n",
       "      <th>Стрельна</th>\n",
       "      <td>700.0</td>\n",
       "    </tr>\n",
       "  </tbody>\n",
       "</table>\n",
       "</div>"
      ],
      "text/plain": [
       "                 median\n",
       "locality_name          \n",
       "Зеленогорск       147.5\n",
       "Колпино           393.0\n",
       "Красное Село      428.5\n",
       "Кронштадт         289.5\n",
       "Ломоносов         407.0\n",
       "Павловск          310.0\n",
       "Парголово         733.0\n",
       "Петергоф          294.0\n",
       "Пушкин            398.0\n",
       "Санкт-Петербург   462.0\n",
       "Сестрорецк        367.0\n",
       "Стрельна          700.0"
      ]
     },
     "execution_count": 54,
     "metadata": {},
     "output_type": "execute_result"
    }
   ],
   "source": [
    "parks_nearest_pivot = data.pivot_table(index='locality_name', values='parks_nearest', aggfunc=['median'])\n",
    "parks_nearest_pivot.columns = ['median']\n",
    "parks_nearest_pivot"
   ]
  },
  {
   "cell_type": "code",
   "execution_count": 55,
   "metadata": {},
   "outputs": [],
   "source": [
    "data_replace(data,parks_nearest_pivot, 'locality_name','parks_nearest')"
   ]
  },
  {
   "cell_type": "markdown",
   "metadata": {},
   "source": [
    "**2.13 Со столбцами `ponds_around_3000` и `ponds_nearest` сделаем все то же самое**"
   ]
  },
  {
   "cell_type": "code",
   "execution_count": 56,
   "metadata": {},
   "outputs": [
    {
     "data": {
      "text/html": [
       "<div>\n",
       "<style scoped>\n",
       "    .dataframe tbody tr th:only-of-type {\n",
       "        vertical-align: middle;\n",
       "    }\n",
       "\n",
       "    .dataframe tbody tr th {\n",
       "        vertical-align: top;\n",
       "    }\n",
       "\n",
       "    .dataframe thead th {\n",
       "        text-align: right;\n",
       "    }\n",
       "</style>\n",
       "<table border=\"1\" class=\"dataframe\">\n",
       "  <thead>\n",
       "    <tr style=\"text-align: right;\">\n",
       "      <th></th>\n",
       "      <th>total_images</th>\n",
       "      <th>last_price</th>\n",
       "      <th>total_area</th>\n",
       "      <th>first_day_exposition</th>\n",
       "      <th>rooms</th>\n",
       "      <th>ceiling_height</th>\n",
       "      <th>floors_total</th>\n",
       "      <th>living_area</th>\n",
       "      <th>floor</th>\n",
       "      <th>is_apartment</th>\n",
       "      <th>...</th>\n",
       "      <th>kitchen_area</th>\n",
       "      <th>balcony</th>\n",
       "      <th>locality_name</th>\n",
       "      <th>airports_nearest</th>\n",
       "      <th>city_centers_nearest</th>\n",
       "      <th>parks_around_3000</th>\n",
       "      <th>parks_nearest</th>\n",
       "      <th>ponds_around_3000</th>\n",
       "      <th>ponds_nearest</th>\n",
       "      <th>days_exposition</th>\n",
       "    </tr>\n",
       "  </thead>\n",
       "  <tbody>\n",
       "  </tbody>\n",
       "</table>\n",
       "<p>0 rows × 22 columns</p>\n",
       "</div>"
      ],
      "text/plain": [
       "Empty DataFrame\n",
       "Columns: [total_images, last_price, total_area, first_day_exposition, rooms, ceiling_height, floors_total, living_area, floor, is_apartment, studio, open_plan, kitchen_area, balcony, locality_name, airports_nearest, city_centers_nearest, parks_around_3000, parks_nearest, ponds_around_3000, ponds_nearest, days_exposition]\n",
       "Index: []\n",
       "\n",
       "[0 rows x 22 columns]"
      ]
     },
     "execution_count": 56,
     "metadata": {},
     "output_type": "execute_result"
    }
   ],
   "source": [
    "data.query('ponds_around_3000 == \"NaN\" and ponds_nearest <= 3000')"
   ]
  },
  {
   "cell_type": "code",
   "execution_count": 57,
   "metadata": {},
   "outputs": [],
   "source": [
    "data['ponds_around_3000'] = data['ponds_around_3000'].fillna(0)"
   ]
  },
  {
   "cell_type": "code",
   "execution_count": 58,
   "metadata": {},
   "outputs": [
    {
     "data": {
      "text/html": [
       "<div>\n",
       "<style scoped>\n",
       "    .dataframe tbody tr th:only-of-type {\n",
       "        vertical-align: middle;\n",
       "    }\n",
       "\n",
       "    .dataframe tbody tr th {\n",
       "        vertical-align: top;\n",
       "    }\n",
       "\n",
       "    .dataframe thead th {\n",
       "        text-align: right;\n",
       "    }\n",
       "</style>\n",
       "<table border=\"1\" class=\"dataframe\">\n",
       "  <thead>\n",
       "    <tr style=\"text-align: right;\">\n",
       "      <th></th>\n",
       "      <th>total_images</th>\n",
       "      <th>last_price</th>\n",
       "      <th>total_area</th>\n",
       "      <th>first_day_exposition</th>\n",
       "      <th>rooms</th>\n",
       "      <th>ceiling_height</th>\n",
       "      <th>floors_total</th>\n",
       "      <th>living_area</th>\n",
       "      <th>floor</th>\n",
       "      <th>is_apartment</th>\n",
       "      <th>...</th>\n",
       "      <th>kitchen_area</th>\n",
       "      <th>balcony</th>\n",
       "      <th>locality_name</th>\n",
       "      <th>airports_nearest</th>\n",
       "      <th>city_centers_nearest</th>\n",
       "      <th>parks_around_3000</th>\n",
       "      <th>parks_nearest</th>\n",
       "      <th>ponds_around_3000</th>\n",
       "      <th>ponds_nearest</th>\n",
       "      <th>days_exposition</th>\n",
       "    </tr>\n",
       "  </thead>\n",
       "  <tbody>\n",
       "  </tbody>\n",
       "</table>\n",
       "<p>0 rows × 22 columns</p>\n",
       "</div>"
      ],
      "text/plain": [
       "Empty DataFrame\n",
       "Columns: [total_images, last_price, total_area, first_day_exposition, rooms, ceiling_height, floors_total, living_area, floor, is_apartment, studio, open_plan, kitchen_area, balcony, locality_name, airports_nearest, city_centers_nearest, parks_around_3000, parks_nearest, ponds_around_3000, ponds_nearest, days_exposition]\n",
       "Index: []\n",
       "\n",
       "[0 rows x 22 columns]"
      ]
     },
     "execution_count": 58,
     "metadata": {},
     "output_type": "execute_result"
    }
   ],
   "source": [
    "data.query('ponds_nearest == \"NaN\" and ponds_around_3000 != 0')"
   ]
  },
  {
   "cell_type": "code",
   "execution_count": 59,
   "metadata": {},
   "outputs": [
    {
     "data": {
      "text/html": [
       "<div>\n",
       "<style scoped>\n",
       "    .dataframe tbody tr th:only-of-type {\n",
       "        vertical-align: middle;\n",
       "    }\n",
       "\n",
       "    .dataframe tbody tr th {\n",
       "        vertical-align: top;\n",
       "    }\n",
       "\n",
       "    .dataframe thead th {\n",
       "        text-align: right;\n",
       "    }\n",
       "</style>\n",
       "<table border=\"1\" class=\"dataframe\">\n",
       "  <thead>\n",
       "    <tr style=\"text-align: right;\">\n",
       "      <th></th>\n",
       "      <th>median</th>\n",
       "    </tr>\n",
       "    <tr>\n",
       "      <th>locality_name</th>\n",
       "      <th></th>\n",
       "    </tr>\n",
       "  </thead>\n",
       "  <tbody>\n",
       "    <tr>\n",
       "      <th>Александровская</th>\n",
       "      <td>711.5</td>\n",
       "    </tr>\n",
       "    <tr>\n",
       "      <th>Белоостров</th>\n",
       "      <td>320.0</td>\n",
       "    </tr>\n",
       "    <tr>\n",
       "      <th>Зеленогорск</th>\n",
       "      <td>507.0</td>\n",
       "    </tr>\n",
       "    <tr>\n",
       "      <th>Колпино</th>\n",
       "      <td>509.0</td>\n",
       "    </tr>\n",
       "    <tr>\n",
       "      <th>Красное Село</th>\n",
       "      <td>225.5</td>\n",
       "    </tr>\n",
       "    <tr>\n",
       "      <th>Кронштадт</th>\n",
       "      <td>308.0</td>\n",
       "    </tr>\n",
       "    <tr>\n",
       "      <th>Ломоносов</th>\n",
       "      <td>553.0</td>\n",
       "    </tr>\n",
       "    <tr>\n",
       "      <th>Павловск</th>\n",
       "      <td>458.0</td>\n",
       "    </tr>\n",
       "    <tr>\n",
       "      <th>Парголово</th>\n",
       "      <td>593.0</td>\n",
       "    </tr>\n",
       "    <tr>\n",
       "      <th>Петергоф</th>\n",
       "      <td>474.0</td>\n",
       "    </tr>\n",
       "    <tr>\n",
       "      <th>Понтонный</th>\n",
       "      <td>638.0</td>\n",
       "    </tr>\n",
       "    <tr>\n",
       "      <th>Пушкин</th>\n",
       "      <td>440.5</td>\n",
       "    </tr>\n",
       "    <tr>\n",
       "      <th>Санкт-Петербург</th>\n",
       "      <td>505.0</td>\n",
       "    </tr>\n",
       "    <tr>\n",
       "      <th>Сапёрный</th>\n",
       "      <td>419.5</td>\n",
       "    </tr>\n",
       "    <tr>\n",
       "      <th>Сестрорецк</th>\n",
       "      <td>372.0</td>\n",
       "    </tr>\n",
       "    <tr>\n",
       "      <th>Стрельна</th>\n",
       "      <td>859.0</td>\n",
       "    </tr>\n",
       "    <tr>\n",
       "      <th>Шушары</th>\n",
       "      <td>587.0</td>\n",
       "    </tr>\n",
       "  </tbody>\n",
       "</table>\n",
       "</div>"
      ],
      "text/plain": [
       "                 median\n",
       "locality_name          \n",
       "Александровская   711.5\n",
       "Белоостров        320.0\n",
       "Зеленогорск       507.0\n",
       "Колпино           509.0\n",
       "Красное Село      225.5\n",
       "Кронштадт         308.0\n",
       "Ломоносов         553.0\n",
       "Павловск          458.0\n",
       "Парголово         593.0\n",
       "Петергоф          474.0\n",
       "Понтонный         638.0\n",
       "Пушкин            440.5\n",
       "Санкт-Петербург   505.0\n",
       "Сапёрный          419.5\n",
       "Сестрорецк        372.0\n",
       "Стрельна          859.0\n",
       "Шушары            587.0"
      ]
     },
     "execution_count": 59,
     "metadata": {},
     "output_type": "execute_result"
    }
   ],
   "source": [
    "ponds_nearest_pivot = data.pivot_table(index='locality_name', values='ponds_nearest', aggfunc=['median'])\n",
    "ponds_nearest_pivot.columns = ['median']\n",
    "ponds_nearest_pivot"
   ]
  },
  {
   "cell_type": "code",
   "execution_count": 60,
   "metadata": {},
   "outputs": [],
   "source": [
    "data_replace(data,ponds_nearest_pivot, 'locality_name','ponds_nearest')"
   ]
  },
  {
   "cell_type": "markdown",
   "metadata": {},
   "source": [
    "**4 Поменяем формат дат** "
   ]
  },
  {
   "cell_type": "code",
   "execution_count": 61,
   "metadata": {},
   "outputs": [],
   "source": [
    "data['first_day_exposition'] = pd.to_datetime(data.first_day_exposition, format='%Y-%m-%dT%H:%M:%S')"
   ]
  },
  {
   "cell_type": "code",
   "execution_count": 62,
   "metadata": {},
   "outputs": [
    {
     "name": "stdout",
     "output_type": "stream",
     "text": [
      "<class 'pandas.core.frame.DataFrame'>\n",
      "Int64Index: 23171 entries, 0 to 23698\n",
      "Data columns (total 22 columns):\n",
      " #   Column                Non-Null Count  Dtype         \n",
      "---  ------                --------------  -----         \n",
      " 0   total_images          23171 non-null  int64         \n",
      " 1   last_price            23171 non-null  int64         \n",
      " 2   total_area            23171 non-null  int64         \n",
      " 3   first_day_exposition  23171 non-null  datetime64[ns]\n",
      " 4   rooms                 23171 non-null  int64         \n",
      " 5   ceiling_height        23171 non-null  float64       \n",
      " 6   floors_total          23171 non-null  float64       \n",
      " 7   living_area           23171 non-null  float64       \n",
      " 8   floor                 23171 non-null  int64         \n",
      " 9   is_apartment          23171 non-null  bool          \n",
      " 10  studio                23171 non-null  bool          \n",
      " 11  open_plan             23171 non-null  bool          \n",
      " 12  kitchen_area          23171 non-null  float64       \n",
      " 13  balcony               23171 non-null  int64         \n",
      " 14  locality_name         23171 non-null  object        \n",
      " 15  airports_nearest      17730 non-null  float64       \n",
      " 16  city_centers_nearest  17752 non-null  float64       \n",
      " 17  parks_around_3000     23171 non-null  float64       \n",
      " 18  parks_nearest         17268 non-null  float64       \n",
      " 19  ponds_around_3000     23171 non-null  float64       \n",
      " 20  ponds_nearest         17732 non-null  float64       \n",
      " 21  days_exposition       20072 non-null  float64       \n",
      "dtypes: bool(3), datetime64[ns](1), float64(11), int64(6), object(1)\n",
      "memory usage: 3.6+ MB\n"
     ]
    }
   ],
   "source": [
    "data.info()"
   ]
  },
  {
   "cell_type": "markdown",
   "metadata": {},
   "source": [
    "**ЗАКЛЮЧЕНИЕ ПО ПЕРВОМУ ЭТАПУ**\n"
   ]
  },
  {
   "cell_type": "markdown",
   "metadata": {},
   "source": [
    "Предварительную предобработку сделал. Заполнил пропуски и удалил самые выдающиеся аномальные значения.\n",
    "Более глубокую \"чистку\" данных буду проводить проводя уже более детальный анализ в 3 пункте"
   ]
  },
  {
   "cell_type": "markdown",
   "metadata": {},
   "source": [
    "### Посчитайте и добавьте в таблицу новые столбцы"
   ]
  },
  {
   "cell_type": "markdown",
   "metadata": {},
   "source": [
    "**Необходимо добавить следующие столбцы:**\n",
    "\n",
    "- цена одного квадратного метра - `one_m2_price`\n",
    "\n",
    "- день недели публикации объявления (0 — понедельник, 1 — вторник и так далее) - `day_publication`\n",
    "- месяц публикации объявления - `month_publication`\n",
    "- год публикации объявления - `year_publication`\n",
    "- тип этажа квартиры (значения — «первый», «последний», «другой») - `floor_type`\n",
    "- расстояние до центра города в километрах (переведите из м в км и округлите до целых значений) - `city_centers_nearest_km`"
   ]
  },
  {
   "cell_type": "markdown",
   "metadata": {},
   "source": [
    "Добавим столбец с ценой за 1 квадратный метр"
   ]
  },
  {
   "cell_type": "code",
   "execution_count": 63,
   "metadata": {},
   "outputs": [],
   "source": [
    "data['one_m2_price'] = (data['last_price'] / data['total_area'])"
   ]
  },
  {
   "cell_type": "code",
   "execution_count": 64,
   "metadata": {},
   "outputs": [
    {
     "data": {
      "text/plain": [
       "0        120370.370370\n",
       "1         83750.000000\n",
       "2         92785.714286\n",
       "3        408176.100629\n",
       "4        100000.000000\n",
       "             ...      \n",
       "23694     72932.330827\n",
       "23695     52542.372881\n",
       "23696     44642.857143\n",
       "23697    150986.842105\n",
       "23698     42187.500000\n",
       "Name: one_m2_price, Length: 23171, dtype: float64"
      ]
     },
     "execution_count": 64,
     "metadata": {},
     "output_type": "execute_result"
    }
   ],
   "source": [
    "pd.to_numeric(data['one_m2_price'])"
   ]
  },
  {
   "cell_type": "markdown",
   "metadata": {},
   "source": [
    "Добавим столбец с днем публикации"
   ]
  },
  {
   "cell_type": "code",
   "execution_count": 65,
   "metadata": {},
   "outputs": [],
   "source": [
    "data['day_publication'] = data['first_day_exposition'].dt.weekday"
   ]
  },
  {
   "cell_type": "markdown",
   "metadata": {},
   "source": [
    "Укажем названия дней"
   ]
  },
  {
   "cell_type": "code",
   "execution_count": 66,
   "metadata": {},
   "outputs": [],
   "source": [
    "def day_replace(data):\n",
    "    \n",
    "# Переписывает значения в столбце 'day_publication' по дням недели в соответствии с их порядковым номером\n",
    "\n",
    "\n",
    "    if data == 0:\n",
    "        return 'понедельник'\n",
    "    elif data == 1:\n",
    "        return 'вторник'\n",
    "    elif data == 2:\n",
    "        return 'среда'\n",
    "    elif data == 3:\n",
    "        return 'четверг'\n",
    "    elif data == 4:\n",
    "        return 'пятница'\n",
    "    elif data == 5:\n",
    "        return 'суббота' \n",
    "    elif data == 6 :\n",
    "        return 'воскресенье'\n",
    "    else:\n",
    "        return 'нет'\n",
    "        \n",
    "    \n",
    "data['day_publication'] = data['day_publication'].apply(day_replace)"
   ]
  },
  {
   "cell_type": "markdown",
   "metadata": {},
   "source": [
    "Добавим столбцы с месяцем  и годом публикации"
   ]
  },
  {
   "cell_type": "code",
   "execution_count": 67,
   "metadata": {},
   "outputs": [],
   "source": [
    "data['month_publication'] = data['first_day_exposition'].dt.month"
   ]
  },
  {
   "cell_type": "code",
   "execution_count": 68,
   "metadata": {},
   "outputs": [],
   "source": [
    "data['year_publication'] = data['first_day_exposition'].dt.year"
   ]
  },
  {
   "cell_type": "markdown",
   "metadata": {},
   "source": [
    "Добавим столбец с типом этажа"
   ]
  },
  {
   "cell_type": "code",
   "execution_count": 69,
   "metadata": {},
   "outputs": [],
   "source": [
    "def floor_type(data):\n",
    "    try:\n",
    "        a = data['floors_total']\n",
    "        if data['floor'] == 1:\n",
    "            return 'Первый'\n",
    "        if data['floor'] == a:\n",
    "            return 'Последний'\n",
    "        else:\n",
    "            return 'Другой'\n",
    "    except:\n",
    "        return 'не получилось'"
   ]
  },
  {
   "cell_type": "code",
   "execution_count": 70,
   "metadata": {},
   "outputs": [],
   "source": [
    "data['floor_type'] = data.apply(floor_type, axis = 1)"
   ]
  },
  {
   "cell_type": "markdown",
   "metadata": {},
   "source": [
    "Добавим столбец с растоянием до центра в километрах"
   ]
  },
  {
   "cell_type": "code",
   "execution_count": 71,
   "metadata": {},
   "outputs": [],
   "source": [
    "data['city_centers_nearest_km'] = data['city_centers_nearest'] // 1000"
   ]
  },
  {
   "cell_type": "markdown",
   "metadata": {},
   "source": [
    "# Проведем исследовательский анализ данных"
   ]
  },
  {
   "cell_type": "markdown",
   "metadata": {},
   "source": [
    "Изучим данные в следубщих столбцах:\n",
    "\n",
    "        - общая площадь;\n",
    "        - жилая площадь;\n",
    "        - площадь кухни;\n",
    "        - цена объекта;\n",
    "        - количество комнат;\n",
    "        - высота потолков;\n",
    "        - этаж квартиры;\n",
    "        - тип этажа квартиры («первый», «последний», «другой»);\n",
    "        - общее количество этажей в доме;\n",
    "        - расстояние до центра города в метрах;\n",
    "        - расстояние до ближайшего аэропорта;\n",
    "        - расстояние до ближайшего парка;\n",
    "        - день и месяц публикации объявления\n"
   ]
  },
  {
   "cell_type": "markdown",
   "metadata": {},
   "source": [
    "**ОБЩАЯ ПЛОЩАДЬ**"
   ]
  },
  {
   "cell_type": "code",
   "execution_count": 72,
   "metadata": {},
   "outputs": [
    {
     "data": {
      "image/png": "[encoded data removed]",
      "text/plain": [
       "<Figure size 1080x360 with 1 Axes>"
      ]
     },
     "metadata": {
      "needs_background": "light"
     },
     "output_type": "display_data"
    },
    {
     "data": {
      "text/plain": [
       "count    23171.000000\n",
       "mean        58.867377\n",
       "std         30.097460\n",
       "min         12.000000\n",
       "25%         40.000000\n",
       "50%         52.000000\n",
       "75%         69.000000\n",
       "max        507.000000\n",
       "Name: total_area, dtype: float64"
      ]
     },
     "execution_count": 72,
     "metadata": {},
     "output_type": "execute_result"
    }
   ],
   "source": [
    "data['total_area'].hist(bins =100,figsize=(15,5))\n",
    "plt.show()\n",
    "data['total_area'].describe()"
   ]
  },
  {
   "cell_type": "code",
   "execution_count": 73,
   "metadata": {},
   "outputs": [
    {
     "data": {
      "image/png": "[encoded data removed]",
      "text/plain": [
       "<Figure size 1080x360 with 1 Axes>"
      ]
     },
     "metadata": {
      "needs_background": "light"
     },
     "output_type": "display_data"
    }
   ],
   "source": [
    "data['total_area'].hist(bins =100,figsize=(15,5),range=(180,400))\n",
    "plt.show()"
   ]
  },
  {
   "cell_type": "markdown",
   "metadata": {},
   "source": [
    "Несмотря на огромную разницу между максимальной площадью и минимальной, среднее значение не сильно отличается от медианы, что можно видеть и на первом графике.\n",
    "\n",
    "На втором графике видно, что квартир площадью больше 200 не так уж и много.\n",
    "Потому, для дальнейшего анализа их исключим."
   ]
  },
  {
   "cell_type": "code",
   "execution_count": 74,
   "metadata": {},
   "outputs": [],
   "source": [
    "good_data = data.query('total_area < 190')"
   ]
  },
  {
   "cell_type": "code",
   "execution_count": 75,
   "metadata": {},
   "outputs": [
    {
     "data": {
      "text/plain": [
       "count    23171.000000\n",
       "mean        58.867377\n",
       "std         30.097460\n",
       "min         12.000000\n",
       "25%         40.000000\n",
       "50%         52.000000\n",
       "75%         69.000000\n",
       "max        507.000000\n",
       "Name: total_area, dtype: float64"
      ]
     },
     "execution_count": 75,
     "metadata": {},
     "output_type": "execute_result"
    }
   ],
   "source": [
    "data['total_area'].describe()"
   ]
  },
  {
   "cell_type": "code",
   "execution_count": 76,
   "metadata": {},
   "outputs": [
    {
     "data": {
      "text/plain": [
       "<AxesSubplot:>"
      ]
     },
     "execution_count": 76,
     "metadata": {},
     "output_type": "execute_result"
    },
    {
     "data": {
      "image/png": "[encoded data removed]",
      "text/plain": [
       "<Figure size 1080x360 with 1 Axes>"
      ]
     },
     "metadata": {
      "needs_background": "light"
     },
     "output_type": "display_data"
    }
   ],
   "source": [
    "good_data['total_area'].hist(bins=50,figsize=(15,5))"
   ]
  },
  {
   "cell_type": "markdown",
   "metadata": {},
   "source": [
    "**ЖИЛАЯ ПЛОЩАДЬ**"
   ]
  },
  {
   "cell_type": "code",
   "execution_count": 77,
   "metadata": {},
   "outputs": [
    {
     "data": {
      "image/png": "[encoded data removed]",
      "text/plain": [
       "<Figure size 1080x360 with 1 Axes>"
      ]
     },
     "metadata": {
      "needs_background": "light"
     },
     "output_type": "display_data"
    },
    {
     "data": {
      "text/plain": [
       "count    23028.000000\n",
       "mean        32.919423\n",
       "std         16.444657\n",
       "min          2.000000\n",
       "25%         18.400000\n",
       "50%         30.200000\n",
       "75%         42.000000\n",
       "max        164.700000\n",
       "Name: living_area, dtype: float64"
      ]
     },
     "execution_count": 77,
     "metadata": {},
     "output_type": "execute_result"
    }
   ],
   "source": [
    "good_data['living_area'].hist(bins =50,figsize=(15,5))\n",
    "plt.show()\n",
    "good_data['living_area'].describe()"
   ]
  },
  {
   "cell_type": "markdown",
   "metadata": {},
   "source": [
    "Жилая площадь в 2 квадратных метра? Неправдободобно.\n",
    "возьем минимальное значение общей площади и проверим, сколько квартир с жилой площадью меньше этого значения"
   ]
  },
  {
   "cell_type": "code",
   "execution_count": 78,
   "metadata": {},
   "outputs": [
    {
     "data": {
      "text/html": [
       "<div>\n",
       "<style scoped>\n",
       "    .dataframe tbody tr th:only-of-type {\n",
       "        vertical-align: middle;\n",
       "    }\n",
       "\n",
       "    .dataframe tbody tr th {\n",
       "        vertical-align: top;\n",
       "    }\n",
       "\n",
       "    .dataframe thead th {\n",
       "        text-align: right;\n",
       "    }\n",
       "</style>\n",
       "<table border=\"1\" class=\"dataframe\">\n",
       "  <thead>\n",
       "    <tr style=\"text-align: right;\">\n",
       "      <th></th>\n",
       "      <th>total_images</th>\n",
       "      <th>last_price</th>\n",
       "      <th>total_area</th>\n",
       "      <th>first_day_exposition</th>\n",
       "      <th>rooms</th>\n",
       "      <th>ceiling_height</th>\n",
       "      <th>floors_total</th>\n",
       "      <th>living_area</th>\n",
       "      <th>floor</th>\n",
       "      <th>is_apartment</th>\n",
       "      <th>...</th>\n",
       "      <th>parks_nearest</th>\n",
       "      <th>ponds_around_3000</th>\n",
       "      <th>ponds_nearest</th>\n",
       "      <th>days_exposition</th>\n",
       "      <th>one_m2_price</th>\n",
       "      <th>day_publication</th>\n",
       "      <th>month_publication</th>\n",
       "      <th>year_publication</th>\n",
       "      <th>floor_type</th>\n",
       "      <th>city_centers_nearest_km</th>\n",
       "    </tr>\n",
       "  </thead>\n",
       "  <tbody>\n",
       "    <tr>\n",
       "      <th>6</th>\n",
       "      <td>6</td>\n",
       "      <td>3700000</td>\n",
       "      <td>37</td>\n",
       "      <td>2017-11-02</td>\n",
       "      <td>1</td>\n",
       "      <td>2.65</td>\n",
       "      <td>26.0</td>\n",
       "      <td>10.60</td>\n",
       "      <td>6</td>\n",
       "      <td>False</td>\n",
       "      <td>...</td>\n",
       "      <td>733.0</td>\n",
       "      <td>0.0</td>\n",
       "      <td>593.0</td>\n",
       "      <td>155.0</td>\n",
       "      <td>100000.000000</td>\n",
       "      <td>четверг</td>\n",
       "      <td>11</td>\n",
       "      <td>2017</td>\n",
       "      <td>Другой</td>\n",
       "      <td>19.0</td>\n",
       "    </tr>\n",
       "    <tr>\n",
       "      <th>114</th>\n",
       "      <td>5</td>\n",
       "      <td>4000000</td>\n",
       "      <td>21</td>\n",
       "      <td>2019-02-07</td>\n",
       "      <td>1</td>\n",
       "      <td>2.90</td>\n",
       "      <td>8.0</td>\n",
       "      <td>8.30</td>\n",
       "      <td>7</td>\n",
       "      <td>False</td>\n",
       "      <td>...</td>\n",
       "      <td>488.0</td>\n",
       "      <td>1.0</td>\n",
       "      <td>286.0</td>\n",
       "      <td>NaN</td>\n",
       "      <td>190476.190476</td>\n",
       "      <td>четверг</td>\n",
       "      <td>2</td>\n",
       "      <td>2019</td>\n",
       "      <td>Другой</td>\n",
       "      <td>5.0</td>\n",
       "    </tr>\n",
       "    <tr>\n",
       "      <th>248</th>\n",
       "      <td>7</td>\n",
       "      <td>4100000</td>\n",
       "      <td>31</td>\n",
       "      <td>2015-08-02</td>\n",
       "      <td>1</td>\n",
       "      <td>3.00</td>\n",
       "      <td>17.0</td>\n",
       "      <td>10.00</td>\n",
       "      <td>6</td>\n",
       "      <td>False</td>\n",
       "      <td>...</td>\n",
       "      <td>139.0</td>\n",
       "      <td>0.0</td>\n",
       "      <td>505.0</td>\n",
       "      <td>637.0</td>\n",
       "      <td>132258.064516</td>\n",
       "      <td>воскресенье</td>\n",
       "      <td>8</td>\n",
       "      <td>2015</td>\n",
       "      <td>Другой</td>\n",
       "      <td>8.0</td>\n",
       "    </tr>\n",
       "    <tr>\n",
       "      <th>615</th>\n",
       "      <td>15</td>\n",
       "      <td>4100000</td>\n",
       "      <td>43</td>\n",
       "      <td>2017-06-30</td>\n",
       "      <td>1</td>\n",
       "      <td>2.65</td>\n",
       "      <td>18.0</td>\n",
       "      <td>10.00</td>\n",
       "      <td>12</td>\n",
       "      <td>False</td>\n",
       "      <td>...</td>\n",
       "      <td>NaN</td>\n",
       "      <td>0.0</td>\n",
       "      <td>NaN</td>\n",
       "      <td>18.0</td>\n",
       "      <td>95348.837209</td>\n",
       "      <td>пятница</td>\n",
       "      <td>6</td>\n",
       "      <td>2017</td>\n",
       "      <td>Другой</td>\n",
       "      <td>NaN</td>\n",
       "    </tr>\n",
       "    <tr>\n",
       "      <th>680</th>\n",
       "      <td>14</td>\n",
       "      <td>7200000</td>\n",
       "      <td>43</td>\n",
       "      <td>2017-10-31</td>\n",
       "      <td>1</td>\n",
       "      <td>2.65</td>\n",
       "      <td>8.0</td>\n",
       "      <td>9.00</td>\n",
       "      <td>2</td>\n",
       "      <td>False</td>\n",
       "      <td>...</td>\n",
       "      <td>2137.0</td>\n",
       "      <td>1.0</td>\n",
       "      <td>933.0</td>\n",
       "      <td>296.0</td>\n",
       "      <td>167441.860465</td>\n",
       "      <td>вторник</td>\n",
       "      <td>10</td>\n",
       "      <td>2017</td>\n",
       "      <td>Другой</td>\n",
       "      <td>5.0</td>\n",
       "    </tr>\n",
       "    <tr>\n",
       "      <th>...</th>\n",
       "      <td>...</td>\n",
       "      <td>...</td>\n",
       "      <td>...</td>\n",
       "      <td>...</td>\n",
       "      <td>...</td>\n",
       "      <td>...</td>\n",
       "      <td>...</td>\n",
       "      <td>...</td>\n",
       "      <td>...</td>\n",
       "      <td>...</td>\n",
       "      <td>...</td>\n",
       "      <td>...</td>\n",
       "      <td>...</td>\n",
       "      <td>...</td>\n",
       "      <td>...</td>\n",
       "      <td>...</td>\n",
       "      <td>...</td>\n",
       "      <td>...</td>\n",
       "      <td>...</td>\n",
       "      <td>...</td>\n",
       "      <td>...</td>\n",
       "    </tr>\n",
       "    <tr>\n",
       "      <th>23014</th>\n",
       "      <td>8</td>\n",
       "      <td>2250000</td>\n",
       "      <td>28</td>\n",
       "      <td>2017-08-04</td>\n",
       "      <td>1</td>\n",
       "      <td>3.70</td>\n",
       "      <td>3.0</td>\n",
       "      <td>10.90</td>\n",
       "      <td>2</td>\n",
       "      <td>False</td>\n",
       "      <td>...</td>\n",
       "      <td>170.0</td>\n",
       "      <td>3.0</td>\n",
       "      <td>110.0</td>\n",
       "      <td>424.0</td>\n",
       "      <td>80357.142857</td>\n",
       "      <td>пятница</td>\n",
       "      <td>8</td>\n",
       "      <td>2017</td>\n",
       "      <td>Другой</td>\n",
       "      <td>53.0</td>\n",
       "    </tr>\n",
       "    <tr>\n",
       "      <th>23208</th>\n",
       "      <td>12</td>\n",
       "      <td>4800000</td>\n",
       "      <td>37</td>\n",
       "      <td>2016-02-24</td>\n",
       "      <td>1</td>\n",
       "      <td>2.65</td>\n",
       "      <td>14.0</td>\n",
       "      <td>8.00</td>\n",
       "      <td>11</td>\n",
       "      <td>False</td>\n",
       "      <td>...</td>\n",
       "      <td>358.0</td>\n",
       "      <td>1.0</td>\n",
       "      <td>950.0</td>\n",
       "      <td>139.0</td>\n",
       "      <td>129729.729730</td>\n",
       "      <td>среда</td>\n",
       "      <td>2</td>\n",
       "      <td>2016</td>\n",
       "      <td>Другой</td>\n",
       "      <td>12.0</td>\n",
       "    </tr>\n",
       "    <tr>\n",
       "      <th>23359</th>\n",
       "      <td>10</td>\n",
       "      <td>3114406</td>\n",
       "      <td>36</td>\n",
       "      <td>2018-10-01</td>\n",
       "      <td>1</td>\n",
       "      <td>2.65</td>\n",
       "      <td>5.0</td>\n",
       "      <td>10.00</td>\n",
       "      <td>5</td>\n",
       "      <td>False</td>\n",
       "      <td>...</td>\n",
       "      <td>251.0</td>\n",
       "      <td>1.0</td>\n",
       "      <td>350.0</td>\n",
       "      <td>145.0</td>\n",
       "      <td>86511.277778</td>\n",
       "      <td>понедельник</td>\n",
       "      <td>10</td>\n",
       "      <td>2018</td>\n",
       "      <td>Последний</td>\n",
       "      <td>25.0</td>\n",
       "    </tr>\n",
       "    <tr>\n",
       "      <th>23481</th>\n",
       "      <td>1</td>\n",
       "      <td>3000000</td>\n",
       "      <td>37</td>\n",
       "      <td>2019-04-15</td>\n",
       "      <td>1</td>\n",
       "      <td>2.65</td>\n",
       "      <td>19.0</td>\n",
       "      <td>10.08</td>\n",
       "      <td>10</td>\n",
       "      <td>False</td>\n",
       "      <td>...</td>\n",
       "      <td>462.0</td>\n",
       "      <td>0.0</td>\n",
       "      <td>505.0</td>\n",
       "      <td>7.0</td>\n",
       "      <td>81081.081081</td>\n",
       "      <td>понедельник</td>\n",
       "      <td>4</td>\n",
       "      <td>2019</td>\n",
       "      <td>Другой</td>\n",
       "      <td>15.0</td>\n",
       "    </tr>\n",
       "    <tr>\n",
       "      <th>23574</th>\n",
       "      <td>14</td>\n",
       "      <td>64990000</td>\n",
       "      <td>139</td>\n",
       "      <td>2015-11-24</td>\n",
       "      <td>3</td>\n",
       "      <td>3.00</td>\n",
       "      <td>8.0</td>\n",
       "      <td>3.00</td>\n",
       "      <td>8</td>\n",
       "      <td>False</td>\n",
       "      <td>...</td>\n",
       "      <td>630.0</td>\n",
       "      <td>3.0</td>\n",
       "      <td>100.0</td>\n",
       "      <td>280.0</td>\n",
       "      <td>467553.956835</td>\n",
       "      <td>вторник</td>\n",
       "      <td>11</td>\n",
       "      <td>2015</td>\n",
       "      <td>Последний</td>\n",
       "      <td>5.0</td>\n",
       "    </tr>\n",
       "  </tbody>\n",
       "</table>\n",
       "<p>123 rows × 28 columns</p>\n",
       "</div>"
      ],
      "text/plain": [
       "       total_images  last_price  total_area first_day_exposition  rooms  \\\n",
       "6                 6     3700000          37           2017-11-02      1   \n",
       "114               5     4000000          21           2019-02-07      1   \n",
       "248               7     4100000          31           2015-08-02      1   \n",
       "615              15     4100000          43           2017-06-30      1   \n",
       "680              14     7200000          43           2017-10-31      1   \n",
       "...             ...         ...         ...                  ...    ...   \n",
       "23014             8     2250000          28           2017-08-04      1   \n",
       "23208            12     4800000          37           2016-02-24      1   \n",
       "23359            10     3114406          36           2018-10-01      1   \n",
       "23481             1     3000000          37           2019-04-15      1   \n",
       "23574            14    64990000         139           2015-11-24      3   \n",
       "\n",
       "       ceiling_height  floors_total  living_area  floor  is_apartment  ...  \\\n",
       "6                2.65          26.0        10.60      6         False  ...   \n",
       "114              2.90           8.0         8.30      7         False  ...   \n",
       "248              3.00          17.0        10.00      6         False  ...   \n",
       "615              2.65          18.0        10.00     12         False  ...   \n",
       "680              2.65           8.0         9.00      2         False  ...   \n",
       "...               ...           ...          ...    ...           ...  ...   \n",
       "23014            3.70           3.0        10.90      2         False  ...   \n",
       "23208            2.65          14.0         8.00     11         False  ...   \n",
       "23359            2.65           5.0        10.00      5         False  ...   \n",
       "23481            2.65          19.0        10.08     10         False  ...   \n",
       "23574            3.00           8.0         3.00      8         False  ...   \n",
       "\n",
       "       parks_nearest  ponds_around_3000  ponds_nearest  days_exposition  \\\n",
       "6              733.0                0.0          593.0            155.0   \n",
       "114            488.0                1.0          286.0              NaN   \n",
       "248            139.0                0.0          505.0            637.0   \n",
       "615              NaN                0.0            NaN             18.0   \n",
       "680           2137.0                1.0          933.0            296.0   \n",
       "...              ...                ...            ...              ...   \n",
       "23014          170.0                3.0          110.0            424.0   \n",
       "23208          358.0                1.0          950.0            139.0   \n",
       "23359          251.0                1.0          350.0            145.0   \n",
       "23481          462.0                0.0          505.0              7.0   \n",
       "23574          630.0                3.0          100.0            280.0   \n",
       "\n",
       "        one_m2_price  day_publication  month_publication  year_publication  \\\n",
       "6      100000.000000          четверг                 11              2017   \n",
       "114    190476.190476          четверг                  2              2019   \n",
       "248    132258.064516      воскресенье                  8              2015   \n",
       "615     95348.837209          пятница                  6              2017   \n",
       "680    167441.860465          вторник                 10              2017   \n",
       "...              ...              ...                ...               ...   \n",
       "23014   80357.142857          пятница                  8              2017   \n",
       "23208  129729.729730            среда                  2              2016   \n",
       "23359   86511.277778      понедельник                 10              2018   \n",
       "23481   81081.081081      понедельник                  4              2019   \n",
       "23574  467553.956835          вторник                 11              2015   \n",
       "\n",
       "       floor_type  city_centers_nearest_km  \n",
       "6          Другой                     19.0  \n",
       "114        Другой                      5.0  \n",
       "248        Другой                      8.0  \n",
       "615        Другой                      NaN  \n",
       "680        Другой                      5.0  \n",
       "...           ...                      ...  \n",
       "23014      Другой                     53.0  \n",
       "23208      Другой                     12.0  \n",
       "23359   Последний                     25.0  \n",
       "23481      Другой                     15.0  \n",
       "23574   Последний                      5.0  \n",
       "\n",
       "[123 rows x 28 columns]"
      ]
     },
     "execution_count": 78,
     "metadata": {},
     "output_type": "execute_result"
    }
   ],
   "source": [
    "good_data.query('living_area < 12')"
   ]
  },
  {
   "cell_type": "markdown",
   "metadata": {},
   "source": [
    "3 квадратных метра при общей площади в 139? Да даже 10 метров при 40 выглядить неправдоподобно.\n",
    "Данные могут внести смуту, потому исключим такие квартиры из анализа."
   ]
  },
  {
   "cell_type": "code",
   "execution_count": 79,
   "metadata": {},
   "outputs": [],
   "source": [
    "good_data = good_data.query('living_area > 11')"
   ]
  },
  {
   "cell_type": "markdown",
   "metadata": {},
   "source": [
    "Такая разница графиков между общей площадью и жилой может быть обуслевлена тем, что студия в 20кв.м может иметь дилую площадь в 15кв.м, а 1 комнатная квартира иметь те же 15кв.м жило площади при 25кв.м. общей площади."
   ]
  },
  {
   "cell_type": "markdown",
   "metadata": {},
   "source": [
    "Есть гипотеза, что первый пик - апартаменты, второй пик - квартиры. Проверим"
   ]
  },
  {
   "cell_type": "code",
   "execution_count": 80,
   "metadata": {
    "scrolled": false
   },
   "outputs": [
    {
     "data": {
      "text/plain": [
       "array([[<AxesSubplot:title={'center':'living_area'}>]], dtype=object)"
      ]
     },
     "execution_count": 80,
     "metadata": {},
     "output_type": "execute_result"
    },
    {
     "data": {
      "image/png": "[encoded data removed]",
      "text/plain": [
       "<Figure size 432x288 with 1 Axes>"
      ]
     },
     "metadata": {
      "needs_background": "light"
     },
     "output_type": "display_data"
    }
   ],
   "source": [
    "good_data.query('is_apartment == True').hist('living_area')"
   ]
  },
  {
   "cell_type": "code",
   "execution_count": 81,
   "metadata": {},
   "outputs": [
    {
     "data": {
      "text/plain": [
       "array([[<AxesSubplot:title={'center':'living_area'}>]], dtype=object)"
      ]
     },
     "execution_count": 81,
     "metadata": {},
     "output_type": "execute_result"
    },
    {
     "data": {
      "image/png": "[encoded data removed]",
      "text/plain": [
       "<Figure size 432x288 with 1 Axes>"
      ]
     },
     "metadata": {
      "needs_background": "light"
     },
     "output_type": "display_data"
    }
   ],
   "source": [
    "good_data.query('is_apartment == False').hist('living_area')"
   ]
  },
  {
   "cell_type": "markdown",
   "metadata": {},
   "source": [
    "Оба распределения похожи на нормальные, потому можно сделать вывод, что два пика обусловлены именно типом квартиры"
   ]
  },
  {
   "cell_type": "markdown",
   "metadata": {},
   "source": [
    "**ПЛОЩАДЬ КУХНИ**"
   ]
  },
  {
   "cell_type": "code",
   "execution_count": 82,
   "metadata": {},
   "outputs": [
    {
     "data": {
      "image/png": "[encoded data removed]",
      "text/plain": [
       "<Figure size 1080x360 with 1 Axes>"
      ]
     },
     "metadata": {
      "needs_background": "light"
     },
     "output_type": "display_data"
    },
    {
     "data": {
      "text/plain": [
       "count    22933.000000\n",
       "mean        10.210121\n",
       "std          5.097115\n",
       "min          1.300000\n",
       "25%          7.200000\n",
       "50%          9.000000\n",
       "75%         11.290000\n",
       "max         93.200000\n",
       "Name: kitchen_area, dtype: float64"
      ]
     },
     "execution_count": 82,
     "metadata": {},
     "output_type": "execute_result"
    }
   ],
   "source": [
    "good_data['kitchen_area'].hist(bins=100,figsize = (15,5))\n",
    "plt.show()\n",
    "good_data['kitchen_area'].describe()"
   ]
  },
  {
   "cell_type": "markdown",
   "metadata": {},
   "source": [
    "Поближе изучим кухни от 25 кв.м"
   ]
  },
  {
   "cell_type": "code",
   "execution_count": 83,
   "metadata": {},
   "outputs": [
    {
     "data": {
      "text/plain": [
       "<AxesSubplot:>"
      ]
     },
     "execution_count": 83,
     "metadata": {},
     "output_type": "execute_result"
    },
    {
     "data": {
      "image/png": "[encoded data removed]",
      "text/plain": [
       "<Figure size 1080x360 with 1 Axes>"
      ]
     },
     "metadata": {
      "needs_background": "light"
     },
     "output_type": "display_data"
    }
   ],
   "source": [
    "good_data['kitchen_area'].hist(bins=100,figsize = (15,5), range=(25,80))"
   ]
  },
  {
   "cell_type": "code",
   "execution_count": 84,
   "metadata": {},
   "outputs": [
    {
     "data": {
      "text/plain": [
       "<AxesSubplot:>"
      ]
     },
     "execution_count": 84,
     "metadata": {},
     "output_type": "execute_result"
    },
    {
     "data": {
      "image/png": "[encoded data removed]",
      "text/plain": [
       "<Figure size 432x288 with 1 Axes>"
      ]
     },
     "metadata": {
      "needs_background": "light"
     },
     "output_type": "display_data"
    }
   ],
   "source": [
    "good_data.boxplot('kitchen_area')"
   ]
  },
  {
   "cell_type": "markdown",
   "metadata": {},
   "source": [
    "Как показывают графики, кухни больше 50 кв.м. редки и похожи на выбросы - удаляем."
   ]
  },
  {
   "cell_type": "code",
   "execution_count": 85,
   "metadata": {},
   "outputs": [],
   "source": [
    "good_data = good_data.query('kitchen_area < 51')"
   ]
  },
  {
   "cell_type": "markdown",
   "metadata": {},
   "source": [
    "**ЦЕНА ОБЪЕКТА**"
   ]
  },
  {
   "cell_type": "code",
   "execution_count": 86,
   "metadata": {},
   "outputs": [
    {
     "data": {
      "image/png": "[encoded data removed]",
      "text/plain": [
       "<Figure size 432x288 with 1 Axes>"
      ]
     },
     "metadata": {
      "needs_background": "light"
     },
     "output_type": "display_data"
    },
    {
     "data": {
      "text/plain": [
       "count    22907.000000\n",
       "mean         5.933076\n",
       "std          5.529092\n",
       "min          0.012190\n",
       "25%          3.425000\n",
       "50%          4.600000\n",
       "75%          6.650000\n",
       "max        289.238400\n",
       "Name: last_price, dtype: float64"
      ]
     },
     "execution_count": 86,
     "metadata": {},
     "output_type": "execute_result"
    }
   ],
   "source": [
    "(good_data['last_price']/1000000).hist(bins=100,range=(0,30))\n",
    "plt.show()\n",
    "(good_data['last_price']/1000000).describe()"
   ]
  },
  {
   "cell_type": "code",
   "execution_count": 87,
   "metadata": {},
   "outputs": [
    {
     "data": {
      "image/png": "[encoded data removed]",
      "text/plain": [
       "<Figure size 432x288 with 1 Axes>"
      ]
     },
     "metadata": {
      "needs_background": "light"
     },
     "output_type": "display_data"
    },
    {
     "data": {
      "text/plain": [
       "count    22907.000000\n",
       "mean         5.933076\n",
       "std          5.529092\n",
       "min          0.012190\n",
       "25%          3.425000\n",
       "50%          4.600000\n",
       "75%          6.650000\n",
       "max        289.238400\n",
       "Name: last_price, dtype: float64"
      ]
     },
     "execution_count": 87,
     "metadata": {},
     "output_type": "execute_result"
    }
   ],
   "source": [
    "(good_data['last_price']/1000000).hist(bins=100,range=(15,30))\n",
    "plt.show()\n",
    "(good_data['last_price']/1000000).describe()"
   ]
  },
  {
   "cell_type": "markdown",
   "metadata": {},
   "source": [
    "Распределение нормальное."
   ]
  },
  {
   "cell_type": "markdown",
   "metadata": {},
   "source": [
    "**КОЛИЧЕСТВО КОМНАТ**"
   ]
  },
  {
   "cell_type": "code",
   "execution_count": 88,
   "metadata": {},
   "outputs": [
    {
     "data": {
      "image/png": "[encoded data removed]",
      "text/plain": [
       "<Figure size 432x288 with 1 Axes>"
      ]
     },
     "metadata": {
      "needs_background": "light"
     },
     "output_type": "display_data"
    },
    {
     "data": {
      "text/plain": [
       "count    22907.000000\n",
       "mean         2.035884\n",
       "std          0.943170\n",
       "min          1.000000\n",
       "25%          1.000000\n",
       "50%          2.000000\n",
       "75%          3.000000\n",
       "max          5.000000\n",
       "Name: rooms, dtype: float64"
      ]
     },
     "execution_count": 88,
     "metadata": {},
     "output_type": "execute_result"
    }
   ],
   "source": [
    "good_data['rooms'].hist(bins=50,range=(0,30))\n",
    "plt.show()\n",
    "good_data['rooms'].describe()"
   ]
  },
  {
   "cell_type": "markdown",
   "metadata": {},
   "source": [
    "больше всего 1- и 2-комнатных квартир. Чуть меньше 3-комнатных, и резкий спад в 4- и 5- комнатных."
   ]
  },
  {
   "cell_type": "markdown",
   "metadata": {},
   "source": [
    "**ВЫСОТА ПОТОЛКОВ**"
   ]
  },
  {
   "cell_type": "code",
   "execution_count": 89,
   "metadata": {},
   "outputs": [
    {
     "data": {
      "image/png": "[encoded data removed]",
      "text/plain": [
       "<Figure size 432x288 with 1 Axes>"
      ]
     },
     "metadata": {
      "needs_background": "light"
     },
     "output_type": "display_data"
    },
    {
     "data": {
      "text/plain": [
       "count    22907.000000\n",
       "mean         2.691529\n",
       "std          0.218619\n",
       "min          2.200000\n",
       "25%          2.600000\n",
       "50%          2.650000\n",
       "75%          2.700000\n",
       "max          8.300000\n",
       "Name: ceiling_height, dtype: float64"
      ]
     },
     "execution_count": 89,
     "metadata": {},
     "output_type": "execute_result"
    }
   ],
   "source": [
    "good_data['ceiling_height'].hist(bins=50,range=(0,8))\n",
    "plt.show()\n",
    "good_data['ceiling_height'].describe()"
   ]
  },
  {
   "cell_type": "markdown",
   "metadata": {},
   "source": [
    "Распределение нормальное, пик приходится на 2.6 метров"
   ]
  },
  {
   "cell_type": "markdown",
   "metadata": {},
   "source": [
    "**ЭТАЖ КВАРТИРЫ**"
   ]
  },
  {
   "cell_type": "code",
   "execution_count": 90,
   "metadata": {},
   "outputs": [
    {
     "data": {
      "image/png": "[encoded data removed]",
      "text/plain": [
       "<Figure size 432x288 with 1 Axes>"
      ]
     },
     "metadata": {
      "needs_background": "light"
     },
     "output_type": "display_data"
    },
    {
     "data": {
      "text/plain": [
       "count    22907.000000\n",
       "mean         5.866373\n",
       "std          4.856376\n",
       "min          1.000000\n",
       "25%          2.000000\n",
       "50%          4.000000\n",
       "75%          8.000000\n",
       "max         33.000000\n",
       "Name: floor, dtype: float64"
      ]
     },
     "execution_count": 90,
     "metadata": {},
     "output_type": "execute_result"
    }
   ],
   "source": [
    "good_data['floor'].hist(bins=50,range=(0,30))\n",
    "plt.show()\n",
    "good_data['floor'].describe()"
   ]
  },
  {
   "cell_type": "markdown",
   "metadata": {},
   "source": [
    "Как видим, больше всего квартир на первых 5 этажах. Далее резкий спад."
   ]
  },
  {
   "cell_type": "markdown",
   "metadata": {},
   "source": [
    "**ТИП ЭТАЖА КВАРТИРЫ**"
   ]
  },
  {
   "cell_type": "code",
   "execution_count": 91,
   "metadata": {},
   "outputs": [
    {
     "data": {
      "image/png": "[encoded data removed]",
      "text/plain": [
       "<Figure size 432x288 with 1 Axes>"
      ]
     },
     "metadata": {
      "needs_background": "light"
     },
     "output_type": "display_data"
    },
    {
     "data": {
      "text/plain": [
       "count      22907\n",
       "unique         3\n",
       "top       Другой\n",
       "freq       16849\n",
       "Name: floor_type, dtype: object"
      ]
     },
     "execution_count": 91,
     "metadata": {},
     "output_type": "execute_result"
    }
   ],
   "source": [
    "good_data['floor_type'].hist(bins=50,range=(0,3))\n",
    "plt.show()\n",
    "good_data['floor_type'].describe()"
   ]
  },
  {
   "cell_type": "markdown",
   "metadata": {},
   "source": [
    "Чего и следовало ожидать - квартиры на первом и последнем этаже пользуются меньшей популярностью"
   ]
  },
  {
   "cell_type": "code",
   "execution_count": 92,
   "metadata": {},
   "outputs": [
    {
     "data": {
      "image/png": "[encoded data removed]",
      "text/plain": [
       "<Figure size 432x288 with 1 Axes>"
      ]
     },
     "metadata": {
      "needs_background": "light"
     },
     "output_type": "display_data"
    },
    {
     "data": {
      "text/plain": [
       "count    22907.000000\n",
       "mean        10.668398\n",
       "std          6.553933\n",
       "min          1.000000\n",
       "25%          5.000000\n",
       "50%          9.000000\n",
       "75%         16.000000\n",
       "max         35.000000\n",
       "Name: floors_total, dtype: float64"
      ]
     },
     "execution_count": 92,
     "metadata": {},
     "output_type": "execute_result"
    }
   ],
   "source": [
    "good_data['floors_total'].hist(bins=50,range=(1,35))\n",
    "plt.show()\n",
    "good_data['floors_total'].describe()"
   ]
  },
  {
   "cell_type": "markdown",
   "metadata": {},
   "source": [
    "Наследие СССР еще живо - больше всего 5- и 9-этажных домов"
   ]
  },
  {
   "cell_type": "markdown",
   "metadata": {},
   "source": [
    "**РАССТОЯНИЕ ДО ЦЕНТРА ГОРОДА**"
   ]
  },
  {
   "cell_type": "code",
   "execution_count": 93,
   "metadata": {},
   "outputs": [
    {
     "data": {
      "image/png": "[encoded data removed]",
      "text/plain": [
       "<Figure size 432x288 with 1 Axes>"
      ]
     },
     "metadata": {
      "needs_background": "light"
     },
     "output_type": "display_data"
    },
    {
     "data": {
      "text/plain": [
       "count    17510.000000\n",
       "mean     14336.279098\n",
       "std       8596.343512\n",
       "min        181.000000\n",
       "25%       9529.000000\n",
       "50%      13171.000000\n",
       "75%      16318.750000\n",
       "max      65968.000000\n",
       "Name: city_centers_nearest, dtype: float64"
      ]
     },
     "execution_count": 93,
     "metadata": {},
     "output_type": "execute_result"
    }
   ],
   "source": [
    "good_data['city_centers_nearest'].hist(bins=50,)\n",
    "plt.show()\n",
    "good_data['city_centers_nearest'].describe()"
   ]
  },
  {
   "cell_type": "markdown",
   "metadata": {},
   "source": [
    "**РАССТОЯНИЕ ДО АЭРОПОРТА**"
   ]
  },
  {
   "cell_type": "code",
   "execution_count": 94,
   "metadata": {},
   "outputs": [
    {
     "data": {
      "image/png": "[encoded data removed]",
      "text/plain": [
       "<Figure size 432x288 with 1 Axes>"
      ]
     },
     "metadata": {
      "needs_background": "light"
     },
     "output_type": "display_data"
    },
    {
     "data": {
      "text/plain": [
       "count    17490.000000\n",
       "mean     28864.793139\n",
       "std      12695.535282\n",
       "min          0.000000\n",
       "25%      18487.250000\n",
       "50%      26918.000000\n",
       "75%      37407.000000\n",
       "max      84869.000000\n",
       "Name: airports_nearest, dtype: float64"
      ]
     },
     "execution_count": 94,
     "metadata": {},
     "output_type": "execute_result"
    }
   ],
   "source": [
    "good_data['airports_nearest'].hist(bins=50,)\n",
    "plt.show()\n",
    "good_data['airports_nearest'].describe()"
   ]
  },
  {
   "cell_type": "markdown",
   "metadata": {},
   "source": [
    "**РАССТОЯНИЕ ДО БЛИЖАЙШЕГО ПАРКА**"
   ]
  },
  {
   "cell_type": "code",
   "execution_count": 95,
   "metadata": {},
   "outputs": [
    {
     "data": {
      "image/png": "[encoded data removed]",
      "text/plain": [
       "<Figure size 432x288 with 1 Axes>"
      ]
     },
     "metadata": {
      "needs_background": "light"
     },
     "output_type": "display_data"
    },
    {
     "data": {
      "text/plain": [
       "count    17027.000000\n",
       "mean       477.442415\n",
       "std        235.493569\n",
       "min          1.000000\n",
       "25%        428.500000\n",
       "50%        462.000000\n",
       "75%        462.000000\n",
       "max       3190.000000\n",
       "Name: parks_nearest, dtype: float64"
      ]
     },
     "execution_count": 95,
     "metadata": {},
     "output_type": "execute_result"
    }
   ],
   "source": [
    "good_data['parks_nearest'].hist(bins=100)\n",
    "plt.show()\n",
    "good_data['parks_nearest'].describe()"
   ]
  },
  {
   "cell_type": "markdown",
   "metadata": {},
   "source": [
    "Вызывает подозрение 462 метра до парка - выбивается слишком сильно (результат заполнения пропусков неочными данными).\n",
    "Удалим"
   ]
  },
  {
   "cell_type": "code",
   "execution_count": 96,
   "metadata": {},
   "outputs": [],
   "source": [
    "good_data = good_data.query('parks_nearest !=462')"
   ]
  },
  {
   "cell_type": "markdown",
   "metadata": {},
   "source": [
    "**ДЕНЬ ПУБЛИКАЦИИ**"
   ]
  },
  {
   "cell_type": "code",
   "execution_count": 97,
   "metadata": {},
   "outputs": [
    {
     "data": {
      "image/png": "[encoded data removed]",
      "text/plain": [
       "<Figure size 432x288 with 1 Axes>"
      ]
     },
     "metadata": {
      "needs_background": "light"
     },
     "output_type": "display_data"
    },
    {
     "data": {
      "text/plain": [
       "count       14726\n",
       "unique          7\n",
       "top       четверг\n",
       "freq         2665\n",
       "Name: day_publication, dtype: object"
      ]
     },
     "execution_count": 97,
     "metadata": {},
     "output_type": "execute_result"
    }
   ],
   "source": [
    "good_data['day_publication'].hist(bins=15,)\n",
    "plt.show()\n",
    "good_data['day_publication'].describe()"
   ]
  },
  {
   "cell_type": "markdown",
   "metadata": {},
   "source": [
    "**ВЫВОД**\n",
    "\n",
    "Даже в продажах квартир бывают выходные"
   ]
  },
  {
   "cell_type": "markdown",
   "metadata": {},
   "source": [
    "**МЕСЯЦ ПУБЛИКАЦИИ ОБЪЯВЛЕНИЯ**"
   ]
  },
  {
   "cell_type": "code",
   "execution_count": 98,
   "metadata": {},
   "outputs": [
    {
     "data": {
      "image/png": "[encoded data removed]",
      "text/plain": [
       "<Figure size 432x288 with 1 Axes>"
      ]
     },
     "metadata": {
      "needs_background": "light"
     },
     "output_type": "display_data"
    },
    {
     "data": {
      "text/plain": [
       "count    14726.000000\n",
       "mean         6.380212\n",
       "std          3.508788\n",
       "min          1.000000\n",
       "25%          3.000000\n",
       "50%          6.000000\n",
       "75%         10.000000\n",
       "max         12.000000\n",
       "Name: month_publication, dtype: float64"
      ]
     },
     "execution_count": 98,
     "metadata": {},
     "output_type": "execute_result"
    }
   ],
   "source": [
    "good_data['month_publication'].hist(bins=20)\n",
    "plt.show()\n",
    "good_data['month_publication'].describe()"
   ]
  },
  {
   "cell_type": "markdown",
   "metadata": {},
   "source": [
    "Новый год - новая жизнь. БОльше всего продают в феврале, меньше всего - в мае"
   ]
  },
  {
   "cell_type": "markdown",
   "metadata": {},
   "source": [
    "**ГОД ПУБЛИКАЦИИ ОБЪЯВЛЕНИЯ**"
   ]
  },
  {
   "cell_type": "code",
   "execution_count": 99,
   "metadata": {},
   "outputs": [
    {
     "data": {
      "image/png": "[encoded data removed]",
      "text/plain": [
       "<Figure size 432x288 with 1 Axes>"
      ]
     },
     "metadata": {
      "needs_background": "light"
     },
     "output_type": "display_data"
    },
    {
     "data": {
      "text/plain": [
       "count    14726.000000\n",
       "mean      2017.367310\n",
       "std          1.036653\n",
       "min       2014.000000\n",
       "25%       2017.000000\n",
       "50%       2017.000000\n",
       "75%       2018.000000\n",
       "max       2019.000000\n",
       "Name: year_publication, dtype: float64"
      ]
     },
     "execution_count": 99,
     "metadata": {},
     "output_type": "execute_result"
    }
   ],
   "source": [
    "good_data['year_publication'].hist(bins=20)\n",
    "plt.show()\n",
    "good_data['year_publication'].describe()"
   ]
  },
  {
   "cell_type": "markdown",
   "metadata": {},
   "source": [
    "**ВЫВОД**\n",
    "\n",
    "С каждым годом продавалось все больше квартир. \n",
    "Однако и тут видны последствия пандемии - резский спад в 2019 году"
   ]
  },
  {
   "cell_type": "markdown",
   "metadata": {},
   "source": [
    "  "
   ]
  },
  {
   "cell_type": "markdown",
   "metadata": {},
   "source": [
    "  "
   ]
  },
  {
   "cell_type": "markdown",
   "metadata": {},
   "source": [
    "# ТЕПЕРЬ ПОСМОТРИМ, КАК БЫСТРО ПРОДАЮТСЯ КВАРТИРЫ"
   ]
  },
  {
   "cell_type": "code",
   "execution_count": 100,
   "metadata": {},
   "outputs": [
    {
     "data": {
      "image/png": "[encoded data removed]",
      "text/plain": [
       "<Figure size 1440x720 with 1 Axes>"
      ]
     },
     "metadata": {
      "needs_background": "light"
     },
     "output_type": "display_data"
    },
    {
     "data": {
      "text/plain": [
       "count    12647.000000\n",
       "mean       184.406104\n",
       "std        220.895138\n",
       "min          1.000000\n",
       "25%         45.000000\n",
       "50%         99.000000\n",
       "75%        238.000000\n",
       "max       1580.000000\n",
       "Name: days_exposition, dtype: float64"
      ]
     },
     "execution_count": 100,
     "metadata": {},
     "output_type": "execute_result"
    }
   ],
   "source": [
    "good_data['days_exposition'].hist(bins=400,figsize = (20,10))\n",
    "plt.show()\n",
    "good_data['days_exposition'].describe()"
   ]
  },
  {
   "cell_type": "code",
   "execution_count": 101,
   "metadata": {},
   "outputs": [
    {
     "data": {
      "image/png": "[encoded data removed]",
      "text/plain": [
       "<Figure size 1440x720 with 1 Axes>"
      ]
     },
     "metadata": {
      "needs_background": "light"
     },
     "output_type": "display_data"
    }
   ],
   "source": [
    "good_data['days_exposition'].hist(bins=200,figsize = (20,10),range=(0,100))\n",
    "plt.show()"
   ]
  },
  {
   "cell_type": "code",
   "execution_count": 102,
   "metadata": {},
   "outputs": [
    {
     "data": {
      "text/plain": [
       "<AxesSubplot:>"
      ]
     },
     "execution_count": 102,
     "metadata": {},
     "output_type": "execute_result"
    },
    {
     "data": {
      "image/png": "[encoded data removed]",
      "text/plain": [
       "<Figure size 1440x720 with 1 Axes>"
      ]
     },
     "metadata": {
      "needs_background": "light"
     },
     "output_type": "display_data"
    }
   ],
   "source": [
    "good_data['days_exposition'].hist(bins=400,figsize = (20,10),range=(700,1400))"
   ]
  },
  {
   "cell_type": "markdown",
   "metadata": {},
   "source": [
    "1 - Есть выбросы на 7, 30,45,60 и 90 - Эти аномалии очень похожи на техническую особенность самой платформы: вероятнее, в эти дни платформа автоматически убирает объявления, если пользователь его не продлил. От того и всплески \"продаж\"\n",
    "\n",
    "2 - Хвост распределения очень длинный и после 700 объявлений очень мало. \n",
    "\n",
    "Скорректируем"
   ]
  },
  {
   "cell_type": "code",
   "execution_count": 103,
   "metadata": {},
   "outputs": [],
   "source": [
    "good_data = good_data.query('days_exposition < 700')"
   ]
  },
  {
   "cell_type": "code",
   "execution_count": 104,
   "metadata": {},
   "outputs": [
    {
     "data": {
      "image/png": "[encoded data removed]",
      "text/plain": [
       "<Figure size 1440x720 with 1 Axes>"
      ]
     },
     "metadata": {
      "needs_background": "light"
     },
     "output_type": "display_data"
    },
    {
     "data": {
      "text/plain": [
       "count    12101.000000\n",
       "mean       150.643501\n",
       "std        151.377970\n",
       "min          1.000000\n",
       "25%         45.000000\n",
       "50%         92.000000\n",
       "75%        209.000000\n",
       "max        698.000000\n",
       "Name: days_exposition, dtype: float64"
      ]
     },
     "execution_count": 104,
     "metadata": {},
     "output_type": "execute_result"
    }
   ],
   "source": [
    "good_data['days_exposition'].hist(bins=200,figsize = (20,10))\n",
    "plt.show()\n",
    "good_data['days_exposition'].describe()"
   ]
  },
  {
   "cell_type": "markdown",
   "metadata": {},
   "source": [
    "Теперь лучше.\n"
   ]
  },
  {
   "cell_type": "markdown",
   "metadata": {},
   "source": [
    "### ВЫВОД\n",
    "\n",
    "Половина квартир продается за 3 месяца. \n",
    "\n",
    "Четверть продается за 1.5 месяцев \n",
    "\n",
    "Следовательно, все, что дольше 6 месяцев - долгая продажа"
   ]
  },
  {
   "cell_type": "markdown",
   "metadata": {},
   "source": [
    "  "
   ]
  },
  {
   "cell_type": "markdown",
   "metadata": {},
   "source": [
    " "
   ]
  },
  {
   "cell_type": "markdown",
   "metadata": {},
   "source": [
    "# ВЫЯСНИМ, КАКИЕ ФАКТОРЫ БОЛЬШЕ ВСЕГО ВЛИЯЮТ НА ОБЩУЮ СТОИМОСТЬ ОБЪЕКТ"
   ]
  },
  {
   "cell_type": "markdown",
   "metadata": {},
   "source": [
    "Для начала напишем функцию для построения графика корреляции"
   ]
  },
  {
   "cell_type": "code",
   "execution_count": 105,
   "metadata": {},
   "outputs": [],
   "source": [
    "def make_graphic(a,b='last_price',graphic_type = 'scatter'):\n",
    "    \n",
    "    \n",
    "    good_data.plot(x=a,y=b,kind='scatter')\n",
    "    plt.show()\n",
    "    \n",
    "    try:\n",
    "        print(good_data[a].corr(good_data[b]))\n",
    "    except:\n",
    "        print('строки и числа не корелируются')"
   ]
  },
  {
   "cell_type": "markdown",
   "metadata": {},
   "source": [
    "### Посмотрим на корреляцию стоимости и общей площади"
   ]
  },
  {
   "cell_type": "code",
   "execution_count": 106,
   "metadata": {},
   "outputs": [
    {
     "data": {
      "image/png": "[encoded data removed]",
      "text/plain": [
       "<Figure size 432x288 with 1 Axes>"
      ]
     },
     "metadata": {
      "needs_background": "light"
     },
     "output_type": "display_data"
    },
    {
     "name": "stdout",
     "output_type": "stream",
     "text": [
      "0.6925158664332864\n"
     ]
    }
   ],
   "source": [
    "make_graphic('total_area')"
   ]
  },
  {
   "cell_type": "markdown",
   "metadata": {},
   "source": [
    "**ВЫВОД**\n",
    "\n",
    "\n",
    "Зависимость есть, но не очень большая. "
   ]
  },
  {
   "cell_type": "markdown",
   "metadata": {},
   "source": [
    "### Посмотрим на корреляцию стоимости ижилой площади"
   ]
  },
  {
   "cell_type": "code",
   "execution_count": 107,
   "metadata": {},
   "outputs": [
    {
     "data": {
      "image/png": "[encoded data removed]",
      "text/plain": [
       "<Figure size 432x288 with 1 Axes>"
      ]
     },
     "metadata": {
      "needs_background": "light"
     },
     "output_type": "display_data"
    },
    {
     "name": "stdout",
     "output_type": "stream",
     "text": [
      "0.5655015821323895\n"
     ]
    }
   ],
   "source": [
    "make_graphic('living_area')"
   ]
  },
  {
   "cell_type": "markdown",
   "metadata": {},
   "source": [
    "**ВЫВОД**\n",
    "\n",
    "Корреляция близка к устойчивой, потому нельзя сказать, что жилая площадь сиьлно влияет на цену"
   ]
  },
  {
   "cell_type": "markdown",
   "metadata": {},
   "source": [
    "### Посмотрим на корреляцию стоимости и площади кухни\n"
   ]
  },
  {
   "cell_type": "code",
   "execution_count": 108,
   "metadata": {},
   "outputs": [
    {
     "data": {
      "image/png": "[encoded data removed]",
      "text/plain": [
       "<Figure size 432x288 with 1 Axes>"
      ]
     },
     "metadata": {
      "needs_background": "light"
     },
     "output_type": "display_data"
    },
    {
     "name": "stdout",
     "output_type": "stream",
     "text": [
      "0.48310464140782733\n"
     ]
    }
   ],
   "source": [
    "make_graphic('kitchen_area')"
   ]
  },
  {
   "cell_type": "markdown",
   "metadata": {},
   "source": [
    "**ВЫВОД**\n",
    "\n",
    "Та же картина, что и с жилой площадью. Нынче меньше душевных посиделок на кухне..."
   ]
  },
  {
   "cell_type": "markdown",
   "metadata": {},
   "source": [
    "### Посмотрим на корреляцию стоимости и rколичества комнат\n"
   ]
  },
  {
   "cell_type": "code",
   "execution_count": 109,
   "metadata": {},
   "outputs": [
    {
     "data": {
      "image/png": "[encoded data removed]",
      "text/plain": [
       "<Figure size 432x288 with 1 Axes>"
      ]
     },
     "metadata": {
      "needs_background": "light"
     },
     "output_type": "display_data"
    },
    {
     "name": "stdout",
     "output_type": "stream",
     "text": [
      "0.396748724558291\n"
     ]
    }
   ],
   "source": [
    "make_graphic('rooms', graphic_type='line')"
   ]
  },
  {
   "cell_type": "markdown",
   "metadata": {},
   "source": [
    "Корреляция небольшая. Это может быть связано с тем, что цена одного кв метра падает с увеличением количества комнат. \n",
    "\n",
    "СРазу и проверим эту гипотезу"
   ]
  },
  {
   "cell_type": "code",
   "execution_count": 110,
   "metadata": {},
   "outputs": [
    {
     "data": {
      "text/html": [
       "<div>\n",
       "<style scoped>\n",
       "    .dataframe tbody tr th:only-of-type {\n",
       "        vertical-align: middle;\n",
       "    }\n",
       "\n",
       "    .dataframe tbody tr th {\n",
       "        vertical-align: top;\n",
       "    }\n",
       "\n",
       "    .dataframe thead th {\n",
       "        text-align: right;\n",
       "    }\n",
       "</style>\n",
       "<table border=\"1\" class=\"dataframe\">\n",
       "  <thead>\n",
       "    <tr style=\"text-align: right;\">\n",
       "      <th></th>\n",
       "      <th>one_m2_price</th>\n",
       "    </tr>\n",
       "    <tr>\n",
       "      <th>rooms</th>\n",
       "      <th></th>\n",
       "    </tr>\n",
       "  </thead>\n",
       "  <tbody>\n",
       "    <tr>\n",
       "      <th>1</th>\n",
       "      <td>93103.448276</td>\n",
       "    </tr>\n",
       "    <tr>\n",
       "      <th>2</th>\n",
       "      <td>83697.674419</td>\n",
       "    </tr>\n",
       "    <tr>\n",
       "      <th>3</th>\n",
       "      <td>83050.847458</td>\n",
       "    </tr>\n",
       "    <tr>\n",
       "      <th>4</th>\n",
       "      <td>89263.110307</td>\n",
       "    </tr>\n",
       "    <tr>\n",
       "      <th>5</th>\n",
       "      <td>89506.172840</td>\n",
       "    </tr>\n",
       "  </tbody>\n",
       "</table>\n",
       "</div>"
      ],
      "text/plain": [
       "       one_m2_price\n",
       "rooms              \n",
       "1      93103.448276\n",
       "2      83697.674419\n",
       "3      83050.847458\n",
       "4      89263.110307\n",
       "5      89506.172840"
      ]
     },
     "execution_count": 110,
     "metadata": {},
     "output_type": "execute_result"
    }
   ],
   "source": [
    "good_data.pivot_table(index='rooms',values='one_m2_price',aggfunc='median')"
   ]
  },
  {
   "cell_type": "markdown",
   "metadata": {},
   "source": [
    "**ВЫВОД**\n",
    "\n",
    "Как ни странно, от увеличения количества комнат общая цена не сильно растет"
   ]
  },
  {
   "cell_type": "markdown",
   "metadata": {},
   "source": [
    "### Посмотрим на корреляцию стоимости и типа этажа, на котором расположена квартира (первый, последний, другой)\n"
   ]
  },
  {
   "cell_type": "code",
   "execution_count": 111,
   "metadata": {},
   "outputs": [
    {
     "data": {
      "image/png": "[encoded data removed]",
      "text/plain": [
       "<Figure size 432x288 with 1 Axes>"
      ]
     },
     "metadata": {
      "needs_background": "light"
     },
     "output_type": "display_data"
    },
    {
     "name": "stdout",
     "output_type": "stream",
     "text": [
      "строки и числа не корелируются\n"
     ]
    }
   ],
   "source": [
    "make_graphic('floor_type')"
   ]
  },
  {
   "cell_type": "markdown",
   "metadata": {},
   "source": [
    "**ВЫВОД**\n",
    "\n",
    "И тут корреляции, в принципе, не наблюдается"
   ]
  },
  {
   "cell_type": "markdown",
   "metadata": {},
   "source": [
    "### Посмотрим на корреляцию стоимости от дня, месяца и года размещения объявления"
   ]
  },
  {
   "cell_type": "code",
   "execution_count": 112,
   "metadata": {},
   "outputs": [
    {
     "data": {
      "image/png": "[encoded data removed]",
      "text/plain": [
       "<Figure size 432x288 with 1 Axes>"
      ]
     },
     "metadata": {
      "needs_background": "light"
     },
     "output_type": "display_data"
    },
    {
     "name": "stdout",
     "output_type": "stream",
     "text": [
      "строки и числа не корелируются\n"
     ]
    }
   ],
   "source": [
    "make_graphic('day_publication')"
   ]
  },
  {
   "cell_type": "code",
   "execution_count": 113,
   "metadata": {},
   "outputs": [],
   "source": [
    "def make_graphic2(index):\n",
    "    pivot = good_data.pivot_table(index=index,values='last_price',aggfunc='median')\n",
    "    print(pivot)\n",
    "    pivot.plot(figsize=(15,5),grid=True)\n",
    "    "
   ]
  },
  {
   "cell_type": "code",
   "execution_count": 114,
   "metadata": {},
   "outputs": [
    {
     "name": "stdout",
     "output_type": "stream",
     "text": [
      "                 last_price\n",
      "day_publication            \n",
      "воскресенье         3950000\n",
      "вторник             4150000\n",
      "понедельник         4150000\n",
      "пятница             4100000\n",
      "среда               4100000\n",
      "суббота             4170000\n",
      "четверг             4199500\n"
     ]
    },
    {
     "data": {
      "image/png": "[encoded data removed]",
      "text/plain": [
       "<Figure size 1080x360 with 1 Axes>"
      ]
     },
     "metadata": {
      "needs_background": "light"
     },
     "output_type": "display_data"
    }
   ],
   "source": [
    "    make_graphic2('day_publication')"
   ]
  },
  {
   "cell_type": "code",
   "execution_count": 115,
   "metadata": {},
   "outputs": [
    {
     "name": "stdout",
     "output_type": "stream",
     "text": [
      "                   last_price\n",
      "month_publication            \n",
      "1                     4000000\n",
      "2                     4100000\n",
      "3                     3950000\n",
      "4                     4200000\n",
      "5                     4200000\n",
      "6                     3995000\n",
      "7                     4119050\n",
      "8                     4150000\n",
      "9                     4250000\n",
      "10                    4150000\n",
      "11                    4250000\n",
      "12                    4100000\n"
     ]
    },
    {
     "data": {
      "image/png": "[encoded data removed]",
      "text/plain": [
       "<Figure size 1080x360 with 1 Axes>"
      ]
     },
     "metadata": {
      "needs_background": "light"
     },
     "output_type": "display_data"
    }
   ],
   "source": [
    "    make_graphic2('month_publication')"
   ]
  },
  {
   "cell_type": "code",
   "execution_count": 116,
   "metadata": {},
   "outputs": [
    {
     "name": "stdout",
     "output_type": "stream",
     "text": [
      "                  last_price\n",
      "year_publication            \n",
      "2014                 6845000\n",
      "2015                 4675000\n",
      "2016                 4153500\n",
      "2017                 4110000\n",
      "2018                 4050000\n",
      "2019                 4250000\n"
     ]
    },
    {
     "data": {
      "image/png": "[encoded data removed]",
      "text/plain": [
       "<Figure size 1080x360 with 1 Axes>"
      ]
     },
     "metadata": {
      "needs_background": "light"
     },
     "output_type": "display_data"
    }
   ],
   "source": [
    "    make_graphic2('year_publication')"
   ]
  },
  {
   "cell_type": "markdown",
   "metadata": {},
   "source": [
    "**ВЫВОД**\n",
    "\n",
    "Выгоднее всего покупать в воскресенье, в апреле или июне.\n",
    "Осенью квартиры дорожают, а с началом нового года дешевеют (неужто новогодний ажиотаж?)\n",
    "А падение связано, скорее всего, с перенасыщением. Как мы помним, количество объявлений увеличивалось"
   ]
  },
  {
   "cell_type": "markdown",
   "metadata": {},
   "source": [
    "# Общий вывод \n",
    "\n",
    "Как показывают графики, из предложенных в задании критериев, самым важным оказалась общая площадь объекта.\n",
    "Меньше всего на цену влияет количество и тип этажа"
   ]
  },
  {
   "cell_type": "markdown",
   "metadata": {},
   "source": [
    "  "
   ]
  },
  {
   "cell_type": "markdown",
   "metadata": {},
   "source": [
    "# Посчитаем среднюю цену одного квадратного метра в 10 населённых пунктах с наибольшим числом объявлений"
   ]
  },
  {
   "cell_type": "code",
   "execution_count": 117,
   "metadata": {},
   "outputs": [],
   "source": [
    "sort = good_data.groupby('locality_name').agg({'locality_name' : 'count','one_m2_price' : 'median'})\n",
    "sort.columns = ['count', 'price_1m2']"
   ]
  },
  {
   "cell_type": "code",
   "execution_count": 118,
   "metadata": {},
   "outputs": [
    {
     "data": {
      "text/html": [
       "<div>\n",
       "<style scoped>\n",
       "    .dataframe tbody tr th:only-of-type {\n",
       "        vertical-align: middle;\n",
       "    }\n",
       "\n",
       "    .dataframe tbody tr th {\n",
       "        vertical-align: top;\n",
       "    }\n",
       "\n",
       "    .dataframe thead th {\n",
       "        text-align: right;\n",
       "    }\n",
       "</style>\n",
       "<table border=\"1\" class=\"dataframe\">\n",
       "  <thead>\n",
       "    <tr style=\"text-align: right;\">\n",
       "      <th></th>\n",
       "      <th>count</th>\n",
       "      <th>price_1m2</th>\n",
       "    </tr>\n",
       "    <tr>\n",
       "      <th>locality_name</th>\n",
       "      <th></th>\n",
       "      <th></th>\n",
       "    </tr>\n",
       "  </thead>\n",
       "  <tbody>\n",
       "    <tr>\n",
       "      <th>Санкт-Петербург</th>\n",
       "      <td>5662</td>\n",
       "      <td>105263.157895</td>\n",
       "    </tr>\n",
       "    <tr>\n",
       "      <th>Мурино</th>\n",
       "      <td>500</td>\n",
       "      <td>85403.225806</td>\n",
       "    </tr>\n",
       "    <tr>\n",
       "      <th>Шушары</th>\n",
       "      <td>388</td>\n",
       "      <td>76537.063953</td>\n",
       "    </tr>\n",
       "    <tr>\n",
       "      <th>Всеволожск</th>\n",
       "      <td>321</td>\n",
       "      <td>65789.473684</td>\n",
       "    </tr>\n",
       "    <tr>\n",
       "      <th>Колпино</th>\n",
       "      <td>301</td>\n",
       "      <td>73863.636364</td>\n",
       "    </tr>\n",
       "    <tr>\n",
       "      <th>Пушкин</th>\n",
       "      <td>286</td>\n",
       "      <td>98575.757576</td>\n",
       "    </tr>\n",
       "    <tr>\n",
       "      <th>Парголово</th>\n",
       "      <td>284</td>\n",
       "      <td>91666.666667</td>\n",
       "    </tr>\n",
       "    <tr>\n",
       "      <th>Кудрово</th>\n",
       "      <td>264</td>\n",
       "      <td>91930.232558</td>\n",
       "    </tr>\n",
       "    <tr>\n",
       "      <th>Гатчина</th>\n",
       "      <td>252</td>\n",
       "      <td>67694.497154</td>\n",
       "    </tr>\n",
       "    <tr>\n",
       "      <th>Выборг</th>\n",
       "      <td>198</td>\n",
       "      <td>56787.469287</td>\n",
       "    </tr>\n",
       "  </tbody>\n",
       "</table>\n",
       "</div>"
      ],
      "text/plain": [
       "                 count      price_1m2\n",
       "locality_name                        \n",
       "Санкт-Петербург   5662  105263.157895\n",
       "Мурино             500   85403.225806\n",
       "Шушары             388   76537.063953\n",
       "Всеволожск         321   65789.473684\n",
       "Колпино            301   73863.636364\n",
       "Пушкин             286   98575.757576\n",
       "Парголово          284   91666.666667\n",
       " Кудрово           264   91930.232558\n",
       "Гатчина            252   67694.497154\n",
       "Выборг             198   56787.469287"
      ]
     },
     "execution_count": 118,
     "metadata": {},
     "output_type": "execute_result"
    }
   ],
   "source": [
    "sort.sort_values(by='count',ascending=False).head(10)"
   ]
  },
  {
   "cell_type": "markdown",
   "metadata": {},
   "source": [
    "**ВЫВОД**\n",
    "\n",
    "Как и ожидалось - в Питере и объявлений больше, и цена выше"
   ]
  },
  {
   "cell_type": "markdown",
   "metadata": {},
   "source": [
    "#  Выделим квартиры в Санкт-Петербурге с помощью столбца locality_name и вычислите среднюю цену каждого километра"
   ]
  },
  {
   "cell_type": "code",
   "execution_count": 119,
   "metadata": {},
   "outputs": [],
   "source": [
    "data_spb = good_data.query('locality_name == \"Санкт-Петербург\"')"
   ]
  },
  {
   "cell_type": "code",
   "execution_count": 120,
   "metadata": {},
   "outputs": [
    {
     "data": {
      "text/html": [
       "<div>\n",
       "<style scoped>\n",
       "    .dataframe tbody tr th:only-of-type {\n",
       "        vertical-align: middle;\n",
       "    }\n",
       "\n",
       "    .dataframe tbody tr th {\n",
       "        vertical-align: top;\n",
       "    }\n",
       "\n",
       "    .dataframe thead th {\n",
       "        text-align: right;\n",
       "    }\n",
       "</style>\n",
       "<table border=\"1\" class=\"dataframe\">\n",
       "  <thead>\n",
       "    <tr style=\"text-align: right;\">\n",
       "      <th></th>\n",
       "      <th>one_m2_price</th>\n",
       "    </tr>\n",
       "    <tr>\n",
       "      <th>city_centers_nearest_km</th>\n",
       "      <th></th>\n",
       "    </tr>\n",
       "  </thead>\n",
       "  <tbody>\n",
       "    <tr>\n",
       "      <th>0.0</th>\n",
       "      <td>143231.989878</td>\n",
       "    </tr>\n",
       "    <tr>\n",
       "      <th>1.0</th>\n",
       "      <td>146719.102660</td>\n",
       "    </tr>\n",
       "    <tr>\n",
       "      <th>2.0</th>\n",
       "      <td>139537.040099</td>\n",
       "    </tr>\n",
       "    <tr>\n",
       "      <th>3.0</th>\n",
       "      <td>120352.265482</td>\n",
       "    </tr>\n",
       "    <tr>\n",
       "      <th>4.0</th>\n",
       "      <td>132694.954694</td>\n",
       "    </tr>\n",
       "    <tr>\n",
       "      <th>5.0</th>\n",
       "      <td>141589.184658</td>\n",
       "    </tr>\n",
       "    <tr>\n",
       "      <th>6.0</th>\n",
       "      <td>144502.112754</td>\n",
       "    </tr>\n",
       "    <tr>\n",
       "      <th>7.0</th>\n",
       "      <td>144420.811653</td>\n",
       "    </tr>\n",
       "    <tr>\n",
       "      <th>8.0</th>\n",
       "      <td>125769.627766</td>\n",
       "    </tr>\n",
       "    <tr>\n",
       "      <th>9.0</th>\n",
       "      <td>109983.102309</td>\n",
       "    </tr>\n",
       "    <tr>\n",
       "      <th>10.0</th>\n",
       "      <td>114597.572038</td>\n",
       "    </tr>\n",
       "    <tr>\n",
       "      <th>11.0</th>\n",
       "      <td>103259.013389</td>\n",
       "    </tr>\n",
       "    <tr>\n",
       "      <th>12.0</th>\n",
       "      <td>111994.007541</td>\n",
       "    </tr>\n",
       "    <tr>\n",
       "      <th>13.0</th>\n",
       "      <td>107579.588011</td>\n",
       "    </tr>\n",
       "    <tr>\n",
       "      <th>14.0</th>\n",
       "      <td>101534.084599</td>\n",
       "    </tr>\n",
       "    <tr>\n",
       "      <th>15.0</th>\n",
       "      <td>98050.922914</td>\n",
       "    </tr>\n",
       "    <tr>\n",
       "      <th>16.0</th>\n",
       "      <td>101714.171971</td>\n",
       "    </tr>\n",
       "    <tr>\n",
       "      <th>17.0</th>\n",
       "      <td>96149.533916</td>\n",
       "    </tr>\n",
       "    <tr>\n",
       "      <th>18.0</th>\n",
       "      <td>85757.455560</td>\n",
       "    </tr>\n",
       "    <tr>\n",
       "      <th>19.0</th>\n",
       "      <td>94673.945216</td>\n",
       "    </tr>\n",
       "    <tr>\n",
       "      <th>20.0</th>\n",
       "      <td>92834.967320</td>\n",
       "    </tr>\n",
       "    <tr>\n",
       "      <th>21.0</th>\n",
       "      <td>86756.156448</td>\n",
       "    </tr>\n",
       "    <tr>\n",
       "      <th>25.0</th>\n",
       "      <td>89877.235241</td>\n",
       "    </tr>\n",
       "    <tr>\n",
       "      <th>27.0</th>\n",
       "      <td>193918.918919</td>\n",
       "    </tr>\n",
       "    <tr>\n",
       "      <th>28.0</th>\n",
       "      <td>68473.364669</td>\n",
       "    </tr>\n",
       "  </tbody>\n",
       "</table>\n",
       "</div>"
      ],
      "text/plain": [
       "                          one_m2_price\n",
       "city_centers_nearest_km               \n",
       "0.0                      143231.989878\n",
       "1.0                      146719.102660\n",
       "2.0                      139537.040099\n",
       "3.0                      120352.265482\n",
       "4.0                      132694.954694\n",
       "5.0                      141589.184658\n",
       "6.0                      144502.112754\n",
       "7.0                      144420.811653\n",
       "8.0                      125769.627766\n",
       "9.0                      109983.102309\n",
       "10.0                     114597.572038\n",
       "11.0                     103259.013389\n",
       "12.0                     111994.007541\n",
       "13.0                     107579.588011\n",
       "14.0                     101534.084599\n",
       "15.0                      98050.922914\n",
       "16.0                     101714.171971\n",
       "17.0                      96149.533916\n",
       "18.0                      85757.455560\n",
       "19.0                      94673.945216\n",
       "20.0                      92834.967320\n",
       "21.0                      86756.156448\n",
       "25.0                      89877.235241\n",
       "27.0                     193918.918919\n",
       "28.0                      68473.364669"
      ]
     },
     "execution_count": 120,
     "metadata": {},
     "output_type": "execute_result"
    }
   ],
   "source": [
    "data_spb_pivot = data_spb.pivot_table(index='city_centers_nearest_km',values='one_m2_price')\n",
    "data_spb_pivot"
   ]
  },
  {
   "cell_type": "code",
   "execution_count": 121,
   "metadata": {},
   "outputs": [
    {
     "data": {
      "image/png": "[encoded data removed]",
      "text/plain": [
       "<Figure size 1008x576 with 1 Axes>"
      ]
     },
     "metadata": {
      "needs_background": "light"
     },
     "output_type": "display_data"
    }
   ],
   "source": [
    "data_spb_pivot.plot(kind='bar', grid=True, figsize=(14,8), title = 'Заголовок');"
   ]
  },
  {
   "cell_type": "markdown",
   "metadata": {},
   "source": [
    "**ВЫВОД**\n",
    "\n",
    "Как и ожидалось, чем ближе к центру, тем дороже.\n"
   ]
  },
  {
   "cell_type": "markdown",
   "metadata": {},
   "source": [
    "# Общий вывод"
   ]
  },
  {
   "cell_type": "markdown",
   "metadata": {},
   "source": [
    "Проанализировав данные по объявлениям о продажах квартир в Санкт-Петербурге и Ленинградской области мы пришли к следующим выводам:\n",
    "\n",
    "- Самая дорогая недвижимость, как и ожидалось, в Санкт-Петербурге\n",
    "- На цену объекта сильнее всего влияет общая площадь помещения и удаленность от центра;\n",
    "- Квартире на первых и последний этажах пользуются меньшей популярность, нежели все остальные\n",
    "- Средняя стоимость составляет колеблется в диапозоне 4.2 - 5.9 млн. рублей\n",
    "- Чаще всего продаются 1-,2- и 3-комнатные квартиры\n",
    "- средняя площадь квартир _ 50-53 кв.м. Но встречаются и 900метровые гиганты.\n",
    "- 5-этажных зданиц по-прежнему огромное количество\n",
    "- Продажа квартиры, в среднем. занимает 3-4 месяца"
   ]
  }
 ],
 "metadata": {
  "ExecuteTimeLog": [
   {
    "duration": 62,
    "start_time": "2023-02-17T22:54:26.292Z"
   },
   {
    "duration": 799,
    "start_time": "2023-02-17T22:54:40.015Z"
   },
   {
    "duration": 95,
    "start_time": "2023-02-17T22:55:06.475Z"
   },
   {
    "duration": 51,
    "start_time": "2023-02-17T22:55:13.382Z"
   },
   {
    "duration": 56,
    "start_time": "2023-02-17T22:55:19.871Z"
   },
   {
    "duration": 55,
    "start_time": "2023-02-17T22:55:26.636Z"
   },
   {
    "duration": 48,
    "start_time": "2023-02-17T22:56:17.580Z"
   },
   {
    "duration": 82,
    "start_time": "2023-02-17T22:56:22.974Z"
   },
   {
    "duration": 109,
    "start_time": "2023-02-17T22:56:32.058Z"
   },
   {
    "duration": 91,
    "start_time": "2023-02-17T22:56:39.413Z"
   },
   {
    "duration": 90,
    "start_time": "2023-02-17T22:57:51.657Z"
   },
   {
    "duration": 98,
    "start_time": "2023-02-17T22:58:13.746Z"
   },
   {
    "duration": 53,
    "start_time": "2023-02-17T22:58:27.066Z"
   },
   {
    "duration": 54,
    "start_time": "2023-02-17T22:59:25.207Z"
   },
   {
    "duration": 66,
    "start_time": "2023-02-17T23:02:38.003Z"
   },
   {
    "duration": 95,
    "start_time": "2023-02-17T23:03:16.276Z"
   },
   {
    "duration": 87,
    "start_time": "2023-02-17T23:03:23.580Z"
   },
   {
    "duration": 397,
    "start_time": "2023-02-17T23:03:52.034Z"
   },
   {
    "duration": 106,
    "start_time": "2023-02-17T23:05:07.415Z"
   },
   {
    "duration": 98,
    "start_time": "2023-02-17T23:05:22.594Z"
   },
   {
    "duration": 114,
    "start_time": "2023-02-17T23:07:04.769Z"
   },
   {
    "duration": 115,
    "start_time": "2023-02-17T23:07:18.878Z"
   },
   {
    "duration": 56,
    "start_time": "2023-02-17T23:07:35.813Z"
   },
   {
    "duration": 113,
    "start_time": "2023-02-17T23:07:48.014Z"
   },
   {
    "duration": 133,
    "start_time": "2023-02-17T23:08:06.069Z"
   },
   {
    "duration": 16,
    "start_time": "2023-02-17T23:08:20.765Z"
   },
   {
    "duration": 28,
    "start_time": "2023-02-17T23:08:34.238Z"
   },
   {
    "duration": 2632,
    "start_time": "2023-02-17T23:09:59.381Z"
   },
   {
    "duration": 29,
    "start_time": "2023-02-17T23:13:17.426Z"
   },
   {
    "duration": 9,
    "start_time": "2023-02-17T23:13:29.445Z"
   },
   {
    "duration": 1307,
    "start_time": "2023-02-17T23:15:51.508Z"
   },
   {
    "duration": 917,
    "start_time": "2023-02-17T23:16:12.060Z"
   },
   {
    "duration": 1842,
    "start_time": "2023-02-17T23:16:26.269Z"
   },
   {
    "duration": 7,
    "start_time": "2023-02-17T23:21:12.488Z"
   },
   {
    "duration": 30,
    "start_time": "2023-02-17T23:21:22.674Z"
   },
   {
    "duration": 21,
    "start_time": "2023-02-17T23:21:43.368Z"
   },
   {
    "duration": 21,
    "start_time": "2023-02-17T23:21:49.922Z"
   },
   {
    "duration": 10,
    "start_time": "2023-02-18T00:27:08.205Z"
   },
   {
    "duration": 7,
    "start_time": "2023-02-18T00:27:38.740Z"
   },
   {
    "duration": 6,
    "start_time": "2023-02-18T00:33:54.503Z"
   },
   {
    "duration": 685,
    "start_time": "2023-02-19T09:36:22.573Z"
   },
   {
    "duration": 53,
    "start_time": "2023-02-19T09:36:28.089Z"
   },
   {
    "duration": 2797,
    "start_time": "2023-02-19T09:36:39.392Z"
   },
   {
    "duration": 31,
    "start_time": "2023-02-19T09:36:46.438Z"
   },
   {
    "duration": 7,
    "start_time": "2023-02-19T09:36:48.485Z"
   },
   {
    "duration": 10,
    "start_time": "2023-02-19T09:37:00.883Z"
   },
   {
    "duration": 4,
    "start_time": "2023-02-19T14:43:10.773Z"
   },
   {
    "duration": 97,
    "start_time": "2023-02-19T14:43:21.743Z"
   },
   {
    "duration": 123,
    "start_time": "2023-02-19T14:43:28.233Z"
   },
   {
    "duration": 15,
    "start_time": "2023-02-19T14:43:58.147Z"
   },
   {
    "duration": 12,
    "start_time": "2023-02-19T14:46:56.588Z"
   },
   {
    "duration": 20,
    "start_time": "2023-02-19T14:48:12.237Z"
   },
   {
    "duration": 19,
    "start_time": "2023-02-19T14:48:24.044Z"
   },
   {
    "duration": 12,
    "start_time": "2023-02-19T14:52:50.371Z"
   },
   {
    "duration": 16,
    "start_time": "2023-02-19T14:52:59.324Z"
   },
   {
    "duration": 38,
    "start_time": "2023-02-19T14:53:24.952Z"
   },
   {
    "duration": 22,
    "start_time": "2023-02-19T14:54:41.544Z"
   },
   {
    "duration": 544,
    "start_time": "2023-02-19T14:55:35.388Z"
   },
   {
    "duration": 38,
    "start_time": "2023-02-19T14:55:35.937Z"
   },
   {
    "duration": 2474,
    "start_time": "2023-02-19T14:55:35.977Z"
   },
   {
    "duration": 25,
    "start_time": "2023-02-19T14:55:38.457Z"
   },
   {
    "duration": 7,
    "start_time": "2023-02-19T14:55:38.484Z"
   },
   {
    "duration": 51,
    "start_time": "2023-02-19T14:55:38.493Z"
   },
   {
    "duration": 23,
    "start_time": "2023-02-19T14:57:09.277Z"
   },
   {
    "duration": 27,
    "start_time": "2023-02-19T14:57:28.641Z"
   },
   {
    "duration": 12,
    "start_time": "2023-02-19T14:57:37.768Z"
   },
   {
    "duration": 46,
    "start_time": "2023-02-19T14:58:20.801Z"
   },
   {
    "duration": 26,
    "start_time": "2023-02-19T14:58:30.952Z"
   },
   {
    "duration": 36,
    "start_time": "2023-02-19T14:59:44.551Z"
   },
   {
    "duration": 31,
    "start_time": "2023-02-19T15:01:17.209Z"
   },
   {
    "duration": 27,
    "start_time": "2023-02-19T15:08:18.862Z"
   },
   {
    "duration": 24,
    "start_time": "2023-02-19T15:09:33.949Z"
   },
   {
    "duration": 4,
    "start_time": "2023-02-19T15:09:55.868Z"
   },
   {
    "duration": 101,
    "start_time": "2023-02-19T15:11:31.039Z"
   },
   {
    "duration": 11,
    "start_time": "2023-02-19T15:11:51.247Z"
   },
   {
    "duration": 6,
    "start_time": "2023-02-19T15:12:07.371Z"
   },
   {
    "duration": 6,
    "start_time": "2023-02-19T15:13:19.594Z"
   },
   {
    "duration": 52,
    "start_time": "2023-02-19T15:13:22.330Z"
   },
   {
    "duration": 19,
    "start_time": "2023-02-19T15:14:30.502Z"
   },
   {
    "duration": 22,
    "start_time": "2023-02-19T15:14:44.315Z"
   },
   {
    "duration": 14,
    "start_time": "2023-02-19T15:26:06.556Z"
   },
   {
    "duration": 9,
    "start_time": "2023-02-19T15:27:14.883Z"
   },
   {
    "duration": 10,
    "start_time": "2023-02-19T15:29:02.432Z"
   },
   {
    "duration": 9,
    "start_time": "2023-02-19T15:29:19.982Z"
   },
   {
    "duration": 926,
    "start_time": "2023-02-19T15:29:30.014Z"
   },
   {
    "duration": 2030,
    "start_time": "2023-02-19T15:29:49.573Z"
   },
   {
    "duration": 841,
    "start_time": "2023-02-19T15:29:54.472Z"
   },
   {
    "duration": 909,
    "start_time": "2023-02-19T15:30:47.009Z"
   },
   {
    "duration": 907,
    "start_time": "2023-02-19T15:31:11.792Z"
   },
   {
    "duration": 502,
    "start_time": "2023-02-19T15:31:27.469Z"
   },
   {
    "duration": 40,
    "start_time": "2023-02-19T15:31:27.973Z"
   },
   {
    "duration": 2159,
    "start_time": "2023-02-19T15:31:28.014Z"
   },
   {
    "duration": 11,
    "start_time": "2023-02-19T15:31:30.175Z"
   },
   {
    "duration": 51,
    "start_time": "2023-02-19T15:31:30.187Z"
   },
   {
    "duration": 6,
    "start_time": "2023-02-19T15:31:30.240Z"
   },
   {
    "duration": 37,
    "start_time": "2023-02-19T15:31:30.248Z"
   },
   {
    "duration": 44,
    "start_time": "2023-02-19T15:31:30.287Z"
   },
   {
    "duration": 30,
    "start_time": "2023-02-19T15:31:30.333Z"
   },
   {
    "duration": 56,
    "start_time": "2023-02-19T15:31:30.365Z"
   },
   {
    "duration": 40,
    "start_time": "2023-02-19T15:31:30.423Z"
   },
   {
    "duration": 121,
    "start_time": "2023-02-19T15:31:30.465Z"
   },
   {
    "duration": 12,
    "start_time": "2023-02-19T15:36:16.265Z"
   },
   {
    "duration": 25,
    "start_time": "2023-02-19T15:37:52.181Z"
   },
   {
    "duration": 4,
    "start_time": "2023-02-19T15:37:56.872Z"
   },
   {
    "duration": 5,
    "start_time": "2023-02-19T15:37:58.993Z"
   },
   {
    "duration": 8,
    "start_time": "2023-02-19T15:38:23.453Z"
   },
   {
    "duration": 6,
    "start_time": "2023-02-19T15:38:31.418Z"
   },
   {
    "duration": 5,
    "start_time": "2023-02-19T15:38:51.466Z"
   },
   {
    "duration": 32,
    "start_time": "2023-02-19T15:39:05.821Z"
   },
   {
    "duration": 6,
    "start_time": "2023-02-19T15:39:13.265Z"
   },
   {
    "duration": 578,
    "start_time": "2023-02-19T15:39:23.743Z"
   },
   {
    "duration": 50,
    "start_time": "2023-02-19T15:39:24.324Z"
   },
   {
    "duration": 2411,
    "start_time": "2023-02-19T15:39:24.376Z"
   },
   {
    "duration": 14,
    "start_time": "2023-02-19T15:39:26.789Z"
   },
   {
    "duration": 45,
    "start_time": "2023-02-19T15:39:26.806Z"
   },
   {
    "duration": 7,
    "start_time": "2023-02-19T15:39:26.854Z"
   },
   {
    "duration": 26,
    "start_time": "2023-02-19T15:39:26.863Z"
   },
   {
    "duration": 11,
    "start_time": "2023-02-19T15:39:26.903Z"
   },
   {
    "duration": 17,
    "start_time": "2023-02-19T15:39:26.916Z"
   },
   {
    "duration": 39,
    "start_time": "2023-02-19T15:39:26.936Z"
   },
   {
    "duration": 28,
    "start_time": "2023-02-19T15:39:26.977Z"
   },
   {
    "duration": 106,
    "start_time": "2023-02-19T15:39:27.008Z"
   },
   {
    "duration": 12,
    "start_time": "2023-02-19T15:45:32.519Z"
   },
   {
    "duration": 11,
    "start_time": "2023-02-19T15:45:43.679Z"
   },
   {
    "duration": 14,
    "start_time": "2023-02-19T15:46:05.608Z"
   },
   {
    "duration": 10,
    "start_time": "2023-02-19T15:46:18.489Z"
   },
   {
    "duration": 11,
    "start_time": "2023-02-19T15:46:58.939Z"
   },
   {
    "duration": 860,
    "start_time": "2023-02-22T22:41:36.401Z"
   },
   {
    "duration": 0,
    "start_time": "2023-02-22T22:41:37.266Z"
   },
   {
    "duration": 0,
    "start_time": "2023-02-22T22:41:37.267Z"
   },
   {
    "duration": 0,
    "start_time": "2023-02-22T22:41:37.268Z"
   },
   {
    "duration": 0,
    "start_time": "2023-02-22T22:41:37.269Z"
   },
   {
    "duration": 0,
    "start_time": "2023-02-22T22:41:37.270Z"
   },
   {
    "duration": 0,
    "start_time": "2023-02-22T22:41:37.272Z"
   },
   {
    "duration": 0,
    "start_time": "2023-02-22T22:41:37.273Z"
   },
   {
    "duration": 0,
    "start_time": "2023-02-22T22:41:37.274Z"
   },
   {
    "duration": 0,
    "start_time": "2023-02-22T22:41:37.275Z"
   },
   {
    "duration": 0,
    "start_time": "2023-02-22T22:41:37.276Z"
   },
   {
    "duration": 0,
    "start_time": "2023-02-22T22:41:37.277Z"
   },
   {
    "duration": 0,
    "start_time": "2023-02-22T22:41:37.278Z"
   },
   {
    "duration": 0,
    "start_time": "2023-02-22T22:41:37.279Z"
   },
   {
    "duration": 0,
    "start_time": "2023-02-22T22:41:37.280Z"
   },
   {
    "duration": 0,
    "start_time": "2023-02-22T22:41:37.281Z"
   },
   {
    "duration": 0,
    "start_time": "2023-02-22T22:41:37.283Z"
   },
   {
    "duration": 0,
    "start_time": "2023-02-22T22:41:37.283Z"
   },
   {
    "duration": 0,
    "start_time": "2023-02-22T22:41:37.284Z"
   },
   {
    "duration": 0,
    "start_time": "2023-02-22T22:41:37.285Z"
   },
   {
    "duration": 0,
    "start_time": "2023-02-22T22:41:37.286Z"
   },
   {
    "duration": 0,
    "start_time": "2023-02-22T22:41:37.287Z"
   },
   {
    "duration": 0,
    "start_time": "2023-02-22T22:41:37.289Z"
   },
   {
    "duration": 0,
    "start_time": "2023-02-22T22:41:37.289Z"
   },
   {
    "duration": 0,
    "start_time": "2023-02-22T22:41:37.290Z"
   },
   {
    "duration": 0,
    "start_time": "2023-02-22T22:41:37.291Z"
   },
   {
    "duration": 0,
    "start_time": "2023-02-22T22:41:37.292Z"
   },
   {
    "duration": 0,
    "start_time": "2023-02-22T22:41:37.293Z"
   },
   {
    "duration": 0,
    "start_time": "2023-02-22T22:41:37.294Z"
   },
   {
    "duration": 0,
    "start_time": "2023-02-22T22:41:37.295Z"
   },
   {
    "duration": 0,
    "start_time": "2023-02-22T22:41:37.297Z"
   },
   {
    "duration": 0,
    "start_time": "2023-02-22T22:41:37.298Z"
   },
   {
    "duration": 0,
    "start_time": "2023-02-22T22:41:37.299Z"
   },
   {
    "duration": 0,
    "start_time": "2023-02-22T22:41:37.300Z"
   },
   {
    "duration": 0,
    "start_time": "2023-02-22T22:41:37.353Z"
   },
   {
    "duration": 0,
    "start_time": "2023-02-22T22:41:37.354Z"
   },
   {
    "duration": 0,
    "start_time": "2023-02-22T22:41:37.355Z"
   },
   {
    "duration": 0,
    "start_time": "2023-02-22T22:41:37.356Z"
   },
   {
    "duration": 0,
    "start_time": "2023-02-22T22:41:37.357Z"
   },
   {
    "duration": 0,
    "start_time": "2023-02-22T22:41:37.358Z"
   },
   {
    "duration": 0,
    "start_time": "2023-02-22T22:41:37.360Z"
   },
   {
    "duration": 0,
    "start_time": "2023-02-22T22:41:37.361Z"
   },
   {
    "duration": 0,
    "start_time": "2023-02-22T22:41:37.362Z"
   },
   {
    "duration": 0,
    "start_time": "2023-02-22T22:41:37.363Z"
   },
   {
    "duration": 0,
    "start_time": "2023-02-22T22:41:37.364Z"
   },
   {
    "duration": 0,
    "start_time": "2023-02-22T22:41:37.365Z"
   },
   {
    "duration": 0,
    "start_time": "2023-02-22T22:41:37.366Z"
   },
   {
    "duration": 0,
    "start_time": "2023-02-22T22:41:37.367Z"
   },
   {
    "duration": 0,
    "start_time": "2023-02-22T22:41:37.367Z"
   },
   {
    "duration": 0,
    "start_time": "2023-02-22T22:41:37.368Z"
   },
   {
    "duration": 1,
    "start_time": "2023-02-22T22:41:37.369Z"
   },
   {
    "duration": 0,
    "start_time": "2023-02-22T22:41:37.370Z"
   },
   {
    "duration": 0,
    "start_time": "2023-02-22T22:41:37.371Z"
   },
   {
    "duration": 0,
    "start_time": "2023-02-22T22:41:37.372Z"
   },
   {
    "duration": 0,
    "start_time": "2023-02-22T22:41:37.373Z"
   },
   {
    "duration": 0,
    "start_time": "2023-02-22T22:41:37.375Z"
   },
   {
    "duration": 0,
    "start_time": "2023-02-22T22:41:37.376Z"
   },
   {
    "duration": 0,
    "start_time": "2023-02-22T22:41:37.377Z"
   },
   {
    "duration": 0,
    "start_time": "2023-02-22T22:41:37.379Z"
   },
   {
    "duration": 0,
    "start_time": "2023-02-22T22:41:37.380Z"
   },
   {
    "duration": 0,
    "start_time": "2023-02-22T22:41:37.381Z"
   },
   {
    "duration": 0,
    "start_time": "2023-02-22T22:41:37.382Z"
   },
   {
    "duration": 0,
    "start_time": "2023-02-22T22:41:37.382Z"
   },
   {
    "duration": 0,
    "start_time": "2023-02-22T22:41:37.384Z"
   },
   {
    "duration": 0,
    "start_time": "2023-02-22T22:41:37.385Z"
   },
   {
    "duration": 0,
    "start_time": "2023-02-22T22:41:37.386Z"
   },
   {
    "duration": 0,
    "start_time": "2023-02-22T22:41:37.387Z"
   },
   {
    "duration": 0,
    "start_time": "2023-02-22T22:41:37.388Z"
   },
   {
    "duration": 0,
    "start_time": "2023-02-22T22:41:37.389Z"
   },
   {
    "duration": 0,
    "start_time": "2023-02-22T22:41:37.390Z"
   },
   {
    "duration": 0,
    "start_time": "2023-02-22T22:41:37.391Z"
   },
   {
    "duration": 0,
    "start_time": "2023-02-22T22:41:37.392Z"
   },
   {
    "duration": 0,
    "start_time": "2023-02-22T22:41:37.458Z"
   },
   {
    "duration": 0,
    "start_time": "2023-02-22T22:41:37.463Z"
   },
   {
    "duration": 0,
    "start_time": "2023-02-22T22:41:37.464Z"
   },
   {
    "duration": 0,
    "start_time": "2023-02-22T22:41:37.466Z"
   },
   {
    "duration": 0,
    "start_time": "2023-02-22T22:41:37.468Z"
   },
   {
    "duration": 0,
    "start_time": "2023-02-22T22:41:37.469Z"
   },
   {
    "duration": 0,
    "start_time": "2023-02-22T22:41:37.470Z"
   },
   {
    "duration": 0,
    "start_time": "2023-02-22T22:41:37.472Z"
   },
   {
    "duration": 0,
    "start_time": "2023-02-22T22:41:37.473Z"
   },
   {
    "duration": 0,
    "start_time": "2023-02-22T22:41:37.475Z"
   },
   {
    "duration": 0,
    "start_time": "2023-02-22T22:41:37.476Z"
   },
   {
    "duration": 0,
    "start_time": "2023-02-22T22:41:37.477Z"
   },
   {
    "duration": 0,
    "start_time": "2023-02-22T22:41:37.479Z"
   },
   {
    "duration": 0,
    "start_time": "2023-02-22T22:41:37.481Z"
   },
   {
    "duration": 0,
    "start_time": "2023-02-22T22:41:37.482Z"
   },
   {
    "duration": 0,
    "start_time": "2023-02-22T22:41:37.484Z"
   },
   {
    "duration": 0,
    "start_time": "2023-02-22T22:41:37.485Z"
   },
   {
    "duration": 0,
    "start_time": "2023-02-22T22:41:37.486Z"
   },
   {
    "duration": 0,
    "start_time": "2023-02-22T22:41:37.487Z"
   },
   {
    "duration": 0,
    "start_time": "2023-02-22T22:41:37.489Z"
   },
   {
    "duration": 0,
    "start_time": "2023-02-22T22:41:37.490Z"
   },
   {
    "duration": 0,
    "start_time": "2023-02-22T22:41:37.492Z"
   },
   {
    "duration": 0,
    "start_time": "2023-02-22T22:41:37.553Z"
   },
   {
    "duration": 0,
    "start_time": "2023-02-22T22:41:37.555Z"
   },
   {
    "duration": 0,
    "start_time": "2023-02-22T22:41:37.557Z"
   },
   {
    "duration": 0,
    "start_time": "2023-02-22T22:41:37.558Z"
   },
   {
    "duration": 0,
    "start_time": "2023-02-22T22:41:37.560Z"
   },
   {
    "duration": 0,
    "start_time": "2023-02-22T22:41:37.561Z"
   },
   {
    "duration": 0,
    "start_time": "2023-02-22T22:41:37.563Z"
   },
   {
    "duration": 0,
    "start_time": "2023-02-22T22:41:37.564Z"
   },
   {
    "duration": 0,
    "start_time": "2023-02-22T22:41:37.566Z"
   },
   {
    "duration": 0,
    "start_time": "2023-02-22T22:41:37.567Z"
   },
   {
    "duration": 0,
    "start_time": "2023-02-22T22:41:37.568Z"
   },
   {
    "duration": 0,
    "start_time": "2023-02-22T22:41:37.570Z"
   },
   {
    "duration": 0,
    "start_time": "2023-02-22T22:41:37.572Z"
   },
   {
    "duration": 0,
    "start_time": "2023-02-22T22:41:37.574Z"
   },
   {
    "duration": 0,
    "start_time": "2023-02-22T22:41:37.575Z"
   },
   {
    "duration": 0,
    "start_time": "2023-02-22T22:41:37.577Z"
   },
   {
    "duration": 0,
    "start_time": "2023-02-22T22:41:37.578Z"
   },
   {
    "duration": 0,
    "start_time": "2023-02-22T22:41:37.580Z"
   },
   {
    "duration": 0,
    "start_time": "2023-02-22T22:41:37.581Z"
   },
   {
    "duration": 830,
    "start_time": "2023-02-22T22:42:34.159Z"
   },
   {
    "duration": 18,
    "start_time": "2023-02-22T22:42:34.991Z"
   },
   {
    "duration": 45,
    "start_time": "2023-02-22T22:42:35.013Z"
   },
   {
    "duration": 1949,
    "start_time": "2023-02-22T22:42:35.060Z"
   },
   {
    "duration": 115,
    "start_time": "2023-02-22T22:42:37.011Z"
   },
   {
    "duration": 12,
    "start_time": "2023-02-22T22:42:37.128Z"
   },
   {
    "duration": 34,
    "start_time": "2023-02-22T22:42:37.143Z"
   },
   {
    "duration": 3,
    "start_time": "2023-02-22T22:42:37.179Z"
   },
   {
    "duration": 12,
    "start_time": "2023-02-22T22:42:37.184Z"
   },
   {
    "duration": 11,
    "start_time": "2023-02-22T22:42:37.198Z"
   },
   {
    "duration": 66,
    "start_time": "2023-02-22T22:42:37.211Z"
   },
   {
    "duration": 17,
    "start_time": "2023-02-22T22:42:37.280Z"
   },
   {
    "duration": 4,
    "start_time": "2023-02-22T22:42:37.299Z"
   },
   {
    "duration": 11,
    "start_time": "2023-02-22T22:42:37.306Z"
   },
   {
    "duration": 10,
    "start_time": "2023-02-22T22:42:37.319Z"
   },
   {
    "duration": 23,
    "start_time": "2023-02-22T22:42:37.331Z"
   },
   {
    "duration": 7,
    "start_time": "2023-02-22T22:42:37.356Z"
   },
   {
    "duration": 11,
    "start_time": "2023-02-22T22:42:37.365Z"
   },
   {
    "duration": 11,
    "start_time": "2023-02-22T22:42:37.378Z"
   },
   {
    "duration": 9,
    "start_time": "2023-02-22T22:42:37.391Z"
   },
   {
    "duration": 7,
    "start_time": "2023-02-22T22:42:37.402Z"
   },
   {
    "duration": 12,
    "start_time": "2023-02-22T22:42:37.411Z"
   },
   {
    "duration": 33,
    "start_time": "2023-02-22T22:42:37.424Z"
   },
   {
    "duration": 44,
    "start_time": "2023-02-22T22:42:37.458Z"
   },
   {
    "duration": 32,
    "start_time": "2023-02-22T22:42:37.504Z"
   },
   {
    "duration": 20,
    "start_time": "2023-02-22T22:42:37.539Z"
   },
   {
    "duration": 13,
    "start_time": "2023-02-22T22:42:37.561Z"
   },
   {
    "duration": 29,
    "start_time": "2023-02-22T22:42:37.576Z"
   },
   {
    "duration": 417,
    "start_time": "2023-02-22T22:42:37.607Z"
   },
   {
    "duration": 132,
    "start_time": "2023-02-22T22:42:38.026Z"
   },
   {
    "duration": 192,
    "start_time": "2023-02-22T22:42:38.161Z"
   },
   {
    "duration": 7,
    "start_time": "2023-02-22T22:42:38.355Z"
   },
   {
    "duration": 483,
    "start_time": "2023-02-22T22:42:38.363Z"
   },
   {
    "duration": 39,
    "start_time": "2023-02-22T22:42:38.848Z"
   },
   {
    "duration": 7,
    "start_time": "2023-02-22T22:42:38.889Z"
   },
   {
    "duration": 57,
    "start_time": "2023-02-22T22:42:38.898Z"
   },
   {
    "duration": 9,
    "start_time": "2023-02-22T22:42:38.957Z"
   },
   {
    "duration": 10,
    "start_time": "2023-02-22T22:42:38.968Z"
   },
   {
    "duration": 7,
    "start_time": "2023-02-22T22:42:38.979Z"
   },
   {
    "duration": 18,
    "start_time": "2023-02-22T22:42:38.987Z"
   },
   {
    "duration": 3,
    "start_time": "2023-02-22T22:42:39.011Z"
   },
   {
    "duration": 38,
    "start_time": "2023-02-22T22:42:39.016Z"
   },
   {
    "duration": 11,
    "start_time": "2023-02-22T22:42:39.056Z"
   },
   {
    "duration": 5,
    "start_time": "2023-02-22T22:42:39.069Z"
   },
   {
    "duration": 5,
    "start_time": "2023-02-22T22:42:39.075Z"
   },
   {
    "duration": 20,
    "start_time": "2023-02-22T22:42:39.081Z"
   },
   {
    "duration": 15,
    "start_time": "2023-02-22T22:42:39.103Z"
   },
   {
    "duration": 17,
    "start_time": "2023-02-22T22:42:39.153Z"
   },
   {
    "duration": 15,
    "start_time": "2023-02-22T22:42:39.172Z"
   },
   {
    "duration": 17,
    "start_time": "2023-02-22T22:42:39.189Z"
   },
   {
    "duration": 5,
    "start_time": "2023-02-22T22:42:39.208Z"
   },
   {
    "duration": 38,
    "start_time": "2023-02-22T22:42:39.215Z"
   },
   {
    "duration": 19,
    "start_time": "2023-02-22T22:42:39.255Z"
   },
   {
    "duration": 25,
    "start_time": "2023-02-22T22:42:39.275Z"
   },
   {
    "duration": 28,
    "start_time": "2023-02-22T22:42:39.301Z"
   },
   {
    "duration": 39,
    "start_time": "2023-02-22T22:42:39.331Z"
   },
   {
    "duration": 3,
    "start_time": "2023-02-22T22:42:39.372Z"
   },
   {
    "duration": 21,
    "start_time": "2023-02-22T22:42:39.377Z"
   },
   {
    "duration": 16,
    "start_time": "2023-02-22T22:42:39.400Z"
   },
   {
    "duration": 66,
    "start_time": "2023-02-22T22:42:39.417Z"
   },
   {
    "duration": 10,
    "start_time": "2023-02-22T22:42:39.485Z"
   },
   {
    "duration": 5,
    "start_time": "2023-02-22T22:42:39.497Z"
   },
   {
    "duration": 7,
    "start_time": "2023-02-22T22:42:39.504Z"
   },
   {
    "duration": 11,
    "start_time": "2023-02-22T22:42:39.513Z"
   },
   {
    "duration": 28,
    "start_time": "2023-02-22T22:42:39.525Z"
   },
   {
    "duration": 13,
    "start_time": "2023-02-22T22:42:39.556Z"
   },
   {
    "duration": 15,
    "start_time": "2023-02-22T22:42:39.571Z"
   },
   {
    "duration": 5,
    "start_time": "2023-02-22T22:42:39.588Z"
   },
   {
    "duration": 342,
    "start_time": "2023-02-22T22:42:39.594Z"
   },
   {
    "duration": 5,
    "start_time": "2023-02-22T22:42:39.938Z"
   },
   {
    "duration": 256,
    "start_time": "2023-02-22T22:42:39.945Z"
   },
   {
    "duration": 246,
    "start_time": "2023-02-22T22:42:40.202Z"
   },
   {
    "duration": 12,
    "start_time": "2023-02-22T22:42:40.454Z"
   },
   {
    "duration": 9,
    "start_time": "2023-02-22T22:42:40.468Z"
   },
   {
    "duration": 214,
    "start_time": "2023-02-22T22:42:40.479Z"
   },
   {
    "duration": 212,
    "start_time": "2023-02-22T22:42:40.695Z"
   },
   {
    "duration": 138,
    "start_time": "2023-02-22T22:42:40.909Z"
   },
   {
    "duration": 9,
    "start_time": "2023-02-22T22:42:41.053Z"
   },
   {
    "duration": 183,
    "start_time": "2023-02-22T22:42:41.063Z"
   },
   {
    "duration": 159,
    "start_time": "2023-02-22T22:42:41.248Z"
   },
   {
    "duration": 277,
    "start_time": "2023-02-22T22:42:41.409Z"
   },
   {
    "duration": 252,
    "start_time": "2023-02-22T22:42:41.688Z"
   },
   {
    "duration": 116,
    "start_time": "2023-02-22T22:42:41.942Z"
   },
   {
    "duration": 9,
    "start_time": "2023-02-22T22:42:42.060Z"
   },
   {
    "duration": 252,
    "start_time": "2023-02-22T22:42:42.071Z"
   },
   {
    "duration": 243,
    "start_time": "2023-02-22T22:42:42.324Z"
   },
   {
    "duration": 286,
    "start_time": "2023-02-22T22:42:42.569Z"
   },
   {
    "duration": 199,
    "start_time": "2023-02-22T22:42:42.856Z"
   },
   {
    "duration": 191,
    "start_time": "2023-02-22T22:42:43.058Z"
   },
   {
    "duration": 177,
    "start_time": "2023-02-22T22:42:43.253Z"
   },
   {
    "duration": 193,
    "start_time": "2023-02-22T22:42:43.431Z"
   },
   {
    "duration": 213,
    "start_time": "2023-02-22T22:42:43.626Z"
   },
   {
    "duration": 187,
    "start_time": "2023-02-22T22:42:43.841Z"
   },
   {
    "duration": 281,
    "start_time": "2023-02-22T22:42:44.030Z"
   },
   {
    "duration": 10,
    "start_time": "2023-02-22T22:42:44.313Z"
   },
   {
    "duration": 274,
    "start_time": "2023-02-22T22:42:44.325Z"
   },
   {
    "duration": 176,
    "start_time": "2023-02-22T22:42:44.601Z"
   },
   {
    "duration": 706,
    "start_time": "2023-02-22T22:42:44.779Z"
   },
   {
    "duration": 443,
    "start_time": "2023-02-22T22:42:45.487Z"
   },
   {
    "duration": 808,
    "start_time": "2023-02-22T22:42:45.932Z"
   },
   {
    "duration": 22,
    "start_time": "2023-02-22T22:42:46.742Z"
   },
   {
    "duration": 444,
    "start_time": "2023-02-22T22:42:46.766Z"
   },
   {
    "duration": 4,
    "start_time": "2023-02-22T22:42:47.212Z"
   },
   {
    "duration": 222,
    "start_time": "2023-02-22T22:42:47.217Z"
   },
   {
    "duration": 202,
    "start_time": "2023-02-22T22:42:47.443Z"
   },
   {
    "duration": 175,
    "start_time": "2023-02-22T22:42:47.647Z"
   },
   {
    "duration": 179,
    "start_time": "2023-02-22T22:42:47.824Z"
   },
   {
    "duration": 15,
    "start_time": "2023-02-22T22:42:48.004Z"
   },
   {
    "duration": 299,
    "start_time": "2023-02-22T22:42:48.021Z"
   },
   {
    "duration": 8,
    "start_time": "2023-02-22T22:42:48.322Z"
   },
   {
    "duration": 24,
    "start_time": "2023-02-22T22:42:48.331Z"
   },
   {
    "duration": 10,
    "start_time": "2023-02-22T22:42:48.357Z"
   },
   {
    "duration": 17,
    "start_time": "2023-02-22T22:42:48.369Z"
   },
   {
    "duration": 20,
    "start_time": "2023-02-22T22:45:15.076Z"
   },
   {
    "duration": 779,
    "start_time": "2023-02-22T22:45:26.411Z"
   },
   {
    "duration": 16,
    "start_time": "2023-02-22T22:45:27.192Z"
   },
   {
    "duration": 45,
    "start_time": "2023-02-22T22:45:27.210Z"
   },
   {
    "duration": 2097,
    "start_time": "2023-02-22T22:45:27.258Z"
   },
   {
    "duration": 140,
    "start_time": "2023-02-22T22:45:29.357Z"
   },
   {
    "duration": 70,
    "start_time": "2023-02-22T22:45:29.499Z"
   },
   {
    "duration": 24,
    "start_time": "2023-02-22T22:45:29.571Z"
   },
   {
    "duration": 5,
    "start_time": "2023-02-22T22:45:29.597Z"
   },
   {
    "duration": 9,
    "start_time": "2023-02-22T22:45:29.654Z"
   },
   {
    "duration": 11,
    "start_time": "2023-02-22T22:45:29.666Z"
   },
   {
    "duration": 87,
    "start_time": "2023-02-22T22:45:29.679Z"
   },
   {
    "duration": 21,
    "start_time": "2023-02-22T22:45:29.769Z"
   },
   {
    "duration": 4,
    "start_time": "2023-02-22T22:45:29.791Z"
   },
   {
    "duration": 8,
    "start_time": "2023-02-22T22:45:29.796Z"
   },
   {
    "duration": 54,
    "start_time": "2023-02-22T22:45:29.805Z"
   },
   {
    "duration": 13,
    "start_time": "2023-02-22T22:45:29.861Z"
   },
   {
    "duration": 12,
    "start_time": "2023-02-22T22:45:29.875Z"
   },
   {
    "duration": 9,
    "start_time": "2023-02-22T22:45:29.889Z"
   },
   {
    "duration": 62,
    "start_time": "2023-02-22T22:45:29.900Z"
   },
   {
    "duration": 11,
    "start_time": "2023-02-22T22:45:29.964Z"
   },
   {
    "duration": 8,
    "start_time": "2023-02-22T22:45:29.977Z"
   },
   {
    "duration": 6,
    "start_time": "2023-02-22T22:45:29.986Z"
   },
   {
    "duration": 59,
    "start_time": "2023-02-22T22:45:29.994Z"
   },
   {
    "duration": 33,
    "start_time": "2023-02-22T22:45:30.056Z"
   },
   {
    "duration": 91,
    "start_time": "2023-02-22T22:45:30.091Z"
   },
   {
    "duration": 17,
    "start_time": "2023-02-22T22:45:30.183Z"
   },
   {
    "duration": 7,
    "start_time": "2023-02-22T22:45:30.253Z"
   },
   {
    "duration": 22,
    "start_time": "2023-02-22T22:45:30.264Z"
   },
   {
    "duration": 793,
    "start_time": "2023-02-22T22:45:30.287Z"
   },
   {
    "duration": 128,
    "start_time": "2023-02-22T22:45:31.083Z"
   },
   {
    "duration": 189,
    "start_time": "2023-02-22T22:45:31.213Z"
   },
   {
    "duration": 7,
    "start_time": "2023-02-22T22:45:31.404Z"
   },
   {
    "duration": 645,
    "start_time": "2023-02-22T22:45:31.413Z"
   },
   {
    "duration": 37,
    "start_time": "2023-02-22T22:45:32.060Z"
   },
   {
    "duration": 7,
    "start_time": "2023-02-22T22:45:32.099Z"
   },
   {
    "duration": 71,
    "start_time": "2023-02-22T22:45:32.108Z"
   },
   {
    "duration": 9,
    "start_time": "2023-02-22T22:45:32.180Z"
   },
   {
    "duration": 18,
    "start_time": "2023-02-22T22:45:32.190Z"
   },
   {
    "duration": 8,
    "start_time": "2023-02-22T22:45:32.209Z"
   },
   {
    "duration": 29,
    "start_time": "2023-02-22T22:45:32.219Z"
   },
   {
    "duration": 6,
    "start_time": "2023-02-22T22:45:32.250Z"
   },
   {
    "duration": 18,
    "start_time": "2023-02-22T22:45:32.257Z"
   },
   {
    "duration": 10,
    "start_time": "2023-02-22T22:45:32.277Z"
   },
   {
    "duration": 6,
    "start_time": "2023-02-22T22:45:32.289Z"
   },
   {
    "duration": 5,
    "start_time": "2023-02-22T22:45:32.296Z"
   },
   {
    "duration": 18,
    "start_time": "2023-02-22T22:45:32.303Z"
   },
   {
    "duration": 40,
    "start_time": "2023-02-22T22:45:32.323Z"
   },
   {
    "duration": 20,
    "start_time": "2023-02-22T22:45:32.365Z"
   },
   {
    "duration": 22,
    "start_time": "2023-02-22T22:45:32.387Z"
   },
   {
    "duration": 47,
    "start_time": "2023-02-22T22:45:32.410Z"
   },
   {
    "duration": 4,
    "start_time": "2023-02-22T22:45:32.459Z"
   },
   {
    "duration": 18,
    "start_time": "2023-02-22T22:45:32.465Z"
   },
   {
    "duration": 18,
    "start_time": "2023-02-22T22:45:32.484Z"
   },
   {
    "duration": 15,
    "start_time": "2023-02-22T22:45:32.504Z"
   },
   {
    "duration": 47,
    "start_time": "2023-02-22T22:45:32.520Z"
   },
   {
    "duration": 17,
    "start_time": "2023-02-22T22:45:32.569Z"
   },
   {
    "duration": 3,
    "start_time": "2023-02-22T22:45:32.588Z"
   },
   {
    "duration": 25,
    "start_time": "2023-02-22T22:45:32.593Z"
   },
   {
    "duration": 37,
    "start_time": "2023-02-22T22:45:32.620Z"
   },
   {
    "duration": 39,
    "start_time": "2023-02-22T22:45:32.658Z"
   },
   {
    "duration": 9,
    "start_time": "2023-02-22T22:45:32.698Z"
   },
   {
    "duration": 20,
    "start_time": "2023-02-22T22:45:32.709Z"
   },
   {
    "duration": 24,
    "start_time": "2023-02-22T22:45:32.730Z"
   },
   {
    "duration": 6,
    "start_time": "2023-02-22T22:45:32.756Z"
   },
   {
    "duration": 13,
    "start_time": "2023-02-22T22:45:32.764Z"
   },
   {
    "duration": 15,
    "start_time": "2023-02-22T22:45:32.779Z"
   },
   {
    "duration": 10,
    "start_time": "2023-02-22T22:45:32.796Z"
   },
   {
    "duration": 8,
    "start_time": "2023-02-22T22:45:32.808Z"
   },
   {
    "duration": 7,
    "start_time": "2023-02-22T22:45:32.818Z"
   },
   {
    "duration": 349,
    "start_time": "2023-02-22T22:45:32.827Z"
   },
   {
    "duration": 5,
    "start_time": "2023-02-22T22:45:33.178Z"
   },
   {
    "duration": 256,
    "start_time": "2023-02-22T22:45:33.184Z"
   },
   {
    "duration": 251,
    "start_time": "2023-02-22T22:45:33.442Z"
   },
   {
    "duration": 12,
    "start_time": "2023-02-22T22:45:33.695Z"
   },
   {
    "duration": 8,
    "start_time": "2023-02-22T22:45:33.710Z"
   },
   {
    "duration": 200,
    "start_time": "2023-02-22T22:45:33.720Z"
   },
   {
    "duration": 203,
    "start_time": "2023-02-22T22:45:33.921Z"
   },
   {
    "duration": 147,
    "start_time": "2023-02-22T22:45:34.126Z"
   },
   {
    "duration": 8,
    "start_time": "2023-02-22T22:45:34.275Z"
   },
   {
    "duration": 168,
    "start_time": "2023-02-22T22:45:34.285Z"
   },
   {
    "duration": 155,
    "start_time": "2023-02-22T22:45:34.455Z"
   },
   {
    "duration": 290,
    "start_time": "2023-02-22T22:45:34.616Z"
   },
   {
    "duration": 293,
    "start_time": "2023-02-22T22:45:34.907Z"
   },
   {
    "duration": 197,
    "start_time": "2023-02-22T22:45:35.202Z"
   },
   {
    "duration": 61,
    "start_time": "2023-02-22T22:45:35.400Z"
   },
   {
    "duration": 512,
    "start_time": "2023-02-22T22:45:35.462Z"
   },
   {
    "duration": 515,
    "start_time": "2023-02-22T22:45:35.976Z"
   },
   {
    "duration": 669,
    "start_time": "2023-02-22T22:45:36.493Z"
   },
   {
    "duration": 324,
    "start_time": "2023-02-22T22:45:37.164Z"
   },
   {
    "duration": 219,
    "start_time": "2023-02-22T22:45:37.490Z"
   },
   {
    "duration": 195,
    "start_time": "2023-02-22T22:45:37.711Z"
   },
   {
    "duration": 195,
    "start_time": "2023-02-22T22:45:37.907Z"
   },
   {
    "duration": 215,
    "start_time": "2023-02-22T22:45:38.103Z"
   },
   {
    "duration": 198,
    "start_time": "2023-02-22T22:45:38.320Z"
   },
   {
    "duration": 536,
    "start_time": "2023-02-22T22:45:38.519Z"
   },
   {
    "duration": 11,
    "start_time": "2023-02-22T22:45:39.056Z"
   },
   {
    "duration": 699,
    "start_time": "2023-02-22T22:45:39.070Z"
   },
   {
    "duration": 298,
    "start_time": "2023-02-22T22:45:39.771Z"
   },
   {
    "duration": 989,
    "start_time": "2023-02-22T22:45:40.071Z"
   },
   {
    "duration": 436,
    "start_time": "2023-02-22T22:45:41.062Z"
   },
   {
    "duration": 786,
    "start_time": "2023-02-22T22:45:41.500Z"
   },
   {
    "duration": 14,
    "start_time": "2023-02-22T22:45:42.287Z"
   },
   {
    "duration": 443,
    "start_time": "2023-02-22T22:45:42.303Z"
   },
   {
    "duration": 4,
    "start_time": "2023-02-22T22:45:42.753Z"
   },
   {
    "duration": 182,
    "start_time": "2023-02-22T22:45:42.758Z"
   },
   {
    "duration": 161,
    "start_time": "2023-02-22T22:45:42.952Z"
   },
   {
    "duration": 160,
    "start_time": "2023-02-22T22:45:43.115Z"
   },
   {
    "duration": 180,
    "start_time": "2023-02-22T22:45:43.277Z"
   },
   {
    "duration": 13,
    "start_time": "2023-02-22T22:45:43.458Z"
   },
   {
    "duration": 290,
    "start_time": "2023-02-22T22:45:43.473Z"
   },
   {
    "duration": 9,
    "start_time": "2023-02-22T22:45:43.764Z"
   },
   {
    "duration": 10,
    "start_time": "2023-02-22T22:45:43.775Z"
   },
   {
    "duration": 11,
    "start_time": "2023-02-22T22:45:43.787Z"
   },
   {
    "duration": 16,
    "start_time": "2023-02-22T22:45:43.800Z"
   },
   {
    "duration": 18,
    "start_time": "2023-02-22T22:45:52.192Z"
   },
   {
    "duration": 1099,
    "start_time": "2023-02-23T09:45:19.324Z"
   },
   {
    "duration": 19,
    "start_time": "2023-02-23T09:45:20.426Z"
   },
   {
    "duration": 34,
    "start_time": "2023-02-23T09:45:20.446Z"
   },
   {
    "duration": 1986,
    "start_time": "2023-02-23T09:45:20.483Z"
   },
   {
    "duration": 80,
    "start_time": "2023-02-23T09:45:22.471Z"
   },
   {
    "duration": 10,
    "start_time": "2023-02-23T09:45:22.553Z"
   },
   {
    "duration": 26,
    "start_time": "2023-02-23T09:45:22.565Z"
   },
   {
    "duration": 4,
    "start_time": "2023-02-23T09:45:22.592Z"
   },
   {
    "duration": 10,
    "start_time": "2023-02-23T09:45:22.598Z"
   },
   {
    "duration": 39,
    "start_time": "2023-02-23T09:45:22.610Z"
   },
   {
    "duration": 32,
    "start_time": "2023-02-23T09:45:22.651Z"
   },
   {
    "duration": 17,
    "start_time": "2023-02-23T09:45:22.685Z"
   },
   {
    "duration": 6,
    "start_time": "2023-02-23T09:45:22.704Z"
   },
   {
    "duration": 11,
    "start_time": "2023-02-23T09:45:22.712Z"
   },
   {
    "duration": 17,
    "start_time": "2023-02-23T09:45:22.724Z"
   },
   {
    "duration": 9,
    "start_time": "2023-02-23T09:45:22.742Z"
   },
   {
    "duration": 11,
    "start_time": "2023-02-23T09:45:22.753Z"
   },
   {
    "duration": 10,
    "start_time": "2023-02-23T09:45:22.765Z"
   },
   {
    "duration": 9,
    "start_time": "2023-02-23T09:45:22.777Z"
   },
   {
    "duration": 9,
    "start_time": "2023-02-23T09:45:22.788Z"
   },
   {
    "duration": 6,
    "start_time": "2023-02-23T09:45:22.799Z"
   },
   {
    "duration": 35,
    "start_time": "2023-02-23T09:45:22.807Z"
   },
   {
    "duration": 5,
    "start_time": "2023-02-23T09:45:22.844Z"
   },
   {
    "duration": 26,
    "start_time": "2023-02-23T09:45:22.851Z"
   },
   {
    "duration": 28,
    "start_time": "2023-02-23T09:45:22.879Z"
   },
   {
    "duration": 35,
    "start_time": "2023-02-23T09:45:22.909Z"
   },
   {
    "duration": 6,
    "start_time": "2023-02-23T09:45:22.945Z"
   },
   {
    "duration": 9,
    "start_time": "2023-02-23T09:45:22.955Z"
   },
   {
    "duration": 377,
    "start_time": "2023-02-23T09:45:22.965Z"
   },
   {
    "duration": 123,
    "start_time": "2023-02-23T09:45:23.344Z"
   },
   {
    "duration": 202,
    "start_time": "2023-02-23T09:45:23.469Z"
   },
   {
    "duration": 7,
    "start_time": "2023-02-23T09:45:23.673Z"
   },
   {
    "duration": 504,
    "start_time": "2023-02-23T09:45:23.682Z"
   },
   {
    "duration": 38,
    "start_time": "2023-02-23T09:45:24.187Z"
   },
   {
    "duration": 19,
    "start_time": "2023-02-23T09:45:24.226Z"
   },
   {
    "duration": 32,
    "start_time": "2023-02-23T09:45:24.247Z"
   },
   {
    "duration": 9,
    "start_time": "2023-02-23T09:45:24.281Z"
   },
   {
    "duration": 6,
    "start_time": "2023-02-23T09:45:24.291Z"
   },
   {
    "duration": 9,
    "start_time": "2023-02-23T09:45:24.298Z"
   },
   {
    "duration": 15,
    "start_time": "2023-02-23T09:45:24.340Z"
   },
   {
    "duration": 211,
    "start_time": "2023-02-23T09:45:24.357Z"
   },
   {
    "duration": 17,
    "start_time": "2023-02-23T09:45:24.570Z"
   },
   {
    "duration": 11,
    "start_time": "2023-02-23T09:45:24.589Z"
   },
   {
    "duration": 17,
    "start_time": "2023-02-23T09:45:24.602Z"
   },
   {
    "duration": 22,
    "start_time": "2023-02-23T09:45:24.621Z"
   },
   {
    "duration": 28,
    "start_time": "2023-02-23T09:45:24.645Z"
   },
   {
    "duration": 16,
    "start_time": "2023-02-23T09:45:24.675Z"
   },
   {
    "duration": 18,
    "start_time": "2023-02-23T09:45:24.692Z"
   },
   {
    "duration": 35,
    "start_time": "2023-02-23T09:45:24.712Z"
   },
   {
    "duration": 18,
    "start_time": "2023-02-23T09:45:24.748Z"
   },
   {
    "duration": 6,
    "start_time": "2023-02-23T09:45:24.768Z"
   },
   {
    "duration": 6,
    "start_time": "2023-02-23T09:45:24.775Z"
   },
   {
    "duration": 17,
    "start_time": "2023-02-23T09:45:24.783Z"
   },
   {
    "duration": 48,
    "start_time": "2023-02-23T09:45:24.802Z"
   },
   {
    "duration": 30,
    "start_time": "2023-02-23T09:45:24.852Z"
   },
   {
    "duration": 17,
    "start_time": "2023-02-23T09:45:24.885Z"
   },
   {
    "duration": 36,
    "start_time": "2023-02-23T09:45:24.904Z"
   },
   {
    "duration": 21,
    "start_time": "2023-02-23T09:45:24.942Z"
   },
   {
    "duration": 18,
    "start_time": "2023-02-23T09:45:24.965Z"
   },
   {
    "duration": 66,
    "start_time": "2023-02-23T09:45:24.985Z"
   },
   {
    "duration": 10,
    "start_time": "2023-02-23T09:45:25.053Z"
   },
   {
    "duration": 46,
    "start_time": "2023-02-23T09:45:25.065Z"
   },
   {
    "duration": 40,
    "start_time": "2023-02-23T09:45:25.113Z"
   },
   {
    "duration": 19,
    "start_time": "2023-02-23T09:45:25.154Z"
   },
   {
    "duration": 26,
    "start_time": "2023-02-23T09:45:25.175Z"
   },
   {
    "duration": 11,
    "start_time": "2023-02-23T09:45:25.203Z"
   },
   {
    "duration": 15,
    "start_time": "2023-02-23T09:45:25.216Z"
   },
   {
    "duration": 10,
    "start_time": "2023-02-23T09:45:25.234Z"
   },
   {
    "duration": 18,
    "start_time": "2023-02-23T09:45:25.245Z"
   },
   {
    "duration": 357,
    "start_time": "2023-02-23T09:45:25.265Z"
   },
   {
    "duration": 5,
    "start_time": "2023-02-23T09:45:25.624Z"
   },
   {
    "duration": 309,
    "start_time": "2023-02-23T09:45:25.640Z"
   },
   {
    "duration": 297,
    "start_time": "2023-02-23T09:45:25.951Z"
   },
   {
    "duration": 15,
    "start_time": "2023-02-23T09:45:26.250Z"
   },
   {
    "duration": 12,
    "start_time": "2023-02-23T09:45:26.267Z"
   },
   {
    "duration": 260,
    "start_time": "2023-02-23T09:45:26.281Z"
   },
   {
    "duration": 219,
    "start_time": "2023-02-23T09:45:26.543Z"
   },
   {
    "duration": 146,
    "start_time": "2023-02-23T09:45:26.764Z"
   },
   {
    "duration": 11,
    "start_time": "2023-02-23T09:45:26.911Z"
   },
   {
    "duration": 190,
    "start_time": "2023-02-23T09:45:26.925Z"
   },
   {
    "duration": 189,
    "start_time": "2023-02-23T09:45:27.117Z"
   },
   {
    "duration": 296,
    "start_time": "2023-02-23T09:45:27.313Z"
   },
   {
    "duration": 302,
    "start_time": "2023-02-23T09:45:27.611Z"
   },
   {
    "duration": 141,
    "start_time": "2023-02-23T09:45:27.915Z"
   },
   {
    "duration": 10,
    "start_time": "2023-02-23T09:45:28.058Z"
   },
   {
    "duration": 293,
    "start_time": "2023-02-23T09:45:28.070Z"
   },
   {
    "duration": 253,
    "start_time": "2023-02-23T09:45:28.365Z"
   },
   {
    "duration": 346,
    "start_time": "2023-02-23T09:45:28.620Z"
   },
   {
    "duration": 208,
    "start_time": "2023-02-23T09:45:28.968Z"
   },
   {
    "duration": 194,
    "start_time": "2023-02-23T09:45:29.177Z"
   },
   {
    "duration": 191,
    "start_time": "2023-02-23T09:45:29.373Z"
   },
   {
    "duration": 190,
    "start_time": "2023-02-23T09:45:29.566Z"
   },
   {
    "duration": 220,
    "start_time": "2023-02-23T09:45:29.758Z"
   },
   {
    "duration": 196,
    "start_time": "2023-02-23T09:45:29.980Z"
   },
   {
    "duration": 269,
    "start_time": "2023-02-23T09:45:30.178Z"
   },
   {
    "duration": 9,
    "start_time": "2023-02-23T09:45:30.448Z"
   },
   {
    "duration": 283,
    "start_time": "2023-02-23T09:45:30.458Z"
   },
   {
    "duration": 179,
    "start_time": "2023-02-23T09:45:30.742Z"
   },
   {
    "duration": 759,
    "start_time": "2023-02-23T09:45:30.923Z"
   },
   {
    "duration": 480,
    "start_time": "2023-02-23T09:45:31.684Z"
   },
   {
    "duration": 844,
    "start_time": "2023-02-23T09:45:32.165Z"
   },
   {
    "duration": 13,
    "start_time": "2023-02-23T09:45:33.011Z"
   },
   {
    "duration": 467,
    "start_time": "2023-02-23T09:45:33.026Z"
   },
   {
    "duration": 4,
    "start_time": "2023-02-23T09:45:33.494Z"
   },
   {
    "duration": 188,
    "start_time": "2023-02-23T09:45:33.499Z"
   },
   {
    "duration": 176,
    "start_time": "2023-02-23T09:45:33.689Z"
   },
   {
    "duration": 177,
    "start_time": "2023-02-23T09:45:33.867Z"
   },
   {
    "duration": 186,
    "start_time": "2023-02-23T09:45:34.046Z"
   },
   {
    "duration": 12,
    "start_time": "2023-02-23T09:45:34.241Z"
   },
   {
    "duration": 293,
    "start_time": "2023-02-23T09:45:34.255Z"
   },
   {
    "duration": 7,
    "start_time": "2023-02-23T09:45:34.550Z"
   },
   {
    "duration": 8,
    "start_time": "2023-02-23T09:45:34.559Z"
   },
   {
    "duration": 12,
    "start_time": "2023-02-23T09:45:34.569Z"
   },
   {
    "duration": 20,
    "start_time": "2023-02-23T09:45:34.583Z"
   },
   {
    "duration": 17,
    "start_time": "2023-02-23T09:47:09.688Z"
   },
   {
    "duration": 8,
    "start_time": "2023-02-23T09:47:34.964Z"
   },
   {
    "duration": 4,
    "start_time": "2023-02-23T09:49:06.570Z"
   },
   {
    "duration": 20,
    "start_time": "2023-02-23T09:49:21.584Z"
   },
   {
    "duration": 155,
    "start_time": "2023-02-23T10:01:15.929Z"
   },
   {
    "duration": 71,
    "start_time": "2023-02-23T10:03:52.865Z"
   },
   {
    "duration": 139,
    "start_time": "2023-02-23T10:04:21.147Z"
   },
   {
    "duration": 4,
    "start_time": "2023-02-23T10:07:00.175Z"
   },
   {
    "duration": 156,
    "start_time": "2023-02-23T10:07:04.759Z"
   },
   {
    "duration": 164,
    "start_time": "2023-02-23T10:07:06.696Z"
   },
   {
    "duration": 168,
    "start_time": "2023-02-23T10:07:07.776Z"
   },
   {
    "duration": 83,
    "start_time": "2023-02-23T10:07:26.023Z"
   },
   {
    "duration": 169,
    "start_time": "2023-02-23T10:07:31.742Z"
   },
   {
    "duration": 162,
    "start_time": "2023-02-23T10:07:45.225Z"
   },
   {
    "duration": 210,
    "start_time": "2023-02-23T10:08:59.684Z"
   },
   {
    "duration": 307,
    "start_time": "2023-02-23T10:09:07.344Z"
   },
   {
    "duration": 153,
    "start_time": "2023-02-23T10:10:20.181Z"
   },
   {
    "duration": 78,
    "start_time": "2023-02-23T10:10:49.896Z"
   },
   {
    "duration": 152,
    "start_time": "2023-02-23T10:10:56.473Z"
   },
   {
    "duration": 8,
    "start_time": "2023-02-23T10:12:26.110Z"
   },
   {
    "duration": 11,
    "start_time": "2023-02-23T10:12:29.108Z"
   },
   {
    "duration": 70,
    "start_time": "2023-02-23T10:14:31.009Z"
   },
   {
    "duration": 74,
    "start_time": "2023-02-23T10:15:15.515Z"
   },
   {
    "duration": 94,
    "start_time": "2023-02-23T10:16:11.991Z"
   },
   {
    "duration": 9,
    "start_time": "2023-02-23T10:17:26.312Z"
   },
   {
    "duration": 848,
    "start_time": "2023-02-23T10:18:08.553Z"
   },
   {
    "duration": 17,
    "start_time": "2023-02-23T10:18:09.403Z"
   },
   {
    "duration": 46,
    "start_time": "2023-02-23T10:18:09.422Z"
   },
   {
    "duration": 1971,
    "start_time": "2023-02-23T10:18:09.470Z"
   },
   {
    "duration": 78,
    "start_time": "2023-02-23T10:18:11.443Z"
   },
   {
    "duration": 22,
    "start_time": "2023-02-23T10:18:11.523Z"
   },
   {
    "duration": 23,
    "start_time": "2023-02-23T10:18:11.547Z"
   },
   {
    "duration": 4,
    "start_time": "2023-02-23T10:18:11.572Z"
   },
   {
    "duration": 9,
    "start_time": "2023-02-23T10:18:11.577Z"
   },
   {
    "duration": 10,
    "start_time": "2023-02-23T10:18:11.588Z"
   },
   {
    "duration": 48,
    "start_time": "2023-02-23T10:18:11.600Z"
   },
   {
    "duration": 9,
    "start_time": "2023-02-23T10:18:11.650Z"
   },
   {
    "duration": 6,
    "start_time": "2023-02-23T10:18:11.661Z"
   },
   {
    "duration": 28,
    "start_time": "2023-02-23T10:18:11.669Z"
   },
   {
    "duration": 6,
    "start_time": "2023-02-23T10:18:11.699Z"
   },
   {
    "duration": 11,
    "start_time": "2023-02-23T10:18:11.706Z"
   },
   {
    "duration": 22,
    "start_time": "2023-02-23T10:18:11.719Z"
   },
   {
    "duration": 8,
    "start_time": "2023-02-23T10:18:11.743Z"
   },
   {
    "duration": 9,
    "start_time": "2023-02-23T10:18:11.752Z"
   },
   {
    "duration": 9263,
    "start_time": "2023-02-23T10:18:11.763Z"
   },
   {
    "duration": 12,
    "start_time": "2023-02-23T10:18:21.028Z"
   },
   {
    "duration": 5,
    "start_time": "2023-02-23T10:18:21.041Z"
   },
   {
    "duration": 14,
    "start_time": "2023-02-23T10:18:21.048Z"
   },
   {
    "duration": 32,
    "start_time": "2023-02-23T10:18:21.063Z"
   },
   {
    "duration": 27,
    "start_time": "2023-02-23T10:18:21.097Z"
   },
   {
    "duration": 15,
    "start_time": "2023-02-23T10:18:21.126Z"
   },
   {
    "duration": 13,
    "start_time": "2023-02-23T10:18:21.143Z"
   },
   {
    "duration": 10,
    "start_time": "2023-02-23T10:18:21.158Z"
   },
   {
    "duration": 379,
    "start_time": "2023-02-23T10:18:21.170Z"
   },
   {
    "duration": 125,
    "start_time": "2023-02-23T10:18:21.551Z"
   },
   {
    "duration": 192,
    "start_time": "2023-02-23T10:18:21.678Z"
   },
   {
    "duration": 6,
    "start_time": "2023-02-23T10:18:21.872Z"
   },
   {
    "duration": 506,
    "start_time": "2023-02-23T10:18:21.880Z"
   },
   {
    "duration": 37,
    "start_time": "2023-02-23T10:18:22.388Z"
   },
   {
    "duration": 17,
    "start_time": "2023-02-23T10:18:22.427Z"
   },
   {
    "duration": 37,
    "start_time": "2023-02-23T10:18:22.446Z"
   },
   {
    "duration": 9,
    "start_time": "2023-02-23T10:18:22.485Z"
   },
   {
    "duration": 20,
    "start_time": "2023-02-23T10:18:22.496Z"
   },
   {
    "duration": 23,
    "start_time": "2023-02-23T10:18:22.518Z"
   },
   {
    "duration": 26,
    "start_time": "2023-02-23T10:18:22.543Z"
   },
   {
    "duration": 4,
    "start_time": "2023-02-23T10:18:22.574Z"
   },
   {
    "duration": 20,
    "start_time": "2023-02-23T10:18:22.579Z"
   },
   {
    "duration": 12,
    "start_time": "2023-02-23T10:18:22.601Z"
   },
   {
    "duration": 12,
    "start_time": "2023-02-23T10:18:22.615Z"
   },
   {
    "duration": 11,
    "start_time": "2023-02-23T10:18:22.629Z"
   },
   {
    "duration": 35,
    "start_time": "2023-02-23T10:18:22.642Z"
   },
   {
    "duration": 16,
    "start_time": "2023-02-23T10:18:22.679Z"
   },
   {
    "duration": 19,
    "start_time": "2023-02-23T10:18:22.697Z"
   },
   {
    "duration": 29,
    "start_time": "2023-02-23T10:18:22.718Z"
   },
   {
    "duration": 19,
    "start_time": "2023-02-23T10:18:22.749Z"
   },
   {
    "duration": 5,
    "start_time": "2023-02-23T10:18:22.770Z"
   },
   {
    "duration": 11,
    "start_time": "2023-02-23T10:18:22.777Z"
   },
   {
    "duration": 19,
    "start_time": "2023-02-23T10:18:22.789Z"
   },
   {
    "duration": 44,
    "start_time": "2023-02-23T10:18:22.810Z"
   },
   {
    "duration": 29,
    "start_time": "2023-02-23T10:18:22.856Z"
   },
   {
    "duration": 18,
    "start_time": "2023-02-23T10:18:22.887Z"
   },
   {
    "duration": 5,
    "start_time": "2023-02-23T10:18:22.907Z"
   },
   {
    "duration": 19,
    "start_time": "2023-02-23T10:18:22.941Z"
   },
   {
    "duration": 17,
    "start_time": "2023-02-23T10:18:22.962Z"
   },
   {
    "duration": 66,
    "start_time": "2023-02-23T10:18:22.981Z"
   },
   {
    "duration": 9,
    "start_time": "2023-02-23T10:18:23.049Z"
   },
   {
    "duration": 23,
    "start_time": "2023-02-23T10:18:23.060Z"
   },
   {
    "duration": 4,
    "start_time": "2023-02-23T10:18:23.085Z"
   },
   {
    "duration": 7,
    "start_time": "2023-02-23T10:18:23.091Z"
   },
   {
    "duration": 9,
    "start_time": "2023-02-23T10:18:23.100Z"
   },
   {
    "duration": 29,
    "start_time": "2023-02-23T10:18:23.111Z"
   },
   {
    "duration": 6,
    "start_time": "2023-02-23T10:18:23.142Z"
   },
   {
    "duration": 7,
    "start_time": "2023-02-23T10:18:23.149Z"
   },
   {
    "duration": 4,
    "start_time": "2023-02-23T10:18:23.157Z"
   },
   {
    "duration": 356,
    "start_time": "2023-02-23T10:18:23.163Z"
   },
   {
    "duration": 4,
    "start_time": "2023-02-23T10:18:23.521Z"
   },
   {
    "duration": 280,
    "start_time": "2023-02-23T10:18:23.527Z"
   },
   {
    "duration": 281,
    "start_time": "2023-02-23T10:18:23.809Z"
   },
   {
    "duration": 13,
    "start_time": "2023-02-23T10:18:24.092Z"
   },
   {
    "duration": 10,
    "start_time": "2023-02-23T10:18:24.107Z"
   },
   {
    "duration": 209,
    "start_time": "2023-02-23T10:18:24.139Z"
   },
   {
    "duration": 216,
    "start_time": "2023-02-23T10:18:24.350Z"
   },
   {
    "duration": 145,
    "start_time": "2023-02-23T10:18:24.568Z"
   },
   {
    "duration": 8,
    "start_time": "2023-02-23T10:18:24.715Z"
   },
   {
    "duration": 173,
    "start_time": "2023-02-23T10:18:24.725Z"
   },
   {
    "duration": 160,
    "start_time": "2023-02-23T10:18:24.900Z"
   },
   {
    "duration": 290,
    "start_time": "2023-02-23T10:18:25.062Z"
   },
   {
    "duration": 286,
    "start_time": "2023-02-23T10:18:25.354Z"
   },
   {
    "duration": 127,
    "start_time": "2023-02-23T10:18:25.642Z"
   },
   {
    "duration": 9,
    "start_time": "2023-02-23T10:18:25.771Z"
   },
   {
    "duration": 284,
    "start_time": "2023-02-23T10:18:25.781Z"
   },
   {
    "duration": 258,
    "start_time": "2023-02-23T10:18:26.067Z"
   },
   {
    "duration": 307,
    "start_time": "2023-02-23T10:18:26.327Z"
   },
   {
    "duration": 194,
    "start_time": "2023-02-23T10:18:26.636Z"
   },
   {
    "duration": 186,
    "start_time": "2023-02-23T10:18:26.839Z"
   },
   {
    "duration": 202,
    "start_time": "2023-02-23T10:18:27.027Z"
   },
   {
    "duration": 193,
    "start_time": "2023-02-23T10:18:27.230Z"
   },
   {
    "duration": 218,
    "start_time": "2023-02-23T10:18:27.425Z"
   },
   {
    "duration": 185,
    "start_time": "2023-02-23T10:18:27.645Z"
   },
   {
    "duration": 277,
    "start_time": "2023-02-23T10:18:27.839Z"
   },
   {
    "duration": 9,
    "start_time": "2023-02-23T10:18:28.117Z"
   },
   {
    "duration": 268,
    "start_time": "2023-02-23T10:18:28.128Z"
   },
   {
    "duration": 165,
    "start_time": "2023-02-23T10:18:28.398Z"
   },
   {
    "duration": 153,
    "start_time": "2023-02-23T10:18:28.564Z"
   },
   {
    "duration": 809,
    "start_time": "2023-02-23T10:18:28.719Z"
   },
   {
    "duration": 449,
    "start_time": "2023-02-23T10:18:29.530Z"
   },
   {
    "duration": 797,
    "start_time": "2023-02-23T10:18:29.981Z"
   },
   {
    "duration": 10,
    "start_time": "2023-02-23T10:18:30.780Z"
   },
   {
    "duration": 431,
    "start_time": "2023-02-23T10:18:30.791Z"
   },
   {
    "duration": 16,
    "start_time": "2023-02-23T10:18:31.224Z"
   },
   {
    "duration": 176,
    "start_time": "2023-02-23T10:18:31.242Z"
   },
   {
    "duration": 170,
    "start_time": "2023-02-23T10:18:31.421Z"
   },
   {
    "duration": 171,
    "start_time": "2023-02-23T10:18:31.593Z"
   },
   {
    "duration": 300,
    "start_time": "2023-02-23T10:18:31.766Z"
   },
   {
    "duration": 13,
    "start_time": "2023-02-23T10:18:32.068Z"
   },
   {
    "duration": 203,
    "start_time": "2023-02-23T10:18:32.083Z"
   },
   {
    "duration": 9,
    "start_time": "2023-02-23T10:18:32.289Z"
   },
   {
    "duration": 9,
    "start_time": "2023-02-23T10:18:32.300Z"
   },
   {
    "duration": 29,
    "start_time": "2023-02-23T10:18:32.312Z"
   },
   {
    "duration": 16,
    "start_time": "2023-02-23T10:18:32.343Z"
   },
   {
    "duration": 319,
    "start_time": "2023-02-23T10:18:32.361Z"
   },
   {
    "duration": 64,
    "start_time": "2023-02-23T10:19:43.848Z"
   },
   {
    "duration": 772,
    "start_time": "2023-02-23T12:43:17.384Z"
   },
   {
    "duration": 16,
    "start_time": "2023-02-23T12:43:18.158Z"
   },
   {
    "duration": 42,
    "start_time": "2023-02-23T12:43:18.175Z"
   },
   {
    "duration": 1805,
    "start_time": "2023-02-23T12:43:18.219Z"
   },
   {
    "duration": 90,
    "start_time": "2023-02-23T12:43:20.025Z"
   },
   {
    "duration": 9,
    "start_time": "2023-02-23T12:43:20.117Z"
   },
   {
    "duration": 41,
    "start_time": "2023-02-23T12:43:20.128Z"
   },
   {
    "duration": 5,
    "start_time": "2023-02-23T12:43:20.171Z"
   },
   {
    "duration": 7,
    "start_time": "2023-02-23T12:43:20.199Z"
   },
   {
    "duration": 26,
    "start_time": "2023-02-23T12:43:20.209Z"
   },
   {
    "duration": 29,
    "start_time": "2023-02-23T12:43:20.237Z"
   },
   {
    "duration": 19,
    "start_time": "2023-02-23T12:43:20.268Z"
   },
   {
    "duration": 17,
    "start_time": "2023-02-23T12:43:20.290Z"
   },
   {
    "duration": 15,
    "start_time": "2023-02-23T12:43:20.309Z"
   },
   {
    "duration": 6,
    "start_time": "2023-02-23T12:43:20.326Z"
   },
   {
    "duration": 32,
    "start_time": "2023-02-23T12:43:20.334Z"
   },
   {
    "duration": 14,
    "start_time": "2023-02-23T12:43:20.369Z"
   },
   {
    "duration": 13,
    "start_time": "2023-02-23T12:43:20.385Z"
   },
   {
    "duration": 14,
    "start_time": "2023-02-23T12:43:20.401Z"
   },
   {
    "duration": 8321,
    "start_time": "2023-02-23T12:43:20.417Z"
   },
   {
    "duration": 5,
    "start_time": "2023-02-23T12:43:28.740Z"
   },
   {
    "duration": 12,
    "start_time": "2023-02-23T12:43:28.747Z"
   },
   {
    "duration": 4,
    "start_time": "2023-02-23T12:43:28.761Z"
   },
   {
    "duration": 36,
    "start_time": "2023-02-23T12:43:28.767Z"
   },
   {
    "duration": 25,
    "start_time": "2023-02-23T12:43:28.804Z"
   },
   {
    "duration": 6,
    "start_time": "2023-02-23T12:43:28.831Z"
   },
   {
    "duration": 16,
    "start_time": "2023-02-23T12:43:28.839Z"
   },
   {
    "duration": 11,
    "start_time": "2023-02-23T12:43:28.860Z"
   },
   {
    "duration": 377,
    "start_time": "2023-02-23T12:43:28.872Z"
   },
   {
    "duration": 118,
    "start_time": "2023-02-23T12:43:29.251Z"
   },
   {
    "duration": 174,
    "start_time": "2023-02-23T12:43:29.371Z"
   },
   {
    "duration": 6,
    "start_time": "2023-02-23T12:43:29.547Z"
   },
   {
    "duration": 486,
    "start_time": "2023-02-23T12:43:29.554Z"
   },
   {
    "duration": 40,
    "start_time": "2023-02-23T12:43:30.042Z"
   },
   {
    "duration": 20,
    "start_time": "2023-02-23T12:43:30.084Z"
   },
   {
    "duration": 69,
    "start_time": "2023-02-23T12:43:30.106Z"
   },
   {
    "duration": 36,
    "start_time": "2023-02-23T12:43:30.177Z"
   },
   {
    "duration": 30,
    "start_time": "2023-02-23T12:43:30.215Z"
   },
   {
    "duration": 37,
    "start_time": "2023-02-23T12:43:30.247Z"
   },
   {
    "duration": 47,
    "start_time": "2023-02-23T12:43:30.285Z"
   },
   {
    "duration": 37,
    "start_time": "2023-02-23T12:43:30.333Z"
   },
   {
    "duration": 42,
    "start_time": "2023-02-23T12:43:30.372Z"
   },
   {
    "duration": 41,
    "start_time": "2023-02-23T12:43:30.417Z"
   },
   {
    "duration": 43,
    "start_time": "2023-02-23T12:43:30.460Z"
   },
   {
    "duration": 37,
    "start_time": "2023-02-23T12:43:30.506Z"
   },
   {
    "duration": 46,
    "start_time": "2023-02-23T12:43:30.546Z"
   },
   {
    "duration": 16,
    "start_time": "2023-02-23T12:43:30.595Z"
   },
   {
    "duration": 39,
    "start_time": "2023-02-23T12:43:30.612Z"
   },
   {
    "duration": 58,
    "start_time": "2023-02-23T12:43:30.652Z"
   },
   {
    "duration": 65,
    "start_time": "2023-02-23T12:43:30.712Z"
   },
   {
    "duration": 18,
    "start_time": "2023-02-23T12:43:30.779Z"
   },
   {
    "duration": 50,
    "start_time": "2023-02-23T12:43:30.798Z"
   },
   {
    "duration": 62,
    "start_time": "2023-02-23T12:43:30.849Z"
   },
   {
    "duration": 41,
    "start_time": "2023-02-23T12:43:30.913Z"
   },
   {
    "duration": 39,
    "start_time": "2023-02-23T12:43:30.956Z"
   },
   {
    "duration": 19,
    "start_time": "2023-02-23T12:43:30.996Z"
   },
   {
    "duration": 18,
    "start_time": "2023-02-23T12:43:31.017Z"
   },
   {
    "duration": 46,
    "start_time": "2023-02-23T12:43:31.037Z"
   },
   {
    "duration": 34,
    "start_time": "2023-02-23T12:43:31.085Z"
   },
   {
    "duration": 47,
    "start_time": "2023-02-23T12:43:31.120Z"
   },
   {
    "duration": 7,
    "start_time": "2023-02-23T12:43:31.169Z"
   },
   {
    "duration": 18,
    "start_time": "2023-02-23T12:43:31.178Z"
   },
   {
    "duration": 4,
    "start_time": "2023-02-23T12:43:31.198Z"
   },
   {
    "duration": 11,
    "start_time": "2023-02-23T12:43:31.204Z"
   },
   {
    "duration": 25,
    "start_time": "2023-02-23T12:43:31.217Z"
   },
   {
    "duration": 19,
    "start_time": "2023-02-23T12:43:31.244Z"
   },
   {
    "duration": 10,
    "start_time": "2023-02-23T12:43:31.265Z"
   },
   {
    "duration": 7,
    "start_time": "2023-02-23T12:43:31.277Z"
   },
   {
    "duration": 4,
    "start_time": "2023-02-23T12:43:31.285Z"
   },
   {
    "duration": 312,
    "start_time": "2023-02-23T12:43:31.290Z"
   },
   {
    "duration": 4,
    "start_time": "2023-02-23T12:43:31.604Z"
   },
   {
    "duration": 269,
    "start_time": "2023-02-23T12:43:31.609Z"
   },
   {
    "duration": 265,
    "start_time": "2023-02-23T12:43:31.880Z"
   },
   {
    "duration": 13,
    "start_time": "2023-02-23T12:43:32.148Z"
   },
   {
    "duration": 9,
    "start_time": "2023-02-23T12:43:32.163Z"
   },
   {
    "duration": 218,
    "start_time": "2023-02-23T12:43:32.174Z"
   },
   {
    "duration": 198,
    "start_time": "2023-02-23T12:43:32.394Z"
   },
   {
    "duration": 130,
    "start_time": "2023-02-23T12:43:32.599Z"
   },
   {
    "duration": 7,
    "start_time": "2023-02-23T12:43:32.731Z"
   },
   {
    "duration": 165,
    "start_time": "2023-02-23T12:43:32.739Z"
   },
   {
    "duration": 144,
    "start_time": "2023-02-23T12:43:32.905Z"
   },
   {
    "duration": 246,
    "start_time": "2023-02-23T12:43:33.054Z"
   },
   {
    "duration": 247,
    "start_time": "2023-02-23T12:43:33.301Z"
   },
   {
    "duration": 111,
    "start_time": "2023-02-23T12:43:33.550Z"
   },
   {
    "duration": 8,
    "start_time": "2023-02-23T12:43:33.663Z"
   },
   {
    "duration": 252,
    "start_time": "2023-02-23T12:43:33.673Z"
   },
   {
    "duration": 306,
    "start_time": "2023-02-23T12:43:33.927Z"
   },
   {
    "duration": 287,
    "start_time": "2023-02-23T12:43:34.235Z"
   },
   {
    "duration": 194,
    "start_time": "2023-02-23T12:43:34.524Z"
   },
   {
    "duration": 180,
    "start_time": "2023-02-23T12:43:34.719Z"
   },
   {
    "duration": 171,
    "start_time": "2023-02-23T12:43:34.900Z"
   },
   {
    "duration": 186,
    "start_time": "2023-02-23T12:43:35.073Z"
   },
   {
    "duration": 191,
    "start_time": "2023-02-23T12:43:35.261Z"
   },
   {
    "duration": 226,
    "start_time": "2023-02-23T12:43:35.453Z"
   },
   {
    "duration": 229,
    "start_time": "2023-02-23T12:43:35.681Z"
   },
   {
    "duration": 7,
    "start_time": "2023-02-23T12:43:35.912Z"
   },
   {
    "duration": 264,
    "start_time": "2023-02-23T12:43:35.921Z"
   },
   {
    "duration": 172,
    "start_time": "2023-02-23T12:43:36.187Z"
   },
   {
    "duration": 153,
    "start_time": "2023-02-23T12:43:36.361Z"
   },
   {
    "duration": 696,
    "start_time": "2023-02-23T12:43:36.516Z"
   },
   {
    "duration": 420,
    "start_time": "2023-02-23T12:43:37.214Z"
   },
   {
    "duration": 737,
    "start_time": "2023-02-23T12:43:37.636Z"
   },
   {
    "duration": 10,
    "start_time": "2023-02-23T12:43:38.375Z"
   },
   {
    "duration": 399,
    "start_time": "2023-02-23T12:43:38.387Z"
   },
   {
    "duration": 4,
    "start_time": "2023-02-23T12:43:38.787Z"
   },
   {
    "duration": 155,
    "start_time": "2023-02-23T12:43:38.792Z"
   },
   {
    "duration": 160,
    "start_time": "2023-02-23T12:43:38.949Z"
   },
   {
    "duration": 152,
    "start_time": "2023-02-23T12:43:39.110Z"
   },
   {
    "duration": 267,
    "start_time": "2023-02-23T12:43:39.264Z"
   },
   {
    "duration": 12,
    "start_time": "2023-02-23T12:43:39.533Z"
   },
   {
    "duration": 172,
    "start_time": "2023-02-23T12:43:39.546Z"
   },
   {
    "duration": 8,
    "start_time": "2023-02-23T12:43:39.720Z"
   },
   {
    "duration": 9,
    "start_time": "2023-02-23T12:43:39.730Z"
   },
   {
    "duration": 9,
    "start_time": "2023-02-23T12:43:39.741Z"
   },
   {
    "duration": 16,
    "start_time": "2023-02-23T12:43:39.751Z"
   },
   {
    "duration": 317,
    "start_time": "2023-02-23T12:43:39.769Z"
   },
   {
    "duration": 296,
    "start_time": "2023-02-23T12:46:11.387Z"
   },
   {
    "duration": 71,
    "start_time": "2023-02-23T13:14:22.217Z"
   },
   {
    "duration": 178,
    "start_time": "2023-02-23T13:16:23.640Z"
   },
   {
    "duration": 202,
    "start_time": "2023-02-23T13:17:39.996Z"
   },
   {
    "duration": 126,
    "start_time": "2023-02-23T13:18:13.828Z"
   },
   {
    "duration": 84,
    "start_time": "2023-02-23T13:18:47.002Z"
   },
   {
    "duration": 217,
    "start_time": "2023-02-23T13:19:35.727Z"
   },
   {
    "duration": 11,
    "start_time": "2023-02-23T13:20:00.937Z"
   },
   {
    "duration": 5,
    "start_time": "2023-02-23T13:20:08.783Z"
   },
   {
    "duration": 18,
    "start_time": "2023-02-23T13:20:25.314Z"
   },
   {
    "duration": 172,
    "start_time": "2023-02-23T13:20:37.528Z"
   },
   {
    "duration": 214,
    "start_time": "2023-02-23T13:20:58.334Z"
   },
   {
    "duration": 16,
    "start_time": "2023-02-23T13:22:21.234Z"
   },
   {
    "duration": 199,
    "start_time": "2023-02-23T13:22:29.802Z"
   },
   {
    "duration": 166,
    "start_time": "2023-02-23T13:22:54.389Z"
   },
   {
    "duration": 3,
    "start_time": "2023-02-23T13:25:14.774Z"
   },
   {
    "duration": 201,
    "start_time": "2023-02-23T13:25:47.033Z"
   },
   {
    "duration": 4,
    "start_time": "2023-02-23T13:27:01.125Z"
   },
   {
    "duration": 220,
    "start_time": "2023-02-23T13:27:03.131Z"
   },
   {
    "duration": 4,
    "start_time": "2023-02-23T13:27:15.700Z"
   },
   {
    "duration": 223,
    "start_time": "2023-02-23T13:27:16.991Z"
   },
   {
    "duration": 3,
    "start_time": "2023-02-23T13:39:47.945Z"
   },
   {
    "duration": 19,
    "start_time": "2023-02-23T13:39:58.265Z"
   },
   {
    "duration": 3,
    "start_time": "2023-02-23T13:40:09.568Z"
   },
   {
    "duration": 335,
    "start_time": "2023-02-23T13:40:11.119Z"
   },
   {
    "duration": 205,
    "start_time": "2023-02-23T13:40:36.969Z"
   },
   {
    "duration": 186,
    "start_time": "2023-02-23T13:40:53.393Z"
   },
   {
    "duration": 4,
    "start_time": "2023-02-23T13:41:27.677Z"
   },
   {
    "duration": 167,
    "start_time": "2023-02-23T13:41:28.485Z"
   },
   {
    "duration": 3,
    "start_time": "2023-02-23T13:41:43.609Z"
   },
   {
    "duration": 152,
    "start_time": "2023-02-23T13:41:44.474Z"
   },
   {
    "duration": 4,
    "start_time": "2023-02-23T13:42:01.735Z"
   },
   {
    "duration": 179,
    "start_time": "2023-02-23T13:42:02.277Z"
   },
   {
    "duration": 82,
    "start_time": "2023-02-23T13:47:13.409Z"
   },
   {
    "duration": 762,
    "start_time": "2023-02-23T14:19:53.238Z"
   },
   {
    "duration": 19,
    "start_time": "2023-02-23T14:19:54.003Z"
   },
   {
    "duration": 39,
    "start_time": "2023-02-23T14:19:54.023Z"
   },
   {
    "duration": 1914,
    "start_time": "2023-02-23T14:19:54.065Z"
   },
   {
    "duration": 85,
    "start_time": "2023-02-23T14:19:55.981Z"
   },
   {
    "duration": 9,
    "start_time": "2023-02-23T14:19:56.067Z"
   },
   {
    "duration": 38,
    "start_time": "2023-02-23T14:19:56.077Z"
   },
   {
    "duration": 3,
    "start_time": "2023-02-23T14:19:56.116Z"
   },
   {
    "duration": 10,
    "start_time": "2023-02-23T14:19:56.121Z"
   },
   {
    "duration": 8,
    "start_time": "2023-02-23T14:19:56.134Z"
   },
   {
    "duration": 20,
    "start_time": "2023-02-23T14:19:56.144Z"
   },
   {
    "duration": 35,
    "start_time": "2023-02-23T14:19:56.166Z"
   },
   {
    "duration": 5,
    "start_time": "2023-02-23T14:19:56.203Z"
   },
   {
    "duration": 10,
    "start_time": "2023-02-23T14:19:56.209Z"
   },
   {
    "duration": 6,
    "start_time": "2023-02-23T14:19:56.221Z"
   },
   {
    "duration": 7,
    "start_time": "2023-02-23T14:19:56.228Z"
   },
   {
    "duration": 12,
    "start_time": "2023-02-23T14:19:56.237Z"
   },
   {
    "duration": 29,
    "start_time": "2023-02-23T14:19:56.251Z"
   },
   {
    "duration": 20,
    "start_time": "2023-02-23T14:19:56.282Z"
   },
   {
    "duration": 8381,
    "start_time": "2023-02-23T14:19:56.304Z"
   },
   {
    "duration": 4,
    "start_time": "2023-02-23T14:20:04.687Z"
   },
   {
    "duration": 8,
    "start_time": "2023-02-23T14:20:04.692Z"
   },
   {
    "duration": 7,
    "start_time": "2023-02-23T14:20:04.701Z"
   },
   {
    "duration": 22,
    "start_time": "2023-02-23T14:20:04.709Z"
   },
   {
    "duration": 24,
    "start_time": "2023-02-23T14:20:04.732Z"
   },
   {
    "duration": 7,
    "start_time": "2023-02-23T14:20:04.757Z"
   },
   {
    "duration": 8,
    "start_time": "2023-02-23T14:20:04.765Z"
   },
   {
    "duration": 17,
    "start_time": "2023-02-23T14:20:04.798Z"
   },
   {
    "duration": 334,
    "start_time": "2023-02-23T14:20:04.816Z"
   },
   {
    "duration": 110,
    "start_time": "2023-02-23T14:20:05.152Z"
   },
   {
    "duration": 188,
    "start_time": "2023-02-23T14:20:05.263Z"
   },
   {
    "duration": 7,
    "start_time": "2023-02-23T14:20:05.452Z"
   },
   {
    "duration": 453,
    "start_time": "2023-02-23T14:20:05.461Z"
   },
   {
    "duration": 32,
    "start_time": "2023-02-23T14:20:05.916Z"
   },
   {
    "duration": 5,
    "start_time": "2023-02-23T14:20:05.950Z"
   },
   {
    "duration": 44,
    "start_time": "2023-02-23T14:20:05.957Z"
   },
   {
    "duration": 8,
    "start_time": "2023-02-23T14:20:06.003Z"
   },
   {
    "duration": 19,
    "start_time": "2023-02-23T14:20:06.013Z"
   },
   {
    "duration": 14,
    "start_time": "2023-02-23T14:20:06.033Z"
   },
   {
    "duration": 21,
    "start_time": "2023-02-23T14:20:06.049Z"
   },
   {
    "duration": 10,
    "start_time": "2023-02-23T14:20:06.072Z"
   },
   {
    "duration": 15,
    "start_time": "2023-02-23T14:20:06.084Z"
   },
   {
    "duration": 9,
    "start_time": "2023-02-23T14:20:06.100Z"
   },
   {
    "duration": 5,
    "start_time": "2023-02-23T14:20:06.111Z"
   },
   {
    "duration": 6,
    "start_time": "2023-02-23T14:20:06.118Z"
   },
   {
    "duration": 17,
    "start_time": "2023-02-23T14:20:06.125Z"
   },
   {
    "duration": 14,
    "start_time": "2023-02-23T14:20:06.144Z"
   },
   {
    "duration": 48,
    "start_time": "2023-02-23T14:20:06.159Z"
   },
   {
    "duration": 14,
    "start_time": "2023-02-23T14:20:06.209Z"
   },
   {
    "duration": 17,
    "start_time": "2023-02-23T14:20:06.225Z"
   },
   {
    "duration": 5,
    "start_time": "2023-02-23T14:20:06.244Z"
   },
   {
    "duration": 6,
    "start_time": "2023-02-23T14:20:06.250Z"
   },
   {
    "duration": 45,
    "start_time": "2023-02-23T14:20:06.258Z"
   },
   {
    "duration": 14,
    "start_time": "2023-02-23T14:20:06.305Z"
   },
   {
    "duration": 27,
    "start_time": "2023-02-23T14:20:06.321Z"
   },
   {
    "duration": 21,
    "start_time": "2023-02-23T14:20:06.350Z"
   },
   {
    "duration": 4,
    "start_time": "2023-02-23T14:20:06.399Z"
   },
   {
    "duration": 18,
    "start_time": "2023-02-23T14:20:06.405Z"
   },
   {
    "duration": 17,
    "start_time": "2023-02-23T14:20:06.424Z"
   },
   {
    "duration": 58,
    "start_time": "2023-02-23T14:20:06.442Z"
   },
   {
    "duration": 8,
    "start_time": "2023-02-23T14:20:06.502Z"
   },
   {
    "duration": 21,
    "start_time": "2023-02-23T14:20:06.512Z"
   },
   {
    "duration": 4,
    "start_time": "2023-02-23T14:20:06.534Z"
   },
   {
    "duration": 9,
    "start_time": "2023-02-23T14:20:06.540Z"
   },
   {
    "duration": 8,
    "start_time": "2023-02-23T14:20:06.550Z"
   },
   {
    "duration": 9,
    "start_time": "2023-02-23T14:20:06.559Z"
   },
   {
    "duration": 29,
    "start_time": "2023-02-23T14:20:06.570Z"
   },
   {
    "duration": 8,
    "start_time": "2023-02-23T14:20:06.601Z"
   },
   {
    "duration": 13,
    "start_time": "2023-02-23T14:20:06.610Z"
   },
   {
    "duration": 312,
    "start_time": "2023-02-23T14:20:06.626Z"
   },
   {
    "duration": 3,
    "start_time": "2023-02-23T14:20:06.940Z"
   },
   {
    "duration": 277,
    "start_time": "2023-02-23T14:20:06.945Z"
   },
   {
    "duration": 235,
    "start_time": "2023-02-23T14:20:07.223Z"
   },
   {
    "duration": 14,
    "start_time": "2023-02-23T14:20:07.460Z"
   },
   {
    "duration": 23,
    "start_time": "2023-02-23T14:20:07.476Z"
   },
   {
    "duration": 186,
    "start_time": "2023-02-23T14:20:07.500Z"
   },
   {
    "duration": 185,
    "start_time": "2023-02-23T14:20:07.688Z"
   },
   {
    "duration": 126,
    "start_time": "2023-02-23T14:20:07.874Z"
   },
   {
    "duration": 7,
    "start_time": "2023-02-23T14:20:08.002Z"
   },
   {
    "duration": 145,
    "start_time": "2023-02-23T14:20:08.010Z"
   },
   {
    "duration": 133,
    "start_time": "2023-02-23T14:20:08.156Z"
   },
   {
    "duration": 278,
    "start_time": "2023-02-23T14:20:08.294Z"
   },
   {
    "duration": 250,
    "start_time": "2023-02-23T14:20:08.574Z"
   },
   {
    "duration": 109,
    "start_time": "2023-02-23T14:20:08.826Z"
   },
   {
    "duration": 8,
    "start_time": "2023-02-23T14:20:08.937Z"
   },
   {
    "duration": 232,
    "start_time": "2023-02-23T14:20:08.946Z"
   },
   {
    "duration": 222,
    "start_time": "2023-02-23T14:20:09.180Z"
   },
   {
    "duration": 268,
    "start_time": "2023-02-23T14:20:09.403Z"
   },
   {
    "duration": 200,
    "start_time": "2023-02-23T14:20:09.673Z"
   },
   {
    "duration": 173,
    "start_time": "2023-02-23T14:20:09.874Z"
   },
   {
    "duration": 187,
    "start_time": "2023-02-23T14:20:10.048Z"
   },
   {
    "duration": 198,
    "start_time": "2023-02-23T14:20:10.237Z"
   },
   {
    "duration": 198,
    "start_time": "2023-02-23T14:20:10.436Z"
   },
   {
    "duration": 178,
    "start_time": "2023-02-23T14:20:10.636Z"
   },
   {
    "duration": 222,
    "start_time": "2023-02-23T14:20:10.816Z"
   },
   {
    "duration": 8,
    "start_time": "2023-02-23T14:20:11.039Z"
   },
   {
    "duration": 236,
    "start_time": "2023-02-23T14:20:11.049Z"
   },
   {
    "duration": 162,
    "start_time": "2023-02-23T14:20:11.287Z"
   },
   {
    "duration": 159,
    "start_time": "2023-02-23T14:20:11.451Z"
   },
   {
    "duration": 707,
    "start_time": "2023-02-23T14:20:11.612Z"
   },
   {
    "duration": 466,
    "start_time": "2023-02-23T14:20:12.320Z"
   },
   {
    "duration": 715,
    "start_time": "2023-02-23T14:20:12.788Z"
   },
   {
    "duration": 9,
    "start_time": "2023-02-23T14:20:13.507Z"
   },
   {
    "duration": 436,
    "start_time": "2023-02-23T14:20:13.518Z"
   },
   {
    "duration": 4,
    "start_time": "2023-02-23T14:20:13.956Z"
   },
   {
    "duration": 213,
    "start_time": "2023-02-23T14:20:13.962Z"
   },
   {
    "duration": 178,
    "start_time": "2023-02-23T14:20:14.177Z"
   },
   {
    "duration": 150,
    "start_time": "2023-02-23T14:20:14.357Z"
   },
   {
    "duration": 244,
    "start_time": "2023-02-23T14:20:14.509Z"
   },
   {
    "duration": 13,
    "start_time": "2023-02-23T14:20:14.755Z"
   },
   {
    "duration": 180,
    "start_time": "2023-02-23T14:20:14.769Z"
   },
   {
    "duration": 196,
    "start_time": "2023-02-23T14:20:14.951Z"
   },
   {
    "duration": 4,
    "start_time": "2023-02-23T14:20:15.149Z"
   },
   {
    "duration": 176,
    "start_time": "2023-02-23T14:20:15.155Z"
   },
   {
    "duration": 169,
    "start_time": "2023-02-23T14:20:15.332Z"
   },
   {
    "duration": 176,
    "start_time": "2023-02-23T14:20:15.503Z"
   },
   {
    "duration": 17,
    "start_time": "2023-02-23T14:20:15.681Z"
   },
   {
    "duration": 10,
    "start_time": "2023-02-23T14:20:15.700Z"
   },
   {
    "duration": 12,
    "start_time": "2023-02-23T14:20:15.711Z"
   },
   {
    "duration": 19,
    "start_time": "2023-02-23T14:20:15.725Z"
   },
   {
    "duration": 343,
    "start_time": "2023-02-23T14:20:15.746Z"
   }
  ],
  "kernelspec": {
   "display_name": "Python 3 (ipykernel)",
   "language": "python",
   "name": "python3"
  },
  "language_info": {
   "codemirror_mode": {
    "name": "ipython",
    "version": 3
   },
   "file_extension": ".py",
   "mimetype": "text/x-python",
   "name": "python",
   "nbconvert_exporter": "python",
   "pygments_lexer": "ipython3",
   "version": "3.11.4"
  },
  "toc": {
   "base_numbering": 1,
   "nav_menu": {},
   "number_sections": true,
   "sideBar": true,
   "skip_h1_title": true,
   "title_cell": "Table of Contents",
   "title_sidebar": "Contents",
   "toc_cell": false,
   "toc_position": {},
   "toc_section_display": true,
   "toc_window_display": true
  }
 },
 "nbformat": 4,
 "nbformat_minor": 2
}
