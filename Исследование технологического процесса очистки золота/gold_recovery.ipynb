{
  "cells": [
    {
      "cell_type": "markdown",
      "metadata": {
        "toc": true,
        "id": "zxBUjCPmCZOU"
      },
      "source": [
        "<h1>Содержание<span class=\"tocSkip\"></span></h1>\n",
        "<div class=\"toc\"><ul class=\"toc-item\"><li><span><a href=\"#Описание-данных\" data-toc-modified-id=\"Описание-данных-1\"><span class=\"toc-item-num\">1&nbsp;&nbsp;</span>Описание данных</a></span><ul class=\"toc-item\"><li><span><a href=\"#Технологический-процесс\" data-toc-modified-id=\"Технологический-процесс-1.1\"><span class=\"toc-item-num\">1.1&nbsp;&nbsp;</span>Технологический процесс</a></span></li><li><span><a href=\"#Параметры-этапов\" data-toc-modified-id=\"Параметры-этапов-1.2\"><span class=\"toc-item-num\">1.2&nbsp;&nbsp;</span>Параметры этапов</a></span></li><li><span><a href=\"#Наименование-признаков\" data-toc-modified-id=\"Наименование-признаков-1.3\"><span class=\"toc-item-num\">1.3&nbsp;&nbsp;</span>Наименование признаков</a></span></li></ul></li><li><span><a href=\"#Подготовка-данных\" data-toc-modified-id=\"Подготовка-данных-2\"><span class=\"toc-item-num\">2&nbsp;&nbsp;</span>Подготовка данных</a></span><ul class=\"toc-item\"><li><span><a href=\"#Загрузка-и-просмотр-данных\" data-toc-modified-id=\"Загрузка-и-просмотр-данных-2.1\"><span class=\"toc-item-num\">2.1&nbsp;&nbsp;</span>Загрузка и просмотр данных</a></span><ul class=\"toc-item\"><li><span><a href=\"#Итог\" data-toc-modified-id=\"Итог-2.1.1\"><span class=\"toc-item-num\">2.1.1&nbsp;&nbsp;</span>Итог</a></span></li></ul></li><li><span><a href=\"#Расчет-эффективности-обогащения\" data-toc-modified-id=\"Расчет-эффективности-обогащения-2.2\"><span class=\"toc-item-num\">2.2&nbsp;&nbsp;</span>Расчет эффективности обогащения</a></span><ul class=\"toc-item\"><li><span><a href=\"#Итог\" data-toc-modified-id=\"Итог-2.2.1\"><span class=\"toc-item-num\">2.2.1&nbsp;&nbsp;</span>Итог</a></span></li></ul></li><li><span><a href=\"#Анализ-признаков,-недоступных-в-тестовой-выборке\" data-toc-modified-id=\"Анализ-признаков,-недоступных-в-тестовой-выборке-2.3\"><span class=\"toc-item-num\">2.3&nbsp;&nbsp;</span>Анализ признаков, недоступных в тестовой выборке</a></span><ul class=\"toc-item\"><li><span><a href=\"#Итог\" data-toc-modified-id=\"Итог-2.3.1\"><span class=\"toc-item-num\">2.3.1&nbsp;&nbsp;</span>Итог</a></span></li><li><span><a href=\"#Итог\" data-toc-modified-id=\"Итог-2.3.2\"><span class=\"toc-item-num\">2.3.2&nbsp;&nbsp;</span>Итог</a></span></li></ul></li><li><span><a href=\"#Предобработка-данных\" data-toc-modified-id=\"Предобработка-данных-2.4\"><span class=\"toc-item-num\">2.4&nbsp;&nbsp;</span>Предобработка данных</a></span></li><li><span><a href=\"#Общий-итог\" data-toc-modified-id=\"Общий-итог-2.5\"><span class=\"toc-item-num\">2.5&nbsp;&nbsp;</span>Общий итог</a></span></li></ul></li><li><span><a href=\"#Анализ-данных\" data-toc-modified-id=\"Анализ-данных-3\"><span class=\"toc-item-num\">3&nbsp;&nbsp;</span>Анализ данных</a></span><ul class=\"toc-item\"><li><span><a href=\"#Концентрация-металлов-(Au,-Ag,-Pb)-на-различных-этапах-очистки.\" data-toc-modified-id=\"Концентрация-металлов-(Au,-Ag,-Pb)-на-различных-этапах-очистки.-3.1\"><span class=\"toc-item-num\">3.1&nbsp;&nbsp;</span>Концентрация металлов (Au, Ag, Pb) на различных этапах очистки.</a></span><ul class=\"toc-item\"><li><span><a href=\"#Итог\" data-toc-modified-id=\"Итог-3.1.1\"><span class=\"toc-item-num\">3.1.1&nbsp;&nbsp;</span>Итог</a></span></li></ul></li><li><span><a href=\"#Распределение-размеров-гранул-сырья-на-обучающей-и-тестовой-выборках.\" data-toc-modified-id=\"Распределение-размеров-гранул-сырья-на-обучающей-и-тестовой-выборках.-3.2\"><span class=\"toc-item-num\">3.2&nbsp;&nbsp;</span>Распределение размеров гранул сырья на обучающей и тестовой выборках.</a></span><ul class=\"toc-item\"><li><span><a href=\"#Итог\" data-toc-modified-id=\"Итог-3.2.1\"><span class=\"toc-item-num\">3.2.1&nbsp;&nbsp;</span>Итог</a></span></li></ul></li><li><span><a href=\"#Cуммарная-концентрация-металлов-на-разных-стадиях:-в-сырье,-в-черновом-и-финальном-концентратах.\" data-toc-modified-id=\"Cуммарная-концентрация-металлов-на-разных-стадиях:-в-сырье,-в-черновом-и-финальном-концентратах.-3.3\"><span class=\"toc-item-num\">3.3&nbsp;&nbsp;</span>Cуммарная концентрация металлов на разных стадиях: в сырье, в черновом и финальном концентратах.</a></span><ul class=\"toc-item\"><li><span><a href=\"#ИТог\" data-toc-modified-id=\"ИТог-3.3.1\"><span class=\"toc-item-num\">3.3.1&nbsp;&nbsp;</span>ИТог</a></span></li></ul></li><li><span><a href=\"#Общий-итог\" data-toc-modified-id=\"Общий-итог-3.4\"><span class=\"toc-item-num\">3.4&nbsp;&nbsp;</span>Общий итог</a></span></li></ul></li><li><span><a href=\"#Модель\" data-toc-modified-id=\"Модель-4\"><span class=\"toc-item-num\">4&nbsp;&nbsp;</span>Модель</a></span><ul class=\"toc-item\"><li><span><a href=\"#Подготовка-данных-к-обучению-и-оценке\" data-toc-modified-id=\"Подготовка-данных-к-обучению-и-оценке-4.1\"><span class=\"toc-item-num\">4.1&nbsp;&nbsp;</span>Подготовка данных к обучению и оценке</a></span></li><li><span><a href=\"#Обучим-разные-модели-и-оценим-их-качество-кросс-валидацией.\" data-toc-modified-id=\"Обучим-разные-модели-и-оценим-их-качество-кросс-валидацией.-4.2\"><span class=\"toc-item-num\">4.2&nbsp;&nbsp;</span>Обучим разные модели и оценим их качество кросс-валидацией.</a></span><ul class=\"toc-item\"><li><span><a href=\"#Линейная-регресия\" data-toc-modified-id=\"Линейная-регресия-4.2.1\"><span class=\"toc-item-num\">4.2.1&nbsp;&nbsp;</span>Линейная регресия</a></span></li><li><span><a href=\"#Дерево-решений\" data-toc-modified-id=\"Дерево-решений-4.2.2\"><span class=\"toc-item-num\">4.2.2&nbsp;&nbsp;</span>Дерево решений</a></span></li><li><span><a href=\"#Случайный-лес\" data-toc-modified-id=\"Случайный-лес-4.2.3\"><span class=\"toc-item-num\">4.2.3&nbsp;&nbsp;</span>Случайный лес</a></span></li><li><span><a href=\"#Итог\" data-toc-modified-id=\"Итог-4.2.4\"><span class=\"toc-item-num\">4.2.4&nbsp;&nbsp;</span>Итог</a></span></li></ul></li><li><span><a href=\"#Проверка-модели-на-тестовой-выборке\" data-toc-modified-id=\"Проверка-модели-на-тестовой-выборке-4.3\"><span class=\"toc-item-num\">4.3&nbsp;&nbsp;</span>Проверка модели на тестовой выборке</a></span><ul class=\"toc-item\"><li><span><a href=\"#Сравнение-с-константной-моделью\" data-toc-modified-id=\"Сравнение-с-константной-моделью-4.3.1\"><span class=\"toc-item-num\">4.3.1&nbsp;&nbsp;</span>Сравнение с константной моделью</a></span></li></ul></li></ul></li><li><span><a href=\"#Дополнительная-проверка.-Проверка-модели-на-полном-датасете\" data-toc-modified-id=\"Дополнительная-проверка.-Проверка-модели-на-полном-датасете-5\"><span class=\"toc-item-num\">5&nbsp;&nbsp;</span>Дополнительная проверка. Проверка модели на полном датасете</a></span><ul class=\"toc-item\"><li><span><a href=\"#Итог\" data-toc-modified-id=\"Итог-5.1\"><span class=\"toc-item-num\">5.1&nbsp;&nbsp;</span>Итог</a></span></li></ul></li><li><span><a href=\"#Заключение\" data-toc-modified-id=\"Заключение-6\"><span class=\"toc-item-num\">6&nbsp;&nbsp;</span>Заключение</a></span></li></ul></div>"
      ]
    },
    {
      "cell_type": "markdown",
      "metadata": {
        "id": "Zh7hByYPCZOU"
      },
      "source": [
        "# Восстановление золота из руды"
      ]
    },
    {
      "cell_type": "markdown",
      "metadata": {
        "id": "OVOR0fe6CZOV"
      },
      "source": [
        "Подготовьте прототип модели машинного обучения для «Цифры». Компания разрабатывает решения для эффективной работы промышленных предприятий.\n",
        "\n",
        "Модель должна предсказать коэффициент восстановления золота из золотосодержащей руды. Используйте данные с параметрами добычи и очистки.\n",
        "\n",
        "Модель поможет оптимизировать производство, чтобы не запускать предприятие с убыточными характеристиками.\n",
        "\n",
        "Вам нужно:\n",
        "\n",
        "1. Подготовить данные;\n",
        "2. Провести исследовательский анализ данных;\n",
        "3. Построить и обучить модель.\n",
        "\n",
        "Чтобы выполнить проект, обращайтесь к библиотекам *pandas*, *matplotlib* и *sklearn.* Вам поможет их документация."
      ]
    },
    {
      "cell_type": "markdown",
      "metadata": {
        "id": "AzmRZEPzCZOV"
      },
      "source": [
        "## Описание данных\n"
      ]
    },
    {
      "cell_type": "markdown",
      "metadata": {
        "id": "phgJGVGVCZOW"
      },
      "source": [
        "### Технологический процесс"
      ]
    },
    {
      "cell_type": "markdown",
      "metadata": {
        "id": "JsamO6O_CZOW"
      },
      "source": [
        "- `Rougher feed` — исходное сырье\n",
        "- `Rougher additions` (или `reagent additions`) — флотационные реагенты: Xanthate, Sulphate, Depressant\n",
        "- `Xanthate` — ксантогенат (промотер, или активатор флотации);\n",
        "- `Sulphate` — сульфат (на данном производстве сульфид натрия);\n",
        "- `Depressant` — депрессант (силикат натрия).\n",
        "- `Rougher process` (англ. «грубый процесс») — флотация\n",
        "- `Rougher tails` — отвальные хвосты\n",
        "- `Float banks` — флотационная установка\n",
        "- `Cleaner process` — очистка\n",
        "- `Rougher Au` — черновой концентрат золота\n",
        "- `Final Au` — финальный концентрат золота"
      ]
    },
    {
      "cell_type": "markdown",
      "metadata": {
        "id": "UMZA3TtMCZOW"
      },
      "source": [
        "### Параметры этапов"
      ]
    },
    {
      "cell_type": "markdown",
      "metadata": {
        "id": "vJa8TZhSCZOW"
      },
      "source": [
        "- `air amount` — объём воздуха\n",
        "- `fluid levels` — уровень жидкости\n",
        "- `feed size` — размер гранул сырья\n",
        "- `feed rate` — скорость подачи"
      ]
    },
    {
      "cell_type": "markdown",
      "metadata": {
        "id": "GL3Xy-SVCZOX"
      },
      "source": [
        "### Наименование признаков\n"
      ]
    },
    {
      "cell_type": "markdown",
      "metadata": {
        "id": "AZNACnOsCZOX"
      },
      "source": [
        "Наименование признаков должно быть такое: [этап].[тип_параметра].[название_параметра]\n",
        "\n",
        "Пример: rougher.input.feed_ag\n",
        "\n",
        "Возможные значения для блока [этап]:\n",
        "\n",
        "- `rougher` — флотация\n",
        "- `primary_cleaner` — первичная очистка\n",
        "- `secondary_cleaner` — вторичная очистка\n",
        "- `final` — финальные характеристики\n",
        "\n",
        "\n",
        "Возможные значения для блока [тип_параметра]:\n",
        "\n",
        "- `input` — параметры сырья\n",
        "- `output` — параметры продукта\n",
        "- `state` — параметры, характеризующие текущее состояние этапа\n",
        "- `calculation` — расчётные характеристики"
      ]
    },
    {
      "cell_type": "markdown",
      "metadata": {
        "id": "w_cQgkdbCZOX"
      },
      "source": [
        "## Подготовка данных"
      ]
    },
    {
      "cell_type": "markdown",
      "metadata": {
        "id": "aSwJpPrlCZOX"
      },
      "source": [
        "### Загрузка и просмотр данных"
      ]
    },
    {
      "cell_type": "raw",
      "metadata": {
        "id": "Q8CqALwVCZOX"
      },
      "source": [
        "# Загрузим pandas profiling\n",
        "\n",
        "!pip3 install pandas-profiling==2.11"
      ]
    },
    {
      "cell_type": "code",
      "execution_count": null,
      "metadata": {
        "id": "HIrfCLiUCZOY"
      },
      "outputs": [],
      "source": [
        "# Загрузим необходимые библиотеки и функции\n",
        "\n",
        "import pandas as pd\n",
        "#from pandas_profiling import ProfileReport\n",
        "import numpy as np\n",
        "import matplotlib.pyplot as plt\n",
        "import seaborn as sns\n",
        "import warnings\n",
        "import matplotlib.pyplot as plt\n",
        "from sklearn.model_selection import train_test_split, cross_val_score\n",
        "from sklearn.tree import DecisionTreeRegressor\n",
        "from sklearn.ensemble import RandomForestRegressor\n",
        "from sklearn.linear_model import LinearRegression\n",
        "from numpy.random import RandomState\n",
        "from sklearn.metrics import make_scorer, mean_absolute_error\n",
        "from sklearn.dummy import DummyRegressor\n",
        "from sklearn.preprocessing import StandardScaler\n",
        "from sklearn.model_selection import GridSearchCV"
      ]
    },
    {
      "cell_type": "code",
      "execution_count": null,
      "metadata": {
        "id": "VvBOQnoACZOZ"
      },
      "outputs": [],
      "source": [
        "# отключить некритические предупреждения в коде\n",
        "\n",
        "warnings.filterwarnings(\"ignore\")"
      ]
    },
    {
      "cell_type": "code",
      "execution_count": null,
      "metadata": {
        "id": "nZ_aC4NECZOZ"
      },
      "outputs": [],
      "source": [
        "# сбросим ограничение на количество выводимых столбцов, что бы просмотреть все столбцы\n",
        "\n",
        "pd.set_option('display.max_columns', None)"
      ]
    },
    {
      "cell_type": "code",
      "execution_count": null,
      "metadata": {
        "id": "av7Etv30CZOa"
      },
      "outputs": [],
      "source": [
        "# загрузим файл\n",
        "\n",
        "data_train = pd.read_csv('/datasets/gold_industry_train.csv')\n",
        "data_test = pd.read_csv('/datasets/gold_industry_test.csv')\n",
        "data_full = pd.read_csv('/datasets/gold_industry_full.csv')"
      ]
    },
    {
      "cell_type": "markdown",
      "metadata": {
        "id": "MltLn7vyCZOe"
      },
      "source": [
        "#### Итог"
      ]
    },
    {
      "cell_type": "markdown",
      "metadata": {
        "id": "HDeoh9euCZOe"
      },
      "source": [
        "- Как видно из отчетов, имеются пропуски. Так же есть аномелии: нулевые значения и значения равные 100.\n",
        "- Отличия в наличии признаков в тестовой и обучающей выборке"
      ]
    },
    {
      "cell_type": "markdown",
      "metadata": {
        "id": "Vrn8L337CZOe"
      },
      "source": [
        "### Расчет эффективности обогащения"
      ]
    },
    {
      "cell_type": "markdown",
      "metadata": {
        "id": "mNrTOhRnCZOe"
      },
      "source": [
        "Для расчета эффективности воспользуемся следующей формулой:\n",
        "\n",
        "recovery = ((C(F-T))/(FC-T))*100%, где:\n",
        "\n",
        "- С - доля золота концентрате после фильтрации/очитски (rougher.output.concentrate_au)\n",
        "- F - доля золота в сырье/концентрате до флотации/очистки (rougher.input.feed_au)\n",
        "- T - доля золота в отвальных хвостах после фильтрации/очистки (rougher.output.tail_au)\n",
        "\n",
        "Значение нужного нам признака - rougher.output.recovery"
      ]
    },
    {
      "cell_type": "code",
      "execution_count": null,
      "metadata": {
        "id": "mVDDZBc2CZOf"
      },
      "outputs": [],
      "source": [
        "c = data_train['rougher.output.concentrate_au']\n",
        "f = data_train['rougher.input.feed_au']\n",
        "t = data_train['rougher.output.tail_au']\n",
        "\n",
        "recovery = ((c*(f-t))/(f*(c-t))) * 100"
      ]
    },
    {
      "cell_type": "code",
      "execution_count": null,
      "metadata": {
        "id": "J_bzQVcqCZOf",
        "outputId": "233e7965-ba20-4d56-efda-a6043565c8d4"
      },
      "outputs": [
        {
          "name": "stdout",
          "output_type": "stream",
          "text": [
            "MAE - 9.83758577644259e-15\n"
          ]
        }
      ],
      "source": [
        "print('MAE -', mean_absolute_error(data_train['rougher.output.recovery'], recovery))"
      ]
    },
    {
      "cell_type": "markdown",
      "metadata": {
        "id": "zOy9WbYoCZOg"
      },
      "source": [
        "#### Итог"
      ]
    },
    {
      "cell_type": "markdown",
      "metadata": {
        "id": "iSFUtJtyCZOg"
      },
      "source": [
        "МАЕ мала, потому можем считать, что значения признаков верны"
      ]
    },
    {
      "cell_type": "markdown",
      "metadata": {
        "id": "1XLm82nlCZOh"
      },
      "source": [
        "### Анализ признаков, недоступных в тестовой выборке"
      ]
    },
    {
      "cell_type": "markdown",
      "metadata": {
        "id": "tzwu49aOCZOi"
      },
      "source": [
        "Для начала посмотри, каких признаков нет в тестовой выборке, но есть в тренировочной. Поместим эти признаки в отдельную переменную, т.к. в дальнейшем она понадобится для предобработки данных перед обучением"
      ]
    },
    {
      "cell_type": "code",
      "execution_count": null,
      "metadata": {
        "id": "Tx2heIY5CZOi",
        "outputId": "c80c0a0e-2290-45a4-9b19-87847486411e"
      },
      "outputs": [
        {
          "data": {
            "text/plain": [
              "{'final.output.concentrate_ag',\n",
              " 'final.output.concentrate_au',\n",
              " 'final.output.concentrate_pb',\n",
              " 'final.output.concentrate_sol',\n",
              " 'final.output.recovery',\n",
              " 'final.output.tail_ag',\n",
              " 'final.output.tail_au',\n",
              " 'final.output.tail_pb',\n",
              " 'final.output.tail_sol',\n",
              " 'primary_cleaner.output.concentrate_ag',\n",
              " 'primary_cleaner.output.concentrate_au',\n",
              " 'primary_cleaner.output.concentrate_pb',\n",
              " 'primary_cleaner.output.concentrate_sol',\n",
              " 'primary_cleaner.output.tail_ag',\n",
              " 'primary_cleaner.output.tail_au',\n",
              " 'primary_cleaner.output.tail_pb',\n",
              " 'primary_cleaner.output.tail_sol',\n",
              " 'rougher.calculation.au_pb_ratio',\n",
              " 'rougher.calculation.floatbank10_sulfate_to_au_feed',\n",
              " 'rougher.calculation.floatbank11_sulfate_to_au_feed',\n",
              " 'rougher.calculation.sulfate_to_au_concentrate',\n",
              " 'rougher.output.concentrate_ag',\n",
              " 'rougher.output.concentrate_au',\n",
              " 'rougher.output.concentrate_pb',\n",
              " 'rougher.output.concentrate_sol',\n",
              " 'rougher.output.recovery',\n",
              " 'rougher.output.tail_ag',\n",
              " 'rougher.output.tail_au',\n",
              " 'rougher.output.tail_pb',\n",
              " 'rougher.output.tail_sol',\n",
              " 'secondary_cleaner.output.tail_ag',\n",
              " 'secondary_cleaner.output.tail_au',\n",
              " 'secondary_cleaner.output.tail_pb',\n",
              " 'secondary_cleaner.output.tail_sol'}"
            ]
          },
          "execution_count": 10,
          "metadata": {},
          "output_type": "execute_result"
        }
      ],
      "source": [
        "# Посмотрим, каких признаков нет в тестовой выборке\n",
        "delete_columns = set(data_train.columns) - set(data_test.columns)\n",
        "delete_columns"
      ]
    },
    {
      "cell_type": "markdown",
      "metadata": {
        "id": "oxub7ij2CZOi"
      },
      "source": [
        "#### Итог"
      ]
    },
    {
      "cell_type": "markdown",
      "metadata": {
        "id": "Bj3EVtLTCZOj"
      },
      "source": [
        "В тестовой выборке нам не доступны:\n",
        "\n",
        "- расчетные характеристики этапа флотации\n",
        "- параметры выходных продуктов со всех этапов, в том числе целевых признаков\n",
        "- эффективность обогащения чернового концентрата rougher.output.recovery;\n",
        "- эффективность обогащения финального концентрата final.output.recovery.\n",
        "\n",
        "Если верить заданию - признаков нет, т.к. выгружаются значительно похже. ТО есть: проходит этап - данные выгружаются. А нам не изместно, на каком этапе были выгруженны данные. Скорее всего данные из train выгружены значитально раньше.\n"
      ]
    },
    {
      "cell_type": "code",
      "execution_count": null,
      "metadata": {
        "id": "LIs-aL2SCZOj",
        "outputId": "e0cc5f18-6291-4cc7-b612-cf27aa983f8a"
      },
      "outputs": [
        {
          "data": {
            "text/html": [
              "<div>\n",
              "<style scoped>\n",
              "    .dataframe tbody tr th:only-of-type {\n",
              "        vertical-align: middle;\n",
              "    }\n",
              "\n",
              "    .dataframe tbody tr th {\n",
              "        vertical-align: top;\n",
              "    }\n",
              "\n",
              "    .dataframe thead th {\n",
              "        text-align: right;\n",
              "    }\n",
              "</style>\n",
              "<table border=\"1\" class=\"dataframe\">\n",
              "  <thead>\n",
              "    <tr style=\"text-align: right;\">\n",
              "      <th></th>\n",
              "      <th>date</th>\n",
              "      <th>rougher.input.feed_au</th>\n",
              "      <th>rougher.input.feed_ag</th>\n",
              "      <th>rougher.input.feed_pb</th>\n",
              "      <th>rougher.input.feed_sol</th>\n",
              "      <th>rougher.input.feed_rate</th>\n",
              "      <th>rougher.input.feed_size</th>\n",
              "      <th>rougher.input.floatbank10_sulfate</th>\n",
              "      <th>rougher.input.floatbank10_xanthate</th>\n",
              "      <th>rougher.state.floatbank10_a_air</th>\n",
              "      <th>rougher.state.floatbank10_a_level</th>\n",
              "      <th>rougher.state.floatbank10_b_air</th>\n",
              "      <th>rougher.state.floatbank10_b_level</th>\n",
              "      <th>rougher.state.floatbank10_c_air</th>\n",
              "      <th>rougher.state.floatbank10_c_level</th>\n",
              "      <th>rougher.state.floatbank10_d_air</th>\n",
              "      <th>rougher.state.floatbank10_d_level</th>\n",
              "      <th>rougher.state.floatbank10_e_air</th>\n",
              "      <th>rougher.state.floatbank10_e_level</th>\n",
              "      <th>rougher.state.floatbank10_f_air</th>\n",
              "      <th>rougher.state.floatbank10_f_level</th>\n",
              "      <th>rougher.input.floatbank11_sulfate</th>\n",
              "      <th>rougher.input.floatbank11_xanthate</th>\n",
              "      <th>rougher.calculation.sulfate_to_au_concentrate</th>\n",
              "      <th>rougher.calculation.floatbank10_sulfate_to_au_feed</th>\n",
              "      <th>rougher.calculation.floatbank11_sulfate_to_au_feed</th>\n",
              "      <th>rougher.calculation.au_pb_ratio</th>\n",
              "      <th>rougher.output.concentrate_au</th>\n",
              "      <th>rougher.output.concentrate_ag</th>\n",
              "      <th>rougher.output.concentrate_pb</th>\n",
              "      <th>rougher.output.concentrate_sol</th>\n",
              "      <th>rougher.output.recovery</th>\n",
              "      <th>rougher.output.tail_au</th>\n",
              "      <th>rougher.output.tail_ag</th>\n",
              "      <th>rougher.output.tail_pb</th>\n",
              "      <th>rougher.output.tail_sol</th>\n",
              "      <th>primary_cleaner.input.sulfate</th>\n",
              "      <th>primary_cleaner.input.depressant</th>\n",
              "      <th>primary_cleaner.input.feed_size</th>\n",
              "      <th>primary_cleaner.input.xanthate</th>\n",
              "      <th>primary_cleaner.state.floatbank8_a_air</th>\n",
              "      <th>primary_cleaner.state.floatbank8_a_level</th>\n",
              "      <th>primary_cleaner.state.floatbank8_b_air</th>\n",
              "      <th>primary_cleaner.state.floatbank8_b_level</th>\n",
              "      <th>primary_cleaner.state.floatbank8_c_air</th>\n",
              "      <th>primary_cleaner.state.floatbank8_c_level</th>\n",
              "      <th>primary_cleaner.state.floatbank8_d_air</th>\n",
              "      <th>primary_cleaner.state.floatbank8_d_level</th>\n",
              "      <th>primary_cleaner.output.concentrate_au</th>\n",
              "      <th>primary_cleaner.output.concentrate_ag</th>\n",
              "      <th>primary_cleaner.output.concentrate_pb</th>\n",
              "      <th>primary_cleaner.output.concentrate_sol</th>\n",
              "      <th>primary_cleaner.output.tail_au</th>\n",
              "      <th>primary_cleaner.output.tail_ag</th>\n",
              "      <th>primary_cleaner.output.tail_pb</th>\n",
              "      <th>primary_cleaner.output.tail_sol</th>\n",
              "      <th>secondary_cleaner.state.floatbank2_a_air</th>\n",
              "      <th>secondary_cleaner.state.floatbank2_a_level</th>\n",
              "      <th>secondary_cleaner.state.floatbank2_b_air</th>\n",
              "      <th>secondary_cleaner.state.floatbank2_b_level</th>\n",
              "      <th>secondary_cleaner.state.floatbank3_a_air</th>\n",
              "      <th>secondary_cleaner.state.floatbank3_a_level</th>\n",
              "      <th>secondary_cleaner.state.floatbank3_b_air</th>\n",
              "      <th>secondary_cleaner.state.floatbank3_b_level</th>\n",
              "      <th>secondary_cleaner.state.floatbank4_a_air</th>\n",
              "      <th>secondary_cleaner.state.floatbank4_a_level</th>\n",
              "      <th>secondary_cleaner.state.floatbank4_b_air</th>\n",
              "      <th>secondary_cleaner.state.floatbank4_b_level</th>\n",
              "      <th>secondary_cleaner.state.floatbank5_a_air</th>\n",
              "      <th>secondary_cleaner.state.floatbank5_a_level</th>\n",
              "      <th>secondary_cleaner.state.floatbank5_b_air</th>\n",
              "      <th>secondary_cleaner.state.floatbank5_b_level</th>\n",
              "      <th>secondary_cleaner.state.floatbank6_a_air</th>\n",
              "      <th>secondary_cleaner.state.floatbank6_a_level</th>\n",
              "      <th>secondary_cleaner.output.tail_au</th>\n",
              "      <th>secondary_cleaner.output.tail_ag</th>\n",
              "      <th>secondary_cleaner.output.tail_pb</th>\n",
              "      <th>secondary_cleaner.output.tail_sol</th>\n",
              "      <th>final.output.concentrate_au</th>\n",
              "      <th>final.output.concentrate_ag</th>\n",
              "      <th>final.output.concentrate_pb</th>\n",
              "      <th>final.output.concentrate_sol</th>\n",
              "      <th>final.output.recovery</th>\n",
              "      <th>final.output.tail_au</th>\n",
              "      <th>final.output.tail_ag</th>\n",
              "      <th>final.output.tail_pb</th>\n",
              "      <th>final.output.tail_sol</th>\n",
              "    </tr>\n",
              "  </thead>\n",
              "  <tbody>\n",
              "    <tr>\n",
              "      <th>14574</th>\n",
              "      <td>2017-12-09 09:59:59</td>\n",
              "      <td>4.599524</td>\n",
              "      <td>5.822083</td>\n",
              "      <td>4.255546</td>\n",
              "      <td>37.480479</td>\n",
              "      <td>559.895089</td>\n",
              "      <td>85.247019</td>\n",
              "      <td>6.775864</td>\n",
              "      <td>9.005425</td>\n",
              "      <td>1200.454685</td>\n",
              "      <td>-300.012582</td>\n",
              "      <td>1150.627632</td>\n",
              "      <td>-500.007240</td>\n",
              "      <td>1052.213299</td>\n",
              "      <td>-499.814928</td>\n",
              "      <td>947.090150</td>\n",
              "      <td>-499.963329</td>\n",
              "      <td>850.209399</td>\n",
              "      <td>-499.970349</td>\n",
              "      <td>850.139876</td>\n",
              "      <td>-498.721100</td>\n",
              "      <td>6.775291</td>\n",
              "      <td>9.000862</td>\n",
              "      <td>48310.254419</td>\n",
              "      <td>2524.316705</td>\n",
              "      <td>2524.130891</td>\n",
              "      <td>1.080830</td>\n",
              "      <td>18.162221</td>\n",
              "      <td>11.351051</td>\n",
              "      <td>11.247837</td>\n",
              "      <td>29.858813</td>\n",
              "      <td>87.684717</td>\n",
              "      <td>0.728133</td>\n",
              "      <td>4.116153</td>\n",
              "      <td>0.618130</td>\n",
              "      <td>16.383667</td>\n",
              "      <td>125.423263</td>\n",
              "      <td>8.014263</td>\n",
              "      <td>6.5</td>\n",
              "      <td>1.338973</td>\n",
              "      <td>1648.628464</td>\n",
              "      <td>-400.254719</td>\n",
              "      <td>1649.423778</td>\n",
              "      <td>-399.892993</td>\n",
              "      <td>1648.461910</td>\n",
              "      <td>-400.079787</td>\n",
              "      <td>1649.980440</td>\n",
              "      <td>-399.801181</td>\n",
              "      <td>33.493651</td>\n",
              "      <td>6.372520</td>\n",
              "      <td>12.879280</td>\n",
              "      <td>7.756028</td>\n",
              "      <td>2.581269</td>\n",
              "      <td>22.974292</td>\n",
              "      <td>6.868943</td>\n",
              "      <td>4.315335</td>\n",
              "      <td>35.096512</td>\n",
              "      <td>-501.110562</td>\n",
              "      <td>29.933276</td>\n",
              "      <td>-500.291576</td>\n",
              "      <td>25.996427</td>\n",
              "      <td>-500.158269</td>\n",
              "      <td>23.033562</td>\n",
              "      <td>-499.972253</td>\n",
              "      <td>23.030949</td>\n",
              "      <td>-501.196721</td>\n",
              "      <td>20.034440</td>\n",
              "      <td>-499.842047</td>\n",
              "      <td>18.001504</td>\n",
              "      <td>-499.872052</td>\n",
              "      <td>12.998309</td>\n",
              "      <td>-500.027809</td>\n",
              "      <td>20.007108</td>\n",
              "      <td>-500.850685</td>\n",
              "      <td>0.0</td>\n",
              "      <td>0.0</td>\n",
              "      <td>0.0</td>\n",
              "      <td>0.0</td>\n",
              "      <td>47.765393</td>\n",
              "      <td>2.925574</td>\n",
              "      <td>10.855586</td>\n",
              "      <td>7.053796</td>\n",
              "      <td>64.054699</td>\n",
              "      <td>1.761994</td>\n",
              "      <td>8.578502</td>\n",
              "      <td>3.365823</td>\n",
              "      <td>10.603464</td>\n",
              "    </tr>\n",
              "    <tr>\n",
              "      <th>14575</th>\n",
              "      <td>2017-12-09 10:59:59</td>\n",
              "      <td>4.658125</td>\n",
              "      <td>5.844800</td>\n",
              "      <td>4.241564</td>\n",
              "      <td>37.395565</td>\n",
              "      <td>561.464855</td>\n",
              "      <td>83.860651</td>\n",
              "      <td>6.770561</td>\n",
              "      <td>9.000889</td>\n",
              "      <td>1200.958146</td>\n",
              "      <td>-300.013649</td>\n",
              "      <td>1149.862859</td>\n",
              "      <td>-499.856868</td>\n",
              "      <td>1049.476804</td>\n",
              "      <td>-500.085763</td>\n",
              "      <td>960.563638</td>\n",
              "      <td>-499.675142</td>\n",
              "      <td>849.797044</td>\n",
              "      <td>-500.615874</td>\n",
              "      <td>850.462226</td>\n",
              "      <td>-500.703846</td>\n",
              "      <td>6.771708</td>\n",
              "      <td>9.001694</td>\n",
              "      <td>48001.534550</td>\n",
              "      <td>2489.159602</td>\n",
              "      <td>2489.526748</td>\n",
              "      <td>1.098209</td>\n",
              "      <td>18.287758</td>\n",
              "      <td>11.466046</td>\n",
              "      <td>11.038697</td>\n",
              "      <td>29.817524</td>\n",
              "      <td>90.677361</td>\n",
              "      <td>0.564683</td>\n",
              "      <td>3.926701</td>\n",
              "      <td>0.559078</td>\n",
              "      <td>17.340650</td>\n",
              "      <td>114.108530</td>\n",
              "      <td>7.961098</td>\n",
              "      <td>6.5</td>\n",
              "      <td>1.298811</td>\n",
              "      <td>1648.754818</td>\n",
              "      <td>-400.169291</td>\n",
              "      <td>1648.508847</td>\n",
              "      <td>-399.896538</td>\n",
              "      <td>1649.692752</td>\n",
              "      <td>-400.115498</td>\n",
              "      <td>1649.423919</td>\n",
              "      <td>-400.428729</td>\n",
              "      <td>32.636363</td>\n",
              "      <td>6.682350</td>\n",
              "      <td>12.681564</td>\n",
              "      <td>7.431864</td>\n",
              "      <td>2.664374</td>\n",
              "      <td>23.047492</td>\n",
              "      <td>6.673419</td>\n",
              "      <td>4.023964</td>\n",
              "      <td>35.116645</td>\n",
              "      <td>-499.070270</td>\n",
              "      <td>29.948081</td>\n",
              "      <td>-499.964126</td>\n",
              "      <td>25.990572</td>\n",
              "      <td>-499.785781</td>\n",
              "      <td>22.963252</td>\n",
              "      <td>-499.898742</td>\n",
              "      <td>23.033246</td>\n",
              "      <td>-500.912210</td>\n",
              "      <td>19.988437</td>\n",
              "      <td>-500.125966</td>\n",
              "      <td>18.011724</td>\n",
              "      <td>-500.090861</td>\n",
              "      <td>13.007108</td>\n",
              "      <td>-500.258238</td>\n",
              "      <td>19.983872</td>\n",
              "      <td>-502.581707</td>\n",
              "      <td>0.0</td>\n",
              "      <td>0.0</td>\n",
              "      <td>0.0</td>\n",
              "      <td>0.0</td>\n",
              "      <td>46.956275</td>\n",
              "      <td>3.076566</td>\n",
              "      <td>11.542302</td>\n",
              "      <td>6.929418</td>\n",
              "      <td>68.643324</td>\n",
              "      <td>1.567363</td>\n",
              "      <td>8.792890</td>\n",
              "      <td>3.120351</td>\n",
              "      <td>10.184715</td>\n",
              "    </tr>\n",
              "    <tr>\n",
              "      <th>14576</th>\n",
              "      <td>2017-12-09 11:59:59</td>\n",
              "      <td>5.335862</td>\n",
              "      <td>6.091855</td>\n",
              "      <td>4.617558</td>\n",
              "      <td>37.369774</td>\n",
              "      <td>560.889077</td>\n",
              "      <td>85.718304</td>\n",
              "      <td>7.762770</td>\n",
              "      <td>9.158609</td>\n",
              "      <td>1199.245914</td>\n",
              "      <td>-300.845518</td>\n",
              "      <td>1149.807890</td>\n",
              "      <td>-498.789721</td>\n",
              "      <td>1047.963596</td>\n",
              "      <td>-498.413079</td>\n",
              "      <td>946.640977</td>\n",
              "      <td>-499.152477</td>\n",
              "      <td>849.664935</td>\n",
              "      <td>-499.214461</td>\n",
              "      <td>849.758091</td>\n",
              "      <td>-497.448664</td>\n",
              "      <td>7.766744</td>\n",
              "      <td>9.156069</td>\n",
              "      <td>45912.942619</td>\n",
              "      <td>2497.652954</td>\n",
              "      <td>2499.177950</td>\n",
              "      <td>1.155559</td>\n",
              "      <td>18.603550</td>\n",
              "      <td>11.124896</td>\n",
              "      <td>10.984003</td>\n",
              "      <td>30.068876</td>\n",
              "      <td>89.574376</td>\n",
              "      <td>0.748633</td>\n",
              "      <td>4.207261</td>\n",
              "      <td>0.612935</td>\n",
              "      <td>16.666590</td>\n",
              "      <td>123.381787</td>\n",
              "      <td>8.028927</td>\n",
              "      <td>6.5</td>\n",
              "      <td>1.304232</td>\n",
              "      <td>1648.421193</td>\n",
              "      <td>-400.382169</td>\n",
              "      <td>1648.742005</td>\n",
              "      <td>-400.359661</td>\n",
              "      <td>1648.578230</td>\n",
              "      <td>-399.363624</td>\n",
              "      <td>1648.833984</td>\n",
              "      <td>-399.669220</td>\n",
              "      <td>32.940215</td>\n",
              "      <td>6.559174</td>\n",
              "      <td>12.445966</td>\n",
              "      <td>7.056338</td>\n",
              "      <td>2.314352</td>\n",
              "      <td>22.854592</td>\n",
              "      <td>6.531541</td>\n",
              "      <td>3.934320</td>\n",
              "      <td>35.043205</td>\n",
              "      <td>-499.045671</td>\n",
              "      <td>29.906659</td>\n",
              "      <td>-499.979939</td>\n",
              "      <td>26.002402</td>\n",
              "      <td>-499.953431</td>\n",
              "      <td>22.987238</td>\n",
              "      <td>-499.967351</td>\n",
              "      <td>23.031497</td>\n",
              "      <td>-501.167942</td>\n",
              "      <td>20.007571</td>\n",
              "      <td>-499.740028</td>\n",
              "      <td>18.006038</td>\n",
              "      <td>-499.834374</td>\n",
              "      <td>13.001114</td>\n",
              "      <td>-500.155694</td>\n",
              "      <td>20.007840</td>\n",
              "      <td>-501.296428</td>\n",
              "      <td>0.0</td>\n",
              "      <td>0.0</td>\n",
              "      <td>0.0</td>\n",
              "      <td>0.0</td>\n",
              "      <td>46.713954</td>\n",
              "      <td>3.224920</td>\n",
              "      <td>11.356233</td>\n",
              "      <td>6.803482</td>\n",
              "      <td>73.755150</td>\n",
              "      <td>1.529220</td>\n",
              "      <td>8.769645</td>\n",
              "      <td>3.141541</td>\n",
              "      <td>10.403181</td>\n",
              "    </tr>\n",
              "    <tr>\n",
              "      <th>14577</th>\n",
              "      <td>2017-12-09 12:59:59</td>\n",
              "      <td>4.838619</td>\n",
              "      <td>6.121323</td>\n",
              "      <td>4.144989</td>\n",
              "      <td>38.591551</td>\n",
              "      <td>559.031805</td>\n",
              "      <td>119.499241</td>\n",
              "      <td>7.356687</td>\n",
              "      <td>9.304952</td>\n",
              "      <td>1196.569267</td>\n",
              "      <td>-299.512227</td>\n",
              "      <td>1147.675196</td>\n",
              "      <td>-500.608341</td>\n",
              "      <td>1048.565741</td>\n",
              "      <td>-500.932810</td>\n",
              "      <td>949.773589</td>\n",
              "      <td>-500.023144</td>\n",
              "      <td>848.515225</td>\n",
              "      <td>-500.289405</td>\n",
              "      <td>850.013123</td>\n",
              "      <td>-496.822119</td>\n",
              "      <td>7.095508</td>\n",
              "      <td>9.297924</td>\n",
              "      <td>46200.099585</td>\n",
              "      <td>2614.403937</td>\n",
              "      <td>2518.550078</td>\n",
              "      <td>1.167342</td>\n",
              "      <td>18.441436</td>\n",
              "      <td>11.425983</td>\n",
              "      <td>10.888213</td>\n",
              "      <td>29.783972</td>\n",
              "      <td>87.724007</td>\n",
              "      <td>0.771582</td>\n",
              "      <td>4.177943</td>\n",
              "      <td>0.650557</td>\n",
              "      <td>16.960649</td>\n",
              "      <td>120.878188</td>\n",
              "      <td>7.962636</td>\n",
              "      <td>6.5</td>\n",
              "      <td>1.302419</td>\n",
              "      <td>1649.820162</td>\n",
              "      <td>-399.930973</td>\n",
              "      <td>1649.357538</td>\n",
              "      <td>-399.721222</td>\n",
              "      <td>1648.656192</td>\n",
              "      <td>-401.195834</td>\n",
              "      <td>1649.725133</td>\n",
              "      <td>-400.636306</td>\n",
              "      <td>32.925325</td>\n",
              "      <td>6.612376</td>\n",
              "      <td>12.623947</td>\n",
              "      <td>7.542264</td>\n",
              "      <td>2.462890</td>\n",
              "      <td>23.002490</td>\n",
              "      <td>6.629725</td>\n",
              "      <td>4.089124</td>\n",
              "      <td>35.026062</td>\n",
              "      <td>-499.891945</td>\n",
              "      <td>29.921795</td>\n",
              "      <td>-499.949663</td>\n",
              "      <td>26.031747</td>\n",
              "      <td>-500.384612</td>\n",
              "      <td>22.991058</td>\n",
              "      <td>-500.079590</td>\n",
              "      <td>22.960095</td>\n",
              "      <td>-501.612783</td>\n",
              "      <td>20.035660</td>\n",
              "      <td>-500.251357</td>\n",
              "      <td>17.998535</td>\n",
              "      <td>-500.395178</td>\n",
              "      <td>12.954048</td>\n",
              "      <td>-499.895163</td>\n",
              "      <td>19.968498</td>\n",
              "      <td>-501.041608</td>\n",
              "      <td>0.0</td>\n",
              "      <td>0.0</td>\n",
              "      <td>0.0</td>\n",
              "      <td>0.0</td>\n",
              "      <td>46.866780</td>\n",
              "      <td>3.195978</td>\n",
              "      <td>11.349355</td>\n",
              "      <td>6.862249</td>\n",
              "      <td>69.049291</td>\n",
              "      <td>1.612542</td>\n",
              "      <td>8.897321</td>\n",
              "      <td>3.130493</td>\n",
              "      <td>10.549470</td>\n",
              "    </tr>\n",
              "    <tr>\n",
              "      <th>14578</th>\n",
              "      <td>2017-12-09 13:59:59</td>\n",
              "      <td>4.525061</td>\n",
              "      <td>5.970515</td>\n",
              "      <td>4.020002</td>\n",
              "      <td>40.074026</td>\n",
              "      <td>555.682872</td>\n",
              "      <td>122.262690</td>\n",
              "      <td>6.586020</td>\n",
              "      <td>9.299606</td>\n",
              "      <td>1204.866639</td>\n",
              "      <td>-299.235675</td>\n",
              "      <td>1149.942902</td>\n",
              "      <td>-501.717903</td>\n",
              "      <td>1049.604390</td>\n",
              "      <td>-500.549053</td>\n",
              "      <td>952.702732</td>\n",
              "      <td>-502.352296</td>\n",
              "      <td>849.016017</td>\n",
              "      <td>-500.505677</td>\n",
              "      <td>850.455635</td>\n",
              "      <td>-506.897968</td>\n",
              "      <td>6.584130</td>\n",
              "      <td>9.300133</td>\n",
              "      <td>44585.181334</td>\n",
              "      <td>2510.813545</td>\n",
              "      <td>2510.142433</td>\n",
              "      <td>1.125637</td>\n",
              "      <td>15.111231</td>\n",
              "      <td>8.523497</td>\n",
              "      <td>8.955135</td>\n",
              "      <td>22.786467</td>\n",
              "      <td>88.890579</td>\n",
              "      <td>0.685059</td>\n",
              "      <td>4.050010</td>\n",
              "      <td>0.636095</td>\n",
              "      <td>18.323080</td>\n",
              "      <td>105.666118</td>\n",
              "      <td>7.955111</td>\n",
              "      <td>6.5</td>\n",
              "      <td>1.315926</td>\n",
              "      <td>1649.166761</td>\n",
              "      <td>-399.888631</td>\n",
              "      <td>1649.196904</td>\n",
              "      <td>-399.677571</td>\n",
              "      <td>1647.896999</td>\n",
              "      <td>-399.988275</td>\n",
              "      <td>1649.772714</td>\n",
              "      <td>-399.831902</td>\n",
              "      <td>31.856742</td>\n",
              "      <td>7.128896</td>\n",
              "      <td>12.633558</td>\n",
              "      <td>7.941900</td>\n",
              "      <td>2.612231</td>\n",
              "      <td>22.298149</td>\n",
              "      <td>6.278250</td>\n",
              "      <td>4.457457</td>\n",
              "      <td>35.003586</td>\n",
              "      <td>-501.083794</td>\n",
              "      <td>29.990533</td>\n",
              "      <td>-611.855898</td>\n",
              "      <td>25.948429</td>\n",
              "      <td>-500.067268</td>\n",
              "      <td>22.968268</td>\n",
              "      <td>-499.839442</td>\n",
              "      <td>23.015718</td>\n",
              "      <td>-501.711599</td>\n",
              "      <td>19.951231</td>\n",
              "      <td>-499.857027</td>\n",
              "      <td>18.019543</td>\n",
              "      <td>-500.451156</td>\n",
              "      <td>13.023431</td>\n",
              "      <td>-499.914391</td>\n",
              "      <td>19.990885</td>\n",
              "      <td>-501.518452</td>\n",
              "      <td>0.0</td>\n",
              "      <td>0.0</td>\n",
              "      <td>0.0</td>\n",
              "      <td>0.0</td>\n",
              "      <td>46.795691</td>\n",
              "      <td>3.109998</td>\n",
              "      <td>11.434366</td>\n",
              "      <td>6.886013</td>\n",
              "      <td>67.002189</td>\n",
              "      <td>1.596616</td>\n",
              "      <td>8.529606</td>\n",
              "      <td>2.911418</td>\n",
              "      <td>11.115147</td>\n",
              "    </tr>\n",
              "  </tbody>\n",
              "</table>\n",
              "</div>"
            ],
            "text/plain": [
              "                      date  rougher.input.feed_au  rougher.input.feed_ag  \\\n",
              "14574  2017-12-09 09:59:59               4.599524               5.822083   \n",
              "14575  2017-12-09 10:59:59               4.658125               5.844800   \n",
              "14576  2017-12-09 11:59:59               5.335862               6.091855   \n",
              "14577  2017-12-09 12:59:59               4.838619               6.121323   \n",
              "14578  2017-12-09 13:59:59               4.525061               5.970515   \n",
              "\n",
              "       rougher.input.feed_pb  rougher.input.feed_sol  rougher.input.feed_rate  \\\n",
              "14574               4.255546               37.480479               559.895089   \n",
              "14575               4.241564               37.395565               561.464855   \n",
              "14576               4.617558               37.369774               560.889077   \n",
              "14577               4.144989               38.591551               559.031805   \n",
              "14578               4.020002               40.074026               555.682872   \n",
              "\n",
              "       rougher.input.feed_size  rougher.input.floatbank10_sulfate  \\\n",
              "14574                85.247019                           6.775864   \n",
              "14575                83.860651                           6.770561   \n",
              "14576                85.718304                           7.762770   \n",
              "14577               119.499241                           7.356687   \n",
              "14578               122.262690                           6.586020   \n",
              "\n",
              "       rougher.input.floatbank10_xanthate  rougher.state.floatbank10_a_air  \\\n",
              "14574                            9.005425                      1200.454685   \n",
              "14575                            9.000889                      1200.958146   \n",
              "14576                            9.158609                      1199.245914   \n",
              "14577                            9.304952                      1196.569267   \n",
              "14578                            9.299606                      1204.866639   \n",
              "\n",
              "       rougher.state.floatbank10_a_level  rougher.state.floatbank10_b_air  \\\n",
              "14574                        -300.012582                      1150.627632   \n",
              "14575                        -300.013649                      1149.862859   \n",
              "14576                        -300.845518                      1149.807890   \n",
              "14577                        -299.512227                      1147.675196   \n",
              "14578                        -299.235675                      1149.942902   \n",
              "\n",
              "       rougher.state.floatbank10_b_level  rougher.state.floatbank10_c_air  \\\n",
              "14574                        -500.007240                      1052.213299   \n",
              "14575                        -499.856868                      1049.476804   \n",
              "14576                        -498.789721                      1047.963596   \n",
              "14577                        -500.608341                      1048.565741   \n",
              "14578                        -501.717903                      1049.604390   \n",
              "\n",
              "       rougher.state.floatbank10_c_level  rougher.state.floatbank10_d_air  \\\n",
              "14574                        -499.814928                       947.090150   \n",
              "14575                        -500.085763                       960.563638   \n",
              "14576                        -498.413079                       946.640977   \n",
              "14577                        -500.932810                       949.773589   \n",
              "14578                        -500.549053                       952.702732   \n",
              "\n",
              "       rougher.state.floatbank10_d_level  rougher.state.floatbank10_e_air  \\\n",
              "14574                        -499.963329                       850.209399   \n",
              "14575                        -499.675142                       849.797044   \n",
              "14576                        -499.152477                       849.664935   \n",
              "14577                        -500.023144                       848.515225   \n",
              "14578                        -502.352296                       849.016017   \n",
              "\n",
              "       rougher.state.floatbank10_e_level  rougher.state.floatbank10_f_air  \\\n",
              "14574                        -499.970349                       850.139876   \n",
              "14575                        -500.615874                       850.462226   \n",
              "14576                        -499.214461                       849.758091   \n",
              "14577                        -500.289405                       850.013123   \n",
              "14578                        -500.505677                       850.455635   \n",
              "\n",
              "       rougher.state.floatbank10_f_level  rougher.input.floatbank11_sulfate  \\\n",
              "14574                        -498.721100                           6.775291   \n",
              "14575                        -500.703846                           6.771708   \n",
              "14576                        -497.448664                           7.766744   \n",
              "14577                        -496.822119                           7.095508   \n",
              "14578                        -506.897968                           6.584130   \n",
              "\n",
              "       rougher.input.floatbank11_xanthate  \\\n",
              "14574                            9.000862   \n",
              "14575                            9.001694   \n",
              "14576                            9.156069   \n",
              "14577                            9.297924   \n",
              "14578                            9.300133   \n",
              "\n",
              "       rougher.calculation.sulfate_to_au_concentrate  \\\n",
              "14574                                   48310.254419   \n",
              "14575                                   48001.534550   \n",
              "14576                                   45912.942619   \n",
              "14577                                   46200.099585   \n",
              "14578                                   44585.181334   \n",
              "\n",
              "       rougher.calculation.floatbank10_sulfate_to_au_feed  \\\n",
              "14574                                        2524.316705    \n",
              "14575                                        2489.159602    \n",
              "14576                                        2497.652954    \n",
              "14577                                        2614.403937    \n",
              "14578                                        2510.813545    \n",
              "\n",
              "       rougher.calculation.floatbank11_sulfate_to_au_feed  \\\n",
              "14574                                        2524.130891    \n",
              "14575                                        2489.526748    \n",
              "14576                                        2499.177950    \n",
              "14577                                        2518.550078    \n",
              "14578                                        2510.142433    \n",
              "\n",
              "       rougher.calculation.au_pb_ratio  rougher.output.concentrate_au  \\\n",
              "14574                         1.080830                      18.162221   \n",
              "14575                         1.098209                      18.287758   \n",
              "14576                         1.155559                      18.603550   \n",
              "14577                         1.167342                      18.441436   \n",
              "14578                         1.125637                      15.111231   \n",
              "\n",
              "       rougher.output.concentrate_ag  rougher.output.concentrate_pb  \\\n",
              "14574                      11.351051                      11.247837   \n",
              "14575                      11.466046                      11.038697   \n",
              "14576                      11.124896                      10.984003   \n",
              "14577                      11.425983                      10.888213   \n",
              "14578                       8.523497                       8.955135   \n",
              "\n",
              "       rougher.output.concentrate_sol  rougher.output.recovery  \\\n",
              "14574                       29.858813                87.684717   \n",
              "14575                       29.817524                90.677361   \n",
              "14576                       30.068876                89.574376   \n",
              "14577                       29.783972                87.724007   \n",
              "14578                       22.786467                88.890579   \n",
              "\n",
              "       rougher.output.tail_au  rougher.output.tail_ag  rougher.output.tail_pb  \\\n",
              "14574                0.728133                4.116153                0.618130   \n",
              "14575                0.564683                3.926701                0.559078   \n",
              "14576                0.748633                4.207261                0.612935   \n",
              "14577                0.771582                4.177943                0.650557   \n",
              "14578                0.685059                4.050010                0.636095   \n",
              "\n",
              "       rougher.output.tail_sol  primary_cleaner.input.sulfate  \\\n",
              "14574                16.383667                     125.423263   \n",
              "14575                17.340650                     114.108530   \n",
              "14576                16.666590                     123.381787   \n",
              "14577                16.960649                     120.878188   \n",
              "14578                18.323080                     105.666118   \n",
              "\n",
              "       primary_cleaner.input.depressant  primary_cleaner.input.feed_size  \\\n",
              "14574                          8.014263                              6.5   \n",
              "14575                          7.961098                              6.5   \n",
              "14576                          8.028927                              6.5   \n",
              "14577                          7.962636                              6.5   \n",
              "14578                          7.955111                              6.5   \n",
              "\n",
              "       primary_cleaner.input.xanthate  primary_cleaner.state.floatbank8_a_air  \\\n",
              "14574                        1.338973                             1648.628464   \n",
              "14575                        1.298811                             1648.754818   \n",
              "14576                        1.304232                             1648.421193   \n",
              "14577                        1.302419                             1649.820162   \n",
              "14578                        1.315926                             1649.166761   \n",
              "\n",
              "       primary_cleaner.state.floatbank8_a_level  \\\n",
              "14574                               -400.254719   \n",
              "14575                               -400.169291   \n",
              "14576                               -400.382169   \n",
              "14577                               -399.930973   \n",
              "14578                               -399.888631   \n",
              "\n",
              "       primary_cleaner.state.floatbank8_b_air  \\\n",
              "14574                             1649.423778   \n",
              "14575                             1648.508847   \n",
              "14576                             1648.742005   \n",
              "14577                             1649.357538   \n",
              "14578                             1649.196904   \n",
              "\n",
              "       primary_cleaner.state.floatbank8_b_level  \\\n",
              "14574                               -399.892993   \n",
              "14575                               -399.896538   \n",
              "14576                               -400.359661   \n",
              "14577                               -399.721222   \n",
              "14578                               -399.677571   \n",
              "\n",
              "       primary_cleaner.state.floatbank8_c_air  \\\n",
              "14574                             1648.461910   \n",
              "14575                             1649.692752   \n",
              "14576                             1648.578230   \n",
              "14577                             1648.656192   \n",
              "14578                             1647.896999   \n",
              "\n",
              "       primary_cleaner.state.floatbank8_c_level  \\\n",
              "14574                               -400.079787   \n",
              "14575                               -400.115498   \n",
              "14576                               -399.363624   \n",
              "14577                               -401.195834   \n",
              "14578                               -399.988275   \n",
              "\n",
              "       primary_cleaner.state.floatbank8_d_air  \\\n",
              "14574                             1649.980440   \n",
              "14575                             1649.423919   \n",
              "14576                             1648.833984   \n",
              "14577                             1649.725133   \n",
              "14578                             1649.772714   \n",
              "\n",
              "       primary_cleaner.state.floatbank8_d_level  \\\n",
              "14574                               -399.801181   \n",
              "14575                               -400.428729   \n",
              "14576                               -399.669220   \n",
              "14577                               -400.636306   \n",
              "14578                               -399.831902   \n",
              "\n",
              "       primary_cleaner.output.concentrate_au  \\\n",
              "14574                              33.493651   \n",
              "14575                              32.636363   \n",
              "14576                              32.940215   \n",
              "14577                              32.925325   \n",
              "14578                              31.856742   \n",
              "\n",
              "       primary_cleaner.output.concentrate_ag  \\\n",
              "14574                               6.372520   \n",
              "14575                               6.682350   \n",
              "14576                               6.559174   \n",
              "14577                               6.612376   \n",
              "14578                               7.128896   \n",
              "\n",
              "       primary_cleaner.output.concentrate_pb  \\\n",
              "14574                              12.879280   \n",
              "14575                              12.681564   \n",
              "14576                              12.445966   \n",
              "14577                              12.623947   \n",
              "14578                              12.633558   \n",
              "\n",
              "       primary_cleaner.output.concentrate_sol  primary_cleaner.output.tail_au  \\\n",
              "14574                                7.756028                        2.581269   \n",
              "14575                                7.431864                        2.664374   \n",
              "14576                                7.056338                        2.314352   \n",
              "14577                                7.542264                        2.462890   \n",
              "14578                                7.941900                        2.612231   \n",
              "\n",
              "       primary_cleaner.output.tail_ag  primary_cleaner.output.tail_pb  \\\n",
              "14574                       22.974292                        6.868943   \n",
              "14575                       23.047492                        6.673419   \n",
              "14576                       22.854592                        6.531541   \n",
              "14577                       23.002490                        6.629725   \n",
              "14578                       22.298149                        6.278250   \n",
              "\n",
              "       primary_cleaner.output.tail_sol  \\\n",
              "14574                         4.315335   \n",
              "14575                         4.023964   \n",
              "14576                         3.934320   \n",
              "14577                         4.089124   \n",
              "14578                         4.457457   \n",
              "\n",
              "       secondary_cleaner.state.floatbank2_a_air  \\\n",
              "14574                                 35.096512   \n",
              "14575                                 35.116645   \n",
              "14576                                 35.043205   \n",
              "14577                                 35.026062   \n",
              "14578                                 35.003586   \n",
              "\n",
              "       secondary_cleaner.state.floatbank2_a_level  \\\n",
              "14574                                 -501.110562   \n",
              "14575                                 -499.070270   \n",
              "14576                                 -499.045671   \n",
              "14577                                 -499.891945   \n",
              "14578                                 -501.083794   \n",
              "\n",
              "       secondary_cleaner.state.floatbank2_b_air  \\\n",
              "14574                                 29.933276   \n",
              "14575                                 29.948081   \n",
              "14576                                 29.906659   \n",
              "14577                                 29.921795   \n",
              "14578                                 29.990533   \n",
              "\n",
              "       secondary_cleaner.state.floatbank2_b_level  \\\n",
              "14574                                 -500.291576   \n",
              "14575                                 -499.964126   \n",
              "14576                                 -499.979939   \n",
              "14577                                 -499.949663   \n",
              "14578                                 -611.855898   \n",
              "\n",
              "       secondary_cleaner.state.floatbank3_a_air  \\\n",
              "14574                                 25.996427   \n",
              "14575                                 25.990572   \n",
              "14576                                 26.002402   \n",
              "14577                                 26.031747   \n",
              "14578                                 25.948429   \n",
              "\n",
              "       secondary_cleaner.state.floatbank3_a_level  \\\n",
              "14574                                 -500.158269   \n",
              "14575                                 -499.785781   \n",
              "14576                                 -499.953431   \n",
              "14577                                 -500.384612   \n",
              "14578                                 -500.067268   \n",
              "\n",
              "       secondary_cleaner.state.floatbank3_b_air  \\\n",
              "14574                                 23.033562   \n",
              "14575                                 22.963252   \n",
              "14576                                 22.987238   \n",
              "14577                                 22.991058   \n",
              "14578                                 22.968268   \n",
              "\n",
              "       secondary_cleaner.state.floatbank3_b_level  \\\n",
              "14574                                 -499.972253   \n",
              "14575                                 -499.898742   \n",
              "14576                                 -499.967351   \n",
              "14577                                 -500.079590   \n",
              "14578                                 -499.839442   \n",
              "\n",
              "       secondary_cleaner.state.floatbank4_a_air  \\\n",
              "14574                                 23.030949   \n",
              "14575                                 23.033246   \n",
              "14576                                 23.031497   \n",
              "14577                                 22.960095   \n",
              "14578                                 23.015718   \n",
              "\n",
              "       secondary_cleaner.state.floatbank4_a_level  \\\n",
              "14574                                 -501.196721   \n",
              "14575                                 -500.912210   \n",
              "14576                                 -501.167942   \n",
              "14577                                 -501.612783   \n",
              "14578                                 -501.711599   \n",
              "\n",
              "       secondary_cleaner.state.floatbank4_b_air  \\\n",
              "14574                                 20.034440   \n",
              "14575                                 19.988437   \n",
              "14576                                 20.007571   \n",
              "14577                                 20.035660   \n",
              "14578                                 19.951231   \n",
              "\n",
              "       secondary_cleaner.state.floatbank4_b_level  \\\n",
              "14574                                 -499.842047   \n",
              "14575                                 -500.125966   \n",
              "14576                                 -499.740028   \n",
              "14577                                 -500.251357   \n",
              "14578                                 -499.857027   \n",
              "\n",
              "       secondary_cleaner.state.floatbank5_a_air  \\\n",
              "14574                                 18.001504   \n",
              "14575                                 18.011724   \n",
              "14576                                 18.006038   \n",
              "14577                                 17.998535   \n",
              "14578                                 18.019543   \n",
              "\n",
              "       secondary_cleaner.state.floatbank5_a_level  \\\n",
              "14574                                 -499.872052   \n",
              "14575                                 -500.090861   \n",
              "14576                                 -499.834374   \n",
              "14577                                 -500.395178   \n",
              "14578                                 -500.451156   \n",
              "\n",
              "       secondary_cleaner.state.floatbank5_b_air  \\\n",
              "14574                                 12.998309   \n",
              "14575                                 13.007108   \n",
              "14576                                 13.001114   \n",
              "14577                                 12.954048   \n",
              "14578                                 13.023431   \n",
              "\n",
              "       secondary_cleaner.state.floatbank5_b_level  \\\n",
              "14574                                 -500.027809   \n",
              "14575                                 -500.258238   \n",
              "14576                                 -500.155694   \n",
              "14577                                 -499.895163   \n",
              "14578                                 -499.914391   \n",
              "\n",
              "       secondary_cleaner.state.floatbank6_a_air  \\\n",
              "14574                                 20.007108   \n",
              "14575                                 19.983872   \n",
              "14576                                 20.007840   \n",
              "14577                                 19.968498   \n",
              "14578                                 19.990885   \n",
              "\n",
              "       secondary_cleaner.state.floatbank6_a_level  \\\n",
              "14574                                 -500.850685   \n",
              "14575                                 -502.581707   \n",
              "14576                                 -501.296428   \n",
              "14577                                 -501.041608   \n",
              "14578                                 -501.518452   \n",
              "\n",
              "       secondary_cleaner.output.tail_au  secondary_cleaner.output.tail_ag  \\\n",
              "14574                               0.0                               0.0   \n",
              "14575                               0.0                               0.0   \n",
              "14576                               0.0                               0.0   \n",
              "14577                               0.0                               0.0   \n",
              "14578                               0.0                               0.0   \n",
              "\n",
              "       secondary_cleaner.output.tail_pb  secondary_cleaner.output.tail_sol  \\\n",
              "14574                               0.0                                0.0   \n",
              "14575                               0.0                                0.0   \n",
              "14576                               0.0                                0.0   \n",
              "14577                               0.0                                0.0   \n",
              "14578                               0.0                                0.0   \n",
              "\n",
              "       final.output.concentrate_au  final.output.concentrate_ag  \\\n",
              "14574                    47.765393                     2.925574   \n",
              "14575                    46.956275                     3.076566   \n",
              "14576                    46.713954                     3.224920   \n",
              "14577                    46.866780                     3.195978   \n",
              "14578                    46.795691                     3.109998   \n",
              "\n",
              "       final.output.concentrate_pb  final.output.concentrate_sol  \\\n",
              "14574                    10.855586                      7.053796   \n",
              "14575                    11.542302                      6.929418   \n",
              "14576                    11.356233                      6.803482   \n",
              "14577                    11.349355                      6.862249   \n",
              "14578                    11.434366                      6.886013   \n",
              "\n",
              "       final.output.recovery  final.output.tail_au  final.output.tail_ag  \\\n",
              "14574              64.054699              1.761994              8.578502   \n",
              "14575              68.643324              1.567363              8.792890   \n",
              "14576              73.755150              1.529220              8.769645   \n",
              "14577              69.049291              1.612542              8.897321   \n",
              "14578              67.002189              1.596616              8.529606   \n",
              "\n",
              "       final.output.tail_pb  final.output.tail_sol  \n",
              "14574              3.365823              10.603464  \n",
              "14575              3.120351              10.184715  \n",
              "14576              3.141541              10.403181  \n",
              "14577              3.130493              10.549470  \n",
              "14578              2.911418              11.115147  "
            ]
          },
          "execution_count": 11,
          "metadata": {},
          "output_type": "execute_result"
        }
      ],
      "source": [
        "data_train.tail()"
      ]
    },
    {
      "cell_type": "code",
      "execution_count": null,
      "metadata": {
        "id": "e3SMjfHCCZOk",
        "outputId": "cc094d22-e54d-453f-a42a-b99625834687"
      },
      "outputs": [
        {
          "data": {
            "text/html": [
              "<div>\n",
              "<style scoped>\n",
              "    .dataframe tbody tr th:only-of-type {\n",
              "        vertical-align: middle;\n",
              "    }\n",
              "\n",
              "    .dataframe tbody tr th {\n",
              "        vertical-align: top;\n",
              "    }\n",
              "\n",
              "    .dataframe thead th {\n",
              "        text-align: right;\n",
              "    }\n",
              "</style>\n",
              "<table border=\"1\" class=\"dataframe\">\n",
              "  <thead>\n",
              "    <tr style=\"text-align: right;\">\n",
              "      <th></th>\n",
              "      <th>date</th>\n",
              "      <th>rougher.input.feed_au</th>\n",
              "      <th>rougher.input.feed_ag</th>\n",
              "      <th>rougher.input.feed_pb</th>\n",
              "      <th>rougher.input.feed_sol</th>\n",
              "      <th>rougher.input.feed_rate</th>\n",
              "      <th>rougher.input.feed_size</th>\n",
              "      <th>rougher.input.floatbank10_sulfate</th>\n",
              "      <th>rougher.input.floatbank10_xanthate</th>\n",
              "      <th>rougher.state.floatbank10_a_air</th>\n",
              "      <th>rougher.state.floatbank10_a_level</th>\n",
              "      <th>rougher.state.floatbank10_b_air</th>\n",
              "      <th>rougher.state.floatbank10_b_level</th>\n",
              "      <th>rougher.state.floatbank10_c_air</th>\n",
              "      <th>rougher.state.floatbank10_c_level</th>\n",
              "      <th>rougher.state.floatbank10_d_air</th>\n",
              "      <th>rougher.state.floatbank10_d_level</th>\n",
              "      <th>rougher.state.floatbank10_e_air</th>\n",
              "      <th>rougher.state.floatbank10_e_level</th>\n",
              "      <th>rougher.state.floatbank10_f_air</th>\n",
              "      <th>rougher.state.floatbank10_f_level</th>\n",
              "      <th>rougher.input.floatbank11_sulfate</th>\n",
              "      <th>rougher.input.floatbank11_xanthate</th>\n",
              "      <th>primary_cleaner.input.sulfate</th>\n",
              "      <th>primary_cleaner.input.depressant</th>\n",
              "      <th>primary_cleaner.input.feed_size</th>\n",
              "      <th>primary_cleaner.input.xanthate</th>\n",
              "      <th>primary_cleaner.state.floatbank8_a_air</th>\n",
              "      <th>primary_cleaner.state.floatbank8_a_level</th>\n",
              "      <th>primary_cleaner.state.floatbank8_b_air</th>\n",
              "      <th>primary_cleaner.state.floatbank8_b_level</th>\n",
              "      <th>primary_cleaner.state.floatbank8_c_air</th>\n",
              "      <th>primary_cleaner.state.floatbank8_c_level</th>\n",
              "      <th>primary_cleaner.state.floatbank8_d_air</th>\n",
              "      <th>primary_cleaner.state.floatbank8_d_level</th>\n",
              "      <th>secondary_cleaner.state.floatbank2_a_air</th>\n",
              "      <th>secondary_cleaner.state.floatbank2_a_level</th>\n",
              "      <th>secondary_cleaner.state.floatbank2_b_air</th>\n",
              "      <th>secondary_cleaner.state.floatbank2_b_level</th>\n",
              "      <th>secondary_cleaner.state.floatbank3_a_air</th>\n",
              "      <th>secondary_cleaner.state.floatbank3_a_level</th>\n",
              "      <th>secondary_cleaner.state.floatbank3_b_air</th>\n",
              "      <th>secondary_cleaner.state.floatbank3_b_level</th>\n",
              "      <th>secondary_cleaner.state.floatbank4_a_air</th>\n",
              "      <th>secondary_cleaner.state.floatbank4_a_level</th>\n",
              "      <th>secondary_cleaner.state.floatbank4_b_air</th>\n",
              "      <th>secondary_cleaner.state.floatbank4_b_level</th>\n",
              "      <th>secondary_cleaner.state.floatbank5_a_air</th>\n",
              "      <th>secondary_cleaner.state.floatbank5_a_level</th>\n",
              "      <th>secondary_cleaner.state.floatbank5_b_air</th>\n",
              "      <th>secondary_cleaner.state.floatbank5_b_level</th>\n",
              "      <th>secondary_cleaner.state.floatbank6_a_air</th>\n",
              "      <th>secondary_cleaner.state.floatbank6_a_level</th>\n",
              "    </tr>\n",
              "  </thead>\n",
              "  <tbody>\n",
              "    <tr>\n",
              "      <th>0</th>\n",
              "      <td>2017-12-09 14:59:59</td>\n",
              "      <td>4.365491</td>\n",
              "      <td>6.158718</td>\n",
              "      <td>3.875727</td>\n",
              "      <td>39.135119</td>\n",
              "      <td>555.820208</td>\n",
              "      <td>94.544358</td>\n",
              "      <td>6.146982</td>\n",
              "      <td>9.308612</td>\n",
              "      <td>1196.238112</td>\n",
              "      <td>-299.862743</td>\n",
              "      <td>1147.248241</td>\n",
              "      <td>-500.363165</td>\n",
              "      <td>1047.279065</td>\n",
              "      <td>-500.354091</td>\n",
              "      <td>948.756608</td>\n",
              "      <td>-498.439416</td>\n",
              "      <td>849.441918</td>\n",
              "      <td>-499.255503</td>\n",
              "      <td>850.112246</td>\n",
              "      <td>-499.407112</td>\n",
              "      <td>6.168939</td>\n",
              "      <td>9.309852</td>\n",
              "      <td>95.248427</td>\n",
              "      <td>8.078957</td>\n",
              "      <td>6.500000</td>\n",
              "      <td>1.283045</td>\n",
              "      <td>1648.759906</td>\n",
              "      <td>-399.862053</td>\n",
              "      <td>1650.135395</td>\n",
              "      <td>-399.957321</td>\n",
              "      <td>1648.831890</td>\n",
              "      <td>-400.586116</td>\n",
              "      <td>1649.464582</td>\n",
              "      <td>-400.673303</td>\n",
              "      <td>34.940919</td>\n",
              "      <td>-500.150510</td>\n",
              "      <td>30.031867</td>\n",
              "      <td>-500.328335</td>\n",
              "      <td>26.033990</td>\n",
              "      <td>-500.147792</td>\n",
              "      <td>22.952306</td>\n",
              "      <td>-500.037678</td>\n",
              "      <td>23.018622</td>\n",
              "      <td>-500.492702</td>\n",
              "      <td>20.020205</td>\n",
              "      <td>-500.220296</td>\n",
              "      <td>17.963512</td>\n",
              "      <td>-499.939490</td>\n",
              "      <td>12.990306</td>\n",
              "      <td>-500.080993</td>\n",
              "      <td>19.990336</td>\n",
              "      <td>-499.191575</td>\n",
              "    </tr>\n",
              "    <tr>\n",
              "      <th>1</th>\n",
              "      <td>2017-12-09 15:59:59</td>\n",
              "      <td>4.362781</td>\n",
              "      <td>6.048130</td>\n",
              "      <td>3.902537</td>\n",
              "      <td>39.713906</td>\n",
              "      <td>544.731687</td>\n",
              "      <td>123.742430</td>\n",
              "      <td>6.210119</td>\n",
              "      <td>9.297709</td>\n",
              "      <td>1201.904177</td>\n",
              "      <td>-299.907308</td>\n",
              "      <td>1154.087804</td>\n",
              "      <td>-500.036580</td>\n",
              "      <td>1054.009756</td>\n",
              "      <td>-500.237335</td>\n",
              "      <td>944.138793</td>\n",
              "      <td>-496.866953</td>\n",
              "      <td>851.589767</td>\n",
              "      <td>-499.040466</td>\n",
              "      <td>851.345606</td>\n",
              "      <td>-499.122561</td>\n",
              "      <td>6.209517</td>\n",
              "      <td>9.297194</td>\n",
              "      <td>98.880538</td>\n",
              "      <td>7.984164</td>\n",
              "      <td>6.500000</td>\n",
              "      <td>1.241969</td>\n",
              "      <td>1646.547763</td>\n",
              "      <td>-398.977083</td>\n",
              "      <td>1648.212240</td>\n",
              "      <td>-400.383265</td>\n",
              "      <td>1648.917387</td>\n",
              "      <td>-399.521344</td>\n",
              "      <td>1651.498591</td>\n",
              "      <td>-399.745329</td>\n",
              "      <td>34.980742</td>\n",
              "      <td>-498.131002</td>\n",
              "      <td>29.968453</td>\n",
              "      <td>-586.013330</td>\n",
              "      <td>25.971737</td>\n",
              "      <td>-499.608392</td>\n",
              "      <td>22.958448</td>\n",
              "      <td>-499.821308</td>\n",
              "      <td>23.024963</td>\n",
              "      <td>-501.153409</td>\n",
              "      <td>20.054122</td>\n",
              "      <td>-500.314711</td>\n",
              "      <td>17.979515</td>\n",
              "      <td>-499.272871</td>\n",
              "      <td>12.992404</td>\n",
              "      <td>-499.976268</td>\n",
              "      <td>20.013986</td>\n",
              "      <td>-500.625471</td>\n",
              "    </tr>\n",
              "    <tr>\n",
              "      <th>2</th>\n",
              "      <td>2017-12-09 16:59:59</td>\n",
              "      <td>5.081681</td>\n",
              "      <td>6.082745</td>\n",
              "      <td>4.564078</td>\n",
              "      <td>37.208683</td>\n",
              "      <td>558.155110</td>\n",
              "      <td>82.610855</td>\n",
              "      <td>7.363824</td>\n",
              "      <td>9.003562</td>\n",
              "      <td>1200.826926</td>\n",
              "      <td>-300.124116</td>\n",
              "      <td>1150.754676</td>\n",
              "      <td>-499.986009</td>\n",
              "      <td>1049.182824</td>\n",
              "      <td>-500.014696</td>\n",
              "      <td>948.085464</td>\n",
              "      <td>-499.997003</td>\n",
              "      <td>850.170086</td>\n",
              "      <td>-500.270334</td>\n",
              "      <td>849.557905</td>\n",
              "      <td>-500.198702</td>\n",
              "      <td>7.358308</td>\n",
              "      <td>9.000624</td>\n",
              "      <td>119.497545</td>\n",
              "      <td>8.003752</td>\n",
              "      <td>6.500000</td>\n",
              "      <td>1.259741</td>\n",
              "      <td>1647.368779</td>\n",
              "      <td>-399.788506</td>\n",
              "      <td>1648.395206</td>\n",
              "      <td>-400.166490</td>\n",
              "      <td>1648.953828</td>\n",
              "      <td>-400.468641</td>\n",
              "      <td>1649.821569</td>\n",
              "      <td>-400.071884</td>\n",
              "      <td>34.952967</td>\n",
              "      <td>-501.204647</td>\n",
              "      <td>29.927025</td>\n",
              "      <td>-500.106628</td>\n",
              "      <td>25.978253</td>\n",
              "      <td>-499.890060</td>\n",
              "      <td>23.004376</td>\n",
              "      <td>-500.014529</td>\n",
              "      <td>22.993827</td>\n",
              "      <td>-501.559663</td>\n",
              "      <td>20.029144</td>\n",
              "      <td>-500.000662</td>\n",
              "      <td>18.012723</td>\n",
              "      <td>-500.024764</td>\n",
              "      <td>13.016445</td>\n",
              "      <td>-500.058432</td>\n",
              "      <td>19.973767</td>\n",
              "      <td>-501.394155</td>\n",
              "    </tr>\n",
              "    <tr>\n",
              "      <th>3</th>\n",
              "      <td>2017-12-09 17:59:59</td>\n",
              "      <td>5.145949</td>\n",
              "      <td>6.084374</td>\n",
              "      <td>4.768124</td>\n",
              "      <td>36.808874</td>\n",
              "      <td>539.713765</td>\n",
              "      <td>77.984784</td>\n",
              "      <td>6.927072</td>\n",
              "      <td>8.955597</td>\n",
              "      <td>1199.292489</td>\n",
              "      <td>-299.778385</td>\n",
              "      <td>1152.512559</td>\n",
              "      <td>-500.338106</td>\n",
              "      <td>1052.601592</td>\n",
              "      <td>-499.695075</td>\n",
              "      <td>955.171539</td>\n",
              "      <td>-500.294989</td>\n",
              "      <td>851.957342</td>\n",
              "      <td>-499.779541</td>\n",
              "      <td>850.765662</td>\n",
              "      <td>-501.030559</td>\n",
              "      <td>6.929364</td>\n",
              "      <td>8.920717</td>\n",
              "      <td>108.080163</td>\n",
              "      <td>7.970121</td>\n",
              "      <td>6.660000</td>\n",
              "      <td>0.774909</td>\n",
              "      <td>1652.660845</td>\n",
              "      <td>-399.702218</td>\n",
              "      <td>1651.203128</td>\n",
              "      <td>-400.291472</td>\n",
              "      <td>1651.924848</td>\n",
              "      <td>-398.058033</td>\n",
              "      <td>1650.782696</td>\n",
              "      <td>-399.597977</td>\n",
              "      <td>35.038256</td>\n",
              "      <td>-500.102649</td>\n",
              "      <td>30.066959</td>\n",
              "      <td>-500.211499</td>\n",
              "      <td>26.013515</td>\n",
              "      <td>-500.054597</td>\n",
              "      <td>22.988928</td>\n",
              "      <td>-499.981410</td>\n",
              "      <td>23.032807</td>\n",
              "      <td>-501.287889</td>\n",
              "      <td>19.977466</td>\n",
              "      <td>-500.159903</td>\n",
              "      <td>17.980463</td>\n",
              "      <td>-500.504602</td>\n",
              "      <td>12.949071</td>\n",
              "      <td>-500.009937</td>\n",
              "      <td>20.010332</td>\n",
              "      <td>-508.337973</td>\n",
              "    </tr>\n",
              "    <tr>\n",
              "      <th>4</th>\n",
              "      <td>2017-12-09 18:59:59</td>\n",
              "      <td>5.735249</td>\n",
              "      <td>6.165220</td>\n",
              "      <td>4.512346</td>\n",
              "      <td>37.810642</td>\n",
              "      <td>558.713584</td>\n",
              "      <td>86.434874</td>\n",
              "      <td>7.823471</td>\n",
              "      <td>7.490356</td>\n",
              "      <td>1198.005449</td>\n",
              "      <td>-300.283401</td>\n",
              "      <td>1099.481500</td>\n",
              "      <td>-499.702465</td>\n",
              "      <td>999.539264</td>\n",
              "      <td>-499.306051</td>\n",
              "      <td>889.445596</td>\n",
              "      <td>-498.118617</td>\n",
              "      <td>800.533525</td>\n",
              "      <td>-499.765068</td>\n",
              "      <td>800.510356</td>\n",
              "      <td>-497.289533</td>\n",
              "      <td>7.824875</td>\n",
              "      <td>7.500678</td>\n",
              "      <td>117.750648</td>\n",
              "      <td>6.954311</td>\n",
              "      <td>6.426667</td>\n",
              "      <td>0.731271</td>\n",
              "      <td>1649.411497</td>\n",
              "      <td>-399.853156</td>\n",
              "      <td>1648.917211</td>\n",
              "      <td>-400.321866</td>\n",
              "      <td>1649.117753</td>\n",
              "      <td>-399.645348</td>\n",
              "      <td>1650.398209</td>\n",
              "      <td>-400.654533</td>\n",
              "      <td>34.894598</td>\n",
              "      <td>-498.444587</td>\n",
              "      <td>30.020745</td>\n",
              "      <td>-533.831343</td>\n",
              "      <td>26.022094</td>\n",
              "      <td>-499.725484</td>\n",
              "      <td>22.992992</td>\n",
              "      <td>-499.891405</td>\n",
              "      <td>23.001911</td>\n",
              "      <td>-499.947838</td>\n",
              "      <td>20.023735</td>\n",
              "      <td>-499.713680</td>\n",
              "      <td>17.990955</td>\n",
              "      <td>-500.334769</td>\n",
              "      <td>13.007523</td>\n",
              "      <td>-499.968459</td>\n",
              "      <td>19.995999</td>\n",
              "      <td>-499.788805</td>\n",
              "    </tr>\n",
              "  </tbody>\n",
              "</table>\n",
              "</div>"
            ],
            "text/plain": [
              "                  date  rougher.input.feed_au  rougher.input.feed_ag  \\\n",
              "0  2017-12-09 14:59:59               4.365491               6.158718   \n",
              "1  2017-12-09 15:59:59               4.362781               6.048130   \n",
              "2  2017-12-09 16:59:59               5.081681               6.082745   \n",
              "3  2017-12-09 17:59:59               5.145949               6.084374   \n",
              "4  2017-12-09 18:59:59               5.735249               6.165220   \n",
              "\n",
              "   rougher.input.feed_pb  rougher.input.feed_sol  rougher.input.feed_rate  \\\n",
              "0               3.875727               39.135119               555.820208   \n",
              "1               3.902537               39.713906               544.731687   \n",
              "2               4.564078               37.208683               558.155110   \n",
              "3               4.768124               36.808874               539.713765   \n",
              "4               4.512346               37.810642               558.713584   \n",
              "\n",
              "   rougher.input.feed_size  rougher.input.floatbank10_sulfate  \\\n",
              "0                94.544358                           6.146982   \n",
              "1               123.742430                           6.210119   \n",
              "2                82.610855                           7.363824   \n",
              "3                77.984784                           6.927072   \n",
              "4                86.434874                           7.823471   \n",
              "\n",
              "   rougher.input.floatbank10_xanthate  rougher.state.floatbank10_a_air  \\\n",
              "0                            9.308612                      1196.238112   \n",
              "1                            9.297709                      1201.904177   \n",
              "2                            9.003562                      1200.826926   \n",
              "3                            8.955597                      1199.292489   \n",
              "4                            7.490356                      1198.005449   \n",
              "\n",
              "   rougher.state.floatbank10_a_level  rougher.state.floatbank10_b_air  \\\n",
              "0                        -299.862743                      1147.248241   \n",
              "1                        -299.907308                      1154.087804   \n",
              "2                        -300.124116                      1150.754676   \n",
              "3                        -299.778385                      1152.512559   \n",
              "4                        -300.283401                      1099.481500   \n",
              "\n",
              "   rougher.state.floatbank10_b_level  rougher.state.floatbank10_c_air  \\\n",
              "0                        -500.363165                      1047.279065   \n",
              "1                        -500.036580                      1054.009756   \n",
              "2                        -499.986009                      1049.182824   \n",
              "3                        -500.338106                      1052.601592   \n",
              "4                        -499.702465                       999.539264   \n",
              "\n",
              "   rougher.state.floatbank10_c_level  rougher.state.floatbank10_d_air  \\\n",
              "0                        -500.354091                       948.756608   \n",
              "1                        -500.237335                       944.138793   \n",
              "2                        -500.014696                       948.085464   \n",
              "3                        -499.695075                       955.171539   \n",
              "4                        -499.306051                       889.445596   \n",
              "\n",
              "   rougher.state.floatbank10_d_level  rougher.state.floatbank10_e_air  \\\n",
              "0                        -498.439416                       849.441918   \n",
              "1                        -496.866953                       851.589767   \n",
              "2                        -499.997003                       850.170086   \n",
              "3                        -500.294989                       851.957342   \n",
              "4                        -498.118617                       800.533525   \n",
              "\n",
              "   rougher.state.floatbank10_e_level  rougher.state.floatbank10_f_air  \\\n",
              "0                        -499.255503                       850.112246   \n",
              "1                        -499.040466                       851.345606   \n",
              "2                        -500.270334                       849.557905   \n",
              "3                        -499.779541                       850.765662   \n",
              "4                        -499.765068                       800.510356   \n",
              "\n",
              "   rougher.state.floatbank10_f_level  rougher.input.floatbank11_sulfate  \\\n",
              "0                        -499.407112                           6.168939   \n",
              "1                        -499.122561                           6.209517   \n",
              "2                        -500.198702                           7.358308   \n",
              "3                        -501.030559                           6.929364   \n",
              "4                        -497.289533                           7.824875   \n",
              "\n",
              "   rougher.input.floatbank11_xanthate  primary_cleaner.input.sulfate  \\\n",
              "0                            9.309852                      95.248427   \n",
              "1                            9.297194                      98.880538   \n",
              "2                            9.000624                     119.497545   \n",
              "3                            8.920717                     108.080163   \n",
              "4                            7.500678                     117.750648   \n",
              "\n",
              "   primary_cleaner.input.depressant  primary_cleaner.input.feed_size  \\\n",
              "0                          8.078957                         6.500000   \n",
              "1                          7.984164                         6.500000   \n",
              "2                          8.003752                         6.500000   \n",
              "3                          7.970121                         6.660000   \n",
              "4                          6.954311                         6.426667   \n",
              "\n",
              "   primary_cleaner.input.xanthate  primary_cleaner.state.floatbank8_a_air  \\\n",
              "0                        1.283045                             1648.759906   \n",
              "1                        1.241969                             1646.547763   \n",
              "2                        1.259741                             1647.368779   \n",
              "3                        0.774909                             1652.660845   \n",
              "4                        0.731271                             1649.411497   \n",
              "\n",
              "   primary_cleaner.state.floatbank8_a_level  \\\n",
              "0                               -399.862053   \n",
              "1                               -398.977083   \n",
              "2                               -399.788506   \n",
              "3                               -399.702218   \n",
              "4                               -399.853156   \n",
              "\n",
              "   primary_cleaner.state.floatbank8_b_air  \\\n",
              "0                             1650.135395   \n",
              "1                             1648.212240   \n",
              "2                             1648.395206   \n",
              "3                             1651.203128   \n",
              "4                             1648.917211   \n",
              "\n",
              "   primary_cleaner.state.floatbank8_b_level  \\\n",
              "0                               -399.957321   \n",
              "1                               -400.383265   \n",
              "2                               -400.166490   \n",
              "3                               -400.291472   \n",
              "4                               -400.321866   \n",
              "\n",
              "   primary_cleaner.state.floatbank8_c_air  \\\n",
              "0                             1648.831890   \n",
              "1                             1648.917387   \n",
              "2                             1648.953828   \n",
              "3                             1651.924848   \n",
              "4                             1649.117753   \n",
              "\n",
              "   primary_cleaner.state.floatbank8_c_level  \\\n",
              "0                               -400.586116   \n",
              "1                               -399.521344   \n",
              "2                               -400.468641   \n",
              "3                               -398.058033   \n",
              "4                               -399.645348   \n",
              "\n",
              "   primary_cleaner.state.floatbank8_d_air  \\\n",
              "0                             1649.464582   \n",
              "1                             1651.498591   \n",
              "2                             1649.821569   \n",
              "3                             1650.782696   \n",
              "4                             1650.398209   \n",
              "\n",
              "   primary_cleaner.state.floatbank8_d_level  \\\n",
              "0                               -400.673303   \n",
              "1                               -399.745329   \n",
              "2                               -400.071884   \n",
              "3                               -399.597977   \n",
              "4                               -400.654533   \n",
              "\n",
              "   secondary_cleaner.state.floatbank2_a_air  \\\n",
              "0                                 34.940919   \n",
              "1                                 34.980742   \n",
              "2                                 34.952967   \n",
              "3                                 35.038256   \n",
              "4                                 34.894598   \n",
              "\n",
              "   secondary_cleaner.state.floatbank2_a_level  \\\n",
              "0                                 -500.150510   \n",
              "1                                 -498.131002   \n",
              "2                                 -501.204647   \n",
              "3                                 -500.102649   \n",
              "4                                 -498.444587   \n",
              "\n",
              "   secondary_cleaner.state.floatbank2_b_air  \\\n",
              "0                                 30.031867   \n",
              "1                                 29.968453   \n",
              "2                                 29.927025   \n",
              "3                                 30.066959   \n",
              "4                                 30.020745   \n",
              "\n",
              "   secondary_cleaner.state.floatbank2_b_level  \\\n",
              "0                                 -500.328335   \n",
              "1                                 -586.013330   \n",
              "2                                 -500.106628   \n",
              "3                                 -500.211499   \n",
              "4                                 -533.831343   \n",
              "\n",
              "   secondary_cleaner.state.floatbank3_a_air  \\\n",
              "0                                 26.033990   \n",
              "1                                 25.971737   \n",
              "2                                 25.978253   \n",
              "3                                 26.013515   \n",
              "4                                 26.022094   \n",
              "\n",
              "   secondary_cleaner.state.floatbank3_a_level  \\\n",
              "0                                 -500.147792   \n",
              "1                                 -499.608392   \n",
              "2                                 -499.890060   \n",
              "3                                 -500.054597   \n",
              "4                                 -499.725484   \n",
              "\n",
              "   secondary_cleaner.state.floatbank3_b_air  \\\n",
              "0                                 22.952306   \n",
              "1                                 22.958448   \n",
              "2                                 23.004376   \n",
              "3                                 22.988928   \n",
              "4                                 22.992992   \n",
              "\n",
              "   secondary_cleaner.state.floatbank3_b_level  \\\n",
              "0                                 -500.037678   \n",
              "1                                 -499.821308   \n",
              "2                                 -500.014529   \n",
              "3                                 -499.981410   \n",
              "4                                 -499.891405   \n",
              "\n",
              "   secondary_cleaner.state.floatbank4_a_air  \\\n",
              "0                                 23.018622   \n",
              "1                                 23.024963   \n",
              "2                                 22.993827   \n",
              "3                                 23.032807   \n",
              "4                                 23.001911   \n",
              "\n",
              "   secondary_cleaner.state.floatbank4_a_level  \\\n",
              "0                                 -500.492702   \n",
              "1                                 -501.153409   \n",
              "2                                 -501.559663   \n",
              "3                                 -501.287889   \n",
              "4                                 -499.947838   \n",
              "\n",
              "   secondary_cleaner.state.floatbank4_b_air  \\\n",
              "0                                 20.020205   \n",
              "1                                 20.054122   \n",
              "2                                 20.029144   \n",
              "3                                 19.977466   \n",
              "4                                 20.023735   \n",
              "\n",
              "   secondary_cleaner.state.floatbank4_b_level  \\\n",
              "0                                 -500.220296   \n",
              "1                                 -500.314711   \n",
              "2                                 -500.000662   \n",
              "3                                 -500.159903   \n",
              "4                                 -499.713680   \n",
              "\n",
              "   secondary_cleaner.state.floatbank5_a_air  \\\n",
              "0                                 17.963512   \n",
              "1                                 17.979515   \n",
              "2                                 18.012723   \n",
              "3                                 17.980463   \n",
              "4                                 17.990955   \n",
              "\n",
              "   secondary_cleaner.state.floatbank5_a_level  \\\n",
              "0                                 -499.939490   \n",
              "1                                 -499.272871   \n",
              "2                                 -500.024764   \n",
              "3                                 -500.504602   \n",
              "4                                 -500.334769   \n",
              "\n",
              "   secondary_cleaner.state.floatbank5_b_air  \\\n",
              "0                                 12.990306   \n",
              "1                                 12.992404   \n",
              "2                                 13.016445   \n",
              "3                                 12.949071   \n",
              "4                                 13.007523   \n",
              "\n",
              "   secondary_cleaner.state.floatbank5_b_level  \\\n",
              "0                                 -500.080993   \n",
              "1                                 -499.976268   \n",
              "2                                 -500.058432   \n",
              "3                                 -500.009937   \n",
              "4                                 -499.968459   \n",
              "\n",
              "   secondary_cleaner.state.floatbank6_a_air  \\\n",
              "0                                 19.990336   \n",
              "1                                 20.013986   \n",
              "2                                 19.973767   \n",
              "3                                 20.010332   \n",
              "4                                 19.995999   \n",
              "\n",
              "   secondary_cleaner.state.floatbank6_a_level  \n",
              "0                                 -499.191575  \n",
              "1                                 -500.625471  \n",
              "2                                 -501.394155  \n",
              "3                                 -508.337973  \n",
              "4                                 -499.788805  "
            ]
          },
          "execution_count": 12,
          "metadata": {},
          "output_type": "execute_result"
        }
      ],
      "source": [
        "data_test.head()"
      ]
    },
    {
      "cell_type": "markdown",
      "metadata": {
        "id": "EW8jKgGBCZOk"
      },
      "source": [
        "#### Итог"
      ]
    },
    {
      "cell_type": "markdown",
      "metadata": {
        "id": "uDsP8T0oCZOl"
      },
      "source": [
        "В тестовой выборке нам не доступны:\n",
        "\n",
        "- расчетные характеристики этапа флотации\n",
        "- параметры выходных продуктов со всех этапов, в том числе целевых признаков\n",
        "- эффективность обогащения чернового концентрата rougher.output.recovery;\n",
        "- эффективность обогащения финального концентрата final.output.recovery.\n",
        "\n",
        "Если верить заданию - признаков нет, т.к. выгружаются значительно похже. ТО есть: проходит этап - данные выгружаются. А нам не изместно, на каком этапе были выгруженны данные. Скорее всего данные из train выгружены значитально раньше.\n",
        "\n",
        "Эту теорию доказывает то, что последняя запись в train сделана раньше, чем первая в test"
      ]
    },
    {
      "cell_type": "markdown",
      "metadata": {
        "id": "FqtreqCKCZOm"
      },
      "source": [
        "### Предобработка данных"
      ]
    },
    {
      "cell_type": "markdown",
      "metadata": {
        "id": "biKh7ddXCZOm"
      },
      "source": [
        "В первую очередь, избавимся от пропусков и аномальных значений.\n",
        "\n",
        "Согласно условиям задачи, близкие по времени значения похожи, потому заменим ими: сначала аномалии переведем в пропуски, а затем заполним пропуски методом **ffill**"
      ]
    },
    {
      "cell_type": "code",
      "execution_count": null,
      "metadata": {
        "id": "3WMPMVN_CZOn"
      },
      "outputs": [],
      "source": [
        "# замени тип данных\n",
        "\n",
        "for data in [data_train, data_test, data_full]:\n",
        "    data['date'] = pd.to_datetime(data['date'], format='%Y-%m-%d %H:%M:%S')"
      ]
    },
    {
      "cell_type": "code",
      "execution_count": null,
      "metadata": {
        "id": "PTYiE9fBCZOn"
      },
      "outputs": [],
      "source": [
        "# установим индексы\n",
        "\n",
        "data_train = data_train.set_index('date')\n",
        "data_test = data_test.set_index('date')\n",
        "data_full = data_full.set_index('date')"
      ]
    },
    {
      "cell_type": "code",
      "execution_count": null,
      "metadata": {
        "id": "ESTNoiMgCZOn"
      },
      "outputs": [],
      "source": [
        "def change_values(data):\n",
        "    for col in data.columns:\n",
        "        data.loc[(data[col]==0)|(data[col]==100)]=np.nan\n",
        "    return data"
      ]
    },
    {
      "cell_type": "code",
      "execution_count": null,
      "metadata": {
        "scrolled": true,
        "id": "DrFFbV6jCZOo",
        "outputId": "c4b17cc8-1ebb-4ada-d095-6cbea60ba7d6"
      },
      "outputs": [
        {
          "data": {
            "text/html": [
              "<div>\n",
              "<style scoped>\n",
              "    .dataframe tbody tr th:only-of-type {\n",
              "        vertical-align: middle;\n",
              "    }\n",
              "\n",
              "    .dataframe tbody tr th {\n",
              "        vertical-align: top;\n",
              "    }\n",
              "\n",
              "    .dataframe thead th {\n",
              "        text-align: right;\n",
              "    }\n",
              "</style>\n",
              "<table border=\"1\" class=\"dataframe\">\n",
              "  <thead>\n",
              "    <tr style=\"text-align: right;\">\n",
              "      <th></th>\n",
              "      <th>rougher.input.feed_au</th>\n",
              "      <th>rougher.input.feed_ag</th>\n",
              "      <th>rougher.input.feed_pb</th>\n",
              "      <th>rougher.input.feed_sol</th>\n",
              "      <th>rougher.input.feed_rate</th>\n",
              "      <th>rougher.input.feed_size</th>\n",
              "      <th>rougher.input.floatbank10_sulfate</th>\n",
              "      <th>rougher.input.floatbank10_xanthate</th>\n",
              "      <th>rougher.state.floatbank10_a_air</th>\n",
              "      <th>rougher.state.floatbank10_a_level</th>\n",
              "      <th>rougher.state.floatbank10_b_air</th>\n",
              "      <th>rougher.state.floatbank10_b_level</th>\n",
              "      <th>rougher.state.floatbank10_c_air</th>\n",
              "      <th>rougher.state.floatbank10_c_level</th>\n",
              "      <th>rougher.state.floatbank10_d_air</th>\n",
              "      <th>rougher.state.floatbank10_d_level</th>\n",
              "      <th>rougher.state.floatbank10_e_air</th>\n",
              "      <th>rougher.state.floatbank10_e_level</th>\n",
              "      <th>rougher.state.floatbank10_f_air</th>\n",
              "      <th>rougher.state.floatbank10_f_level</th>\n",
              "      <th>rougher.input.floatbank11_sulfate</th>\n",
              "      <th>rougher.input.floatbank11_xanthate</th>\n",
              "      <th>rougher.calculation.sulfate_to_au_concentrate</th>\n",
              "      <th>rougher.calculation.floatbank10_sulfate_to_au_feed</th>\n",
              "      <th>rougher.calculation.floatbank11_sulfate_to_au_feed</th>\n",
              "      <th>rougher.calculation.au_pb_ratio</th>\n",
              "      <th>rougher.output.concentrate_au</th>\n",
              "      <th>rougher.output.concentrate_ag</th>\n",
              "      <th>rougher.output.concentrate_pb</th>\n",
              "      <th>rougher.output.concentrate_sol</th>\n",
              "      <th>rougher.output.recovery</th>\n",
              "      <th>rougher.output.tail_au</th>\n",
              "      <th>rougher.output.tail_ag</th>\n",
              "      <th>rougher.output.tail_pb</th>\n",
              "      <th>rougher.output.tail_sol</th>\n",
              "      <th>primary_cleaner.input.sulfate</th>\n",
              "      <th>primary_cleaner.input.depressant</th>\n",
              "      <th>primary_cleaner.input.feed_size</th>\n",
              "      <th>primary_cleaner.input.xanthate</th>\n",
              "      <th>primary_cleaner.state.floatbank8_a_air</th>\n",
              "      <th>primary_cleaner.state.floatbank8_a_level</th>\n",
              "      <th>primary_cleaner.state.floatbank8_b_air</th>\n",
              "      <th>primary_cleaner.state.floatbank8_b_level</th>\n",
              "      <th>primary_cleaner.state.floatbank8_c_air</th>\n",
              "      <th>primary_cleaner.state.floatbank8_c_level</th>\n",
              "      <th>primary_cleaner.state.floatbank8_d_air</th>\n",
              "      <th>primary_cleaner.state.floatbank8_d_level</th>\n",
              "      <th>primary_cleaner.output.concentrate_au</th>\n",
              "      <th>primary_cleaner.output.concentrate_ag</th>\n",
              "      <th>primary_cleaner.output.concentrate_pb</th>\n",
              "      <th>primary_cleaner.output.concentrate_sol</th>\n",
              "      <th>primary_cleaner.output.tail_au</th>\n",
              "      <th>primary_cleaner.output.tail_ag</th>\n",
              "      <th>primary_cleaner.output.tail_pb</th>\n",
              "      <th>primary_cleaner.output.tail_sol</th>\n",
              "      <th>secondary_cleaner.state.floatbank2_a_air</th>\n",
              "      <th>secondary_cleaner.state.floatbank2_a_level</th>\n",
              "      <th>secondary_cleaner.state.floatbank2_b_air</th>\n",
              "      <th>secondary_cleaner.state.floatbank2_b_level</th>\n",
              "      <th>secondary_cleaner.state.floatbank3_a_air</th>\n",
              "      <th>secondary_cleaner.state.floatbank3_a_level</th>\n",
              "      <th>secondary_cleaner.state.floatbank3_b_air</th>\n",
              "      <th>secondary_cleaner.state.floatbank3_b_level</th>\n",
              "      <th>secondary_cleaner.state.floatbank4_a_air</th>\n",
              "      <th>secondary_cleaner.state.floatbank4_a_level</th>\n",
              "      <th>secondary_cleaner.state.floatbank4_b_air</th>\n",
              "      <th>secondary_cleaner.state.floatbank4_b_level</th>\n",
              "      <th>secondary_cleaner.state.floatbank5_a_air</th>\n",
              "      <th>secondary_cleaner.state.floatbank5_a_level</th>\n",
              "      <th>secondary_cleaner.state.floatbank5_b_air</th>\n",
              "      <th>secondary_cleaner.state.floatbank5_b_level</th>\n",
              "      <th>secondary_cleaner.state.floatbank6_a_air</th>\n",
              "      <th>secondary_cleaner.state.floatbank6_a_level</th>\n",
              "      <th>secondary_cleaner.output.tail_au</th>\n",
              "      <th>secondary_cleaner.output.tail_ag</th>\n",
              "      <th>secondary_cleaner.output.tail_pb</th>\n",
              "      <th>secondary_cleaner.output.tail_sol</th>\n",
              "      <th>final.output.concentrate_au</th>\n",
              "      <th>final.output.concentrate_ag</th>\n",
              "      <th>final.output.concentrate_pb</th>\n",
              "      <th>final.output.concentrate_sol</th>\n",
              "      <th>final.output.recovery</th>\n",
              "      <th>final.output.tail_au</th>\n",
              "      <th>final.output.tail_ag</th>\n",
              "      <th>final.output.tail_pb</th>\n",
              "      <th>final.output.tail_sol</th>\n",
              "    </tr>\n",
              "    <tr>\n",
              "      <th>date</th>\n",
              "      <th></th>\n",
              "      <th></th>\n",
              "      <th></th>\n",
              "      <th></th>\n",
              "      <th></th>\n",
              "      <th></th>\n",
              "      <th></th>\n",
              "      <th></th>\n",
              "      <th></th>\n",
              "      <th></th>\n",
              "      <th></th>\n",
              "      <th></th>\n",
              "      <th></th>\n",
              "      <th></th>\n",
              "      <th></th>\n",
              "      <th></th>\n",
              "      <th></th>\n",
              "      <th></th>\n",
              "      <th></th>\n",
              "      <th></th>\n",
              "      <th></th>\n",
              "      <th></th>\n",
              "      <th></th>\n",
              "      <th></th>\n",
              "      <th></th>\n",
              "      <th></th>\n",
              "      <th></th>\n",
              "      <th></th>\n",
              "      <th></th>\n",
              "      <th></th>\n",
              "      <th></th>\n",
              "      <th></th>\n",
              "      <th></th>\n",
              "      <th></th>\n",
              "      <th></th>\n",
              "      <th></th>\n",
              "      <th></th>\n",
              "      <th></th>\n",
              "      <th></th>\n",
              "      <th></th>\n",
              "      <th></th>\n",
              "      <th></th>\n",
              "      <th></th>\n",
              "      <th></th>\n",
              "      <th></th>\n",
              "      <th></th>\n",
              "      <th></th>\n",
              "      <th></th>\n",
              "      <th></th>\n",
              "      <th></th>\n",
              "      <th></th>\n",
              "      <th></th>\n",
              "      <th></th>\n",
              "      <th></th>\n",
              "      <th></th>\n",
              "      <th></th>\n",
              "      <th></th>\n",
              "      <th></th>\n",
              "      <th></th>\n",
              "      <th></th>\n",
              "      <th></th>\n",
              "      <th></th>\n",
              "      <th></th>\n",
              "      <th></th>\n",
              "      <th></th>\n",
              "      <th></th>\n",
              "      <th></th>\n",
              "      <th></th>\n",
              "      <th></th>\n",
              "      <th></th>\n",
              "      <th></th>\n",
              "      <th></th>\n",
              "      <th></th>\n",
              "      <th></th>\n",
              "      <th></th>\n",
              "      <th></th>\n",
              "      <th></th>\n",
              "      <th></th>\n",
              "      <th></th>\n",
              "      <th></th>\n",
              "      <th></th>\n",
              "      <th></th>\n",
              "      <th></th>\n",
              "      <th></th>\n",
              "      <th></th>\n",
              "      <th></th>\n",
              "    </tr>\n",
              "  </thead>\n",
              "  <tbody>\n",
              "    <tr>\n",
              "      <th>2016-01-15 00:00:00</th>\n",
              "      <td>6.486150</td>\n",
              "      <td>6.100378</td>\n",
              "      <td>2.284912</td>\n",
              "      <td>36.808594</td>\n",
              "      <td>523.546326</td>\n",
              "      <td>55.486599</td>\n",
              "      <td>11.986616</td>\n",
              "      <td>6.007990</td>\n",
              "      <td>999.706909</td>\n",
              "      <td>-404.066986</td>\n",
              "      <td>1603.011353</td>\n",
              "      <td>-434.715027</td>\n",
              "      <td>1602.375000</td>\n",
              "      <td>-442.204468</td>\n",
              "      <td>1598.937256</td>\n",
              "      <td>-451.294128</td>\n",
              "      <td>1404.472046</td>\n",
              "      <td>-455.462982</td>\n",
              "      <td>1416.354980</td>\n",
              "      <td>-451.939636</td>\n",
              "      <td>11.836743</td>\n",
              "      <td>6.005818</td>\n",
              "      <td>41885.707031</td>\n",
              "      <td>3481.779053</td>\n",
              "      <td>3520.337158</td>\n",
              "      <td>2.838687</td>\n",
              "      <td>19.793808</td>\n",
              "      <td>11.500771</td>\n",
              "      <td>7.101074</td>\n",
              "      <td>28.029297</td>\n",
              "      <td>87.107763</td>\n",
              "      <td>1.170244</td>\n",
              "      <td>5.008018</td>\n",
              "      <td>0.508728</td>\n",
              "      <td>19.154297</td>\n",
              "      <td>127.092003</td>\n",
              "      <td>10.128295</td>\n",
              "      <td>7.25</td>\n",
              "      <td>0.988759</td>\n",
              "      <td>1549.775757</td>\n",
              "      <td>-498.912140</td>\n",
              "      <td>1551.434204</td>\n",
              "      <td>-516.403442</td>\n",
              "      <td>1549.873901</td>\n",
              "      <td>-498.666595</td>\n",
              "      <td>1554.367432</td>\n",
              "      <td>-493.428131</td>\n",
              "      <td>34.174427</td>\n",
              "      <td>8.547551</td>\n",
              "      <td>10.389648</td>\n",
              "      <td>19.529297</td>\n",
              "      <td>2.106679</td>\n",
              "      <td>14.936526</td>\n",
              "      <td>2.534912</td>\n",
              "      <td>7.476074</td>\n",
              "      <td>25.853109</td>\n",
              "      <td>-498.526489</td>\n",
              "      <td>23.893660</td>\n",
              "      <td>-501.406281</td>\n",
              "      <td>23.961798</td>\n",
              "      <td>-495.262817</td>\n",
              "      <td>21.940409</td>\n",
              "      <td>-499.340973</td>\n",
              "      <td>14.016835</td>\n",
              "      <td>-502.488007</td>\n",
              "      <td>12.099931</td>\n",
              "      <td>-504.715942</td>\n",
              "      <td>9.925633</td>\n",
              "      <td>-498.310211</td>\n",
              "      <td>8.079666</td>\n",
              "      <td>-500.470978</td>\n",
              "      <td>14.151341</td>\n",
              "      <td>-605.841980</td>\n",
              "      <td>2.606185</td>\n",
              "      <td>14.500184</td>\n",
              "      <td>4.694824</td>\n",
              "      <td>8.764648</td>\n",
              "      <td>42.192020</td>\n",
              "      <td>6.055403</td>\n",
              "      <td>9.889648</td>\n",
              "      <td>5.507324</td>\n",
              "      <td>70.541216</td>\n",
              "      <td>2.143149</td>\n",
              "      <td>10.411962</td>\n",
              "      <td>0.895447</td>\n",
              "      <td>16.904297</td>\n",
              "    </tr>\n",
              "    <tr>\n",
              "      <th>2016-01-15 01:00:00</th>\n",
              "      <td>6.478583</td>\n",
              "      <td>6.161113</td>\n",
              "      <td>2.266033</td>\n",
              "      <td>35.753385</td>\n",
              "      <td>525.290581</td>\n",
              "      <td>57.278666</td>\n",
              "      <td>11.971193</td>\n",
              "      <td>6.005766</td>\n",
              "      <td>1000.286398</td>\n",
              "      <td>-400.065196</td>\n",
              "      <td>1600.754587</td>\n",
              "      <td>-449.953435</td>\n",
              "      <td>1600.479580</td>\n",
              "      <td>-449.830646</td>\n",
              "      <td>1600.527589</td>\n",
              "      <td>-449.953649</td>\n",
              "      <td>1399.227084</td>\n",
              "      <td>-450.869848</td>\n",
              "      <td>1399.719514</td>\n",
              "      <td>-450.119001</td>\n",
              "      <td>11.996163</td>\n",
              "      <td>6.012594</td>\n",
              "      <td>42050.861809</td>\n",
              "      <td>3498.370979</td>\n",
              "      <td>3489.981857</td>\n",
              "      <td>2.858998</td>\n",
              "      <td>20.050975</td>\n",
              "      <td>11.615865</td>\n",
              "      <td>7.278807</td>\n",
              "      <td>28.067063</td>\n",
              "      <td>86.843261</td>\n",
              "      <td>1.184827</td>\n",
              "      <td>4.955378</td>\n",
              "      <td>0.536689</td>\n",
              "      <td>18.965234</td>\n",
              "      <td>125.629232</td>\n",
              "      <td>10.296251</td>\n",
              "      <td>7.25</td>\n",
              "      <td>1.002663</td>\n",
              "      <td>1576.166671</td>\n",
              "      <td>-500.904965</td>\n",
              "      <td>1575.950626</td>\n",
              "      <td>-499.865889</td>\n",
              "      <td>1575.994189</td>\n",
              "      <td>-499.315107</td>\n",
              "      <td>1574.479259</td>\n",
              "      <td>-498.931665</td>\n",
              "      <td>34.118526</td>\n",
              "      <td>8.558743</td>\n",
              "      <td>10.497069</td>\n",
              "      <td>19.369147</td>\n",
              "      <td>2.353017</td>\n",
              "      <td>16.250511</td>\n",
              "      <td>3.049646</td>\n",
              "      <td>6.733907</td>\n",
              "      <td>25.880539</td>\n",
              "      <td>-499.989656</td>\n",
              "      <td>23.889530</td>\n",
              "      <td>-500.372428</td>\n",
              "      <td>23.970550</td>\n",
              "      <td>-500.085473</td>\n",
              "      <td>22.085714</td>\n",
              "      <td>-499.446897</td>\n",
              "      <td>13.992281</td>\n",
              "      <td>-505.503262</td>\n",
              "      <td>11.950531</td>\n",
              "      <td>-501.331529</td>\n",
              "      <td>10.039245</td>\n",
              "      <td>-500.169983</td>\n",
              "      <td>7.984757</td>\n",
              "      <td>-500.582168</td>\n",
              "      <td>13.998353</td>\n",
              "      <td>-599.787184</td>\n",
              "      <td>2.488248</td>\n",
              "      <td>14.265474</td>\n",
              "      <td>4.592547</td>\n",
              "      <td>9.001494</td>\n",
              "      <td>42.701629</td>\n",
              "      <td>6.029369</td>\n",
              "      <td>9.968944</td>\n",
              "      <td>5.257781</td>\n",
              "      <td>69.266198</td>\n",
              "      <td>2.224930</td>\n",
              "      <td>10.462676</td>\n",
              "      <td>0.927452</td>\n",
              "      <td>16.634514</td>\n",
              "    </tr>\n",
              "    <tr>\n",
              "      <th>2016-01-15 02:00:00</th>\n",
              "      <td>6.362222</td>\n",
              "      <td>6.116455</td>\n",
              "      <td>2.159622</td>\n",
              "      <td>35.971630</td>\n",
              "      <td>530.026610</td>\n",
              "      <td>57.510649</td>\n",
              "      <td>11.920603</td>\n",
              "      <td>6.197377</td>\n",
              "      <td>999.719565</td>\n",
              "      <td>-400.074028</td>\n",
              "      <td>1599.337330</td>\n",
              "      <td>-450.008530</td>\n",
              "      <td>1599.672797</td>\n",
              "      <td>-449.954491</td>\n",
              "      <td>1599.849325</td>\n",
              "      <td>-449.954185</td>\n",
              "      <td>1399.180945</td>\n",
              "      <td>-449.937588</td>\n",
              "      <td>1400.316682</td>\n",
              "      <td>-450.527147</td>\n",
              "      <td>11.920305</td>\n",
              "      <td>6.204633</td>\n",
              "      <td>42018.101184</td>\n",
              "      <td>3495.348910</td>\n",
              "      <td>3502.359819</td>\n",
              "      <td>2.945989</td>\n",
              "      <td>19.737170</td>\n",
              "      <td>11.695753</td>\n",
              "      <td>7.216833</td>\n",
              "      <td>27.454037</td>\n",
              "      <td>86.842308</td>\n",
              "      <td>1.162562</td>\n",
              "      <td>4.843460</td>\n",
              "      <td>0.546416</td>\n",
              "      <td>18.808533</td>\n",
              "      <td>123.819808</td>\n",
              "      <td>11.316280</td>\n",
              "      <td>7.25</td>\n",
              "      <td>0.991265</td>\n",
              "      <td>1601.556163</td>\n",
              "      <td>-499.997791</td>\n",
              "      <td>1600.386685</td>\n",
              "      <td>-500.607762</td>\n",
              "      <td>1602.003542</td>\n",
              "      <td>-500.870069</td>\n",
              "      <td>1599.541515</td>\n",
              "      <td>-499.827444</td>\n",
              "      <td>33.969464</td>\n",
              "      <td>8.603505</td>\n",
              "      <td>10.354494</td>\n",
              "      <td>19.167579</td>\n",
              "      <td>2.416800</td>\n",
              "      <td>16.491823</td>\n",
              "      <td>3.124664</td>\n",
              "      <td>6.471768</td>\n",
              "      <td>26.005245</td>\n",
              "      <td>-499.929616</td>\n",
              "      <td>23.886657</td>\n",
              "      <td>-499.951928</td>\n",
              "      <td>23.913535</td>\n",
              "      <td>-499.442343</td>\n",
              "      <td>23.957717</td>\n",
              "      <td>-499.901982</td>\n",
              "      <td>14.015015</td>\n",
              "      <td>-502.520901</td>\n",
              "      <td>11.912783</td>\n",
              "      <td>-501.133383</td>\n",
              "      <td>10.070913</td>\n",
              "      <td>-500.129135</td>\n",
              "      <td>8.013877</td>\n",
              "      <td>-500.517572</td>\n",
              "      <td>14.028663</td>\n",
              "      <td>-601.427363</td>\n",
              "      <td>2.458187</td>\n",
              "      <td>14.115662</td>\n",
              "      <td>4.624775</td>\n",
              "      <td>8.842896</td>\n",
              "      <td>42.657501</td>\n",
              "      <td>6.055926</td>\n",
              "      <td>10.213995</td>\n",
              "      <td>5.383759</td>\n",
              "      <td>68.116445</td>\n",
              "      <td>2.257889</td>\n",
              "      <td>10.507046</td>\n",
              "      <td>0.953716</td>\n",
              "      <td>16.208849</td>\n",
              "    </tr>\n",
              "    <tr>\n",
              "      <th>2016-01-15 03:00:00</th>\n",
              "      <td>6.118189</td>\n",
              "      <td>6.043309</td>\n",
              "      <td>2.037807</td>\n",
              "      <td>36.862241</td>\n",
              "      <td>542.590390</td>\n",
              "      <td>57.792734</td>\n",
              "      <td>11.630094</td>\n",
              "      <td>6.203177</td>\n",
              "      <td>999.814770</td>\n",
              "      <td>-400.200179</td>\n",
              "      <td>1600.059442</td>\n",
              "      <td>-450.619948</td>\n",
              "      <td>1600.012842</td>\n",
              "      <td>-449.910497</td>\n",
              "      <td>1597.725177</td>\n",
              "      <td>-450.130127</td>\n",
              "      <td>1400.943157</td>\n",
              "      <td>-450.030142</td>\n",
              "      <td>1400.234743</td>\n",
              "      <td>-449.790835</td>\n",
              "      <td>11.692450</td>\n",
              "      <td>6.196578</td>\n",
              "      <td>42029.447991</td>\n",
              "      <td>3498.578313</td>\n",
              "      <td>3499.162912</td>\n",
              "      <td>3.002340</td>\n",
              "      <td>19.320810</td>\n",
              "      <td>11.915047</td>\n",
              "      <td>7.175616</td>\n",
              "      <td>27.341277</td>\n",
              "      <td>87.226430</td>\n",
              "      <td>1.079755</td>\n",
              "      <td>4.655288</td>\n",
              "      <td>0.542525</td>\n",
              "      <td>19.330200</td>\n",
              "      <td>122.270188</td>\n",
              "      <td>11.322140</td>\n",
              "      <td>7.25</td>\n",
              "      <td>0.996739</td>\n",
              "      <td>1599.968720</td>\n",
              "      <td>-500.951778</td>\n",
              "      <td>1600.659236</td>\n",
              "      <td>-499.677094</td>\n",
              "      <td>1600.304144</td>\n",
              "      <td>-500.727997</td>\n",
              "      <td>1600.449520</td>\n",
              "      <td>-500.052575</td>\n",
              "      <td>28.260743</td>\n",
              "      <td>7.221879</td>\n",
              "      <td>8.496563</td>\n",
              "      <td>15.978538</td>\n",
              "      <td>2.262051</td>\n",
              "      <td>16.024359</td>\n",
              "      <td>2.960362</td>\n",
              "      <td>6.843791</td>\n",
              "      <td>25.942508</td>\n",
              "      <td>-499.176749</td>\n",
              "      <td>23.955516</td>\n",
              "      <td>-499.848796</td>\n",
              "      <td>23.966838</td>\n",
              "      <td>-500.008812</td>\n",
              "      <td>23.954443</td>\n",
              "      <td>-499.944710</td>\n",
              "      <td>14.036510</td>\n",
              "      <td>-500.857308</td>\n",
              "      <td>11.999550</td>\n",
              "      <td>-501.193686</td>\n",
              "      <td>9.970366</td>\n",
              "      <td>-499.201640</td>\n",
              "      <td>7.977324</td>\n",
              "      <td>-500.255908</td>\n",
              "      <td>14.005551</td>\n",
              "      <td>-599.996129</td>\n",
              "      <td>2.322062</td>\n",
              "      <td>13.732071</td>\n",
              "      <td>4.482453</td>\n",
              "      <td>9.122857</td>\n",
              "      <td>42.689819</td>\n",
              "      <td>6.047977</td>\n",
              "      <td>9.977019</td>\n",
              "      <td>4.858634</td>\n",
              "      <td>68.347543</td>\n",
              "      <td>2.146849</td>\n",
              "      <td>10.422762</td>\n",
              "      <td>0.883763</td>\n",
              "      <td>16.532835</td>\n",
              "    </tr>\n",
              "    <tr>\n",
              "      <th>2016-01-15 04:00:00</th>\n",
              "      <td>5.663707</td>\n",
              "      <td>6.060915</td>\n",
              "      <td>1.786875</td>\n",
              "      <td>34.347666</td>\n",
              "      <td>540.531893</td>\n",
              "      <td>56.047189</td>\n",
              "      <td>10.957755</td>\n",
              "      <td>6.198826</td>\n",
              "      <td>999.678690</td>\n",
              "      <td>-399.752729</td>\n",
              "      <td>1600.208824</td>\n",
              "      <td>-449.599614</td>\n",
              "      <td>1600.357732</td>\n",
              "      <td>-450.034364</td>\n",
              "      <td>1599.759049</td>\n",
              "      <td>-449.909799</td>\n",
              "      <td>1401.560902</td>\n",
              "      <td>-448.877187</td>\n",
              "      <td>1401.160227</td>\n",
              "      <td>-450.407128</td>\n",
              "      <td>10.960521</td>\n",
              "      <td>6.194897</td>\n",
              "      <td>42125.354245</td>\n",
              "      <td>3494.800771</td>\n",
              "      <td>3506.679315</td>\n",
              "      <td>3.169615</td>\n",
              "      <td>19.216101</td>\n",
              "      <td>12.411054</td>\n",
              "      <td>7.240205</td>\n",
              "      <td>27.041023</td>\n",
              "      <td>86.688794</td>\n",
              "      <td>1.012642</td>\n",
              "      <td>4.552800</td>\n",
              "      <td>0.515438</td>\n",
              "      <td>19.267422</td>\n",
              "      <td>117.988169</td>\n",
              "      <td>11.913613</td>\n",
              "      <td>7.25</td>\n",
              "      <td>1.009869</td>\n",
              "      <td>1601.339707</td>\n",
              "      <td>-498.975456</td>\n",
              "      <td>1601.437854</td>\n",
              "      <td>-500.323246</td>\n",
              "      <td>1599.581894</td>\n",
              "      <td>-500.888152</td>\n",
              "      <td>1602.649541</td>\n",
              "      <td>-500.593010</td>\n",
              "      <td>33.044932</td>\n",
              "      <td>9.089428</td>\n",
              "      <td>9.986786</td>\n",
              "      <td>19.199864</td>\n",
              "      <td>2.277073</td>\n",
              "      <td>16.480185</td>\n",
              "      <td>3.112100</td>\n",
              "      <td>6.550154</td>\n",
              "      <td>26.024787</td>\n",
              "      <td>-500.279091</td>\n",
              "      <td>23.955345</td>\n",
              "      <td>-500.593614</td>\n",
              "      <td>23.985703</td>\n",
              "      <td>-500.083811</td>\n",
              "      <td>23.958945</td>\n",
              "      <td>-499.990309</td>\n",
              "      <td>14.027298</td>\n",
              "      <td>-499.838632</td>\n",
              "      <td>11.953070</td>\n",
              "      <td>-501.053894</td>\n",
              "      <td>9.925709</td>\n",
              "      <td>-501.686727</td>\n",
              "      <td>7.894242</td>\n",
              "      <td>-500.356035</td>\n",
              "      <td>13.996647</td>\n",
              "      <td>-601.496691</td>\n",
              "      <td>2.330448</td>\n",
              "      <td>14.079996</td>\n",
              "      <td>4.470737</td>\n",
              "      <td>8.871028</td>\n",
              "      <td>42.774141</td>\n",
              "      <td>6.148599</td>\n",
              "      <td>10.142511</td>\n",
              "      <td>4.939416</td>\n",
              "      <td>66.927016</td>\n",
              "      <td>2.055292</td>\n",
              "      <td>10.360302</td>\n",
              "      <td>0.792826</td>\n",
              "      <td>16.525686</td>\n",
              "    </tr>\n",
              "    <tr>\n",
              "      <th>...</th>\n",
              "      <td>...</td>\n",
              "      <td>...</td>\n",
              "      <td>...</td>\n",
              "      <td>...</td>\n",
              "      <td>...</td>\n",
              "      <td>...</td>\n",
              "      <td>...</td>\n",
              "      <td>...</td>\n",
              "      <td>...</td>\n",
              "      <td>...</td>\n",
              "      <td>...</td>\n",
              "      <td>...</td>\n",
              "      <td>...</td>\n",
              "      <td>...</td>\n",
              "      <td>...</td>\n",
              "      <td>...</td>\n",
              "      <td>...</td>\n",
              "      <td>...</td>\n",
              "      <td>...</td>\n",
              "      <td>...</td>\n",
              "      <td>...</td>\n",
              "      <td>...</td>\n",
              "      <td>...</td>\n",
              "      <td>...</td>\n",
              "      <td>...</td>\n",
              "      <td>...</td>\n",
              "      <td>...</td>\n",
              "      <td>...</td>\n",
              "      <td>...</td>\n",
              "      <td>...</td>\n",
              "      <td>...</td>\n",
              "      <td>...</td>\n",
              "      <td>...</td>\n",
              "      <td>...</td>\n",
              "      <td>...</td>\n",
              "      <td>...</td>\n",
              "      <td>...</td>\n",
              "      <td>...</td>\n",
              "      <td>...</td>\n",
              "      <td>...</td>\n",
              "      <td>...</td>\n",
              "      <td>...</td>\n",
              "      <td>...</td>\n",
              "      <td>...</td>\n",
              "      <td>...</td>\n",
              "      <td>...</td>\n",
              "      <td>...</td>\n",
              "      <td>...</td>\n",
              "      <td>...</td>\n",
              "      <td>...</td>\n",
              "      <td>...</td>\n",
              "      <td>...</td>\n",
              "      <td>...</td>\n",
              "      <td>...</td>\n",
              "      <td>...</td>\n",
              "      <td>...</td>\n",
              "      <td>...</td>\n",
              "      <td>...</td>\n",
              "      <td>...</td>\n",
              "      <td>...</td>\n",
              "      <td>...</td>\n",
              "      <td>...</td>\n",
              "      <td>...</td>\n",
              "      <td>...</td>\n",
              "      <td>...</td>\n",
              "      <td>...</td>\n",
              "      <td>...</td>\n",
              "      <td>...</td>\n",
              "      <td>...</td>\n",
              "      <td>...</td>\n",
              "      <td>...</td>\n",
              "      <td>...</td>\n",
              "      <td>...</td>\n",
              "      <td>...</td>\n",
              "      <td>...</td>\n",
              "      <td>...</td>\n",
              "      <td>...</td>\n",
              "      <td>...</td>\n",
              "      <td>...</td>\n",
              "      <td>...</td>\n",
              "      <td>...</td>\n",
              "      <td>...</td>\n",
              "      <td>...</td>\n",
              "      <td>...</td>\n",
              "      <td>...</td>\n",
              "      <td>...</td>\n",
              "    </tr>\n",
              "    <tr>\n",
              "      <th>2018-08-18 06:59:59</th>\n",
              "      <td>6.620245</td>\n",
              "      <td>5.992592</td>\n",
              "      <td>2.589242</td>\n",
              "      <td>39.934641</td>\n",
              "      <td>578.654582</td>\n",
              "      <td>63.473450</td>\n",
              "      <td>14.688804</td>\n",
              "      <td>6.898599</td>\n",
              "      <td>999.688257</td>\n",
              "      <td>-399.217124</td>\n",
              "      <td>1600.278420</td>\n",
              "      <td>-450.107091</td>\n",
              "      <td>1599.737339</td>\n",
              "      <td>-448.396498</td>\n",
              "      <td>1598.207230</td>\n",
              "      <td>-450.370000</td>\n",
              "      <td>1396.848252</td>\n",
              "      <td>-458.073441</td>\n",
              "      <td>1397.977965</td>\n",
              "      <td>-442.705181</td>\n",
              "      <td>14.676690</td>\n",
              "      <td>6.903515</td>\n",
              "      <td>42054.384954</td>\n",
              "      <td>3499.600613</td>\n",
              "      <td>3499.494045</td>\n",
              "      <td>2.556827</td>\n",
              "      <td>18.470301</td>\n",
              "      <td>11.039123</td>\n",
              "      <td>7.405501</td>\n",
              "      <td>25.960548</td>\n",
              "      <td>85.462226</td>\n",
              "      <td>1.387434</td>\n",
              "      <td>4.949871</td>\n",
              "      <td>0.754358</td>\n",
              "      <td>20.634540</td>\n",
              "      <td>150.944211</td>\n",
              "      <td>12.516814</td>\n",
              "      <td>7.25</td>\n",
              "      <td>1.005121</td>\n",
              "      <td>1599.713324</td>\n",
              "      <td>-500.811273</td>\n",
              "      <td>1596.499220</td>\n",
              "      <td>-499.189257</td>\n",
              "      <td>1599.635875</td>\n",
              "      <td>-500.178569</td>\n",
              "      <td>1598.888237</td>\n",
              "      <td>-499.112223</td>\n",
              "      <td>22.132642</td>\n",
              "      <td>5.775645</td>\n",
              "      <td>7.112666</td>\n",
              "      <td>12.377102</td>\n",
              "      <td>2.020822</td>\n",
              "      <td>15.316786</td>\n",
              "      <td>2.843019</td>\n",
              "      <td>7.608820</td>\n",
              "      <td>26.008972</td>\n",
              "      <td>-500.410938</td>\n",
              "      <td>24.075851</td>\n",
              "      <td>-499.647030</td>\n",
              "      <td>23.969678</td>\n",
              "      <td>-500.207930</td>\n",
              "      <td>23.978896</td>\n",
              "      <td>-499.862885</td>\n",
              "      <td>14.003057</td>\n",
              "      <td>-503.152258</td>\n",
              "      <td>12.016724</td>\n",
              "      <td>-501.136446</td>\n",
              "      <td>10.041864</td>\n",
              "      <td>-499.338844</td>\n",
              "      <td>8.007022</td>\n",
              "      <td>-500.279583</td>\n",
              "      <td>14.001271</td>\n",
              "      <td>-602.072365</td>\n",
              "      <td>2.073936</td>\n",
              "      <td>12.740218</td>\n",
              "      <td>4.460185</td>\n",
              "      <td>10.013738</td>\n",
              "      <td>42.435181</td>\n",
              "      <td>5.719113</td>\n",
              "      <td>10.621027</td>\n",
              "      <td>6.459561</td>\n",
              "      <td>68.786981</td>\n",
              "      <td>2.314786</td>\n",
              "      <td>10.286797</td>\n",
              "      <td>1.171459</td>\n",
              "      <td>19.131121</td>\n",
              "    </tr>\n",
              "    <tr>\n",
              "      <th>2018-08-18 07:59:59</th>\n",
              "      <td>6.741324</td>\n",
              "      <td>6.158617</td>\n",
              "      <td>2.647185</td>\n",
              "      <td>40.176307</td>\n",
              "      <td>571.622005</td>\n",
              "      <td>62.815291</td>\n",
              "      <td>14.892720</td>\n",
              "      <td>6.903204</td>\n",
              "      <td>1000.479783</td>\n",
              "      <td>-399.574748</td>\n",
              "      <td>1600.585419</td>\n",
              "      <td>-450.871865</td>\n",
              "      <td>1600.054220</td>\n",
              "      <td>-451.892850</td>\n",
              "      <td>1604.245003</td>\n",
              "      <td>-450.784204</td>\n",
              "      <td>1397.507497</td>\n",
              "      <td>-452.207181</td>\n",
              "      <td>1398.025205</td>\n",
              "      <td>-451.184768</td>\n",
              "      <td>14.838200</td>\n",
              "      <td>6.894752</td>\n",
              "      <td>41864.191758</td>\n",
              "      <td>3502.154561</td>\n",
              "      <td>3496.709736</td>\n",
              "      <td>2.546601</td>\n",
              "      <td>19.041308</td>\n",
              "      <td>11.231501</td>\n",
              "      <td>7.467612</td>\n",
              "      <td>27.231114</td>\n",
              "      <td>85.443505</td>\n",
              "      <td>1.406886</td>\n",
              "      <td>4.930477</td>\n",
              "      <td>0.749174</td>\n",
              "      <td>19.764783</td>\n",
              "      <td>147.591165</td>\n",
              "      <td>12.517364</td>\n",
              "      <td>7.25</td>\n",
              "      <td>0.959430</td>\n",
              "      <td>1602.999120</td>\n",
              "      <td>-500.526448</td>\n",
              "      <td>1597.866105</td>\n",
              "      <td>-499.798253</td>\n",
              "      <td>1598.796914</td>\n",
              "      <td>-498.214347</td>\n",
              "      <td>1597.075286</td>\n",
              "      <td>-499.158291</td>\n",
              "      <td>33.800422</td>\n",
              "      <td>8.273869</td>\n",
              "      <td>11.090304</td>\n",
              "      <td>18.542572</td>\n",
              "      <td>2.179186</td>\n",
              "      <td>15.888505</td>\n",
              "      <td>3.078792</td>\n",
              "      <td>7.166831</td>\n",
              "      <td>26.019475</td>\n",
              "      <td>-499.818693</td>\n",
              "      <td>23.991310</td>\n",
              "      <td>-500.888315</td>\n",
              "      <td>24.026801</td>\n",
              "      <td>-499.856287</td>\n",
              "      <td>23.959707</td>\n",
              "      <td>-500.428539</td>\n",
              "      <td>14.031220</td>\n",
              "      <td>-503.471307</td>\n",
              "      <td>11.966426</td>\n",
              "      <td>-500.656842</td>\n",
              "      <td>10.051620</td>\n",
              "      <td>-498.318772</td>\n",
              "      <td>8.018091</td>\n",
              "      <td>-499.696138</td>\n",
              "      <td>13.958937</td>\n",
              "      <td>-599.213013</td>\n",
              "      <td>2.245725</td>\n",
              "      <td>13.176513</td>\n",
              "      <td>4.656804</td>\n",
              "      <td>9.841210</td>\n",
              "      <td>43.440341</td>\n",
              "      <td>5.410126</td>\n",
              "      <td>10.868937</td>\n",
              "      <td>6.258693</td>\n",
              "      <td>67.839536</td>\n",
              "      <td>2.423143</td>\n",
              "      <td>10.382891</td>\n",
              "      <td>1.239738</td>\n",
              "      <td>18.544924</td>\n",
              "    </tr>\n",
              "    <tr>\n",
              "      <th>2018-08-18 08:59:59</th>\n",
              "      <td>6.627458</td>\n",
              "      <td>6.015149</td>\n",
              "      <td>2.466127</td>\n",
              "      <td>39.841423</td>\n",
              "      <td>563.733146</td>\n",
              "      <td>61.287347</td>\n",
              "      <td>13.723692</td>\n",
              "      <td>6.700148</td>\n",
              "      <td>1000.014718</td>\n",
              "      <td>-400.320877</td>\n",
              "      <td>1600.572169</td>\n",
              "      <td>-449.351989</td>\n",
              "      <td>1601.079206</td>\n",
              "      <td>-450.846324</td>\n",
              "      <td>1597.862670</td>\n",
              "      <td>-449.053827</td>\n",
              "      <td>1400.353257</td>\n",
              "      <td>-448.866374</td>\n",
              "      <td>1399.930779</td>\n",
              "      <td>-449.388880</td>\n",
              "      <td>13.716111</td>\n",
              "      <td>6.703495</td>\n",
              "      <td>42074.094403</td>\n",
              "      <td>3500.134009</td>\n",
              "      <td>3497.454405</td>\n",
              "      <td>2.687395</td>\n",
              "      <td>19.270994</td>\n",
              "      <td>11.309414</td>\n",
              "      <td>7.244361</td>\n",
              "      <td>27.324612</td>\n",
              "      <td>87.235441</td>\n",
              "      <td>1.208540</td>\n",
              "      <td>4.785475</td>\n",
              "      <td>0.630120</td>\n",
              "      <td>19.901033</td>\n",
              "      <td>144.447728</td>\n",
              "      <td>12.499446</td>\n",
              "      <td>7.25</td>\n",
              "      <td>0.904020</td>\n",
              "      <td>1596.610313</td>\n",
              "      <td>-499.416573</td>\n",
              "      <td>1597.325921</td>\n",
              "      <td>-499.944194</td>\n",
              "      <td>1601.441880</td>\n",
              "      <td>-499.658913</td>\n",
              "      <td>1599.758645</td>\n",
              "      <td>-501.149616</td>\n",
              "      <td>35.644428</td>\n",
              "      <td>7.842272</td>\n",
              "      <td>10.519069</td>\n",
              "      <td>18.827480</td>\n",
              "      <td>1.872079</td>\n",
              "      <td>16.108364</td>\n",
              "      <td>3.082925</td>\n",
              "      <td>7.684671</td>\n",
              "      <td>25.953364</td>\n",
              "      <td>-501.033038</td>\n",
              "      <td>24.039465</td>\n",
              "      <td>-500.088979</td>\n",
              "      <td>24.010117</td>\n",
              "      <td>-499.705384</td>\n",
              "      <td>24.024501</td>\n",
              "      <td>-499.466383</td>\n",
              "      <td>13.996317</td>\n",
              "      <td>-502.995300</td>\n",
              "      <td>11.980055</td>\n",
              "      <td>-500.607751</td>\n",
              "      <td>9.964501</td>\n",
              "      <td>-499.261719</td>\n",
              "      <td>8.065048</td>\n",
              "      <td>-499.492395</td>\n",
              "      <td>13.997801</td>\n",
              "      <td>-600.621416</td>\n",
              "      <td>1.965589</td>\n",
              "      <td>14.372378</td>\n",
              "      <td>4.402372</td>\n",
              "      <td>10.119344</td>\n",
              "      <td>44.284117</td>\n",
              "      <td>5.437716</td>\n",
              "      <td>9.781181</td>\n",
              "      <td>6.057627</td>\n",
              "      <td>70.847012</td>\n",
              "      <td>2.161256</td>\n",
              "      <td>10.324415</td>\n",
              "      <td>0.961210</td>\n",
              "      <td>18.185262</td>\n",
              "    </tr>\n",
              "    <tr>\n",
              "      <th>2018-08-18 09:59:59</th>\n",
              "      <td>6.702243</td>\n",
              "      <td>6.097592</td>\n",
              "      <td>2.278955</td>\n",
              "      <td>37.728375</td>\n",
              "      <td>549.812490</td>\n",
              "      <td>59.637037</td>\n",
              "      <td>13.746510</td>\n",
              "      <td>6.706417</td>\n",
              "      <td>999.635748</td>\n",
              "      <td>-399.484884</td>\n",
              "      <td>1599.852212</td>\n",
              "      <td>-449.448826</td>\n",
              "      <td>1599.325946</td>\n",
              "      <td>-448.812166</td>\n",
              "      <td>1614.612892</td>\n",
              "      <td>-449.774665</td>\n",
              "      <td>1401.626496</td>\n",
              "      <td>-447.607440</td>\n",
              "      <td>1400.158685</td>\n",
              "      <td>-448.035466</td>\n",
              "      <td>13.758277</td>\n",
              "      <td>6.702969</td>\n",
              "      <td>42019.291707</td>\n",
              "      <td>3502.637709</td>\n",
              "      <td>3495.776643</td>\n",
              "      <td>2.940927</td>\n",
              "      <td>19.620480</td>\n",
              "      <td>11.528770</td>\n",
              "      <td>7.091962</td>\n",
              "      <td>27.774855</td>\n",
              "      <td>89.299981</td>\n",
              "      <td>1.031923</td>\n",
              "      <td>4.559246</td>\n",
              "      <td>0.557099</td>\n",
              "      <td>20.067665</td>\n",
              "      <td>147.944885</td>\n",
              "      <td>12.481529</td>\n",
              "      <td>7.25</td>\n",
              "      <td>0.893913</td>\n",
              "      <td>1603.053015</td>\n",
              "      <td>-499.728573</td>\n",
              "      <td>1600.537532</td>\n",
              "      <td>-500.096021</td>\n",
              "      <td>1597.568005</td>\n",
              "      <td>-499.601040</td>\n",
              "      <td>1599.213513</td>\n",
              "      <td>-500.964698</td>\n",
              "      <td>28.081869</td>\n",
              "      <td>5.899284</td>\n",
              "      <td>8.154167</td>\n",
              "      <td>14.301345</td>\n",
              "      <td>1.874228</td>\n",
              "      <td>15.993499</td>\n",
              "      <td>3.077749</td>\n",
              "      <td>7.312664</td>\n",
              "      <td>26.111929</td>\n",
              "      <td>-499.496608</td>\n",
              "      <td>24.094419</td>\n",
              "      <td>-500.250900</td>\n",
              "      <td>23.945513</td>\n",
              "      <td>-500.816108</td>\n",
              "      <td>23.995434</td>\n",
              "      <td>-499.761541</td>\n",
              "      <td>13.983963</td>\n",
              "      <td>-503.675714</td>\n",
              "      <td>11.928745</td>\n",
              "      <td>-500.583183</td>\n",
              "      <td>9.970359</td>\n",
              "      <td>-498.822343</td>\n",
              "      <td>8.016377</td>\n",
              "      <td>-499.013145</td>\n",
              "      <td>14.000032</td>\n",
              "      <td>-600.024741</td>\n",
              "      <td>1.868321</td>\n",
              "      <td>13.795229</td>\n",
              "      <td>4.576720</td>\n",
              "      <td>9.876374</td>\n",
              "      <td>43.339714</td>\n",
              "      <td>5.664983</td>\n",
              "      <td>10.168953</td>\n",
              "      <td>5.484318</td>\n",
              "      <td>72.659046</td>\n",
              "      <td>2.064422</td>\n",
              "      <td>10.475957</td>\n",
              "      <td>1.050592</td>\n",
              "      <td>17.525656</td>\n",
              "    </tr>\n",
              "    <tr>\n",
              "      <th>2018-08-18 10:59:59</th>\n",
              "      <td>6.633002</td>\n",
              "      <td>5.908793</td>\n",
              "      <td>2.440899</td>\n",
              "      <td>36.958540</td>\n",
              "      <td>573.076049</td>\n",
              "      <td>58.509262</td>\n",
              "      <td>13.707775</td>\n",
              "      <td>6.820245</td>\n",
              "      <td>1000.589156</td>\n",
              "      <td>-398.879586</td>\n",
              "      <td>1598.975250</td>\n",
              "      <td>-451.238638</td>\n",
              "      <td>1600.058139</td>\n",
              "      <td>-451.271448</td>\n",
              "      <td>1610.182874</td>\n",
              "      <td>-450.460190</td>\n",
              "      <td>1399.194663</td>\n",
              "      <td>-450.332681</td>\n",
              "      <td>1399.638290</td>\n",
              "      <td>-450.198722</td>\n",
              "      <td>13.812674</td>\n",
              "      <td>6.790624</td>\n",
              "      <td>41882.126352</td>\n",
              "      <td>3499.915439</td>\n",
              "      <td>3519.952954</td>\n",
              "      <td>2.717442</td>\n",
              "      <td>19.497669</td>\n",
              "      <td>11.116297</td>\n",
              "      <td>7.297363</td>\n",
              "      <td>27.497520</td>\n",
              "      <td>87.650868</td>\n",
              "      <td>1.167140</td>\n",
              "      <td>4.667157</td>\n",
              "      <td>0.615418</td>\n",
              "      <td>18.907179</td>\n",
              "      <td>138.120409</td>\n",
              "      <td>12.464032</td>\n",
              "      <td>7.25</td>\n",
              "      <td>0.898779</td>\n",
              "      <td>1603.436598</td>\n",
              "      <td>-499.864400</td>\n",
              "      <td>1597.455353</td>\n",
              "      <td>-500.266905</td>\n",
              "      <td>1600.747882</td>\n",
              "      <td>-500.541002</td>\n",
              "      <td>1599.754053</td>\n",
              "      <td>-499.216962</td>\n",
              "      <td>34.826500</td>\n",
              "      <td>8.098985</td>\n",
              "      <td>10.525324</td>\n",
              "      <td>18.436589</td>\n",
              "      <td>2.025454</td>\n",
              "      <td>15.535214</td>\n",
              "      <td>2.866688</td>\n",
              "      <td>7.265906</td>\n",
              "      <td>26.059510</td>\n",
              "      <td>-499.151646</td>\n",
              "      <td>23.934570</td>\n",
              "      <td>-499.351758</td>\n",
              "      <td>23.994184</td>\n",
              "      <td>-500.078566</td>\n",
              "      <td>23.924481</td>\n",
              "      <td>-499.989024</td>\n",
              "      <td>13.989632</td>\n",
              "      <td>-503.195299</td>\n",
              "      <td>12.052233</td>\n",
              "      <td>-500.928547</td>\n",
              "      <td>9.962574</td>\n",
              "      <td>-502.986357</td>\n",
              "      <td>7.979219</td>\n",
              "      <td>-500.146835</td>\n",
              "      <td>13.981614</td>\n",
              "      <td>-598.070855</td>\n",
              "      <td>2.073737</td>\n",
              "      <td>13.209191</td>\n",
              "      <td>4.550553</td>\n",
              "      <td>9.813732</td>\n",
              "      <td>43.235220</td>\n",
              "      <td>5.687063</td>\n",
              "      <td>9.980404</td>\n",
              "      <td>5.282514</td>\n",
              "      <td>70.279619</td>\n",
              "      <td>2.209593</td>\n",
              "      <td>10.487013</td>\n",
              "      <td>1.159805</td>\n",
              "      <td>17.483979</td>\n",
              "    </tr>\n",
              "  </tbody>\n",
              "</table>\n",
              "<p>19439 rows × 86 columns</p>\n",
              "</div>"
            ],
            "text/plain": [
              "                     rougher.input.feed_au  rougher.input.feed_ag  \\\n",
              "date                                                                \n",
              "2016-01-15 00:00:00               6.486150               6.100378   \n",
              "2016-01-15 01:00:00               6.478583               6.161113   \n",
              "2016-01-15 02:00:00               6.362222               6.116455   \n",
              "2016-01-15 03:00:00               6.118189               6.043309   \n",
              "2016-01-15 04:00:00               5.663707               6.060915   \n",
              "...                                    ...                    ...   \n",
              "2018-08-18 06:59:59               6.620245               5.992592   \n",
              "2018-08-18 07:59:59               6.741324               6.158617   \n",
              "2018-08-18 08:59:59               6.627458               6.015149   \n",
              "2018-08-18 09:59:59               6.702243               6.097592   \n",
              "2018-08-18 10:59:59               6.633002               5.908793   \n",
              "\n",
              "                     rougher.input.feed_pb  rougher.input.feed_sol  \\\n",
              "date                                                                 \n",
              "2016-01-15 00:00:00               2.284912               36.808594   \n",
              "2016-01-15 01:00:00               2.266033               35.753385   \n",
              "2016-01-15 02:00:00               2.159622               35.971630   \n",
              "2016-01-15 03:00:00               2.037807               36.862241   \n",
              "2016-01-15 04:00:00               1.786875               34.347666   \n",
              "...                                    ...                     ...   \n",
              "2018-08-18 06:59:59               2.589242               39.934641   \n",
              "2018-08-18 07:59:59               2.647185               40.176307   \n",
              "2018-08-18 08:59:59               2.466127               39.841423   \n",
              "2018-08-18 09:59:59               2.278955               37.728375   \n",
              "2018-08-18 10:59:59               2.440899               36.958540   \n",
              "\n",
              "                     rougher.input.feed_rate  rougher.input.feed_size  \\\n",
              "date                                                                    \n",
              "2016-01-15 00:00:00               523.546326                55.486599   \n",
              "2016-01-15 01:00:00               525.290581                57.278666   \n",
              "2016-01-15 02:00:00               530.026610                57.510649   \n",
              "2016-01-15 03:00:00               542.590390                57.792734   \n",
              "2016-01-15 04:00:00               540.531893                56.047189   \n",
              "...                                      ...                      ...   \n",
              "2018-08-18 06:59:59               578.654582                63.473450   \n",
              "2018-08-18 07:59:59               571.622005                62.815291   \n",
              "2018-08-18 08:59:59               563.733146                61.287347   \n",
              "2018-08-18 09:59:59               549.812490                59.637037   \n",
              "2018-08-18 10:59:59               573.076049                58.509262   \n",
              "\n",
              "                     rougher.input.floatbank10_sulfate  \\\n",
              "date                                                     \n",
              "2016-01-15 00:00:00                          11.986616   \n",
              "2016-01-15 01:00:00                          11.971193   \n",
              "2016-01-15 02:00:00                          11.920603   \n",
              "2016-01-15 03:00:00                          11.630094   \n",
              "2016-01-15 04:00:00                          10.957755   \n",
              "...                                                ...   \n",
              "2018-08-18 06:59:59                          14.688804   \n",
              "2018-08-18 07:59:59                          14.892720   \n",
              "2018-08-18 08:59:59                          13.723692   \n",
              "2018-08-18 09:59:59                          13.746510   \n",
              "2018-08-18 10:59:59                          13.707775   \n",
              "\n",
              "                     rougher.input.floatbank10_xanthate  \\\n",
              "date                                                      \n",
              "2016-01-15 00:00:00                            6.007990   \n",
              "2016-01-15 01:00:00                            6.005766   \n",
              "2016-01-15 02:00:00                            6.197377   \n",
              "2016-01-15 03:00:00                            6.203177   \n",
              "2016-01-15 04:00:00                            6.198826   \n",
              "...                                                 ...   \n",
              "2018-08-18 06:59:59                            6.898599   \n",
              "2018-08-18 07:59:59                            6.903204   \n",
              "2018-08-18 08:59:59                            6.700148   \n",
              "2018-08-18 09:59:59                            6.706417   \n",
              "2018-08-18 10:59:59                            6.820245   \n",
              "\n",
              "                     rougher.state.floatbank10_a_air  \\\n",
              "date                                                   \n",
              "2016-01-15 00:00:00                       999.706909   \n",
              "2016-01-15 01:00:00                      1000.286398   \n",
              "2016-01-15 02:00:00                       999.719565   \n",
              "2016-01-15 03:00:00                       999.814770   \n",
              "2016-01-15 04:00:00                       999.678690   \n",
              "...                                              ...   \n",
              "2018-08-18 06:59:59                       999.688257   \n",
              "2018-08-18 07:59:59                      1000.479783   \n",
              "2018-08-18 08:59:59                      1000.014718   \n",
              "2018-08-18 09:59:59                       999.635748   \n",
              "2018-08-18 10:59:59                      1000.589156   \n",
              "\n",
              "                     rougher.state.floatbank10_a_level  \\\n",
              "date                                                     \n",
              "2016-01-15 00:00:00                        -404.066986   \n",
              "2016-01-15 01:00:00                        -400.065196   \n",
              "2016-01-15 02:00:00                        -400.074028   \n",
              "2016-01-15 03:00:00                        -400.200179   \n",
              "2016-01-15 04:00:00                        -399.752729   \n",
              "...                                                ...   \n",
              "2018-08-18 06:59:59                        -399.217124   \n",
              "2018-08-18 07:59:59                        -399.574748   \n",
              "2018-08-18 08:59:59                        -400.320877   \n",
              "2018-08-18 09:59:59                        -399.484884   \n",
              "2018-08-18 10:59:59                        -398.879586   \n",
              "\n",
              "                     rougher.state.floatbank10_b_air  \\\n",
              "date                                                   \n",
              "2016-01-15 00:00:00                      1603.011353   \n",
              "2016-01-15 01:00:00                      1600.754587   \n",
              "2016-01-15 02:00:00                      1599.337330   \n",
              "2016-01-15 03:00:00                      1600.059442   \n",
              "2016-01-15 04:00:00                      1600.208824   \n",
              "...                                              ...   \n",
              "2018-08-18 06:59:59                      1600.278420   \n",
              "2018-08-18 07:59:59                      1600.585419   \n",
              "2018-08-18 08:59:59                      1600.572169   \n",
              "2018-08-18 09:59:59                      1599.852212   \n",
              "2018-08-18 10:59:59                      1598.975250   \n",
              "\n",
              "                     rougher.state.floatbank10_b_level  \\\n",
              "date                                                     \n",
              "2016-01-15 00:00:00                        -434.715027   \n",
              "2016-01-15 01:00:00                        -449.953435   \n",
              "2016-01-15 02:00:00                        -450.008530   \n",
              "2016-01-15 03:00:00                        -450.619948   \n",
              "2016-01-15 04:00:00                        -449.599614   \n",
              "...                                                ...   \n",
              "2018-08-18 06:59:59                        -450.107091   \n",
              "2018-08-18 07:59:59                        -450.871865   \n",
              "2018-08-18 08:59:59                        -449.351989   \n",
              "2018-08-18 09:59:59                        -449.448826   \n",
              "2018-08-18 10:59:59                        -451.238638   \n",
              "\n",
              "                     rougher.state.floatbank10_c_air  \\\n",
              "date                                                   \n",
              "2016-01-15 00:00:00                      1602.375000   \n",
              "2016-01-15 01:00:00                      1600.479580   \n",
              "2016-01-15 02:00:00                      1599.672797   \n",
              "2016-01-15 03:00:00                      1600.012842   \n",
              "2016-01-15 04:00:00                      1600.357732   \n",
              "...                                              ...   \n",
              "2018-08-18 06:59:59                      1599.737339   \n",
              "2018-08-18 07:59:59                      1600.054220   \n",
              "2018-08-18 08:59:59                      1601.079206   \n",
              "2018-08-18 09:59:59                      1599.325946   \n",
              "2018-08-18 10:59:59                      1600.058139   \n",
              "\n",
              "                     rougher.state.floatbank10_c_level  \\\n",
              "date                                                     \n",
              "2016-01-15 00:00:00                        -442.204468   \n",
              "2016-01-15 01:00:00                        -449.830646   \n",
              "2016-01-15 02:00:00                        -449.954491   \n",
              "2016-01-15 03:00:00                        -449.910497   \n",
              "2016-01-15 04:00:00                        -450.034364   \n",
              "...                                                ...   \n",
              "2018-08-18 06:59:59                        -448.396498   \n",
              "2018-08-18 07:59:59                        -451.892850   \n",
              "2018-08-18 08:59:59                        -450.846324   \n",
              "2018-08-18 09:59:59                        -448.812166   \n",
              "2018-08-18 10:59:59                        -451.271448   \n",
              "\n",
              "                     rougher.state.floatbank10_d_air  \\\n",
              "date                                                   \n",
              "2016-01-15 00:00:00                      1598.937256   \n",
              "2016-01-15 01:00:00                      1600.527589   \n",
              "2016-01-15 02:00:00                      1599.849325   \n",
              "2016-01-15 03:00:00                      1597.725177   \n",
              "2016-01-15 04:00:00                      1599.759049   \n",
              "...                                              ...   \n",
              "2018-08-18 06:59:59                      1598.207230   \n",
              "2018-08-18 07:59:59                      1604.245003   \n",
              "2018-08-18 08:59:59                      1597.862670   \n",
              "2018-08-18 09:59:59                      1614.612892   \n",
              "2018-08-18 10:59:59                      1610.182874   \n",
              "\n",
              "                     rougher.state.floatbank10_d_level  \\\n",
              "date                                                     \n",
              "2016-01-15 00:00:00                        -451.294128   \n",
              "2016-01-15 01:00:00                        -449.953649   \n",
              "2016-01-15 02:00:00                        -449.954185   \n",
              "2016-01-15 03:00:00                        -450.130127   \n",
              "2016-01-15 04:00:00                        -449.909799   \n",
              "...                                                ...   \n",
              "2018-08-18 06:59:59                        -450.370000   \n",
              "2018-08-18 07:59:59                        -450.784204   \n",
              "2018-08-18 08:59:59                        -449.053827   \n",
              "2018-08-18 09:59:59                        -449.774665   \n",
              "2018-08-18 10:59:59                        -450.460190   \n",
              "\n",
              "                     rougher.state.floatbank10_e_air  \\\n",
              "date                                                   \n",
              "2016-01-15 00:00:00                      1404.472046   \n",
              "2016-01-15 01:00:00                      1399.227084   \n",
              "2016-01-15 02:00:00                      1399.180945   \n",
              "2016-01-15 03:00:00                      1400.943157   \n",
              "2016-01-15 04:00:00                      1401.560902   \n",
              "...                                              ...   \n",
              "2018-08-18 06:59:59                      1396.848252   \n",
              "2018-08-18 07:59:59                      1397.507497   \n",
              "2018-08-18 08:59:59                      1400.353257   \n",
              "2018-08-18 09:59:59                      1401.626496   \n",
              "2018-08-18 10:59:59                      1399.194663   \n",
              "\n",
              "                     rougher.state.floatbank10_e_level  \\\n",
              "date                                                     \n",
              "2016-01-15 00:00:00                        -455.462982   \n",
              "2016-01-15 01:00:00                        -450.869848   \n",
              "2016-01-15 02:00:00                        -449.937588   \n",
              "2016-01-15 03:00:00                        -450.030142   \n",
              "2016-01-15 04:00:00                        -448.877187   \n",
              "...                                                ...   \n",
              "2018-08-18 06:59:59                        -458.073441   \n",
              "2018-08-18 07:59:59                        -452.207181   \n",
              "2018-08-18 08:59:59                        -448.866374   \n",
              "2018-08-18 09:59:59                        -447.607440   \n",
              "2018-08-18 10:59:59                        -450.332681   \n",
              "\n",
              "                     rougher.state.floatbank10_f_air  \\\n",
              "date                                                   \n",
              "2016-01-15 00:00:00                      1416.354980   \n",
              "2016-01-15 01:00:00                      1399.719514   \n",
              "2016-01-15 02:00:00                      1400.316682   \n",
              "2016-01-15 03:00:00                      1400.234743   \n",
              "2016-01-15 04:00:00                      1401.160227   \n",
              "...                                              ...   \n",
              "2018-08-18 06:59:59                      1397.977965   \n",
              "2018-08-18 07:59:59                      1398.025205   \n",
              "2018-08-18 08:59:59                      1399.930779   \n",
              "2018-08-18 09:59:59                      1400.158685   \n",
              "2018-08-18 10:59:59                      1399.638290   \n",
              "\n",
              "                     rougher.state.floatbank10_f_level  \\\n",
              "date                                                     \n",
              "2016-01-15 00:00:00                        -451.939636   \n",
              "2016-01-15 01:00:00                        -450.119001   \n",
              "2016-01-15 02:00:00                        -450.527147   \n",
              "2016-01-15 03:00:00                        -449.790835   \n",
              "2016-01-15 04:00:00                        -450.407128   \n",
              "...                                                ...   \n",
              "2018-08-18 06:59:59                        -442.705181   \n",
              "2018-08-18 07:59:59                        -451.184768   \n",
              "2018-08-18 08:59:59                        -449.388880   \n",
              "2018-08-18 09:59:59                        -448.035466   \n",
              "2018-08-18 10:59:59                        -450.198722   \n",
              "\n",
              "                     rougher.input.floatbank11_sulfate  \\\n",
              "date                                                     \n",
              "2016-01-15 00:00:00                          11.836743   \n",
              "2016-01-15 01:00:00                          11.996163   \n",
              "2016-01-15 02:00:00                          11.920305   \n",
              "2016-01-15 03:00:00                          11.692450   \n",
              "2016-01-15 04:00:00                          10.960521   \n",
              "...                                                ...   \n",
              "2018-08-18 06:59:59                          14.676690   \n",
              "2018-08-18 07:59:59                          14.838200   \n",
              "2018-08-18 08:59:59                          13.716111   \n",
              "2018-08-18 09:59:59                          13.758277   \n",
              "2018-08-18 10:59:59                          13.812674   \n",
              "\n",
              "                     rougher.input.floatbank11_xanthate  \\\n",
              "date                                                      \n",
              "2016-01-15 00:00:00                            6.005818   \n",
              "2016-01-15 01:00:00                            6.012594   \n",
              "2016-01-15 02:00:00                            6.204633   \n",
              "2016-01-15 03:00:00                            6.196578   \n",
              "2016-01-15 04:00:00                            6.194897   \n",
              "...                                                 ...   \n",
              "2018-08-18 06:59:59                            6.903515   \n",
              "2018-08-18 07:59:59                            6.894752   \n",
              "2018-08-18 08:59:59                            6.703495   \n",
              "2018-08-18 09:59:59                            6.702969   \n",
              "2018-08-18 10:59:59                            6.790624   \n",
              "\n",
              "                     rougher.calculation.sulfate_to_au_concentrate  \\\n",
              "date                                                                 \n",
              "2016-01-15 00:00:00                                   41885.707031   \n",
              "2016-01-15 01:00:00                                   42050.861809   \n",
              "2016-01-15 02:00:00                                   42018.101184   \n",
              "2016-01-15 03:00:00                                   42029.447991   \n",
              "2016-01-15 04:00:00                                   42125.354245   \n",
              "...                                                            ...   \n",
              "2018-08-18 06:59:59                                   42054.384954   \n",
              "2018-08-18 07:59:59                                   41864.191758   \n",
              "2018-08-18 08:59:59                                   42074.094403   \n",
              "2018-08-18 09:59:59                                   42019.291707   \n",
              "2018-08-18 10:59:59                                   41882.126352   \n",
              "\n",
              "                     rougher.calculation.floatbank10_sulfate_to_au_feed  \\\n",
              "date                                                                      \n",
              "2016-01-15 00:00:00                                        3481.779053    \n",
              "2016-01-15 01:00:00                                        3498.370979    \n",
              "2016-01-15 02:00:00                                        3495.348910    \n",
              "2016-01-15 03:00:00                                        3498.578313    \n",
              "2016-01-15 04:00:00                                        3494.800771    \n",
              "...                                                                ...    \n",
              "2018-08-18 06:59:59                                        3499.600613    \n",
              "2018-08-18 07:59:59                                        3502.154561    \n",
              "2018-08-18 08:59:59                                        3500.134009    \n",
              "2018-08-18 09:59:59                                        3502.637709    \n",
              "2018-08-18 10:59:59                                        3499.915439    \n",
              "\n",
              "                     rougher.calculation.floatbank11_sulfate_to_au_feed  \\\n",
              "date                                                                      \n",
              "2016-01-15 00:00:00                                        3520.337158    \n",
              "2016-01-15 01:00:00                                        3489.981857    \n",
              "2016-01-15 02:00:00                                        3502.359819    \n",
              "2016-01-15 03:00:00                                        3499.162912    \n",
              "2016-01-15 04:00:00                                        3506.679315    \n",
              "...                                                                ...    \n",
              "2018-08-18 06:59:59                                        3499.494045    \n",
              "2018-08-18 07:59:59                                        3496.709736    \n",
              "2018-08-18 08:59:59                                        3497.454405    \n",
              "2018-08-18 09:59:59                                        3495.776643    \n",
              "2018-08-18 10:59:59                                        3519.952954    \n",
              "\n",
              "                     rougher.calculation.au_pb_ratio  \\\n",
              "date                                                   \n",
              "2016-01-15 00:00:00                         2.838687   \n",
              "2016-01-15 01:00:00                         2.858998   \n",
              "2016-01-15 02:00:00                         2.945989   \n",
              "2016-01-15 03:00:00                         3.002340   \n",
              "2016-01-15 04:00:00                         3.169615   \n",
              "...                                              ...   \n",
              "2018-08-18 06:59:59                         2.556827   \n",
              "2018-08-18 07:59:59                         2.546601   \n",
              "2018-08-18 08:59:59                         2.687395   \n",
              "2018-08-18 09:59:59                         2.940927   \n",
              "2018-08-18 10:59:59                         2.717442   \n",
              "\n",
              "                     rougher.output.concentrate_au  \\\n",
              "date                                                 \n",
              "2016-01-15 00:00:00                      19.793808   \n",
              "2016-01-15 01:00:00                      20.050975   \n",
              "2016-01-15 02:00:00                      19.737170   \n",
              "2016-01-15 03:00:00                      19.320810   \n",
              "2016-01-15 04:00:00                      19.216101   \n",
              "...                                            ...   \n",
              "2018-08-18 06:59:59                      18.470301   \n",
              "2018-08-18 07:59:59                      19.041308   \n",
              "2018-08-18 08:59:59                      19.270994   \n",
              "2018-08-18 09:59:59                      19.620480   \n",
              "2018-08-18 10:59:59                      19.497669   \n",
              "\n",
              "                     rougher.output.concentrate_ag  \\\n",
              "date                                                 \n",
              "2016-01-15 00:00:00                      11.500771   \n",
              "2016-01-15 01:00:00                      11.615865   \n",
              "2016-01-15 02:00:00                      11.695753   \n",
              "2016-01-15 03:00:00                      11.915047   \n",
              "2016-01-15 04:00:00                      12.411054   \n",
              "...                                            ...   \n",
              "2018-08-18 06:59:59                      11.039123   \n",
              "2018-08-18 07:59:59                      11.231501   \n",
              "2018-08-18 08:59:59                      11.309414   \n",
              "2018-08-18 09:59:59                      11.528770   \n",
              "2018-08-18 10:59:59                      11.116297   \n",
              "\n",
              "                     rougher.output.concentrate_pb  \\\n",
              "date                                                 \n",
              "2016-01-15 00:00:00                       7.101074   \n",
              "2016-01-15 01:00:00                       7.278807   \n",
              "2016-01-15 02:00:00                       7.216833   \n",
              "2016-01-15 03:00:00                       7.175616   \n",
              "2016-01-15 04:00:00                       7.240205   \n",
              "...                                            ...   \n",
              "2018-08-18 06:59:59                       7.405501   \n",
              "2018-08-18 07:59:59                       7.467612   \n",
              "2018-08-18 08:59:59                       7.244361   \n",
              "2018-08-18 09:59:59                       7.091962   \n",
              "2018-08-18 10:59:59                       7.297363   \n",
              "\n",
              "                     rougher.output.concentrate_sol  rougher.output.recovery  \\\n",
              "date                                                                           \n",
              "2016-01-15 00:00:00                       28.029297                87.107763   \n",
              "2016-01-15 01:00:00                       28.067063                86.843261   \n",
              "2016-01-15 02:00:00                       27.454037                86.842308   \n",
              "2016-01-15 03:00:00                       27.341277                87.226430   \n",
              "2016-01-15 04:00:00                       27.041023                86.688794   \n",
              "...                                             ...                      ...   \n",
              "2018-08-18 06:59:59                       25.960548                85.462226   \n",
              "2018-08-18 07:59:59                       27.231114                85.443505   \n",
              "2018-08-18 08:59:59                       27.324612                87.235441   \n",
              "2018-08-18 09:59:59                       27.774855                89.299981   \n",
              "2018-08-18 10:59:59                       27.497520                87.650868   \n",
              "\n",
              "                     rougher.output.tail_au  rougher.output.tail_ag  \\\n",
              "date                                                                  \n",
              "2016-01-15 00:00:00                1.170244                5.008018   \n",
              "2016-01-15 01:00:00                1.184827                4.955378   \n",
              "2016-01-15 02:00:00                1.162562                4.843460   \n",
              "2016-01-15 03:00:00                1.079755                4.655288   \n",
              "2016-01-15 04:00:00                1.012642                4.552800   \n",
              "...                                     ...                     ...   \n",
              "2018-08-18 06:59:59                1.387434                4.949871   \n",
              "2018-08-18 07:59:59                1.406886                4.930477   \n",
              "2018-08-18 08:59:59                1.208540                4.785475   \n",
              "2018-08-18 09:59:59                1.031923                4.559246   \n",
              "2018-08-18 10:59:59                1.167140                4.667157   \n",
              "\n",
              "                     rougher.output.tail_pb  rougher.output.tail_sol  \\\n",
              "date                                                                   \n",
              "2016-01-15 00:00:00                0.508728                19.154297   \n",
              "2016-01-15 01:00:00                0.536689                18.965234   \n",
              "2016-01-15 02:00:00                0.546416                18.808533   \n",
              "2016-01-15 03:00:00                0.542525                19.330200   \n",
              "2016-01-15 04:00:00                0.515438                19.267422   \n",
              "...                                     ...                      ...   \n",
              "2018-08-18 06:59:59                0.754358                20.634540   \n",
              "2018-08-18 07:59:59                0.749174                19.764783   \n",
              "2018-08-18 08:59:59                0.630120                19.901033   \n",
              "2018-08-18 09:59:59                0.557099                20.067665   \n",
              "2018-08-18 10:59:59                0.615418                18.907179   \n",
              "\n",
              "                     primary_cleaner.input.sulfate  \\\n",
              "date                                                 \n",
              "2016-01-15 00:00:00                     127.092003   \n",
              "2016-01-15 01:00:00                     125.629232   \n",
              "2016-01-15 02:00:00                     123.819808   \n",
              "2016-01-15 03:00:00                     122.270188   \n",
              "2016-01-15 04:00:00                     117.988169   \n",
              "...                                            ...   \n",
              "2018-08-18 06:59:59                     150.944211   \n",
              "2018-08-18 07:59:59                     147.591165   \n",
              "2018-08-18 08:59:59                     144.447728   \n",
              "2018-08-18 09:59:59                     147.944885   \n",
              "2018-08-18 10:59:59                     138.120409   \n",
              "\n",
              "                     primary_cleaner.input.depressant  \\\n",
              "date                                                    \n",
              "2016-01-15 00:00:00                         10.128295   \n",
              "2016-01-15 01:00:00                         10.296251   \n",
              "2016-01-15 02:00:00                         11.316280   \n",
              "2016-01-15 03:00:00                         11.322140   \n",
              "2016-01-15 04:00:00                         11.913613   \n",
              "...                                               ...   \n",
              "2018-08-18 06:59:59                         12.516814   \n",
              "2018-08-18 07:59:59                         12.517364   \n",
              "2018-08-18 08:59:59                         12.499446   \n",
              "2018-08-18 09:59:59                         12.481529   \n",
              "2018-08-18 10:59:59                         12.464032   \n",
              "\n",
              "                     primary_cleaner.input.feed_size  \\\n",
              "date                                                   \n",
              "2016-01-15 00:00:00                             7.25   \n",
              "2016-01-15 01:00:00                             7.25   \n",
              "2016-01-15 02:00:00                             7.25   \n",
              "2016-01-15 03:00:00                             7.25   \n",
              "2016-01-15 04:00:00                             7.25   \n",
              "...                                              ...   \n",
              "2018-08-18 06:59:59                             7.25   \n",
              "2018-08-18 07:59:59                             7.25   \n",
              "2018-08-18 08:59:59                             7.25   \n",
              "2018-08-18 09:59:59                             7.25   \n",
              "2018-08-18 10:59:59                             7.25   \n",
              "\n",
              "                     primary_cleaner.input.xanthate  \\\n",
              "date                                                  \n",
              "2016-01-15 00:00:00                        0.988759   \n",
              "2016-01-15 01:00:00                        1.002663   \n",
              "2016-01-15 02:00:00                        0.991265   \n",
              "2016-01-15 03:00:00                        0.996739   \n",
              "2016-01-15 04:00:00                        1.009869   \n",
              "...                                             ...   \n",
              "2018-08-18 06:59:59                        1.005121   \n",
              "2018-08-18 07:59:59                        0.959430   \n",
              "2018-08-18 08:59:59                        0.904020   \n",
              "2018-08-18 09:59:59                        0.893913   \n",
              "2018-08-18 10:59:59                        0.898779   \n",
              "\n",
              "                     primary_cleaner.state.floatbank8_a_air  \\\n",
              "date                                                          \n",
              "2016-01-15 00:00:00                             1549.775757   \n",
              "2016-01-15 01:00:00                             1576.166671   \n",
              "2016-01-15 02:00:00                             1601.556163   \n",
              "2016-01-15 03:00:00                             1599.968720   \n",
              "2016-01-15 04:00:00                             1601.339707   \n",
              "...                                                     ...   \n",
              "2018-08-18 06:59:59                             1599.713324   \n",
              "2018-08-18 07:59:59                             1602.999120   \n",
              "2018-08-18 08:59:59                             1596.610313   \n",
              "2018-08-18 09:59:59                             1603.053015   \n",
              "2018-08-18 10:59:59                             1603.436598   \n",
              "\n",
              "                     primary_cleaner.state.floatbank8_a_level  \\\n",
              "date                                                            \n",
              "2016-01-15 00:00:00                               -498.912140   \n",
              "2016-01-15 01:00:00                               -500.904965   \n",
              "2016-01-15 02:00:00                               -499.997791   \n",
              "2016-01-15 03:00:00                               -500.951778   \n",
              "2016-01-15 04:00:00                               -498.975456   \n",
              "...                                                       ...   \n",
              "2018-08-18 06:59:59                               -500.811273   \n",
              "2018-08-18 07:59:59                               -500.526448   \n",
              "2018-08-18 08:59:59                               -499.416573   \n",
              "2018-08-18 09:59:59                               -499.728573   \n",
              "2018-08-18 10:59:59                               -499.864400   \n",
              "\n",
              "                     primary_cleaner.state.floatbank8_b_air  \\\n",
              "date                                                          \n",
              "2016-01-15 00:00:00                             1551.434204   \n",
              "2016-01-15 01:00:00                             1575.950626   \n",
              "2016-01-15 02:00:00                             1600.386685   \n",
              "2016-01-15 03:00:00                             1600.659236   \n",
              "2016-01-15 04:00:00                             1601.437854   \n",
              "...                                                     ...   \n",
              "2018-08-18 06:59:59                             1596.499220   \n",
              "2018-08-18 07:59:59                             1597.866105   \n",
              "2018-08-18 08:59:59                             1597.325921   \n",
              "2018-08-18 09:59:59                             1600.537532   \n",
              "2018-08-18 10:59:59                             1597.455353   \n",
              "\n",
              "                     primary_cleaner.state.floatbank8_b_level  \\\n",
              "date                                                            \n",
              "2016-01-15 00:00:00                               -516.403442   \n",
              "2016-01-15 01:00:00                               -499.865889   \n",
              "2016-01-15 02:00:00                               -500.607762   \n",
              "2016-01-15 03:00:00                               -499.677094   \n",
              "2016-01-15 04:00:00                               -500.323246   \n",
              "...                                                       ...   \n",
              "2018-08-18 06:59:59                               -499.189257   \n",
              "2018-08-18 07:59:59                               -499.798253   \n",
              "2018-08-18 08:59:59                               -499.944194   \n",
              "2018-08-18 09:59:59                               -500.096021   \n",
              "2018-08-18 10:59:59                               -500.266905   \n",
              "\n",
              "                     primary_cleaner.state.floatbank8_c_air  \\\n",
              "date                                                          \n",
              "2016-01-15 00:00:00                             1549.873901   \n",
              "2016-01-15 01:00:00                             1575.994189   \n",
              "2016-01-15 02:00:00                             1602.003542   \n",
              "2016-01-15 03:00:00                             1600.304144   \n",
              "2016-01-15 04:00:00                             1599.581894   \n",
              "...                                                     ...   \n",
              "2018-08-18 06:59:59                             1599.635875   \n",
              "2018-08-18 07:59:59                             1598.796914   \n",
              "2018-08-18 08:59:59                             1601.441880   \n",
              "2018-08-18 09:59:59                             1597.568005   \n",
              "2018-08-18 10:59:59                             1600.747882   \n",
              "\n",
              "                     primary_cleaner.state.floatbank8_c_level  \\\n",
              "date                                                            \n",
              "2016-01-15 00:00:00                               -498.666595   \n",
              "2016-01-15 01:00:00                               -499.315107   \n",
              "2016-01-15 02:00:00                               -500.870069   \n",
              "2016-01-15 03:00:00                               -500.727997   \n",
              "2016-01-15 04:00:00                               -500.888152   \n",
              "...                                                       ...   \n",
              "2018-08-18 06:59:59                               -500.178569   \n",
              "2018-08-18 07:59:59                               -498.214347   \n",
              "2018-08-18 08:59:59                               -499.658913   \n",
              "2018-08-18 09:59:59                               -499.601040   \n",
              "2018-08-18 10:59:59                               -500.541002   \n",
              "\n",
              "                     primary_cleaner.state.floatbank8_d_air  \\\n",
              "date                                                          \n",
              "2016-01-15 00:00:00                             1554.367432   \n",
              "2016-01-15 01:00:00                             1574.479259   \n",
              "2016-01-15 02:00:00                             1599.541515   \n",
              "2016-01-15 03:00:00                             1600.449520   \n",
              "2016-01-15 04:00:00                             1602.649541   \n",
              "...                                                     ...   \n",
              "2018-08-18 06:59:59                             1598.888237   \n",
              "2018-08-18 07:59:59                             1597.075286   \n",
              "2018-08-18 08:59:59                             1599.758645   \n",
              "2018-08-18 09:59:59                             1599.213513   \n",
              "2018-08-18 10:59:59                             1599.754053   \n",
              "\n",
              "                     primary_cleaner.state.floatbank8_d_level  \\\n",
              "date                                                            \n",
              "2016-01-15 00:00:00                               -493.428131   \n",
              "2016-01-15 01:00:00                               -498.931665   \n",
              "2016-01-15 02:00:00                               -499.827444   \n",
              "2016-01-15 03:00:00                               -500.052575   \n",
              "2016-01-15 04:00:00                               -500.593010   \n",
              "...                                                       ...   \n",
              "2018-08-18 06:59:59                               -499.112223   \n",
              "2018-08-18 07:59:59                               -499.158291   \n",
              "2018-08-18 08:59:59                               -501.149616   \n",
              "2018-08-18 09:59:59                               -500.964698   \n",
              "2018-08-18 10:59:59                               -499.216962   \n",
              "\n",
              "                     primary_cleaner.output.concentrate_au  \\\n",
              "date                                                         \n",
              "2016-01-15 00:00:00                              34.174427   \n",
              "2016-01-15 01:00:00                              34.118526   \n",
              "2016-01-15 02:00:00                              33.969464   \n",
              "2016-01-15 03:00:00                              28.260743   \n",
              "2016-01-15 04:00:00                              33.044932   \n",
              "...                                                    ...   \n",
              "2018-08-18 06:59:59                              22.132642   \n",
              "2018-08-18 07:59:59                              33.800422   \n",
              "2018-08-18 08:59:59                              35.644428   \n",
              "2018-08-18 09:59:59                              28.081869   \n",
              "2018-08-18 10:59:59                              34.826500   \n",
              "\n",
              "                     primary_cleaner.output.concentrate_ag  \\\n",
              "date                                                         \n",
              "2016-01-15 00:00:00                               8.547551   \n",
              "2016-01-15 01:00:00                               8.558743   \n",
              "2016-01-15 02:00:00                               8.603505   \n",
              "2016-01-15 03:00:00                               7.221879   \n",
              "2016-01-15 04:00:00                               9.089428   \n",
              "...                                                    ...   \n",
              "2018-08-18 06:59:59                               5.775645   \n",
              "2018-08-18 07:59:59                               8.273869   \n",
              "2018-08-18 08:59:59                               7.842272   \n",
              "2018-08-18 09:59:59                               5.899284   \n",
              "2018-08-18 10:59:59                               8.098985   \n",
              "\n",
              "                     primary_cleaner.output.concentrate_pb  \\\n",
              "date                                                         \n",
              "2016-01-15 00:00:00                              10.389648   \n",
              "2016-01-15 01:00:00                              10.497069   \n",
              "2016-01-15 02:00:00                              10.354494   \n",
              "2016-01-15 03:00:00                               8.496563   \n",
              "2016-01-15 04:00:00                               9.986786   \n",
              "...                                                    ...   \n",
              "2018-08-18 06:59:59                               7.112666   \n",
              "2018-08-18 07:59:59                              11.090304   \n",
              "2018-08-18 08:59:59                              10.519069   \n",
              "2018-08-18 09:59:59                               8.154167   \n",
              "2018-08-18 10:59:59                              10.525324   \n",
              "\n",
              "                     primary_cleaner.output.concentrate_sol  \\\n",
              "date                                                          \n",
              "2016-01-15 00:00:00                               19.529297   \n",
              "2016-01-15 01:00:00                               19.369147   \n",
              "2016-01-15 02:00:00                               19.167579   \n",
              "2016-01-15 03:00:00                               15.978538   \n",
              "2016-01-15 04:00:00                               19.199864   \n",
              "...                                                     ...   \n",
              "2018-08-18 06:59:59                               12.377102   \n",
              "2018-08-18 07:59:59                               18.542572   \n",
              "2018-08-18 08:59:59                               18.827480   \n",
              "2018-08-18 09:59:59                               14.301345   \n",
              "2018-08-18 10:59:59                               18.436589   \n",
              "\n",
              "                     primary_cleaner.output.tail_au  \\\n",
              "date                                                  \n",
              "2016-01-15 00:00:00                        2.106679   \n",
              "2016-01-15 01:00:00                        2.353017   \n",
              "2016-01-15 02:00:00                        2.416800   \n",
              "2016-01-15 03:00:00                        2.262051   \n",
              "2016-01-15 04:00:00                        2.277073   \n",
              "...                                             ...   \n",
              "2018-08-18 06:59:59                        2.020822   \n",
              "2018-08-18 07:59:59                        2.179186   \n",
              "2018-08-18 08:59:59                        1.872079   \n",
              "2018-08-18 09:59:59                        1.874228   \n",
              "2018-08-18 10:59:59                        2.025454   \n",
              "\n",
              "                     primary_cleaner.output.tail_ag  \\\n",
              "date                                                  \n",
              "2016-01-15 00:00:00                       14.936526   \n",
              "2016-01-15 01:00:00                       16.250511   \n",
              "2016-01-15 02:00:00                       16.491823   \n",
              "2016-01-15 03:00:00                       16.024359   \n",
              "2016-01-15 04:00:00                       16.480185   \n",
              "...                                             ...   \n",
              "2018-08-18 06:59:59                       15.316786   \n",
              "2018-08-18 07:59:59                       15.888505   \n",
              "2018-08-18 08:59:59                       16.108364   \n",
              "2018-08-18 09:59:59                       15.993499   \n",
              "2018-08-18 10:59:59                       15.535214   \n",
              "\n",
              "                     primary_cleaner.output.tail_pb  \\\n",
              "date                                                  \n",
              "2016-01-15 00:00:00                        2.534912   \n",
              "2016-01-15 01:00:00                        3.049646   \n",
              "2016-01-15 02:00:00                        3.124664   \n",
              "2016-01-15 03:00:00                        2.960362   \n",
              "2016-01-15 04:00:00                        3.112100   \n",
              "...                                             ...   \n",
              "2018-08-18 06:59:59                        2.843019   \n",
              "2018-08-18 07:59:59                        3.078792   \n",
              "2018-08-18 08:59:59                        3.082925   \n",
              "2018-08-18 09:59:59                        3.077749   \n",
              "2018-08-18 10:59:59                        2.866688   \n",
              "\n",
              "                     primary_cleaner.output.tail_sol  \\\n",
              "date                                                   \n",
              "2016-01-15 00:00:00                         7.476074   \n",
              "2016-01-15 01:00:00                         6.733907   \n",
              "2016-01-15 02:00:00                         6.471768   \n",
              "2016-01-15 03:00:00                         6.843791   \n",
              "2016-01-15 04:00:00                         6.550154   \n",
              "...                                              ...   \n",
              "2018-08-18 06:59:59                         7.608820   \n",
              "2018-08-18 07:59:59                         7.166831   \n",
              "2018-08-18 08:59:59                         7.684671   \n",
              "2018-08-18 09:59:59                         7.312664   \n",
              "2018-08-18 10:59:59                         7.265906   \n",
              "\n",
              "                     secondary_cleaner.state.floatbank2_a_air  \\\n",
              "date                                                            \n",
              "2016-01-15 00:00:00                                 25.853109   \n",
              "2016-01-15 01:00:00                                 25.880539   \n",
              "2016-01-15 02:00:00                                 26.005245   \n",
              "2016-01-15 03:00:00                                 25.942508   \n",
              "2016-01-15 04:00:00                                 26.024787   \n",
              "...                                                       ...   \n",
              "2018-08-18 06:59:59                                 26.008972   \n",
              "2018-08-18 07:59:59                                 26.019475   \n",
              "2018-08-18 08:59:59                                 25.953364   \n",
              "2018-08-18 09:59:59                                 26.111929   \n",
              "2018-08-18 10:59:59                                 26.059510   \n",
              "\n",
              "                     secondary_cleaner.state.floatbank2_a_level  \\\n",
              "date                                                              \n",
              "2016-01-15 00:00:00                                 -498.526489   \n",
              "2016-01-15 01:00:00                                 -499.989656   \n",
              "2016-01-15 02:00:00                                 -499.929616   \n",
              "2016-01-15 03:00:00                                 -499.176749   \n",
              "2016-01-15 04:00:00                                 -500.279091   \n",
              "...                                                         ...   \n",
              "2018-08-18 06:59:59                                 -500.410938   \n",
              "2018-08-18 07:59:59                                 -499.818693   \n",
              "2018-08-18 08:59:59                                 -501.033038   \n",
              "2018-08-18 09:59:59                                 -499.496608   \n",
              "2018-08-18 10:59:59                                 -499.151646   \n",
              "\n",
              "                     secondary_cleaner.state.floatbank2_b_air  \\\n",
              "date                                                            \n",
              "2016-01-15 00:00:00                                 23.893660   \n",
              "2016-01-15 01:00:00                                 23.889530   \n",
              "2016-01-15 02:00:00                                 23.886657   \n",
              "2016-01-15 03:00:00                                 23.955516   \n",
              "2016-01-15 04:00:00                                 23.955345   \n",
              "...                                                       ...   \n",
              "2018-08-18 06:59:59                                 24.075851   \n",
              "2018-08-18 07:59:59                                 23.991310   \n",
              "2018-08-18 08:59:59                                 24.039465   \n",
              "2018-08-18 09:59:59                                 24.094419   \n",
              "2018-08-18 10:59:59                                 23.934570   \n",
              "\n",
              "                     secondary_cleaner.state.floatbank2_b_level  \\\n",
              "date                                                              \n",
              "2016-01-15 00:00:00                                 -501.406281   \n",
              "2016-01-15 01:00:00                                 -500.372428   \n",
              "2016-01-15 02:00:00                                 -499.951928   \n",
              "2016-01-15 03:00:00                                 -499.848796   \n",
              "2016-01-15 04:00:00                                 -500.593614   \n",
              "...                                                         ...   \n",
              "2018-08-18 06:59:59                                 -499.647030   \n",
              "2018-08-18 07:59:59                                 -500.888315   \n",
              "2018-08-18 08:59:59                                 -500.088979   \n",
              "2018-08-18 09:59:59                                 -500.250900   \n",
              "2018-08-18 10:59:59                                 -499.351758   \n",
              "\n",
              "                     secondary_cleaner.state.floatbank3_a_air  \\\n",
              "date                                                            \n",
              "2016-01-15 00:00:00                                 23.961798   \n",
              "2016-01-15 01:00:00                                 23.970550   \n",
              "2016-01-15 02:00:00                                 23.913535   \n",
              "2016-01-15 03:00:00                                 23.966838   \n",
              "2016-01-15 04:00:00                                 23.985703   \n",
              "...                                                       ...   \n",
              "2018-08-18 06:59:59                                 23.969678   \n",
              "2018-08-18 07:59:59                                 24.026801   \n",
              "2018-08-18 08:59:59                                 24.010117   \n",
              "2018-08-18 09:59:59                                 23.945513   \n",
              "2018-08-18 10:59:59                                 23.994184   \n",
              "\n",
              "                     secondary_cleaner.state.floatbank3_a_level  \\\n",
              "date                                                              \n",
              "2016-01-15 00:00:00                                 -495.262817   \n",
              "2016-01-15 01:00:00                                 -500.085473   \n",
              "2016-01-15 02:00:00                                 -499.442343   \n",
              "2016-01-15 03:00:00                                 -500.008812   \n",
              "2016-01-15 04:00:00                                 -500.083811   \n",
              "...                                                         ...   \n",
              "2018-08-18 06:59:59                                 -500.207930   \n",
              "2018-08-18 07:59:59                                 -499.856287   \n",
              "2018-08-18 08:59:59                                 -499.705384   \n",
              "2018-08-18 09:59:59                                 -500.816108   \n",
              "2018-08-18 10:59:59                                 -500.078566   \n",
              "\n",
              "                     secondary_cleaner.state.floatbank3_b_air  \\\n",
              "date                                                            \n",
              "2016-01-15 00:00:00                                 21.940409   \n",
              "2016-01-15 01:00:00                                 22.085714   \n",
              "2016-01-15 02:00:00                                 23.957717   \n",
              "2016-01-15 03:00:00                                 23.954443   \n",
              "2016-01-15 04:00:00                                 23.958945   \n",
              "...                                                       ...   \n",
              "2018-08-18 06:59:59                                 23.978896   \n",
              "2018-08-18 07:59:59                                 23.959707   \n",
              "2018-08-18 08:59:59                                 24.024501   \n",
              "2018-08-18 09:59:59                                 23.995434   \n",
              "2018-08-18 10:59:59                                 23.924481   \n",
              "\n",
              "                     secondary_cleaner.state.floatbank3_b_level  \\\n",
              "date                                                              \n",
              "2016-01-15 00:00:00                                 -499.340973   \n",
              "2016-01-15 01:00:00                                 -499.446897   \n",
              "2016-01-15 02:00:00                                 -499.901982   \n",
              "2016-01-15 03:00:00                                 -499.944710   \n",
              "2016-01-15 04:00:00                                 -499.990309   \n",
              "...                                                         ...   \n",
              "2018-08-18 06:59:59                                 -499.862885   \n",
              "2018-08-18 07:59:59                                 -500.428539   \n",
              "2018-08-18 08:59:59                                 -499.466383   \n",
              "2018-08-18 09:59:59                                 -499.761541   \n",
              "2018-08-18 10:59:59                                 -499.989024   \n",
              "\n",
              "                     secondary_cleaner.state.floatbank4_a_air  \\\n",
              "date                                                            \n",
              "2016-01-15 00:00:00                                 14.016835   \n",
              "2016-01-15 01:00:00                                 13.992281   \n",
              "2016-01-15 02:00:00                                 14.015015   \n",
              "2016-01-15 03:00:00                                 14.036510   \n",
              "2016-01-15 04:00:00                                 14.027298   \n",
              "...                                                       ...   \n",
              "2018-08-18 06:59:59                                 14.003057   \n",
              "2018-08-18 07:59:59                                 14.031220   \n",
              "2018-08-18 08:59:59                                 13.996317   \n",
              "2018-08-18 09:59:59                                 13.983963   \n",
              "2018-08-18 10:59:59                                 13.989632   \n",
              "\n",
              "                     secondary_cleaner.state.floatbank4_a_level  \\\n",
              "date                                                              \n",
              "2016-01-15 00:00:00                                 -502.488007   \n",
              "2016-01-15 01:00:00                                 -505.503262   \n",
              "2016-01-15 02:00:00                                 -502.520901   \n",
              "2016-01-15 03:00:00                                 -500.857308   \n",
              "2016-01-15 04:00:00                                 -499.838632   \n",
              "...                                                         ...   \n",
              "2018-08-18 06:59:59                                 -503.152258   \n",
              "2018-08-18 07:59:59                                 -503.471307   \n",
              "2018-08-18 08:59:59                                 -502.995300   \n",
              "2018-08-18 09:59:59                                 -503.675714   \n",
              "2018-08-18 10:59:59                                 -503.195299   \n",
              "\n",
              "                     secondary_cleaner.state.floatbank4_b_air  \\\n",
              "date                                                            \n",
              "2016-01-15 00:00:00                                 12.099931   \n",
              "2016-01-15 01:00:00                                 11.950531   \n",
              "2016-01-15 02:00:00                                 11.912783   \n",
              "2016-01-15 03:00:00                                 11.999550   \n",
              "2016-01-15 04:00:00                                 11.953070   \n",
              "...                                                       ...   \n",
              "2018-08-18 06:59:59                                 12.016724   \n",
              "2018-08-18 07:59:59                                 11.966426   \n",
              "2018-08-18 08:59:59                                 11.980055   \n",
              "2018-08-18 09:59:59                                 11.928745   \n",
              "2018-08-18 10:59:59                                 12.052233   \n",
              "\n",
              "                     secondary_cleaner.state.floatbank4_b_level  \\\n",
              "date                                                              \n",
              "2016-01-15 00:00:00                                 -504.715942   \n",
              "2016-01-15 01:00:00                                 -501.331529   \n",
              "2016-01-15 02:00:00                                 -501.133383   \n",
              "2016-01-15 03:00:00                                 -501.193686   \n",
              "2016-01-15 04:00:00                                 -501.053894   \n",
              "...                                                         ...   \n",
              "2018-08-18 06:59:59                                 -501.136446   \n",
              "2018-08-18 07:59:59                                 -500.656842   \n",
              "2018-08-18 08:59:59                                 -500.607751   \n",
              "2018-08-18 09:59:59                                 -500.583183   \n",
              "2018-08-18 10:59:59                                 -500.928547   \n",
              "\n",
              "                     secondary_cleaner.state.floatbank5_a_air  \\\n",
              "date                                                            \n",
              "2016-01-15 00:00:00                                  9.925633   \n",
              "2016-01-15 01:00:00                                 10.039245   \n",
              "2016-01-15 02:00:00                                 10.070913   \n",
              "2016-01-15 03:00:00                                  9.970366   \n",
              "2016-01-15 04:00:00                                  9.925709   \n",
              "...                                                       ...   \n",
              "2018-08-18 06:59:59                                 10.041864   \n",
              "2018-08-18 07:59:59                                 10.051620   \n",
              "2018-08-18 08:59:59                                  9.964501   \n",
              "2018-08-18 09:59:59                                  9.970359   \n",
              "2018-08-18 10:59:59                                  9.962574   \n",
              "\n",
              "                     secondary_cleaner.state.floatbank5_a_level  \\\n",
              "date                                                              \n",
              "2016-01-15 00:00:00                                 -498.310211   \n",
              "2016-01-15 01:00:00                                 -500.169983   \n",
              "2016-01-15 02:00:00                                 -500.129135   \n",
              "2016-01-15 03:00:00                                 -499.201640   \n",
              "2016-01-15 04:00:00                                 -501.686727   \n",
              "...                                                         ...   \n",
              "2018-08-18 06:59:59                                 -499.338844   \n",
              "2018-08-18 07:59:59                                 -498.318772   \n",
              "2018-08-18 08:59:59                                 -499.261719   \n",
              "2018-08-18 09:59:59                                 -498.822343   \n",
              "2018-08-18 10:59:59                                 -502.986357   \n",
              "\n",
              "                     secondary_cleaner.state.floatbank5_b_air  \\\n",
              "date                                                            \n",
              "2016-01-15 00:00:00                                  8.079666   \n",
              "2016-01-15 01:00:00                                  7.984757   \n",
              "2016-01-15 02:00:00                                  8.013877   \n",
              "2016-01-15 03:00:00                                  7.977324   \n",
              "2016-01-15 04:00:00                                  7.894242   \n",
              "...                                                       ...   \n",
              "2018-08-18 06:59:59                                  8.007022   \n",
              "2018-08-18 07:59:59                                  8.018091   \n",
              "2018-08-18 08:59:59                                  8.065048   \n",
              "2018-08-18 09:59:59                                  8.016377   \n",
              "2018-08-18 10:59:59                                  7.979219   \n",
              "\n",
              "                     secondary_cleaner.state.floatbank5_b_level  \\\n",
              "date                                                              \n",
              "2016-01-15 00:00:00                                 -500.470978   \n",
              "2016-01-15 01:00:00                                 -500.582168   \n",
              "2016-01-15 02:00:00                                 -500.517572   \n",
              "2016-01-15 03:00:00                                 -500.255908   \n",
              "2016-01-15 04:00:00                                 -500.356035   \n",
              "...                                                         ...   \n",
              "2018-08-18 06:59:59                                 -500.279583   \n",
              "2018-08-18 07:59:59                                 -499.696138   \n",
              "2018-08-18 08:59:59                                 -499.492395   \n",
              "2018-08-18 09:59:59                                 -499.013145   \n",
              "2018-08-18 10:59:59                                 -500.146835   \n",
              "\n",
              "                     secondary_cleaner.state.floatbank6_a_air  \\\n",
              "date                                                            \n",
              "2016-01-15 00:00:00                                 14.151341   \n",
              "2016-01-15 01:00:00                                 13.998353   \n",
              "2016-01-15 02:00:00                                 14.028663   \n",
              "2016-01-15 03:00:00                                 14.005551   \n",
              "2016-01-15 04:00:00                                 13.996647   \n",
              "...                                                       ...   \n",
              "2018-08-18 06:59:59                                 14.001271   \n",
              "2018-08-18 07:59:59                                 13.958937   \n",
              "2018-08-18 08:59:59                                 13.997801   \n",
              "2018-08-18 09:59:59                                 14.000032   \n",
              "2018-08-18 10:59:59                                 13.981614   \n",
              "\n",
              "                     secondary_cleaner.state.floatbank6_a_level  \\\n",
              "date                                                              \n",
              "2016-01-15 00:00:00                                 -605.841980   \n",
              "2016-01-15 01:00:00                                 -599.787184   \n",
              "2016-01-15 02:00:00                                 -601.427363   \n",
              "2016-01-15 03:00:00                                 -599.996129   \n",
              "2016-01-15 04:00:00                                 -601.496691   \n",
              "...                                                         ...   \n",
              "2018-08-18 06:59:59                                 -602.072365   \n",
              "2018-08-18 07:59:59                                 -599.213013   \n",
              "2018-08-18 08:59:59                                 -600.621416   \n",
              "2018-08-18 09:59:59                                 -600.024741   \n",
              "2018-08-18 10:59:59                                 -598.070855   \n",
              "\n",
              "                     secondary_cleaner.output.tail_au  \\\n",
              "date                                                    \n",
              "2016-01-15 00:00:00                          2.606185   \n",
              "2016-01-15 01:00:00                          2.488248   \n",
              "2016-01-15 02:00:00                          2.458187   \n",
              "2016-01-15 03:00:00                          2.322062   \n",
              "2016-01-15 04:00:00                          2.330448   \n",
              "...                                               ...   \n",
              "2018-08-18 06:59:59                          2.073936   \n",
              "2018-08-18 07:59:59                          2.245725   \n",
              "2018-08-18 08:59:59                          1.965589   \n",
              "2018-08-18 09:59:59                          1.868321   \n",
              "2018-08-18 10:59:59                          2.073737   \n",
              "\n",
              "                     secondary_cleaner.output.tail_ag  \\\n",
              "date                                                    \n",
              "2016-01-15 00:00:00                         14.500184   \n",
              "2016-01-15 01:00:00                         14.265474   \n",
              "2016-01-15 02:00:00                         14.115662   \n",
              "2016-01-15 03:00:00                         13.732071   \n",
              "2016-01-15 04:00:00                         14.079996   \n",
              "...                                               ...   \n",
              "2018-08-18 06:59:59                         12.740218   \n",
              "2018-08-18 07:59:59                         13.176513   \n",
              "2018-08-18 08:59:59                         14.372378   \n",
              "2018-08-18 09:59:59                         13.795229   \n",
              "2018-08-18 10:59:59                         13.209191   \n",
              "\n",
              "                     secondary_cleaner.output.tail_pb  \\\n",
              "date                                                    \n",
              "2016-01-15 00:00:00                          4.694824   \n",
              "2016-01-15 01:00:00                          4.592547   \n",
              "2016-01-15 02:00:00                          4.624775   \n",
              "2016-01-15 03:00:00                          4.482453   \n",
              "2016-01-15 04:00:00                          4.470737   \n",
              "...                                               ...   \n",
              "2018-08-18 06:59:59                          4.460185   \n",
              "2018-08-18 07:59:59                          4.656804   \n",
              "2018-08-18 08:59:59                          4.402372   \n",
              "2018-08-18 09:59:59                          4.576720   \n",
              "2018-08-18 10:59:59                          4.550553   \n",
              "\n",
              "                     secondary_cleaner.output.tail_sol  \\\n",
              "date                                                     \n",
              "2016-01-15 00:00:00                           8.764648   \n",
              "2016-01-15 01:00:00                           9.001494   \n",
              "2016-01-15 02:00:00                           8.842896   \n",
              "2016-01-15 03:00:00                           9.122857   \n",
              "2016-01-15 04:00:00                           8.871028   \n",
              "...                                                ...   \n",
              "2018-08-18 06:59:59                          10.013738   \n",
              "2018-08-18 07:59:59                           9.841210   \n",
              "2018-08-18 08:59:59                          10.119344   \n",
              "2018-08-18 09:59:59                           9.876374   \n",
              "2018-08-18 10:59:59                           9.813732   \n",
              "\n",
              "                     final.output.concentrate_au  final.output.concentrate_ag  \\\n",
              "date                                                                            \n",
              "2016-01-15 00:00:00                    42.192020                     6.055403   \n",
              "2016-01-15 01:00:00                    42.701629                     6.029369   \n",
              "2016-01-15 02:00:00                    42.657501                     6.055926   \n",
              "2016-01-15 03:00:00                    42.689819                     6.047977   \n",
              "2016-01-15 04:00:00                    42.774141                     6.148599   \n",
              "...                                          ...                          ...   \n",
              "2018-08-18 06:59:59                    42.435181                     5.719113   \n",
              "2018-08-18 07:59:59                    43.440341                     5.410126   \n",
              "2018-08-18 08:59:59                    44.284117                     5.437716   \n",
              "2018-08-18 09:59:59                    43.339714                     5.664983   \n",
              "2018-08-18 10:59:59                    43.235220                     5.687063   \n",
              "\n",
              "                     final.output.concentrate_pb  \\\n",
              "date                                               \n",
              "2016-01-15 00:00:00                     9.889648   \n",
              "2016-01-15 01:00:00                     9.968944   \n",
              "2016-01-15 02:00:00                    10.213995   \n",
              "2016-01-15 03:00:00                     9.977019   \n",
              "2016-01-15 04:00:00                    10.142511   \n",
              "...                                          ...   \n",
              "2018-08-18 06:59:59                    10.621027   \n",
              "2018-08-18 07:59:59                    10.868937   \n",
              "2018-08-18 08:59:59                     9.781181   \n",
              "2018-08-18 09:59:59                    10.168953   \n",
              "2018-08-18 10:59:59                     9.980404   \n",
              "\n",
              "                     final.output.concentrate_sol  final.output.recovery  \\\n",
              "date                                                                       \n",
              "2016-01-15 00:00:00                      5.507324              70.541216   \n",
              "2016-01-15 01:00:00                      5.257781              69.266198   \n",
              "2016-01-15 02:00:00                      5.383759              68.116445   \n",
              "2016-01-15 03:00:00                      4.858634              68.347543   \n",
              "2016-01-15 04:00:00                      4.939416              66.927016   \n",
              "...                                           ...                    ...   \n",
              "2018-08-18 06:59:59                      6.459561              68.786981   \n",
              "2018-08-18 07:59:59                      6.258693              67.839536   \n",
              "2018-08-18 08:59:59                      6.057627              70.847012   \n",
              "2018-08-18 09:59:59                      5.484318              72.659046   \n",
              "2018-08-18 10:59:59                      5.282514              70.279619   \n",
              "\n",
              "                     final.output.tail_au  final.output.tail_ag  \\\n",
              "date                                                              \n",
              "2016-01-15 00:00:00              2.143149             10.411962   \n",
              "2016-01-15 01:00:00              2.224930             10.462676   \n",
              "2016-01-15 02:00:00              2.257889             10.507046   \n",
              "2016-01-15 03:00:00              2.146849             10.422762   \n",
              "2016-01-15 04:00:00              2.055292             10.360302   \n",
              "...                                   ...                   ...   \n",
              "2018-08-18 06:59:59              2.314786             10.286797   \n",
              "2018-08-18 07:59:59              2.423143             10.382891   \n",
              "2018-08-18 08:59:59              2.161256             10.324415   \n",
              "2018-08-18 09:59:59              2.064422             10.475957   \n",
              "2018-08-18 10:59:59              2.209593             10.487013   \n",
              "\n",
              "                     final.output.tail_pb  final.output.tail_sol  \n",
              "date                                                              \n",
              "2016-01-15 00:00:00              0.895447              16.904297  \n",
              "2016-01-15 01:00:00              0.927452              16.634514  \n",
              "2016-01-15 02:00:00              0.953716              16.208849  \n",
              "2016-01-15 03:00:00              0.883763              16.532835  \n",
              "2016-01-15 04:00:00              0.792826              16.525686  \n",
              "...                                   ...                    ...  \n",
              "2018-08-18 06:59:59              1.171459              19.131121  \n",
              "2018-08-18 07:59:59              1.239738              18.544924  \n",
              "2018-08-18 08:59:59              0.961210              18.185262  \n",
              "2018-08-18 09:59:59              1.050592              17.525656  \n",
              "2018-08-18 10:59:59              1.159805              17.483979  \n",
              "\n",
              "[19439 rows x 86 columns]"
            ]
          },
          "execution_count": 16,
          "metadata": {},
          "output_type": "execute_result"
        }
      ],
      "source": [
        "change_values(data_train)\n",
        "change_values(data_test)\n",
        "change_values(data_full)"
      ]
    },
    {
      "cell_type": "code",
      "execution_count": null,
      "metadata": {
        "id": "LkvQHy1YCZOo"
      },
      "outputs": [],
      "source": [
        "def change_anomaly(data):\n",
        "\n",
        "    metalls = ['au','ag','pb']\n",
        "    selected_columns = []\n",
        "    for col in data.columns:\n",
        "        for metall in metalls:\n",
        "            if f'feed_{metall}' in col or f'concentrate_{metall}' in col:\n",
        "                selected_columns.append(col)\n",
        "\n",
        "    data[selected_columns] = data[selected_columns].where(data[selected_columns] >= 0.3)"
      ]
    },
    {
      "cell_type": "code",
      "execution_count": null,
      "metadata": {
        "id": "7ShyZHh4CZOo"
      },
      "outputs": [],
      "source": [
        "change_anomaly(data_train)\n",
        "change_anomaly(data_test)\n",
        "change_anomaly(data_full)"
      ]
    },
    {
      "cell_type": "code",
      "execution_count": null,
      "metadata": {
        "id": "xT2AJP6zCZOp"
      },
      "outputs": [],
      "source": [
        "# Теперь заменим значения на близкие по времени\n",
        "\n",
        "data_train = data_train.ffill()\n",
        "data_test = data_test.ffill()\n",
        "data_full = data_full.ffill()"
      ]
    },
    {
      "cell_type": "markdown",
      "metadata": {
        "id": "C_aBfKzWCZOp"
      },
      "source": [
        "Так как в тестовой выборке отсутствуют целевые признаки, которые нужны будут для дальнейших расчетов, Добавим их в тестовую выборку, используя метод merge, в качестве индексов используем колонку date"
      ]
    },
    {
      "cell_type": "code",
      "execution_count": null,
      "metadata": {
        "id": "hTU6m_0wCZOp"
      },
      "outputs": [],
      "source": [
        "data_test = data_test.merge(data_full[['rougher.output.recovery','final.output.recovery']] , on='date',how='left')"
      ]
    },
    {
      "cell_type": "markdown",
      "metadata": {
        "id": "n5etONF9CZOs"
      },
      "source": [
        "Так же удалим признаки из data_train, которых нет в data_test, т.к. в дальнейшем это вызывает ошибку(разное кол-во признаков)"
      ]
    },
    {
      "cell_type": "code",
      "execution_count": null,
      "metadata": {
        "id": "-dT7wCPdCZOs"
      },
      "outputs": [],
      "source": [
        "delete_columns = delete_columns - set(['rougher.output.recovery','final.output.recovery'])\n",
        "data_train = data_train.drop(columns=delete_columns,axis=1)"
      ]
    },
    {
      "cell_type": "markdown",
      "metadata": {
        "id": "wTLp_gSNCZOt"
      },
      "source": [
        "Теперь удалим столбцы с датами, т.к. они могут помешать при дальнейшем прогнозировании"
      ]
    },
    {
      "cell_type": "markdown",
      "metadata": {
        "id": "eieR1X9mCZOu"
      },
      "source": [
        "###  Общий итог"
      ]
    },
    {
      "cell_type": "markdown",
      "metadata": {
        "id": "augy9BBKCZOu"
      },
      "source": [
        "- Загрузили данные и просмотрели информацию по ним\n",
        "\n",
        "- Проверили соответствие типов данных.\n",
        "\n",
        "- Регистр соответствует стандарту snake_case.\n",
        "\n",
        "- Пропуски в датасетах (тренировочная выборки и тестовая) заполнили значениями \"соседних\" параметров\n",
        "\n",
        "- Проверили правильность расчета эффективности обогащения.\n",
        "\n",
        "- В сравнение с тренировчной выборкой в тестовой отсутствуют 34 значения, их мы поместили в отдельную переменную для дальнешего использования\n",
        "\n",
        "- В тестовую выборку добавили целевые признаки (rougher.output.recovery, final.output.recovery), которые будут необходимы в дальнейшем для рассчета итоговой метрики качества.\n",
        "\n",
        "- Из тренировочной выборки удалили признаки.ю которых нет в тестовой\n",
        "\n",
        "- Колонку date удалили, т.к. не потребуется при расчетах."
      ]
    },
    {
      "cell_type": "markdown",
      "metadata": {
        "id": "rfI4zLSkCZOu"
      },
      "source": [
        "## Анализ данных"
      ]
    },
    {
      "cell_type": "markdown",
      "metadata": {
        "id": "tUMY50A2CZOu"
      },
      "source": [
        "### Концентрация металлов (Au, Ag, Pb) на различных этапах очистки."
      ]
    },
    {
      "cell_type": "markdown",
      "metadata": {
        "id": "9sXIh3xhCZOv"
      },
      "source": [
        "Для начала определим, какие этапы вообще есть\n",
        "\n",
        "- сырье - rougher.input.feed\n",
        "- после флотации - rougher.output.concentrate\n",
        "- после первичной очистки - primary_cleaner.output.concentrate\n",
        "- финальный концентрат - final.output.concentrate\n",
        "\n",
        "Посчитаем, сколько металла на каждом этапе"
      ]
    },
    {
      "cell_type": "code",
      "execution_count": null,
      "metadata": {
        "id": "zsfraRuDCZOv"
      },
      "outputs": [],
      "source": [
        "def stage_sum_dia(metall):\n",
        "# принимает значением обозначение металла, находит столбцы, суммирует их и возвращает таблицу с суммами.\n",
        "# затем рисует диаграмму\n",
        "\n",
        "    selected_columns = []\n",
        "    for col in data_full.columns:\n",
        "        if f'feed_{metall}' in col or f'concentrate_{metall}' in col:\n",
        "            selected_columns.append(col)\n",
        "\n",
        "    data = data_full[selected_columns]\n",
        "\n",
        "    data = data.rename(columns={\n",
        "        f'rougher.input.feed_{metall}': 'сырье',\n",
        "        f'rougher.output.concentrate_{metall}': 'после флотации',\n",
        "        f'primary_cleaner.output.concentrate_{metall}': 'после очистки',\n",
        "        f'final.output.concentrate_{metall}': 'финальный концентрат'\n",
        "    })\n",
        "\n",
        "\n",
        "    plt.figure(figsize=[15,10])\n",
        "    sns.histplot(data=data)\n",
        "    plt.title(f'График распределения метала {metall.title()}')\n",
        "    plt.xlabel('Концентрация')\n",
        "    plt.ylabel('Количество наблюдений')\n",
        "    plt.legend(['Финальный концентрат','После отчитски','После флотации','Сырье'])\n",
        "    plt.show();\n",
        "\n"
      ]
    },
    {
      "cell_type": "code",
      "execution_count": null,
      "metadata": {
        "scrolled": false,
        "id": "G3iG0dXJCZOx",
        "outputId": "fd50154a-0b7e-438b-b19d-fd35488be30e"
      },
      "outputs": [
        {
          "data": {
            "image/png": "[encoded data removed]",
            "text/plain": [
              "<Figure size 1080x720 with 1 Axes>"
            ]
          },
          "metadata": {
            "needs_background": "light"
          },
          "output_type": "display_data"
        }
      ],
      "source": [
        "# Золото\n",
        "\n",
        "stage_sum_dia('au')"
      ]
    },
    {
      "cell_type": "code",
      "execution_count": null,
      "metadata": {
        "scrolled": false,
        "id": "BWv5-q3rCZOx",
        "outputId": "6779374c-f4a6-4320-f754-5082a18e2387"
      },
      "outputs": [
        {
          "data": {
            "image/png": "[encoded data removed]",
            "text/plain": [
              "<Figure size 1080x720 with 1 Axes>"
            ]
          },
          "metadata": {
            "needs_background": "light"
          },
          "output_type": "display_data"
        }
      ],
      "source": [
        "# Серебро\n",
        "\n",
        "stage_sum_dia('ag')\n"
      ]
    },
    {
      "cell_type": "code",
      "execution_count": null,
      "metadata": {
        "scrolled": false,
        "id": "PXA7IGCTCZOy",
        "outputId": "0eb150f7-ec0f-45cb-d24f-1654192f45c5"
      },
      "outputs": [
        {
          "data": {
            "image/png": "[encoded data removed]",
            "text/plain": [
              "<Figure size 1080x720 with 1 Axes>"
            ]
          },
          "metadata": {
            "needs_background": "light"
          },
          "output_type": "display_data"
        }
      ],
      "source": [
        "# Свинец\n",
        "\n",
        "stage_sum_dia('pb')"
      ]
    },
    {
      "cell_type": "markdown",
      "metadata": {
        "id": "JW_KfreXCZOy"
      },
      "source": [
        "#### Итог"
      ]
    },
    {
      "cell_type": "markdown",
      "metadata": {
        "id": "LXGtLp0WCZOy"
      },
      "source": [
        "Золото и свинец по мере очистки увеличивают свою концентрацию.\n",
        "\n",
        "Серебро же наоборот: после флотации резко увеличивается, затем падает до уровня ниже, чем в сырье"
      ]
    },
    {
      "cell_type": "markdown",
      "metadata": {
        "id": "OnSj7HvxCZO0"
      },
      "source": [
        "### Распределение размеров гранул сырья на обучающей и тестовой выборках."
      ]
    },
    {
      "cell_type": "markdown",
      "metadata": {
        "id": "4uXrqm-VCZO0"
      },
      "source": [
        "Посмотрим общюю информацию по гранулам"
      ]
    },
    {
      "cell_type": "code",
      "execution_count": null,
      "metadata": {
        "id": "qd-59pPUCZO0"
      },
      "outputs": [],
      "source": [
        "def granul_size_info(data):\n",
        "#расчитывает общее количество гранул и среднее значение в переданном датасете\n",
        "\n",
        "    data = data['rougher.input.feed_size']\n",
        "    print(f'Общее количество гранул: {data.sum()} \\nCреднее значение: {data.mean()}')"
      ]
    },
    {
      "cell_type": "code",
      "execution_count": null,
      "metadata": {
        "id": "IA4bOuSPCZO1"
      },
      "outputs": [],
      "source": [
        "def granul_size_hist(data1,data2, column):\n",
        "# вызывает  granul_size_info по переданным датасетам\n",
        "# затем рисует гистограмму\n",
        "\n",
        "\n",
        "    print('Тренироваочная выборка\\n')\n",
        "    granul_size_info(data1)\n",
        "    print('\\nТестовая выборка\\n')\n",
        "    granul_size_info(data2)\n",
        "\n",
        "\n",
        "\n",
        "    plt.figure(figsize=[11, 6])\n",
        "    sns.kdeplot(data=data1[column])\n",
        "    sns.kdeplot(data=data2[column])\n",
        "    plt.title('График распределения размеров гранул исходного сырья')\n",
        "    plt.xlabel('Размер гранул')\n",
        "    plt.ylabel('Плотность распределения')\n",
        "    plt.xlim(10, 150)\n",
        "    plt.legend(['Обучающая выборка', 'Тестовая выборка'])\n",
        "    plt.show();"
      ]
    },
    {
      "cell_type": "code",
      "execution_count": null,
      "metadata": {
        "id": "zAtcwnlbCZO1",
        "outputId": "00aad180-b8f0-4d70-fbc1-4d7ec1d01c0b"
      },
      "outputs": [
        {
          "name": "stdout",
          "output_type": "stream",
          "text": [
            "Тренироваочная выборка\n",
            "\n",
            "Общее количество гранул: 849487.0628255203 \n",
            "Cреднее значение: 58.26785532790454\n",
            "\n",
            "Тестовая выборка\n",
            "\n",
            "Общее количество гранул: 287401.7177515366 \n",
            "Cреднее значение: 59.13615591595403\n"
          ]
        },
        {
          "data": {
            "image/png": "[encoded data removed]",
            "text/plain": [
              "<Figure size 792x432 with 1 Axes>"
            ]
          },
          "metadata": {
            "needs_background": "light"
          },
          "output_type": "display_data"
        }
      ],
      "source": [
        "granul_size_hist(data_train, data_test, 'rougher.input.feed_size')"
      ]
    },
    {
      "cell_type": "markdown",
      "metadata": {
        "id": "0dHWKrTwCZO2"
      },
      "source": [
        "#### Итог"
      ]
    },
    {
      "cell_type": "markdown",
      "metadata": {
        "id": "eTQdy-GrCZO2"
      },
      "source": [
        "Распределение гранул в тестовой и тренировочной выборках схожи. Проблем с прогнозированием быть не должно"
      ]
    },
    {
      "cell_type": "markdown",
      "metadata": {
        "id": "DXzxA3YcCZO3"
      },
      "source": [
        "### Cуммарная концентрация металлов на разных стадиях: в сырье, в черновом и финальном концентратах."
      ]
    },
    {
      "cell_type": "code",
      "execution_count": null,
      "metadata": {
        "id": "jx6xhK0iCZO4"
      },
      "outputs": [],
      "source": [
        "def total_conc_Sum(data):\n",
        "    stages = ['rougher.input.feed','rougher.output.concentrate','primary_cleaner.output.concentrate','final.output.concentrate']\n",
        "    stage_name = ['Сырье','Флотация','Первичная очистка','Финальный концентрат']\n",
        "    stage_conc = {}\n",
        "    for i in range(4):\n",
        "        rougher_sum = data[f'{stages[i]}_au'].sum() + data[f'{stages[i]}_ag'].sum()  + data[f'{stages[i]}_pb'].sum()\n",
        "        stage_conc[stage_name[i]] = round(rougher_sum,2)\n",
        "\n",
        "    stage_conc = pd.DataFrame.from_dict(stage_conc,orient='index',columns=['Суммарная концентрация'])\n",
        "    print(stage_conc)\n",
        "\n",
        "    stage_conc.plot(kind='barh',figsize=[15,10])"
      ]
    },
    {
      "cell_type": "code",
      "execution_count": null,
      "metadata": {
        "id": "EqCAJc1nCZO4",
        "outputId": "7ddc6465-6796-4f87-b985-2d19c98e09fc"
      },
      "outputs": [
        {
          "name": "stdout",
          "output_type": "stream",
          "text": [
            "                      Суммарная концентрация\n",
            "Сырье                              401813.04\n",
            "Флотация                           779410.96\n",
            "Первичная очистка                  988450.89\n",
            "Финальный концентрат              1156711.58\n"
          ]
        },
        {
          "data": {
            "image/png": "[encoded data removed]",
            "text/plain": [
              "<Figure size 1080x720 with 1 Axes>"
            ]
          },
          "metadata": {
            "needs_background": "light"
          },
          "output_type": "display_data"
        }
      ],
      "source": [
        "total_conc_Sum(data_full)"
      ]
    },
    {
      "cell_type": "code",
      "execution_count": null,
      "metadata": {
        "id": "c3R3N8olCZO5"
      },
      "outputs": [],
      "source": [
        "def total_conc_dist(data):\n",
        "\n",
        "    stages = ['rougher.input.feed','rougher.output.concentrate','primary_cleaner.output.concentrate','final.output.concentrate']\n",
        "    data['total.rougher.input'] = data[f'{stages[0]}_au'] + data[f'{stages[0]}_ag']+data[f'{stages[0]}_pb']\n",
        "    data['total.rougher.output'] = data[f'{stages[1]}_au'] + data[f'{stages[1]}_ag']+data[f'{stages[1]}_pb']\n",
        "    data['total.primary.cleaner.output'] = data[f'{stages[2]}_au'] + data[f'{stages[2]}_ag']+data[f'{stages[2]}_pb']\n",
        "    data['total.final.output'] = data[f'{stages[3]}_au'] + data[f'{stages[3]}_ag']+data[f'{stages[3]}_pb']\n",
        "\n",
        "    plt.figure(figsize=[15, 6])\n",
        "    disp1 = sns.histplot(data['total.rougher.input'], color='blue', fill=True)\n",
        "    disp2 = sns.histplot(data['total.rougher.output'], color='orange', fill=True)\n",
        "    disp3 = sns.histplot(data['total.primary.cleaner.output'], color='green', fill=True)\n",
        "    disp2 = sns.histplot(data['total.final.output'], color='red', fill=True)\n",
        "    plt.legend(labels=['Сырьев', 'флотация', 'очистка', 'финал'])\n",
        "    plt.xlabel('Концентрация')\n",
        "    plt.ylabel('')\n",
        "    plt.title(f'Cуммарная концентрация металлов')"
      ]
    },
    {
      "cell_type": "code",
      "execution_count": null,
      "metadata": {
        "scrolled": false,
        "id": "v3gvIuxwCZO5",
        "outputId": "d65d0094-357c-491b-b69b-a8a3189b15ec"
      },
      "outputs": [
        {
          "data": {
            "image/png": "[encoded data removed]",
            "text/plain": [
              "<Figure size 1080x432 with 1 Axes>"
            ]
          },
          "metadata": {
            "needs_background": "light"
          },
          "output_type": "display_data"
        }
      ],
      "source": [
        "total_conc_dist(data_full)"
      ]
    },
    {
      "cell_type": "markdown",
      "metadata": {
        "id": "xfbX4bTRCZO6"
      },
      "source": [
        "#### ИТог"
      ]
    },
    {
      "cell_type": "markdown",
      "metadata": {
        "id": "f5WQ8qtACZO6"
      },
      "source": [
        "Как видим, суммарная концентрация металлов растет c каждым этапом"
      ]
    },
    {
      "cell_type": "markdown",
      "metadata": {
        "id": "Dc96gGDhCZO_"
      },
      "source": [
        "### Общий итог"
      ]
    },
    {
      "cell_type": "markdown",
      "metadata": {
        "id": "8HRgnuqXCZPA"
      },
      "source": [
        "Просмотрели распределение веществ на кадой стадии очистки:\n",
        "\n",
        "- КОнцентрацию маталлов после каждого этапа\n",
        "- размер гранул\n",
        "- суммарную коцентрацию.\n",
        "\n",
        "Как показывают графики, концентраци металла растет по мере прохождения очистки"
      ]
    },
    {
      "cell_type": "markdown",
      "metadata": {
        "id": "ixCRKMuOCZPA"
      },
      "source": [
        "## Модель"
      ]
    },
    {
      "cell_type": "markdown",
      "metadata": {
        "id": "VHEJuNhsCZPA"
      },
      "source": [
        "### Подготовка данных к обучению и оценке"
      ]
    },
    {
      "cell_type": "code",
      "execution_count": null,
      "metadata": {
        "id": "9uWN-AbbCZPA"
      },
      "outputs": [],
      "source": [
        "# напишем функцию расчета sMAPE\n",
        "\n",
        "def smape(target, predict):\n",
        "\n",
        "    smape = ((1/len(target))*np.sum((np.abs(target - predict))/( (np.abs(target)+np.abs(predict))/2))*100)\n",
        "\n",
        "    return smape"
      ]
    },
    {
      "cell_type": "code",
      "execution_count": null,
      "metadata": {
        "id": "wvGQrCRLCZPB"
      },
      "outputs": [],
      "source": [
        "# напишем функцию для расчета sMAPE с помощью GridSearchCV\n",
        "\n",
        "def smape_scores(model,model_name, features, target):\n",
        "\n",
        "    if 'Дерево' in model_name:\n",
        "\n",
        "        param_grid = {'max_depth': range (1,10)}\n",
        "        grid_search = GridSearchCV(model,\n",
        "                                   param_grid,\n",
        "                                   scoring = make_scorer(smape, greater_is_better=False),\n",
        "                                   verbose=10,\n",
        "                                   n_jobs=-1,\n",
        "                                   cv=5)\n",
        "\n",
        "        grid_search.fit(features, target)\n",
        "\n",
        "        return grid_search.best_score_ * (-1),grid_search.best_params_\n",
        "\n",
        "    elif 'лес' in model_name:\n",
        "        param_grid = { 'n_estimators': range (1, 100, 10),\n",
        "                        'max_depth': range (1,10),}\n",
        "        grid_search = GridSearchCV(model,\n",
        "                                   param_grid,\n",
        "                                   scoring = make_scorer(smape, greater_is_better=False),\n",
        "                                   verbose=10,\n",
        "                                   n_jobs=-1,\n",
        "                                   cv=5)\n",
        "\n",
        "        grid_search.fit(features, target)\n",
        "\n",
        "        return grid_search.best_score_ * (-1), grid_search.best_params_\n",
        "\n",
        "    else:\n",
        "        score = cross_val_score(model, features,target, scoring = make_scorer(smape, greater_is_better = False), cv=5)\n",
        "\n",
        "        return score*(-1),'не вычислялись'\n",
        "\n",
        "\n"
      ]
    },
    {
      "cell_type": "code",
      "execution_count": null,
      "metadata": {
        "id": "VlDGLemLCZPB"
      },
      "outputs": [],
      "source": [
        "# Расчет итоговой sMAPE\n",
        "\n",
        "def make_final_smape(rougher, final):\n",
        "\n",
        "    final_smape = (0.25*rougher+0.75*final)\n",
        "\n",
        "    return final_smape"
      ]
    },
    {
      "cell_type": "code",
      "execution_count": null,
      "metadata": {
        "id": "xsfJPwtBCZPC"
      },
      "outputs": [],
      "source": [
        "# Создадим функцию для вывода результатов\n",
        "\n",
        "def print_score(model_name, rougher, final, final_smape, best_params_r='не вычислялись', best_params_f='не вычислялись'):\n",
        "# Принимает рукописное название, показатели метрик и выводит отформатированный текст\n",
        "\n",
        "    print('Модель: ', model_name,'\\n')\n",
        "    print('Лучшие параметрs для стадии флотации:',best_params_r,'\\n')\n",
        "    print('Лучшие параметрs для финальной стадии:',best_params_f,'\\n')\n",
        "    print('Результат sMAPE стадии флотации: ', rougher,'\\n')\n",
        "    print('Результат sMAPE финальной стадии: ', final,'\\n')\n",
        "    print('Итоговый sMAPE: ', final_smape)\n",
        ""
      ]
    },
    {
      "cell_type": "code",
      "execution_count": null,
      "metadata": {
        "id": "TDdW2e2zCZPC"
      },
      "outputs": [],
      "source": [
        "# завернем в функцию все предыдущие функции, дабы не вызывать их каждый раз вручную\n",
        "\n",
        "def start_func(model_r, model_f, model_name, features, target_r, target_f):\n",
        "\n",
        "    rougher,best_params_r = smape_scores(model_r, model_name, features, target_r)\n",
        "    rougher = rougher.mean()\n",
        "    final,best_params_f = smape_scores(model_r, model_name, features, target_f)\n",
        "    final = final.mean()\n",
        "    final_smape = make_final_smape(rougher, final)\n",
        "    print_score(model_name, rougher, final, final_smape, best_params_r, best_params_f)"
      ]
    },
    {
      "cell_type": "code",
      "execution_count": null,
      "metadata": {
        "id": "gPEP7Z-YCZPD"
      },
      "outputs": [],
      "source": [
        "# Подготовим данные для обучения\n",
        "\n",
        "features_train = data_train.drop(['rougher.output.recovery','final.output.recovery'], axis=1)\n",
        "target_rougher_train = data_train['rougher.output.recovery']\n",
        "target_final_train = data_train['final.output.recovery']"
      ]
    },
    {
      "cell_type": "code",
      "execution_count": null,
      "metadata": {
        "id": "Nzr9_ioBCZPE"
      },
      "outputs": [],
      "source": [
        "# Масштабируем данные\n",
        "numeric = features_train.columns\n",
        "scaler = StandardScaler()\n",
        "\n",
        "scaler.fit(features_train[numeric])\n",
        "\n",
        "features_train[numeric]= scaler.transform(features_train[numeric])"
      ]
    },
    {
      "cell_type": "markdown",
      "metadata": {
        "id": "DUoL5xmqCZPE"
      },
      "source": [
        "### Обучим разные модели и оценим их качество кросс-валидацией.\n",
        "\n"
      ]
    },
    {
      "cell_type": "markdown",
      "metadata": {
        "id": "BniqTAMxCZPE"
      },
      "source": [
        "#### Линейная регресия"
      ]
    },
    {
      "cell_type": "code",
      "execution_count": null,
      "metadata": {
        "id": "AKTwCw7jCZPF",
        "outputId": "a0bbb4f4-495d-46f7-e90e-592b94b7ce68"
      },
      "outputs": [
        {
          "name": "stdout",
          "output_type": "stream",
          "text": [
            "Модель:  Линейная регрессиия \n",
            "\n",
            "Лучшие параметрs для стадии флотации: не вычислялись \n",
            "\n",
            "Лучшие параметрs для финальной стадии: не вычислялись \n",
            "\n",
            "Результат sMAPE стадии флотации:  7.4000801524079565 \n",
            "\n",
            "Результат sMAPE финальной стадии:  9.710594796836762 \n",
            "\n",
            "Итоговый sMAPE:  9.13296613572956\n"
          ]
        }
      ],
      "source": [
        "# модель для флотации\n",
        "\n",
        "line_model_r = LinearRegression()\n",
        "\n",
        "# модель для финальной стадии\n",
        "\n",
        "line_model_f = LinearRegression()\n",
        "\n",
        "# расчет и вывод результатов\n",
        "\n",
        "start_func(line_model_r,\n",
        "           line_model_f,\n",
        "           'Линейная регрессиия',\n",
        "           features_train,\n",
        "           target_rougher_train,\n",
        "           target_final_train)"
      ]
    },
    {
      "cell_type": "markdown",
      "metadata": {
        "id": "srZO5sImCZPG"
      },
      "source": [
        "#### Дерево решений"
      ]
    },
    {
      "cell_type": "code",
      "execution_count": null,
      "metadata": {
        "scrolled": true,
        "id": "DL4UJyoGCZPI",
        "outputId": "8ceee84f-eb66-46c0-f136-fc9629df0863"
      },
      "outputs": [
        {
          "name": "stdout",
          "output_type": "stream",
          "text": [
            "Fitting 5 folds for each of 9 candidates, totalling 45 fits\n",
            "[CV 1/5; 1/9] START max_depth=1.................................................\n",
            "[CV 1/5; 1/9] END ...............................max_depth=1; total time=   0.2s\n",
            "[CV 2/5; 1/9] START max_depth=1.................................................\n",
            "[CV 2/5; 1/9] END ...............................max_depth=1; total time=   0.1s\n",
            "[CV 3/5; 1/9] START max_depth=1.................................................\n",
            "[CV 3/5; 1/9] END ...............................max_depth=1; total time=   0.1s\n",
            "[CV 4/5; 1/9] START max_depth=1.................................................\n",
            "[CV 4/5; 1/9] END ...............................max_depth=1; total time=   0.1s\n",
            "[CV 5/5; 1/9] START max_depth=1.................................................\n",
            "[CV 5/5; 1/9] END ...............................max_depth=1; total time=   0.1s\n",
            "[CV 1/5; 2/9] START max_depth=2.................................................\n",
            "[CV 1/5; 2/9] END ...............................max_depth=2; total time=   0.1s\n",
            "[CV 2/5; 2/9] START max_depth=2.................................................\n",
            "[CV 2/5; 2/9] END ...............................max_depth=2; total time=   0.1s\n",
            "[CV 3/5; 2/9] START max_depth=2.................................................\n",
            "[CV 3/5; 2/9] END ...............................max_depth=2; total time=   0.1s\n",
            "[CV 4/5; 2/9] START max_depth=2.................................................\n",
            "[CV 4/5; 2/9] END ...............................max_depth=2; total time=   0.1s\n",
            "[CV 5/5; 2/9] START max_depth=2.................................................\n",
            "[CV 5/5; 2/9] END ...............................max_depth=2; total time=   0.1s\n",
            "[CV 1/5; 3/9] START max_depth=3.................................................\n",
            "[CV 1/5; 3/9] END ...............................max_depth=3; total time=   0.2s\n",
            "[CV 2/5; 3/9] START max_depth=3.................................................\n",
            "[CV 2/5; 3/9] END ...............................max_depth=3; total time=   0.2s\n",
            "[CV 3/5; 3/9] START max_depth=3.................................................\n",
            "[CV 3/5; 3/9] END ...............................max_depth=3; total time=   0.2s\n",
            "[CV 4/5; 3/9] START max_depth=3.................................................\n",
            "[CV 4/5; 3/9] END ...............................max_depth=3; total time=   0.2s\n",
            "[CV 5/5; 3/9] START max_depth=3.................................................\n",
            "[CV 5/5; 3/9] END ...............................max_depth=3; total time=   0.2s\n",
            "[CV 1/5; 4/9] START max_depth=4.................................................\n",
            "[CV 1/5; 4/9] END ...............................max_depth=4; total time=   0.2s\n",
            "[CV 2/5; 4/9] START max_depth=4.................................................\n",
            "[CV 2/5; 4/9] END ...............................max_depth=4; total time=   0.2s\n",
            "[CV 3/5; 4/9] START max_depth=4.................................................\n",
            "[CV 3/5; 4/9] END ...............................max_depth=4; total time=   0.2s\n",
            "[CV 4/5; 4/9] START max_depth=4.................................................\n",
            "[CV 4/5; 4/9] END ...............................max_depth=4; total time=   0.2s\n",
            "[CV 5/5; 4/9] START max_depth=4.................................................\n",
            "[CV 5/5; 4/9] END ...............................max_depth=4; total time=   0.3s\n",
            "[CV 1/5; 5/9] START max_depth=5.................................................\n",
            "[CV 1/5; 5/9] END ...............................max_depth=5; total time=   0.3s\n",
            "[CV 2/5; 5/9] START max_depth=5.................................................\n",
            "[CV 2/5; 5/9] END ...............................max_depth=5; total time=   0.3s\n",
            "[CV 3/5; 5/9] START max_depth=5.................................................\n",
            "[CV 3/5; 5/9] END ...............................max_depth=5; total time=   0.4s\n",
            "[CV 4/5; 5/9] START max_depth=5.................................................\n",
            "[CV 4/5; 5/9] END ...............................max_depth=5; total time=   0.3s\n",
            "[CV 5/5; 5/9] START max_depth=5.................................................\n",
            "[CV 5/5; 5/9] END ...............................max_depth=5; total time=   0.3s\n",
            "[CV 1/5; 6/9] START max_depth=6.................................................\n",
            "[CV 1/5; 6/9] END ...............................max_depth=6; total time=   0.3s\n",
            "[CV 2/5; 6/9] START max_depth=6.................................................\n",
            "[CV 2/5; 6/9] END ...............................max_depth=6; total time=   0.3s\n",
            "[CV 3/5; 6/9] START max_depth=6.................................................\n",
            "[CV 3/5; 6/9] END ...............................max_depth=6; total time=   0.3s\n",
            "[CV 4/5; 6/9] START max_depth=6.................................................\n",
            "[CV 4/5; 6/9] END ...............................max_depth=6; total time=   0.3s\n",
            "[CV 5/5; 6/9] START max_depth=6.................................................\n",
            "[CV 5/5; 6/9] END ...............................max_depth=6; total time=   0.3s\n",
            "[CV 1/5; 7/9] START max_depth=7.................................................\n",
            "[CV 1/5; 7/9] END ...............................max_depth=7; total time=   0.4s\n",
            "[CV 2/5; 7/9] START max_depth=7.................................................\n",
            "[CV 2/5; 7/9] END ...............................max_depth=7; total time=   0.4s\n",
            "[CV 3/5; 7/9] START max_depth=7.................................................\n",
            "[CV 3/5; 7/9] END ...............................max_depth=7; total time=   0.4s\n",
            "[CV 4/5; 7/9] START max_depth=7.................................................\n",
            "[CV 4/5; 7/9] END ...............................max_depth=7; total time=   0.4s\n",
            "[CV 5/5; 7/9] START max_depth=7.................................................\n",
            "[CV 5/5; 7/9] END ...............................max_depth=7; total time=   0.4s\n",
            "[CV 1/5; 8/9] START max_depth=8.................................................\n",
            "[CV 1/5; 8/9] END ...............................max_depth=8; total time=   0.5s\n",
            "[CV 2/5; 8/9] START max_depth=8.................................................\n",
            "[CV 2/5; 8/9] END ...............................max_depth=8; total time=   0.5s\n",
            "[CV 3/5; 8/9] START max_depth=8.................................................\n",
            "[CV 3/5; 8/9] END ...............................max_depth=8; total time=   0.5s\n",
            "[CV 4/5; 8/9] START max_depth=8.................................................\n",
            "[CV 4/5; 8/9] END ...............................max_depth=8; total time=   0.5s\n",
            "[CV 5/5; 8/9] START max_depth=8.................................................\n",
            "[CV 5/5; 8/9] END ...............................max_depth=8; total time=   0.5s\n",
            "[CV 1/5; 9/9] START max_depth=9.................................................\n",
            "[CV 1/5; 9/9] END ...............................max_depth=9; total time=   0.5s\n",
            "[CV 2/5; 9/9] START max_depth=9.................................................\n",
            "[CV 2/5; 9/9] END ...............................max_depth=9; total time=   0.5s\n",
            "[CV 3/5; 9/9] START max_depth=9.................................................\n",
            "[CV 3/5; 9/9] END ...............................max_depth=9; total time=   0.5s\n",
            "[CV 4/5; 9/9] START max_depth=9.................................................\n",
            "[CV 4/5; 9/9] END ...............................max_depth=9; total time=   0.5s\n",
            "[CV 5/5; 9/9] START max_depth=9.................................................\n",
            "[CV 5/5; 9/9] END ...............................max_depth=9; total time=   0.4s\n",
            "Fitting 5 folds for each of 9 candidates, totalling 45 fits\n",
            "[CV 1/5; 1/9] START max_depth=1.................................................\n",
            "[CV 1/5; 1/9] END ...............................max_depth=1; total time=   0.1s\n",
            "[CV 2/5; 1/9] START max_depth=1.................................................\n",
            "[CV 2/5; 1/9] END ...............................max_depth=1; total time=   0.1s\n",
            "[CV 3/5; 1/9] START max_depth=1.................................................\n",
            "[CV 3/5; 1/9] END ...............................max_depth=1; total time=   0.1s\n",
            "[CV 4/5; 1/9] START max_depth=1.................................................\n",
            "[CV 4/5; 1/9] END ...............................max_depth=1; total time=   0.1s\n",
            "[CV 5/5; 1/9] START max_depth=1.................................................\n",
            "[CV 5/5; 1/9] END ...............................max_depth=1; total time=   0.1s\n",
            "[CV 1/5; 2/9] START max_depth=2.................................................\n",
            "[CV 1/5; 2/9] END ...............................max_depth=2; total time=   0.1s\n",
            "[CV 2/5; 2/9] START max_depth=2.................................................\n",
            "[CV 2/5; 2/9] END ...............................max_depth=2; total time=   0.1s\n",
            "[CV 3/5; 2/9] START max_depth=2.................................................\n",
            "[CV 3/5; 2/9] END ...............................max_depth=2; total time=   0.1s\n",
            "[CV 4/5; 2/9] START max_depth=2.................................................\n",
            "[CV 4/5; 2/9] END ...............................max_depth=2; total time=   0.1s\n",
            "[CV 5/5; 2/9] START max_depth=2.................................................\n",
            "[CV 5/5; 2/9] END ...............................max_depth=2; total time=   0.1s\n",
            "[CV 1/5; 3/9] START max_depth=3.................................................\n",
            "[CV 1/5; 3/9] END ...............................max_depth=3; total time=   0.2s\n",
            "[CV 2/5; 3/9] START max_depth=3.................................................\n",
            "[CV 2/5; 3/9] END ...............................max_depth=3; total time=   0.2s\n",
            "[CV 3/5; 3/9] START max_depth=3.................................................\n",
            "[CV 3/5; 3/9] END ...............................max_depth=3; total time=   0.2s\n",
            "[CV 4/5; 3/9] START max_depth=3.................................................\n",
            "[CV 4/5; 3/9] END ...............................max_depth=3; total time=   0.2s\n",
            "[CV 5/5; 3/9] START max_depth=3.................................................\n",
            "[CV 5/5; 3/9] END ...............................max_depth=3; total time=   0.2s\n",
            "[CV 1/5; 4/9] START max_depth=4.................................................\n",
            "[CV 1/5; 4/9] END ...............................max_depth=4; total time=   0.2s\n",
            "[CV 2/5; 4/9] START max_depth=4.................................................\n",
            "[CV 2/5; 4/9] END ...............................max_depth=4; total time=   0.2s\n",
            "[CV 3/5; 4/9] START max_depth=4.................................................\n",
            "[CV 3/5; 4/9] END ...............................max_depth=4; total time=   0.2s\n",
            "[CV 4/5; 4/9] START max_depth=4.................................................\n",
            "[CV 4/5; 4/9] END ...............................max_depth=4; total time=   0.2s\n",
            "[CV 5/5; 4/9] START max_depth=4.................................................\n",
            "[CV 5/5; 4/9] END ...............................max_depth=4; total time=   0.2s\n",
            "[CV 1/5; 5/9] START max_depth=5.................................................\n",
            "[CV 1/5; 5/9] END ...............................max_depth=5; total time=   0.3s\n",
            "[CV 2/5; 5/9] START max_depth=5.................................................\n",
            "[CV 2/5; 5/9] END ...............................max_depth=5; total time=   0.3s\n",
            "[CV 3/5; 5/9] START max_depth=5.................................................\n",
            "[CV 3/5; 5/9] END ...............................max_depth=5; total time=   0.3s\n",
            "[CV 4/5; 5/9] START max_depth=5.................................................\n",
            "[CV 4/5; 5/9] END ...............................max_depth=5; total time=   0.3s\n",
            "[CV 5/5; 5/9] START max_depth=5.................................................\n",
            "[CV 5/5; 5/9] END ...............................max_depth=5; total time=   0.3s\n",
            "[CV 1/5; 6/9] START max_depth=6.................................................\n",
            "[CV 1/5; 6/9] END ...............................max_depth=6; total time=   0.3s\n",
            "[CV 2/5; 6/9] START max_depth=6.................................................\n",
            "[CV 2/5; 6/9] END ...............................max_depth=6; total time=   0.3s\n",
            "[CV 3/5; 6/9] START max_depth=6.................................................\n",
            "[CV 3/5; 6/9] END ...............................max_depth=6; total time=   0.3s\n",
            "[CV 4/5; 6/9] START max_depth=6.................................................\n",
            "[CV 4/5; 6/9] END ...............................max_depth=6; total time=   0.4s\n",
            "[CV 5/5; 6/9] START max_depth=6.................................................\n",
            "[CV 5/5; 6/9] END ...............................max_depth=6; total time=   0.3s\n",
            "[CV 1/5; 7/9] START max_depth=7.................................................\n",
            "[CV 1/5; 7/9] END ...............................max_depth=7; total time=   0.4s\n",
            "[CV 2/5; 7/9] START max_depth=7.................................................\n",
            "[CV 2/5; 7/9] END ...............................max_depth=7; total time=   0.4s\n",
            "[CV 3/5; 7/9] START max_depth=7.................................................\n",
            "[CV 3/5; 7/9] END ...............................max_depth=7; total time=   0.4s\n",
            "[CV 4/5; 7/9] START max_depth=7.................................................\n",
            "[CV 4/5; 7/9] END ...............................max_depth=7; total time=   0.4s\n",
            "[CV 5/5; 7/9] START max_depth=7.................................................\n",
            "[CV 5/5; 7/9] END ...............................max_depth=7; total time=   0.4s\n",
            "[CV 1/5; 8/9] START max_depth=8.................................................\n",
            "[CV 1/5; 8/9] END ...............................max_depth=8; total time=   0.4s\n",
            "[CV 2/5; 8/9] START max_depth=8.................................................\n",
            "[CV 2/5; 8/9] END ...............................max_depth=8; total time=   0.4s\n",
            "[CV 3/5; 8/9] START max_depth=8.................................................\n",
            "[CV 3/5; 8/9] END ...............................max_depth=8; total time=   0.4s\n",
            "[CV 4/5; 8/9] START max_depth=8.................................................\n",
            "[CV 4/5; 8/9] END ...............................max_depth=8; total time=   0.4s\n",
            "[CV 5/5; 8/9] START max_depth=8.................................................\n",
            "[CV 5/5; 8/9] END ...............................max_depth=8; total time=   0.4s\n",
            "[CV 1/5; 9/9] START max_depth=9.................................................\n",
            "[CV 1/5; 9/9] END ...............................max_depth=9; total time=   0.5s\n",
            "[CV 2/5; 9/9] START max_depth=9.................................................\n",
            "[CV 2/5; 9/9] END ...............................max_depth=9; total time=   0.5s\n",
            "[CV 3/5; 9/9] START max_depth=9.................................................\n",
            "[CV 3/5; 9/9] END ...............................max_depth=9; total time=   0.5s\n",
            "[CV 4/5; 9/9] START max_depth=9.................................................\n",
            "[CV 4/5; 9/9] END ...............................max_depth=9; total time=   0.5s\n",
            "[CV 5/5; 9/9] START max_depth=9.................................................\n",
            "[CV 5/5; 9/9] END ...............................max_depth=9; total time=   0.5s\n",
            "Модель:  Дерево решений \n",
            "\n",
            "Лучшие параметрs для стадии флотации: {'max_depth': 1} \n",
            "\n",
            "Лучшие параметрs для финальной стадии: {'max_depth': 2} \n",
            "\n",
            "Результат sMAPE стадии флотации:  7.0869925372378315 \n",
            "\n",
            "Результат sMAPE финальной стадии:  9.069139911340189 \n",
            "\n",
            "Итоговый sMAPE:  8.5736030678146\n"
          ]
        }
      ],
      "source": [
        "# модель для флотации\n",
        "\n",
        "tree_model_r = DecisionTreeRegressor(random_state=12345)\n",
        "\n",
        "# модель для финальной стадии\n",
        "\n",
        "tree_model_f = DecisionTreeRegressor(random_state=12345)\n",
        "\n",
        "# расчет и вывод результатов\n",
        "\n",
        "start_func(tree_model_r,\n",
        "           tree_model_f,\n",
        "           'Дерево решений',\n",
        "           features_train,\n",
        "           target_rougher_train,\n",
        "           target_final_train)"
      ]
    },
    {
      "cell_type": "markdown",
      "metadata": {
        "id": "jK3YUhfTCZPJ"
      },
      "source": [
        "#### Случайный лес"
      ]
    },
    {
      "cell_type": "code",
      "execution_count": null,
      "metadata": {
        "scrolled": true,
        "id": "2P7xvjRYCZPL",
        "outputId": "2b6a11d6-9c68-4e6f-8931-af05d841f975"
      },
      "outputs": [
        {
          "name": "stdout",
          "output_type": "stream",
          "text": [
            "Fitting 5 folds for each of 200 candidates, totalling 1000 fits\n",
            "[CV 1/5; 1/200] START max_depth=1, n_estimators=1...............................\n",
            "[CV 1/5; 1/200] END .............max_depth=1, n_estimators=1; total time=   0.1s\n",
            "[CV 2/5; 1/200] START max_depth=1, n_estimators=1...............................\n",
            "[CV 2/5; 1/200] END .............max_depth=1, n_estimators=1; total time=   0.0s\n",
            "[CV 3/5; 1/200] START max_depth=1, n_estimators=1...............................\n",
            "[CV 3/5; 1/200] END .............max_depth=1, n_estimators=1; total time=   0.0s\n",
            "[CV 4/5; 1/200] START max_depth=1, n_estimators=1...............................\n",
            "[CV 4/5; 1/200] END .............max_depth=1, n_estimators=1; total time=   0.0s\n",
            "[CV 5/5; 1/200] START max_depth=1, n_estimators=1...............................\n",
            "[CV 5/5; 1/200] END .............max_depth=1, n_estimators=1; total time=   0.0s\n",
            "[CV 1/5; 2/200] START max_depth=1, n_estimators=11..............................\n",
            "[CV 1/5; 2/200] END ............max_depth=1, n_estimators=11; total time=   0.4s\n",
            "[CV 2/5; 2/200] START max_depth=1, n_estimators=11..............................\n",
            "[CV 2/5; 2/200] END ............max_depth=1, n_estimators=11; total time=   0.5s\n",
            "[CV 3/5; 2/200] START max_depth=1, n_estimators=11..............................\n",
            "[CV 3/5; 2/200] END ............max_depth=1, n_estimators=11; total time=   0.5s\n",
            "[CV 4/5; 2/200] START max_depth=1, n_estimators=11..............................\n",
            "[CV 4/5; 2/200] END ............max_depth=1, n_estimators=11; total time=   0.4s\n",
            "[CV 5/5; 2/200] START max_depth=1, n_estimators=11..............................\n",
            "[CV 5/5; 2/200] END ............max_depth=1, n_estimators=11; total time=   0.4s\n",
            "[CV 1/5; 3/200] START max_depth=1, n_estimators=21..............................\n",
            "[CV 1/5; 3/200] END ............max_depth=1, n_estimators=21; total time=   0.8s\n",
            "[CV 2/5; 3/200] START max_depth=1, n_estimators=21..............................\n",
            "[CV 2/5; 3/200] END ............max_depth=1, n_estimators=21; total time=   0.8s\n",
            "[CV 3/5; 3/200] START max_depth=1, n_estimators=21..............................\n",
            "[CV 3/5; 3/200] END ............max_depth=1, n_estimators=21; total time=   0.8s\n",
            "[CV 4/5; 3/200] START max_depth=1, n_estimators=21..............................\n",
            "[CV 4/5; 3/200] END ............max_depth=1, n_estimators=21; total time=   0.8s\n",
            "[CV 5/5; 3/200] START max_depth=1, n_estimators=21..............................\n",
            "[CV 5/5; 3/200] END ............max_depth=1, n_estimators=21; total time=   0.8s\n",
            "[CV 1/5; 4/200] START max_depth=1, n_estimators=31..............................\n",
            "[CV 1/5; 4/200] END ............max_depth=1, n_estimators=31; total time=   1.2s\n",
            "[CV 2/5; 4/200] START max_depth=1, n_estimators=31..............................\n",
            "[CV 2/5; 4/200] END ............max_depth=1, n_estimators=31; total time=   1.2s\n",
            "[CV 3/5; 4/200] START max_depth=1, n_estimators=31..............................\n",
            "[CV 3/5; 4/200] END ............max_depth=1, n_estimators=31; total time=   1.2s\n",
            "[CV 4/5; 4/200] START max_depth=1, n_estimators=31..............................\n",
            "[CV 4/5; 4/200] END ............max_depth=1, n_estimators=31; total time=   1.2s\n",
            "[CV 5/5; 4/200] START max_depth=1, n_estimators=31..............................\n",
            "[CV 5/5; 4/200] END ............max_depth=1, n_estimators=31; total time=   1.2s\n",
            "[CV 1/5; 5/200] START max_depth=1, n_estimators=41..............................\n",
            "[CV 1/5; 5/200] END ............max_depth=1, n_estimators=41; total time=   1.9s\n",
            "[CV 2/5; 5/200] START max_depth=1, n_estimators=41..............................\n",
            "[CV 2/5; 5/200] END ............max_depth=1, n_estimators=41; total time=   2.1s\n",
            "[CV 3/5; 5/200] START max_depth=1, n_estimators=41..............................\n",
            "[CV 3/5; 5/200] END ............max_depth=1, n_estimators=41; total time=   2.5s\n",
            "[CV 4/5; 5/200] START max_depth=1, n_estimators=41..............................\n",
            "[CV 4/5; 5/200] END ............max_depth=1, n_estimators=41; total time=   2.3s\n",
            "[CV 5/5; 5/200] START max_depth=1, n_estimators=41..............................\n",
            "[CV 5/5; 5/200] END ............max_depth=1, n_estimators=41; total time=   1.8s\n",
            "[CV 1/5; 6/200] START max_depth=1, n_estimators=51..............................\n",
            "[CV 1/5; 6/200] END ............max_depth=1, n_estimators=51; total time=   2.0s\n",
            "[CV 2/5; 6/200] START max_depth=1, n_estimators=51..............................\n",
            "[CV 2/5; 6/200] END ............max_depth=1, n_estimators=51; total time=   2.0s\n",
            "[CV 3/5; 6/200] START max_depth=1, n_estimators=51..............................\n",
            "[CV 3/5; 6/200] END ............max_depth=1, n_estimators=51; total time=   2.1s\n",
            "[CV 4/5; 6/200] START max_depth=1, n_estimators=51..............................\n",
            "[CV 4/5; 6/200] END ............max_depth=1, n_estimators=51; total time=   2.1s\n",
            "[CV 5/5; 6/200] START max_depth=1, n_estimators=51..............................\n",
            "[CV 5/5; 6/200] END ............max_depth=1, n_estimators=51; total time=   2.1s\n",
            "[CV 1/5; 7/200] START max_depth=1, n_estimators=61..............................\n",
            "[CV 1/5; 7/200] END ............max_depth=1, n_estimators=61; total time=   3.7s\n",
            "[CV 2/5; 7/200] START max_depth=1, n_estimators=61..............................\n",
            "[CV 2/5; 7/200] END ............max_depth=1, n_estimators=61; total time=   2.4s\n",
            "[CV 3/5; 7/200] START max_depth=1, n_estimators=61..............................\n",
            "[CV 3/5; 7/200] END ............max_depth=1, n_estimators=61; total time=   2.7s\n",
            "[CV 4/5; 7/200] START max_depth=1, n_estimators=61..............................\n",
            "[CV 4/5; 7/200] END ............max_depth=1, n_estimators=61; total time=   2.4s\n",
            "[CV 5/5; 7/200] START max_depth=1, n_estimators=61..............................\n",
            "[CV 5/5; 7/200] END ............max_depth=1, n_estimators=61; total time=   2.4s\n",
            "[CV 1/5; 8/200] START max_depth=1, n_estimators=71..............................\n",
            "[CV 1/5; 8/200] END ............max_depth=1, n_estimators=71; total time=   2.8s\n",
            "[CV 2/5; 8/200] START max_depth=1, n_estimators=71..............................\n",
            "[CV 2/5; 8/200] END ............max_depth=1, n_estimators=71; total time=   2.9s\n",
            "[CV 3/5; 8/200] START max_depth=1, n_estimators=71..............................\n",
            "[CV 3/5; 8/200] END ............max_depth=1, n_estimators=71; total time=   2.9s\n",
            "[CV 4/5; 8/200] START max_depth=1, n_estimators=71..............................\n",
            "[CV 4/5; 8/200] END ............max_depth=1, n_estimators=71; total time=   2.7s\n",
            "[CV 5/5; 8/200] START max_depth=1, n_estimators=71..............................\n",
            "[CV 5/5; 8/200] END ............max_depth=1, n_estimators=71; total time=   2.8s\n",
            "[CV 1/5; 9/200] START max_depth=1, n_estimators=81..............................\n",
            "[CV 1/5; 9/200] END ............max_depth=1, n_estimators=81; total time=   3.1s\n",
            "[CV 2/5; 9/200] START max_depth=1, n_estimators=81..............................\n",
            "[CV 2/5; 9/200] END ............max_depth=1, n_estimators=81; total time=   3.1s\n",
            "[CV 3/5; 9/200] START max_depth=1, n_estimators=81..............................\n",
            "[CV 3/5; 9/200] END ............max_depth=1, n_estimators=81; total time=   3.2s\n",
            "[CV 4/5; 9/200] START max_depth=1, n_estimators=81..............................\n",
            "[CV 4/5; 9/200] END ............max_depth=1, n_estimators=81; total time=   3.7s\n",
            "[CV 5/5; 9/200] START max_depth=1, n_estimators=81..............................\n",
            "[CV 5/5; 9/200] END ............max_depth=1, n_estimators=81; total time=   4.4s\n",
            "[CV 1/5; 10/200] START max_depth=1, n_estimators=91.............................\n",
            "[CV 1/5; 10/200] END ...........max_depth=1, n_estimators=91; total time=   3.5s\n",
            "[CV 2/5; 10/200] START max_depth=1, n_estimators=91.............................\n",
            "[CV 2/5; 10/200] END ...........max_depth=1, n_estimators=91; total time=   3.6s\n",
            "[CV 3/5; 10/200] START max_depth=1, n_estimators=91.............................\n",
            "[CV 3/5; 10/200] END ...........max_depth=1, n_estimators=91; total time=   3.6s\n",
            "[CV 4/5; 10/200] START max_depth=1, n_estimators=91.............................\n",
            "[CV 4/5; 10/200] END ...........max_depth=1, n_estimators=91; total time=   3.6s\n",
            "[CV 5/5; 10/200] START max_depth=1, n_estimators=91.............................\n",
            "[CV 5/5; 10/200] END ...........max_depth=1, n_estimators=91; total time=   3.6s\n",
            "[CV 1/5; 11/200] START max_depth=6, n_estimators=1..............................\n",
            "[CV 1/5; 11/200] END ............max_depth=6, n_estimators=1; total time=   0.2s\n",
            "[CV 2/5; 11/200] START max_depth=6, n_estimators=1..............................\n",
            "[CV 2/5; 11/200] END ............max_depth=6, n_estimators=1; total time=   0.2s\n",
            "[CV 3/5; 11/200] START max_depth=6, n_estimators=1..............................\n",
            "[CV 3/5; 11/200] END ............max_depth=6, n_estimators=1; total time=   0.2s\n",
            "[CV 4/5; 11/200] START max_depth=6, n_estimators=1..............................\n",
            "[CV 4/5; 11/200] END ............max_depth=6, n_estimators=1; total time=   0.2s\n",
            "[CV 5/5; 11/200] START max_depth=6, n_estimators=1..............................\n",
            "[CV 5/5; 11/200] END ............max_depth=6, n_estimators=1; total time=   0.2s\n",
            "[CV 1/5; 12/200] START max_depth=6, n_estimators=11.............................\n",
            "[CV 1/5; 12/200] END ...........max_depth=6, n_estimators=11; total time=   2.2s\n",
            "[CV 2/5; 12/200] START max_depth=6, n_estimators=11.............................\n",
            "[CV 2/5; 12/200] END ...........max_depth=6, n_estimators=11; total time=   2.2s\n",
            "[CV 3/5; 12/200] START max_depth=6, n_estimators=11.............................\n",
            "[CV 3/5; 12/200] END ...........max_depth=6, n_estimators=11; total time=   2.3s\n",
            "[CV 4/5; 12/200] START max_depth=6, n_estimators=11.............................\n",
            "[CV 4/5; 12/200] END ...........max_depth=6, n_estimators=11; total time=   2.1s\n",
            "[CV 5/5; 12/200] START max_depth=6, n_estimators=11.............................\n",
            "[CV 5/5; 12/200] END ...........max_depth=6, n_estimators=11; total time=   2.2s\n",
            "[CV 1/5; 13/200] START max_depth=6, n_estimators=21.............................\n",
            "[CV 1/5; 13/200] END ...........max_depth=6, n_estimators=21; total time=   4.2s\n",
            "[CV 2/5; 13/200] START max_depth=6, n_estimators=21.............................\n",
            "[CV 2/5; 13/200] END ...........max_depth=6, n_estimators=21; total time=   4.1s\n",
            "[CV 3/5; 13/200] START max_depth=6, n_estimators=21.............................\n",
            "[CV 3/5; 13/200] END ...........max_depth=6, n_estimators=21; total time=   4.3s\n",
            "[CV 4/5; 13/200] START max_depth=6, n_estimators=21.............................\n",
            "[CV 4/5; 13/200] END ...........max_depth=6, n_estimators=21; total time=   4.2s\n",
            "[CV 5/5; 13/200] START max_depth=6, n_estimators=21.............................\n",
            "[CV 5/5; 13/200] END ...........max_depth=6, n_estimators=21; total time=   4.1s\n",
            "[CV 1/5; 14/200] START max_depth=6, n_estimators=31.............................\n",
            "[CV 1/5; 14/200] END ...........max_depth=6, n_estimators=31; total time=   7.3s\n",
            "[CV 2/5; 14/200] START max_depth=6, n_estimators=31.............................\n",
            "[CV 2/5; 14/200] END ...........max_depth=6, n_estimators=31; total time=   6.1s\n",
            "[CV 3/5; 14/200] START max_depth=6, n_estimators=31.............................\n",
            "[CV 3/5; 14/200] END ...........max_depth=6, n_estimators=31; total time=   6.3s\n",
            "[CV 4/5; 14/200] START max_depth=6, n_estimators=31.............................\n",
            "[CV 4/5; 14/200] END ...........max_depth=6, n_estimators=31; total time=   6.3s\n",
            "[CV 5/5; 14/200] START max_depth=6, n_estimators=31.............................\n",
            "[CV 5/5; 14/200] END ...........max_depth=6, n_estimators=31; total time=   6.6s\n",
            "[CV 1/5; 15/200] START max_depth=6, n_estimators=41.............................\n",
            "[CV 1/5; 15/200] END ...........max_depth=6, n_estimators=41; total time=   9.0s\n",
            "[CV 2/5; 15/200] START max_depth=6, n_estimators=41.............................\n",
            "[CV 2/5; 15/200] END ...........max_depth=6, n_estimators=41; total time=   8.0s\n",
            "[CV 3/5; 15/200] START max_depth=6, n_estimators=41.............................\n",
            "[CV 3/5; 15/200] END ...........max_depth=6, n_estimators=41; total time=   8.4s\n",
            "[CV 4/5; 15/200] START max_depth=6, n_estimators=41.............................\n",
            "[CV 4/5; 15/200] END ...........max_depth=6, n_estimators=41; total time=   8.5s\n",
            "[CV 5/5; 15/200] START max_depth=6, n_estimators=41.............................\n",
            "[CV 5/5; 15/200] END ...........max_depth=6, n_estimators=41; total time=   8.3s\n",
            "[CV 1/5; 16/200] START max_depth=6, n_estimators=51.............................\n",
            "[CV 1/5; 16/200] END ...........max_depth=6, n_estimators=51; total time=  10.8s\n",
            "[CV 2/5; 16/200] START max_depth=6, n_estimators=51.............................\n",
            "[CV 2/5; 16/200] END ...........max_depth=6, n_estimators=51; total time=  10.3s\n",
            "[CV 3/5; 16/200] START max_depth=6, n_estimators=51.............................\n",
            "[CV 3/5; 16/200] END ...........max_depth=6, n_estimators=51; total time=  10.4s\n",
            "[CV 4/5; 16/200] START max_depth=6, n_estimators=51.............................\n",
            "[CV 4/5; 16/200] END ...........max_depth=6, n_estimators=51; total time=  10.1s\n",
            "[CV 5/5; 16/200] START max_depth=6, n_estimators=51.............................\n",
            "[CV 5/5; 16/200] END ...........max_depth=6, n_estimators=51; total time=  10.7s\n",
            "[CV 1/5; 17/200] START max_depth=6, n_estimators=61.............................\n",
            "[CV 1/5; 17/200] END ...........max_depth=6, n_estimators=61; total time=  12.2s\n",
            "[CV 2/5; 17/200] START max_depth=6, n_estimators=61.............................\n",
            "[CV 2/5; 17/200] END ...........max_depth=6, n_estimators=61; total time=  12.4s\n",
            "[CV 3/5; 17/200] START max_depth=6, n_estimators=61.............................\n",
            "[CV 3/5; 17/200] END ...........max_depth=6, n_estimators=61; total time=  13.3s\n",
            "[CV 4/5; 17/200] START max_depth=6, n_estimators=61.............................\n",
            "[CV 4/5; 17/200] END ...........max_depth=6, n_estimators=61; total time=  12.2s\n",
            "[CV 5/5; 17/200] START max_depth=6, n_estimators=61.............................\n",
            "[CV 5/5; 17/200] END ...........max_depth=6, n_estimators=61; total time=  12.8s\n",
            "[CV 1/5; 18/200] START max_depth=6, n_estimators=71.............................\n",
            "[CV 1/5; 18/200] END ...........max_depth=6, n_estimators=71; total time=  15.3s\n",
            "[CV 2/5; 18/200] START max_depth=6, n_estimators=71.............................\n",
            "[CV 2/5; 18/200] END ...........max_depth=6, n_estimators=71; total time=  14.6s\n",
            "[CV 3/5; 18/200] START max_depth=6, n_estimators=71.............................\n",
            "[CV 3/5; 18/200] END ...........max_depth=6, n_estimators=71; total time=  15.0s\n",
            "[CV 4/5; 18/200] START max_depth=6, n_estimators=71.............................\n",
            "[CV 4/5; 18/200] END ...........max_depth=6, n_estimators=71; total time=  14.2s\n",
            "[CV 5/5; 18/200] START max_depth=6, n_estimators=71.............................\n",
            "[CV 5/5; 18/200] END ...........max_depth=6, n_estimators=71; total time=  14.9s\n",
            "[CV 1/5; 19/200] START max_depth=6, n_estimators=81.............................\n",
            "[CV 1/5; 19/200] END ...........max_depth=6, n_estimators=81; total time=  18.0s\n",
            "[CV 2/5; 19/200] START max_depth=6, n_estimators=81.............................\n",
            "[CV 2/5; 19/200] END ...........max_depth=6, n_estimators=81; total time=  16.0s\n",
            "[CV 3/5; 19/200] START max_depth=6, n_estimators=81.............................\n",
            "[CV 3/5; 19/200] END ...........max_depth=6, n_estimators=81; total time=  18.6s\n",
            "[CV 4/5; 19/200] START max_depth=6, n_estimators=81.............................\n",
            "[CV 4/5; 19/200] END ...........max_depth=6, n_estimators=81; total time=  16.2s\n",
            "[CV 5/5; 19/200] START max_depth=6, n_estimators=81.............................\n",
            "[CV 5/5; 19/200] END ...........max_depth=6, n_estimators=81; total time=  20.7s\n",
            "[CV 1/5; 20/200] START max_depth=6, n_estimators=91.............................\n",
            "[CV 1/5; 20/200] END ...........max_depth=6, n_estimators=91; total time=  19.1s\n",
            "[CV 2/5; 20/200] START max_depth=6, n_estimators=91.............................\n",
            "[CV 2/5; 20/200] END ...........max_depth=6, n_estimators=91; total time=  18.6s\n",
            "[CV 3/5; 20/200] START max_depth=6, n_estimators=91.............................\n",
            "[CV 3/5; 20/200] END ...........max_depth=6, n_estimators=91; total time=  19.3s\n",
            "[CV 4/5; 20/200] START max_depth=6, n_estimators=91.............................\n",
            "[CV 4/5; 20/200] END ...........max_depth=6, n_estimators=91; total time=  18.8s\n",
            "[CV 5/5; 20/200] START max_depth=6, n_estimators=91.............................\n",
            "[CV 5/5; 20/200] END ...........max_depth=6, n_estimators=91; total time=  18.4s\n",
            "[CV 1/5; 21/200] START max_depth=11, n_estimators=1.............................\n",
            "[CV 1/5; 21/200] END ...........max_depth=11, n_estimators=1; total time=   0.4s\n",
            "[CV 2/5; 21/200] START max_depth=11, n_estimators=1.............................\n",
            "[CV 2/5; 21/200] END ...........max_depth=11, n_estimators=1; total time=   0.4s\n",
            "[CV 3/5; 21/200] START max_depth=11, n_estimators=1.............................\n",
            "[CV 3/5; 21/200] END ...........max_depth=11, n_estimators=1; total time=   0.3s\n",
            "[CV 4/5; 21/200] START max_depth=11, n_estimators=1.............................\n",
            "[CV 4/5; 21/200] END ...........max_depth=11, n_estimators=1; total time=   0.3s\n",
            "[CV 5/5; 21/200] START max_depth=11, n_estimators=1.............................\n",
            "[CV 5/5; 21/200] END ...........max_depth=11, n_estimators=1; total time=   0.3s\n",
            "[CV 1/5; 22/200] START max_depth=11, n_estimators=11............................\n",
            "[CV 1/5; 22/200] END ..........max_depth=11, n_estimators=11; total time=   3.8s\n",
            "[CV 2/5; 22/200] START max_depth=11, n_estimators=11............................\n",
            "[CV 2/5; 22/200] END ..........max_depth=11, n_estimators=11; total time=   3.8s\n",
            "[CV 3/5; 22/200] START max_depth=11, n_estimators=11............................\n",
            "[CV 3/5; 22/200] END ..........max_depth=11, n_estimators=11; total time=   3.6s\n",
            "[CV 4/5; 22/200] START max_depth=11, n_estimators=11............................\n",
            "[CV 4/5; 22/200] END ..........max_depth=11, n_estimators=11; total time=   3.5s\n",
            "[CV 5/5; 22/200] START max_depth=11, n_estimators=11............................\n",
            "[CV 5/5; 22/200] END ..........max_depth=11, n_estimators=11; total time=   3.4s\n",
            "[CV 1/5; 23/200] START max_depth=11, n_estimators=21............................\n",
            "[CV 1/5; 23/200] END ..........max_depth=11, n_estimators=21; total time=   6.7s\n",
            "[CV 2/5; 23/200] START max_depth=11, n_estimators=21............................\n",
            "[CV 2/5; 23/200] END ..........max_depth=11, n_estimators=21; total time=   6.6s\n",
            "[CV 3/5; 23/200] START max_depth=11, n_estimators=21............................\n",
            "[CV 3/5; 23/200] END ..........max_depth=11, n_estimators=21; total time=   7.3s\n",
            "[CV 4/5; 23/200] START max_depth=11, n_estimators=21............................\n",
            "[CV 4/5; 23/200] END ..........max_depth=11, n_estimators=21; total time=   6.6s\n",
            "[CV 5/5; 23/200] START max_depth=11, n_estimators=21............................\n",
            "[CV 5/5; 23/200] END ..........max_depth=11, n_estimators=21; total time=   6.6s\n",
            "[CV 1/5; 24/200] START max_depth=11, n_estimators=31............................\n",
            "[CV 1/5; 24/200] END ..........max_depth=11, n_estimators=31; total time=  10.2s\n",
            "[CV 2/5; 24/200] START max_depth=11, n_estimators=31............................\n",
            "[CV 2/5; 24/200] END ..........max_depth=11, n_estimators=31; total time=  10.3s\n",
            "[CV 3/5; 24/200] START max_depth=11, n_estimators=31............................\n",
            "[CV 3/5; 24/200] END ..........max_depth=11, n_estimators=31; total time=  10.3s\n",
            "[CV 4/5; 24/200] START max_depth=11, n_estimators=31............................\n",
            "[CV 4/5; 24/200] END ..........max_depth=11, n_estimators=31; total time=   9.9s\n",
            "[CV 5/5; 24/200] START max_depth=11, n_estimators=31............................\n",
            "[CV 5/5; 24/200] END ..........max_depth=11, n_estimators=31; total time=  10.4s\n",
            "[CV 1/5; 25/200] START max_depth=11, n_estimators=41............................\n",
            "[CV 1/5; 25/200] END ..........max_depth=11, n_estimators=41; total time=  13.4s\n",
            "[CV 2/5; 25/200] START max_depth=11, n_estimators=41............................\n",
            "[CV 2/5; 25/200] END ..........max_depth=11, n_estimators=41; total time=  13.2s\n",
            "[CV 3/5; 25/200] START max_depth=11, n_estimators=41............................\n",
            "[CV 3/5; 25/200] END ..........max_depth=11, n_estimators=41; total time=  13.6s\n",
            "[CV 4/5; 25/200] START max_depth=11, n_estimators=41............................\n",
            "[CV 4/5; 25/200] END ..........max_depth=11, n_estimators=41; total time=  13.3s\n",
            "[CV 5/5; 25/200] START max_depth=11, n_estimators=41............................\n",
            "[CV 5/5; 25/200] END ..........max_depth=11, n_estimators=41; total time=  13.0s\n",
            "[CV 1/5; 26/200] START max_depth=11, n_estimators=51............................\n",
            "[CV 1/5; 26/200] END ..........max_depth=11, n_estimators=51; total time=  16.6s\n",
            "[CV 2/5; 26/200] START max_depth=11, n_estimators=51............................\n",
            "[CV 2/5; 26/200] END ..........max_depth=11, n_estimators=51; total time=  15.9s\n",
            "[CV 3/5; 26/200] START max_depth=11, n_estimators=51............................\n",
            "[CV 3/5; 26/200] END ..........max_depth=11, n_estimators=51; total time=  17.0s\n",
            "[CV 4/5; 26/200] START max_depth=11, n_estimators=51............................\n",
            "[CV 4/5; 26/200] END ..........max_depth=11, n_estimators=51; total time=  15.8s\n",
            "[CV 5/5; 26/200] START max_depth=11, n_estimators=51............................\n",
            "[CV 5/5; 26/200] END ..........max_depth=11, n_estimators=51; total time=  16.3s\n",
            "[CV 1/5; 27/200] START max_depth=11, n_estimators=61............................\n",
            "[CV 1/5; 27/200] END ..........max_depth=11, n_estimators=61; total time=  19.4s\n",
            "[CV 2/5; 27/200] START max_depth=11, n_estimators=61............................\n",
            "[CV 2/5; 27/200] END ..........max_depth=11, n_estimators=61; total time=  20.0s\n",
            "[CV 3/5; 27/200] START max_depth=11, n_estimators=61............................\n",
            "[CV 3/5; 27/200] END ..........max_depth=11, n_estimators=61; total time=  23.1s\n",
            "[CV 4/5; 27/200] START max_depth=11, n_estimators=61............................\n",
            "[CV 4/5; 27/200] END ..........max_depth=11, n_estimators=61; total time=  19.5s\n",
            "[CV 5/5; 27/200] START max_depth=11, n_estimators=61............................\n",
            "[CV 5/5; 27/200] END ..........max_depth=11, n_estimators=61; total time=  19.6s\n",
            "[CV 1/5; 28/200] START max_depth=11, n_estimators=71............................\n",
            "[CV 1/5; 28/200] END ..........max_depth=11, n_estimators=71; total time=  23.2s\n",
            "[CV 2/5; 28/200] START max_depth=11, n_estimators=71............................\n",
            "[CV 2/5; 28/200] END ..........max_depth=11, n_estimators=71; total time=  22.3s\n",
            "[CV 3/5; 28/200] START max_depth=11, n_estimators=71............................\n",
            "[CV 3/5; 28/200] END ..........max_depth=11, n_estimators=71; total time=  23.4s\n",
            "[CV 4/5; 28/200] START max_depth=11, n_estimators=71............................\n",
            "[CV 4/5; 28/200] END ..........max_depth=11, n_estimators=71; total time=  22.3s\n",
            "[CV 5/5; 28/200] START max_depth=11, n_estimators=71............................\n",
            "[CV 5/5; 28/200] END ..........max_depth=11, n_estimators=71; total time=  22.0s\n",
            "[CV 1/5; 29/200] START max_depth=11, n_estimators=81............................\n",
            "[CV 1/5; 29/200] END ..........max_depth=11, n_estimators=81; total time=  26.3s\n",
            "[CV 2/5; 29/200] START max_depth=11, n_estimators=81............................\n",
            "[CV 2/5; 29/200] END ..........max_depth=11, n_estimators=81; total time=  25.7s\n",
            "[CV 3/5; 29/200] START max_depth=11, n_estimators=81............................\n",
            "[CV 3/5; 29/200] END ..........max_depth=11, n_estimators=81; total time=  27.0s\n",
            "[CV 4/5; 29/200] START max_depth=11, n_estimators=81............................\n",
            "[CV 4/5; 29/200] END ..........max_depth=11, n_estimators=81; total time=  25.3s\n",
            "[CV 5/5; 29/200] START max_depth=11, n_estimators=81............................\n",
            "[CV 5/5; 29/200] END ..........max_depth=11, n_estimators=81; total time=  26.1s\n",
            "[CV 1/5; 30/200] START max_depth=11, n_estimators=91............................\n",
            "[CV 1/5; 30/200] END ..........max_depth=11, n_estimators=91; total time=  28.9s\n",
            "[CV 2/5; 30/200] START max_depth=11, n_estimators=91............................\n",
            "[CV 2/5; 30/200] END ..........max_depth=11, n_estimators=91; total time=  28.6s\n",
            "[CV 3/5; 30/200] START max_depth=11, n_estimators=91............................\n",
            "[CV 3/5; 30/200] END ..........max_depth=11, n_estimators=91; total time=  30.8s\n",
            "[CV 4/5; 30/200] START max_depth=11, n_estimators=91............................\n",
            "[CV 4/5; 30/200] END ..........max_depth=11, n_estimators=91; total time=  28.8s\n",
            "[CV 5/5; 30/200] START max_depth=11, n_estimators=91............................\n",
            "[CV 5/5; 30/200] END ..........max_depth=11, n_estimators=91; total time=  28.9s\n",
            "[CV 1/5; 31/200] START max_depth=16, n_estimators=1.............................\n",
            "[CV 1/5; 31/200] END ...........max_depth=16, n_estimators=1; total time=   0.4s\n",
            "[CV 2/5; 31/200] START max_depth=16, n_estimators=1.............................\n",
            "[CV 2/5; 31/200] END ...........max_depth=16, n_estimators=1; total time=   0.4s\n",
            "[CV 3/5; 31/200] START max_depth=16, n_estimators=1.............................\n",
            "[CV 3/5; 31/200] END ...........max_depth=16, n_estimators=1; total time=   0.4s\n",
            "[CV 4/5; 31/200] START max_depth=16, n_estimators=1.............................\n",
            "[CV 4/5; 31/200] END ...........max_depth=16, n_estimators=1; total time=   0.4s\n",
            "[CV 5/5; 31/200] START max_depth=16, n_estimators=1.............................\n",
            "[CV 5/5; 31/200] END ...........max_depth=16, n_estimators=1; total time=   0.4s\n",
            "[CV 1/5; 32/200] START max_depth=16, n_estimators=11............................\n",
            "[CV 1/5; 32/200] END ..........max_depth=16, n_estimators=11; total time=   4.4s\n",
            "[CV 2/5; 32/200] START max_depth=16, n_estimators=11............................\n",
            "[CV 2/5; 32/200] END ..........max_depth=16, n_estimators=11; total time=   4.4s\n",
            "[CV 3/5; 32/200] START max_depth=16, n_estimators=11............................\n",
            "[CV 3/5; 32/200] END ..........max_depth=16, n_estimators=11; total time=   5.1s\n",
            "[CV 4/5; 32/200] START max_depth=16, n_estimators=11............................\n",
            "[CV 4/5; 32/200] END ..........max_depth=16, n_estimators=11; total time=   4.3s\n",
            "[CV 5/5; 32/200] START max_depth=16, n_estimators=11............................\n",
            "[CV 5/5; 32/200] END ..........max_depth=16, n_estimators=11; total time=   4.4s\n",
            "[CV 1/5; 33/200] START max_depth=16, n_estimators=21............................\n",
            "[CV 1/5; 33/200] END ..........max_depth=16, n_estimators=21; total time=   8.5s\n",
            "[CV 2/5; 33/200] START max_depth=16, n_estimators=21............................\n",
            "[CV 2/5; 33/200] END ..........max_depth=16, n_estimators=21; total time=   9.2s\n",
            "[CV 3/5; 33/200] START max_depth=16, n_estimators=21............................\n",
            "[CV 3/5; 33/200] END ..........max_depth=16, n_estimators=21; total time=   9.1s\n",
            "[CV 4/5; 33/200] START max_depth=16, n_estimators=21............................\n",
            "[CV 4/5; 33/200] END ..........max_depth=16, n_estimators=21; total time=   8.5s\n",
            "[CV 5/5; 33/200] START max_depth=16, n_estimators=21............................\n",
            "[CV 5/5; 33/200] END ..........max_depth=16, n_estimators=21; total time=   8.4s\n",
            "[CV 1/5; 34/200] START max_depth=16, n_estimators=31............................\n",
            "[CV 1/5; 34/200] END ..........max_depth=16, n_estimators=31; total time=  13.2s\n",
            "[CV 2/5; 34/200] START max_depth=16, n_estimators=31............................\n",
            "[CV 2/5; 34/200] END ..........max_depth=16, n_estimators=31; total time=  13.0s\n",
            "[CV 3/5; 34/200] START max_depth=16, n_estimators=31............................\n",
            "[CV 3/5; 34/200] END ..........max_depth=16, n_estimators=31; total time=  13.7s\n",
            "[CV 4/5; 34/200] START max_depth=16, n_estimators=31............................\n",
            "[CV 4/5; 34/200] END ..........max_depth=16, n_estimators=31; total time=  11.9s\n",
            "[CV 5/5; 34/200] START max_depth=16, n_estimators=31............................\n",
            "[CV 5/5; 34/200] END ..........max_depth=16, n_estimators=31; total time=  12.4s\n",
            "[CV 1/5; 35/200] START max_depth=16, n_estimators=41............................\n",
            "[CV 1/5; 35/200] END ..........max_depth=16, n_estimators=41; total time=  16.6s\n",
            "[CV 2/5; 35/200] START max_depth=16, n_estimators=41............................\n",
            "[CV 2/5; 35/200] END ..........max_depth=16, n_estimators=41; total time=  17.1s\n",
            "[CV 3/5; 35/200] START max_depth=16, n_estimators=41............................\n",
            "[CV 3/5; 35/200] END ..........max_depth=16, n_estimators=41; total time=  17.3s\n",
            "[CV 4/5; 35/200] START max_depth=16, n_estimators=41............................\n",
            "[CV 4/5; 35/200] END ..........max_depth=16, n_estimators=41; total time=  16.4s\n",
            "[CV 5/5; 35/200] START max_depth=16, n_estimators=41............................\n",
            "[CV 5/5; 35/200] END ..........max_depth=16, n_estimators=41; total time=  16.2s\n",
            "[CV 1/5; 36/200] START max_depth=16, n_estimators=51............................\n",
            "[CV 1/5; 36/200] END ..........max_depth=16, n_estimators=51; total time=  20.6s\n",
            "[CV 2/5; 36/200] START max_depth=16, n_estimators=51............................\n",
            "[CV 2/5; 36/200] END ..........max_depth=16, n_estimators=51; total time=  20.6s\n",
            "[CV 3/5; 36/200] START max_depth=16, n_estimators=51............................\n",
            "[CV 3/5; 36/200] END ..........max_depth=16, n_estimators=51; total time=  21.4s\n",
            "[CV 4/5; 36/200] START max_depth=16, n_estimators=51............................\n",
            "[CV 4/5; 36/200] END ..........max_depth=16, n_estimators=51; total time=  20.5s\n",
            "[CV 5/5; 36/200] START max_depth=16, n_estimators=51............................\n",
            "[CV 5/5; 36/200] END ..........max_depth=16, n_estimators=51; total time=  21.1s\n",
            "[CV 1/5; 37/200] START max_depth=16, n_estimators=61............................\n",
            "[CV 1/5; 37/200] END ..........max_depth=16, n_estimators=61; total time=  28.0s\n",
            "[CV 2/5; 37/200] START max_depth=16, n_estimators=61............................\n"
          ]
        },
        {
          "name": "stderr",
          "output_type": "stream",
          "text": [
            "ERROR:root:Internal Python error in the inspect module.\n",
            "Below is the traceback from this internal error.\n",
            "\n"
          ]
        },
        {
          "name": "stdout",
          "output_type": "stream",
          "text": [
            "Traceback (most recent call last):\n",
            "  File \"/opt/conda/lib/python3.9/site-packages/IPython/core/interactiveshell.py\", line 3441, in run_code\n",
            "    exec(code_obj, self.user_global_ns, self.user_ns)\n",
            "  File \"/tmp/ipykernel_990/498254775.py\", line 11, in <module>\n",
            "    start_func(forest_model_r,\n",
            "  File \"/tmp/ipykernel_990/2348948799.py\", line 5, in start_func\n",
            "    rougher,best_params_r = smape_scores(model_r, model_name, features, target_r)\n",
            "  File \"/tmp/ipykernel_990/1759944047.py\", line 29, in smape_scores\n",
            "    grid_search.fit(features, target)\n",
            "  File \"/opt/conda/lib/python3.9/site-packages/sklearn/utils/validation.py\", line 63, in inner_f\n",
            "    return f(*args, **kwargs)\n",
            "  File \"/opt/conda/lib/python3.9/site-packages/sklearn/model_selection/_search.py\", line 841, in fit\n",
            "    self._run_search(evaluate_candidates)\n",
            "  File \"/opt/conda/lib/python3.9/site-packages/sklearn/model_selection/_search.py\", line 1288, in _run_search\n",
            "    evaluate_candidates(ParameterGrid(self.param_grid))\n",
            "  File \"/opt/conda/lib/python3.9/site-packages/sklearn/model_selection/_search.py\", line 795, in evaluate_candidates\n",
            "    out = parallel(delayed(_fit_and_score)(clone(base_estimator),\n",
            "  File \"/opt/conda/lib/python3.9/site-packages/joblib/parallel.py\", line 1046, in __call__\n",
            "    while self.dispatch_one_batch(iterator):\n",
            "  File \"/opt/conda/lib/python3.9/site-packages/joblib/parallel.py\", line 861, in dispatch_one_batch\n",
            "    self._dispatch(tasks)\n",
            "  File \"/opt/conda/lib/python3.9/site-packages/joblib/parallel.py\", line 779, in _dispatch\n",
            "    job = self._backend.apply_async(batch, callback=cb)\n",
            "  File \"/opt/conda/lib/python3.9/site-packages/joblib/_parallel_backends.py\", line 208, in apply_async\n",
            "    result = ImmediateResult(func)\n",
            "  File \"/opt/conda/lib/python3.9/site-packages/joblib/_parallel_backends.py\", line 572, in __init__\n",
            "    self.results = batch()\n",
            "  File \"/opt/conda/lib/python3.9/site-packages/joblib/parallel.py\", line 262, in __call__\n",
            "    return [func(*args, **kwargs)\n",
            "  File \"/opt/conda/lib/python3.9/site-packages/joblib/parallel.py\", line 262, in <listcomp>\n",
            "    return [func(*args, **kwargs)\n",
            "  File \"/opt/conda/lib/python3.9/site-packages/sklearn/utils/fixes.py\", line 222, in __call__\n",
            "    return self.function(*args, **kwargs)\n",
            "  File \"/opt/conda/lib/python3.9/site-packages/sklearn/model_selection/_validation.py\", line 593, in _fit_and_score\n",
            "    estimator.fit(X_train, y_train, **fit_params)\n",
            "  File \"/opt/conda/lib/python3.9/site-packages/sklearn/ensemble/_forest.py\", line 387, in fit\n",
            "    trees = Parallel(n_jobs=self.n_jobs, verbose=self.verbose,\n",
            "  File \"/opt/conda/lib/python3.9/site-packages/joblib/parallel.py\", line 1046, in __call__\n",
            "    while self.dispatch_one_batch(iterator):\n",
            "  File \"/opt/conda/lib/python3.9/site-packages/joblib/parallel.py\", line 861, in dispatch_one_batch\n",
            "    self._dispatch(tasks)\n",
            "  File \"/opt/conda/lib/python3.9/site-packages/joblib/parallel.py\", line 779, in _dispatch\n",
            "    job = self._backend.apply_async(batch, callback=cb)\n",
            "  File \"/opt/conda/lib/python3.9/site-packages/joblib/_parallel_backends.py\", line 208, in apply_async\n",
            "    result = ImmediateResult(func)\n",
            "  File \"/opt/conda/lib/python3.9/site-packages/joblib/_parallel_backends.py\", line 572, in __init__\n",
            "    self.results = batch()\n",
            "  File \"/opt/conda/lib/python3.9/site-packages/joblib/parallel.py\", line 262, in __call__\n",
            "    return [func(*args, **kwargs)\n",
            "  File \"/opt/conda/lib/python3.9/site-packages/joblib/parallel.py\", line 262, in <listcomp>\n",
            "    return [func(*args, **kwargs)\n",
            "  File \"/opt/conda/lib/python3.9/site-packages/sklearn/utils/fixes.py\", line 222, in __call__\n",
            "    return self.function(*args, **kwargs)\n",
            "  File \"/opt/conda/lib/python3.9/site-packages/sklearn/ensemble/_forest.py\", line 169, in _parallel_build_trees\n",
            "    tree.fit(X, y, sample_weight=curr_sample_weight, check_input=False)\n",
            "  File \"/opt/conda/lib/python3.9/site-packages/sklearn/tree/_classes.py\", line 1247, in fit\n",
            "    super().fit(\n",
            "  File \"/opt/conda/lib/python3.9/site-packages/sklearn/tree/_classes.py\", line 389, in fit\n",
            "    builder.build(self.tree_, X, y, sample_weight)\n",
            "KeyboardInterrupt\n",
            "\n",
            "During handling of the above exception, another exception occurred:\n",
            "\n",
            "Traceback (most recent call last):\n",
            "  File \"/opt/conda/lib/python3.9/site-packages/IPython/core/interactiveshell.py\", line 2061, in showtraceback\n",
            "    stb = value._render_traceback_()\n",
            "AttributeError: 'KeyboardInterrupt' object has no attribute '_render_traceback_'\n",
            "\n",
            "During handling of the above exception, another exception occurred:\n",
            "\n",
            "Traceback (most recent call last):\n",
            "  File \"/opt/conda/lib/python3.9/site-packages/IPython/core/ultratb.py\", line 1101, in get_records\n",
            "    return _fixed_getinnerframes(etb, number_of_lines_of_context, tb_offset)\n",
            "  File \"/opt/conda/lib/python3.9/site-packages/IPython/core/ultratb.py\", line 248, in wrapped\n",
            "    return f(*args, **kwargs)\n",
            "  File \"/opt/conda/lib/python3.9/site-packages/IPython/core/ultratb.py\", line 281, in _fixed_getinnerframes\n",
            "    records = fix_frame_records_filenames(inspect.getinnerframes(etb, context))\n",
            "  File \"/opt/conda/lib/python3.9/inspect.py\", line 1541, in getinnerframes\n",
            "    frameinfo = (tb.tb_frame,) + getframeinfo(tb, context)\n",
            "  File \"/opt/conda/lib/python3.9/inspect.py\", line 1499, in getframeinfo\n",
            "    filename = getsourcefile(frame) or getfile(frame)\n",
            "  File \"/opt/conda/lib/python3.9/inspect.py\", line 709, in getsourcefile\n",
            "    if getattr(getmodule(object, filename), '__loader__', None) is not None:\n",
            "  File \"/opt/conda/lib/python3.9/inspect.py\", line 755, in getmodule\n",
            "    os.path.realpath(f)] = module.__name__\n",
            "  File \"/opt/conda/lib/python3.9/posixpath.py\", line 391, in realpath\n",
            "    path, ok = _joinrealpath(filename[:0], filename, {})\n",
            "  File \"/opt/conda/lib/python3.9/posixpath.py\", line 425, in _joinrealpath\n",
            "    if not islink(newpath):\n",
            "  File \"/opt/conda/lib/python3.9/posixpath.py\", line 167, in islink\n",
            "    st = os.lstat(path)\n",
            "KeyboardInterrupt\n"
          ]
        },
        {
          "ename": "TypeError",
          "evalue": "object of type 'NoneType' has no len()",
          "output_type": "error",
          "traceback": [
            "\u001b[0;31m---------------------------------------------------------------------------\u001b[0m",
            "\u001b[0;31mKeyboardInterrupt\u001b[0m                         Traceback (most recent call last)",
            "    \u001b[0;31m[... skipping hidden 1 frame]\u001b[0m\n",
            "\u001b[0;32m/tmp/ipykernel_990/498254775.py\u001b[0m in \u001b[0;36m<module>\u001b[0;34m\u001b[0m\n\u001b[1;32m     10\u001b[0m \u001b[0;34m\u001b[0m\u001b[0m\n\u001b[0;32m---> 11\u001b[0;31m start_func(forest_model_r,\n\u001b[0m\u001b[1;32m     12\u001b[0m            \u001b[0mforest_model_f\u001b[0m\u001b[0;34m,\u001b[0m\u001b[0;34m\u001b[0m\u001b[0;34m\u001b[0m\u001b[0m\n",
            "\u001b[0;32m/tmp/ipykernel_990/2348948799.py\u001b[0m in \u001b[0;36mstart_func\u001b[0;34m(model_r, model_f, model_name, features, target_r, target_f)\u001b[0m\n\u001b[1;32m      4\u001b[0m \u001b[0;34m\u001b[0m\u001b[0m\n\u001b[0;32m----> 5\u001b[0;31m     \u001b[0mrougher\u001b[0m\u001b[0;34m,\u001b[0m\u001b[0mbest_params_r\u001b[0m \u001b[0;34m=\u001b[0m \u001b[0msmape_scores\u001b[0m\u001b[0;34m(\u001b[0m\u001b[0mmodel_r\u001b[0m\u001b[0;34m,\u001b[0m \u001b[0mmodel_name\u001b[0m\u001b[0;34m,\u001b[0m \u001b[0mfeatures\u001b[0m\u001b[0;34m,\u001b[0m \u001b[0mtarget_r\u001b[0m\u001b[0;34m)\u001b[0m\u001b[0;34m\u001b[0m\u001b[0;34m\u001b[0m\u001b[0m\n\u001b[0m\u001b[1;32m      6\u001b[0m     \u001b[0mrougher\u001b[0m \u001b[0;34m=\u001b[0m \u001b[0mrougher\u001b[0m\u001b[0;34m.\u001b[0m\u001b[0mmean\u001b[0m\u001b[0;34m(\u001b[0m\u001b[0;34m)\u001b[0m\u001b[0;34m\u001b[0m\u001b[0;34m\u001b[0m\u001b[0m\n",
            "\u001b[0;32m/tmp/ipykernel_990/1759944047.py\u001b[0m in \u001b[0;36msmape_scores\u001b[0;34m(model, model_name, features, target)\u001b[0m\n\u001b[1;32m     28\u001b[0m \u001b[0;34m\u001b[0m\u001b[0m\n\u001b[0;32m---> 29\u001b[0;31m         \u001b[0mgrid_search\u001b[0m\u001b[0;34m.\u001b[0m\u001b[0mfit\u001b[0m\u001b[0;34m(\u001b[0m\u001b[0mfeatures\u001b[0m\u001b[0;34m,\u001b[0m \u001b[0mtarget\u001b[0m\u001b[0;34m)\u001b[0m\u001b[0;34m\u001b[0m\u001b[0;34m\u001b[0m\u001b[0m\n\u001b[0m\u001b[1;32m     30\u001b[0m \u001b[0;34m\u001b[0m\u001b[0m\n",
            "\u001b[0;32m/opt/conda/lib/python3.9/site-packages/sklearn/utils/validation.py\u001b[0m in \u001b[0;36minner_f\u001b[0;34m(*args, **kwargs)\u001b[0m\n\u001b[1;32m     62\u001b[0m             \u001b[0;32mif\u001b[0m \u001b[0mextra_args\u001b[0m \u001b[0;34m<=\u001b[0m \u001b[0;36m0\u001b[0m\u001b[0;34m:\u001b[0m\u001b[0;34m\u001b[0m\u001b[0;34m\u001b[0m\u001b[0m\n\u001b[0;32m---> 63\u001b[0;31m                 \u001b[0;32mreturn\u001b[0m \u001b[0mf\u001b[0m\u001b[0;34m(\u001b[0m\u001b[0;34m*\u001b[0m\u001b[0margs\u001b[0m\u001b[0;34m,\u001b[0m \u001b[0;34m**\u001b[0m\u001b[0mkwargs\u001b[0m\u001b[0;34m)\u001b[0m\u001b[0;34m\u001b[0m\u001b[0;34m\u001b[0m\u001b[0m\n\u001b[0m\u001b[1;32m     64\u001b[0m \u001b[0;34m\u001b[0m\u001b[0m\n",
            "\u001b[0;32m/opt/conda/lib/python3.9/site-packages/sklearn/model_selection/_search.py\u001b[0m in \u001b[0;36mfit\u001b[0;34m(self, X, y, groups, **fit_params)\u001b[0m\n\u001b[1;32m    840\u001b[0m \u001b[0;34m\u001b[0m\u001b[0m\n\u001b[0;32m--> 841\u001b[0;31m             \u001b[0mself\u001b[0m\u001b[0;34m.\u001b[0m\u001b[0m_run_search\u001b[0m\u001b[0;34m(\u001b[0m\u001b[0mevaluate_candidates\u001b[0m\u001b[0;34m)\u001b[0m\u001b[0;34m\u001b[0m\u001b[0;34m\u001b[0m\u001b[0m\n\u001b[0m\u001b[1;32m    842\u001b[0m \u001b[0;34m\u001b[0m\u001b[0m\n",
            "\u001b[0;32m/opt/conda/lib/python3.9/site-packages/sklearn/model_selection/_search.py\u001b[0m in \u001b[0;36m_run_search\u001b[0;34m(self, evaluate_candidates)\u001b[0m\n\u001b[1;32m   1287\u001b[0m         \u001b[0;34m\"\"\"Search all candidates in param_grid\"\"\"\u001b[0m\u001b[0;34m\u001b[0m\u001b[0;34m\u001b[0m\u001b[0m\n\u001b[0;32m-> 1288\u001b[0;31m         \u001b[0mevaluate_candidates\u001b[0m\u001b[0;34m(\u001b[0m\u001b[0mParameterGrid\u001b[0m\u001b[0;34m(\u001b[0m\u001b[0mself\u001b[0m\u001b[0;34m.\u001b[0m\u001b[0mparam_grid\u001b[0m\u001b[0;34m)\u001b[0m\u001b[0;34m)\u001b[0m\u001b[0;34m\u001b[0m\u001b[0;34m\u001b[0m\u001b[0m\n\u001b[0m\u001b[1;32m   1289\u001b[0m \u001b[0;34m\u001b[0m\u001b[0m\n",
            "\u001b[0;32m/opt/conda/lib/python3.9/site-packages/sklearn/model_selection/_search.py\u001b[0m in \u001b[0;36mevaluate_candidates\u001b[0;34m(candidate_params, cv, more_results)\u001b[0m\n\u001b[1;32m    794\u001b[0m \u001b[0;34m\u001b[0m\u001b[0m\n\u001b[0;32m--> 795\u001b[0;31m                 out = parallel(delayed(_fit_and_score)(clone(base_estimator),\n\u001b[0m\u001b[1;32m    796\u001b[0m                                                        \u001b[0mX\u001b[0m\u001b[0;34m,\u001b[0m \u001b[0my\u001b[0m\u001b[0;34m,\u001b[0m\u001b[0;34m\u001b[0m\u001b[0;34m\u001b[0m\u001b[0m\n",
            "\u001b[0;32m/opt/conda/lib/python3.9/site-packages/joblib/parallel.py\u001b[0m in \u001b[0;36m__call__\u001b[0;34m(self, iterable)\u001b[0m\n\u001b[1;32m   1045\u001b[0m \u001b[0;34m\u001b[0m\u001b[0m\n\u001b[0;32m-> 1046\u001b[0;31m             \u001b[0;32mwhile\u001b[0m \u001b[0mself\u001b[0m\u001b[0;34m.\u001b[0m\u001b[0mdispatch_one_batch\u001b[0m\u001b[0;34m(\u001b[0m\u001b[0miterator\u001b[0m\u001b[0;34m)\u001b[0m\u001b[0;34m:\u001b[0m\u001b[0;34m\u001b[0m\u001b[0;34m\u001b[0m\u001b[0m\n\u001b[0m\u001b[1;32m   1047\u001b[0m                 \u001b[0;32mpass\u001b[0m\u001b[0;34m\u001b[0m\u001b[0;34m\u001b[0m\u001b[0m\n",
            "\u001b[0;32m/opt/conda/lib/python3.9/site-packages/joblib/parallel.py\u001b[0m in \u001b[0;36mdispatch_one_batch\u001b[0;34m(self, iterator)\u001b[0m\n\u001b[1;32m    860\u001b[0m             \u001b[0;32melse\u001b[0m\u001b[0;34m:\u001b[0m\u001b[0;34m\u001b[0m\u001b[0;34m\u001b[0m\u001b[0m\n\u001b[0;32m--> 861\u001b[0;31m                 \u001b[0mself\u001b[0m\u001b[0;34m.\u001b[0m\u001b[0m_dispatch\u001b[0m\u001b[0;34m(\u001b[0m\u001b[0mtasks\u001b[0m\u001b[0;34m)\u001b[0m\u001b[0;34m\u001b[0m\u001b[0;34m\u001b[0m\u001b[0m\n\u001b[0m\u001b[1;32m    862\u001b[0m                 \u001b[0;32mreturn\u001b[0m \u001b[0;32mTrue\u001b[0m\u001b[0;34m\u001b[0m\u001b[0;34m\u001b[0m\u001b[0m\n",
            "\u001b[0;32m/opt/conda/lib/python3.9/site-packages/joblib/parallel.py\u001b[0m in \u001b[0;36m_dispatch\u001b[0;34m(self, batch)\u001b[0m\n\u001b[1;32m    778\u001b[0m             \u001b[0mjob_idx\u001b[0m \u001b[0;34m=\u001b[0m \u001b[0mlen\u001b[0m\u001b[0;34m(\u001b[0m\u001b[0mself\u001b[0m\u001b[0;34m.\u001b[0m\u001b[0m_jobs\u001b[0m\u001b[0;34m)\u001b[0m\u001b[0;34m\u001b[0m\u001b[0;34m\u001b[0m\u001b[0m\n\u001b[0;32m--> 779\u001b[0;31m             \u001b[0mjob\u001b[0m \u001b[0;34m=\u001b[0m \u001b[0mself\u001b[0m\u001b[0;34m.\u001b[0m\u001b[0m_backend\u001b[0m\u001b[0;34m.\u001b[0m\u001b[0mapply_async\u001b[0m\u001b[0;34m(\u001b[0m\u001b[0mbatch\u001b[0m\u001b[0;34m,\u001b[0m \u001b[0mcallback\u001b[0m\u001b[0;34m=\u001b[0m\u001b[0mcb\u001b[0m\u001b[0;34m)\u001b[0m\u001b[0;34m\u001b[0m\u001b[0;34m\u001b[0m\u001b[0m\n\u001b[0m\u001b[1;32m    780\u001b[0m             \u001b[0;31m# A job can complete so quickly than its callback is\u001b[0m\u001b[0;34m\u001b[0m\u001b[0;34m\u001b[0m\u001b[0;34m\u001b[0m\u001b[0m\n",
            "\u001b[0;32m/opt/conda/lib/python3.9/site-packages/joblib/_parallel_backends.py\u001b[0m in \u001b[0;36mapply_async\u001b[0;34m(self, func, callback)\u001b[0m\n\u001b[1;32m    207\u001b[0m         \u001b[0;34m\"\"\"Schedule a func to be run\"\"\"\u001b[0m\u001b[0;34m\u001b[0m\u001b[0;34m\u001b[0m\u001b[0m\n\u001b[0;32m--> 208\u001b[0;31m         \u001b[0mresult\u001b[0m \u001b[0;34m=\u001b[0m \u001b[0mImmediateResult\u001b[0m\u001b[0;34m(\u001b[0m\u001b[0mfunc\u001b[0m\u001b[0;34m)\u001b[0m\u001b[0;34m\u001b[0m\u001b[0;34m\u001b[0m\u001b[0m\n\u001b[0m\u001b[1;32m    209\u001b[0m         \u001b[0;32mif\u001b[0m \u001b[0mcallback\u001b[0m\u001b[0;34m:\u001b[0m\u001b[0;34m\u001b[0m\u001b[0;34m\u001b[0m\u001b[0m\n",
            "\u001b[0;32m/opt/conda/lib/python3.9/site-packages/joblib/_parallel_backends.py\u001b[0m in \u001b[0;36m__init__\u001b[0;34m(self, batch)\u001b[0m\n\u001b[1;32m    571\u001b[0m         \u001b[0;31m# arguments in memory\u001b[0m\u001b[0;34m\u001b[0m\u001b[0;34m\u001b[0m\u001b[0;34m\u001b[0m\u001b[0m\n\u001b[0;32m--> 572\u001b[0;31m         \u001b[0mself\u001b[0m\u001b[0;34m.\u001b[0m\u001b[0mresults\u001b[0m \u001b[0;34m=\u001b[0m \u001b[0mbatch\u001b[0m\u001b[0;34m(\u001b[0m\u001b[0;34m)\u001b[0m\u001b[0;34m\u001b[0m\u001b[0;34m\u001b[0m\u001b[0m\n\u001b[0m\u001b[1;32m    573\u001b[0m \u001b[0;34m\u001b[0m\u001b[0m\n",
            "\u001b[0;32m/opt/conda/lib/python3.9/site-packages/joblib/parallel.py\u001b[0m in \u001b[0;36m__call__\u001b[0;34m(self)\u001b[0m\n\u001b[1;32m    261\u001b[0m         \u001b[0;32mwith\u001b[0m \u001b[0mparallel_backend\u001b[0m\u001b[0;34m(\u001b[0m\u001b[0mself\u001b[0m\u001b[0;34m.\u001b[0m\u001b[0m_backend\u001b[0m\u001b[0;34m,\u001b[0m \u001b[0mn_jobs\u001b[0m\u001b[0;34m=\u001b[0m\u001b[0mself\u001b[0m\u001b[0;34m.\u001b[0m\u001b[0m_n_jobs\u001b[0m\u001b[0;34m)\u001b[0m\u001b[0;34m:\u001b[0m\u001b[0;34m\u001b[0m\u001b[0;34m\u001b[0m\u001b[0m\n\u001b[0;32m--> 262\u001b[0;31m             return [func(*args, **kwargs)\n\u001b[0m\u001b[1;32m    263\u001b[0m                     for func, args, kwargs in self.items]\n",
            "\u001b[0;32m/opt/conda/lib/python3.9/site-packages/joblib/parallel.py\u001b[0m in \u001b[0;36m<listcomp>\u001b[0;34m(.0)\u001b[0m\n\u001b[1;32m    261\u001b[0m         \u001b[0;32mwith\u001b[0m \u001b[0mparallel_backend\u001b[0m\u001b[0;34m(\u001b[0m\u001b[0mself\u001b[0m\u001b[0;34m.\u001b[0m\u001b[0m_backend\u001b[0m\u001b[0;34m,\u001b[0m \u001b[0mn_jobs\u001b[0m\u001b[0;34m=\u001b[0m\u001b[0mself\u001b[0m\u001b[0;34m.\u001b[0m\u001b[0m_n_jobs\u001b[0m\u001b[0;34m)\u001b[0m\u001b[0;34m:\u001b[0m\u001b[0;34m\u001b[0m\u001b[0;34m\u001b[0m\u001b[0m\n\u001b[0;32m--> 262\u001b[0;31m             return [func(*args, **kwargs)\n\u001b[0m\u001b[1;32m    263\u001b[0m                     for func, args, kwargs in self.items]\n",
            "\u001b[0;32m/opt/conda/lib/python3.9/site-packages/sklearn/utils/fixes.py\u001b[0m in \u001b[0;36m__call__\u001b[0;34m(self, *args, **kwargs)\u001b[0m\n\u001b[1;32m    221\u001b[0m         \u001b[0;32mwith\u001b[0m \u001b[0mconfig_context\u001b[0m\u001b[0;34m(\u001b[0m\u001b[0;34m**\u001b[0m\u001b[0mself\u001b[0m\u001b[0;34m.\u001b[0m\u001b[0mconfig\u001b[0m\u001b[0;34m)\u001b[0m\u001b[0;34m:\u001b[0m\u001b[0;34m\u001b[0m\u001b[0;34m\u001b[0m\u001b[0m\n\u001b[0;32m--> 222\u001b[0;31m             \u001b[0;32mreturn\u001b[0m \u001b[0mself\u001b[0m\u001b[0;34m.\u001b[0m\u001b[0mfunction\u001b[0m\u001b[0;34m(\u001b[0m\u001b[0;34m*\u001b[0m\u001b[0margs\u001b[0m\u001b[0;34m,\u001b[0m \u001b[0;34m**\u001b[0m\u001b[0mkwargs\u001b[0m\u001b[0;34m)\u001b[0m\u001b[0;34m\u001b[0m\u001b[0;34m\u001b[0m\u001b[0m\n\u001b[0m",
            "\u001b[0;32m/opt/conda/lib/python3.9/site-packages/sklearn/model_selection/_validation.py\u001b[0m in \u001b[0;36m_fit_and_score\u001b[0;34m(estimator, X, y, scorer, train, test, verbose, parameters, fit_params, return_train_score, return_parameters, return_n_test_samples, return_times, return_estimator, split_progress, candidate_progress, error_score)\u001b[0m\n\u001b[1;32m    592\u001b[0m         \u001b[0;32melse\u001b[0m\u001b[0;34m:\u001b[0m\u001b[0;34m\u001b[0m\u001b[0;34m\u001b[0m\u001b[0m\n\u001b[0;32m--> 593\u001b[0;31m             \u001b[0mestimator\u001b[0m\u001b[0;34m.\u001b[0m\u001b[0mfit\u001b[0m\u001b[0;34m(\u001b[0m\u001b[0mX_train\u001b[0m\u001b[0;34m,\u001b[0m \u001b[0my_train\u001b[0m\u001b[0;34m,\u001b[0m \u001b[0;34m**\u001b[0m\u001b[0mfit_params\u001b[0m\u001b[0;34m)\u001b[0m\u001b[0;34m\u001b[0m\u001b[0;34m\u001b[0m\u001b[0m\n\u001b[0m\u001b[1;32m    594\u001b[0m \u001b[0;34m\u001b[0m\u001b[0m\n",
            "\u001b[0;32m/opt/conda/lib/python3.9/site-packages/sklearn/ensemble/_forest.py\u001b[0m in \u001b[0;36mfit\u001b[0;34m(self, X, y, sample_weight)\u001b[0m\n\u001b[1;32m    386\u001b[0m             \u001b[0;31m# since correctness does not rely on using threads.\u001b[0m\u001b[0;34m\u001b[0m\u001b[0;34m\u001b[0m\u001b[0;34m\u001b[0m\u001b[0m\n\u001b[0;32m--> 387\u001b[0;31m             trees = Parallel(n_jobs=self.n_jobs, verbose=self.verbose,\n\u001b[0m\u001b[1;32m    388\u001b[0m                              \u001b[0;34m**\u001b[0m\u001b[0m_joblib_parallel_args\u001b[0m\u001b[0;34m(\u001b[0m\u001b[0mprefer\u001b[0m\u001b[0;34m=\u001b[0m\u001b[0;34m'threads'\u001b[0m\u001b[0;34m)\u001b[0m\u001b[0;34m)\u001b[0m\u001b[0;34m(\u001b[0m\u001b[0;34m\u001b[0m\u001b[0;34m\u001b[0m\u001b[0m\n",
            "\u001b[0;32m/opt/conda/lib/python3.9/site-packages/joblib/parallel.py\u001b[0m in \u001b[0;36m__call__\u001b[0;34m(self, iterable)\u001b[0m\n\u001b[1;32m   1045\u001b[0m \u001b[0;34m\u001b[0m\u001b[0m\n\u001b[0;32m-> 1046\u001b[0;31m             \u001b[0;32mwhile\u001b[0m \u001b[0mself\u001b[0m\u001b[0;34m.\u001b[0m\u001b[0mdispatch_one_batch\u001b[0m\u001b[0;34m(\u001b[0m\u001b[0miterator\u001b[0m\u001b[0;34m)\u001b[0m\u001b[0;34m:\u001b[0m\u001b[0;34m\u001b[0m\u001b[0;34m\u001b[0m\u001b[0m\n\u001b[0m\u001b[1;32m   1047\u001b[0m                 \u001b[0;32mpass\u001b[0m\u001b[0;34m\u001b[0m\u001b[0;34m\u001b[0m\u001b[0m\n",
            "\u001b[0;32m/opt/conda/lib/python3.9/site-packages/joblib/parallel.py\u001b[0m in \u001b[0;36mdispatch_one_batch\u001b[0;34m(self, iterator)\u001b[0m\n\u001b[1;32m    860\u001b[0m             \u001b[0;32melse\u001b[0m\u001b[0;34m:\u001b[0m\u001b[0;34m\u001b[0m\u001b[0;34m\u001b[0m\u001b[0m\n\u001b[0;32m--> 861\u001b[0;31m                 \u001b[0mself\u001b[0m\u001b[0;34m.\u001b[0m\u001b[0m_dispatch\u001b[0m\u001b[0;34m(\u001b[0m\u001b[0mtasks\u001b[0m\u001b[0;34m)\u001b[0m\u001b[0;34m\u001b[0m\u001b[0;34m\u001b[0m\u001b[0m\n\u001b[0m\u001b[1;32m    862\u001b[0m                 \u001b[0;32mreturn\u001b[0m \u001b[0;32mTrue\u001b[0m\u001b[0;34m\u001b[0m\u001b[0;34m\u001b[0m\u001b[0m\n",
            "\u001b[0;32m/opt/conda/lib/python3.9/site-packages/joblib/parallel.py\u001b[0m in \u001b[0;36m_dispatch\u001b[0;34m(self, batch)\u001b[0m\n\u001b[1;32m    778\u001b[0m             \u001b[0mjob_idx\u001b[0m \u001b[0;34m=\u001b[0m \u001b[0mlen\u001b[0m\u001b[0;34m(\u001b[0m\u001b[0mself\u001b[0m\u001b[0;34m.\u001b[0m\u001b[0m_jobs\u001b[0m\u001b[0;34m)\u001b[0m\u001b[0;34m\u001b[0m\u001b[0;34m\u001b[0m\u001b[0m\n\u001b[0;32m--> 779\u001b[0;31m             \u001b[0mjob\u001b[0m \u001b[0;34m=\u001b[0m \u001b[0mself\u001b[0m\u001b[0;34m.\u001b[0m\u001b[0m_backend\u001b[0m\u001b[0;34m.\u001b[0m\u001b[0mapply_async\u001b[0m\u001b[0;34m(\u001b[0m\u001b[0mbatch\u001b[0m\u001b[0;34m,\u001b[0m \u001b[0mcallback\u001b[0m\u001b[0;34m=\u001b[0m\u001b[0mcb\u001b[0m\u001b[0;34m)\u001b[0m\u001b[0;34m\u001b[0m\u001b[0;34m\u001b[0m\u001b[0m\n\u001b[0m\u001b[1;32m    780\u001b[0m             \u001b[0;31m# A job can complete so quickly than its callback is\u001b[0m\u001b[0;34m\u001b[0m\u001b[0;34m\u001b[0m\u001b[0;34m\u001b[0m\u001b[0m\n",
            "\u001b[0;32m/opt/conda/lib/python3.9/site-packages/joblib/_parallel_backends.py\u001b[0m in \u001b[0;36mapply_async\u001b[0;34m(self, func, callback)\u001b[0m\n\u001b[1;32m    207\u001b[0m         \u001b[0;34m\"\"\"Schedule a func to be run\"\"\"\u001b[0m\u001b[0;34m\u001b[0m\u001b[0;34m\u001b[0m\u001b[0m\n\u001b[0;32m--> 208\u001b[0;31m         \u001b[0mresult\u001b[0m \u001b[0;34m=\u001b[0m \u001b[0mImmediateResult\u001b[0m\u001b[0;34m(\u001b[0m\u001b[0mfunc\u001b[0m\u001b[0;34m)\u001b[0m\u001b[0;34m\u001b[0m\u001b[0;34m\u001b[0m\u001b[0m\n\u001b[0m\u001b[1;32m    209\u001b[0m         \u001b[0;32mif\u001b[0m \u001b[0mcallback\u001b[0m\u001b[0;34m:\u001b[0m\u001b[0;34m\u001b[0m\u001b[0;34m\u001b[0m\u001b[0m\n",
            "\u001b[0;32m/opt/conda/lib/python3.9/site-packages/joblib/_parallel_backends.py\u001b[0m in \u001b[0;36m__init__\u001b[0;34m(self, batch)\u001b[0m\n\u001b[1;32m    571\u001b[0m         \u001b[0;31m# arguments in memory\u001b[0m\u001b[0;34m\u001b[0m\u001b[0;34m\u001b[0m\u001b[0;34m\u001b[0m\u001b[0m\n\u001b[0;32m--> 572\u001b[0;31m         \u001b[0mself\u001b[0m\u001b[0;34m.\u001b[0m\u001b[0mresults\u001b[0m \u001b[0;34m=\u001b[0m \u001b[0mbatch\u001b[0m\u001b[0;34m(\u001b[0m\u001b[0;34m)\u001b[0m\u001b[0;34m\u001b[0m\u001b[0;34m\u001b[0m\u001b[0m\n\u001b[0m\u001b[1;32m    573\u001b[0m \u001b[0;34m\u001b[0m\u001b[0m\n",
            "\u001b[0;32m/opt/conda/lib/python3.9/site-packages/joblib/parallel.py\u001b[0m in \u001b[0;36m__call__\u001b[0;34m(self)\u001b[0m\n\u001b[1;32m    261\u001b[0m         \u001b[0;32mwith\u001b[0m \u001b[0mparallel_backend\u001b[0m\u001b[0;34m(\u001b[0m\u001b[0mself\u001b[0m\u001b[0;34m.\u001b[0m\u001b[0m_backend\u001b[0m\u001b[0;34m,\u001b[0m \u001b[0mn_jobs\u001b[0m\u001b[0;34m=\u001b[0m\u001b[0mself\u001b[0m\u001b[0;34m.\u001b[0m\u001b[0m_n_jobs\u001b[0m\u001b[0;34m)\u001b[0m\u001b[0;34m:\u001b[0m\u001b[0;34m\u001b[0m\u001b[0;34m\u001b[0m\u001b[0m\n\u001b[0;32m--> 262\u001b[0;31m             return [func(*args, **kwargs)\n\u001b[0m\u001b[1;32m    263\u001b[0m                     for func, args, kwargs in self.items]\n",
            "\u001b[0;32m/opt/conda/lib/python3.9/site-packages/joblib/parallel.py\u001b[0m in \u001b[0;36m<listcomp>\u001b[0;34m(.0)\u001b[0m\n\u001b[1;32m    261\u001b[0m         \u001b[0;32mwith\u001b[0m \u001b[0mparallel_backend\u001b[0m\u001b[0;34m(\u001b[0m\u001b[0mself\u001b[0m\u001b[0;34m.\u001b[0m\u001b[0m_backend\u001b[0m\u001b[0;34m,\u001b[0m \u001b[0mn_jobs\u001b[0m\u001b[0;34m=\u001b[0m\u001b[0mself\u001b[0m\u001b[0;34m.\u001b[0m\u001b[0m_n_jobs\u001b[0m\u001b[0;34m)\u001b[0m\u001b[0;34m:\u001b[0m\u001b[0;34m\u001b[0m\u001b[0;34m\u001b[0m\u001b[0m\n\u001b[0;32m--> 262\u001b[0;31m             return [func(*args, **kwargs)\n\u001b[0m\u001b[1;32m    263\u001b[0m                     for func, args, kwargs in self.items]\n",
            "\u001b[0;32m/opt/conda/lib/python3.9/site-packages/sklearn/utils/fixes.py\u001b[0m in \u001b[0;36m__call__\u001b[0;34m(self, *args, **kwargs)\u001b[0m\n\u001b[1;32m    221\u001b[0m         \u001b[0;32mwith\u001b[0m \u001b[0mconfig_context\u001b[0m\u001b[0;34m(\u001b[0m\u001b[0;34m**\u001b[0m\u001b[0mself\u001b[0m\u001b[0;34m.\u001b[0m\u001b[0mconfig\u001b[0m\u001b[0;34m)\u001b[0m\u001b[0;34m:\u001b[0m\u001b[0;34m\u001b[0m\u001b[0;34m\u001b[0m\u001b[0m\n\u001b[0;32m--> 222\u001b[0;31m             \u001b[0;32mreturn\u001b[0m \u001b[0mself\u001b[0m\u001b[0;34m.\u001b[0m\u001b[0mfunction\u001b[0m\u001b[0;34m(\u001b[0m\u001b[0;34m*\u001b[0m\u001b[0margs\u001b[0m\u001b[0;34m,\u001b[0m \u001b[0;34m**\u001b[0m\u001b[0mkwargs\u001b[0m\u001b[0;34m)\u001b[0m\u001b[0;34m\u001b[0m\u001b[0;34m\u001b[0m\u001b[0m\n\u001b[0m",
            "\u001b[0;32m/opt/conda/lib/python3.9/site-packages/sklearn/ensemble/_forest.py\u001b[0m in \u001b[0;36m_parallel_build_trees\u001b[0;34m(tree, forest, X, y, sample_weight, tree_idx, n_trees, verbose, class_weight, n_samples_bootstrap)\u001b[0m\n\u001b[1;32m    168\u001b[0m \u001b[0;34m\u001b[0m\u001b[0m\n\u001b[0;32m--> 169\u001b[0;31m         \u001b[0mtree\u001b[0m\u001b[0;34m.\u001b[0m\u001b[0mfit\u001b[0m\u001b[0;34m(\u001b[0m\u001b[0mX\u001b[0m\u001b[0;34m,\u001b[0m \u001b[0my\u001b[0m\u001b[0;34m,\u001b[0m \u001b[0msample_weight\u001b[0m\u001b[0;34m=\u001b[0m\u001b[0mcurr_sample_weight\u001b[0m\u001b[0;34m,\u001b[0m \u001b[0mcheck_input\u001b[0m\u001b[0;34m=\u001b[0m\u001b[0;32mFalse\u001b[0m\u001b[0;34m)\u001b[0m\u001b[0;34m\u001b[0m\u001b[0;34m\u001b[0m\u001b[0m\n\u001b[0m\u001b[1;32m    170\u001b[0m     \u001b[0;32melse\u001b[0m\u001b[0;34m:\u001b[0m\u001b[0;34m\u001b[0m\u001b[0;34m\u001b[0m\u001b[0m\n",
            "\u001b[0;32m/opt/conda/lib/python3.9/site-packages/sklearn/tree/_classes.py\u001b[0m in \u001b[0;36mfit\u001b[0;34m(self, X, y, sample_weight, check_input, X_idx_sorted)\u001b[0m\n\u001b[1;32m   1246\u001b[0m \u001b[0;34m\u001b[0m\u001b[0m\n\u001b[0;32m-> 1247\u001b[0;31m         super().fit(\n\u001b[0m\u001b[1;32m   1248\u001b[0m             \u001b[0mX\u001b[0m\u001b[0;34m,\u001b[0m \u001b[0my\u001b[0m\u001b[0;34m,\u001b[0m\u001b[0;34m\u001b[0m\u001b[0;34m\u001b[0m\u001b[0m\n",
            "\u001b[0;32m/opt/conda/lib/python3.9/site-packages/sklearn/tree/_classes.py\u001b[0m in \u001b[0;36mfit\u001b[0;34m(self, X, y, sample_weight, check_input, X_idx_sorted)\u001b[0m\n\u001b[1;32m    388\u001b[0m \u001b[0;34m\u001b[0m\u001b[0m\n\u001b[0;32m--> 389\u001b[0;31m         \u001b[0mbuilder\u001b[0m\u001b[0;34m.\u001b[0m\u001b[0mbuild\u001b[0m\u001b[0;34m(\u001b[0m\u001b[0mself\u001b[0m\u001b[0;34m.\u001b[0m\u001b[0mtree_\u001b[0m\u001b[0;34m,\u001b[0m \u001b[0mX\u001b[0m\u001b[0;34m,\u001b[0m \u001b[0my\u001b[0m\u001b[0;34m,\u001b[0m \u001b[0msample_weight\u001b[0m\u001b[0;34m)\u001b[0m\u001b[0;34m\u001b[0m\u001b[0;34m\u001b[0m\u001b[0m\n\u001b[0m\u001b[1;32m    390\u001b[0m \u001b[0;34m\u001b[0m\u001b[0m\n",
            "\u001b[0;31mKeyboardInterrupt\u001b[0m: ",
            "\nDuring handling of the above exception, another exception occurred:\n",
            "\u001b[0;31mAttributeError\u001b[0m                            Traceback (most recent call last)",
            "\u001b[0;32m/opt/conda/lib/python3.9/site-packages/IPython/core/interactiveshell.py\u001b[0m in \u001b[0;36mshowtraceback\u001b[0;34m(self, exc_tuple, filename, tb_offset, exception_only, running_compiled_code)\u001b[0m\n\u001b[1;32m   2060\u001b[0m                         \u001b[0;31m# in the engines. This should return a list of strings.\u001b[0m\u001b[0;34m\u001b[0m\u001b[0;34m\u001b[0m\u001b[0;34m\u001b[0m\u001b[0m\n\u001b[0;32m-> 2061\u001b[0;31m                         \u001b[0mstb\u001b[0m \u001b[0;34m=\u001b[0m \u001b[0mvalue\u001b[0m\u001b[0;34m.\u001b[0m\u001b[0m_render_traceback_\u001b[0m\u001b[0;34m(\u001b[0m\u001b[0;34m)\u001b[0m\u001b[0;34m\u001b[0m\u001b[0;34m\u001b[0m\u001b[0m\n\u001b[0m\u001b[1;32m   2062\u001b[0m                     \u001b[0;32mexcept\u001b[0m \u001b[0mException\u001b[0m\u001b[0;34m:\u001b[0m\u001b[0;34m\u001b[0m\u001b[0;34m\u001b[0m\u001b[0m\n",
            "\u001b[0;31mAttributeError\u001b[0m: 'KeyboardInterrupt' object has no attribute '_render_traceback_'",
            "\nDuring handling of the above exception, another exception occurred:\n",
            "\u001b[0;31mTypeError\u001b[0m                                 Traceback (most recent call last)",
            "    \u001b[0;31m[... skipping hidden 1 frame]\u001b[0m\n",
            "\u001b[0;32m/opt/conda/lib/python3.9/site-packages/IPython/core/interactiveshell.py\u001b[0m in \u001b[0;36mshowtraceback\u001b[0;34m(self, exc_tuple, filename, tb_offset, exception_only, running_compiled_code)\u001b[0m\n\u001b[1;32m   2061\u001b[0m                         \u001b[0mstb\u001b[0m \u001b[0;34m=\u001b[0m \u001b[0mvalue\u001b[0m\u001b[0;34m.\u001b[0m\u001b[0m_render_traceback_\u001b[0m\u001b[0;34m(\u001b[0m\u001b[0;34m)\u001b[0m\u001b[0;34m\u001b[0m\u001b[0;34m\u001b[0m\u001b[0m\n\u001b[1;32m   2062\u001b[0m                     \u001b[0;32mexcept\u001b[0m \u001b[0mException\u001b[0m\u001b[0;34m:\u001b[0m\u001b[0;34m\u001b[0m\u001b[0;34m\u001b[0m\u001b[0m\n\u001b[0;32m-> 2063\u001b[0;31m                         stb = self.InteractiveTB.structured_traceback(etype,\n\u001b[0m\u001b[1;32m   2064\u001b[0m                                             value, tb, tb_offset=tb_offset)\n\u001b[1;32m   2065\u001b[0m \u001b[0;34m\u001b[0m\u001b[0m\n",
            "\u001b[0;32m/opt/conda/lib/python3.9/site-packages/IPython/core/ultratb.py\u001b[0m in \u001b[0;36mstructured_traceback\u001b[0;34m(self, etype, value, tb, tb_offset, number_of_lines_of_context)\u001b[0m\n\u001b[1;32m   1365\u001b[0m         \u001b[0;32melse\u001b[0m\u001b[0;34m:\u001b[0m\u001b[0;34m\u001b[0m\u001b[0;34m\u001b[0m\u001b[0m\n\u001b[1;32m   1366\u001b[0m             \u001b[0mself\u001b[0m\u001b[0;34m.\u001b[0m\u001b[0mtb\u001b[0m \u001b[0;34m=\u001b[0m \u001b[0mtb\u001b[0m\u001b[0;34m\u001b[0m\u001b[0;34m\u001b[0m\u001b[0m\n\u001b[0;32m-> 1367\u001b[0;31m         return FormattedTB.structured_traceback(\n\u001b[0m\u001b[1;32m   1368\u001b[0m             self, etype, value, tb, tb_offset, number_of_lines_of_context)\n\u001b[1;32m   1369\u001b[0m \u001b[0;34m\u001b[0m\u001b[0m\n",
            "\u001b[0;32m/opt/conda/lib/python3.9/site-packages/IPython/core/ultratb.py\u001b[0m in \u001b[0;36mstructured_traceback\u001b[0;34m(self, etype, value, tb, tb_offset, number_of_lines_of_context)\u001b[0m\n\u001b[1;32m   1265\u001b[0m         \u001b[0;32mif\u001b[0m \u001b[0mmode\u001b[0m \u001b[0;32min\u001b[0m \u001b[0mself\u001b[0m\u001b[0;34m.\u001b[0m\u001b[0mverbose_modes\u001b[0m\u001b[0;34m:\u001b[0m\u001b[0;34m\u001b[0m\u001b[0;34m\u001b[0m\u001b[0m\n\u001b[1;32m   1266\u001b[0m             \u001b[0;31m# Verbose modes need a full traceback\u001b[0m\u001b[0;34m\u001b[0m\u001b[0;34m\u001b[0m\u001b[0;34m\u001b[0m\u001b[0m\n\u001b[0;32m-> 1267\u001b[0;31m             return VerboseTB.structured_traceback(\n\u001b[0m\u001b[1;32m   1268\u001b[0m                 \u001b[0mself\u001b[0m\u001b[0;34m,\u001b[0m \u001b[0metype\u001b[0m\u001b[0;34m,\u001b[0m \u001b[0mvalue\u001b[0m\u001b[0;34m,\u001b[0m \u001b[0mtb\u001b[0m\u001b[0;34m,\u001b[0m \u001b[0mtb_offset\u001b[0m\u001b[0;34m,\u001b[0m \u001b[0mnumber_of_lines_of_context\u001b[0m\u001b[0;34m\u001b[0m\u001b[0;34m\u001b[0m\u001b[0m\n\u001b[1;32m   1269\u001b[0m             )\n",
            "\u001b[0;32m/opt/conda/lib/python3.9/site-packages/IPython/core/ultratb.py\u001b[0m in \u001b[0;36mstructured_traceback\u001b[0;34m(self, etype, evalue, etb, tb_offset, number_of_lines_of_context)\u001b[0m\n\u001b[1;32m   1122\u001b[0m         \u001b[0;34m\"\"\"Return a nice text document describing the traceback.\"\"\"\u001b[0m\u001b[0;34m\u001b[0m\u001b[0;34m\u001b[0m\u001b[0m\n\u001b[1;32m   1123\u001b[0m \u001b[0;34m\u001b[0m\u001b[0m\n\u001b[0;32m-> 1124\u001b[0;31m         formatted_exception = self.format_exception_as_a_whole(etype, evalue, etb, number_of_lines_of_context,\n\u001b[0m\u001b[1;32m   1125\u001b[0m                                                                tb_offset)\n\u001b[1;32m   1126\u001b[0m \u001b[0;34m\u001b[0m\u001b[0m\n",
            "\u001b[0;32m/opt/conda/lib/python3.9/site-packages/IPython/core/ultratb.py\u001b[0m in \u001b[0;36mformat_exception_as_a_whole\u001b[0;34m(self, etype, evalue, etb, number_of_lines_of_context, tb_offset)\u001b[0m\n\u001b[1;32m   1080\u001b[0m \u001b[0;34m\u001b[0m\u001b[0m\n\u001b[1;32m   1081\u001b[0m \u001b[0;34m\u001b[0m\u001b[0m\n\u001b[0;32m-> 1082\u001b[0;31m         \u001b[0mlast_unique\u001b[0m\u001b[0;34m,\u001b[0m \u001b[0mrecursion_repeat\u001b[0m \u001b[0;34m=\u001b[0m \u001b[0mfind_recursion\u001b[0m\u001b[0;34m(\u001b[0m\u001b[0morig_etype\u001b[0m\u001b[0;34m,\u001b[0m \u001b[0mevalue\u001b[0m\u001b[0;34m,\u001b[0m \u001b[0mrecords\u001b[0m\u001b[0;34m)\u001b[0m\u001b[0;34m\u001b[0m\u001b[0;34m\u001b[0m\u001b[0m\n\u001b[0m\u001b[1;32m   1083\u001b[0m \u001b[0;34m\u001b[0m\u001b[0m\n\u001b[1;32m   1084\u001b[0m         \u001b[0mframes\u001b[0m \u001b[0;34m=\u001b[0m \u001b[0mself\u001b[0m\u001b[0;34m.\u001b[0m\u001b[0mformat_records\u001b[0m\u001b[0;34m(\u001b[0m\u001b[0mrecords\u001b[0m\u001b[0;34m,\u001b[0m \u001b[0mlast_unique\u001b[0m\u001b[0;34m,\u001b[0m \u001b[0mrecursion_repeat\u001b[0m\u001b[0;34m)\u001b[0m\u001b[0;34m\u001b[0m\u001b[0;34m\u001b[0m\u001b[0m\n",
            "\u001b[0;32m/opt/conda/lib/python3.9/site-packages/IPython/core/ultratb.py\u001b[0m in \u001b[0;36mfind_recursion\u001b[0;34m(etype, value, records)\u001b[0m\n\u001b[1;32m    380\u001b[0m     \u001b[0;31m# first frame (from in to out) that looks different.\u001b[0m\u001b[0;34m\u001b[0m\u001b[0;34m\u001b[0m\u001b[0;34m\u001b[0m\u001b[0m\n\u001b[1;32m    381\u001b[0m     \u001b[0;32mif\u001b[0m \u001b[0;32mnot\u001b[0m \u001b[0mis_recursion_error\u001b[0m\u001b[0;34m(\u001b[0m\u001b[0metype\u001b[0m\u001b[0;34m,\u001b[0m \u001b[0mvalue\u001b[0m\u001b[0;34m,\u001b[0m \u001b[0mrecords\u001b[0m\u001b[0;34m)\u001b[0m\u001b[0;34m:\u001b[0m\u001b[0;34m\u001b[0m\u001b[0;34m\u001b[0m\u001b[0m\n\u001b[0;32m--> 382\u001b[0;31m         \u001b[0;32mreturn\u001b[0m \u001b[0mlen\u001b[0m\u001b[0;34m(\u001b[0m\u001b[0mrecords\u001b[0m\u001b[0;34m)\u001b[0m\u001b[0;34m,\u001b[0m \u001b[0;36m0\u001b[0m\u001b[0;34m\u001b[0m\u001b[0;34m\u001b[0m\u001b[0m\n\u001b[0m\u001b[1;32m    383\u001b[0m \u001b[0;34m\u001b[0m\u001b[0m\n\u001b[1;32m    384\u001b[0m     \u001b[0;31m# Select filename, lineno, func_name to track frames with\u001b[0m\u001b[0;34m\u001b[0m\u001b[0;34m\u001b[0m\u001b[0;34m\u001b[0m\u001b[0m\n",
            "\u001b[0;31mTypeError\u001b[0m: object of type 'NoneType' has no len()"
          ]
        }
      ],
      "source": [
        "# модель для флотации\n",
        "\n",
        "forest_model_r = RandomForestRegressor(random_state=12345)\n",
        "\n",
        "# модель для финальной стадии\n",
        "\n",
        "forest_model_f = RandomForestRegressor(random_state=12345)\n",
        "\n",
        "# расчет и вывод результатов\n",
        "\n",
        "start_func(forest_model_r,\n",
        "           forest_model_f,\n",
        "           'Случайный лес',\n",
        "           features_train,\n",
        "           target_rougher_train,\n",
        "           target_final_train)\n",
        "\n"
      ]
    },
    {
      "cell_type": "markdown",
      "metadata": {
        "id": "uqShVDGKCZPM"
      },
      "source": [
        "#### Итог"
      ]
    },
    {
      "cell_type": "markdown",
      "metadata": {
        "id": "fGC8CJ2UCZPN"
      },
      "source": [
        "Как и ожидалось, лучше всего себя показала модель случайного леса. Ее и будем использовать далее"
      ]
    },
    {
      "cell_type": "markdown",
      "metadata": {
        "id": "QUaz5urqCZPN"
      },
      "source": [
        "### Проверка модели на тестовой выборке"
      ]
    },
    {
      "cell_type": "code",
      "execution_count": null,
      "metadata": {
        "id": "GMOP1mZZCZPO"
      },
      "outputs": [],
      "source": [
        "# подготовим выборки\n",
        "\n",
        "features_test = data_test.drop(['rougher.output.recovery','final.output.recovery'], axis=1)\n",
        "target_rougher_test = data_test['rougher.output.recovery']\n",
        "target_final_test = data_test['final.output.recovery']"
      ]
    },
    {
      "cell_type": "code",
      "execution_count": null,
      "metadata": {
        "id": "Tb-KoongCZPO"
      },
      "outputs": [],
      "source": [
        "# Масштабируем данные\n",
        "\n",
        "scaler = StandardScaler()\n",
        "\n",
        "scaler.fit(features_train[numeric])\n",
        "\n",
        "features_test[numeric] = scaler.transform(features_test[numeric])"
      ]
    },
    {
      "cell_type": "code",
      "execution_count": null,
      "metadata": {
        "id": "WjEtgTUECZPQ"
      },
      "outputs": [],
      "source": [
        "# создадим функцию для обучения, предсказывания, и вывода метрик\n",
        "\n",
        "def second_start_func(model_r,\n",
        "                      model_f,\n",
        "                      model_name,\n",
        "                      features_train,\n",
        "                      features_test,\n",
        "                      target_r_train,\n",
        "                      target_r_test,\n",
        "                      target_f_train,\n",
        "                      target_f_test):\n",
        "\n",
        "    model_r.fit(features_train,target_r_train)\n",
        "    model_f.fit(features_train,target_f_train)\n",
        "\n",
        "    r_predict = model_r.predict(features_test)\n",
        "    f_predict = model_f.predict(features_test)\n",
        "\n",
        "    rougher = smape(target_r_test,r_predict)\n",
        "    final = smape(target_f_test,f_predict)\n",
        "\n",
        "    final_smape = make_final_smape(rougher,final)\n",
        "\n",
        "    print_score(model_name, rougher, final, final_smape)"
      ]
    },
    {
      "cell_type": "code",
      "execution_count": null,
      "metadata": {
        "id": "8ec79LjvCZPQ",
        "outputId": "55e2a07b-ec17-4c98-cb6b-7529302b614b"
      },
      "outputs": [
        {
          "name": "stdout",
          "output_type": "stream",
          "text": [
            "Модель:  Дерево решений \n",
            "\n",
            "Лучшие параметрs для стадии флотации: не вычислялись \n",
            "\n",
            "Лучшие параметрs для финальной стадии: не вычислялись \n",
            "\n",
            "Результат sMAPE стадии флотации:  5.827505064790848 \n",
            "\n",
            "Результат sMAPE финальной стадии:  8.948153033712376 \n",
            "\n",
            "Итоговый sMAPE:  8.167991041481994\n"
          ]
        }
      ],
      "source": [
        "# запустим функцию на ранее созданных моделях\n",
        "forest_model_r = RandomForestRegressor(max_depth=1,n_estimators=61,random_state=12345)\n",
        "forest_model_f = RandomForestRegressor(max_depth=1,n_estimators=71, random_state=12345)\n",
        "\n",
        "\n",
        "\n",
        "second_start_func(forest_model_r,\n",
        "                  forest_model_f,\n",
        "                  'Дерево решений',\n",
        "                  features_train,\n",
        "                  features_test,\n",
        "                  target_rougher_train,\n",
        "                  target_rougher_test,\n",
        "                  target_final_train,\n",
        "                  target_final_test)"
      ]
    },
    {
      "cell_type": "markdown",
      "metadata": {
        "id": "089k-CILCZPS"
      },
      "source": [
        "#### Сравнение с константной моделью"
      ]
    },
    {
      "cell_type": "code",
      "execution_count": null,
      "metadata": {
        "id": "jbRFn8k6CZPS",
        "outputId": "e274f0c7-dbaa-47ee-9df6-065d4b1990d2"
      },
      "outputs": [
        {
          "name": "stdout",
          "output_type": "stream",
          "text": [
            "Модель:  Dummy_модель \n",
            "\n",
            "Лучшие параметрs для стадии флотации: не вычислялись \n",
            "\n",
            "Лучшие параметрs для финальной стадии: не вычислялись \n",
            "\n",
            "Результат sMAPE стадии флотации:  6.203235487260253 \n",
            "\n",
            "Результат sMAPE финальной стадии:  9.187737818206696 \n",
            "\n",
            "Итоговый sMAPE:  8.441612235470085\n"
          ]
        }
      ],
      "source": [
        "# создадим dummy-модели\n",
        "\n",
        "# модель для флотации\n",
        "\n",
        "dummy_rougher = DummyRegressor(strategy=\"mean\")\n",
        "\n",
        "# модель для финальной стадии\n",
        "\n",
        "dummy_final = DummyRegressor(strategy=\"mean\")\n",
        "\n",
        "# расчет и вывод результатов\n",
        "\n",
        "second_start_func(dummy_rougher,\n",
        "                  dummy_final,\n",
        "                  'Dummy_модель',\n",
        "                  features_train,\n",
        "                  features_test,\n",
        "                  target_rougher_train,\n",
        "                  target_rougher_test,\n",
        "                  target_final_train,\n",
        "                  target_final_test)\n"
      ]
    },
    {
      "cell_type": "markdown",
      "metadata": {
        "id": "fdJsHVwuCZPV"
      },
      "source": [
        "## Заключение"
      ]
    },
    {
      "cell_type": "markdown",
      "metadata": {
        "id": "TYjygBFICZPW"
      },
      "source": [
        "По ходу проекта были выполнены следующие шаги:\n",
        "\n",
        "    Изучение и предобработка данных:\n",
        "    \n",
        "    - вывели информацию по всем таблицами столбцам\n",
        "    - проверии и устранили пропуски ианомалии\n",
        "    - скорректировали и подогнали выборки для последующих исследований\n",
        "    \n",
        "    Исследование распределения и концентрации веществ:\n",
        "    \n",
        "    - Посмотрели, как меняется концентрация металлов на каждом этапе тех.процесса\n",
        "    - Проверили общую концентрацию веществ\n",
        "    \n",
        "    Создание и обучение моделей:\n",
        "    \n",
        "    - Создали три модели и обучили на тренировочной выборке\n",
        "    - Подобрали оптимальные параметры с помощью Gridsearch\n",
        "    - оценили модели и выбрали самую реультативную\n",
        "    - сравнили ее с Dummy-моделью\n",
        "    \n",
        "Лучшей оказалась модель Случайного леса.\n",
        "\n",
        "На основании исследования могу предположить, что обучение модели на неполных данных - не лучшая идея.\n",
        "чем больше признаков, тем лучше обучение и точнее предсказания.\n",
        "Потому моя рекомендация - **скорректировать процесс выгрузки данных**, дабы не пришлось удалять признаки или заполнять пропуски."
      ]
    }
  ],
  "metadata": {
    "ExecuteTimeLog": [
      {
        "duration": 1472,
        "start_time": "2023-05-03T06:23:19.012Z"
      },
      {
        "duration": 3,
        "start_time": "2023-05-03T06:23:41.440Z"
      },
      {
        "duration": 3,
        "start_time": "2023-05-03T06:23:41.650Z"
      },
      {
        "duration": 154,
        "start_time": "2023-05-03T06:25:06.960Z"
      },
      {
        "duration": 47,
        "start_time": "2023-05-03T06:25:22.978Z"
      },
      {
        "duration": 4,
        "start_time": "2023-05-03T06:25:36.604Z"
      },
      {
        "duration": 3,
        "start_time": "2023-05-03T06:25:36.830Z"
      },
      {
        "duration": 3,
        "start_time": "2023-05-03T06:25:37.325Z"
      },
      {
        "duration": 38,
        "start_time": "2023-05-03T06:25:38.259Z"
      },
      {
        "duration": 18,
        "start_time": "2023-05-03T06:29:04.746Z"
      },
      {
        "duration": 52,
        "start_time": "2023-05-03T06:29:18.217Z"
      },
      {
        "duration": 4779,
        "start_time": "2023-05-03T06:29:48.550Z"
      },
      {
        "duration": 70,
        "start_time": "2023-05-03T06:31:24.263Z"
      },
      {
        "duration": 52,
        "start_time": "2023-05-04T09:25:06.914Z"
      },
      {
        "duration": 1701,
        "start_time": "2023-05-04T09:25:09.881Z"
      },
      {
        "duration": 4,
        "start_time": "2023-05-04T09:25:11.585Z"
      },
      {
        "duration": 15,
        "start_time": "2023-05-04T09:25:11.591Z"
      },
      {
        "duration": 1807,
        "start_time": "2023-05-04T09:25:11.609Z"
      },
      {
        "duration": 68,
        "start_time": "2023-05-04T09:25:13.418Z"
      },
      {
        "duration": 81,
        "start_time": "2023-05-04T09:25:13.488Z"
      },
      {
        "duration": 41,
        "start_time": "2023-05-04T09:25:20.837Z"
      },
      {
        "duration": 25,
        "start_time": "2023-05-04T09:25:25.883Z"
      },
      {
        "duration": 19,
        "start_time": "2023-05-04T09:25:43.505Z"
      },
      {
        "duration": 86,
        "start_time": "2023-05-05T07:43:39.306Z"
      },
      {
        "duration": 3,
        "start_time": "2023-05-05T07:44:38.287Z"
      },
      {
        "duration": 7,
        "start_time": "2023-05-05T07:49:17.917Z"
      },
      {
        "duration": 4,
        "start_time": "2023-05-05T07:49:39.428Z"
      },
      {
        "duration": 98,
        "start_time": "2023-05-05T07:51:56.911Z"
      },
      {
        "duration": 48,
        "start_time": "2023-05-05T07:52:17.642Z"
      },
      {
        "duration": 1974,
        "start_time": "2023-05-05T07:52:22.764Z"
      },
      {
        "duration": 4,
        "start_time": "2023-05-05T07:52:24.747Z"
      },
      {
        "duration": 8,
        "start_time": "2023-05-05T07:52:24.758Z"
      },
      {
        "duration": 2695,
        "start_time": "2023-05-05T07:52:24.770Z"
      },
      {
        "duration": 4,
        "start_time": "2023-05-05T07:52:27.468Z"
      },
      {
        "duration": 1024,
        "start_time": "2023-05-05T07:52:27.474Z"
      },
      {
        "duration": 138,
        "start_time": "2023-05-05T07:55:01.885Z"
      },
      {
        "duration": 3,
        "start_time": "2023-05-05T07:56:41.315Z"
      },
      {
        "duration": 96,
        "start_time": "2023-05-05T07:57:14.444Z"
      },
      {
        "duration": 15,
        "start_time": "2023-05-05T07:57:23.549Z"
      },
      {
        "duration": 11,
        "start_time": "2023-05-05T07:57:47.050Z"
      },
      {
        "duration": 257,
        "start_time": "2023-05-05T08:00:51.167Z"
      },
      {
        "duration": 223,
        "start_time": "2023-05-05T08:01:15.021Z"
      },
      {
        "duration": 233,
        "start_time": "2023-05-05T08:01:24.905Z"
      },
      {
        "duration": 212,
        "start_time": "2023-05-05T08:02:11.572Z"
      },
      {
        "duration": 9,
        "start_time": "2023-05-05T08:03:12.225Z"
      },
      {
        "duration": 13,
        "start_time": "2023-05-05T08:03:21.497Z"
      },
      {
        "duration": 9,
        "start_time": "2023-05-05T08:03:34.219Z"
      },
      {
        "duration": 9,
        "start_time": "2023-05-05T08:03:42.537Z"
      },
      {
        "duration": 6,
        "start_time": "2023-05-05T08:03:57.369Z"
      },
      {
        "duration": 8,
        "start_time": "2023-05-05T08:19:02.888Z"
      },
      {
        "duration": 8,
        "start_time": "2023-05-05T08:19:08.689Z"
      },
      {
        "duration": 4,
        "start_time": "2023-05-05T08:19:25.465Z"
      },
      {
        "duration": 267,
        "start_time": "2023-05-05T08:19:37.393Z"
      },
      {
        "duration": 14,
        "start_time": "2023-05-05T08:20:00.050Z"
      },
      {
        "duration": 7,
        "start_time": "2023-05-05T08:20:25.032Z"
      },
      {
        "duration": 10,
        "start_time": "2023-05-05T08:20:32.251Z"
      },
      {
        "duration": 4,
        "start_time": "2023-05-05T08:29:01.818Z"
      },
      {
        "duration": 3,
        "start_time": "2023-05-05T08:30:46.569Z"
      },
      {
        "duration": 6,
        "start_time": "2023-05-05T08:32:43.087Z"
      },
      {
        "duration": 5,
        "start_time": "2023-05-05T08:32:52.580Z"
      },
      {
        "duration": 6,
        "start_time": "2023-05-05T08:34:44.220Z"
      },
      {
        "duration": 2499,
        "start_time": "2023-05-05T08:34:50.036Z"
      },
      {
        "duration": 6,
        "start_time": "2023-05-05T08:36:12.524Z"
      },
      {
        "duration": 349,
        "start_time": "2023-05-05T08:36:15.717Z"
      },
      {
        "duration": 6,
        "start_time": "2023-05-05T08:36:25.157Z"
      },
      {
        "duration": 478,
        "start_time": "2023-05-05T08:36:27.362Z"
      },
      {
        "duration": 214,
        "start_time": "2023-05-05T08:36:53.482Z"
      },
      {
        "duration": 4,
        "start_time": "2023-05-05T08:36:54.475Z"
      },
      {
        "duration": 5,
        "start_time": "2023-05-05T08:36:54.809Z"
      },
      {
        "duration": 913,
        "start_time": "2023-05-05T08:36:55.038Z"
      },
      {
        "duration": 6,
        "start_time": "2023-05-05T08:36:55.954Z"
      },
      {
        "duration": 35169,
        "start_time": "2023-05-05T08:36:56.291Z"
      },
      {
        "duration": 7,
        "start_time": "2023-05-05T08:40:54.761Z"
      },
      {
        "duration": 18,
        "start_time": "2023-05-05T08:41:05.970Z"
      },
      {
        "duration": 4,
        "start_time": "2023-05-05T08:41:45.073Z"
      },
      {
        "duration": 15,
        "start_time": "2023-05-05T08:41:53.212Z"
      },
      {
        "duration": 5,
        "start_time": "2023-05-05T08:42:03.236Z"
      },
      {
        "duration": 6,
        "start_time": "2023-05-05T08:42:39.614Z"
      },
      {
        "duration": 116,
        "start_time": "2023-05-05T08:45:10.964Z"
      },
      {
        "duration": 10,
        "start_time": "2023-05-05T08:47:17.532Z"
      },
      {
        "duration": 97,
        "start_time": "2023-05-05T08:48:28.173Z"
      },
      {
        "duration": 19,
        "start_time": "2023-05-05T08:48:35.379Z"
      },
      {
        "duration": 4,
        "start_time": "2023-05-05T08:50:51.929Z"
      },
      {
        "duration": 3,
        "start_time": "2023-05-05T08:53:29.721Z"
      },
      {
        "duration": 5,
        "start_time": "2023-05-05T08:54:13.927Z"
      },
      {
        "duration": 4,
        "start_time": "2023-05-05T08:54:17.069Z"
      },
      {
        "duration": 20,
        "start_time": "2023-05-05T08:54:17.487Z"
      },
      {
        "duration": 5,
        "start_time": "2023-05-05T08:54:18.170Z"
      },
      {
        "duration": 254,
        "start_time": "2023-05-05T08:54:19.256Z"
      },
      {
        "duration": 9,
        "start_time": "2023-05-05T08:55:39.446Z"
      },
      {
        "duration": 11,
        "start_time": "2023-05-05T08:56:13.367Z"
      },
      {
        "duration": 7,
        "start_time": "2023-05-05T08:56:14.288Z"
      },
      {
        "duration": 124,
        "start_time": "2023-05-05T08:56:14.545Z"
      },
      {
        "duration": 7,
        "start_time": "2023-05-05T08:56:14.816Z"
      },
      {
        "duration": 265,
        "start_time": "2023-05-05T08:56:15.767Z"
      },
      {
        "duration": 1593,
        "start_time": "2023-05-05T08:56:22.924Z"
      },
      {
        "duration": 5,
        "start_time": "2023-05-05T08:56:24.522Z"
      },
      {
        "duration": 14,
        "start_time": "2023-05-05T08:56:24.530Z"
      },
      {
        "duration": 758,
        "start_time": "2023-05-05T08:56:24.546Z"
      },
      {
        "duration": 13,
        "start_time": "2023-05-05T08:56:25.310Z"
      },
      {
        "duration": 31031,
        "start_time": "2023-05-05T08:56:25.327Z"
      },
      {
        "duration": 7,
        "start_time": "2023-05-05T08:56:56.361Z"
      },
      {
        "duration": 29,
        "start_time": "2023-05-05T08:56:56.370Z"
      },
      {
        "duration": 5,
        "start_time": "2023-05-05T08:56:56.401Z"
      },
      {
        "duration": 24,
        "start_time": "2023-05-05T08:56:56.409Z"
      },
      {
        "duration": 4,
        "start_time": "2023-05-05T08:56:56.435Z"
      },
      {
        "duration": 21,
        "start_time": "2023-05-05T08:56:56.441Z"
      },
      {
        "duration": 35,
        "start_time": "2023-05-05T08:56:56.464Z"
      },
      {
        "duration": 274,
        "start_time": "2023-05-05T08:56:56.504Z"
      },
      {
        "duration": 63,
        "start_time": "2023-05-05T22:18:40.551Z"
      },
      {
        "duration": 1488,
        "start_time": "2023-05-05T22:18:48.206Z"
      },
      {
        "duration": 3,
        "start_time": "2023-05-05T22:18:49.696Z"
      },
      {
        "duration": 7,
        "start_time": "2023-05-05T22:18:49.700Z"
      },
      {
        "duration": 3305,
        "start_time": "2023-05-05T22:18:49.708Z"
      },
      {
        "duration": 4,
        "start_time": "2023-05-05T22:18:53.015Z"
      },
      {
        "duration": 26781,
        "start_time": "2023-05-05T22:18:53.021Z"
      },
      {
        "duration": 5,
        "start_time": "2023-05-05T22:19:19.804Z"
      },
      {
        "duration": 12,
        "start_time": "2023-05-05T22:19:19.811Z"
      },
      {
        "duration": 6,
        "start_time": "2023-05-05T22:19:19.824Z"
      },
      {
        "duration": 58,
        "start_time": "2023-05-05T22:19:19.832Z"
      },
      {
        "duration": 9,
        "start_time": "2023-05-05T22:19:19.892Z"
      },
      {
        "duration": 17,
        "start_time": "2023-05-05T22:19:19.903Z"
      },
      {
        "duration": 4,
        "start_time": "2023-05-05T22:19:19.922Z"
      },
      {
        "duration": 231,
        "start_time": "2023-05-05T22:19:19.929Z"
      },
      {
        "duration": 28,
        "start_time": "2023-05-05T22:19:20.162Z"
      },
      {
        "duration": 114,
        "start_time": "2023-05-05T22:21:47.389Z"
      },
      {
        "duration": 9,
        "start_time": "2023-05-05T22:22:01.228Z"
      },
      {
        "duration": 2771,
        "start_time": "2023-05-05T22:29:13.752Z"
      },
      {
        "duration": 467,
        "start_time": "2023-05-05T22:30:26.689Z"
      },
      {
        "duration": 493,
        "start_time": "2023-05-05T22:31:25.486Z"
      },
      {
        "duration": 3,
        "start_time": "2023-05-05T22:32:50.789Z"
      },
      {
        "duration": 9,
        "start_time": "2023-05-05T22:38:46.395Z"
      },
      {
        "duration": 5,
        "start_time": "2023-05-05T22:39:13.906Z"
      },
      {
        "duration": 1120,
        "start_time": "2023-05-05T22:39:36.035Z"
      },
      {
        "duration": 13,
        "start_time": "2023-05-05T22:41:48.270Z"
      },
      {
        "duration": 2,
        "start_time": "2023-05-05T22:44:05.194Z"
      },
      {
        "duration": 44,
        "start_time": "2023-05-05T22:47:45.590Z"
      },
      {
        "duration": 52,
        "start_time": "2023-05-05T22:51:04.684Z"
      },
      {
        "duration": 49,
        "start_time": "2023-05-05T22:55:48.861Z"
      },
      {
        "duration": 2,
        "start_time": "2023-05-05T22:57:52.714Z"
      },
      {
        "duration": 2,
        "start_time": "2023-05-05T22:58:43.038Z"
      },
      {
        "duration": 3,
        "start_time": "2023-05-05T23:01:26.792Z"
      },
      {
        "duration": 3,
        "start_time": "2023-05-05T23:02:41.688Z"
      },
      {
        "duration": 6,
        "start_time": "2023-05-05T23:03:48.885Z"
      },
      {
        "duration": 3,
        "start_time": "2023-05-05T23:03:50.835Z"
      },
      {
        "duration": 3,
        "start_time": "2023-05-05T23:04:26.597Z"
      },
      {
        "duration": 19,
        "start_time": "2023-05-05T23:04:29.262Z"
      },
      {
        "duration": 6,
        "start_time": "2023-05-05T23:06:57.400Z"
      },
      {
        "duration": 9,
        "start_time": "2023-05-05T23:07:24.142Z"
      },
      {
        "duration": 64,
        "start_time": "2023-05-05T23:10:36.443Z"
      },
      {
        "duration": 67,
        "start_time": "2023-05-05T23:10:58.964Z"
      },
      {
        "duration": 62,
        "start_time": "2023-05-05T23:11:19.482Z"
      },
      {
        "duration": 2175,
        "start_time": "2023-05-05T23:11:45.511Z"
      },
      {
        "duration": 2590,
        "start_time": "2023-05-05T23:11:58.104Z"
      },
      {
        "duration": 3928,
        "start_time": "2023-05-05T23:12:17.945Z"
      },
      {
        "duration": 2,
        "start_time": "2023-05-05T23:14:12.149Z"
      },
      {
        "duration": 52,
        "start_time": "2023-05-05T23:18:23.490Z"
      },
      {
        "duration": 224233,
        "start_time": "2023-05-05T23:19:39.943Z"
      },
      {
        "duration": 297728,
        "start_time": "2023-05-05T23:30:20.754Z"
      },
      {
        "duration": 591027,
        "start_time": "2023-05-05T23:35:57.682Z"
      },
      {
        "duration": 9,
        "start_time": "2023-05-05T23:46:04.080Z"
      },
      {
        "duration": 25,
        "start_time": "2023-05-05T23:46:53.834Z"
      },
      {
        "duration": 20,
        "start_time": "2023-05-05T23:47:10.630Z"
      },
      {
        "duration": 13749,
        "start_time": "2023-05-05T23:47:33.536Z"
      },
      {
        "duration": 130737,
        "start_time": "2023-05-05T23:48:05.944Z"
      },
      {
        "duration": 5,
        "start_time": "2023-05-05T23:52:27.013Z"
      },
      {
        "duration": 5,
        "start_time": "2023-05-05T23:53:09.909Z"
      },
      {
        "duration": 14,
        "start_time": "2023-05-05T23:53:58.770Z"
      },
      {
        "duration": 5,
        "start_time": "2023-05-05T23:54:25.899Z"
      },
      {
        "duration": 7,
        "start_time": "2023-05-05T23:54:41.743Z"
      },
      {
        "duration": 5,
        "start_time": "2023-05-05T23:58:12.422Z"
      },
      {
        "duration": 18,
        "start_time": "2023-05-05T23:58:15.417Z"
      },
      {
        "duration": 2785,
        "start_time": "2023-05-05T23:58:45.104Z"
      },
      {
        "duration": 5,
        "start_time": "2023-05-05T23:59:25.549Z"
      },
      {
        "duration": 19,
        "start_time": "2023-05-05T23:59:26.549Z"
      },
      {
        "duration": 5248,
        "start_time": "2023-05-05T23:59:27.851Z"
      },
      {
        "duration": 54736,
        "start_time": "2023-05-06T00:00:04.441Z"
      },
      {
        "duration": 78834,
        "start_time": "2023-05-06T00:00:59.182Z"
      },
      {
        "duration": 73789,
        "start_time": "2023-05-06T00:02:19.932Z"
      },
      {
        "duration": 76557,
        "start_time": "2023-05-06T00:03:33.723Z"
      },
      {
        "duration": 8,
        "start_time": "2023-05-06T00:04:50.282Z"
      },
      {
        "duration": 1531,
        "start_time": "2023-05-08T08:40:17.677Z"
      },
      {
        "duration": 3,
        "start_time": "2023-05-08T08:40:19.212Z"
      },
      {
        "duration": 9,
        "start_time": "2023-05-08T08:40:19.217Z"
      },
      {
        "duration": 3299,
        "start_time": "2023-05-08T08:40:19.227Z"
      },
      {
        "duration": 5,
        "start_time": "2023-05-08T08:40:22.528Z"
      },
      {
        "duration": 26301,
        "start_time": "2023-05-08T08:40:22.534Z"
      },
      {
        "duration": 7,
        "start_time": "2023-05-08T08:40:48.837Z"
      },
      {
        "duration": 6,
        "start_time": "2023-05-08T08:40:48.846Z"
      },
      {
        "duration": 14,
        "start_time": "2023-05-08T08:40:48.877Z"
      },
      {
        "duration": 14,
        "start_time": "2023-05-08T08:40:48.893Z"
      },
      {
        "duration": 3,
        "start_time": "2023-05-08T08:40:48.909Z"
      },
      {
        "duration": 18,
        "start_time": "2023-05-08T08:40:48.914Z"
      },
      {
        "duration": 274,
        "start_time": "2023-05-08T08:40:48.934Z"
      },
      {
        "duration": 14,
        "start_time": "2023-05-08T08:40:49.211Z"
      },
      {
        "duration": 7,
        "start_time": "2023-05-08T08:40:49.227Z"
      },
      {
        "duration": 2680,
        "start_time": "2023-05-08T08:40:49.236Z"
      },
      {
        "duration": 490,
        "start_time": "2023-05-08T08:40:51.918Z"
      },
      {
        "duration": 7,
        "start_time": "2023-05-08T08:40:52.410Z"
      },
      {
        "duration": 1080,
        "start_time": "2023-05-08T08:40:52.418Z"
      },
      {
        "duration": 4,
        "start_time": "2023-05-08T08:40:53.499Z"
      },
      {
        "duration": 6,
        "start_time": "2023-05-08T08:40:53.504Z"
      },
      {
        "duration": 9,
        "start_time": "2023-05-08T08:40:53.512Z"
      },
      {
        "duration": 35,
        "start_time": "2023-05-08T08:40:53.522Z"
      },
      {
        "duration": 208,
        "start_time": "2023-05-08T08:40:53.559Z"
      },
      {
        "duration": 67,
        "start_time": "2023-05-08T08:40:53.768Z"
      },
      {
        "duration": 76,
        "start_time": "2023-05-08T08:40:53.837Z"
      },
      {
        "duration": 3,
        "start_time": "2023-05-08T09:35:23.416Z"
      },
      {
        "duration": 2,
        "start_time": "2023-05-08T09:35:23.948Z"
      },
      {
        "duration": 10,
        "start_time": "2023-05-08T09:35:24.314Z"
      },
      {
        "duration": 1264,
        "start_time": "2023-05-08T09:35:36.690Z"
      },
      {
        "duration": 2,
        "start_time": "2023-05-08T09:35:37.956Z"
      },
      {
        "duration": 5,
        "start_time": "2023-05-08T09:35:37.959Z"
      },
      {
        "duration": 552,
        "start_time": "2023-05-08T09:35:37.965Z"
      },
      {
        "duration": 4,
        "start_time": "2023-05-08T09:35:38.518Z"
      },
      {
        "duration": 23865,
        "start_time": "2023-05-08T09:35:38.523Z"
      },
      {
        "duration": 6,
        "start_time": "2023-05-08T09:36:02.390Z"
      },
      {
        "duration": 28,
        "start_time": "2023-05-08T09:36:02.397Z"
      },
      {
        "duration": 16,
        "start_time": "2023-05-08T09:36:02.427Z"
      },
      {
        "duration": 37,
        "start_time": "2023-05-08T09:36:02.445Z"
      },
      {
        "duration": 24,
        "start_time": "2023-05-08T09:36:02.484Z"
      },
      {
        "duration": 30,
        "start_time": "2023-05-08T09:36:02.509Z"
      },
      {
        "duration": 244,
        "start_time": "2023-05-08T09:36:02.540Z"
      },
      {
        "duration": 15,
        "start_time": "2023-05-08T09:36:02.786Z"
      },
      {
        "duration": 7,
        "start_time": "2023-05-08T09:36:02.802Z"
      },
      {
        "duration": 2642,
        "start_time": "2023-05-08T09:36:02.811Z"
      },
      {
        "duration": 531,
        "start_time": "2023-05-08T09:36:05.454Z"
      },
      {
        "duration": 9,
        "start_time": "2023-05-08T09:36:05.986Z"
      },
      {
        "duration": 1144,
        "start_time": "2023-05-08T09:36:05.996Z"
      },
      {
        "duration": 3,
        "start_time": "2023-05-08T09:36:07.141Z"
      },
      {
        "duration": 9,
        "start_time": "2023-05-08T09:36:07.146Z"
      },
      {
        "duration": 131,
        "start_time": "2023-05-08T09:36:07.156Z"
      },
      {
        "duration": 0,
        "start_time": "2023-05-08T09:36:07.288Z"
      },
      {
        "duration": 0,
        "start_time": "2023-05-08T09:36:07.289Z"
      },
      {
        "duration": 0,
        "start_time": "2023-05-08T09:36:07.290Z"
      },
      {
        "duration": 0,
        "start_time": "2023-05-08T09:36:07.291Z"
      },
      {
        "duration": 7,
        "start_time": "2023-05-08T09:45:24.049Z"
      },
      {
        "duration": 24,
        "start_time": "2023-05-08T09:45:26.314Z"
      },
      {
        "duration": 84,
        "start_time": "2023-05-08T09:45:40.324Z"
      },
      {
        "duration": 66,
        "start_time": "2023-05-08T09:52:20.330Z"
      },
      {
        "duration": 201,
        "start_time": "2023-05-08T09:52:58.608Z"
      },
      {
        "duration": 1482,
        "start_time": "2023-05-08T09:53:06.895Z"
      },
      {
        "duration": 1305,
        "start_time": "2023-05-08T09:53:30.769Z"
      },
      {
        "duration": 1790,
        "start_time": "2023-05-08T09:53:46.485Z"
      },
      {
        "duration": 63,
        "start_time": "2023-05-08T09:59:20.178Z"
      },
      {
        "duration": 3,
        "start_time": "2023-05-08T10:16:58.083Z"
      },
      {
        "duration": 3,
        "start_time": "2023-05-08T10:16:58.472Z"
      },
      {
        "duration": 3,
        "start_time": "2023-05-08T10:16:59.466Z"
      },
      {
        "duration": 5,
        "start_time": "2023-05-08T10:17:00.922Z"
      },
      {
        "duration": 25,
        "start_time": "2023-05-08T10:17:03.972Z"
      },
      {
        "duration": 4,
        "start_time": "2023-05-08T10:17:36.989Z"
      },
      {
        "duration": 31,
        "start_time": "2023-05-08T10:18:59.328Z"
      },
      {
        "duration": 10347,
        "start_time": "2023-05-08T10:19:25.559Z"
      },
      {
        "duration": 5936,
        "start_time": "2023-05-08T10:20:01.239Z"
      },
      {
        "duration": 4,
        "start_time": "2023-05-08T10:25:38.460Z"
      },
      {
        "duration": 120595,
        "start_time": "2023-05-08T10:27:27.230Z"
      },
      {
        "duration": 4,
        "start_time": "2023-05-08T10:30:56.035Z"
      },
      {
        "duration": 141735,
        "start_time": "2023-05-08T12:06:40.920Z"
      },
      {
        "duration": 286122,
        "start_time": "2023-05-08T12:10:31.315Z"
      },
      {
        "duration": 3,
        "start_time": "2023-05-08T12:16:07.365Z"
      },
      {
        "duration": 10,
        "start_time": "2023-05-08T12:16:39.106Z"
      },
      {
        "duration": 5042,
        "start_time": "2023-05-08T12:17:06.406Z"
      },
      {
        "duration": 9218,
        "start_time": "2023-05-08T12:17:49.047Z"
      },
      {
        "duration": 5,
        "start_time": "2023-05-08T12:18:41.754Z"
      },
      {
        "duration": 9430,
        "start_time": "2023-05-08T12:18:50.190Z"
      },
      {
        "duration": 10204,
        "start_time": "2023-05-08T12:20:33.697Z"
      },
      {
        "duration": 9664,
        "start_time": "2023-05-08T12:21:48.464Z"
      },
      {
        "duration": 3,
        "start_time": "2023-05-08T12:23:00.114Z"
      },
      {
        "duration": 5,
        "start_time": "2023-05-08T12:23:01.209Z"
      },
      {
        "duration": 19,
        "start_time": "2023-05-08T12:23:01.516Z"
      },
      {
        "duration": 3,
        "start_time": "2023-05-08T12:23:02.402Z"
      },
      {
        "duration": 8981,
        "start_time": "2023-05-08T12:23:03.367Z"
      },
      {
        "duration": 3635,
        "start_time": "2023-05-08T12:23:12.350Z"
      },
      {
        "duration": 0,
        "start_time": "2023-05-08T12:23:15.987Z"
      },
      {
        "duration": 0,
        "start_time": "2023-05-08T12:23:15.987Z"
      },
      {
        "duration": 0,
        "start_time": "2023-05-08T12:23:15.988Z"
      },
      {
        "duration": 11207,
        "start_time": "2023-05-08T12:23:24.901Z"
      },
      {
        "duration": 265354,
        "start_time": "2023-05-08T12:23:39.342Z"
      },
      {
        "duration": 3,
        "start_time": "2023-05-08T12:28:04.699Z"
      },
      {
        "duration": 9891,
        "start_time": "2023-05-08T12:28:32.716Z"
      },
      {
        "duration": 9372,
        "start_time": "2023-05-08T12:29:18.245Z"
      },
      {
        "duration": 261646,
        "start_time": "2023-05-08T12:30:38.791Z"
      },
      {
        "duration": 4,
        "start_time": "2023-05-08T12:35:00.439Z"
      },
      {
        "duration": 4,
        "start_time": "2023-05-08T12:41:30.198Z"
      },
      {
        "duration": 22,
        "start_time": "2023-05-08T12:48:55.999Z"
      },
      {
        "duration": 22,
        "start_time": "2023-05-08T12:54:44.994Z"
      },
      {
        "duration": 25,
        "start_time": "2023-05-08T12:55:07.298Z"
      },
      {
        "duration": 19956518,
        "start_time": "2023-05-08T12:55:41.994Z"
      },
      {
        "duration": 0,
        "start_time": "2023-05-08T18:28:18.514Z"
      },
      {
        "duration": 0,
        "start_time": "2023-05-08T18:28:18.516Z"
      },
      {
        "duration": 0,
        "start_time": "2023-05-08T18:28:18.517Z"
      },
      {
        "duration": 0,
        "start_time": "2023-05-08T18:28:18.518Z"
      },
      {
        "duration": 61,
        "start_time": "2023-05-08T18:28:38.705Z"
      },
      {
        "duration": 55077,
        "start_time": "2023-05-08T18:28:43.872Z"
      },
      {
        "duration": 114705,
        "start_time": "2023-05-08T18:30:01.095Z"
      },
      {
        "duration": 3,
        "start_time": "2023-05-08T18:32:00.037Z"
      },
      {
        "duration": 114385,
        "start_time": "2023-05-08T18:34:35.716Z"
      },
      {
        "duration": 4,
        "start_time": "2023-05-08T18:46:07.617Z"
      },
      {
        "duration": 19,
        "start_time": "2023-05-08T18:47:21.790Z"
      },
      {
        "duration": 9,
        "start_time": "2023-05-08T18:47:22.425Z"
      },
      {
        "duration": 13,
        "start_time": "2023-05-08T18:47:51.237Z"
      },
      {
        "duration": 16,
        "start_time": "2023-05-08T18:47:55.666Z"
      },
      {
        "duration": 11,
        "start_time": "2023-05-08T18:48:22.130Z"
      },
      {
        "duration": 6,
        "start_time": "2023-05-08T18:48:59.946Z"
      },
      {
        "duration": 4,
        "start_time": "2023-05-08T18:49:11.233Z"
      },
      {
        "duration": 4,
        "start_time": "2023-05-08T18:50:08.755Z"
      },
      {
        "duration": 43,
        "start_time": "2023-05-08T18:50:09.767Z"
      },
      {
        "duration": 111564,
        "start_time": "2023-05-08T18:51:34.441Z"
      },
      {
        "duration": 4,
        "start_time": "2023-05-08T18:53:26.015Z"
      },
      {
        "duration": 10,
        "start_time": "2023-05-08T18:53:26.020Z"
      },
      {
        "duration": 16,
        "start_time": "2023-05-08T18:53:26.032Z"
      },
      {
        "duration": 0,
        "start_time": "2023-05-08T18:53:26.050Z"
      },
      {
        "duration": 0,
        "start_time": "2023-05-08T18:53:26.052Z"
      },
      {
        "duration": 16,
        "start_time": "2023-05-08T19:11:42.173Z"
      },
      {
        "duration": 29079,
        "start_time": "2023-05-08T19:12:33.924Z"
      },
      {
        "duration": 0,
        "start_time": "2023-05-08T19:13:03.005Z"
      },
      {
        "duration": 0,
        "start_time": "2023-05-08T19:13:03.006Z"
      },
      {
        "duration": 4,
        "start_time": "2023-05-08T19:13:37.316Z"
      },
      {
        "duration": 28327,
        "start_time": "2023-05-08T19:13:38.023Z"
      },
      {
        "duration": 10,
        "start_time": "2023-05-08T19:18:54.342Z"
      },
      {
        "duration": 8,
        "start_time": "2023-05-08T19:19:03.050Z"
      },
      {
        "duration": 13,
        "start_time": "2023-05-08T19:19:07.396Z"
      },
      {
        "duration": 4,
        "start_time": "2023-05-08T19:21:57.056Z"
      },
      {
        "duration": 3,
        "start_time": "2023-05-08T19:22:18.360Z"
      },
      {
        "duration": 4,
        "start_time": "2023-05-08T19:23:11.149Z"
      },
      {
        "duration": 2,
        "start_time": "2023-05-08T19:23:12.331Z"
      },
      {
        "duration": 822,
        "start_time": "2023-05-08T19:23:12.771Z"
      },
      {
        "duration": 0,
        "start_time": "2023-05-08T19:23:13.595Z"
      },
      {
        "duration": 1319,
        "start_time": "2023-05-08T19:24:21.444Z"
      },
      {
        "duration": 3,
        "start_time": "2023-05-08T19:24:22.764Z"
      },
      {
        "duration": 11,
        "start_time": "2023-05-08T19:24:22.768Z"
      },
      {
        "duration": 5,
        "start_time": "2023-05-08T19:24:22.780Z"
      },
      {
        "duration": 1980,
        "start_time": "2023-05-08T19:24:22.786Z"
      },
      {
        "duration": 4,
        "start_time": "2023-05-08T19:24:24.767Z"
      },
      {
        "duration": 24032,
        "start_time": "2023-05-08T19:24:24.772Z"
      },
      {
        "duration": 5,
        "start_time": "2023-05-08T19:24:48.805Z"
      },
      {
        "duration": 7,
        "start_time": "2023-05-08T19:24:48.811Z"
      },
      {
        "duration": 10,
        "start_time": "2023-05-08T19:24:48.820Z"
      },
      {
        "duration": 15,
        "start_time": "2023-05-08T19:24:48.831Z"
      },
      {
        "duration": 3,
        "start_time": "2023-05-08T19:24:48.847Z"
      },
      {
        "duration": 6,
        "start_time": "2023-05-08T19:24:48.872Z"
      },
      {
        "duration": 16,
        "start_time": "2023-05-08T19:24:48.880Z"
      },
      {
        "duration": 11,
        "start_time": "2023-05-08T19:24:48.898Z"
      },
      {
        "duration": 186,
        "start_time": "2023-05-08T19:24:48.911Z"
      },
      {
        "duration": 14,
        "start_time": "2023-05-08T19:24:49.099Z"
      },
      {
        "duration": 5,
        "start_time": "2023-05-08T19:24:49.115Z"
      },
      {
        "duration": 1101,
        "start_time": "2023-05-08T19:24:49.121Z"
      },
      {
        "duration": 0,
        "start_time": "2023-05-08T19:24:50.224Z"
      },
      {
        "duration": 0,
        "start_time": "2023-05-08T19:24:50.225Z"
      },
      {
        "duration": 0,
        "start_time": "2023-05-08T19:24:50.226Z"
      },
      {
        "duration": 0,
        "start_time": "2023-05-08T19:24:50.226Z"
      },
      {
        "duration": 0,
        "start_time": "2023-05-08T19:24:50.227Z"
      },
      {
        "duration": 0,
        "start_time": "2023-05-08T19:24:50.228Z"
      },
      {
        "duration": 0,
        "start_time": "2023-05-08T19:24:50.228Z"
      },
      {
        "duration": 0,
        "start_time": "2023-05-08T19:24:50.229Z"
      },
      {
        "duration": 0,
        "start_time": "2023-05-08T19:24:50.230Z"
      },
      {
        "duration": 0,
        "start_time": "2023-05-08T19:24:50.231Z"
      },
      {
        "duration": 0,
        "start_time": "2023-05-08T19:24:50.232Z"
      },
      {
        "duration": 0,
        "start_time": "2023-05-08T19:24:50.233Z"
      },
      {
        "duration": 0,
        "start_time": "2023-05-08T19:24:50.234Z"
      },
      {
        "duration": 0,
        "start_time": "2023-05-08T19:24:50.235Z"
      },
      {
        "duration": 0,
        "start_time": "2023-05-08T19:24:50.236Z"
      },
      {
        "duration": 0,
        "start_time": "2023-05-08T19:24:50.238Z"
      },
      {
        "duration": 0,
        "start_time": "2023-05-08T19:24:50.239Z"
      },
      {
        "duration": 0,
        "start_time": "2023-05-08T19:24:50.240Z"
      },
      {
        "duration": 0,
        "start_time": "2023-05-08T19:24:50.241Z"
      },
      {
        "duration": 0,
        "start_time": "2023-05-08T19:24:50.272Z"
      },
      {
        "duration": 0,
        "start_time": "2023-05-08T19:24:50.273Z"
      },
      {
        "duration": 0,
        "start_time": "2023-05-08T19:24:50.275Z"
      },
      {
        "duration": 0,
        "start_time": "2023-05-08T19:24:50.276Z"
      },
      {
        "duration": 0,
        "start_time": "2023-05-08T19:24:50.277Z"
      },
      {
        "duration": 0,
        "start_time": "2023-05-08T19:24:50.278Z"
      },
      {
        "duration": 4,
        "start_time": "2023-05-08T19:27:40.125Z"
      },
      {
        "duration": 1287,
        "start_time": "2023-05-08T19:28:27.763Z"
      },
      {
        "duration": 3,
        "start_time": "2023-05-08T19:28:29.052Z"
      },
      {
        "duration": 10,
        "start_time": "2023-05-08T19:28:29.057Z"
      },
      {
        "duration": 9,
        "start_time": "2023-05-08T19:28:29.068Z"
      },
      {
        "duration": 611,
        "start_time": "2023-05-08T19:28:29.080Z"
      },
      {
        "duration": 4,
        "start_time": "2023-05-08T19:28:29.692Z"
      },
      {
        "duration": 23847,
        "start_time": "2023-05-08T19:28:29.697Z"
      },
      {
        "duration": 7,
        "start_time": "2023-05-08T19:28:53.545Z"
      },
      {
        "duration": 4,
        "start_time": "2023-05-08T19:28:53.553Z"
      },
      {
        "duration": 17,
        "start_time": "2023-05-08T19:28:53.558Z"
      },
      {
        "duration": 15,
        "start_time": "2023-05-08T19:28:53.577Z"
      },
      {
        "duration": 121,
        "start_time": "2023-05-08T19:28:53.593Z"
      },
      {
        "duration": 0,
        "start_time": "2023-05-08T19:28:53.716Z"
      },
      {
        "duration": 0,
        "start_time": "2023-05-08T19:28:53.717Z"
      },
      {
        "duration": 0,
        "start_time": "2023-05-08T19:28:53.718Z"
      },
      {
        "duration": 0,
        "start_time": "2023-05-08T19:28:53.718Z"
      },
      {
        "duration": 0,
        "start_time": "2023-05-08T19:28:53.719Z"
      },
      {
        "duration": 0,
        "start_time": "2023-05-08T19:28:53.720Z"
      },
      {
        "duration": 0,
        "start_time": "2023-05-08T19:28:53.721Z"
      },
      {
        "duration": 0,
        "start_time": "2023-05-08T19:28:53.722Z"
      },
      {
        "duration": 0,
        "start_time": "2023-05-08T19:28:53.722Z"
      },
      {
        "duration": 0,
        "start_time": "2023-05-08T19:28:53.723Z"
      },
      {
        "duration": 0,
        "start_time": "2023-05-08T19:28:53.724Z"
      },
      {
        "duration": 0,
        "start_time": "2023-05-08T19:28:53.725Z"
      },
      {
        "duration": 0,
        "start_time": "2023-05-08T19:28:53.726Z"
      },
      {
        "duration": 0,
        "start_time": "2023-05-08T19:28:53.726Z"
      },
      {
        "duration": 0,
        "start_time": "2023-05-08T19:28:53.727Z"
      },
      {
        "duration": 0,
        "start_time": "2023-05-08T19:28:53.728Z"
      },
      {
        "duration": 0,
        "start_time": "2023-05-08T19:28:53.729Z"
      },
      {
        "duration": 0,
        "start_time": "2023-05-08T19:28:53.730Z"
      },
      {
        "duration": 0,
        "start_time": "2023-05-08T19:28:53.731Z"
      },
      {
        "duration": 0,
        "start_time": "2023-05-08T19:28:53.732Z"
      },
      {
        "duration": 0,
        "start_time": "2023-05-08T19:28:53.733Z"
      },
      {
        "duration": 0,
        "start_time": "2023-05-08T19:28:53.733Z"
      },
      {
        "duration": 0,
        "start_time": "2023-05-08T19:28:53.734Z"
      },
      {
        "duration": 0,
        "start_time": "2023-05-08T19:28:53.772Z"
      },
      {
        "duration": 0,
        "start_time": "2023-05-08T19:28:53.773Z"
      },
      {
        "duration": 0,
        "start_time": "2023-05-08T19:28:53.773Z"
      },
      {
        "duration": 0,
        "start_time": "2023-05-08T19:28:53.774Z"
      },
      {
        "duration": 0,
        "start_time": "2023-05-08T19:28:53.775Z"
      },
      {
        "duration": 0,
        "start_time": "2023-05-08T19:28:53.776Z"
      },
      {
        "duration": 0,
        "start_time": "2023-05-08T19:28:53.776Z"
      },
      {
        "duration": 0,
        "start_time": "2023-05-08T19:28:53.778Z"
      },
      {
        "duration": 0,
        "start_time": "2023-05-08T19:28:53.779Z"
      },
      {
        "duration": 0,
        "start_time": "2023-05-08T19:28:53.780Z"
      },
      {
        "duration": 2,
        "start_time": "2023-05-08T19:46:01.523Z"
      },
      {
        "duration": 12,
        "start_time": "2023-05-08T19:46:01.946Z"
      },
      {
        "duration": 211,
        "start_time": "2023-05-08T19:46:02.424Z"
      },
      {
        "duration": 20,
        "start_time": "2023-05-08T19:46:06.490Z"
      },
      {
        "duration": 8,
        "start_time": "2023-05-08T19:46:07.113Z"
      },
      {
        "duration": 2539,
        "start_time": "2023-05-08T19:46:10.524Z"
      },
      {
        "duration": 432,
        "start_time": "2023-05-08T19:46:13.064Z"
      },
      {
        "duration": 5,
        "start_time": "2023-05-08T19:46:14.108Z"
      },
      {
        "duration": 1002,
        "start_time": "2023-05-08T19:46:14.306Z"
      },
      {
        "duration": 9,
        "start_time": "2023-05-08T19:46:44.647Z"
      },
      {
        "duration": 4,
        "start_time": "2023-05-08T19:46:51.538Z"
      },
      {
        "duration": 3,
        "start_time": "2023-05-08T19:47:21.635Z"
      },
      {
        "duration": 2,
        "start_time": "2023-05-08T19:47:22.035Z"
      },
      {
        "duration": 2,
        "start_time": "2023-05-08T19:47:22.444Z"
      },
      {
        "duration": 16,
        "start_time": "2023-05-08T19:47:22.993Z"
      },
      {
        "duration": 8,
        "start_time": "2023-05-08T19:47:23.404Z"
      },
      {
        "duration": 12,
        "start_time": "2023-05-08T19:48:06.417Z"
      },
      {
        "duration": 12,
        "start_time": "2023-05-08T19:50:28.025Z"
      },
      {
        "duration": 1333,
        "start_time": "2023-05-08T19:50:39.173Z"
      },
      {
        "duration": 3,
        "start_time": "2023-05-08T19:50:40.508Z"
      },
      {
        "duration": 6,
        "start_time": "2023-05-08T19:50:40.513Z"
      },
      {
        "duration": 4,
        "start_time": "2023-05-08T19:50:40.520Z"
      },
      {
        "duration": 657,
        "start_time": "2023-05-08T19:50:40.527Z"
      },
      {
        "duration": 4,
        "start_time": "2023-05-08T19:50:41.186Z"
      },
      {
        "duration": 23481,
        "start_time": "2023-05-08T19:50:41.192Z"
      },
      {
        "duration": 4,
        "start_time": "2023-05-08T19:51:04.675Z"
      },
      {
        "duration": 19,
        "start_time": "2023-05-08T19:51:04.681Z"
      },
      {
        "duration": 10,
        "start_time": "2023-05-08T19:51:04.701Z"
      },
      {
        "duration": 18,
        "start_time": "2023-05-08T19:51:04.712Z"
      },
      {
        "duration": 5,
        "start_time": "2023-05-08T19:51:04.732Z"
      },
      {
        "duration": 13,
        "start_time": "2023-05-08T19:51:04.738Z"
      },
      {
        "duration": 219,
        "start_time": "2023-05-08T19:51:04.753Z"
      },
      {
        "duration": 14,
        "start_time": "2023-05-08T19:51:04.973Z"
      },
      {
        "duration": 7,
        "start_time": "2023-05-08T19:51:04.989Z"
      },
      {
        "duration": 2828,
        "start_time": "2023-05-08T19:51:04.998Z"
      },
      {
        "duration": 441,
        "start_time": "2023-05-08T19:51:07.828Z"
      },
      {
        "duration": 6,
        "start_time": "2023-05-08T19:51:08.270Z"
      },
      {
        "duration": 996,
        "start_time": "2023-05-08T19:51:08.277Z"
      },
      {
        "duration": 5,
        "start_time": "2023-05-08T19:51:09.274Z"
      },
      {
        "duration": 8,
        "start_time": "2023-05-08T19:51:09.280Z"
      },
      {
        "duration": 5,
        "start_time": "2023-05-08T19:51:09.289Z"
      },
      {
        "duration": 5,
        "start_time": "2023-05-08T19:51:09.296Z"
      },
      {
        "duration": 15,
        "start_time": "2023-05-08T19:51:09.302Z"
      },
      {
        "duration": 6,
        "start_time": "2023-05-08T19:51:09.318Z"
      },
      {
        "duration": 20,
        "start_time": "2023-05-08T19:51:09.326Z"
      },
      {
        "duration": 2,
        "start_time": "2023-05-08T19:51:09.348Z"
      },
      {
        "duration": 2021,
        "start_time": "2023-05-08T19:51:09.351Z"
      },
      {
        "duration": 189306,
        "start_time": "2023-05-08T19:51:11.374Z"
      },
      {
        "duration": 3,
        "start_time": "2023-05-08T19:54:20.681Z"
      },
      {
        "duration": 5508,
        "start_time": "2023-05-08T19:54:20.685Z"
      },
      {
        "duration": 2,
        "start_time": "2023-05-08T19:54:26.194Z"
      },
      {
        "duration": 106,
        "start_time": "2023-05-08T19:54:26.198Z"
      },
      {
        "duration": 0,
        "start_time": "2023-05-08T19:54:26.305Z"
      },
      {
        "duration": 0,
        "start_time": "2023-05-08T19:54:26.307Z"
      },
      {
        "duration": 0,
        "start_time": "2023-05-08T19:54:26.308Z"
      },
      {
        "duration": 0,
        "start_time": "2023-05-08T19:54:26.309Z"
      },
      {
        "duration": 0,
        "start_time": "2023-05-08T19:54:26.309Z"
      },
      {
        "duration": 0,
        "start_time": "2023-05-08T19:54:26.311Z"
      },
      {
        "duration": 0,
        "start_time": "2023-05-08T19:54:26.311Z"
      },
      {
        "duration": 0,
        "start_time": "2023-05-08T19:54:26.312Z"
      },
      {
        "duration": 0,
        "start_time": "2023-05-08T19:54:26.313Z"
      },
      {
        "duration": 0,
        "start_time": "2023-05-08T19:54:26.314Z"
      },
      {
        "duration": 66554,
        "start_time": "2023-05-08T19:54:41.671Z"
      },
      {
        "duration": 2,
        "start_time": "2023-05-08T19:55:48.227Z"
      },
      {
        "duration": 6,
        "start_time": "2023-05-08T19:55:48.231Z"
      },
      {
        "duration": 16434,
        "start_time": "2023-05-08T19:55:48.239Z"
      },
      {
        "duration": 8,
        "start_time": "2023-05-08T19:56:04.675Z"
      },
      {
        "duration": 0,
        "start_time": "2023-05-08T19:56:04.684Z"
      },
      {
        "duration": 0,
        "start_time": "2023-05-08T19:56:04.686Z"
      },
      {
        "duration": 0,
        "start_time": "2023-05-08T19:56:04.687Z"
      },
      {
        "duration": 5,
        "start_time": "2023-05-08T20:02:00.406Z"
      },
      {
        "duration": 8,
        "start_time": "2023-05-08T20:02:02.900Z"
      },
      {
        "duration": 4,
        "start_time": "2023-05-08T20:02:16.098Z"
      },
      {
        "duration": 6,
        "start_time": "2023-05-08T20:02:21.360Z"
      },
      {
        "duration": 3,
        "start_time": "2023-05-08T20:02:21.931Z"
      },
      {
        "duration": 1273,
        "start_time": "2023-05-08T20:05:09.177Z"
      },
      {
        "duration": 3,
        "start_time": "2023-05-08T20:05:10.452Z"
      },
      {
        "duration": 9,
        "start_time": "2023-05-08T20:05:10.456Z"
      },
      {
        "duration": 7,
        "start_time": "2023-05-08T20:05:10.466Z"
      },
      {
        "duration": 623,
        "start_time": "2023-05-08T20:05:10.474Z"
      },
      {
        "duration": 4,
        "start_time": "2023-05-08T20:05:11.099Z"
      },
      {
        "duration": 23925,
        "start_time": "2023-05-08T20:05:11.104Z"
      },
      {
        "duration": 6,
        "start_time": "2023-05-08T20:05:35.031Z"
      },
      {
        "duration": 5,
        "start_time": "2023-05-08T20:05:35.039Z"
      },
      {
        "duration": 25,
        "start_time": "2023-05-08T20:05:35.048Z"
      },
      {
        "duration": 25,
        "start_time": "2023-05-08T20:05:35.075Z"
      },
      {
        "duration": 4,
        "start_time": "2023-05-08T20:05:35.101Z"
      },
      {
        "duration": 12,
        "start_time": "2023-05-08T20:05:35.107Z"
      },
      {
        "duration": 262,
        "start_time": "2023-05-08T20:05:35.121Z"
      },
      {
        "duration": 17,
        "start_time": "2023-05-08T20:05:35.385Z"
      },
      {
        "duration": 8,
        "start_time": "2023-05-08T20:05:35.403Z"
      },
      {
        "duration": 2612,
        "start_time": "2023-05-08T20:05:35.413Z"
      },
      {
        "duration": 430,
        "start_time": "2023-05-08T20:05:38.027Z"
      },
      {
        "duration": 13,
        "start_time": "2023-05-08T20:05:38.459Z"
      },
      {
        "duration": 992,
        "start_time": "2023-05-08T20:05:38.473Z"
      },
      {
        "duration": 4,
        "start_time": "2023-05-08T20:05:39.471Z"
      },
      {
        "duration": 31,
        "start_time": "2023-05-08T20:05:39.476Z"
      },
      {
        "duration": 35,
        "start_time": "2023-05-08T20:05:39.508Z"
      },
      {
        "duration": 24,
        "start_time": "2023-05-08T20:05:39.545Z"
      },
      {
        "duration": 14,
        "start_time": "2023-05-08T20:05:39.570Z"
      },
      {
        "duration": 5,
        "start_time": "2023-05-08T20:05:39.585Z"
      },
      {
        "duration": 3,
        "start_time": "2023-05-08T20:05:39.591Z"
      },
      {
        "duration": 4,
        "start_time": "2023-05-08T20:05:39.597Z"
      },
      {
        "duration": 2171,
        "start_time": "2023-05-08T20:05:39.602Z"
      },
      {
        "duration": 187800,
        "start_time": "2023-05-08T20:05:41.871Z"
      },
      {
        "duration": 3,
        "start_time": "2023-05-08T20:08:49.672Z"
      },
      {
        "duration": 5370,
        "start_time": "2023-05-08T20:08:49.676Z"
      },
      {
        "duration": 2,
        "start_time": "2023-05-08T20:08:55.047Z"
      },
      {
        "duration": 13,
        "start_time": "2023-05-08T20:08:55.051Z"
      },
      {
        "duration": 0,
        "start_time": "2023-05-08T20:09:55.277Z"
      },
      {
        "duration": 0,
        "start_time": "2023-05-08T20:09:55.278Z"
      },
      {
        "duration": 0,
        "start_time": "2023-05-08T20:09:55.279Z"
      },
      {
        "duration": 0,
        "start_time": "2023-05-08T20:09:55.280Z"
      },
      {
        "duration": 0,
        "start_time": "2023-05-08T20:09:55.282Z"
      },
      {
        "duration": 0,
        "start_time": "2023-05-08T20:09:55.283Z"
      },
      {
        "duration": 0,
        "start_time": "2023-05-08T20:09:55.284Z"
      },
      {
        "duration": 0,
        "start_time": "2023-05-08T20:09:55.285Z"
      },
      {
        "duration": 0,
        "start_time": "2023-05-08T20:09:55.286Z"
      },
      {
        "duration": 0,
        "start_time": "2023-05-08T20:09:55.288Z"
      },
      {
        "duration": 0,
        "start_time": "2023-05-08T20:09:55.289Z"
      },
      {
        "duration": 0,
        "start_time": "2023-05-08T20:09:55.290Z"
      },
      {
        "duration": 0,
        "start_time": "2023-05-08T20:09:55.291Z"
      },
      {
        "duration": 2864,
        "start_time": "2023-05-08T20:10:00.143Z"
      },
      {
        "duration": 7730,
        "start_time": "2023-05-08T20:11:28.446Z"
      },
      {
        "duration": 3,
        "start_time": "2023-05-08T20:11:36.178Z"
      },
      {
        "duration": 3,
        "start_time": "2023-05-08T20:11:41.014Z"
      },
      {
        "duration": 5,
        "start_time": "2023-05-08T20:32:56.206Z"
      },
      {
        "duration": 16565,
        "start_time": "2023-05-08T20:32:56.636Z"
      },
      {
        "duration": 5,
        "start_time": "2023-05-08T20:33:13.202Z"
      },
      {
        "duration": 12,
        "start_time": "2023-05-08T20:33:13.208Z"
      },
      {
        "duration": 15,
        "start_time": "2023-05-08T20:33:30.749Z"
      },
      {
        "duration": 10,
        "start_time": "2023-05-08T20:33:56.463Z"
      },
      {
        "duration": 13,
        "start_time": "2023-05-08T20:33:58.223Z"
      },
      {
        "duration": 4,
        "start_time": "2023-05-08T20:34:14.106Z"
      },
      {
        "duration": 9,
        "start_time": "2023-05-08T20:34:14.683Z"
      },
      {
        "duration": 12,
        "start_time": "2023-05-08T20:34:15.559Z"
      },
      {
        "duration": 5,
        "start_time": "2023-05-08T20:34:19.787Z"
      },
      {
        "duration": 3,
        "start_time": "2023-05-08T20:34:20.110Z"
      },
      {
        "duration": 11,
        "start_time": "2023-05-08T20:34:58.061Z"
      },
      {
        "duration": 15,
        "start_time": "2023-05-08T20:35:20.536Z"
      },
      {
        "duration": 2,
        "start_time": "2023-05-08T20:35:20.959Z"
      },
      {
        "duration": 1281,
        "start_time": "2023-05-08T20:35:28.757Z"
      },
      {
        "duration": 3,
        "start_time": "2023-05-08T20:35:30.040Z"
      },
      {
        "duration": 31,
        "start_time": "2023-05-08T20:35:30.044Z"
      },
      {
        "duration": 15,
        "start_time": "2023-05-08T20:35:30.076Z"
      },
      {
        "duration": 625,
        "start_time": "2023-05-08T20:35:30.093Z"
      },
      {
        "duration": 4,
        "start_time": "2023-05-08T20:35:30.720Z"
      },
      {
        "duration": 23527,
        "start_time": "2023-05-08T20:35:30.726Z"
      },
      {
        "duration": 5,
        "start_time": "2023-05-08T20:35:54.255Z"
      },
      {
        "duration": 17,
        "start_time": "2023-05-08T20:35:54.262Z"
      },
      {
        "duration": 5,
        "start_time": "2023-05-08T20:35:54.280Z"
      },
      {
        "duration": 13,
        "start_time": "2023-05-08T20:35:54.286Z"
      },
      {
        "duration": 2,
        "start_time": "2023-05-08T20:35:54.300Z"
      },
      {
        "duration": 13,
        "start_time": "2023-05-08T20:35:54.303Z"
      },
      {
        "duration": 225,
        "start_time": "2023-05-08T20:35:54.318Z"
      },
      {
        "duration": 27,
        "start_time": "2023-05-08T20:35:54.545Z"
      },
      {
        "duration": 8,
        "start_time": "2023-05-08T20:35:54.573Z"
      },
      {
        "duration": 2622,
        "start_time": "2023-05-08T20:35:54.583Z"
      },
      {
        "duration": 427,
        "start_time": "2023-05-08T20:35:57.206Z"
      },
      {
        "duration": 7,
        "start_time": "2023-05-08T20:35:57.635Z"
      },
      {
        "duration": 965,
        "start_time": "2023-05-08T20:35:57.643Z"
      },
      {
        "duration": 6,
        "start_time": "2023-05-08T20:35:58.609Z"
      },
      {
        "duration": 9,
        "start_time": "2023-05-08T20:35:58.616Z"
      },
      {
        "duration": 4,
        "start_time": "2023-05-08T20:35:58.626Z"
      },
      {
        "duration": 4,
        "start_time": "2023-05-08T20:35:58.632Z"
      },
      {
        "duration": 14,
        "start_time": "2023-05-08T20:35:58.638Z"
      },
      {
        "duration": 4,
        "start_time": "2023-05-08T20:35:58.653Z"
      },
      {
        "duration": 13,
        "start_time": "2023-05-08T20:35:58.671Z"
      },
      {
        "duration": 2,
        "start_time": "2023-05-08T20:35:58.685Z"
      },
      {
        "duration": 2187,
        "start_time": "2023-05-08T20:35:58.688Z"
      },
      {
        "duration": 191436,
        "start_time": "2023-05-08T20:36:00.877Z"
      },
      {
        "duration": 3,
        "start_time": "2023-05-08T20:39:12.314Z"
      },
      {
        "duration": 2804,
        "start_time": "2023-05-08T20:39:12.318Z"
      },
      {
        "duration": 2,
        "start_time": "2023-05-08T20:39:15.124Z"
      },
      {
        "duration": 7,
        "start_time": "2023-05-08T20:39:15.127Z"
      },
      {
        "duration": 66087,
        "start_time": "2023-05-08T20:39:15.135Z"
      },
      {
        "duration": 3,
        "start_time": "2023-05-08T20:40:21.224Z"
      },
      {
        "duration": 9,
        "start_time": "2023-05-08T20:40:21.228Z"
      },
      {
        "duration": 10,
        "start_time": "2023-05-08T20:40:21.238Z"
      },
      {
        "duration": 113,
        "start_time": "2023-05-08T20:40:21.249Z"
      },
      {
        "duration": 0,
        "start_time": "2023-05-08T20:40:21.363Z"
      },
      {
        "duration": 0,
        "start_time": "2023-05-08T20:40:21.364Z"
      },
      {
        "duration": 0,
        "start_time": "2023-05-08T20:40:21.371Z"
      },
      {
        "duration": 0,
        "start_time": "2023-05-08T20:40:21.372Z"
      },
      {
        "duration": 0,
        "start_time": "2023-05-08T20:40:21.373Z"
      },
      {
        "duration": 0,
        "start_time": "2023-05-08T20:40:21.373Z"
      },
      {
        "duration": 8,
        "start_time": "2023-05-08T20:57:43.530Z"
      },
      {
        "duration": 13,
        "start_time": "2023-05-08T20:57:44.356Z"
      },
      {
        "duration": 4,
        "start_time": "2023-05-08T21:04:17.041Z"
      },
      {
        "duration": 8,
        "start_time": "2023-05-08T21:04:27.371Z"
      },
      {
        "duration": 3,
        "start_time": "2023-05-08T21:04:44.161Z"
      },
      {
        "duration": 4,
        "start_time": "2023-05-08T21:06:39.041Z"
      },
      {
        "duration": 5,
        "start_time": "2023-05-08T21:06:39.757Z"
      },
      {
        "duration": 13,
        "start_time": "2023-05-08T21:06:40.416Z"
      },
      {
        "duration": 6,
        "start_time": "2023-05-08T21:07:59.949Z"
      },
      {
        "duration": 37,
        "start_time": "2023-05-08T21:08:09.758Z"
      },
      {
        "duration": 5,
        "start_time": "2023-05-08T21:08:33.307Z"
      },
      {
        "duration": 10,
        "start_time": "2023-05-08T21:08:45.638Z"
      },
      {
        "duration": 4,
        "start_time": "2023-05-08T21:08:46.214Z"
      },
      {
        "duration": 4,
        "start_time": "2023-05-08T21:08:47.104Z"
      },
      {
        "duration": 12,
        "start_time": "2023-05-08T21:08:53.818Z"
      },
      {
        "duration": 5,
        "start_time": "2023-05-08T21:09:13.518Z"
      },
      {
        "duration": 5,
        "start_time": "2023-05-08T21:09:34.981Z"
      },
      {
        "duration": 4,
        "start_time": "2023-05-08T21:09:43.156Z"
      },
      {
        "duration": 3,
        "start_time": "2023-05-08T21:13:30.361Z"
      },
      {
        "duration": 4,
        "start_time": "2023-05-08T21:13:42.256Z"
      },
      {
        "duration": 4,
        "start_time": "2023-05-08T21:18:12.875Z"
      },
      {
        "duration": 3,
        "start_time": "2023-05-08T21:18:13.278Z"
      },
      {
        "duration": 2,
        "start_time": "2023-05-08T21:18:13.666Z"
      },
      {
        "duration": 2,
        "start_time": "2023-05-08T21:18:14.186Z"
      },
      {
        "duration": 635,
        "start_time": "2023-05-08T21:18:14.678Z"
      },
      {
        "duration": 4,
        "start_time": "2023-05-08T21:18:15.374Z"
      },
      {
        "duration": 23763,
        "start_time": "2023-05-08T21:18:16.100Z"
      },
      {
        "duration": 8,
        "start_time": "2023-05-08T21:18:39.865Z"
      },
      {
        "duration": 8,
        "start_time": "2023-05-08T21:18:39.875Z"
      },
      {
        "duration": 12,
        "start_time": "2023-05-08T21:18:39.885Z"
      },
      {
        "duration": 3,
        "start_time": "2023-05-08T21:18:39.899Z"
      },
      {
        "duration": 12,
        "start_time": "2023-05-08T21:18:39.903Z"
      },
      {
        "duration": 236,
        "start_time": "2023-05-08T21:18:39.916Z"
      },
      {
        "duration": 22,
        "start_time": "2023-05-08T21:18:40.153Z"
      },
      {
        "duration": 8,
        "start_time": "2023-05-08T21:18:40.176Z"
      },
      {
        "duration": 54,
        "start_time": "2023-05-08T21:19:11.709Z"
      },
      {
        "duration": 36,
        "start_time": "2023-05-08T21:19:25.553Z"
      },
      {
        "duration": 4,
        "start_time": "2023-05-08T21:19:40.399Z"
      },
      {
        "duration": 3,
        "start_time": "2023-05-08T21:19:41.593Z"
      },
      {
        "duration": 2,
        "start_time": "2023-05-08T21:19:41.914Z"
      },
      {
        "duration": 3,
        "start_time": "2023-05-08T21:19:42.361Z"
      },
      {
        "duration": 13,
        "start_time": "2023-05-08T21:19:44.740Z"
      },
      {
        "duration": 5,
        "start_time": "2023-05-08T21:19:53.020Z"
      },
      {
        "duration": 41,
        "start_time": "2023-05-08T21:20:02.525Z"
      },
      {
        "duration": 5,
        "start_time": "2023-05-08T21:20:10.325Z"
      },
      {
        "duration": 5,
        "start_time": "2023-05-08T21:20:21.543Z"
      },
      {
        "duration": 14,
        "start_time": "2023-05-08T21:20:28.579Z"
      },
      {
        "duration": 4,
        "start_time": "2023-05-08T21:20:42.079Z"
      },
      {
        "duration": 3,
        "start_time": "2023-05-08T21:20:51.321Z"
      },
      {
        "duration": 4,
        "start_time": "2023-05-08T21:21:11.526Z"
      },
      {
        "duration": 9,
        "start_time": "2023-05-08T21:21:12.698Z"
      },
      {
        "duration": 5,
        "start_time": "2023-05-08T21:21:14.655Z"
      },
      {
        "duration": 5,
        "start_time": "2023-05-08T21:21:18.075Z"
      },
      {
        "duration": 4,
        "start_time": "2023-05-08T21:21:20.979Z"
      },
      {
        "duration": 3,
        "start_time": "2023-05-08T21:21:21.812Z"
      },
      {
        "duration": 16450,
        "start_time": "2023-05-08T21:21:22.785Z"
      },
      {
        "duration": 6,
        "start_time": "2023-05-08T21:22:01.905Z"
      },
      {
        "duration": 3,
        "start_time": "2023-05-08T21:22:02.769Z"
      },
      {
        "duration": 7,
        "start_time": "2023-05-08T21:22:25.116Z"
      },
      {
        "duration": 4,
        "start_time": "2023-05-08T21:22:25.933Z"
      },
      {
        "duration": 37993,
        "start_time": "2023-05-08T21:23:04.980Z"
      },
      {
        "duration": 5,
        "start_time": "2023-05-08T21:23:42.975Z"
      },
      {
        "duration": 6,
        "start_time": "2023-05-08T21:23:42.981Z"
      },
      {
        "duration": 243615,
        "start_time": "2023-05-08T21:52:11.163Z"
      },
      {
        "duration": 3,
        "start_time": "2023-05-08T21:56:14.779Z"
      },
      {
        "duration": 7,
        "start_time": "2023-05-08T22:08:16.342Z"
      },
      {
        "duration": 15,
        "start_time": "2023-05-08T22:08:17.456Z"
      },
      {
        "duration": 13,
        "start_time": "2023-05-08T22:08:33.979Z"
      },
      {
        "duration": 3,
        "start_time": "2023-05-08T22:08:39.276Z"
      },
      {
        "duration": 3,
        "start_time": "2023-05-08T22:08:39.584Z"
      },
      {
        "duration": 3,
        "start_time": "2023-05-08T22:08:39.930Z"
      },
      {
        "duration": 13,
        "start_time": "2023-05-08T22:08:40.666Z"
      },
      {
        "duration": 7,
        "start_time": "2023-05-08T22:08:41.509Z"
      },
      {
        "duration": 38,
        "start_time": "2023-05-08T22:08:42.033Z"
      },
      {
        "duration": 5,
        "start_time": "2023-05-08T22:08:42.693Z"
      },
      {
        "duration": 4,
        "start_time": "2023-05-08T22:08:43.025Z"
      },
      {
        "duration": 15,
        "start_time": "2023-05-08T22:08:43.307Z"
      },
      {
        "duration": 3,
        "start_time": "2023-05-08T22:08:43.943Z"
      },
      {
        "duration": 3,
        "start_time": "2023-05-08T22:08:44.758Z"
      },
      {
        "duration": 2425,
        "start_time": "2023-05-08T22:08:45.652Z"
      },
      {
        "duration": 192476,
        "start_time": "2023-05-08T22:08:48.079Z"
      },
      {
        "duration": 3,
        "start_time": "2023-05-08T22:12:00.556Z"
      },
      {
        "duration": 2981,
        "start_time": "2023-05-08T22:12:00.560Z"
      },
      {
        "duration": 2,
        "start_time": "2023-05-08T22:12:03.543Z"
      },
      {
        "duration": 14,
        "start_time": "2023-05-08T22:12:03.546Z"
      },
      {
        "duration": 253740,
        "start_time": "2023-05-08T22:12:03.561Z"
      },
      {
        "duration": 3,
        "start_time": "2023-05-08T22:16:17.303Z"
      },
      {
        "duration": 7,
        "start_time": "2023-05-08T22:16:17.307Z"
      },
      {
        "duration": 12,
        "start_time": "2023-05-08T22:16:17.316Z"
      },
      {
        "duration": 38734,
        "start_time": "2023-05-08T22:16:17.330Z"
      },
      {
        "duration": 9,
        "start_time": "2023-05-08T22:16:56.066Z"
      },
      {
        "duration": 21,
        "start_time": "2023-05-08T22:16:56.076Z"
      },
      {
        "duration": 19,
        "start_time": "2023-05-08T22:16:56.099Z"
      },
      {
        "duration": 15,
        "start_time": "2023-05-08T22:16:56.119Z"
      },
      {
        "duration": 33,
        "start_time": "2023-05-08T22:16:56.135Z"
      },
      {
        "duration": 15,
        "start_time": "2023-05-08T22:16:56.170Z"
      },
      {
        "duration": 192867,
        "start_time": "2023-05-08T23:41:24.992Z"
      },
      {
        "duration": 4,
        "start_time": "2023-05-08T23:44:37.860Z"
      },
      {
        "duration": 10,
        "start_time": "2023-05-08T23:44:37.865Z"
      },
      {
        "duration": 14,
        "start_time": "2023-05-08T23:44:37.877Z"
      },
      {
        "duration": 45751,
        "start_time": "2023-05-08T23:44:37.892Z"
      },
      {
        "duration": 0,
        "start_time": "2023-05-08T23:45:23.645Z"
      },
      {
        "duration": 0,
        "start_time": "2023-05-08T23:45:23.646Z"
      },
      {
        "duration": 0,
        "start_time": "2023-05-08T23:45:23.648Z"
      },
      {
        "duration": 0,
        "start_time": "2023-05-08T23:45:23.650Z"
      },
      {
        "duration": 4,
        "start_time": "2023-05-08T23:45:34.452Z"
      },
      {
        "duration": 21169,
        "start_time": "2023-05-08T23:45:35.405Z"
      },
      {
        "duration": 1300,
        "start_time": "2023-05-08T23:47:37.189Z"
      },
      {
        "duration": 2,
        "start_time": "2023-05-08T23:47:38.491Z"
      },
      {
        "duration": 9,
        "start_time": "2023-05-08T23:47:38.495Z"
      },
      {
        "duration": 680,
        "start_time": "2023-05-08T23:47:38.505Z"
      },
      {
        "duration": 3,
        "start_time": "2023-05-08T23:47:39.188Z"
      },
      {
        "duration": 23164,
        "start_time": "2023-05-08T23:47:39.193Z"
      },
      {
        "duration": 14,
        "start_time": "2023-05-08T23:48:02.358Z"
      },
      {
        "duration": 54,
        "start_time": "2023-05-08T23:48:02.373Z"
      },
      {
        "duration": 54,
        "start_time": "2023-05-08T23:48:02.429Z"
      },
      {
        "duration": 44,
        "start_time": "2023-05-08T23:48:02.485Z"
      },
      {
        "duration": 21,
        "start_time": "2023-05-08T23:48:02.531Z"
      },
      {
        "duration": 25,
        "start_time": "2023-05-08T23:48:02.554Z"
      },
      {
        "duration": 231,
        "start_time": "2023-05-08T23:48:02.581Z"
      },
      {
        "duration": 9,
        "start_time": "2023-05-08T23:48:02.815Z"
      },
      {
        "duration": 7,
        "start_time": "2023-05-08T23:48:02.826Z"
      },
      {
        "duration": 2496,
        "start_time": "2023-05-08T23:48:02.834Z"
      },
      {
        "duration": 442,
        "start_time": "2023-05-08T23:48:05.332Z"
      },
      {
        "duration": 6,
        "start_time": "2023-05-08T23:48:05.776Z"
      },
      {
        "duration": 1014,
        "start_time": "2023-05-08T23:48:05.783Z"
      },
      {
        "duration": 4,
        "start_time": "2023-05-08T23:48:06.799Z"
      },
      {
        "duration": 4,
        "start_time": "2023-05-08T23:48:06.805Z"
      },
      {
        "duration": 3,
        "start_time": "2023-05-08T23:48:06.810Z"
      },
      {
        "duration": 4,
        "start_time": "2023-05-08T23:48:06.815Z"
      },
      {
        "duration": 19,
        "start_time": "2023-05-08T23:48:06.820Z"
      },
      {
        "duration": 4,
        "start_time": "2023-05-08T23:48:06.840Z"
      },
      {
        "duration": 55,
        "start_time": "2023-05-08T23:48:06.846Z"
      },
      {
        "duration": 5,
        "start_time": "2023-05-08T23:48:06.902Z"
      },
      {
        "duration": 6,
        "start_time": "2023-05-08T23:48:06.908Z"
      },
      {
        "duration": 17,
        "start_time": "2023-05-08T23:48:06.915Z"
      },
      {
        "duration": 3,
        "start_time": "2023-05-08T23:48:06.933Z"
      },
      {
        "duration": 5,
        "start_time": "2023-05-08T23:48:06.937Z"
      },
      {
        "duration": 2136,
        "start_time": "2023-05-08T23:48:06.943Z"
      },
      {
        "duration": 187009,
        "start_time": "2023-05-08T23:48:09.083Z"
      },
      {
        "duration": 3,
        "start_time": "2023-05-08T23:51:16.093Z"
      },
      {
        "duration": 2790,
        "start_time": "2023-05-08T23:51:16.097Z"
      },
      {
        "duration": 2,
        "start_time": "2023-05-08T23:51:18.889Z"
      },
      {
        "duration": 8,
        "start_time": "2023-05-08T23:51:18.892Z"
      },
      {
        "duration": 254431,
        "start_time": "2023-05-08T23:51:18.901Z"
      },
      {
        "duration": 3,
        "start_time": "2023-05-08T23:55:33.333Z"
      },
      {
        "duration": 6,
        "start_time": "2023-05-08T23:55:33.338Z"
      },
      {
        "duration": 11,
        "start_time": "2023-05-08T23:55:33.347Z"
      },
      {
        "duration": 64187,
        "start_time": "2023-05-08T23:55:33.359Z"
      },
      {
        "duration": 4,
        "start_time": "2023-05-08T23:56:37.548Z"
      },
      {
        "duration": 11,
        "start_time": "2023-05-08T23:56:37.553Z"
      },
      {
        "duration": 14,
        "start_time": "2023-05-08T23:56:37.565Z"
      },
      {
        "duration": 6,
        "start_time": "2023-05-08T23:56:37.580Z"
      },
      {
        "duration": 13,
        "start_time": "2023-05-08T23:56:37.588Z"
      },
      {
        "duration": 9,
        "start_time": "2023-05-08T23:56:37.602Z"
      },
      {
        "duration": 65150,
        "start_time": "2023-05-09T00:35:34.731Z"
      },
      {
        "duration": 5,
        "start_time": "2023-05-09T00:36:39.882Z"
      },
      {
        "duration": 5,
        "start_time": "2023-05-09T00:36:39.888Z"
      },
      {
        "duration": 4,
        "start_time": "2023-05-09T00:54:29.265Z"
      },
      {
        "duration": 3,
        "start_time": "2023-05-09T00:54:30.039Z"
      },
      {
        "duration": 7,
        "start_time": "2023-05-09T00:54:35.585Z"
      },
      {
        "duration": 3,
        "start_time": "2023-05-09T00:54:36.052Z"
      },
      {
        "duration": 13,
        "start_time": "2023-05-09T00:59:42.747Z"
      },
      {
        "duration": 106,
        "start_time": "2023-05-09T00:59:44.080Z"
      },
      {
        "duration": 65330,
        "start_time": "2023-05-09T00:59:57.316Z"
      },
      {
        "duration": 5,
        "start_time": "2023-05-09T01:01:02.648Z"
      },
      {
        "duration": 119932,
        "start_time": "2023-05-09T01:01:40.217Z"
      },
      {
        "duration": 5,
        "start_time": "2023-05-09T01:03:40.150Z"
      },
      {
        "duration": 5,
        "start_time": "2023-05-09T01:03:40.156Z"
      },
      {
        "duration": 28295,
        "start_time": "2023-05-09T01:06:37.209Z"
      },
      {
        "duration": 6,
        "start_time": "2023-05-09T01:07:05.506Z"
      },
      {
        "duration": 7,
        "start_time": "2023-05-09T01:07:05.513Z"
      },
      {
        "duration": 14710,
        "start_time": "2023-05-09T01:07:14.842Z"
      },
      {
        "duration": 4,
        "start_time": "2023-05-09T01:07:29.554Z"
      },
      {
        "duration": 13,
        "start_time": "2023-05-09T01:07:29.559Z"
      },
      {
        "duration": 17416,
        "start_time": "2023-05-09T01:07:52.254Z"
      },
      {
        "duration": 4,
        "start_time": "2023-05-09T01:08:09.672Z"
      },
      {
        "duration": 9,
        "start_time": "2023-05-09T01:08:09.677Z"
      },
      {
        "duration": 19964,
        "start_time": "2023-05-09T01:08:26.028Z"
      },
      {
        "duration": 6,
        "start_time": "2023-05-09T01:08:45.994Z"
      },
      {
        "duration": 19,
        "start_time": "2023-05-09T01:08:46.002Z"
      },
      {
        "duration": 38535,
        "start_time": "2023-05-09T01:08:56.664Z"
      },
      {
        "duration": 4,
        "start_time": "2023-05-09T01:09:35.201Z"
      },
      {
        "duration": 8,
        "start_time": "2023-05-09T01:09:35.206Z"
      },
      {
        "duration": 38874,
        "start_time": "2023-05-09T01:09:54.410Z"
      },
      {
        "duration": 5,
        "start_time": "2023-05-09T01:10:33.285Z"
      },
      {
        "duration": 28,
        "start_time": "2023-05-09T01:10:33.291Z"
      },
      {
        "duration": 39281,
        "start_time": "2023-05-09T01:10:43.495Z"
      },
      {
        "duration": 5,
        "start_time": "2023-05-09T01:11:22.778Z"
      },
      {
        "duration": 5,
        "start_time": "2023-05-09T01:11:22.784Z"
      },
      {
        "duration": 39456,
        "start_time": "2023-05-09T01:11:36.270Z"
      },
      {
        "duration": 5,
        "start_time": "2023-05-09T01:12:15.728Z"
      },
      {
        "duration": 14,
        "start_time": "2023-05-09T01:12:15.735Z"
      },
      {
        "duration": 7,
        "start_time": "2023-05-09T01:12:34.466Z"
      },
      {
        "duration": 6600,
        "start_time": "2023-05-09T01:12:39.319Z"
      },
      {
        "duration": 38711,
        "start_time": "2023-05-09T01:13:24.272Z"
      },
      {
        "duration": 4,
        "start_time": "2023-05-09T01:14:02.985Z"
      },
      {
        "duration": 43,
        "start_time": "2023-05-09T01:14:02.991Z"
      },
      {
        "duration": 38883,
        "start_time": "2023-05-09T01:14:58.402Z"
      },
      {
        "duration": 5,
        "start_time": "2023-05-09T01:15:37.287Z"
      },
      {
        "duration": 13,
        "start_time": "2023-05-09T01:15:37.294Z"
      },
      {
        "duration": 38899,
        "start_time": "2023-05-09T01:16:16.214Z"
      },
      {
        "duration": 5,
        "start_time": "2023-05-09T01:16:55.115Z"
      },
      {
        "duration": 12,
        "start_time": "2023-05-09T01:16:55.121Z"
      },
      {
        "duration": 1255,
        "start_time": "2023-05-09T09:32:20.729Z"
      },
      {
        "duration": 3,
        "start_time": "2023-05-09T09:32:21.986Z"
      },
      {
        "duration": 16,
        "start_time": "2023-05-09T09:32:21.990Z"
      },
      {
        "duration": 632,
        "start_time": "2023-05-09T09:32:22.009Z"
      },
      {
        "duration": 4,
        "start_time": "2023-05-09T09:32:22.642Z"
      },
      {
        "duration": 24910,
        "start_time": "2023-05-09T09:32:22.647Z"
      },
      {
        "duration": 14,
        "start_time": "2023-05-09T09:32:47.558Z"
      },
      {
        "duration": 4,
        "start_time": "2023-05-09T09:32:47.574Z"
      },
      {
        "duration": 11,
        "start_time": "2023-05-09T09:32:47.580Z"
      },
      {
        "duration": 14,
        "start_time": "2023-05-09T09:32:47.594Z"
      },
      {
        "duration": 4,
        "start_time": "2023-05-09T09:32:47.610Z"
      },
      {
        "duration": 13,
        "start_time": "2023-05-09T09:32:47.616Z"
      },
      {
        "duration": 247,
        "start_time": "2023-05-09T09:32:47.630Z"
      },
      {
        "duration": 20,
        "start_time": "2023-05-09T09:32:47.879Z"
      },
      {
        "duration": 10,
        "start_time": "2023-05-09T09:32:47.901Z"
      },
      {
        "duration": 2687,
        "start_time": "2023-05-09T09:32:47.913Z"
      },
      {
        "duration": 449,
        "start_time": "2023-05-09T09:32:50.602Z"
      },
      {
        "duration": 7,
        "start_time": "2023-05-09T09:32:51.053Z"
      },
      {
        "duration": 1057,
        "start_time": "2023-05-09T09:32:51.062Z"
      },
      {
        "duration": 5,
        "start_time": "2023-05-09T09:32:52.120Z"
      },
      {
        "duration": 26,
        "start_time": "2023-05-09T09:32:52.126Z"
      },
      {
        "duration": 10,
        "start_time": "2023-05-09T09:32:52.153Z"
      },
      {
        "duration": 7,
        "start_time": "2023-05-09T09:32:52.164Z"
      },
      {
        "duration": 15,
        "start_time": "2023-05-09T09:32:52.172Z"
      },
      {
        "duration": 4,
        "start_time": "2023-05-09T09:32:52.188Z"
      },
      {
        "duration": 47,
        "start_time": "2023-05-09T09:32:52.193Z"
      },
      {
        "duration": 12,
        "start_time": "2023-05-09T09:32:52.242Z"
      },
      {
        "duration": 12,
        "start_time": "2023-05-09T09:32:52.257Z"
      },
      {
        "duration": 29,
        "start_time": "2023-05-09T09:32:52.271Z"
      },
      {
        "duration": 3,
        "start_time": "2023-05-09T09:32:52.302Z"
      },
      {
        "duration": 11,
        "start_time": "2023-05-09T09:32:52.306Z"
      },
      {
        "duration": 2458,
        "start_time": "2023-05-09T09:32:52.318Z"
      },
      {
        "duration": 189124,
        "start_time": "2023-05-09T09:32:54.779Z"
      },
      {
        "duration": 3,
        "start_time": "2023-05-09T09:36:03.905Z"
      },
      {
        "duration": 2875,
        "start_time": "2023-05-09T09:36:03.909Z"
      },
      {
        "duration": 310422,
        "start_time": "2023-05-09T09:36:06.786Z"
      },
      {
        "duration": 0,
        "start_time": "2023-05-09T09:41:17.211Z"
      },
      {
        "duration": 1,
        "start_time": "2023-05-09T09:41:17.211Z"
      },
      {
        "duration": 0,
        "start_time": "2023-05-09T09:41:17.213Z"
      },
      {
        "duration": 0,
        "start_time": "2023-05-09T09:41:17.214Z"
      },
      {
        "duration": 0,
        "start_time": "2023-05-09T09:41:17.215Z"
      },
      {
        "duration": 0,
        "start_time": "2023-05-09T09:41:17.216Z"
      },
      {
        "duration": 0,
        "start_time": "2023-05-09T09:41:17.217Z"
      },
      {
        "duration": 0,
        "start_time": "2023-05-09T09:41:17.217Z"
      },
      {
        "duration": 0,
        "start_time": "2023-05-09T09:41:17.218Z"
      },
      {
        "duration": 0,
        "start_time": "2023-05-09T09:41:17.219Z"
      },
      {
        "duration": 103302,
        "start_time": "2023-05-09T09:41:51.141Z"
      },
      {
        "duration": 4,
        "start_time": "2023-05-09T09:43:34.445Z"
      },
      {
        "duration": 10,
        "start_time": "2023-05-09T09:43:34.451Z"
      },
      {
        "duration": 12,
        "start_time": "2023-05-09T09:43:34.463Z"
      },
      {
        "duration": 25141,
        "start_time": "2023-05-09T09:43:34.477Z"
      },
      {
        "duration": 0,
        "start_time": "2023-05-09T09:43:59.620Z"
      },
      {
        "duration": 0,
        "start_time": "2023-05-09T09:43:59.621Z"
      },
      {
        "duration": 0,
        "start_time": "2023-05-09T09:43:59.622Z"
      },
      {
        "duration": 0,
        "start_time": "2023-05-09T09:43:59.623Z"
      },
      {
        "duration": 1311,
        "start_time": "2023-05-09T09:44:23.856Z"
      },
      {
        "duration": 2,
        "start_time": "2023-05-09T09:44:25.168Z"
      },
      {
        "duration": 6,
        "start_time": "2023-05-09T09:44:25.172Z"
      },
      {
        "duration": 644,
        "start_time": "2023-05-09T09:44:25.180Z"
      },
      {
        "duration": 4,
        "start_time": "2023-05-09T09:44:25.825Z"
      },
      {
        "duration": 24771,
        "start_time": "2023-05-09T09:44:25.830Z"
      },
      {
        "duration": 6,
        "start_time": "2023-05-09T09:44:50.603Z"
      },
      {
        "duration": 20,
        "start_time": "2023-05-09T09:44:50.611Z"
      },
      {
        "duration": 15,
        "start_time": "2023-05-09T09:44:50.633Z"
      },
      {
        "duration": 18,
        "start_time": "2023-05-09T09:44:50.651Z"
      },
      {
        "duration": 3,
        "start_time": "2023-05-09T09:44:50.671Z"
      },
      {
        "duration": 21,
        "start_time": "2023-05-09T09:44:50.675Z"
      },
      {
        "duration": 238,
        "start_time": "2023-05-09T09:44:50.697Z"
      },
      {
        "duration": 15,
        "start_time": "2023-05-09T09:44:50.936Z"
      },
      {
        "duration": 24,
        "start_time": "2023-05-09T09:44:50.952Z"
      },
      {
        "duration": 2617,
        "start_time": "2023-05-09T09:44:50.977Z"
      },
      {
        "duration": 439,
        "start_time": "2023-05-09T09:44:53.596Z"
      },
      {
        "duration": 6,
        "start_time": "2023-05-09T09:44:54.037Z"
      },
      {
        "duration": 1007,
        "start_time": "2023-05-09T09:44:54.044Z"
      },
      {
        "duration": 5,
        "start_time": "2023-05-09T09:44:55.052Z"
      },
      {
        "duration": 19,
        "start_time": "2023-05-09T09:44:55.058Z"
      },
      {
        "duration": 13,
        "start_time": "2023-05-09T09:44:55.079Z"
      },
      {
        "duration": 15,
        "start_time": "2023-05-09T09:44:55.094Z"
      },
      {
        "duration": 23,
        "start_time": "2023-05-09T09:44:55.110Z"
      },
      {
        "duration": 5,
        "start_time": "2023-05-09T09:44:55.134Z"
      },
      {
        "duration": 38,
        "start_time": "2023-05-09T09:44:55.141Z"
      },
      {
        "duration": 6,
        "start_time": "2023-05-09T09:44:55.180Z"
      },
      {
        "duration": 9,
        "start_time": "2023-05-09T09:44:55.190Z"
      },
      {
        "duration": 9,
        "start_time": "2023-05-09T09:44:55.200Z"
      },
      {
        "duration": 16,
        "start_time": "2023-05-09T09:44:55.210Z"
      },
      {
        "duration": 2747,
        "start_time": "2023-05-09T09:44:55.228Z"
      },
      {
        "duration": 14542,
        "start_time": "2023-05-09T09:44:57.980Z"
      },
      {
        "duration": 0,
        "start_time": "2023-05-09T09:45:12.524Z"
      },
      {
        "duration": 0,
        "start_time": "2023-05-09T09:45:12.526Z"
      },
      {
        "duration": 0,
        "start_time": "2023-05-09T09:45:12.527Z"
      },
      {
        "duration": 0,
        "start_time": "2023-05-09T09:45:12.528Z"
      },
      {
        "duration": 0,
        "start_time": "2023-05-09T09:45:12.529Z"
      },
      {
        "duration": 0,
        "start_time": "2023-05-09T09:45:12.530Z"
      },
      {
        "duration": 0,
        "start_time": "2023-05-09T09:45:12.531Z"
      },
      {
        "duration": 0,
        "start_time": "2023-05-09T09:45:12.533Z"
      },
      {
        "duration": 0,
        "start_time": "2023-05-09T09:45:12.534Z"
      },
      {
        "duration": 0,
        "start_time": "2023-05-09T09:45:12.535Z"
      },
      {
        "duration": 0,
        "start_time": "2023-05-09T09:45:12.536Z"
      },
      {
        "duration": 0,
        "start_time": "2023-05-09T09:45:12.537Z"
      },
      {
        "duration": 0,
        "start_time": "2023-05-09T09:45:12.538Z"
      },
      {
        "duration": 130039,
        "start_time": "2023-05-09T09:45:14.710Z"
      },
      {
        "duration": 0,
        "start_time": "2023-05-09T09:47:24.751Z"
      },
      {
        "duration": 3110,
        "start_time": "2023-05-09T09:47:28.182Z"
      },
      {
        "duration": 4,
        "start_time": "2023-05-09T09:47:39.139Z"
      },
      {
        "duration": 162595,
        "start_time": "2023-05-09T09:47:42.990Z"
      },
      {
        "duration": 3,
        "start_time": "2023-05-09T09:50:25.588Z"
      },
      {
        "duration": 9,
        "start_time": "2023-05-09T09:50:34.271Z"
      },
      {
        "duration": 3,
        "start_time": "2023-05-09T09:50:35.219Z"
      },
      {
        "duration": 40343,
        "start_time": "2023-05-09T09:50:35.646Z"
      },
      {
        "duration": 7,
        "start_time": "2023-05-09T09:51:15.991Z"
      },
      {
        "duration": 13,
        "start_time": "2023-05-09T09:51:16.000Z"
      },
      {
        "duration": 11,
        "start_time": "2023-05-09T10:06:23.418Z"
      },
      {
        "duration": 40089,
        "start_time": "2023-05-09T10:06:24.410Z"
      },
      {
        "duration": 5,
        "start_time": "2023-05-09T10:07:04.500Z"
      },
      {
        "duration": 9,
        "start_time": "2023-05-09T10:07:04.506Z"
      },
      {
        "duration": 3,
        "start_time": "2023-05-09T10:11:26.894Z"
      },
      {
        "duration": 4,
        "start_time": "2023-05-09T10:11:35.165Z"
      },
      {
        "duration": 3,
        "start_time": "2023-05-09T10:11:35.401Z"
      },
      {
        "duration": 3,
        "start_time": "2023-05-09T10:11:35.808Z"
      },
      {
        "duration": 733,
        "start_time": "2023-05-09T10:11:36.200Z"
      },
      {
        "duration": 5,
        "start_time": "2023-05-09T10:11:44.127Z"
      },
      {
        "duration": 4,
        "start_time": "2023-05-09T10:11:44.373Z"
      },
      {
        "duration": 14,
        "start_time": "2023-05-09T10:11:49.059Z"
      },
      {
        "duration": 4,
        "start_time": "2023-05-09T10:11:49.496Z"
      },
      {
        "duration": 17,
        "start_time": "2023-05-09T10:11:49.911Z"
      },
      {
        "duration": 212,
        "start_time": "2023-05-09T10:11:50.341Z"
      },
      {
        "duration": 15,
        "start_time": "2023-05-09T10:11:52.445Z"
      },
      {
        "duration": 7,
        "start_time": "2023-05-09T10:11:53.403Z"
      },
      {
        "duration": 5,
        "start_time": "2023-05-09T10:12:00.509Z"
      },
      {
        "duration": 3,
        "start_time": "2023-05-09T10:12:01.432Z"
      },
      {
        "duration": 2,
        "start_time": "2023-05-09T10:12:02.476Z"
      },
      {
        "duration": 4,
        "start_time": "2023-05-09T10:12:02.840Z"
      },
      {
        "duration": 5,
        "start_time": "2023-05-09T10:12:21.900Z"
      },
      {
        "duration": 2,
        "start_time": "2023-05-09T10:12:22.375Z"
      },
      {
        "duration": 41300,
        "start_time": "2023-05-09T10:12:23.330Z"
      },
      {
        "duration": 5,
        "start_time": "2023-05-09T10:13:04.632Z"
      },
      {
        "duration": 14,
        "start_time": "2023-05-09T10:13:04.638Z"
      },
      {
        "duration": 9,
        "start_time": "2023-05-09T10:13:04.654Z"
      },
      {
        "duration": 13,
        "start_time": "2023-05-09T10:13:04.665Z"
      },
      {
        "duration": 3,
        "start_time": "2023-05-09T10:22:32.611Z"
      },
      {
        "duration": 2865,
        "start_time": "2023-05-10T09:16:38.332Z"
      },
      {
        "duration": 2921,
        "start_time": "2023-05-10T09:16:57.986Z"
      },
      {
        "duration": 3,
        "start_time": "2023-05-10T09:17:31.342Z"
      },
      {
        "duration": 3,
        "start_time": "2023-05-10T09:17:32.183Z"
      },
      {
        "duration": 2912,
        "start_time": "2023-05-10T09:17:32.778Z"
      },
      {
        "duration": 2,
        "start_time": "2023-05-10T09:17:52.238Z"
      },
      {
        "duration": 471,
        "start_time": "2023-05-10T14:07:04.144Z"
      },
      {
        "duration": 14969,
        "start_time": "2023-05-10T14:07:08.972Z"
      },
      {
        "duration": 1761,
        "start_time": "2023-05-10T14:07:23.944Z"
      },
      {
        "duration": 5,
        "start_time": "2023-05-10T14:07:25.707Z"
      },
      {
        "duration": 11,
        "start_time": "2023-05-10T14:07:25.714Z"
      },
      {
        "duration": 2955,
        "start_time": "2023-05-10T14:07:25.726Z"
      },
      {
        "duration": 6,
        "start_time": "2023-05-10T14:11:24.295Z"
      },
      {
        "duration": 5,
        "start_time": "2023-05-10T14:11:24.620Z"
      },
      {
        "duration": 72,
        "start_time": "2023-05-10T14:24:33.444Z"
      },
      {
        "duration": 9,
        "start_time": "2023-05-10T14:24:35.410Z"
      },
      {
        "duration": 85,
        "start_time": "2023-05-10T14:26:31.977Z"
      },
      {
        "duration": 7,
        "start_time": "2023-05-10T14:29:44.787Z"
      },
      {
        "duration": 222,
        "start_time": "2023-05-10T14:29:47.891Z"
      },
      {
        "duration": 4,
        "start_time": "2023-05-10T14:30:51.851Z"
      },
      {
        "duration": 3047,
        "start_time": "2023-05-10T14:31:05.065Z"
      },
      {
        "duration": 3293,
        "start_time": "2023-05-10T14:31:39.247Z"
      },
      {
        "duration": 14491,
        "start_time": "2023-05-10T17:49:35.386Z"
      },
      {
        "duration": 2088,
        "start_time": "2023-05-10T17:49:49.880Z"
      },
      {
        "duration": 3,
        "start_time": "2023-05-10T17:49:51.970Z"
      },
      {
        "duration": 8,
        "start_time": "2023-05-10T17:49:51.974Z"
      },
      {
        "duration": 2357,
        "start_time": "2023-05-10T17:49:51.983Z"
      },
      {
        "duration": 49530,
        "start_time": "2023-05-10T17:49:54.342Z"
      },
      {
        "duration": 59,
        "start_time": "2023-05-10T18:00:29.866Z"
      },
      {
        "duration": 2693,
        "start_time": "2023-05-10T18:00:41.349Z"
      },
      {
        "duration": 2638,
        "start_time": "2023-05-10T18:00:44.044Z"
      },
      {
        "duration": 2,
        "start_time": "2023-05-10T18:00:49.535Z"
      },
      {
        "duration": 2,
        "start_time": "2023-05-10T18:00:50.040Z"
      },
      {
        "duration": 2346,
        "start_time": "2023-05-10T18:00:50.520Z"
      },
      {
        "duration": 5,
        "start_time": "2023-05-10T18:00:58.829Z"
      },
      {
        "duration": 5,
        "start_time": "2023-05-10T18:00:59.805Z"
      },
      {
        "duration": 6,
        "start_time": "2023-05-10T18:01:02.681Z"
      },
      {
        "duration": 2915,
        "start_time": "2023-05-10T18:01:09.421Z"
      },
      {
        "duration": 34,
        "start_time": "2023-05-10T18:01:12.337Z"
      },
      {
        "duration": 3,
        "start_time": "2023-05-10T18:01:37.644Z"
      },
      {
        "duration": 120,
        "start_time": "2023-05-10T18:01:51.165Z"
      },
      {
        "duration": 79,
        "start_time": "2023-05-10T18:21:02.679Z"
      },
      {
        "duration": 5165,
        "start_time": "2023-05-10T18:21:15.864Z"
      },
      {
        "duration": 4,
        "start_time": "2023-05-10T18:21:21.032Z"
      },
      {
        "duration": 12,
        "start_time": "2023-05-10T18:21:21.038Z"
      },
      {
        "duration": 43,
        "start_time": "2023-05-10T18:21:21.052Z"
      },
      {
        "duration": 1415,
        "start_time": "2023-05-10T18:21:21.097Z"
      },
      {
        "duration": 107,
        "start_time": "2023-05-10T18:21:26.958Z"
      },
      {
        "duration": 78,
        "start_time": "2023-05-10T18:21:37.818Z"
      },
      {
        "duration": 204,
        "start_time": "2023-05-10T18:21:45.124Z"
      },
      {
        "duration": 69,
        "start_time": "2023-05-10T18:24:16.640Z"
      },
      {
        "duration": 5,
        "start_time": "2023-05-10T18:24:38.399Z"
      },
      {
        "duration": 11,
        "start_time": "2023-05-10T18:24:45.102Z"
      },
      {
        "duration": 7,
        "start_time": "2023-05-10T18:24:49.470Z"
      },
      {
        "duration": 21,
        "start_time": "2023-05-10T18:25:01.072Z"
      },
      {
        "duration": 61,
        "start_time": "2023-05-10T18:25:25.108Z"
      },
      {
        "duration": 6,
        "start_time": "2023-05-10T18:25:32.692Z"
      },
      {
        "duration": 5,
        "start_time": "2023-05-10T18:26:06.168Z"
      },
      {
        "duration": 7,
        "start_time": "2023-05-10T18:26:07.494Z"
      },
      {
        "duration": 6,
        "start_time": "2023-05-10T18:28:38.674Z"
      },
      {
        "duration": 13,
        "start_time": "2023-05-10T18:28:45.035Z"
      },
      {
        "duration": 13,
        "start_time": "2023-05-10T18:34:12.222Z"
      },
      {
        "duration": 17,
        "start_time": "2023-05-10T18:34:20.753Z"
      },
      {
        "duration": 14,
        "start_time": "2023-05-10T18:34:29.459Z"
      },
      {
        "duration": 15,
        "start_time": "2023-05-10T18:34:39.370Z"
      },
      {
        "duration": 16,
        "start_time": "2023-05-10T18:35:34.320Z"
      },
      {
        "duration": 5,
        "start_time": "2023-05-10T18:35:44.863Z"
      },
      {
        "duration": 11,
        "start_time": "2023-05-10T18:35:44.870Z"
      },
      {
        "duration": 14,
        "start_time": "2023-05-10T18:35:44.915Z"
      },
      {
        "duration": 8,
        "start_time": "2023-05-10T18:36:05.669Z"
      },
      {
        "duration": 13,
        "start_time": "2023-05-10T18:38:34.816Z"
      },
      {
        "duration": 25,
        "start_time": "2023-05-10T18:40:21.427Z"
      },
      {
        "duration": 6,
        "start_time": "2023-05-10T18:40:58.590Z"
      },
      {
        "duration": 48,
        "start_time": "2023-05-10T18:41:09.954Z"
      },
      {
        "duration": 14,
        "start_time": "2023-05-10T18:41:16.378Z"
      },
      {
        "duration": 136,
        "start_time": "2023-05-10T19:16:49.582Z"
      },
      {
        "duration": 179,
        "start_time": "2023-05-10T19:17:17.694Z"
      },
      {
        "duration": 9,
        "start_time": "2023-05-10T19:19:27.064Z"
      },
      {
        "duration": 1160,
        "start_time": "2023-05-10T19:19:31.211Z"
      },
      {
        "duration": 68,
        "start_time": "2023-05-10T19:22:02.056Z"
      },
      {
        "duration": 89,
        "start_time": "2023-05-10T19:26:24.895Z"
      },
      {
        "duration": 15,
        "start_time": "2023-05-10T19:27:16.853Z"
      },
      {
        "duration": 13,
        "start_time": "2023-05-10T19:39:08.437Z"
      },
      {
        "duration": 4,
        "start_time": "2023-05-10T19:39:15.036Z"
      },
      {
        "duration": 5,
        "start_time": "2023-05-10T19:39:19.784Z"
      },
      {
        "duration": 5,
        "start_time": "2023-05-10T19:39:44.539Z"
      },
      {
        "duration": 4,
        "start_time": "2023-05-10T19:40:29.914Z"
      },
      {
        "duration": 5,
        "start_time": "2023-05-10T19:40:36.057Z"
      },
      {
        "duration": 3,
        "start_time": "2023-05-10T19:41:48.535Z"
      },
      {
        "duration": 4,
        "start_time": "2023-05-10T19:41:53.310Z"
      },
      {
        "duration": 4,
        "start_time": "2023-05-10T19:42:30.522Z"
      },
      {
        "duration": 5,
        "start_time": "2023-05-10T19:42:36.273Z"
      },
      {
        "duration": 3,
        "start_time": "2023-05-10T19:43:02.703Z"
      },
      {
        "duration": 7,
        "start_time": "2023-05-10T19:43:07.415Z"
      },
      {
        "duration": 5,
        "start_time": "2023-05-10T19:43:16.545Z"
      },
      {
        "duration": 3,
        "start_time": "2023-05-10T19:43:39.652Z"
      },
      {
        "duration": 4,
        "start_time": "2023-05-10T19:50:43.581Z"
      },
      {
        "duration": 21,
        "start_time": "2023-05-10T19:51:00.505Z"
      },
      {
        "duration": 4,
        "start_time": "2023-05-10T19:51:10.834Z"
      },
      {
        "duration": 14,
        "start_time": "2023-05-10T19:51:11.236Z"
      },
      {
        "duration": 3,
        "start_time": "2023-05-10T19:51:22.426Z"
      },
      {
        "duration": 11,
        "start_time": "2023-05-10T19:51:23.286Z"
      },
      {
        "duration": 174,
        "start_time": "2023-05-10T19:54:33.924Z"
      },
      {
        "duration": 8,
        "start_time": "2023-05-10T19:55:04.666Z"
      },
      {
        "duration": 59,
        "start_time": "2023-05-10T19:57:31.381Z"
      },
      {
        "duration": 7,
        "start_time": "2023-05-10T19:58:01.327Z"
      },
      {
        "duration": 3,
        "start_time": "2023-05-10T20:33:07.646Z"
      },
      {
        "duration": 4,
        "start_time": "2023-05-10T20:38:43.822Z"
      },
      {
        "duration": 12,
        "start_time": "2023-05-10T20:38:44.535Z"
      },
      {
        "duration": 4,
        "start_time": "2023-05-10T20:38:54.725Z"
      },
      {
        "duration": 7,
        "start_time": "2023-05-10T20:38:55.160Z"
      },
      {
        "duration": 3,
        "start_time": "2023-05-10T20:42:19.982Z"
      },
      {
        "duration": 14,
        "start_time": "2023-05-10T20:42:28.703Z"
      },
      {
        "duration": 4,
        "start_time": "2023-05-10T20:43:39.548Z"
      },
      {
        "duration": 13,
        "start_time": "2023-05-10T20:43:40.129Z"
      },
      {
        "duration": 4,
        "start_time": "2023-05-10T20:43:54.901Z"
      },
      {
        "duration": 129,
        "start_time": "2023-05-10T20:43:55.340Z"
      },
      {
        "duration": 5,
        "start_time": "2023-05-10T20:44:35.577Z"
      },
      {
        "duration": 137,
        "start_time": "2023-05-10T20:44:36.012Z"
      },
      {
        "duration": 3,
        "start_time": "2023-05-10T20:45:07.615Z"
      },
      {
        "duration": 4,
        "start_time": "2023-05-10T20:45:18.304Z"
      },
      {
        "duration": 12,
        "start_time": "2023-05-10T20:45:18.837Z"
      },
      {
        "duration": 4,
        "start_time": "2023-05-10T20:45:33.815Z"
      },
      {
        "duration": 46,
        "start_time": "2023-05-10T20:45:34.817Z"
      },
      {
        "duration": 4,
        "start_time": "2023-05-10T20:46:16.943Z"
      },
      {
        "duration": 8,
        "start_time": "2023-05-10T20:46:17.455Z"
      },
      {
        "duration": 4,
        "start_time": "2023-05-10T20:46:30.809Z"
      },
      {
        "duration": 7,
        "start_time": "2023-05-10T20:46:31.596Z"
      },
      {
        "duration": 7,
        "start_time": "2023-05-10T20:47:35.444Z"
      },
      {
        "duration": 5,
        "start_time": "2023-05-10T20:47:43.937Z"
      },
      {
        "duration": 4,
        "start_time": "2023-05-10T20:48:29.156Z"
      },
      {
        "duration": 6,
        "start_time": "2023-05-10T20:48:30.054Z"
      },
      {
        "duration": 7,
        "start_time": "2023-05-10T20:48:40.726Z"
      },
      {
        "duration": 4,
        "start_time": "2023-05-10T20:49:03.236Z"
      },
      {
        "duration": 164,
        "start_time": "2023-05-10T20:49:04.062Z"
      },
      {
        "duration": 4,
        "start_time": "2023-05-10T20:49:55.932Z"
      },
      {
        "duration": 20,
        "start_time": "2023-05-10T20:49:56.968Z"
      },
      {
        "duration": 295,
        "start_time": "2023-05-10T20:55:56.562Z"
      },
      {
        "duration": 103,
        "start_time": "2023-05-10T21:00:56.782Z"
      },
      {
        "duration": 19,
        "start_time": "2023-05-10T21:01:09.279Z"
      },
      {
        "duration": 3,
        "start_time": "2023-05-10T21:01:15.624Z"
      },
      {
        "duration": 48,
        "start_time": "2023-05-10T21:01:16.434Z"
      },
      {
        "duration": 174,
        "start_time": "2023-05-10T21:01:32.656Z"
      },
      {
        "duration": 180,
        "start_time": "2023-05-10T21:03:01.748Z"
      },
      {
        "duration": 262,
        "start_time": "2023-05-10T21:03:23.821Z"
      },
      {
        "duration": 310,
        "start_time": "2023-05-10T21:03:34.392Z"
      },
      {
        "duration": 4,
        "start_time": "2023-05-10T21:05:56.476Z"
      },
      {
        "duration": 218,
        "start_time": "2023-05-10T21:05:57.191Z"
      },
      {
        "duration": 3,
        "start_time": "2023-05-10T21:06:25.288Z"
      },
      {
        "duration": 205,
        "start_time": "2023-05-10T21:06:27.182Z"
      },
      {
        "duration": 175,
        "start_time": "2023-05-10T21:06:43.127Z"
      },
      {
        "duration": 235,
        "start_time": "2023-05-10T21:06:54.698Z"
      },
      {
        "duration": 5,
        "start_time": "2023-05-10T21:08:18.620Z"
      },
      {
        "duration": 196,
        "start_time": "2023-05-10T21:08:19.154Z"
      },
      {
        "duration": 6,
        "start_time": "2023-05-10T21:09:30.138Z"
      },
      {
        "duration": 187,
        "start_time": "2023-05-10T21:09:40.316Z"
      },
      {
        "duration": 7,
        "start_time": "2023-05-10T21:10:01.176Z"
      },
      {
        "duration": 219,
        "start_time": "2023-05-10T21:10:02.528Z"
      },
      {
        "duration": 5,
        "start_time": "2023-05-10T21:10:26.480Z"
      },
      {
        "duration": 206,
        "start_time": "2023-05-10T21:10:27.310Z"
      },
      {
        "duration": 4,
        "start_time": "2023-05-10T21:11:21.813Z"
      },
      {
        "duration": 199,
        "start_time": "2023-05-10T21:11:22.729Z"
      },
      {
        "duration": 5,
        "start_time": "2023-05-10T21:11:43.643Z"
      },
      {
        "duration": 197,
        "start_time": "2023-05-10T21:11:44.175Z"
      },
      {
        "duration": 5,
        "start_time": "2023-05-10T21:12:00.133Z"
      },
      {
        "duration": 231,
        "start_time": "2023-05-10T21:12:00.429Z"
      },
      {
        "duration": 104,
        "start_time": "2023-05-10T21:41:46.740Z"
      },
      {
        "duration": 207,
        "start_time": "2023-05-10T21:41:50.875Z"
      },
      {
        "duration": 203,
        "start_time": "2023-05-10T21:42:23.161Z"
      },
      {
        "duration": 154,
        "start_time": "2023-05-11T06:06:21.639Z"
      },
      {
        "duration": 17063,
        "start_time": "2023-05-11T06:09:01.913Z"
      },
      {
        "duration": 2277,
        "start_time": "2023-05-11T06:09:18.979Z"
      },
      {
        "duration": 4,
        "start_time": "2023-05-11T06:09:21.258Z"
      },
      {
        "duration": 10,
        "start_time": "2023-05-11T06:09:21.270Z"
      },
      {
        "duration": 2837,
        "start_time": "2023-05-11T06:09:21.282Z"
      },
      {
        "duration": 21,
        "start_time": "2023-05-11T06:09:27.204Z"
      },
      {
        "duration": 4,
        "start_time": "2023-05-11T06:10:39.459Z"
      },
      {
        "duration": 8,
        "start_time": "2023-05-11T06:10:44.440Z"
      },
      {
        "duration": 222,
        "start_time": "2023-05-11T06:17:51.567Z"
      },
      {
        "duration": 5,
        "start_time": "2023-05-11T06:18:05.304Z"
      },
      {
        "duration": 6,
        "start_time": "2023-05-11T06:19:05.839Z"
      },
      {
        "duration": 111,
        "start_time": "2023-05-11T06:22:03.187Z"
      },
      {
        "duration": 5,
        "start_time": "2023-05-11T06:22:22.203Z"
      },
      {
        "duration": 5,
        "start_time": "2023-05-11T06:22:34.102Z"
      },
      {
        "duration": 5,
        "start_time": "2023-05-11T06:22:41.809Z"
      },
      {
        "duration": 6,
        "start_time": "2023-05-11T06:22:47.103Z"
      },
      {
        "duration": 7,
        "start_time": "2023-05-11T06:23:02.861Z"
      },
      {
        "duration": 206,
        "start_time": "2023-05-11T06:23:44.090Z"
      },
      {
        "duration": 4,
        "start_time": "2023-05-11T06:26:38.831Z"
      },
      {
        "duration": 12,
        "start_time": "2023-05-11T06:27:14.734Z"
      },
      {
        "duration": 5,
        "start_time": "2023-05-11T06:27:20.670Z"
      },
      {
        "duration": 23273,
        "start_time": "2023-05-11T06:27:21.156Z"
      },
      {
        "duration": 35,
        "start_time": "2023-05-11T06:28:37.899Z"
      },
      {
        "duration": 915,
        "start_time": "2023-05-11T06:30:19.112Z"
      },
      {
        "duration": 4,
        "start_time": "2023-05-11T06:31:06.640Z"
      },
      {
        "duration": 4,
        "start_time": "2023-05-11T06:31:24.961Z"
      },
      {
        "duration": 6,
        "start_time": "2023-05-11T06:31:44.416Z"
      },
      {
        "duration": 5,
        "start_time": "2023-05-11T06:32:06.628Z"
      },
      {
        "duration": 5,
        "start_time": "2023-05-11T06:32:27.375Z"
      },
      {
        "duration": 229,
        "start_time": "2023-05-11T06:35:17.075Z"
      },
      {
        "duration": 6,
        "start_time": "2023-05-11T06:35:25.938Z"
      },
      {
        "duration": 5,
        "start_time": "2023-05-11T06:36:12.578Z"
      },
      {
        "duration": 1517,
        "start_time": "2023-05-11T06:37:11.734Z"
      },
      {
        "duration": 5,
        "start_time": "2023-05-11T06:37:25.835Z"
      },
      {
        "duration": 526,
        "start_time": "2023-05-11T06:37:27.613Z"
      },
      {
        "duration": 70,
        "start_time": "2023-05-11T06:37:37.333Z"
      },
      {
        "duration": 505,
        "start_time": "2023-05-11T06:37:37.708Z"
      },
      {
        "duration": 5,
        "start_time": "2023-05-11T06:37:44.133Z"
      },
      {
        "duration": 511,
        "start_time": "2023-05-11T06:37:44.536Z"
      },
      {
        "duration": 4,
        "start_time": "2023-05-11T06:37:58.956Z"
      },
      {
        "duration": 538,
        "start_time": "2023-05-11T06:37:59.583Z"
      },
      {
        "duration": 5,
        "start_time": "2023-05-11T06:38:06.132Z"
      },
      {
        "duration": 465,
        "start_time": "2023-05-11T06:38:06.550Z"
      },
      {
        "duration": 5,
        "start_time": "2023-05-11T06:38:17.530Z"
      },
      {
        "duration": 470,
        "start_time": "2023-05-11T06:38:18.756Z"
      },
      {
        "duration": 4,
        "start_time": "2023-05-11T06:38:39.633Z"
      },
      {
        "duration": 508,
        "start_time": "2023-05-11T06:38:40.639Z"
      },
      {
        "duration": 5,
        "start_time": "2023-05-11T06:38:49.144Z"
      },
      {
        "duration": 549,
        "start_time": "2023-05-11T06:38:49.980Z"
      },
      {
        "duration": 7,
        "start_time": "2023-05-11T06:41:36.955Z"
      },
      {
        "duration": 12,
        "start_time": "2023-05-11T06:41:38.000Z"
      },
      {
        "duration": 6,
        "start_time": "2023-05-11T06:41:50.158Z"
      },
      {
        "duration": 417,
        "start_time": "2023-05-11T06:41:50.452Z"
      },
      {
        "duration": 7,
        "start_time": "2023-05-11T06:42:22.719Z"
      },
      {
        "duration": 441,
        "start_time": "2023-05-11T06:42:23.190Z"
      },
      {
        "duration": 7,
        "start_time": "2023-05-11T06:42:59.369Z"
      },
      {
        "duration": 199,
        "start_time": "2023-05-11T06:42:59.593Z"
      },
      {
        "duration": 7,
        "start_time": "2023-05-11T06:43:29.504Z"
      },
      {
        "duration": 1409,
        "start_time": "2023-05-11T06:43:29.811Z"
      },
      {
        "duration": 8,
        "start_time": "2023-05-11T06:43:58.632Z"
      },
      {
        "duration": 1527,
        "start_time": "2023-05-11T06:43:59.882Z"
      },
      {
        "duration": 1622,
        "start_time": "2023-05-11T06:44:06.317Z"
      },
      {
        "duration": 7,
        "start_time": "2023-05-11T06:44:19.566Z"
      },
      {
        "duration": 1482,
        "start_time": "2023-05-11T06:44:20.837Z"
      },
      {
        "duration": 7,
        "start_time": "2023-05-11T06:44:31.253Z"
      },
      {
        "duration": 1582,
        "start_time": "2023-05-11T06:44:32.134Z"
      },
      {
        "duration": 6,
        "start_time": "2023-05-11T06:45:46.998Z"
      },
      {
        "duration": 1393,
        "start_time": "2023-05-11T06:45:47.833Z"
      },
      {
        "duration": 7,
        "start_time": "2023-05-11T06:48:06.300Z"
      },
      {
        "duration": 1795,
        "start_time": "2023-05-11T06:48:08.650Z"
      },
      {
        "duration": 8,
        "start_time": "2023-05-11T06:49:02.797Z"
      },
      {
        "duration": 1408,
        "start_time": "2023-05-11T06:49:02.934Z"
      },
      {
        "duration": 10,
        "start_time": "2023-05-11T06:49:30.898Z"
      },
      {
        "duration": 1748,
        "start_time": "2023-05-11T06:49:31.303Z"
      },
      {
        "duration": 7,
        "start_time": "2023-05-11T06:50:32.357Z"
      },
      {
        "duration": 1771,
        "start_time": "2023-05-11T06:50:32.974Z"
      },
      {
        "duration": 7,
        "start_time": "2023-05-11T06:50:56.859Z"
      },
      {
        "duration": 1794,
        "start_time": "2023-05-11T06:50:57.473Z"
      },
      {
        "duration": 9,
        "start_time": "2023-05-11T06:51:32.624Z"
      },
      {
        "duration": 1321,
        "start_time": "2023-05-11T06:51:33.454Z"
      },
      {
        "duration": 8,
        "start_time": "2023-05-11T06:51:55.002Z"
      },
      {
        "duration": 183,
        "start_time": "2023-05-11T06:51:55.312Z"
      },
      {
        "duration": 7,
        "start_time": "2023-05-11T06:52:05.548Z"
      },
      {
        "duration": 1573,
        "start_time": "2023-05-11T06:52:05.974Z"
      },
      {
        "duration": 1295,
        "start_time": "2023-05-11T06:52:16.541Z"
      },
      {
        "duration": 1401,
        "start_time": "2023-05-11T06:52:17.839Z"
      },
      {
        "duration": 151,
        "start_time": "2023-05-11T06:53:33.657Z"
      },
      {
        "duration": 124,
        "start_time": "2023-05-11T06:53:39.628Z"
      },
      {
        "duration": 10,
        "start_time": "2023-05-11T06:53:44.087Z"
      },
      {
        "duration": 1339,
        "start_time": "2023-05-11T06:53:45.255Z"
      },
      {
        "duration": 1909,
        "start_time": "2023-05-11T06:53:51.055Z"
      },
      {
        "duration": 1318,
        "start_time": "2023-05-11T06:53:56.842Z"
      },
      {
        "duration": 7,
        "start_time": "2023-05-11T06:54:09.619Z"
      },
      {
        "duration": 1352,
        "start_time": "2023-05-11T06:54:10.301Z"
      },
      {
        "duration": 1283,
        "start_time": "2023-05-11T06:54:11.654Z"
      },
      {
        "duration": 1489,
        "start_time": "2023-05-11T06:54:19.242Z"
      },
      {
        "duration": 9,
        "start_time": "2023-05-11T06:57:11.742Z"
      },
      {
        "duration": 1387,
        "start_time": "2023-05-11T06:57:12.190Z"
      },
      {
        "duration": 1404,
        "start_time": "2023-05-11T06:57:18.080Z"
      },
      {
        "duration": 1757,
        "start_time": "2023-05-11T06:57:22.331Z"
      },
      {
        "duration": 8,
        "start_time": "2023-05-11T06:57:44.398Z"
      },
      {
        "duration": 1646,
        "start_time": "2023-05-11T06:57:44.921Z"
      },
      {
        "duration": 9,
        "start_time": "2023-05-11T06:58:04.524Z"
      },
      {
        "duration": 1728,
        "start_time": "2023-05-11T06:58:05.154Z"
      },
      {
        "duration": 1409,
        "start_time": "2023-05-11T06:58:06.885Z"
      },
      {
        "duration": 1474,
        "start_time": "2023-05-11T06:58:08.297Z"
      },
      {
        "duration": 4,
        "start_time": "2023-05-11T06:58:24.410Z"
      },
      {
        "duration": 5,
        "start_time": "2023-05-11T06:58:24.752Z"
      },
      {
        "duration": 4,
        "start_time": "2023-05-11T06:58:25.386Z"
      },
      {
        "duration": 4,
        "start_time": "2023-05-11T06:58:26.514Z"
      },
      {
        "duration": 744,
        "start_time": "2023-05-11T06:58:27.071Z"
      },
      {
        "duration": 3,
        "start_time": "2023-05-11T07:04:42.958Z"
      },
      {
        "duration": 298,
        "start_time": "2023-05-11T07:12:15.515Z"
      },
      {
        "duration": 15,
        "start_time": "2023-05-11T07:12:42.540Z"
      },
      {
        "duration": 20,
        "start_time": "2023-05-11T07:12:51.110Z"
      },
      {
        "duration": 495,
        "start_time": "2023-05-11T07:14:53.910Z"
      },
      {
        "duration": 213,
        "start_time": "2023-05-11T07:15:04.143Z"
      },
      {
        "duration": 220,
        "start_time": "2023-05-11T07:15:24.982Z"
      },
      {
        "duration": 6236,
        "start_time": "2023-05-11T07:15:38.939Z"
      },
      {
        "duration": 1465,
        "start_time": "2023-05-11T07:16:29.714Z"
      },
      {
        "duration": 3,
        "start_time": "2023-05-11T07:21:49.865Z"
      },
      {
        "duration": 4,
        "start_time": "2023-05-11T07:23:33.541Z"
      },
      {
        "duration": 5,
        "start_time": "2023-05-11T07:23:58.311Z"
      },
      {
        "duration": 12,
        "start_time": "2023-05-11T07:24:10.554Z"
      },
      {
        "duration": 4,
        "start_time": "2023-05-11T07:24:33.973Z"
      },
      {
        "duration": 28,
        "start_time": "2023-05-11T07:24:33.986Z"
      },
      {
        "duration": 5,
        "start_time": "2023-05-11T07:41:16.318Z"
      },
      {
        "duration": 6,
        "start_time": "2023-05-11T07:41:26.118Z"
      },
      {
        "duration": 21,
        "start_time": "2023-05-11T07:41:27.015Z"
      },
      {
        "duration": 5,
        "start_time": "2023-05-11T08:16:14.201Z"
      },
      {
        "duration": 4473,
        "start_time": "2023-05-11T08:16:15.104Z"
      },
      {
        "duration": 6,
        "start_time": "2023-05-11T08:16:40.310Z"
      },
      {
        "duration": 2726,
        "start_time": "2023-05-11T08:16:41.126Z"
      },
      {
        "duration": 5,
        "start_time": "2023-05-11T08:17:40.766Z"
      },
      {
        "duration": 27,
        "start_time": "2023-05-11T08:17:41.524Z"
      },
      {
        "duration": 7,
        "start_time": "2023-05-11T08:18:36.412Z"
      },
      {
        "duration": 28,
        "start_time": "2023-05-11T08:18:36.945Z"
      },
      {
        "duration": 6,
        "start_time": "2023-05-11T08:18:55.850Z"
      },
      {
        "duration": 31,
        "start_time": "2023-05-11T08:18:56.586Z"
      },
      {
        "duration": 5,
        "start_time": "2023-05-11T08:19:54.726Z"
      },
      {
        "duration": 8,
        "start_time": "2023-05-11T08:19:55.107Z"
      },
      {
        "duration": 6,
        "start_time": "2023-05-11T08:22:28.053Z"
      },
      {
        "duration": 34,
        "start_time": "2023-05-11T08:22:29.247Z"
      },
      {
        "duration": 5,
        "start_time": "2023-05-11T08:22:40.168Z"
      },
      {
        "duration": 5,
        "start_time": "2023-05-11T08:22:45.300Z"
      },
      {
        "duration": 26,
        "start_time": "2023-05-11T08:22:45.823Z"
      },
      {
        "duration": 5,
        "start_time": "2023-05-11T08:24:35.617Z"
      },
      {
        "duration": 33,
        "start_time": "2023-05-11T08:24:35.931Z"
      },
      {
        "duration": 5,
        "start_time": "2023-05-11T08:26:10.771Z"
      },
      {
        "duration": 10,
        "start_time": "2023-05-11T08:26:11.208Z"
      },
      {
        "duration": 3499,
        "start_time": "2023-05-11T09:04:29.054Z"
      },
      {
        "duration": 6,
        "start_time": "2023-05-11T09:04:32.556Z"
      },
      {
        "duration": 62,
        "start_time": "2023-05-11T09:04:32.564Z"
      },
      {
        "duration": 31,
        "start_time": "2023-05-11T09:04:32.630Z"
      },
      {
        "duration": 896,
        "start_time": "2023-05-11T09:04:33.336Z"
      },
      {
        "duration": 16,
        "start_time": "2023-05-11T09:04:41.866Z"
      },
      {
        "duration": 7,
        "start_time": "2023-05-11T09:04:42.155Z"
      },
      {
        "duration": 6,
        "start_time": "2023-05-11T09:04:43.958Z"
      },
      {
        "duration": 4105,
        "start_time": "2023-05-11T09:04:46.423Z"
      },
      {
        "duration": 30,
        "start_time": "2023-05-11T09:04:50.530Z"
      },
      {
        "duration": 41,
        "start_time": "2023-05-11T09:04:50.577Z"
      },
      {
        "duration": 0,
        "start_time": "2023-05-11T09:04:50.621Z"
      },
      {
        "duration": 10,
        "start_time": "2023-05-11T09:04:52.142Z"
      },
      {
        "duration": 1672,
        "start_time": "2023-05-11T09:04:52.918Z"
      },
      {
        "duration": 1754,
        "start_time": "2023-05-11T09:04:54.593Z"
      },
      {
        "duration": 1662,
        "start_time": "2023-05-11T09:04:56.350Z"
      },
      {
        "duration": 4,
        "start_time": "2023-05-11T09:05:03.141Z"
      },
      {
        "duration": 15,
        "start_time": "2023-05-11T09:05:03.574Z"
      },
      {
        "duration": 6,
        "start_time": "2023-05-11T09:05:04.702Z"
      },
      {
        "duration": 5,
        "start_time": "2023-05-11T09:05:05.230Z"
      },
      {
        "duration": 547,
        "start_time": "2023-05-11T09:05:05.915Z"
      },
      {
        "duration": 292,
        "start_time": "2023-05-11T09:06:55.501Z"
      },
      {
        "duration": 598,
        "start_time": "2023-05-11T09:06:56.098Z"
      },
      {
        "duration": 2650,
        "start_time": "2023-05-11T09:09:18.840Z"
      },
      {
        "duration": 6,
        "start_time": "2023-05-11T09:09:35.441Z"
      },
      {
        "duration": 553,
        "start_time": "2023-05-11T09:09:36.383Z"
      },
      {
        "duration": 7,
        "start_time": "2023-05-11T09:10:58.417Z"
      },
      {
        "duration": 607,
        "start_time": "2023-05-11T09:10:59.056Z"
      },
      {
        "duration": 7,
        "start_time": "2023-05-11T09:11:10.601Z"
      },
      {
        "duration": 820,
        "start_time": "2023-05-11T09:11:10.859Z"
      },
      {
        "duration": 6,
        "start_time": "2023-05-11T09:11:24.827Z"
      },
      {
        "duration": 560,
        "start_time": "2023-05-11T09:11:25.305Z"
      },
      {
        "duration": 5,
        "start_time": "2023-05-11T09:13:55.348Z"
      },
      {
        "duration": 410,
        "start_time": "2023-05-11T09:13:56.121Z"
      },
      {
        "duration": 6,
        "start_time": "2023-05-11T09:14:49.632Z"
      },
      {
        "duration": 431,
        "start_time": "2023-05-11T09:14:50.292Z"
      },
      {
        "duration": 11,
        "start_time": "2023-05-11T09:15:21.637Z"
      },
      {
        "duration": 485,
        "start_time": "2023-05-11T09:15:22.494Z"
      },
      {
        "duration": 17,
        "start_time": "2023-05-11T09:15:36.886Z"
      },
      {
        "duration": 428,
        "start_time": "2023-05-11T09:15:37.353Z"
      },
      {
        "duration": 5,
        "start_time": "2023-05-11T09:15:51.493Z"
      },
      {
        "duration": 178,
        "start_time": "2023-05-11T09:15:52.621Z"
      },
      {
        "duration": 6,
        "start_time": "2023-05-11T09:21:18.324Z"
      },
      {
        "duration": 10,
        "start_time": "2023-05-11T09:21:18.686Z"
      },
      {
        "duration": 7,
        "start_time": "2023-05-11T09:22:42.890Z"
      },
      {
        "duration": 28,
        "start_time": "2023-05-11T09:22:43.242Z"
      },
      {
        "duration": 6,
        "start_time": "2023-05-11T09:22:51.632Z"
      },
      {
        "duration": 41,
        "start_time": "2023-05-11T09:22:52.006Z"
      },
      {
        "duration": 5,
        "start_time": "2023-05-11T09:23:08.351Z"
      },
      {
        "duration": 31,
        "start_time": "2023-05-11T09:23:08.887Z"
      },
      {
        "duration": 7,
        "start_time": "2023-05-11T09:23:35.791Z"
      },
      {
        "duration": 27,
        "start_time": "2023-05-11T09:23:36.067Z"
      },
      {
        "duration": 6,
        "start_time": "2023-05-11T09:23:44.506Z"
      },
      {
        "duration": 34,
        "start_time": "2023-05-11T09:23:44.870Z"
      },
      {
        "duration": 5,
        "start_time": "2023-05-11T09:23:50.791Z"
      },
      {
        "duration": 15,
        "start_time": "2023-05-11T09:23:51.060Z"
      },
      {
        "duration": 6,
        "start_time": "2023-05-11T09:23:57.847Z"
      },
      {
        "duration": 12,
        "start_time": "2023-05-11T09:23:58.245Z"
      },
      {
        "duration": 7,
        "start_time": "2023-05-11T09:24:44.900Z"
      },
      {
        "duration": 223,
        "start_time": "2023-05-11T09:24:45.566Z"
      },
      {
        "duration": 8,
        "start_time": "2023-05-11T09:25:22.405Z"
      },
      {
        "duration": 247,
        "start_time": "2023-05-11T09:25:23.027Z"
      },
      {
        "duration": 7,
        "start_time": "2023-05-11T09:26:27.904Z"
      },
      {
        "duration": 24,
        "start_time": "2023-05-11T09:26:28.475Z"
      },
      {
        "duration": 11,
        "start_time": "2023-05-11T09:28:01.666Z"
      },
      {
        "duration": 227,
        "start_time": "2023-05-11T09:28:02.102Z"
      },
      {
        "duration": 7,
        "start_time": "2023-05-11T09:30:31.727Z"
      },
      {
        "duration": 1793,
        "start_time": "2023-05-11T09:30:32.869Z"
      },
      {
        "duration": 9,
        "start_time": "2023-05-11T09:31:43.030Z"
      },
      {
        "duration": 1870,
        "start_time": "2023-05-11T09:31:43.641Z"
      },
      {
        "duration": 11,
        "start_time": "2023-05-11T09:32:11.918Z"
      },
      {
        "duration": 1682,
        "start_time": "2023-05-11T09:32:12.150Z"
      },
      {
        "duration": 10,
        "start_time": "2023-05-11T09:32:25.434Z"
      },
      {
        "duration": 1795,
        "start_time": "2023-05-11T09:32:25.758Z"
      },
      {
        "duration": 12,
        "start_time": "2023-05-11T09:32:35.455Z"
      },
      {
        "duration": 2260,
        "start_time": "2023-05-11T09:32:36.214Z"
      },
      {
        "duration": 10,
        "start_time": "2023-05-11T09:33:30.561Z"
      },
      {
        "duration": 2296,
        "start_time": "2023-05-11T09:33:31.022Z"
      },
      {
        "duration": 7,
        "start_time": "2023-05-11T09:35:28.098Z"
      },
      {
        "duration": 32,
        "start_time": "2023-05-11T09:35:28.998Z"
      },
      {
        "duration": 7,
        "start_time": "2023-05-11T09:35:34.431Z"
      },
      {
        "duration": 223,
        "start_time": "2023-05-11T09:35:35.397Z"
      },
      {
        "duration": 8,
        "start_time": "2023-05-11T09:35:46.317Z"
      },
      {
        "duration": 33,
        "start_time": "2023-05-11T09:35:46.853Z"
      },
      {
        "duration": 12,
        "start_time": "2023-05-11T09:38:10.885Z"
      },
      {
        "duration": 2289,
        "start_time": "2023-05-11T09:38:11.206Z"
      },
      {
        "duration": 10,
        "start_time": "2023-05-11T09:38:21.999Z"
      },
      {
        "duration": 2086,
        "start_time": "2023-05-11T09:38:22.918Z"
      },
      {
        "duration": 12,
        "start_time": "2023-05-11T09:38:38.989Z"
      },
      {
        "duration": 1912,
        "start_time": "2023-05-11T09:38:39.504Z"
      },
      {
        "duration": 11,
        "start_time": "2023-05-11T09:38:56.804Z"
      },
      {
        "duration": 2401,
        "start_time": "2023-05-11T09:38:57.438Z"
      },
      {
        "duration": 21,
        "start_time": "2023-05-11T09:39:13.069Z"
      },
      {
        "duration": 1619,
        "start_time": "2023-05-11T09:39:13.595Z"
      },
      {
        "duration": 11,
        "start_time": "2023-05-11T09:39:23.798Z"
      },
      {
        "duration": 1666,
        "start_time": "2023-05-11T09:39:24.338Z"
      },
      {
        "duration": 19,
        "start_time": "2023-05-11T09:39:40.477Z"
      },
      {
        "duration": 1749,
        "start_time": "2023-05-11T09:39:41.018Z"
      },
      {
        "duration": 11,
        "start_time": "2023-05-11T09:39:49.592Z"
      },
      {
        "duration": 1531,
        "start_time": "2023-05-11T09:39:50.217Z"
      },
      {
        "duration": 8,
        "start_time": "2023-05-11T09:40:30.625Z"
      },
      {
        "duration": 230,
        "start_time": "2023-05-11T09:40:31.026Z"
      },
      {
        "duration": 11,
        "start_time": "2023-05-11T09:40:40.466Z"
      },
      {
        "duration": 224,
        "start_time": "2023-05-11T09:40:40.997Z"
      },
      {
        "duration": 8,
        "start_time": "2023-05-11T09:40:48.998Z"
      },
      {
        "duration": 214,
        "start_time": "2023-05-11T09:40:49.655Z"
      },
      {
        "duration": 8,
        "start_time": "2023-05-11T09:43:01.012Z"
      },
      {
        "duration": 238,
        "start_time": "2023-05-11T09:43:01.298Z"
      },
      {
        "duration": 27,
        "start_time": "2023-05-11T09:48:18.251Z"
      },
      {
        "duration": 72,
        "start_time": "2023-05-11T09:48:19.217Z"
      },
      {
        "duration": 4448,
        "start_time": "2023-05-11T09:48:31.051Z"
      },
      {
        "duration": 2930,
        "start_time": "2023-05-11T09:48:35.502Z"
      },
      {
        "duration": 3,
        "start_time": "2023-05-11T09:48:38.438Z"
      },
      {
        "duration": 38,
        "start_time": "2023-05-11T09:48:38.444Z"
      },
      {
        "duration": 1154,
        "start_time": "2023-05-11T09:48:38.485Z"
      },
      {
        "duration": 45,
        "start_time": "2023-05-11T09:48:40.758Z"
      },
      {
        "duration": 6,
        "start_time": "2023-05-11T09:48:41.018Z"
      },
      {
        "duration": 10,
        "start_time": "2023-05-11T09:48:41.943Z"
      },
      {
        "duration": 5549,
        "start_time": "2023-05-11T09:48:43.115Z"
      },
      {
        "duration": 34,
        "start_time": "2023-05-11T09:48:48.669Z"
      },
      {
        "duration": 208,
        "start_time": "2023-05-11T09:48:48.708Z"
      },
      {
        "duration": 0,
        "start_time": "2023-05-11T09:48:48.929Z"
      },
      {
        "duration": 0,
        "start_time": "2023-05-11T09:48:49.108Z"
      },
      {
        "duration": 0,
        "start_time": "2023-05-11T09:48:49.115Z"
      },
      {
        "duration": 0,
        "start_time": "2023-05-11T09:48:49.128Z"
      },
      {
        "duration": 0,
        "start_time": "2023-05-11T09:48:49.129Z"
      },
      {
        "duration": 0,
        "start_time": "2023-05-11T09:48:49.130Z"
      },
      {
        "duration": 0,
        "start_time": "2023-05-11T09:48:49.131Z"
      },
      {
        "duration": 0,
        "start_time": "2023-05-11T09:48:49.132Z"
      },
      {
        "duration": 21,
        "start_time": "2023-05-11T09:48:49.421Z"
      },
      {
        "duration": 370,
        "start_time": "2023-05-11T09:48:50.110Z"
      },
      {
        "duration": 8,
        "start_time": "2023-05-11T09:49:41.118Z"
      },
      {
        "duration": 310,
        "start_time": "2023-05-11T09:49:41.654Z"
      },
      {
        "duration": 3468,
        "start_time": "2023-05-11T10:05:45.908Z"
      },
      {
        "duration": 13,
        "start_time": "2023-05-11T10:05:49.380Z"
      },
      {
        "duration": 3,
        "start_time": "2023-05-11T10:05:53.339Z"
      },
      {
        "duration": 3,
        "start_time": "2023-05-11T10:05:53.468Z"
      },
      {
        "duration": 1020,
        "start_time": "2023-05-11T10:05:53.731Z"
      },
      {
        "duration": 9,
        "start_time": "2023-05-11T10:06:00.424Z"
      },
      {
        "duration": 9,
        "start_time": "2023-05-11T10:06:00.651Z"
      },
      {
        "duration": 6,
        "start_time": "2023-05-11T10:06:01.964Z"
      },
      {
        "duration": 4411,
        "start_time": "2023-05-11T10:06:03.030Z"
      },
      {
        "duration": 40,
        "start_time": "2023-05-11T10:06:07.444Z"
      },
      {
        "duration": 26,
        "start_time": "2023-05-11T10:06:07.487Z"
      },
      {
        "duration": 0,
        "start_time": "2023-05-11T10:06:07.516Z"
      },
      {
        "duration": 0,
        "start_time": "2023-05-11T10:06:07.518Z"
      },
      {
        "duration": 0,
        "start_time": "2023-05-11T10:06:07.520Z"
      },
      {
        "duration": 0,
        "start_time": "2023-05-11T10:06:07.521Z"
      },
      {
        "duration": 0,
        "start_time": "2023-05-11T10:06:07.523Z"
      },
      {
        "duration": 5,
        "start_time": "2023-05-11T10:06:07.776Z"
      },
      {
        "duration": 15,
        "start_time": "2023-05-11T10:06:07.918Z"
      },
      {
        "duration": 683,
        "start_time": "2023-05-11T10:06:08.196Z"
      },
      {
        "duration": 8,
        "start_time": "2023-05-11T10:06:09.285Z"
      },
      {
        "duration": 281,
        "start_time": "2023-05-11T10:06:09.431Z"
      },
      {
        "duration": 1682,
        "start_time": "2023-05-11T10:06:09.715Z"
      },
      {
        "duration": 161,
        "start_time": "2023-05-11T10:06:11.400Z"
      },
      {
        "duration": 0,
        "start_time": "2023-05-11T10:06:11.563Z"
      },
      {
        "duration": 9,
        "start_time": "2023-05-11T10:06:40.047Z"
      },
      {
        "duration": 21,
        "start_time": "2023-05-11T10:06:42.893Z"
      },
      {
        "duration": 9,
        "start_time": "2023-05-11T10:06:57.928Z"
      },
      {
        "duration": 1848,
        "start_time": "2023-05-11T10:06:59.406Z"
      },
      {
        "duration": 1723,
        "start_time": "2023-05-11T10:07:01.257Z"
      },
      {
        "duration": 1530,
        "start_time": "2023-05-11T10:07:02.987Z"
      },
      {
        "duration": 5,
        "start_time": "2023-05-11T10:07:04.520Z"
      },
      {
        "duration": 10,
        "start_time": "2023-05-11T10:07:04.527Z"
      },
      {
        "duration": 615,
        "start_time": "2023-05-11T10:07:04.538Z"
      },
      {
        "duration": 11,
        "start_time": "2023-05-11T10:08:14.680Z"
      },
      {
        "duration": 32,
        "start_time": "2023-05-11T10:08:15.182Z"
      },
      {
        "duration": 6,
        "start_time": "2023-05-11T10:08:24.835Z"
      },
      {
        "duration": 242,
        "start_time": "2023-05-11T10:08:25.100Z"
      },
      {
        "duration": 10,
        "start_time": "2023-05-11T10:08:43.854Z"
      },
      {
        "duration": 44,
        "start_time": "2023-05-11T10:08:44.096Z"
      },
      {
        "duration": 8,
        "start_time": "2023-05-11T10:08:53.815Z"
      },
      {
        "duration": 305,
        "start_time": "2023-05-11T10:08:54.112Z"
      },
      {
        "duration": 13,
        "start_time": "2023-05-11T10:09:07.969Z"
      },
      {
        "duration": 44,
        "start_time": "2023-05-11T10:09:08.768Z"
      },
      {
        "duration": 190,
        "start_time": "2023-05-11T10:10:26.836Z"
      },
      {
        "duration": 7,
        "start_time": "2023-05-11T10:11:33.656Z"
      },
      {
        "duration": 47,
        "start_time": "2023-05-11T10:11:35.193Z"
      },
      {
        "duration": 7,
        "start_time": "2023-05-11T10:11:42.136Z"
      },
      {
        "duration": 15,
        "start_time": "2023-05-11T10:11:42.628Z"
      },
      {
        "duration": 15,
        "start_time": "2023-05-11T10:12:22.180Z"
      },
      {
        "duration": 1920,
        "start_time": "2023-05-11T10:12:22.897Z"
      },
      {
        "duration": 5,
        "start_time": "2023-05-11T11:44:14.858Z"
      },
      {
        "duration": 15,
        "start_time": "2023-05-11T11:44:16.007Z"
      },
      {
        "duration": 8,
        "start_time": "2023-05-11T11:45:01.287Z"
      },
      {
        "duration": 191,
        "start_time": "2023-05-11T11:45:02.153Z"
      },
      {
        "duration": 11,
        "start_time": "2023-05-11T11:45:48.467Z"
      },
      {
        "duration": 196,
        "start_time": "2023-05-11T11:45:48.999Z"
      },
      {
        "duration": 6,
        "start_time": "2023-05-11T11:46:35.721Z"
      },
      {
        "duration": 212,
        "start_time": "2023-05-11T11:46:36.464Z"
      },
      {
        "duration": 4,
        "start_time": "2023-05-11T11:48:08.202Z"
      },
      {
        "duration": 4,
        "start_time": "2023-05-11T11:48:08.659Z"
      },
      {
        "duration": 4,
        "start_time": "2023-05-11T11:48:09.350Z"
      },
      {
        "duration": 7,
        "start_time": "2023-05-11T11:48:14.060Z"
      },
      {
        "duration": 35,
        "start_time": "2023-05-11T11:49:47.515Z"
      },
      {
        "duration": 33,
        "start_time": "2023-05-11T11:51:09.433Z"
      },
      {
        "duration": 5,
        "start_time": "2023-05-11T11:52:34.202Z"
      },
      {
        "duration": 190556,
        "start_time": "2023-05-11T11:56:21.599Z"
      },
      {
        "duration": 0,
        "start_time": "2023-05-11T11:59:32.157Z"
      },
      {
        "duration": 1139,
        "start_time": "2023-05-11T11:59:37.216Z"
      },
      {
        "duration": 1778,
        "start_time": "2023-05-11T12:00:04.460Z"
      },
      {
        "duration": 21,
        "start_time": "2023-05-11T12:00:08.487Z"
      },
      {
        "duration": 90774,
        "start_time": "2023-05-11T12:03:20.899Z"
      },
      {
        "duration": 237379,
        "start_time": "2023-05-11T12:05:05.855Z"
      },
      {
        "duration": 5,
        "start_time": "2023-05-11T12:09:11.527Z"
      },
      {
        "duration": 892,
        "start_time": "2023-05-11T12:09:23.435Z"
      },
      {
        "duration": 842,
        "start_time": "2023-05-11T12:09:39.239Z"
      },
      {
        "duration": 3361,
        "start_time": "2023-05-11T12:09:47.123Z"
      },
      {
        "duration": 11999,
        "start_time": "2023-05-11T12:09:56.597Z"
      },
      {
        "duration": 11549,
        "start_time": "2023-05-11T12:10:11.619Z"
      },
      {
        "duration": 976,
        "start_time": "2023-05-11T12:10:31.184Z"
      },
      {
        "duration": 17843,
        "start_time": "2023-05-11T12:10:49.038Z"
      },
      {
        "duration": 961,
        "start_time": "2023-05-11T12:28:35.782Z"
      },
      {
        "duration": 7,
        "start_time": "2023-05-11T12:28:42.367Z"
      },
      {
        "duration": 5,
        "start_time": "2023-05-11T12:28:42.631Z"
      },
      {
        "duration": 5,
        "start_time": "2023-05-11T12:28:44.006Z"
      },
      {
        "duration": 3943,
        "start_time": "2023-05-11T12:28:45.266Z"
      },
      {
        "duration": 21,
        "start_time": "2023-05-11T12:28:49.212Z"
      },
      {
        "duration": 10,
        "start_time": "2023-05-11T12:28:49.236Z"
      },
      {
        "duration": 46,
        "start_time": "2023-05-11T12:28:49.250Z"
      },
      {
        "duration": 16,
        "start_time": "2023-05-11T12:29:24.413Z"
      },
      {
        "duration": 6,
        "start_time": "2023-05-11T12:29:28.614Z"
      },
      {
        "duration": 8,
        "start_time": "2023-05-11T12:29:41.583Z"
      },
      {
        "duration": 4,
        "start_time": "2023-05-11T12:30:10.325Z"
      },
      {
        "duration": 14,
        "start_time": "2023-05-11T12:30:34.987Z"
      },
      {
        "duration": 346,
        "start_time": "2023-05-11T12:31:30.420Z"
      },
      {
        "duration": 14,
        "start_time": "2023-05-11T12:31:38.796Z"
      },
      {
        "duration": 16,
        "start_time": "2023-05-11T12:32:01.056Z"
      },
      {
        "duration": 5,
        "start_time": "2023-05-11T12:32:09.363Z"
      },
      {
        "duration": 4,
        "start_time": "2023-05-11T12:32:23.565Z"
      },
      {
        "duration": 13,
        "start_time": "2023-05-11T12:32:29.206Z"
      },
      {
        "duration": 4,
        "start_time": "2023-05-11T12:32:30.547Z"
      },
      {
        "duration": 27,
        "start_time": "2023-05-11T12:32:36.783Z"
      },
      {
        "duration": 7,
        "start_time": "2023-05-11T12:32:37.295Z"
      },
      {
        "duration": 12,
        "start_time": "2023-05-11T12:34:41.186Z"
      },
      {
        "duration": 4,
        "start_time": "2023-05-11T12:34:45.306Z"
      },
      {
        "duration": 17,
        "start_time": "2023-05-11T12:34:58.065Z"
      },
      {
        "duration": 5,
        "start_time": "2023-05-11T12:38:55.241Z"
      },
      {
        "duration": 7,
        "start_time": "2023-05-11T12:39:52.726Z"
      },
      {
        "duration": 7,
        "start_time": "2023-05-11T12:39:53.562Z"
      },
      {
        "duration": 39,
        "start_time": "2023-05-11T12:39:57.379Z"
      },
      {
        "duration": 6,
        "start_time": "2023-05-11T12:47:45.799Z"
      },
      {
        "duration": 36,
        "start_time": "2023-05-11T12:47:46.747Z"
      },
      {
        "duration": 2260,
        "start_time": "2023-05-12T06:31:59.713Z"
      },
      {
        "duration": 2008,
        "start_time": "2023-05-12T06:32:01.975Z"
      },
      {
        "duration": 2,
        "start_time": "2023-05-12T06:32:04.050Z"
      },
      {
        "duration": 3,
        "start_time": "2023-05-12T06:32:04.313Z"
      },
      {
        "duration": 2793,
        "start_time": "2023-05-12T06:32:04.517Z"
      },
      {
        "duration": 6,
        "start_time": "2023-05-12T06:32:11.362Z"
      },
      {
        "duration": 4,
        "start_time": "2023-05-12T06:32:11.674Z"
      },
      {
        "duration": 7,
        "start_time": "2023-05-12T06:32:13.234Z"
      },
      {
        "duration": 3056,
        "start_time": "2023-05-12T06:32:14.415Z"
      },
      {
        "duration": 23,
        "start_time": "2023-05-12T06:32:17.473Z"
      },
      {
        "duration": 123,
        "start_time": "2023-05-12T06:32:17.505Z"
      },
      {
        "duration": 25,
        "start_time": "2023-05-12T06:32:17.629Z"
      },
      {
        "duration": 6,
        "start_time": "2023-05-12T06:32:17.656Z"
      },
      {
        "duration": 1296,
        "start_time": "2023-05-12T06:32:17.953Z"
      },
      {
        "duration": 1197,
        "start_time": "2023-05-12T06:32:19.250Z"
      },
      {
        "duration": 1183,
        "start_time": "2023-05-12T06:32:20.448Z"
      },
      {
        "duration": 3,
        "start_time": "2023-05-12T06:32:21.633Z"
      },
      {
        "duration": 13,
        "start_time": "2023-05-12T06:32:21.637Z"
      },
      {
        "duration": 481,
        "start_time": "2023-05-12T06:32:21.652Z"
      },
      {
        "duration": 5,
        "start_time": "2023-05-12T06:32:22.758Z"
      },
      {
        "duration": 185,
        "start_time": "2023-05-12T06:32:22.973Z"
      },
      {
        "duration": 6,
        "start_time": "2023-05-12T06:32:24.658Z"
      },
      {
        "duration": 3,
        "start_time": "2023-05-12T06:32:24.874Z"
      },
      {
        "duration": 2,
        "start_time": "2023-05-12T06:32:25.078Z"
      },
      {
        "duration": 3,
        "start_time": "2023-05-12T06:32:25.370Z"
      },
      {
        "duration": 4,
        "start_time": "2023-05-12T06:32:25.530Z"
      },
      {
        "duration": 4,
        "start_time": "2023-05-12T06:32:26.377Z"
      },
      {
        "duration": 9,
        "start_time": "2023-05-12T06:32:27.017Z"
      },
      {
        "duration": 4,
        "start_time": "2023-05-12T06:32:27.365Z"
      },
      {
        "duration": 5,
        "start_time": "2023-05-12T06:32:27.629Z"
      },
      {
        "duration": 5,
        "start_time": "2023-05-12T06:32:28.166Z"
      },
      {
        "duration": 22,
        "start_time": "2023-05-12T06:32:28.722Z"
      },
      {
        "duration": 197,
        "start_time": "2023-05-12T06:33:27.445Z"
      },
      {
        "duration": 3,
        "start_time": "2023-05-12T06:33:33.158Z"
      },
      {
        "duration": 167,
        "start_time": "2023-05-12T06:36:16.742Z"
      },
      {
        "duration": 184,
        "start_time": "2023-05-12T06:37:31.822Z"
      },
      {
        "duration": 4,
        "start_time": "2023-05-12T06:49:36.771Z"
      },
      {
        "duration": 3,
        "start_time": "2023-05-12T06:50:32.955Z"
      },
      {
        "duration": 3881,
        "start_time": "2023-05-12T06:52:19.226Z"
      },
      {
        "duration": 682,
        "start_time": "2023-05-12T06:54:01.106Z"
      },
      {
        "duration": 2839,
        "start_time": "2023-05-12T06:54:09.154Z"
      },
      {
        "duration": 29,
        "start_time": "2023-05-12T06:54:11.995Z"
      },
      {
        "duration": 7,
        "start_time": "2023-05-12T06:54:12.026Z"
      },
      {
        "duration": 11,
        "start_time": "2023-05-12T06:54:12.035Z"
      },
      {
        "duration": 2258,
        "start_time": "2023-05-12T06:56:53.895Z"
      },
      {
        "duration": 5,
        "start_time": "2023-05-12T06:56:56.155Z"
      },
      {
        "duration": 7,
        "start_time": "2023-05-12T06:56:56.193Z"
      },
      {
        "duration": 4,
        "start_time": "2023-05-12T06:56:56.501Z"
      },
      {
        "duration": 634,
        "start_time": "2023-05-12T06:56:56.754Z"
      },
      {
        "duration": 5,
        "start_time": "2023-05-12T06:57:03.676Z"
      },
      {
        "duration": 5,
        "start_time": "2023-05-12T06:57:03.988Z"
      },
      {
        "duration": 5,
        "start_time": "2023-05-12T06:57:05.527Z"
      },
      {
        "duration": 2930,
        "start_time": "2023-05-12T06:57:07.109Z"
      },
      {
        "duration": 22,
        "start_time": "2023-05-12T06:57:10.041Z"
      },
      {
        "duration": 7,
        "start_time": "2023-05-12T06:57:10.065Z"
      },
      {
        "duration": 32,
        "start_time": "2023-05-12T06:57:10.074Z"
      },
      {
        "duration": 9,
        "start_time": "2023-05-12T06:57:10.108Z"
      },
      {
        "duration": 1219,
        "start_time": "2023-05-12T06:57:10.118Z"
      },
      {
        "duration": 1440,
        "start_time": "2023-05-12T06:57:11.338Z"
      },
      {
        "duration": 1292,
        "start_time": "2023-05-12T06:57:12.780Z"
      },
      {
        "duration": 2,
        "start_time": "2023-05-12T06:57:14.074Z"
      },
      {
        "duration": 7,
        "start_time": "2023-05-12T06:57:14.078Z"
      },
      {
        "duration": 471,
        "start_time": "2023-05-12T06:57:14.086Z"
      },
      {
        "duration": 6,
        "start_time": "2023-05-12T06:57:14.558Z"
      },
      {
        "duration": 210,
        "start_time": "2023-05-12T06:57:14.566Z"
      },
      {
        "duration": 5,
        "start_time": "2023-05-12T06:57:14.778Z"
      },
      {
        "duration": 13,
        "start_time": "2023-05-12T06:57:14.784Z"
      },
      {
        "duration": 15,
        "start_time": "2023-05-12T06:57:14.798Z"
      },
      {
        "duration": 7,
        "start_time": "2023-05-12T06:57:14.815Z"
      },
      {
        "duration": 9,
        "start_time": "2023-05-12T06:57:14.823Z"
      },
      {
        "duration": 37,
        "start_time": "2023-05-12T06:57:14.833Z"
      },
      {
        "duration": 4,
        "start_time": "2023-05-12T06:57:14.871Z"
      },
      {
        "duration": 4032,
        "start_time": "2023-05-12T06:57:14.876Z"
      },
      {
        "duration": 10301,
        "start_time": "2023-05-12T06:57:18.911Z"
      },
      {
        "duration": 0,
        "start_time": "2023-05-12T06:57:29.214Z"
      },
      {
        "duration": 0,
        "start_time": "2023-05-12T06:57:29.215Z"
      },
      {
        "duration": 0,
        "start_time": "2023-05-12T06:57:29.216Z"
      },
      {
        "duration": 0,
        "start_time": "2023-05-12T06:57:29.218Z"
      },
      {
        "duration": 0,
        "start_time": "2023-05-12T06:57:29.219Z"
      },
      {
        "duration": 0,
        "start_time": "2023-05-12T06:57:29.220Z"
      },
      {
        "duration": 4,
        "start_time": "2023-05-12T07:00:04.650Z"
      },
      {
        "duration": 2,
        "start_time": "2023-05-12T07:00:47.345Z"
      },
      {
        "duration": 3,
        "start_time": "2023-05-12T07:04:10.998Z"
      },
      {
        "duration": 13,
        "start_time": "2023-05-12T07:04:58.971Z"
      },
      {
        "duration": 2150,
        "start_time": "2023-05-12T07:05:09.773Z"
      },
      {
        "duration": 5,
        "start_time": "2023-05-12T07:05:11.926Z"
      },
      {
        "duration": 3,
        "start_time": "2023-05-12T07:05:13.931Z"
      },
      {
        "duration": 3,
        "start_time": "2023-05-12T07:05:14.208Z"
      },
      {
        "duration": 687,
        "start_time": "2023-05-12T07:05:14.610Z"
      },
      {
        "duration": 7,
        "start_time": "2023-05-12T07:05:19.999Z"
      },
      {
        "duration": 5,
        "start_time": "2023-05-12T07:05:20.363Z"
      },
      {
        "duration": 6,
        "start_time": "2023-05-12T07:05:21.339Z"
      },
      {
        "duration": 3131,
        "start_time": "2023-05-12T07:05:22.499Z"
      },
      {
        "duration": 18,
        "start_time": "2023-05-12T07:05:25.632Z"
      },
      {
        "duration": 6,
        "start_time": "2023-05-12T07:05:25.652Z"
      },
      {
        "duration": 20,
        "start_time": "2023-05-12T07:05:25.659Z"
      },
      {
        "duration": 6,
        "start_time": "2023-05-12T07:05:26.014Z"
      },
      {
        "duration": 1249,
        "start_time": "2023-05-12T07:05:26.319Z"
      },
      {
        "duration": 1482,
        "start_time": "2023-05-12T07:05:27.571Z"
      },
      {
        "duration": 1275,
        "start_time": "2023-05-12T07:05:29.054Z"
      },
      {
        "duration": 3,
        "start_time": "2023-05-12T07:05:30.331Z"
      },
      {
        "duration": 42,
        "start_time": "2023-05-12T07:05:30.336Z"
      },
      {
        "duration": 621,
        "start_time": "2023-05-12T07:05:30.380Z"
      },
      {
        "duration": 5,
        "start_time": "2023-05-12T07:05:31.003Z"
      },
      {
        "duration": 165,
        "start_time": "2023-05-12T07:05:31.499Z"
      },
      {
        "duration": 6,
        "start_time": "2023-05-12T07:05:33.528Z"
      },
      {
        "duration": 3,
        "start_time": "2023-05-12T07:05:33.575Z"
      },
      {
        "duration": 13,
        "start_time": "2023-05-12T07:05:33.647Z"
      },
      {
        "duration": 3,
        "start_time": "2023-05-12T07:06:58.229Z"
      },
      {
        "duration": 3,
        "start_time": "2023-05-12T07:13:51.365Z"
      },
      {
        "duration": 3,
        "start_time": "2023-05-12T07:14:16.930Z"
      },
      {
        "duration": 3,
        "start_time": "2023-05-12T07:14:19.345Z"
      },
      {
        "duration": 3,
        "start_time": "2023-05-12T07:14:20.188Z"
      },
      {
        "duration": 4,
        "start_time": "2023-05-12T07:17:31.398Z"
      },
      {
        "duration": 5,
        "start_time": "2023-05-12T07:17:34.257Z"
      },
      {
        "duration": 2,
        "start_time": "2023-05-12T07:17:34.564Z"
      },
      {
        "duration": 3,
        "start_time": "2023-05-12T07:17:34.873Z"
      },
      {
        "duration": 3,
        "start_time": "2023-05-12T07:17:35.384Z"
      },
      {
        "duration": 3,
        "start_time": "2023-05-12T07:17:37.283Z"
      },
      {
        "duration": 6,
        "start_time": "2023-05-12T07:17:39.072Z"
      },
      {
        "duration": 24,
        "start_time": "2023-05-12T07:17:39.912Z"
      },
      {
        "duration": 4,
        "start_time": "2023-05-12T07:19:37.514Z"
      },
      {
        "duration": 3,
        "start_time": "2023-05-12T07:20:02.288Z"
      },
      {
        "duration": 3,
        "start_time": "2023-05-12T07:20:02.526Z"
      },
      {
        "duration": 3,
        "start_time": "2023-05-12T07:20:02.735Z"
      },
      {
        "duration": 3,
        "start_time": "2023-05-12T07:20:03.001Z"
      },
      {
        "duration": 3,
        "start_time": "2023-05-12T07:20:03.802Z"
      },
      {
        "duration": 6,
        "start_time": "2023-05-12T07:20:05.243Z"
      },
      {
        "duration": 25,
        "start_time": "2023-05-12T07:20:06.141Z"
      },
      {
        "duration": 17,
        "start_time": "2023-05-12T07:20:54.602Z"
      },
      {
        "duration": 15,
        "start_time": "2023-05-12T07:21:07.190Z"
      },
      {
        "duration": 13,
        "start_time": "2023-05-12T07:23:26.540Z"
      },
      {
        "duration": 12,
        "start_time": "2023-05-12T07:28:04.011Z"
      },
      {
        "duration": 13,
        "start_time": "2023-05-12T07:28:24.356Z"
      },
      {
        "duration": 21,
        "start_time": "2023-05-12T07:28:43.456Z"
      },
      {
        "duration": 4,
        "start_time": "2023-05-12T07:31:41.982Z"
      },
      {
        "duration": 1497,
        "start_time": "2023-05-12T07:31:46.122Z"
      },
      {
        "duration": 3,
        "start_time": "2023-05-12T07:35:00.240Z"
      },
      {
        "duration": 15,
        "start_time": "2023-05-12T07:35:51.036Z"
      },
      {
        "duration": 3,
        "start_time": "2023-05-12T07:36:06.469Z"
      },
      {
        "duration": 2724,
        "start_time": "2023-05-12T07:36:09.492Z"
      },
      {
        "duration": 4,
        "start_time": "2023-05-12T07:36:46.526Z"
      },
      {
        "duration": 2666,
        "start_time": "2023-05-12T07:36:49.847Z"
      },
      {
        "duration": 3,
        "start_time": "2023-05-12T07:37:02.756Z"
      },
      {
        "duration": 3203,
        "start_time": "2023-05-12T07:37:05.308Z"
      },
      {
        "duration": 3,
        "start_time": "2023-05-12T07:37:40.117Z"
      },
      {
        "duration": 5,
        "start_time": "2023-05-12T07:37:44.155Z"
      },
      {
        "duration": 3,
        "start_time": "2023-05-12T07:37:50.839Z"
      },
      {
        "duration": 3,
        "start_time": "2023-05-12T07:37:51.628Z"
      },
      {
        "duration": 3,
        "start_time": "2023-05-12T07:38:02.656Z"
      },
      {
        "duration": 2409,
        "start_time": "2023-05-12T07:38:06.996Z"
      },
      {
        "duration": 4,
        "start_time": "2023-05-12T07:38:28.245Z"
      },
      {
        "duration": 2542,
        "start_time": "2023-05-12T07:38:31.268Z"
      },
      {
        "duration": 3,
        "start_time": "2023-05-12T07:39:06.908Z"
      },
      {
        "duration": 5,
        "start_time": "2023-05-12T07:39:07.958Z"
      },
      {
        "duration": 22,
        "start_time": "2023-05-12T07:39:08.524Z"
      },
      {
        "duration": 2985,
        "start_time": "2023-05-12T07:39:10.822Z"
      },
      {
        "duration": 176420,
        "start_time": "2023-05-12T07:39:34.619Z"
      },
      {
        "duration": 3,
        "start_time": "2023-05-12T07:42:31.041Z"
      },
      {
        "duration": 12,
        "start_time": "2023-05-12T07:43:30.424Z"
      },
      {
        "duration": 638,
        "start_time": "2023-05-12T07:44:24.516Z"
      },
      {
        "duration": 16935,
        "start_time": "2023-05-12T20:35:57.795Z"
      },
      {
        "duration": 2182,
        "start_time": "2023-05-12T20:36:14.732Z"
      },
      {
        "duration": 3,
        "start_time": "2023-05-12T20:36:16.916Z"
      },
      {
        "duration": 4,
        "start_time": "2023-05-12T20:36:16.922Z"
      },
      {
        "duration": 3720,
        "start_time": "2023-05-12T20:36:16.928Z"
      },
      {
        "duration": 8,
        "start_time": "2023-05-12T20:36:20.650Z"
      },
      {
        "duration": 26,
        "start_time": "2023-05-12T20:36:20.659Z"
      },
      {
        "duration": 8,
        "start_time": "2023-05-12T20:36:20.688Z"
      },
      {
        "duration": 22,
        "start_time": "2023-05-12T20:36:46.296Z"
      },
      {
        "duration": 911,
        "start_time": "2023-05-12T20:38:16.392Z"
      },
      {
        "duration": 2,
        "start_time": "2023-05-12T20:39:09.196Z"
      },
      {
        "duration": 13,
        "start_time": "2023-05-12T20:39:14.184Z"
      },
      {
        "duration": 14,
        "start_time": "2023-05-12T20:42:39.828Z"
      },
      {
        "duration": 12,
        "start_time": "2023-05-12T20:42:51.820Z"
      },
      {
        "duration": 89,
        "start_time": "2023-05-12T20:43:07.898Z"
      },
      {
        "duration": 16,
        "start_time": "2023-05-12T20:45:26.000Z"
      },
      {
        "duration": 839,
        "start_time": "2023-05-12T20:45:39.336Z"
      },
      {
        "duration": 33,
        "start_time": "2023-05-12T20:45:49.245Z"
      },
      {
        "duration": 21,
        "start_time": "2023-05-12T20:45:50.883Z"
      },
      {
        "duration": 10,
        "start_time": "2023-05-12T20:46:14.358Z"
      },
      {
        "duration": 31,
        "start_time": "2023-05-12T20:46:58.956Z"
      },
      {
        "duration": 7,
        "start_time": "2023-05-12T20:47:36.933Z"
      },
      {
        "duration": 10,
        "start_time": "2023-05-12T20:47:39.209Z"
      },
      {
        "duration": 129,
        "start_time": "2023-05-12T20:47:49.781Z"
      },
      {
        "duration": 1334,
        "start_time": "2023-05-12T20:47:50.603Z"
      },
      {
        "duration": 1309,
        "start_time": "2023-05-12T20:47:51.939Z"
      },
      {
        "duration": 1471,
        "start_time": "2023-05-12T20:47:53.250Z"
      },
      {
        "duration": 3,
        "start_time": "2023-05-12T20:47:54.723Z"
      },
      {
        "duration": 12,
        "start_time": "2023-05-12T20:47:54.728Z"
      },
      {
        "duration": 470,
        "start_time": "2023-05-12T20:47:54.742Z"
      },
      {
        "duration": 4,
        "start_time": "2023-05-12T20:47:58.387Z"
      },
      {
        "duration": 206,
        "start_time": "2023-05-12T20:47:58.879Z"
      },
      {
        "duration": 3,
        "start_time": "2023-05-12T20:48:07.314Z"
      },
      {
        "duration": 5,
        "start_time": "2023-05-12T20:48:07.657Z"
      },
      {
        "duration": 3,
        "start_time": "2023-05-12T20:48:08.128Z"
      },
      {
        "duration": 4,
        "start_time": "2023-05-12T20:48:09.201Z"
      },
      {
        "duration": 3,
        "start_time": "2023-05-12T20:48:10.388Z"
      },
      {
        "duration": 7,
        "start_time": "2023-05-12T20:48:10.672Z"
      },
      {
        "duration": 12502,
        "start_time": "2023-05-12T20:48:15.382Z"
      },
      {
        "duration": 268198,
        "start_time": "2023-05-12T20:48:36.186Z"
      },
      {
        "duration": 7,
        "start_time": "2023-05-12T20:53:04.388Z"
      },
      {
        "duration": 2935,
        "start_time": "2023-05-12T20:53:04.399Z"
      },
      {
        "duration": 523668,
        "start_time": "2023-05-12T20:53:07.336Z"
      },
      {
        "duration": 5,
        "start_time": "2023-05-12T21:01:51.006Z"
      },
      {
        "duration": 15,
        "start_time": "2023-05-12T21:01:51.012Z"
      },
      {
        "duration": 120,
        "start_time": "2023-05-12T21:08:51.291Z"
      },
      {
        "duration": 1272,
        "start_time": "2023-05-12T21:09:04.439Z"
      },
      {
        "duration": 10,
        "start_time": "2023-05-12T21:11:54.340Z"
      },
      {
        "duration": 5,
        "start_time": "2023-05-12T21:12:07.710Z"
      },
      {
        "duration": 26,
        "start_time": "2023-05-12T21:12:15.884Z"
      },
      {
        "duration": 4,
        "start_time": "2023-05-12T21:12:21.529Z"
      },
      {
        "duration": 4,
        "start_time": "2023-05-12T21:12:52.632Z"
      },
      {
        "duration": 5,
        "start_time": "2023-05-12T21:13:09.285Z"
      },
      {
        "duration": 5,
        "start_time": "2023-05-12T21:13:17.046Z"
      },
      {
        "duration": 5,
        "start_time": "2023-05-12T21:13:27.994Z"
      },
      {
        "duration": 25882,
        "start_time": "2023-05-12T21:14:44.620Z"
      },
      {
        "duration": 0,
        "start_time": "2023-05-12T21:15:10.504Z"
      },
      {
        "duration": 0,
        "start_time": "2023-05-12T21:15:10.505Z"
      },
      {
        "duration": 4,
        "start_time": "2023-05-12T21:16:53.728Z"
      },
      {
        "duration": 2304,
        "start_time": "2023-05-12T21:16:58.317Z"
      },
      {
        "duration": 14,
        "start_time": "2023-05-12T21:28:04.797Z"
      },
      {
        "duration": 369,
        "start_time": "2023-05-12T21:28:46.404Z"
      },
      {
        "duration": 389,
        "start_time": "2023-05-12T21:29:03.534Z"
      },
      {
        "duration": 340,
        "start_time": "2023-05-12T21:29:26.294Z"
      },
      {
        "duration": 3,
        "start_time": "2023-05-12T21:29:37.890Z"
      },
      {
        "duration": 9,
        "start_time": "2023-05-12T21:29:51.458Z"
      },
      {
        "duration": 16,
        "start_time": "2023-05-12T21:34:04.312Z"
      },
      {
        "duration": 828,
        "start_time": "2023-05-12T21:34:28.343Z"
      },
      {
        "duration": 3,
        "start_time": "2023-05-12T21:34:43.197Z"
      },
      {
        "duration": 21,
        "start_time": "2023-05-12T21:34:58.996Z"
      },
      {
        "duration": 10,
        "start_time": "2023-05-12T21:35:00.856Z"
      },
      {
        "duration": 752,
        "start_time": "2023-05-12T21:35:27.300Z"
      },
      {
        "duration": 50,
        "start_time": "2023-05-12T21:37:20.049Z"
      },
      {
        "duration": 12,
        "start_time": "2023-05-12T21:37:37.102Z"
      },
      {
        "duration": 19,
        "start_time": "2023-05-12T21:38:09.118Z"
      },
      {
        "duration": 11,
        "start_time": "2023-05-12T21:38:34.746Z"
      },
      {
        "duration": 14,
        "start_time": "2023-05-12T21:38:53.355Z"
      },
      {
        "duration": 18,
        "start_time": "2023-05-12T21:39:16.100Z"
      },
      {
        "duration": 22,
        "start_time": "2023-05-12T21:39:22.784Z"
      },
      {
        "duration": 785,
        "start_time": "2023-05-12T21:39:39.896Z"
      },
      {
        "duration": 6,
        "start_time": "2023-05-12T21:39:46.533Z"
      },
      {
        "duration": 4,
        "start_time": "2023-05-12T21:39:46.840Z"
      },
      {
        "duration": 5,
        "start_time": "2023-05-12T21:39:49.447Z"
      },
      {
        "duration": 37,
        "start_time": "2023-05-12T21:39:54.743Z"
      },
      {
        "duration": 28,
        "start_time": "2023-05-12T21:40:10.458Z"
      },
      {
        "duration": 18,
        "start_time": "2023-05-12T21:40:19.395Z"
      },
      {
        "duration": 17,
        "start_time": "2023-05-12T21:40:28.298Z"
      },
      {
        "duration": 18,
        "start_time": "2023-05-12T21:40:45.392Z"
      },
      {
        "duration": 20,
        "start_time": "2023-05-12T21:41:13.714Z"
      },
      {
        "duration": 9,
        "start_time": "2023-05-12T21:41:42.934Z"
      },
      {
        "duration": 3,
        "start_time": "2023-05-12T21:41:45.451Z"
      },
      {
        "duration": 4,
        "start_time": "2023-05-12T21:41:58.996Z"
      },
      {
        "duration": 1269,
        "start_time": "2023-05-12T21:42:14.110Z"
      },
      {
        "duration": 6,
        "start_time": "2023-05-12T21:42:34.799Z"
      },
      {
        "duration": 5,
        "start_time": "2023-05-12T21:42:45.527Z"
      },
      {
        "duration": 101,
        "start_time": "2023-05-12T21:42:48.801Z"
      },
      {
        "duration": 8,
        "start_time": "2023-05-12T21:43:12.588Z"
      },
      {
        "duration": 7,
        "start_time": "2023-05-12T21:43:32.741Z"
      },
      {
        "duration": 7,
        "start_time": "2023-05-12T21:43:41.592Z"
      },
      {
        "duration": 2756,
        "start_time": "2023-05-12T21:43:45.607Z"
      },
      {
        "duration": 12380,
        "start_time": "2023-05-12T21:44:03.295Z"
      },
      {
        "duration": 3626,
        "start_time": "2023-05-12T21:45:43.132Z"
      },
      {
        "duration": 11,
        "start_time": "2023-05-12T21:46:12.008Z"
      },
      {
        "duration": 10,
        "start_time": "2023-05-12T21:46:43.290Z"
      },
      {
        "duration": 12,
        "start_time": "2023-05-12T21:47:30.690Z"
      },
      {
        "duration": 6,
        "start_time": "2023-05-12T21:47:57.533Z"
      },
      {
        "duration": 5,
        "start_time": "2023-05-12T21:48:29.392Z"
      },
      {
        "duration": 8,
        "start_time": "2023-05-12T21:48:36.794Z"
      },
      {
        "duration": 11,
        "start_time": "2023-05-12T21:48:44.295Z"
      },
      {
        "duration": 735,
        "start_time": "2023-05-12T21:49:05.735Z"
      },
      {
        "duration": 5,
        "start_time": "2023-05-12T21:49:11.426Z"
      },
      {
        "duration": 6,
        "start_time": "2023-05-12T21:49:11.694Z"
      },
      {
        "duration": 6,
        "start_time": "2023-05-12T21:49:19.456Z"
      },
      {
        "duration": 27,
        "start_time": "2023-05-12T21:49:25.156Z"
      },
      {
        "duration": 6,
        "start_time": "2023-05-12T21:49:31.103Z"
      },
      {
        "duration": 9,
        "start_time": "2023-05-12T21:49:33.898Z"
      },
      {
        "duration": 15,
        "start_time": "2023-05-12T21:52:14.089Z"
      },
      {
        "duration": 6,
        "start_time": "2023-05-12T21:52:18.576Z"
      },
      {
        "duration": 4,
        "start_time": "2023-05-12T21:52:20.745Z"
      },
      {
        "duration": 3,
        "start_time": "2023-05-12T21:52:20.987Z"
      },
      {
        "duration": 3,
        "start_time": "2023-05-12T21:52:21.201Z"
      },
      {
        "duration": 3,
        "start_time": "2023-05-12T21:52:22.709Z"
      },
      {
        "duration": 3,
        "start_time": "2023-05-12T21:52:23.250Z"
      },
      {
        "duration": 16,
        "start_time": "2023-05-12T21:52:24.436Z"
      },
      {
        "duration": 6,
        "start_time": "2023-05-12T21:52:48.076Z"
      },
      {
        "duration": 21,
        "start_time": "2023-05-12T21:52:50.172Z"
      },
      {
        "duration": 424,
        "start_time": "2023-05-12T22:26:39.738Z"
      },
      {
        "duration": 671,
        "start_time": "2023-05-12T22:26:57.379Z"
      },
      {
        "duration": 17,
        "start_time": "2023-05-12T22:27:13.568Z"
      },
      {
        "duration": 6,
        "start_time": "2023-05-12T22:27:20.692Z"
      },
      {
        "duration": 8,
        "start_time": "2023-05-12T22:27:23.043Z"
      },
      {
        "duration": 5,
        "start_time": "2023-05-12T22:27:41.933Z"
      },
      {
        "duration": 15,
        "start_time": "2023-05-12T22:27:55.780Z"
      },
      {
        "duration": 16,
        "start_time": "2023-05-12T22:31:08.507Z"
      },
      {
        "duration": 6,
        "start_time": "2023-05-12T22:31:10.785Z"
      },
      {
        "duration": 13,
        "start_time": "2023-05-12T22:31:14.516Z"
      },
      {
        "duration": 2441,
        "start_time": "2023-05-12T22:33:04.905Z"
      },
      {
        "duration": 1826,
        "start_time": "2023-05-12T22:33:07.348Z"
      },
      {
        "duration": 3,
        "start_time": "2023-05-12T22:33:09.176Z"
      },
      {
        "duration": 7,
        "start_time": "2023-05-12T22:33:09.181Z"
      },
      {
        "duration": 754,
        "start_time": "2023-05-12T22:33:09.189Z"
      },
      {
        "duration": 157,
        "start_time": "2023-05-12T22:33:09.944Z"
      },
      {
        "duration": 42,
        "start_time": "2023-05-12T22:33:10.103Z"
      },
      {
        "duration": 59,
        "start_time": "2023-05-12T22:33:10.146Z"
      },
      {
        "duration": 18,
        "start_time": "2023-05-12T22:33:10.207Z"
      },
      {
        "duration": 6,
        "start_time": "2023-05-12T22:33:10.228Z"
      },
      {
        "duration": 36,
        "start_time": "2023-05-12T22:33:10.236Z"
      },
      {
        "duration": 9,
        "start_time": "2023-05-12T22:33:10.274Z"
      },
      {
        "duration": 5,
        "start_time": "2023-05-12T22:33:10.285Z"
      },
      {
        "duration": 29,
        "start_time": "2023-05-12T22:33:10.291Z"
      },
      {
        "duration": 7,
        "start_time": "2023-05-12T22:33:10.321Z"
      },
      {
        "duration": 15,
        "start_time": "2023-05-12T22:33:10.330Z"
      },
      {
        "duration": 21,
        "start_time": "2023-05-12T22:33:10.346Z"
      },
      {
        "duration": 1261,
        "start_time": "2023-05-12T22:33:10.370Z"
      },
      {
        "duration": 1282,
        "start_time": "2023-05-12T22:33:11.633Z"
      },
      {
        "duration": 1287,
        "start_time": "2023-05-12T22:33:12.917Z"
      },
      {
        "duration": 2,
        "start_time": "2023-05-12T22:33:14.206Z"
      },
      {
        "duration": 23,
        "start_time": "2023-05-12T22:33:14.210Z"
      },
      {
        "duration": 439,
        "start_time": "2023-05-12T22:33:14.234Z"
      },
      {
        "duration": 4,
        "start_time": "2023-05-12T22:33:14.675Z"
      },
      {
        "duration": 199,
        "start_time": "2023-05-12T22:33:14.682Z"
      },
      {
        "duration": 8,
        "start_time": "2023-05-12T22:33:14.883Z"
      },
      {
        "duration": 8,
        "start_time": "2023-05-12T22:33:14.892Z"
      },
      {
        "duration": 4,
        "start_time": "2023-05-12T22:33:14.905Z"
      },
      {
        "duration": 9,
        "start_time": "2023-05-12T22:33:14.911Z"
      },
      {
        "duration": 10,
        "start_time": "2023-05-12T22:33:14.921Z"
      },
      {
        "duration": 5,
        "start_time": "2023-05-12T22:33:14.933Z"
      },
      {
        "duration": 152,
        "start_time": "2023-05-12T22:33:14.939Z"
      },
      {
        "duration": 0,
        "start_time": "2023-05-12T22:33:15.092Z"
      },
      {
        "duration": 0,
        "start_time": "2023-05-12T22:33:15.094Z"
      },
      {
        "duration": 0,
        "start_time": "2023-05-12T22:33:15.095Z"
      },
      {
        "duration": 0,
        "start_time": "2023-05-12T22:33:15.096Z"
      },
      {
        "duration": 0,
        "start_time": "2023-05-12T22:33:15.097Z"
      },
      {
        "duration": 0,
        "start_time": "2023-05-12T22:33:15.098Z"
      },
      {
        "duration": 0,
        "start_time": "2023-05-12T22:33:15.099Z"
      },
      {
        "duration": 0,
        "start_time": "2023-05-12T22:33:15.100Z"
      },
      {
        "duration": 0,
        "start_time": "2023-05-12T22:33:15.101Z"
      },
      {
        "duration": 0,
        "start_time": "2023-05-12T22:33:15.102Z"
      },
      {
        "duration": 0,
        "start_time": "2023-05-12T22:33:15.103Z"
      },
      {
        "duration": 0,
        "start_time": "2023-05-12T22:33:15.105Z"
      },
      {
        "duration": 0,
        "start_time": "2023-05-12T22:33:15.106Z"
      },
      {
        "duration": 0,
        "start_time": "2023-05-12T22:33:15.107Z"
      },
      {
        "duration": 76,
        "start_time": "2023-05-12T22:36:49.173Z"
      },
      {
        "duration": 2370,
        "start_time": "2023-05-12T22:38:36.469Z"
      },
      {
        "duration": 1752,
        "start_time": "2023-05-12T22:38:38.841Z"
      },
      {
        "duration": 2,
        "start_time": "2023-05-12T22:38:40.594Z"
      },
      {
        "duration": 5,
        "start_time": "2023-05-12T22:38:40.598Z"
      },
      {
        "duration": 706,
        "start_time": "2023-05-12T22:38:40.604Z"
      },
      {
        "duration": 146,
        "start_time": "2023-05-12T22:38:41.312Z"
      },
      {
        "duration": 39,
        "start_time": "2023-05-12T22:38:41.459Z"
      },
      {
        "duration": 38,
        "start_time": "2023-05-12T22:38:41.499Z"
      },
      {
        "duration": 32,
        "start_time": "2023-05-12T22:38:41.539Z"
      },
      {
        "duration": 6,
        "start_time": "2023-05-12T22:38:41.574Z"
      },
      {
        "duration": 5,
        "start_time": "2023-05-12T22:38:41.581Z"
      },
      {
        "duration": 6,
        "start_time": "2023-05-12T22:38:41.587Z"
      },
      {
        "duration": 5,
        "start_time": "2023-05-12T22:38:41.594Z"
      },
      {
        "duration": 27,
        "start_time": "2023-05-12T22:38:41.601Z"
      },
      {
        "duration": 31,
        "start_time": "2023-05-12T22:38:41.629Z"
      },
      {
        "duration": 13,
        "start_time": "2023-05-12T22:38:41.662Z"
      },
      {
        "duration": 13,
        "start_time": "2023-05-12T22:38:41.678Z"
      },
      {
        "duration": 6,
        "start_time": "2023-05-12T22:38:41.693Z"
      },
      {
        "duration": 1350,
        "start_time": "2023-05-12T22:38:41.701Z"
      },
      {
        "duration": 1280,
        "start_time": "2023-05-12T22:38:43.054Z"
      },
      {
        "duration": 1265,
        "start_time": "2023-05-12T22:38:44.336Z"
      },
      {
        "duration": 3,
        "start_time": "2023-05-12T22:38:45.602Z"
      },
      {
        "duration": 5,
        "start_time": "2023-05-12T22:38:45.607Z"
      },
      {
        "duration": 455,
        "start_time": "2023-05-12T22:38:45.614Z"
      },
      {
        "duration": 5,
        "start_time": "2023-05-12T22:38:46.071Z"
      },
      {
        "duration": 179,
        "start_time": "2023-05-12T22:38:46.078Z"
      },
      {
        "duration": 4,
        "start_time": "2023-05-12T22:38:46.258Z"
      },
      {
        "duration": 3,
        "start_time": "2023-05-12T22:38:46.265Z"
      },
      {
        "duration": 9,
        "start_time": "2023-05-12T22:38:46.270Z"
      },
      {
        "duration": 17,
        "start_time": "2023-05-12T22:38:46.281Z"
      },
      {
        "duration": 12,
        "start_time": "2023-05-12T22:38:46.300Z"
      },
      {
        "duration": 9,
        "start_time": "2023-05-12T22:38:46.314Z"
      },
      {
        "duration": 8,
        "start_time": "2023-05-12T22:38:46.324Z"
      },
      {
        "duration": 2028,
        "start_time": "2023-05-12T22:38:46.333Z"
      },
      {
        "duration": 184781,
        "start_time": "2023-05-12T22:38:48.362Z"
      },
      {
        "duration": 3,
        "start_time": "2023-05-12T22:41:53.144Z"
      },
      {
        "duration": 7964,
        "start_time": "2023-05-12T22:41:53.149Z"
      },
      {
        "duration": 3,
        "start_time": "2023-05-12T22:42:01.114Z"
      },
      {
        "duration": 20,
        "start_time": "2023-05-12T22:42:01.119Z"
      },
      {
        "duration": 286529,
        "start_time": "2023-05-12T22:42:01.141Z"
      },
      {
        "duration": 11,
        "start_time": "2023-05-12T22:46:47.672Z"
      },
      {
        "duration": 2,
        "start_time": "2023-05-12T22:46:47.691Z"
      },
      {
        "duration": 12,
        "start_time": "2023-05-12T22:46:47.695Z"
      },
      {
        "duration": 2767,
        "start_time": "2023-05-12T22:46:47.709Z"
      },
      {
        "duration": 252,
        "start_time": "2023-05-12T22:46:50.482Z"
      },
      {
        "duration": 0,
        "start_time": "2023-05-12T22:46:50.736Z"
      },
      {
        "duration": 9,
        "start_time": "2023-05-12T22:47:30.047Z"
      },
      {
        "duration": 4,
        "start_time": "2023-05-12T22:47:31.539Z"
      },
      {
        "duration": 14,
        "start_time": "2023-05-12T22:53:15.822Z"
      },
      {
        "duration": 90,
        "start_time": "2023-05-12T22:53:33.322Z"
      },
      {
        "duration": 7641,
        "start_time": "2023-05-12T22:53:42.275Z"
      },
      {
        "duration": 68,
        "start_time": "2023-05-12T22:53:52.454Z"
      },
      {
        "duration": 5,
        "start_time": "2023-05-12T22:53:59.760Z"
      },
      {
        "duration": 79,
        "start_time": "2023-05-12T22:59:34.524Z"
      },
      {
        "duration": 84,
        "start_time": "2023-05-12T22:59:45.585Z"
      },
      {
        "duration": 12,
        "start_time": "2023-05-12T22:59:46.723Z"
      },
      {
        "duration": 533175,
        "start_time": "2023-05-12T23:00:04.498Z"
      },
      {
        "duration": 0,
        "start_time": "2023-05-12T23:08:57.680Z"
      },
      {
        "duration": 91,
        "start_time": "2023-05-12T23:10:15.645Z"
      },
      {
        "duration": 12,
        "start_time": "2023-05-12T23:10:22.187Z"
      },
      {
        "duration": 28645,
        "start_time": "2023-05-12T23:10:32.490Z"
      },
      {
        "duration": 8079,
        "start_time": "2023-05-12T23:11:17.618Z"
      },
      {
        "duration": 205902,
        "start_time": "2023-05-12T23:11:53.382Z"
      },
      {
        "duration": 5,
        "start_time": "2023-05-12T23:16:16.824Z"
      },
      {
        "duration": 2,
        "start_time": "2023-05-12T23:16:35.047Z"
      },
      {
        "duration": 2,
        "start_time": "2023-05-12T23:16:35.438Z"
      },
      {
        "duration": 772,
        "start_time": "2023-05-12T23:16:35.747Z"
      },
      {
        "duration": 6,
        "start_time": "2023-05-12T23:16:43.235Z"
      },
      {
        "duration": 5,
        "start_time": "2023-05-12T23:16:43.527Z"
      },
      {
        "duration": 5,
        "start_time": "2023-05-12T23:16:46.959Z"
      },
      {
        "duration": 24,
        "start_time": "2023-05-12T23:17:32.123Z"
      },
      {
        "duration": 7,
        "start_time": "2023-05-12T23:17:33.136Z"
      },
      {
        "duration": 6,
        "start_time": "2023-05-12T23:17:34.072Z"
      },
      {
        "duration": 8,
        "start_time": "2023-05-12T23:17:35.724Z"
      },
      {
        "duration": 4,
        "start_time": "2023-05-12T23:18:11.931Z"
      },
      {
        "duration": 7,
        "start_time": "2023-05-12T23:18:17.454Z"
      },
      {
        "duration": 65150,
        "start_time": "2023-05-12T23:20:04.249Z"
      },
      {
        "duration": 16327,
        "start_time": "2023-05-12T23:21:09.401Z"
      },
      {
        "duration": 12,
        "start_time": "2023-05-12T23:25:15.625Z"
      },
      {
        "duration": 27,
        "start_time": "2023-05-12T23:25:40.343Z"
      },
      {
        "duration": 16534,
        "start_time": "2023-05-12T23:25:50.062Z"
      },
      {
        "duration": 1653,
        "start_time": "2023-05-12T23:29:32.318Z"
      },
      {
        "duration": 15,
        "start_time": "2023-05-12T23:29:36.481Z"
      },
      {
        "duration": 30,
        "start_time": "2023-05-12T23:30:04.747Z"
      },
      {
        "duration": 8,
        "start_time": "2023-05-12T23:30:15.414Z"
      },
      {
        "duration": 16320,
        "start_time": "2023-05-12T23:30:21.870Z"
      },
      {
        "duration": 45509,
        "start_time": "2023-05-12T23:42:19.513Z"
      },
      {
        "duration": 74,
        "start_time": "2023-05-12T23:45:04.842Z"
      },
      {
        "duration": 81,
        "start_time": "2023-05-12T23:45:35.345Z"
      },
      {
        "duration": 6,
        "start_time": "2023-05-12T23:47:46.307Z"
      },
      {
        "duration": 21,
        "start_time": "2023-05-12T23:48:30.459Z"
      },
      {
        "duration": 216523,
        "start_time": "2023-05-12T23:49:26.306Z"
      },
      {
        "duration": 53292,
        "start_time": "2023-05-12T23:53:02.831Z"
      },
      {
        "duration": 359228,
        "start_time": "2023-05-12T23:56:15.617Z"
      },
      {
        "duration": 88473,
        "start_time": "2023-05-13T00:02:14.847Z"
      },
      {
        "duration": 52614,
        "start_time": "2023-05-13T00:09:23.643Z"
      },
      {
        "duration": 50,
        "start_time": "2023-05-13T00:10:28.473Z"
      },
      {
        "duration": 16,
        "start_time": "2023-05-13T00:10:35.222Z"
      },
      {
        "duration": 7,
        "start_time": "2023-05-13T00:10:55.165Z"
      },
      {
        "duration": 4,
        "start_time": "2023-05-13T00:10:56.171Z"
      },
      {
        "duration": 48,
        "start_time": "2023-05-13T01:34:54.618Z"
      },
      {
        "duration": 14202,
        "start_time": "2023-05-13T01:36:36.438Z"
      },
      {
        "duration": 1949,
        "start_time": "2023-05-13T01:36:50.642Z"
      },
      {
        "duration": 2,
        "start_time": "2023-05-13T01:36:52.593Z"
      },
      {
        "duration": 11,
        "start_time": "2023-05-13T01:36:52.598Z"
      },
      {
        "duration": 2691,
        "start_time": "2023-05-13T01:36:52.611Z"
      },
      {
        "duration": 6,
        "start_time": "2023-05-13T01:36:55.305Z"
      },
      {
        "duration": 21,
        "start_time": "2023-05-13T01:36:55.313Z"
      },
      {
        "duration": 3,
        "start_time": "2023-05-13T01:36:55.335Z"
      },
      {
        "duration": 5,
        "start_time": "2023-05-13T01:37:05.107Z"
      },
      {
        "duration": 2550,
        "start_time": "2023-05-13T01:37:14.854Z"
      },
      {
        "duration": 20,
        "start_time": "2023-05-13T01:37:17.529Z"
      },
      {
        "duration": 7,
        "start_time": "2023-05-13T01:37:18.761Z"
      },
      {
        "duration": 5,
        "start_time": "2023-05-13T01:37:19.308Z"
      },
      {
        "duration": 9,
        "start_time": "2023-05-13T01:37:20.971Z"
      },
      {
        "duration": 4,
        "start_time": "2023-05-13T01:37:36.269Z"
      },
      {
        "duration": 3,
        "start_time": "2023-05-13T01:37:36.726Z"
      },
      {
        "duration": 3,
        "start_time": "2023-05-13T01:37:37.225Z"
      },
      {
        "duration": 3,
        "start_time": "2023-05-13T01:37:37.746Z"
      },
      {
        "duration": 5,
        "start_time": "2023-05-13T01:37:39.316Z"
      },
      {
        "duration": 5,
        "start_time": "2023-05-13T01:37:39.700Z"
      },
      {
        "duration": 20,
        "start_time": "2023-05-13T01:37:40.049Z"
      },
      {
        "duration": 2661,
        "start_time": "2023-05-13T01:37:46.233Z"
      },
      {
        "duration": 4,
        "start_time": "2023-05-13T01:38:25.788Z"
      },
      {
        "duration": 12,
        "start_time": "2023-05-13T01:38:28.420Z"
      },
      {
        "duration": 5,
        "start_time": "2023-05-13T01:38:34.211Z"
      },
      {
        "duration": 109,
        "start_time": "2023-05-13T01:38:38.071Z"
      },
      {
        "duration": 8,
        "start_time": "2023-05-13T01:40:30.390Z"
      },
      {
        "duration": 1312,
        "start_time": "2023-05-13T01:45:37.508Z"
      },
      {
        "duration": 60,
        "start_time": "2023-05-13T01:46:06.795Z"
      },
      {
        "duration": 455,
        "start_time": "2023-05-14T09:38:59.119Z"
      },
      {
        "duration": 0,
        "start_time": "2023-05-14T09:38:59.577Z"
      },
      {
        "duration": 0,
        "start_time": "2023-05-14T09:38:59.578Z"
      },
      {
        "duration": 830,
        "start_time": "2023-05-14T09:38:59.673Z"
      },
      {
        "duration": 8,
        "start_time": "2023-05-14T09:39:01.300Z"
      },
      {
        "duration": 8,
        "start_time": "2023-05-14T09:39:01.539Z"
      },
      {
        "duration": 2919,
        "start_time": "2023-05-14T09:39:13.742Z"
      },
      {
        "duration": 5,
        "start_time": "2023-05-14T09:39:16.663Z"
      },
      {
        "duration": 11,
        "start_time": "2023-05-14T09:39:16.670Z"
      },
      {
        "duration": 947,
        "start_time": "2023-05-14T09:39:16.688Z"
      },
      {
        "duration": 7,
        "start_time": "2023-05-14T09:39:17.638Z"
      },
      {
        "duration": 28,
        "start_time": "2023-05-14T09:39:17.647Z"
      },
      {
        "duration": 8,
        "start_time": "2023-05-14T09:39:17.687Z"
      },
      {
        "duration": 4695,
        "start_time": "2023-05-14T09:39:19.986Z"
      },
      {
        "duration": 45,
        "start_time": "2023-05-14T09:39:24.689Z"
      },
      {
        "duration": 76,
        "start_time": "2023-05-14T09:39:35.348Z"
      },
      {
        "duration": 4,
        "start_time": "2023-05-14T09:46:29.192Z"
      },
      {
        "duration": 5,
        "start_time": "2023-05-14T09:46:38.011Z"
      },
      {
        "duration": 1804,
        "start_time": "2023-05-15T06:20:08.275Z"
      },
      {
        "duration": 3,
        "start_time": "2023-05-15T06:20:10.081Z"
      },
      {
        "duration": 3188,
        "start_time": "2023-05-15T06:20:15.419Z"
      },
      {
        "duration": 7,
        "start_time": "2023-05-15T06:20:24.514Z"
      },
      {
        "duration": 7,
        "start_time": "2023-05-15T06:20:24.850Z"
      },
      {
        "duration": 9,
        "start_time": "2023-05-15T06:20:27.454Z"
      },
      {
        "duration": 25,
        "start_time": "2023-05-15T06:27:28.806Z"
      },
      {
        "duration": 28,
        "start_time": "2023-05-15T06:27:43.281Z"
      },
      {
        "duration": 23,
        "start_time": "2023-05-15T06:33:34.988Z"
      },
      {
        "duration": 19,
        "start_time": "2023-05-15T06:39:51.783Z"
      },
      {
        "duration": 33,
        "start_time": "2023-05-15T06:40:07.350Z"
      },
      {
        "duration": 145,
        "start_time": "2023-05-15T06:40:14.400Z"
      },
      {
        "duration": 21,
        "start_time": "2023-05-15T06:40:18.164Z"
      },
      {
        "duration": 136,
        "start_time": "2023-05-15T06:42:27.409Z"
      },
      {
        "duration": 16,
        "start_time": "2023-05-15T06:42:37.586Z"
      },
      {
        "duration": 14,
        "start_time": "2023-05-15T06:42:52.033Z"
      },
      {
        "duration": 9,
        "start_time": "2023-05-15T06:44:56.393Z"
      },
      {
        "duration": 1729,
        "start_time": "2023-05-15T06:44:57.754Z"
      },
      {
        "duration": 5,
        "start_time": "2023-05-15T06:45:17.669Z"
      },
      {
        "duration": 4,
        "start_time": "2023-05-15T06:45:18.067Z"
      },
      {
        "duration": 5,
        "start_time": "2023-05-15T06:45:19.164Z"
      },
      {
        "duration": 5,
        "start_time": "2023-05-15T06:45:24.344Z"
      },
      {
        "duration": 4,
        "start_time": "2023-05-15T06:45:24.859Z"
      },
      {
        "duration": 8,
        "start_time": "2023-05-15T06:45:27.706Z"
      },
      {
        "duration": 29,
        "start_time": "2023-05-15T06:45:29.760Z"
      },
      {
        "duration": 4496,
        "start_time": "2023-05-15T06:45:33.594Z"
      },
      {
        "duration": 2281,
        "start_time": "2023-05-15T06:45:44.884Z"
      },
      {
        "duration": 243485,
        "start_time": "2023-05-15T06:47:43.515Z"
      },
      {
        "duration": 11,
        "start_time": "2023-05-15T06:53:59.745Z"
      },
      {
        "duration": 7,
        "start_time": "2023-05-15T06:54:05.028Z"
      },
      {
        "duration": 17,
        "start_time": "2023-05-15T06:54:06.700Z"
      },
      {
        "duration": 13,
        "start_time": "2023-05-15T06:56:07.814Z"
      },
      {
        "duration": 14,
        "start_time": "2023-05-15T06:56:19.428Z"
      },
      {
        "duration": 5,
        "start_time": "2023-05-15T06:56:41.800Z"
      },
      {
        "duration": 59595,
        "start_time": "2023-05-15T06:56:51.944Z"
      },
      {
        "duration": 6,
        "start_time": "2023-05-15T06:58:45.686Z"
      },
      {
        "duration": 63650,
        "start_time": "2023-05-15T06:59:04.782Z"
      },
      {
        "duration": 11,
        "start_time": "2023-05-15T07:01:13.007Z"
      },
      {
        "duration": 20,
        "start_time": "2023-05-15T07:01:20.276Z"
      },
      {
        "duration": 16,
        "start_time": "2023-05-15T07:01:36.221Z"
      },
      {
        "duration": 12,
        "start_time": "2023-05-15T07:01:48.858Z"
      },
      {
        "duration": 5,
        "start_time": "2023-05-15T07:01:59.115Z"
      },
      {
        "duration": 766,
        "start_time": "2023-05-15T07:02:38.820Z"
      },
      {
        "duration": 6,
        "start_time": "2023-05-15T07:02:45.276Z"
      },
      {
        "duration": 23,
        "start_time": "2023-05-15T07:02:50.262Z"
      },
      {
        "duration": 12,
        "start_time": "2023-05-15T07:02:50.772Z"
      },
      {
        "duration": 141,
        "start_time": "2023-05-15T07:02:55.003Z"
      },
      {
        "duration": 20,
        "start_time": "2023-05-15T07:02:56.022Z"
      },
      {
        "duration": 10,
        "start_time": "2023-05-15T07:03:00.222Z"
      },
      {
        "duration": 6,
        "start_time": "2023-05-15T07:03:03.840Z"
      },
      {
        "duration": 11,
        "start_time": "2023-05-15T07:03:18.984Z"
      },
      {
        "duration": 15,
        "start_time": "2023-05-15T07:03:54.328Z"
      },
      {
        "duration": 12,
        "start_time": "2023-05-15T07:04:38.505Z"
      },
      {
        "duration": 12,
        "start_time": "2023-05-15T07:04:57.205Z"
      },
      {
        "duration": 13,
        "start_time": "2023-05-15T07:06:42.963Z"
      },
      {
        "duration": 38,
        "start_time": "2023-05-15T07:06:53.346Z"
      },
      {
        "duration": 12,
        "start_time": "2023-05-15T07:07:10.955Z"
      },
      {
        "duration": 1491,
        "start_time": "2023-05-15T07:07:43.304Z"
      },
      {
        "duration": 2,
        "start_time": "2023-05-15T07:07:44.797Z"
      },
      {
        "duration": 5,
        "start_time": "2023-05-15T07:07:44.801Z"
      },
      {
        "duration": 734,
        "start_time": "2023-05-15T07:07:44.808Z"
      },
      {
        "duration": 10,
        "start_time": "2023-05-15T07:07:45.545Z"
      },
      {
        "duration": 9,
        "start_time": "2023-05-15T07:07:45.557Z"
      },
      {
        "duration": 9,
        "start_time": "2023-05-15T07:07:45.579Z"
      },
      {
        "duration": 112,
        "start_time": "2023-05-15T07:07:45.590Z"
      },
      {
        "duration": 60,
        "start_time": "2023-05-15T07:07:45.704Z"
      },
      {
        "duration": 20,
        "start_time": "2023-05-15T07:07:45.781Z"
      },
      {
        "duration": 19,
        "start_time": "2023-05-15T07:07:45.802Z"
      },
      {
        "duration": 104,
        "start_time": "2023-05-15T07:07:45.823Z"
      },
      {
        "duration": 186,
        "start_time": "2023-05-15T07:07:45.929Z"
      },
      {
        "duration": 22,
        "start_time": "2023-05-15T07:07:46.119Z"
      },
      {
        "duration": 11,
        "start_time": "2023-05-15T07:07:46.143Z"
      },
      {
        "duration": 24,
        "start_time": "2023-05-15T07:07:46.156Z"
      },
      {
        "duration": 156,
        "start_time": "2023-05-15T07:07:46.183Z"
      },
      {
        "duration": 0,
        "start_time": "2023-05-15T07:07:46.341Z"
      },
      {
        "duration": 0,
        "start_time": "2023-05-15T07:07:46.343Z"
      },
      {
        "duration": 0,
        "start_time": "2023-05-15T07:07:46.344Z"
      },
      {
        "duration": 0,
        "start_time": "2023-05-15T07:07:46.346Z"
      },
      {
        "duration": 0,
        "start_time": "2023-05-15T07:07:46.347Z"
      },
      {
        "duration": 0,
        "start_time": "2023-05-15T07:07:46.348Z"
      },
      {
        "duration": 0,
        "start_time": "2023-05-15T07:07:46.349Z"
      },
      {
        "duration": 0,
        "start_time": "2023-05-15T07:07:46.350Z"
      },
      {
        "duration": 0,
        "start_time": "2023-05-15T07:07:46.352Z"
      },
      {
        "duration": 0,
        "start_time": "2023-05-15T07:07:46.353Z"
      },
      {
        "duration": 0,
        "start_time": "2023-05-15T07:07:46.378Z"
      },
      {
        "duration": 0,
        "start_time": "2023-05-15T07:07:46.380Z"
      },
      {
        "duration": 3,
        "start_time": "2023-05-15T07:07:46.385Z"
      },
      {
        "duration": 6,
        "start_time": "2023-05-15T07:07:46.390Z"
      },
      {
        "duration": 9,
        "start_time": "2023-05-15T07:07:46.399Z"
      },
      {
        "duration": 20,
        "start_time": "2023-05-15T07:07:46.410Z"
      },
      {
        "duration": 71,
        "start_time": "2023-05-15T07:07:46.432Z"
      },
      {
        "duration": 17,
        "start_time": "2023-05-15T07:07:46.506Z"
      },
      {
        "duration": 0,
        "start_time": "2023-05-15T07:07:46.525Z"
      },
      {
        "duration": 0,
        "start_time": "2023-05-15T07:07:46.526Z"
      },
      {
        "duration": 0,
        "start_time": "2023-05-15T07:07:46.528Z"
      },
      {
        "duration": 0,
        "start_time": "2023-05-15T07:07:46.530Z"
      },
      {
        "duration": 3,
        "start_time": "2023-05-15T07:07:46.717Z"
      },
      {
        "duration": 18,
        "start_time": "2023-05-15T07:07:46.723Z"
      },
      {
        "duration": 0,
        "start_time": "2023-05-15T07:07:46.743Z"
      },
      {
        "duration": 0,
        "start_time": "2023-05-15T07:07:46.745Z"
      },
      {
        "duration": 0,
        "start_time": "2023-05-15T07:07:46.747Z"
      },
      {
        "duration": 12,
        "start_time": "2023-05-15T07:07:46.793Z"
      },
      {
        "duration": 0,
        "start_time": "2023-05-15T07:07:46.807Z"
      },
      {
        "duration": 0,
        "start_time": "2023-05-15T07:07:46.809Z"
      },
      {
        "duration": 0,
        "start_time": "2023-05-15T07:07:46.810Z"
      },
      {
        "duration": 4,
        "start_time": "2023-05-15T07:11:58.569Z"
      },
      {
        "duration": 4,
        "start_time": "2023-05-15T07:11:58.891Z"
      },
      {
        "duration": 4,
        "start_time": "2023-05-15T07:12:03.469Z"
      },
      {
        "duration": 5,
        "start_time": "2023-05-15T07:12:05.528Z"
      },
      {
        "duration": 9,
        "start_time": "2023-05-15T07:12:05.878Z"
      },
      {
        "duration": 6,
        "start_time": "2023-05-15T07:12:08.443Z"
      },
      {
        "duration": 17,
        "start_time": "2023-05-15T07:12:08.730Z"
      },
      {
        "duration": 24,
        "start_time": "2023-05-15T07:12:14.695Z"
      },
      {
        "duration": 7,
        "start_time": "2023-05-15T07:12:25.020Z"
      },
      {
        "duration": 23,
        "start_time": "2023-05-15T07:13:00.781Z"
      },
      {
        "duration": 22,
        "start_time": "2023-05-15T07:18:58.199Z"
      },
      {
        "duration": 4,
        "start_time": "2023-05-15T07:19:02.156Z"
      },
      {
        "duration": 36646,
        "start_time": "2023-05-15T07:19:10.349Z"
      },
      {
        "duration": 12,
        "start_time": "2023-05-15T07:20:17.593Z"
      },
      {
        "duration": 120106,
        "start_time": "2023-05-15T07:20:31.420Z"
      },
      {
        "duration": 73462,
        "start_time": "2023-05-15T07:22:38.455Z"
      },
      {
        "duration": 3804,
        "start_time": "2023-05-15T07:24:48.194Z"
      },
      {
        "duration": 4,
        "start_time": "2023-05-15T07:31:31.064Z"
      },
      {
        "duration": 3,
        "start_time": "2023-05-15T07:31:32.989Z"
      },
      {
        "duration": 5,
        "start_time": "2023-05-15T07:31:32.996Z"
      },
      {
        "duration": 718,
        "start_time": "2023-05-15T07:31:34.174Z"
      },
      {
        "duration": 6,
        "start_time": "2023-05-15T07:31:40.257Z"
      },
      {
        "duration": 16,
        "start_time": "2023-05-15T07:31:45.052Z"
      },
      {
        "duration": 13,
        "start_time": "2023-05-15T07:31:45.676Z"
      },
      {
        "duration": 71,
        "start_time": "2023-05-15T07:31:46.438Z"
      },
      {
        "duration": 15,
        "start_time": "2023-05-15T07:32:25.380Z"
      },
      {
        "duration": 13,
        "start_time": "2023-05-15T07:32:29.575Z"
      },
      {
        "duration": 1381,
        "start_time": "2023-05-15T07:34:48.901Z"
      },
      {
        "duration": 42,
        "start_time": "2023-05-15T07:40:26.897Z"
      },
      {
        "duration": 30,
        "start_time": "2023-05-15T07:41:25.479Z"
      },
      {
        "duration": 25,
        "start_time": "2023-05-15T07:42:07.307Z"
      },
      {
        "duration": 19,
        "start_time": "2023-05-15T07:42:13.453Z"
      },
      {
        "duration": 67,
        "start_time": "2023-05-16T07:47:27.309Z"
      },
      {
        "duration": 2119,
        "start_time": "2023-05-16T07:50:26.406Z"
      },
      {
        "duration": 3,
        "start_time": "2023-05-16T07:50:28.528Z"
      },
      {
        "duration": 8,
        "start_time": "2023-05-16T07:50:28.778Z"
      },
      {
        "duration": 2360,
        "start_time": "2023-05-16T07:50:31.625Z"
      },
      {
        "duration": 8,
        "start_time": "2023-05-16T07:50:38.048Z"
      },
      {
        "duration": 6,
        "start_time": "2023-05-16T07:50:38.336Z"
      },
      {
        "duration": 8,
        "start_time": "2023-05-16T07:50:41.811Z"
      },
      {
        "duration": 74,
        "start_time": "2023-05-16T07:50:52.985Z"
      },
      {
        "duration": 4018,
        "start_time": "2023-05-16T07:50:59.602Z"
      },
      {
        "duration": 32,
        "start_time": "2023-05-16T07:51:03.623Z"
      },
      {
        "duration": 46,
        "start_time": "2023-05-16T07:51:16.343Z"
      },
      {
        "duration": 34,
        "start_time": "2023-05-16T07:51:17.660Z"
      },
      {
        "duration": 144,
        "start_time": "2023-05-16T07:51:19.179Z"
      },
      {
        "duration": 27,
        "start_time": "2023-05-16T07:52:02.176Z"
      },
      {
        "duration": 18,
        "start_time": "2023-05-16T07:53:08.535Z"
      },
      {
        "duration": 14,
        "start_time": "2023-05-16T07:53:08.950Z"
      },
      {
        "duration": 86,
        "start_time": "2023-05-16T07:53:10.251Z"
      },
      {
        "duration": 199,
        "start_time": "2023-05-16T07:53:13.258Z"
      },
      {
        "duration": 27,
        "start_time": "2023-05-16T07:53:13.742Z"
      },
      {
        "duration": 23,
        "start_time": "2023-05-16T07:53:13.937Z"
      },
      {
        "duration": 31,
        "start_time": "2023-05-16T07:53:15.760Z"
      },
      {
        "duration": 7,
        "start_time": "2023-05-16T07:53:23.943Z"
      },
      {
        "duration": 20,
        "start_time": "2023-05-16T07:53:26.789Z"
      },
      {
        "duration": 8,
        "start_time": "2023-05-16T07:53:36.348Z"
      },
      {
        "duration": 1496,
        "start_time": "2023-05-16T07:53:40.357Z"
      },
      {
        "duration": 20,
        "start_time": "2023-05-16T07:54:39.866Z"
      },
      {
        "duration": 68,
        "start_time": "2023-05-16T07:56:02.595Z"
      },
      {
        "duration": 22,
        "start_time": "2023-05-16T07:57:12.134Z"
      },
      {
        "duration": 19,
        "start_time": "2023-05-16T07:57:28.792Z"
      },
      {
        "duration": 6,
        "start_time": "2023-05-16T08:02:32.822Z"
      },
      {
        "duration": 3,
        "start_time": "2023-05-16T08:02:33.123Z"
      },
      {
        "duration": 3,
        "start_time": "2023-05-16T08:02:33.312Z"
      },
      {
        "duration": 944,
        "start_time": "2023-05-16T08:02:34.104Z"
      },
      {
        "duration": 7,
        "start_time": "2023-05-16T08:02:39.352Z"
      },
      {
        "duration": 6,
        "start_time": "2023-05-16T08:02:39.624Z"
      },
      {
        "duration": 5,
        "start_time": "2023-05-16T08:02:42.527Z"
      },
      {
        "duration": 82,
        "start_time": "2023-05-16T08:02:45.262Z"
      },
      {
        "duration": 57,
        "start_time": "2023-05-16T08:02:45.458Z"
      },
      {
        "duration": 3,
        "start_time": "2023-05-16T08:03:10.730Z"
      },
      {
        "duration": 348,
        "start_time": "2023-05-16T08:03:49.453Z"
      },
      {
        "duration": 16,
        "start_time": "2023-05-16T08:04:11.656Z"
      },
      {
        "duration": 392,
        "start_time": "2023-05-16T08:04:56.917Z"
      },
      {
        "duration": 312,
        "start_time": "2023-05-16T08:06:38.356Z"
      },
      {
        "duration": 321,
        "start_time": "2023-05-16T08:06:44.825Z"
      },
      {
        "duration": 341,
        "start_time": "2023-05-16T08:06:58.381Z"
      },
      {
        "duration": 37,
        "start_time": "2023-05-16T08:08:01.682Z"
      },
      {
        "duration": 3,
        "start_time": "2023-05-16T08:08:11.527Z"
      },
      {
        "duration": 34,
        "start_time": "2023-05-16T08:08:11.751Z"
      },
      {
        "duration": 24,
        "start_time": "2023-05-16T08:09:05.358Z"
      },
      {
        "duration": 107,
        "start_time": "2023-05-16T08:10:20.221Z"
      },
      {
        "duration": 5,
        "start_time": "2023-05-16T08:10:25.740Z"
      },
      {
        "duration": 19,
        "start_time": "2023-05-16T08:11:53.080Z"
      },
      {
        "duration": 12,
        "start_time": "2023-05-16T08:15:26.334Z"
      },
      {
        "duration": 13,
        "start_time": "2023-05-16T08:15:34.320Z"
      },
      {
        "duration": 1015,
        "start_time": "2023-05-16T08:15:46.578Z"
      },
      {
        "duration": 11,
        "start_time": "2023-05-16T08:15:50.184Z"
      },
      {
        "duration": 21,
        "start_time": "2023-05-16T08:15:54.802Z"
      },
      {
        "duration": 23,
        "start_time": "2023-05-16T08:16:17.700Z"
      },
      {
        "duration": 31,
        "start_time": "2023-05-16T08:16:30.320Z"
      },
      {
        "duration": 26,
        "start_time": "2023-05-16T08:16:31.581Z"
      },
      {
        "duration": 922,
        "start_time": "2023-05-16T08:17:28.190Z"
      },
      {
        "duration": 11,
        "start_time": "2023-05-16T08:17:33.978Z"
      },
      {
        "duration": 109,
        "start_time": "2023-05-16T08:17:55.816Z"
      },
      {
        "duration": 24,
        "start_time": "2023-05-16T08:18:04.022Z"
      },
      {
        "duration": 43,
        "start_time": "2023-05-16T08:18:11.459Z"
      },
      {
        "duration": 29,
        "start_time": "2023-05-16T08:18:23.279Z"
      },
      {
        "duration": 32,
        "start_time": "2023-05-16T08:18:35.925Z"
      },
      {
        "duration": 5,
        "start_time": "2023-05-16T08:25:46.300Z"
      },
      {
        "duration": 3,
        "start_time": "2023-05-16T08:25:46.466Z"
      },
      {
        "duration": 4,
        "start_time": "2023-05-16T08:25:46.974Z"
      },
      {
        "duration": 839,
        "start_time": "2023-05-16T08:25:48.025Z"
      },
      {
        "duration": 5,
        "start_time": "2023-05-16T08:25:53.248Z"
      },
      {
        "duration": 314,
        "start_time": "2023-05-16T08:27:19.920Z"
      },
      {
        "duration": 26,
        "start_time": "2023-05-16T08:27:30.248Z"
      },
      {
        "duration": 86,
        "start_time": "2023-05-16T08:27:37.573Z"
      },
      {
        "duration": 45,
        "start_time": "2023-05-16T08:27:57.186Z"
      },
      {
        "duration": 66,
        "start_time": "2023-05-16T08:28:04.228Z"
      },
      {
        "duration": 78,
        "start_time": "2023-05-16T08:28:38.620Z"
      },
      {
        "duration": 76,
        "start_time": "2023-05-16T08:29:17.933Z"
      },
      {
        "duration": 18,
        "start_time": "2023-05-16T08:31:23.970Z"
      },
      {
        "duration": 14,
        "start_time": "2023-05-16T08:31:38.901Z"
      },
      {
        "duration": 14,
        "start_time": "2023-05-16T08:33:16.916Z"
      },
      {
        "duration": 19,
        "start_time": "2023-05-16T08:33:34.321Z"
      },
      {
        "duration": 82,
        "start_time": "2023-05-16T08:33:40.548Z"
      },
      {
        "duration": 5,
        "start_time": "2023-05-16T08:43:31.948Z"
      },
      {
        "duration": 3,
        "start_time": "2023-05-16T08:43:32.309Z"
      },
      {
        "duration": 3,
        "start_time": "2023-05-16T08:43:32.953Z"
      },
      {
        "duration": 784,
        "start_time": "2023-05-16T08:43:33.572Z"
      },
      {
        "duration": 6,
        "start_time": "2023-05-16T08:43:36.664Z"
      },
      {
        "duration": 6,
        "start_time": "2023-05-16T08:43:37.033Z"
      },
      {
        "duration": 5,
        "start_time": "2023-05-16T08:43:39.327Z"
      },
      {
        "duration": 64,
        "start_time": "2023-05-16T08:43:42.209Z"
      },
      {
        "duration": 44,
        "start_time": "2023-05-16T08:43:42.578Z"
      },
      {
        "duration": 12,
        "start_time": "2023-05-16T08:43:54.536Z"
      },
      {
        "duration": 83,
        "start_time": "2023-05-16T08:43:56.397Z"
      },
      {
        "duration": 11,
        "start_time": "2023-05-16T08:44:14.946Z"
      },
      {
        "duration": 12,
        "start_time": "2023-05-16T08:44:20.943Z"
      },
      {
        "duration": 24,
        "start_time": "2023-05-16T08:44:31.440Z"
      },
      {
        "duration": 16,
        "start_time": "2023-05-16T08:44:32.478Z"
      },
      {
        "duration": 16,
        "start_time": "2023-05-16T08:44:33.016Z"
      },
      {
        "duration": 5,
        "start_time": "2023-05-16T08:44:48.814Z"
      },
      {
        "duration": 1183,
        "start_time": "2023-05-16T08:44:49.388Z"
      },
      {
        "duration": 24,
        "start_time": "2023-05-16T08:46:19.132Z"
      },
      {
        "duration": 18,
        "start_time": "2023-05-16T08:46:38.949Z"
      },
      {
        "duration": 13,
        "start_time": "2023-05-16T08:49:03.137Z"
      },
      {
        "duration": 41,
        "start_time": "2023-05-16T08:49:07.885Z"
      },
      {
        "duration": 3845,
        "start_time": "2023-05-16T08:52:40.893Z"
      },
      {
        "duration": 16,
        "start_time": "2023-05-16T08:53:19.876Z"
      },
      {
        "duration": 3580,
        "start_time": "2023-05-16T08:53:33.618Z"
      },
      {
        "duration": 3541,
        "start_time": "2023-05-16T08:54:02.353Z"
      },
      {
        "duration": 3510,
        "start_time": "2023-05-16T08:54:15.918Z"
      },
      {
        "duration": 5,
        "start_time": "2023-05-16T09:04:43.422Z"
      },
      {
        "duration": 3,
        "start_time": "2023-05-16T09:04:44.210Z"
      },
      {
        "duration": 3,
        "start_time": "2023-05-16T09:04:45.291Z"
      },
      {
        "duration": 864,
        "start_time": "2023-05-16T09:04:45.987Z"
      },
      {
        "duration": 6,
        "start_time": "2023-05-16T09:04:50.184Z"
      },
      {
        "duration": 6,
        "start_time": "2023-05-16T09:04:50.421Z"
      },
      {
        "duration": 5,
        "start_time": "2023-05-16T09:04:53.756Z"
      },
      {
        "duration": 5,
        "start_time": "2023-05-16T11:53:26.066Z"
      },
      {
        "duration": 3,
        "start_time": "2023-05-16T11:53:26.484Z"
      },
      {
        "duration": 3,
        "start_time": "2023-05-16T11:53:27.568Z"
      },
      {
        "duration": 738,
        "start_time": "2023-05-16T11:53:29.184Z"
      },
      {
        "duration": 6,
        "start_time": "2023-05-16T11:53:34.273Z"
      },
      {
        "duration": 71,
        "start_time": "2023-05-16T11:53:35.205Z"
      },
      {
        "duration": 64,
        "start_time": "2023-05-16T11:53:35.416Z"
      },
      {
        "duration": 78,
        "start_time": "2023-05-16T11:55:07.423Z"
      },
      {
        "duration": 16,
        "start_time": "2023-05-16T11:55:18.483Z"
      },
      {
        "duration": 14,
        "start_time": "2023-05-16T11:55:22.763Z"
      },
      {
        "duration": 12,
        "start_time": "2023-05-16T11:55:44.794Z"
      },
      {
        "duration": 15,
        "start_time": "2023-05-16T11:55:50.011Z"
      },
      {
        "duration": 15,
        "start_time": "2023-05-16T11:55:52.356Z"
      },
      {
        "duration": 16,
        "start_time": "2023-05-16T11:55:55.363Z"
      },
      {
        "duration": 23,
        "start_time": "2023-05-16T11:55:57.552Z"
      },
      {
        "duration": 7,
        "start_time": "2023-05-16T11:56:07.252Z"
      },
      {
        "duration": 7,
        "start_time": "2023-05-16T11:56:12.284Z"
      },
      {
        "duration": 7,
        "start_time": "2023-05-16T11:56:51.061Z"
      },
      {
        "duration": 5,
        "start_time": "2023-05-16T11:57:17.050Z"
      },
      {
        "duration": 8,
        "start_time": "2023-05-16T11:57:38.615Z"
      },
      {
        "duration": 5,
        "start_time": "2023-05-16T11:57:50.661Z"
      },
      {
        "duration": 3,
        "start_time": "2023-05-16T11:57:55.619Z"
      },
      {
        "duration": 8,
        "start_time": "2023-05-16T11:57:57.023Z"
      },
      {
        "duration": 23,
        "start_time": "2023-05-16T11:58:05.920Z"
      },
      {
        "duration": 33,
        "start_time": "2023-05-16T11:58:14.449Z"
      },
      {
        "duration": 7,
        "start_time": "2023-05-16T11:58:16.806Z"
      },
      {
        "duration": 5,
        "start_time": "2023-05-16T11:58:21.812Z"
      },
      {
        "duration": 1316,
        "start_time": "2023-05-16T11:58:22.350Z"
      },
      {
        "duration": 6,
        "start_time": "2023-05-16T12:00:10.804Z"
      },
      {
        "duration": 3,
        "start_time": "2023-05-16T12:00:12.074Z"
      },
      {
        "duration": 4,
        "start_time": "2023-05-16T12:00:12.237Z"
      },
      {
        "duration": 845,
        "start_time": "2023-05-16T12:00:12.951Z"
      },
      {
        "duration": 6,
        "start_time": "2023-05-16T12:00:16.806Z"
      },
      {
        "duration": 15,
        "start_time": "2023-05-16T12:00:23.270Z"
      },
      {
        "duration": 20,
        "start_time": "2023-05-16T12:00:23.287Z"
      },
      {
        "duration": 100,
        "start_time": "2023-05-16T12:00:23.790Z"
      },
      {
        "duration": 151,
        "start_time": "2023-05-16T12:00:27.290Z"
      },
      {
        "duration": 32,
        "start_time": "2023-05-16T12:00:30.137Z"
      },
      {
        "duration": 52,
        "start_time": "2023-05-16T12:00:31.483Z"
      },
      {
        "duration": 20,
        "start_time": "2023-05-16T12:02:18.289Z"
      },
      {
        "duration": 28,
        "start_time": "2023-05-16T12:02:27.719Z"
      },
      {
        "duration": 5,
        "start_time": "2023-05-16T12:03:26.984Z"
      },
      {
        "duration": 3,
        "start_time": "2023-05-16T12:03:27.582Z"
      },
      {
        "duration": 4,
        "start_time": "2023-05-16T12:03:27.587Z"
      },
      {
        "duration": 768,
        "start_time": "2023-05-16T12:03:28.142Z"
      },
      {
        "duration": 10,
        "start_time": "2023-05-16T12:03:32.522Z"
      },
      {
        "duration": 14,
        "start_time": "2023-05-16T12:03:36.368Z"
      },
      {
        "duration": 12,
        "start_time": "2023-05-16T12:03:37.534Z"
      },
      {
        "duration": 99,
        "start_time": "2023-05-16T12:03:38.406Z"
      },
      {
        "duration": 5,
        "start_time": "2023-05-16T12:04:56.736Z"
      },
      {
        "duration": 21,
        "start_time": "2023-05-16T12:05:16.535Z"
      },
      {
        "duration": 11,
        "start_time": "2023-05-16T12:05:25.852Z"
      },
      {
        "duration": 19,
        "start_time": "2023-05-16T12:05:57.868Z"
      },
      {
        "duration": 11,
        "start_time": "2023-05-16T12:06:07.406Z"
      },
      {
        "duration": 12,
        "start_time": "2023-05-16T12:06:12.563Z"
      },
      {
        "duration": 2,
        "start_time": "2023-05-16T12:06:15.609Z"
      },
      {
        "duration": 14,
        "start_time": "2023-05-16T12:06:35.145Z"
      },
      {
        "duration": 6,
        "start_time": "2023-05-16T12:08:00.070Z"
      },
      {
        "duration": 3,
        "start_time": "2023-05-16T12:08:00.445Z"
      },
      {
        "duration": 3,
        "start_time": "2023-05-16T12:08:00.641Z"
      },
      {
        "duration": 875,
        "start_time": "2023-05-16T12:08:01.121Z"
      },
      {
        "duration": 7,
        "start_time": "2023-05-16T12:08:05.301Z"
      },
      {
        "duration": 20,
        "start_time": "2023-05-16T12:08:08.701Z"
      },
      {
        "duration": 21,
        "start_time": "2023-05-16T12:08:09.018Z"
      },
      {
        "duration": 79,
        "start_time": "2023-05-16T12:08:09.740Z"
      },
      {
        "duration": 165,
        "start_time": "2023-05-16T12:08:14.534Z"
      },
      {
        "duration": 32,
        "start_time": "2023-05-16T12:08:17.434Z"
      },
      {
        "duration": 83,
        "start_time": "2023-05-16T12:08:23.710Z"
      },
      {
        "duration": 18,
        "start_time": "2023-05-16T12:10:07.946Z"
      },
      {
        "duration": 16,
        "start_time": "2023-05-16T12:10:10.021Z"
      },
      {
        "duration": 88,
        "start_time": "2023-05-16T12:10:59.045Z"
      },
      {
        "duration": 725,
        "start_time": "2023-05-16T12:11:30.373Z"
      },
      {
        "duration": 104,
        "start_time": "2023-05-16T12:11:38.074Z"
      },
      {
        "duration": 1262,
        "start_time": "2023-05-16T12:12:30.377Z"
      },
      {
        "duration": 1225,
        "start_time": "2023-05-16T12:12:31.641Z"
      },
      {
        "duration": 10,
        "start_time": "2023-05-16T12:13:31.782Z"
      },
      {
        "duration": 30,
        "start_time": "2023-05-16T12:13:41.609Z"
      },
      {
        "duration": 1369,
        "start_time": "2023-05-16T12:13:46.503Z"
      },
      {
        "duration": 15,
        "start_time": "2023-05-16T12:14:25.479Z"
      },
      {
        "duration": 50,
        "start_time": "2023-05-16T12:14:26.145Z"
      },
      {
        "duration": 1317,
        "start_time": "2023-05-16T12:14:30.049Z"
      },
      {
        "duration": 1359,
        "start_time": "2023-05-16T12:14:42.161Z"
      },
      {
        "duration": 1384,
        "start_time": "2023-05-16T12:14:50.645Z"
      },
      {
        "duration": 31,
        "start_time": "2023-05-16T12:16:19.142Z"
      },
      {
        "duration": 1475,
        "start_time": "2023-05-16T12:16:24.633Z"
      },
      {
        "duration": 1433,
        "start_time": "2023-05-16T12:16:33.445Z"
      },
      {
        "duration": 1740,
        "start_time": "2023-05-16T12:17:27.081Z"
      },
      {
        "duration": 25,
        "start_time": "2023-05-16T12:17:36.170Z"
      },
      {
        "duration": 1439,
        "start_time": "2023-05-16T12:17:39.780Z"
      },
      {
        "duration": 29,
        "start_time": "2023-05-16T12:18:20.847Z"
      },
      {
        "duration": 1482,
        "start_time": "2023-05-16T12:18:25.580Z"
      },
      {
        "duration": 24,
        "start_time": "2023-05-16T12:19:30.899Z"
      },
      {
        "duration": 16,
        "start_time": "2023-05-16T12:19:50.763Z"
      },
      {
        "duration": 3,
        "start_time": "2023-05-16T12:19:51.029Z"
      },
      {
        "duration": 6,
        "start_time": "2023-05-16T12:19:51.217Z"
      },
      {
        "duration": 896,
        "start_time": "2023-05-16T12:19:51.749Z"
      },
      {
        "duration": 23,
        "start_time": "2023-05-16T12:19:59.786Z"
      },
      {
        "duration": 3393,
        "start_time": "2023-05-16T12:20:00.141Z"
      },
      {
        "duration": 2087,
        "start_time": "2023-05-16T12:20:03.536Z"
      },
      {
        "duration": 253,
        "start_time": "2023-05-16T12:20:09.349Z"
      },
      {
        "duration": 35,
        "start_time": "2023-05-16T12:20:10.163Z"
      },
      {
        "duration": 15,
        "start_time": "2023-05-16T12:20:16.101Z"
      },
      {
        "duration": 30,
        "start_time": "2023-05-16T12:20:16.895Z"
      },
      {
        "duration": 13,
        "start_time": "2023-05-16T12:20:18.859Z"
      },
      {
        "duration": 17,
        "start_time": "2023-05-16T12:20:20.897Z"
      },
      {
        "duration": 4,
        "start_time": "2023-05-16T12:20:30.496Z"
      },
      {
        "duration": 5,
        "start_time": "2023-05-16T12:20:30.746Z"
      },
      {
        "duration": 3,
        "start_time": "2023-05-16T12:20:34.607Z"
      },
      {
        "duration": 13,
        "start_time": "2023-05-16T12:20:36.171Z"
      },
      {
        "duration": 6,
        "start_time": "2023-05-16T12:20:36.949Z"
      },
      {
        "duration": 7,
        "start_time": "2023-05-16T12:20:39.079Z"
      },
      {
        "duration": 32,
        "start_time": "2023-05-16T12:20:45.892Z"
      },
      {
        "duration": 7123,
        "start_time": "2023-05-16T12:20:48.369Z"
      },
      {
        "duration": 1377,
        "start_time": "2023-05-16T12:21:02.194Z"
      },
      {
        "duration": 71816,
        "start_time": "2023-05-16T12:21:08.745Z"
      },
      {
        "duration": 14,
        "start_time": "2023-05-16T12:22:28.600Z"
      },
      {
        "duration": 11,
        "start_time": "2023-05-16T12:22:36.965Z"
      },
      {
        "duration": 24,
        "start_time": "2023-05-16T12:22:38.249Z"
      },
      {
        "duration": 5,
        "start_time": "2023-05-16T12:22:43.015Z"
      },
      {
        "duration": 18901,
        "start_time": "2023-05-16T12:22:45.283Z"
      },
      {
        "duration": 14,
        "start_time": "2023-05-16T12:23:04.196Z"
      },
      {
        "duration": 2046,
        "start_time": "2023-05-16T12:29:12.271Z"
      },
      {
        "duration": 1845,
        "start_time": "2023-05-16T12:29:14.771Z"
      },
      {
        "duration": 9,
        "start_time": "2023-05-16T12:29:28.257Z"
      },
      {
        "duration": 4,
        "start_time": "2023-05-16T12:29:28.445Z"
      },
      {
        "duration": 3,
        "start_time": "2023-05-16T12:29:28.591Z"
      },
      {
        "duration": 854,
        "start_time": "2023-05-16T12:29:29.167Z"
      },
      {
        "duration": 8,
        "start_time": "2023-05-16T12:29:33.116Z"
      },
      {
        "duration": 6,
        "start_time": "2023-05-16T12:29:33.519Z"
      },
      {
        "duration": 5,
        "start_time": "2023-05-16T12:29:36.319Z"
      },
      {
        "duration": 14,
        "start_time": "2023-05-16T12:29:43.623Z"
      },
      {
        "duration": 11,
        "start_time": "2023-05-16T12:29:44.546Z"
      },
      {
        "duration": 81,
        "start_time": "2023-05-16T12:29:45.183Z"
      },
      {
        "duration": 165,
        "start_time": "2023-05-16T12:29:47.147Z"
      },
      {
        "duration": 26,
        "start_time": "2023-05-16T12:29:47.451Z"
      },
      {
        "duration": 76,
        "start_time": "2023-05-16T12:29:48.050Z"
      },
      {
        "duration": 11,
        "start_time": "2023-05-16T12:29:50.019Z"
      },
      {
        "duration": 26,
        "start_time": "2023-05-16T12:29:50.495Z"
      },
      {
        "duration": 6,
        "start_time": "2023-05-16T12:29:55.652Z"
      },
      {
        "duration": 1555,
        "start_time": "2023-05-16T12:29:57.967Z"
      },
      {
        "duration": 0,
        "start_time": "2023-05-16T12:29:59.523Z"
      },
      {
        "duration": 1687,
        "start_time": "2023-05-16T12:30:43.508Z"
      },
      {
        "duration": 1760,
        "start_time": "2023-05-16T12:31:09.571Z"
      },
      {
        "duration": 26,
        "start_time": "2023-05-16T12:31:23.257Z"
      },
      {
        "duration": 2252,
        "start_time": "2023-05-16T12:34:02.461Z"
      },
      {
        "duration": 6,
        "start_time": "2023-05-16T12:34:13.674Z"
      },
      {
        "duration": 7,
        "start_time": "2023-05-16T12:34:13.892Z"
      },
      {
        "duration": 8,
        "start_time": "2023-05-16T12:34:14.157Z"
      },
      {
        "duration": 853,
        "start_time": "2023-05-16T12:34:14.583Z"
      },
      {
        "duration": 8,
        "start_time": "2023-05-16T12:34:17.499Z"
      },
      {
        "duration": 5,
        "start_time": "2023-05-16T12:34:17.787Z"
      },
      {
        "duration": 6,
        "start_time": "2023-05-16T12:34:20.172Z"
      },
      {
        "duration": 16,
        "start_time": "2023-05-16T12:34:24.876Z"
      },
      {
        "duration": 11,
        "start_time": "2023-05-16T12:34:26.119Z"
      },
      {
        "duration": 87,
        "start_time": "2023-05-16T12:34:26.507Z"
      },
      {
        "duration": 277,
        "start_time": "2023-05-16T12:34:29.896Z"
      },
      {
        "duration": 25,
        "start_time": "2023-05-16T12:34:30.176Z"
      },
      {
        "duration": 86,
        "start_time": "2023-05-16T12:34:33.177Z"
      },
      {
        "duration": 11,
        "start_time": "2023-05-16T12:34:44.012Z"
      },
      {
        "duration": 6,
        "start_time": "2023-05-16T12:36:04.519Z"
      },
      {
        "duration": 15,
        "start_time": "2023-05-16T12:36:07.624Z"
      },
      {
        "duration": 2042,
        "start_time": "2023-05-16T12:36:11.503Z"
      },
      {
        "duration": 21,
        "start_time": "2023-05-16T12:36:37.148Z"
      },
      {
        "duration": 6,
        "start_time": "2023-05-16T12:37:11.210Z"
      },
      {
        "duration": 4,
        "start_time": "2023-05-16T12:37:11.816Z"
      },
      {
        "duration": 5,
        "start_time": "2023-05-16T12:37:11.823Z"
      },
      {
        "duration": 794,
        "start_time": "2023-05-16T12:37:12.508Z"
      },
      {
        "duration": 8,
        "start_time": "2023-05-16T12:37:17.983Z"
      },
      {
        "duration": 6,
        "start_time": "2023-05-16T12:37:18.173Z"
      },
      {
        "duration": 8,
        "start_time": "2023-05-16T12:37:20.283Z"
      },
      {
        "duration": 21,
        "start_time": "2023-05-16T12:37:24.579Z"
      },
      {
        "duration": 12,
        "start_time": "2023-05-16T12:37:25.150Z"
      },
      {
        "duration": 71,
        "start_time": "2023-05-16T12:37:36.115Z"
      },
      {
        "duration": 165,
        "start_time": "2023-05-16T12:37:36.189Z"
      },
      {
        "duration": 23,
        "start_time": "2023-05-16T12:37:36.356Z"
      },
      {
        "duration": 10,
        "start_time": "2023-05-16T12:37:36.381Z"
      },
      {
        "duration": 24,
        "start_time": "2023-05-16T12:37:55.992Z"
      },
      {
        "duration": 32,
        "start_time": "2023-05-16T12:38:01.365Z"
      },
      {
        "duration": 1949,
        "start_time": "2023-05-16T12:38:09.747Z"
      },
      {
        "duration": 25,
        "start_time": "2023-05-16T12:39:01.076Z"
      },
      {
        "duration": 11,
        "start_time": "2023-05-16T12:39:30.168Z"
      },
      {
        "duration": 4,
        "start_time": "2023-05-16T12:39:37.909Z"
      },
      {
        "duration": 5,
        "start_time": "2023-05-16T12:39:38.269Z"
      },
      {
        "duration": 4,
        "start_time": "2023-05-16T12:39:39.820Z"
      },
      {
        "duration": 3,
        "start_time": "2023-05-16T12:39:40.973Z"
      },
      {
        "duration": 5,
        "start_time": "2023-05-16T12:39:41.520Z"
      },
      {
        "duration": 10,
        "start_time": "2023-05-16T12:39:44.568Z"
      },
      {
        "duration": 31,
        "start_time": "2023-05-16T12:39:47.797Z"
      },
      {
        "duration": 6009,
        "start_time": "2023-05-16T12:39:49.373Z"
      },
      {
        "duration": 1616,
        "start_time": "2023-05-16T12:39:55.455Z"
      },
      {
        "duration": 77358,
        "start_time": "2023-05-16T12:39:57.073Z"
      },
      {
        "duration": 8,
        "start_time": "2023-05-16T12:41:14.434Z"
      },
      {
        "duration": 27,
        "start_time": "2023-05-16T12:41:14.444Z"
      },
      {
        "duration": 7,
        "start_time": "2023-05-16T12:41:14.476Z"
      },
      {
        "duration": 19775,
        "start_time": "2023-05-16T12:41:14.488Z"
      },
      {
        "duration": 18,
        "start_time": "2023-05-16T12:41:34.271Z"
      },
      {
        "duration": 1867,
        "start_time": "2023-05-16T17:58:26.448Z"
      },
      {
        "duration": 3,
        "start_time": "2023-05-16T17:58:30.636Z"
      },
      {
        "duration": 3,
        "start_time": "2023-05-16T17:58:30.954Z"
      },
      {
        "duration": 2683,
        "start_time": "2023-05-16T17:58:34.600Z"
      },
      {
        "duration": 7,
        "start_time": "2023-05-16T17:58:42.647Z"
      },
      {
        "duration": 6,
        "start_time": "2023-05-16T17:58:43.104Z"
      },
      {
        "duration": 19,
        "start_time": "2023-05-16T17:58:46.206Z"
      },
      {
        "duration": 16,
        "start_time": "2023-05-16T17:58:52.204Z"
      },
      {
        "duration": 18,
        "start_time": "2023-05-16T17:58:53.008Z"
      },
      {
        "duration": 101,
        "start_time": "2023-05-16T17:58:54.509Z"
      },
      {
        "duration": 188,
        "start_time": "2023-05-16T17:58:59.518Z"
      },
      {
        "duration": 22,
        "start_time": "2023-05-16T17:59:01.017Z"
      },
      {
        "duration": 85,
        "start_time": "2023-05-16T17:59:03.209Z"
      },
      {
        "duration": 15,
        "start_time": "2023-05-16T17:59:11.555Z"
      },
      {
        "duration": 15,
        "start_time": "2023-05-16T17:59:17.714Z"
      },
      {
        "duration": 9,
        "start_time": "2023-05-16T17:59:27.808Z"
      },
      {
        "duration": 5,
        "start_time": "2023-05-16T17:59:52.008Z"
      },
      {
        "duration": 1558,
        "start_time": "2023-05-16T17:59:53.778Z"
      },
      {
        "duration": 1557,
        "start_time": "2023-05-16T17:59:55.631Z"
      },
      {
        "duration": 1608,
        "start_time": "2023-05-16T17:59:57.190Z"
      },
      {
        "duration": 4,
        "start_time": "2023-05-16T18:00:10.045Z"
      },
      {
        "duration": 5,
        "start_time": "2023-05-16T18:00:10.305Z"
      },
      {
        "duration": 407,
        "start_time": "2023-05-16T18:00:10.605Z"
      },
      {
        "duration": 10,
        "start_time": "2023-05-16T18:00:11.578Z"
      },
      {
        "duration": 194,
        "start_time": "2023-05-16T18:00:11.800Z"
      },
      {
        "duration": 4,
        "start_time": "2023-05-16T18:00:14.005Z"
      },
      {
        "duration": 4,
        "start_time": "2023-05-16T18:00:14.142Z"
      },
      {
        "duration": 7,
        "start_time": "2023-05-16T18:00:14.917Z"
      },
      {
        "duration": 3,
        "start_time": "2023-05-16T18:00:16.006Z"
      },
      {
        "duration": 3,
        "start_time": "2023-05-16T18:00:16.617Z"
      },
      {
        "duration": 7,
        "start_time": "2023-05-16T18:00:17.804Z"
      },
      {
        "duration": 13,
        "start_time": "2023-05-16T18:00:18.604Z"
      },
      {
        "duration": 25,
        "start_time": "2023-05-16T18:00:27.705Z"
      },
      {
        "duration": 7365,
        "start_time": "2023-05-16T18:00:31.120Z"
      },
      {
        "duration": 1500,
        "start_time": "2023-05-16T18:00:44.080Z"
      },
      {
        "duration": 80331,
        "start_time": "2023-05-16T18:00:48.304Z"
      },
      {
        "duration": 6,
        "start_time": "2023-05-16T18:02:08.637Z"
      },
      {
        "duration": 27,
        "start_time": "2023-05-16T18:02:08.645Z"
      },
      {
        "duration": 14,
        "start_time": "2023-05-16T18:02:08.674Z"
      },
      {
        "duration": 19909,
        "start_time": "2023-05-16T18:02:08.689Z"
      },
      {
        "duration": 9,
        "start_time": "2023-05-16T18:02:28.603Z"
      },
      {
        "duration": 121,
        "start_time": "2023-05-16T18:02:43.781Z"
      },
      {
        "duration": 14,
        "start_time": "2023-05-16T18:02:46.300Z"
      },
      {
        "duration": 47,
        "start_time": "2023-05-16T18:02:46.628Z"
      },
      {
        "duration": 1578,
        "start_time": "2023-05-16T18:03:13.224Z"
      },
      {
        "duration": 5,
        "start_time": "2023-05-16T18:03:14.804Z"
      },
      {
        "duration": 14,
        "start_time": "2023-05-16T18:03:14.811Z"
      },
      {
        "duration": 873,
        "start_time": "2023-05-16T18:03:14.827Z"
      },
      {
        "duration": 8,
        "start_time": "2023-05-16T18:03:15.703Z"
      },
      {
        "duration": 23,
        "start_time": "2023-05-16T18:03:15.712Z"
      },
      {
        "duration": 15,
        "start_time": "2023-05-16T18:03:15.737Z"
      },
      {
        "duration": 64,
        "start_time": "2023-05-16T18:03:15.754Z"
      },
      {
        "duration": 34,
        "start_time": "2023-05-16T18:03:15.819Z"
      },
      {
        "duration": 21,
        "start_time": "2023-05-16T18:03:15.855Z"
      },
      {
        "duration": 46,
        "start_time": "2023-05-16T18:03:15.877Z"
      },
      {
        "duration": 77,
        "start_time": "2023-05-16T18:03:15.926Z"
      },
      {
        "duration": 161,
        "start_time": "2023-05-16T18:03:16.005Z"
      },
      {
        "duration": 37,
        "start_time": "2023-05-16T18:03:16.170Z"
      },
      {
        "duration": 57,
        "start_time": "2023-05-16T18:03:16.208Z"
      },
      {
        "duration": 64,
        "start_time": "2023-05-16T18:03:16.267Z"
      },
      {
        "duration": 30,
        "start_time": "2023-05-16T18:03:16.333Z"
      },
      {
        "duration": 37,
        "start_time": "2023-05-16T18:03:16.365Z"
      },
      {
        "duration": 300,
        "start_time": "2023-05-16T18:03:16.404Z"
      },
      {
        "duration": 265,
        "start_time": "2023-05-16T18:03:16.706Z"
      },
      {
        "duration": 311,
        "start_time": "2023-05-16T18:03:16.972Z"
      },
      {
        "duration": 17,
        "start_time": "2023-05-16T18:03:17.284Z"
      },
      {
        "duration": 12,
        "start_time": "2023-05-16T18:03:17.305Z"
      },
      {
        "duration": 244,
        "start_time": "2023-05-16T18:03:17.318Z"
      },
      {
        "duration": 4,
        "start_time": "2023-05-16T18:03:17.564Z"
      },
      {
        "duration": 196,
        "start_time": "2023-05-16T18:03:17.570Z"
      },
      {
        "duration": 4,
        "start_time": "2023-05-16T18:03:17.767Z"
      },
      {
        "duration": 20,
        "start_time": "2023-05-16T18:03:17.773Z"
      },
      {
        "duration": 31,
        "start_time": "2023-05-16T18:03:17.795Z"
      },
      {
        "duration": 25,
        "start_time": "2023-05-16T18:03:17.827Z"
      },
      {
        "duration": 9,
        "start_time": "2023-05-16T18:03:17.853Z"
      },
      {
        "duration": 48,
        "start_time": "2023-05-16T18:03:17.863Z"
      },
      {
        "duration": 119,
        "start_time": "2023-05-16T18:03:17.913Z"
      },
      {
        "duration": 64,
        "start_time": "2023-05-16T18:03:18.034Z"
      },
      {
        "duration": 3,
        "start_time": "2023-05-16T18:03:18.100Z"
      },
      {
        "duration": 11,
        "start_time": "2023-05-16T18:03:18.104Z"
      },
      {
        "duration": 84,
        "start_time": "2023-05-16T18:03:18.116Z"
      },
      {
        "duration": 3,
        "start_time": "2023-05-16T18:03:18.202Z"
      },
      {
        "duration": 14,
        "start_time": "2023-05-16T18:03:18.207Z"
      },
      {
        "duration": 79,
        "start_time": "2023-05-16T18:03:18.223Z"
      },
      {
        "duration": 7,
        "start_time": "2023-05-16T18:03:18.306Z"
      },
      {
        "duration": 92,
        "start_time": "2023-05-16T18:03:18.314Z"
      },
      {
        "duration": 24,
        "start_time": "2023-05-16T18:03:18.408Z"
      },
      {
        "duration": 169,
        "start_time": "2023-05-16T18:03:18.434Z"
      },
      {
        "duration": 0,
        "start_time": "2023-05-16T18:03:18.605Z"
      },
      {
        "duration": 915,
        "start_time": "2023-05-16T18:05:07.123Z"
      },
      {
        "duration": 7,
        "start_time": "2023-05-16T18:05:10.732Z"
      },
      {
        "duration": 12,
        "start_time": "2023-05-16T18:05:10.954Z"
      },
      {
        "duration": 6,
        "start_time": "2023-05-16T18:05:12.947Z"
      },
      {
        "duration": 90,
        "start_time": "2023-05-16T18:05:14.508Z"
      },
      {
        "duration": 21,
        "start_time": "2023-05-16T18:05:20.246Z"
      },
      {
        "duration": 11,
        "start_time": "2023-05-16T18:05:21.543Z"
      },
      {
        "duration": 56,
        "start_time": "2023-05-16T18:05:22.807Z"
      },
      {
        "duration": 11,
        "start_time": "2023-05-16T18:13:34.711Z"
      },
      {
        "duration": 26,
        "start_time": "2023-05-16T18:13:45.315Z"
      },
      {
        "duration": 908,
        "start_time": "2023-05-16T18:13:57.056Z"
      },
      {
        "duration": 19,
        "start_time": "2023-05-16T18:14:04.118Z"
      },
      {
        "duration": 10,
        "start_time": "2023-05-16T18:14:04.754Z"
      },
      {
        "duration": 13,
        "start_time": "2023-05-16T18:14:11.114Z"
      },
      {
        "duration": 71,
        "start_time": "2023-05-16T18:14:14.456Z"
      },
      {
        "duration": 108,
        "start_time": "2023-05-16T18:19:32.353Z"
      },
      {
        "duration": 4,
        "start_time": "2023-05-16T18:19:38.227Z"
      },
      {
        "duration": 16,
        "start_time": "2023-05-16T18:20:45.117Z"
      },
      {
        "duration": 750,
        "start_time": "2023-05-16T18:36:59.522Z"
      },
      {
        "duration": 6,
        "start_time": "2023-05-16T18:37:03.700Z"
      },
      {
        "duration": 4,
        "start_time": "2023-05-16T18:37:03.950Z"
      },
      {
        "duration": 4,
        "start_time": "2023-05-16T18:37:05.300Z"
      },
      {
        "duration": 47,
        "start_time": "2023-05-16T18:37:06.600Z"
      },
      {
        "duration": 39,
        "start_time": "2023-05-16T18:37:07.266Z"
      },
      {
        "duration": 12,
        "start_time": "2023-05-16T18:37:11.806Z"
      },
      {
        "duration": 9,
        "start_time": "2023-05-16T18:37:12.368Z"
      },
      {
        "duration": 79,
        "start_time": "2023-05-16T18:37:12.730Z"
      },
      {
        "duration": 10,
        "start_time": "2023-05-16T18:37:14.856Z"
      },
      {
        "duration": 18,
        "start_time": "2023-05-16T18:37:27.508Z"
      },
      {
        "duration": 49,
        "start_time": "2023-05-16T18:37:31.501Z"
      },
      {
        "duration": 5,
        "start_time": "2023-05-16T18:37:41.204Z"
      },
      {
        "duration": 1489,
        "start_time": "2023-05-16T18:37:42.820Z"
      },
      {
        "duration": 1146,
        "start_time": "2023-05-16T18:37:46.618Z"
      },
      {
        "duration": 1396,
        "start_time": "2023-05-16T18:37:47.767Z"
      },
      {
        "duration": 14,
        "start_time": "2023-05-16T18:38:18.940Z"
      },
      {
        "duration": 55,
        "start_time": "2023-05-16T18:38:20.451Z"
      },
      {
        "duration": 1232,
        "start_time": "2023-05-16T18:38:26.191Z"
      },
      {
        "duration": 1163,
        "start_time": "2023-05-16T18:38:27.768Z"
      },
      {
        "duration": 1211,
        "start_time": "2023-05-16T18:38:28.932Z"
      },
      {
        "duration": 8,
        "start_time": "2023-05-16T18:39:34.066Z"
      },
      {
        "duration": 104,
        "start_time": "2023-05-16T18:39:39.706Z"
      },
      {
        "duration": 149,
        "start_time": "2023-05-16T18:39:49.345Z"
      },
      {
        "duration": 18,
        "start_time": "2023-05-16T18:39:57.602Z"
      },
      {
        "duration": 76,
        "start_time": "2023-05-16T18:40:03.061Z"
      },
      {
        "duration": 8,
        "start_time": "2023-05-16T18:40:17.763Z"
      },
      {
        "duration": 76,
        "start_time": "2023-05-16T18:40:24.369Z"
      },
      {
        "duration": 13251,
        "start_time": "2023-05-16T18:41:20.966Z"
      },
      {
        "duration": 5,
        "start_time": "2023-05-16T18:41:34.220Z"
      },
      {
        "duration": 10,
        "start_time": "2023-05-16T18:41:34.227Z"
      },
      {
        "duration": 10,
        "start_time": "2023-05-16T18:41:34.239Z"
      },
      {
        "duration": 764,
        "start_time": "2023-05-16T18:41:34.250Z"
      },
      {
        "duration": 14,
        "start_time": "2023-05-16T18:41:39.201Z"
      },
      {
        "duration": 9,
        "start_time": "2023-05-16T18:41:39.499Z"
      },
      {
        "duration": 9,
        "start_time": "2023-05-16T18:41:39.599Z"
      },
      {
        "duration": 348,
        "start_time": "2023-05-16T18:41:47.521Z"
      },
      {
        "duration": 3,
        "start_time": "2023-05-16T18:41:47.925Z"
      },
      {
        "duration": 2,
        "start_time": "2023-05-16T18:41:48.204Z"
      },
      {
        "duration": 659,
        "start_time": "2023-05-16T18:41:48.614Z"
      },
      {
        "duration": 44259,
        "start_time": "2023-05-16T18:41:49.602Z"
      },
      {
        "duration": 65,
        "start_time": "2023-05-16T18:42:33.864Z"
      },
      {
        "duration": 92,
        "start_time": "2023-05-16T18:42:33.931Z"
      },
      {
        "duration": 205299,
        "start_time": "2023-05-16T18:44:34.723Z"
      },
      {
        "duration": 4644,
        "start_time": "2023-05-16T18:48:00.916Z"
      },
      {
        "duration": 208,
        "start_time": "2023-05-16T18:49:18.908Z"
      },
      {
        "duration": 797,
        "start_time": "2023-05-16T18:51:19.919Z"
      },
      {
        "duration": 5,
        "start_time": "2023-05-16T18:51:25.719Z"
      },
      {
        "duration": 12,
        "start_time": "2023-05-16T18:51:35.911Z"
      },
      {
        "duration": 10,
        "start_time": "2023-05-16T18:51:37.216Z"
      },
      {
        "duration": 16,
        "start_time": "2023-05-16T18:51:41.088Z"
      },
      {
        "duration": 12,
        "start_time": "2023-05-16T18:51:44.500Z"
      },
      {
        "duration": 5,
        "start_time": "2023-05-16T18:51:48.311Z"
      },
      {
        "duration": 5,
        "start_time": "2023-05-16T18:51:59.808Z"
      },
      {
        "duration": 4,
        "start_time": "2023-05-16T18:52:00.013Z"
      },
      {
        "duration": 2,
        "start_time": "2023-05-16T18:52:00.359Z"
      },
      {
        "duration": 3,
        "start_time": "2023-05-16T18:52:00.960Z"
      },
      {
        "duration": 2,
        "start_time": "2023-05-16T18:52:01.355Z"
      },
      {
        "duration": 5,
        "start_time": "2023-05-16T18:52:02.712Z"
      },
      {
        "duration": 21,
        "start_time": "2023-05-16T18:52:03.931Z"
      },
      {
        "duration": 6578,
        "start_time": "2023-05-16T18:52:06.215Z"
      },
      {
        "duration": 8,
        "start_time": "2023-05-16T18:52:12.795Z"
      },
      {
        "duration": 110,
        "start_time": "2023-05-16T18:52:12.806Z"
      },
      {
        "duration": 1339,
        "start_time": "2023-05-16T18:52:12.917Z"
      },
      {
        "duration": 2,
        "start_time": "2023-05-16T18:52:14.258Z"
      },
      {
        "duration": 6,
        "start_time": "2023-05-16T18:52:14.261Z"
      },
      {
        "duration": 79732,
        "start_time": "2023-05-16T18:52:14.269Z"
      },
      {
        "duration": 6,
        "start_time": "2023-05-16T18:53:34.003Z"
      },
      {
        "duration": 27,
        "start_time": "2023-05-16T18:53:34.010Z"
      },
      {
        "duration": 4,
        "start_time": "2023-05-16T18:53:34.039Z"
      },
      {
        "duration": 18567,
        "start_time": "2023-05-16T18:53:34.044Z"
      },
      {
        "duration": 6,
        "start_time": "2023-05-16T18:53:52.612Z"
      },
      {
        "duration": 5,
        "start_time": "2023-05-17T06:21:24.416Z"
      },
      {
        "duration": 5,
        "start_time": "2023-05-17T06:21:25.212Z"
      },
      {
        "duration": 37,
        "start_time": "2023-05-17T06:21:25.219Z"
      },
      {
        "duration": 960,
        "start_time": "2023-05-17T06:21:27.015Z"
      },
      {
        "duration": 10,
        "start_time": "2023-05-17T06:21:31.619Z"
      },
      {
        "duration": 32,
        "start_time": "2023-05-17T06:21:31.632Z"
      },
      {
        "duration": 3,
        "start_time": "2023-05-17T06:21:33.249Z"
      },
      {
        "duration": 62,
        "start_time": "2023-05-17T06:21:35.615Z"
      },
      {
        "duration": 34,
        "start_time": "2023-05-17T06:21:35.742Z"
      },
      {
        "duration": 14,
        "start_time": "2023-05-17T06:21:40.744Z"
      },
      {
        "duration": 20,
        "start_time": "2023-05-17T06:21:41.803Z"
      },
      {
        "duration": 67,
        "start_time": "2023-05-17T06:21:42.535Z"
      },
      {
        "duration": 7,
        "start_time": "2023-05-17T06:32:00.731Z"
      },
      {
        "duration": 13,
        "start_time": "2023-05-17T06:32:01.015Z"
      },
      {
        "duration": 3,
        "start_time": "2023-05-17T06:32:01.265Z"
      },
      {
        "duration": 991,
        "start_time": "2023-05-17T06:32:02.239Z"
      },
      {
        "duration": 20,
        "start_time": "2023-05-17T06:32:06.510Z"
      },
      {
        "duration": 4,
        "start_time": "2023-05-17T06:32:06.656Z"
      },
      {
        "duration": 15,
        "start_time": "2023-05-17T06:32:08.731Z"
      },
      {
        "duration": 74,
        "start_time": "2023-05-17T06:32:10.148Z"
      },
      {
        "duration": 88,
        "start_time": "2023-05-17T06:32:10.372Z"
      },
      {
        "duration": 32,
        "start_time": "2023-05-17T06:32:14.894Z"
      },
      {
        "duration": 8,
        "start_time": "2023-05-17T06:32:15.150Z"
      },
      {
        "duration": 31,
        "start_time": "2023-05-17T06:32:15.819Z"
      },
      {
        "duration": 6,
        "start_time": "2023-05-17T06:37:50.451Z"
      },
      {
        "duration": 5,
        "start_time": "2023-05-17T06:37:58.040Z"
      },
      {
        "duration": 280,
        "start_time": "2023-05-17T06:38:15.947Z"
      },
      {
        "duration": 68,
        "start_time": "2023-05-17T06:38:25.674Z"
      },
      {
        "duration": 9,
        "start_time": "2023-05-17T06:38:29.747Z"
      },
      {
        "duration": 5,
        "start_time": "2023-05-17T06:38:32.157Z"
      },
      {
        "duration": 98,
        "start_time": "2023-05-17T06:38:35.681Z"
      },
      {
        "duration": 3,
        "start_time": "2023-05-17T06:38:58.847Z"
      },
      {
        "duration": 294,
        "start_time": "2023-05-17T06:39:00.947Z"
      },
      {
        "duration": 14,
        "start_time": "2023-05-17T06:39:08.960Z"
      },
      {
        "duration": 119,
        "start_time": "2023-05-17T06:39:12.907Z"
      },
      {
        "duration": 7,
        "start_time": "2023-05-17T06:39:42.715Z"
      },
      {
        "duration": 6050,
        "start_time": "2023-05-17T06:39:43.271Z"
      },
      {
        "duration": 255,
        "start_time": "2023-05-17T06:39:54.243Z"
      },
      {
        "duration": 118,
        "start_time": "2023-05-17T06:40:01.737Z"
      },
      {
        "duration": 4,
        "start_time": "2023-05-17T06:40:04.654Z"
      },
      {
        "duration": 187,
        "start_time": "2023-05-17T06:40:05.735Z"
      },
      {
        "duration": 266,
        "start_time": "2023-05-17T06:40:06.605Z"
      },
      {
        "duration": 211,
        "start_time": "2023-05-17T06:40:07.335Z"
      },
      {
        "duration": 4,
        "start_time": "2023-05-17T06:41:07.849Z"
      },
      {
        "duration": 2,
        "start_time": "2023-05-17T06:41:08.168Z"
      },
      {
        "duration": 11,
        "start_time": "2023-05-17T06:41:08.414Z"
      },
      {
        "duration": 947,
        "start_time": "2023-05-17T06:41:09.052Z"
      },
      {
        "duration": 11,
        "start_time": "2023-05-17T06:41:12.731Z"
      },
      {
        "duration": 10,
        "start_time": "2023-05-17T06:41:12.920Z"
      },
      {
        "duration": 16,
        "start_time": "2023-05-17T06:41:14.907Z"
      },
      {
        "duration": 60,
        "start_time": "2023-05-17T06:41:19.282Z"
      },
      {
        "duration": 29,
        "start_time": "2023-05-17T06:41:19.513Z"
      },
      {
        "duration": 5,
        "start_time": "2023-05-17T06:41:26.832Z"
      },
      {
        "duration": 247,
        "start_time": "2023-05-17T06:41:27.904Z"
      },
      {
        "duration": 19,
        "start_time": "2023-05-17T06:41:35.343Z"
      },
      {
        "duration": 109,
        "start_time": "2023-05-17T06:41:36.258Z"
      },
      {
        "duration": 17,
        "start_time": "2023-05-17T06:41:50.414Z"
      },
      {
        "duration": 4,
        "start_time": "2023-05-17T06:41:51.572Z"
      },
      {
        "duration": 122,
        "start_time": "2023-05-17T06:41:55.130Z"
      },
      {
        "duration": 24,
        "start_time": "2023-05-17T06:42:00.623Z"
      },
      {
        "duration": 12,
        "start_time": "2023-05-17T06:42:02.935Z"
      },
      {
        "duration": 1327,
        "start_time": "2023-05-17T06:42:04.019Z"
      },
      {
        "duration": 1373,
        "start_time": "2023-05-17T06:42:05.348Z"
      },
      {
        "duration": 1309,
        "start_time": "2023-05-17T06:42:06.723Z"
      },
      {
        "duration": 19,
        "start_time": "2023-05-17T06:42:40.346Z"
      },
      {
        "duration": 1737,
        "start_time": "2023-05-17T06:42:46.469Z"
      },
      {
        "duration": 16,
        "start_time": "2023-05-17T06:43:22.464Z"
      },
      {
        "duration": 39,
        "start_time": "2023-05-17T06:43:44.112Z"
      },
      {
        "duration": 98,
        "start_time": "2023-05-17T06:43:53.380Z"
      },
      {
        "duration": 109,
        "start_time": "2023-05-17T06:44:11.564Z"
      },
      {
        "duration": 174,
        "start_time": "2023-05-17T06:44:26.801Z"
      },
      {
        "duration": 196,
        "start_time": "2023-05-17T06:44:48.885Z"
      },
      {
        "duration": 164,
        "start_time": "2023-05-17T06:45:18.777Z"
      },
      {
        "duration": 6,
        "start_time": "2023-05-17T06:45:32.735Z"
      },
      {
        "duration": 10,
        "start_time": "2023-05-17T06:45:32.936Z"
      },
      {
        "duration": 477,
        "start_time": "2023-05-17T06:45:33.252Z"
      },
      {
        "duration": 4,
        "start_time": "2023-05-17T06:45:35.155Z"
      },
      {
        "duration": 262,
        "start_time": "2023-05-17T06:45:35.819Z"
      },
      {
        "duration": 3,
        "start_time": "2023-05-17T06:45:37.851Z"
      },
      {
        "duration": 7,
        "start_time": "2023-05-17T06:45:38.211Z"
      },
      {
        "duration": 8,
        "start_time": "2023-05-17T06:45:38.619Z"
      },
      {
        "duration": 6,
        "start_time": "2023-05-17T06:45:39.604Z"
      },
      {
        "duration": 13,
        "start_time": "2023-05-17T06:45:40.130Z"
      },
      {
        "duration": 12,
        "start_time": "2023-05-17T06:45:40.316Z"
      },
      {
        "duration": 27,
        "start_time": "2023-05-17T06:45:40.779Z"
      },
      {
        "duration": 8424,
        "start_time": "2023-05-17T06:45:42.009Z"
      },
      {
        "duration": 8,
        "start_time": "2023-05-17T06:45:50.455Z"
      },
      {
        "duration": 12,
        "start_time": "2023-05-17T06:45:50.465Z"
      },
      {
        "duration": 1639,
        "start_time": "2023-05-17T06:45:50.479Z"
      },
      {
        "duration": 12,
        "start_time": "2023-05-17T06:45:53.047Z"
      },
      {
        "duration": 3,
        "start_time": "2023-05-17T06:45:53.549Z"
      },
      {
        "duration": 85005,
        "start_time": "2023-05-17T06:45:56.123Z"
      },
      {
        "duration": 6,
        "start_time": "2023-05-17T06:47:21.134Z"
      },
      {
        "duration": 91,
        "start_time": "2023-05-17T06:47:21.147Z"
      },
      {
        "duration": 82,
        "start_time": "2023-05-17T06:47:21.244Z"
      },
      {
        "duration": 21203,
        "start_time": "2023-05-17T06:47:21.339Z"
      },
      {
        "duration": 9,
        "start_time": "2023-05-17T06:47:42.543Z"
      },
      {
        "duration": 84539,
        "start_time": "2023-05-17T06:48:33.731Z"
      },
      {
        "duration": 21148,
        "start_time": "2023-05-17T06:50:18.506Z"
      },
      {
        "duration": 4,
        "start_time": "2023-05-17T08:42:20.267Z"
      },
      {
        "duration": 42,
        "start_time": "2023-05-17T08:42:20.320Z"
      },
      {
        "duration": 52,
        "start_time": "2023-05-17T08:42:20.364Z"
      },
      {
        "duration": 4,
        "start_time": "2023-05-17T08:42:23.972Z"
      },
      {
        "duration": 6,
        "start_time": "2023-05-17T08:42:24.727Z"
      },
      {
        "duration": 3,
        "start_time": "2023-05-17T08:42:26.207Z"
      },
      {
        "duration": 2826,
        "start_time": "2023-05-17T08:42:26.833Z"
      },
      {
        "duration": 14,
        "start_time": "2023-05-17T08:42:31.010Z"
      },
      {
        "duration": 9,
        "start_time": "2023-05-17T08:42:31.213Z"
      },
      {
        "duration": 9,
        "start_time": "2023-05-17T08:42:34.008Z"
      },
      {
        "duration": 12,
        "start_time": "2023-05-17T08:42:45.768Z"
      },
      {
        "duration": 9,
        "start_time": "2023-05-17T08:42:46.533Z"
      },
      {
        "duration": 3,
        "start_time": "2023-05-17T08:42:46.564Z"
      },
      {
        "duration": 201,
        "start_time": "2023-05-17T08:42:47.113Z"
      },
      {
        "duration": 33,
        "start_time": "2023-05-17T08:42:53.424Z"
      },
      {
        "duration": 46,
        "start_time": "2023-05-17T08:42:53.934Z"
      },
      {
        "duration": 9,
        "start_time": "2023-05-17T08:43:01.115Z"
      },
      {
        "duration": 6,
        "start_time": "2023-05-17T08:44:55.311Z"
      },
      {
        "duration": 682,
        "start_time": "2023-05-17T08:44:55.836Z"
      },
      {
        "duration": 1049,
        "start_time": "2023-05-17T08:44:56.915Z"
      },
      {
        "duration": 838,
        "start_time": "2023-05-17T08:44:57.966Z"
      },
      {
        "duration": 3,
        "start_time": "2023-05-17T08:46:03.947Z"
      },
      {
        "duration": 3,
        "start_time": "2023-05-17T08:53:23.963Z"
      },
      {
        "duration": 10,
        "start_time": "2023-05-17T08:53:24.315Z"
      },
      {
        "duration": 18,
        "start_time": "2023-05-17T08:58:26.422Z"
      },
      {
        "duration": 3,
        "start_time": "2023-05-17T08:58:50.578Z"
      },
      {
        "duration": 17,
        "start_time": "2023-05-17T08:59:06.801Z"
      },
      {
        "duration": 13,
        "start_time": "2023-05-17T08:59:29.005Z"
      },
      {
        "duration": 2,
        "start_time": "2023-05-17T08:59:29.736Z"
      },
      {
        "duration": 7,
        "start_time": "2023-05-17T08:59:38.009Z"
      },
      {
        "duration": 3,
        "start_time": "2023-05-17T09:00:05.359Z"
      },
      {
        "duration": 3,
        "start_time": "2023-05-17T09:00:06.640Z"
      },
      {
        "duration": 20,
        "start_time": "2023-05-17T09:00:35.511Z"
      },
      {
        "duration": 4,
        "start_time": "2023-05-17T09:00:40.435Z"
      },
      {
        "duration": 13,
        "start_time": "2023-05-17T09:00:40.759Z"
      },
      {
        "duration": 185,
        "start_time": "2023-05-17T09:02:23.078Z"
      },
      {
        "duration": 21,
        "start_time": "2023-05-17T09:02:23.585Z"
      },
      {
        "duration": 359,
        "start_time": "2023-05-17T09:02:43.809Z"
      },
      {
        "duration": 353,
        "start_time": "2023-05-17T09:02:55.084Z"
      },
      {
        "duration": 4,
        "start_time": "2023-05-17T09:07:59.829Z"
      },
      {
        "duration": 10,
        "start_time": "2023-05-17T09:12:48.389Z"
      },
      {
        "duration": 6,
        "start_time": "2023-05-17T09:13:04.323Z"
      },
      {
        "duration": 3,
        "start_time": "2023-05-17T09:13:08.175Z"
      },
      {
        "duration": 3,
        "start_time": "2023-05-17T09:13:08.639Z"
      },
      {
        "duration": 10,
        "start_time": "2023-05-17T09:13:14.725Z"
      },
      {
        "duration": 19,
        "start_time": "2023-05-17T09:13:15.535Z"
      },
      {
        "duration": 15,
        "start_time": "2023-05-17T09:13:21.429Z"
      },
      {
        "duration": 6,
        "start_time": "2023-05-17T09:15:27.683Z"
      },
      {
        "duration": 3,
        "start_time": "2023-05-17T09:15:27.886Z"
      },
      {
        "duration": 3,
        "start_time": "2023-05-17T09:15:28.104Z"
      },
      {
        "duration": 883,
        "start_time": "2023-05-17T09:15:28.977Z"
      },
      {
        "duration": 5,
        "start_time": "2023-05-17T09:15:32.911Z"
      },
      {
        "duration": 4,
        "start_time": "2023-05-17T09:15:33.335Z"
      },
      {
        "duration": 5,
        "start_time": "2023-05-17T09:15:34.609Z"
      },
      {
        "duration": 69,
        "start_time": "2023-05-17T09:15:35.083Z"
      },
      {
        "duration": 31,
        "start_time": "2023-05-17T09:15:35.329Z"
      },
      {
        "duration": 35,
        "start_time": "2023-05-17T09:15:37.083Z"
      },
      {
        "duration": 8,
        "start_time": "2023-05-17T09:15:37.360Z"
      },
      {
        "duration": 3,
        "start_time": "2023-05-17T09:15:37.849Z"
      },
      {
        "duration": 187,
        "start_time": "2023-05-17T09:15:38.023Z"
      },
      {
        "duration": 15,
        "start_time": "2023-05-17T09:15:38.421Z"
      },
      {
        "duration": 9,
        "start_time": "2023-05-17T09:15:39.119Z"
      },
      {
        "duration": 5,
        "start_time": "2023-05-17T09:15:40.113Z"
      },
      {
        "duration": 4,
        "start_time": "2023-05-17T09:15:43.035Z"
      },
      {
        "duration": 605,
        "start_time": "2023-05-17T09:15:43.221Z"
      },
      {
        "duration": 1070,
        "start_time": "2023-05-17T09:15:43.828Z"
      },
      {
        "duration": 743,
        "start_time": "2023-05-17T09:15:44.900Z"
      },
      {
        "duration": 3,
        "start_time": "2023-05-17T09:15:45.645Z"
      },
      {
        "duration": 8,
        "start_time": "2023-05-17T09:15:45.650Z"
      },
      {
        "duration": 512,
        "start_time": "2023-05-17T09:15:46.079Z"
      },
      {
        "duration": 5,
        "start_time": "2023-05-17T09:15:47.115Z"
      },
      {
        "duration": 6,
        "start_time": "2023-05-17T09:18:02.816Z"
      },
      {
        "duration": 795,
        "start_time": "2023-05-17T09:24:01.224Z"
      },
      {
        "duration": 61,
        "start_time": "2023-05-17T09:24:33.679Z"
      },
      {
        "duration": 2905,
        "start_time": "2023-05-17T09:24:36.408Z"
      },
      {
        "duration": 3,
        "start_time": "2023-05-17T09:24:39.315Z"
      },
      {
        "duration": 15,
        "start_time": "2023-05-17T09:24:39.319Z"
      },
      {
        "duration": 788,
        "start_time": "2023-05-17T09:24:39.336Z"
      },
      {
        "duration": 7,
        "start_time": "2023-05-17T09:24:44.312Z"
      },
      {
        "duration": 15,
        "start_time": "2023-05-17T09:24:44.321Z"
      },
      {
        "duration": 7,
        "start_time": "2023-05-17T09:24:46.155Z"
      },
      {
        "duration": 13,
        "start_time": "2023-05-17T09:24:49.959Z"
      },
      {
        "duration": 14,
        "start_time": "2023-05-17T09:24:50.225Z"
      },
      {
        "duration": 3,
        "start_time": "2023-05-17T09:24:50.439Z"
      },
      {
        "duration": 206,
        "start_time": "2023-05-17T09:24:50.905Z"
      },
      {
        "duration": 126,
        "start_time": "2023-05-17T09:24:51.483Z"
      },
      {
        "duration": 26,
        "start_time": "2023-05-17T09:24:56.680Z"
      },
      {
        "duration": 7,
        "start_time": "2023-05-17T09:24:57.705Z"
      },
      {
        "duration": 6,
        "start_time": "2023-05-17T09:25:01.509Z"
      },
      {
        "duration": 595,
        "start_time": "2023-05-17T09:25:01.957Z"
      },
      {
        "duration": 885,
        "start_time": "2023-05-17T09:25:02.553Z"
      },
      {
        "duration": 886,
        "start_time": "2023-05-17T09:25:03.440Z"
      },
      {
        "duration": 4,
        "start_time": "2023-05-17T09:25:12.232Z"
      },
      {
        "duration": 8,
        "start_time": "2023-05-17T09:25:12.509Z"
      },
      {
        "duration": 3,
        "start_time": "2023-05-17T09:25:18.805Z"
      },
      {
        "duration": 4,
        "start_time": "2023-05-17T09:25:19.717Z"
      },
      {
        "duration": 8,
        "start_time": "2023-05-17T09:25:20.599Z"
      },
      {
        "duration": 10,
        "start_time": "2023-05-17T09:25:23.884Z"
      },
      {
        "duration": 22,
        "start_time": "2023-05-17T09:25:24.316Z"
      },
      {
        "duration": 155,
        "start_time": "2023-05-17T09:25:27.241Z"
      },
      {
        "duration": 4,
        "start_time": "2023-05-17T09:42:04.209Z"
      },
      {
        "duration": 3197,
        "start_time": "2023-05-17T09:42:07.305Z"
      },
      {
        "duration": 3,
        "start_time": "2023-05-17T09:42:48.179Z"
      },
      {
        "duration": 5661,
        "start_time": "2023-05-17T09:42:51.127Z"
      },
      {
        "duration": 25936,
        "start_time": "2023-05-17T09:43:07.113Z"
      },
      {
        "duration": 6,
        "start_time": "2023-05-17T09:44:59.263Z"
      },
      {
        "duration": 9859,
        "start_time": "2023-05-17T09:45:08.245Z"
      },
      {
        "duration": 128747,
        "start_time": "2023-05-17T09:45:53.679Z"
      },
      {
        "duration": 4886,
        "start_time": "2023-05-17T09:48:21.044Z"
      },
      {
        "duration": 10,
        "start_time": "2023-05-17T09:48:43.284Z"
      },
      {
        "duration": 4375,
        "start_time": "2023-05-17T09:48:49.446Z"
      },
      {
        "duration": 26926,
        "start_time": "2023-05-17T09:48:53.822Z"
      },
      {
        "duration": 2,
        "start_time": "2023-05-17T09:49:20.750Z"
      },
      {
        "duration": 18,
        "start_time": "2023-05-17T09:49:20.753Z"
      },
      {
        "duration": 928571,
        "start_time": "2023-05-17T09:49:20.772Z"
      },
      {
        "duration": 0,
        "start_time": "2023-05-17T10:04:49.345Z"
      },
      {
        "duration": 9,
        "start_time": "2023-05-17T10:05:07.409Z"
      },
      {
        "duration": 5149,
        "start_time": "2023-05-17T10:05:18.337Z"
      },
      {
        "duration": 27017,
        "start_time": "2023-05-17T10:05:23.489Z"
      },
      {
        "duration": 4,
        "start_time": "2023-05-17T10:06:36.172Z"
      },
      {
        "duration": 5619,
        "start_time": "2023-05-17T10:06:45.405Z"
      },
      {
        "duration": 27233,
        "start_time": "2023-05-17T10:06:51.026Z"
      },
      {
        "duration": 26938,
        "start_time": "2023-05-17T10:07:44.155Z"
      },
      {
        "duration": 7,
        "start_time": "2023-05-17T10:08:49.813Z"
      },
      {
        "duration": 1613,
        "start_time": "2023-05-17T19:09:54.923Z"
      },
      {
        "duration": 2,
        "start_time": "2023-05-17T19:09:56.538Z"
      },
      {
        "duration": 10,
        "start_time": "2023-05-17T19:09:56.541Z"
      },
      {
        "duration": 663,
        "start_time": "2023-05-17T19:09:56.598Z"
      },
      {
        "duration": 1552,
        "start_time": "2023-05-17T19:10:54.155Z"
      },
      {
        "duration": 2,
        "start_time": "2023-05-17T19:10:55.709Z"
      },
      {
        "duration": 6,
        "start_time": "2023-05-17T19:10:55.712Z"
      },
      {
        "duration": 701,
        "start_time": "2023-05-17T19:10:55.719Z"
      },
      {
        "duration": 6,
        "start_time": "2023-05-17T19:10:56.421Z"
      },
      {
        "duration": 26,
        "start_time": "2023-05-17T19:10:56.429Z"
      },
      {
        "duration": 9,
        "start_time": "2023-05-17T19:10:56.456Z"
      },
      {
        "duration": 57,
        "start_time": "2023-05-17T19:10:56.466Z"
      },
      {
        "duration": 29,
        "start_time": "2023-05-17T19:10:56.524Z"
      },
      {
        "duration": 15,
        "start_time": "2023-05-17T19:10:56.554Z"
      },
      {
        "duration": 41,
        "start_time": "2023-05-17T19:10:56.571Z"
      },
      {
        "duration": 7,
        "start_time": "2023-05-17T19:10:56.613Z"
      },
      {
        "duration": 282,
        "start_time": "2023-05-17T19:10:56.621Z"
      },
      {
        "duration": 17,
        "start_time": "2023-05-17T19:10:56.906Z"
      },
      {
        "duration": 8,
        "start_time": "2023-05-17T19:10:56.925Z"
      },
      {
        "duration": 24,
        "start_time": "2023-05-17T19:10:56.934Z"
      },
      {
        "duration": 15,
        "start_time": "2023-05-17T19:10:56.959Z"
      },
      {
        "duration": 531,
        "start_time": "2023-05-17T19:10:56.976Z"
      },
      {
        "duration": 806,
        "start_time": "2023-05-17T19:10:57.508Z"
      },
      {
        "duration": 739,
        "start_time": "2023-05-17T19:10:58.315Z"
      },
      {
        "duration": 3,
        "start_time": "2023-05-17T19:10:59.055Z"
      },
      {
        "duration": 15,
        "start_time": "2023-05-17T19:10:59.059Z"
      },
      {
        "duration": 387,
        "start_time": "2023-05-17T19:10:59.076Z"
      },
      {
        "duration": 4,
        "start_time": "2023-05-17T19:10:59.464Z"
      },
      {
        "duration": 177,
        "start_time": "2023-05-17T19:10:59.470Z"
      },
      {
        "duration": 3,
        "start_time": "2023-05-17T19:10:59.649Z"
      },
      {
        "duration": 12,
        "start_time": "2023-05-17T19:10:59.654Z"
      },
      {
        "duration": 17,
        "start_time": "2023-05-17T19:10:59.668Z"
      },
      {
        "duration": 4,
        "start_time": "2023-05-17T19:10:59.686Z"
      },
      {
        "duration": 14,
        "start_time": "2023-05-17T19:10:59.692Z"
      },
      {
        "duration": 8,
        "start_time": "2023-05-17T19:10:59.708Z"
      },
      {
        "duration": 7,
        "start_time": "2023-05-17T19:10:59.717Z"
      },
      {
        "duration": 23,
        "start_time": "2023-05-17T19:10:59.725Z"
      },
      {
        "duration": 138,
        "start_time": "2023-05-17T19:10:59.750Z"
      },
      {
        "duration": 0,
        "start_time": "2023-05-17T19:10:59.889Z"
      },
      {
        "duration": 0,
        "start_time": "2023-05-17T19:10:59.890Z"
      },
      {
        "duration": 0,
        "start_time": "2023-05-17T19:10:59.891Z"
      },
      {
        "duration": 0,
        "start_time": "2023-05-17T19:10:59.892Z"
      },
      {
        "duration": 0,
        "start_time": "2023-05-17T19:10:59.893Z"
      },
      {
        "duration": 0,
        "start_time": "2023-05-17T19:10:59.894Z"
      },
      {
        "duration": 0,
        "start_time": "2023-05-17T19:10:59.894Z"
      },
      {
        "duration": 6,
        "start_time": "2023-05-17T19:15:48.256Z"
      },
      {
        "duration": 3,
        "start_time": "2023-05-17T19:15:52.319Z"
      },
      {
        "duration": 3,
        "start_time": "2023-05-17T19:15:53.004Z"
      },
      {
        "duration": 3,
        "start_time": "2023-05-17T19:15:53.234Z"
      },
      {
        "duration": 5,
        "start_time": "2023-05-17T19:15:54.396Z"
      },
      {
        "duration": 19,
        "start_time": "2023-05-17T19:15:54.957Z"
      },
      {
        "duration": 2673,
        "start_time": "2023-05-17T19:15:55.813Z"
      },
      {
        "duration": 24553,
        "start_time": "2023-05-17T19:15:58.488Z"
      },
      {
        "duration": 40728,
        "start_time": "2023-05-17T19:16:23.043Z"
      },
      {
        "duration": 0,
        "start_time": "2023-05-17T19:17:03.773Z"
      },
      {
        "duration": 0,
        "start_time": "2023-05-17T19:17:03.774Z"
      },
      {
        "duration": 0,
        "start_time": "2023-05-17T19:17:03.775Z"
      },
      {
        "duration": 0,
        "start_time": "2023-05-17T19:17:03.776Z"
      },
      {
        "duration": 0,
        "start_time": "2023-05-17T19:17:03.777Z"
      },
      {
        "duration": 5,
        "start_time": "2023-05-17T19:17:54.405Z"
      },
      {
        "duration": 3,
        "start_time": "2023-05-17T19:18:57.200Z"
      },
      {
        "duration": 1354,
        "start_time": "2023-05-17T19:19:04.846Z"
      },
      {
        "duration": 24306,
        "start_time": "2023-05-17T19:19:07.549Z"
      },
      {
        "duration": 3,
        "start_time": "2023-05-17T19:22:13.325Z"
      },
      {
        "duration": 25147,
        "start_time": "2023-05-17T19:22:18.631Z"
      },
      {
        "duration": 4,
        "start_time": "2023-05-17T19:24:14.613Z"
      },
      {
        "duration": 5,
        "start_time": "2023-05-17T19:25:31.831Z"
      },
      {
        "duration": 3,
        "start_time": "2023-05-17T19:25:43.783Z"
      },
      {
        "duration": 2728,
        "start_time": "2023-05-17T19:25:47.061Z"
      },
      {
        "duration": 3,
        "start_time": "2023-05-17T19:26:32.415Z"
      },
      {
        "duration": 2569,
        "start_time": "2023-05-17T19:26:36.423Z"
      },
      {
        "duration": 51,
        "start_time": "2023-05-17T19:27:14.828Z"
      },
      {
        "duration": 87,
        "start_time": "2023-05-17T19:27:21.425Z"
      },
      {
        "duration": 3,
        "start_time": "2023-05-17T19:27:26.988Z"
      },
      {
        "duration": 3176,
        "start_time": "2023-05-17T19:27:30.618Z"
      },
      {
        "duration": 4,
        "start_time": "2023-05-17T19:28:37.177Z"
      },
      {
        "duration": 2511,
        "start_time": "2023-05-17T19:28:39.374Z"
      },
      {
        "duration": 4,
        "start_time": "2023-05-17T19:30:00.384Z"
      },
      {
        "duration": 4,
        "start_time": "2023-05-17T19:30:00.803Z"
      },
      {
        "duration": 2467,
        "start_time": "2023-05-17T19:30:05.721Z"
      },
      {
        "duration": 24592,
        "start_time": "2023-05-17T19:30:12.031Z"
      },
      {
        "duration": 39628865,
        "start_time": "2023-05-17T19:32:35.548Z"
      },
      {
        "duration": 5,
        "start_time": "2023-05-18T18:49:19.957Z"
      },
      {
        "duration": 17,
        "start_time": "2023-05-18T18:49:20.553Z"
      },
      {
        "duration": 3,
        "start_time": "2023-05-18T18:49:22.500Z"
      },
      {
        "duration": 8265,
        "start_time": "2023-05-18T18:49:24.679Z"
      },
      {
        "duration": 7316,
        "start_time": "2023-05-18T18:50:41.703Z"
      },
      {
        "duration": 3,
        "start_time": "2023-05-18T18:51:51.566Z"
      },
      {
        "duration": 6430,
        "start_time": "2023-05-18T18:51:57.568Z"
      },
      {
        "duration": 7,
        "start_time": "2023-05-18T18:52:04.000Z"
      },
      {
        "duration": 10,
        "start_time": "2023-05-18T18:53:23.334Z"
      },
      {
        "duration": 9,
        "start_time": "2023-05-18T18:53:40.748Z"
      },
      {
        "duration": 108,
        "start_time": "2023-05-18T18:53:47.984Z"
      },
      {
        "duration": 60,
        "start_time": "2023-05-18T18:54:52.279Z"
      },
      {
        "duration": 3,
        "start_time": "2023-05-18T18:58:53.063Z"
      },
      {
        "duration": 2844,
        "start_time": "2023-05-18T19:00:50.255Z"
      },
      {
        "duration": 522,
        "start_time": "2023-05-18T19:00:56.637Z"
      },
      {
        "duration": 835,
        "start_time": "2023-05-18T19:01:05.517Z"
      },
      {
        "duration": 4,
        "start_time": "2023-05-18T19:01:57.256Z"
      },
      {
        "duration": 2,
        "start_time": "2023-05-18T19:01:57.498Z"
      },
      {
        "duration": 3,
        "start_time": "2023-05-18T19:01:57.771Z"
      },
      {
        "duration": 666,
        "start_time": "2023-05-18T19:01:58.448Z"
      },
      {
        "duration": 5,
        "start_time": "2023-05-18T19:02:00.872Z"
      },
      {
        "duration": 4,
        "start_time": "2023-05-18T19:02:01.107Z"
      },
      {
        "duration": 13,
        "start_time": "2023-05-18T19:02:02.483Z"
      },
      {
        "duration": 45,
        "start_time": "2023-05-18T19:02:03.702Z"
      },
      {
        "duration": 186,
        "start_time": "2023-05-18T19:02:04.063Z"
      },
      {
        "duration": 39,
        "start_time": "2023-05-18T19:02:06.027Z"
      },
      {
        "duration": 7,
        "start_time": "2023-05-18T19:02:06.522Z"
      },
      {
        "duration": 3,
        "start_time": "2023-05-18T19:02:07.519Z"
      },
      {
        "duration": 161,
        "start_time": "2023-05-18T19:02:07.754Z"
      },
      {
        "duration": 19,
        "start_time": "2023-05-18T19:02:08.815Z"
      },
      {
        "duration": 9,
        "start_time": "2023-05-18T19:02:10.135Z"
      },
      {
        "duration": 4,
        "start_time": "2023-05-18T19:02:11.523Z"
      },
      {
        "duration": 4,
        "start_time": "2023-05-18T19:02:14.499Z"
      },
      {
        "duration": 515,
        "start_time": "2023-05-18T19:02:15.228Z"
      },
      {
        "duration": 861,
        "start_time": "2023-05-18T19:02:16.000Z"
      },
      {
        "duration": 634,
        "start_time": "2023-05-18T19:02:16.862Z"
      },
      {
        "duration": 5,
        "start_time": "2023-05-18T19:04:12.256Z"
      },
      {
        "duration": 545,
        "start_time": "2023-05-18T19:04:13.399Z"
      },
      {
        "duration": 5,
        "start_time": "2023-05-18T19:04:20.568Z"
      },
      {
        "duration": 643,
        "start_time": "2023-05-18T19:04:22.096Z"
      },
      {
        "duration": 100,
        "start_time": "2023-05-18T19:04:50.360Z"
      },
      {
        "duration": 4,
        "start_time": "2023-05-18T19:05:07.966Z"
      },
      {
        "duration": 509,
        "start_time": "2023-05-18T19:05:09.435Z"
      },
      {
        "duration": 4,
        "start_time": "2023-05-18T19:05:38.469Z"
      },
      {
        "duration": 504,
        "start_time": "2023-05-18T19:05:39.452Z"
      },
      {
        "duration": 965,
        "start_time": "2023-05-18T19:05:44.052Z"
      },
      {
        "duration": 645,
        "start_time": "2023-05-18T19:05:45.019Z"
      },
      {
        "duration": 8,
        "start_time": "2023-05-18T19:06:22.872Z"
      },
      {
        "duration": 4,
        "start_time": "2023-05-18T19:06:38.856Z"
      },
      {
        "duration": 9,
        "start_time": "2023-05-18T19:06:41.797Z"
      },
      {
        "duration": 506,
        "start_time": "2023-05-18T19:07:16.268Z"
      },
      {
        "duration": 60,
        "start_time": "2023-05-18T19:07:43.934Z"
      },
      {
        "duration": 56,
        "start_time": "2023-05-18T19:08:08.134Z"
      },
      {
        "duration": 9,
        "start_time": "2023-05-18T19:08:16.474Z"
      },
      {
        "duration": 56,
        "start_time": "2023-05-18T19:10:29.067Z"
      },
      {
        "duration": 3,
        "start_time": "2023-05-18T19:10:47.427Z"
      },
      {
        "duration": 3,
        "start_time": "2023-05-18T19:10:58.625Z"
      },
      {
        "duration": 1895,
        "start_time": "2023-05-18T19:12:14.900Z"
      },
      {
        "duration": 107,
        "start_time": "2023-05-18T19:12:48.819Z"
      },
      {
        "duration": 4,
        "start_time": "2023-05-18T19:12:54.658Z"
      },
      {
        "duration": 81,
        "start_time": "2023-05-18T19:13:13.718Z"
      },
      {
        "duration": 17,
        "start_time": "2023-05-18T19:13:17.982Z"
      },
      {
        "duration": 2,
        "start_time": "2023-05-18T19:13:45.056Z"
      },
      {
        "duration": 2,
        "start_time": "2023-05-18T19:13:49.869Z"
      },
      {
        "duration": 10,
        "start_time": "2023-05-18T19:13:55.155Z"
      },
      {
        "duration": 3,
        "start_time": "2023-05-18T19:14:07.461Z"
      },
      {
        "duration": 12,
        "start_time": "2023-05-18T19:14:07.922Z"
      },
      {
        "duration": 3,
        "start_time": "2023-05-18T19:14:16.323Z"
      },
      {
        "duration": 2,
        "start_time": "2023-05-18T19:14:16.869Z"
      },
      {
        "duration": 10,
        "start_time": "2023-05-18T19:14:16.872Z"
      },
      {
        "duration": 647,
        "start_time": "2023-05-18T19:14:17.284Z"
      },
      {
        "duration": 4,
        "start_time": "2023-05-18T19:14:19.432Z"
      },
      {
        "duration": 5,
        "start_time": "2023-05-18T19:14:19.636Z"
      },
      {
        "duration": 4,
        "start_time": "2023-05-18T19:14:21.227Z"
      },
      {
        "duration": 43,
        "start_time": "2023-05-18T19:14:21.911Z"
      },
      {
        "duration": 35,
        "start_time": "2023-05-18T19:14:22.055Z"
      },
      {
        "duration": 41,
        "start_time": "2023-05-18T19:14:24.075Z"
      },
      {
        "duration": 8,
        "start_time": "2023-05-18T19:14:24.326Z"
      },
      {
        "duration": 3,
        "start_time": "2023-05-18T19:14:24.536Z"
      },
      {
        "duration": 248,
        "start_time": "2023-05-18T19:14:25.524Z"
      },
      {
        "duration": 12,
        "start_time": "2023-05-18T19:14:26.555Z"
      },
      {
        "duration": 9,
        "start_time": "2023-05-18T19:14:27.860Z"
      },
      {
        "duration": 6,
        "start_time": "2023-05-18T19:14:29.396Z"
      },
      {
        "duration": 3,
        "start_time": "2023-05-18T19:14:34.715Z"
      },
      {
        "duration": 74,
        "start_time": "2023-05-18T19:14:35.185Z"
      },
      {
        "duration": 15,
        "start_time": "2023-05-18T19:14:36.048Z"
      },
      {
        "duration": 586,
        "start_time": "2023-05-18T19:14:41.955Z"
      },
      {
        "duration": 572,
        "start_time": "2023-05-18T19:15:00.900Z"
      },
      {
        "duration": 688,
        "start_time": "2023-05-18T19:15:16.356Z"
      },
      {
        "duration": 4,
        "start_time": "2023-05-18T19:15:29.096Z"
      },
      {
        "duration": 4,
        "start_time": "2023-05-18T19:15:49.932Z"
      },
      {
        "duration": 2,
        "start_time": "2023-05-18T19:15:50.101Z"
      },
      {
        "duration": 3,
        "start_time": "2023-05-18T19:15:50.304Z"
      },
      {
        "duration": 761,
        "start_time": "2023-05-18T19:15:50.796Z"
      },
      {
        "duration": 4,
        "start_time": "2023-05-18T19:15:52.877Z"
      },
      {
        "duration": 4,
        "start_time": "2023-05-18T19:15:53.056Z"
      },
      {
        "duration": 4,
        "start_time": "2023-05-18T19:15:54.367Z"
      },
      {
        "duration": 50,
        "start_time": "2023-05-18T19:15:55.025Z"
      },
      {
        "duration": 33,
        "start_time": "2023-05-18T19:15:55.834Z"
      },
      {
        "duration": 13,
        "start_time": "2023-05-18T19:15:57.037Z"
      },
      {
        "duration": 8,
        "start_time": "2023-05-18T19:15:57.411Z"
      },
      {
        "duration": 3,
        "start_time": "2023-05-18T19:15:57.657Z"
      },
      {
        "duration": 196,
        "start_time": "2023-05-18T19:15:58.339Z"
      },
      {
        "duration": 18,
        "start_time": "2023-05-18T19:15:59.296Z"
      },
      {
        "duration": 13,
        "start_time": "2023-05-18T19:16:00.011Z"
      },
      {
        "duration": 4,
        "start_time": "2023-05-18T19:16:01.236Z"
      },
      {
        "duration": 5,
        "start_time": "2023-05-18T19:16:04.619Z"
      },
      {
        "duration": 3,
        "start_time": "2023-05-18T19:16:07.406Z"
      },
      {
        "duration": 78,
        "start_time": "2023-05-18T19:16:10.265Z"
      },
      {
        "duration": 15,
        "start_time": "2023-05-18T19:16:10.500Z"
      },
      {
        "duration": 738,
        "start_time": "2023-05-18T19:16:11.596Z"
      },
      {
        "duration": 905,
        "start_time": "2023-05-18T19:16:12.335Z"
      },
      {
        "duration": 788,
        "start_time": "2023-05-18T19:16:13.242Z"
      },
      {
        "duration": 3,
        "start_time": "2023-05-18T19:16:31.056Z"
      },
      {
        "duration": 2,
        "start_time": "2023-05-18T19:16:31.279Z"
      },
      {
        "duration": 14,
        "start_time": "2023-05-18T19:16:31.482Z"
      },
      {
        "duration": 671,
        "start_time": "2023-05-18T19:16:31.884Z"
      },
      {
        "duration": 5,
        "start_time": "2023-05-18T19:16:34.056Z"
      },
      {
        "duration": 4,
        "start_time": "2023-05-18T19:16:34.304Z"
      },
      {
        "duration": 4,
        "start_time": "2023-05-18T19:16:35.663Z"
      },
      {
        "duration": 45,
        "start_time": "2023-05-18T19:16:36.720Z"
      },
      {
        "duration": 29,
        "start_time": "2023-05-18T19:16:36.929Z"
      },
      {
        "duration": 11,
        "start_time": "2023-05-18T19:16:38.855Z"
      },
      {
        "duration": 7,
        "start_time": "2023-05-18T19:16:39.073Z"
      },
      {
        "duration": 3,
        "start_time": "2023-05-18T19:16:39.325Z"
      },
      {
        "duration": 162,
        "start_time": "2023-05-18T19:16:39.538Z"
      },
      {
        "duration": 16,
        "start_time": "2023-05-18T19:16:39.989Z"
      },
      {
        "duration": 13,
        "start_time": "2023-05-18T19:16:40.681Z"
      },
      {
        "duration": 4,
        "start_time": "2023-05-18T19:16:41.756Z"
      },
      {
        "duration": 4,
        "start_time": "2023-05-18T19:16:44.118Z"
      },
      {
        "duration": 627,
        "start_time": "2023-05-18T19:16:48.754Z"
      },
      {
        "duration": 896,
        "start_time": "2023-05-18T19:16:49.382Z"
      },
      {
        "duration": 868,
        "start_time": "2023-05-18T19:16:54.704Z"
      },
      {
        "duration": 3,
        "start_time": "2023-05-18T20:23:51.079Z"
      },
      {
        "duration": 3,
        "start_time": "2023-05-18T20:24:24.643Z"
      },
      {
        "duration": 9,
        "start_time": "2023-05-18T20:24:55.116Z"
      },
      {
        "duration": 19,
        "start_time": "2023-05-18T20:25:00.176Z"
      },
      {
        "duration": 9,
        "start_time": "2023-05-18T20:25:14.574Z"
      },
      {
        "duration": 22,
        "start_time": "2023-05-18T20:25:40.573Z"
      },
      {
        "duration": 4,
        "start_time": "2023-05-18T20:25:50.140Z"
      },
      {
        "duration": 2,
        "start_time": "2023-05-18T20:25:50.776Z"
      },
      {
        "duration": 3,
        "start_time": "2023-05-18T20:25:51.055Z"
      },
      {
        "duration": 648,
        "start_time": "2023-05-18T20:25:51.580Z"
      },
      {
        "duration": 5,
        "start_time": "2023-05-18T20:25:54.278Z"
      },
      {
        "duration": 4,
        "start_time": "2023-05-18T20:25:54.501Z"
      },
      {
        "duration": 5,
        "start_time": "2023-05-18T20:25:55.955Z"
      },
      {
        "duration": 55,
        "start_time": "2023-05-18T20:25:56.577Z"
      },
      {
        "duration": 32,
        "start_time": "2023-05-18T20:25:56.779Z"
      },
      {
        "duration": 12,
        "start_time": "2023-05-18T20:25:58.501Z"
      },
      {
        "duration": 7,
        "start_time": "2023-05-18T20:25:58.740Z"
      },
      {
        "duration": 3,
        "start_time": "2023-05-18T20:25:58.942Z"
      },
      {
        "duration": 159,
        "start_time": "2023-05-18T20:25:59.195Z"
      },
      {
        "duration": 15,
        "start_time": "2023-05-18T20:25:59.740Z"
      },
      {
        "duration": 17,
        "start_time": "2023-05-18T20:26:00.381Z"
      },
      {
        "duration": 5,
        "start_time": "2023-05-18T20:26:01.339Z"
      },
      {
        "duration": 4,
        "start_time": "2023-05-18T20:26:03.926Z"
      },
      {
        "duration": 492,
        "start_time": "2023-05-18T20:26:04.777Z"
      },
      {
        "duration": 986,
        "start_time": "2023-05-18T20:26:05.271Z"
      },
      {
        "duration": 640,
        "start_time": "2023-05-18T20:26:06.259Z"
      },
      {
        "duration": 3,
        "start_time": "2023-05-18T20:26:08.436Z"
      },
      {
        "duration": 3,
        "start_time": "2023-05-18T20:26:08.640Z"
      },
      {
        "duration": 371,
        "start_time": "2023-05-18T20:26:09.204Z"
      },
      {
        "duration": 3,
        "start_time": "2023-05-18T20:26:14.500Z"
      },
      {
        "duration": 13,
        "start_time": "2023-05-18T20:26:15.037Z"
      },
      {
        "duration": 9,
        "start_time": "2023-05-18T20:26:32.238Z"
      },
      {
        "duration": 3,
        "start_time": "2023-05-18T20:26:36.041Z"
      },
      {
        "duration": 12,
        "start_time": "2023-05-18T20:26:36.258Z"
      },
      {
        "duration": 3,
        "start_time": "2023-05-18T20:26:47.140Z"
      },
      {
        "duration": 4,
        "start_time": "2023-05-18T20:26:48.950Z"
      },
      {
        "duration": 10,
        "start_time": "2023-05-18T20:26:57.697Z"
      },
      {
        "duration": 4,
        "start_time": "2023-05-18T20:27:04.047Z"
      },
      {
        "duration": 4,
        "start_time": "2023-05-18T20:27:10.876Z"
      },
      {
        "duration": 5,
        "start_time": "2023-05-18T20:30:03.115Z"
      },
      {
        "duration": 74,
        "start_time": "2023-05-18T20:31:51.854Z"
      },
      {
        "duration": 42,
        "start_time": "2023-05-18T20:32:03.909Z"
      },
      {
        "duration": 2295,
        "start_time": "2023-05-18T20:32:24.923Z"
      },
      {
        "duration": 2,
        "start_time": "2023-05-18T20:32:27.221Z"
      },
      {
        "duration": 17,
        "start_time": "2023-05-18T20:32:27.224Z"
      },
      {
        "duration": 2161,
        "start_time": "2023-05-18T20:32:29.953Z"
      },
      {
        "duration": 5,
        "start_time": "2023-05-18T20:32:32.745Z"
      },
      {
        "duration": 4,
        "start_time": "2023-05-18T20:32:32.957Z"
      },
      {
        "duration": 5,
        "start_time": "2023-05-18T20:32:34.245Z"
      },
      {
        "duration": 49,
        "start_time": "2023-05-18T20:32:34.896Z"
      },
      {
        "duration": 30,
        "start_time": "2023-05-18T20:32:35.140Z"
      },
      {
        "duration": 11,
        "start_time": "2023-05-18T20:32:36.919Z"
      },
      {
        "duration": 12,
        "start_time": "2023-05-18T20:32:37.741Z"
      },
      {
        "duration": 3,
        "start_time": "2023-05-18T20:32:37.996Z"
      },
      {
        "duration": 257,
        "start_time": "2023-05-18T20:32:38.223Z"
      },
      {
        "duration": 20,
        "start_time": "2023-05-18T20:32:39.107Z"
      },
      {
        "duration": 10,
        "start_time": "2023-05-18T20:32:39.696Z"
      },
      {
        "duration": 6,
        "start_time": "2023-05-18T20:32:40.696Z"
      },
      {
        "duration": 4,
        "start_time": "2023-05-18T20:32:43.632Z"
      },
      {
        "duration": 567,
        "start_time": "2023-05-18T20:32:44.041Z"
      },
      {
        "duration": 860,
        "start_time": "2023-05-18T20:32:44.610Z"
      },
      {
        "duration": 851,
        "start_time": "2023-05-18T20:32:45.471Z"
      },
      {
        "duration": 104,
        "start_time": "2023-05-18T20:32:53.611Z"
      },
      {
        "duration": 4,
        "start_time": "2023-05-18T20:33:08.306Z"
      },
      {
        "duration": 28,
        "start_time": "2023-05-18T20:33:18.539Z"
      },
      {
        "duration": 9,
        "start_time": "2023-05-18T20:35:48.719Z"
      },
      {
        "duration": 4,
        "start_time": "2023-05-18T20:35:57.903Z"
      },
      {
        "duration": 12,
        "start_time": "2023-05-18T20:36:01.318Z"
      },
      {
        "duration": 14,
        "start_time": "2023-05-18T20:36:15.280Z"
      },
      {
        "duration": 34,
        "start_time": "2023-05-18T20:36:15.778Z"
      },
      {
        "duration": 2,
        "start_time": "2023-05-20T12:15:03.766Z"
      },
      {
        "duration": 2,
        "start_time": "2023-05-20T12:15:04.313Z"
      },
      {
        "duration": 3,
        "start_time": "2023-05-20T12:15:11.004Z"
      },
      {
        "duration": 11,
        "start_time": "2023-05-20T12:15:18.081Z"
      },
      {
        "duration": 3,
        "start_time": "2023-05-20T12:15:18.427Z"
      },
      {
        "duration": 3,
        "start_time": "2023-05-20T12:15:18.660Z"
      },
      {
        "duration": 4,
        "start_time": "2023-05-20T12:15:35.921Z"
      },
      {
        "duration": 174,
        "start_time": "2023-05-20T12:15:40.600Z"
      },
      {
        "duration": 4,
        "start_time": "2023-05-20T12:15:52.990Z"
      },
      {
        "duration": 2,
        "start_time": "2023-05-20T12:15:53.658Z"
      },
      {
        "duration": 2,
        "start_time": "2023-05-20T12:15:54.660Z"
      },
      {
        "duration": 4,
        "start_time": "2023-05-20T12:16:01.265Z"
      },
      {
        "duration": 163,
        "start_time": "2023-05-20T12:16:04.524Z"
      },
      {
        "duration": 51,
        "start_time": "2023-05-20T13:23:51.370Z"
      },
      {
        "duration": 89,
        "start_time": "2023-05-20T13:24:04.315Z"
      },
      {
        "duration": 3,
        "start_time": "2023-05-20T13:24:08.975Z"
      },
      {
        "duration": 5,
        "start_time": "2023-05-20T13:24:25.986Z"
      },
      {
        "duration": 52,
        "start_time": "2023-05-20T13:24:26.377Z"
      },
      {
        "duration": 2116,
        "start_time": "2023-05-20T13:24:38.519Z"
      },
      {
        "duration": 2,
        "start_time": "2023-05-20T13:24:40.637Z"
      },
      {
        "duration": 9,
        "start_time": "2023-05-20T13:24:40.640Z"
      },
      {
        "duration": 640,
        "start_time": "2023-05-20T13:24:40.651Z"
      },
      {
        "duration": 6,
        "start_time": "2023-05-20T13:24:42.263Z"
      },
      {
        "duration": 4,
        "start_time": "2023-05-20T13:24:42.452Z"
      },
      {
        "duration": 5,
        "start_time": "2023-05-20T13:24:43.850Z"
      },
      {
        "duration": 47,
        "start_time": "2023-05-20T13:24:44.817Z"
      },
      {
        "duration": 30,
        "start_time": "2023-05-20T13:24:45.048Z"
      },
      {
        "duration": 12,
        "start_time": "2023-05-20T13:24:46.929Z"
      },
      {
        "duration": 12,
        "start_time": "2023-05-20T13:24:47.097Z"
      },
      {
        "duration": 2,
        "start_time": "2023-05-20T13:24:47.315Z"
      },
      {
        "duration": 256,
        "start_time": "2023-05-20T13:24:47.886Z"
      },
      {
        "duration": 3,
        "start_time": "2023-05-20T13:24:48.284Z"
      },
      {
        "duration": 106,
        "start_time": "2023-05-20T13:24:48.550Z"
      },
      {
        "duration": 18,
        "start_time": "2023-05-20T13:24:51.390Z"
      },
      {
        "duration": 6,
        "start_time": "2023-05-20T13:26:00.963Z"
      },
      {
        "duration": 2,
        "start_time": "2023-05-20T13:26:01.573Z"
      },
      {
        "duration": 2,
        "start_time": "2023-05-20T13:26:01.882Z"
      },
      {
        "duration": 653,
        "start_time": "2023-05-20T13:26:02.324Z"
      },
      {
        "duration": 4,
        "start_time": "2023-05-20T13:26:04.948Z"
      },
      {
        "duration": 4,
        "start_time": "2023-05-20T13:26:05.210Z"
      },
      {
        "duration": 4,
        "start_time": "2023-05-20T13:26:06.551Z"
      },
      {
        "duration": 44,
        "start_time": "2023-05-20T13:26:07.710Z"
      },
      {
        "duration": 42,
        "start_time": "2023-05-20T13:26:07.955Z"
      },
      {
        "duration": 11,
        "start_time": "2023-05-20T13:26:12.108Z"
      },
      {
        "duration": 11,
        "start_time": "2023-05-20T13:26:12.364Z"
      },
      {
        "duration": 2,
        "start_time": "2023-05-20T13:26:12.560Z"
      },
      {
        "duration": 153,
        "start_time": "2023-05-20T13:26:13.642Z"
      },
      {
        "duration": 3,
        "start_time": "2023-05-20T13:26:25.955Z"
      },
      {
        "duration": 21,
        "start_time": "2023-05-20T13:26:26.686Z"
      },
      {
        "duration": 674,
        "start_time": "2023-05-20T13:26:39.939Z"
      },
      {
        "duration": 5,
        "start_time": "2023-05-20T13:26:42.524Z"
      },
      {
        "duration": 4,
        "start_time": "2023-05-20T13:26:42.793Z"
      },
      {
        "duration": 4,
        "start_time": "2023-05-20T13:26:44.418Z"
      },
      {
        "duration": 53,
        "start_time": "2023-05-20T13:26:45.784Z"
      },
      {
        "duration": 28,
        "start_time": "2023-05-20T13:26:46.021Z"
      },
      {
        "duration": 14,
        "start_time": "2023-05-20T13:26:50.920Z"
      },
      {
        "duration": 8,
        "start_time": "2023-05-20T13:26:51.164Z"
      },
      {
        "duration": 3,
        "start_time": "2023-05-20T13:26:54.487Z"
      },
      {
        "duration": 3,
        "start_time": "2023-05-20T13:26:58.182Z"
      },
      {
        "duration": 26,
        "start_time": "2023-05-20T13:27:02.600Z"
      },
      {
        "duration": 156,
        "start_time": "2023-05-20T13:27:11.020Z"
      },
      {
        "duration": 3,
        "start_time": "2023-05-20T13:27:29.521Z"
      },
      {
        "duration": 19,
        "start_time": "2023-05-20T13:27:31.347Z"
      },
      {
        "duration": 3,
        "start_time": "2023-05-20T13:30:15.695Z"
      },
      {
        "duration": 13,
        "start_time": "2023-05-20T13:30:16.226Z"
      },
      {
        "duration": 16,
        "start_time": "2023-05-20T13:30:18.041Z"
      },
      {
        "duration": 8,
        "start_time": "2023-05-20T13:30:18.973Z"
      },
      {
        "duration": 5,
        "start_time": "2023-05-20T13:30:19.887Z"
      },
      {
        "duration": 4,
        "start_time": "2023-05-20T13:30:22.127Z"
      },
      {
        "duration": 501,
        "start_time": "2023-05-20T13:30:23.305Z"
      },
      {
        "duration": 822,
        "start_time": "2023-05-20T13:30:24.042Z"
      },
      {
        "duration": 720,
        "start_time": "2023-05-20T13:30:24.866Z"
      },
      {
        "duration": 5,
        "start_time": "2023-05-20T13:31:36.224Z"
      },
      {
        "duration": 7,
        "start_time": "2023-05-20T13:31:36.472Z"
      },
      {
        "duration": 3,
        "start_time": "2023-05-20T13:31:37.911Z"
      },
      {
        "duration": 6,
        "start_time": "2023-05-20T13:31:39.176Z"
      },
      {
        "duration": 4,
        "start_time": "2023-05-20T13:31:39.928Z"
      },
      {
        "duration": 5,
        "start_time": "2023-05-20T13:31:41.663Z"
      },
      {
        "duration": 28,
        "start_time": "2023-05-20T13:31:43.357Z"
      },
      {
        "duration": 3015,
        "start_time": "2023-05-20T13:31:46.398Z"
      },
      {
        "duration": 6,
        "start_time": "2023-05-20T13:31:57.109Z"
      },
      {
        "duration": 23,
        "start_time": "2023-05-20T13:31:57.361Z"
      },
      {
        "duration": 4,
        "start_time": "2023-05-20T13:31:58.805Z"
      },
      {
        "duration": 6976,
        "start_time": "2023-05-20T13:31:59.653Z"
      },
      {
        "duration": 9,
        "start_time": "2023-05-20T13:32:06.630Z"
      },
      {
        "duration": 10,
        "start_time": "2023-05-20T13:33:32.414Z"
      },
      {
        "duration": 3,
        "start_time": "2023-05-20T13:33:39.819Z"
      },
      {
        "duration": 4,
        "start_time": "2023-05-20T13:33:53.710Z"
      },
      {
        "duration": 8,
        "start_time": "2023-05-20T13:34:02.905Z"
      },
      {
        "duration": 7,
        "start_time": "2023-05-20T13:34:10.271Z"
      },
      {
        "duration": 11084,
        "start_time": "2023-05-20T13:35:17.372Z"
      },
      {
        "duration": 42,
        "start_time": "2023-05-20T13:36:27.395Z"
      },
      {
        "duration": 3176,
        "start_time": "2023-05-21T14:28:33.965Z"
      },
      {
        "duration": 3,
        "start_time": "2023-05-21T14:28:37.143Z"
      },
      {
        "duration": 14,
        "start_time": "2023-05-21T14:28:37.148Z"
      },
      {
        "duration": 669,
        "start_time": "2023-05-21T14:28:37.164Z"
      },
      {
        "duration": 7,
        "start_time": "2023-05-21T14:28:37.834Z"
      },
      {
        "duration": 5,
        "start_time": "2023-05-21T14:28:37.842Z"
      },
      {
        "duration": 9,
        "start_time": "2023-05-21T14:28:37.848Z"
      },
      {
        "duration": 71,
        "start_time": "2023-05-21T14:28:37.858Z"
      },
      {
        "duration": 30,
        "start_time": "2023-05-21T14:28:37.930Z"
      },
      {
        "duration": 40,
        "start_time": "2023-05-21T14:28:37.963Z"
      },
      {
        "duration": 12,
        "start_time": "2023-05-21T14:28:38.005Z"
      },
      {
        "duration": 3,
        "start_time": "2023-05-21T14:28:38.019Z"
      },
      {
        "duration": 184,
        "start_time": "2023-05-21T14:28:38.023Z"
      },
      {
        "duration": 5,
        "start_time": "2023-05-21T14:28:38.209Z"
      },
      {
        "duration": 36,
        "start_time": "2023-05-21T14:28:38.216Z"
      },
      {
        "duration": 73,
        "start_time": "2023-05-21T14:28:38.253Z"
      },
      {
        "duration": 9,
        "start_time": "2023-05-21T14:28:38.328Z"
      },
      {
        "duration": 14,
        "start_time": "2023-05-21T14:28:38.339Z"
      },
      {
        "duration": 17,
        "start_time": "2023-05-21T14:28:38.354Z"
      },
      {
        "duration": 653,
        "start_time": "2023-05-21T14:28:38.373Z"
      },
      {
        "duration": 909,
        "start_time": "2023-05-21T14:28:39.028Z"
      },
      {
        "duration": 802,
        "start_time": "2023-05-21T14:28:39.939Z"
      },
      {
        "duration": 3,
        "start_time": "2023-05-21T14:28:40.742Z"
      },
      {
        "duration": 66,
        "start_time": "2023-05-21T14:28:40.746Z"
      },
      {
        "duration": 487,
        "start_time": "2023-05-21T14:28:40.814Z"
      },
      {
        "duration": 4,
        "start_time": "2023-05-21T14:28:41.303Z"
      },
      {
        "duration": 15,
        "start_time": "2023-05-21T14:28:41.309Z"
      },
      {
        "duration": 6,
        "start_time": "2023-05-21T14:28:41.327Z"
      },
      {
        "duration": 24,
        "start_time": "2023-05-21T14:28:41.334Z"
      },
      {
        "duration": 23,
        "start_time": "2023-05-21T14:28:41.359Z"
      },
      {
        "duration": 28,
        "start_time": "2023-05-21T14:28:41.383Z"
      },
      {
        "duration": 8,
        "start_time": "2023-05-21T14:28:41.412Z"
      },
      {
        "duration": 9,
        "start_time": "2023-05-21T14:28:41.421Z"
      },
      {
        "duration": 10,
        "start_time": "2023-05-21T14:28:41.432Z"
      },
      {
        "duration": 31,
        "start_time": "2023-05-21T14:28:41.444Z"
      },
      {
        "duration": 5822,
        "start_time": "2023-05-21T14:28:41.476Z"
      },
      {
        "duration": 26069,
        "start_time": "2023-05-21T14:28:47.300Z"
      },
      {
        "duration": 1676765,
        "start_time": "2023-05-21T14:29:13.370Z"
      },
      {
        "duration": 0,
        "start_time": "2023-05-21T14:57:10.137Z"
      },
      {
        "duration": 0,
        "start_time": "2023-05-21T14:57:10.139Z"
      },
      {
        "duration": 0,
        "start_time": "2023-05-21T14:57:10.140Z"
      },
      {
        "duration": 0,
        "start_time": "2023-05-21T14:57:10.141Z"
      },
      {
        "duration": 0,
        "start_time": "2023-05-21T14:57:10.143Z"
      },
      {
        "duration": 0,
        "start_time": "2023-05-21T14:57:10.144Z"
      },
      {
        "duration": 0,
        "start_time": "2023-05-21T14:57:10.145Z"
      },
      {
        "duration": 0,
        "start_time": "2023-05-21T14:57:10.146Z"
      },
      {
        "duration": 0,
        "start_time": "2023-05-21T14:57:10.147Z"
      },
      {
        "duration": 0,
        "start_time": "2023-05-21T14:57:10.149Z"
      },
      {
        "duration": 0,
        "start_time": "2023-05-21T14:57:10.150Z"
      },
      {
        "duration": 7,
        "start_time": "2023-05-21T14:57:15.357Z"
      },
      {
        "duration": 26,
        "start_time": "2023-05-21T14:57:15.564Z"
      },
      {
        "duration": 4,
        "start_time": "2023-05-21T14:57:16.256Z"
      },
      {
        "duration": 6458,
        "start_time": "2023-05-21T14:57:16.855Z"
      },
      {
        "duration": 10,
        "start_time": "2023-05-21T14:57:27.759Z"
      },
      {
        "duration": 14,
        "start_time": "2023-05-21T14:57:37.557Z"
      },
      {
        "duration": 5,
        "start_time": "2023-05-21T14:57:37.699Z"
      },
      {
        "duration": 4,
        "start_time": "2023-05-21T14:57:37.858Z"
      },
      {
        "duration": 11,
        "start_time": "2023-05-21T14:57:37.994Z"
      },
      {
        "duration": 7,
        "start_time": "2023-05-21T14:57:38.157Z"
      },
      {
        "duration": 10734,
        "start_time": "2023-05-21T14:57:38.604Z"
      },
      {
        "duration": 5,
        "start_time": "2023-05-21T14:58:48.821Z"
      },
      {
        "duration": 185,
        "start_time": "2023-05-21T14:58:50.619Z"
      },
      {
        "duration": 2,
        "start_time": "2023-05-21T15:01:22.604Z"
      },
      {
        "duration": 8,
        "start_time": "2023-05-21T15:01:29.855Z"
      },
      {
        "duration": 4,
        "start_time": "2023-05-21T15:01:30.543Z"
      },
      {
        "duration": 3,
        "start_time": "2023-05-21T15:02:07.757Z"
      },
      {
        "duration": 85,
        "start_time": "2023-05-24T11:11:34.250Z"
      },
      {
        "duration": 95,
        "start_time": "2023-05-24T11:11:52.191Z"
      },
      {
        "duration": 5,
        "start_time": "2023-05-24T11:12:39.399Z"
      },
      {
        "duration": 3,
        "start_time": "2023-05-24T11:12:39.749Z"
      },
      {
        "duration": 4,
        "start_time": "2023-05-24T11:35:10.411Z"
      },
      {
        "duration": 4,
        "start_time": "2023-05-24T11:35:23.397Z"
      },
      {
        "duration": 42,
        "start_time": "2023-05-24T11:35:34.601Z"
      },
      {
        "duration": 411,
        "start_time": "2023-05-24T11:35:46.181Z"
      },
      {
        "duration": 10,
        "start_time": "2023-05-24T11:35:46.797Z"
      },
      {
        "duration": 1339,
        "start_time": "2023-05-24T11:35:55.758Z"
      },
      {
        "duration": 4,
        "start_time": "2023-05-24T11:35:57.467Z"
      },
      {
        "duration": 4,
        "start_time": "2023-05-24T11:35:57.764Z"
      },
      {
        "duration": 3300,
        "start_time": "2023-05-24T11:35:58.171Z"
      },
      {
        "duration": 8,
        "start_time": "2023-05-24T11:36:01.474Z"
      },
      {
        "duration": 5,
        "start_time": "2023-05-24T11:36:01.572Z"
      },
      {
        "duration": 6,
        "start_time": "2023-05-24T11:36:05.058Z"
      },
      {
        "duration": 21,
        "start_time": "2023-05-24T11:36:10.490Z"
      },
      {
        "duration": 18,
        "start_time": "2023-05-24T11:36:10.681Z"
      },
      {
        "duration": 3,
        "start_time": "2023-05-24T11:36:10.902Z"
      },
      {
        "duration": 268,
        "start_time": "2023-05-24T11:36:11.203Z"
      },
      {
        "duration": 5,
        "start_time": "2023-05-24T11:36:11.473Z"
      },
      {
        "duration": 19,
        "start_time": "2023-05-24T11:36:11.596Z"
      },
      {
        "duration": 28,
        "start_time": "2023-05-24T11:36:11.789Z"
      },
      {
        "duration": 11,
        "start_time": "2023-05-24T11:36:13.199Z"
      },
      {
        "duration": 7,
        "start_time": "2023-05-24T11:36:16.570Z"
      },
      {
        "duration": 4,
        "start_time": "2023-05-24T11:36:26.757Z"
      },
      {
        "duration": 83,
        "start_time": "2023-05-24T11:36:27.250Z"
      },
      {
        "duration": 3,
        "start_time": "2023-05-24T11:38:57.311Z"
      },
      {
        "duration": 272,
        "start_time": "2023-05-24T11:38:59.499Z"
      },
      {
        "duration": 4,
        "start_time": "2023-05-24T11:39:13.400Z"
      },
      {
        "duration": 159,
        "start_time": "2023-05-24T11:39:14.864Z"
      },
      {
        "duration": 3,
        "start_time": "2023-05-24T21:08:39.626Z"
      },
      {
        "duration": 71,
        "start_time": "2023-05-24T21:08:41.049Z"
      },
      {
        "duration": 4,
        "start_time": "2023-05-24T21:10:06.147Z"
      },
      {
        "duration": 258,
        "start_time": "2023-05-24T21:10:07.010Z"
      },
      {
        "duration": 3,
        "start_time": "2023-05-24T21:10:25.657Z"
      },
      {
        "duration": 138,
        "start_time": "2023-05-24T21:10:26.842Z"
      },
      {
        "duration": 3,
        "start_time": "2023-05-24T21:12:22.062Z"
      },
      {
        "duration": 134,
        "start_time": "2023-05-24T21:12:23.547Z"
      },
      {
        "duration": 4,
        "start_time": "2023-05-24T21:12:37.708Z"
      },
      {
        "duration": 181,
        "start_time": "2023-05-24T21:12:38.914Z"
      },
      {
        "duration": 4,
        "start_time": "2023-05-24T21:13:32.568Z"
      },
      {
        "duration": 71,
        "start_time": "2023-05-24T21:13:32.573Z"
      },
      {
        "duration": 3,
        "start_time": "2023-05-24T21:13:37.429Z"
      },
      {
        "duration": 177,
        "start_time": "2023-05-24T21:13:38.848Z"
      },
      {
        "duration": 3,
        "start_time": "2023-05-24T21:16:27.790Z"
      },
      {
        "duration": 20,
        "start_time": "2023-05-24T21:16:28.975Z"
      },
      {
        "duration": 4,
        "start_time": "2023-05-24T21:16:44.386Z"
      },
      {
        "duration": 24,
        "start_time": "2023-05-24T21:16:44.677Z"
      },
      {
        "duration": 10,
        "start_time": "2023-05-24T21:21:08.224Z"
      },
      {
        "duration": 3,
        "start_time": "2023-05-24T21:26:50.867Z"
      },
      {
        "duration": 21,
        "start_time": "2023-05-24T21:26:53.785Z"
      },
      {
        "duration": 75,
        "start_time": "2023-05-24T21:27:05.800Z"
      },
      {
        "duration": 4,
        "start_time": "2023-05-24T21:27:11.801Z"
      },
      {
        "duration": 28,
        "start_time": "2023-05-24T21:27:14.565Z"
      },
      {
        "duration": 9,
        "start_time": "2023-05-24T21:28:37.552Z"
      },
      {
        "duration": 4,
        "start_time": "2023-05-24T21:29:12.603Z"
      },
      {
        "duration": 7,
        "start_time": "2023-05-24T21:29:15.501Z"
      },
      {
        "duration": 4,
        "start_time": "2023-05-24T21:29:35.453Z"
      },
      {
        "duration": 9,
        "start_time": "2023-05-24T21:29:36.606Z"
      },
      {
        "duration": 17,
        "start_time": "2023-05-24T21:29:55.756Z"
      },
      {
        "duration": 4,
        "start_time": "2023-05-24T21:30:20.149Z"
      },
      {
        "duration": 25,
        "start_time": "2023-05-24T21:30:20.883Z"
      },
      {
        "duration": 4,
        "start_time": "2023-05-24T21:36:24.284Z"
      },
      {
        "duration": 23,
        "start_time": "2023-05-24T21:36:26.923Z"
      },
      {
        "duration": 4,
        "start_time": "2023-05-24T21:36:41.155Z"
      },
      {
        "duration": 85,
        "start_time": "2023-05-24T21:36:41.881Z"
      },
      {
        "duration": 21,
        "start_time": "2023-05-24T21:36:44.980Z"
      },
      {
        "duration": 3,
        "start_time": "2023-05-24T21:36:56.768Z"
      },
      {
        "duration": 75,
        "start_time": "2023-05-24T21:37:02.774Z"
      },
      {
        "duration": 4,
        "start_time": "2023-05-24T21:38:28.391Z"
      },
      {
        "duration": 91,
        "start_time": "2023-05-24T21:38:29.965Z"
      },
      {
        "duration": 5,
        "start_time": "2023-05-24T21:42:41.550Z"
      },
      {
        "duration": 13,
        "start_time": "2023-05-24T21:44:07.891Z"
      },
      {
        "duration": 5,
        "start_time": "2023-05-24T21:44:30.425Z"
      },
      {
        "duration": 1162,
        "start_time": "2023-05-24T21:44:30.706Z"
      },
      {
        "duration": 6,
        "start_time": "2023-05-24T21:44:57.559Z"
      },
      {
        "duration": 995,
        "start_time": "2023-05-24T21:44:58.255Z"
      },
      {
        "duration": 6,
        "start_time": "2023-05-24T21:45:14.312Z"
      },
      {
        "duration": 1117,
        "start_time": "2023-05-24T21:45:14.554Z"
      },
      {
        "duration": 6,
        "start_time": "2023-05-24T21:45:34.857Z"
      },
      {
        "duration": 1054,
        "start_time": "2023-05-24T21:45:35.402Z"
      },
      {
        "duration": 5,
        "start_time": "2023-05-24T21:48:12.412Z"
      },
      {
        "duration": 1049,
        "start_time": "2023-05-24T21:48:12.720Z"
      },
      {
        "duration": 5,
        "start_time": "2023-05-24T21:48:21.628Z"
      },
      {
        "duration": 1037,
        "start_time": "2023-05-24T21:48:22.030Z"
      },
      {
        "duration": 5,
        "start_time": "2023-05-24T21:49:10.770Z"
      },
      {
        "duration": 1125,
        "start_time": "2023-05-24T21:49:11.348Z"
      },
      {
        "duration": 4,
        "start_time": "2023-05-24T21:49:40.670Z"
      },
      {
        "duration": 866,
        "start_time": "2023-05-24T21:49:40.956Z"
      },
      {
        "duration": 6,
        "start_time": "2023-05-24T21:50:13.010Z"
      },
      {
        "duration": 155,
        "start_time": "2023-05-24T21:50:13.476Z"
      },
      {
        "duration": 5,
        "start_time": "2023-05-24T21:50:40.512Z"
      },
      {
        "duration": 754,
        "start_time": "2023-05-24T21:50:40.803Z"
      },
      {
        "duration": 6,
        "start_time": "2023-05-24T21:50:56.454Z"
      },
      {
        "duration": 815,
        "start_time": "2023-05-24T21:50:57.538Z"
      },
      {
        "duration": 5,
        "start_time": "2023-05-24T21:51:38.745Z"
      },
      {
        "duration": 750,
        "start_time": "2023-05-24T21:51:39.252Z"
      },
      {
        "duration": 5,
        "start_time": "2023-05-24T21:52:04.650Z"
      },
      {
        "duration": 1192,
        "start_time": "2023-05-24T21:52:05.100Z"
      },
      {
        "duration": 5,
        "start_time": "2023-05-24T21:54:32.068Z"
      },
      {
        "duration": 1167,
        "start_time": "2023-05-24T21:54:32.196Z"
      },
      {
        "duration": 5,
        "start_time": "2023-05-24T21:55:03.440Z"
      },
      {
        "duration": 784,
        "start_time": "2023-05-24T21:55:05.109Z"
      },
      {
        "duration": 5,
        "start_time": "2023-05-24T21:55:47.428Z"
      },
      {
        "duration": 1138,
        "start_time": "2023-05-24T21:55:47.692Z"
      },
      {
        "duration": 5,
        "start_time": "2023-05-24T21:56:13.024Z"
      },
      {
        "duration": 1072,
        "start_time": "2023-05-24T21:56:13.281Z"
      },
      {
        "duration": 5,
        "start_time": "2023-05-24T21:56:39.779Z"
      },
      {
        "duration": 1074,
        "start_time": "2023-05-24T21:56:40.293Z"
      },
      {
        "duration": 5,
        "start_time": "2023-05-24T21:56:56.778Z"
      },
      {
        "duration": 1040,
        "start_time": "2023-05-24T21:56:57.725Z"
      },
      {
        "duration": 4,
        "start_time": "2023-05-24T21:57:41.049Z"
      },
      {
        "duration": 1080,
        "start_time": "2023-05-24T21:57:41.579Z"
      },
      {
        "duration": 4,
        "start_time": "2023-05-24T21:59:01.602Z"
      },
      {
        "duration": 1411,
        "start_time": "2023-05-24T21:59:05.187Z"
      },
      {
        "duration": 5,
        "start_time": "2023-05-24T21:59:24.864Z"
      },
      {
        "duration": 1001,
        "start_time": "2023-05-24T21:59:35.450Z"
      },
      {
        "duration": 1111,
        "start_time": "2023-05-24T21:59:36.454Z"
      },
      {
        "duration": 1115,
        "start_time": "2023-05-24T22:01:27.545Z"
      },
      {
        "duration": 7,
        "start_time": "2023-05-24T22:01:55.838Z"
      },
      {
        "duration": 1106,
        "start_time": "2023-05-24T22:01:56.667Z"
      },
      {
        "duration": 1113,
        "start_time": "2023-05-24T22:01:57.775Z"
      },
      {
        "duration": 1019,
        "start_time": "2023-05-24T22:02:04.440Z"
      },
      {
        "duration": 1055,
        "start_time": "2023-05-24T22:04:24.072Z"
      },
      {
        "duration": 1012,
        "start_time": "2023-05-24T22:04:25.129Z"
      },
      {
        "duration": 5,
        "start_time": "2023-05-24T22:09:41.670Z"
      },
      {
        "duration": 853,
        "start_time": "2023-05-24T22:09:42.162Z"
      },
      {
        "duration": 882,
        "start_time": "2023-05-24T22:09:43.016Z"
      },
      {
        "duration": 920,
        "start_time": "2023-05-24T22:09:43.900Z"
      },
      {
        "duration": 1214,
        "start_time": "2023-05-24T22:09:44.822Z"
      },
      {
        "duration": 74,
        "start_time": "2023-05-24T22:19:08.315Z"
      },
      {
        "duration": 42,
        "start_time": "2023-05-25T17:55:35.799Z"
      },
      {
        "duration": 4,
        "start_time": "2023-05-25T17:55:37.753Z"
      },
      {
        "duration": 4,
        "start_time": "2023-05-25T17:55:39.229Z"
      },
      {
        "duration": 1471,
        "start_time": "2023-05-25T17:55:48.744Z"
      },
      {
        "duration": 2,
        "start_time": "2023-05-25T17:55:50.217Z"
      },
      {
        "duration": 34,
        "start_time": "2023-05-25T17:55:50.220Z"
      },
      {
        "duration": 2152,
        "start_time": "2023-05-25T17:55:50.325Z"
      },
      {
        "duration": 10,
        "start_time": "2023-05-25T17:55:53.480Z"
      },
      {
        "duration": 4,
        "start_time": "2023-05-25T17:55:53.751Z"
      },
      {
        "duration": 6,
        "start_time": "2023-05-25T17:55:54.978Z"
      },
      {
        "duration": 52,
        "start_time": "2023-05-25T17:55:56.458Z"
      },
      {
        "duration": 37,
        "start_time": "2023-05-25T17:55:56.861Z"
      },
      {
        "duration": 13,
        "start_time": "2023-05-25T17:55:58.969Z"
      },
      {
        "duration": 12,
        "start_time": "2023-05-25T17:55:59.211Z"
      },
      {
        "duration": 3,
        "start_time": "2023-05-25T17:55:59.668Z"
      },
      {
        "duration": 189,
        "start_time": "2023-05-25T17:55:59.910Z"
      },
      {
        "duration": 3,
        "start_time": "2023-05-25T17:56:00.119Z"
      },
      {
        "duration": 16,
        "start_time": "2023-05-25T17:56:00.565Z"
      },
      {
        "duration": 31,
        "start_time": "2023-05-25T17:56:00.776Z"
      },
      {
        "duration": 11,
        "start_time": "2023-05-25T17:56:01.759Z"
      },
      {
        "duration": 8,
        "start_time": "2023-05-25T17:56:05.978Z"
      },
      {
        "duration": 4,
        "start_time": "2023-05-25T17:56:16.525Z"
      },
      {
        "duration": 177,
        "start_time": "2023-05-25T17:56:16.974Z"
      },
      {
        "duration": 4,
        "start_time": "2023-05-25T17:56:58.829Z"
      },
      {
        "duration": 170,
        "start_time": "2023-05-25T17:56:59.179Z"
      },
      {
        "duration": 4,
        "start_time": "2023-05-25T17:57:10.301Z"
      },
      {
        "duration": 155,
        "start_time": "2023-05-25T17:57:10.563Z"
      },
      {
        "duration": 5,
        "start_time": "2023-05-25T17:58:18.532Z"
      },
      {
        "duration": 479,
        "start_time": "2023-05-25T17:58:19.096Z"
      },
      {
        "duration": 595,
        "start_time": "2023-05-25T17:58:19.576Z"
      },
      {
        "duration": 641,
        "start_time": "2023-05-25T17:58:20.173Z"
      },
      {
        "duration": 783,
        "start_time": "2023-05-25T17:58:20.816Z"
      },
      {
        "duration": 4,
        "start_time": "2023-05-25T18:00:12.266Z"
      },
      {
        "duration": 4,
        "start_time": "2023-05-25T18:00:36.446Z"
      },
      {
        "duration": 425,
        "start_time": "2023-05-25T18:00:37.251Z"
      },
      {
        "duration": 18,
        "start_time": "2023-05-25T18:02:44.050Z"
      },
      {
        "duration": 3,
        "start_time": "2023-05-25T18:03:55.304Z"
      },
      {
        "duration": 14,
        "start_time": "2023-05-25T18:03:55.783Z"
      },
      {
        "duration": 14,
        "start_time": "2023-05-25T18:03:56.658Z"
      },
      {
        "duration": 4,
        "start_time": "2023-05-25T18:06:46.353Z"
      },
      {
        "duration": 7,
        "start_time": "2023-05-25T18:06:53.943Z"
      },
      {
        "duration": 5,
        "start_time": "2023-05-25T18:07:06.425Z"
      },
      {
        "duration": 3404,
        "start_time": "2023-05-25T18:07:08.097Z"
      },
      {
        "duration": 5,
        "start_time": "2023-05-25T18:08:02.263Z"
      },
      {
        "duration": 3604,
        "start_time": "2023-05-25T18:08:02.542Z"
      },
      {
        "duration": 4,
        "start_time": "2023-05-25T18:08:29.797Z"
      },
      {
        "duration": 3280,
        "start_time": "2023-05-25T18:08:30.069Z"
      },
      {
        "duration": 5,
        "start_time": "2023-05-25T18:09:13.597Z"
      },
      {
        "duration": 13,
        "start_time": "2023-05-25T18:09:14.142Z"
      },
      {
        "duration": 4,
        "start_time": "2023-05-25T18:10:27.205Z"
      },
      {
        "duration": 1276,
        "start_time": "2023-05-25T18:10:27.696Z"
      },
      {
        "duration": 6,
        "start_time": "2023-05-25T18:10:47.098Z"
      },
      {
        "duration": 1358,
        "start_time": "2023-05-25T18:10:47.350Z"
      },
      {
        "duration": 5,
        "start_time": "2023-05-25T18:11:36.348Z"
      },
      {
        "duration": 1224,
        "start_time": "2023-05-25T18:11:36.596Z"
      },
      {
        "duration": 5,
        "start_time": "2023-05-25T18:11:56.457Z"
      },
      {
        "duration": 1475,
        "start_time": "2023-05-25T18:11:56.767Z"
      },
      {
        "duration": 5,
        "start_time": "2023-05-25T18:16:45.506Z"
      },
      {
        "duration": 1435,
        "start_time": "2023-05-25T18:16:45.909Z"
      },
      {
        "duration": 2,
        "start_time": "2023-05-25T18:20:37.919Z"
      },
      {
        "duration": 95,
        "start_time": "2023-05-25T18:21:00.379Z"
      },
      {
        "duration": 4,
        "start_time": "2023-05-25T18:21:05.131Z"
      },
      {
        "duration": 44,
        "start_time": "2023-05-25T18:21:14.837Z"
      },
      {
        "duration": 3,
        "start_time": "2023-05-25T18:21:51.425Z"
      },
      {
        "duration": 62,
        "start_time": "2023-05-25T18:21:51.672Z"
      },
      {
        "duration": 100,
        "start_time": "2023-05-25T18:22:40.672Z"
      },
      {
        "duration": 4,
        "start_time": "2023-05-25T18:24:37.673Z"
      },
      {
        "duration": 129,
        "start_time": "2023-05-25T18:24:38.234Z"
      },
      {
        "duration": 5,
        "start_time": "2023-05-25T18:24:57.068Z"
      },
      {
        "duration": 114,
        "start_time": "2023-05-25T18:24:57.306Z"
      },
      {
        "duration": 6,
        "start_time": "2023-05-25T18:27:12.166Z"
      },
      {
        "duration": 1663,
        "start_time": "2023-05-25T18:27:13.683Z"
      },
      {
        "duration": 1686,
        "start_time": "2023-05-25T18:27:32.619Z"
      },
      {
        "duration": 6,
        "start_time": "2023-05-25T18:28:52.500Z"
      },
      {
        "duration": 254,
        "start_time": "2023-05-25T18:28:52.844Z"
      },
      {
        "duration": 96,
        "start_time": "2023-05-25T18:29:11.048Z"
      },
      {
        "duration": 1438,
        "start_time": "2023-05-25T18:29:11.311Z"
      },
      {
        "duration": 102,
        "start_time": "2023-05-25T18:30:24.329Z"
      },
      {
        "duration": 2,
        "start_time": "2023-05-25T18:34:00.656Z"
      },
      {
        "duration": 3,
        "start_time": "2023-05-25T18:34:05.597Z"
      },
      {
        "duration": 2,
        "start_time": "2023-05-25T18:34:08.496Z"
      },
      {
        "duration": 2,
        "start_time": "2023-05-25T18:34:11.715Z"
      },
      {
        "duration": 4,
        "start_time": "2023-05-25T18:37:40.531Z"
      },
      {
        "duration": 163,
        "start_time": "2023-05-25T18:37:41.201Z"
      },
      {
        "duration": 13,
        "start_time": "2023-05-25T18:37:50.181Z"
      },
      {
        "duration": 168,
        "start_time": "2023-05-25T18:37:50.380Z"
      },
      {
        "duration": 5,
        "start_time": "2023-05-25T18:38:05.842Z"
      },
      {
        "duration": 180,
        "start_time": "2023-05-25T18:38:06.296Z"
      },
      {
        "duration": 4,
        "start_time": "2023-05-25T18:38:27.024Z"
      },
      {
        "duration": 148,
        "start_time": "2023-05-25T18:38:27.250Z"
      },
      {
        "duration": 7,
        "start_time": "2023-05-25T18:39:09.554Z"
      },
      {
        "duration": 1608,
        "start_time": "2023-05-25T18:39:10.027Z"
      },
      {
        "duration": 4,
        "start_time": "2023-05-25T18:39:42.666Z"
      },
      {
        "duration": 157,
        "start_time": "2023-05-25T18:39:43.565Z"
      },
      {
        "duration": 5,
        "start_time": "2023-05-25T18:39:43.920Z"
      },
      {
        "duration": 1409,
        "start_time": "2023-05-25T18:39:44.516Z"
      },
      {
        "duration": 5,
        "start_time": "2023-05-25T18:40:37.876Z"
      },
      {
        "duration": 262,
        "start_time": "2023-05-25T18:40:38.109Z"
      },
      {
        "duration": 6,
        "start_time": "2023-05-25T18:40:38.533Z"
      },
      {
        "duration": 1551,
        "start_time": "2023-05-25T18:40:38.900Z"
      }
    ],
    "kernelspec": {
      "display_name": "Python 3 (ipykernel)",
      "language": "python",
      "name": "python3"
    },
    "language_info": {
      "codemirror_mode": {
        "name": "ipython",
        "version": 3
      },
      "file_extension": ".py",
      "mimetype": "text/x-python",
      "name": "python",
      "nbconvert_exporter": "python",
      "pygments_lexer": "ipython3",
      "version": "3.9.5"
    },
    "toc": {
      "base_numbering": 1,
      "nav_menu": {},
      "number_sections": true,
      "sideBar": true,
      "skip_h1_title": true,
      "title_cell": "Содержание",
      "title_sidebar": "Contents",
      "toc_cell": true,
      "toc_position": {
        "height": "calc(100% - 180px)",
        "left": "10px",
        "top": "150px",
        "width": "385.469px"
      },
      "toc_section_display": true,
      "toc_window_display": true
    },
    "colab": {
      "provenance": []
    }
  },
  "nbformat": 4,
  "nbformat_minor": 0
}