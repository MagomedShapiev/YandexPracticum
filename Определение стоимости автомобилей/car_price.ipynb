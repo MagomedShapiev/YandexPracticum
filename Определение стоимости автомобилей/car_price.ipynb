{
 "cells": [
  {
   "cell_type": "markdown",
   "id": "9c6c6917",
   "metadata": {},
   "source": [
    "# Определение стоимости автомобилей"
   ]
  },
  {
   "cell_type": "markdown",
   "id": "761b575e",
   "metadata": {},
   "source": [
    "Сервис по продаже автомобилей с пробегом «Не бит, не крашен» разрабатывает приложение для привлечения новых клиентов. В нём можно быстро узнать рыночную стоимость своего автомобиля. В вашем распоряжении исторические данные: технические характеристики, комплектации и цены автомобилей. Вам нужно построить модель для определения стоимости.\n",
    "\n",
    "Заказчику важны:\n",
    "\n",
    "- качество предсказания;\n",
    "- скорость предсказания;\n",
    "- время обучения."
   ]
  },
  {
   "cell_type": "markdown",
   "id": "a9adabc5",
   "metadata": {},
   "source": [
    "## Основные шаги:"
   ]
  },
  {
   "cell_type": "markdown",
   "id": "4eafc28e",
   "metadata": {},
   "source": [
    "- Загрузите данные, путь к файлу: /datasets/autos.csv.\n",
    "- Изучите данные. Заполните пропущенные значения и обработайте аномалии в столбцах. Если среди признаков имеются неинформативные, удалите их.\n",
    "- Подготовьте выборки для обучения моделей.\n",
    "- Обучите разные модели, одна из которых — LightGBM, как минимум одна — не бустинг. Для каждой модели попробуйте разные гиперпараметры.\n",
    "- Проанализируйте время обучения, время предсказания и качество моделей.\n",
    "- Опираясь на критерии заказчика, выберете лучшую модель, проверьте её качество на тестовой выборке."
   ]
  },
  {
   "cell_type": "markdown",
   "id": "67e087a7",
   "metadata": {},
   "source": [
    "## Описание данных"
   ]
  },
  {
   "cell_type": "markdown",
   "id": "8f6d9313",
   "metadata": {},
   "source": [
    "Данные находятся в файле /datasets/autos.csv"
   ]
  },
  {
   "cell_type": "markdown",
   "id": "893919f6",
   "metadata": {},
   "source": [
    "### Признаки"
   ]
  },
  {
   "cell_type": "markdown",
   "id": "b0dd4023",
   "metadata": {},
   "source": [
    "- `DateCrawled` — дата скачивания анкеты из базы\n",
    "- `VehicleType` — тип автомобильного кузова\n",
    "- `RegistrationYea`r — год регистрации автомобиля\n",
    "- `Gearbox` — тип коробки передач\n",
    "- `Power` — мощность (л. с.)\n",
    "- `Model` — модель автомобиля\n",
    "- `Kilometer` — пробег (км)\n",
    "- `RegistrationMonth` — месяц регистрации автомобиля\n",
    "- `FuelType` — тип топлива\n",
    "- `Brand` — марка автомобиля\n",
    "- `Repaired` — была машина в ремонте или нет\n",
    "- `DateCreated` — дата создания анкеты\n",
    "- `NumberOfPictures` — количество фотографий автомобиля\n",
    "- `PostalCode` — почтовый индекс владельца анкеты (пользователя)\n",
    "- `LastSeen` — дата последней активности пользователя"
   ]
  },
  {
   "cell_type": "markdown",
   "id": "0d966f5f",
   "metadata": {},
   "source": [
    "Дабы не тратить время на изучение и корректировку данных в неинформативных признаках, мы их сразу удалим:\n",
    "\n",
    "- DateCrawled — дата скачивания анкеты из базы\n",
    "- RegistrationMonth — месяц регистрации автомобиля (так как месяц подготовки проекта не обозначен, месяц не имеет значения, года регистрации будет достаточно)\n",
    "- DateCreated — дата создания анкеты\n",
    "- NumberOfPictures — количество фотографий автомобиля\n",
    "- PostalCode — почтовый индекс владельца анкеты (пользователя)\n",
    "- LastSeen — дата последней активности пользователя"
   ]
  },
  {
   "cell_type": "markdown",
   "id": "0ae243bc",
   "metadata": {},
   "source": [
    "### Целевой признак"
   ]
  },
  {
   "cell_type": "markdown",
   "id": "2bc397d6",
   "metadata": {},
   "source": [
    "- `Price` — цена (евро)"
   ]
  },
  {
   "cell_type": "markdown",
   "id": "17da623b",
   "metadata": {},
   "source": [
    "### Примечание"
   ]
  },
  {
   "cell_type": "markdown",
   "id": "3bcd8c9a",
   "metadata": {},
   "source": [
    "- Для оценки качества моделей применяйте метрику RMSE.\n",
    "- Значение метрики RMSE должно быть меньше 2500."
   ]
  },
  {
   "cell_type": "markdown",
   "id": "8549e992",
   "metadata": {},
   "source": [
    "## 1  Подготовка данных"
   ]
  },
  {
   "cell_type": "markdown",
   "id": "5adbe5f3",
   "metadata": {},
   "source": [
    "### Загрузка данных"
   ]
  },
  {
   "cell_type": "raw",
   "id": "0f5a282d",
   "metadata": {},
   "source": [
    "# Загрузим pandas profiling\n",
    "\n",
    "!pip3 install pandas-profiling==2.11"
   ]
  },
  {
   "cell_type": "code",
   "execution_count": 1,
   "id": "38fdb319",
   "metadata": {},
   "outputs": [
    {
     "name": "stdout",
     "output_type": "stream",
     "text": [
      "Requirement already satisfied: lightgbm in /opt/conda/lib/python3.9/site-packages (3.3.1)\n",
      "Requirement already satisfied: wheel in /opt/conda/lib/python3.9/site-packages (from lightgbm) (0.36.2)\n",
      "Requirement already satisfied: scipy in /opt/conda/lib/python3.9/site-packages (from lightgbm) (1.9.1)\n",
      "Requirement already satisfied: numpy in /opt/conda/lib/python3.9/site-packages (from lightgbm) (1.21.1)\n",
      "Requirement already satisfied: scikit-learn!=0.22.0 in /opt/conda/lib/python3.9/site-packages (from lightgbm) (0.24.1)\n",
      "Requirement already satisfied: joblib>=0.11 in /opt/conda/lib/python3.9/site-packages (from scikit-learn!=0.22.0->lightgbm) (1.1.0)\n",
      "Requirement already satisfied: threadpoolctl>=2.0.0 in /opt/conda/lib/python3.9/site-packages (from scikit-learn!=0.22.0->lightgbm) (3.1.0)\n",
      "Note: you may need to restart the kernel to use updated packages.\n"
     ]
    }
   ],
   "source": [
    "pip install lightgbm"
   ]
  },
  {
   "cell_type": "code",
   "execution_count": 2,
   "id": "1961a6ec",
   "metadata": {},
   "outputs": [
    {
     "name": "stdout",
     "output_type": "stream",
     "text": [
      "Collecting category_encoders\n",
      "  Downloading category_encoders-2.6.2-py2.py3-none-any.whl (81 kB)\n",
      "\u001b[K     |████████████████████████████████| 81 kB 2.0 MB/s eta 0:00:01\n",
      "\u001b[?25hRequirement already satisfied: pandas>=1.0.5 in /opt/conda/lib/python3.9/site-packages (from category_encoders) (1.2.4)\n",
      "Requirement already satisfied: scikit-learn>=0.20.0 in /opt/conda/lib/python3.9/site-packages (from category_encoders) (0.24.1)\n",
      "Requirement already satisfied: scipy>=1.0.0 in /opt/conda/lib/python3.9/site-packages (from category_encoders) (1.9.1)\n",
      "Requirement already satisfied: statsmodels>=0.9.0 in /opt/conda/lib/python3.9/site-packages (from category_encoders) (0.13.2)\n",
      "Requirement already satisfied: patsy>=0.5.1 in /opt/conda/lib/python3.9/site-packages (from category_encoders) (0.5.2)\n",
      "Requirement already satisfied: numpy>=1.14.0 in /opt/conda/lib/python3.9/site-packages (from category_encoders) (1.21.1)\n",
      "Requirement already satisfied: python-dateutil>=2.7.3 in /opt/conda/lib/python3.9/site-packages (from pandas>=1.0.5->category_encoders) (2.8.1)\n",
      "Requirement already satisfied: pytz>=2017.3 in /opt/conda/lib/python3.9/site-packages (from pandas>=1.0.5->category_encoders) (2021.1)\n",
      "Requirement already satisfied: six in /opt/conda/lib/python3.9/site-packages (from patsy>=0.5.1->category_encoders) (1.16.0)\n",
      "Requirement already satisfied: threadpoolctl>=2.0.0 in /opt/conda/lib/python3.9/site-packages (from scikit-learn>=0.20.0->category_encoders) (3.1.0)\n",
      "Requirement already satisfied: joblib>=0.11 in /opt/conda/lib/python3.9/site-packages (from scikit-learn>=0.20.0->category_encoders) (1.1.0)\n",
      "Requirement already satisfied: packaging>=21.3 in /opt/conda/lib/python3.9/site-packages (from statsmodels>=0.9.0->category_encoders) (21.3)\n",
      "Requirement already satisfied: pyparsing!=3.0.5,>=2.0.2 in /opt/conda/lib/python3.9/site-packages (from packaging>=21.3->statsmodels>=0.9.0->category_encoders) (2.4.7)\n",
      "Installing collected packages: category-encoders\n",
      "Successfully installed category-encoders-2.6.2\n",
      "Note: you may need to restart the kernel to use updated packages.\n"
     ]
    }
   ],
   "source": [
    "pip install category_encoders"
   ]
  },
  {
   "cell_type": "code",
   "execution_count": 3,
   "id": "890acaab",
   "metadata": {},
   "outputs": [],
   "source": [
    "# Загрузим необходимые библиотеки и функции \n",
    "\n",
    "import pandas as pd\n",
    "import numpy as np\n",
    "import matplotlib.pyplot as plt\n",
    "import seaborn as sns\n",
    "#from pandas_profiling import ProfileReport\n",
    "import time\n",
    "import re\n",
    "import warnings\n",
    "from sklearn.model_selection import train_test_split\n",
    "import category_encoders as ce\n",
    "from sklearn.preprocessing import OrdinalEncoder\n",
    "from sklearn.preprocessing import OneHotEncoder\n",
    "from sklearn.preprocessing import StandardScaler\n",
    "from sklearn.metrics import mean_squared_error\n",
    "from sklearn.dummy import DummyRegressor\n",
    "from lightgbm import LGBMRegressor\n",
    "from sklearn.linear_model import LinearRegression\n",
    "from sklearn.ensemble import RandomForestRegressor"
   ]
  },
  {
   "cell_type": "code",
   "execution_count": 4,
   "id": "989ea3e5",
   "metadata": {},
   "outputs": [],
   "source": [
    "# отключить некритические предупреждения в коде\n",
    "\n",
    "warnings.filterwarnings(\"ignore\")"
   ]
  },
  {
   "cell_type": "code",
   "execution_count": 5,
   "id": "7d0ab895",
   "metadata": {},
   "outputs": [],
   "source": [
    "# сбросим ограничение на количество выводимых столбцов, что бы просмотреть все столбцы\n",
    "\n",
    "pd.set_option('display.max_columns', None)"
   ]
  },
  {
   "cell_type": "code",
   "execution_count": 6,
   "id": "f0283a3c",
   "metadata": {},
   "outputs": [],
   "source": [
    "# загрузим файл \n",
    "try:\n",
    "    data = pd.read_csv('C:\\\\Users\\\\magas\\\\Desktop\\\\Проекты\\\\autos.csv')\n",
    "except:\n",
    "    data = pd.read_csv('/datasets/autos.csv')"
   ]
  },
  {
   "cell_type": "markdown",
   "id": "84888712",
   "metadata": {},
   "source": [
    "**Дабы не тратить время на изучение и корректировку данных в неинформативных признаках, мы их сразу удалим:**\n",
    "\n",
    "- DateCrawled — дата скачивания анкеты из базы\n",
    "- RegistrationMonth — месяц регистрации автомобиля (так как месяц подготовки проекта не обозначен, месяц не имеет значения, года регистрации будет достаточно)\n",
    "- DateCreated — дата создания анкеты\n",
    "- NumberOfPictures — количество фотографий автомобиля\n",
    "- PostalCode — почтовый индекс владельца анкеты (пользователя)\n",
    "- PostalCode — дата последней активности пользователя\n",
    "- LastSeen — дата последней активности пользователя"
   ]
  },
  {
   "cell_type": "code",
   "execution_count": 7,
   "id": "3768272b",
   "metadata": {},
   "outputs": [],
   "source": [
    "# Удалим ненужные признаки\n",
    "\n",
    "delet_columns = ['DateCrawled', 'RegistrationMonth','DateCreated','NumberOfPictures','PostalCode','PostalCode','LastSeen']\n",
    "\n",
    "data = data.drop(delet_columns, axis=1)"
   ]
  },
  {
   "cell_type": "code",
   "execution_count": 8,
   "id": "cba3303a",
   "metadata": {},
   "outputs": [
    {
     "data": {
      "text/plain": [
       "Index(['price', 'vehicle_type', 'registration_year', 'gearbox', 'power',\n",
       "       'model', 'kilometer', 'fuel_type', 'brand', 'repaired'],\n",
       "      dtype='object')"
      ]
     },
     "execution_count": 8,
     "metadata": {},
     "output_type": "execute_result"
    }
   ],
   "source": [
    "# Также сразу скорректируем названия признаков\n",
    "\n",
    "data.columns = [re.sub(r'(?<!^)(?=[A-Z])', '_', i).lower()for i in data.columns]\n",
    "data.columns"
   ]
  },
  {
   "cell_type": "markdown",
   "id": "73325c95",
   "metadata": {},
   "source": [
    "### Анализ данных"
   ]
  },
  {
   "cell_type": "raw",
   "id": "96024afc",
   "metadata": {},
   "source": [
    "# Просмотрим информацию по датасетам\n",
    "\n",
    "profile_data = data.profile_report(minimal=True)\n",
    "\n",
    "profile_data"
   ]
  },
  {
   "cell_type": "markdown",
   "id": "1b812016",
   "metadata": {},
   "source": [
    "<div class=\"alert alert-block alert-success\">\n",
    "<b>Успех:</b> Хороший инструмент)\n",
    "</div>\n"
   ]
  },
  {
   "cell_type": "markdown",
   "id": "b7f91d85",
   "metadata": {},
   "source": [
    "Первое, что брасоется в глаза - неправдоподобно низкие показатели в `price` и `power`. \n",
    "\n",
    "Также много пропусков в `repaired`. ЛОгично предположить, что пропуск означенет отсутствие ремонтых работ - заполним соотвутствующими значениями.\n",
    "\n",
    "Вызывают сомнения машины, возрастом более 1000 лет... А также машины путешественников во времени(9999 года регистрации)\n",
    "\n",
    "Пропуски в `vehicle_type`,`fuel_type`,`gearbox`,`model`, `repaired` заполнить мы не можем, потому просто поменяем на unknown\n",
    "\n",
    "Еще вопрос к `fuel_type`: petrol b gasoline - одно и тоже. заменим gasoline на petrol, т.к. самый распространенный вариант. А пропуски, скорее всего, машина на бензине, потому и не указано - \"это же очевидно, что на блензине\""
   ]
  },
  {
   "cell_type": "code",
   "execution_count": 9,
   "id": "ec8880b1",
   "metadata": {},
   "outputs": [
    {
     "data": {
      "image/png": "[encoded data removed]",
      "text/plain": [
       "<Figure size 1080x360 with 1 Axes>"
      ]
     },
     "metadata": {
      "needs_background": "light"
     },
     "output_type": "display_data"
    }
   ],
   "source": [
    "data['price'].hist(bins =100,figsize=(15,5),range=(0,500))\n",
    "plt.show()"
   ]
  },
  {
   "cell_type": "code",
   "execution_count": 10,
   "id": "7ed44997",
   "metadata": {},
   "outputs": [
    {
     "data": {
      "image/png": "[encoded data removed]",
      "text/plain": [
       "<Figure size 432x288 with 1 Axes>"
      ]
     },
     "metadata": {
      "needs_background": "light"
     },
     "output_type": "display_data"
    }
   ],
   "source": [
    "# посмотрим на аномалии в price\n",
    "\n",
    "sns.boxplot(y='price', data=data)\n",
    "plt.show()"
   ]
  },
  {
   "cell_type": "code",
   "execution_count": 11,
   "id": "8d1eb47f",
   "metadata": {},
   "outputs": [
    {
     "data": {
      "text/html": [
       "<div>\n",
       "<style scoped>\n",
       "    .dataframe tbody tr th:only-of-type {\n",
       "        vertical-align: middle;\n",
       "    }\n",
       "\n",
       "    .dataframe tbody tr th {\n",
       "        vertical-align: top;\n",
       "    }\n",
       "\n",
       "    .dataframe thead th {\n",
       "        text-align: right;\n",
       "    }\n",
       "</style>\n",
       "<table border=\"1\" class=\"dataframe\">\n",
       "  <thead>\n",
       "    <tr style=\"text-align: right;\">\n",
       "      <th></th>\n",
       "      <th>price</th>\n",
       "      <th>vehicle_type</th>\n",
       "      <th>registration_year</th>\n",
       "      <th>gearbox</th>\n",
       "      <th>power</th>\n",
       "      <th>model</th>\n",
       "      <th>kilometer</th>\n",
       "      <th>fuel_type</th>\n",
       "      <th>brand</th>\n",
       "      <th>repaired</th>\n",
       "    </tr>\n",
       "  </thead>\n",
       "  <tbody>\n",
       "    <tr>\n",
       "      <th>0</th>\n",
       "      <td>480</td>\n",
       "      <td>NaN</td>\n",
       "      <td>1993</td>\n",
       "      <td>manual</td>\n",
       "      <td>0</td>\n",
       "      <td>golf</td>\n",
       "      <td>150000</td>\n",
       "      <td>petrol</td>\n",
       "      <td>volkswagen</td>\n",
       "      <td>NaN</td>\n",
       "    </tr>\n",
       "    <tr>\n",
       "      <th>7</th>\n",
       "      <td>0</td>\n",
       "      <td>sedan</td>\n",
       "      <td>1980</td>\n",
       "      <td>manual</td>\n",
       "      <td>50</td>\n",
       "      <td>other</td>\n",
       "      <td>40000</td>\n",
       "      <td>petrol</td>\n",
       "      <td>volkswagen</td>\n",
       "      <td>no</td>\n",
       "    </tr>\n",
       "    <tr>\n",
       "      <th>15</th>\n",
       "      <td>450</td>\n",
       "      <td>small</td>\n",
       "      <td>1910</td>\n",
       "      <td>NaN</td>\n",
       "      <td>0</td>\n",
       "      <td>ka</td>\n",
       "      <td>5000</td>\n",
       "      <td>petrol</td>\n",
       "      <td>ford</td>\n",
       "      <td>NaN</td>\n",
       "    </tr>\n",
       "    <tr>\n",
       "      <th>16</th>\n",
       "      <td>300</td>\n",
       "      <td>NaN</td>\n",
       "      <td>2016</td>\n",
       "      <td>NaN</td>\n",
       "      <td>60</td>\n",
       "      <td>polo</td>\n",
       "      <td>150000</td>\n",
       "      <td>petrol</td>\n",
       "      <td>volkswagen</td>\n",
       "      <td>NaN</td>\n",
       "    </tr>\n",
       "    <tr>\n",
       "      <th>23</th>\n",
       "      <td>450</td>\n",
       "      <td>small</td>\n",
       "      <td>1997</td>\n",
       "      <td>manual</td>\n",
       "      <td>50</td>\n",
       "      <td>arosa</td>\n",
       "      <td>150000</td>\n",
       "      <td>petrol</td>\n",
       "      <td>seat</td>\n",
       "      <td>no</td>\n",
       "    </tr>\n",
       "    <tr>\n",
       "      <th>...</th>\n",
       "      <td>...</td>\n",
       "      <td>...</td>\n",
       "      <td>...</td>\n",
       "      <td>...</td>\n",
       "      <td>...</td>\n",
       "      <td>...</td>\n",
       "      <td>...</td>\n",
       "      <td>...</td>\n",
       "      <td>...</td>\n",
       "      <td>...</td>\n",
       "    </tr>\n",
       "    <tr>\n",
       "      <th>354318</th>\n",
       "      <td>400</td>\n",
       "      <td>wagon</td>\n",
       "      <td>1991</td>\n",
       "      <td>manual</td>\n",
       "      <td>0</td>\n",
       "      <td>legacy</td>\n",
       "      <td>150000</td>\n",
       "      <td>petrol</td>\n",
       "      <td>subaru</td>\n",
       "      <td>NaN</td>\n",
       "    </tr>\n",
       "    <tr>\n",
       "      <th>354329</th>\n",
       "      <td>350</td>\n",
       "      <td>small</td>\n",
       "      <td>1996</td>\n",
       "      <td>NaN</td>\n",
       "      <td>65</td>\n",
       "      <td>punto</td>\n",
       "      <td>150000</td>\n",
       "      <td>NaN</td>\n",
       "      <td>fiat</td>\n",
       "      <td>NaN</td>\n",
       "    </tr>\n",
       "    <tr>\n",
       "      <th>354335</th>\n",
       "      <td>390</td>\n",
       "      <td>small</td>\n",
       "      <td>1997</td>\n",
       "      <td>auto</td>\n",
       "      <td>0</td>\n",
       "      <td>corsa</td>\n",
       "      <td>100000</td>\n",
       "      <td>petrol</td>\n",
       "      <td>opel</td>\n",
       "      <td>yes</td>\n",
       "    </tr>\n",
       "    <tr>\n",
       "      <th>354338</th>\n",
       "      <td>180</td>\n",
       "      <td>NaN</td>\n",
       "      <td>1995</td>\n",
       "      <td>NaN</td>\n",
       "      <td>0</td>\n",
       "      <td>NaN</td>\n",
       "      <td>125000</td>\n",
       "      <td>petrol</td>\n",
       "      <td>opel</td>\n",
       "      <td>NaN</td>\n",
       "    </tr>\n",
       "    <tr>\n",
       "      <th>354364</th>\n",
       "      <td>0</td>\n",
       "      <td>NaN</td>\n",
       "      <td>2005</td>\n",
       "      <td>manual</td>\n",
       "      <td>0</td>\n",
       "      <td>colt</td>\n",
       "      <td>150000</td>\n",
       "      <td>petrol</td>\n",
       "      <td>mitsubishi</td>\n",
       "      <td>yes</td>\n",
       "    </tr>\n",
       "  </tbody>\n",
       "</table>\n",
       "<p>36054 rows × 10 columns</p>\n",
       "</div>"
      ],
      "text/plain": [
       "        price vehicle_type  registration_year gearbox  power   model  \\\n",
       "0         480          NaN               1993  manual      0    golf   \n",
       "7           0        sedan               1980  manual     50   other   \n",
       "15        450        small               1910     NaN      0      ka   \n",
       "16        300          NaN               2016     NaN     60    polo   \n",
       "23        450        small               1997  manual     50   arosa   \n",
       "...       ...          ...                ...     ...    ...     ...   \n",
       "354318    400        wagon               1991  manual      0  legacy   \n",
       "354329    350        small               1996     NaN     65   punto   \n",
       "354335    390        small               1997    auto      0   corsa   \n",
       "354338    180          NaN               1995     NaN      0     NaN   \n",
       "354364      0          NaN               2005  manual      0    colt   \n",
       "\n",
       "        kilometer fuel_type       brand repaired  \n",
       "0          150000    petrol  volkswagen      NaN  \n",
       "7           40000    petrol  volkswagen       no  \n",
       "15           5000    petrol        ford      NaN  \n",
       "16         150000    petrol  volkswagen      NaN  \n",
       "23         150000    petrol        seat       no  \n",
       "...           ...       ...         ...      ...  \n",
       "354318     150000    petrol      subaru      NaN  \n",
       "354329     150000       NaN        fiat      NaN  \n",
       "354335     100000    petrol        opel      yes  \n",
       "354338     125000    petrol        opel      NaN  \n",
       "354364     150000    petrol  mitsubishi      yes  \n",
       "\n",
       "[36054 rows x 10 columns]"
      ]
     },
     "execution_count": 11,
     "metadata": {},
     "output_type": "execute_result"
    }
   ],
   "source": [
    "data[data['price'] < 500]"
   ]
  },
  {
   "cell_type": "code",
   "execution_count": 12,
   "id": "f2638bda",
   "metadata": {},
   "outputs": [
    {
     "data": {
      "text/html": [
       "<div>\n",
       "<style scoped>\n",
       "    .dataframe tbody tr th:only-of-type {\n",
       "        vertical-align: middle;\n",
       "    }\n",
       "\n",
       "    .dataframe tbody tr th {\n",
       "        vertical-align: top;\n",
       "    }\n",
       "\n",
       "    .dataframe thead th {\n",
       "        text-align: right;\n",
       "    }\n",
       "</style>\n",
       "<table border=\"1\" class=\"dataframe\">\n",
       "  <thead>\n",
       "    <tr style=\"text-align: right;\">\n",
       "      <th></th>\n",
       "      <th>price</th>\n",
       "      <th>vehicle_type</th>\n",
       "      <th>registration_year</th>\n",
       "      <th>gearbox</th>\n",
       "      <th>power</th>\n",
       "      <th>model</th>\n",
       "      <th>kilometer</th>\n",
       "      <th>fuel_type</th>\n",
       "      <th>brand</th>\n",
       "      <th>repaired</th>\n",
       "    </tr>\n",
       "  </thead>\n",
       "  <tbody>\n",
       "    <tr>\n",
       "      <th>0</th>\n",
       "      <td>480</td>\n",
       "      <td>NaN</td>\n",
       "      <td>1993</td>\n",
       "      <td>manual</td>\n",
       "      <td>0</td>\n",
       "      <td>golf</td>\n",
       "      <td>150000</td>\n",
       "      <td>petrol</td>\n",
       "      <td>volkswagen</td>\n",
       "      <td>NaN</td>\n",
       "    </tr>\n",
       "    <tr>\n",
       "      <th>1</th>\n",
       "      <td>18300</td>\n",
       "      <td>coupe</td>\n",
       "      <td>2011</td>\n",
       "      <td>manual</td>\n",
       "      <td>190</td>\n",
       "      <td>NaN</td>\n",
       "      <td>125000</td>\n",
       "      <td>gasoline</td>\n",
       "      <td>audi</td>\n",
       "      <td>yes</td>\n",
       "    </tr>\n",
       "    <tr>\n",
       "      <th>2</th>\n",
       "      <td>9800</td>\n",
       "      <td>suv</td>\n",
       "      <td>2004</td>\n",
       "      <td>auto</td>\n",
       "      <td>163</td>\n",
       "      <td>grand</td>\n",
       "      <td>125000</td>\n",
       "      <td>gasoline</td>\n",
       "      <td>jeep</td>\n",
       "      <td>NaN</td>\n",
       "    </tr>\n",
       "    <tr>\n",
       "      <th>3</th>\n",
       "      <td>1500</td>\n",
       "      <td>small</td>\n",
       "      <td>2001</td>\n",
       "      <td>manual</td>\n",
       "      <td>75</td>\n",
       "      <td>golf</td>\n",
       "      <td>150000</td>\n",
       "      <td>petrol</td>\n",
       "      <td>volkswagen</td>\n",
       "      <td>no</td>\n",
       "    </tr>\n",
       "    <tr>\n",
       "      <th>4</th>\n",
       "      <td>3600</td>\n",
       "      <td>small</td>\n",
       "      <td>2008</td>\n",
       "      <td>manual</td>\n",
       "      <td>69</td>\n",
       "      <td>fabia</td>\n",
       "      <td>90000</td>\n",
       "      <td>gasoline</td>\n",
       "      <td>skoda</td>\n",
       "      <td>no</td>\n",
       "    </tr>\n",
       "  </tbody>\n",
       "</table>\n",
       "</div>"
      ],
      "text/plain": [
       "   price vehicle_type  registration_year gearbox  power  model  kilometer  \\\n",
       "0    480          NaN               1993  manual      0   golf     150000   \n",
       "1  18300        coupe               2011  manual    190    NaN     125000   \n",
       "2   9800          suv               2004    auto    163  grand     125000   \n",
       "3   1500        small               2001  manual     75   golf     150000   \n",
       "4   3600        small               2008  manual     69  fabia      90000   \n",
       "\n",
       "  fuel_type       brand repaired  \n",
       "0    petrol  volkswagen      NaN  \n",
       "1  gasoline        audi      yes  \n",
       "2  gasoline        jeep      NaN  \n",
       "3    petrol  volkswagen       no  \n",
       "4  gasoline       skoda       no  "
      ]
     },
     "execution_count": 12,
     "metadata": {},
     "output_type": "execute_result"
    }
   ],
   "source": [
    "data.head()"
   ]
  },
  {
   "cell_type": "code",
   "execution_count": 13,
   "id": "37da1c61",
   "metadata": {},
   "outputs": [
    {
     "data": {
      "image/png": "[encoded data removed]",
      "text/plain": [
       "<Figure size 1080x360 with 1 Axes>"
      ]
     },
     "metadata": {
      "needs_background": "light"
     },
     "output_type": "display_data"
    }
   ],
   "source": [
    "# посмотри на годы регистрации\n",
    "\n",
    "data['registration_year'].hist(bins =100,figsize=(15,5),range=(2023,19500))\n",
    "plt.show()"
   ]
  },
  {
   "cell_type": "code",
   "execution_count": 14,
   "id": "3d318ba7",
   "metadata": {},
   "outputs": [
    {
     "data": {
      "text/html": [
       "<div>\n",
       "<style scoped>\n",
       "    .dataframe tbody tr th:only-of-type {\n",
       "        vertical-align: middle;\n",
       "    }\n",
       "\n",
       "    .dataframe tbody tr th {\n",
       "        vertical-align: top;\n",
       "    }\n",
       "\n",
       "    .dataframe thead th {\n",
       "        text-align: right;\n",
       "    }\n",
       "</style>\n",
       "<table border=\"1\" class=\"dataframe\">\n",
       "  <thead>\n",
       "    <tr style=\"text-align: right;\">\n",
       "      <th></th>\n",
       "      <th>price</th>\n",
       "      <th>vehicle_type</th>\n",
       "      <th>registration_year</th>\n",
       "      <th>gearbox</th>\n",
       "      <th>power</th>\n",
       "      <th>model</th>\n",
       "      <th>kilometer</th>\n",
       "      <th>fuel_type</th>\n",
       "      <th>brand</th>\n",
       "      <th>repaired</th>\n",
       "    </tr>\n",
       "  </thead>\n",
       "  <tbody>\n",
       "    <tr>\n",
       "      <th>15</th>\n",
       "      <td>450</td>\n",
       "      <td>small</td>\n",
       "      <td>1910</td>\n",
       "      <td>NaN</td>\n",
       "      <td>0</td>\n",
       "      <td>ka</td>\n",
       "      <td>5000</td>\n",
       "      <td>petrol</td>\n",
       "      <td>ford</td>\n",
       "      <td>NaN</td>\n",
       "    </tr>\n",
       "    <tr>\n",
       "      <th>6629</th>\n",
       "      <td>0</td>\n",
       "      <td>small</td>\n",
       "      <td>1910</td>\n",
       "      <td>NaN</td>\n",
       "      <td>0</td>\n",
       "      <td>NaN</td>\n",
       "      <td>5000</td>\n",
       "      <td>other</td>\n",
       "      <td>sonstige_autos</td>\n",
       "      <td>NaN</td>\n",
       "    </tr>\n",
       "    <tr>\n",
       "      <th>6977</th>\n",
       "      <td>135</td>\n",
       "      <td>NaN</td>\n",
       "      <td>1910</td>\n",
       "      <td>NaN</td>\n",
       "      <td>0</td>\n",
       "      <td>NaN</td>\n",
       "      <td>5000</td>\n",
       "      <td>NaN</td>\n",
       "      <td>opel</td>\n",
       "      <td>NaN</td>\n",
       "    </tr>\n",
       "    <tr>\n",
       "      <th>10183</th>\n",
       "      <td>1250</td>\n",
       "      <td>NaN</td>\n",
       "      <td>1910</td>\n",
       "      <td>NaN</td>\n",
       "      <td>0</td>\n",
       "      <td>other</td>\n",
       "      <td>5000</td>\n",
       "      <td>NaN</td>\n",
       "      <td>audi</td>\n",
       "      <td>NaN</td>\n",
       "    </tr>\n",
       "    <tr>\n",
       "      <th>18023</th>\n",
       "      <td>1</td>\n",
       "      <td>NaN</td>\n",
       "      <td>1910</td>\n",
       "      <td>NaN</td>\n",
       "      <td>0</td>\n",
       "      <td>NaN</td>\n",
       "      <td>5000</td>\n",
       "      <td>NaN</td>\n",
       "      <td>volkswagen</td>\n",
       "      <td>NaN</td>\n",
       "    </tr>\n",
       "    <tr>\n",
       "      <th>...</th>\n",
       "      <td>...</td>\n",
       "      <td>...</td>\n",
       "      <td>...</td>\n",
       "      <td>...</td>\n",
       "      <td>...</td>\n",
       "      <td>...</td>\n",
       "      <td>...</td>\n",
       "      <td>...</td>\n",
       "      <td>...</td>\n",
       "      <td>...</td>\n",
       "    </tr>\n",
       "    <tr>\n",
       "      <th>331076</th>\n",
       "      <td>0</td>\n",
       "      <td>NaN</td>\n",
       "      <td>1910</td>\n",
       "      <td>NaN</td>\n",
       "      <td>0</td>\n",
       "      <td>NaN</td>\n",
       "      <td>5000</td>\n",
       "      <td>NaN</td>\n",
       "      <td>sonstige_autos</td>\n",
       "      <td>NaN</td>\n",
       "    </tr>\n",
       "    <tr>\n",
       "      <th>333004</th>\n",
       "      <td>0</td>\n",
       "      <td>suv</td>\n",
       "      <td>1910</td>\n",
       "      <td>manual</td>\n",
       "      <td>0</td>\n",
       "      <td>NaN</td>\n",
       "      <td>5000</td>\n",
       "      <td>NaN</td>\n",
       "      <td>toyota</td>\n",
       "      <td>NaN</td>\n",
       "    </tr>\n",
       "    <tr>\n",
       "      <th>334901</th>\n",
       "      <td>1300</td>\n",
       "      <td>NaN</td>\n",
       "      <td>1910</td>\n",
       "      <td>NaN</td>\n",
       "      <td>0</td>\n",
       "      <td>NaN</td>\n",
       "      <td>5000</td>\n",
       "      <td>NaN</td>\n",
       "      <td>audi</td>\n",
       "      <td>NaN</td>\n",
       "    </tr>\n",
       "    <tr>\n",
       "      <th>343083</th>\n",
       "      <td>1</td>\n",
       "      <td>other</td>\n",
       "      <td>1910</td>\n",
       "      <td>NaN</td>\n",
       "      <td>0</td>\n",
       "      <td>NaN</td>\n",
       "      <td>5000</td>\n",
       "      <td>other</td>\n",
       "      <td>volkswagen</td>\n",
       "      <td>NaN</td>\n",
       "    </tr>\n",
       "    <tr>\n",
       "      <th>353961</th>\n",
       "      <td>200</td>\n",
       "      <td>NaN</td>\n",
       "      <td>1910</td>\n",
       "      <td>NaN</td>\n",
       "      <td>0</td>\n",
       "      <td>NaN</td>\n",
       "      <td>5000</td>\n",
       "      <td>petrol</td>\n",
       "      <td>sonstige_autos</td>\n",
       "      <td>NaN</td>\n",
       "    </tr>\n",
       "  </tbody>\n",
       "</table>\n",
       "<p>101 rows × 10 columns</p>\n",
       "</div>"
      ],
      "text/plain": [
       "        price vehicle_type  registration_year gearbox  power  model  \\\n",
       "15        450        small               1910     NaN      0     ka   \n",
       "6629        0        small               1910     NaN      0    NaN   \n",
       "6977      135          NaN               1910     NaN      0    NaN   \n",
       "10183    1250          NaN               1910     NaN      0  other   \n",
       "18023       1          NaN               1910     NaN      0    NaN   \n",
       "...       ...          ...                ...     ...    ...    ...   \n",
       "331076      0          NaN               1910     NaN      0    NaN   \n",
       "333004      0          suv               1910  manual      0    NaN   \n",
       "334901   1300          NaN               1910     NaN      0    NaN   \n",
       "343083      1        other               1910     NaN      0    NaN   \n",
       "353961    200          NaN               1910     NaN      0    NaN   \n",
       "\n",
       "        kilometer fuel_type           brand repaired  \n",
       "15           5000    petrol            ford      NaN  \n",
       "6629         5000     other  sonstige_autos      NaN  \n",
       "6977         5000       NaN            opel      NaN  \n",
       "10183        5000       NaN            audi      NaN  \n",
       "18023        5000       NaN      volkswagen      NaN  \n",
       "...           ...       ...             ...      ...  \n",
       "331076       5000       NaN  sonstige_autos      NaN  \n",
       "333004       5000       NaN          toyota      NaN  \n",
       "334901       5000       NaN            audi      NaN  \n",
       "343083       5000     other      volkswagen      NaN  \n",
       "353961       5000    petrol  sonstige_autos      NaN  \n",
       "\n",
       "[101 rows x 10 columns]"
      ]
     },
     "execution_count": 14,
     "metadata": {},
     "output_type": "execute_result"
    }
   ],
   "source": [
    "data[data['registration_year'] ==1910]"
   ]
  },
  {
   "cell_type": "code",
   "execution_count": 15,
   "id": "17f96dc5",
   "metadata": {},
   "outputs": [
    {
     "data": {
      "image/png": "[encoded data removed]",
      "text/plain": [
       "<Figure size 1080x360 with 1 Axes>"
      ]
     },
     "metadata": {
      "needs_background": "light"
     },
     "output_type": "display_data"
    }
   ],
   "source": [
    "data['power'].hist(bins =100,figsize=(15,5),range=(1500,20000))\n",
    "plt.show()"
   ]
  },
  {
   "cell_type": "markdown",
   "id": "dd0d7ec7",
   "metadata": {},
   "source": [
    "В данных много ошибок и нереалистичных данных.\n",
    "\n",
    "Принято решение удалить все машины стоимостью до 500 евро, мошностью до 5 и более 1500 лс.\n",
    "\n",
    "Пропуски в `vehicle_type`,`gearbox`,`model`, `repaired` поменяем на unknown"
   ]
  },
  {
   "cell_type": "markdown",
   "id": "c3347fbb",
   "metadata": {},
   "source": [
    "### Обработка данных"
   ]
  },
  {
   "cell_type": "code",
   "execution_count": 16,
   "id": "b12858fa",
   "metadata": {},
   "outputs": [],
   "source": [
    "# поменяем значения в repaired\n",
    "\n",
    "data['repaired'].fillna('no', inplace=True)"
   ]
  },
  {
   "cell_type": "code",
   "execution_count": 17,
   "id": "54e55e14",
   "metadata": {},
   "outputs": [],
   "source": [
    "# поменяем 'gasoline' и пропуски на 'petrol'\n",
    "\n",
    "data['fuel_type'] = data['fuel_type'].replace('gasoline','petrol')\n",
    "data['fuel_type'] = data['fuel_type'].fillna('petrol')"
   ]
  },
  {
   "cell_type": "code",
   "execution_count": 18,
   "id": "32e06ae3",
   "metadata": {},
   "outputs": [],
   "source": [
    "# удалим аномалии в price - машины стоимостью меньше 500 евро - нереально (если только не голый кузов)\n",
    "\n",
    "data = data[data['price'] > 500]"
   ]
  },
  {
   "cell_type": "code",
   "execution_count": 19,
   "id": "3eec98f5",
   "metadata": {},
   "outputs": [],
   "source": [
    "# Самый слабый автомобиль в мире имеет мощность в 5 л.с, самый мощный - 1500л.с.. Но мы ограничим диапозон 50 и 1000 лс - все остальное - явные выбросы или ошибки\n",
    "\n",
    "data = data[(data['power'] > 50) & (data['power'] <1000)]"
   ]
  },
  {
   "cell_type": "code",
   "execution_count": 20,
   "id": "2ddb5be0",
   "metadata": {},
   "outputs": [],
   "source": [
    "data['fuel_type'] = data['fuel_type'].replace('gasoline','petrol')"
   ]
  },
  {
   "cell_type": "code",
   "execution_count": 21,
   "id": "c3af01ec",
   "metadata": {},
   "outputs": [],
   "source": [
    "# ограничим год реистрации с 1930 по 2023\n",
    "\n",
    "data = data[(data['registration_year'] > 1930) & (data['registration_year'] <2024)]"
   ]
  },
  {
   "cell_type": "code",
   "execution_count": 22,
   "id": "a40c5f45",
   "metadata": {},
   "outputs": [],
   "source": [
    "# заполним пропуски в `vehicle_type`,`fuel_type`,`gearbox`,`model`, `repaired`\n",
    "\n",
    "columns = ['vehicle_type','gearbox','model'] \n",
    "\n",
    "for column in columns:\n",
    "    \n",
    "    data[column].fillna('unknown', inplace=True)"
   ]
  },
  {
   "cell_type": "markdown",
   "id": "1a868b29",
   "metadata": {},
   "source": [
    "### Подготовка данных к обучению"
   ]
  },
  {
   "cell_type": "markdown",
   "id": "c1aad001",
   "metadata": {},
   "source": [
    "Так как `train_test_split` делит общую выборку только на две части, сначала выделим тестовую часть, затем из оставшейся выделим валидационную.\n",
    "\n",
    "Тестовая и валидационная выборки должны быть равны и меньше обучающей, потому разделение будет 3/1/1(20% / 20% / 60%)"
   ]
  },
  {
   "cell_type": "code",
   "execution_count": 23,
   "id": "98657ba6",
   "metadata": {},
   "outputs": [],
   "source": [
    "features = data.drop(['price'], axis=1)\n",
    "target = data['price']\n",
    "\n",
    "features_train, features_valid_test, target_train, target_valid_test = train_test_split(\n",
    "    features, target, test_size=0.4, random_state=12345)\n",
    "\n",
    "features_valid, features_test, target_valid, target_test = train_test_split(\n",
    "    features_valid_test, target_valid_test, test_size=0.5, random_state=12345)"
   ]
  },
  {
   "cell_type": "code",
   "execution_count": 24,
   "id": "c8acc103",
   "metadata": {},
   "outputs": [],
   "source": [
    "enc_columns = ['vehicle_type', 'gearbox', 'model','fuel_type', 'brand', 'repaired']"
   ]
  },
  {
   "cell_type": "code",
   "execution_count": 25,
   "id": "46195405",
   "metadata": {},
   "outputs": [],
   "source": [
    "target_encoder = ce.TargetEncoder(cols=enc_columns, handle_unknown=0)"
   ]
  },
  {
   "cell_type": "code",
   "execution_count": 26,
   "id": "2fb0d28a",
   "metadata": {},
   "outputs": [],
   "source": [
    "features_train = target_encoder.fit_transform(features_train,target_train)"
   ]
  },
  {
   "cell_type": "code",
   "execution_count": 27,
   "id": "2efaaa8c",
   "metadata": {},
   "outputs": [],
   "source": [
    "features_valid = target_encoder.transform(features_valid)\n",
    "\n",
    "features_test = target_encoder.transform(features_test)"
   ]
  },
  {
   "cell_type": "markdown",
   "id": "bce2f919",
   "metadata": {},
   "source": [
    "##  Обучение модели"
   ]
  },
  {
   "cell_type": "markdown",
   "id": "17d2abf9",
   "metadata": {},
   "source": [
    "### Линейная регрессия"
   ]
  },
  {
   "cell_type": "code",
   "execution_count": 28,
   "id": "eee354a2",
   "metadata": {},
   "outputs": [
    {
     "name": "stdout",
     "output_type": "stream",
     "text": [
      "0.04769611358642578 0.004900693893432617 2857.4316028801272\n",
      "CPU times: user 40.5 ms, sys: 34.6 ms, total: 75.1 ms\n",
      "Wall time: 54.2 ms\n"
     ]
    }
   ],
   "source": [
    "%%time\n",
    "lr_model = LinearRegression()\n",
    "\n",
    "start_time = time.time()\n",
    "lr_model.fit(features_train,target_train)\n",
    "training_time = time.time() - start_time\n",
    "\n",
    "start_time = time.time()\n",
    "prediction = lr_model.predict(features_valid)\n",
    "prediction_time = time.time() - start_time\n",
    "\n",
    "\n",
    "mse = mean_squared_error(target_valid, prediction)\n",
    "rmse = mse**0.5\n",
    "print(training_time,prediction_time,rmse )"
   ]
  },
  {
   "cell_type": "markdown",
   "id": "fdae2e43",
   "metadata": {},
   "source": [
    "### LGBMRegressor"
   ]
  },
  {
   "cell_type": "code",
   "execution_count": 29,
   "id": "a023aace",
   "metadata": {},
   "outputs": [
    {
     "name": "stdout",
     "output_type": "stream",
     "text": [
      "Время обучения 3.994645595550537 \n",
      "Время прогнозирования 0.004900693893432617 \n",
      "Лучшая глубина: 4 \n",
      "Лучшее кол-во деревьев: 190 \n",
      "Лучший результат 1754.6003238325618\n",
      "CPU times: user 2min 44s, sys: 314 ms, total: 2min 44s\n",
      "Wall time: 2min 47s\n"
     ]
    }
   ],
   "source": [
    "%%time\n",
    "best_rmse = 1e10\n",
    "best_depth = 0\n",
    "best_estimators = 0\n",
    "\n",
    "for n_estimator  in range(10,200,10):\n",
    "    \n",
    "    for depth in range(1,5):\n",
    "        \n",
    "        lgbm_model  = LGBMRegressor(\n",
    "            max_depth = depth,\n",
    "            learning_rate=0.1,\n",
    "            n_estimators=n_estimator,\n",
    "            subsample = 0.5)\n",
    "        \n",
    "        \n",
    "        start_time = time.time()\n",
    "        lgbm_model.fit(features_train,target_train)\n",
    "        lirning_time = time.time() - start_time\n",
    "        \n",
    "         \n",
    "        start_time = time.time()\n",
    "        prediction = lgbm_model.predict(features_valid)\n",
    "        predicting_time = time.time() - start_time\n",
    "        \n",
    "        mse = mean_squared_error(target_valid, prediction)\n",
    "        rmse = mse**0.5\n",
    "        \n",
    "        if rmse < best_rmse:\n",
    "            best_rmse = rmse\n",
    "            best_depth = depth\n",
    "            best_estimators = n_estimator\n",
    "            \n",
    "print('Время обучения',lirning_time,\n",
    "      '\\nВремя прогнозирования',prediction_time,\n",
    "      '\\nЛучшая глубина:',best_depth,\n",
    "      '\\nЛучшее кол-во деревьев:',best_estimators,\n",
    "      '\\nЛучший результат',best_rmse )"
   ]
  },
  {
   "cell_type": "markdown",
   "id": "7d4c32ad",
   "metadata": {},
   "source": [
    "### Случайный лес"
   ]
  },
  {
   "cell_type": "code",
   "execution_count": 30,
   "id": "59bf8856",
   "metadata": {},
   "outputs": [
    {
     "name": "stdout",
     "output_type": "stream",
     "text": [
      "Время обучения 2.0910403728485107 \n",
      "Время прогнозирования 0.004900693893432617 \n",
      "Лучшая глубина: 2 \n",
      "Лучшее кол-во деревьев: 10 \n",
      "Лучший результат 3308.7412764505125\n",
      "CPU times: user 8.38 s, sys: 16.3 ms, total: 8.39 s\n",
      "Wall time: 8.46 s\n"
     ]
    }
   ],
   "source": [
    "%%time\n",
    "best_rmse = 1e10\n",
    "best_depth = 0\n",
    "best_estimators = 0\n",
    "\n",
    "for n_estimator  in range(10,50,10):\n",
    "    \n",
    "    for depth in range(1,3):\n",
    "        \n",
    "        rf_model = RandomForestRegressor(\n",
    "            n_estimators=n_estimator, \n",
    "            max_depth=depth, \n",
    "            random_state=42)\n",
    "        \n",
    "        start_time = time.time()\n",
    "        rf_model.fit(features_train,target_train)\n",
    "        lirning_time = time.time() - start_time\n",
    "        \n",
    "        \n",
    "        start_time = time.time()\n",
    "        prediction = rf_model.predict(features_valid)\n",
    "        predicting_time = time.time() - start_time\n",
    "        \n",
    "        mse = mean_squared_error(target_valid, prediction)\n",
    "        rmse = mse**0.5\n",
    "        \n",
    "        if rmse < best_rmse:\n",
    "                best_rmse = rmse\n",
    "                best_depth = depth\n",
    "                best_estimators = n_estimator\n",
    "\n",
    "print('Время обучения',lirning_time,\n",
    "      '\\nВремя прогнозирования',prediction_time,\n",
    "      '\\nЛучшая глубина:',best_depth,\n",
    "      '\\nЛучшее кол-во деревьев:',best_estimators,\n",
    "      '\\nЛучший результат',best_rmse )"
   ]
  },
  {
   "cell_type": "markdown",
   "id": "f76fc5b9",
   "metadata": {},
   "source": [
    "### Итог"
   ]
  },
  {
   "cell_type": "markdown",
   "id": "68eece45",
   "metadata": {},
   "source": [
    "Мы обучили 3 модели:\n",
    "\n",
    "- Модель линейной регрессии - RMSE  2857.431602880133\n",
    "- Модель LGBMRegressor - RMSE 1754.6003238325618\n",
    "- Модель случайного леса - RMSE 3308.7412764505125\n",
    "\n",
    "все модели обучались менее 10 минут, потому главным критерием считаем RMSE\n",
    "\n",
    "Как видим, лучше всех себя показала LGBMRegressor - ее и будем тестировать\n"
   ]
  },
  {
   "cell_type": "markdown",
   "id": "7d3cff95",
   "metadata": {},
   "source": [
    "## 3 Анализ модели"
   ]
  },
  {
   "cell_type": "code",
   "execution_count": 31,
   "id": "bd4b2c6f",
   "metadata": {},
   "outputs": [
    {
     "name": "stdout",
     "output_type": "stream",
     "text": [
      "0.04769611358642578 0.004900693893432617 1765.06694554966\n",
      "CPU times: user 4.65 s, sys: 11.9 ms, total: 4.66 s\n",
      "Wall time: 4.73 s\n"
     ]
    }
   ],
   "source": [
    "%%time\n",
    "\n",
    "lgbm_model  = LGBMRegressor(\n",
    "            max_depth = 4,\n",
    "            learning_rate=0.1,\n",
    "            n_estimators=190,\n",
    "            subsample = 0.5)\n",
    "        \n",
    "        \n",
    "start_time = time.time()\n",
    "lgbm_model.fit(features_train,target_train)\n",
    "lirning_time = time.time() - start_time\n",
    "\n",
    "\n",
    "start_time = time.time()\n",
    "prediction = lgbm_model.predict(features_test)\n",
    "predicting_time = time.time() - start_time\n",
    "        \n",
    "mse = mean_squared_error(target_test, prediction)\n",
    "rmse = mse**0.5\n",
    "\n",
    "print(training_time,prediction_time,rmse )"
   ]
  },
  {
   "cell_type": "markdown",
   "id": "c217ffd9",
   "metadata": {},
   "source": [
    "Результат более чем хороший. Время обучения и предсказания очень маленькое - менее 2 секунд на обучение и предсказание, при этом результат - 1765.06694554966. результаты на валидационной и тестовой выборке почти одинаковые, что говорит о том, что модель не переобучилась."
   ]
  },
  {
   "cell_type": "markdown",
   "id": "acc809af",
   "metadata": {},
   "source": [
    "## 4 Итог "
   ]
  },
  {
   "cell_type": "markdown",
   "id": "1f9aeb49",
   "metadata": {},
   "source": [
    "По ходу проекта были выполнены следующие шаги:\n",
    "\n",
    "Изучение и предобработка данных:\n",
    "\n",
    "- вывели информацию по всем таблицами столбцам\n",
    "- проверии и устранили пропуски и аномалии\n",
    "- скорректировали и подогнали выборки для последующих исследований\n",
    "\n",
    "Создание и обучение моделей:\n",
    "\n",
    "- Создали три модели и обучили на тренировочной выборке\n",
    "- Проверили работу моделей на валидационной выборке\n",
    "- оценили модели и выбрали самую реультативную\n",
    "Анализ модели:\n",
    "    \n",
    "- протестировали модель на тестовой выборке\n",
    "\n",
    "По итогу проекта лучшей оказалась LGBMRegressor: она хорошо показала себя на валидации, показав хорошее время и сразу выдав необходимый минимум RMSE.\n",
    "Хорошо себя показала на тесте, повторив результат.\n",
    "\n",
    "Также хотелось бы обратить внимание на данные: возможно, что аномалии связаны с ошибкой выгрузки, но, скорее всего,есть проблемы с заполнение данных по автомобилю при публикации  - рекомендую скорректировать анкету, исключив возможность указания неправдоподобных данных, а так же реализовать автоматическое заполнение не указанных клиентом пунктов"
   ]
  }
 ],
 "metadata": {
  "ExecuteTimeLog": [
   {
    "duration": 1762,
    "start_time": "2023-07-03T22:34:52.240Z"
   },
   {
    "duration": 3,
    "start_time": "2023-07-03T22:34:56.123Z"
   },
   {
    "duration": 3,
    "start_time": "2023-07-03T22:34:56.314Z"
   },
   {
    "duration": 3068,
    "start_time": "2023-07-03T22:34:57.090Z"
   },
   {
    "duration": 7,
    "start_time": "2023-07-03T22:35:00.579Z"
   },
   {
    "duration": 17,
    "start_time": "2023-07-03T22:35:08.579Z"
   },
   {
    "duration": 52,
    "start_time": "2023-07-03T22:35:08.994Z"
   },
   {
    "duration": 71,
    "start_time": "2023-07-03T22:35:09.730Z"
   },
   {
    "duration": 59,
    "start_time": "2023-07-03T22:35:12.190Z"
   },
   {
    "duration": 10,
    "start_time": "2023-07-03T22:35:13.538Z"
   },
   {
    "duration": 51,
    "start_time": "2023-07-03T22:35:14.266Z"
   },
   {
    "duration": 31,
    "start_time": "2023-07-03T22:35:18.650Z"
   },
   {
    "duration": 3228,
    "start_time": "2023-07-03T22:45:16.929Z"
   },
   {
    "duration": 255,
    "start_time": "2023-07-03T22:45:28.458Z"
   },
   {
    "duration": 220,
    "start_time": "2023-07-03T22:47:53.969Z"
   },
   {
    "duration": 3,
    "start_time": "2023-07-03T22:49:44.365Z"
   },
   {
    "duration": 3,
    "start_time": "2023-07-03T22:49:44.653Z"
   },
   {
    "duration": 130,
    "start_time": "2023-07-03T22:53:21.083Z"
   },
   {
    "duration": 1629,
    "start_time": "2023-07-03T22:54:15.578Z"
   },
   {
    "duration": 25,
    "start_time": "2023-07-03T22:54:34.306Z"
   },
   {
    "duration": 271,
    "start_time": "2023-07-03T22:55:00.353Z"
   },
   {
    "duration": 319,
    "start_time": "2023-07-03T22:55:09.810Z"
   },
   {
    "duration": 14,
    "start_time": "2023-07-03T22:56:02.178Z"
   },
   {
    "duration": 4,
    "start_time": "2023-07-03T22:56:24.170Z"
   },
   {
    "duration": 3,
    "start_time": "2023-07-03T22:56:25.176Z"
   },
   {
    "duration": 3,
    "start_time": "2023-07-03T22:56:25.417Z"
   },
   {
    "duration": 868,
    "start_time": "2023-07-03T22:56:25.737Z"
   },
   {
    "duration": 44,
    "start_time": "2023-07-03T22:56:27.521Z"
   },
   {
    "duration": 5,
    "start_time": "2023-07-03T22:56:28.537Z"
   },
   {
    "duration": 17,
    "start_time": "2023-07-03T22:56:34.192Z"
   },
   {
    "duration": 30,
    "start_time": "2023-07-03T22:56:34.561Z"
   },
   {
    "duration": 38,
    "start_time": "2023-07-03T22:56:35.033Z"
   },
   {
    "duration": 22,
    "start_time": "2023-07-03T22:56:36.681Z"
   },
   {
    "duration": 10,
    "start_time": "2023-07-03T22:56:37.361Z"
   },
   {
    "duration": 20,
    "start_time": "2023-07-03T22:56:37.970Z"
   },
   {
    "duration": 35,
    "start_time": "2023-07-03T22:56:39.184Z"
   },
   {
    "duration": 106,
    "start_time": "2023-07-03T22:56:42.624Z"
   },
   {
    "duration": 3,
    "start_time": "2023-07-03T22:56:43.248Z"
   },
   {
    "duration": 3,
    "start_time": "2023-07-03T22:56:43.697Z"
   },
   {
    "duration": 911,
    "start_time": "2023-07-03T22:56:44.113Z"
   },
   {
    "duration": 149,
    "start_time": "2023-07-03T22:56:45.026Z"
   },
   {
    "duration": 228,
    "start_time": "2023-07-03T22:56:49.400Z"
   },
   {
    "duration": 21,
    "start_time": "2023-07-03T22:57:03.202Z"
   },
   {
    "duration": 3,
    "start_time": "2023-07-03T22:57:26.274Z"
   },
   {
    "duration": 95,
    "start_time": "2023-07-03T22:57:40.256Z"
   },
   {
    "duration": 3,
    "start_time": "2023-07-03T22:57:40.785Z"
   },
   {
    "duration": 3,
    "start_time": "2023-07-03T22:57:41.240Z"
   },
   {
    "duration": 1091,
    "start_time": "2023-07-03T22:57:41.664Z"
   },
   {
    "duration": 189,
    "start_time": "2023-07-03T22:57:42.757Z"
   },
   {
    "duration": 189,
    "start_time": "2023-07-03T22:57:46.025Z"
   },
   {
    "duration": 438339,
    "start_time": "2023-07-03T22:57:52.120Z"
   },
   {
    "duration": 4757,
    "start_time": "2023-07-03T23:05:10.461Z"
   },
   {
    "duration": 7620,
    "start_time": "2023-07-03T23:05:15.220Z"
   },
   {
    "duration": 2291,
    "start_time": "2023-09-02T23:47:21.964Z"
   },
   {
    "duration": 2739,
    "start_time": "2023-09-02T23:47:24.258Z"
   },
   {
    "duration": 1544,
    "start_time": "2023-09-02T23:47:26.999Z"
   },
   {
    "duration": 2,
    "start_time": "2023-09-02T23:47:28.545Z"
   },
   {
    "duration": 16,
    "start_time": "2023-09-02T23:47:28.549Z"
   },
   {
    "duration": 1253,
    "start_time": "2023-09-02T23:47:28.567Z"
   },
   {
    "duration": 52,
    "start_time": "2023-09-02T23:47:29.821Z"
   },
   {
    "duration": 11,
    "start_time": "2023-09-02T23:47:29.875Z"
   },
   {
    "duration": 278,
    "start_time": "2023-09-02T23:47:29.888Z"
   },
   {
    "duration": 235,
    "start_time": "2023-09-02T23:47:30.167Z"
   },
   {
    "duration": 28,
    "start_time": "2023-09-02T23:47:30.404Z"
   },
   {
    "duration": 30,
    "start_time": "2023-09-02T23:47:30.434Z"
   },
   {
    "duration": 282,
    "start_time": "2023-09-02T23:47:30.466Z"
   },
   {
    "duration": 29,
    "start_time": "2023-09-02T23:47:30.751Z"
   },
   {
    "duration": 307,
    "start_time": "2023-09-02T23:47:30.782Z"
   },
   {
    "duration": 19,
    "start_time": "2023-09-02T23:47:31.091Z"
   },
   {
    "duration": 68,
    "start_time": "2023-09-02T23:47:31.112Z"
   },
   {
    "duration": 33,
    "start_time": "2023-09-02T23:47:31.182Z"
   },
   {
    "duration": 32,
    "start_time": "2023-09-02T23:47:31.217Z"
   },
   {
    "duration": 19,
    "start_time": "2023-09-02T23:47:31.250Z"
   },
   {
    "duration": 58,
    "start_time": "2023-09-02T23:47:31.271Z"
   },
   {
    "duration": 39,
    "start_time": "2023-09-02T23:47:31.331Z"
   },
   {
    "duration": 107,
    "start_time": "2023-09-02T23:47:31.372Z"
   },
   {
    "duration": 3,
    "start_time": "2023-09-02T23:47:31.481Z"
   },
   {
    "duration": 42,
    "start_time": "2023-09-02T23:47:31.486Z"
   },
   {
    "duration": 1119,
    "start_time": "2023-09-02T23:47:31.529Z"
   },
   {
    "duration": 187,
    "start_time": "2023-09-02T23:47:32.650Z"
   },
   {
    "duration": 60,
    "start_time": "2023-09-02T23:47:32.839Z"
   },
   {
    "duration": 167310,
    "start_time": "2023-09-02T23:47:32.982Z"
   },
   {
    "duration": 8462,
    "start_time": "2023-09-02T23:50:20.293Z"
   },
   {
    "duration": 4735,
    "start_time": "2023-09-02T23:50:28.757Z"
   }
  ],
  "kernelspec": {
   "display_name": "Python 3 (ipykernel)",
   "language": "python",
   "name": "python3"
  },
  "language_info": {
   "codemirror_mode": {
    "name": "ipython",
    "version": 3
   },
   "file_extension": ".py",
   "mimetype": "text/x-python",
   "name": "python",
   "nbconvert_exporter": "python",
   "pygments_lexer": "ipython3",
   "version": "3.9.5"
  },
  "toc": {
   "base_numbering": 1,
   "nav_menu": {},
   "number_sections": true,
   "sideBar": true,
   "skip_h1_title": true,
   "title_cell": "Table of Contents",
   "title_sidebar": "Contents",
   "toc_cell": false,
   "toc_position": {},
   "toc_section_display": true,
   "toc_window_display": false
  }
 },
 "nbformat": 4,
 "nbformat_minor": 5
}
