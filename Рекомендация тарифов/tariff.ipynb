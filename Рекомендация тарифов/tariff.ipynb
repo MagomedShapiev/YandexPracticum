{
  "cells": [
    {
      "cell_type": "code",
      "execution_count": null,
      "id": "22ed4055",
      "metadata": {
        "id": "22ed4055"
      },
      "outputs": [],
      "source": []
    },
    {
      "cell_type": "markdown",
      "id": "e65fb2a1",
      "metadata": {
        "id": "e65fb2a1"
      },
      "source": [
        "# Описание проекта\n",
        "\n",
        "\n",
        "Оператор мобильной связи «Мегалайн» выяснил: многие клиенты пользуются архивными тарифами.\n",
        "\n",
        "Они хотят построить систему, способную проанализировать поведение клиентов и предложить пользователям новый тариф: «Смарт» или «Ультра».\n",
        "\n",
        "В нашем распоряжении данные о поведении клиентов, которые уже перешли на эти тарифы (из проекта курса «Статистический анализ данных»). Нужно построить модель для задачи классификации, которая выберет подходящий тариф. Предобработка данных не понадобится — мы её уже сделали.\n",
        "\n",
        "Нужно построить  модель с максимально большим значением accurac\n",
        "Чтобы сдать проект успешно, нужно довести долю правильных ответов по крайней мере до 0.75."
      ]
    },
    {
      "cell_type": "markdown",
      "id": "e5c8aadb",
      "metadata": {
        "id": "e5c8aadb"
      },
      "source": [
        "# Инструкция по выполнению проекта\n",
        "\n",
        "\n",
        "- Открыть файл с данными и изучите его.\n",
        "\n",
        "- Разделить исходные данные на обучающую, валидационную и тестовую выборки.\n",
        "\n",
        "- Исследовать качество разных моделей, меняя гиперпараметры. Написать краткие  выводы исследования.\n",
        "\n",
        "- Проверить качество модели на тестовой выборке.\n",
        "\n",
        "- Дополнительное задание: проверить модели на вменяемость."
      ]
    },
    {
      "cell_type": "markdown",
      "id": "2eb262ae",
      "metadata": {
        "id": "2eb262ae"
      },
      "source": [
        "# Описание данных\n",
        "\n",
        "\n",
        "Каждый объект в наборе данных — это информация о поведении одного пользователя за месяц.\n",
        "Известно:\n",
        "\n",
        "\n",
        "- `сalls` — количество звонков,\n",
        "- `minutes` — суммарная длительность звонков в минутах,\n",
        "- `messages` — количество sms-сообщений,\n",
        "- `mb_used` — израсходованный интернет-трафик в Мб,\n",
        "- `is_ultra` — каким тарифом пользовался в течение месяца («Ультра» — 1, «Смарт» — 0)."
      ]
    },
    {
      "cell_type": "markdown",
      "id": "be5e8fdb",
      "metadata": {
        "id": "be5e8fdb"
      },
      "source": [
        "## Откроем файл и изучим его"
      ]
    },
    {
      "cell_type": "code",
      "execution_count": null,
      "id": "c117fe19",
      "metadata": {
        "id": "c117fe19"
      },
      "outputs": [],
      "source": [
        "#Импортируем необходимые библиотеки\n",
        "\n",
        "import pandas as pd\n",
        "from sklearn.tree import DecisionTreeClassifier\n",
        "from sklearn.ensemble import RandomForestClassifier\n",
        "from sklearn.linear_model import LogisticRegression\n",
        "from sklearn.metrics import accuracy_score\n",
        "from sklearn.model_selection import train_test_split\n",
        "from sklearn.dummy import DummyClassifier"
      ]
    },
    {
      "cell_type": "code",
      "execution_count": null,
      "id": "78350fa8",
      "metadata": {
        "id": "78350fa8"
      },
      "outputs": [],
      "source": [
        "# Откроем файл\n",
        "try:\n",
        "    df = pd.read_csv('/datasets/users_behavior.csv')\n",
        "except:\n",
        "    df = pd.read_csv('C:\\\\Users\\\\magas\\\\Desktop\\\\Проекты\\\\users_behavior.csv')"
      ]
    },
    {
      "cell_type": "code",
      "execution_count": null,
      "id": "52da71ea",
      "metadata": {
        "id": "52da71ea",
        "outputId": "eeee8f43-32c7-42c9-ddc3-7e2e629dd523"
      },
      "outputs": [
        {
          "name": "stdout",
          "output_type": "stream",
          "text": [
            "<class 'pandas.core.frame.DataFrame'>\n",
            "RangeIndex: 3214 entries, 0 to 3213\n",
            "Data columns (total 5 columns):\n",
            " #   Column    Non-Null Count  Dtype  \n",
            "---  ------    --------------  -----  \n",
            " 0   calls     3214 non-null   float64\n",
            " 1   minutes   3214 non-null   float64\n",
            " 2   messages  3214 non-null   float64\n",
            " 3   mb_used   3214 non-null   float64\n",
            " 4   is_ultra  3214 non-null   int64  \n",
            "dtypes: float64(4), int64(1)\n",
            "memory usage: 125.7 KB\n"
          ]
        }
      ],
      "source": [
        "# Посмотрим информацию\n",
        "\n",
        "df.info()"
      ]
    },
    {
      "cell_type": "code",
      "execution_count": null,
      "id": "15e66cec",
      "metadata": {
        "id": "15e66cec",
        "outputId": "b5a265f4-d67a-424c-f4c5-63bd4286e66c"
      },
      "outputs": [
        {
          "data": {
            "text/plain": [
              "calls       0\n",
              "minutes     0\n",
              "messages    0\n",
              "mb_used     0\n",
              "is_ultra    0\n",
              "dtype: int64"
            ]
          },
          "execution_count": 4,
          "metadata": {},
          "output_type": "execute_result"
        }
      ],
      "source": [
        "# Перепроверим пропуски\n",
        "\n",
        "df.isna().sum()"
      ]
    },
    {
      "cell_type": "code",
      "execution_count": null,
      "id": "66427d79",
      "metadata": {
        "id": "66427d79",
        "outputId": "c42fa680-ebd2-4a87-b8fd-d88903424e98"
      },
      "outputs": [
        {
          "name": "stdout",
          "output_type": "stream",
          "text": [
            "0\n"
          ]
        }
      ],
      "source": [
        "# и дубликаты\n",
        "print(df.duplicated().sum())"
      ]
    },
    {
      "cell_type": "code",
      "execution_count": null,
      "id": "43191962",
      "metadata": {
        "id": "43191962",
        "outputId": "a6230d68-e059-4b22-ec0d-50ef94949f73"
      },
      "outputs": [
        {
          "data": {
            "text/plain": [
              "0    2229\n",
              "1     985\n",
              "Name: is_ultra, dtype: int64"
            ]
          },
          "execution_count": 6,
          "metadata": {},
          "output_type": "execute_result"
        }
      ],
      "source": [
        "df['is_ultra'].value_counts()"
      ]
    },
    {
      "cell_type": "markdown",
      "id": "9e544a45",
      "metadata": {
        "id": "9e544a45"
      },
      "source": [
        "### Промежуточный вывод\n",
        "\n",
        "Данные, действительно, в отличном состоянии. Предобработка не требуется.\n",
        "\n",
        "В таблице 3214 строк, каждая из которых характеризует поведение одного пользователя в течении месяца.\n",
        "Данных достаточно для обучения модели.\n"
      ]
    },
    {
      "cell_type": "markdown",
      "id": "84b70b5c",
      "metadata": {
        "id": "84b70b5c"
      },
      "source": [
        "## Разделим исходные данные на обучающую, валидационную и тестовую выборки\n"
      ]
    },
    {
      "cell_type": "markdown",
      "id": "6ad0d8bb",
      "metadata": {
        "id": "6ad0d8bb"
      },
      "source": [
        "Так как `train_test_split` делит общую выборку только на две части, сначала выделим тестовую часть, затем из оставшейся выделим валидационную.\n",
        "\n",
        "Тестовая и валидационная выборки должны быть равны и меньше обучающей, потому разделение будет 3/1/1(20% / 20% / 60%)\n"
      ]
    },
    {
      "cell_type": "code",
      "execution_count": null,
      "id": "35a52b99",
      "metadata": {
        "id": "35a52b99"
      },
      "outputs": [],
      "source": [
        "# Выделим тестовую часть\n",
        "\n",
        "df_train_valid, df_test = train_test_split(df, test_size=0.20, random_state=12345)"
      ]
    },
    {
      "cell_type": "code",
      "execution_count": null,
      "id": "07d5e02f",
      "metadata": {
        "id": "07d5e02f"
      },
      "outputs": [],
      "source": [
        "df_train, df_valid = train_test_split(df_train_valid, test_size=0.25, random_state=12345)"
      ]
    },
    {
      "cell_type": "code",
      "execution_count": null,
      "id": "a3962d13",
      "metadata": {
        "id": "a3962d13",
        "outputId": "514f87fe-2703-4f2e-dae0-31a8f00e641c"
      },
      "outputs": [
        {
          "name": "stdout",
          "output_type": "stream",
          "text": [
            "643\n",
            "643\n",
            "1928\n"
          ]
        }
      ],
      "source": [
        "# Проверим размеры выборок\n",
        "\n",
        "print(df_test.shape[0])\n",
        "print(df_valid.shape[0])\n",
        "print(df_train.shape[0])"
      ]
    },
    {
      "cell_type": "markdown",
      "id": "7b51de4e",
      "metadata": {
        "id": "7b51de4e"
      },
      "source": [
        "### Промежуточный вывод\n",
        "\n",
        "Данный разделили, теперь можно приступать к обучению"
      ]
    },
    {
      "cell_type": "markdown",
      "id": "5ecbc387",
      "metadata": {
        "id": "5ecbc387"
      },
      "source": [
        "## Исследовать качество разных моделей, меняя гиперпараметры. Написать краткие выводы исследования."
      ]
    },
    {
      "cell_type": "markdown",
      "id": "f9495831",
      "metadata": {
        "id": "f9495831"
      },
      "source": [
        "**В первую очередь, разделим обучаюдие признаки и целевой**\n"
      ]
    },
    {
      "cell_type": "code",
      "execution_count": null,
      "id": "1c09f6a3",
      "metadata": {
        "id": "1c09f6a3"
      },
      "outputs": [],
      "source": [
        "# Обучающие\n",
        "\n",
        "features_train = df_train.drop(['is_ultra'],axis=1)\n",
        "target_train = df_train['is_ultra']"
      ]
    },
    {
      "cell_type": "code",
      "execution_count": null,
      "id": "7fbd0fd3",
      "metadata": {
        "id": "7fbd0fd3"
      },
      "outputs": [],
      "source": [
        "# Валидационные\n",
        "\n",
        "features_valid = df_valid.drop(['is_ultra'],axis=1)\n",
        "target_valid = df_valid['is_ultra']"
      ]
    },
    {
      "cell_type": "code",
      "execution_count": null,
      "id": "c3f572b0",
      "metadata": {
        "id": "c3f572b0"
      },
      "outputs": [],
      "source": [
        "# Тестовые\n",
        "\n",
        "features_test = df_test.drop(['is_ultra'],axis=1)\n",
        "target_test = df_test['is_ultra']"
      ]
    },
    {
      "cell_type": "markdown",
      "id": "aa3badcc",
      "metadata": {
        "id": "aa3badcc"
      },
      "source": [
        "Теперь приступим к обучению.\n",
        "\n",
        "### Сперва возьмем дерево решений, перебрав циклом глубину от 1 до 10 и выбрав наилучший"
      ]
    },
    {
      "cell_type": "code",
      "execution_count": null,
      "id": "7f78906b",
      "metadata": {
        "id": "7f78906b",
        "outputId": "8a5f2bfe-3f54-413c-f2fd-10811d65f2ef"
      },
      "outputs": [
        {
          "name": "stdout",
          "output_type": "stream",
          "text": [
            "Наилучший результат: 0.7744945567651633\n",
            "Максимальная глубина: 7\n"
          ]
        }
      ],
      "source": [
        "# Создадим переменные, в которые сохраним лучшую модель и лучший результат accuracy\n",
        "best_tree_model = None\n",
        "best_result = 0\n",
        "best_depth  = 0\n",
        "\n",
        "# теперь пройдемся циклом, подставляя значения максимальной глубины\n",
        "\n",
        "for depth in range(1,11):\n",
        "\n",
        "    best_tree_model = DecisionTreeClassifier(random_state=12345, max_depth=depth)\n",
        "    best_tree_model.fit(features_train,target_train)\n",
        "    prediction_valid = best_tree_model.predict(features_valid)\n",
        "    result = accuracy_score(target_valid,prediction_valid)\n",
        "    # Можно узнать результат accuracy и просто методом score.\n",
        "    # result = best_tree_model.score(features_valid,target_valid)\n",
        "\n",
        "# Найдем лучшие результаты\n",
        "\n",
        "    if result > best_result:\n",
        "        best_depth = depth\n",
        "        best_result = result\n",
        "        best_tree_model = best_tree_model\n",
        "\n",
        "# Выведем на экран\n",
        "\n",
        "print('Наилучший результат:', best_result,)\n",
        "print('Максимальная глубина:', best_depth)"
      ]
    },
    {
      "cell_type": "markdown",
      "id": "6d0a4cee",
      "metadata": {
        "id": "6d0a4cee"
      },
      "source": [
        "### Теперь случайный лес\n",
        "\n",
        "**Так же с помощью циклом подберем наилучшее количество деревьев и глубину каждого**"
      ]
    },
    {
      "cell_type": "code",
      "execution_count": null,
      "id": "af6a8712",
      "metadata": {
        "id": "af6a8712",
        "outputId": "0706ee86-894f-4e58-eb55-b8bb7207323b"
      },
      "outputs": [
        {
          "name": "stdout",
          "output_type": "stream",
          "text": [
            "Наилучший результат: 0.7993779160186625\n",
            "Максимальная глубина: 10\n",
            "Количество деревьев: 36\n"
          ]
        }
      ],
      "source": [
        "# Создадим переменные, в которые сохраним лучшую модель и лучший результат accuracy\n",
        "best_forest_model = None\n",
        "best_result = 0\n",
        "best_depth  = 0\n",
        "best_est = 0\n",
        "# теперь пройдемся циклом, подставляя значения максимальной глубины\n",
        "\n",
        "for est in range(1,51):\n",
        "    for depth in range(1,11):\n",
        "\n",
        "        best_forest_model = RandomForestClassifier(random_state=12345, max_depth=depth, n_estimators=est)\n",
        "        best_forest_model.fit(features_train,target_train)\n",
        "        prediction_valid = best_forest_model.predict(features_valid)\n",
        "        result = accuracy_score(target_valid,prediction_valid)\n",
        "        # Можно узнать результат accuracy и просто методом score.\n",
        "        # result = best_forest_model.score(features_valid,target_valid)\n",
        "\n",
        "# Найдем лучшие результаты\n",
        "\n",
        "        if result > best_result:\n",
        "            best_depth = depth\n",
        "            best_result = result\n",
        "            best_forest_model = best_forest_model\n",
        "            best_est = est\n",
        "\n",
        "# Выведем на экран\n",
        "\n",
        "print('Наилучший результат:', best_result)\n",
        "print('Максимальная глубина:', best_depth)\n",
        "print('Количество деревьев:', best_est)"
      ]
    },
    {
      "cell_type": "markdown",
      "id": "1a21aad0",
      "metadata": {
        "id": "1a21aad0"
      },
      "source": [
        "### Логистическая регрессия"
      ]
    },
    {
      "cell_type": "code",
      "execution_count": null,
      "id": "50da4a0c",
      "metadata": {
        "id": "50da4a0c",
        "outputId": "5246bd5b-acb8-4944-ee3c-70ee8f2e2629"
      },
      "outputs": [
        {
          "name": "stdout",
          "output_type": "stream",
          "text": [
            "Наилучший результат: 0.7262830482115086\n"
          ]
        }
      ],
      "source": [
        "linear_model = LogisticRegression(random_state=12345, solver='lbfgs', max_iter=100)\n",
        "linear_model.fit(features_train,target_train)\n",
        "prediction_valid = linear_model.predict(features_valid)\n",
        "\n",
        "result = accuracy_score(target_valid,prediction_valid)\n",
        "\n",
        "# Можно узнать результат accuracy и просто методом score.\n",
        "# result = best_forest_model.score(features_valid,target_valid)\n",
        "\n",
        "print('Наилучший результат:', result)"
      ]
    },
    {
      "cell_type": "markdown",
      "id": "60c8a6cd",
      "metadata": {
        "id": "60c8a6cd"
      },
      "source": [
        "### Промежуточный вывод\n",
        "\n",
        "Проверили три алгоритма, с помощью циклов подобрав оптимальные глубины и количество деревьев.\n",
        "\n",
        "Так как перед нами стоит задача выбрать самое высокое качестве, не обращая внимание на скорость, лучше всего на валидационной выборке себя показал Случайный лес с результатом в 0.79937791601866255, при количесвте деревьей -20 , глубине каждого дерева - 10.\n",
        "\n",
        "Дерево решений - результат 0.7744945567651633, при глубине в 7\n",
        "\n",
        "Логистическая регрессия показала худший результат из трех - 0.7262830482115086"
      ]
    },
    {
      "cell_type": "markdown",
      "id": "e64892a8",
      "metadata": {
        "id": "e64892a8"
      },
      "source": [
        "## Проверить качество модели на тестовой выборке."
      ]
    },
    {
      "cell_type": "markdown",
      "id": "5508069b",
      "metadata": {
        "id": "5508069b"
      },
      "source": [
        "Модели обучены, теперь проверим, как они будут предсказывать на тестовой выборке"
      ]
    },
    {
      "cell_type": "code",
      "execution_count": null,
      "id": "2fb5f9d4",
      "metadata": {
        "id": "2fb5f9d4",
        "outputId": "36562d76-28f3-40ad-eb07-5f3b9ecfef35"
      },
      "outputs": [
        {
          "data": {
            "text/plain": [
              "0.7713841368584758"
            ]
          },
          "execution_count": 18,
          "metadata": {},
          "output_type": "execute_result"
        }
      ],
      "source": [
        "# Дерево решений\n",
        "\n",
        "pridiction_test = best_tree_model.predict(features_test)\n",
        "accuracy_score(target_test,pridiction_test)"
      ]
    },
    {
      "cell_type": "code",
      "execution_count": null,
      "id": "641ea997",
      "metadata": {
        "id": "641ea997",
        "outputId": "d5310a9a-19e2-46a7-cfbb-4feb5eb57b64"
      },
      "outputs": [
        {
          "data": {
            "text/plain": [
              "0.7993779160186625"
            ]
          },
          "execution_count": 19,
          "metadata": {},
          "output_type": "execute_result"
        }
      ],
      "source": [
        "# Случайный лес\n",
        "\n",
        "pridiction_test = best_forest_model.predict(features_test)\n",
        "accuracy_score(target_test,pridiction_test)"
      ]
    },
    {
      "cell_type": "code",
      "execution_count": null,
      "id": "0ab834f4",
      "metadata": {
        "id": "0ab834f4",
        "outputId": "10f965d3-b90a-45c8-b5a3-5dbf90d768dc"
      },
      "outputs": [
        {
          "data": {
            "text/plain": [
              "0.7589424572317263"
            ]
          },
          "execution_count": 20,
          "metadata": {},
          "output_type": "execute_result"
        }
      ],
      "source": [
        "# Логистическая регрессия\n",
        "\n",
        "pridiction_test = linear_model.predict(features_test)\n",
        "accuracy_score(target_test,pridiction_test)"
      ]
    },
    {
      "cell_type": "markdown",
      "id": "f7b06255",
      "metadata": {
        "id": "f7b06255"
      },
      "source": [
        "### Промежуточный вывод\n",
        "\n",
        "Проверили модели на тестовых выборках и результаты такие же, как и при работе с валидационной выборкой:\n",
        "\n",
        "Лучше всего справился случайный лес, почти один в один повторив результат проверки на валидационной выборке - 0.7993779160186625\n",
        "\n",
        "Далее дерево решений, практически 1 в 1 повторившее результат - 0.7713841368584758  \n",
        "\n",
        "Замыкает тройку логистическая регрессия, показашая на тестовой выборке лучше результат, чем  на валидационной -\n",
        "\n",
        "Так как перед нами стоит задача выбрать самое высокое качестве, не обращая внимание на скорость, выбор падает на **случайный лес**"
      ]
    },
    {
      "cell_type": "markdown",
      "id": "5add7e67",
      "metadata": {
        "id": "5add7e67"
      },
      "source": [
        "## Дополнительное задание: проверить модели на вменяемость."
      ]
    },
    {
      "cell_type": "markdown",
      "id": "375cc755",
      "metadata": {
        "id": "375cc755"
      },
      "source": [
        "Для проверки вменяемости модели воспользуемся \"моделью-идиоткой\" - `DummyClassifier`, обучим ее на тех же признаках, что и основные модели и сравним результаты"
      ]
    },
    {
      "cell_type": "code",
      "execution_count": null,
      "id": "f2f6bf5e",
      "metadata": {
        "id": "f2f6bf5e",
        "outputId": "f7909b1b-ffa6-4c4a-d8a5-9cf6da101578"
      },
      "outputs": [
        {
          "name": "stdout",
          "output_type": "stream",
          "text": [
            "0.6951788491446346\n"
          ]
        }
      ],
      "source": [
        "dummy_model = DummyClassifier(strategy='most_frequent')\n",
        "\n",
        "dummy_model.fit(features_train,target_train)\n",
        "\n",
        "result = dummy_model.score(features_test,target_test)\n",
        "print(result)"
      ]
    },
    {
      "cell_type": "markdown",
      "id": "662f51e0",
      "metadata": {
        "id": "662f51e0"
      },
      "source": [
        "### Промeжуточный вывод\n",
        "\n",
        "Как видим, результат ниже, чем у основных моделей, потому можем считать модели, обученные в проекте, вменяемыми."
      ]
    },
    {
      "cell_type": "markdown",
      "id": "b56e1298",
      "metadata": {
        "id": "b56e1298"
      },
      "source": [
        "# ОБЩИЙ ВЫВОД"
      ]
    },
    {
      "cell_type": "markdown",
      "id": "1c943958",
      "metadata": {
        "id": "1c943958"
      },
      "source": [
        "В данном проекте мы проанализировали данные о поведении пользователей для создания модели, которая помогла бы корректно предлагать клиента подходящий им тариф.\n",
        "\n",
        "Для этого мы проведали следующие шаги:\n",
        "\n",
        "- Открыли файл с данными и изучили его: посмотрели общую информацию. перепроверили на пропуски и дубликаты\n",
        "\n",
        "- Разделили исходные данные на обучающую, валидационную и тестовую выборки в соотношении 3/1/1. В итогу у нас получились выборки размерами 1928, 643, 643 соответственно\n",
        "\n",
        "- Создали 3 модели под три алгоритма обучения:\n",
        "    `best_tree_model` - решающее дерево\n",
        "    `best_forest_model` - случайный лес\n",
        "    `leaner_model`- Логистическая регрессия.\n",
        "    \n",
        "- Исследовали и сравнили  качество разных моделей на ваидационной выборке, с помощью циклов меняя и подбирая лучшие гиперпараметры\n",
        "\n",
        "- Проверить качество модели на тестовой выборке и сравнили результаты\n",
        "\n",
        "- Дополнительно проверили модели на вменяемость с помощью `DummyClassifier`.\n"
      ]
    },
    {
      "cell_type": "markdown",
      "id": "eeb1cc44",
      "metadata": {
        "id": "eeb1cc44"
      },
      "source": [
        ""
      ]
    },
    {
      "cell_type": "markdown",
      "id": "99d85aeb",
      "metadata": {
        "id": "99d85aeb"
      },
      "source": [
        "По результатам всех проверок, самой точной моделью оказалась, обученная на \"случайном лесе\", `best_forest_model` с результатом `0.7993779160186625`, c параметрами: количество деревьев - 36, максимальная глубина - 10\n",
        "\n",
        "Следом идет `best_tree_model`, обученная на \"деревее решений\" - `0.7713841368584758`, максимальная глубина - 7\n",
        "\n",
        "Последняя модель - `leaner_model` - 0.7589424572317263"
      ]
    },
    {
      "cell_type": "markdown",
      "id": "317b15d2",
      "metadata": {
        "id": "317b15d2"
      },
      "source": [
        ""
      ]
    },
    {
      "cell_type": "markdown",
      "id": "1789948f",
      "metadata": {
        "id": "1789948f"
      },
      "source": [
        "Так же все три модели показали вменяемость при сравнении с \"моделью-идиоткой\" - `dummy_model` - результат каждой оказался выше результата этой модели"
      ]
    }
  ],
  "metadata": {
    "ExecuteTimeLog": [
      {
        "duration": 2169,
        "start_time": "2023-03-08T11:50:02.904Z"
      },
      {
        "duration": 30,
        "start_time": "2023-03-08T11:50:05.075Z"
      },
      {
        "duration": 13,
        "start_time": "2023-03-08T11:50:05.106Z"
      },
      {
        "duration": 21,
        "start_time": "2023-03-08T11:50:05.120Z"
      },
      {
        "duration": 11,
        "start_time": "2023-03-08T11:50:05.144Z"
      },
      {
        "duration": 25,
        "start_time": "2023-03-08T11:50:05.157Z"
      },
      {
        "duration": 16,
        "start_time": "2023-03-08T11:50:05.185Z"
      },
      {
        "duration": 22,
        "start_time": "2023-03-08T11:50:05.204Z"
      },
      {
        "duration": 14,
        "start_time": "2023-03-08T11:50:05.229Z"
      },
      {
        "duration": 20,
        "start_time": "2023-03-08T11:50:05.245Z"
      },
      {
        "duration": 23,
        "start_time": "2023-03-08T11:50:05.267Z"
      },
      {
        "duration": 28,
        "start_time": "2023-03-08T11:50:05.292Z"
      },
      {
        "duration": 152,
        "start_time": "2023-03-08T11:50:05.322Z"
      },
      {
        "duration": 0,
        "start_time": "2023-03-08T11:50:05.476Z"
      },
      {
        "duration": 0,
        "start_time": "2023-03-08T11:50:05.477Z"
      },
      {
        "duration": 0,
        "start_time": "2023-03-08T11:50:05.478Z"
      },
      {
        "duration": 0,
        "start_time": "2023-03-08T11:50:05.480Z"
      },
      {
        "duration": 0,
        "start_time": "2023-03-08T11:50:05.481Z"
      },
      {
        "duration": 0,
        "start_time": "2023-03-08T11:50:05.482Z"
      },
      {
        "duration": 86,
        "start_time": "2023-03-08T11:52:29.141Z"
      },
      {
        "duration": 20,
        "start_time": "2023-03-08T11:52:34.692Z"
      },
      {
        "duration": 33376,
        "start_time": "2023-03-08T11:52:42.778Z"
      },
      {
        "duration": 40,
        "start_time": "2023-03-08T11:53:27.488Z"
      },
      {
        "duration": 7,
        "start_time": "2023-03-08T11:53:29.782Z"
      },
      {
        "duration": 17,
        "start_time": "2023-03-08T11:53:31.045Z"
      },
      {
        "duration": 7,
        "start_time": "2023-03-08T11:53:32.385Z"
      },
      {
        "duration": 5,
        "start_time": "2023-03-08T11:53:53.611Z"
      },
      {
        "duration": 53,
        "start_time": "2023-03-08T14:58:07.005Z"
      }
    ],
    "kernelspec": {
      "display_name": "Python 3 (ipykernel)",
      "language": "python",
      "name": "python3"
    },
    "language_info": {
      "codemirror_mode": {
        "name": "ipython",
        "version": 3
      },
      "file_extension": ".py",
      "mimetype": "text/x-python",
      "name": "python",
      "nbconvert_exporter": "python",
      "pygments_lexer": "ipython3",
      "version": "3.9.5"
    },
    "toc": {
      "base_numbering": 1,
      "nav_menu": {},
      "number_sections": true,
      "sideBar": true,
      "skip_h1_title": true,
      "title_cell": "Table of Contents",
      "title_sidebar": "Contents",
      "toc_cell": false,
      "toc_position": {},
      "toc_section_display": true,
      "toc_window_display": true
    },
    "colab": {
      "provenance": []
    }
  },
  "nbformat": 4,
  "nbformat_minor": 5
}