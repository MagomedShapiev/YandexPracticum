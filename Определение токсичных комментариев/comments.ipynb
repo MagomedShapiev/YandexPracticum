{
 "cells": [
  {
   "cell_type": "markdown",
   "metadata": {
    "toc": true
   },
   "source": [
    "<h1>Содержание<span class=\"tocSkip\"></span></h1>\n",
    "<div class=\"toc\"><ul class=\"toc-item\"><li><span><a href=\"#Подготовка\" data-toc-modified-id=\"Подготовка-1\"><span class=\"toc-item-num\">1&nbsp;&nbsp;</span>Подготовка</a></span><ul class=\"toc-item\"><li><span><a href=\"#Загрузка-данных-и-анализ-данных\" data-toc-modified-id=\"Загрузка-данных-и-анализ-данных-1.1\"><span class=\"toc-item-num\">1.1&nbsp;&nbsp;</span>Загрузка данных и анализ данных</a></span><ul class=\"toc-item\"><li><span><a href=\"#вывод\" data-toc-modified-id=\"вывод-1.1.1\"><span class=\"toc-item-num\">1.1.1&nbsp;&nbsp;</span>вывод</a></span></li></ul></li><li><span><a href=\"#Подготовка-данных.\" data-toc-modified-id=\"Подготовка-данных.-1.2\"><span class=\"toc-item-num\">1.2&nbsp;&nbsp;</span>Подготовка данных.</a></span><ul class=\"toc-item\"><li><span><a href=\"#вывод\" data-toc-modified-id=\"вывод-1.2.1\"><span class=\"toc-item-num\">1.2.1&nbsp;&nbsp;</span>вывод</a></span></li></ul></li><li><span><a href=\"#Итог\" data-toc-modified-id=\"Итог-1.3\"><span class=\"toc-item-num\">1.3&nbsp;&nbsp;</span>Итог</a></span></li></ul></li><li><span><a href=\"#Обучение\" data-toc-modified-id=\"Обучение-2\"><span class=\"toc-item-num\">2&nbsp;&nbsp;</span>Обучение</a></span><ul class=\"toc-item\"><li><span><a href=\"#ЛОгистическая-регрессия\" data-toc-modified-id=\"ЛОгистическая-регрессия-2.1\"><span class=\"toc-item-num\">2.1&nbsp;&nbsp;</span>ЛОгистическая регрессия</a></span><ul class=\"toc-item\"><li><span><a href=\"#результат\" data-toc-modified-id=\"результат-2.1.1\"><span class=\"toc-item-num\">2.1.1&nbsp;&nbsp;</span>результат</a></span></li></ul></li><li><span><a href=\"#LGBM-классификатор\" data-toc-modified-id=\"LGBM-классификатор-2.2\"><span class=\"toc-item-num\">2.2&nbsp;&nbsp;</span>LGBM классификатор</a></span><ul class=\"toc-item\"><li><span><a href=\"#результат\" data-toc-modified-id=\"результат-2.2.1\"><span class=\"toc-item-num\">2.2.1&nbsp;&nbsp;</span>результат</a></span></li></ul></li><li><span><a href=\"#Случайный-лес\" data-toc-modified-id=\"Случайный-лес-2.3\"><span class=\"toc-item-num\">2.3&nbsp;&nbsp;</span>Случайный лес</a></span><ul class=\"toc-item\"><li><span><a href=\"#результат\" data-toc-modified-id=\"результат-2.3.1\"><span class=\"toc-item-num\">2.3.1&nbsp;&nbsp;</span>результат</a></span></li></ul></li><li><span><a href=\"#Вывод\" data-toc-modified-id=\"Вывод-2.4\"><span class=\"toc-item-num\">2.4&nbsp;&nbsp;</span>Вывод</a></span></li></ul></li><li><span><a href=\"#Тестирование\" data-toc-modified-id=\"Тестирование-3\"><span class=\"toc-item-num\">3&nbsp;&nbsp;</span>Тестирование</a></span></li><li><span><a href=\"#Выводы\" data-toc-modified-id=\"Выводы-4\"><span class=\"toc-item-num\">4&nbsp;&nbsp;</span>Выводы</a></span></li><li><span><a href=\"#Чек-лист-проверки\" data-toc-modified-id=\"Чек-лист-проверки-5\"><span class=\"toc-item-num\">5&nbsp;&nbsp;</span>Чек-лист проверки</a></span></li></ul></div>"
   ]
  },
  {
   "cell_type": "markdown",
   "metadata": {},
   "source": [
    "# Проект для «Викишоп»"
   ]
  },
  {
   "cell_type": "markdown",
   "metadata": {},
   "source": [
    "Интернет-магазин «Викишоп» запускает новый сервис. Теперь пользователи могут редактировать и дополнять описания товаров, как в вики-сообществах. То есть клиенты предлагают свои правки и комментируют изменения других. Магазину нужен инструмент, который будет искать токсичные комментарии и отправлять их на модерацию. \n",
    "\n",
    "Обучите модель классифицировать комментарии на позитивные и негативные. В вашем распоряжении набор данных с разметкой о токсичности правок.\n",
    "\n",
    "Постройте модель со значением метрики качества *F1* не меньше 0.75. \n",
    "\n",
    "**Инструкция по выполнению проекта**\n",
    "\n",
    "1. Загрузите и подготовьте данные.\n",
    "2. Обучите разные модели. \n",
    "3. Сделайте выводы.\n",
    "\n",
    "Для выполнения проекта применять *BERT* необязательно, но вы можете попробовать.\n",
    "\n",
    "**Описание данных**\n",
    "\n",
    "Данные находятся в файле `toxic_comments.csv`. Столбец *text* в нём содержит текст комментария, а *toxic* — целевой признак."
   ]
  },
  {
   "cell_type": "markdown",
   "metadata": {},
   "source": [
    "## Подготовка"
   ]
  },
  {
   "cell_type": "markdown",
   "metadata": {},
   "source": [
    "### Загрузка данных и анализ данных"
   ]
  },
  {
   "cell_type": "code",
   "execution_count": 1,
   "metadata": {},
   "outputs": [],
   "source": [
    "import pandas as pd\n",
    "import numpy as np\n",
    "import re\n",
    "import nltk\n",
    "from nltk import pos_tag\n",
    "from nltk.corpus import stopwords\n",
    "from nltk.corpus import wordnet\n",
    "import matplotlib.pyplot as plt\n",
    "import seaborn as sns\n",
    "from nltk.stem.wordnet import WordNetLemmatizer\n",
    "from sklearn.feature_extraction.text import TfidfVectorizer\n",
    "from sklearn.model_selection import train_test_split\n",
    "from sklearn.linear_model import LogisticRegression\n",
    "from lightgbm import LGBMClassifier\n",
    "from sklearn.ensemble import RandomForestClassifier\n",
    "from sklearn.metrics import f1_score\n",
    "from sklearn.model_selection import cross_val_score\n",
    "from sklearn.model_selection import GridSearchCV\n",
    "from tqdm.notebook import tqdm\n",
    "tqdm.pandas()\n",
    "\n",
    "import warnings\n",
    "warnings.filterwarnings('ignore')"
   ]
  },
  {
   "cell_type": "code",
   "execution_count": 2,
   "metadata": {},
   "outputs": [
    {
     "name": "stderr",
     "output_type": "stream",
     "text": [
      "[nltk_data] Downloading package averaged_perceptron_tagger to\n",
      "[nltk_data]     /home/jovyan/nltk_data...\n",
      "[nltk_data]   Package averaged_perceptron_tagger is already up-to-\n",
      "[nltk_data]       date!\n",
      "[nltk_data] Downloading package wordnet to /home/jovyan/nltk_data...\n",
      "[nltk_data]   Package wordnet is already up-to-date!\n",
      "[nltk_data] Downloading package stopwords to /home/jovyan/nltk_data...\n",
      "[nltk_data]   Package stopwords is already up-to-date!\n"
     ]
    }
   ],
   "source": [
    "nltk.download('averaged_perceptron_tagger')\n",
    "nltk.download('wordnet')\n",
    "nltk.download('stopwords')\n",
    "stop_words = set(stopwords.words('english'));"
   ]
  },
  {
   "cell_type": "code",
   "execution_count": 3,
   "metadata": {},
   "outputs": [],
   "source": [
    "try:\n",
    "    \n",
    "    data = pd.read_csv('C:\\\\Users\\\\magas\\\\Desktop\\\\Проекты\\\\toxic_comments.csv')\n",
    "    \n",
    "except:\n",
    "    \n",
    "    data = pd.read_csv('/datasets/toxic_comments.csv')"
   ]
  },
  {
   "cell_type": "code",
   "execution_count": 4,
   "metadata": {},
   "outputs": [
    {
     "name": "stdout",
     "output_type": "stream",
     "text": [
      "<class 'pandas.core.frame.DataFrame'>\n",
      "RangeIndex: 159292 entries, 0 to 159291\n",
      "Data columns (total 3 columns):\n",
      " #   Column      Non-Null Count   Dtype \n",
      "---  ------      --------------   ----- \n",
      " 0   Unnamed: 0  159292 non-null  int64 \n",
      " 1   text        159292 non-null  object\n",
      " 2   toxic       159292 non-null  int64 \n",
      "dtypes: int64(2), object(1)\n",
      "memory usage: 3.6+ MB\n"
     ]
    }
   ],
   "source": [
    "data.info()"
   ]
  },
  {
   "cell_type": "code",
   "execution_count": 5,
   "metadata": {},
   "outputs": [
    {
     "data": {
      "text/html": [
       "<div>\n",
       "<style scoped>\n",
       "    .dataframe tbody tr th:only-of-type {\n",
       "        vertical-align: middle;\n",
       "    }\n",
       "\n",
       "    .dataframe tbody tr th {\n",
       "        vertical-align: top;\n",
       "    }\n",
       "\n",
       "    .dataframe thead th {\n",
       "        text-align: right;\n",
       "    }\n",
       "</style>\n",
       "<table border=\"1\" class=\"dataframe\">\n",
       "  <thead>\n",
       "    <tr style=\"text-align: right;\">\n",
       "      <th></th>\n",
       "      <th>Unnamed: 0</th>\n",
       "      <th>text</th>\n",
       "      <th>toxic</th>\n",
       "    </tr>\n",
       "  </thead>\n",
       "  <tbody>\n",
       "    <tr>\n",
       "      <th>0</th>\n",
       "      <td>0</td>\n",
       "      <td>Explanation\\nWhy the edits made under my usern...</td>\n",
       "      <td>0</td>\n",
       "    </tr>\n",
       "    <tr>\n",
       "      <th>1</th>\n",
       "      <td>1</td>\n",
       "      <td>D'aww! He matches this background colour I'm s...</td>\n",
       "      <td>0</td>\n",
       "    </tr>\n",
       "    <tr>\n",
       "      <th>2</th>\n",
       "      <td>2</td>\n",
       "      <td>Hey man, I'm really not trying to edit war. It...</td>\n",
       "      <td>0</td>\n",
       "    </tr>\n",
       "    <tr>\n",
       "      <th>3</th>\n",
       "      <td>3</td>\n",
       "      <td>\"\\nMore\\nI can't make any real suggestions on ...</td>\n",
       "      <td>0</td>\n",
       "    </tr>\n",
       "    <tr>\n",
       "      <th>4</th>\n",
       "      <td>4</td>\n",
       "      <td>You, sir, are my hero. Any chance you remember...</td>\n",
       "      <td>0</td>\n",
       "    </tr>\n",
       "    <tr>\n",
       "      <th>5</th>\n",
       "      <td>5</td>\n",
       "      <td>\"\\n\\nCongratulations from me as well, use the ...</td>\n",
       "      <td>0</td>\n",
       "    </tr>\n",
       "    <tr>\n",
       "      <th>6</th>\n",
       "      <td>6</td>\n",
       "      <td>COCKSUCKER BEFORE YOU PISS AROUND ON MY WORK</td>\n",
       "      <td>1</td>\n",
       "    </tr>\n",
       "    <tr>\n",
       "      <th>7</th>\n",
       "      <td>7</td>\n",
       "      <td>Your vandalism to the Matt Shirvington article...</td>\n",
       "      <td>0</td>\n",
       "    </tr>\n",
       "    <tr>\n",
       "      <th>8</th>\n",
       "      <td>8</td>\n",
       "      <td>Sorry if the word 'nonsense' was offensive to ...</td>\n",
       "      <td>0</td>\n",
       "    </tr>\n",
       "    <tr>\n",
       "      <th>9</th>\n",
       "      <td>9</td>\n",
       "      <td>alignment on this subject and which are contra...</td>\n",
       "      <td>0</td>\n",
       "    </tr>\n",
       "    <tr>\n",
       "      <th>10</th>\n",
       "      <td>10</td>\n",
       "      <td>\"\\nFair use rationale for Image:Wonju.jpg\\n\\nT...</td>\n",
       "      <td>0</td>\n",
       "    </tr>\n",
       "    <tr>\n",
       "      <th>11</th>\n",
       "      <td>11</td>\n",
       "      <td>bbq \\n\\nbe a man and lets discuss it-maybe ove...</td>\n",
       "      <td>0</td>\n",
       "    </tr>\n",
       "    <tr>\n",
       "      <th>12</th>\n",
       "      <td>12</td>\n",
       "      <td>Hey... what is it..\\n@ | talk .\\nWhat is it......</td>\n",
       "      <td>1</td>\n",
       "    </tr>\n",
       "    <tr>\n",
       "      <th>13</th>\n",
       "      <td>13</td>\n",
       "      <td>Before you start throwing accusations and warn...</td>\n",
       "      <td>0</td>\n",
       "    </tr>\n",
       "    <tr>\n",
       "      <th>14</th>\n",
       "      <td>14</td>\n",
       "      <td>Oh, and the girl above started her arguments w...</td>\n",
       "      <td>0</td>\n",
       "    </tr>\n",
       "    <tr>\n",
       "      <th>15</th>\n",
       "      <td>15</td>\n",
       "      <td>\"\\n\\nJuelz Santanas Age\\n\\nIn 2002, Juelz Sant...</td>\n",
       "      <td>0</td>\n",
       "    </tr>\n",
       "    <tr>\n",
       "      <th>16</th>\n",
       "      <td>16</td>\n",
       "      <td>Bye! \\n\\nDon't look, come or think of comming ...</td>\n",
       "      <td>1</td>\n",
       "    </tr>\n",
       "    <tr>\n",
       "      <th>17</th>\n",
       "      <td>17</td>\n",
       "      <td>REDIRECT Talk:Voydan Pop Georgiev- Chernodrinski</td>\n",
       "      <td>0</td>\n",
       "    </tr>\n",
       "    <tr>\n",
       "      <th>18</th>\n",
       "      <td>18</td>\n",
       "      <td>The Mitsurugi point made no sense - why not ar...</td>\n",
       "      <td>0</td>\n",
       "    </tr>\n",
       "    <tr>\n",
       "      <th>19</th>\n",
       "      <td>19</td>\n",
       "      <td>Don't mean to bother you \\n\\nI see that you're...</td>\n",
       "      <td>0</td>\n",
       "    </tr>\n",
       "    <tr>\n",
       "      <th>20</th>\n",
       "      <td>20</td>\n",
       "      <td>\"\\n\\n Regarding your recent edits \\n\\nOnce aga...</td>\n",
       "      <td>0</td>\n",
       "    </tr>\n",
       "    <tr>\n",
       "      <th>21</th>\n",
       "      <td>21</td>\n",
       "      <td>\"\\nGood to know. About me, yeah, I'm studying ...</td>\n",
       "      <td>0</td>\n",
       "    </tr>\n",
       "    <tr>\n",
       "      <th>22</th>\n",
       "      <td>22</td>\n",
       "      <td>\"\\n\\n Snowflakes are NOT always symmetrical! \\...</td>\n",
       "      <td>0</td>\n",
       "    </tr>\n",
       "    <tr>\n",
       "      <th>23</th>\n",
       "      <td>23</td>\n",
       "      <td>\"\\n\\n The Signpost: 24 September 2012 \\n\\n Rea...</td>\n",
       "      <td>0</td>\n",
       "    </tr>\n",
       "    <tr>\n",
       "      <th>24</th>\n",
       "      <td>24</td>\n",
       "      <td>\"\\n\\nRe-considering 1st paragraph edit?\\nI don...</td>\n",
       "      <td>0</td>\n",
       "    </tr>\n",
       "    <tr>\n",
       "      <th>25</th>\n",
       "      <td>25</td>\n",
       "      <td>Radial symmetry \\n\\nSeveral now extinct lineag...</td>\n",
       "      <td>0</td>\n",
       "    </tr>\n",
       "    <tr>\n",
       "      <th>26</th>\n",
       "      <td>26</td>\n",
       "      <td>There's no need to apologize. A Wikipedia arti...</td>\n",
       "      <td>0</td>\n",
       "    </tr>\n",
       "    <tr>\n",
       "      <th>27</th>\n",
       "      <td>27</td>\n",
       "      <td>Yes, because the mother of the child in the ca...</td>\n",
       "      <td>0</td>\n",
       "    </tr>\n",
       "    <tr>\n",
       "      <th>28</th>\n",
       "      <td>28</td>\n",
       "      <td>\"\\nOk. But it will take a bit of work but I ca...</td>\n",
       "      <td>0</td>\n",
       "    </tr>\n",
       "    <tr>\n",
       "      <th>29</th>\n",
       "      <td>29</td>\n",
       "      <td>\"== A barnstar for you! ==\\n\\n  The Real Life ...</td>\n",
       "      <td>0</td>\n",
       "    </tr>\n",
       "  </tbody>\n",
       "</table>\n",
       "</div>"
      ],
      "text/plain": [
       "    Unnamed: 0                                               text  toxic\n",
       "0            0  Explanation\\nWhy the edits made under my usern...      0\n",
       "1            1  D'aww! He matches this background colour I'm s...      0\n",
       "2            2  Hey man, I'm really not trying to edit war. It...      0\n",
       "3            3  \"\\nMore\\nI can't make any real suggestions on ...      0\n",
       "4            4  You, sir, are my hero. Any chance you remember...      0\n",
       "5            5  \"\\n\\nCongratulations from me as well, use the ...      0\n",
       "6            6       COCKSUCKER BEFORE YOU PISS AROUND ON MY WORK      1\n",
       "7            7  Your vandalism to the Matt Shirvington article...      0\n",
       "8            8  Sorry if the word 'nonsense' was offensive to ...      0\n",
       "9            9  alignment on this subject and which are contra...      0\n",
       "10          10  \"\\nFair use rationale for Image:Wonju.jpg\\n\\nT...      0\n",
       "11          11  bbq \\n\\nbe a man and lets discuss it-maybe ove...      0\n",
       "12          12  Hey... what is it..\\n@ | talk .\\nWhat is it......      1\n",
       "13          13  Before you start throwing accusations and warn...      0\n",
       "14          14  Oh, and the girl above started her arguments w...      0\n",
       "15          15  \"\\n\\nJuelz Santanas Age\\n\\nIn 2002, Juelz Sant...      0\n",
       "16          16  Bye! \\n\\nDon't look, come or think of comming ...      1\n",
       "17          17   REDIRECT Talk:Voydan Pop Georgiev- Chernodrinski      0\n",
       "18          18  The Mitsurugi point made no sense - why not ar...      0\n",
       "19          19  Don't mean to bother you \\n\\nI see that you're...      0\n",
       "20          20  \"\\n\\n Regarding your recent edits \\n\\nOnce aga...      0\n",
       "21          21  \"\\nGood to know. About me, yeah, I'm studying ...      0\n",
       "22          22  \"\\n\\n Snowflakes are NOT always symmetrical! \\...      0\n",
       "23          23  \"\\n\\n The Signpost: 24 September 2012 \\n\\n Rea...      0\n",
       "24          24  \"\\n\\nRe-considering 1st paragraph edit?\\nI don...      0\n",
       "25          25  Radial symmetry \\n\\nSeveral now extinct lineag...      0\n",
       "26          26  There's no need to apologize. A Wikipedia arti...      0\n",
       "27          27  Yes, because the mother of the child in the ca...      0\n",
       "28          28  \"\\nOk. But it will take a bit of work but I ca...      0\n",
       "29          29  \"== A barnstar for you! ==\\n\\n  The Real Life ...      0"
      ]
     },
     "execution_count": 5,
     "metadata": {},
     "output_type": "execute_result"
    }
   ],
   "source": [
    "data.head(30)"
   ]
  },
  {
   "cell_type": "code",
   "execution_count": 6,
   "metadata": {},
   "outputs": [
    {
     "data": {
      "image/png": "[encoded data removed]",
      "text/plain": [
       "<Figure size 720x576 with 1 Axes>"
      ]
     },
     "metadata": {
      "needs_background": "light"
     },
     "output_type": "display_data"
    }
   ],
   "source": [
    "plt.figure(figsize=(10, 8))\n",
    "data['toxic'].hist()\n",
    "plt.title('Распределение целевого признака');"
   ]
  },
  {
   "cell_type": "code",
   "execution_count": 7,
   "metadata": {},
   "outputs": [
    {
     "data": {
      "text/plain": [
       "0"
      ]
     },
     "execution_count": 7,
     "metadata": {},
     "output_type": "execute_result"
    }
   ],
   "source": [
    "data.duplicated().sum()"
   ]
  },
  {
   "cell_type": "markdown",
   "metadata": {},
   "source": [
    "#### вывод"
   ]
  },
  {
   "cell_type": "markdown",
   "metadata": {},
   "source": [
    "Сразу бросается в глаза столбец `Unnamed`, не несущий никакого смысла - удаляем.\n",
    "\n",
    "ПРи этом, данные в хорошем состоянии: дубликатов и пропусков нет.\n",
    "есть лишь дисбаланс классов, попробуем применить downsampled и upsample на тренировочной выборке и посмотрим на результат"
   ]
  },
  {
   "cell_type": "markdown",
   "metadata": {},
   "source": [
    "### Подготовка данных. "
   ]
  },
  {
   "cell_type": "code",
   "execution_count": 8,
   "metadata": {},
   "outputs": [],
   "source": [
    "# удалим ненужный столбец\n",
    "data = data.drop('Unnamed: 0', axis=1)\n"
   ]
  },
  {
   "cell_type": "code",
   "execution_count": 9,
   "metadata": {},
   "outputs": [],
   "source": [
    "# Разделим на выборки\n",
    "\n",
    "train, test = train_test_split(data, test_size=0.2, random_state=42, stratify=data['toxic'])\n",
    "\n",
    "features_train = train.drop(['toxic'], axis=1)\n",
    "target_train = train['toxic']\n",
    "\n",
    "features_test = test.drop(['toxic'], axis=1)\n",
    "target_test = test['toxic']"
   ]
  },
  {
   "cell_type": "code",
   "execution_count": 10,
   "metadata": {},
   "outputs": [],
   "source": [
    "# функция очистки \n",
    "\n",
    "def clear_text(text):\n",
    "    return ' '.join(re.sub(r'[^а-яА-ЯёЁa-zA-Z]', ' ',text.lower()) .split())"
   ]
  },
  {
   "cell_type": "code",
   "execution_count": 11,
   "metadata": {},
   "outputs": [],
   "source": [
    "# Лемматизация\n",
    "\n",
    "lemmatizer = WordNetLemmatizer()\n",
    "\n",
    "def get_wordnet_pos(tag):\n",
    "\n",
    "    if tag.startswith('J'):\n",
    "        return wordnet.ADJ\n",
    "    elif tag.startswith('V'):\n",
    "        return wordnet.VERB\n",
    "    elif tag.startswith('N'):\n",
    "        return wordnet.NOUN\n",
    "    elif tag.startswith('R'):\n",
    "        return wordnet.ADV\n",
    "    else:\n",
    "        return wordnet.NOUN  \n",
    "\n",
    "def lemmatization(text):\n",
    "    word_list = nltk.word_tokenize(text)\n",
    "    tagged_words = pos_tag(word_list)\n",
    "    lemmatized_words = [lemmatizer.lemmatize(word, get_wordnet_pos(tag)) for word, tag in tagged_words]\n",
    "    return ' '.join(lemmatized_words)"
   ]
  },
  {
   "cell_type": "code",
   "execution_count": 13,
   "metadata": {},
   "outputs": [
    {
     "data": {
      "application/vnd.jupyter.widget-view+json": {
       "model_id": "4eaa93a259094ef5acf0f1960d43b16c",
       "version_major": 2,
       "version_minor": 0
      },
      "text/plain": [
       "  0%|          | 0/127433 [00:00<?, ?it/s]"
      ]
     },
     "metadata": {},
     "output_type": "display_data"
    },
    {
     "data": {
      "application/vnd.jupyter.widget-view+json": {
       "model_id": "326e10bb8fc04ab489b1d550caa80758",
       "version_major": 2,
       "version_minor": 0
      },
      "text/plain": [
       "  0%|          | 0/31859 [00:00<?, ?it/s]"
      ]
     },
     "metadata": {},
     "output_type": "display_data"
    },
    {
     "data": {
      "application/vnd.jupyter.widget-view+json": {
       "model_id": "181e11548c644699a436e160260332b8",
       "version_major": 2,
       "version_minor": 0
      },
      "text/plain": [
       "  0%|          | 0/127433 [00:00<?, ?it/s]"
      ]
     },
     "metadata": {},
     "output_type": "display_data"
    },
    {
     "data": {
      "application/vnd.jupyter.widget-view+json": {
       "model_id": "638b55ad8ccf4339bd802e18f009ebc9",
       "version_major": 2,
       "version_minor": 0
      },
      "text/plain": [
       "  0%|          | 0/31859 [00:00<?, ?it/s]"
      ]
     },
     "metadata": {},
     "output_type": "display_data"
    }
   ],
   "source": [
    "# обработаем выборки\n",
    "\n",
    "features_train['text'] = features_train['text'].progress_apply(clear_text)\n",
    "features_test['text'] = features_test['text'].progress_apply(clear_text)\n",
    "\n",
    "features_train['text'] = features_train['text'].progress_apply(lemmatization)\n",
    "features_test['text'] = features_test['text'].progress_apply(lemmatization)"
   ]
  },
  {
   "cell_type": "code",
   "execution_count": 14,
   "metadata": {},
   "outputs": [],
   "source": [
    "# инициация векторизотара и подготовка моделей\n",
    "\n",
    "tfidf_vectorizer = TfidfVectorizer(stop_words='english', ngram_range=(1, 1))\n",
    "logistic_regression = LogisticRegression(random_state=42)\n",
    "lgbm_classifier = LGBMClassifier(random_state=42)\n",
    "random_forest = RandomForestClassifier(random_state=42)"
   ]
  },
  {
   "cell_type": "code",
   "execution_count": 15,
   "metadata": {},
   "outputs": [],
   "source": [
    "# векторизация\n",
    "\n",
    "features_train_transformed = tfidf_vectorizer.fit_transform(features_train['text'])\n",
    "features_test_transformed = tfidf_vectorizer.transform(features_test['text'])"
   ]
  },
  {
   "cell_type": "markdown",
   "metadata": {},
   "source": [
    "#### вывод"
   ]
  },
  {
   "cell_type": "markdown",
   "metadata": {},
   "source": [
    "выборки созданы и обработаны"
   ]
  },
  {
   "cell_type": "markdown",
   "metadata": {},
   "source": [
    "### Итог"
   ]
  },
  {
   "cell_type": "markdown",
   "metadata": {},
   "source": [
    "В этом разделе были выполнены следующие шаги:\n",
    "\n",
    "- Загрузка и анализ данных:\n",
    "\n",
    "- Обработка:\n",
    "\n",
    "    - удалили ненужный столбец\n",
    "    - разделили датасет на выборки\n",
    "    - Провели преобразование: очистка от лишних знаков, стоп-слов, лемматизация и векторизация\n",
    "    \n",
    "Все готово для обучения и прогнозирования\n",
    "    "
   ]
  },
  {
   "cell_type": "markdown",
   "metadata": {},
   "source": [
    "## Обучение"
   ]
  },
  {
   "cell_type": "markdown",
   "metadata": {},
   "source": [
    "Обучать будем 3 модели:\n",
    "- Логистическая регрессия\n",
    "- LGBMClassifer\n",
    "- Случайный лес\n",
    "\n",
    "для подбора параметров будем использовать кросс-валидацию"
   ]
  },
  {
   "cell_type": "markdown",
   "metadata": {},
   "source": [
    "### ЛОгистическая регрессия"
   ]
  },
  {
   "cell_type": "code",
   "execution_count": 25,
   "metadata": {},
   "outputs": [],
   "source": [
    "# установим параметры для линейной регрессии\n",
    "\n",
    "c_values = list(range(5, 16, 1))\n",
    "\n",
    "param_grid = {\n",
    "    'C': c_values,           \n",
    "    'penalty': ['l1', 'l2'],         \n",
    "    'solver': ['liblinear'],\n",
    "    'class_weight':['balanced']\n",
    "}"
   ]
  },
  {
   "cell_type": "code",
   "execution_count": 26,
   "metadata": {},
   "outputs": [
    {
     "name": "stdout",
     "output_type": "stream",
     "text": [
      "Fitting 3 folds for each of 22 candidates, totalling 66 fits\n",
      "[CV 1/3; 1/22] START C=5, class_weight=balanced, penalty=l1, solver=liblinear...\n",
      "[CV 1/3; 1/22] END C=5, class_weight=balanced, penalty=l1, solver=liblinear; total time=   2.1s\n",
      "[CV 2/3; 1/22] START C=5, class_weight=balanced, penalty=l1, solver=liblinear...\n",
      "[CV 2/3; 1/22] END C=5, class_weight=balanced, penalty=l1, solver=liblinear; total time=   2.2s\n",
      "[CV 3/3; 1/22] START C=5, class_weight=balanced, penalty=l1, solver=liblinear...\n",
      "[CV 3/3; 1/22] END C=5, class_weight=balanced, penalty=l1, solver=liblinear; total time=   1.8s\n",
      "[CV 1/3; 2/22] START C=5, class_weight=balanced, penalty=l2, solver=liblinear...\n",
      "[CV 1/3; 2/22] END C=5, class_weight=balanced, penalty=l2, solver=liblinear; total time=  19.4s\n",
      "[CV 2/3; 2/22] START C=5, class_weight=balanced, penalty=l2, solver=liblinear...\n",
      "[CV 2/3; 2/22] END C=5, class_weight=balanced, penalty=l2, solver=liblinear; total time=  20.6s\n",
      "[CV 3/3; 2/22] START C=5, class_weight=balanced, penalty=l2, solver=liblinear...\n",
      "[CV 3/3; 2/22] END C=5, class_weight=balanced, penalty=l2, solver=liblinear; total time=  20.7s\n",
      "[CV 1/3; 3/22] START C=6, class_weight=balanced, penalty=l1, solver=liblinear...\n",
      "[CV 1/3; 3/22] END C=6, class_weight=balanced, penalty=l1, solver=liblinear; total time=   2.8s\n",
      "[CV 2/3; 3/22] START C=6, class_weight=balanced, penalty=l1, solver=liblinear...\n",
      "[CV 2/3; 3/22] END C=6, class_weight=balanced, penalty=l1, solver=liblinear; total time=   2.4s\n",
      "[CV 3/3; 3/22] START C=6, class_weight=balanced, penalty=l1, solver=liblinear...\n",
      "[CV 3/3; 3/22] END C=6, class_weight=balanced, penalty=l1, solver=liblinear; total time=   2.4s\n",
      "[CV 1/3; 4/22] START C=6, class_weight=balanced, penalty=l2, solver=liblinear...\n",
      "[CV 1/3; 4/22] END C=6, class_weight=balanced, penalty=l2, solver=liblinear; total time=  22.2s\n",
      "[CV 2/3; 4/22] START C=6, class_weight=balanced, penalty=l2, solver=liblinear...\n",
      "[CV 2/3; 4/22] END C=6, class_weight=balanced, penalty=l2, solver=liblinear; total time=  21.0s\n",
      "[CV 3/3; 4/22] START C=6, class_weight=balanced, penalty=l2, solver=liblinear...\n",
      "[CV 3/3; 4/22] END C=6, class_weight=balanced, penalty=l2, solver=liblinear; total time=  21.6s\n",
      "[CV 1/3; 5/22] START C=7, class_weight=balanced, penalty=l1, solver=liblinear...\n",
      "[CV 1/3; 5/22] END C=7, class_weight=balanced, penalty=l1, solver=liblinear; total time=   3.2s\n",
      "[CV 2/3; 5/22] START C=7, class_weight=balanced, penalty=l1, solver=liblinear...\n",
      "[CV 2/3; 5/22] END C=7, class_weight=balanced, penalty=l1, solver=liblinear; total time=   3.9s\n",
      "[CV 3/3; 5/22] START C=7, class_weight=balanced, penalty=l1, solver=liblinear...\n",
      "[CV 3/3; 5/22] END C=7, class_weight=balanced, penalty=l1, solver=liblinear; total time=   3.0s\n",
      "[CV 1/3; 6/22] START C=7, class_weight=balanced, penalty=l2, solver=liblinear...\n",
      "[CV 1/3; 6/22] END C=7, class_weight=balanced, penalty=l2, solver=liblinear; total time=  22.5s\n",
      "[CV 2/3; 6/22] START C=7, class_weight=balanced, penalty=l2, solver=liblinear...\n",
      "[CV 2/3; 6/22] END C=7, class_weight=balanced, penalty=l2, solver=liblinear; total time=  15.0s\n",
      "[CV 3/3; 6/22] START C=7, class_weight=balanced, penalty=l2, solver=liblinear...\n",
      "[CV 3/3; 6/22] END C=7, class_weight=balanced, penalty=l2, solver=liblinear; total time=  18.7s\n",
      "[CV 1/3; 7/22] START C=8, class_weight=balanced, penalty=l1, solver=liblinear...\n",
      "[CV 1/3; 7/22] END C=8, class_weight=balanced, penalty=l1, solver=liblinear; total time=   6.0s\n",
      "[CV 2/3; 7/22] START C=8, class_weight=balanced, penalty=l1, solver=liblinear...\n",
      "[CV 2/3; 7/22] END C=8, class_weight=balanced, penalty=l1, solver=liblinear; total time=  12.9s\n",
      "[CV 3/3; 7/22] START C=8, class_weight=balanced, penalty=l1, solver=liblinear...\n",
      "[CV 3/3; 7/22] END C=8, class_weight=balanced, penalty=l1, solver=liblinear; total time=   3.0s\n",
      "[CV 1/3; 8/22] START C=8, class_weight=balanced, penalty=l2, solver=liblinear...\n",
      "[CV 1/3; 8/22] END C=8, class_weight=balanced, penalty=l2, solver=liblinear; total time=  19.8s\n",
      "[CV 2/3; 8/22] START C=8, class_weight=balanced, penalty=l2, solver=liblinear...\n",
      "[CV 2/3; 8/22] END C=8, class_weight=balanced, penalty=l2, solver=liblinear; total time=  21.3s\n",
      "[CV 3/3; 8/22] START C=8, class_weight=balanced, penalty=l2, solver=liblinear...\n",
      "[CV 3/3; 8/22] END C=8, class_weight=balanced, penalty=l2, solver=liblinear; total time=  22.7s\n",
      "[CV 1/3; 9/22] START C=9, class_weight=balanced, penalty=l1, solver=liblinear...\n",
      "[CV 1/3; 9/22] END C=9, class_weight=balanced, penalty=l1, solver=liblinear; total time=   3.1s\n",
      "[CV 2/3; 9/22] START C=9, class_weight=balanced, penalty=l1, solver=liblinear...\n",
      "[CV 2/3; 9/22] END C=9, class_weight=balanced, penalty=l1, solver=liblinear; total time=   4.1s\n",
      "[CV 3/3; 9/22] START C=9, class_weight=balanced, penalty=l1, solver=liblinear...\n",
      "[CV 3/3; 9/22] END C=9, class_weight=balanced, penalty=l1, solver=liblinear; total time=   3.0s\n",
      "[CV 1/3; 10/22] START C=9, class_weight=balanced, penalty=l2, solver=liblinear..\n",
      "[CV 1/3; 10/22] END C=9, class_weight=balanced, penalty=l2, solver=liblinear; total time=  24.4s\n",
      "[CV 2/3; 10/22] START C=9, class_weight=balanced, penalty=l2, solver=liblinear..\n",
      "[CV 2/3; 10/22] END C=9, class_weight=balanced, penalty=l2, solver=liblinear; total time=  23.2s\n",
      "[CV 3/3; 10/22] START C=9, class_weight=balanced, penalty=l2, solver=liblinear..\n",
      "[CV 3/3; 10/22] END C=9, class_weight=balanced, penalty=l2, solver=liblinear; total time=  23.5s\n",
      "[CV 1/3; 11/22] START C=10, class_weight=balanced, penalty=l1, solver=liblinear.\n",
      "[CV 1/3; 11/22] END C=10, class_weight=balanced, penalty=l1, solver=liblinear; total time=   3.5s\n",
      "[CV 2/3; 11/22] START C=10, class_weight=balanced, penalty=l1, solver=liblinear.\n",
      "[CV 2/3; 11/22] END C=10, class_weight=balanced, penalty=l1, solver=liblinear; total time=   2.9s\n",
      "[CV 3/3; 11/22] START C=10, class_weight=balanced, penalty=l1, solver=liblinear.\n",
      "[CV 3/3; 11/22] END C=10, class_weight=balanced, penalty=l1, solver=liblinear; total time=   2.8s\n",
      "[CV 1/3; 12/22] START C=10, class_weight=balanced, penalty=l2, solver=liblinear.\n",
      "[CV 1/3; 12/22] END C=10, class_weight=balanced, penalty=l2, solver=liblinear; total time=  24.5s\n",
      "[CV 2/3; 12/22] START C=10, class_weight=balanced, penalty=l2, solver=liblinear.\n",
      "[CV 2/3; 12/22] END C=10, class_weight=balanced, penalty=l2, solver=liblinear; total time=  24.3s\n",
      "[CV 3/3; 12/22] START C=10, class_weight=balanced, penalty=l2, solver=liblinear.\n",
      "[CV 3/3; 12/22] END C=10, class_weight=balanced, penalty=l2, solver=liblinear; total time=  26.0s\n",
      "[CV 1/3; 13/22] START C=11, class_weight=balanced, penalty=l1, solver=liblinear.\n",
      "[CV 1/3; 13/22] END C=11, class_weight=balanced, penalty=l1, solver=liblinear; total time=  13.1s\n",
      "[CV 2/3; 13/22] START C=11, class_weight=balanced, penalty=l1, solver=liblinear.\n",
      "[CV 2/3; 13/22] END C=11, class_weight=balanced, penalty=l1, solver=liblinear; total time=   4.0s\n",
      "[CV 3/3; 13/22] START C=11, class_weight=balanced, penalty=l1, solver=liblinear.\n",
      "[CV 3/3; 13/22] END C=11, class_weight=balanced, penalty=l1, solver=liblinear; total time=   3.0s\n",
      "[CV 1/3; 14/22] START C=11, class_weight=balanced, penalty=l2, solver=liblinear.\n",
      "[CV 1/3; 14/22] END C=11, class_weight=balanced, penalty=l2, solver=liblinear; total time=  25.6s\n",
      "[CV 2/3; 14/22] START C=11, class_weight=balanced, penalty=l2, solver=liblinear.\n",
      "[CV 2/3; 14/22] END C=11, class_weight=balanced, penalty=l2, solver=liblinear; total time=  24.3s\n",
      "[CV 3/3; 14/22] START C=11, class_weight=balanced, penalty=l2, solver=liblinear.\n",
      "[CV 3/3; 14/22] END C=11, class_weight=balanced, penalty=l2, solver=liblinear; total time=  24.4s\n",
      "[CV 1/3; 15/22] START C=12, class_weight=balanced, penalty=l1, solver=liblinear.\n",
      "[CV 1/3; 15/22] END C=12, class_weight=balanced, penalty=l1, solver=liblinear; total time=   5.0s\n",
      "[CV 2/3; 15/22] START C=12, class_weight=balanced, penalty=l1, solver=liblinear.\n",
      "[CV 2/3; 15/22] END C=12, class_weight=balanced, penalty=l1, solver=liblinear; total time=   5.8s\n",
      "[CV 3/3; 15/22] START C=12, class_weight=balanced, penalty=l1, solver=liblinear.\n",
      "[CV 3/3; 15/22] END C=12, class_weight=balanced, penalty=l1, solver=liblinear; total time=   3.3s\n",
      "[CV 1/3; 16/22] START C=12, class_weight=balanced, penalty=l2, solver=liblinear.\n",
      "[CV 1/3; 16/22] END C=12, class_weight=balanced, penalty=l2, solver=liblinear; total time=  24.6s\n",
      "[CV 2/3; 16/22] START C=12, class_weight=balanced, penalty=l2, solver=liblinear.\n",
      "[CV 2/3; 16/22] END C=12, class_weight=balanced, penalty=l2, solver=liblinear; total time=  24.8s\n",
      "[CV 3/3; 16/22] START C=12, class_weight=balanced, penalty=l2, solver=liblinear.\n",
      "[CV 3/3; 16/22] END C=12, class_weight=balanced, penalty=l2, solver=liblinear; total time=  25.5s\n",
      "[CV 1/3; 17/22] START C=13, class_weight=balanced, penalty=l1, solver=liblinear.\n",
      "[CV 1/3; 17/22] END C=13, class_weight=balanced, penalty=l1, solver=liblinear; total time=   4.1s\n",
      "[CV 2/3; 17/22] START C=13, class_weight=balanced, penalty=l1, solver=liblinear.\n",
      "[CV 2/3; 17/22] END C=13, class_weight=balanced, penalty=l1, solver=liblinear; total time=   3.5s\n",
      "[CV 3/3; 17/22] START C=13, class_weight=balanced, penalty=l1, solver=liblinear.\n",
      "[CV 3/3; 17/22] END C=13, class_weight=balanced, penalty=l1, solver=liblinear; total time=   3.1s\n",
      "[CV 1/3; 18/22] START C=13, class_weight=balanced, penalty=l2, solver=liblinear.\n",
      "[CV 1/3; 18/22] END C=13, class_weight=balanced, penalty=l2, solver=liblinear; total time=  24.6s\n",
      "[CV 2/3; 18/22] START C=13, class_weight=balanced, penalty=l2, solver=liblinear.\n",
      "[CV 2/3; 18/22] END C=13, class_weight=balanced, penalty=l2, solver=liblinear; total time=  23.7s\n",
      "[CV 3/3; 18/22] START C=13, class_weight=balanced, penalty=l2, solver=liblinear.\n",
      "[CV 3/3; 18/22] END C=13, class_weight=balanced, penalty=l2, solver=liblinear; total time=  22.8s\n",
      "[CV 1/3; 19/22] START C=14, class_weight=balanced, penalty=l1, solver=liblinear.\n",
      "[CV 1/3; 19/22] END C=14, class_weight=balanced, penalty=l1, solver=liblinear; total time=   4.0s\n",
      "[CV 2/3; 19/22] START C=14, class_weight=balanced, penalty=l1, solver=liblinear.\n",
      "[CV 2/3; 19/22] END C=14, class_weight=balanced, penalty=l1, solver=liblinear; total time=   3.9s\n",
      "[CV 3/3; 19/22] START C=14, class_weight=balanced, penalty=l1, solver=liblinear.\n",
      "[CV 3/3; 19/22] END C=14, class_weight=balanced, penalty=l1, solver=liblinear; total time=   3.0s\n",
      "[CV 1/3; 20/22] START C=14, class_weight=balanced, penalty=l2, solver=liblinear.\n",
      "[CV 1/3; 20/22] END C=14, class_weight=balanced, penalty=l2, solver=liblinear; total time=  25.5s\n",
      "[CV 2/3; 20/22] START C=14, class_weight=balanced, penalty=l2, solver=liblinear.\n",
      "[CV 2/3; 20/22] END C=14, class_weight=balanced, penalty=l2, solver=liblinear; total time=  25.8s\n",
      "[CV 3/3; 20/22] START C=14, class_weight=balanced, penalty=l2, solver=liblinear.\n",
      "[CV 3/3; 20/22] END C=14, class_weight=balanced, penalty=l2, solver=liblinear; total time=  26.0s\n",
      "[CV 1/3; 21/22] START C=15, class_weight=balanced, penalty=l1, solver=liblinear.\n",
      "[CV 1/3; 21/22] END C=15, class_weight=balanced, penalty=l1, solver=liblinear; total time=   3.3s\n",
      "[CV 2/3; 21/22] START C=15, class_weight=balanced, penalty=l1, solver=liblinear.\n",
      "[CV 2/3; 21/22] END C=15, class_weight=balanced, penalty=l1, solver=liblinear; total time=   3.1s\n",
      "[CV 3/3; 21/22] START C=15, class_weight=balanced, penalty=l1, solver=liblinear.\n",
      "[CV 3/3; 21/22] END C=15, class_weight=balanced, penalty=l1, solver=liblinear; total time=   3.3s\n",
      "[CV 1/3; 22/22] START C=15, class_weight=balanced, penalty=l2, solver=liblinear.\n",
      "[CV 1/3; 22/22] END C=15, class_weight=balanced, penalty=l2, solver=liblinear; total time=  26.0s\n",
      "[CV 2/3; 22/22] START C=15, class_weight=balanced, penalty=l2, solver=liblinear.\n",
      "[CV 2/3; 22/22] END C=15, class_weight=balanced, penalty=l2, solver=liblinear; total time=  26.0s\n",
      "[CV 3/3; 22/22] START C=15, class_weight=balanced, penalty=l2, solver=liblinear.\n",
      "[CV 3/3; 22/22] END C=15, class_weight=balanced, penalty=l2, solver=liblinear; total time=  26.8s\n",
      "Лучшие параметры: {'C': 9, 'class_weight': 'balanced', 'penalty': 'l2', 'solver': 'liblinear'}\n",
      "Лучшее значение F1-score: 0.7620714460815878\n"
     ]
    }
   ],
   "source": [
    "# Обучим модель и найдем параметры\n",
    "\n",
    "lr_grid_search = GridSearchCV(logistic_regression, \n",
    "                                    param_grid,\n",
    "                                    cv=3, \n",
    "                                    scoring='f1',\n",
    "                                    verbose = 10,\n",
    "                                    n_jobs=-1)\n",
    "\n",
    "lr_grid_search.fit(features_train_transformed, target_train)\n",
    "\n",
    "\n",
    "best_params = lr_grid_search.best_params_\n",
    "best_score = lr_grid_search.best_score_\n",
    "\n",
    "\n",
    "print(\"Лучшие параметры:\", best_params)\n",
    "print(\"Лучшее значение F1-score:\", best_score)"
   ]
  },
  {
   "cell_type": "markdown",
   "metadata": {},
   "source": [
    "#### результат"
   ]
  },
  {
   "cell_type": "markdown",
   "metadata": {},
   "source": [
    "На трейне прошли порог, посмотрим на результаты других моделей"
   ]
  },
  {
   "cell_type": "markdown",
   "metadata": {},
   "source": [
    "### LGBM классификатор"
   ]
  },
  {
   "cell_type": "code",
   "execution_count": 27,
   "metadata": {},
   "outputs": [],
   "source": [
    "# установим параметры для LGBM классификатора\n",
    "\n",
    "n_estimators_values = list(range(50, 151, 50))\n",
    "\n",
    "max_depth_values = list(range(1, 11))\n",
    "\n",
    "param_grid = {\n",
    "    'n_estimators': n_estimators_values,\n",
    "    'max_depth': max_depth_values,\n",
    "    'class_weight':['balanced']\n",
    "    \n",
    "}"
   ]
  },
  {
   "cell_type": "code",
   "execution_count": 28,
   "metadata": {},
   "outputs": [
    {
     "name": "stdout",
     "output_type": "stream",
     "text": [
      "Fitting 3 folds for each of 30 candidates, totalling 90 fits\n",
      "[CV 1/3; 1/30] START class_weight=balanced, max_depth=1, n_estimators=50........\n",
      "[CV 1/3; 1/30] END class_weight=balanced, max_depth=1, n_estimators=50; total time=  49.3s\n",
      "[CV 2/3; 1/30] START class_weight=balanced, max_depth=1, n_estimators=50........\n",
      "[CV 2/3; 1/30] END class_weight=balanced, max_depth=1, n_estimators=50; total time=  39.0s\n",
      "[CV 3/3; 1/30] START class_weight=balanced, max_depth=1, n_estimators=50........\n",
      "[CV 3/3; 1/30] END class_weight=balanced, max_depth=1, n_estimators=50; total time=  38.0s\n",
      "[CV 1/3; 2/30] START class_weight=balanced, max_depth=1, n_estimators=100.......\n",
      "[CV 1/3; 2/30] END class_weight=balanced, max_depth=1, n_estimators=100; total time=  57.5s\n",
      "[CV 2/3; 2/30] START class_weight=balanced, max_depth=1, n_estimators=100.......\n",
      "[CV 2/3; 2/30] END class_weight=balanced, max_depth=1, n_estimators=100; total time=  42.0s\n",
      "[CV 3/3; 2/30] START class_weight=balanced, max_depth=1, n_estimators=100.......\n",
      "[CV 3/3; 2/30] END class_weight=balanced, max_depth=1, n_estimators=100; total time=  42.4s\n",
      "[CV 1/3; 3/30] START class_weight=balanced, max_depth=1, n_estimators=150.......\n",
      "[CV 1/3; 3/30] END class_weight=balanced, max_depth=1, n_estimators=150; total time=  48.5s\n",
      "[CV 2/3; 3/30] START class_weight=balanced, max_depth=1, n_estimators=150.......\n",
      "[CV 2/3; 3/30] END class_weight=balanced, max_depth=1, n_estimators=150; total time=  48.9s\n",
      "[CV 3/3; 3/30] START class_weight=balanced, max_depth=1, n_estimators=150.......\n",
      "[CV 3/3; 3/30] END class_weight=balanced, max_depth=1, n_estimators=150; total time=  48.5s\n",
      "[CV 1/3; 4/30] START class_weight=balanced, max_depth=2, n_estimators=50........\n",
      "[CV 1/3; 4/30] END class_weight=balanced, max_depth=2, n_estimators=50; total time=  39.7s\n",
      "[CV 2/3; 4/30] START class_weight=balanced, max_depth=2, n_estimators=50........\n",
      "[CV 2/3; 4/30] END class_weight=balanced, max_depth=2, n_estimators=50; total time= 1.1min\n",
      "[CV 3/3; 4/30] START class_weight=balanced, max_depth=2, n_estimators=50........\n",
      "[CV 3/3; 4/30] END class_weight=balanced, max_depth=2, n_estimators=50; total time=  43.6s\n",
      "[CV 1/3; 5/30] START class_weight=balanced, max_depth=2, n_estimators=100.......\n",
      "[CV 1/3; 5/30] END class_weight=balanced, max_depth=2, n_estimators=100; total time=  46.3s\n",
      "[CV 2/3; 5/30] START class_weight=balanced, max_depth=2, n_estimators=100.......\n",
      "[CV 2/3; 5/30] END class_weight=balanced, max_depth=2, n_estimators=100; total time= 1.5min\n",
      "[CV 3/3; 5/30] START class_weight=balanced, max_depth=2, n_estimators=100.......\n",
      "[CV 3/3; 5/30] END class_weight=balanced, max_depth=2, n_estimators=100; total time= 3.4min\n",
      "[CV 1/3; 6/30] START class_weight=balanced, max_depth=2, n_estimators=150.......\n",
      "[CV 1/3; 6/30] END class_weight=balanced, max_depth=2, n_estimators=150; total time=  55.1s\n",
      "[CV 2/3; 6/30] START class_weight=balanced, max_depth=2, n_estimators=150.......\n",
      "[CV 2/3; 6/30] END class_weight=balanced, max_depth=2, n_estimators=150; total time=  53.0s\n",
      "[CV 3/3; 6/30] START class_weight=balanced, max_depth=2, n_estimators=150.......\n",
      "[CV 3/3; 6/30] END class_weight=balanced, max_depth=2, n_estimators=150; total time= 2.2min\n",
      "[CV 1/3; 7/30] START class_weight=balanced, max_depth=3, n_estimators=50........\n",
      "[CV 1/3; 7/30] END class_weight=balanced, max_depth=3, n_estimators=50; total time=  45.0s\n",
      "[CV 2/3; 7/30] START class_weight=balanced, max_depth=3, n_estimators=50........\n",
      "[CV 2/3; 7/30] END class_weight=balanced, max_depth=3, n_estimators=50; total time=  44.6s\n",
      "[CV 3/3; 7/30] START class_weight=balanced, max_depth=3, n_estimators=50........\n",
      "[CV 3/3; 7/30] END class_weight=balanced, max_depth=3, n_estimators=50; total time=  42.3s\n",
      "[CV 1/3; 8/30] START class_weight=balanced, max_depth=3, n_estimators=100.......\n",
      "[CV 1/3; 8/30] END class_weight=balanced, max_depth=3, n_estimators=100; total time=  51.7s\n",
      "[CV 2/3; 8/30] START class_weight=balanced, max_depth=3, n_estimators=100.......\n",
      "[CV 2/3; 8/30] END class_weight=balanced, max_depth=3, n_estimators=100; total time= 1.0min\n",
      "[CV 3/3; 8/30] START class_weight=balanced, max_depth=3, n_estimators=100.......\n",
      "[CV 3/3; 8/30] END class_weight=balanced, max_depth=3, n_estimators=100; total time=  52.4s\n",
      "[CV 1/3; 9/30] START class_weight=balanced, max_depth=3, n_estimators=150.......\n",
      "[CV 1/3; 9/30] END class_weight=balanced, max_depth=3, n_estimators=150; total time= 1.1min\n",
      "[CV 2/3; 9/30] START class_weight=balanced, max_depth=3, n_estimators=150.......\n",
      "[CV 2/3; 9/30] END class_weight=balanced, max_depth=3, n_estimators=150; total time= 1.0min\n",
      "[CV 3/3; 9/30] START class_weight=balanced, max_depth=3, n_estimators=150.......\n",
      "[CV 3/3; 9/30] END class_weight=balanced, max_depth=3, n_estimators=150; total time= 1.0min\n",
      "[CV 1/3; 10/30] START class_weight=balanced, max_depth=4, n_estimators=50.......\n",
      "[CV 1/3; 10/30] END class_weight=balanced, max_depth=4, n_estimators=50; total time=  46.8s\n",
      "[CV 2/3; 10/30] START class_weight=balanced, max_depth=4, n_estimators=50.......\n",
      "[CV 2/3; 10/30] END class_weight=balanced, max_depth=4, n_estimators=50; total time=  47.3s\n",
      "[CV 3/3; 10/30] START class_weight=balanced, max_depth=4, n_estimators=50.......\n",
      "[CV 3/3; 10/30] END class_weight=balanced, max_depth=4, n_estimators=50; total time=  50.5s\n",
      "[CV 1/3; 11/30] START class_weight=balanced, max_depth=4, n_estimators=100......\n",
      "[CV 1/3; 11/30] END class_weight=balanced, max_depth=4, n_estimators=100; total time=  59.5s\n",
      "[CV 2/3; 11/30] START class_weight=balanced, max_depth=4, n_estimators=100......\n",
      "[CV 2/3; 11/30] END class_weight=balanced, max_depth=4, n_estimators=100; total time= 1.0min\n",
      "[CV 3/3; 11/30] START class_weight=balanced, max_depth=4, n_estimators=100......\n",
      "[CV 3/3; 11/30] END class_weight=balanced, max_depth=4, n_estimators=100; total time= 1.1min\n",
      "[CV 1/3; 12/30] START class_weight=balanced, max_depth=4, n_estimators=150......\n",
      "[CV 1/3; 12/30] END class_weight=balanced, max_depth=4, n_estimators=150; total time= 1.2min\n",
      "[CV 2/3; 12/30] START class_weight=balanced, max_depth=4, n_estimators=150......\n",
      "[CV 2/3; 12/30] END class_weight=balanced, max_depth=4, n_estimators=150; total time= 1.2min\n",
      "[CV 3/3; 12/30] START class_weight=balanced, max_depth=4, n_estimators=150......\n",
      "[CV 3/3; 12/30] END class_weight=balanced, max_depth=4, n_estimators=150; total time= 1.2min\n",
      "[CV 1/3; 13/30] START class_weight=balanced, max_depth=5, n_estimators=50.......\n",
      "[CV 1/3; 13/30] END class_weight=balanced, max_depth=5, n_estimators=50; total time=  51.7s\n",
      "[CV 2/3; 13/30] START class_weight=balanced, max_depth=5, n_estimators=50.......\n",
      "[CV 2/3; 13/30] END class_weight=balanced, max_depth=5, n_estimators=50; total time=  56.8s\n",
      "[CV 3/3; 13/30] START class_weight=balanced, max_depth=5, n_estimators=50.......\n",
      "[CV 3/3; 13/30] END class_weight=balanced, max_depth=5, n_estimators=50; total time=  55.0s\n",
      "[CV 1/3; 14/30] START class_weight=balanced, max_depth=5, n_estimators=100......\n",
      "[CV 1/3; 14/30] END class_weight=balanced, max_depth=5, n_estimators=100; total time= 1.2min\n",
      "[CV 2/3; 14/30] START class_weight=balanced, max_depth=5, n_estimators=100......\n",
      "[CV 2/3; 14/30] END class_weight=balanced, max_depth=5, n_estimators=100; total time= 1.3min\n",
      "[CV 3/3; 14/30] START class_weight=balanced, max_depth=5, n_estimators=100......\n",
      "[CV 3/3; 14/30] END class_weight=balanced, max_depth=5, n_estimators=100; total time= 1.3min\n",
      "[CV 1/3; 15/30] START class_weight=balanced, max_depth=5, n_estimators=150......\n",
      "[CV 1/3; 15/30] END class_weight=balanced, max_depth=5, n_estimators=150; total time= 2.4min\n",
      "[CV 2/3; 15/30] START class_weight=balanced, max_depth=5, n_estimators=150......\n",
      "[CV 2/3; 15/30] END class_weight=balanced, max_depth=5, n_estimators=150; total time= 6.9min\n",
      "[CV 3/3; 15/30] START class_weight=balanced, max_depth=5, n_estimators=150......\n",
      "[CV 3/3; 15/30] END class_weight=balanced, max_depth=5, n_estimators=150; total time= 5.9min\n",
      "[CV 1/3; 16/30] START class_weight=balanced, max_depth=6, n_estimators=50.......\n",
      "[CV 1/3; 16/30] END class_weight=balanced, max_depth=6, n_estimators=50; total time= 7.6min\n",
      "[CV 2/3; 16/30] START class_weight=balanced, max_depth=6, n_estimators=50.......\n",
      "[CV 2/3; 16/30] END class_weight=balanced, max_depth=6, n_estimators=50; total time=12.4min\n",
      "[CV 3/3; 16/30] START class_weight=balanced, max_depth=6, n_estimators=50.......\n",
      "[CV 3/3; 16/30] END class_weight=balanced, max_depth=6, n_estimators=50; total time=13.1min\n",
      "[CV 1/3; 17/30] START class_weight=balanced, max_depth=6, n_estimators=100......\n",
      "[CV 1/3; 17/30] END class_weight=balanced, max_depth=6, n_estimators=100; total time=15.7min\n",
      "[CV 2/3; 17/30] START class_weight=balanced, max_depth=6, n_estimators=100......\n",
      "[CV 2/3; 17/30] END class_weight=balanced, max_depth=6, n_estimators=100; total time=14.6min\n",
      "[CV 3/3; 17/30] START class_weight=balanced, max_depth=6, n_estimators=100......\n",
      "[CV 3/3; 17/30] END class_weight=balanced, max_depth=6, n_estimators=100; total time=12.5min\n",
      "[CV 1/3; 18/30] START class_weight=balanced, max_depth=6, n_estimators=150......\n",
      "[CV 1/3; 18/30] END class_weight=balanced, max_depth=6, n_estimators=150; total time=14.2min\n",
      "[CV 2/3; 18/30] START class_weight=balanced, max_depth=6, n_estimators=150......\n",
      "[CV 2/3; 18/30] END class_weight=balanced, max_depth=6, n_estimators=150; total time=18.8min\n",
      "[CV 3/3; 18/30] START class_weight=balanced, max_depth=6, n_estimators=150......\n",
      "[CV 3/3; 18/30] END class_weight=balanced, max_depth=6, n_estimators=150; total time=19.8min\n",
      "[CV 1/3; 19/30] START class_weight=balanced, max_depth=7, n_estimators=50.......\n",
      "[CV 1/3; 19/30] END class_weight=balanced, max_depth=7, n_estimators=50; total time=15.7min\n",
      "[CV 2/3; 19/30] START class_weight=balanced, max_depth=7, n_estimators=50.......\n",
      "[CV 2/3; 19/30] END class_weight=balanced, max_depth=7, n_estimators=50; total time=15.9min\n",
      "[CV 3/3; 19/30] START class_weight=balanced, max_depth=7, n_estimators=50.......\n",
      "[CV 3/3; 19/30] END class_weight=balanced, max_depth=7, n_estimators=50; total time=16.1min\n",
      "[CV 1/3; 20/30] START class_weight=balanced, max_depth=7, n_estimators=100......\n",
      "[CV 1/3; 20/30] END class_weight=balanced, max_depth=7, n_estimators=100; total time=19.3min\n",
      "[CV 2/3; 20/30] START class_weight=balanced, max_depth=7, n_estimators=100......\n",
      "[CV 2/3; 20/30] END class_weight=balanced, max_depth=7, n_estimators=100; total time=20.6min\n",
      "[CV 3/3; 20/30] START class_weight=balanced, max_depth=7, n_estimators=100......\n",
      "[CV 3/3; 20/30] END class_weight=balanced, max_depth=7, n_estimators=100; total time=20.8min\n",
      "[CV 1/3; 21/30] START class_weight=balanced, max_depth=7, n_estimators=150......\n",
      "[CV 1/3; 21/30] END class_weight=balanced, max_depth=7, n_estimators=150; total time=22.1min\n",
      "[CV 2/3; 21/30] START class_weight=balanced, max_depth=7, n_estimators=150......\n",
      "[CV 2/3; 21/30] END class_weight=balanced, max_depth=7, n_estimators=150; total time=20.5min\n",
      "[CV 3/3; 21/30] START class_weight=balanced, max_depth=7, n_estimators=150......\n",
      "[CV 3/3; 21/30] END class_weight=balanced, max_depth=7, n_estimators=150; total time=21.0min\n",
      "[CV 1/3; 22/30] START class_weight=balanced, max_depth=8, n_estimators=50.......\n",
      "[CV 1/3; 22/30] END class_weight=balanced, max_depth=8, n_estimators=50; total time=13.3min\n",
      "[CV 2/3; 22/30] START class_weight=balanced, max_depth=8, n_estimators=50.......\n",
      "[CV 2/3; 22/30] END class_weight=balanced, max_depth=8, n_estimators=50; total time=13.3min\n",
      "[CV 3/3; 22/30] START class_weight=balanced, max_depth=8, n_estimators=50.......\n",
      "[CV 3/3; 22/30] END class_weight=balanced, max_depth=8, n_estimators=50; total time=13.2min\n",
      "[CV 1/3; 23/30] START class_weight=balanced, max_depth=8, n_estimators=100......\n",
      "[CV 1/3; 23/30] END class_weight=balanced, max_depth=8, n_estimators=100; total time=17.7min\n",
      "[CV 2/3; 23/30] START class_weight=balanced, max_depth=8, n_estimators=100......\n",
      "[CV 2/3; 23/30] END class_weight=balanced, max_depth=8, n_estimators=100; total time=17.5min\n",
      "[CV 3/3; 23/30] START class_weight=balanced, max_depth=8, n_estimators=100......\n",
      "[CV 3/3; 23/30] END class_weight=balanced, max_depth=8, n_estimators=100; total time=15.0min\n",
      "[CV 1/3; 24/30] START class_weight=balanced, max_depth=8, n_estimators=150......\n",
      "[CV 1/3; 24/30] END class_weight=balanced, max_depth=8, n_estimators=150; total time=21.4min\n",
      "[CV 2/3; 24/30] START class_weight=balanced, max_depth=8, n_estimators=150......\n",
      "[CV 2/3; 24/30] END class_weight=balanced, max_depth=8, n_estimators=150; total time=19.7min\n",
      "[CV 3/3; 24/30] START class_weight=balanced, max_depth=8, n_estimators=150......\n",
      "[CV 3/3; 24/30] END class_weight=balanced, max_depth=8, n_estimators=150; total time=20.7min\n",
      "[CV 1/3; 25/30] START class_weight=balanced, max_depth=9, n_estimators=50.......\n",
      "[CV 1/3; 25/30] END class_weight=balanced, max_depth=9, n_estimators=50; total time=14.2min\n",
      "[CV 2/3; 25/30] START class_weight=balanced, max_depth=9, n_estimators=50.......\n",
      "[CV 2/3; 25/30] END class_weight=balanced, max_depth=9, n_estimators=50; total time=10.1min\n",
      "[CV 3/3; 25/30] START class_weight=balanced, max_depth=9, n_estimators=50.......\n",
      "[CV 3/3; 25/30] END class_weight=balanced, max_depth=9, n_estimators=50; total time= 8.5min\n",
      "[CV 1/3; 26/30] START class_weight=balanced, max_depth=9, n_estimators=100......\n",
      "[CV 1/3; 26/30] END class_weight=balanced, max_depth=9, n_estimators=100; total time= 8.4min\n",
      "[CV 2/3; 26/30] START class_weight=balanced, max_depth=9, n_estimators=100......\n",
      "[CV 2/3; 26/30] END class_weight=balanced, max_depth=9, n_estimators=100; total time=15.7min\n",
      "[CV 3/3; 26/30] START class_weight=balanced, max_depth=9, n_estimators=100......\n",
      "[CV 3/3; 26/30] END class_weight=balanced, max_depth=9, n_estimators=100; total time=17.0min\n",
      "[CV 1/3; 27/30] START class_weight=balanced, max_depth=9, n_estimators=150......\n",
      "[CV 1/3; 27/30] END class_weight=balanced, max_depth=9, n_estimators=150; total time=20.5min\n",
      "[CV 2/3; 27/30] START class_weight=balanced, max_depth=9, n_estimators=150......\n",
      "[CV 2/3; 27/30] END class_weight=balanced, max_depth=9, n_estimators=150; total time=20.9min\n",
      "[CV 3/3; 27/30] START class_weight=balanced, max_depth=9, n_estimators=150......\n",
      "[CV 3/3; 27/30] END class_weight=balanced, max_depth=9, n_estimators=150; total time=21.6min\n",
      "[CV 1/3; 28/30] START class_weight=balanced, max_depth=10, n_estimators=50......\n",
      "[CV 1/3; 28/30] END class_weight=balanced, max_depth=10, n_estimators=50; total time=15.6min\n",
      "[CV 2/3; 28/30] START class_weight=balanced, max_depth=10, n_estimators=50......\n",
      "[CV 2/3; 28/30] END class_weight=balanced, max_depth=10, n_estimators=50; total time=15.6min\n",
      "[CV 3/3; 28/30] START class_weight=balanced, max_depth=10, n_estimators=50......\n",
      "[CV 3/3; 28/30] END class_weight=balanced, max_depth=10, n_estimators=50; total time=15.3min\n",
      "[CV 1/3; 29/30] START class_weight=balanced, max_depth=10, n_estimators=100.....\n",
      "[CV 1/3; 29/30] END class_weight=balanced, max_depth=10, n_estimators=100; total time=18.4min\n",
      "[CV 2/3; 29/30] START class_weight=balanced, max_depth=10, n_estimators=100.....\n",
      "[CV 2/3; 29/30] END class_weight=balanced, max_depth=10, n_estimators=100; total time=17.0min\n",
      "[CV 3/3; 29/30] START class_weight=balanced, max_depth=10, n_estimators=100.....\n",
      "[CV 3/3; 29/30] END class_weight=balanced, max_depth=10, n_estimators=100; total time=17.6min\n",
      "[CV 1/3; 30/30] START class_weight=balanced, max_depth=10, n_estimators=150.....\n",
      "[CV 1/3; 30/30] END class_weight=balanced, max_depth=10, n_estimators=150; total time=17.9min\n",
      "[CV 2/3; 30/30] START class_weight=balanced, max_depth=10, n_estimators=150.....\n",
      "[CV 2/3; 30/30] END class_weight=balanced, max_depth=10, n_estimators=150; total time=19.2min\n",
      "[CV 3/3; 30/30] START class_weight=balanced, max_depth=10, n_estimators=150.....\n",
      "[CV 3/3; 30/30] END class_weight=balanced, max_depth=10, n_estimators=150; total time=22.0min\n",
      "Лучшие параметры для LGBMClassifier: {'class_weight': 'balanced', 'max_depth': 10, 'n_estimators': 150}\n",
      "Лучшее значение F1-score для LGBMClassifier: 0.7370037855068583\n"
     ]
    }
   ],
   "source": [
    "# Обучим модель и найдем параметры\n",
    "\n",
    "lgbm_grid_search = GridSearchCV(LGBMClassifier(random_state=42, learning_rate=0.1), \n",
    "                                param_grid, \n",
    "                                cv=3, \n",
    "                                scoring='f1',\n",
    "                                verbose = 10,\n",
    "                                n_jobs=-1)\n",
    "\n",
    "\n",
    "lgbm_grid_search.fit(features_train_transformed, target_train)\n",
    "\n",
    "\n",
    "best_params = lgbm_grid_search.best_params_\n",
    "best_score = lgbm_grid_search.best_score_\n",
    "\n",
    "\n",
    "print(\"Лучшие параметры для LGBMClassifier:\", best_params)\n",
    "print(\"Лучшее значение F1-score для LGBMClassifier:\", best_score)"
   ]
  },
  {
   "cell_type": "markdown",
   "metadata": {},
   "source": [
    "#### результат"
   ]
  },
  {
   "cell_type": "markdown",
   "metadata": {},
   "source": [
    "Недостаточный результат"
   ]
  },
  {
   "cell_type": "markdown",
   "metadata": {},
   "source": [
    "### Случайный лес"
   ]
  },
  {
   "cell_type": "code",
   "execution_count": 29,
   "metadata": {},
   "outputs": [],
   "source": [
    "# установим параметры для LGBM классификатора\n",
    "\n",
    "n_estimators_values = list(range(50, 151, 50))\n",
    "\n",
    "max_depth_values = list(range(1, 11))\n",
    "\n",
    "param_grid = {\n",
    "    'n_estimators': n_estimators_values,\n",
    "    'max_depth': max_depth_values,\n",
    "    'class_weight':['balanced']\n",
    "}"
   ]
  },
  {
   "cell_type": "code",
   "execution_count": 30,
   "metadata": {},
   "outputs": [
    {
     "name": "stdout",
     "output_type": "stream",
     "text": [
      "Fitting 3 folds for each of 30 candidates, totalling 90 fits\n",
      "[CV 1/3; 1/30] START class_weight=balanced, max_depth=1, n_estimators=50........\n",
      "[CV 1/3; 1/30] END class_weight=balanced, max_depth=1, n_estimators=50; total time=   2.1s\n",
      "[CV 2/3; 1/30] START class_weight=balanced, max_depth=1, n_estimators=50........\n",
      "[CV 2/3; 1/30] END class_weight=balanced, max_depth=1, n_estimators=50; total time=   2.1s\n",
      "[CV 3/3; 1/30] START class_weight=balanced, max_depth=1, n_estimators=50........\n",
      "[CV 3/3; 1/30] END class_weight=balanced, max_depth=1, n_estimators=50; total time=   2.2s\n",
      "[CV 1/3; 2/30] START class_weight=balanced, max_depth=1, n_estimators=100.......\n",
      "[CV 1/3; 2/30] END class_weight=balanced, max_depth=1, n_estimators=100; total time=   3.4s\n",
      "[CV 2/3; 2/30] START class_weight=balanced, max_depth=1, n_estimators=100.......\n",
      "[CV 2/3; 2/30] END class_weight=balanced, max_depth=1, n_estimators=100; total time=   3.4s\n",
      "[CV 3/3; 2/30] START class_weight=balanced, max_depth=1, n_estimators=100.......\n",
      "[CV 3/3; 2/30] END class_weight=balanced, max_depth=1, n_estimators=100; total time=   3.5s\n",
      "[CV 1/3; 3/30] START class_weight=balanced, max_depth=1, n_estimators=150.......\n",
      "[CV 1/3; 3/30] END class_weight=balanced, max_depth=1, n_estimators=150; total time=   4.8s\n",
      "[CV 2/3; 3/30] START class_weight=balanced, max_depth=1, n_estimators=150.......\n",
      "[CV 2/3; 3/30] END class_weight=balanced, max_depth=1, n_estimators=150; total time=   5.0s\n",
      "[CV 3/3; 3/30] START class_weight=balanced, max_depth=1, n_estimators=150.......\n",
      "[CV 3/3; 3/30] END class_weight=balanced, max_depth=1, n_estimators=150; total time=   4.9s\n",
      "[CV 1/3; 4/30] START class_weight=balanced, max_depth=2, n_estimators=50........\n",
      "[CV 1/3; 4/30] END class_weight=balanced, max_depth=2, n_estimators=50; total time=   2.5s\n",
      "[CV 2/3; 4/30] START class_weight=balanced, max_depth=2, n_estimators=50........\n",
      "[CV 2/3; 4/30] END class_weight=balanced, max_depth=2, n_estimators=50; total time=   2.7s\n",
      "[CV 3/3; 4/30] START class_weight=balanced, max_depth=2, n_estimators=50........\n",
      "[CV 3/3; 4/30] END class_weight=balanced, max_depth=2, n_estimators=50; total time=   2.5s\n",
      "[CV 1/3; 5/30] START class_weight=balanced, max_depth=2, n_estimators=100.......\n",
      "[CV 1/3; 5/30] END class_weight=balanced, max_depth=2, n_estimators=100; total time=   4.8s\n",
      "[CV 2/3; 5/30] START class_weight=balanced, max_depth=2, n_estimators=100.......\n",
      "[CV 2/3; 5/30] END class_weight=balanced, max_depth=2, n_estimators=100; total time=   4.9s\n",
      "[CV 3/3; 5/30] START class_weight=balanced, max_depth=2, n_estimators=100.......\n",
      "[CV 3/3; 5/30] END class_weight=balanced, max_depth=2, n_estimators=100; total time=   4.9s\n",
      "[CV 1/3; 6/30] START class_weight=balanced, max_depth=2, n_estimators=150.......\n",
      "[CV 1/3; 6/30] END class_weight=balanced, max_depth=2, n_estimators=150; total time=   7.3s\n",
      "[CV 2/3; 6/30] START class_weight=balanced, max_depth=2, n_estimators=150.......\n",
      "[CV 2/3; 6/30] END class_weight=balanced, max_depth=2, n_estimators=150; total time=   7.0s\n",
      "[CV 3/3; 6/30] START class_weight=balanced, max_depth=2, n_estimators=150.......\n",
      "[CV 3/3; 6/30] END class_weight=balanced, max_depth=2, n_estimators=150; total time=   6.8s\n",
      "[CV 1/3; 7/30] START class_weight=balanced, max_depth=3, n_estimators=50........\n",
      "[CV 1/3; 7/30] END class_weight=balanced, max_depth=3, n_estimators=50; total time=   3.3s\n",
      "[CV 2/3; 7/30] START class_weight=balanced, max_depth=3, n_estimators=50........\n",
      "[CV 2/3; 7/30] END class_weight=balanced, max_depth=3, n_estimators=50; total time=   3.2s\n",
      "[CV 3/3; 7/30] START class_weight=balanced, max_depth=3, n_estimators=50........\n",
      "[CV 3/3; 7/30] END class_weight=balanced, max_depth=3, n_estimators=50; total time=   3.1s\n",
      "[CV 1/3; 8/30] START class_weight=balanced, max_depth=3, n_estimators=100.......\n",
      "[CV 1/3; 8/30] END class_weight=balanced, max_depth=3, n_estimators=100; total time=   6.5s\n",
      "[CV 2/3; 8/30] START class_weight=balanced, max_depth=3, n_estimators=100.......\n",
      "[CV 2/3; 8/30] END class_weight=balanced, max_depth=3, n_estimators=100; total time=   6.5s\n",
      "[CV 3/3; 8/30] START class_weight=balanced, max_depth=3, n_estimators=100.......\n",
      "[CV 3/3; 8/30] END class_weight=balanced, max_depth=3, n_estimators=100; total time=   6.5s\n",
      "[CV 1/3; 9/30] START class_weight=balanced, max_depth=3, n_estimators=150.......\n",
      "[CV 1/3; 9/30] END class_weight=balanced, max_depth=3, n_estimators=150; total time=   9.6s\n",
      "[CV 2/3; 9/30] START class_weight=balanced, max_depth=3, n_estimators=150.......\n",
      "[CV 2/3; 9/30] END class_weight=balanced, max_depth=3, n_estimators=150; total time=   9.7s\n",
      "[CV 3/3; 9/30] START class_weight=balanced, max_depth=3, n_estimators=150.......\n",
      "[CV 3/3; 9/30] END class_weight=balanced, max_depth=3, n_estimators=150; total time=   9.4s\n",
      "[CV 1/3; 10/30] START class_weight=balanced, max_depth=4, n_estimators=50.......\n",
      "[CV 1/3; 10/30] END class_weight=balanced, max_depth=4, n_estimators=50; total time=   4.5s\n",
      "[CV 2/3; 10/30] START class_weight=balanced, max_depth=4, n_estimators=50.......\n",
      "[CV 2/3; 10/30] END class_weight=balanced, max_depth=4, n_estimators=50; total time=   4.1s\n",
      "[CV 3/3; 10/30] START class_weight=balanced, max_depth=4, n_estimators=50.......\n",
      "[CV 3/3; 10/30] END class_weight=balanced, max_depth=4, n_estimators=50; total time=   4.0s\n",
      "[CV 1/3; 11/30] START class_weight=balanced, max_depth=4, n_estimators=100......\n",
      "[CV 1/3; 11/30] END class_weight=balanced, max_depth=4, n_estimators=100; total time=   8.6s\n",
      "[CV 2/3; 11/30] START class_weight=balanced, max_depth=4, n_estimators=100......\n",
      "[CV 2/3; 11/30] END class_weight=balanced, max_depth=4, n_estimators=100; total time=   8.7s\n",
      "[CV 3/3; 11/30] START class_weight=balanced, max_depth=4, n_estimators=100......\n",
      "[CV 3/3; 11/30] END class_weight=balanced, max_depth=4, n_estimators=100; total time=   8.8s\n",
      "[CV 1/3; 12/30] START class_weight=balanced, max_depth=4, n_estimators=150......\n",
      "[CV 1/3; 12/30] END class_weight=balanced, max_depth=4, n_estimators=150; total time=  12.7s\n",
      "[CV 2/3; 12/30] START class_weight=balanced, max_depth=4, n_estimators=150......\n",
      "[CV 2/3; 12/30] END class_weight=balanced, max_depth=4, n_estimators=150; total time=  12.8s\n",
      "[CV 3/3; 12/30] START class_weight=balanced, max_depth=4, n_estimators=150......\n",
      "[CV 3/3; 12/30] END class_weight=balanced, max_depth=4, n_estimators=150; total time=  12.8s\n",
      "[CV 1/3; 13/30] START class_weight=balanced, max_depth=5, n_estimators=50.......\n",
      "[CV 1/3; 13/30] END class_weight=balanced, max_depth=5, n_estimators=50; total time=   5.4s\n",
      "[CV 2/3; 13/30] START class_weight=balanced, max_depth=5, n_estimators=50.......\n",
      "[CV 2/3; 13/30] END class_weight=balanced, max_depth=5, n_estimators=50; total time=   5.4s\n",
      "[CV 3/3; 13/30] START class_weight=balanced, max_depth=5, n_estimators=50.......\n",
      "[CV 3/3; 13/30] END class_weight=balanced, max_depth=5, n_estimators=50; total time=   5.5s\n",
      "[CV 1/3; 14/30] START class_weight=balanced, max_depth=5, n_estimators=100......\n",
      "[CV 1/3; 14/30] END class_weight=balanced, max_depth=5, n_estimators=100; total time=  10.6s\n",
      "[CV 2/3; 14/30] START class_weight=balanced, max_depth=5, n_estimators=100......\n",
      "[CV 2/3; 14/30] END class_weight=balanced, max_depth=5, n_estimators=100; total time=  10.7s\n",
      "[CV 3/3; 14/30] START class_weight=balanced, max_depth=5, n_estimators=100......\n",
      "[CV 3/3; 14/30] END class_weight=balanced, max_depth=5, n_estimators=100; total time=  10.6s\n",
      "[CV 1/3; 15/30] START class_weight=balanced, max_depth=5, n_estimators=150......\n",
      "[CV 1/3; 15/30] END class_weight=balanced, max_depth=5, n_estimators=150; total time=  15.6s\n",
      "[CV 2/3; 15/30] START class_weight=balanced, max_depth=5, n_estimators=150......\n",
      "[CV 2/3; 15/30] END class_weight=balanced, max_depth=5, n_estimators=150; total time=  15.6s\n",
      "[CV 3/3; 15/30] START class_weight=balanced, max_depth=5, n_estimators=150......\n",
      "[CV 3/3; 15/30] END class_weight=balanced, max_depth=5, n_estimators=150; total time=  15.5s\n",
      "[CV 1/3; 16/30] START class_weight=balanced, max_depth=6, n_estimators=50.......\n",
      "[CV 1/3; 16/30] END class_weight=balanced, max_depth=6, n_estimators=50; total time=   6.2s\n",
      "[CV 2/3; 16/30] START class_weight=balanced, max_depth=6, n_estimators=50.......\n",
      "[CV 2/3; 16/30] END class_weight=balanced, max_depth=6, n_estimators=50; total time=   6.1s\n",
      "[CV 3/3; 16/30] START class_weight=balanced, max_depth=6, n_estimators=50.......\n",
      "[CV 3/3; 16/30] END class_weight=balanced, max_depth=6, n_estimators=50; total time=   6.2s\n",
      "[CV 1/3; 17/30] START class_weight=balanced, max_depth=6, n_estimators=100......\n",
      "[CV 1/3; 17/30] END class_weight=balanced, max_depth=6, n_estimators=100; total time=  12.3s\n",
      "[CV 2/3; 17/30] START class_weight=balanced, max_depth=6, n_estimators=100......\n",
      "[CV 2/3; 17/30] END class_weight=balanced, max_depth=6, n_estimators=100; total time=  12.5s\n",
      "[CV 3/3; 17/30] START class_weight=balanced, max_depth=6, n_estimators=100......\n",
      "[CV 3/3; 17/30] END class_weight=balanced, max_depth=6, n_estimators=100; total time=  12.7s\n",
      "[CV 1/3; 18/30] START class_weight=balanced, max_depth=6, n_estimators=150......\n",
      "[CV 1/3; 18/30] END class_weight=balanced, max_depth=6, n_estimators=150; total time=  18.7s\n",
      "[CV 2/3; 18/30] START class_weight=balanced, max_depth=6, n_estimators=150......\n",
      "[CV 2/3; 18/30] END class_weight=balanced, max_depth=6, n_estimators=150; total time=  19.0s\n",
      "[CV 3/3; 18/30] START class_weight=balanced, max_depth=6, n_estimators=150......\n",
      "[CV 3/3; 18/30] END class_weight=balanced, max_depth=6, n_estimators=150; total time=  18.4s\n",
      "[CV 1/3; 19/30] START class_weight=balanced, max_depth=7, n_estimators=50.......\n",
      "[CV 1/3; 19/30] END class_weight=balanced, max_depth=7, n_estimators=50; total time=   7.2s\n",
      "[CV 2/3; 19/30] START class_weight=balanced, max_depth=7, n_estimators=50.......\n",
      "[CV 2/3; 19/30] END class_weight=balanced, max_depth=7, n_estimators=50; total time=   7.4s\n",
      "[CV 3/3; 19/30] START class_weight=balanced, max_depth=7, n_estimators=50.......\n",
      "[CV 3/3; 19/30] END class_weight=balanced, max_depth=7, n_estimators=50; total time=   7.1s\n",
      "[CV 1/3; 20/30] START class_weight=balanced, max_depth=7, n_estimators=100......\n",
      "[CV 1/3; 20/30] END class_weight=balanced, max_depth=7, n_estimators=100; total time=  14.4s\n",
      "[CV 2/3; 20/30] START class_weight=balanced, max_depth=7, n_estimators=100......\n",
      "[CV 2/3; 20/30] END class_weight=balanced, max_depth=7, n_estimators=100; total time=  15.1s\n",
      "[CV 3/3; 20/30] START class_weight=balanced, max_depth=7, n_estimators=100......\n",
      "[CV 3/3; 20/30] END class_weight=balanced, max_depth=7, n_estimators=100; total time=  14.4s\n",
      "[CV 1/3; 21/30] START class_weight=balanced, max_depth=7, n_estimators=150......\n",
      "[CV 1/3; 21/30] END class_weight=balanced, max_depth=7, n_estimators=150; total time=  21.5s\n",
      "[CV 2/3; 21/30] START class_weight=balanced, max_depth=7, n_estimators=150......\n",
      "[CV 2/3; 21/30] END class_weight=balanced, max_depth=7, n_estimators=150; total time=  22.1s\n",
      "[CV 3/3; 21/30] START class_weight=balanced, max_depth=7, n_estimators=150......\n",
      "[CV 3/3; 21/30] END class_weight=balanced, max_depth=7, n_estimators=150; total time=  21.3s\n",
      "[CV 1/3; 22/30] START class_weight=balanced, max_depth=8, n_estimators=50.......\n",
      "[CV 1/3; 22/30] END class_weight=balanced, max_depth=8, n_estimators=50; total time=   8.2s\n",
      "[CV 2/3; 22/30] START class_weight=balanced, max_depth=8, n_estimators=50.......\n",
      "[CV 2/3; 22/30] END class_weight=balanced, max_depth=8, n_estimators=50; total time=   8.1s\n",
      "[CV 3/3; 22/30] START class_weight=balanced, max_depth=8, n_estimators=50.......\n",
      "[CV 3/3; 22/30] END class_weight=balanced, max_depth=8, n_estimators=50; total time=   8.0s\n",
      "[CV 1/3; 23/30] START class_weight=balanced, max_depth=8, n_estimators=100......\n",
      "[CV 1/3; 23/30] END class_weight=balanced, max_depth=8, n_estimators=100; total time=  16.4s\n",
      "[CV 2/3; 23/30] START class_weight=balanced, max_depth=8, n_estimators=100......\n",
      "[CV 2/3; 23/30] END class_weight=balanced, max_depth=8, n_estimators=100; total time=  16.5s\n",
      "[CV 3/3; 23/30] START class_weight=balanced, max_depth=8, n_estimators=100......\n",
      "[CV 3/3; 23/30] END class_weight=balanced, max_depth=8, n_estimators=100; total time=  16.8s\n",
      "[CV 1/3; 24/30] START class_weight=balanced, max_depth=8, n_estimators=150......\n",
      "[CV 1/3; 24/30] END class_weight=balanced, max_depth=8, n_estimators=150; total time=  24.6s\n",
      "[CV 2/3; 24/30] START class_weight=balanced, max_depth=8, n_estimators=150......\n",
      "[CV 2/3; 24/30] END class_weight=balanced, max_depth=8, n_estimators=150; total time=  24.4s\n",
      "[CV 3/3; 24/30] START class_weight=balanced, max_depth=8, n_estimators=150......\n",
      "[CV 3/3; 24/30] END class_weight=balanced, max_depth=8, n_estimators=150; total time=  23.7s\n",
      "[CV 1/3; 25/30] START class_weight=balanced, max_depth=9, n_estimators=50.......\n",
      "[CV 1/3; 25/30] END class_weight=balanced, max_depth=9, n_estimators=50; total time=   9.2s\n",
      "[CV 2/3; 25/30] START class_weight=balanced, max_depth=9, n_estimators=50.......\n",
      "[CV 2/3; 25/30] END class_weight=balanced, max_depth=9, n_estimators=50; total time=  10.0s\n",
      "[CV 3/3; 25/30] START class_weight=balanced, max_depth=9, n_estimators=50.......\n",
      "[CV 3/3; 25/30] END class_weight=balanced, max_depth=9, n_estimators=50; total time=   9.2s\n",
      "[CV 1/3; 26/30] START class_weight=balanced, max_depth=9, n_estimators=100......\n",
      "[CV 1/3; 26/30] END class_weight=balanced, max_depth=9, n_estimators=100; total time=  19.3s\n",
      "[CV 2/3; 26/30] START class_weight=balanced, max_depth=9, n_estimators=100......\n",
      "[CV 2/3; 26/30] END class_weight=balanced, max_depth=9, n_estimators=100; total time=  18.5s\n",
      "[CV 3/3; 26/30] START class_weight=balanced, max_depth=9, n_estimators=100......\n",
      "[CV 3/3; 26/30] END class_weight=balanced, max_depth=9, n_estimators=100; total time=  18.1s\n",
      "[CV 1/3; 27/30] START class_weight=balanced, max_depth=9, n_estimators=150......\n",
      "[CV 1/3; 27/30] END class_weight=balanced, max_depth=9, n_estimators=150; total time=  26.8s\n",
      "[CV 2/3; 27/30] START class_weight=balanced, max_depth=9, n_estimators=150......\n",
      "[CV 2/3; 27/30] END class_weight=balanced, max_depth=9, n_estimators=150; total time=  27.4s\n",
      "[CV 3/3; 27/30] START class_weight=balanced, max_depth=9, n_estimators=150......\n",
      "[CV 3/3; 27/30] END class_weight=balanced, max_depth=9, n_estimators=150; total time=  27.6s\n",
      "[CV 1/3; 28/30] START class_weight=balanced, max_depth=10, n_estimators=50......\n",
      "[CV 1/3; 28/30] END class_weight=balanced, max_depth=10, n_estimators=50; total time=  10.2s\n",
      "[CV 2/3; 28/30] START class_weight=balanced, max_depth=10, n_estimators=50......\n",
      "[CV 2/3; 28/30] END class_weight=balanced, max_depth=10, n_estimators=50; total time=  10.4s\n",
      "[CV 3/3; 28/30] START class_weight=balanced, max_depth=10, n_estimators=50......\n",
      "[CV 3/3; 28/30] END class_weight=balanced, max_depth=10, n_estimators=50; total time=  10.4s\n",
      "[CV 1/3; 29/30] START class_weight=balanced, max_depth=10, n_estimators=100.....\n",
      "[CV 1/3; 29/30] END class_weight=balanced, max_depth=10, n_estimators=100; total time=  20.8s\n",
      "[CV 2/3; 29/30] START class_weight=balanced, max_depth=10, n_estimators=100.....\n",
      "[CV 2/3; 29/30] END class_weight=balanced, max_depth=10, n_estimators=100; total time=  20.6s\n",
      "[CV 3/3; 29/30] START class_weight=balanced, max_depth=10, n_estimators=100.....\n",
      "[CV 3/3; 29/30] END class_weight=balanced, max_depth=10, n_estimators=100; total time=  20.2s\n",
      "[CV 1/3; 30/30] START class_weight=balanced, max_depth=10, n_estimators=150.....\n",
      "[CV 1/3; 30/30] END class_weight=balanced, max_depth=10, n_estimators=150; total time=  29.6s\n",
      "[CV 2/3; 30/30] START class_weight=balanced, max_depth=10, n_estimators=150.....\n",
      "[CV 2/3; 30/30] END class_weight=balanced, max_depth=10, n_estimators=150; total time=  29.8s\n",
      "[CV 3/3; 30/30] START class_weight=balanced, max_depth=10, n_estimators=150.....\n",
      "[CV 3/3; 30/30] END class_weight=balanced, max_depth=10, n_estimators=150; total time=  32.0s\n",
      "Лучшие параметры для RandomForestClassifier: {'class_weight': 'balanced', 'max_depth': 10, 'n_estimators': 150}\n",
      "Лучшее значение F1-score для RandomForestClassifier: 0.36315631466125015\n"
     ]
    }
   ],
   "source": [
    "# Обучим модель и найдем параметры\n",
    "\n",
    "rf_grid_search = GridSearchCV(RandomForestClassifier(random_state=42), \n",
    "                              param_grid, \n",
    "                              cv=3, \n",
    "                              scoring='f1',\n",
    "                              verbose = 10,\n",
    "                              n_jobs=-1)\n",
    "\n",
    "rf_grid_search.fit(features_train_transformed, target_train)\n",
    "\n",
    "\n",
    "best_params = rf_grid_search.best_params_\n",
    "best_score = rf_grid_search.best_score_\n",
    "\n",
    "\n",
    "print(\"Лучшие параметры для RandomForestClassifier:\", best_params)\n",
    "print(\"Лучшее значение F1-score для RandomForestClassifier:\", best_score)"
   ]
  },
  {
   "cell_type": "markdown",
   "metadata": {},
   "source": [
    "#### результат"
   ]
  },
  {
   "cell_type": "markdown",
   "metadata": {},
   "source": [
    "Плохой результат"
   ]
  },
  {
   "cell_type": "markdown",
   "metadata": {},
   "source": [
    "### Вывод"
   ]
  },
  {
   "cell_type": "markdown",
   "metadata": {},
   "source": [
    "С рещультатом 7620714460815878 лучшей оказаласьмодель Логистической регрессии. ЕЕ и будем тестировать"
   ]
  },
  {
   "cell_type": "markdown",
   "metadata": {},
   "source": [
    "## Тестирование"
   ]
  },
  {
   "cell_type": "code",
   "execution_count": 3,
   "metadata": {},
   "outputs": [
    {
     "ename": "NameError",
     "evalue": "name 'lr_grid_search' is not defined",
     "output_type": "error",
     "traceback": [
      "\u001b[0;31m---------------------------------------------------------------------------\u001b[0m",
      "\u001b[0;31mNameError\u001b[0m                                 Traceback (most recent call last)",
      "\u001b[0;32m/tmp/ipykernel_31/2129079260.py\u001b[0m in \u001b[0;36m<module>\u001b[0;34m\u001b[0m\n\u001b[1;32m      1\u001b[0m \u001b[0;31m# получим лучшую модель из GridSearchCV\u001b[0m\u001b[0;34m\u001b[0m\u001b[0;34m\u001b[0m\u001b[0;34m\u001b[0m\u001b[0m\n\u001b[1;32m      2\u001b[0m \u001b[0;34m\u001b[0m\u001b[0m\n\u001b[0;32m----> 3\u001b[0;31m \u001b[0mlr_model\u001b[0m \u001b[0;34m=\u001b[0m \u001b[0mlr_grid_search\u001b[0m\u001b[0;34m.\u001b[0m\u001b[0mbest_estimator_\u001b[0m\u001b[0;34m\u001b[0m\u001b[0;34m\u001b[0m\u001b[0m\n\u001b[0m",
      "\u001b[0;31mNameError\u001b[0m: name 'lr_grid_search' is not defined"
     ]
    }
   ],
   "source": [
    "# получим лучшую модель из GridSearchCV\n",
    "\n",
    "lr_model = lr_grid_search.best_estimator_"
   ]
  },
  {
   "cell_type": "code",
   "execution_count": null,
   "metadata": {},
   "outputs": [],
   "source": [
    "test_prediction = lr_model.predict(features_test_transformed)\n",
    "\n",
    "f1=f1_score(target_test,test_prediction)\n",
    "\n",
    "print(\"Значение F1 на тесте:\", f1)"
   ]
  },
  {
   "cell_type": "markdown",
   "metadata": {},
   "source": [
    "Рузультат F1 - 0.7598215570585696 - порог пройден\n",
    "\n"
   ]
  },
  {
   "cell_type": "markdown",
   "metadata": {},
   "source": [
    "## Выводы"
   ]
  },
  {
   "cell_type": "markdown",
   "metadata": {},
   "source": [
    "В ходе проекта были выполнены следующие шаги:\n",
    "\n",
    "- Загрузка и анализ данных:\n",
    "\n",
    "    - Загрузили библиотеки и модули\n",
    "    - Загрузили данные и оценили их состояние\n",
    "\n",
    "- Обработка:\n",
    "\n",
    "    - Удалили ненужный столбец\n",
    "    - Разделили датасет на выборки\n",
    "    - Провели преобразование: очистка от лишних знаков, стоп-слов, лемматизация и векторизация\n",
    "\n",
    "- Обучение и тестирование:\n",
    "\n",
    "    -Подготовили 3 модели\n",
    "        - Логистическая регрессия\n",
    "        - LGBMClassifer\n",
    "        - Случайный лес\n",
    "    - Использовали кросс-валидацию \n",
    "    - Данные не балансировали - результат и без нее удовлетворительный. Пробовал pipeline с методами SMOTE и RandomOverSampler - результат такой же, но дольше обучается и предсказывает. \n",
    "    \n",
    "**Результаты**\n",
    "\n",
    "- ЛОгистическая регрессия на трейне: 0.7620714460815878\n",
    "- LGBMClassifier на трейне: 0.7370037855068583\n",
    "- Случайный лес на тесте: 0.36315631466125015\n",
    "\n",
    "- ЛОгистическая реегрессия на тесте: 0.7598215570585696\n",
    "\n",
    "\n",
    "ЛОгистическая регрессия показала наилучший результат, перевалив за указанный порог и на тренировке, и в тесте, при этом оба результата почти одинаковые, что говорит о том, что модель не переучена и работает хорошо.  "
   ]
  }
 ],
 "metadata": {
  "ExecuteTimeLog": [
   {
    "duration": 2464,
    "start_time": "2023-07-05T16:42:02.821Z"
   },
   {
    "duration": 3799,
    "start_time": "2023-07-05T16:42:20.548Z"
   },
   {
    "duration": 18,
    "start_time": "2023-07-05T16:42:45.492Z"
   },
   {
    "duration": 136,
    "start_time": "2023-07-05T16:58:09.145Z"
   },
   {
    "duration": 12,
    "start_time": "2023-07-05T16:58:13.268Z"
   },
   {
    "duration": 103,
    "start_time": "2023-07-05T16:58:13.508Z"
   },
   {
    "duration": 17,
    "start_time": "2023-07-05T16:58:13.746Z"
   },
   {
    "duration": 3,
    "start_time": "2023-07-05T16:58:23.233Z"
   },
   {
    "duration": 6,
    "start_time": "2023-07-05T16:58:31.216Z"
   },
   {
    "duration": 504,
    "start_time": "2023-07-05T16:58:40.211Z"
   },
   {
    "duration": 488,
    "start_time": "2023-07-05T16:59:48.163Z"
   },
   {
    "duration": 113392,
    "start_time": "2023-07-05T16:59:52.188Z"
   },
   {
    "duration": 10,
    "start_time": "2023-07-05T17:01:45.582Z"
   },
   {
    "duration": 2674,
    "start_time": "2023-07-05T17:03:21.137Z"
   },
   {
    "duration": 0,
    "start_time": "2023-07-05T17:03:23.814Z"
   },
   {
    "duration": 0,
    "start_time": "2023-07-05T17:03:23.815Z"
   },
   {
    "duration": 328748,
    "start_time": "2023-07-05T17:06:23.977Z"
   },
   {
    "duration": 80835,
    "start_time": "2023-07-05T17:11:52.727Z"
   },
   {
    "duration": 101983,
    "start_time": "2023-07-05T17:13:13.564Z"
   },
   {
    "duration": 8,
    "start_time": "2023-07-05T17:14:55.549Z"
   },
   {
    "duration": 5,
    "start_time": "2023-07-05T17:35:02.308Z"
   },
   {
    "duration": 2670,
    "start_time": "2023-07-05T17:35:05.482Z"
   },
   {
    "duration": 0,
    "start_time": "2023-07-05T17:35:08.154Z"
   },
   {
    "duration": 0,
    "start_time": "2023-07-05T17:35:08.155Z"
   },
   {
    "duration": 5,
    "start_time": "2023-07-05T17:35:20.695Z"
   },
   {
    "duration": 2958,
    "start_time": "2023-07-05T17:35:21.350Z"
   },
   {
    "duration": 0,
    "start_time": "2023-07-05T17:35:24.310Z"
   },
   {
    "duration": 0,
    "start_time": "2023-07-05T17:35:24.312Z"
   },
   {
    "duration": 159,
    "start_time": "2023-07-05T17:36:53.455Z"
   },
   {
    "duration": 2741,
    "start_time": "2023-07-05T17:36:54.208Z"
   },
   {
    "duration": 0,
    "start_time": "2023-07-05T17:36:56.950Z"
   },
   {
    "duration": 0,
    "start_time": "2023-07-05T17:36:56.951Z"
   },
   {
    "duration": 4,
    "start_time": "2023-07-05T17:37:08.454Z"
   },
   {
    "duration": 57133,
    "start_time": "2023-07-05T17:37:08.959Z"
   },
   {
    "duration": 14115,
    "start_time": "2023-07-05T17:38:06.094Z"
   },
   {
    "duration": 17404,
    "start_time": "2023-07-05T17:38:20.211Z"
   },
   {
    "duration": 5,
    "start_time": "2023-07-05T17:38:37.617Z"
   },
   {
    "duration": 10,
    "start_time": "2023-07-05T17:46:38.498Z"
   },
   {
    "duration": 14,
    "start_time": "2023-07-05T17:57:17.508Z"
   },
   {
    "duration": 49,
    "start_time": "2023-07-05T17:57:31.853Z"
   },
   {
    "duration": 18,
    "start_time": "2023-07-05T18:00:51.763Z"
   },
   {
    "duration": 5,
    "start_time": "2023-07-05T18:02:06.769Z"
   },
   {
    "duration": 1812,
    "start_time": "2023-07-05T18:02:21.830Z"
   },
   {
    "duration": 245,
    "start_time": "2023-07-05T18:02:23.644Z"
   },
   {
    "duration": 875,
    "start_time": "2023-07-05T18:02:23.890Z"
   },
   {
    "duration": 37,
    "start_time": "2023-07-05T18:02:24.768Z"
   },
   {
    "duration": 13,
    "start_time": "2023-07-05T18:02:24.807Z"
   },
   {
    "duration": 220,
    "start_time": "2023-07-05T18:02:24.822Z"
   },
   {
    "duration": 267,
    "start_time": "2023-07-05T18:02:25.045Z"
   },
   {
    "duration": 13,
    "start_time": "2023-07-05T18:02:25.314Z"
   },
   {
    "duration": 124,
    "start_time": "2023-07-05T18:02:25.329Z"
   },
   {
    "duration": 17,
    "start_time": "2023-07-05T18:02:25.456Z"
   },
   {
    "duration": 48,
    "start_time": "2023-07-05T18:02:25.475Z"
   },
   {
    "duration": 42,
    "start_time": "2023-07-05T18:02:25.525Z"
   },
   {
    "duration": 57121,
    "start_time": "2023-07-05T18:02:25.569Z"
   },
   {
    "duration": 14278,
    "start_time": "2023-07-05T18:03:22.692Z"
   },
   {
    "duration": 17444,
    "start_time": "2023-07-05T18:03:36.972Z"
   },
   {
    "duration": 8,
    "start_time": "2023-07-05T18:03:54.418Z"
   },
   {
    "duration": 7,
    "start_time": "2023-07-05T18:03:54.428Z"
   },
   {
    "duration": 152,
    "start_time": "2023-07-05T18:03:54.437Z"
   },
   {
    "duration": 1830,
    "start_time": "2023-07-05T18:04:28.324Z"
   },
   {
    "duration": 226,
    "start_time": "2023-07-05T18:04:30.156Z"
   },
   {
    "duration": 920,
    "start_time": "2023-07-05T18:04:30.384Z"
   },
   {
    "duration": 39,
    "start_time": "2023-07-05T18:04:31.306Z"
   },
   {
    "duration": 57,
    "start_time": "2023-07-05T18:04:31.347Z"
   },
   {
    "duration": 235,
    "start_time": "2023-07-05T18:04:31.406Z"
   },
   {
    "duration": 275,
    "start_time": "2023-07-05T18:04:31.643Z"
   },
   {
    "duration": 13,
    "start_time": "2023-07-05T18:04:31.920Z"
   },
   {
    "duration": 156,
    "start_time": "2023-07-05T18:04:31.935Z"
   },
   {
    "duration": 16,
    "start_time": "2023-07-05T18:04:32.093Z"
   },
   {
    "duration": 19,
    "start_time": "2023-07-05T18:04:32.111Z"
   },
   {
    "duration": 31,
    "start_time": "2023-07-05T18:04:32.132Z"
   },
   {
    "duration": 56552,
    "start_time": "2023-07-05T18:04:32.165Z"
   },
   {
    "duration": 13594,
    "start_time": "2023-07-05T18:05:28.719Z"
   },
   {
    "duration": 17187,
    "start_time": "2023-07-05T18:05:42.315Z"
   },
   {
    "duration": 8,
    "start_time": "2023-07-05T18:05:59.504Z"
   },
   {
    "duration": 162,
    "start_time": "2023-07-05T18:05:59.514Z"
   },
   {
    "duration": 0,
    "start_time": "2023-07-05T18:05:59.678Z"
   },
   {
    "duration": 5,
    "start_time": "2023-07-05T18:09:37.880Z"
   },
   {
    "duration": 548,
    "start_time": "2023-07-05T18:09:39.128Z"
   },
   {
    "duration": 0,
    "start_time": "2023-07-05T18:09:39.677Z"
   },
   {
    "duration": 0,
    "start_time": "2023-07-05T18:09:39.679Z"
   },
   {
    "duration": 1859,
    "start_time": "2023-07-05T18:09:49.105Z"
   },
   {
    "duration": 247,
    "start_time": "2023-07-05T18:09:50.967Z"
   },
   {
    "duration": 874,
    "start_time": "2023-07-05T18:09:51.216Z"
   },
   {
    "duration": 37,
    "start_time": "2023-07-05T18:09:52.093Z"
   },
   {
    "duration": 28,
    "start_time": "2023-07-05T18:09:52.132Z"
   },
   {
    "duration": 275,
    "start_time": "2023-07-05T18:09:52.167Z"
   },
   {
    "duration": 287,
    "start_time": "2023-07-05T18:09:52.444Z"
   },
   {
    "duration": 14,
    "start_time": "2023-07-05T18:09:52.734Z"
   },
   {
    "duration": 140,
    "start_time": "2023-07-05T18:09:52.750Z"
   },
   {
    "duration": 18,
    "start_time": "2023-07-05T18:09:52.893Z"
   },
   {
    "duration": 19,
    "start_time": "2023-07-05T18:09:52.913Z"
   },
   {
    "duration": 34,
    "start_time": "2023-07-05T18:09:52.934Z"
   },
   {
    "duration": 56854,
    "start_time": "2023-07-05T18:09:52.970Z"
   },
   {
    "duration": 13843,
    "start_time": "2023-07-05T18:10:49.826Z"
   },
   {
    "duration": 17159,
    "start_time": "2023-07-05T18:11:03.672Z"
   },
   {
    "duration": 9,
    "start_time": "2023-07-05T18:11:20.833Z"
   },
   {
    "duration": 174,
    "start_time": "2023-07-05T18:11:20.843Z"
   },
   {
    "duration": 0,
    "start_time": "2023-07-05T18:11:21.019Z"
   },
   {
    "duration": 16,
    "start_time": "2023-07-05T18:12:27.329Z"
   },
   {
    "duration": 16,
    "start_time": "2023-07-05T18:12:30.628Z"
   },
   {
    "duration": 4,
    "start_time": "2023-07-05T18:12:39.588Z"
   },
   {
    "duration": 4,
    "start_time": "2023-07-05T18:15:30.475Z"
   },
   {
    "duration": 18,
    "start_time": "2023-07-05T18:15:32.091Z"
   },
   {
    "duration": 4,
    "start_time": "2023-07-05T18:16:23.026Z"
   },
   {
    "duration": 1836,
    "start_time": "2023-07-05T18:17:05.925Z"
   },
   {
    "duration": 226,
    "start_time": "2023-07-05T18:17:07.763Z"
   },
   {
    "duration": 879,
    "start_time": "2023-07-05T18:17:07.992Z"
   },
   {
    "duration": 38,
    "start_time": "2023-07-05T18:17:08.873Z"
   },
   {
    "duration": 13,
    "start_time": "2023-07-05T18:17:08.912Z"
   },
   {
    "duration": 206,
    "start_time": "2023-07-05T18:17:08.927Z"
   },
   {
    "duration": 264,
    "start_time": "2023-07-05T18:17:09.135Z"
   },
   {
    "duration": 13,
    "start_time": "2023-07-05T18:17:09.400Z"
   },
   {
    "duration": 126,
    "start_time": "2023-07-05T18:17:09.415Z"
   },
   {
    "duration": 18,
    "start_time": "2023-07-05T18:17:09.543Z"
   },
   {
    "duration": 25,
    "start_time": "2023-07-05T18:17:09.567Z"
   },
   {
    "duration": 27,
    "start_time": "2023-07-05T18:17:09.594Z"
   },
   {
    "duration": 58119,
    "start_time": "2023-07-05T18:17:09.623Z"
   },
   {
    "duration": 13847,
    "start_time": "2023-07-05T18:18:07.744Z"
   },
   {
    "duration": 18286,
    "start_time": "2023-07-05T18:18:21.593Z"
   },
   {
    "duration": 26,
    "start_time": "2023-07-05T18:18:39.881Z"
   },
   {
    "duration": 5,
    "start_time": "2023-07-05T18:18:39.909Z"
   },
   {
    "duration": 161,
    "start_time": "2023-07-05T18:18:39.916Z"
   },
   {
    "duration": 0,
    "start_time": "2023-07-05T18:18:40.079Z"
   },
   {
    "duration": 898,
    "start_time": "2023-07-05T18:23:14.290Z"
   },
   {
    "duration": 15,
    "start_time": "2023-07-05T18:23:20.889Z"
   },
   {
    "duration": 109,
    "start_time": "2023-07-05T18:23:21.111Z"
   },
   {
    "duration": 18,
    "start_time": "2023-07-05T18:23:22.256Z"
   },
   {
    "duration": 95,
    "start_time": "2023-07-05T18:26:10.595Z"
   },
   {
    "duration": 7,
    "start_time": "2023-07-05T18:27:13.294Z"
   },
   {
    "duration": 54874,
    "start_time": "2023-07-05T18:27:17.718Z"
   },
   {
    "duration": 13425,
    "start_time": "2023-07-05T18:28:12.594Z"
   },
   {
    "duration": 16870,
    "start_time": "2023-07-05T18:28:26.021Z"
   },
   {
    "duration": 12,
    "start_time": "2023-07-05T18:30:18.178Z"
   },
   {
    "duration": 2412,
    "start_time": "2023-07-05T18:30:24.420Z"
   },
   {
    "duration": 5,
    "start_time": "2023-07-05T18:30:45.516Z"
   },
   {
    "duration": 10,
    "start_time": "2023-07-05T18:32:27.101Z"
   },
   {
    "duration": 14,
    "start_time": "2023-07-05T18:32:30.250Z"
   },
   {
    "duration": 7,
    "start_time": "2023-07-05T18:33:28.182Z"
   },
   {
    "duration": 69,
    "start_time": "2023-07-05T18:34:03.203Z"
   },
   {
    "duration": 9,
    "start_time": "2023-07-05T18:34:06.881Z"
   },
   {
    "duration": 9,
    "start_time": "2023-07-05T18:34:12.737Z"
   },
   {
    "duration": 9,
    "start_time": "2023-07-05T18:34:23.796Z"
   },
   {
    "duration": 8,
    "start_time": "2023-07-05T18:34:42.609Z"
   },
   {
    "duration": 2751,
    "start_time": "2023-07-05T18:34:46.501Z"
   },
   {
    "duration": 366,
    "start_time": "2023-07-05T18:34:49.255Z"
   },
   {
    "duration": 1772,
    "start_time": "2023-07-05T18:36:06.217Z"
   },
   {
    "duration": 286,
    "start_time": "2023-07-05T18:36:07.991Z"
   },
   {
    "duration": 3873,
    "start_time": "2023-07-05T18:36:08.279Z"
   },
   {
    "duration": 43,
    "start_time": "2023-07-05T18:36:12.154Z"
   },
   {
    "duration": 15,
    "start_time": "2023-07-05T18:36:12.200Z"
   },
   {
    "duration": 267,
    "start_time": "2023-07-05T18:36:12.217Z"
   },
   {
    "duration": 277,
    "start_time": "2023-07-05T18:36:12.487Z"
   },
   {
    "duration": 21,
    "start_time": "2023-07-05T18:36:12.768Z"
   },
   {
    "duration": 152,
    "start_time": "2023-07-05T18:36:12.791Z"
   },
   {
    "duration": 34,
    "start_time": "2023-07-05T18:36:12.945Z"
   },
   {
    "duration": 15,
    "start_time": "2023-07-05T18:36:12.985Z"
   },
   {
    "duration": 35,
    "start_time": "2023-07-05T18:36:13.002Z"
   },
   {
    "duration": 59043,
    "start_time": "2023-07-05T18:36:13.038Z"
   },
   {
    "duration": 14262,
    "start_time": "2023-07-05T18:37:12.084Z"
   },
   {
    "duration": 16235,
    "start_time": "2023-07-05T18:37:26.348Z"
   },
   {
    "duration": 2046,
    "start_time": "2023-07-05T18:37:42.585Z"
   },
   {
    "duration": 4,
    "start_time": "2023-07-05T18:37:44.633Z"
   },
   {
    "duration": 65,
    "start_time": "2023-07-05T18:40:56.793Z"
   },
   {
    "duration": 8,
    "start_time": "2023-07-05T18:40:59.733Z"
   },
   {
    "duration": 2608,
    "start_time": "2023-07-05T18:43:07.867Z"
   },
   {
    "duration": 221,
    "start_time": "2023-07-05T18:43:10.477Z"
   },
   {
    "duration": 3470,
    "start_time": "2023-07-05T18:43:10.700Z"
   },
   {
    "duration": 40,
    "start_time": "2023-07-05T18:43:14.173Z"
   },
   {
    "duration": 16,
    "start_time": "2023-07-05T18:43:14.215Z"
   },
   {
    "duration": 210,
    "start_time": "2023-07-05T18:43:14.233Z"
   },
   {
    "duration": 268,
    "start_time": "2023-07-05T18:43:14.445Z"
   },
   {
    "duration": 14,
    "start_time": "2023-07-05T18:43:14.715Z"
   },
   {
    "duration": 130,
    "start_time": "2023-07-05T18:43:14.731Z"
   },
   {
    "duration": 17,
    "start_time": "2023-07-05T18:43:14.864Z"
   },
   {
    "duration": 7,
    "start_time": "2023-07-05T18:43:14.882Z"
   },
   {
    "duration": 20,
    "start_time": "2023-07-05T18:43:14.890Z"
   },
   {
    "duration": 60196,
    "start_time": "2023-07-05T18:43:14.912Z"
   },
   {
    "duration": 13308,
    "start_time": "2023-07-05T18:44:15.110Z"
   },
   {
    "duration": 17107,
    "start_time": "2023-07-05T18:44:28.420Z"
   },
   {
    "duration": 172,
    "start_time": "2023-07-05T18:44:45.530Z"
   },
   {
    "duration": 0,
    "start_time": "2023-07-05T18:44:45.703Z"
   },
   {
    "duration": 0,
    "start_time": "2023-07-05T18:44:45.705Z"
   },
   {
    "duration": 0,
    "start_time": "2023-07-05T18:44:45.706Z"
   },
   {
    "duration": 0,
    "start_time": "2023-07-05T18:44:45.707Z"
   },
   {
    "duration": 1,
    "start_time": "2023-07-05T18:44:45.708Z"
   },
   {
    "duration": 0,
    "start_time": "2023-07-05T18:44:45.710Z"
   },
   {
    "duration": 12,
    "start_time": "2023-07-05T18:46:40.908Z"
   },
   {
    "duration": 2055,
    "start_time": "2023-07-05T18:46:44.251Z"
   },
   {
    "duration": 22,
    "start_time": "2023-07-05T18:47:08.947Z"
   },
   {
    "duration": 4,
    "start_time": "2023-07-05T18:47:10.315Z"
   },
   {
    "duration": 2598,
    "start_time": "2023-07-05T18:50:38.701Z"
   },
   {
    "duration": 235,
    "start_time": "2023-07-05T18:50:41.301Z"
   },
   {
    "duration": 3551,
    "start_time": "2023-07-05T18:50:41.538Z"
   },
   {
    "duration": 41,
    "start_time": "2023-07-05T18:50:45.091Z"
   },
   {
    "duration": 15,
    "start_time": "2023-07-05T18:50:45.134Z"
   },
   {
    "duration": 211,
    "start_time": "2023-07-05T18:50:45.151Z"
   },
   {
    "duration": 287,
    "start_time": "2023-07-05T18:50:45.363Z"
   },
   {
    "duration": 19,
    "start_time": "2023-07-05T18:50:45.652Z"
   },
   {
    "duration": 135,
    "start_time": "2023-07-05T18:50:45.673Z"
   },
   {
    "duration": 19,
    "start_time": "2023-07-05T18:50:45.810Z"
   },
   {
    "duration": 4,
    "start_time": "2023-07-05T18:50:45.832Z"
   },
   {
    "duration": 6,
    "start_time": "2023-07-05T18:50:45.837Z"
   },
   {
    "duration": 56453,
    "start_time": "2023-07-05T18:50:45.845Z"
   },
   {
    "duration": 13943,
    "start_time": "2023-07-05T18:51:42.301Z"
   },
   {
    "duration": 18215,
    "start_time": "2023-07-05T18:51:56.246Z"
   },
   {
    "duration": 15,
    "start_time": "2023-07-05T18:52:14.463Z"
   },
   {
    "duration": 29,
    "start_time": "2023-07-05T18:52:14.485Z"
   },
   {
    "duration": 174,
    "start_time": "2023-07-05T18:52:14.517Z"
   },
   {
    "duration": 0,
    "start_time": "2023-07-05T18:52:14.694Z"
   },
   {
    "duration": 27,
    "start_time": "2023-07-05T19:04:31.754Z"
   },
   {
    "duration": 20,
    "start_time": "2023-07-05T19:05:30.147Z"
   },
   {
    "duration": 7,
    "start_time": "2023-07-05T19:05:52.401Z"
   },
   {
    "duration": 14,
    "start_time": "2023-07-05T19:07:39.694Z"
   },
   {
    "duration": 925,
    "start_time": "2023-07-05T19:08:05.338Z"
   },
   {
    "duration": 17,
    "start_time": "2023-07-05T19:08:09.286Z"
   },
   {
    "duration": 125,
    "start_time": "2023-07-05T19:08:11.999Z"
   },
   {
    "duration": 17,
    "start_time": "2023-07-05T19:08:12.535Z"
   },
   {
    "duration": 3,
    "start_time": "2023-07-05T19:08:14.624Z"
   },
   {
    "duration": 6,
    "start_time": "2023-07-05T19:08:16.136Z"
   },
   {
    "duration": 56620,
    "start_time": "2023-07-05T19:08:18.593Z"
   },
   {
    "duration": 14400,
    "start_time": "2023-07-05T19:09:15.216Z"
   },
   {
    "duration": 18676,
    "start_time": "2023-07-05T19:09:29.619Z"
   },
   {
    "duration": 10,
    "start_time": "2023-07-05T19:09:48.297Z"
   },
   {
    "duration": 18,
    "start_time": "2023-07-05T19:10:14.006Z"
   },
   {
    "duration": 24,
    "start_time": "2023-07-05T19:10:45.894Z"
   },
   {
    "duration": 19,
    "start_time": "2023-07-05T19:11:13.319Z"
   },
   {
    "duration": 24,
    "start_time": "2023-07-05T19:13:23.626Z"
   },
   {
    "duration": 2166,
    "start_time": "2023-07-05T19:13:35.612Z"
   },
   {
    "duration": 31,
    "start_time": "2023-07-05T19:14:17.693Z"
   },
   {
    "duration": 10191,
    "start_time": "2023-07-05T19:17:50.203Z"
   },
   {
    "duration": 78,
    "start_time": "2023-07-05T19:18:56.891Z"
   },
   {
    "duration": 138,
    "start_time": "2023-07-05T19:20:38.101Z"
   },
   {
    "duration": 16,
    "start_time": "2023-07-05T19:21:14.103Z"
   },
   {
    "duration": 23,
    "start_time": "2023-07-05T19:22:11.240Z"
   },
   {
    "duration": 20,
    "start_time": "2023-07-05T19:22:57.799Z"
   },
   {
    "duration": 5,
    "start_time": "2023-07-05T21:54:15.140Z"
   },
   {
    "duration": 179,
    "start_time": "2023-07-05T21:54:15.691Z"
   },
   {
    "duration": 827,
    "start_time": "2023-07-05T21:54:18.230Z"
   },
   {
    "duration": 38,
    "start_time": "2023-07-05T21:54:20.247Z"
   },
   {
    "duration": 9,
    "start_time": "2023-07-05T21:54:20.596Z"
   },
   {
    "duration": 166,
    "start_time": "2023-07-05T21:54:21.222Z"
   },
   {
    "duration": 234,
    "start_time": "2023-07-05T21:54:22.090Z"
   },
   {
    "duration": 20,
    "start_time": "2023-07-05T21:54:23.934Z"
   },
   {
    "duration": 12,
    "start_time": "2023-07-05T21:54:35.109Z"
   },
   {
    "duration": 14,
    "start_time": "2023-07-05T21:54:41.503Z"
   },
   {
    "duration": 5,
    "start_time": "2023-07-05T21:55:06.766Z"
   },
   {
    "duration": 5,
    "start_time": "2023-07-05T21:55:07.117Z"
   },
   {
    "duration": 842,
    "start_time": "2023-07-05T21:55:07.870Z"
   },
   {
    "duration": 31,
    "start_time": "2023-07-05T21:55:08.714Z"
   },
   {
    "duration": 10,
    "start_time": "2023-07-05T21:55:08.860Z"
   },
   {
    "duration": 173,
    "start_time": "2023-07-05T21:55:09.454Z"
   },
   {
    "duration": 240,
    "start_time": "2023-07-05T21:55:10.542Z"
   },
   {
    "duration": 11,
    "start_time": "2023-07-05T21:55:11.054Z"
   },
   {
    "duration": 15,
    "start_time": "2023-07-05T21:55:12.542Z"
   },
   {
    "duration": 13,
    "start_time": "2023-07-05T21:56:15.853Z"
   },
   {
    "duration": 165,
    "start_time": "2023-07-05T21:56:18.733Z"
   },
   {
    "duration": 24,
    "start_time": "2023-07-05T21:56:19.414Z"
   },
   {
    "duration": 4,
    "start_time": "2023-07-05T21:56:20.286Z"
   },
   {
    "duration": 4,
    "start_time": "2023-07-05T21:56:22.814Z"
   },
   {
    "duration": 1464,
    "start_time": "2023-07-05T21:56:56.606Z"
   },
   {
    "duration": 50174,
    "start_time": "2023-07-05T21:57:21.869Z"
   },
   {
    "duration": 12602,
    "start_time": "2023-07-05T21:58:12.045Z"
   },
   {
    "duration": 15354,
    "start_time": "2023-07-05T21:58:24.648Z"
   },
   {
    "duration": 11,
    "start_time": "2023-07-05T21:59:14.124Z"
   },
   {
    "duration": 5,
    "start_time": "2023-07-05T21:59:48.291Z"
   },
   {
    "duration": 20519,
    "start_time": "2023-07-05T21:59:53.034Z"
   },
   {
    "duration": 5,
    "start_time": "2023-07-05T22:01:16.627Z"
   },
   {
    "duration": 15,
    "start_time": "2023-07-05T22:01:18.851Z"
   },
   {
    "duration": 5,
    "start_time": "2023-07-05T22:01:48.739Z"
   },
   {
    "duration": 268070,
    "start_time": "2023-07-05T22:01:54.585Z"
   },
   {
    "duration": 50,
    "start_time": "2023-07-05T22:08:14.911Z"
   },
   {
    "duration": 2159,
    "start_time": "2023-07-05T22:08:27.408Z"
   },
   {
    "duration": 319,
    "start_time": "2023-07-05T22:08:29.569Z"
   },
   {
    "duration": 0,
    "start_time": "2023-07-05T22:08:29.890Z"
   },
   {
    "duration": 0,
    "start_time": "2023-07-05T22:08:29.891Z"
   },
   {
    "duration": 0,
    "start_time": "2023-07-05T22:08:29.892Z"
   },
   {
    "duration": 0,
    "start_time": "2023-07-05T22:08:29.893Z"
   },
   {
    "duration": 0,
    "start_time": "2023-07-05T22:08:29.894Z"
   },
   {
    "duration": 0,
    "start_time": "2023-07-05T22:08:29.895Z"
   },
   {
    "duration": 0,
    "start_time": "2023-07-05T22:08:29.896Z"
   },
   {
    "duration": 0,
    "start_time": "2023-07-05T22:08:29.897Z"
   },
   {
    "duration": 0,
    "start_time": "2023-07-05T22:08:29.898Z"
   },
   {
    "duration": 0,
    "start_time": "2023-07-05T22:08:29.899Z"
   },
   {
    "duration": 0,
    "start_time": "2023-07-05T22:08:29.901Z"
   },
   {
    "duration": 0,
    "start_time": "2023-07-05T22:08:29.902Z"
   },
   {
    "duration": 0,
    "start_time": "2023-07-05T22:08:29.903Z"
   },
   {
    "duration": 0,
    "start_time": "2023-07-05T22:08:29.904Z"
   },
   {
    "duration": 0,
    "start_time": "2023-07-05T22:08:29.905Z"
   },
   {
    "duration": 0,
    "start_time": "2023-07-05T22:08:29.906Z"
   },
   {
    "duration": 0,
    "start_time": "2023-07-05T22:08:29.907Z"
   },
   {
    "duration": 0,
    "start_time": "2023-07-05T22:08:29.908Z"
   },
   {
    "duration": 0,
    "start_time": "2023-07-05T22:08:29.909Z"
   },
   {
    "duration": 5,
    "start_time": "2023-07-05T22:10:22.279Z"
   },
   {
    "duration": 12,
    "start_time": "2023-07-05T22:10:22.662Z"
   },
   {
    "duration": 7,
    "start_time": "2023-07-05T22:10:44.047Z"
   },
   {
    "duration": 14,
    "start_time": "2023-07-05T22:10:44.822Z"
   },
   {
    "duration": 4,
    "start_time": "2023-07-05T22:10:55.422Z"
   },
   {
    "duration": 8,
    "start_time": "2023-07-05T22:10:55.877Z"
   },
   {
    "duration": 3531,
    "start_time": "2023-07-05T22:10:57.614Z"
   },
   {
    "duration": 40,
    "start_time": "2023-07-05T22:11:01.147Z"
   },
   {
    "duration": 29,
    "start_time": "2023-07-05T22:11:01.204Z"
   },
   {
    "duration": 181,
    "start_time": "2023-07-05T22:11:01.438Z"
   },
   {
    "duration": 256,
    "start_time": "2023-07-05T22:11:02.349Z"
   },
   {
    "duration": 12,
    "start_time": "2023-07-05T22:11:02.607Z"
   },
   {
    "duration": 12,
    "start_time": "2023-07-05T22:11:57.917Z"
   },
   {
    "duration": 57,
    "start_time": "2023-07-05T22:12:39.100Z"
   },
   {
    "duration": 19,
    "start_time": "2023-07-05T22:13:15.028Z"
   },
   {
    "duration": 3,
    "start_time": "2023-07-05T22:13:35.700Z"
   },
   {
    "duration": 18,
    "start_time": "2023-07-05T22:13:44.012Z"
   },
   {
    "duration": 100151,
    "start_time": "2023-07-05T22:13:51.636Z"
   },
   {
    "duration": 4,
    "start_time": "2023-07-05T22:15:31.789Z"
   },
   {
    "duration": 3398,
    "start_time": "2023-07-05T22:15:31.795Z"
   },
   {
    "duration": 24506,
    "start_time": "2023-07-05T22:15:35.195Z"
   },
   {
    "duration": 15,
    "start_time": "2023-07-05T22:15:59.703Z"
   },
   {
    "duration": 17,
    "start_time": "2023-07-05T22:17:06.538Z"
   },
   {
    "duration": 834,
    "start_time": "2023-07-05T22:17:19.386Z"
   },
   {
    "duration": 15,
    "start_time": "2023-07-05T22:17:23.850Z"
   },
   {
    "duration": 139,
    "start_time": "2023-07-05T22:17:24.657Z"
   },
   {
    "duration": 19,
    "start_time": "2023-07-05T22:17:25.330Z"
   },
   {
    "duration": 3,
    "start_time": "2023-07-05T22:18:15.218Z"
   },
   {
    "duration": 3,
    "start_time": "2023-07-05T22:18:15.769Z"
   },
   {
    "duration": 3944,
    "start_time": "2023-07-05T22:18:54.888Z"
   },
   {
    "duration": 74475,
    "start_time": "2023-07-05T22:18:58.834Z"
   },
   {
    "duration": 293,
    "start_time": "2023-07-05T22:20:39.138Z"
   },
   {
    "duration": 15,
    "start_time": "2023-07-05T22:21:41.176Z"
   },
   {
    "duration": 32,
    "start_time": "2023-07-05T22:22:37.375Z"
   },
   {
    "duration": 7988,
    "start_time": "2023-07-05T22:23:23.966Z"
   },
   {
    "duration": 304,
    "start_time": "2023-07-05T22:23:47.894Z"
   },
   {
    "duration": 65,
    "start_time": "2023-07-05T22:24:22.150Z"
   },
   {
    "duration": 84,
    "start_time": "2023-07-05T22:24:38.702Z"
   },
   {
    "duration": 87,
    "start_time": "2023-07-05T22:24:48.654Z"
   },
   {
    "duration": 79,
    "start_time": "2023-07-05T22:25:17.157Z"
   },
   {
    "duration": 4,
    "start_time": "2023-07-05T22:26:34.100Z"
   },
   {
    "duration": 4,
    "start_time": "2023-07-05T22:26:53.084Z"
   },
   {
    "duration": 4,
    "start_time": "2023-07-05T22:27:13.564Z"
   },
   {
    "duration": 4,
    "start_time": "2023-07-05T22:27:55.828Z"
   },
   {
    "duration": 6,
    "start_time": "2023-07-05T22:28:01.268Z"
   },
   {
    "duration": 4,
    "start_time": "2023-07-05T22:28:10.532Z"
   },
   {
    "duration": 63,
    "start_time": "2023-07-05T22:28:20.396Z"
   },
   {
    "duration": 16,
    "start_time": "2023-07-05T22:28:21.260Z"
   },
   {
    "duration": 5,
    "start_time": "2023-07-05T22:28:23.211Z"
   },
   {
    "duration": 3,
    "start_time": "2023-07-05T22:28:31.323Z"
   },
   {
    "duration": 5,
    "start_time": "2023-07-05T22:28:34.122Z"
   },
   {
    "duration": 3,
    "start_time": "2023-07-05T22:28:36.420Z"
   },
   {
    "duration": 4105,
    "start_time": "2023-07-05T22:28:43.963Z"
   },
   {
    "duration": 4,
    "start_time": "2023-07-05T22:28:50.803Z"
   },
   {
    "duration": 75062,
    "start_time": "2023-07-05T22:28:53.443Z"
   },
   {
    "duration": 4,
    "start_time": "2023-07-05T22:30:08.507Z"
   },
   {
    "duration": 316,
    "start_time": "2023-07-05T22:30:19.875Z"
   },
   {
    "duration": 4,
    "start_time": "2023-07-05T22:30:34.370Z"
   },
   {
    "duration": 291,
    "start_time": "2023-07-05T22:31:14.026Z"
   },
   {
    "duration": 4,
    "start_time": "2023-07-05T22:31:16.123Z"
   },
   {
    "duration": 11,
    "start_time": "2023-07-05T22:31:39.690Z"
   },
   {
    "duration": 99,
    "start_time": "2023-07-05T22:31:46.121Z"
   },
   {
    "duration": 4,
    "start_time": "2023-07-05T22:31:48.385Z"
   },
   {
    "duration": 12,
    "start_time": "2023-07-05T22:34:00.216Z"
   },
   {
    "duration": 17,
    "start_time": "2023-07-05T22:37:09.831Z"
   },
   {
    "duration": 16,
    "start_time": "2023-07-05T22:37:36.733Z"
   },
   {
    "duration": 4,
    "start_time": "2023-07-05T22:38:18.023Z"
   },
   {
    "duration": 15038,
    "start_time": "2023-07-05T22:38:26.689Z"
   },
   {
    "duration": 0,
    "start_time": "2023-07-05T22:38:41.729Z"
   },
   {
    "duration": 1659,
    "start_time": "2023-07-05T22:39:21.218Z"
   },
   {
    "duration": 193,
    "start_time": "2023-07-05T22:39:22.879Z"
   },
   {
    "duration": 884,
    "start_time": "2023-07-05T22:39:23.074Z"
   },
   {
    "duration": 43,
    "start_time": "2023-07-05T22:39:23.960Z"
   },
   {
    "duration": 16,
    "start_time": "2023-07-05T22:39:24.005Z"
   },
   {
    "duration": 200,
    "start_time": "2023-07-05T22:39:24.023Z"
   },
   {
    "duration": 253,
    "start_time": "2023-07-05T22:39:24.225Z"
   },
   {
    "duration": 10,
    "start_time": "2023-07-05T22:39:24.480Z"
   },
   {
    "duration": 12,
    "start_time": "2023-07-05T22:39:24.492Z"
   },
   {
    "duration": 74,
    "start_time": "2023-07-05T22:39:24.507Z"
   },
   {
    "duration": 15,
    "start_time": "2023-07-05T22:39:24.583Z"
   },
   {
    "duration": 11,
    "start_time": "2023-07-05T22:39:24.600Z"
   },
   {
    "duration": 3,
    "start_time": "2023-07-05T22:39:24.612Z"
   },
   {
    "duration": 4,
    "start_time": "2023-07-05T22:39:24.617Z"
   },
   {
    "duration": 3884,
    "start_time": "2023-07-05T22:39:24.623Z"
   },
   {
    "duration": 75174,
    "start_time": "2023-07-05T22:39:28.509Z"
   },
   {
    "duration": 137,
    "start_time": "2023-07-05T22:40:43.685Z"
   },
   {
    "duration": 0,
    "start_time": "2023-07-05T22:40:43.824Z"
   },
   {
    "duration": 0,
    "start_time": "2023-07-05T22:40:43.825Z"
   },
   {
    "duration": 0,
    "start_time": "2023-07-05T22:40:43.826Z"
   },
   {
    "duration": 0,
    "start_time": "2023-07-05T22:40:43.828Z"
   },
   {
    "duration": 0,
    "start_time": "2023-07-05T22:40:43.829Z"
   },
   {
    "duration": 0,
    "start_time": "2023-07-05T22:40:43.831Z"
   },
   {
    "duration": 0,
    "start_time": "2023-07-05T22:40:43.832Z"
   },
   {
    "duration": 0,
    "start_time": "2023-07-05T22:40:43.834Z"
   },
   {
    "duration": 13,
    "start_time": "2023-07-05T22:43:43.235Z"
   },
   {
    "duration": 4,
    "start_time": "2023-07-05T22:43:56.323Z"
   },
   {
    "duration": 4,
    "start_time": "2023-07-05T22:43:56.603Z"
   },
   {
    "duration": 859,
    "start_time": "2023-07-05T22:43:57.355Z"
   },
   {
    "duration": 36,
    "start_time": "2023-07-05T22:43:58.216Z"
   },
   {
    "duration": 18,
    "start_time": "2023-07-05T22:43:58.253Z"
   },
   {
    "duration": 162,
    "start_time": "2023-07-05T22:43:58.330Z"
   },
   {
    "duration": 239,
    "start_time": "2023-07-05T22:43:58.682Z"
   },
   {
    "duration": 10,
    "start_time": "2023-07-05T22:43:58.930Z"
   },
   {
    "duration": 13,
    "start_time": "2023-07-05T22:43:59.610Z"
   },
   {
    "duration": 63,
    "start_time": "2023-07-05T22:43:59.843Z"
   },
   {
    "duration": 36,
    "start_time": "2023-07-05T22:44:00.195Z"
   },
   {
    "duration": 4,
    "start_time": "2023-07-05T22:44:00.979Z"
   },
   {
    "duration": 3,
    "start_time": "2023-07-05T22:44:02.114Z"
   },
   {
    "duration": 3,
    "start_time": "2023-07-05T22:44:02.426Z"
   },
   {
    "duration": 3946,
    "start_time": "2023-07-05T22:44:03.443Z"
   },
   {
    "duration": 74480,
    "start_time": "2023-07-05T22:44:07.391Z"
   },
   {
    "duration": 11,
    "start_time": "2023-07-05T22:45:21.873Z"
   },
   {
    "duration": 5,
    "start_time": "2023-07-05T22:46:32.985Z"
   },
   {
    "duration": 12,
    "start_time": "2023-07-05T22:46:34.986Z"
   },
   {
    "duration": 13,
    "start_time": "2023-07-05T22:47:56.769Z"
   },
   {
    "duration": 13,
    "start_time": "2023-07-05T22:49:17.520Z"
   },
   {
    "duration": 22,
    "start_time": "2023-07-05T22:49:23.480Z"
   },
   {
    "duration": 4,
    "start_time": "2023-07-05T22:49:32.056Z"
   },
   {
    "duration": 8,
    "start_time": "2023-07-05T22:50:07.440Z"
   },
   {
    "duration": 5,
    "start_time": "2023-07-05T22:50:14.911Z"
   },
   {
    "duration": 4,
    "start_time": "2023-07-05T22:50:15.192Z"
   },
   {
    "duration": 5,
    "start_time": "2023-07-05T22:50:15.696Z"
   },
   {
    "duration": 21,
    "start_time": "2023-07-05T22:50:23.863Z"
   },
   {
    "duration": 16,
    "start_time": "2023-07-05T22:50:24.079Z"
   },
   {
    "duration": 168,
    "start_time": "2023-07-05T22:54:54.557Z"
   },
   {
    "duration": 4,
    "start_time": "2023-07-05T22:54:59.630Z"
   },
   {
    "duration": 13,
    "start_time": "2023-07-05T22:56:01.044Z"
   },
   {
    "duration": 4,
    "start_time": "2023-07-05T22:57:20.436Z"
   },
   {
    "duration": 14,
    "start_time": "2023-07-05T22:57:32.802Z"
   },
   {
    "duration": 21,
    "start_time": "2023-07-05T22:58:45.083Z"
   },
   {
    "duration": 13,
    "start_time": "2023-07-05T23:02:27.561Z"
   },
   {
    "duration": 15,
    "start_time": "2023-07-05T23:03:08.697Z"
   },
   {
    "duration": 14,
    "start_time": "2023-07-05T23:03:47.449Z"
   },
   {
    "duration": 4,
    "start_time": "2023-07-05T23:04:33.999Z"
   },
   {
    "duration": 11,
    "start_time": "2023-07-05T23:04:45.295Z"
   },
   {
    "duration": 4,
    "start_time": "2023-07-05T23:04:53.424Z"
   },
   {
    "duration": 14,
    "start_time": "2023-07-05T23:05:16.176Z"
   },
   {
    "duration": 15,
    "start_time": "2023-07-05T23:06:40.398Z"
   },
   {
    "duration": 13,
    "start_time": "2023-07-05T23:08:51.398Z"
   },
   {
    "duration": 13,
    "start_time": "2023-07-05T23:09:26.077Z"
   },
   {
    "duration": 930,
    "start_time": "2023-07-05T23:13:41.147Z"
   },
   {
    "duration": 77632,
    "start_time": "2023-07-05T23:13:50.219Z"
   },
   {
    "duration": 9,
    "start_time": "2023-07-05T23:15:54.329Z"
   },
   {
    "duration": 4,
    "start_time": "2023-07-05T23:16:04.959Z"
   },
   {
    "duration": 4,
    "start_time": "2023-07-05T23:17:08.729Z"
   },
   {
    "duration": 4,
    "start_time": "2023-07-05T23:17:12.553Z"
   },
   {
    "duration": 4,
    "start_time": "2023-07-05T23:17:24.384Z"
   },
   {
    "duration": 27177,
    "start_time": "2023-07-05T23:17:42.816Z"
   },
   {
    "duration": 4,
    "start_time": "2023-07-05T23:18:15.176Z"
   },
   {
    "duration": 4,
    "start_time": "2023-07-05T23:18:16.008Z"
   },
   {
    "duration": 980314,
    "start_time": "2023-07-05T23:18:54.144Z"
   },
   {
    "duration": 0,
    "start_time": "2023-07-05T23:35:14.460Z"
   },
   {
    "duration": 2,
    "start_time": "2023-07-05T23:35:39.799Z"
   },
   {
    "duration": 3,
    "start_time": "2023-07-05T23:36:56.814Z"
   },
   {
    "duration": 858129,
    "start_time": "2023-07-05T23:39:01.173Z"
   },
   {
    "duration": 1842126,
    "start_time": "2023-07-05T23:53:19.304Z"
   },
   {
    "duration": 51,
    "start_time": "2023-07-06T08:03:23.166Z"
   },
   {
    "duration": 2043,
    "start_time": "2023-07-06T08:03:55.462Z"
   },
   {
    "duration": 698,
    "start_time": "2023-07-06T08:03:57.508Z"
   },
   {
    "duration": 3412,
    "start_time": "2023-07-06T08:03:58.208Z"
   },
   {
    "duration": 33,
    "start_time": "2023-07-06T08:04:01.622Z"
   },
   {
    "duration": 30,
    "start_time": "2023-07-06T08:04:01.657Z"
   },
   {
    "duration": 208,
    "start_time": "2023-07-06T08:04:01.688Z"
   },
   {
    "duration": 261,
    "start_time": "2023-07-06T08:04:01.898Z"
   },
   {
    "duration": 13,
    "start_time": "2023-07-06T08:04:02.161Z"
   },
   {
    "duration": 88356,
    "start_time": "2023-07-06T08:04:02.175Z"
   },
   {
    "duration": 4,
    "start_time": "2023-07-06T08:05:30.534Z"
   },
   {
    "duration": 69,
    "start_time": "2023-07-06T08:05:30.540Z"
   },
   {
    "duration": 31,
    "start_time": "2023-07-06T08:05:30.611Z"
   },
   {
    "duration": 26088,
    "start_time": "2023-07-06T08:05:30.644Z"
   },
   {
    "duration": 2,
    "start_time": "2023-07-06T08:05:56.734Z"
   },
   {
    "duration": 27820930,
    "start_time": "2023-07-06T08:05:56.739Z"
   },
   {
    "duration": 3,
    "start_time": "2023-07-06T17:39:19.843Z"
   },
   {
    "duration": 2,
    "start_time": "2023-07-06T17:39:47.628Z"
   },
   {
    "duration": 266,
    "start_time": "2023-07-06T17:40:09.468Z"
   },
   {
    "duration": 4,
    "start_time": "2023-07-06T17:40:36.531Z"
   },
   {
    "duration": 4811460,
    "start_time": "2023-07-06T19:05:15.342Z"
   },
   {
    "duration": 2004,
    "start_time": "2023-07-06T21:33:38.980Z"
   },
   {
    "duration": 399,
    "start_time": "2023-07-06T21:33:40.986Z"
   },
   {
    "duration": 3457,
    "start_time": "2023-07-06T21:33:41.388Z"
   },
   {
    "duration": 41,
    "start_time": "2023-07-06T21:33:44.848Z"
   },
   {
    "duration": 14,
    "start_time": "2023-07-06T21:33:44.890Z"
   },
   {
    "duration": 220,
    "start_time": "2023-07-06T21:33:44.906Z"
   },
   {
    "duration": 291,
    "start_time": "2023-07-06T21:33:45.128Z"
   },
   {
    "duration": 12,
    "start_time": "2023-07-06T21:33:45.420Z"
   },
   {
    "duration": 24,
    "start_time": "2023-07-06T21:33:45.457Z"
   },
   {
    "duration": 81,
    "start_time": "2023-07-06T21:33:45.484Z"
   },
   {
    "duration": 5,
    "start_time": "2023-07-06T21:33:45.567Z"
   },
   {
    "duration": 11,
    "start_time": "2023-07-06T21:33:45.574Z"
   },
   {
    "duration": 13133,
    "start_time": "2023-07-06T21:33:45.588Z"
   },
   {
    "duration": 0,
    "start_time": "2023-07-06T21:33:58.724Z"
   },
   {
    "duration": 0,
    "start_time": "2023-07-06T21:33:58.726Z"
   },
   {
    "duration": 0,
    "start_time": "2023-07-06T21:33:58.727Z"
   },
   {
    "duration": 0,
    "start_time": "2023-07-06T21:33:58.729Z"
   },
   {
    "duration": 2017,
    "start_time": "2023-07-06T21:34:07.509Z"
   },
   {
    "duration": 258,
    "start_time": "2023-07-06T21:34:09.528Z"
   },
   {
    "duration": 1079,
    "start_time": "2023-07-06T21:34:09.788Z"
   },
   {
    "duration": 38,
    "start_time": "2023-07-06T21:34:10.876Z"
   },
   {
    "duration": 14,
    "start_time": "2023-07-06T21:34:10.916Z"
   },
   {
    "duration": 208,
    "start_time": "2023-07-06T21:34:10.932Z"
   },
   {
    "duration": 281,
    "start_time": "2023-07-06T21:34:11.142Z"
   },
   {
    "duration": 11,
    "start_time": "2023-07-06T21:34:11.425Z"
   },
   {
    "duration": 43,
    "start_time": "2023-07-06T21:34:11.437Z"
   },
   {
    "duration": 81,
    "start_time": "2023-07-06T21:34:11.482Z"
   },
   {
    "duration": 6,
    "start_time": "2023-07-06T21:34:11.565Z"
   },
   {
    "duration": 9,
    "start_time": "2023-07-06T21:34:11.573Z"
   },
   {
    "duration": 103829,
    "start_time": "2023-07-06T21:34:11.590Z"
   },
   {
    "duration": 4,
    "start_time": "2023-07-06T21:35:55.421Z"
   },
   {
    "duration": 30870,
    "start_time": "2023-07-06T21:35:55.426Z"
   },
   {
    "duration": 891102,
    "start_time": "2023-07-06T21:36:26.298Z"
   },
   {
    "duration": 5975601,
    "start_time": "2023-07-06T21:51:17.402Z"
   },
   {
    "duration": 61,
    "start_time": "2023-07-08T18:33:48.611Z"
   },
   {
    "duration": 1931,
    "start_time": "2023-07-08T18:33:55.109Z"
   },
   {
    "duration": 558,
    "start_time": "2023-07-08T18:33:57.048Z"
   },
   {
    "duration": 10,
    "start_time": "2023-07-08T18:34:02.962Z"
   },
   {
    "duration": 111,
    "start_time": "2023-07-08T18:34:11.153Z"
   },
   {
    "duration": 2939,
    "start_time": "2023-07-08T18:34:18.206Z"
   },
   {
    "duration": 36,
    "start_time": "2023-07-08T18:34:21.150Z"
   },
   {
    "duration": 18,
    "start_time": "2023-07-08T18:34:21.187Z"
   },
   {
    "duration": 183,
    "start_time": "2023-07-08T18:34:23.487Z"
   },
   {
    "duration": 116,
    "start_time": "2023-07-08T18:36:20.636Z"
   },
   {
    "duration": 94,
    "start_time": "2023-07-08T18:37:51.195Z"
   },
   {
    "duration": 98,
    "start_time": "2023-07-08T18:38:41.654Z"
   },
   {
    "duration": 2024,
    "start_time": "2023-07-26T13:27:20.109Z"
   },
   {
    "duration": 692,
    "start_time": "2023-07-26T13:27:30.161Z"
   },
   {
    "duration": 3667,
    "start_time": "2023-07-26T13:27:30.856Z"
   },
   {
    "duration": 40,
    "start_time": "2023-07-26T13:27:34.525Z"
   },
   {
    "duration": 60,
    "start_time": "2023-07-26T13:27:34.567Z"
   },
   {
    "duration": 2151,
    "start_time": "2023-07-27T21:52:16.074Z"
   },
   {
    "duration": 634,
    "start_time": "2023-07-27T21:52:18.227Z"
   },
   {
    "duration": 3734,
    "start_time": "2023-07-27T21:52:22.062Z"
   },
   {
    "duration": 38,
    "start_time": "2023-07-27T21:52:25.798Z"
   },
   {
    "duration": 52,
    "start_time": "2023-07-27T21:52:25.838Z"
   },
   {
    "duration": 23,
    "start_time": "2023-07-27T21:52:54.397Z"
   },
   {
    "duration": 78,
    "start_time": "2023-07-27T21:52:56.071Z"
   },
   {
    "duration": 5,
    "start_time": "2023-07-27T21:53:08.483Z"
   },
   {
    "duration": 6,
    "start_time": "2023-07-27T21:55:55.281Z"
   },
   {
    "duration": 6,
    "start_time": "2023-07-27T21:58:41.197Z"
   },
   {
    "duration": 599586,
    "start_time": "2023-07-27T21:58:47.193Z"
   },
   {
    "duration": 5,
    "start_time": "2023-07-27T22:10:47.878Z"
   },
   {
    "duration": 7016,
    "start_time": "2023-07-27T22:10:53.825Z"
   },
   {
    "duration": 3,
    "start_time": "2023-07-27T22:13:45.247Z"
   },
   {
    "duration": 165,
    "start_time": "2023-07-27T22:13:46.078Z"
   },
   {
    "duration": 8,
    "start_time": "2023-07-27T22:13:55.000Z"
   },
   {
    "duration": 4,
    "start_time": "2023-07-27T22:14:05.694Z"
   },
   {
    "duration": 1004798,
    "start_time": "2023-07-27T22:14:06.278Z"
   },
   {
    "duration": 147,
    "start_time": "2023-07-27T22:30:51.078Z"
   },
   {
    "duration": 0,
    "start_time": "2023-07-27T22:30:51.228Z"
   },
   {
    "duration": 0,
    "start_time": "2023-07-27T22:30:51.230Z"
   },
   {
    "duration": 0,
    "start_time": "2023-07-27T22:30:51.232Z"
   },
   {
    "duration": 3401,
    "start_time": "2023-07-28T15:23:44.514Z"
   },
   {
    "duration": 442,
    "start_time": "2023-07-28T15:23:47.921Z"
   },
   {
    "duration": 3791,
    "start_time": "2023-07-28T15:23:48.365Z"
   },
   {
    "duration": 43,
    "start_time": "2023-07-28T15:23:52.158Z"
   },
   {
    "duration": 30,
    "start_time": "2023-07-28T15:23:52.206Z"
   },
   {
    "duration": 203,
    "start_time": "2023-07-28T15:23:52.237Z"
   },
   {
    "duration": 283,
    "start_time": "2023-07-28T15:23:52.442Z"
   },
   {
    "duration": 11,
    "start_time": "2023-07-28T15:23:52.727Z"
   },
   {
    "duration": 124,
    "start_time": "2023-07-28T15:23:52.740Z"
   },
   {
    "duration": 3,
    "start_time": "2023-07-28T15:23:52.865Z"
   },
   {
    "duration": 47,
    "start_time": "2023-07-28T15:23:52.872Z"
   },
   {
    "duration": 14,
    "start_time": "2023-07-28T15:23:52.921Z"
   },
   {
    "duration": 122392,
    "start_time": "2023-07-28T15:23:52.936Z"
   },
   {
    "duration": 4,
    "start_time": "2023-07-28T15:25:55.331Z"
   },
   {
    "duration": 8469,
    "start_time": "2023-07-28T15:25:55.336Z"
   },
   {
    "duration": 4,
    "start_time": "2023-07-28T15:26:03.807Z"
   },
   {
    "duration": 169,
    "start_time": "2023-07-28T15:26:03.815Z"
   },
   {
    "duration": 0,
    "start_time": "2023-07-28T15:26:03.986Z"
   },
   {
    "duration": 0,
    "start_time": "2023-07-28T15:26:03.988Z"
   },
   {
    "duration": 0,
    "start_time": "2023-07-28T15:26:03.989Z"
   },
   {
    "duration": 0,
    "start_time": "2023-07-28T15:26:03.990Z"
   },
   {
    "duration": 502541,
    "start_time": "2023-07-28T15:31:24.175Z"
   },
   {
    "duration": 4,
    "start_time": "2023-07-28T15:39:46.719Z"
   },
   {
    "duration": 2063,
    "start_time": "2023-07-28T20:33:57.120Z"
   },
   {
    "duration": 170,
    "start_time": "2023-07-28T20:33:59.185Z"
   },
   {
    "duration": 943,
    "start_time": "2023-07-28T20:33:59.357Z"
   },
   {
    "duration": 36,
    "start_time": "2023-07-28T20:34:00.302Z"
   },
   {
    "duration": 39,
    "start_time": "2023-07-28T20:34:00.340Z"
   },
   {
    "duration": 269,
    "start_time": "2023-07-28T20:34:00.381Z"
   },
   {
    "duration": 271,
    "start_time": "2023-07-28T20:34:00.652Z"
   },
   {
    "duration": 13,
    "start_time": "2023-07-28T20:34:00.925Z"
   },
   {
    "duration": 126,
    "start_time": "2023-07-28T20:34:00.940Z"
   },
   {
    "duration": 3,
    "start_time": "2023-07-28T20:34:01.069Z"
   },
   {
    "duration": 76,
    "start_time": "2023-07-28T20:34:01.075Z"
   },
   {
    "duration": 61,
    "start_time": "2023-07-28T20:34:01.152Z"
   },
   {
    "duration": 109623,
    "start_time": "2023-07-28T20:34:01.215Z"
   },
   {
    "duration": 5,
    "start_time": "2023-07-28T20:35:50.840Z"
   },
   {
    "duration": 7329,
    "start_time": "2023-07-28T20:35:50.846Z"
   },
   {
    "duration": 5,
    "start_time": "2023-07-28T20:35:58.178Z"
   },
   {
    "duration": 6,
    "start_time": "2023-07-28T20:35:58.185Z"
   },
   {
    "duration": 4508117,
    "start_time": "2023-07-28T20:35:58.193Z"
   },
   {
    "duration": 0,
    "start_time": "2023-07-28T21:51:06.313Z"
   },
   {
    "duration": 0,
    "start_time": "2023-07-28T21:51:06.315Z"
   },
   {
    "duration": 3,
    "start_time": "2023-07-28T21:53:31.581Z"
   },
   {
    "duration": 14,
    "start_time": "2023-07-28T21:53:40.639Z"
   },
   {
    "duration": 111,
    "start_time": "2023-07-28T21:54:20.822Z"
   },
   {
    "duration": 4,
    "start_time": "2023-07-28T21:54:28.590Z"
   },
   {
    "duration": 21,
    "start_time": "2023-07-28T21:54:30.478Z"
   },
   {
    "duration": 3,
    "start_time": "2023-07-28T21:55:53.557Z"
   },
   {
    "duration": 207868,
    "start_time": "2023-07-28T21:55:54.118Z"
   },
   {
    "duration": 195,
    "start_time": "2023-07-28T22:01:10.594Z"
   },
   {
    "duration": 3834,
    "start_time": "2023-07-28T22:04:19.069Z"
   },
   {
    "duration": 229,
    "start_time": "2023-07-28T22:04:22.906Z"
   },
   {
    "duration": 909,
    "start_time": "2023-07-28T22:04:23.137Z"
   },
   {
    "duration": 30,
    "start_time": "2023-07-28T22:04:24.048Z"
   },
   {
    "duration": 22,
    "start_time": "2023-07-28T22:04:24.081Z"
   },
   {
    "duration": 183,
    "start_time": "2023-07-28T22:04:24.105Z"
   },
   {
    "duration": 241,
    "start_time": "2023-07-28T22:04:24.290Z"
   },
   {
    "duration": 11,
    "start_time": "2023-07-28T22:04:24.533Z"
   },
   {
    "duration": 85,
    "start_time": "2023-07-28T22:04:24.545Z"
   },
   {
    "duration": 3,
    "start_time": "2023-07-28T22:04:24.632Z"
   },
   {
    "duration": 30,
    "start_time": "2023-07-28T22:04:24.636Z"
   },
   {
    "duration": 27,
    "start_time": "2023-07-28T22:04:24.667Z"
   },
   {
    "duration": 92875,
    "start_time": "2023-07-28T22:04:24.696Z"
   },
   {
    "duration": 4,
    "start_time": "2023-07-28T22:05:57.575Z"
   },
   {
    "duration": 6604,
    "start_time": "2023-07-28T22:05:57.581Z"
   },
   {
    "duration": 5,
    "start_time": "2023-07-28T22:06:04.187Z"
   },
   {
    "duration": 8,
    "start_time": "2023-07-28T22:06:04.194Z"
   },
   {
    "duration": 30137521,
    "start_time": "2023-07-28T22:06:04.204Z"
   },
   {
    "duration": 3,
    "start_time": "2023-07-29T06:28:21.727Z"
   },
   {
    "duration": 796202,
    "start_time": "2023-07-29T06:28:21.731Z"
   },
   {
    "duration": 11,
    "start_time": "2023-07-29T06:48:32.319Z"
   },
   {
    "duration": 138,
    "start_time": "2023-07-29T06:54:05.014Z"
   },
   {
    "duration": 187,
    "start_time": "2023-07-29T06:54:50.070Z"
   },
   {
    "duration": 38,
    "start_time": "2023-07-29T06:54:50.567Z"
   },
   {
    "duration": 3,
    "start_time": "2023-07-29T06:54:59.519Z"
   },
   {
    "duration": 925071,
    "start_time": "2023-07-29T06:55:06.926Z"
   },
   {
    "duration": 4,
    "start_time": "2023-07-29T07:10:31.998Z"
   },
   {
    "duration": 49979131,
    "start_time": "2023-07-29T07:10:32.004Z"
   },
   {
    "duration": 5,
    "start_time": "2023-07-29T21:03:31.138Z"
   },
   {
    "duration": 1051448,
    "start_time": "2023-07-29T21:03:31.145Z"
   },
   {
    "duration": 6,
    "start_time": "2023-07-29T21:27:04.134Z"
   },
   {
    "duration": 2,
    "start_time": "2023-07-29T21:27:26.584Z"
   },
   {
    "duration": 28,
    "start_time": "2023-07-29T21:29:03.854Z"
   },
   {
    "duration": 17,
    "start_time": "2023-07-29T21:31:20.922Z"
   },
   {
    "duration": 93,
    "start_time": "2023-07-31T00:18:09.022Z"
   },
   {
    "duration": 79,
    "start_time": "2023-07-31T00:24:58.813Z"
   },
   {
    "duration": 40,
    "start_time": "2023-07-31T00:25:11.540Z"
   },
   {
    "duration": 145,
    "start_time": "2023-07-31T13:44:09.912Z"
   }
  ],
  "kernelspec": {
   "display_name": "Python 3 (ipykernel)",
   "language": "python",
   "name": "python3"
  },
  "language_info": {
   "codemirror_mode": {
    "name": "ipython",
    "version": 3
   },
   "file_extension": ".py",
   "mimetype": "text/x-python",
   "name": "python",
   "nbconvert_exporter": "python",
   "pygments_lexer": "ipython3",
   "version": "3.9.5"
  },
  "toc": {
   "base_numbering": 1,
   "nav_menu": {},
   "number_sections": true,
   "sideBar": true,
   "skip_h1_title": true,
   "title_cell": "Содержание",
   "title_sidebar": "Contents",
   "toc_cell": true,
   "toc_position": {
    "height": "calc(100% - 180px)",
    "left": "10px",
    "top": "150px",
    "width": "165px"
   },
   "toc_section_display": true,
   "toc_window_display": true
  }
 },
 "nbformat": 4,
 "nbformat_minor": 2
}
