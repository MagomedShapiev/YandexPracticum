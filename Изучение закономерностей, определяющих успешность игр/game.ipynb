{
  "cells": [
    {
      "cell_type": "markdown",
      "id": "d6d48380",
      "metadata": {
        "id": "d6d48380"
      },
      "source": [
        "# АНАЛИЗ ПРОДАЖ КОМПЬЮТЕРНЫХ ИГР\n"
      ]
    },
    {
      "cell_type": "markdown",
      "id": "f94e5ce2",
      "metadata": {
        "id": "f94e5ce2"
      },
      "source": [
        "**Цель**: Выявить параметры, определяющие успешность игр, для дальнейшего управления продуктами (определение перспективных / стагнирующих сфер, распределение рекламных бюджетов, текущая / перспективная популярность).\n",
        "\n",
        "**Данные**: Исторические данные о выпущенных играх с продажами по регионам. Данные за 2016 год могут быть не полными."
      ]
    },
    {
      "cell_type": "markdown",
      "id": "ab0ba51a",
      "metadata": {
        "id": "ab0ba51a"
      },
      "source": [
        "# Описание проекта"
      ]
    },
    {
      "cell_type": "markdown",
      "id": "440b5c01",
      "metadata": {
        "id": "440b5c01"
      },
      "source": [
        "Интернет-магазин «Стримчик», который продаёт по всему миру компьютерные игры, просит проанализировать данные, полученные из открытых источников - исторические данные о продажах игр, оценки пользователей и экспертов, жанры и платформы (например, Xbox или PlayStation).\n",
        "\n",
        "Нужно выявить определяющие успешность игры закономерности. Это позволит сделать ставку на потенциально популярный продукт и спланировать рекламные кампании.\n",
        "\n",
        "Перед нами данные до 2016 года. Представим, что сейчас декабрь 2016 г.\n",
        "\n"
      ]
    },
    {
      "cell_type": "markdown",
      "id": "7908a82f",
      "metadata": {
        "id": "7908a82f"
      },
      "source": [
        "# Описание данных\n",
        "\n",
        "\n",
        "- Name — название игры\n",
        "- Platform — платформа\n",
        "- Year_of_Release — год выпуска\n",
        "- Genre — жанр игры\n",
        "- NA_sales — продажи в Северной Америке (миллионы проданных копий)\n",
        "- EU_sales — продажи в Европе (миллионы проданных копий)\n",
        "- JP_sales — продажи в Японии (миллионы проданных копий)\n",
        "- Other_sales — продажи в других странах (миллионы проданных копий)\n",
        "- Critic_Score — оценка критиков (максимум 100)\n",
        "- User_Score — оценка пользователей (максимум 10)\n",
        "- Rating — рейтинг от организации ESRB (англ. Entertainment Software Rating Board). Эта ассоциация определяет рейтинг компьютерных игр и присваивает им подходящую возрастную категорию."
      ]
    },
    {
      "cell_type": "markdown",
      "id": "edb1266a",
      "metadata": {
        "id": "edb1266a"
      },
      "source": [
        "*Данные за 2016 год могут быть неполными."
      ]
    },
    {
      "cell_type": "markdown",
      "id": "2314e995",
      "metadata": {
        "id": "2314e995"
      },
      "source": [
        "# Этапы выполнения проекта"
      ]
    },
    {
      "cell_type": "markdown",
      "id": "aa8ecb30",
      "metadata": {
        "id": "aa8ecb30"
      },
      "source": [
        "## 1 Обзор данных\n",
        "\n",
        "- Посмотреть информацию по таблице\n",
        "- Наметить необходимые шаги предобработки"
      ]
    },
    {
      "cell_type": "markdown",
      "id": "d575b3be",
      "metadata": {
        "id": "d575b3be"
      },
      "source": [
        "## 2 Предобработка данных\n",
        "\n",
        "- скорректировать внешний вид (названия столбоц)\n",
        "- скорректировать типы столбцов (при необходимости)\n",
        "- заполнить либо удалить пропуски и дубликаты\n",
        "- скорректировать илибо удалить выбросы и аномалии\n",
        "- добавить нужные метрики в датафрейм: суммарные продажи во всех регионах"
      ]
    },
    {
      "cell_type": "markdown",
      "id": "82e15f35",
      "metadata": {
        "id": "82e15f35"
      },
      "source": [
        "## 3 Исследовательский анализ\n",
        "\n",
        "\n",
        "\n",
        "- Посчитать, сколько игр выпускалось в разные годы. **Вопрос** - Важны ли данные за все периоды?\n",
        "- Проверить, как менялись продажи по платформам. Выбрать платформы с наибольшими суммарными продажами и построить распределение по годам. **Вопрос** - За какой характерный срок появляются новые и исчезают старые платформы?\n",
        "- Взять данные за соответствующий актуальный период. Актуальный период определится в результате исследования предыдущих вопросов. Основной фактор — эти данные помогут построить прогноз на 2017 год. Не учитывайте в работе данные за предыдущие годы.\n",
        "- Выберать  несколько потенциально прибыльных платформ. **Вопрос** - Какие платформы лидируют по продажам, растут или падают?\n",
        "- Построить график «ящик с усами» по глобальным продажам игр в разбивке по платформам. Описать  результат.\n",
        "- Посмотреть, как влияют на продажи внутри одной популярной платформы отзывы пользователей и критиков. Построить диаграмму рассеяния и посчитать корреляцию между отзывами и продажами. Сформулировать выводы.\n",
        "- Соотнести выводы с продажами игр на других платформах.\n",
        "- Посмотреть на общее распределение игр по жанрам. **Вопрос** - Что можно сказать о самых прибыльных жанрах? Выделяются ли жанры с высокими и низкими продажами?"
      ]
    },
    {
      "cell_type": "markdown",
      "id": "c97d70f9",
      "metadata": {
        "id": "c97d70f9"
      },
      "source": [
        "## 4 Составить портрет пользователя каждого региона\n",
        "\n",
        "Определить для пользователя каждого региона (NA, EU, JP):\n",
        "\n",
        "\n",
        "- Самые популярные платформы (топ-5). Опишите различия в долях продаж.\n",
        "- Самые популярные жанры (топ-5). Поясните разницу.\n",
        "- Влияет ли рейтинг ESRB на продажи в отдельном регионе?"
      ]
    },
    {
      "cell_type": "markdown",
      "id": "769237dd",
      "metadata": {
        "id": "769237dd"
      },
      "source": [
        "## 5 Проверить гипотезы\n",
        "\n",
        "- Средние пользовательские рейтинги платформ Xbox One и PC одинаковые;\n",
        "- Средние пользовательские рейтинги жанров Action (англ. «действие», экшен-игры) и Sports (англ. «спортивные соревнования») разные"
      ]
    },
    {
      "cell_type": "markdown",
      "id": "5d3f4ef2",
      "metadata": {
        "id": "5d3f4ef2"
      },
      "source": [
        "## 6 Общий вывод"
      ]
    },
    {
      "cell_type": "markdown",
      "id": "06684fea",
      "metadata": {
        "id": "06684fea"
      },
      "source": [
        "## 1 Обзор данных"
      ]
    },
    {
      "cell_type": "markdown",
      "id": "80613bbf",
      "metadata": {
        "id": "80613bbf"
      },
      "source": [
        "### Откроем файл и посмотрим информацию о таблице. Отметим необходимые корректировки"
      ]
    },
    {
      "cell_type": "code",
      "execution_count": null,
      "id": "b1bc4400",
      "metadata": {
        "id": "b1bc4400"
      },
      "outputs": [],
      "source": [
        "# Импортируем необходимые библиотеки и прочитаем файл с данными\n",
        "\n",
        "import pandas as pd\n",
        "import matplotlib.pyplot as plt\n",
        "import seaborn as sns\n",
        "import matplotlib.ticker as ticker\n",
        "import numpy as np\n",
        "from scipy import stats as st"
      ]
    },
    {
      "cell_type": "code",
      "execution_count": null,
      "id": "9fee212e",
      "metadata": {
        "id": "9fee212e"
      },
      "outputs": [],
      "source": [
        "#Прочитаем файл\n",
        "try:\n",
        "    data = pd.read_csv('/datasets/games.csv')\n",
        "except:\n",
        "    data = pd.read_csv('C:\\\\Users\\\\magas\\\\Desktop\\\\Проекты\\\\games.csv')"
      ]
    },
    {
      "cell_type": "code",
      "execution_count": null,
      "id": "fda9b342",
      "metadata": {
        "id": "fda9b342",
        "outputId": "44f64ae5-7ba8-4241-f598-7666030d8b2a"
      },
      "outputs": [
        {
          "data": {
            "text/html": [
              "<div>\n",
              "<style scoped>\n",
              "    .dataframe tbody tr th:only-of-type {\n",
              "        vertical-align: middle;\n",
              "    }\n",
              "\n",
              "    .dataframe tbody tr th {\n",
              "        vertical-align: top;\n",
              "    }\n",
              "\n",
              "    .dataframe thead th {\n",
              "        text-align: right;\n",
              "    }\n",
              "</style>\n",
              "<table border=\"1\" class=\"dataframe\">\n",
              "  <thead>\n",
              "    <tr style=\"text-align: right;\">\n",
              "      <th></th>\n",
              "      <th>Name</th>\n",
              "      <th>Platform</th>\n",
              "      <th>Year_of_Release</th>\n",
              "      <th>Genre</th>\n",
              "      <th>NA_sales</th>\n",
              "      <th>EU_sales</th>\n",
              "      <th>JP_sales</th>\n",
              "      <th>Other_sales</th>\n",
              "      <th>Critic_Score</th>\n",
              "      <th>User_Score</th>\n",
              "      <th>Rating</th>\n",
              "    </tr>\n",
              "  </thead>\n",
              "  <tbody>\n",
              "    <tr>\n",
              "      <th>0</th>\n",
              "      <td>Wii Sports</td>\n",
              "      <td>Wii</td>\n",
              "      <td>2006.0</td>\n",
              "      <td>Sports</td>\n",
              "      <td>41.36</td>\n",
              "      <td>28.96</td>\n",
              "      <td>3.77</td>\n",
              "      <td>8.45</td>\n",
              "      <td>76.0</td>\n",
              "      <td>8</td>\n",
              "      <td>E</td>\n",
              "    </tr>\n",
              "    <tr>\n",
              "      <th>1</th>\n",
              "      <td>Super Mario Bros.</td>\n",
              "      <td>NES</td>\n",
              "      <td>1985.0</td>\n",
              "      <td>Platform</td>\n",
              "      <td>29.08</td>\n",
              "      <td>3.58</td>\n",
              "      <td>6.81</td>\n",
              "      <td>0.77</td>\n",
              "      <td>NaN</td>\n",
              "      <td>NaN</td>\n",
              "      <td>NaN</td>\n",
              "    </tr>\n",
              "    <tr>\n",
              "      <th>2</th>\n",
              "      <td>Mario Kart Wii</td>\n",
              "      <td>Wii</td>\n",
              "      <td>2008.0</td>\n",
              "      <td>Racing</td>\n",
              "      <td>15.68</td>\n",
              "      <td>12.76</td>\n",
              "      <td>3.79</td>\n",
              "      <td>3.29</td>\n",
              "      <td>82.0</td>\n",
              "      <td>8.3</td>\n",
              "      <td>E</td>\n",
              "    </tr>\n",
              "    <tr>\n",
              "      <th>3</th>\n",
              "      <td>Wii Sports Resort</td>\n",
              "      <td>Wii</td>\n",
              "      <td>2009.0</td>\n",
              "      <td>Sports</td>\n",
              "      <td>15.61</td>\n",
              "      <td>10.93</td>\n",
              "      <td>3.28</td>\n",
              "      <td>2.95</td>\n",
              "      <td>80.0</td>\n",
              "      <td>8</td>\n",
              "      <td>E</td>\n",
              "    </tr>\n",
              "    <tr>\n",
              "      <th>4</th>\n",
              "      <td>Pokemon Red/Pokemon Blue</td>\n",
              "      <td>GB</td>\n",
              "      <td>1996.0</td>\n",
              "      <td>Role-Playing</td>\n",
              "      <td>11.27</td>\n",
              "      <td>8.89</td>\n",
              "      <td>10.22</td>\n",
              "      <td>1.00</td>\n",
              "      <td>NaN</td>\n",
              "      <td>NaN</td>\n",
              "      <td>NaN</td>\n",
              "    </tr>\n",
              "    <tr>\n",
              "      <th>5</th>\n",
              "      <td>Tetris</td>\n",
              "      <td>GB</td>\n",
              "      <td>1989.0</td>\n",
              "      <td>Puzzle</td>\n",
              "      <td>23.20</td>\n",
              "      <td>2.26</td>\n",
              "      <td>4.22</td>\n",
              "      <td>0.58</td>\n",
              "      <td>NaN</td>\n",
              "      <td>NaN</td>\n",
              "      <td>NaN</td>\n",
              "    </tr>\n",
              "    <tr>\n",
              "      <th>6</th>\n",
              "      <td>New Super Mario Bros.</td>\n",
              "      <td>DS</td>\n",
              "      <td>2006.0</td>\n",
              "      <td>Platform</td>\n",
              "      <td>11.28</td>\n",
              "      <td>9.14</td>\n",
              "      <td>6.50</td>\n",
              "      <td>2.88</td>\n",
              "      <td>89.0</td>\n",
              "      <td>8.5</td>\n",
              "      <td>E</td>\n",
              "    </tr>\n",
              "    <tr>\n",
              "      <th>7</th>\n",
              "      <td>Wii Play</td>\n",
              "      <td>Wii</td>\n",
              "      <td>2006.0</td>\n",
              "      <td>Misc</td>\n",
              "      <td>13.96</td>\n",
              "      <td>9.18</td>\n",
              "      <td>2.93</td>\n",
              "      <td>2.84</td>\n",
              "      <td>58.0</td>\n",
              "      <td>6.6</td>\n",
              "      <td>E</td>\n",
              "    </tr>\n",
              "    <tr>\n",
              "      <th>8</th>\n",
              "      <td>New Super Mario Bros. Wii</td>\n",
              "      <td>Wii</td>\n",
              "      <td>2009.0</td>\n",
              "      <td>Platform</td>\n",
              "      <td>14.44</td>\n",
              "      <td>6.94</td>\n",
              "      <td>4.70</td>\n",
              "      <td>2.24</td>\n",
              "      <td>87.0</td>\n",
              "      <td>8.4</td>\n",
              "      <td>E</td>\n",
              "    </tr>\n",
              "    <tr>\n",
              "      <th>9</th>\n",
              "      <td>Duck Hunt</td>\n",
              "      <td>NES</td>\n",
              "      <td>1984.0</td>\n",
              "      <td>Shooter</td>\n",
              "      <td>26.93</td>\n",
              "      <td>0.63</td>\n",
              "      <td>0.28</td>\n",
              "      <td>0.47</td>\n",
              "      <td>NaN</td>\n",
              "      <td>NaN</td>\n",
              "      <td>NaN</td>\n",
              "    </tr>\n",
              "  </tbody>\n",
              "</table>\n",
              "</div>"
            ],
            "text/plain": [
              "                        Name Platform  Year_of_Release         Genre  \\\n",
              "0                 Wii Sports      Wii           2006.0        Sports   \n",
              "1          Super Mario Bros.      NES           1985.0      Platform   \n",
              "2             Mario Kart Wii      Wii           2008.0        Racing   \n",
              "3          Wii Sports Resort      Wii           2009.0        Sports   \n",
              "4   Pokemon Red/Pokemon Blue       GB           1996.0  Role-Playing   \n",
              "5                     Tetris       GB           1989.0        Puzzle   \n",
              "6      New Super Mario Bros.       DS           2006.0      Platform   \n",
              "7                   Wii Play      Wii           2006.0          Misc   \n",
              "8  New Super Mario Bros. Wii      Wii           2009.0      Platform   \n",
              "9                  Duck Hunt      NES           1984.0       Shooter   \n",
              "\n",
              "   NA_sales  EU_sales  JP_sales  Other_sales  Critic_Score User_Score Rating  \n",
              "0     41.36     28.96      3.77         8.45          76.0          8      E  \n",
              "1     29.08      3.58      6.81         0.77           NaN        NaN    NaN  \n",
              "2     15.68     12.76      3.79         3.29          82.0        8.3      E  \n",
              "3     15.61     10.93      3.28         2.95          80.0          8      E  \n",
              "4     11.27      8.89     10.22         1.00           NaN        NaN    NaN  \n",
              "5     23.20      2.26      4.22         0.58           NaN        NaN    NaN  \n",
              "6     11.28      9.14      6.50         2.88          89.0        8.5      E  \n",
              "7     13.96      9.18      2.93         2.84          58.0        6.6      E  \n",
              "8     14.44      6.94      4.70         2.24          87.0        8.4      E  \n",
              "9     26.93      0.63      0.28         0.47           NaN        NaN    NaN  "
            ]
          },
          "execution_count": 3,
          "metadata": {},
          "output_type": "execute_result"
        }
      ],
      "source": [
        "# Посмотрим на первые 10 строк таблицы\n",
        "data.head(10)"
      ]
    },
    {
      "cell_type": "markdown",
      "id": "ba80dabf",
      "metadata": {
        "id": "ba80dabf"
      },
      "source": [
        "Сразу обращаем внимание на регистр названий столбцов. Надо все привести к одному регистру.\n"
      ]
    },
    {
      "cell_type": "code",
      "execution_count": null,
      "id": "e71ed2a1",
      "metadata": {
        "scrolled": true,
        "id": "e71ed2a1",
        "outputId": "71022e38-e95c-4232-ec3a-643e97f3707c"
      },
      "outputs": [
        {
          "name": "stdout",
          "output_type": "stream",
          "text": [
            "<class 'pandas.core.frame.DataFrame'>\n",
            "RangeIndex: 16715 entries, 0 to 16714\n",
            "Data columns (total 11 columns):\n",
            " #   Column           Non-Null Count  Dtype  \n",
            "---  ------           --------------  -----  \n",
            " 0   Name             16713 non-null  object \n",
            " 1   Platform         16715 non-null  object \n",
            " 2   Year_of_Release  16446 non-null  float64\n",
            " 3   Genre            16713 non-null  object \n",
            " 4   NA_sales         16715 non-null  float64\n",
            " 5   EU_sales         16715 non-null  float64\n",
            " 6   JP_sales         16715 non-null  float64\n",
            " 7   Other_sales      16715 non-null  float64\n",
            " 8   Critic_Score     8137 non-null   float64\n",
            " 9   User_Score       10014 non-null  object \n",
            " 10  Rating           9949 non-null   object \n",
            "dtypes: float64(6), object(5)\n",
            "memory usage: 1.4+ MB\n"
          ]
        }
      ],
      "source": [
        "#Посмотри информацию по таблице\n",
        "data.info()"
      ]
    },
    {
      "cell_type": "markdown",
      "id": "1d30a486",
      "metadata": {
        "id": "1d30a486"
      },
      "source": [
        "Нужно привести столбец `year_of_release` в корретный формат"
      ]
    },
    {
      "cell_type": "code",
      "execution_count": null,
      "id": "0cd42c23",
      "metadata": {
        "scrolled": false,
        "id": "0cd42c23",
        "outputId": "02dac283-871e-4e74-8546-1a0117525d82"
      },
      "outputs": [
        {
          "name": "stdout",
          "output_type": "stream",
          "text": [
            "Name                  2\n",
            "Platform              0\n",
            "Year_of_Release     269\n",
            "Genre                 2\n",
            "NA_sales              0\n",
            "EU_sales              0\n",
            "JP_sales              0\n",
            "Other_sales           0\n",
            "Critic_Score       8578\n",
            "User_Score         6701\n",
            "Rating             6766\n",
            "dtype: int64\n"
          ]
        },
        {
          "data": {
            "text/plain": [
              "Name                0.011965\n",
              "Platform            0.000000\n",
              "Year_of_Release     1.609333\n",
              "Genre               0.011965\n",
              "NA_sales            0.000000\n",
              "EU_sales            0.000000\n",
              "JP_sales            0.000000\n",
              "Other_sales         0.000000\n",
              "Critic_Score       51.319174\n",
              "User_Score         40.089740\n",
              "Rating             40.478612\n",
              "dtype: float64"
            ]
          },
          "execution_count": 5,
          "metadata": {},
          "output_type": "execute_result"
        }
      ],
      "source": [
        "# Посмотрим информацию о пропусках\n",
        "print(data.isna().sum())\n",
        "#Посмотрим,какую долю занимают пропуски\n",
        "data.isna().sum()/len(data)*100"
      ]
    },
    {
      "cell_type": "markdown",
      "id": "4fd1ea74",
      "metadata": {
        "id": "4fd1ea74"
      },
      "source": [
        "Пропуски в столбцах `name`,`year_of_release`,`genre`,`critic_score`,`user_score`,`rating`."
      ]
    },
    {
      "cell_type": "code",
      "execution_count": null,
      "id": "09d7c887",
      "metadata": {
        "id": "09d7c887",
        "outputId": "72d01280-683e-4788-891c-4dfce7a4c25b"
      },
      "outputs": [
        {
          "data": {
            "text/plain": [
              "0"
            ]
          },
          "execution_count": 6,
          "metadata": {},
          "output_type": "execute_result"
        }
      ],
      "source": [
        "#Проверим дубликаты\n",
        "data.duplicated().sum()"
      ]
    },
    {
      "cell_type": "markdown",
      "id": "3009a087",
      "metadata": {
        "id": "3009a087"
      },
      "source": [
        "Явных дубликатов нет"
      ]
    },
    {
      "cell_type": "code",
      "execution_count": null,
      "id": "33709d72",
      "metadata": {
        "id": "33709d72",
        "outputId": "15fb47cd-91b9-4e11-c61f-80c10e2caf61"
      },
      "outputs": [
        {
          "data": {
            "text/plain": [
              "array(['Sports', 'Platform', 'Racing', 'Role-Playing', 'Puzzle', 'Misc',\n",
              "       'Shooter', 'Simulation', 'Action', 'Fighting', 'Adventure',\n",
              "       'Strategy', nan], dtype=object)"
            ]
          },
          "execution_count": 7,
          "metadata": {},
          "output_type": "execute_result"
        }
      ],
      "source": [
        "#Посмотрим на уникальные значения в стобце genre\n",
        "data['Genre'].unique()"
      ]
    },
    {
      "cell_type": "markdown",
      "id": "52d6992b",
      "metadata": {
        "id": "52d6992b"
      },
      "source": [
        "Неявных дубликатов нет"
      ]
    },
    {
      "cell_type": "markdown",
      "id": "61672340",
      "metadata": {
        "id": "61672340"
      },
      "source": [
        "**ОБЩИЙ ВЫВОД**\n",
        "\n",
        "Данные в хорошем состоянии, пропусков немного, дубликатов нет."
      ]
    },
    {
      "cell_type": "markdown",
      "id": "8613550d",
      "metadata": {
        "id": "8613550d"
      },
      "source": [
        "## Предобработка данных"
      ]
    },
    {
      "cell_type": "code",
      "execution_count": null,
      "id": "7c927e68",
      "metadata": {
        "id": "7c927e68"
      },
      "outputs": [],
      "source": [
        "# Приведем названия колонок к нижнему регистру\n",
        "\n",
        "data.columns = data.columns.str.lower()"
      ]
    },
    {
      "cell_type": "code",
      "execution_count": null,
      "id": "816cdd16",
      "metadata": {
        "scrolled": true,
        "id": "816cdd16",
        "outputId": "967d8af7-e46d-4aaf-fb7c-446f7c150d1a"
      },
      "outputs": [
        {
          "data": {
            "text/html": [
              "<div>\n",
              "<style scoped>\n",
              "    .dataframe tbody tr th:only-of-type {\n",
              "        vertical-align: middle;\n",
              "    }\n",
              "\n",
              "    .dataframe tbody tr th {\n",
              "        vertical-align: top;\n",
              "    }\n",
              "\n",
              "    .dataframe thead th {\n",
              "        text-align: right;\n",
              "    }\n",
              "</style>\n",
              "<table border=\"1\" class=\"dataframe\">\n",
              "  <thead>\n",
              "    <tr style=\"text-align: right;\">\n",
              "      <th></th>\n",
              "      <th>name</th>\n",
              "      <th>platform</th>\n",
              "      <th>year_of_release</th>\n",
              "      <th>genre</th>\n",
              "      <th>na_sales</th>\n",
              "      <th>eu_sales</th>\n",
              "      <th>jp_sales</th>\n",
              "      <th>other_sales</th>\n",
              "      <th>critic_score</th>\n",
              "      <th>user_score</th>\n",
              "      <th>rating</th>\n",
              "    </tr>\n",
              "  </thead>\n",
              "  <tbody>\n",
              "    <tr>\n",
              "      <th>659</th>\n",
              "      <td>NaN</td>\n",
              "      <td>GEN</td>\n",
              "      <td>1993.0</td>\n",
              "      <td>NaN</td>\n",
              "      <td>1.78</td>\n",
              "      <td>0.53</td>\n",
              "      <td>0.00</td>\n",
              "      <td>0.08</td>\n",
              "      <td>NaN</td>\n",
              "      <td>NaN</td>\n",
              "      <td>NaN</td>\n",
              "    </tr>\n",
              "    <tr>\n",
              "      <th>14244</th>\n",
              "      <td>NaN</td>\n",
              "      <td>GEN</td>\n",
              "      <td>1993.0</td>\n",
              "      <td>NaN</td>\n",
              "      <td>0.00</td>\n",
              "      <td>0.00</td>\n",
              "      <td>0.03</td>\n",
              "      <td>0.00</td>\n",
              "      <td>NaN</td>\n",
              "      <td>NaN</td>\n",
              "      <td>NaN</td>\n",
              "    </tr>\n",
              "  </tbody>\n",
              "</table>\n",
              "</div>"
            ],
            "text/plain": [
              "      name platform  year_of_release genre  na_sales  eu_sales  jp_sales  \\\n",
              "659    NaN      GEN           1993.0   NaN      1.78      0.53      0.00   \n",
              "14244  NaN      GEN           1993.0   NaN      0.00      0.00      0.03   \n",
              "\n",
              "       other_sales  critic_score user_score rating  \n",
              "659           0.08           NaN        NaN    NaN  \n",
              "14244         0.00           NaN        NaN    NaN  "
            ]
          },
          "execution_count": 9,
          "metadata": {},
          "output_type": "execute_result"
        }
      ],
      "source": [
        "#Посмотри пропуски в столбе name\n",
        "data[data['name'].isnull()]"
      ]
    },
    {
      "cell_type": "markdown",
      "id": "257d2bc3",
      "metadata": {
        "id": "257d2bc3"
      },
      "source": [
        "Практически пустые строки. И совпадают с пропусками в столбце `genre`. Удаляем"
      ]
    },
    {
      "cell_type": "code",
      "execution_count": null,
      "id": "e4c7e96a",
      "metadata": {
        "scrolled": true,
        "id": "e4c7e96a"
      },
      "outputs": [],
      "source": [
        "#Удаляем пропуски в name\n",
        "data=data.dropna(subset=['name'])"
      ]
    },
    {
      "cell_type": "code",
      "execution_count": null,
      "id": "69cfc0cb",
      "metadata": {
        "id": "69cfc0cb",
        "outputId": "d1dacf9d-e85a-4ede-ed7d-8d5d7b32c869"
      },
      "outputs": [
        {
          "data": {
            "text/plain": [
              "name                  0\n",
              "platform              0\n",
              "year_of_release     269\n",
              "genre                 0\n",
              "na_sales              0\n",
              "eu_sales              0\n",
              "jp_sales              0\n",
              "other_sales           0\n",
              "critic_score       8576\n",
              "user_score         6699\n",
              "rating             6764\n",
              "dtype: int64"
            ]
          },
          "execution_count": 11,
          "metadata": {},
          "output_type": "execute_result"
        }
      ],
      "source": [
        "data.isna().sum()"
      ]
    },
    {
      "cell_type": "code",
      "execution_count": null,
      "id": "073b3262",
      "metadata": {
        "id": "073b3262",
        "outputId": "e9b57815-8322-4893-d1a9-c13d8cab8546"
      },
      "outputs": [
        {
          "data": {
            "text/html": [
              "<div>\n",
              "<style scoped>\n",
              "    .dataframe tbody tr th:only-of-type {\n",
              "        vertical-align: middle;\n",
              "    }\n",
              "\n",
              "    .dataframe tbody tr th {\n",
              "        vertical-align: top;\n",
              "    }\n",
              "\n",
              "    .dataframe thead th {\n",
              "        text-align: right;\n",
              "    }\n",
              "</style>\n",
              "<table border=\"1\" class=\"dataframe\">\n",
              "  <thead>\n",
              "    <tr style=\"text-align: right;\">\n",
              "      <th></th>\n",
              "      <th>name</th>\n",
              "      <th>platform</th>\n",
              "      <th>year_of_release</th>\n",
              "      <th>genre</th>\n",
              "      <th>na_sales</th>\n",
              "      <th>eu_sales</th>\n",
              "      <th>jp_sales</th>\n",
              "      <th>other_sales</th>\n",
              "      <th>critic_score</th>\n",
              "      <th>user_score</th>\n",
              "      <th>rating</th>\n",
              "    </tr>\n",
              "  </thead>\n",
              "  <tbody>\n",
              "    <tr>\n",
              "      <th>183</th>\n",
              "      <td>Madden NFL 2004</td>\n",
              "      <td>PS2</td>\n",
              "      <td>NaN</td>\n",
              "      <td>Sports</td>\n",
              "      <td>4.26</td>\n",
              "      <td>0.26</td>\n",
              "      <td>0.01</td>\n",
              "      <td>0.71</td>\n",
              "      <td>94.0</td>\n",
              "      <td>8.5</td>\n",
              "      <td>E</td>\n",
              "    </tr>\n",
              "    <tr>\n",
              "      <th>377</th>\n",
              "      <td>FIFA Soccer 2004</td>\n",
              "      <td>PS2</td>\n",
              "      <td>NaN</td>\n",
              "      <td>Sports</td>\n",
              "      <td>0.59</td>\n",
              "      <td>2.36</td>\n",
              "      <td>0.04</td>\n",
              "      <td>0.51</td>\n",
              "      <td>84.0</td>\n",
              "      <td>6.4</td>\n",
              "      <td>E</td>\n",
              "    </tr>\n",
              "    <tr>\n",
              "      <th>456</th>\n",
              "      <td>LEGO Batman: The Videogame</td>\n",
              "      <td>Wii</td>\n",
              "      <td>NaN</td>\n",
              "      <td>Action</td>\n",
              "      <td>1.80</td>\n",
              "      <td>0.97</td>\n",
              "      <td>0.00</td>\n",
              "      <td>0.29</td>\n",
              "      <td>74.0</td>\n",
              "      <td>7.9</td>\n",
              "      <td>E10+</td>\n",
              "    </tr>\n",
              "    <tr>\n",
              "      <th>475</th>\n",
              "      <td>wwe Smackdown vs. Raw 2006</td>\n",
              "      <td>PS2</td>\n",
              "      <td>NaN</td>\n",
              "      <td>Fighting</td>\n",
              "      <td>1.57</td>\n",
              "      <td>1.02</td>\n",
              "      <td>0.00</td>\n",
              "      <td>0.41</td>\n",
              "      <td>NaN</td>\n",
              "      <td>NaN</td>\n",
              "      <td>NaN</td>\n",
              "    </tr>\n",
              "    <tr>\n",
              "      <th>609</th>\n",
              "      <td>Space Invaders</td>\n",
              "      <td>2600</td>\n",
              "      <td>NaN</td>\n",
              "      <td>Shooter</td>\n",
              "      <td>2.36</td>\n",
              "      <td>0.14</td>\n",
              "      <td>0.00</td>\n",
              "      <td>0.03</td>\n",
              "      <td>NaN</td>\n",
              "      <td>NaN</td>\n",
              "      <td>NaN</td>\n",
              "    </tr>\n",
              "    <tr>\n",
              "      <th>...</th>\n",
              "      <td>...</td>\n",
              "      <td>...</td>\n",
              "      <td>...</td>\n",
              "      <td>...</td>\n",
              "      <td>...</td>\n",
              "      <td>...</td>\n",
              "      <td>...</td>\n",
              "      <td>...</td>\n",
              "      <td>...</td>\n",
              "      <td>...</td>\n",
              "      <td>...</td>\n",
              "    </tr>\n",
              "    <tr>\n",
              "      <th>16373</th>\n",
              "      <td>PDC World Championship Darts 2008</td>\n",
              "      <td>PSP</td>\n",
              "      <td>NaN</td>\n",
              "      <td>Sports</td>\n",
              "      <td>0.01</td>\n",
              "      <td>0.00</td>\n",
              "      <td>0.00</td>\n",
              "      <td>0.00</td>\n",
              "      <td>43.0</td>\n",
              "      <td>tbd</td>\n",
              "      <td>E10+</td>\n",
              "    </tr>\n",
              "    <tr>\n",
              "      <th>16405</th>\n",
              "      <td>Freaky Flyers</td>\n",
              "      <td>GC</td>\n",
              "      <td>NaN</td>\n",
              "      <td>Racing</td>\n",
              "      <td>0.01</td>\n",
              "      <td>0.00</td>\n",
              "      <td>0.00</td>\n",
              "      <td>0.00</td>\n",
              "      <td>69.0</td>\n",
              "      <td>6.5</td>\n",
              "      <td>T</td>\n",
              "    </tr>\n",
              "    <tr>\n",
              "      <th>16448</th>\n",
              "      <td>Inversion</td>\n",
              "      <td>PC</td>\n",
              "      <td>NaN</td>\n",
              "      <td>Shooter</td>\n",
              "      <td>0.01</td>\n",
              "      <td>0.00</td>\n",
              "      <td>0.00</td>\n",
              "      <td>0.00</td>\n",
              "      <td>59.0</td>\n",
              "      <td>6.7</td>\n",
              "      <td>M</td>\n",
              "    </tr>\n",
              "    <tr>\n",
              "      <th>16458</th>\n",
              "      <td>Hakuouki: Shinsengumi Kitan</td>\n",
              "      <td>PS3</td>\n",
              "      <td>NaN</td>\n",
              "      <td>Adventure</td>\n",
              "      <td>0.01</td>\n",
              "      <td>0.00</td>\n",
              "      <td>0.00</td>\n",
              "      <td>0.00</td>\n",
              "      <td>NaN</td>\n",
              "      <td>NaN</td>\n",
              "      <td>NaN</td>\n",
              "    </tr>\n",
              "    <tr>\n",
              "      <th>16522</th>\n",
              "      <td>Virtua Quest</td>\n",
              "      <td>GC</td>\n",
              "      <td>NaN</td>\n",
              "      <td>Role-Playing</td>\n",
              "      <td>0.01</td>\n",
              "      <td>0.00</td>\n",
              "      <td>0.00</td>\n",
              "      <td>0.00</td>\n",
              "      <td>55.0</td>\n",
              "      <td>5.5</td>\n",
              "      <td>T</td>\n",
              "    </tr>\n",
              "  </tbody>\n",
              "</table>\n",
              "<p>269 rows × 11 columns</p>\n",
              "</div>"
            ],
            "text/plain": [
              "                                    name platform  year_of_release  \\\n",
              "183                      Madden NFL 2004      PS2              NaN   \n",
              "377                     FIFA Soccer 2004      PS2              NaN   \n",
              "456           LEGO Batman: The Videogame      Wii              NaN   \n",
              "475           wwe Smackdown vs. Raw 2006      PS2              NaN   \n",
              "609                       Space Invaders     2600              NaN   \n",
              "...                                  ...      ...              ...   \n",
              "16373  PDC World Championship Darts 2008      PSP              NaN   \n",
              "16405                      Freaky Flyers       GC              NaN   \n",
              "16448                          Inversion       PC              NaN   \n",
              "16458        Hakuouki: Shinsengumi Kitan      PS3              NaN   \n",
              "16522                       Virtua Quest       GC              NaN   \n",
              "\n",
              "              genre  na_sales  eu_sales  jp_sales  other_sales  critic_score  \\\n",
              "183          Sports      4.26      0.26      0.01         0.71          94.0   \n",
              "377          Sports      0.59      2.36      0.04         0.51          84.0   \n",
              "456          Action      1.80      0.97      0.00         0.29          74.0   \n",
              "475        Fighting      1.57      1.02      0.00         0.41           NaN   \n",
              "609         Shooter      2.36      0.14      0.00         0.03           NaN   \n",
              "...             ...       ...       ...       ...          ...           ...   \n",
              "16373        Sports      0.01      0.00      0.00         0.00          43.0   \n",
              "16405        Racing      0.01      0.00      0.00         0.00          69.0   \n",
              "16448       Shooter      0.01      0.00      0.00         0.00          59.0   \n",
              "16458     Adventure      0.01      0.00      0.00         0.00           NaN   \n",
              "16522  Role-Playing      0.01      0.00      0.00         0.00          55.0   \n",
              "\n",
              "      user_score rating  \n",
              "183          8.5      E  \n",
              "377          6.4      E  \n",
              "456          7.9   E10+  \n",
              "475          NaN    NaN  \n",
              "609          NaN    NaN  \n",
              "...          ...    ...  \n",
              "16373        tbd   E10+  \n",
              "16405        6.5      T  \n",
              "16448        6.7      M  \n",
              "16458        NaN    NaN  \n",
              "16522        5.5      T  \n",
              "\n",
              "[269 rows x 11 columns]"
            ]
          },
          "execution_count": 12,
          "metadata": {},
          "output_type": "execute_result"
        }
      ],
      "source": [
        "#Посмотрим на пропуски в столбце year_of_release\n",
        "\n",
        "data[data['year_of_release'].isna()]"
      ]
    },
    {
      "cell_type": "markdown",
      "id": "5c65fc54",
      "metadata": {
        "id": "5c65fc54"
      },
      "source": [
        "Заполнить пропуски мы не можем, потому удалим их. 269 из 16713 - меньше 2%"
      ]
    },
    {
      "cell_type": "code",
      "execution_count": null,
      "id": "60ccf474",
      "metadata": {
        "scrolled": true,
        "id": "60ccf474"
      },
      "outputs": [],
      "source": [
        "data=data.dropna(subset=['year_of_release'])"
      ]
    },
    {
      "cell_type": "code",
      "execution_count": null,
      "id": "60ce5b48",
      "metadata": {
        "scrolled": true,
        "id": "60ce5b48"
      },
      "outputs": [],
      "source": [
        "#Приведем столбец к типу int для наглядности, простоты расччетов и построения графиков\n",
        "data['year_of_release'] = data['year_of_release'].astype('int')"
      ]
    },
    {
      "cell_type": "code",
      "execution_count": null,
      "id": "2d33d180",
      "metadata": {
        "id": "2d33d180",
        "outputId": "84ceebf8-34cd-4f9d-e8ed-52d22b20c457"
      },
      "outputs": [
        {
          "data": {
            "text/plain": [
              "name                  0\n",
              "platform              0\n",
              "year_of_release       0\n",
              "genre                 0\n",
              "na_sales              0\n",
              "eu_sales              0\n",
              "jp_sales              0\n",
              "other_sales           0\n",
              "critic_score       8461\n",
              "user_score         6605\n",
              "rating             6676\n",
              "dtype: int64"
            ]
          },
          "execution_count": 15,
          "metadata": {},
          "output_type": "execute_result"
        }
      ],
      "source": [
        "data.isna().sum()"
      ]
    },
    {
      "cell_type": "code",
      "execution_count": null,
      "id": "817e1c4c",
      "metadata": {
        "id": "817e1c4c",
        "outputId": "0f9439b2-211a-4d83-d1b9-13478ad19512"
      },
      "outputs": [
        {
          "data": {
            "text/html": [
              "<div>\n",
              "<style scoped>\n",
              "    .dataframe tbody tr th:only-of-type {\n",
              "        vertical-align: middle;\n",
              "    }\n",
              "\n",
              "    .dataframe tbody tr th {\n",
              "        vertical-align: top;\n",
              "    }\n",
              "\n",
              "    .dataframe thead th {\n",
              "        text-align: right;\n",
              "    }\n",
              "</style>\n",
              "<table border=\"1\" class=\"dataframe\">\n",
              "  <thead>\n",
              "    <tr style=\"text-align: right;\">\n",
              "      <th></th>\n",
              "      <th>name</th>\n",
              "      <th>platform</th>\n",
              "      <th>year_of_release</th>\n",
              "      <th>genre</th>\n",
              "      <th>na_sales</th>\n",
              "      <th>eu_sales</th>\n",
              "      <th>jp_sales</th>\n",
              "      <th>other_sales</th>\n",
              "      <th>critic_score</th>\n",
              "      <th>user_score</th>\n",
              "      <th>rating</th>\n",
              "    </tr>\n",
              "  </thead>\n",
              "  <tbody>\n",
              "    <tr>\n",
              "      <th>1</th>\n",
              "      <td>Super Mario Bros.</td>\n",
              "      <td>NES</td>\n",
              "      <td>1985</td>\n",
              "      <td>Platform</td>\n",
              "      <td>29.08</td>\n",
              "      <td>3.58</td>\n",
              "      <td>6.81</td>\n",
              "      <td>0.77</td>\n",
              "      <td>NaN</td>\n",
              "      <td>NaN</td>\n",
              "      <td>NaN</td>\n",
              "    </tr>\n",
              "    <tr>\n",
              "      <th>4</th>\n",
              "      <td>Pokemon Red/Pokemon Blue</td>\n",
              "      <td>GB</td>\n",
              "      <td>1996</td>\n",
              "      <td>Role-Playing</td>\n",
              "      <td>11.27</td>\n",
              "      <td>8.89</td>\n",
              "      <td>10.22</td>\n",
              "      <td>1.00</td>\n",
              "      <td>NaN</td>\n",
              "      <td>NaN</td>\n",
              "      <td>NaN</td>\n",
              "    </tr>\n",
              "    <tr>\n",
              "      <th>5</th>\n",
              "      <td>Tetris</td>\n",
              "      <td>GB</td>\n",
              "      <td>1989</td>\n",
              "      <td>Puzzle</td>\n",
              "      <td>23.20</td>\n",
              "      <td>2.26</td>\n",
              "      <td>4.22</td>\n",
              "      <td>0.58</td>\n",
              "      <td>NaN</td>\n",
              "      <td>NaN</td>\n",
              "      <td>NaN</td>\n",
              "    </tr>\n",
              "    <tr>\n",
              "      <th>9</th>\n",
              "      <td>Duck Hunt</td>\n",
              "      <td>NES</td>\n",
              "      <td>1984</td>\n",
              "      <td>Shooter</td>\n",
              "      <td>26.93</td>\n",
              "      <td>0.63</td>\n",
              "      <td>0.28</td>\n",
              "      <td>0.47</td>\n",
              "      <td>NaN</td>\n",
              "      <td>NaN</td>\n",
              "      <td>NaN</td>\n",
              "    </tr>\n",
              "    <tr>\n",
              "      <th>10</th>\n",
              "      <td>Nintendogs</td>\n",
              "      <td>DS</td>\n",
              "      <td>2005</td>\n",
              "      <td>Simulation</td>\n",
              "      <td>9.05</td>\n",
              "      <td>10.95</td>\n",
              "      <td>1.93</td>\n",
              "      <td>2.74</td>\n",
              "      <td>NaN</td>\n",
              "      <td>NaN</td>\n",
              "      <td>NaN</td>\n",
              "    </tr>\n",
              "    <tr>\n",
              "      <th>...</th>\n",
              "      <td>...</td>\n",
              "      <td>...</td>\n",
              "      <td>...</td>\n",
              "      <td>...</td>\n",
              "      <td>...</td>\n",
              "      <td>...</td>\n",
              "      <td>...</td>\n",
              "      <td>...</td>\n",
              "      <td>...</td>\n",
              "      <td>...</td>\n",
              "      <td>...</td>\n",
              "    </tr>\n",
              "    <tr>\n",
              "      <th>16710</th>\n",
              "      <td>Samurai Warriors: Sanada Maru</td>\n",
              "      <td>PS3</td>\n",
              "      <td>2016</td>\n",
              "      <td>Action</td>\n",
              "      <td>0.00</td>\n",
              "      <td>0.00</td>\n",
              "      <td>0.01</td>\n",
              "      <td>0.00</td>\n",
              "      <td>NaN</td>\n",
              "      <td>NaN</td>\n",
              "      <td>NaN</td>\n",
              "    </tr>\n",
              "    <tr>\n",
              "      <th>16711</th>\n",
              "      <td>LMA Manager 2007</td>\n",
              "      <td>X360</td>\n",
              "      <td>2006</td>\n",
              "      <td>Sports</td>\n",
              "      <td>0.00</td>\n",
              "      <td>0.01</td>\n",
              "      <td>0.00</td>\n",
              "      <td>0.00</td>\n",
              "      <td>NaN</td>\n",
              "      <td>NaN</td>\n",
              "      <td>NaN</td>\n",
              "    </tr>\n",
              "    <tr>\n",
              "      <th>16712</th>\n",
              "      <td>Haitaka no Psychedelica</td>\n",
              "      <td>PSV</td>\n",
              "      <td>2016</td>\n",
              "      <td>Adventure</td>\n",
              "      <td>0.00</td>\n",
              "      <td>0.00</td>\n",
              "      <td>0.01</td>\n",
              "      <td>0.00</td>\n",
              "      <td>NaN</td>\n",
              "      <td>NaN</td>\n",
              "      <td>NaN</td>\n",
              "    </tr>\n",
              "    <tr>\n",
              "      <th>16713</th>\n",
              "      <td>Spirits &amp; Spells</td>\n",
              "      <td>GBA</td>\n",
              "      <td>2003</td>\n",
              "      <td>Platform</td>\n",
              "      <td>0.01</td>\n",
              "      <td>0.00</td>\n",
              "      <td>0.00</td>\n",
              "      <td>0.00</td>\n",
              "      <td>NaN</td>\n",
              "      <td>NaN</td>\n",
              "      <td>NaN</td>\n",
              "    </tr>\n",
              "    <tr>\n",
              "      <th>16714</th>\n",
              "      <td>Winning Post 8 2016</td>\n",
              "      <td>PSV</td>\n",
              "      <td>2016</td>\n",
              "      <td>Simulation</td>\n",
              "      <td>0.00</td>\n",
              "      <td>0.00</td>\n",
              "      <td>0.01</td>\n",
              "      <td>0.00</td>\n",
              "      <td>NaN</td>\n",
              "      <td>NaN</td>\n",
              "      <td>NaN</td>\n",
              "    </tr>\n",
              "  </tbody>\n",
              "</table>\n",
              "<p>6676 rows × 11 columns</p>\n",
              "</div>"
            ],
            "text/plain": [
              "                                name platform  year_of_release         genre  \\\n",
              "1                  Super Mario Bros.      NES             1985      Platform   \n",
              "4           Pokemon Red/Pokemon Blue       GB             1996  Role-Playing   \n",
              "5                             Tetris       GB             1989        Puzzle   \n",
              "9                          Duck Hunt      NES             1984       Shooter   \n",
              "10                        Nintendogs       DS             2005    Simulation   \n",
              "...                              ...      ...              ...           ...   \n",
              "16710  Samurai Warriors: Sanada Maru      PS3             2016        Action   \n",
              "16711               LMA Manager 2007     X360             2006        Sports   \n",
              "16712        Haitaka no Psychedelica      PSV             2016     Adventure   \n",
              "16713               Spirits & Spells      GBA             2003      Platform   \n",
              "16714            Winning Post 8 2016      PSV             2016    Simulation   \n",
              "\n",
              "       na_sales  eu_sales  jp_sales  other_sales  critic_score user_score  \\\n",
              "1         29.08      3.58      6.81         0.77           NaN        NaN   \n",
              "4         11.27      8.89     10.22         1.00           NaN        NaN   \n",
              "5         23.20      2.26      4.22         0.58           NaN        NaN   \n",
              "9         26.93      0.63      0.28         0.47           NaN        NaN   \n",
              "10         9.05     10.95      1.93         2.74           NaN        NaN   \n",
              "...         ...       ...       ...          ...           ...        ...   \n",
              "16710      0.00      0.00      0.01         0.00           NaN        NaN   \n",
              "16711      0.00      0.01      0.00         0.00           NaN        NaN   \n",
              "16712      0.00      0.00      0.01         0.00           NaN        NaN   \n",
              "16713      0.01      0.00      0.00         0.00           NaN        NaN   \n",
              "16714      0.00      0.00      0.01         0.00           NaN        NaN   \n",
              "\n",
              "      rating  \n",
              "1        NaN  \n",
              "4        NaN  \n",
              "5        NaN  \n",
              "9        NaN  \n",
              "10       NaN  \n",
              "...      ...  \n",
              "16710    NaN  \n",
              "16711    NaN  \n",
              "16712    NaN  \n",
              "16713    NaN  \n",
              "16714    NaN  \n",
              "\n",
              "[6676 rows x 11 columns]"
            ]
          },
          "execution_count": 16,
          "metadata": {},
          "output_type": "execute_result"
        }
      ],
      "source": [
        "#Посмотрим на пропуски в столбце rating\n",
        "data[data['rating'].isna()]"
      ]
    },
    {
      "cell_type": "markdown",
      "id": "e7b0f843",
      "metadata": {
        "id": "e7b0f843"
      },
      "source": [
        "Пропусков слишком много. И чаще они совпадают с пропусками в столбцах `critic_score` и `user_score`. Удалять нельзя. Но и заполнить по данным из других столбцов не можем.\n",
        "`\n",
        "В дальнейшем иследовании, данные столбцы практически не участвуют, потому создадим таблицу `data_no_score`, в которой будет все данные, за исключением этих трех столбцов и на ней будет проводить исследования. Когда же потребуются эти три столбца, будем использовать изначальную таблицу."
      ]
    },
    {
      "cell_type": "code",
      "execution_count": null,
      "id": "8d766a42",
      "metadata": {
        "id": "8d766a42"
      },
      "outputs": [],
      "source": [
        "data['rating'] = data['rating'].fillna('Unknown')"
      ]
    },
    {
      "cell_type": "markdown",
      "id": "6fac48d6",
      "metadata": {
        "id": "6fac48d6"
      },
      "source": [
        "В дальнейшем иследовании, данные в столбцах `critic_score` и `user_score` практически не участвуют, потому создадим таблицу `data_no_score`, в которой будет все данные, за исключением этих трех столбцов и на ней будет проводить исследования. Когда же потребуются эти три столбца, будем использовать изначальную таблицу."
      ]
    },
    {
      "cell_type": "markdown",
      "id": "d677770d",
      "metadata": {
        "id": "d677770d"
      },
      "source": [
        "Перед разделением  добавим столбец `total_sales` с информацией о сумарных продажах, дабы этот столбец был в обеих таблицах"
      ]
    },
    {
      "cell_type": "code",
      "execution_count": null,
      "id": "45f95c89",
      "metadata": {
        "id": "45f95c89"
      },
      "outputs": [],
      "source": [
        "data['total_sales'] = data['na_sales'] + data['eu_sales'] + data['jp_sales'] + data['other_sales']"
      ]
    },
    {
      "cell_type": "code",
      "execution_count": null,
      "id": "962fe27c",
      "metadata": {
        "id": "962fe27c"
      },
      "outputs": [],
      "source": [
        "data['user_score'] = data['user_score'].replace('tbd','NaN')\n",
        "data['user_score'] = pd.to_numeric(data['user_score'],errors='coerce')"
      ]
    },
    {
      "cell_type": "code",
      "execution_count": null,
      "id": "095918f6",
      "metadata": {
        "id": "095918f6"
      },
      "outputs": [],
      "source": [
        "data_no_score = data.drop(['critic_score','user_score','rating'],axis=1)"
      ]
    },
    {
      "cell_type": "code",
      "execution_count": null,
      "id": "6c214fba",
      "metadata": {
        "id": "6c214fba",
        "outputId": "da98421d-0576-47c5-cb4a-15b32e6091cf"
      },
      "outputs": [
        {
          "data": {
            "text/plain": [
              "name                  0\n",
              "platform              0\n",
              "year_of_release       0\n",
              "genre                 0\n",
              "na_sales              0\n",
              "eu_sales              0\n",
              "jp_sales              0\n",
              "other_sales           0\n",
              "critic_score       8461\n",
              "user_score         8981\n",
              "rating                0\n",
              "total_sales           0\n",
              "dtype: int64"
            ]
          },
          "execution_count": 21,
          "metadata": {},
          "output_type": "execute_result"
        }
      ],
      "source": [
        "data.isna().sum()"
      ]
    },
    {
      "cell_type": "code",
      "execution_count": null,
      "id": "69e8a090",
      "metadata": {
        "id": "69e8a090",
        "outputId": "628684ee-38ba-4fa6-d3c2-29ad9c988949"
      },
      "outputs": [
        {
          "data": {
            "text/plain": [
              "Unknown    6676\n",
              "E          3921\n",
              "T          2905\n",
              "M          1536\n",
              "E10+       1393\n",
              "EC            8\n",
              "K-A           3\n",
              "AO            1\n",
              "RP            1\n",
              "Name: rating, dtype: int64"
            ]
          },
          "execution_count": 22,
          "metadata": {},
          "output_type": "execute_result"
        }
      ],
      "source": [
        "#Посмотрим, какие есть значения и как распределены\n",
        "data['rating'].value_counts()"
      ]
    },
    {
      "cell_type": "markdown",
      "id": "304ee90d",
      "metadata": {
        "id": "304ee90d"
      },
      "source": [
        "Если верить открытым источникам:\n",
        "\n",
        "категории E и К-А - одно и то же: Игры, подходящие всем возрастным категориям.\n",
        "категории М и АО - только для взрослых\n",
        "\n",
        "Эти категории можно объединить.\n",
        "\n",
        "ЕС слишком мало для изучения как отдельной категории, потому тоже добавим в E\n",
        "\n",
        "RP посмотрим, что за игра, и интуитивно подставим нудный рейтинг\n"
      ]
    },
    {
      "cell_type": "code",
      "execution_count": null,
      "id": "1a253715",
      "metadata": {
        "id": "1a253715",
        "outputId": "9f183968-a8bd-43ef-a13a-fbcc73a8aae2"
      },
      "outputs": [
        {
          "data": {
            "text/html": [
              "<div>\n",
              "<style scoped>\n",
              "    .dataframe tbody tr th:only-of-type {\n",
              "        vertical-align: middle;\n",
              "    }\n",
              "\n",
              "    .dataframe tbody tr th {\n",
              "        vertical-align: top;\n",
              "    }\n",
              "\n",
              "    .dataframe thead th {\n",
              "        text-align: right;\n",
              "    }\n",
              "</style>\n",
              "<table border=\"1\" class=\"dataframe\">\n",
              "  <thead>\n",
              "    <tr style=\"text-align: right;\">\n",
              "      <th></th>\n",
              "      <th>name</th>\n",
              "      <th>platform</th>\n",
              "      <th>year_of_release</th>\n",
              "      <th>genre</th>\n",
              "      <th>na_sales</th>\n",
              "      <th>eu_sales</th>\n",
              "      <th>jp_sales</th>\n",
              "      <th>other_sales</th>\n",
              "      <th>critic_score</th>\n",
              "      <th>user_score</th>\n",
              "      <th>rating</th>\n",
              "      <th>total_sales</th>\n",
              "    </tr>\n",
              "  </thead>\n",
              "  <tbody>\n",
              "    <tr>\n",
              "      <th>14270</th>\n",
              "      <td>Supreme Ruler: Cold War</td>\n",
              "      <td>PC</td>\n",
              "      <td>2011</td>\n",
              "      <td>Strategy</td>\n",
              "      <td>0.0</td>\n",
              "      <td>0.03</td>\n",
              "      <td>0.0</td>\n",
              "      <td>0.01</td>\n",
              "      <td>63.0</td>\n",
              "      <td>6.8</td>\n",
              "      <td>RP</td>\n",
              "      <td>0.04</td>\n",
              "    </tr>\n",
              "  </tbody>\n",
              "</table>\n",
              "</div>"
            ],
            "text/plain": [
              "                          name platform  year_of_release     genre  na_sales  \\\n",
              "14270  Supreme Ruler: Cold War       PC             2011  Strategy       0.0   \n",
              "\n",
              "       eu_sales  jp_sales  other_sales  critic_score  user_score rating  \\\n",
              "14270      0.03       0.0         0.01          63.0         6.8     RP   \n",
              "\n",
              "       total_sales  \n",
              "14270         0.04  "
            ]
          },
          "execution_count": 23,
          "metadata": {},
          "output_type": "execute_result"
        }
      ],
      "source": [
        "data[data['rating'] == 'RP']"
      ]
    },
    {
      "cell_type": "markdown",
      "id": "dccb9f02",
      "metadata": {
        "id": "dccb9f02"
      },
      "source": [
        "Supreme Ruler: Cold War\t имеет рейтинг PEGI 7+ -для лиц, старше 7 лет - отнесем ее в ЕС10+"
      ]
    },
    {
      "cell_type": "code",
      "execution_count": null,
      "id": "1d2705e4",
      "metadata": {
        "id": "1d2705e4"
      },
      "outputs": [],
      "source": [
        "#Заменим значения\n",
        "data['rating'] = data['rating'].replace('K-A', 'E')\n",
        "data['rating'] = data['rating'].replace('AO', 'M')\n",
        "data['rating'] = data['rating'].replace('EC', 'E')\n",
        "data['rating'] = data['rating'].replace('RP', 'E10+')"
      ]
    },
    {
      "cell_type": "markdown",
      "id": "4d330f8a",
      "metadata": {
        "id": "4d330f8a"
      },
      "source": [
        "### ОБЩИЙ ВЫВОД\n",
        "\n",
        "Поправили названия столбцов.\n",
        "удалили пропуски\n",
        "Разделили данные на две таблицы:\n",
        "- первоначальная `data` - хранить всю информацию\n",
        "- `data_no_score` - данные без столбцов рейтинга и отзывов\n",
        "- добавили столбец `total_sales` с информацией о суммарных продажах по регионам"
      ]
    },
    {
      "cell_type": "markdown",
      "id": "b6e4af98",
      "metadata": {
        "id": "b6e4af98"
      },
      "source": [
        "## 3 Исследовательский анализ"
      ]
    },
    {
      "cell_type": "markdown",
      "id": "4c74b35e",
      "metadata": {
        "id": "4c74b35e"
      },
      "source": [
        "### - Посчитать, сколько игр выпускалось в разные годы. **Вопрос** - Важны ли данные за все периоды?"
      ]
    },
    {
      "cell_type": "code",
      "execution_count": null,
      "id": "7b5fdb82",
      "metadata": {
        "scrolled": true,
        "id": "7b5fdb82",
        "outputId": "2188df8d-478c-4f0f-854c-0ab6ef35e728"
      },
      "outputs": [
        {
          "data": {
            "image/png": "[encoded data removed]",
            "text/plain": [
              "<Figure size 1080x360 with 1 Axes>"
            ]
          },
          "metadata": {
            "needs_background": "light"
          },
          "output_type": "display_data"
        },
        {
          "data": {
            "text/html": [
              "<div>\n",
              "<style scoped>\n",
              "    .dataframe tbody tr th:only-of-type {\n",
              "        vertical-align: middle;\n",
              "    }\n",
              "\n",
              "    .dataframe tbody tr th {\n",
              "        vertical-align: top;\n",
              "    }\n",
              "\n",
              "    .dataframe thead th {\n",
              "        text-align: right;\n",
              "    }\n",
              "</style>\n",
              "<table border=\"1\" class=\"dataframe\">\n",
              "  <thead>\n",
              "    <tr style=\"text-align: right;\">\n",
              "      <th></th>\n",
              "      <th>total_sales</th>\n",
              "    </tr>\n",
              "    <tr>\n",
              "      <th>year_of_release</th>\n",
              "      <th></th>\n",
              "    </tr>\n",
              "  </thead>\n",
              "  <tbody>\n",
              "    <tr>\n",
              "      <th>1980</th>\n",
              "      <td>9</td>\n",
              "    </tr>\n",
              "    <tr>\n",
              "      <th>1981</th>\n",
              "      <td>46</td>\n",
              "    </tr>\n",
              "    <tr>\n",
              "      <th>1982</th>\n",
              "      <td>36</td>\n",
              "    </tr>\n",
              "    <tr>\n",
              "      <th>1983</th>\n",
              "      <td>17</td>\n",
              "    </tr>\n",
              "    <tr>\n",
              "      <th>1984</th>\n",
              "      <td>14</td>\n",
              "    </tr>\n",
              "    <tr>\n",
              "      <th>1985</th>\n",
              "      <td>14</td>\n",
              "    </tr>\n",
              "    <tr>\n",
              "      <th>1986</th>\n",
              "      <td>21</td>\n",
              "    </tr>\n",
              "    <tr>\n",
              "      <th>1987</th>\n",
              "      <td>16</td>\n",
              "    </tr>\n",
              "    <tr>\n",
              "      <th>1988</th>\n",
              "      <td>15</td>\n",
              "    </tr>\n",
              "    <tr>\n",
              "      <th>1989</th>\n",
              "      <td>17</td>\n",
              "    </tr>\n",
              "    <tr>\n",
              "      <th>1990</th>\n",
              "      <td>16</td>\n",
              "    </tr>\n",
              "    <tr>\n",
              "      <th>1991</th>\n",
              "      <td>41</td>\n",
              "    </tr>\n",
              "    <tr>\n",
              "      <th>1992</th>\n",
              "      <td>43</td>\n",
              "    </tr>\n",
              "    <tr>\n",
              "      <th>1993</th>\n",
              "      <td>60</td>\n",
              "    </tr>\n",
              "    <tr>\n",
              "      <th>1994</th>\n",
              "      <td>121</td>\n",
              "    </tr>\n",
              "    <tr>\n",
              "      <th>1995</th>\n",
              "      <td>219</td>\n",
              "    </tr>\n",
              "    <tr>\n",
              "      <th>1996</th>\n",
              "      <td>263</td>\n",
              "    </tr>\n",
              "    <tr>\n",
              "      <th>1997</th>\n",
              "      <td>289</td>\n",
              "    </tr>\n",
              "    <tr>\n",
              "      <th>1998</th>\n",
              "      <td>379</td>\n",
              "    </tr>\n",
              "    <tr>\n",
              "      <th>1999</th>\n",
              "      <td>338</td>\n",
              "    </tr>\n",
              "    <tr>\n",
              "      <th>2000</th>\n",
              "      <td>350</td>\n",
              "    </tr>\n",
              "    <tr>\n",
              "      <th>2001</th>\n",
              "      <td>482</td>\n",
              "    </tr>\n",
              "    <tr>\n",
              "      <th>2002</th>\n",
              "      <td>829</td>\n",
              "    </tr>\n",
              "    <tr>\n",
              "      <th>2003</th>\n",
              "      <td>775</td>\n",
              "    </tr>\n",
              "    <tr>\n",
              "      <th>2004</th>\n",
              "      <td>762</td>\n",
              "    </tr>\n",
              "    <tr>\n",
              "      <th>2005</th>\n",
              "      <td>939</td>\n",
              "    </tr>\n",
              "    <tr>\n",
              "      <th>2006</th>\n",
              "      <td>1006</td>\n",
              "    </tr>\n",
              "    <tr>\n",
              "      <th>2007</th>\n",
              "      <td>1197</td>\n",
              "    </tr>\n",
              "    <tr>\n",
              "      <th>2008</th>\n",
              "      <td>1427</td>\n",
              "    </tr>\n",
              "    <tr>\n",
              "      <th>2009</th>\n",
              "      <td>1426</td>\n",
              "    </tr>\n",
              "    <tr>\n",
              "      <th>2010</th>\n",
              "      <td>1255</td>\n",
              "    </tr>\n",
              "    <tr>\n",
              "      <th>2011</th>\n",
              "      <td>1136</td>\n",
              "    </tr>\n",
              "    <tr>\n",
              "      <th>2012</th>\n",
              "      <td>653</td>\n",
              "    </tr>\n",
              "    <tr>\n",
              "      <th>2013</th>\n",
              "      <td>544</td>\n",
              "    </tr>\n",
              "    <tr>\n",
              "      <th>2014</th>\n",
              "      <td>581</td>\n",
              "    </tr>\n",
              "    <tr>\n",
              "      <th>2015</th>\n",
              "      <td>606</td>\n",
              "    </tr>\n",
              "    <tr>\n",
              "      <th>2016</th>\n",
              "      <td>502</td>\n",
              "    </tr>\n",
              "  </tbody>\n",
              "</table>\n",
              "</div>"
            ],
            "text/plain": [
              "                 total_sales\n",
              "year_of_release             \n",
              "1980                       9\n",
              "1981                      46\n",
              "1982                      36\n",
              "1983                      17\n",
              "1984                      14\n",
              "1985                      14\n",
              "1986                      21\n",
              "1987                      16\n",
              "1988                      15\n",
              "1989                      17\n",
              "1990                      16\n",
              "1991                      41\n",
              "1992                      43\n",
              "1993                      60\n",
              "1994                     121\n",
              "1995                     219\n",
              "1996                     263\n",
              "1997                     289\n",
              "1998                     379\n",
              "1999                     338\n",
              "2000                     350\n",
              "2001                     482\n",
              "2002                     829\n",
              "2003                     775\n",
              "2004                     762\n",
              "2005                     939\n",
              "2006                    1006\n",
              "2007                    1197\n",
              "2008                    1427\n",
              "2009                    1426\n",
              "2010                    1255\n",
              "2011                    1136\n",
              "2012                     653\n",
              "2013                     544\n",
              "2014                     581\n",
              "2015                     606\n",
              "2016                     502"
            ]
          },
          "execution_count": 26,
          "metadata": {},
          "output_type": "execute_result"
        }
      ],
      "source": [
        "#Создадим сводную таблицу по годам и суммарным продажам\n",
        "year_pivot= data_no_score.pivot_table(index='year_of_release',values='total_sales', aggfunc='count')\n",
        "#построим графики\n",
        "year_pivot.plot(grid=True,figsize=(15,5), legend=None)\n",
        "plt.show()\n",
        "year_pivot\n"
      ]
    },
    {
      "cell_type": "code",
      "execution_count": null,
      "id": "61f36a93",
      "metadata": {
        "scrolled": true,
        "id": "61f36a93",
        "outputId": "a03a5ad4-73df-4a18-efc3-c27efe4c6586"
      },
      "outputs": [
        {
          "data": {
            "image/png": "[encoded data removed]",
            "text/plain": [
              "<Figure size 1080x360 with 1 Axes>"
            ]
          },
          "metadata": {
            "needs_background": "light"
          },
          "output_type": "display_data"
        },
        {
          "data": {
            "text/html": [
              "<div>\n",
              "<style scoped>\n",
              "    .dataframe tbody tr th:only-of-type {\n",
              "        vertical-align: middle;\n",
              "    }\n",
              "\n",
              "    .dataframe tbody tr th {\n",
              "        vertical-align: top;\n",
              "    }\n",
              "\n",
              "    .dataframe thead th {\n",
              "        text-align: right;\n",
              "    }\n",
              "</style>\n",
              "<table border=\"1\" class=\"dataframe\">\n",
              "  <thead>\n",
              "    <tr style=\"text-align: right;\">\n",
              "      <th></th>\n",
              "      <th>total_sales</th>\n",
              "    </tr>\n",
              "    <tr>\n",
              "      <th>year_of_release</th>\n",
              "      <th></th>\n",
              "    </tr>\n",
              "  </thead>\n",
              "  <tbody>\n",
              "    <tr>\n",
              "      <th>1980</th>\n",
              "      <td>9</td>\n",
              "    </tr>\n",
              "    <tr>\n",
              "      <th>1981</th>\n",
              "      <td>46</td>\n",
              "    </tr>\n",
              "    <tr>\n",
              "      <th>1982</th>\n",
              "      <td>36</td>\n",
              "    </tr>\n",
              "    <tr>\n",
              "      <th>1983</th>\n",
              "      <td>17</td>\n",
              "    </tr>\n",
              "    <tr>\n",
              "      <th>1984</th>\n",
              "      <td>14</td>\n",
              "    </tr>\n",
              "    <tr>\n",
              "      <th>1985</th>\n",
              "      <td>14</td>\n",
              "    </tr>\n",
              "    <tr>\n",
              "      <th>1986</th>\n",
              "      <td>21</td>\n",
              "    </tr>\n",
              "    <tr>\n",
              "      <th>1987</th>\n",
              "      <td>16</td>\n",
              "    </tr>\n",
              "    <tr>\n",
              "      <th>1988</th>\n",
              "      <td>15</td>\n",
              "    </tr>\n",
              "    <tr>\n",
              "      <th>1989</th>\n",
              "      <td>17</td>\n",
              "    </tr>\n",
              "    <tr>\n",
              "      <th>1990</th>\n",
              "      <td>16</td>\n",
              "    </tr>\n",
              "    <tr>\n",
              "      <th>1991</th>\n",
              "      <td>41</td>\n",
              "    </tr>\n",
              "    <tr>\n",
              "      <th>1992</th>\n",
              "      <td>43</td>\n",
              "    </tr>\n",
              "    <tr>\n",
              "      <th>1993</th>\n",
              "      <td>60</td>\n",
              "    </tr>\n",
              "    <tr>\n",
              "      <th>1994</th>\n",
              "      <td>121</td>\n",
              "    </tr>\n",
              "    <tr>\n",
              "      <th>1995</th>\n",
              "      <td>219</td>\n",
              "    </tr>\n",
              "    <tr>\n",
              "      <th>1996</th>\n",
              "      <td>263</td>\n",
              "    </tr>\n",
              "    <tr>\n",
              "      <th>1997</th>\n",
              "      <td>289</td>\n",
              "    </tr>\n",
              "    <tr>\n",
              "      <th>1998</th>\n",
              "      <td>379</td>\n",
              "    </tr>\n",
              "    <tr>\n",
              "      <th>1999</th>\n",
              "      <td>338</td>\n",
              "    </tr>\n",
              "    <tr>\n",
              "      <th>2000</th>\n",
              "      <td>350</td>\n",
              "    </tr>\n",
              "    <tr>\n",
              "      <th>2001</th>\n",
              "      <td>482</td>\n",
              "    </tr>\n",
              "    <tr>\n",
              "      <th>2002</th>\n",
              "      <td>829</td>\n",
              "    </tr>\n",
              "    <tr>\n",
              "      <th>2003</th>\n",
              "      <td>775</td>\n",
              "    </tr>\n",
              "    <tr>\n",
              "      <th>2004</th>\n",
              "      <td>762</td>\n",
              "    </tr>\n",
              "    <tr>\n",
              "      <th>2005</th>\n",
              "      <td>939</td>\n",
              "    </tr>\n",
              "    <tr>\n",
              "      <th>2006</th>\n",
              "      <td>1006</td>\n",
              "    </tr>\n",
              "    <tr>\n",
              "      <th>2007</th>\n",
              "      <td>1197</td>\n",
              "    </tr>\n",
              "    <tr>\n",
              "      <th>2008</th>\n",
              "      <td>1427</td>\n",
              "    </tr>\n",
              "    <tr>\n",
              "      <th>2009</th>\n",
              "      <td>1426</td>\n",
              "    </tr>\n",
              "    <tr>\n",
              "      <th>2010</th>\n",
              "      <td>1255</td>\n",
              "    </tr>\n",
              "    <tr>\n",
              "      <th>2011</th>\n",
              "      <td>1136</td>\n",
              "    </tr>\n",
              "    <tr>\n",
              "      <th>2012</th>\n",
              "      <td>653</td>\n",
              "    </tr>\n",
              "    <tr>\n",
              "      <th>2013</th>\n",
              "      <td>544</td>\n",
              "    </tr>\n",
              "    <tr>\n",
              "      <th>2014</th>\n",
              "      <td>581</td>\n",
              "    </tr>\n",
              "    <tr>\n",
              "      <th>2015</th>\n",
              "      <td>606</td>\n",
              "    </tr>\n",
              "    <tr>\n",
              "      <th>2016</th>\n",
              "      <td>502</td>\n",
              "    </tr>\n",
              "  </tbody>\n",
              "</table>\n",
              "</div>"
            ],
            "text/plain": [
              "                 total_sales\n",
              "year_of_release             \n",
              "1980                       9\n",
              "1981                      46\n",
              "1982                      36\n",
              "1983                      17\n",
              "1984                      14\n",
              "1985                      14\n",
              "1986                      21\n",
              "1987                      16\n",
              "1988                      15\n",
              "1989                      17\n",
              "1990                      16\n",
              "1991                      41\n",
              "1992                      43\n",
              "1993                      60\n",
              "1994                     121\n",
              "1995                     219\n",
              "1996                     263\n",
              "1997                     289\n",
              "1998                     379\n",
              "1999                     338\n",
              "2000                     350\n",
              "2001                     482\n",
              "2002                     829\n",
              "2003                     775\n",
              "2004                     762\n",
              "2005                     939\n",
              "2006                    1006\n",
              "2007                    1197\n",
              "2008                    1427\n",
              "2009                    1426\n",
              "2010                    1255\n",
              "2011                    1136\n",
              "2012                     653\n",
              "2013                     544\n",
              "2014                     581\n",
              "2015                     606\n",
              "2016                     502"
            ]
          },
          "execution_count": 27,
          "metadata": {},
          "output_type": "execute_result"
        }
      ],
      "source": [
        "#Создадим сводную таблицу по годам и суммарным продажам\n",
        "genre_pivot= data_no_score.pivot_table(index='year_of_release',values='genre', aggfunc='count')\n",
        "#построим графики\n",
        "genre_pivot.plot(grid=True,figsize=(15,5), legend=None)\n",
        "plt.show()\n",
        "year_pivot"
      ]
    },
    {
      "cell_type": "markdown",
      "id": "20df0a32",
      "metadata": {
        "id": "20df0a32"
      },
      "source": [
        "Как видим, с началом нового тысячилетия начался и золотой век игра. Резкий рост с 2000, небольшая просадка в 2003 и 2004, делее взлет и пик в 2009. И затем опать спад.\n",
        "\n",
        "Можем предположить, что рост с 2000 года связан с выходом ps2 и xbox - основных игроков текущего рынка\n",
        "\n",
        "Пока актуальным видится период с 2001 по 2016"
      ]
    },
    {
      "cell_type": "code",
      "execution_count": null,
      "id": "23719629",
      "metadata": {
        "id": "23719629",
        "outputId": "b995e133-09f8-4d66-c164-a1c38f3d9415"
      },
      "outputs": [
        {
          "data": {
            "text/plain": [
              "array(['Wii', 'NES', 'GB', 'DS', 'X360', 'PS3', 'PS2', 'SNES', 'GBA',\n",
              "       'PS4', '3DS', 'N64', 'PS', 'XB', 'PC', '2600', 'PSP', 'XOne',\n",
              "       'WiiU', 'GC', 'GEN', 'DC', 'PSV', 'SAT', 'SCD', 'WS', 'NG', 'TG16',\n",
              "       '3DO', 'GG', 'PCFX'], dtype=object)"
            ]
          },
          "execution_count": 28,
          "metadata": {},
          "output_type": "execute_result"
        }
      ],
      "source": [
        "data_no_score['platform'].unique()\n"
      ]
    },
    {
      "cell_type": "markdown",
      "id": "b8aca219",
      "metadata": {
        "id": "b8aca219"
      },
      "source": [
        "   "
      ]
    },
    {
      "cell_type": "markdown",
      "id": "00283162",
      "metadata": {
        "id": "00283162"
      },
      "source": [
        "  "
      ]
    },
    {
      "cell_type": "markdown",
      "id": "5c2bac4c",
      "metadata": {
        "id": "5c2bac4c"
      },
      "source": [
        "  "
      ]
    },
    {
      "cell_type": "markdown",
      "id": "87df16de",
      "metadata": {
        "id": "87df16de"
      },
      "source": [
        "### Проверить, как менялись продажи по платформам. Выбрать платформы с наибольшими суммарными продажами и построить распределение по годам. Вопрос - За какой характерный срок появляются новые и исчезают старые платформы?"
      ]
    },
    {
      "cell_type": "code",
      "execution_count": null,
      "id": "448d2b51",
      "metadata": {
        "scrolled": false,
        "id": "448d2b51",
        "outputId": "3ac880b8-b540-4bbd-baf1-99f38127a8f5"
      },
      "outputs": [
        {
          "data": {
            "image/png": "[encoded data removed]",
            "text/plain": [
              "<Figure size 1080x360 with 1 Axes>"
            ]
          },
          "metadata": {
            "needs_background": "light"
          },
          "output_type": "display_data"
        },
        {
          "data": {
            "text/html": [
              "<div>\n",
              "<style scoped>\n",
              "    .dataframe tbody tr th:only-of-type {\n",
              "        vertical-align: middle;\n",
              "    }\n",
              "\n",
              "    .dataframe tbody tr th {\n",
              "        vertical-align: top;\n",
              "    }\n",
              "\n",
              "    .dataframe thead th {\n",
              "        text-align: right;\n",
              "    }\n",
              "</style>\n",
              "<table border=\"1\" class=\"dataframe\">\n",
              "  <thead>\n",
              "    <tr style=\"text-align: right;\">\n",
              "      <th></th>\n",
              "      <th>total_sales</th>\n",
              "    </tr>\n",
              "    <tr>\n",
              "      <th>platform</th>\n",
              "      <th></th>\n",
              "    </tr>\n",
              "  </thead>\n",
              "  <tbody>\n",
              "    <tr>\n",
              "      <th>PS2</th>\n",
              "      <td>1233.56</td>\n",
              "    </tr>\n",
              "    <tr>\n",
              "      <th>X360</th>\n",
              "      <td>961.24</td>\n",
              "    </tr>\n",
              "    <tr>\n",
              "      <th>PS3</th>\n",
              "      <td>931.34</td>\n",
              "    </tr>\n",
              "    <tr>\n",
              "      <th>Wii</th>\n",
              "      <td>891.18</td>\n",
              "    </tr>\n",
              "    <tr>\n",
              "      <th>DS</th>\n",
              "      <td>802.78</td>\n",
              "    </tr>\n",
              "    <tr>\n",
              "      <th>PS</th>\n",
              "      <td>727.58</td>\n",
              "    </tr>\n",
              "    <tr>\n",
              "      <th>PS4</th>\n",
              "      <td>314.14</td>\n",
              "    </tr>\n",
              "    <tr>\n",
              "      <th>GBA</th>\n",
              "      <td>312.88</td>\n",
              "    </tr>\n",
              "    <tr>\n",
              "      <th>PSP</th>\n",
              "      <td>289.53</td>\n",
              "    </tr>\n",
              "    <tr>\n",
              "      <th>3DS</th>\n",
              "      <td>257.81</td>\n",
              "    </tr>\n",
              "    <tr>\n",
              "      <th>PC</th>\n",
              "      <td>255.76</td>\n",
              "    </tr>\n",
              "    <tr>\n",
              "      <th>GB</th>\n",
              "      <td>254.43</td>\n",
              "    </tr>\n",
              "    <tr>\n",
              "      <th>XB</th>\n",
              "      <td>251.57</td>\n",
              "    </tr>\n",
              "    <tr>\n",
              "      <th>NES</th>\n",
              "      <td>251.05</td>\n",
              "    </tr>\n",
              "    <tr>\n",
              "      <th>N64</th>\n",
              "      <td>218.01</td>\n",
              "    </tr>\n",
              "    <tr>\n",
              "      <th>SNES</th>\n",
              "      <td>200.04</td>\n",
              "    </tr>\n",
              "    <tr>\n",
              "      <th>GC</th>\n",
              "      <td>196.73</td>\n",
              "    </tr>\n",
              "    <tr>\n",
              "      <th>XOne</th>\n",
              "      <td>159.32</td>\n",
              "    </tr>\n",
              "    <tr>\n",
              "      <th>2600</th>\n",
              "      <td>86.48</td>\n",
              "    </tr>\n",
              "    <tr>\n",
              "      <th>WiiU</th>\n",
              "      <td>82.19</td>\n",
              "    </tr>\n",
              "    <tr>\n",
              "      <th>PSV</th>\n",
              "      <td>53.81</td>\n",
              "    </tr>\n",
              "    <tr>\n",
              "      <th>SAT</th>\n",
              "      <td>33.59</td>\n",
              "    </tr>\n",
              "    <tr>\n",
              "      <th>GEN</th>\n",
              "      <td>28.35</td>\n",
              "    </tr>\n",
              "    <tr>\n",
              "      <th>DC</th>\n",
              "      <td>15.95</td>\n",
              "    </tr>\n",
              "    <tr>\n",
              "      <th>SCD</th>\n",
              "      <td>1.86</td>\n",
              "    </tr>\n",
              "    <tr>\n",
              "      <th>NG</th>\n",
              "      <td>1.44</td>\n",
              "    </tr>\n",
              "    <tr>\n",
              "      <th>WS</th>\n",
              "      <td>1.42</td>\n",
              "    </tr>\n",
              "    <tr>\n",
              "      <th>TG16</th>\n",
              "      <td>0.16</td>\n",
              "    </tr>\n",
              "    <tr>\n",
              "      <th>3DO</th>\n",
              "      <td>0.10</td>\n",
              "    </tr>\n",
              "    <tr>\n",
              "      <th>GG</th>\n",
              "      <td>0.04</td>\n",
              "    </tr>\n",
              "    <tr>\n",
              "      <th>PCFX</th>\n",
              "      <td>0.03</td>\n",
              "    </tr>\n",
              "  </tbody>\n",
              "</table>\n",
              "</div>"
            ],
            "text/plain": [
              "          total_sales\n",
              "platform             \n",
              "PS2           1233.56\n",
              "X360           961.24\n",
              "PS3            931.34\n",
              "Wii            891.18\n",
              "DS             802.78\n",
              "PS             727.58\n",
              "PS4            314.14\n",
              "GBA            312.88\n",
              "PSP            289.53\n",
              "3DS            257.81\n",
              "PC             255.76\n",
              "GB             254.43\n",
              "XB             251.57\n",
              "NES            251.05\n",
              "N64            218.01\n",
              "SNES           200.04\n",
              "GC             196.73\n",
              "XOne           159.32\n",
              "2600            86.48\n",
              "WiiU            82.19\n",
              "PSV             53.81\n",
              "SAT             33.59\n",
              "GEN             28.35\n",
              "DC              15.95\n",
              "SCD              1.86\n",
              "NG               1.44\n",
              "WS               1.42\n",
              "TG16             0.16\n",
              "3DO              0.10\n",
              "GG               0.04\n",
              "PCFX             0.03"
            ]
          },
          "execution_count": 30,
          "metadata": {},
          "output_type": "execute_result"
        }
      ],
      "source": [
        "#выберем самые продаваемые платформы\n",
        "\n",
        "platform_pivot = data_no_score.pivot_table(index='platform',values='total_sales',aggfunc = 'sum')\n",
        "platform_pivot.sort_values('total_sales',ascending=False).plot(kind='bar',grid=True,figsize=(15,5))\n",
        "plt.show()\n",
        "platform_pivot.sort_values('total_sales',ascending=False)"
      ]
    },
    {
      "cell_type": "markdown",
      "id": "2f740724",
      "metadata": {
        "id": "2f740724"
      },
      "source": [
        "График показывает, что самыми попылярными платформами являются: `PS2`, `X360(он же Xbox360)`, `PS3`, `Wii` и `DS`.\n",
        "При этом, `PS4`, `Xbox ONE`, `WiiU` и `P`C(как я понимаю, это ПК) на общем графике показывают слабые результаты.\n",
        "Здравый смысл подсказывает, что промежутокс 2000 по 2016 год - слишком велик.\n",
        "Та же `DS` уже не актуальна - поддержка прекращена в 2013 году. А значит и планировать 2017 год на эту приставку не целеообразно."
      ]
    },
    {
      "cell_type": "markdown",
      "id": "d4270a81",
      "metadata": {
        "id": "d4270a81"
      },
      "source": [
        "Дабы подтвердить теорию, предлагаю взять все приставки  и посмотреть на каждую из них через года"
      ]
    },
    {
      "cell_type": "code",
      "execution_count": null,
      "id": "c29c5a59",
      "metadata": {
        "scrolled": false,
        "id": "c29c5a59",
        "outputId": "30c4fa64-3869-4945-cc2b-5352fc6cf15c"
      },
      "outputs": [
        {
          "data": {
            "image/png": "[encoded data removed]",
            "text/plain": [
              "<Figure size 576x216 with 1 Axes>"
            ]
          },
          "metadata": {
            "needs_background": "light"
          },
          "output_type": "display_data"
        },
        {
          "data": {
            "image/png": "[encoded data removed]",
            "text/plain": [
              "<Figure size 576x216 with 1 Axes>"
            ]
          },
          "metadata": {
            "needs_background": "light"
          },
          "output_type": "display_data"
        },
        {
          "data": {
            "image/png": "[encoded data removed]",
            "text/plain": [
              "<Figure size 576x216 with 1 Axes>"
            ]
          },
          "metadata": {
            "needs_background": "light"
          },
          "output_type": "display_data"
        },
        {
          "data": {
            "image/png": "[encoded data removed]",
            "text/plain": [
              "<Figure size 576x216 with 1 Axes>"
            ]
          },
          "metadata": {
            "needs_background": "light"
          },
          "output_type": "display_data"
        },
        {
          "data": {
            "image/png": "[encoded data removed]",
            "text/plain": [
              "<Figure size 576x216 with 1 Axes>"
            ]
          },
          "metadata": {
            "needs_background": "light"
          },
          "output_type": "display_data"
        },
        {
          "data": {
            "image/png": "[encoded data removed]",
            "text/plain": [
              "<Figure size 576x216 with 1 Axes>"
            ]
          },
          "metadata": {
            "needs_background": "light"
          },
          "output_type": "display_data"
        },
        {
          "data": {
            "image/png": "[encoded data removed]",
            "text/plain": [
              "<Figure size 576x216 with 1 Axes>"
            ]
          },
          "metadata": {
            "needs_background": "light"
          },
          "output_type": "display_data"
        },
        {
          "data": {
            "image/png": "[encoded data removed]",
            "text/plain": [
              "<Figure size 576x216 with 1 Axes>"
            ]
          },
          "metadata": {
            "needs_background": "light"
          },
          "output_type": "display_data"
        },
        {
          "data": {
            "image/png": "[encoded data removed]",
            "text/plain": [
              "<Figure size 576x216 with 1 Axes>"
            ]
          },
          "metadata": {
            "needs_background": "light"
          },
          "output_type": "display_data"
        },
        {
          "data": {
            "image/png": "[encoded data removed]",
            "text/plain": [
              "<Figure size 576x216 with 1 Axes>"
            ]
          },
          "metadata": {
            "needs_background": "light"
          },
          "output_type": "display_data"
        },
        {
          "data": {
            "image/png": "[encoded data removed]",
            "text/plain": [
              "<Figure size 576x216 with 1 Axes>"
            ]
          },
          "metadata": {
            "needs_background": "light"
          },
          "output_type": "display_data"
        },
        {
          "data": {
            "image/png": "[encoded data removed]",
            "text/plain": [
              "<Figure size 576x216 with 1 Axes>"
            ]
          },
          "metadata": {
            "needs_background": "light"
          },
          "output_type": "display_data"
        },
        {
          "data": {
            "image/png": "[encoded data removed]",
            "text/plain": [
              "<Figure size 576x216 with 1 Axes>"
            ]
          },
          "metadata": {
            "needs_background": "light"
          },
          "output_type": "display_data"
        },
        {
          "data": {
            "image/png": "[encoded data removed]",
            "text/plain": [
              "<Figure size 576x216 with 1 Axes>"
            ]
          },
          "metadata": {
            "needs_background": "light"
          },
          "output_type": "display_data"
        },
        {
          "data": {
            "image/png": "[encoded data removed]",
            "text/plain": [
              "<Figure size 576x216 with 1 Axes>"
            ]
          },
          "metadata": {
            "needs_background": "light"
          },
          "output_type": "display_data"
        },
        {
          "data": {
            "image/png": "[encoded data removed]",
            "text/plain": [
              "<Figure size 576x216 with 1 Axes>"
            ]
          },
          "metadata": {
            "needs_background": "light"
          },
          "output_type": "display_data"
        },
        {
          "data": {
            "image/png": "[encoded data removed]",
            "text/plain": [
              "<Figure size 576x216 with 1 Axes>"
            ]
          },
          "metadata": {
            "needs_background": "light"
          },
          "output_type": "display_data"
        },
        {
          "data": {
            "image/png": "[encoded data removed]",
            "text/plain": [
              "<Figure size 576x216 with 1 Axes>"
            ]
          },
          "metadata": {
            "needs_background": "light"
          },
          "output_type": "display_data"
        },
        {
          "data": {
            "image/png": "[encoded data removed]",
            "text/plain": [
              "<Figure size 576x216 with 1 Axes>"
            ]
          },
          "metadata": {
            "needs_background": "light"
          },
          "output_type": "display_data"
        },
        {
          "data": {
            "image/png": "[encoded data removed]",
            "text/plain": [
              "<Figure size 576x216 with 1 Axes>"
            ]
          },
          "metadata": {
            "needs_background": "light"
          },
          "output_type": "display_data"
        },
        {
          "data": {
            "image/png": "[encoded data removed]",
            "text/plain": [
              "<Figure size 576x216 with 1 Axes>"
            ]
          },
          "metadata": {
            "needs_background": "light"
          },
          "output_type": "display_data"
        },
        {
          "data": {
            "image/png": "[encoded data removed]",
            "text/plain": [
              "<Figure size 576x216 with 1 Axes>"
            ]
          },
          "metadata": {
            "needs_background": "light"
          },
          "output_type": "display_data"
        },
        {
          "data": {
            "image/png": "[encoded data removed]",
            "text/plain": [
              "<Figure size 576x216 with 1 Axes>"
            ]
          },
          "metadata": {
            "needs_background": "light"
          },
          "output_type": "display_data"
        },
        {
          "data": {
            "image/png": "[encoded data removed]",
            "text/plain": [
              "<Figure size 576x216 with 1 Axes>"
            ]
          },
          "metadata": {
            "needs_background": "light"
          },
          "output_type": "display_data"
        },
        {
          "data": {
            "image/png": "[encoded data removed]",
            "text/plain": [
              "<Figure size 576x216 with 1 Axes>"
            ]
          },
          "metadata": {
            "needs_background": "light"
          },
          "output_type": "display_data"
        },
        {
          "data": {
            "image/png": "[encoded data removed]",
            "text/plain": [
              "<Figure size 576x216 with 1 Axes>"
            ]
          },
          "metadata": {
            "needs_background": "light"
          },
          "output_type": "display_data"
        },
        {
          "data": {
            "image/png": "[encoded data removed]",
            "text/plain": [
              "<Figure size 576x216 with 1 Axes>"
            ]
          },
          "metadata": {
            "needs_background": "light"
          },
          "output_type": "display_data"
        },
        {
          "data": {
            "image/png": "[encoded data removed]",
            "text/plain": [
              "<Figure size 576x216 with 1 Axes>"
            ]
          },
          "metadata": {
            "needs_background": "light"
          },
          "output_type": "display_data"
        },
        {
          "data": {
            "image/png": "[encoded data removed]",
            "text/plain": [
              "<Figure size 576x216 with 1 Axes>"
            ]
          },
          "metadata": {
            "needs_background": "light"
          },
          "output_type": "display_data"
        },
        {
          "data": {
            "image/png": "[encoded data removed]",
            "text/plain": [
              "<Figure size 576x216 with 1 Axes>"
            ]
          },
          "metadata": {
            "needs_background": "light"
          },
          "output_type": "display_data"
        },
        {
          "data": {
            "image/png": "[encoded data removed]",
            "text/plain": [
              "<Figure size 576x216 with 1 Axes>"
            ]
          },
          "metadata": {
            "needs_background": "light"
          },
          "output_type": "display_data"
        }
      ],
      "source": [
        "#Создадим список с нужными платформами\n",
        "platforms = list(data_no_score['platform'].unique())\n",
        "\n",
        "\n",
        "#через цикл построим разом все графики\n",
        "for platform in platforms:\n",
        "\n",
        "    data_no_score.loc[data['platform'] == platform]\\\n",
        "        .pivot_table(index='year_of_release', values='total_sales', aggfunc='sum')\\\n",
        "        .plot(kind='bar',title=platform, figsize=(8,3))\n",
        "\n",
        "    plt.show()"
      ]
    },
    {
      "cell_type": "markdown",
      "id": "1a6c22f1",
      "metadata": {
        "id": "1a6c22f1"
      },
      "source": [
        "Что и требовалось доказать"
      ]
    },
    {
      "cell_type": "markdown",
      "id": "bb46cd10",
      "metadata": {
        "id": "bb46cd10"
      },
      "source": [
        "### ВЫВОД\n",
        "\n",
        "- Самым актуальным периодом явлется период с 2014 года - более из ранние годы нет смысла использовать, т.к. Могут внести помехи данные о платформах, которые на текущий год уже не актуальны\n",
        "- Так же в исследования включим PC\n",
        "\n",
        "- Средний срок \"жизни\" приставки(поколения приставки) - 8-10 лет\n",
        "\n",
        "- Потенциально прибыльные платформы - PS4, Xbox One, WiiU, 3DS, PSV и PC. Хоть они и прошли свой пик и продажи пошли на спад( что не факт, учитывая неполноту данных за 2016 год), но  на текущий момент это лидеры. и до выхода приставок следующего поколения они будут чуть ли не единственными приставками на рынке\n"
      ]
    },
    {
      "cell_type": "code",
      "execution_count": null,
      "id": "d55cae59",
      "metadata": {
        "id": "d55cae59"
      },
      "outputs": [],
      "source": [
        "actual_data = data_no_score.query('year_of_release >=2014')"
      ]
    },
    {
      "cell_type": "markdown",
      "id": "8de76ed0",
      "metadata": {
        "id": "8de76ed0"
      },
      "source": [
        "### Построить график «ящик с усами» по глобальным продажам игр в разбивке по платформам. Описать результат."
      ]
    },
    {
      "cell_type": "code",
      "execution_count": null,
      "id": "c803685f",
      "metadata": {
        "id": "c803685f",
        "outputId": "ce1942eb-fd04-407c-df9a-6720df8012fd"
      },
      "outputs": [
        {
          "data": {
            "image/png": "[encoded data removed]",
            "text/plain": [
              "<Figure size 1440x1080 with 1 Axes>"
            ]
          },
          "metadata": {
            "needs_background": "light"
          },
          "output_type": "display_data"
        }
      ],
      "source": [
        "plt.figure(figsize=(20,15))\n",
        "sns.boxplot(data = actual_data, y = 'total_sales', x='platform')\\\n",
        "    .set(\n",
        "        title = 'Продажи по перспективным платформам за 2014-2016 гг',\n",
        "        xlabel = 'Платформы', ylabel = 'Общие продажи',\n",
        "        ylim=(0, 3)\n",
        "        )\n",
        "\n",
        "plt.show()"
      ]
    },
    {
      "cell_type": "code",
      "execution_count": null,
      "id": "70b66376",
      "metadata": {
        "scrolled": true,
        "id": "70b66376",
        "outputId": "87ccb75e-8f7d-4bdc-c1b4-b4e66f43edee"
      },
      "outputs": [
        {
          "data": {
            "text/html": [
              "<div>\n",
              "<style scoped>\n",
              "    .dataframe tbody tr th:only-of-type {\n",
              "        vertical-align: middle;\n",
              "    }\n",
              "\n",
              "    .dataframe tbody tr th {\n",
              "        vertical-align: top;\n",
              "    }\n",
              "\n",
              "    .dataframe thead th {\n",
              "        text-align: right;\n",
              "    }\n",
              "</style>\n",
              "<table border=\"1\" class=\"dataframe\">\n",
              "  <thead>\n",
              "    <tr style=\"text-align: right;\">\n",
              "      <th></th>\n",
              "      <th>mean</th>\n",
              "      <th>median</th>\n",
              "    </tr>\n",
              "    <tr>\n",
              "      <th>platform</th>\n",
              "      <th></th>\n",
              "      <th></th>\n",
              "    </tr>\n",
              "  </thead>\n",
              "  <tbody>\n",
              "    <tr>\n",
              "      <th>XOne</th>\n",
              "      <td>0.615614</td>\n",
              "      <td>0.205</td>\n",
              "    </tr>\n",
              "    <tr>\n",
              "      <th>WiiU</th>\n",
              "      <td>0.588767</td>\n",
              "      <td>0.190</td>\n",
              "    </tr>\n",
              "    <tr>\n",
              "      <th>PS4</th>\n",
              "      <td>0.766356</td>\n",
              "      <td>0.185</td>\n",
              "    </tr>\n",
              "    <tr>\n",
              "      <th>Wii</th>\n",
              "      <td>0.460909</td>\n",
              "      <td>0.180</td>\n",
              "    </tr>\n",
              "    <tr>\n",
              "      <th>X360</th>\n",
              "      <td>0.434414</td>\n",
              "      <td>0.180</td>\n",
              "    </tr>\n",
              "    <tr>\n",
              "      <th>PS3</th>\n",
              "      <td>0.311324</td>\n",
              "      <td>0.110</td>\n",
              "    </tr>\n",
              "    <tr>\n",
              "      <th>3DS</th>\n",
              "      <td>0.408868</td>\n",
              "      <td>0.090</td>\n",
              "    </tr>\n",
              "    <tr>\n",
              "      <th>PC</th>\n",
              "      <td>0.179139</td>\n",
              "      <td>0.060</td>\n",
              "    </tr>\n",
              "    <tr>\n",
              "      <th>PSV</th>\n",
              "      <td>0.075932</td>\n",
              "      <td>0.040</td>\n",
              "    </tr>\n",
              "    <tr>\n",
              "      <th>PSP</th>\n",
              "      <td>0.027692</td>\n",
              "      <td>0.020</td>\n",
              "    </tr>\n",
              "  </tbody>\n",
              "</table>\n",
              "</div>"
            ],
            "text/plain": [
              "              mean  median\n",
              "platform                  \n",
              "XOne      0.615614   0.205\n",
              "WiiU      0.588767   0.190\n",
              "PS4       0.766356   0.185\n",
              "Wii       0.460909   0.180\n",
              "X360      0.434414   0.180\n",
              "PS3       0.311324   0.110\n",
              "3DS       0.408868   0.090\n",
              "PC        0.179139   0.060\n",
              "PSV       0.075932   0.040\n",
              "PSP       0.027692   0.020"
            ]
          },
          "execution_count": 37,
          "metadata": {},
          "output_type": "execute_result"
        }
      ],
      "source": [
        "#Посмотрим на средние и медианные значения\n",
        "\n",
        "sales_pivot = actual_data.pivot_table(index='platform',values='total_sales',aggfunc = ['mean','median'])\n",
        "sales_pivot.columns = ['mean','median']\n",
        "sales_pivot.sort_values(by=['median'],ascending=False)"
      ]
    },
    {
      "cell_type": "markdown",
      "id": "df15617d",
      "metadata": {
        "id": "df15617d"
      },
      "source": [
        "### ВЫВОД\n",
        "\n",
        "Что график, что сводная таблица, говорит о ранее высказанной теории - тройка платформ - PS4, Xbox One и WiiU и их предыдущие поколения - лидеры на на 2016 год. Не смотря на спад продаж.\n",
        "Так же хорошие продажи у 3DS.\n",
        "Средние показатели продаж и медианы у них выше, чем у остальных платформ.\n",
        "В дальнейших иследованиях нам нужны топ 5 популярных платформ - мы воьмем  и PC\n"
      ]
    },
    {
      "cell_type": "markdown",
      "id": "f78abefe",
      "metadata": {
        "id": "f78abefe"
      },
      "source": [
        "### Посмотреть, как влияют на продажи внутри одной популярной платформы отзывы пользователей и критиков. Построить диаграмму рассеяния и посчитать корреляцию между отзывами и продажами. Сформулировать выводы."
      ]
    },
    {
      "cell_type": "markdown",
      "id": "0db564a4",
      "metadata": {
        "id": "0db564a4"
      },
      "source": [
        "Тут мы вспоминаем о первоначальной таблице. С одной поправкой - сохраним в ней данные с 2014 года\n"
      ]
    },
    {
      "cell_type": "code",
      "execution_count": null,
      "id": "80818bae",
      "metadata": {
        "id": "80818bae"
      },
      "outputs": [],
      "source": [
        "data = data.query('year_of_release >=2014')"
      ]
    },
    {
      "cell_type": "code",
      "execution_count": null,
      "id": "2f7417fc",
      "metadata": {
        "id": "2f7417fc",
        "outputId": "d5277a28-55cd-4065-b69f-6e96faf2b6f8"
      },
      "outputs": [
        {
          "name": "stdout",
          "output_type": "stream",
          "text": [
            "<class 'pandas.core.frame.DataFrame'>\n",
            "Int64Index: 1689 entries, 31 to 16714\n",
            "Data columns (total 12 columns):\n",
            " #   Column           Non-Null Count  Dtype  \n",
            "---  ------           --------------  -----  \n",
            " 0   name             1689 non-null   object \n",
            " 1   platform         1689 non-null   object \n",
            " 2   year_of_release  1689 non-null   int64  \n",
            " 3   genre            1689 non-null   object \n",
            " 4   na_sales         1689 non-null   float64\n",
            " 5   eu_sales         1689 non-null   float64\n",
            " 6   jp_sales         1689 non-null   float64\n",
            " 7   other_sales      1689 non-null   float64\n",
            " 8   critic_score     718 non-null    float64\n",
            " 9   user_score       888 non-null    float64\n",
            " 10  rating           1689 non-null   object \n",
            " 11  total_sales      1689 non-null   float64\n",
            "dtypes: float64(7), int64(1), object(4)\n",
            "memory usage: 171.5+ KB\n"
          ]
        }
      ],
      "source": [
        "data.info()"
      ]
    },
    {
      "cell_type": "code",
      "execution_count": null,
      "id": "f75dc80a",
      "metadata": {
        "id": "f75dc80a"
      },
      "outputs": [],
      "source": [
        "ps4_data = data.query('platform == \"PS4\"')"
      ]
    },
    {
      "cell_type": "markdown",
      "id": "58db8b76",
      "metadata": {
        "id": "58db8b76"
      },
      "source": [
        "**ПОСМОТРИМ НА ЗАВИСИМОСТЬ ПРОДАЖ PS4 ОТ ОТЗЫВОВ**"
      ]
    },
    {
      "cell_type": "code",
      "execution_count": null,
      "id": "7ef94478",
      "metadata": {
        "id": "7ef94478"
      },
      "outputs": [],
      "source": [
        "#Напишем функцию для для построения графиков и подсчета корреляции\n",
        "\n",
        "def make_graphic(data):\n",
        "\n",
        "\n",
        "    data.plot(kind='scatter', x='critic_score', y='total_sales',figsize=(7,3))\n",
        "    plt.show()\n",
        "    data.plot(kind='scatter', x='user_score', y='total_sales',figsize=(7,3))\n",
        "    plt.show()\n",
        "    try:\n",
        "        print(data['total_sales'].corr(data['critic_score']))\n",
        "        print(data['total_sales'].corr(data['user_score']))\n",
        "    except:\n",
        "        print('строки и числа не корелируются')"
      ]
    },
    {
      "cell_type": "code",
      "execution_count": null,
      "id": "d4a5ad78",
      "metadata": {
        "scrolled": false,
        "id": "d4a5ad78",
        "outputId": "5f4a707b-3845-4c45-8aa7-1869b2a14eb3"
      },
      "outputs": [
        {
          "data": {
            "image/png": "[encoded data removed]",
            "text/plain": [
              "<Figure size 504x216 with 1 Axes>"
            ]
          },
          "metadata": {
            "needs_background": "light"
          },
          "output_type": "display_data"
        },
        {
          "data": {
            "image/png": "[encoded data removed]",
            "text/plain": [
              "<Figure size 504x216 with 1 Axes>"
            ]
          },
          "metadata": {
            "needs_background": "light"
          },
          "output_type": "display_data"
        },
        {
          "name": "stdout",
          "output_type": "stream",
          "text": [
            "0.40266141068104083\n",
            "-0.040131589472697356\n"
          ]
        }
      ],
      "source": [
        "make_graphic(ps4_data)"
      ]
    },
    {
      "cell_type": "markdown",
      "id": "52418596",
      "metadata": {
        "id": "52418596"
      },
      "source": [
        "**ВЫВОД**\n",
        "\n",
        "Что отзывы критиков, что отзывы пользователей на продажи не влияют."
      ]
    },
    {
      "cell_type": "markdown",
      "id": "6a911477",
      "metadata": {
        "id": "6a911477"
      },
      "source": [
        "**ПОСМОТРИМ НА ЗАВИСИМОСТЬ ПРОДАЖ Xbox ONE ОТ ОТЗЫВОВ**"
      ]
    },
    {
      "cell_type": "code",
      "execution_count": null,
      "id": "9f23e956",
      "metadata": {
        "id": "9f23e956"
      },
      "outputs": [],
      "source": [
        "xbox1_data = data.query('platform == \"XOne\"')"
      ]
    },
    {
      "cell_type": "code",
      "execution_count": null,
      "id": "b8ce3ce2",
      "metadata": {
        "scrolled": false,
        "id": "b8ce3ce2",
        "outputId": "f2da979d-a849-44ec-b8c7-30aaa5397291"
      },
      "outputs": [
        {
          "data": {
            "image/png": "[encoded data removed]",
            "text/plain": [
              "<Figure size 504x216 with 1 Axes>"
            ]
          },
          "metadata": {
            "needs_background": "light"
          },
          "output_type": "display_data"
        },
        {
          "data": {
            "image/png": "[encoded data removed]",
            "text/plain": [
              "<Figure size 504x216 with 1 Axes>"
            ]
          },
          "metadata": {
            "needs_background": "light"
          },
          "output_type": "display_data"
        },
        {
          "name": "stdout",
          "output_type": "stream",
          "text": [
            "0.42867694370333226\n",
            "-0.0703839280647581\n"
          ]
        }
      ],
      "source": [
        "make_graphic(xbox1_data)"
      ]
    },
    {
      "cell_type": "markdown",
      "id": "1eea1778",
      "metadata": {
        "id": "1eea1778"
      },
      "source": [
        "**ВЫВОД**\n",
        "\n",
        "C Xbox'ом та же ситуация, что и с PS4 - отзывы на продажи не влияют"
      ]
    },
    {
      "cell_type": "markdown",
      "id": "ba126e0c",
      "metadata": {
        "id": "ba126e0c"
      },
      "source": [
        "**ПОСМОТРИМ НА ЗАВИСИМОСТЬ ПРОДАЖ WiiU ОТ ОТЗЫВОВ**"
      ]
    },
    {
      "cell_type": "code",
      "execution_count": null,
      "id": "43b1fbd4",
      "metadata": {
        "id": "43b1fbd4"
      },
      "outputs": [],
      "source": [
        "WiiU_data = data.query('platform == \"WiiU\"')"
      ]
    },
    {
      "cell_type": "code",
      "execution_count": null,
      "id": "f0ce9420",
      "metadata": {
        "id": "f0ce9420",
        "outputId": "c20ad8b1-073b-41ed-dc2a-ff82ec6ca821"
      },
      "outputs": [
        {
          "data": {
            "image/png": "[encoded data removed]",
            "text/plain": [
              "<Figure size 504x216 with 1 Axes>"
            ]
          },
          "metadata": {
            "needs_background": "light"
          },
          "output_type": "display_data"
        },
        {
          "data": {
            "image/png": "[encoded data removed]",
            "text/plain": [
              "<Figure size 504x216 with 1 Axes>"
            ]
          },
          "metadata": {
            "needs_background": "light"
          },
          "output_type": "display_data"
        },
        {
          "name": "stdout",
          "output_type": "stream",
          "text": [
            "0.370201412480884\n",
            "0.4079264579217078\n"
          ]
        }
      ],
      "source": [
        "make_graphic(WiiU_data)"
      ]
    },
    {
      "cell_type": "markdown",
      "id": "d1de1b6c",
      "metadata": {
        "id": "d1de1b6c"
      },
      "source": [
        "**ВЫВОД**\n",
        "\n",
        "И здесь похожая ситуация. Отзывы не имеют практически никакого значения"
      ]
    },
    {
      "cell_type": "markdown",
      "id": "1ccc4208",
      "metadata": {
        "id": "1ccc4208"
      },
      "source": [
        "**ПОСМОТРИМ НА ЗАВИСИМОСТЬ ПРОДАЖ PS3 ОТ ОТЗЫВОВ**"
      ]
    },
    {
      "cell_type": "code",
      "execution_count": null,
      "id": "4261fec4",
      "metadata": {
        "id": "4261fec4"
      },
      "outputs": [],
      "source": [
        "ps3_data = data.query('platform ==\"PS3\"')"
      ]
    },
    {
      "cell_type": "code",
      "execution_count": null,
      "id": "2aa1d772",
      "metadata": {
        "id": "2aa1d772",
        "outputId": "3d3be859-e917-4ab7-dfd9-644c6ca1368c"
      },
      "outputs": [
        {
          "data": {
            "image/png": "[encoded data removed]",
            "text/plain": [
              "<Figure size 504x216 with 1 Axes>"
            ]
          },
          "metadata": {
            "needs_background": "light"
          },
          "output_type": "display_data"
        },
        {
          "data": {
            "image/png": "[encoded data removed]",
            "text/plain": [
              "<Figure size 504x216 with 1 Axes>"
            ]
          },
          "metadata": {
            "needs_background": "light"
          },
          "output_type": "display_data"
        },
        {
          "name": "stdout",
          "output_type": "stream",
          "text": [
            "0.44657460493190704\n",
            "-0.16676141347662116\n"
          ]
        }
      ],
      "source": [
        "make_graphic(ps3_data)"
      ]
    },
    {
      "cell_type": "markdown",
      "id": "69af4f7a",
      "metadata": {
        "id": "69af4f7a"
      },
      "source": [
        "**ВЫВОД**\n",
        "\n",
        "Тут слишком мало данных для проверки корреляции"
      ]
    },
    {
      "cell_type": "markdown",
      "id": "33c22d64",
      "metadata": {
        "id": "33c22d64"
      },
      "source": [
        "**ПОСМОТРИМ НА ЗАВИСИМОСТЬ ПРОДАЖ Xbox 360 ОТ ОТЗЫВОВ**"
      ]
    },
    {
      "cell_type": "code",
      "execution_count": null,
      "id": "fc2925d7",
      "metadata": {
        "id": "fc2925d7"
      },
      "outputs": [],
      "source": [
        "x360_data = data.query('platform == \"X360\"')"
      ]
    },
    {
      "cell_type": "code",
      "execution_count": null,
      "id": "5bfb5c2b",
      "metadata": {
        "id": "5bfb5c2b",
        "outputId": "e0c853a9-5088-4278-a752-c39cc5f1d340"
      },
      "outputs": [
        {
          "data": {
            "image/png": "[encoded data removed]",
            "text/plain": [
              "<Figure size 504x216 with 1 Axes>"
            ]
          },
          "metadata": {
            "needs_background": "light"
          },
          "output_type": "display_data"
        },
        {
          "data": {
            "image/png": "[encoded data removed]",
            "text/plain": [
              "<Figure size 504x216 with 1 Axes>"
            ]
          },
          "metadata": {
            "needs_background": "light"
          },
          "output_type": "display_data"
        },
        {
          "name": "stdout",
          "output_type": "stream",
          "text": [
            "0.5257228356581523\n",
            "-0.138444570945665\n"
          ]
        }
      ],
      "source": [
        "make_graphic(x360_data)"
      ]
    },
    {
      "cell_type": "markdown",
      "id": "930d49bd",
      "metadata": {
        "id": "930d49bd"
      },
      "source": [
        "**ПОСМОТРИМ НА ЗАВИСИМОСТЬ ПРОДАЖ Wii ОТ ОТЗЫВОВ**"
      ]
    },
    {
      "cell_type": "code",
      "execution_count": null,
      "id": "75bc7e20",
      "metadata": {
        "id": "75bc7e20"
      },
      "outputs": [],
      "source": [
        "three_ds_data = data.query('platform == \"Wii\"')"
      ]
    },
    {
      "cell_type": "code",
      "execution_count": null,
      "id": "83bd7937",
      "metadata": {
        "id": "83bd7937",
        "outputId": "ae31c7f9-3db4-402b-ad17-3561248fb101"
      },
      "outputs": [
        {
          "data": {
            "image/png": "[encoded data removed]",
            "text/plain": [
              "<Figure size 504x216 with 1 Axes>"
            ]
          },
          "metadata": {
            "needs_background": "light"
          },
          "output_type": "display_data"
        },
        {
          "data": {
            "image/png": "[encoded data removed]",
            "text/plain": [
              "<Figure size 504x216 with 1 Axes>"
            ]
          },
          "metadata": {
            "needs_background": "light"
          },
          "output_type": "display_data"
        },
        {
          "name": "stdout",
          "output_type": "stream",
          "text": [
            "nan\n",
            "1.0\n"
          ]
        }
      ],
      "source": [
        "make_graphic(three_ds_data)"
      ]
    },
    {
      "cell_type": "markdown",
      "id": "44a8bc68",
      "metadata": {
        "id": "44a8bc68"
      },
      "source": [
        "**ВЫВОД**\n",
        "\n",
        "Построенные граффики и расчеты корреляции говорят о том, что, на удивление, отзывы критиков и пользователей не оказывают значимого эффекта на продажи игр"
      ]
    },
    {
      "cell_type": "markdown",
      "id": "fc3151d3",
      "metadata": {
        "id": "fc3151d3"
      },
      "source": [
        "### ОБЩИЙ ВЫВОД\n",
        "\n",
        "Построенные граффики и расчеты корреляции говорят о том, что, на удивление, отзывы критиков и пользователей не оказывают значимого эффекта на продажи игр"
      ]
    },
    {
      "cell_type": "markdown",
      "id": "4e229fc4",
      "metadata": {
        "id": "4e229fc4"
      },
      "source": [
        "### Посмотреть на общее распределение игр по жанрам. Вопрос - Что можно сказать о самых прибыльных жанрах? Выделяются ли жанры с высокими и низкими продажами?"
      ]
    },
    {
      "cell_type": "code",
      "execution_count": null,
      "id": "a51d145b",
      "metadata": {
        "scrolled": false,
        "id": "a51d145b",
        "outputId": "08929fa6-a70c-4755-85e3-7db126846980"
      },
      "outputs": [
        {
          "data": {
            "image/png": "[encoded data removed]",
            "text/plain": [
              "<Figure size 1080x360 with 1 Axes>"
            ]
          },
          "metadata": {
            "needs_background": "light"
          },
          "output_type": "display_data"
        },
        {
          "data": {
            "text/html": [
              "<div>\n",
              "<style scoped>\n",
              "    .dataframe tbody tr th:only-of-type {\n",
              "        vertical-align: middle;\n",
              "    }\n",
              "\n",
              "    .dataframe tbody tr th {\n",
              "        vertical-align: top;\n",
              "    }\n",
              "\n",
              "    .dataframe thead th {\n",
              "        text-align: right;\n",
              "    }\n",
              "</style>\n",
              "<table border=\"1\" class=\"dataframe\">\n",
              "  <thead>\n",
              "    <tr style=\"text-align: right;\">\n",
              "      <th></th>\n",
              "      <th>sum</th>\n",
              "      <th>median</th>\n",
              "      <th>mean</th>\n",
              "    </tr>\n",
              "    <tr>\n",
              "      <th>genre</th>\n",
              "      <th></th>\n",
              "      <th></th>\n",
              "      <th></th>\n",
              "    </tr>\n",
              "  </thead>\n",
              "  <tbody>\n",
              "    <tr>\n",
              "      <th>Shooter</th>\n",
              "      <td>170.94</td>\n",
              "      <td>0.515</td>\n",
              "      <td>1.335469</td>\n",
              "    </tr>\n",
              "    <tr>\n",
              "      <th>Sports</th>\n",
              "      <td>109.48</td>\n",
              "      <td>0.180</td>\n",
              "      <td>0.680000</td>\n",
              "    </tr>\n",
              "    <tr>\n",
              "      <th>Platform</th>\n",
              "      <td>18.09</td>\n",
              "      <td>0.140</td>\n",
              "      <td>0.476053</td>\n",
              "    </tr>\n",
              "    <tr>\n",
              "      <th>Fighting</th>\n",
              "      <td>28.22</td>\n",
              "      <td>0.125</td>\n",
              "      <td>0.470333</td>\n",
              "    </tr>\n",
              "    <tr>\n",
              "      <th>Role-Playing</th>\n",
              "      <td>101.44</td>\n",
              "      <td>0.110</td>\n",
              "      <td>0.459005</td>\n",
              "    </tr>\n",
              "    <tr>\n",
              "      <th>Racing</th>\n",
              "      <td>27.52</td>\n",
              "      <td>0.090</td>\n",
              "      <td>0.398841</td>\n",
              "    </tr>\n",
              "    <tr>\n",
              "      <th>Misc</th>\n",
              "      <td>37.55</td>\n",
              "      <td>0.090</td>\n",
              "      <td>0.332301</td>\n",
              "    </tr>\n",
              "    <tr>\n",
              "      <th>Action</th>\n",
              "      <td>199.36</td>\n",
              "      <td>0.090</td>\n",
              "      <td>0.322068</td>\n",
              "    </tr>\n",
              "    <tr>\n",
              "      <th>Simulation</th>\n",
              "      <td>13.13</td>\n",
              "      <td>0.100</td>\n",
              "      <td>0.298409</td>\n",
              "    </tr>\n",
              "    <tr>\n",
              "      <th>Puzzle</th>\n",
              "      <td>2.21</td>\n",
              "      <td>0.045</td>\n",
              "      <td>0.157857</td>\n",
              "    </tr>\n",
              "    <tr>\n",
              "      <th>Strategy</th>\n",
              "      <td>3.96</td>\n",
              "      <td>0.060</td>\n",
              "      <td>0.107027</td>\n",
              "    </tr>\n",
              "    <tr>\n",
              "      <th>Adventure</th>\n",
              "      <td>17.55</td>\n",
              "      <td>0.030</td>\n",
              "      <td>0.094865</td>\n",
              "    </tr>\n",
              "  </tbody>\n",
              "</table>\n",
              "</div>"
            ],
            "text/plain": [
              "                 sum  median      mean\n",
              "genre                                 \n",
              "Shooter       170.94   0.515  1.335469\n",
              "Sports        109.48   0.180  0.680000\n",
              "Platform       18.09   0.140  0.476053\n",
              "Fighting       28.22   0.125  0.470333\n",
              "Role-Playing  101.44   0.110  0.459005\n",
              "Racing         27.52   0.090  0.398841\n",
              "Misc           37.55   0.090  0.332301\n",
              "Action        199.36   0.090  0.322068\n",
              "Simulation     13.13   0.100  0.298409\n",
              "Puzzle          2.21   0.045  0.157857\n",
              "Strategy        3.96   0.060  0.107027\n",
              "Adventure      17.55   0.030  0.094865"
            ]
          },
          "execution_count": 58,
          "metadata": {},
          "output_type": "execute_result"
        }
      ],
      "source": [
        "genre_pivot = actual_data.pivot_table(index='genre',values='total_sales', aggfunc=['sum','median','mean'])\n",
        "genre_pivot.columns = ['sum','median','mean']\n",
        "genre_pivot.sort_values('sum',ascending=False).plot(kind='bar',grid=True,figsize=(15,5))\n",
        "plt.show()\n",
        "genre_pivot.sort_values('mean',ascending=False)"
      ]
    },
    {
      "cell_type": "markdown",
      "id": "a545ddd1",
      "metadata": {
        "id": "a545ddd1"
      },
      "source": [
        "### Вывод\n",
        "\n",
        "\n",
        "\n",
        "Из графика и таблицы видно, что самыми интересными жанрами являются:\n",
        "- `Action` - 199 млн\n",
        "- `Shooter` - 170 млн\n",
        "- `Sports` - 110млн\n",
        "- `Role-Playing`- более 100 млн.\n",
        "\n",
        "далее следуют жанры с примерно одинаковыми суммарными продажами Misc, Racing, Fighting, Platform, Adventure, Simulation (около 20 млн.)\n",
        "\n",
        "При этом видно, что медианные показатели сильно отличаются - оно и понятно. Индустрия такова, что прибыль всегда уходит какой-нибудь популярной игре, вне зависимости от ее жанра.\n",
        "\n",
        "И если же судить по средней цене , то рейинг следующий:\n",
        "\n",
        "- `Shooter`\n",
        "- `Sports`\n",
        "- `Platform`\n",
        "- `Fighting`\n",
        "- `Role-Playing`\n",
        "\n"
      ]
    },
    {
      "cell_type": "markdown",
      "id": "3001812d",
      "metadata": {
        "id": "3001812d"
      },
      "source": [
        "## Составить портрет пользователя каждого региона\n",
        "\n",
        "Определите для пользователя каждого региона (NA, EU, JP):\n",
        "\n",
        " - Самые популярные платформы (топ-5). Опишите различия в долях продаж.\n",
        "\n",
        " - Самые популярные жанры (топ-5). Поясните разницу.\n",
        "\n",
        " - Влияет ли рейтинг ESRB на продажи в отдельном регионе?"
      ]
    },
    {
      "cell_type": "code",
      "execution_count": null,
      "id": "0698f78d",
      "metadata": {
        "scrolled": false,
        "id": "0698f78d",
        "outputId": "8ee16866-9d81-4708-d5d5-3c87a686e400"
      },
      "outputs": [
        {
          "data": {
            "image/png": "[encoded data removed]",
            "text/plain": [
              "<Figure size 864x576 with 1 Axes>"
            ]
          },
          "metadata": {
            "needs_background": "light"
          },
          "output_type": "display_data"
        },
        {
          "name": "stdout",
          "output_type": "stream",
          "text": [
            "  platform  american_user  europe_user  japan_user   Total\n",
            "3      PS4          98.61       130.04       15.02  243.67\n",
            "9     XOne          81.27        46.25        0.32  127.84\n",
            "8     X360          28.30        15.49        0.08   43.87\n",
            "0      3DS          22.64        16.12       44.24   83.00\n",
            "2      PS3          22.05        25.54       11.22   58.81\n",
            "7     WiiU          19.36        13.15        7.31   39.82\n",
            "1       PC           7.23        17.97        0.00   25.20\n",
            "5      PSV           2.52         3.53       14.54   20.59\n",
            "6      Wii           2.08         2.59        0.00    4.67\n",
            "4      PSP           0.00         0.00        0.36    0.36\n"
          ]
        }
      ],
      "source": [
        "# сумма проданных копий для Северной Америки по платформам\n",
        "na_platform = data.groupby(['platform'])['na_sales'].agg(['sum'])\n",
        "\n",
        "# сумма проданных копий для Европы по платформам\n",
        "eu_platform = data.groupby(['platform'])['eu_sales'].agg(['sum'])\n",
        "\n",
        "# сумма проданных копий для Японии по платформам\n",
        "jp_platform= data.groupby(['platform'])['jp_sales'].agg(['sum'])\n",
        "\n",
        "# объединяем таблицs\n",
        "\n",
        "users_platform = pd.concat([na_platform, eu_platform, jp_platform], axis=1).reset_index()\n",
        "\n",
        "users_platform.columns = ['platform', 'american_user', 'europe_user', 'japan_user']\n",
        "\n",
        "users_platform = users_platform.sort_values(by='american_user', ascending=False)\n",
        "\n",
        "users_platform['Total'] = users_platform['american_user'] + users_platform['europe_user'] + users_platform['japan_user']\n",
        "\n",
        "# строим bar plot\n",
        "\n",
        "users_platform.plot.bar(x=\"platform\", rot=0, figsize =(12, 8))\n",
        "plt.title('Сравнение популярности платформ в разных странах', fontsize=14)\n",
        "plt.xlabel('Платформы', fontsize=10)\n",
        "plt.ylabel('Продажи, млн шт',fontsize=12)\n",
        "plt.show()\n",
        "\n",
        "\n",
        "#выводим сводную таблицу\n",
        "print(users_platform)\n"
      ]
    },
    {
      "cell_type": "markdown",
      "id": "240370ad",
      "metadata": {
        "id": "240370ad"
      },
      "source": [
        "**ВЫВОД**\n",
        "\n",
        "\n",
        "Из графика и таблицы видно:\n",
        "\n",
        "- Чаще всего приставки и игры покупаю жители Северной Америки - почти 180 млн. покупок за 3 года\n",
        "- на втором месте европейцы - примерно 160 млн. продаж\n",
        "- японцы - 35 миллионов (их и самих немного)\n",
        "- самая популярная приставка у американцев - PS4, затем  Xbox ONE  и Xbox 360\n",
        "- Самая популярная приставка у европейцев - также PS4, следом Xbox ONE и PS3\n",
        "- Самая популярная приставка у японцев - 3DS, следом PS4 и  WiiU\n",
        "- В совокупности, ярким лидером является PS4. Далее Xbox ONE  и 3DS\n"
      ]
    },
    {
      "cell_type": "code",
      "execution_count": null,
      "id": "b3883e7e",
      "metadata": {
        "scrolled": false,
        "id": "b3883e7e",
        "outputId": "d9ed39c3-5eef-4ca2-d69a-d94a21f3fb4a"
      },
      "outputs": [
        {
          "data": {
            "image/png": "[encoded data removed]",
            "text/plain": [
              "<Figure size 864x576 with 1 Axes>"
            ]
          },
          "metadata": {
            "needs_background": "light"
          },
          "output_type": "display_data"
        },
        {
          "name": "stdout",
          "output_type": "stream",
          "text": [
            "           genre  american_user  europe_user  japan_user   Total\n",
            "8        Shooter          79.02        65.52        4.87  149.41\n",
            "0         Action          72.53        74.68       29.58  176.79\n",
            "10        Sports          46.13        45.73        3.26   95.12\n",
            "7   Role-Playing          33.47        28.17       31.16   92.80\n",
            "3           Misc          15.05        12.86        5.61   33.52\n",
            "2       Fighting          12.43         6.69        6.37   25.49\n",
            "6         Racing           8.74        14.13        1.76   24.63\n",
            "4       Platform           6.79         6.80        2.69   16.28\n",
            "1      Adventure           5.64         6.49        3.60   15.73\n",
            "9     Simulation           2.63         7.30        2.31   12.24\n",
            "11      Strategy           0.98         1.79        0.95    3.72\n",
            "5         Puzzle           0.65         0.52        0.93    2.10\n"
          ]
        }
      ],
      "source": [
        "# сумма проданных копий для Северной Америки по жанрам\n",
        "na_genre = actual_data.groupby(['genre'])['na_sales'].agg(['sum'])\n",
        "\n",
        "# сумма проданных копий для Европы по платформам\n",
        "eu_genre = actual_data.groupby(['genre'])['eu_sales'].agg(['sum'])\n",
        "\n",
        "# сумма проданных копий для Японии по платформам\n",
        "jp_genre = actual_data.groupby(['genre'])['jp_sales'].agg(['sum'])\n",
        "\n",
        "# объединяем таблиц\n",
        "\n",
        "users_genre = pd.concat([na_genre, eu_genre, jp_genre], axis=1).reset_index()\n",
        "\n",
        "users_genre.columns = ['genre', 'american_user', 'europe_user', 'japan_user']\n",
        "\n",
        "users_genre = users_genre.sort_values(by='american_user', ascending=False)\n",
        "\n",
        "users_genre['Total'] = users_genre['american_user'] + users_genre['europe_user'] + users_genre['japan_user']\n",
        "\n",
        "# строим bar plot\n",
        "\n",
        "users_genre.plot.bar(x=\"genre\", rot=0, figsize =(12, 8))\n",
        "plt.title('Сравнение популярности жанров в разных странах', fontsize=14)\n",
        "plt.xlabel('Жанры', fontsize=10)\n",
        "plt.ylabel('Продажи, млн шт',fontsize=12)\n",
        "plt.show()\n",
        "\n",
        "\n",
        "\n",
        "print(users_genre)"
      ]
    },
    {
      "cell_type": "markdown",
      "id": "bdec95f9",
      "metadata": {
        "id": "bdec95f9"
      },
      "source": [
        "**ВЫВОД**\n",
        "\n",
        "- Самый поплярный жанр во всех регионах - Shooter\n",
        "- В Америке и Европе вкусы схожи - следом за Shooter идут Action, Sports, Misc и Fighting\n",
        "- В Японии же Role-Playing на первом месте, далее Action, Shooter, Fighting и Platform  \n",
        "- По совокупной сумме так же лидирует Shooter - 114 млн.\n",
        "  Следом идут Action и Sports c небольшой разницей друг с другом.\n",
        "  Role-Playing не сильно  отстает от тройки лидеров - 45 млн покупок\n",
        "  Закрывает пятерку Fighting с 18 млн копий"
      ]
    },
    {
      "cell_type": "code",
      "execution_count": null,
      "id": "e8f94d65",
      "metadata": {
        "id": "e8f94d65",
        "outputId": "a89fa87c-7074-4a87-fd51-e9edb4d3a16e"
      },
      "outputs": [
        {
          "data": {
            "image/png": "[encoded data removed]",
            "text/plain": [
              "<Figure size 864x576 with 1 Axes>"
            ]
          },
          "metadata": {
            "needs_background": "light"
          },
          "output_type": "display_data"
        },
        {
          "name": "stdout",
          "output_type": "stream",
          "text": [
            "    rating  american_user  europe_user  japan_user   Total\n",
            "2        M          96.42        93.44        8.01  197.87\n",
            "4  Unknown          64.72        58.95       56.90  180.57\n",
            "0        E          50.74        58.06        8.94  117.74\n",
            "3        T          38.95        34.07       14.78   87.80\n",
            "1     E10+          33.23        26.16        4.46   63.85\n"
          ]
        }
      ],
      "source": [
        "# сумма проданных копий для Северной Америки по платформам\n",
        "na_rating = data.groupby(['rating'])['na_sales'].agg(['sum'])\n",
        "\n",
        "# сумма проданных копий для Европы по платформам\n",
        "eu_rating = data.groupby(['rating'])['eu_sales'].agg(['sum'])\n",
        "\n",
        "# сумма проданных копий для Японии по платформам\n",
        "jp_rating= data.groupby(['rating'])['jp_sales'].agg(['sum'])\n",
        "\n",
        "# объединяем таблицs\n",
        "\n",
        "users_rating = pd.concat([na_rating, eu_rating, jp_rating], axis=1).reset_index()\n",
        "\n",
        "users_rating.columns = ['rating', 'american_user', 'europe_user', 'japan_user']\n",
        "\n",
        "users_rating = users_rating.sort_values(by='american_user', ascending=False)\n",
        "\n",
        "users_rating['Total'] = users_rating['american_user'] + users_rating['europe_user'] + users_rating['japan_user']\n",
        "\n",
        "# строим bar plot\n",
        "\n",
        "users_rating.plot.bar(x=\"rating\", rot=0, figsize =(12, 8))\n",
        "plt.title('Сравнение популярности рейтингов в разных странах', fontsize=14)\n",
        "plt.xlabel('Рейтинг', fontsize=10)\n",
        "plt.ylabel('Продажи, млн шт',fontsize=12)\n",
        "plt.show()\n",
        "\n",
        "\n",
        "#выводим сводную таблицу\n",
        "print(users_rating)"
      ]
    },
    {
      "cell_type": "code",
      "execution_count": null,
      "id": "b7dd4660",
      "metadata": {
        "id": "b7dd4660"
      },
      "outputs": [],
      "source": [
        "data.info()"
      ]
    },
    {
      "cell_type": "markdown",
      "id": "9e6b2ec5",
      "metadata": {
        "id": "9e6b2ec5"
      },
      "source": [
        "**ВЫВОД**\n",
        "\n",
        "- Чаще всего покупают игры рейтинга М - почти 200 млн.\n",
        "- Далее игры без рейтинга -  180 млн. копий на три региона\n",
        "- категория Е - 118 млн.\n",
        "- Рейтинг Т - 88 млн\n",
        "- Рейтинг Е10+  - 64 млн.\n",
        "\n",
        "По регионам картина следующая:\n",
        "\n",
        "- В Америке и Европе предпочтения в рейтинге игр схож - М, Е, без рейтинга, Т, Е10+\n",
        "- В Японии же картина отличается - в Японии не любт себя ограничивать, потому игры без рейтинга покупают больше, чем остальные игры в совокупности"
      ]
    },
    {
      "cell_type": "markdown",
      "id": "a00f460a",
      "metadata": {
        "id": "a00f460a"
      },
      "source": [
        "### Общий вывод\n",
        "\n",
        "Предпочтения пользователей Америки и Европы во многом схожи:\n",
        "- самыми популярными платформами являются Xbox ONE и PS4\n",
        "- Любимые жанры - Shooter и Action, игры с рейтингом М\n",
        "Предпочтения пользователей из Японии немного отличаются:\n",
        "- самой популярной платформой являются 3Ds, PS4 и Xbox One\n",
        "- любимые жанры - Role-Playing и Action и игры без рейтинга."
      ]
    },
    {
      "cell_type": "markdown",
      "id": "25435cf9",
      "metadata": {
        "id": "25435cf9"
      },
      "source": [
        "## 5 Проверка гипотез\n",
        "\n",
        "\n",
        "- Средние пользовательские рейтинги платформ Xbox One и PC одинаковые;\n",
        "- Средние пользовательские рейтинги жанров Action (англ. «действие», экшен-игры) и Sports (англ. «спортивные соревнования») разные"
      ]
    },
    {
      "cell_type": "markdown",
      "id": "2f8f1619",
      "metadata": {
        "id": "2f8f1619"
      },
      "source": [
        "**Нулевая гипотеза** - Средние пользовательские рейтинги платформ Xbox One и PC равны\n",
        "\n",
        "**Альтернативная гипотеза** - Средние пользовательские рейтинги платформ Xbox One и PC не  равны"
      ]
    },
    {
      "cell_type": "code",
      "execution_count": null,
      "id": "5f04be18",
      "metadata": {
        "id": "5f04be18"
      },
      "outputs": [],
      "source": [
        "#Удалим из data['user_score'] пропуски\n",
        "\n",
        "data = data.dropna(subset=['user_score'])"
      ]
    },
    {
      "cell_type": "code",
      "execution_count": null,
      "id": "6f1a4433",
      "metadata": {
        "scrolled": true,
        "id": "6f1a4433"
      },
      "outputs": [],
      "source": [
        "# Составим список значений по Xbox One и PC\n",
        "xbox_score = list(data[data['platform'] == 'XOne']['user_score'])\n",
        "\n",
        "\n",
        "pc_score = list(data[data['platform'] == 'PC']['user_score'])\n",
        "\n",
        "results = st.ttest_ind(xbox_score,pc_score)\n",
        "\n",
        "alpha = 0.05\n",
        "print('p-значение:', results.pvalue)\n",
        "\n",
        "if results.pvalue < alpha:\n",
        "    print('Отвергаем нулеую гипотезу')\n",
        "else:\n",
        "    print('Не получилось отвергнуть нулевую гипотезу')\n",
        ""
      ]
    },
    {
      "cell_type": "markdown",
      "id": "826d4031",
      "metadata": {
        "id": "826d4031"
      },
      "source": [
        "**Вывод**: p-значение: 0.10450507919348415\n",
        "\n",
        "\n",
        "P-значение больше значения alpha, что дает основание принять предположение о равности  средних пользовательских рейтингов платформ Xbox One и PC"
      ]
    },
    {
      "cell_type": "markdown",
      "id": "a2114629",
      "metadata": {
        "id": "a2114629"
      },
      "source": [
        ""
      ]
    },
    {
      "cell_type": "markdown",
      "id": "372a1427",
      "metadata": {
        "id": "372a1427"
      },
      "source": [
        ""
      ]
    },
    {
      "cell_type": "markdown",
      "id": "fb579024",
      "metadata": {
        "id": "fb579024"
      },
      "source": [
        "**Нулевая гипотеза** - Средние пользовательские рейтинги жанров Action (англ. «действие», экшен-игры) и Sports (англ. «спортивные соревнования») равны\n",
        "\n",
        "**Альтернативная гипотеза** - Средние пользовательские рейтинги жанров Action (англ. «действие», экшен-игры) и Sports (англ. «спортивные соревнования») разные"
      ]
    },
    {
      "cell_type": "code",
      "execution_count": null,
      "id": "722c2c9f",
      "metadata": {
        "id": "722c2c9f"
      },
      "outputs": [],
      "source": [
        "action_score = list(data[data['genre']=='Action']['user_score'])\n",
        "sports_score = list(data[data['genre']=='Sports']['user_score'])\n",
        "\n",
        "results = st.ttest_ind(action_score,sports_score)\n",
        "\n",
        "alpha = 0.05\n",
        "print('p-значение:', results.pvalue)\n",
        "\n",
        "if results.pvalue < alpha:\n",
        "    print('Отвергаем нулеую гипотезу')\n",
        "else:\n",
        "    print('Не получилось отвергнуть нулевую гипотезу')"
      ]
    },
    {
      "cell_type": "markdown",
      "id": "e4ccd9d5",
      "metadata": {
        "id": "e4ccd9d5"
      },
      "source": [
        "**Вывод**: p-значение: 2.8711147985105864e-19\n",
        "\n",
        "Нулевой теорией мы указали равность средних и отвергли ее, следовательно гипотеза о равности средних пользовательских рейтингов Action (англ. «действие», экшен-игры) и Sports (англ. «спортивные соревнования») разные"
      ]
    },
    {
      "cell_type": "markdown",
      "id": "4581c355",
      "metadata": {
        "id": "4581c355"
      },
      "source": [
        "# Итоговый вывод"
      ]
    },
    {
      "cell_type": "markdown",
      "id": "8b5b5999",
      "metadata": {
        "id": "8b5b5999"
      },
      "source": [
        "## В ходе выполнения проекта были пройдены следущие шаги:"
      ]
    },
    {
      "cell_type": "markdown",
      "id": "da420c3d",
      "metadata": {
        "id": "da420c3d"
      },
      "source": [
        "###  Предобработка данных\n",
        "\n",
        "\n",
        "- Поправили названия столбцов.\n",
        "\n",
        "- Удалили пропуски\n",
        "\n",
        "- Разделили данные на две таблицы:\n",
        "\n",
        "    первоначальная data - хранить всю информацию\n",
        "    \n",
        "    data_no_score - данные без столбцов рейтинга и отзывов\n",
        "    \n",
        "- добавили столбец total_sales с информацией о суммарных продажах по регионам"
      ]
    },
    {
      "cell_type": "markdown",
      "id": "8f2f8a40",
      "metadata": {
        "id": "8f2f8a40"
      },
      "source": [
        "### Исследовательский анализ\n",
        "\n",
        "- Посчитали, сколько игр выпускалось в разные годы.\n",
        "\n",
        "- Проверили, как менялись продажи по платформам.\n",
        "\n",
        "- Выбрали платформы с наибольшими суммарными продажами и построить распределение по годам.\n",
        "\n",
        "- Взять данные за соответствующий актуальный период и отбросили лишние данные\n",
        "\n",
        "- Выберали несколько потенциально прибыльных платформ.\n",
        "\n",
        "- Построили график «ящик с усами» по глобальным продажам игр в разбивке по платформам. Описали результат.\n",
        "\n",
        "- Проверили, как влияют на продажи внутри одной популярной платформы отзывы пользователей и критиков.\n",
        "\n",
        "- Построилт диаграмму рассеяния и посчитали корреляцию между отзывами и продажами.\n",
        "\n",
        "- Соотнесли выводы с продажами игр на других платформах.\n",
        "\n",
        "- Оценили на общее распределение игр по жанрам.\n",
        "\n",
        "\n",
        "**ВЫВОДЫ**\n",
        "\n",
        "  - Самым актуальным периодом явлется период с 2014 года - более из ранние годы нет смысла использовать, т.к. могут внести помехи данные о платформах, которые на текущий год уже не актуальны.\n",
        "  - Средний срок \"жизни\" приставки(поколения приставки) - 8-10 лет.\n",
        "  - Потенциально прибыльные платформы - PS4, Xbox One, WiiU, 3DS, PSV и PC. Хоть они и прошли свой пик и продажи пошли на спад, но на текущий момент это лидеры. и до выхода приставок следующего поколения они будут чуть ли не единственными приставками на рынке\n",
        "  - Тройка платформ - PS4, Xbox One и WiiU и их предыдущие поколения - лидеры на на 2016 год. Не смотря на спад продаж.\n",
        "  - На удивление, отзывы критиков и пользователей не оказывают значимого эффекта на продажи игр\n",
        "  - Самыми интересными жанрами являются:\n",
        "\n",
        "        Action - 199 млн\n",
        "\n",
        "        Shooter - 170 млн\n",
        "\n",
        "        Sports - 110млн\n",
        "\n",
        "        Role-Playing- более 100 млн.\n",
        "\n",
        "далее следуют жанры с примерно одинаковыми суммарными продажами Misc, Racing, Fighting, Platform, Adventure, Simulation (около 20 млн.)\n",
        "\n",
        "Предпочтения пользователей Америки и Европы во многом схожи:\n",
        "- самыми популярными платформами являются Xbox 360 и PS3\n",
        "- Любимые жанры - Shooter и Action, игры с рейтингом М\n",
        "\n",
        "Предпочтения пользователей из Японии немного отличаются:\n",
        "- самой популярной платформой являются PS3 и Wii\n",
        "- любимые жанры - Role-Playing и Action и игры с рейтингом Е."
      ]
    },
    {
      "cell_type": "markdown",
      "id": "1c610a27",
      "metadata": {
        "id": "1c610a27"
      },
      "source": [
        "### Проверили гипотезы\n",
        "\n",
        "Средние пользовательские рейтинги платформ Xbox One и PC одинаковые - **гипотеза подтвердилась**\n",
        "\n",
        "Средние пользовательские рейтинги жанров Action и Sports разные - **гипотеза подтвердилась**\n",
        "\n"
      ]
    },
    {
      "cell_type": "markdown",
      "id": "2ffa5356",
      "metadata": {
        "id": "2ffa5356"
      },
      "source": [
        "<div style=\"border:solid Chocolate 2px; padding: 40px\">\n",
        "\n",
        "<h2> Общий вывод по проекту <a class=\"tocSkip\"> </h2>\n",
        "\n",
        "Спасибо за твой проект! Проделана большая работа, и видно твое внимательное отношение к содержанию анализа и к оформлению. Ты молодец! Практически все ключевые этапы работы над проектом выполнены, код логичен и понятен, комментарии и выводы написаны, так что в целом справиться с задачей тебе удалось. Возле моментов, на которые стоит обратить внимание, я оставила комментарии.\n",
        "    \n",
        "**Отдельно хочу отметить положительные моменты в твоей работе:**\n",
        "    \n",
        "* На всех этапах тобой предложены интересные решения и методы для их реализации.\n",
        "* Ты грамотно используешь визуализацию. Это здорово, т.к. помогает быстро считать информацию получателю отчета.\n",
        "* Ты грамотно делаешь выводы, на основе полученной информации.\n",
        "    \n",
        "**Моменты, требующие внимания:**\n",
        "\n",
        "\n",
        "* Проверь работоспособность кода.\n",
        "* Стоит оценить прибыльность жанров на основе средних или медианных продаж.\n",
        "* Скорректируй анализ популярности платформ в регионах.\n",
        "* Нужно добавить в оценку влияния вида возрастного рейтинга ESRB на продажи игры, в которых рейтинг не указан, внеси полученные результаты в вывод.\n",
        "* И обязательно соотнести итоговый вывод, после учета всех комментариев.\n",
        "* Остальные рекомендации ты найдешь в моих комментариях!    \n",
        "    \n",
        "**Желаю удачи и жду твой проект на повторное ревью!**"
      ]
    }
  ],
  "metadata": {
    "ExecuteTimeLog": [
      {
        "duration": 1778,
        "start_time": "2023-02-26T14:15:55.738Z"
      },
      {
        "duration": 22,
        "start_time": "2023-02-26T14:15:57.518Z"
      },
      {
        "duration": 49,
        "start_time": "2023-02-26T14:15:57.543Z"
      },
      {
        "duration": 26,
        "start_time": "2023-02-26T14:15:57.594Z"
      },
      {
        "duration": 29,
        "start_time": "2023-02-26T14:15:57.621Z"
      },
      {
        "duration": 10,
        "start_time": "2023-02-26T14:15:57.652Z"
      },
      {
        "duration": 19,
        "start_time": "2023-02-26T14:15:57.664Z"
      },
      {
        "duration": 30,
        "start_time": "2023-02-26T14:15:57.685Z"
      },
      {
        "duration": 144,
        "start_time": "2023-02-26T14:15:57.717Z"
      },
      {
        "duration": 0,
        "start_time": "2023-02-26T14:15:57.866Z"
      },
      {
        "duration": 0,
        "start_time": "2023-02-26T14:15:57.867Z"
      },
      {
        "duration": 0,
        "start_time": "2023-02-26T14:15:57.869Z"
      },
      {
        "duration": 0,
        "start_time": "2023-02-26T14:15:57.870Z"
      },
      {
        "duration": 0,
        "start_time": "2023-02-26T14:15:57.872Z"
      },
      {
        "duration": 0,
        "start_time": "2023-02-26T14:15:57.873Z"
      },
      {
        "duration": 0,
        "start_time": "2023-02-26T14:15:57.875Z"
      },
      {
        "duration": 0,
        "start_time": "2023-02-26T14:15:57.877Z"
      },
      {
        "duration": 0,
        "start_time": "2023-02-26T14:15:57.879Z"
      },
      {
        "duration": 0,
        "start_time": "2023-02-26T14:15:57.881Z"
      },
      {
        "duration": 0,
        "start_time": "2023-02-26T14:15:57.882Z"
      },
      {
        "duration": 1,
        "start_time": "2023-02-26T14:15:57.883Z"
      },
      {
        "duration": 0,
        "start_time": "2023-02-26T14:15:57.885Z"
      },
      {
        "duration": 0,
        "start_time": "2023-02-26T14:15:57.887Z"
      },
      {
        "duration": 0,
        "start_time": "2023-02-26T14:15:57.888Z"
      },
      {
        "duration": 0,
        "start_time": "2023-02-26T14:15:57.890Z"
      },
      {
        "duration": 0,
        "start_time": "2023-02-26T14:15:57.891Z"
      },
      {
        "duration": 0,
        "start_time": "2023-02-26T14:15:57.893Z"
      },
      {
        "duration": 0,
        "start_time": "2023-02-26T14:15:57.937Z"
      },
      {
        "duration": 0,
        "start_time": "2023-02-26T14:15:57.940Z"
      },
      {
        "duration": 0,
        "start_time": "2023-02-26T14:15:57.942Z"
      },
      {
        "duration": 0,
        "start_time": "2023-02-26T14:15:57.943Z"
      },
      {
        "duration": 0,
        "start_time": "2023-02-26T14:15:57.944Z"
      },
      {
        "duration": 0,
        "start_time": "2023-02-26T14:15:57.947Z"
      },
      {
        "duration": 0,
        "start_time": "2023-02-26T14:15:57.948Z"
      },
      {
        "duration": 0,
        "start_time": "2023-02-26T14:15:57.949Z"
      },
      {
        "duration": 0,
        "start_time": "2023-02-26T14:15:57.950Z"
      },
      {
        "duration": 0,
        "start_time": "2023-02-26T14:15:57.951Z"
      },
      {
        "duration": 0,
        "start_time": "2023-02-26T14:15:57.952Z"
      },
      {
        "duration": 0,
        "start_time": "2023-02-26T14:15:57.952Z"
      },
      {
        "duration": 0,
        "start_time": "2023-02-26T14:15:57.953Z"
      },
      {
        "duration": 0,
        "start_time": "2023-02-26T14:15:57.954Z"
      },
      {
        "duration": 0,
        "start_time": "2023-02-26T14:15:57.956Z"
      },
      {
        "duration": 0,
        "start_time": "2023-02-26T14:15:57.957Z"
      },
      {
        "duration": 0,
        "start_time": "2023-02-26T14:15:57.959Z"
      },
      {
        "duration": 0,
        "start_time": "2023-02-26T14:15:57.960Z"
      },
      {
        "duration": 10,
        "start_time": "2023-02-26T14:16:21.617Z"
      },
      {
        "duration": 13,
        "start_time": "2023-02-26T14:17:03.718Z"
      },
      {
        "duration": 14,
        "start_time": "2023-02-26T14:17:55.480Z"
      },
      {
        "duration": 15,
        "start_time": "2023-02-26T14:18:27.182Z"
      },
      {
        "duration": 12,
        "start_time": "2023-02-26T14:18:55.920Z"
      },
      {
        "duration": 18,
        "start_time": "2023-02-26T14:19:01.282Z"
      },
      {
        "duration": 12,
        "start_time": "2023-02-26T14:27:30.247Z"
      },
      {
        "duration": 10,
        "start_time": "2023-02-26T14:27:39.741Z"
      },
      {
        "duration": 24,
        "start_time": "2023-02-26T14:30:52.951Z"
      },
      {
        "duration": 10,
        "start_time": "2023-02-26T14:31:07.367Z"
      },
      {
        "duration": 23,
        "start_time": "2023-02-26T14:31:08.952Z"
      },
      {
        "duration": 6,
        "start_time": "2023-02-26T14:31:11.473Z"
      },
      {
        "duration": 12,
        "start_time": "2023-02-26T14:31:16.447Z"
      },
      {
        "duration": 14,
        "start_time": "2023-02-26T14:31:16.461Z"
      },
      {
        "duration": 9,
        "start_time": "2023-02-26T14:31:16.479Z"
      },
      {
        "duration": 8,
        "start_time": "2023-02-26T14:31:16.490Z"
      },
      {
        "duration": 5,
        "start_time": "2023-02-26T14:31:30.246Z"
      },
      {
        "duration": 31,
        "start_time": "2023-02-26T14:31:30.254Z"
      },
      {
        "duration": 17,
        "start_time": "2023-02-26T14:31:30.287Z"
      },
      {
        "duration": 26,
        "start_time": "2023-02-26T14:31:30.306Z"
      },
      {
        "duration": 27,
        "start_time": "2023-02-26T14:31:30.334Z"
      },
      {
        "duration": 233,
        "start_time": "2023-02-26T14:31:30.363Z"
      },
      {
        "duration": 5,
        "start_time": "2023-02-26T14:31:30.598Z"
      },
      {
        "duration": 365,
        "start_time": "2023-02-26T14:31:30.606Z"
      },
      {
        "duration": 5759,
        "start_time": "2023-02-26T14:31:30.973Z"
      },
      {
        "duration": 8,
        "start_time": "2023-02-26T14:31:36.737Z"
      },
      {
        "duration": 382,
        "start_time": "2023-02-26T14:31:36.748Z"
      },
      {
        "duration": 27,
        "start_time": "2023-02-26T14:31:37.139Z"
      },
      {
        "duration": 8,
        "start_time": "2023-02-26T14:31:37.168Z"
      },
      {
        "duration": 16,
        "start_time": "2023-02-26T14:31:37.178Z"
      },
      {
        "duration": 6,
        "start_time": "2023-02-26T14:31:37.196Z"
      },
      {
        "duration": 9,
        "start_time": "2023-02-26T14:31:37.203Z"
      },
      {
        "duration": 325,
        "start_time": "2023-02-26T14:31:37.214Z"
      },
      {
        "duration": 6,
        "start_time": "2023-02-26T14:31:37.541Z"
      },
      {
        "duration": 319,
        "start_time": "2023-02-26T14:31:37.548Z"
      },
      {
        "duration": 5,
        "start_time": "2023-02-26T14:31:37.869Z"
      },
      {
        "duration": 418,
        "start_time": "2023-02-26T14:31:37.876Z"
      },
      {
        "duration": 6,
        "start_time": "2023-02-26T14:31:38.296Z"
      },
      {
        "duration": 292,
        "start_time": "2023-02-26T14:31:38.306Z"
      },
      {
        "duration": 6,
        "start_time": "2023-02-26T14:31:38.600Z"
      },
      {
        "duration": 277,
        "start_time": "2023-02-26T14:31:38.607Z"
      },
      {
        "duration": 6,
        "start_time": "2023-02-26T14:31:38.886Z"
      },
      {
        "duration": 317,
        "start_time": "2023-02-26T14:31:38.893Z"
      },
      {
        "duration": 253,
        "start_time": "2023-02-26T14:31:39.212Z"
      },
      {
        "duration": 5,
        "start_time": "2023-02-26T14:31:43.088Z"
      },
      {
        "duration": 1294,
        "start_time": "2023-02-26T14:35:34.538Z"
      },
      {
        "duration": 27,
        "start_time": "2023-02-26T14:35:35.835Z"
      },
      {
        "duration": 18,
        "start_time": "2023-02-26T14:35:35.863Z"
      },
      {
        "duration": 10,
        "start_time": "2023-02-26T14:35:35.883Z"
      },
      {
        "duration": 21,
        "start_time": "2023-02-26T14:35:35.895Z"
      },
      {
        "duration": 7,
        "start_time": "2023-02-26T14:35:35.937Z"
      },
      {
        "duration": 62,
        "start_time": "2023-02-26T14:35:35.946Z"
      },
      {
        "duration": 59,
        "start_time": "2023-02-26T14:35:36.010Z"
      },
      {
        "duration": 133,
        "start_time": "2023-02-26T14:35:36.071Z"
      },
      {
        "duration": 0,
        "start_time": "2023-02-26T14:35:36.207Z"
      },
      {
        "duration": 0,
        "start_time": "2023-02-26T14:35:36.209Z"
      },
      {
        "duration": 0,
        "start_time": "2023-02-26T14:35:36.210Z"
      },
      {
        "duration": 0,
        "start_time": "2023-02-26T14:35:36.211Z"
      },
      {
        "duration": 0,
        "start_time": "2023-02-26T14:35:36.212Z"
      },
      {
        "duration": 0,
        "start_time": "2023-02-26T14:35:36.214Z"
      },
      {
        "duration": 0,
        "start_time": "2023-02-26T14:35:36.215Z"
      },
      {
        "duration": 0,
        "start_time": "2023-02-26T14:35:36.216Z"
      },
      {
        "duration": 0,
        "start_time": "2023-02-26T14:35:36.217Z"
      },
      {
        "duration": 0,
        "start_time": "2023-02-26T14:35:36.218Z"
      },
      {
        "duration": 0,
        "start_time": "2023-02-26T14:35:36.219Z"
      },
      {
        "duration": 0,
        "start_time": "2023-02-26T14:35:36.238Z"
      },
      {
        "duration": 0,
        "start_time": "2023-02-26T14:35:36.240Z"
      },
      {
        "duration": 0,
        "start_time": "2023-02-26T14:35:36.241Z"
      },
      {
        "duration": 0,
        "start_time": "2023-02-26T14:35:36.243Z"
      },
      {
        "duration": 0,
        "start_time": "2023-02-26T14:35:36.244Z"
      },
      {
        "duration": 0,
        "start_time": "2023-02-26T14:35:36.246Z"
      },
      {
        "duration": 0,
        "start_time": "2023-02-26T14:35:36.247Z"
      },
      {
        "duration": 0,
        "start_time": "2023-02-26T14:35:36.248Z"
      },
      {
        "duration": 0,
        "start_time": "2023-02-26T14:35:36.250Z"
      },
      {
        "duration": 0,
        "start_time": "2023-02-26T14:35:36.251Z"
      },
      {
        "duration": 0,
        "start_time": "2023-02-26T14:35:36.252Z"
      },
      {
        "duration": 0,
        "start_time": "2023-02-26T14:35:36.254Z"
      },
      {
        "duration": 0,
        "start_time": "2023-02-26T14:35:36.255Z"
      },
      {
        "duration": 0,
        "start_time": "2023-02-26T14:35:36.256Z"
      },
      {
        "duration": 0,
        "start_time": "2023-02-26T14:35:36.258Z"
      },
      {
        "duration": 0,
        "start_time": "2023-02-26T14:35:36.259Z"
      },
      {
        "duration": 0,
        "start_time": "2023-02-26T14:35:36.260Z"
      },
      {
        "duration": 0,
        "start_time": "2023-02-26T14:35:36.261Z"
      },
      {
        "duration": 0,
        "start_time": "2023-02-26T14:35:36.262Z"
      },
      {
        "duration": 0,
        "start_time": "2023-02-26T14:35:36.263Z"
      },
      {
        "duration": 0,
        "start_time": "2023-02-26T14:35:36.264Z"
      },
      {
        "duration": 0,
        "start_time": "2023-02-26T14:35:36.265Z"
      },
      {
        "duration": 0,
        "start_time": "2023-02-26T14:35:36.266Z"
      },
      {
        "duration": 0,
        "start_time": "2023-02-26T14:35:36.267Z"
      },
      {
        "duration": 0,
        "start_time": "2023-02-26T14:35:36.268Z"
      },
      {
        "duration": 0,
        "start_time": "2023-02-26T14:35:36.269Z"
      },
      {
        "duration": 0,
        "start_time": "2023-02-26T14:35:36.270Z"
      },
      {
        "duration": 0,
        "start_time": "2023-02-26T14:35:36.272Z"
      },
      {
        "duration": 0,
        "start_time": "2023-02-26T14:35:36.273Z"
      },
      {
        "duration": 0,
        "start_time": "2023-02-26T14:35:36.274Z"
      },
      {
        "duration": 0,
        "start_time": "2023-02-26T14:35:36.275Z"
      },
      {
        "duration": 0,
        "start_time": "2023-02-26T14:35:36.276Z"
      },
      {
        "duration": 16,
        "start_time": "2023-02-26T14:37:01.421Z"
      },
      {
        "duration": 7,
        "start_time": "2023-02-26T16:02:38.089Z"
      },
      {
        "duration": 46,
        "start_time": "2023-02-26T16:02:42.996Z"
      },
      {
        "duration": 1378,
        "start_time": "2023-02-26T16:02:58.147Z"
      },
      {
        "duration": 21,
        "start_time": "2023-02-26T16:02:59.777Z"
      },
      {
        "duration": 16,
        "start_time": "2023-02-26T16:03:00.839Z"
      },
      {
        "duration": 10,
        "start_time": "2023-02-26T16:03:02.447Z"
      },
      {
        "duration": 16,
        "start_time": "2023-02-26T16:03:04.081Z"
      },
      {
        "duration": 4,
        "start_time": "2023-02-26T16:03:05.141Z"
      },
      {
        "duration": 12,
        "start_time": "2023-02-26T16:03:13.391Z"
      },
      {
        "duration": 11,
        "start_time": "2023-02-26T16:03:34.999Z"
      },
      {
        "duration": 14,
        "start_time": "2023-02-26T16:04:03.865Z"
      },
      {
        "duration": 61,
        "start_time": "2023-02-26T16:04:22.006Z"
      },
      {
        "duration": 15,
        "start_time": "2023-02-26T16:04:27.659Z"
      },
      {
        "duration": 16,
        "start_time": "2023-02-26T16:04:55.944Z"
      },
      {
        "duration": 13,
        "start_time": "2023-02-26T16:05:10.903Z"
      },
      {
        "duration": 5,
        "start_time": "2023-02-26T16:05:11.643Z"
      },
      {
        "duration": 3,
        "start_time": "2023-02-26T16:05:16.096Z"
      },
      {
        "duration": 14,
        "start_time": "2023-02-26T16:05:16.860Z"
      },
      {
        "duration": 8,
        "start_time": "2023-02-26T16:05:18.169Z"
      },
      {
        "duration": 11,
        "start_time": "2023-02-26T16:05:27.217Z"
      },
      {
        "duration": 25,
        "start_time": "2023-02-26T16:05:27.536Z"
      },
      {
        "duration": 17,
        "start_time": "2023-02-26T16:05:38.997Z"
      },
      {
        "duration": 8,
        "start_time": "2023-02-26T16:06:00.242Z"
      },
      {
        "duration": 5,
        "start_time": "2023-02-26T16:07:06.757Z"
      },
      {
        "duration": 8,
        "start_time": "2023-02-26T16:07:07.203Z"
      },
      {
        "duration": 1211,
        "start_time": "2023-02-26T16:07:13.833Z"
      },
      {
        "duration": 21,
        "start_time": "2023-02-26T16:07:15.046Z"
      },
      {
        "duration": 18,
        "start_time": "2023-02-26T16:07:15.068Z"
      },
      {
        "duration": 24,
        "start_time": "2023-02-26T16:07:15.087Z"
      },
      {
        "duration": 17,
        "start_time": "2023-02-26T16:07:15.114Z"
      },
      {
        "duration": 5,
        "start_time": "2023-02-26T16:07:15.133Z"
      },
      {
        "duration": 7,
        "start_time": "2023-02-26T16:07:15.140Z"
      },
      {
        "duration": 27,
        "start_time": "2023-02-26T16:07:15.149Z"
      },
      {
        "duration": 8,
        "start_time": "2023-02-26T16:07:15.200Z"
      },
      {
        "duration": 18,
        "start_time": "2023-02-26T16:07:15.211Z"
      },
      {
        "duration": 23,
        "start_time": "2023-02-26T16:07:15.231Z"
      },
      {
        "duration": 7,
        "start_time": "2023-02-26T16:07:15.255Z"
      },
      {
        "duration": 8,
        "start_time": "2023-02-26T16:07:15.264Z"
      },
      {
        "duration": 28,
        "start_time": "2023-02-26T16:07:15.275Z"
      },
      {
        "duration": 24,
        "start_time": "2023-02-26T16:07:15.306Z"
      },
      {
        "duration": 6,
        "start_time": "2023-02-26T16:07:15.331Z"
      },
      {
        "duration": 10,
        "start_time": "2023-02-26T16:07:15.338Z"
      },
      {
        "duration": 8,
        "start_time": "2023-02-26T16:07:15.350Z"
      },
      {
        "duration": 9,
        "start_time": "2023-02-26T16:07:15.360Z"
      },
      {
        "duration": 30,
        "start_time": "2023-02-26T16:07:15.370Z"
      },
      {
        "duration": 15,
        "start_time": "2023-02-26T16:07:15.402Z"
      },
      {
        "duration": 9,
        "start_time": "2023-02-26T16:07:15.419Z"
      },
      {
        "duration": 217,
        "start_time": "2023-02-26T16:07:15.430Z"
      },
      {
        "duration": 4,
        "start_time": "2023-02-26T16:07:15.649Z"
      },
      {
        "duration": 312,
        "start_time": "2023-02-26T16:07:15.655Z"
      },
      {
        "duration": 4795,
        "start_time": "2023-02-26T16:07:15.969Z"
      },
      {
        "duration": 5,
        "start_time": "2023-02-26T16:07:20.766Z"
      },
      {
        "duration": 320,
        "start_time": "2023-02-26T16:07:20.773Z"
      },
      {
        "duration": 23,
        "start_time": "2023-02-26T16:07:21.095Z"
      },
      {
        "duration": 7,
        "start_time": "2023-02-26T16:07:21.119Z"
      },
      {
        "duration": 8,
        "start_time": "2023-02-26T16:07:21.127Z"
      },
      {
        "duration": 14,
        "start_time": "2023-02-26T16:07:21.136Z"
      },
      {
        "duration": 7,
        "start_time": "2023-02-26T16:07:21.152Z"
      },
      {
        "duration": 275,
        "start_time": "2023-02-26T16:07:21.160Z"
      },
      {
        "duration": 5,
        "start_time": "2023-02-26T16:07:21.437Z"
      },
      {
        "duration": 251,
        "start_time": "2023-02-26T16:07:21.443Z"
      },
      {
        "duration": 5,
        "start_time": "2023-02-26T16:07:21.699Z"
      },
      {
        "duration": 349,
        "start_time": "2023-02-26T16:07:21.705Z"
      },
      {
        "duration": 6,
        "start_time": "2023-02-26T16:07:22.057Z"
      },
      {
        "duration": 274,
        "start_time": "2023-02-26T16:07:22.065Z"
      },
      {
        "duration": 5,
        "start_time": "2023-02-26T16:07:22.343Z"
      },
      {
        "duration": 244,
        "start_time": "2023-02-26T16:07:22.350Z"
      },
      {
        "duration": 5,
        "start_time": "2023-02-26T16:07:22.599Z"
      },
      {
        "duration": 274,
        "start_time": "2023-02-26T16:07:22.606Z"
      },
      {
        "duration": 225,
        "start_time": "2023-02-26T16:07:22.882Z"
      },
      {
        "duration": 5,
        "start_time": "2023-02-26T16:07:23.109Z"
      },
      {
        "duration": 250,
        "start_time": "2023-02-26T16:07:23.116Z"
      },
      {
        "duration": 293,
        "start_time": "2023-02-26T16:07:23.367Z"
      },
      {
        "duration": 344,
        "start_time": "2023-02-26T16:07:23.661Z"
      },
      {
        "duration": 111,
        "start_time": "2023-02-26T16:07:24.006Z"
      },
      {
        "duration": 0,
        "start_time": "2023-02-26T16:07:24.119Z"
      },
      {
        "duration": 0,
        "start_time": "2023-02-26T16:07:24.120Z"
      },
      {
        "duration": 10,
        "start_time": "2023-02-26T16:08:59.054Z"
      },
      {
        "duration": 205,
        "start_time": "2023-02-26T16:09:04.404Z"
      },
      {
        "duration": 5,
        "start_time": "2023-02-26T16:13:15.770Z"
      },
      {
        "duration": 7,
        "start_time": "2023-02-26T16:13:18.047Z"
      },
      {
        "duration": 4,
        "start_time": "2023-02-27T09:41:08.806Z"
      },
      {
        "duration": 5,
        "start_time": "2023-02-27T09:44:00.395Z"
      },
      {
        "duration": 5,
        "start_time": "2023-02-27T09:44:01.863Z"
      },
      {
        "duration": 5,
        "start_time": "2023-02-27T09:44:02.766Z"
      },
      {
        "duration": 8,
        "start_time": "2023-02-27T09:44:03.964Z"
      },
      {
        "duration": 6,
        "start_time": "2023-02-27T09:44:04.415Z"
      },
      {
        "duration": 9,
        "start_time": "2023-02-27T09:44:05.516Z"
      },
      {
        "duration": 6,
        "start_time": "2023-02-27T09:44:06.587Z"
      },
      {
        "duration": 14,
        "start_time": "2023-02-27T09:45:38.772Z"
      },
      {
        "duration": 1173,
        "start_time": "2023-02-27T09:46:18.211Z"
      },
      {
        "duration": 4,
        "start_time": "2023-02-27T09:46:35.460Z"
      },
      {
        "duration": 4,
        "start_time": "2023-02-27T09:47:23.174Z"
      },
      {
        "duration": 7,
        "start_time": "2023-02-27T09:47:23.499Z"
      },
      {
        "duration": 6,
        "start_time": "2023-02-27T09:47:24.204Z"
      },
      {
        "duration": 8,
        "start_time": "2023-02-27T09:47:29.798Z"
      },
      {
        "duration": 5,
        "start_time": "2023-02-27T09:47:30.596Z"
      },
      {
        "duration": 202,
        "start_time": "2023-02-27T09:47:35.008Z"
      },
      {
        "duration": 208,
        "start_time": "2023-02-27T09:48:14.403Z"
      },
      {
        "duration": 1198,
        "start_time": "2023-02-27T09:48:31.962Z"
      },
      {
        "duration": 21,
        "start_time": "2023-02-27T09:48:33.163Z"
      },
      {
        "duration": 15,
        "start_time": "2023-02-27T09:48:33.185Z"
      },
      {
        "duration": 28,
        "start_time": "2023-02-27T09:48:33.202Z"
      },
      {
        "duration": 22,
        "start_time": "2023-02-27T09:48:33.232Z"
      },
      {
        "duration": 7,
        "start_time": "2023-02-27T09:48:33.255Z"
      },
      {
        "duration": 10,
        "start_time": "2023-02-27T09:48:33.263Z"
      },
      {
        "duration": 17,
        "start_time": "2023-02-27T09:48:33.275Z"
      },
      {
        "duration": 23,
        "start_time": "2023-02-27T09:48:33.294Z"
      },
      {
        "duration": 9,
        "start_time": "2023-02-27T09:48:33.320Z"
      },
      {
        "duration": 23,
        "start_time": "2023-02-27T09:48:33.331Z"
      },
      {
        "duration": 6,
        "start_time": "2023-02-27T09:48:33.355Z"
      },
      {
        "duration": 17,
        "start_time": "2023-02-27T09:48:33.363Z"
      },
      {
        "duration": 15,
        "start_time": "2023-02-27T09:48:33.382Z"
      },
      {
        "duration": 21,
        "start_time": "2023-02-27T09:48:33.398Z"
      },
      {
        "duration": 4,
        "start_time": "2023-02-27T09:48:33.420Z"
      },
      {
        "duration": 22,
        "start_time": "2023-02-27T09:48:33.426Z"
      },
      {
        "duration": 29,
        "start_time": "2023-02-27T09:48:33.450Z"
      },
      {
        "duration": 22,
        "start_time": "2023-02-27T09:48:33.481Z"
      },
      {
        "duration": 14,
        "start_time": "2023-02-27T09:48:33.505Z"
      },
      {
        "duration": 10,
        "start_time": "2023-02-27T09:48:33.520Z"
      },
      {
        "duration": 33,
        "start_time": "2023-02-27T09:48:33.532Z"
      },
      {
        "duration": 12,
        "start_time": "2023-02-27T09:48:33.567Z"
      },
      {
        "duration": 200,
        "start_time": "2023-02-27T09:48:33.581Z"
      },
      {
        "duration": 15,
        "start_time": "2023-02-27T09:48:33.783Z"
      },
      {
        "duration": 328,
        "start_time": "2023-02-27T09:48:33.800Z"
      },
      {
        "duration": 4929,
        "start_time": "2023-02-27T09:48:34.129Z"
      },
      {
        "duration": 7,
        "start_time": "2023-02-27T09:48:39.061Z"
      },
      {
        "duration": 329,
        "start_time": "2023-02-27T09:48:39.069Z"
      },
      {
        "duration": 21,
        "start_time": "2023-02-27T09:48:39.400Z"
      },
      {
        "duration": 6,
        "start_time": "2023-02-27T09:48:39.423Z"
      },
      {
        "duration": 11,
        "start_time": "2023-02-27T09:48:39.431Z"
      },
      {
        "duration": 8,
        "start_time": "2023-02-27T09:48:39.444Z"
      },
      {
        "duration": 5,
        "start_time": "2023-02-27T09:48:39.454Z"
      },
      {
        "duration": 278,
        "start_time": "2023-02-27T09:48:39.461Z"
      },
      {
        "duration": 5,
        "start_time": "2023-02-27T09:48:39.741Z"
      },
      {
        "duration": 282,
        "start_time": "2023-02-27T09:48:39.748Z"
      },
      {
        "duration": 5,
        "start_time": "2023-02-27T09:48:40.031Z"
      },
      {
        "duration": 407,
        "start_time": "2023-02-27T09:48:40.038Z"
      },
      {
        "duration": 5,
        "start_time": "2023-02-27T09:48:40.447Z"
      },
      {
        "duration": 245,
        "start_time": "2023-02-27T09:48:40.453Z"
      },
      {
        "duration": 5,
        "start_time": "2023-02-27T09:48:40.699Z"
      },
      {
        "duration": 245,
        "start_time": "2023-02-27T09:48:40.706Z"
      },
      {
        "duration": 5,
        "start_time": "2023-02-27T09:48:40.953Z"
      },
      {
        "duration": 279,
        "start_time": "2023-02-27T09:48:40.959Z"
      },
      {
        "duration": 224,
        "start_time": "2023-02-27T09:48:41.239Z"
      },
      {
        "duration": 5,
        "start_time": "2023-02-27T09:48:41.464Z"
      },
      {
        "duration": 248,
        "start_time": "2023-02-27T09:48:41.471Z"
      },
      {
        "duration": 331,
        "start_time": "2023-02-27T09:48:41.721Z"
      },
      {
        "duration": 334,
        "start_time": "2023-02-27T09:48:42.055Z"
      },
      {
        "duration": 8,
        "start_time": "2023-02-27T09:48:42.391Z"
      },
      {
        "duration": 10,
        "start_time": "2023-02-27T09:48:42.401Z"
      },
      {
        "duration": 9,
        "start_time": "2023-02-27T09:48:42.413Z"
      },
      {
        "duration": 305,
        "start_time": "2023-02-27T09:50:01.117Z"
      },
      {
        "duration": 184,
        "start_time": "2023-02-27T09:50:09.502Z"
      },
      {
        "duration": 2,
        "start_time": "2023-02-27T09:53:13.705Z"
      },
      {
        "duration": 57,
        "start_time": "2023-02-27T09:53:13.969Z"
      },
      {
        "duration": 1111,
        "start_time": "2023-02-27T09:53:37.900Z"
      },
      {
        "duration": 49,
        "start_time": "2023-02-27T09:53:39.013Z"
      },
      {
        "duration": 19,
        "start_time": "2023-02-27T09:53:39.063Z"
      },
      {
        "duration": 16,
        "start_time": "2023-02-27T09:53:39.084Z"
      },
      {
        "duration": 15,
        "start_time": "2023-02-27T09:53:39.102Z"
      },
      {
        "duration": 16,
        "start_time": "2023-02-27T09:53:39.119Z"
      },
      {
        "duration": 5,
        "start_time": "2023-02-27T09:53:39.136Z"
      },
      {
        "duration": 7,
        "start_time": "2023-02-27T09:53:39.143Z"
      },
      {
        "duration": 15,
        "start_time": "2023-02-27T09:53:39.152Z"
      },
      {
        "duration": 32,
        "start_time": "2023-02-27T09:53:39.170Z"
      },
      {
        "duration": 9,
        "start_time": "2023-02-27T09:53:39.204Z"
      },
      {
        "duration": 21,
        "start_time": "2023-02-27T09:53:39.214Z"
      },
      {
        "duration": 9,
        "start_time": "2023-02-27T09:53:39.237Z"
      },
      {
        "duration": 5,
        "start_time": "2023-02-27T09:53:39.247Z"
      },
      {
        "duration": 10,
        "start_time": "2023-02-27T09:53:39.253Z"
      },
      {
        "duration": 58,
        "start_time": "2023-02-27T09:53:39.265Z"
      },
      {
        "duration": 4,
        "start_time": "2023-02-27T09:53:39.325Z"
      },
      {
        "duration": 14,
        "start_time": "2023-02-27T09:53:39.331Z"
      },
      {
        "duration": 23,
        "start_time": "2023-02-27T09:53:39.347Z"
      },
      {
        "duration": 13,
        "start_time": "2023-02-27T09:53:39.372Z"
      },
      {
        "duration": 14,
        "start_time": "2023-02-27T09:53:39.387Z"
      },
      {
        "duration": 7,
        "start_time": "2023-02-27T09:53:39.402Z"
      },
      {
        "duration": 18,
        "start_time": "2023-02-27T09:53:39.411Z"
      },
      {
        "duration": 25,
        "start_time": "2023-02-27T09:53:39.431Z"
      },
      {
        "duration": 301,
        "start_time": "2023-02-27T09:53:39.458Z"
      },
      {
        "duration": 0,
        "start_time": "2023-02-27T09:53:39.762Z"
      },
      {
        "duration": 0,
        "start_time": "2023-02-27T09:53:39.763Z"
      },
      {
        "duration": 0,
        "start_time": "2023-02-27T09:53:39.764Z"
      },
      {
        "duration": 0,
        "start_time": "2023-02-27T09:53:39.766Z"
      },
      {
        "duration": 0,
        "start_time": "2023-02-27T09:53:39.767Z"
      },
      {
        "duration": 0,
        "start_time": "2023-02-27T09:53:39.768Z"
      },
      {
        "duration": 0,
        "start_time": "2023-02-27T09:53:39.769Z"
      },
      {
        "duration": 0,
        "start_time": "2023-02-27T09:53:39.770Z"
      },
      {
        "duration": 0,
        "start_time": "2023-02-27T09:53:39.771Z"
      },
      {
        "duration": 0,
        "start_time": "2023-02-27T09:53:39.772Z"
      },
      {
        "duration": 0,
        "start_time": "2023-02-27T09:53:39.773Z"
      },
      {
        "duration": 0,
        "start_time": "2023-02-27T09:53:39.775Z"
      },
      {
        "duration": 0,
        "start_time": "2023-02-27T09:53:39.799Z"
      },
      {
        "duration": 0,
        "start_time": "2023-02-27T09:53:39.800Z"
      },
      {
        "duration": 0,
        "start_time": "2023-02-27T09:53:39.801Z"
      },
      {
        "duration": 0,
        "start_time": "2023-02-27T09:53:39.802Z"
      },
      {
        "duration": 0,
        "start_time": "2023-02-27T09:53:39.803Z"
      },
      {
        "duration": 0,
        "start_time": "2023-02-27T09:53:39.804Z"
      },
      {
        "duration": 0,
        "start_time": "2023-02-27T09:53:39.805Z"
      },
      {
        "duration": 0,
        "start_time": "2023-02-27T09:53:39.806Z"
      },
      {
        "duration": 0,
        "start_time": "2023-02-27T09:53:39.808Z"
      },
      {
        "duration": 0,
        "start_time": "2023-02-27T09:53:39.808Z"
      },
      {
        "duration": 0,
        "start_time": "2023-02-27T09:53:39.810Z"
      },
      {
        "duration": 0,
        "start_time": "2023-02-27T09:53:39.811Z"
      },
      {
        "duration": 0,
        "start_time": "2023-02-27T09:53:39.812Z"
      },
      {
        "duration": 0,
        "start_time": "2023-02-27T09:53:39.813Z"
      },
      {
        "duration": 0,
        "start_time": "2023-02-27T09:53:39.814Z"
      },
      {
        "duration": 0,
        "start_time": "2023-02-27T09:53:39.815Z"
      },
      {
        "duration": 0,
        "start_time": "2023-02-27T09:53:39.816Z"
      },
      {
        "duration": 171,
        "start_time": "2023-02-27T09:55:17.401Z"
      },
      {
        "duration": 164,
        "start_time": "2023-02-27T09:56:35.253Z"
      },
      {
        "duration": 168,
        "start_time": "2023-02-27T09:57:29.948Z"
      },
      {
        "duration": 165,
        "start_time": "2023-02-27T09:57:35.389Z"
      },
      {
        "duration": 191,
        "start_time": "2023-02-27T09:57:43.965Z"
      },
      {
        "duration": 1204,
        "start_time": "2023-02-27T09:58:39.576Z"
      },
      {
        "duration": 51,
        "start_time": "2023-02-27T09:58:40.782Z"
      },
      {
        "duration": 21,
        "start_time": "2023-02-27T09:58:40.835Z"
      },
      {
        "duration": 14,
        "start_time": "2023-02-27T09:58:40.858Z"
      },
      {
        "duration": 29,
        "start_time": "2023-02-27T09:58:40.874Z"
      },
      {
        "duration": 15,
        "start_time": "2023-02-27T09:58:40.905Z"
      },
      {
        "duration": 4,
        "start_time": "2023-02-27T09:58:40.922Z"
      },
      {
        "duration": 10,
        "start_time": "2023-02-27T09:58:40.928Z"
      },
      {
        "duration": 20,
        "start_time": "2023-02-27T09:58:40.939Z"
      },
      {
        "duration": 7,
        "start_time": "2023-02-27T09:58:40.962Z"
      },
      {
        "duration": 32,
        "start_time": "2023-02-27T09:58:40.971Z"
      },
      {
        "duration": 22,
        "start_time": "2023-02-27T09:58:41.005Z"
      },
      {
        "duration": 14,
        "start_time": "2023-02-27T09:58:41.029Z"
      },
      {
        "duration": 9,
        "start_time": "2023-02-27T09:58:41.045Z"
      },
      {
        "duration": 16,
        "start_time": "2023-02-27T09:58:41.056Z"
      },
      {
        "duration": 35,
        "start_time": "2023-02-27T09:58:41.073Z"
      },
      {
        "duration": 5,
        "start_time": "2023-02-27T09:58:41.110Z"
      },
      {
        "duration": 7,
        "start_time": "2023-02-27T09:58:41.116Z"
      },
      {
        "duration": 8,
        "start_time": "2023-02-27T09:58:41.125Z"
      },
      {
        "duration": 9,
        "start_time": "2023-02-27T09:58:41.135Z"
      },
      {
        "duration": 15,
        "start_time": "2023-02-27T09:58:41.145Z"
      },
      {
        "duration": 6,
        "start_time": "2023-02-27T09:58:41.162Z"
      },
      {
        "duration": 35,
        "start_time": "2023-02-27T09:58:41.169Z"
      },
      {
        "duration": 13,
        "start_time": "2023-02-27T09:58:41.206Z"
      },
      {
        "duration": 186,
        "start_time": "2023-02-27T09:58:41.220Z"
      },
      {
        "duration": 181,
        "start_time": "2023-02-27T09:58:41.408Z"
      },
      {
        "duration": 11,
        "start_time": "2023-02-27T09:58:41.591Z"
      },
      {
        "duration": 335,
        "start_time": "2023-02-27T09:58:41.605Z"
      },
      {
        "duration": 4987,
        "start_time": "2023-02-27T09:58:41.941Z"
      },
      {
        "duration": 6,
        "start_time": "2023-02-27T09:58:46.930Z"
      },
      {
        "duration": 376,
        "start_time": "2023-02-27T09:58:46.938Z"
      },
      {
        "duration": 22,
        "start_time": "2023-02-27T09:58:47.316Z"
      },
      {
        "duration": 8,
        "start_time": "2023-02-27T09:58:47.340Z"
      },
      {
        "duration": 11,
        "start_time": "2023-02-27T09:58:47.349Z"
      },
      {
        "duration": 9,
        "start_time": "2023-02-27T09:58:47.361Z"
      },
      {
        "duration": 27,
        "start_time": "2023-02-27T09:58:47.372Z"
      },
      {
        "duration": 298,
        "start_time": "2023-02-27T09:58:47.401Z"
      },
      {
        "duration": 6,
        "start_time": "2023-02-27T09:58:47.701Z"
      },
      {
        "duration": 314,
        "start_time": "2023-02-27T09:58:47.709Z"
      },
      {
        "duration": 6,
        "start_time": "2023-02-27T09:58:48.025Z"
      },
      {
        "duration": 393,
        "start_time": "2023-02-27T09:58:48.033Z"
      },
      {
        "duration": 6,
        "start_time": "2023-02-27T09:58:48.428Z"
      },
      {
        "duration": 265,
        "start_time": "2023-02-27T09:58:48.436Z"
      },
      {
        "duration": 5,
        "start_time": "2023-02-27T09:58:48.702Z"
      },
      {
        "duration": 262,
        "start_time": "2023-02-27T09:58:48.709Z"
      },
      {
        "duration": 5,
        "start_time": "2023-02-27T09:58:48.973Z"
      },
      {
        "duration": 273,
        "start_time": "2023-02-27T09:58:48.979Z"
      },
      {
        "duration": 232,
        "start_time": "2023-02-27T09:58:49.254Z"
      },
      {
        "duration": 13,
        "start_time": "2023-02-27T09:58:49.487Z"
      },
      {
        "duration": 251,
        "start_time": "2023-02-27T09:58:49.502Z"
      },
      {
        "duration": 401,
        "start_time": "2023-02-27T09:58:49.756Z"
      },
      {
        "duration": 227,
        "start_time": "2023-02-27T09:58:50.159Z"
      },
      {
        "duration": 13,
        "start_time": "2023-02-27T09:58:50.388Z"
      },
      {
        "duration": 9,
        "start_time": "2023-02-27T09:58:50.403Z"
      },
      {
        "duration": 8,
        "start_time": "2023-02-27T09:58:50.414Z"
      },
      {
        "duration": 400,
        "start_time": "2023-02-27T10:01:15.452Z"
      },
      {
        "duration": 132,
        "start_time": "2023-02-27T10:03:37.592Z"
      },
      {
        "duration": 323,
        "start_time": "2023-02-27T10:03:55.998Z"
      },
      {
        "duration": 71,
        "start_time": "2023-02-27T11:22:38.294Z"
      },
      {
        "duration": 29,
        "start_time": "2023-02-27T11:23:39.780Z"
      },
      {
        "duration": 1170,
        "start_time": "2023-02-27T11:23:49.531Z"
      },
      {
        "duration": 47,
        "start_time": "2023-02-27T11:23:50.703Z"
      },
      {
        "duration": 19,
        "start_time": "2023-02-27T11:23:50.752Z"
      },
      {
        "duration": 17,
        "start_time": "2023-02-27T11:23:50.773Z"
      },
      {
        "duration": 16,
        "start_time": "2023-02-27T11:23:50.792Z"
      },
      {
        "duration": 20,
        "start_time": "2023-02-27T11:23:50.810Z"
      },
      {
        "duration": 5,
        "start_time": "2023-02-27T11:23:50.831Z"
      },
      {
        "duration": 54,
        "start_time": "2023-02-27T11:23:50.838Z"
      },
      {
        "duration": 22,
        "start_time": "2023-02-27T11:23:50.894Z"
      },
      {
        "duration": 69,
        "start_time": "2023-02-27T11:23:50.918Z"
      },
      {
        "duration": 58,
        "start_time": "2023-02-27T11:23:50.989Z"
      },
      {
        "duration": 25,
        "start_time": "2023-02-27T11:23:51.048Z"
      },
      {
        "duration": 16,
        "start_time": "2023-02-27T11:23:51.075Z"
      },
      {
        "duration": 20,
        "start_time": "2023-02-27T11:23:51.093Z"
      },
      {
        "duration": 18,
        "start_time": "2023-02-27T11:23:51.115Z"
      },
      {
        "duration": 20,
        "start_time": "2023-02-27T11:23:51.135Z"
      },
      {
        "duration": 5,
        "start_time": "2023-02-27T11:23:51.157Z"
      },
      {
        "duration": 10,
        "start_time": "2023-02-27T11:23:51.164Z"
      },
      {
        "duration": 16,
        "start_time": "2023-02-27T11:23:51.175Z"
      },
      {
        "duration": 13,
        "start_time": "2023-02-27T11:23:51.192Z"
      },
      {
        "duration": 16,
        "start_time": "2023-02-27T11:23:51.207Z"
      },
      {
        "duration": 9,
        "start_time": "2023-02-27T11:23:51.225Z"
      },
      {
        "duration": 15,
        "start_time": "2023-02-27T11:23:51.236Z"
      },
      {
        "duration": 12,
        "start_time": "2023-02-27T11:23:51.253Z"
      },
      {
        "duration": 181,
        "start_time": "2023-02-27T11:23:51.267Z"
      },
      {
        "duration": 173,
        "start_time": "2023-02-27T11:23:51.450Z"
      },
      {
        "duration": 5,
        "start_time": "2023-02-27T11:23:51.625Z"
      },
      {
        "duration": 344,
        "start_time": "2023-02-27T11:23:51.634Z"
      },
      {
        "duration": 5034,
        "start_time": "2023-02-27T11:23:51.980Z"
      },
      {
        "duration": 6,
        "start_time": "2023-02-27T11:23:57.016Z"
      },
      {
        "duration": 361,
        "start_time": "2023-02-27T11:23:57.024Z"
      },
      {
        "duration": 24,
        "start_time": "2023-02-27T11:23:57.387Z"
      },
      {
        "duration": 6,
        "start_time": "2023-02-27T11:23:57.412Z"
      },
      {
        "duration": 12,
        "start_time": "2023-02-27T11:23:57.420Z"
      },
      {
        "duration": 9,
        "start_time": "2023-02-27T11:23:57.434Z"
      },
      {
        "duration": 10,
        "start_time": "2023-02-27T11:23:57.444Z"
      },
      {
        "duration": 282,
        "start_time": "2023-02-27T11:23:57.455Z"
      },
      {
        "duration": 5,
        "start_time": "2023-02-27T11:23:57.739Z"
      },
      {
        "duration": 290,
        "start_time": "2023-02-27T11:23:57.746Z"
      },
      {
        "duration": 5,
        "start_time": "2023-02-27T11:23:58.038Z"
      },
      {
        "duration": 369,
        "start_time": "2023-02-27T11:23:58.045Z"
      },
      {
        "duration": 5,
        "start_time": "2023-02-27T11:23:58.416Z"
      },
      {
        "duration": 249,
        "start_time": "2023-02-27T11:23:58.423Z"
      },
      {
        "duration": 6,
        "start_time": "2023-02-27T11:23:58.673Z"
      },
      {
        "duration": 252,
        "start_time": "2023-02-27T11:23:58.681Z"
      },
      {
        "duration": 5,
        "start_time": "2023-02-27T11:23:58.934Z"
      },
      {
        "duration": 284,
        "start_time": "2023-02-27T11:23:58.941Z"
      },
      {
        "duration": 119,
        "start_time": "2023-02-27T11:23:59.227Z"
      },
      {
        "duration": 0,
        "start_time": "2023-02-27T11:23:59.348Z"
      },
      {
        "duration": 0,
        "start_time": "2023-02-27T11:23:59.349Z"
      },
      {
        "duration": 0,
        "start_time": "2023-02-27T11:23:59.351Z"
      },
      {
        "duration": 0,
        "start_time": "2023-02-27T11:23:59.352Z"
      },
      {
        "duration": 0,
        "start_time": "2023-02-27T11:23:59.354Z"
      },
      {
        "duration": 0,
        "start_time": "2023-02-27T11:23:59.356Z"
      },
      {
        "duration": 0,
        "start_time": "2023-02-27T11:23:59.357Z"
      },
      {
        "duration": 19,
        "start_time": "2023-02-27T11:24:41.829Z"
      },
      {
        "duration": 17,
        "start_time": "2023-02-27T11:25:15.741Z"
      },
      {
        "duration": 230,
        "start_time": "2023-02-27T11:25:43.698Z"
      },
      {
        "duration": 219,
        "start_time": "2023-02-27T11:26:03.088Z"
      },
      {
        "duration": 432,
        "start_time": "2023-02-27T11:26:27.614Z"
      },
      {
        "duration": 221,
        "start_time": "2023-02-27T11:27:16.095Z"
      },
      {
        "duration": 17,
        "start_time": "2023-02-27T11:27:35.768Z"
      },
      {
        "duration": 17,
        "start_time": "2023-02-27T11:30:16.803Z"
      },
      {
        "duration": 90,
        "start_time": "2023-02-27T11:33:33.766Z"
      },
      {
        "duration": 24,
        "start_time": "2023-02-27T11:33:59.597Z"
      },
      {
        "duration": 24,
        "start_time": "2023-02-27T11:34:19.599Z"
      },
      {
        "duration": 15,
        "start_time": "2023-02-27T11:34:31.668Z"
      },
      {
        "duration": 22,
        "start_time": "2023-02-27T11:34:42.891Z"
      },
      {
        "duration": 1150,
        "start_time": "2023-02-27T12:07:07.621Z"
      },
      {
        "duration": 51,
        "start_time": "2023-02-27T12:07:08.773Z"
      },
      {
        "duration": 20,
        "start_time": "2023-02-27T12:07:12.494Z"
      },
      {
        "duration": 15,
        "start_time": "2023-02-27T12:07:13.622Z"
      },
      {
        "duration": 17,
        "start_time": "2023-02-27T12:07:14.708Z"
      },
      {
        "duration": 16,
        "start_time": "2023-02-27T12:07:16.019Z"
      },
      {
        "duration": 5,
        "start_time": "2023-02-27T12:07:16.545Z"
      },
      {
        "duration": 3,
        "start_time": "2023-02-27T12:07:19.152Z"
      },
      {
        "duration": 15,
        "start_time": "2023-02-27T12:07:19.827Z"
      },
      {
        "duration": 6,
        "start_time": "2023-02-27T12:07:21.463Z"
      },
      {
        "duration": 9,
        "start_time": "2023-02-27T12:07:23.368Z"
      },
      {
        "duration": 22,
        "start_time": "2023-02-27T12:07:23.589Z"
      },
      {
        "duration": 6,
        "start_time": "2023-02-27T12:07:24.419Z"
      },
      {
        "duration": 4,
        "start_time": "2023-02-27T12:07:25.957Z"
      },
      {
        "duration": 9,
        "start_time": "2023-02-27T12:07:26.232Z"
      },
      {
        "duration": 21,
        "start_time": "2023-02-27T12:07:26.517Z"
      },
      {
        "duration": 5,
        "start_time": "2023-02-27T12:07:27.650Z"
      },
      {
        "duration": 5,
        "start_time": "2023-02-27T12:07:29.976Z"
      },
      {
        "duration": 9,
        "start_time": "2023-02-27T12:07:52.310Z"
      },
      {
        "duration": 5,
        "start_time": "2023-02-27T12:07:53.575Z"
      },
      {
        "duration": 9,
        "start_time": "2023-02-27T12:07:53.879Z"
      },
      {
        "duration": 6,
        "start_time": "2023-02-27T12:07:54.253Z"
      },
      {
        "duration": 14,
        "start_time": "2023-02-27T12:07:55.101Z"
      },
      {
        "duration": 8,
        "start_time": "2023-02-27T12:07:55.930Z"
      },
      {
        "duration": 1332,
        "start_time": "2023-02-27T12:09:15.670Z"
      },
      {
        "duration": 159,
        "start_time": "2023-02-27T12:09:24.286Z"
      },
      {
        "duration": 176,
        "start_time": "2023-02-27T12:09:34.585Z"
      },
      {
        "duration": 149,
        "start_time": "2023-02-27T12:09:48.437Z"
      },
      {
        "duration": 169,
        "start_time": "2023-02-27T12:10:06.458Z"
      },
      {
        "duration": 190,
        "start_time": "2023-02-27T12:10:33.007Z"
      },
      {
        "duration": 273,
        "start_time": "2023-02-27T12:10:44.293Z"
      },
      {
        "duration": 188,
        "start_time": "2023-02-27T12:11:05.589Z"
      },
      {
        "duration": 76,
        "start_time": "2023-02-27T12:11:54.335Z"
      },
      {
        "duration": 247,
        "start_time": "2023-02-27T12:11:59.470Z"
      },
      {
        "duration": 145,
        "start_time": "2023-02-27T12:12:12.216Z"
      },
      {
        "duration": 102,
        "start_time": "2023-02-27T12:12:58.850Z"
      },
      {
        "duration": 151,
        "start_time": "2023-02-27T12:15:34.367Z"
      },
      {
        "duration": 103,
        "start_time": "2023-02-27T12:15:48.612Z"
      },
      {
        "duration": 9,
        "start_time": "2023-02-27T12:16:26.152Z"
      },
      {
        "duration": 17,
        "start_time": "2023-02-27T12:16:42.374Z"
      },
      {
        "duration": 17,
        "start_time": "2023-02-27T12:17:01.311Z"
      },
      {
        "duration": 10,
        "start_time": "2023-02-27T12:17:11.151Z"
      },
      {
        "duration": 7,
        "start_time": "2023-02-27T12:17:35.792Z"
      },
      {
        "duration": 6,
        "start_time": "2023-02-27T12:17:49.037Z"
      },
      {
        "duration": 19,
        "start_time": "2023-02-27T12:18:10.821Z"
      },
      {
        "duration": 110,
        "start_time": "2023-02-27T12:18:14.136Z"
      },
      {
        "duration": 120,
        "start_time": "2023-02-27T12:18:39.798Z"
      },
      {
        "duration": 13,
        "start_time": "2023-02-27T12:18:57.629Z"
      },
      {
        "duration": 300,
        "start_time": "2023-02-27T12:19:15.668Z"
      },
      {
        "duration": 308,
        "start_time": "2023-02-27T12:19:25.382Z"
      },
      {
        "duration": 305,
        "start_time": "2023-02-27T12:19:52.742Z"
      },
      {
        "duration": 1178,
        "start_time": "2023-02-27T12:19:59.448Z"
      },
      {
        "duration": 50,
        "start_time": "2023-02-27T12:20:00.629Z"
      },
      {
        "duration": 22,
        "start_time": "2023-02-27T12:20:00.681Z"
      },
      {
        "duration": 38,
        "start_time": "2023-02-27T12:20:00.705Z"
      },
      {
        "duration": 39,
        "start_time": "2023-02-27T12:20:00.745Z"
      },
      {
        "duration": 26,
        "start_time": "2023-02-27T12:20:00.785Z"
      },
      {
        "duration": 10,
        "start_time": "2023-02-27T12:20:00.813Z"
      },
      {
        "duration": 19,
        "start_time": "2023-02-27T12:20:00.824Z"
      },
      {
        "duration": 49,
        "start_time": "2023-02-27T12:20:00.845Z"
      },
      {
        "duration": 41,
        "start_time": "2023-02-27T12:20:00.897Z"
      },
      {
        "duration": 49,
        "start_time": "2023-02-27T12:20:00.940Z"
      },
      {
        "duration": 37,
        "start_time": "2023-02-27T12:20:00.991Z"
      },
      {
        "duration": 48,
        "start_time": "2023-02-27T12:20:01.030Z"
      },
      {
        "duration": 25,
        "start_time": "2023-02-27T12:20:01.080Z"
      },
      {
        "duration": 34,
        "start_time": "2023-02-27T12:20:01.107Z"
      },
      {
        "duration": 41,
        "start_time": "2023-02-27T12:20:01.143Z"
      },
      {
        "duration": 49,
        "start_time": "2023-02-27T12:20:01.185Z"
      },
      {
        "duration": 40,
        "start_time": "2023-02-27T12:20:01.236Z"
      },
      {
        "duration": 78,
        "start_time": "2023-02-27T12:20:01.278Z"
      },
      {
        "duration": 87,
        "start_time": "2023-02-27T12:20:01.358Z"
      },
      {
        "duration": 61,
        "start_time": "2023-02-27T12:20:01.447Z"
      },
      {
        "duration": 40,
        "start_time": "2023-02-27T12:20:01.510Z"
      },
      {
        "duration": 59,
        "start_time": "2023-02-27T12:20:01.552Z"
      },
      {
        "duration": 41,
        "start_time": "2023-02-27T12:20:01.613Z"
      },
      {
        "duration": 204,
        "start_time": "2023-02-27T12:20:01.656Z"
      },
      {
        "duration": 146,
        "start_time": "2023-02-27T12:20:01.862Z"
      },
      {
        "duration": 112,
        "start_time": "2023-02-27T12:20:02.010Z"
      },
      {
        "duration": 0,
        "start_time": "2023-02-27T12:20:02.125Z"
      },
      {
        "duration": 0,
        "start_time": "2023-02-27T12:20:02.127Z"
      },
      {
        "duration": 0,
        "start_time": "2023-02-27T12:20:02.129Z"
      },
      {
        "duration": 0,
        "start_time": "2023-02-27T12:20:02.130Z"
      },
      {
        "duration": 0,
        "start_time": "2023-02-27T12:20:02.132Z"
      },
      {
        "duration": 0,
        "start_time": "2023-02-27T12:20:02.134Z"
      },
      {
        "duration": 0,
        "start_time": "2023-02-27T12:20:02.135Z"
      },
      {
        "duration": 0,
        "start_time": "2023-02-27T12:20:02.137Z"
      },
      {
        "duration": 0,
        "start_time": "2023-02-27T12:20:02.138Z"
      },
      {
        "duration": 0,
        "start_time": "2023-02-27T12:20:02.140Z"
      },
      {
        "duration": 0,
        "start_time": "2023-02-27T12:20:02.142Z"
      },
      {
        "duration": 0,
        "start_time": "2023-02-27T12:20:02.143Z"
      },
      {
        "duration": 0,
        "start_time": "2023-02-27T12:20:02.145Z"
      },
      {
        "duration": 0,
        "start_time": "2023-02-27T12:20:02.147Z"
      },
      {
        "duration": 0,
        "start_time": "2023-02-27T12:20:02.149Z"
      },
      {
        "duration": 1,
        "start_time": "2023-02-27T12:20:02.150Z"
      },
      {
        "duration": 0,
        "start_time": "2023-02-27T12:20:02.152Z"
      },
      {
        "duration": 0,
        "start_time": "2023-02-27T12:20:02.153Z"
      },
      {
        "duration": 0,
        "start_time": "2023-02-27T12:20:02.154Z"
      },
      {
        "duration": 0,
        "start_time": "2023-02-27T12:20:02.155Z"
      },
      {
        "duration": 0,
        "start_time": "2023-02-27T12:20:02.199Z"
      },
      {
        "duration": 0,
        "start_time": "2023-02-27T12:20:02.201Z"
      },
      {
        "duration": 0,
        "start_time": "2023-02-27T12:20:02.202Z"
      },
      {
        "duration": 0,
        "start_time": "2023-02-27T12:20:02.203Z"
      },
      {
        "duration": 0,
        "start_time": "2023-02-27T12:20:02.205Z"
      },
      {
        "duration": 0,
        "start_time": "2023-02-27T12:20:02.206Z"
      },
      {
        "duration": 0,
        "start_time": "2023-02-27T12:20:02.207Z"
      },
      {
        "duration": 0,
        "start_time": "2023-02-27T12:20:02.208Z"
      },
      {
        "duration": 0,
        "start_time": "2023-02-27T12:20:02.209Z"
      },
      {
        "duration": 0,
        "start_time": "2023-02-27T12:20:02.210Z"
      },
      {
        "duration": 0,
        "start_time": "2023-02-27T12:20:02.211Z"
      },
      {
        "duration": 0,
        "start_time": "2023-02-27T12:20:02.212Z"
      },
      {
        "duration": 0,
        "start_time": "2023-02-27T12:20:02.214Z"
      },
      {
        "duration": 0,
        "start_time": "2023-02-27T12:20:02.215Z"
      },
      {
        "duration": 0,
        "start_time": "2023-02-27T12:20:02.216Z"
      },
      {
        "duration": 18,
        "start_time": "2023-02-27T12:20:53.547Z"
      },
      {
        "duration": 16,
        "start_time": "2023-02-27T12:20:54.889Z"
      },
      {
        "duration": 326,
        "start_time": "2023-02-27T12:21:21.611Z"
      },
      {
        "duration": 280,
        "start_time": "2023-02-27T12:21:44.468Z"
      },
      {
        "duration": 17,
        "start_time": "2023-02-27T12:22:18.061Z"
      },
      {
        "duration": 15,
        "start_time": "2023-02-27T12:23:23.002Z"
      },
      {
        "duration": 1251,
        "start_time": "2023-02-27T12:23:32.068Z"
      },
      {
        "duration": 49,
        "start_time": "2023-02-27T12:23:33.321Z"
      },
      {
        "duration": 20,
        "start_time": "2023-02-27T12:23:33.372Z"
      },
      {
        "duration": 15,
        "start_time": "2023-02-27T12:23:33.394Z"
      },
      {
        "duration": 15,
        "start_time": "2023-02-27T12:23:33.412Z"
      },
      {
        "duration": 25,
        "start_time": "2023-02-27T12:23:33.429Z"
      },
      {
        "duration": 10,
        "start_time": "2023-02-27T12:23:33.456Z"
      },
      {
        "duration": 8,
        "start_time": "2023-02-27T12:23:33.467Z"
      },
      {
        "duration": 36,
        "start_time": "2023-02-27T12:23:33.477Z"
      },
      {
        "duration": 11,
        "start_time": "2023-02-27T12:23:33.514Z"
      },
      {
        "duration": 14,
        "start_time": "2023-02-27T12:23:33.527Z"
      },
      {
        "duration": 24,
        "start_time": "2023-02-27T12:23:33.542Z"
      },
      {
        "duration": 12,
        "start_time": "2023-02-27T12:23:33.568Z"
      },
      {
        "duration": 6,
        "start_time": "2023-02-27T12:23:33.583Z"
      },
      {
        "duration": 16,
        "start_time": "2023-02-27T12:23:33.590Z"
      },
      {
        "duration": 29,
        "start_time": "2023-02-27T12:23:33.608Z"
      },
      {
        "duration": 4,
        "start_time": "2023-02-27T12:23:33.639Z"
      },
      {
        "duration": 15,
        "start_time": "2023-02-27T12:23:33.644Z"
      },
      {
        "duration": 20,
        "start_time": "2023-02-27T12:23:33.660Z"
      },
      {
        "duration": 14,
        "start_time": "2023-02-27T12:23:33.682Z"
      },
      {
        "duration": 18,
        "start_time": "2023-02-27T12:23:33.697Z"
      },
      {
        "duration": 9,
        "start_time": "2023-02-27T12:23:33.716Z"
      },
      {
        "duration": 17,
        "start_time": "2023-02-27T12:23:33.727Z"
      },
      {
        "duration": 11,
        "start_time": "2023-02-27T12:23:33.746Z"
      },
      {
        "duration": 182,
        "start_time": "2023-02-27T12:23:33.759Z"
      },
      {
        "duration": 143,
        "start_time": "2023-02-27T12:23:33.943Z"
      },
      {
        "duration": 25,
        "start_time": "2023-02-27T12:23:34.089Z"
      },
      {
        "duration": 147,
        "start_time": "2023-02-27T12:23:34.119Z"
      },
      {
        "duration": 0,
        "start_time": "2023-02-27T12:23:34.269Z"
      },
      {
        "duration": 0,
        "start_time": "2023-02-27T12:23:34.270Z"
      },
      {
        "duration": 0,
        "start_time": "2023-02-27T12:23:34.272Z"
      },
      {
        "duration": 0,
        "start_time": "2023-02-27T12:23:34.273Z"
      },
      {
        "duration": 0,
        "start_time": "2023-02-27T12:23:34.274Z"
      },
      {
        "duration": 1,
        "start_time": "2023-02-27T12:23:34.275Z"
      },
      {
        "duration": 0,
        "start_time": "2023-02-27T12:23:34.277Z"
      },
      {
        "duration": 0,
        "start_time": "2023-02-27T12:23:34.279Z"
      },
      {
        "duration": 0,
        "start_time": "2023-02-27T12:23:34.299Z"
      },
      {
        "duration": 0,
        "start_time": "2023-02-27T12:23:34.301Z"
      },
      {
        "duration": 0,
        "start_time": "2023-02-27T12:23:34.302Z"
      },
      {
        "duration": 0,
        "start_time": "2023-02-27T12:23:34.304Z"
      },
      {
        "duration": 0,
        "start_time": "2023-02-27T12:23:34.305Z"
      },
      {
        "duration": 0,
        "start_time": "2023-02-27T12:23:34.306Z"
      },
      {
        "duration": 0,
        "start_time": "2023-02-27T12:23:34.307Z"
      },
      {
        "duration": 0,
        "start_time": "2023-02-27T12:23:34.308Z"
      },
      {
        "duration": 0,
        "start_time": "2023-02-27T12:23:34.310Z"
      },
      {
        "duration": 0,
        "start_time": "2023-02-27T12:23:34.311Z"
      },
      {
        "duration": 0,
        "start_time": "2023-02-27T12:23:34.312Z"
      },
      {
        "duration": 0,
        "start_time": "2023-02-27T12:23:34.313Z"
      },
      {
        "duration": 0,
        "start_time": "2023-02-27T12:23:34.314Z"
      },
      {
        "duration": 0,
        "start_time": "2023-02-27T12:23:34.316Z"
      },
      {
        "duration": 0,
        "start_time": "2023-02-27T12:23:34.317Z"
      },
      {
        "duration": 0,
        "start_time": "2023-02-27T12:23:34.318Z"
      },
      {
        "duration": 0,
        "start_time": "2023-02-27T12:23:34.318Z"
      },
      {
        "duration": 0,
        "start_time": "2023-02-27T12:23:34.320Z"
      },
      {
        "duration": 0,
        "start_time": "2023-02-27T12:23:34.321Z"
      },
      {
        "duration": 0,
        "start_time": "2023-02-27T12:23:34.322Z"
      },
      {
        "duration": 0,
        "start_time": "2023-02-27T12:23:34.324Z"
      },
      {
        "duration": 0,
        "start_time": "2023-02-27T12:23:34.325Z"
      },
      {
        "duration": 0,
        "start_time": "2023-02-27T12:23:34.326Z"
      },
      {
        "duration": 0,
        "start_time": "2023-02-27T12:23:34.327Z"
      },
      {
        "duration": 0,
        "start_time": "2023-02-27T12:23:34.328Z"
      },
      {
        "duration": 0,
        "start_time": "2023-02-27T12:23:34.329Z"
      },
      {
        "duration": 1252,
        "start_time": "2023-02-27T12:25:21.866Z"
      },
      {
        "duration": 68,
        "start_time": "2023-02-27T12:25:23.120Z"
      },
      {
        "duration": 25,
        "start_time": "2023-02-27T12:25:23.190Z"
      },
      {
        "duration": 18,
        "start_time": "2023-02-27T12:25:23.552Z"
      },
      {
        "duration": 17,
        "start_time": "2023-02-27T12:25:24.448Z"
      },
      {
        "duration": 16,
        "start_time": "2023-02-27T12:25:25.285Z"
      },
      {
        "duration": 5,
        "start_time": "2023-02-27T12:25:26.446Z"
      },
      {
        "duration": 5,
        "start_time": "2023-02-27T12:25:27.951Z"
      },
      {
        "duration": 16,
        "start_time": "2023-02-27T12:25:28.397Z"
      },
      {
        "duration": 9,
        "start_time": "2023-02-27T12:25:29.165Z"
      },
      {
        "duration": 8,
        "start_time": "2023-02-27T12:25:30.112Z"
      },
      {
        "duration": 24,
        "start_time": "2023-02-27T12:25:30.477Z"
      },
      {
        "duration": 6,
        "start_time": "2023-02-27T12:25:30.981Z"
      },
      {
        "duration": 5,
        "start_time": "2023-02-27T12:25:32.049Z"
      },
      {
        "duration": 9,
        "start_time": "2023-02-27T12:25:32.275Z"
      },
      {
        "duration": 22,
        "start_time": "2023-02-27T12:25:32.519Z"
      },
      {
        "duration": 4,
        "start_time": "2023-02-27T12:25:32.981Z"
      },
      {
        "duration": 5,
        "start_time": "2023-02-27T12:25:34.893Z"
      },
      {
        "duration": 7,
        "start_time": "2023-02-27T12:25:38.028Z"
      },
      {
        "duration": 5,
        "start_time": "2023-02-27T12:25:39.309Z"
      },
      {
        "duration": 10,
        "start_time": "2023-02-27T12:25:40.606Z"
      },
      {
        "duration": 7,
        "start_time": "2023-02-27T12:25:40.875Z"
      },
      {
        "duration": 14,
        "start_time": "2023-02-27T12:25:42.028Z"
      },
      {
        "duration": 10,
        "start_time": "2023-02-27T12:25:43.304Z"
      },
      {
        "duration": 158,
        "start_time": "2023-02-27T12:25:46.758Z"
      },
      {
        "duration": 103,
        "start_time": "2023-02-27T12:25:52.979Z"
      },
      {
        "duration": 17,
        "start_time": "2023-02-27T12:25:54.767Z"
      },
      {
        "duration": 14,
        "start_time": "2023-02-27T12:26:00.494Z"
      },
      {
        "duration": 17,
        "start_time": "2023-02-27T12:26:40.350Z"
      },
      {
        "duration": 14,
        "start_time": "2023-02-27T12:26:42.058Z"
      },
      {
        "duration": 132,
        "start_time": "2023-02-27T12:27:01.081Z"
      },
      {
        "duration": 95,
        "start_time": "2023-02-27T12:27:18.535Z"
      },
      {
        "duration": 22,
        "start_time": "2023-02-27T12:27:23.302Z"
      },
      {
        "duration": 4,
        "start_time": "2023-02-27T12:29:27.289Z"
      },
      {
        "duration": 23,
        "start_time": "2023-02-27T12:29:29.076Z"
      },
      {
        "duration": 14,
        "start_time": "2023-02-27T12:30:42.984Z"
      },
      {
        "duration": 14,
        "start_time": "2023-02-27T12:31:34.415Z"
      },
      {
        "duration": 7,
        "start_time": "2023-02-27T12:31:35.057Z"
      },
      {
        "duration": 22,
        "start_time": "2023-02-27T12:31:35.339Z"
      },
      {
        "duration": 89,
        "start_time": "2023-02-27T13:45:25.154Z"
      },
      {
        "duration": 16,
        "start_time": "2023-02-27T13:45:30.213Z"
      },
      {
        "duration": 7,
        "start_time": "2023-02-27T13:45:31.505Z"
      },
      {
        "duration": 22,
        "start_time": "2023-02-27T13:45:31.725Z"
      },
      {
        "duration": 1261,
        "start_time": "2023-02-27T13:45:50.278Z"
      },
      {
        "duration": 50,
        "start_time": "2023-02-27T13:45:51.541Z"
      },
      {
        "duration": 22,
        "start_time": "2023-02-27T13:45:51.593Z"
      },
      {
        "duration": 14,
        "start_time": "2023-02-27T13:45:51.617Z"
      },
      {
        "duration": 19,
        "start_time": "2023-02-27T13:45:51.634Z"
      },
      {
        "duration": 31,
        "start_time": "2023-02-27T13:45:51.655Z"
      },
      {
        "duration": 7,
        "start_time": "2023-02-27T13:45:51.698Z"
      },
      {
        "duration": 31,
        "start_time": "2023-02-27T13:45:51.707Z"
      },
      {
        "duration": 40,
        "start_time": "2023-02-27T13:45:51.740Z"
      },
      {
        "duration": 20,
        "start_time": "2023-02-27T13:45:51.783Z"
      },
      {
        "duration": 28,
        "start_time": "2023-02-27T13:45:51.805Z"
      },
      {
        "duration": 42,
        "start_time": "2023-02-27T13:45:51.834Z"
      },
      {
        "duration": 36,
        "start_time": "2023-02-27T13:45:51.877Z"
      },
      {
        "duration": 5,
        "start_time": "2023-02-27T13:45:51.915Z"
      },
      {
        "duration": 12,
        "start_time": "2023-02-27T13:45:51.922Z"
      },
      {
        "duration": 21,
        "start_time": "2023-02-27T13:45:51.936Z"
      },
      {
        "duration": 5,
        "start_time": "2023-02-27T13:45:51.959Z"
      },
      {
        "duration": 11,
        "start_time": "2023-02-27T13:45:51.966Z"
      },
      {
        "duration": 22,
        "start_time": "2023-02-27T13:45:51.979Z"
      },
      {
        "duration": 17,
        "start_time": "2023-02-27T13:45:52.004Z"
      },
      {
        "duration": 17,
        "start_time": "2023-02-27T13:45:52.023Z"
      },
      {
        "duration": 21,
        "start_time": "2023-02-27T13:45:52.042Z"
      },
      {
        "duration": 38,
        "start_time": "2023-02-27T13:45:52.065Z"
      },
      {
        "duration": 11,
        "start_time": "2023-02-27T13:45:52.105Z"
      },
      {
        "duration": 191,
        "start_time": "2023-02-27T13:45:52.118Z"
      },
      {
        "duration": 141,
        "start_time": "2023-02-27T13:45:52.311Z"
      },
      {
        "duration": 23,
        "start_time": "2023-02-27T13:45:52.454Z"
      },
      {
        "duration": 27,
        "start_time": "2023-02-27T13:45:52.480Z"
      },
      {
        "duration": 185,
        "start_time": "2023-02-27T13:45:52.509Z"
      },
      {
        "duration": 189,
        "start_time": "2023-02-27T13:45:52.699Z"
      },
      {
        "duration": 11,
        "start_time": "2023-02-27T13:45:52.889Z"
      },
      {
        "duration": 328,
        "start_time": "2023-02-27T13:45:52.902Z"
      },
      {
        "duration": 5280,
        "start_time": "2023-02-27T13:45:53.232Z"
      },
      {
        "duration": 6,
        "start_time": "2023-02-27T13:45:58.514Z"
      },
      {
        "duration": 342,
        "start_time": "2023-02-27T13:45:58.522Z"
      },
      {
        "duration": 22,
        "start_time": "2023-02-27T13:45:58.866Z"
      },
      {
        "duration": 7,
        "start_time": "2023-02-27T13:45:58.899Z"
      },
      {
        "duration": 10,
        "start_time": "2023-02-27T13:45:58.908Z"
      },
      {
        "duration": 13,
        "start_time": "2023-02-27T13:45:58.920Z"
      },
      {
        "duration": 12,
        "start_time": "2023-02-27T13:45:58.935Z"
      },
      {
        "duration": 300,
        "start_time": "2023-02-27T13:45:58.949Z"
      },
      {
        "duration": 5,
        "start_time": "2023-02-27T13:45:59.251Z"
      },
      {
        "duration": 386,
        "start_time": "2023-02-27T13:45:59.258Z"
      },
      {
        "duration": 6,
        "start_time": "2023-02-27T13:45:59.645Z"
      },
      {
        "duration": 326,
        "start_time": "2023-02-27T13:45:59.653Z"
      },
      {
        "duration": 18,
        "start_time": "2023-02-27T13:45:59.981Z"
      },
      {
        "duration": 287,
        "start_time": "2023-02-27T13:46:00.002Z"
      },
      {
        "duration": 8,
        "start_time": "2023-02-27T13:46:00.292Z"
      },
      {
        "duration": 306,
        "start_time": "2023-02-27T13:46:00.302Z"
      },
      {
        "duration": 5,
        "start_time": "2023-02-27T13:46:00.610Z"
      },
      {
        "duration": 325,
        "start_time": "2023-02-27T13:46:00.617Z"
      },
      {
        "duration": 23,
        "start_time": "2023-02-27T13:46:00.944Z"
      },
      {
        "duration": 268,
        "start_time": "2023-02-27T13:46:00.969Z"
      },
      {
        "duration": 127,
        "start_time": "2023-02-27T13:46:01.239Z"
      },
      {
        "duration": 0,
        "start_time": "2023-02-27T13:46:01.368Z"
      },
      {
        "duration": 0,
        "start_time": "2023-02-27T13:46:01.369Z"
      },
      {
        "duration": 0,
        "start_time": "2023-02-27T13:46:01.371Z"
      },
      {
        "duration": 0,
        "start_time": "2023-02-27T13:46:01.372Z"
      },
      {
        "duration": 0,
        "start_time": "2023-02-27T13:46:01.373Z"
      },
      {
        "duration": 0,
        "start_time": "2023-02-27T13:46:01.374Z"
      },
      {
        "duration": 0,
        "start_time": "2023-02-27T13:46:01.375Z"
      },
      {
        "duration": 1139,
        "start_time": "2023-02-27T13:58:40.471Z"
      },
      {
        "duration": 49,
        "start_time": "2023-02-27T13:58:41.612Z"
      },
      {
        "duration": 20,
        "start_time": "2023-02-27T13:58:41.663Z"
      },
      {
        "duration": 14,
        "start_time": "2023-02-27T13:58:42.138Z"
      },
      {
        "duration": 18,
        "start_time": "2023-02-27T13:58:42.715Z"
      },
      {
        "duration": 17,
        "start_time": "2023-02-27T13:58:43.522Z"
      },
      {
        "duration": 9,
        "start_time": "2023-02-27T13:58:44.196Z"
      },
      {
        "duration": 3,
        "start_time": "2023-02-27T13:58:45.835Z"
      },
      {
        "duration": 14,
        "start_time": "2023-02-27T13:58:46.370Z"
      },
      {
        "duration": 8,
        "start_time": "2023-02-27T13:58:47.361Z"
      },
      {
        "duration": 10,
        "start_time": "2023-02-27T13:58:50.029Z"
      },
      {
        "duration": 23,
        "start_time": "2023-02-27T13:58:50.252Z"
      },
      {
        "duration": 7,
        "start_time": "2023-02-27T13:58:50.850Z"
      },
      {
        "duration": 4,
        "start_time": "2023-02-27T13:58:52.811Z"
      },
      {
        "duration": 10,
        "start_time": "2023-02-27T13:58:53.031Z"
      },
      {
        "duration": 23,
        "start_time": "2023-02-27T13:58:53.235Z"
      },
      {
        "duration": 4,
        "start_time": "2023-02-27T13:58:53.680Z"
      },
      {
        "duration": 6,
        "start_time": "2023-02-27T13:58:57.097Z"
      },
      {
        "duration": 8,
        "start_time": "2023-02-27T13:58:59.023Z"
      },
      {
        "duration": 6,
        "start_time": "2023-02-27T13:59:01.581Z"
      },
      {
        "duration": 5,
        "start_time": "2023-02-27T13:59:16.849Z"
      },
      {
        "duration": 19,
        "start_time": "2023-02-27T13:59:17.095Z"
      },
      {
        "duration": 6,
        "start_time": "2023-02-27T13:59:17.352Z"
      },
      {
        "duration": 14,
        "start_time": "2023-02-27T13:59:21.455Z"
      },
      {
        "duration": 8,
        "start_time": "2023-02-27T13:59:22.115Z"
      },
      {
        "duration": 189,
        "start_time": "2023-02-27T13:59:23.074Z"
      },
      {
        "duration": 108,
        "start_time": "2023-02-27T13:59:24.419Z"
      },
      {
        "duration": 35,
        "start_time": "2023-02-27T13:59:27.579Z"
      },
      {
        "duration": 14,
        "start_time": "2023-02-27T14:00:02.166Z"
      },
      {
        "duration": 75,
        "start_time": "2023-02-27T14:01:18.754Z"
      },
      {
        "duration": 21,
        "start_time": "2023-02-27T14:01:22.685Z"
      },
      {
        "duration": 17,
        "start_time": "2023-02-27T14:01:30.706Z"
      },
      {
        "duration": 5,
        "start_time": "2023-02-27T14:02:07.336Z"
      },
      {
        "duration": 6,
        "start_time": "2023-02-27T14:02:12.575Z"
      },
      {
        "duration": 6,
        "start_time": "2023-02-27T14:02:18.434Z"
      },
      {
        "duration": 18,
        "start_time": "2023-02-27T14:02:29.951Z"
      },
      {
        "duration": 25,
        "start_time": "2023-02-27T14:02:47.982Z"
      },
      {
        "duration": 1199,
        "start_time": "2023-02-27T14:02:59.720Z"
      },
      {
        "duration": 50,
        "start_time": "2023-02-27T14:03:00.921Z"
      },
      {
        "duration": 22,
        "start_time": "2023-02-27T14:03:00.973Z"
      },
      {
        "duration": 52,
        "start_time": "2023-02-27T14:03:00.997Z"
      },
      {
        "duration": 30,
        "start_time": "2023-02-27T14:03:01.051Z"
      },
      {
        "duration": 35,
        "start_time": "2023-02-27T14:03:01.082Z"
      },
      {
        "duration": 8,
        "start_time": "2023-02-27T14:03:01.119Z"
      },
      {
        "duration": 25,
        "start_time": "2023-02-27T14:03:01.129Z"
      },
      {
        "duration": 22,
        "start_time": "2023-02-27T14:03:01.156Z"
      },
      {
        "duration": 37,
        "start_time": "2023-02-27T14:03:01.181Z"
      },
      {
        "duration": 29,
        "start_time": "2023-02-27T14:03:01.220Z"
      },
      {
        "duration": 55,
        "start_time": "2023-02-27T14:03:01.251Z"
      },
      {
        "duration": 19,
        "start_time": "2023-02-27T14:03:01.308Z"
      },
      {
        "duration": 24,
        "start_time": "2023-02-27T14:03:01.329Z"
      },
      {
        "duration": 19,
        "start_time": "2023-02-27T14:03:01.355Z"
      },
      {
        "duration": 30,
        "start_time": "2023-02-27T14:03:01.376Z"
      },
      {
        "duration": 6,
        "start_time": "2023-02-27T14:03:01.408Z"
      },
      {
        "duration": 18,
        "start_time": "2023-02-27T14:03:01.416Z"
      },
      {
        "duration": 23,
        "start_time": "2023-02-27T14:03:01.436Z"
      },
      {
        "duration": 45,
        "start_time": "2023-02-27T14:03:01.460Z"
      },
      {
        "duration": 38,
        "start_time": "2023-02-27T14:03:01.507Z"
      },
      {
        "duration": 26,
        "start_time": "2023-02-27T14:03:01.547Z"
      },
      {
        "duration": 47,
        "start_time": "2023-02-27T14:03:01.575Z"
      },
      {
        "duration": 19,
        "start_time": "2023-02-27T14:03:01.623Z"
      },
      {
        "duration": 172,
        "start_time": "2023-02-27T14:03:01.644Z"
      },
      {
        "duration": 151,
        "start_time": "2023-02-27T14:03:01.818Z"
      },
      {
        "duration": 30,
        "start_time": "2023-02-27T14:03:01.971Z"
      },
      {
        "duration": 28,
        "start_time": "2023-02-27T14:03:02.006Z"
      },
      {
        "duration": 29,
        "start_time": "2023-02-27T14:03:02.036Z"
      },
      {
        "duration": 38,
        "start_time": "2023-02-27T14:03:02.067Z"
      },
      {
        "duration": 36,
        "start_time": "2023-02-27T14:03:02.107Z"
      },
      {
        "duration": 201,
        "start_time": "2023-02-27T14:03:02.145Z"
      },
      {
        "duration": 207,
        "start_time": "2023-02-27T14:03:02.348Z"
      },
      {
        "duration": 6,
        "start_time": "2023-02-27T14:03:02.557Z"
      },
      {
        "duration": 351,
        "start_time": "2023-02-27T14:03:02.565Z"
      },
      {
        "duration": 5400,
        "start_time": "2023-02-27T14:03:02.918Z"
      },
      {
        "duration": 6,
        "start_time": "2023-02-27T14:03:08.320Z"
      },
      {
        "duration": 366,
        "start_time": "2023-02-27T14:03:08.327Z"
      },
      {
        "duration": 26,
        "start_time": "2023-02-27T14:03:08.695Z"
      },
      {
        "duration": 19,
        "start_time": "2023-02-27T14:03:08.723Z"
      },
      {
        "duration": 11,
        "start_time": "2023-02-27T14:03:08.744Z"
      },
      {
        "duration": 10,
        "start_time": "2023-02-27T14:03:08.757Z"
      },
      {
        "duration": 13,
        "start_time": "2023-02-27T14:03:08.769Z"
      },
      {
        "duration": 12812,
        "start_time": "2023-02-27T14:03:08.783Z"
      },
      {
        "duration": 5,
        "start_time": "2023-02-27T14:03:21.600Z"
      },
      {
        "duration": 8463,
        "start_time": "2023-02-27T14:03:21.607Z"
      },
      {
        "duration": 5,
        "start_time": "2023-02-27T14:03:30.072Z"
      },
      {
        "duration": 3102,
        "start_time": "2023-02-27T14:03:30.079Z"
      },
      {
        "duration": 6,
        "start_time": "2023-02-27T14:03:33.184Z"
      },
      {
        "duration": 371,
        "start_time": "2023-02-27T14:03:33.200Z"
      },
      {
        "duration": 6,
        "start_time": "2023-02-27T14:03:33.573Z"
      },
      {
        "duration": 8252,
        "start_time": "2023-02-27T14:03:33.599Z"
      },
      {
        "duration": 5,
        "start_time": "2023-02-27T14:03:41.853Z"
      },
      {
        "duration": 3812,
        "start_time": "2023-02-27T14:03:41.860Z"
      },
      {
        "duration": 29,
        "start_time": "2023-02-27T14:03:45.674Z"
      },
      {
        "duration": 222,
        "start_time": "2023-02-27T14:03:45.705Z"
      },
      {
        "duration": 129,
        "start_time": "2023-02-27T14:03:45.929Z"
      },
      {
        "duration": 0,
        "start_time": "2023-02-27T14:03:46.060Z"
      },
      {
        "duration": 0,
        "start_time": "2023-02-27T14:03:46.061Z"
      },
      {
        "duration": 0,
        "start_time": "2023-02-27T14:03:46.062Z"
      },
      {
        "duration": 0,
        "start_time": "2023-02-27T14:03:46.064Z"
      },
      {
        "duration": 0,
        "start_time": "2023-02-27T14:03:46.065Z"
      },
      {
        "duration": 0,
        "start_time": "2023-02-27T14:03:46.066Z"
      },
      {
        "duration": 0,
        "start_time": "2023-02-27T14:03:46.068Z"
      },
      {
        "duration": 0,
        "start_time": "2023-02-27T14:03:46.068Z"
      },
      {
        "duration": 0,
        "start_time": "2023-02-27T14:03:46.069Z"
      },
      {
        "duration": 0,
        "start_time": "2023-02-27T14:03:46.098Z"
      },
      {
        "duration": 0,
        "start_time": "2023-02-27T14:03:46.100Z"
      },
      {
        "duration": 0,
        "start_time": "2023-02-27T14:03:46.102Z"
      },
      {
        "duration": 0,
        "start_time": "2023-02-27T14:03:46.103Z"
      },
      {
        "duration": 0,
        "start_time": "2023-02-27T14:03:46.104Z"
      },
      {
        "duration": 0,
        "start_time": "2023-02-27T14:03:46.105Z"
      },
      {
        "duration": 0,
        "start_time": "2023-02-27T14:03:46.107Z"
      },
      {
        "duration": 4,
        "start_time": "2023-02-27T14:03:53.582Z"
      },
      {
        "duration": 56,
        "start_time": "2023-02-27T14:03:54.028Z"
      },
      {
        "duration": 1150,
        "start_time": "2023-02-27T14:04:07.371Z"
      },
      {
        "duration": 47,
        "start_time": "2023-02-27T14:04:08.654Z"
      },
      {
        "duration": 23,
        "start_time": "2023-02-27T14:04:10.227Z"
      },
      {
        "duration": 14,
        "start_time": "2023-02-27T14:04:13.417Z"
      },
      {
        "duration": 17,
        "start_time": "2023-02-27T14:04:25.684Z"
      },
      {
        "duration": 13,
        "start_time": "2023-02-27T14:04:32.418Z"
      },
      {
        "duration": 18,
        "start_time": "2023-02-27T14:04:33.479Z"
      },
      {
        "duration": 16,
        "start_time": "2023-02-27T14:04:35.207Z"
      },
      {
        "duration": 4,
        "start_time": "2023-02-27T14:04:36.054Z"
      },
      {
        "duration": 4,
        "start_time": "2023-02-27T14:04:37.892Z"
      },
      {
        "duration": 19,
        "start_time": "2023-02-27T14:04:38.366Z"
      },
      {
        "duration": 7,
        "start_time": "2023-02-27T14:04:38.797Z"
      },
      {
        "duration": 9,
        "start_time": "2023-02-27T14:04:41.479Z"
      },
      {
        "duration": 25,
        "start_time": "2023-02-27T14:04:41.692Z"
      },
      {
        "duration": 7,
        "start_time": "2023-02-27T14:04:43.058Z"
      },
      {
        "duration": 4,
        "start_time": "2023-02-27T14:04:44.580Z"
      },
      {
        "duration": 10,
        "start_time": "2023-02-27T14:04:45.377Z"
      },
      {
        "duration": 21,
        "start_time": "2023-02-27T14:04:45.725Z"
      },
      {
        "duration": 4,
        "start_time": "2023-02-27T14:04:46.862Z"
      },
      {
        "duration": 5,
        "start_time": "2023-02-27T14:04:50.037Z"
      },
      {
        "duration": 23,
        "start_time": "2023-02-27T14:05:03.900Z"
      },
      {
        "duration": 1139,
        "start_time": "2023-02-27T14:07:57.954Z"
      },
      {
        "duration": 49,
        "start_time": "2023-02-27T14:07:59.095Z"
      },
      {
        "duration": 22,
        "start_time": "2023-02-27T14:08:01.339Z"
      },
      {
        "duration": 16,
        "start_time": "2023-02-27T14:08:02.619Z"
      },
      {
        "duration": 18,
        "start_time": "2023-02-27T14:08:03.642Z"
      },
      {
        "duration": 18,
        "start_time": "2023-02-27T14:08:04.586Z"
      },
      {
        "duration": 5,
        "start_time": "2023-02-27T14:08:05.430Z"
      },
      {
        "duration": 4,
        "start_time": "2023-02-27T14:08:07.652Z"
      },
      {
        "duration": 13,
        "start_time": "2023-02-27T14:08:08.529Z"
      },
      {
        "duration": 7,
        "start_time": "2023-02-27T14:08:09.472Z"
      },
      {
        "duration": 9,
        "start_time": "2023-02-27T14:08:10.790Z"
      },
      {
        "duration": 21,
        "start_time": "2023-02-27T14:08:11.024Z"
      },
      {
        "duration": 6,
        "start_time": "2023-02-27T14:08:12.156Z"
      },
      {
        "duration": 4,
        "start_time": "2023-02-27T14:08:14.457Z"
      },
      {
        "duration": 9,
        "start_time": "2023-02-27T14:08:14.698Z"
      },
      {
        "duration": 23,
        "start_time": "2023-02-27T14:08:15.059Z"
      },
      {
        "duration": 4,
        "start_time": "2023-02-27T14:08:17.228Z"
      },
      {
        "duration": 16,
        "start_time": "2023-02-27T14:09:24.387Z"
      },
      {
        "duration": 159,
        "start_time": "2023-02-27T14:09:38.986Z"
      },
      {
        "duration": 134,
        "start_time": "2023-02-27T14:09:53.051Z"
      },
      {
        "duration": 141,
        "start_time": "2023-02-27T14:10:11.895Z"
      },
      {
        "duration": 169,
        "start_time": "2023-02-27T14:10:28.111Z"
      },
      {
        "duration": 145,
        "start_time": "2023-02-27T14:10:40.003Z"
      },
      {
        "duration": 77,
        "start_time": "2023-02-27T14:11:04.291Z"
      },
      {
        "duration": 138,
        "start_time": "2023-02-27T14:11:22.150Z"
      },
      {
        "duration": 274,
        "start_time": "2023-02-27T14:12:05.494Z"
      },
      {
        "duration": 245,
        "start_time": "2023-02-27T14:12:51.758Z"
      },
      {
        "duration": 134,
        "start_time": "2023-02-27T14:13:00.178Z"
      },
      {
        "duration": 151,
        "start_time": "2023-02-27T14:13:05.046Z"
      },
      {
        "duration": 99,
        "start_time": "2023-02-27T14:14:32.931Z"
      },
      {
        "duration": 14,
        "start_time": "2023-02-27T14:14:55.123Z"
      },
      {
        "duration": 11,
        "start_time": "2023-02-27T14:15:10.872Z"
      },
      {
        "duration": 15,
        "start_time": "2023-02-27T14:15:20.286Z"
      },
      {
        "duration": 5,
        "start_time": "2023-02-27T14:18:16.575Z"
      },
      {
        "duration": 6,
        "start_time": "2023-02-27T14:18:27.823Z"
      },
      {
        "duration": 15,
        "start_time": "2023-02-27T14:18:36.962Z"
      },
      {
        "duration": 637,
        "start_time": "2023-02-27T14:19:03.688Z"
      },
      {
        "duration": 168,
        "start_time": "2023-02-27T14:19:13.944Z"
      },
      {
        "duration": 132,
        "start_time": "2023-02-27T14:19:31.162Z"
      },
      {
        "duration": 151,
        "start_time": "2023-02-27T14:19:36.682Z"
      },
      {
        "duration": 106,
        "start_time": "2023-02-27T14:20:46.161Z"
      },
      {
        "duration": 15,
        "start_time": "2023-02-27T14:21:33.625Z"
      },
      {
        "duration": 1254,
        "start_time": "2023-02-27T14:21:52.895Z"
      },
      {
        "duration": 50,
        "start_time": "2023-02-27T14:21:54.151Z"
      },
      {
        "duration": 21,
        "start_time": "2023-02-27T14:21:55.329Z"
      },
      {
        "duration": 14,
        "start_time": "2023-02-27T14:21:56.178Z"
      },
      {
        "duration": 17,
        "start_time": "2023-02-27T14:21:57.268Z"
      },
      {
        "duration": 17,
        "start_time": "2023-02-27T14:21:58.275Z"
      },
      {
        "duration": 5,
        "start_time": "2023-02-27T14:21:58.817Z"
      },
      {
        "duration": 4,
        "start_time": "2023-02-27T14:22:00.993Z"
      },
      {
        "duration": 16,
        "start_time": "2023-02-27T14:22:01.689Z"
      },
      {
        "duration": 7,
        "start_time": "2023-02-27T14:22:02.159Z"
      },
      {
        "duration": 12,
        "start_time": "2023-02-27T14:22:03.615Z"
      },
      {
        "duration": 32,
        "start_time": "2023-02-27T14:22:03.909Z"
      },
      {
        "duration": 8,
        "start_time": "2023-02-27T14:22:04.830Z"
      },
      {
        "duration": 5,
        "start_time": "2023-02-27T14:22:06.154Z"
      },
      {
        "duration": 12,
        "start_time": "2023-02-27T14:22:06.400Z"
      },
      {
        "duration": 19,
        "start_time": "2023-02-27T14:22:06.606Z"
      },
      {
        "duration": 6,
        "start_time": "2023-02-27T14:22:07.068Z"
      },
      {
        "duration": 254,
        "start_time": "2023-02-27T14:22:09.430Z"
      },
      {
        "duration": 117,
        "start_time": "2023-02-27T14:22:10.668Z"
      },
      {
        "duration": 96,
        "start_time": "2023-02-27T14:22:14.906Z"
      },
      {
        "duration": 6,
        "start_time": "2023-02-27T14:23:31.119Z"
      },
      {
        "duration": 18,
        "start_time": "2023-02-27T14:23:33.370Z"
      },
      {
        "duration": 9,
        "start_time": "2023-02-27T14:23:33.807Z"
      },
      {
        "duration": 5,
        "start_time": "2023-02-27T14:23:36.300Z"
      },
      {
        "duration": 9,
        "start_time": "2023-02-27T14:23:36.788Z"
      },
      {
        "duration": 6,
        "start_time": "2023-02-27T14:23:37.252Z"
      },
      {
        "duration": 15,
        "start_time": "2023-02-27T14:23:38.893Z"
      },
      {
        "duration": 8,
        "start_time": "2023-02-27T14:23:41.360Z"
      },
      {
        "duration": 171,
        "start_time": "2023-02-27T14:23:42.453Z"
      },
      {
        "duration": 107,
        "start_time": "2023-02-27T14:23:54.352Z"
      },
      {
        "duration": 23,
        "start_time": "2023-02-27T14:24:27.708Z"
      },
      {
        "duration": 22,
        "start_time": "2023-02-27T14:24:33.991Z"
      },
      {
        "duration": 24,
        "start_time": "2023-02-27T14:24:51.609Z"
      },
      {
        "duration": 21,
        "start_time": "2023-02-27T14:25:00.563Z"
      },
      {
        "duration": 23,
        "start_time": "2023-02-27T14:25:05.652Z"
      },
      {
        "duration": 24,
        "start_time": "2023-02-27T14:25:28.456Z"
      },
      {
        "duration": 21,
        "start_time": "2023-02-27T14:25:36.216Z"
      },
      {
        "duration": 1185,
        "start_time": "2023-02-27T14:27:44.351Z"
      },
      {
        "duration": 52,
        "start_time": "2023-02-27T14:27:46.169Z"
      },
      {
        "duration": 23,
        "start_time": "2023-02-27T14:27:47.172Z"
      },
      {
        "duration": 19,
        "start_time": "2023-02-27T14:27:47.806Z"
      },
      {
        "duration": 18,
        "start_time": "2023-02-27T14:27:48.429Z"
      },
      {
        "duration": 14,
        "start_time": "2023-02-27T14:27:49.092Z"
      },
      {
        "duration": 5,
        "start_time": "2023-02-27T14:27:49.589Z"
      },
      {
        "duration": 3,
        "start_time": "2023-02-27T14:27:51.288Z"
      },
      {
        "duration": 14,
        "start_time": "2023-02-27T14:27:51.814Z"
      },
      {
        "duration": 9,
        "start_time": "2023-02-27T14:27:52.505Z"
      },
      {
        "duration": 10,
        "start_time": "2023-02-27T14:27:53.364Z"
      },
      {
        "duration": 28,
        "start_time": "2023-02-27T14:27:53.533Z"
      },
      {
        "duration": 6,
        "start_time": "2023-02-27T14:27:54.160Z"
      },
      {
        "duration": 5,
        "start_time": "2023-02-27T14:27:55.360Z"
      },
      {
        "duration": 10,
        "start_time": "2023-02-27T14:27:55.592Z"
      },
      {
        "duration": 20,
        "start_time": "2023-02-27T14:27:55.992Z"
      },
      {
        "duration": 5,
        "start_time": "2023-02-27T14:27:57.417Z"
      },
      {
        "duration": 5,
        "start_time": "2023-02-27T14:27:59.991Z"
      },
      {
        "duration": 20,
        "start_time": "2023-02-27T14:28:02.157Z"
      },
      {
        "duration": 8,
        "start_time": "2023-02-27T14:28:12.394Z"
      },
      {
        "duration": 6,
        "start_time": "2023-02-27T14:28:16.667Z"
      },
      {
        "duration": 9,
        "start_time": "2023-02-27T14:28:16.990Z"
      },
      {
        "duration": 7,
        "start_time": "2023-02-27T14:28:17.746Z"
      },
      {
        "duration": 15,
        "start_time": "2023-02-27T14:28:19.187Z"
      },
      {
        "duration": 8,
        "start_time": "2023-02-27T14:28:20.975Z"
      },
      {
        "duration": 16,
        "start_time": "2023-02-27T14:28:40.460Z"
      },
      {
        "duration": 158,
        "start_time": "2023-02-27T14:28:52.757Z"
      },
      {
        "duration": 113,
        "start_time": "2023-02-27T14:28:55.577Z"
      },
      {
        "duration": 6,
        "start_time": "2023-02-27T14:29:19.896Z"
      },
      {
        "duration": 106,
        "start_time": "2023-02-27T14:29:20.846Z"
      },
      {
        "duration": 22,
        "start_time": "2023-02-27T14:29:24.791Z"
      },
      {
        "duration": 111,
        "start_time": "2023-02-27T14:29:37.718Z"
      },
      {
        "duration": 5,
        "start_time": "2023-02-27T14:31:36.095Z"
      },
      {
        "duration": 133,
        "start_time": "2023-02-27T14:31:38.471Z"
      },
      {
        "duration": 155,
        "start_time": "2023-02-27T14:32:09.398Z"
      },
      {
        "duration": 178,
        "start_time": "2023-02-27T14:32:18.331Z"
      },
      {
        "duration": 74,
        "start_time": "2023-02-27T14:33:28.960Z"
      },
      {
        "duration": 154,
        "start_time": "2023-02-27T14:33:37.406Z"
      },
      {
        "duration": 35,
        "start_time": "2023-02-27T14:34:17.123Z"
      },
      {
        "duration": 15,
        "start_time": "2023-02-27T14:34:34.353Z"
      },
      {
        "duration": 29,
        "start_time": "2023-02-27T14:35:15.750Z"
      },
      {
        "duration": 24,
        "start_time": "2023-02-27T14:36:26.014Z"
      },
      {
        "duration": 24,
        "start_time": "2023-02-27T14:36:40.667Z"
      },
      {
        "duration": 24,
        "start_time": "2023-02-27T14:36:47.600Z"
      },
      {
        "duration": 28,
        "start_time": "2023-02-27T14:42:47.993Z"
      },
      {
        "duration": 26,
        "start_time": "2023-02-27T14:42:57.249Z"
      },
      {
        "duration": 23,
        "start_time": "2023-02-27T14:43:18.993Z"
      },
      {
        "duration": 24,
        "start_time": "2023-02-27T14:43:53.258Z"
      },
      {
        "duration": 7,
        "start_time": "2023-02-27T14:44:17.218Z"
      },
      {
        "duration": 114,
        "start_time": "2023-02-27T14:44:17.655Z"
      },
      {
        "duration": 235,
        "start_time": "2023-02-27T14:44:20.324Z"
      },
      {
        "duration": 1231,
        "start_time": "2023-02-27T14:45:14.084Z"
      },
      {
        "duration": 50,
        "start_time": "2023-02-27T14:45:15.318Z"
      },
      {
        "duration": 21,
        "start_time": "2023-02-27T14:45:16.570Z"
      },
      {
        "duration": 14,
        "start_time": "2023-02-27T14:45:17.257Z"
      },
      {
        "duration": 17,
        "start_time": "2023-02-27T14:45:17.962Z"
      },
      {
        "duration": 16,
        "start_time": "2023-02-27T14:45:18.624Z"
      },
      {
        "duration": 5,
        "start_time": "2023-02-27T14:45:19.075Z"
      },
      {
        "duration": 3,
        "start_time": "2023-02-27T14:45:20.654Z"
      },
      {
        "duration": 15,
        "start_time": "2023-02-27T14:45:21.058Z"
      },
      {
        "duration": 7,
        "start_time": "2023-02-27T14:45:21.458Z"
      },
      {
        "duration": 10,
        "start_time": "2023-02-27T14:45:22.235Z"
      },
      {
        "duration": 23,
        "start_time": "2023-02-27T14:45:22.442Z"
      },
      {
        "duration": 7,
        "start_time": "2023-02-27T14:45:22.782Z"
      },
      {
        "duration": 5,
        "start_time": "2023-02-27T14:45:24.053Z"
      },
      {
        "duration": 10,
        "start_time": "2023-02-27T14:45:24.281Z"
      },
      {
        "duration": 20,
        "start_time": "2023-02-27T14:45:24.499Z"
      },
      {
        "duration": 4,
        "start_time": "2023-02-27T14:45:24.933Z"
      },
      {
        "duration": 6,
        "start_time": "2023-02-27T14:45:27.187Z"
      },
      {
        "duration": 18,
        "start_time": "2023-02-27T14:45:28.724Z"
      },
      {
        "duration": 18,
        "start_time": "2023-02-27T14:45:35.307Z"
      },
      {
        "duration": 7,
        "start_time": "2023-02-27T14:45:35.571Z"
      },
      {
        "duration": 6,
        "start_time": "2023-02-27T14:45:38.208Z"
      },
      {
        "duration": 10,
        "start_time": "2023-02-27T14:45:38.653Z"
      },
      {
        "duration": 7,
        "start_time": "2023-02-27T14:45:38.857Z"
      },
      {
        "duration": 19,
        "start_time": "2023-02-27T14:45:39.758Z"
      },
      {
        "duration": 8,
        "start_time": "2023-02-27T14:45:40.449Z"
      },
      {
        "duration": 18,
        "start_time": "2023-02-27T14:45:41.183Z"
      },
      {
        "duration": 220,
        "start_time": "2023-02-27T14:46:03.192Z"
      },
      {
        "duration": 122,
        "start_time": "2023-02-27T14:46:08.288Z"
      },
      {
        "duration": 4,
        "start_time": "2023-02-27T14:46:37.321Z"
      },
      {
        "duration": 3,
        "start_time": "2023-02-27T14:46:45.862Z"
      },
      {
        "duration": 108,
        "start_time": "2023-02-27T14:46:47.084Z"
      },
      {
        "duration": 1197,
        "start_time": "2023-02-27T14:47:22.717Z"
      },
      {
        "duration": 56,
        "start_time": "2023-02-27T14:47:23.917Z"
      },
      {
        "duration": 21,
        "start_time": "2023-02-27T14:47:25.019Z"
      },
      {
        "duration": 14,
        "start_time": "2023-02-27T14:47:25.577Z"
      },
      {
        "duration": 16,
        "start_time": "2023-02-27T14:47:26.274Z"
      },
      {
        "duration": 19,
        "start_time": "2023-02-27T14:47:27.002Z"
      },
      {
        "duration": 5,
        "start_time": "2023-02-27T14:47:27.551Z"
      },
      {
        "duration": 5,
        "start_time": "2023-02-27T14:47:29.512Z"
      },
      {
        "duration": 14,
        "start_time": "2023-02-27T14:47:30.106Z"
      },
      {
        "duration": 7,
        "start_time": "2023-02-27T14:47:30.585Z"
      },
      {
        "duration": 10,
        "start_time": "2023-02-27T14:47:31.422Z"
      },
      {
        "duration": 21,
        "start_time": "2023-02-27T14:47:31.775Z"
      },
      {
        "duration": 7,
        "start_time": "2023-02-27T14:47:32.250Z"
      },
      {
        "duration": 5,
        "start_time": "2023-02-27T14:47:33.398Z"
      },
      {
        "duration": 9,
        "start_time": "2023-02-27T14:47:33.579Z"
      },
      {
        "duration": 29,
        "start_time": "2023-02-27T14:47:33.970Z"
      },
      {
        "duration": 5,
        "start_time": "2023-02-27T14:47:34.363Z"
      },
      {
        "duration": 5,
        "start_time": "2023-02-27T14:47:35.620Z"
      },
      {
        "duration": 19,
        "start_time": "2023-02-27T14:47:36.899Z"
      },
      {
        "duration": 11,
        "start_time": "2023-02-27T14:47:37.152Z"
      },
      {
        "duration": 6,
        "start_time": "2023-02-27T14:47:38.177Z"
      },
      {
        "duration": 8,
        "start_time": "2023-02-27T14:47:38.376Z"
      },
      {
        "duration": 7,
        "start_time": "2023-02-27T14:47:38.601Z"
      },
      {
        "duration": 15,
        "start_time": "2023-02-27T14:47:39.798Z"
      },
      {
        "duration": 8,
        "start_time": "2023-02-27T14:47:40.611Z"
      },
      {
        "duration": 165,
        "start_time": "2023-02-27T14:47:41.829Z"
      },
      {
        "duration": 108,
        "start_time": "2023-02-27T14:47:45.952Z"
      },
      {
        "duration": 6,
        "start_time": "2023-02-27T14:47:47.315Z"
      },
      {
        "duration": 123,
        "start_time": "2023-02-27T14:47:49.401Z"
      },
      {
        "duration": 222,
        "start_time": "2023-02-27T14:48:03.933Z"
      },
      {
        "duration": 168,
        "start_time": "2023-02-27T14:48:10.779Z"
      },
      {
        "duration": 6,
        "start_time": "2023-02-27T14:48:25.631Z"
      },
      {
        "duration": 114,
        "start_time": "2023-02-27T14:48:25.950Z"
      },
      {
        "duration": 155,
        "start_time": "2023-02-27T14:48:31.526Z"
      },
      {
        "duration": 141,
        "start_time": "2023-02-27T14:48:36.922Z"
      },
      {
        "duration": 5,
        "start_time": "2023-02-27T14:48:43.633Z"
      },
      {
        "duration": 203,
        "start_time": "2023-02-27T14:48:44.503Z"
      },
      {
        "duration": 155,
        "start_time": "2023-02-27T14:48:46.608Z"
      },
      {
        "duration": 24,
        "start_time": "2023-02-27T14:48:46.928Z"
      },
      {
        "duration": 147,
        "start_time": "2023-02-27T14:49:41.276Z"
      },
      {
        "duration": 153,
        "start_time": "2023-02-27T14:49:57.753Z"
      },
      {
        "duration": 171,
        "start_time": "2023-02-27T14:50:22.582Z"
      },
      {
        "duration": 153,
        "start_time": "2023-02-27T14:50:43.158Z"
      },
      {
        "duration": 92,
        "start_time": "2023-02-27T14:51:46.267Z"
      },
      {
        "duration": 25,
        "start_time": "2023-02-27T14:51:51.266Z"
      },
      {
        "duration": 23,
        "start_time": "2023-02-27T14:52:19.982Z"
      },
      {
        "duration": 28,
        "start_time": "2023-02-27T14:53:22.712Z"
      },
      {
        "duration": 179,
        "start_time": "2023-02-27T14:54:51.428Z"
      },
      {
        "duration": 145,
        "start_time": "2023-02-27T14:54:58.980Z"
      },
      {
        "duration": 152,
        "start_time": "2023-02-27T14:55:08.649Z"
      },
      {
        "duration": 154,
        "start_time": "2023-02-27T14:55:20.268Z"
      },
      {
        "duration": 143,
        "start_time": "2023-02-27T14:55:52.870Z"
      },
      {
        "duration": 7,
        "start_time": "2023-02-27T14:56:05.942Z"
      },
      {
        "duration": 227,
        "start_time": "2023-02-27T14:56:06.712Z"
      },
      {
        "duration": 5,
        "start_time": "2023-02-27T14:57:02.622Z"
      },
      {
        "duration": 181,
        "start_time": "2023-02-27T14:57:23.936Z"
      },
      {
        "duration": 252,
        "start_time": "2023-02-27T14:57:43.116Z"
      },
      {
        "duration": 5,
        "start_time": "2023-02-27T14:58:18.077Z"
      },
      {
        "duration": 105,
        "start_time": "2023-02-27T14:58:18.350Z"
      },
      {
        "duration": 147,
        "start_time": "2023-02-27T14:58:19.588Z"
      },
      {
        "duration": 9,
        "start_time": "2023-02-27T14:58:20.149Z"
      },
      {
        "duration": 5,
        "start_time": "2023-02-27T14:58:21.204Z"
      },
      {
        "duration": 272,
        "start_time": "2023-02-27T14:58:21.740Z"
      },
      {
        "duration": 14,
        "start_time": "2023-02-27T14:59:01.416Z"
      },
      {
        "duration": 1241,
        "start_time": "2023-02-27T15:03:32.963Z"
      },
      {
        "duration": 51,
        "start_time": "2023-02-27T15:03:34.206Z"
      },
      {
        "duration": 20,
        "start_time": "2023-02-27T15:03:35.529Z"
      },
      {
        "duration": 15,
        "start_time": "2023-02-27T15:03:36.049Z"
      },
      {
        "duration": 16,
        "start_time": "2023-02-27T15:03:36.719Z"
      },
      {
        "duration": 17,
        "start_time": "2023-02-27T15:03:37.485Z"
      },
      {
        "duration": 4,
        "start_time": "2023-02-27T15:03:38.001Z"
      },
      {
        "duration": 4,
        "start_time": "2023-02-27T15:03:39.604Z"
      },
      {
        "duration": 15,
        "start_time": "2023-02-27T15:03:40.021Z"
      },
      {
        "duration": 7,
        "start_time": "2023-02-27T15:03:40.484Z"
      },
      {
        "duration": 12,
        "start_time": "2023-02-27T15:03:41.471Z"
      },
      {
        "duration": 22,
        "start_time": "2023-02-27T15:03:41.832Z"
      },
      {
        "duration": 7,
        "start_time": "2023-02-27T15:03:42.696Z"
      },
      {
        "duration": 6,
        "start_time": "2023-02-27T15:03:44.048Z"
      },
      {
        "duration": 9,
        "start_time": "2023-02-27T15:03:44.477Z"
      },
      {
        "duration": 22,
        "start_time": "2023-02-27T15:03:44.861Z"
      },
      {
        "duration": 4,
        "start_time": "2023-02-27T15:03:45.669Z"
      },
      {
        "duration": 6,
        "start_time": "2023-02-27T15:03:47.729Z"
      },
      {
        "duration": 17,
        "start_time": "2023-02-27T15:03:49.152Z"
      },
      {
        "duration": 8,
        "start_time": "2023-02-27T15:03:50.249Z"
      },
      {
        "duration": 7,
        "start_time": "2023-02-27T15:03:51.225Z"
      },
      {
        "duration": 9,
        "start_time": "2023-02-27T15:03:51.587Z"
      },
      {
        "duration": 7,
        "start_time": "2023-02-27T15:03:51.872Z"
      },
      {
        "duration": 16,
        "start_time": "2023-02-27T15:03:52.316Z"
      },
      {
        "duration": 10,
        "start_time": "2023-02-27T15:03:53.064Z"
      },
      {
        "duration": 212,
        "start_time": "2023-02-27T15:03:53.849Z"
      },
      {
        "duration": 157,
        "start_time": "2023-02-27T15:03:54.271Z"
      },
      {
        "duration": 120,
        "start_time": "2023-02-27T15:03:55.212Z"
      },
      {
        "duration": 5,
        "start_time": "2023-02-27T15:03:59.657Z"
      },
      {
        "duration": 116,
        "start_time": "2023-02-27T15:04:00.200Z"
      },
      {
        "duration": 227,
        "start_time": "2023-02-27T15:04:03.615Z"
      },
      {
        "duration": 12,
        "start_time": "2023-02-27T15:04:04.089Z"
      },
      {
        "duration": 314,
        "start_time": "2023-02-27T15:04:19.947Z"
      },
      {
        "duration": 1157,
        "start_time": "2023-02-27T18:12:09.850Z"
      },
      {
        "duration": 47,
        "start_time": "2023-02-27T18:12:11.009Z"
      },
      {
        "duration": 20,
        "start_time": "2023-02-27T18:12:12.080Z"
      },
      {
        "duration": 15,
        "start_time": "2023-02-27T18:12:12.544Z"
      },
      {
        "duration": 21,
        "start_time": "2023-02-27T18:12:13.169Z"
      },
      {
        "duration": 17,
        "start_time": "2023-02-27T18:12:13.872Z"
      },
      {
        "duration": 5,
        "start_time": "2023-02-27T18:12:14.197Z"
      },
      {
        "duration": 4,
        "start_time": "2023-02-27T18:12:16.175Z"
      },
      {
        "duration": 15,
        "start_time": "2023-02-27T18:12:16.652Z"
      },
      {
        "duration": 8,
        "start_time": "2023-02-27T18:12:17.112Z"
      },
      {
        "duration": 10,
        "start_time": "2023-02-27T18:12:18.170Z"
      },
      {
        "duration": 21,
        "start_time": "2023-02-27T18:12:18.400Z"
      },
      {
        "duration": 7,
        "start_time": "2023-02-27T18:12:18.891Z"
      },
      {
        "duration": 5,
        "start_time": "2023-02-27T18:12:20.348Z"
      },
      {
        "duration": 11,
        "start_time": "2023-02-27T18:12:20.757Z"
      },
      {
        "duration": 21,
        "start_time": "2023-02-27T18:12:21.052Z"
      },
      {
        "duration": 4,
        "start_time": "2023-02-27T18:12:21.876Z"
      },
      {
        "duration": 5,
        "start_time": "2023-02-27T18:12:24.764Z"
      },
      {
        "duration": 18,
        "start_time": "2023-02-27T18:12:25.941Z"
      },
      {
        "duration": 8,
        "start_time": "2023-02-27T18:12:26.219Z"
      },
      {
        "duration": 5,
        "start_time": "2023-02-27T18:12:27.054Z"
      },
      {
        "duration": 11,
        "start_time": "2023-02-27T18:12:27.381Z"
      },
      {
        "duration": 7,
        "start_time": "2023-02-27T18:12:27.823Z"
      },
      {
        "duration": 14,
        "start_time": "2023-02-27T18:12:28.770Z"
      },
      {
        "duration": 8,
        "start_time": "2023-02-27T18:12:29.627Z"
      },
      {
        "duration": 175,
        "start_time": "2023-02-27T18:12:30.911Z"
      },
      {
        "duration": 141,
        "start_time": "2023-02-27T18:12:31.428Z"
      },
      {
        "duration": 134,
        "start_time": "2023-02-27T18:12:33.996Z"
      },
      {
        "duration": 3,
        "start_time": "2023-02-27T18:12:43.968Z"
      },
      {
        "duration": 105,
        "start_time": "2023-02-27T18:12:45.120Z"
      },
      {
        "duration": 212,
        "start_time": "2023-02-27T18:13:11.390Z"
      },
      {
        "duration": 112,
        "start_time": "2023-02-27T18:13:28.447Z"
      },
      {
        "duration": 147,
        "start_time": "2023-02-27T18:13:59.670Z"
      },
      {
        "duration": 167,
        "start_time": "2023-02-27T18:14:09.058Z"
      },
      {
        "duration": 234,
        "start_time": "2023-02-27T18:14:19.378Z"
      },
      {
        "duration": 157,
        "start_time": "2023-02-27T18:15:21.377Z"
      },
      {
        "duration": 25,
        "start_time": "2023-02-27T18:15:41.785Z"
      },
      {
        "duration": 12,
        "start_time": "2023-02-27T18:16:40.715Z"
      },
      {
        "duration": 6,
        "start_time": "2023-02-27T18:17:01.164Z"
      },
      {
        "duration": 7,
        "start_time": "2023-02-27T18:17:13.508Z"
      },
      {
        "duration": 7,
        "start_time": "2023-02-27T18:17:20.849Z"
      },
      {
        "duration": 256,
        "start_time": "2023-02-27T18:20:14.779Z"
      },
      {
        "duration": 109,
        "start_time": "2023-02-27T18:20:51.563Z"
      },
      {
        "duration": 189,
        "start_time": "2023-02-27T18:22:03.364Z"
      },
      {
        "duration": 140,
        "start_time": "2023-02-27T18:22:11.216Z"
      },
      {
        "duration": 159,
        "start_time": "2023-02-27T18:22:29.112Z"
      },
      {
        "duration": 172,
        "start_time": "2023-02-27T18:22:34.237Z"
      },
      {
        "duration": 160,
        "start_time": "2023-02-27T18:24:40.507Z"
      },
      {
        "duration": 195,
        "start_time": "2023-02-27T18:24:45.873Z"
      },
      {
        "duration": 308,
        "start_time": "2023-02-27T18:24:51.527Z"
      },
      {
        "duration": 164,
        "start_time": "2023-02-27T18:24:58.798Z"
      },
      {
        "duration": 183,
        "start_time": "2023-02-27T18:25:04.108Z"
      },
      {
        "duration": 162,
        "start_time": "2023-02-27T18:25:09.488Z"
      },
      {
        "duration": 192,
        "start_time": "2023-02-27T18:25:17.554Z"
      },
      {
        "duration": 69,
        "start_time": "2023-02-27T18:25:20.758Z"
      },
      {
        "duration": 70,
        "start_time": "2023-02-27T18:25:25.408Z"
      },
      {
        "duration": 177,
        "start_time": "2023-02-27T18:25:30.502Z"
      },
      {
        "duration": 186,
        "start_time": "2023-02-27T18:25:39.202Z"
      },
      {
        "duration": 157,
        "start_time": "2023-02-27T18:25:44.462Z"
      },
      {
        "duration": 144,
        "start_time": "2023-02-27T18:25:59.757Z"
      },
      {
        "duration": 167,
        "start_time": "2023-02-27T18:26:05.224Z"
      },
      {
        "duration": 173,
        "start_time": "2023-02-27T18:26:29.713Z"
      },
      {
        "duration": 8,
        "start_time": "2023-02-27T18:27:19.973Z"
      },
      {
        "duration": 7,
        "start_time": "2023-02-27T18:27:27.404Z"
      },
      {
        "duration": 7,
        "start_time": "2023-02-27T18:27:32.728Z"
      },
      {
        "duration": 7,
        "start_time": "2023-02-27T18:27:46.637Z"
      },
      {
        "duration": 90,
        "start_time": "2023-02-27T18:30:36.181Z"
      },
      {
        "duration": 6,
        "start_time": "2023-02-27T18:32:47.686Z"
      },
      {
        "duration": 16,
        "start_time": "2023-02-27T18:32:56.251Z"
      },
      {
        "duration": 5,
        "start_time": "2023-02-27T18:35:02.942Z"
      },
      {
        "duration": 14,
        "start_time": "2023-02-27T18:35:04.728Z"
      },
      {
        "duration": 1336,
        "start_time": "2023-02-27T18:35:23.694Z"
      },
      {
        "duration": 53,
        "start_time": "2023-02-27T18:35:25.032Z"
      },
      {
        "duration": 28,
        "start_time": "2023-02-27T18:35:25.087Z"
      },
      {
        "duration": 16,
        "start_time": "2023-02-27T18:35:25.118Z"
      },
      {
        "duration": 17,
        "start_time": "2023-02-27T18:35:25.137Z"
      },
      {
        "duration": 53,
        "start_time": "2023-02-27T18:35:25.156Z"
      },
      {
        "duration": 7,
        "start_time": "2023-02-27T18:35:25.212Z"
      },
      {
        "duration": 5,
        "start_time": "2023-02-27T18:35:25.221Z"
      },
      {
        "duration": 19,
        "start_time": "2023-02-27T18:35:25.229Z"
      },
      {
        "duration": 8,
        "start_time": "2023-02-27T18:35:25.250Z"
      },
      {
        "duration": 41,
        "start_time": "2023-02-27T18:35:25.260Z"
      },
      {
        "duration": 34,
        "start_time": "2023-02-27T18:35:25.302Z"
      },
      {
        "duration": 19,
        "start_time": "2023-02-27T18:35:25.338Z"
      },
      {
        "duration": 8,
        "start_time": "2023-02-27T18:35:25.360Z"
      },
      {
        "duration": 16,
        "start_time": "2023-02-27T18:35:25.371Z"
      },
      {
        "duration": 40,
        "start_time": "2023-02-27T18:35:25.400Z"
      },
      {
        "duration": 6,
        "start_time": "2023-02-27T18:35:25.442Z"
      },
      {
        "duration": 14,
        "start_time": "2023-02-27T18:35:25.449Z"
      },
      {
        "duration": 35,
        "start_time": "2023-02-27T18:35:25.466Z"
      },
      {
        "duration": 14,
        "start_time": "2023-02-27T18:35:25.504Z"
      },
      {
        "duration": 18,
        "start_time": "2023-02-27T18:35:25.520Z"
      },
      {
        "duration": 18,
        "start_time": "2023-02-27T18:35:25.541Z"
      },
      {
        "duration": 7,
        "start_time": "2023-02-27T18:35:25.561Z"
      },
      {
        "duration": 31,
        "start_time": "2023-02-27T18:35:25.569Z"
      },
      {
        "duration": 11,
        "start_time": "2023-02-27T18:35:25.602Z"
      },
      {
        "duration": 187,
        "start_time": "2023-02-27T18:35:25.615Z"
      },
      {
        "duration": 161,
        "start_time": "2023-02-27T18:35:25.804Z"
      },
      {
        "duration": 121,
        "start_time": "2023-02-27T18:35:25.970Z"
      },
      {
        "duration": 190,
        "start_time": "2023-02-27T18:35:26.101Z"
      },
      {
        "duration": 195,
        "start_time": "2023-02-27T18:35:26.293Z"
      },
      {
        "duration": 12,
        "start_time": "2023-02-27T18:35:26.491Z"
      },
      {
        "duration": 12,
        "start_time": "2023-02-27T18:35:26.505Z"
      },
      {
        "duration": 15,
        "start_time": "2023-02-27T18:35:26.520Z"
      },
      {
        "duration": 196,
        "start_time": "2023-02-27T18:35:26.536Z"
      },
      {
        "duration": 205,
        "start_time": "2023-02-27T18:35:26.734Z"
      },
      {
        "duration": 6,
        "start_time": "2023-02-27T18:35:26.941Z"
      },
      {
        "duration": 474,
        "start_time": "2023-02-27T18:35:26.949Z"
      },
      {
        "duration": 138,
        "start_time": "2023-02-27T18:35:27.424Z"
      },
      {
        "duration": 0,
        "start_time": "2023-02-27T18:35:27.564Z"
      },
      {
        "duration": 1,
        "start_time": "2023-02-27T18:35:27.566Z"
      },
      {
        "duration": 0,
        "start_time": "2023-02-27T18:35:27.568Z"
      },
      {
        "duration": 0,
        "start_time": "2023-02-27T18:35:27.569Z"
      },
      {
        "duration": 0,
        "start_time": "2023-02-27T18:35:27.570Z"
      },
      {
        "duration": 0,
        "start_time": "2023-02-27T18:35:27.572Z"
      },
      {
        "duration": 0,
        "start_time": "2023-02-27T18:35:27.573Z"
      },
      {
        "duration": 0,
        "start_time": "2023-02-27T18:35:27.574Z"
      },
      {
        "duration": 0,
        "start_time": "2023-02-27T18:35:27.575Z"
      },
      {
        "duration": 0,
        "start_time": "2023-02-27T18:35:27.599Z"
      },
      {
        "duration": 0,
        "start_time": "2023-02-27T18:35:27.601Z"
      },
      {
        "duration": 0,
        "start_time": "2023-02-27T18:35:27.603Z"
      },
      {
        "duration": 0,
        "start_time": "2023-02-27T18:35:27.605Z"
      },
      {
        "duration": 0,
        "start_time": "2023-02-27T18:35:27.606Z"
      },
      {
        "duration": 0,
        "start_time": "2023-02-27T18:35:27.608Z"
      },
      {
        "duration": 0,
        "start_time": "2023-02-27T18:35:27.609Z"
      },
      {
        "duration": 0,
        "start_time": "2023-02-27T18:35:27.611Z"
      },
      {
        "duration": 0,
        "start_time": "2023-02-27T18:35:27.613Z"
      },
      {
        "duration": 0,
        "start_time": "2023-02-27T18:35:27.614Z"
      },
      {
        "duration": 0,
        "start_time": "2023-02-27T18:35:27.616Z"
      },
      {
        "duration": 0,
        "start_time": "2023-02-27T18:35:27.618Z"
      },
      {
        "duration": 0,
        "start_time": "2023-02-27T18:35:27.619Z"
      },
      {
        "duration": 0,
        "start_time": "2023-02-27T18:35:27.620Z"
      },
      {
        "duration": 0,
        "start_time": "2023-02-27T18:35:27.622Z"
      },
      {
        "duration": 0,
        "start_time": "2023-02-27T18:35:27.624Z"
      },
      {
        "duration": 0,
        "start_time": "2023-02-27T18:35:27.625Z"
      },
      {
        "duration": 1,
        "start_time": "2023-02-27T18:35:27.626Z"
      },
      {
        "duration": 0,
        "start_time": "2023-02-27T18:35:27.628Z"
      },
      {
        "duration": 1285,
        "start_time": "2023-02-27T18:40:15.942Z"
      },
      {
        "duration": 53,
        "start_time": "2023-02-27T18:40:17.229Z"
      },
      {
        "duration": 26,
        "start_time": "2023-02-27T18:40:17.284Z"
      },
      {
        "duration": 21,
        "start_time": "2023-02-27T18:40:17.313Z"
      },
      {
        "duration": 25,
        "start_time": "2023-02-27T18:40:17.336Z"
      },
      {
        "duration": 41,
        "start_time": "2023-02-27T18:40:17.363Z"
      },
      {
        "duration": 5,
        "start_time": "2023-02-27T18:40:17.406Z"
      },
      {
        "duration": 9,
        "start_time": "2023-02-27T18:40:17.413Z"
      },
      {
        "duration": 19,
        "start_time": "2023-02-27T18:40:17.424Z"
      },
      {
        "duration": 13,
        "start_time": "2023-02-27T18:40:17.446Z"
      },
      {
        "duration": 42,
        "start_time": "2023-02-27T18:40:17.461Z"
      },
      {
        "duration": 30,
        "start_time": "2023-02-27T18:40:17.506Z"
      },
      {
        "duration": 8,
        "start_time": "2023-02-27T18:40:17.538Z"
      },
      {
        "duration": 11,
        "start_time": "2023-02-27T18:40:17.548Z"
      },
      {
        "duration": 39,
        "start_time": "2023-02-27T18:40:17.561Z"
      },
      {
        "duration": 31,
        "start_time": "2023-02-27T18:40:17.602Z"
      },
      {
        "duration": 6,
        "start_time": "2023-02-27T18:40:17.635Z"
      },
      {
        "duration": 16,
        "start_time": "2023-02-27T18:40:17.644Z"
      },
      {
        "duration": 43,
        "start_time": "2023-02-27T18:40:17.662Z"
      },
      {
        "duration": 18,
        "start_time": "2023-02-27T18:40:17.707Z"
      },
      {
        "duration": 12,
        "start_time": "2023-02-27T18:40:17.728Z"
      },
      {
        "duration": 14,
        "start_time": "2023-02-27T18:40:17.742Z"
      },
      {
        "duration": 8,
        "start_time": "2023-02-27T18:40:17.758Z"
      },
      {
        "duration": 40,
        "start_time": "2023-02-27T18:40:17.768Z"
      },
      {
        "duration": 16,
        "start_time": "2023-02-27T18:40:17.811Z"
      },
      {
        "duration": 238,
        "start_time": "2023-02-27T18:40:17.829Z"
      },
      {
        "duration": 212,
        "start_time": "2023-02-27T18:40:18.069Z"
      },
      {
        "duration": 159,
        "start_time": "2023-02-27T18:40:18.286Z"
      },
      {
        "duration": 199,
        "start_time": "2023-02-27T18:40:18.448Z"
      },
      {
        "duration": 174,
        "start_time": "2023-02-27T18:40:18.649Z"
      },
      {
        "duration": 7,
        "start_time": "2023-02-27T18:40:18.825Z"
      },
      {
        "duration": 5,
        "start_time": "2023-02-27T18:40:18.834Z"
      },
      {
        "duration": 15,
        "start_time": "2023-02-27T18:40:18.841Z"
      },
      {
        "duration": 223,
        "start_time": "2023-02-27T18:40:18.858Z"
      },
      {
        "duration": 197,
        "start_time": "2023-02-27T18:40:19.083Z"
      },
      {
        "duration": 20,
        "start_time": "2023-02-27T18:40:19.282Z"
      },
      {
        "duration": 454,
        "start_time": "2023-02-27T18:40:19.304Z"
      },
      {
        "duration": 1195,
        "start_time": "2023-02-27T18:45:47.135Z"
      },
      {
        "duration": 59,
        "start_time": "2023-02-27T18:45:48.332Z"
      },
      {
        "duration": 21,
        "start_time": "2023-02-27T18:45:49.623Z"
      },
      {
        "duration": 14,
        "start_time": "2023-02-27T18:45:50.173Z"
      },
      {
        "duration": 17,
        "start_time": "2023-02-27T18:45:50.772Z"
      },
      {
        "duration": 17,
        "start_time": "2023-02-27T18:45:51.453Z"
      },
      {
        "duration": 5,
        "start_time": "2023-02-27T18:45:52.127Z"
      },
      {
        "duration": 6,
        "start_time": "2023-02-27T18:45:54.059Z"
      },
      {
        "duration": 15,
        "start_time": "2023-02-27T18:45:54.704Z"
      },
      {
        "duration": 8,
        "start_time": "2023-02-27T18:45:55.153Z"
      },
      {
        "duration": 10,
        "start_time": "2023-02-27T18:45:56.151Z"
      },
      {
        "duration": 25,
        "start_time": "2023-02-27T18:45:56.353Z"
      },
      {
        "duration": 7,
        "start_time": "2023-02-27T18:45:56.977Z"
      },
      {
        "duration": 5,
        "start_time": "2023-02-27T18:45:58.171Z"
      },
      {
        "duration": 9,
        "start_time": "2023-02-27T18:45:58.432Z"
      },
      {
        "duration": 22,
        "start_time": "2023-02-27T18:45:58.694Z"
      },
      {
        "duration": 5,
        "start_time": "2023-02-27T18:45:59.469Z"
      },
      {
        "duration": 6,
        "start_time": "2023-02-27T18:46:01.300Z"
      },
      {
        "duration": 29,
        "start_time": "2023-02-27T18:46:02.803Z"
      },
      {
        "duration": 13,
        "start_time": "2023-02-27T18:46:03.101Z"
      },
      {
        "duration": 7,
        "start_time": "2023-02-27T18:46:04.168Z"
      },
      {
        "duration": 10,
        "start_time": "2023-02-27T18:46:04.654Z"
      },
      {
        "duration": 7,
        "start_time": "2023-02-27T18:46:05.166Z"
      },
      {
        "duration": 17,
        "start_time": "2023-02-27T18:46:06.611Z"
      },
      {
        "duration": 10,
        "start_time": "2023-02-27T18:46:07.091Z"
      },
      {
        "duration": 176,
        "start_time": "2023-02-27T18:46:08.499Z"
      },
      {
        "duration": 165,
        "start_time": "2023-02-27T18:46:09.164Z"
      },
      {
        "duration": 104,
        "start_time": "2023-02-27T18:46:10.170Z"
      },
      {
        "duration": 176,
        "start_time": "2023-02-27T18:46:11.313Z"
      },
      {
        "duration": 155,
        "start_time": "2023-02-27T18:46:13.237Z"
      },
      {
        "duration": 6,
        "start_time": "2023-02-27T18:46:14.235Z"
      },
      {
        "duration": 24,
        "start_time": "2023-02-27T18:46:35.432Z"
      },
      {
        "duration": 27,
        "start_time": "2023-02-27T18:47:06.166Z"
      },
      {
        "duration": 28,
        "start_time": "2023-02-27T18:47:24.388Z"
      },
      {
        "duration": 24,
        "start_time": "2023-02-27T18:47:35.428Z"
      },
      {
        "duration": 95,
        "start_time": "2023-02-27T18:48:13.565Z"
      },
      {
        "duration": 8,
        "start_time": "2023-02-27T18:48:29.413Z"
      },
      {
        "duration": 15,
        "start_time": "2023-02-27T18:48:30.617Z"
      },
      {
        "duration": 6,
        "start_time": "2023-02-27T18:50:04.721Z"
      },
      {
        "duration": 189,
        "start_time": "2023-02-27T18:50:11.934Z"
      },
      {
        "duration": 185,
        "start_time": "2023-02-27T18:50:17.717Z"
      },
      {
        "duration": 5,
        "start_time": "2023-02-27T18:50:25.398Z"
      },
      {
        "duration": 4445,
        "start_time": "2023-02-27T18:50:43.536Z"
      },
      {
        "duration": 4231,
        "start_time": "2023-02-27T18:51:07.664Z"
      },
      {
        "duration": 6,
        "start_time": "2023-02-27T18:51:16.765Z"
      },
      {
        "duration": 339,
        "start_time": "2023-02-27T18:51:22.406Z"
      },
      {
        "duration": 341,
        "start_time": "2023-02-27T18:51:36.679Z"
      },
      {
        "duration": 24,
        "start_time": "2023-02-27T18:52:30.560Z"
      },
      {
        "duration": 109,
        "start_time": "2023-02-27T18:54:08.065Z"
      },
      {
        "duration": 33,
        "start_time": "2023-02-27T18:54:13.860Z"
      },
      {
        "duration": 24,
        "start_time": "2023-02-27T18:54:36.310Z"
      },
      {
        "duration": 7,
        "start_time": "2023-02-27T18:57:11.823Z"
      },
      {
        "duration": 6,
        "start_time": "2023-02-27T18:57:12.321Z"
      },
      {
        "duration": 6,
        "start_time": "2023-02-27T18:57:17.320Z"
      },
      {
        "duration": 279,
        "start_time": "2023-02-27T18:57:18.120Z"
      },
      {
        "duration": 5,
        "start_time": "2023-02-27T18:57:19.680Z"
      },
      {
        "duration": 394,
        "start_time": "2023-02-27T18:57:20.120Z"
      },
      {
        "duration": 7,
        "start_time": "2023-02-27T18:57:29.065Z"
      },
      {
        "duration": 348,
        "start_time": "2023-02-27T18:57:29.376Z"
      },
      {
        "duration": 6,
        "start_time": "2023-02-27T18:57:31.124Z"
      },
      {
        "duration": 291,
        "start_time": "2023-02-27T18:57:31.550Z"
      },
      {
        "duration": 456,
        "start_time": "2023-02-27T18:58:02.767Z"
      },
      {
        "duration": 37,
        "start_time": "2023-02-27T18:58:04.039Z"
      },
      {
        "duration": 9,
        "start_time": "2023-02-27T18:58:07.391Z"
      },
      {
        "duration": 6,
        "start_time": "2023-02-27T18:58:10.185Z"
      },
      {
        "duration": 7,
        "start_time": "2023-02-27T18:58:10.472Z"
      },
      {
        "duration": 6,
        "start_time": "2023-02-27T18:58:11.324Z"
      },
      {
        "duration": 265,
        "start_time": "2023-02-27T18:58:11.772Z"
      },
      {
        "duration": 6,
        "start_time": "2023-02-27T18:58:13.066Z"
      },
      {
        "duration": 257,
        "start_time": "2023-02-27T18:58:13.263Z"
      },
      {
        "duration": 7,
        "start_time": "2023-02-27T18:58:14.060Z"
      },
      {
        "duration": 409,
        "start_time": "2023-02-27T18:58:14.321Z"
      },
      {
        "duration": 5,
        "start_time": "2023-02-27T18:58:14.969Z"
      },
      {
        "duration": 235,
        "start_time": "2023-02-27T18:58:15.465Z"
      },
      {
        "duration": 7,
        "start_time": "2023-02-27T18:58:17.636Z"
      },
      {
        "duration": 327,
        "start_time": "2023-02-27T18:58:18.187Z"
      },
      {
        "duration": 5,
        "start_time": "2023-02-27T18:58:19.723Z"
      },
      {
        "duration": 300,
        "start_time": "2023-02-27T18:58:20.599Z"
      },
      {
        "duration": 23,
        "start_time": "2023-02-27T18:58:54.768Z"
      },
      {
        "duration": 216,
        "start_time": "2023-02-27T18:58:55.488Z"
      },
      {
        "duration": 112,
        "start_time": "2023-02-27T18:58:56.469Z"
      },
      {
        "duration": 16,
        "start_time": "2023-02-27T19:00:40.369Z"
      },
      {
        "duration": 27,
        "start_time": "2023-02-27T19:01:02.657Z"
      },
      {
        "duration": 30,
        "start_time": "2023-02-27T19:01:08.950Z"
      },
      {
        "duration": 22,
        "start_time": "2023-02-27T19:01:25.408Z"
      },
      {
        "duration": 20,
        "start_time": "2023-02-27T19:02:21.572Z"
      },
      {
        "duration": 8,
        "start_time": "2023-02-27T19:04:01.373Z"
      },
      {
        "duration": 7,
        "start_time": "2023-02-27T19:06:29.932Z"
      },
      {
        "duration": 6,
        "start_time": "2023-02-27T19:06:41.070Z"
      },
      {
        "duration": 6,
        "start_time": "2023-02-27T19:06:46.479Z"
      },
      {
        "duration": 7,
        "start_time": "2023-02-27T19:06:52.381Z"
      },
      {
        "duration": 7,
        "start_time": "2023-02-27T19:10:16.480Z"
      },
      {
        "duration": 6,
        "start_time": "2023-02-27T19:10:33.173Z"
      },
      {
        "duration": 7,
        "start_time": "2023-02-27T19:14:07.740Z"
      },
      {
        "duration": 8,
        "start_time": "2023-02-27T19:14:10.973Z"
      },
      {
        "duration": 9,
        "start_time": "2023-02-27T19:14:11.612Z"
      },
      {
        "duration": 7,
        "start_time": "2023-02-27T19:14:12.099Z"
      },
      {
        "duration": 413,
        "start_time": "2023-02-27T19:14:12.363Z"
      },
      {
        "duration": 8,
        "start_time": "2023-02-27T19:14:13.234Z"
      },
      {
        "duration": 570,
        "start_time": "2023-02-27T19:14:13.612Z"
      },
      {
        "duration": 6,
        "start_time": "2023-02-27T19:14:14.401Z"
      },
      {
        "duration": 397,
        "start_time": "2023-02-27T19:14:14.646Z"
      },
      {
        "duration": 8,
        "start_time": "2023-02-27T19:14:15.547Z"
      },
      {
        "duration": 381,
        "start_time": "2023-02-27T19:14:15.870Z"
      },
      {
        "duration": 380,
        "start_time": "2023-02-27T19:15:17.725Z"
      },
      {
        "duration": 236,
        "start_time": "2023-02-27T19:15:47.817Z"
      },
      {
        "duration": 314,
        "start_time": "2023-02-27T19:16:21.774Z"
      },
      {
        "duration": 374,
        "start_time": "2023-02-27T19:17:09.072Z"
      },
      {
        "duration": 120,
        "start_time": "2023-02-27T19:18:21.237Z"
      },
      {
        "duration": 290,
        "start_time": "2023-02-27T19:18:29.901Z"
      },
      {
        "duration": 21,
        "start_time": "2023-02-27T19:18:53.578Z"
      },
      {
        "duration": 292,
        "start_time": "2023-02-27T19:19:06.426Z"
      },
      {
        "duration": 6,
        "start_time": "2023-02-27T19:39:08.413Z"
      },
      {
        "duration": 6,
        "start_time": "2023-02-27T19:40:01.046Z"
      },
      {
        "duration": 9,
        "start_time": "2023-02-27T19:40:03.930Z"
      },
      {
        "duration": 7,
        "start_time": "2023-02-27T19:40:04.283Z"
      },
      {
        "duration": 4,
        "start_time": "2023-02-27T19:40:04.852Z"
      },
      {
        "duration": 294,
        "start_time": "2023-02-27T19:40:05.089Z"
      },
      {
        "duration": 6,
        "start_time": "2023-02-27T19:40:06.647Z"
      },
      {
        "duration": 297,
        "start_time": "2023-02-27T19:40:06.888Z"
      },
      {
        "duration": 7,
        "start_time": "2023-02-27T19:40:07.841Z"
      },
      {
        "duration": 311,
        "start_time": "2023-02-27T19:40:08.329Z"
      },
      {
        "duration": 5,
        "start_time": "2023-02-27T19:40:09.617Z"
      },
      {
        "duration": 277,
        "start_time": "2023-02-27T19:40:09.779Z"
      },
      {
        "duration": 6,
        "start_time": "2023-02-27T19:40:10.551Z"
      },
      {
        "duration": 368,
        "start_time": "2023-02-27T19:40:10.879Z"
      },
      {
        "duration": 70,
        "start_time": "2023-02-27T19:40:53.728Z"
      },
      {
        "duration": 6,
        "start_time": "2023-02-27T19:41:42.282Z"
      },
      {
        "duration": 316,
        "start_time": "2023-02-27T19:41:57.082Z"
      },
      {
        "duration": 8,
        "start_time": "2023-02-27T19:51:26.452Z"
      },
      {
        "duration": 38,
        "start_time": "2023-02-27T19:51:49.377Z"
      },
      {
        "duration": 22,
        "start_time": "2023-02-27T19:52:03.901Z"
      },
      {
        "duration": 239,
        "start_time": "2023-02-27T19:52:39.114Z"
      },
      {
        "duration": 239,
        "start_time": "2023-02-27T19:53:03.408Z"
      },
      {
        "duration": 20,
        "start_time": "2023-02-27T19:53:20.783Z"
      },
      {
        "duration": 26,
        "start_time": "2023-02-27T19:54:19.850Z"
      },
      {
        "duration": 224,
        "start_time": "2023-02-27T19:54:26.721Z"
      },
      {
        "duration": 28,
        "start_time": "2023-02-27T19:54:51.287Z"
      },
      {
        "duration": 30,
        "start_time": "2023-02-27T19:57:36.676Z"
      },
      {
        "duration": 23,
        "start_time": "2023-02-27T19:57:43.716Z"
      },
      {
        "duration": 25,
        "start_time": "2023-02-27T19:58:14.327Z"
      },
      {
        "duration": 277,
        "start_time": "2023-02-27T19:58:29.295Z"
      },
      {
        "duration": 298,
        "start_time": "2023-02-27T20:02:41.960Z"
      },
      {
        "duration": 300,
        "start_time": "2023-02-27T20:07:02.532Z"
      },
      {
        "duration": 92,
        "start_time": "2023-02-27T20:09:06.721Z"
      },
      {
        "duration": 72,
        "start_time": "2023-02-27T20:09:51.276Z"
      },
      {
        "duration": 94,
        "start_time": "2023-02-27T20:10:18.548Z"
      },
      {
        "duration": 6,
        "start_time": "2023-02-27T20:11:20.366Z"
      },
      {
        "duration": 7,
        "start_time": "2023-02-27T20:11:20.964Z"
      },
      {
        "duration": 9,
        "start_time": "2023-02-27T20:11:31.162Z"
      },
      {
        "duration": 58,
        "start_time": "2023-02-28T16:33:36.467Z"
      },
      {
        "duration": 1508,
        "start_time": "2023-02-28T16:33:40.796Z"
      },
      {
        "duration": 114,
        "start_time": "2023-02-28T16:33:42.306Z"
      },
      {
        "duration": 34,
        "start_time": "2023-02-28T16:33:42.422Z"
      },
      {
        "duration": 19,
        "start_time": "2023-02-28T16:33:42.459Z"
      },
      {
        "duration": 16,
        "start_time": "2023-02-28T16:33:42.479Z"
      },
      {
        "duration": 39,
        "start_time": "2023-02-28T16:33:42.496Z"
      },
      {
        "duration": 14,
        "start_time": "2023-02-28T16:33:42.536Z"
      },
      {
        "duration": 24,
        "start_time": "2023-02-28T16:33:42.552Z"
      },
      {
        "duration": 16,
        "start_time": "2023-02-28T16:33:42.578Z"
      },
      {
        "duration": 6,
        "start_time": "2023-02-28T16:33:42.596Z"
      },
      {
        "duration": 11,
        "start_time": "2023-02-28T16:33:42.604Z"
      },
      {
        "duration": 27,
        "start_time": "2023-02-28T16:33:42.616Z"
      },
      {
        "duration": 7,
        "start_time": "2023-02-28T16:33:42.645Z"
      },
      {
        "duration": 14,
        "start_time": "2023-02-28T16:33:42.654Z"
      },
      {
        "duration": 13,
        "start_time": "2023-02-28T16:33:42.669Z"
      },
      {
        "duration": 20,
        "start_time": "2023-02-28T16:33:42.684Z"
      },
      {
        "duration": 4,
        "start_time": "2023-02-28T16:33:42.705Z"
      },
      {
        "duration": 23,
        "start_time": "2023-02-28T16:33:42.711Z"
      },
      {
        "duration": 29,
        "start_time": "2023-02-28T16:33:42.743Z"
      },
      {
        "duration": 15,
        "start_time": "2023-02-28T16:33:42.774Z"
      },
      {
        "duration": 11,
        "start_time": "2023-02-28T16:33:42.791Z"
      },
      {
        "duration": 12,
        "start_time": "2023-02-28T16:33:42.803Z"
      },
      {
        "duration": 7,
        "start_time": "2023-02-28T16:33:42.817Z"
      },
      {
        "duration": 37,
        "start_time": "2023-02-28T16:33:42.825Z"
      },
      {
        "duration": 8,
        "start_time": "2023-02-28T16:33:42.864Z"
      },
      {
        "duration": 182,
        "start_time": "2023-02-28T16:33:42.873Z"
      },
      {
        "duration": 182,
        "start_time": "2023-02-28T16:33:43.056Z"
      },
      {
        "duration": 115,
        "start_time": "2023-02-28T16:33:43.241Z"
      },
      {
        "duration": 182,
        "start_time": "2023-02-28T16:33:43.358Z"
      },
      {
        "duration": 178,
        "start_time": "2023-02-28T16:33:43.541Z"
      },
      {
        "duration": 6,
        "start_time": "2023-02-28T16:34:00.267Z"
      },
      {
        "duration": 206,
        "start_time": "2023-02-28T16:41:14.603Z"
      },
      {
        "duration": 6,
        "start_time": "2023-02-28T16:41:25.652Z"
      },
      {
        "duration": 69,
        "start_time": "2023-02-28T16:41:25.665Z"
      },
      {
        "duration": 34,
        "start_time": "2023-02-28T16:41:25.745Z"
      },
      {
        "duration": 14,
        "start_time": "2023-02-28T16:41:25.780Z"
      },
      {
        "duration": 15,
        "start_time": "2023-02-28T16:41:25.795Z"
      },
      {
        "duration": 14,
        "start_time": "2023-02-28T16:41:25.811Z"
      },
      {
        "duration": 19,
        "start_time": "2023-02-28T16:41:25.827Z"
      },
      {
        "duration": 31,
        "start_time": "2023-02-28T16:41:25.848Z"
      },
      {
        "duration": 17,
        "start_time": "2023-02-28T16:41:25.881Z"
      },
      {
        "duration": 8,
        "start_time": "2023-02-28T16:41:25.900Z"
      },
      {
        "duration": 11,
        "start_time": "2023-02-28T16:41:25.911Z"
      },
      {
        "duration": 71,
        "start_time": "2023-02-28T16:41:25.924Z"
      },
      {
        "duration": 7,
        "start_time": "2023-02-28T16:41:25.996Z"
      },
      {
        "duration": 7,
        "start_time": "2023-02-28T16:41:26.004Z"
      },
      {
        "duration": 10,
        "start_time": "2023-02-28T16:41:26.012Z"
      },
      {
        "duration": 26,
        "start_time": "2023-02-28T16:41:26.024Z"
      },
      {
        "duration": 36,
        "start_time": "2023-02-28T16:41:26.052Z"
      },
      {
        "duration": 6,
        "start_time": "2023-02-28T16:41:26.091Z"
      },
      {
        "duration": 17,
        "start_time": "2023-02-28T16:41:26.099Z"
      },
      {
        "duration": 18,
        "start_time": "2023-02-28T16:41:26.118Z"
      },
      {
        "duration": 34,
        "start_time": "2023-02-28T16:41:26.140Z"
      },
      {
        "duration": 11,
        "start_time": "2023-02-28T16:41:26.176Z"
      },
      {
        "duration": 14,
        "start_time": "2023-02-28T16:41:26.188Z"
      },
      {
        "duration": 15,
        "start_time": "2023-02-28T16:41:26.203Z"
      },
      {
        "duration": 9,
        "start_time": "2023-02-28T16:41:26.220Z"
      },
      {
        "duration": 214,
        "start_time": "2023-02-28T16:41:46.364Z"
      },
      {
        "duration": 279,
        "start_time": "2023-02-28T16:47:01.824Z"
      },
      {
        "duration": 6,
        "start_time": "2023-02-28T16:47:28.679Z"
      },
      {
        "duration": 396,
        "start_time": "2023-02-28T16:47:42.176Z"
      },
      {
        "duration": 368,
        "start_time": "2023-02-28T16:47:53.992Z"
      },
      {
        "duration": 20,
        "start_time": "2023-02-28T16:48:18.694Z"
      },
      {
        "duration": 8,
        "start_time": "2023-02-28T16:48:38.527Z"
      },
      {
        "duration": 27,
        "start_time": "2023-02-28T16:48:47.055Z"
      },
      {
        "duration": 13,
        "start_time": "2023-02-28T16:49:25.425Z"
      },
      {
        "duration": 6,
        "start_time": "2023-02-28T16:49:26.687Z"
      },
      {
        "duration": 5,
        "start_time": "2023-02-28T16:49:31.471Z"
      },
      {
        "duration": 335,
        "start_time": "2023-02-28T16:49:40.158Z"
      },
      {
        "duration": 6,
        "start_time": "2023-02-28T16:50:58.760Z"
      },
      {
        "duration": 295,
        "start_time": "2023-02-28T16:51:01.753Z"
      },
      {
        "duration": 7,
        "start_time": "2023-02-28T16:51:32.266Z"
      },
      {
        "duration": 310,
        "start_time": "2023-02-28T16:51:34.161Z"
      },
      {
        "duration": 6,
        "start_time": "2023-02-28T16:51:40.167Z"
      },
      {
        "duration": 393,
        "start_time": "2023-02-28T16:51:41.771Z"
      },
      {
        "duration": 13,
        "start_time": "2023-02-28T16:51:52.951Z"
      },
      {
        "duration": 412,
        "start_time": "2023-02-28T16:51:59.976Z"
      },
      {
        "duration": 6,
        "start_time": "2023-02-28T16:52:06.420Z"
      },
      {
        "duration": 346,
        "start_time": "2023-02-28T16:52:07.454Z"
      },
      {
        "duration": 371,
        "start_time": "2023-02-28T16:52:40.424Z"
      },
      {
        "duration": 288,
        "start_time": "2023-02-28T16:58:16.282Z"
      },
      {
        "duration": 1195,
        "start_time": "2023-02-28T17:03:41.361Z"
      },
      {
        "duration": 49,
        "start_time": "2023-02-28T17:03:42.558Z"
      },
      {
        "duration": 29,
        "start_time": "2023-02-28T17:03:42.610Z"
      },
      {
        "duration": 28,
        "start_time": "2023-02-28T17:03:42.641Z"
      },
      {
        "duration": 22,
        "start_time": "2023-02-28T17:03:42.670Z"
      },
      {
        "duration": 28,
        "start_time": "2023-02-28T17:03:42.694Z"
      },
      {
        "duration": 16,
        "start_time": "2023-02-28T17:03:42.724Z"
      },
      {
        "duration": 8,
        "start_time": "2023-02-28T17:03:42.745Z"
      },
      {
        "duration": 17,
        "start_time": "2023-02-28T17:03:42.754Z"
      },
      {
        "duration": 7,
        "start_time": "2023-02-28T17:03:42.775Z"
      },
      {
        "duration": 11,
        "start_time": "2023-02-28T17:03:42.784Z"
      },
      {
        "duration": 23,
        "start_time": "2023-02-28T17:03:42.796Z"
      },
      {
        "duration": 6,
        "start_time": "2023-02-28T17:03:42.830Z"
      },
      {
        "duration": 16,
        "start_time": "2023-02-28T17:03:42.840Z"
      },
      {
        "duration": 10,
        "start_time": "2023-02-28T17:03:42.858Z"
      },
      {
        "duration": 22,
        "start_time": "2023-02-28T17:03:42.870Z"
      },
      {
        "duration": 5,
        "start_time": "2023-02-28T17:03:42.894Z"
      },
      {
        "duration": 17,
        "start_time": "2023-02-28T17:03:42.901Z"
      },
      {
        "duration": 24,
        "start_time": "2023-02-28T17:03:42.928Z"
      },
      {
        "duration": 12,
        "start_time": "2023-02-28T17:03:42.953Z"
      },
      {
        "duration": 9,
        "start_time": "2023-02-28T17:03:42.967Z"
      },
      {
        "duration": 9,
        "start_time": "2023-02-28T17:03:42.978Z"
      },
      {
        "duration": 7,
        "start_time": "2023-02-28T17:03:42.988Z"
      },
      {
        "duration": 49,
        "start_time": "2023-02-28T17:03:42.997Z"
      },
      {
        "duration": 12,
        "start_time": "2023-02-28T17:03:43.047Z"
      },
      {
        "duration": 189,
        "start_time": "2023-02-28T17:03:43.061Z"
      },
      {
        "duration": 197,
        "start_time": "2023-02-28T17:03:43.252Z"
      },
      {
        "duration": 118,
        "start_time": "2023-02-28T17:03:43.455Z"
      },
      {
        "duration": 198,
        "start_time": "2023-02-28T17:03:43.575Z"
      },
      {
        "duration": 180,
        "start_time": "2023-02-28T17:03:43.776Z"
      },
      {
        "duration": 6,
        "start_time": "2023-02-28T17:03:43.958Z"
      },
      {
        "duration": 7,
        "start_time": "2023-02-28T17:03:43.966Z"
      },
      {
        "duration": 7,
        "start_time": "2023-02-28T17:03:43.975Z"
      },
      {
        "duration": 198,
        "start_time": "2023-02-28T17:03:43.984Z"
      },
      {
        "duration": 189,
        "start_time": "2023-02-28T17:03:44.183Z"
      },
      {
        "duration": 4,
        "start_time": "2023-02-28T17:03:44.374Z"
      },
      {
        "duration": 319,
        "start_time": "2023-02-28T17:03:44.380Z"
      },
      {
        "duration": 4204,
        "start_time": "2023-02-28T17:03:44.701Z"
      },
      {
        "duration": 7,
        "start_time": "2023-02-28T17:03:48.907Z"
      },
      {
        "duration": 332,
        "start_time": "2023-02-28T17:03:48.916Z"
      },
      {
        "duration": 23,
        "start_time": "2023-02-28T17:03:49.250Z"
      },
      {
        "duration": 6,
        "start_time": "2023-02-28T17:03:49.275Z"
      },
      {
        "duration": 7,
        "start_time": "2023-02-28T17:03:49.283Z"
      },
      {
        "duration": 7,
        "start_time": "2023-02-28T17:03:49.292Z"
      },
      {
        "duration": 5,
        "start_time": "2023-02-28T17:03:49.300Z"
      },
      {
        "duration": 257,
        "start_time": "2023-02-28T17:03:49.327Z"
      },
      {
        "duration": 5,
        "start_time": "2023-02-28T17:03:49.585Z"
      },
      {
        "duration": 296,
        "start_time": "2023-02-28T17:03:49.592Z"
      },
      {
        "duration": 5,
        "start_time": "2023-02-28T17:03:49.889Z"
      },
      {
        "duration": 264,
        "start_time": "2023-02-28T17:03:49.896Z"
      },
      {
        "duration": 5,
        "start_time": "2023-02-28T17:03:50.161Z"
      },
      {
        "duration": 396,
        "start_time": "2023-02-28T17:03:50.168Z"
      },
      {
        "duration": 6,
        "start_time": "2023-02-28T17:03:50.566Z"
      },
      {
        "duration": 399,
        "start_time": "2023-02-28T17:03:50.575Z"
      },
      {
        "duration": 6,
        "start_time": "2023-02-28T17:03:50.976Z"
      },
      {
        "duration": 290,
        "start_time": "2023-02-28T17:03:50.984Z"
      },
      {
        "duration": 310,
        "start_time": "2023-02-28T17:03:51.276Z"
      },
      {
        "duration": 346,
        "start_time": "2023-02-28T17:03:51.588Z"
      },
      {
        "duration": 312,
        "start_time": "2023-02-28T17:03:51.939Z"
      },
      {
        "duration": 287,
        "start_time": "2023-02-28T17:03:52.253Z"
      },
      {
        "duration": 8,
        "start_time": "2023-02-28T17:03:52.542Z"
      },
      {
        "duration": 37,
        "start_time": "2023-02-28T17:03:52.551Z"
      },
      {
        "duration": 27,
        "start_time": "2023-02-28T17:03:52.589Z"
      },
      {
        "duration": 1447,
        "start_time": "2023-02-28T19:51:08.128Z"
      },
      {
        "duration": 202,
        "start_time": "2023-02-28T19:51:09.577Z"
      },
      {
        "duration": 20,
        "start_time": "2023-02-28T19:51:09.781Z"
      },
      {
        "duration": 31,
        "start_time": "2023-02-28T19:51:09.803Z"
      },
      {
        "duration": 32,
        "start_time": "2023-02-28T19:51:09.835Z"
      },
      {
        "duration": 31,
        "start_time": "2023-02-28T19:51:09.868Z"
      },
      {
        "duration": 11,
        "start_time": "2023-02-28T19:51:09.900Z"
      },
      {
        "duration": 29,
        "start_time": "2023-02-28T19:51:09.913Z"
      },
      {
        "duration": 52,
        "start_time": "2023-02-28T19:51:09.943Z"
      },
      {
        "duration": 38,
        "start_time": "2023-02-28T19:51:09.998Z"
      },
      {
        "duration": 44,
        "start_time": "2023-02-28T19:51:10.038Z"
      },
      {
        "duration": 52,
        "start_time": "2023-02-28T19:51:10.083Z"
      },
      {
        "duration": 7,
        "start_time": "2023-02-28T19:51:10.136Z"
      },
      {
        "duration": 33,
        "start_time": "2023-02-28T19:51:10.144Z"
      },
      {
        "duration": 34,
        "start_time": "2023-02-28T19:51:10.178Z"
      },
      {
        "duration": 43,
        "start_time": "2023-02-28T19:51:10.213Z"
      },
      {
        "duration": 19,
        "start_time": "2023-02-28T19:51:10.257Z"
      },
      {
        "duration": 32,
        "start_time": "2023-02-28T19:51:10.278Z"
      },
      {
        "duration": 38,
        "start_time": "2023-02-28T19:51:10.312Z"
      },
      {
        "duration": 29,
        "start_time": "2023-02-28T19:51:10.352Z"
      },
      {
        "duration": 43,
        "start_time": "2023-02-28T19:51:10.383Z"
      },
      {
        "duration": 15,
        "start_time": "2023-02-28T19:51:10.428Z"
      },
      {
        "duration": 33,
        "start_time": "2023-02-28T19:51:10.445Z"
      },
      {
        "duration": 37,
        "start_time": "2023-02-28T19:51:10.480Z"
      },
      {
        "duration": 23,
        "start_time": "2023-02-28T19:51:10.519Z"
      },
      {
        "duration": 205,
        "start_time": "2023-02-28T19:51:10.543Z"
      },
      {
        "duration": 169,
        "start_time": "2023-02-28T19:51:10.750Z"
      },
      {
        "duration": 5,
        "start_time": "2023-02-28T19:51:10.922Z"
      },
      {
        "duration": 316,
        "start_time": "2023-02-28T19:51:10.936Z"
      },
      {
        "duration": 4759,
        "start_time": "2023-02-28T19:51:11.254Z"
      },
      {
        "duration": 6,
        "start_time": "2023-02-28T19:51:16.015Z"
      },
      {
        "duration": 326,
        "start_time": "2023-02-28T19:51:16.023Z"
      },
      {
        "duration": 21,
        "start_time": "2023-02-28T19:51:16.350Z"
      },
      {
        "duration": 6,
        "start_time": "2023-02-28T19:51:16.372Z"
      },
      {
        "duration": 16,
        "start_time": "2023-02-28T19:51:16.380Z"
      },
      {
        "duration": 14,
        "start_time": "2023-02-28T19:51:16.397Z"
      },
      {
        "duration": 8,
        "start_time": "2023-02-28T19:51:16.413Z"
      },
      {
        "duration": 268,
        "start_time": "2023-02-28T19:51:16.422Z"
      },
      {
        "duration": 5,
        "start_time": "2023-02-28T19:51:16.692Z"
      },
      {
        "duration": 287,
        "start_time": "2023-02-28T19:51:16.698Z"
      },
      {
        "duration": 5,
        "start_time": "2023-02-28T19:51:16.987Z"
      },
      {
        "duration": 400,
        "start_time": "2023-02-28T19:51:16.994Z"
      },
      {
        "duration": 6,
        "start_time": "2023-02-28T19:51:17.395Z"
      },
      {
        "duration": 259,
        "start_time": "2023-02-28T19:51:17.402Z"
      },
      {
        "duration": 4,
        "start_time": "2023-02-28T19:51:17.663Z"
      },
      {
        "duration": 277,
        "start_time": "2023-02-28T19:51:17.669Z"
      },
      {
        "duration": 4,
        "start_time": "2023-02-28T19:51:17.948Z"
      },
      {
        "duration": 251,
        "start_time": "2023-02-28T19:51:17.954Z"
      },
      {
        "duration": 335,
        "start_time": "2023-02-28T19:51:18.207Z"
      },
      {
        "duration": 265,
        "start_time": "2023-02-28T19:51:18.544Z"
      },
      {
        "duration": 400,
        "start_time": "2023-02-28T19:51:18.811Z"
      },
      {
        "duration": 261,
        "start_time": "2023-02-28T19:51:19.212Z"
      },
      {
        "duration": 5,
        "start_time": "2023-02-28T19:51:19.475Z"
      },
      {
        "duration": 8,
        "start_time": "2023-02-28T19:51:19.482Z"
      },
      {
        "duration": 7,
        "start_time": "2023-02-28T19:51:19.491Z"
      },
      {
        "duration": 5,
        "start_time": "2023-02-28T20:02:28.509Z"
      },
      {
        "duration": 311,
        "start_time": "2023-02-28T20:03:25.788Z"
      },
      {
        "duration": 285,
        "start_time": "2023-02-28T20:04:12.500Z"
      },
      {
        "duration": 285,
        "start_time": "2023-02-28T20:07:07.205Z"
      },
      {
        "duration": 282,
        "start_time": "2023-02-28T20:09:36.003Z"
      },
      {
        "duration": 264,
        "start_time": "2023-02-28T20:14:08.114Z"
      },
      {
        "duration": 295,
        "start_time": "2023-02-28T20:14:39.125Z"
      },
      {
        "duration": 238,
        "start_time": "2023-02-28T20:16:06.799Z"
      },
      {
        "duration": 11,
        "start_time": "2023-02-28T20:16:32.793Z"
      },
      {
        "duration": 12,
        "start_time": "2023-02-28T20:17:04.920Z"
      },
      {
        "duration": 12,
        "start_time": "2023-02-28T20:17:51.058Z"
      },
      {
        "duration": 1183,
        "start_time": "2023-02-28T20:18:08.627Z"
      },
      {
        "duration": 52,
        "start_time": "2023-02-28T20:18:09.812Z"
      },
      {
        "duration": 20,
        "start_time": "2023-02-28T20:18:09.865Z"
      },
      {
        "duration": 16,
        "start_time": "2023-02-28T20:18:09.888Z"
      },
      {
        "duration": 13,
        "start_time": "2023-02-28T20:18:09.906Z"
      },
      {
        "duration": 15,
        "start_time": "2023-02-28T20:18:09.937Z"
      },
      {
        "duration": 4,
        "start_time": "2023-02-28T20:18:09.954Z"
      },
      {
        "duration": 7,
        "start_time": "2023-02-28T20:18:09.959Z"
      },
      {
        "duration": 20,
        "start_time": "2023-02-28T20:18:09.968Z"
      },
      {
        "duration": 10,
        "start_time": "2023-02-28T20:18:09.990Z"
      },
      {
        "duration": 11,
        "start_time": "2023-02-28T20:18:10.001Z"
      },
      {
        "duration": 41,
        "start_time": "2023-02-28T20:18:10.014Z"
      },
      {
        "duration": 6,
        "start_time": "2023-02-28T20:18:10.057Z"
      },
      {
        "duration": 7,
        "start_time": "2023-02-28T20:18:10.065Z"
      },
      {
        "duration": 10,
        "start_time": "2023-02-28T20:18:10.073Z"
      },
      {
        "duration": 20,
        "start_time": "2023-02-28T20:18:10.085Z"
      },
      {
        "duration": 29,
        "start_time": "2023-02-28T20:18:10.107Z"
      },
      {
        "duration": 6,
        "start_time": "2023-02-28T20:18:10.138Z"
      },
      {
        "duration": 18,
        "start_time": "2023-02-28T20:18:10.145Z"
      },
      {
        "duration": 11,
        "start_time": "2023-02-28T20:18:10.164Z"
      },
      {
        "duration": 9,
        "start_time": "2023-02-28T20:18:10.176Z"
      },
      {
        "duration": 9,
        "start_time": "2023-02-28T20:18:10.187Z"
      },
      {
        "duration": 7,
        "start_time": "2023-02-28T20:18:10.198Z"
      },
      {
        "duration": 43,
        "start_time": "2023-02-28T20:18:10.206Z"
      },
      {
        "duration": 9,
        "start_time": "2023-02-28T20:18:10.251Z"
      },
      {
        "duration": 193,
        "start_time": "2023-02-28T20:18:10.261Z"
      },
      {
        "duration": 168,
        "start_time": "2023-02-28T20:18:10.455Z"
      },
      {
        "duration": 11,
        "start_time": "2023-02-28T20:18:10.626Z"
      },
      {
        "duration": 15,
        "start_time": "2023-02-28T20:18:10.639Z"
      },
      {
        "duration": 326,
        "start_time": "2023-02-28T20:18:10.655Z"
      },
      {
        "duration": 4814,
        "start_time": "2023-02-28T20:18:10.983Z"
      },
      {
        "duration": 5,
        "start_time": "2023-02-28T20:18:15.799Z"
      },
      {
        "duration": 328,
        "start_time": "2023-02-28T20:18:15.805Z"
      },
      {
        "duration": 21,
        "start_time": "2023-02-28T20:18:16.134Z"
      },
      {
        "duration": 37,
        "start_time": "2023-02-28T20:18:16.156Z"
      },
      {
        "duration": 32,
        "start_time": "2023-02-28T20:18:16.194Z"
      },
      {
        "duration": 37,
        "start_time": "2023-02-28T20:18:16.228Z"
      },
      {
        "duration": 39,
        "start_time": "2023-02-28T20:18:16.266Z"
      },
      {
        "duration": 272,
        "start_time": "2023-02-28T20:18:16.307Z"
      },
      {
        "duration": 5,
        "start_time": "2023-02-28T20:18:16.580Z"
      },
      {
        "duration": 292,
        "start_time": "2023-02-28T20:18:16.586Z"
      },
      {
        "duration": 5,
        "start_time": "2023-02-28T20:18:16.880Z"
      },
      {
        "duration": 404,
        "start_time": "2023-02-28T20:18:16.887Z"
      },
      {
        "duration": 6,
        "start_time": "2023-02-28T20:18:17.293Z"
      },
      {
        "duration": 287,
        "start_time": "2023-02-28T20:18:17.301Z"
      },
      {
        "duration": 5,
        "start_time": "2023-02-28T20:18:17.590Z"
      },
      {
        "duration": 282,
        "start_time": "2023-02-28T20:18:17.597Z"
      },
      {
        "duration": 5,
        "start_time": "2023-02-28T20:18:17.881Z"
      },
      {
        "duration": 280,
        "start_time": "2023-02-28T20:18:17.888Z"
      },
      {
        "duration": 306,
        "start_time": "2023-02-28T20:18:18.169Z"
      },
      {
        "duration": 309,
        "start_time": "2023-02-28T20:18:18.477Z"
      },
      {
        "duration": 405,
        "start_time": "2023-02-28T20:18:18.788Z"
      },
      {
        "duration": 245,
        "start_time": "2023-02-28T20:18:19.195Z"
      },
      {
        "duration": 10,
        "start_time": "2023-02-28T20:18:19.442Z"
      },
      {
        "duration": 9,
        "start_time": "2023-02-28T20:18:19.454Z"
      },
      {
        "duration": 12,
        "start_time": "2023-02-28T20:18:19.465Z"
      },
      {
        "duration": 8,
        "start_time": "2023-02-28T20:18:19.478Z"
      },
      {
        "duration": 12,
        "start_time": "2023-02-28T20:21:34.192Z"
      },
      {
        "duration": 1175,
        "start_time": "2023-02-28T20:21:45.619Z"
      },
      {
        "duration": 53,
        "start_time": "2023-02-28T20:21:46.796Z"
      },
      {
        "duration": 21,
        "start_time": "2023-02-28T20:21:46.851Z"
      },
      {
        "duration": 14,
        "start_time": "2023-02-28T20:21:46.874Z"
      },
      {
        "duration": 15,
        "start_time": "2023-02-28T20:21:46.890Z"
      },
      {
        "duration": 39,
        "start_time": "2023-02-28T20:21:46.906Z"
      },
      {
        "duration": 5,
        "start_time": "2023-02-28T20:21:46.947Z"
      },
      {
        "duration": 8,
        "start_time": "2023-02-28T20:21:46.953Z"
      },
      {
        "duration": 16,
        "start_time": "2023-02-28T20:21:46.963Z"
      },
      {
        "duration": 10,
        "start_time": "2023-02-28T20:21:46.982Z"
      },
      {
        "duration": 9,
        "start_time": "2023-02-28T20:21:46.993Z"
      },
      {
        "duration": 50,
        "start_time": "2023-02-28T20:21:47.004Z"
      },
      {
        "duration": 6,
        "start_time": "2023-02-28T20:21:47.056Z"
      },
      {
        "duration": 4,
        "start_time": "2023-02-28T20:21:47.064Z"
      },
      {
        "duration": 15,
        "start_time": "2023-02-28T20:21:47.070Z"
      },
      {
        "duration": 20,
        "start_time": "2023-02-28T20:21:47.087Z"
      },
      {
        "duration": 29,
        "start_time": "2023-02-28T20:21:47.109Z"
      },
      {
        "duration": 9,
        "start_time": "2023-02-28T20:21:47.140Z"
      },
      {
        "duration": 18,
        "start_time": "2023-02-28T20:21:47.151Z"
      },
      {
        "duration": 16,
        "start_time": "2023-02-28T20:21:47.171Z"
      },
      {
        "duration": 8,
        "start_time": "2023-02-28T20:21:47.189Z"
      },
      {
        "duration": 10,
        "start_time": "2023-02-28T20:21:47.198Z"
      },
      {
        "duration": 26,
        "start_time": "2023-02-28T20:21:47.210Z"
      },
      {
        "duration": 14,
        "start_time": "2023-02-28T20:21:47.238Z"
      },
      {
        "duration": 8,
        "start_time": "2023-02-28T20:21:47.255Z"
      },
      {
        "duration": 206,
        "start_time": "2023-02-28T20:21:47.264Z"
      },
      {
        "duration": 181,
        "start_time": "2023-02-28T20:21:47.472Z"
      },
      {
        "duration": 5,
        "start_time": "2023-02-28T20:21:47.656Z"
      },
      {
        "duration": 17,
        "start_time": "2023-02-28T20:21:47.663Z"
      },
      {
        "duration": 332,
        "start_time": "2023-02-28T20:21:47.681Z"
      },
      {
        "duration": 4928,
        "start_time": "2023-02-28T20:21:48.014Z"
      },
      {
        "duration": 6,
        "start_time": "2023-02-28T20:21:52.944Z"
      },
      {
        "duration": 335,
        "start_time": "2023-02-28T20:21:52.952Z"
      },
      {
        "duration": 24,
        "start_time": "2023-02-28T20:21:53.289Z"
      },
      {
        "duration": 22,
        "start_time": "2023-02-28T20:21:53.314Z"
      },
      {
        "duration": 13,
        "start_time": "2023-02-28T20:21:53.338Z"
      },
      {
        "duration": 10,
        "start_time": "2023-02-28T20:21:53.353Z"
      },
      {
        "duration": 19,
        "start_time": "2023-02-28T20:21:53.365Z"
      },
      {
        "duration": 273,
        "start_time": "2023-02-28T20:21:53.386Z"
      },
      {
        "duration": 5,
        "start_time": "2023-02-28T20:21:53.660Z"
      },
      {
        "duration": 263,
        "start_time": "2023-02-28T20:21:53.666Z"
      },
      {
        "duration": 4,
        "start_time": "2023-02-28T20:21:53.936Z"
      },
      {
        "duration": 361,
        "start_time": "2023-02-28T20:21:53.942Z"
      },
      {
        "duration": 5,
        "start_time": "2023-02-28T20:21:54.305Z"
      },
      {
        "duration": 268,
        "start_time": "2023-02-28T20:21:54.312Z"
      },
      {
        "duration": 5,
        "start_time": "2023-02-28T20:21:54.582Z"
      },
      {
        "duration": 284,
        "start_time": "2023-02-28T20:21:54.589Z"
      },
      {
        "duration": 5,
        "start_time": "2023-02-28T20:21:54.875Z"
      },
      {
        "duration": 248,
        "start_time": "2023-02-28T20:21:54.881Z"
      },
      {
        "duration": 295,
        "start_time": "2023-02-28T20:21:55.131Z"
      },
      {
        "duration": 272,
        "start_time": "2023-02-28T20:21:55.427Z"
      },
      {
        "duration": 394,
        "start_time": "2023-02-28T20:21:55.700Z"
      },
      {
        "duration": 236,
        "start_time": "2023-02-28T20:21:56.096Z"
      },
      {
        "duration": 11,
        "start_time": "2023-02-28T20:21:56.333Z"
      },
      {
        "duration": 8,
        "start_time": "2023-02-28T20:21:56.345Z"
      },
      {
        "duration": 10,
        "start_time": "2023-02-28T20:21:56.355Z"
      },
      {
        "duration": 10,
        "start_time": "2023-02-28T20:21:56.367Z"
      },
      {
        "duration": 5,
        "start_time": "2023-02-28T20:23:38.980Z"
      },
      {
        "duration": 55,
        "start_time": "2023-02-28T20:23:39.340Z"
      },
      {
        "duration": 17,
        "start_time": "2023-02-28T20:23:40.552Z"
      },
      {
        "duration": 14,
        "start_time": "2023-02-28T20:23:41.053Z"
      },
      {
        "duration": 16,
        "start_time": "2023-02-28T20:23:41.727Z"
      },
      {
        "duration": 15,
        "start_time": "2023-02-28T20:23:42.733Z"
      },
      {
        "duration": 5,
        "start_time": "2023-02-28T20:23:43.255Z"
      },
      {
        "duration": 4,
        "start_time": "2023-02-28T20:23:45.817Z"
      },
      {
        "duration": 22,
        "start_time": "2023-02-28T20:23:46.327Z"
      },
      {
        "duration": 9,
        "start_time": "2023-02-28T20:23:47.596Z"
      },
      {
        "duration": 10,
        "start_time": "2023-02-28T20:23:49.083Z"
      },
      {
        "duration": 21,
        "start_time": "2023-02-28T20:23:49.760Z"
      },
      {
        "duration": 7,
        "start_time": "2023-02-28T20:23:50.592Z"
      },
      {
        "duration": 4,
        "start_time": "2023-02-28T20:23:56.861Z"
      },
      {
        "duration": 10,
        "start_time": "2023-02-28T20:23:57.398Z"
      },
      {
        "duration": 23,
        "start_time": "2023-02-28T20:23:57.968Z"
      },
      {
        "duration": 5,
        "start_time": "2023-02-28T20:23:59.729Z"
      },
      {
        "duration": 6,
        "start_time": "2023-02-28T20:24:10.191Z"
      },
      {
        "duration": 17,
        "start_time": "2023-02-28T20:24:12.450Z"
      },
      {
        "duration": 10,
        "start_time": "2023-02-28T20:26:50.500Z"
      },
      {
        "duration": 14,
        "start_time": "2023-02-28T20:27:03.416Z"
      },
      {
        "duration": 6,
        "start_time": "2023-02-28T20:27:13.007Z"
      },
      {
        "duration": 10,
        "start_time": "2023-02-28T20:27:13.540Z"
      },
      {
        "duration": 7,
        "start_time": "2023-02-28T20:27:16.194Z"
      },
      {
        "duration": 15,
        "start_time": "2023-02-28T20:27:18.539Z"
      },
      {
        "duration": 8,
        "start_time": "2023-02-28T20:27:19.675Z"
      },
      {
        "duration": 17,
        "start_time": "2023-02-28T20:27:31.053Z"
      },
      {
        "duration": 173,
        "start_time": "2023-02-28T20:27:47.549Z"
      },
      {
        "duration": 162,
        "start_time": "2023-02-28T20:27:48.519Z"
      },
      {
        "duration": 6,
        "start_time": "2023-02-28T20:27:52.748Z"
      },
      {
        "duration": 14,
        "start_time": "2023-02-28T20:27:54.328Z"
      },
      {
        "duration": 321,
        "start_time": "2023-02-28T20:27:58.443Z"
      },
      {
        "duration": 5051,
        "start_time": "2023-02-28T20:28:06.890Z"
      },
      {
        "duration": 14,
        "start_time": "2023-02-28T20:28:31.541Z"
      },
      {
        "duration": 6,
        "start_time": "2023-02-28T20:28:51.461Z"
      },
      {
        "duration": 328,
        "start_time": "2023-02-28T20:28:55.823Z"
      },
      {
        "duration": 23,
        "start_time": "2023-02-28T20:28:59.670Z"
      },
      {
        "duration": 14,
        "start_time": "2023-02-28T20:29:29.400Z"
      },
      {
        "duration": 7,
        "start_time": "2023-02-28T20:29:40.795Z"
      },
      {
        "duration": 12,
        "start_time": "2023-02-28T20:29:41.680Z"
      },
      {
        "duration": 12,
        "start_time": "2023-02-28T20:31:41.039Z"
      },
      {
        "duration": 1246,
        "start_time": "2023-02-28T20:32:58.732Z"
      },
      {
        "duration": 56,
        "start_time": "2023-02-28T20:32:59.980Z"
      },
      {
        "duration": 21,
        "start_time": "2023-02-28T20:33:00.038Z"
      },
      {
        "duration": 41,
        "start_time": "2023-02-28T20:33:00.061Z"
      },
      {
        "duration": 40,
        "start_time": "2023-02-28T20:33:00.104Z"
      },
      {
        "duration": 30,
        "start_time": "2023-02-28T20:33:00.146Z"
      },
      {
        "duration": 23,
        "start_time": "2023-02-28T20:33:00.177Z"
      },
      {
        "duration": 35,
        "start_time": "2023-02-28T20:33:00.202Z"
      },
      {
        "duration": 40,
        "start_time": "2023-02-28T20:33:00.239Z"
      },
      {
        "duration": 36,
        "start_time": "2023-02-28T20:33:00.283Z"
      },
      {
        "duration": 40,
        "start_time": "2023-02-28T20:33:00.320Z"
      },
      {
        "duration": 46,
        "start_time": "2023-02-28T20:33:00.362Z"
      },
      {
        "duration": 36,
        "start_time": "2023-02-28T20:33:00.410Z"
      },
      {
        "duration": 47,
        "start_time": "2023-02-28T20:33:00.447Z"
      },
      {
        "duration": 41,
        "start_time": "2023-02-28T20:33:00.496Z"
      },
      {
        "duration": 63,
        "start_time": "2023-02-28T20:33:00.539Z"
      },
      {
        "duration": 20,
        "start_time": "2023-02-28T20:33:00.605Z"
      },
      {
        "duration": 40,
        "start_time": "2023-02-28T20:33:00.627Z"
      },
      {
        "duration": 44,
        "start_time": "2023-02-28T20:33:00.668Z"
      },
      {
        "duration": 32,
        "start_time": "2023-02-28T20:33:00.714Z"
      },
      {
        "duration": 44,
        "start_time": "2023-02-28T20:33:00.748Z"
      },
      {
        "duration": 31,
        "start_time": "2023-02-28T20:33:00.793Z"
      },
      {
        "duration": 54,
        "start_time": "2023-02-28T20:33:00.826Z"
      },
      {
        "duration": 33,
        "start_time": "2023-02-28T20:33:00.881Z"
      },
      {
        "duration": 47,
        "start_time": "2023-02-28T20:33:00.916Z"
      },
      {
        "duration": 210,
        "start_time": "2023-02-28T20:33:00.965Z"
      },
      {
        "duration": 186,
        "start_time": "2023-02-28T20:33:01.177Z"
      },
      {
        "duration": 6,
        "start_time": "2023-02-28T20:33:01.368Z"
      },
      {
        "duration": 40,
        "start_time": "2023-02-28T20:33:01.376Z"
      },
      {
        "duration": 341,
        "start_time": "2023-02-28T20:33:01.419Z"
      },
      {
        "duration": 5138,
        "start_time": "2023-02-28T20:33:01.762Z"
      },
      {
        "duration": 14,
        "start_time": "2023-02-28T20:33:06.902Z"
      },
      {
        "duration": 20,
        "start_time": "2023-02-28T20:33:06.918Z"
      },
      {
        "duration": 369,
        "start_time": "2023-02-28T20:33:06.941Z"
      },
      {
        "duration": 37,
        "start_time": "2023-02-28T20:33:07.313Z"
      },
      {
        "duration": 40,
        "start_time": "2023-02-28T20:33:07.353Z"
      },
      {
        "duration": 24,
        "start_time": "2023-02-28T20:33:07.394Z"
      },
      {
        "duration": 27,
        "start_time": "2023-02-28T20:33:07.420Z"
      },
      {
        "duration": 18,
        "start_time": "2023-02-28T20:33:07.449Z"
      },
      {
        "duration": 8,
        "start_time": "2023-02-28T20:33:07.469Z"
      },
      {
        "duration": 314,
        "start_time": "2023-02-28T20:33:07.479Z"
      },
      {
        "duration": 6,
        "start_time": "2023-02-28T20:33:07.795Z"
      },
      {
        "duration": 294,
        "start_time": "2023-02-28T20:33:07.803Z"
      },
      {
        "duration": 5,
        "start_time": "2023-02-28T20:33:08.099Z"
      },
      {
        "duration": 391,
        "start_time": "2023-02-28T20:33:08.106Z"
      },
      {
        "duration": 6,
        "start_time": "2023-02-28T20:33:08.499Z"
      },
      {
        "duration": 320,
        "start_time": "2023-02-28T20:33:08.508Z"
      },
      {
        "duration": 9,
        "start_time": "2023-02-28T20:33:08.829Z"
      },
      {
        "duration": 303,
        "start_time": "2023-02-28T20:33:08.842Z"
      },
      {
        "duration": 5,
        "start_time": "2023-02-28T20:33:09.148Z"
      },
      {
        "duration": 282,
        "start_time": "2023-02-28T20:33:09.156Z"
      },
      {
        "duration": 312,
        "start_time": "2023-02-28T20:33:09.439Z"
      },
      {
        "duration": 12,
        "start_time": "2023-02-28T20:33:09.753Z"
      },
      {
        "duration": 296,
        "start_time": "2023-02-28T20:33:09.767Z"
      },
      {
        "duration": 428,
        "start_time": "2023-02-28T20:33:10.065Z"
      },
      {
        "duration": 255,
        "start_time": "2023-02-28T20:33:10.495Z"
      },
      {
        "duration": 11,
        "start_time": "2023-02-28T20:33:10.752Z"
      },
      {
        "duration": 15,
        "start_time": "2023-02-28T20:33:10.765Z"
      },
      {
        "duration": 9,
        "start_time": "2023-02-28T20:33:10.782Z"
      },
      {
        "duration": 10,
        "start_time": "2023-02-28T20:33:10.792Z"
      },
      {
        "duration": 3,
        "start_time": "2023-02-28T20:33:45.687Z"
      },
      {
        "duration": 50,
        "start_time": "2023-02-28T20:33:46.102Z"
      },
      {
        "duration": 1172,
        "start_time": "2023-02-28T20:34:15.625Z"
      },
      {
        "duration": 54,
        "start_time": "2023-02-28T20:34:16.800Z"
      },
      {
        "duration": 20,
        "start_time": "2023-02-28T20:34:18.855Z"
      },
      {
        "duration": 14,
        "start_time": "2023-02-28T20:34:19.635Z"
      },
      {
        "duration": 16,
        "start_time": "2023-02-28T20:34:20.833Z"
      },
      {
        "duration": 16,
        "start_time": "2023-02-28T20:34:21.899Z"
      },
      {
        "duration": 5,
        "start_time": "2023-02-28T20:34:22.508Z"
      },
      {
        "duration": 7,
        "start_time": "2023-02-28T20:34:24.440Z"
      },
      {
        "duration": 14,
        "start_time": "2023-02-28T20:34:24.912Z"
      },
      {
        "duration": 8,
        "start_time": "2023-02-28T20:34:25.624Z"
      },
      {
        "duration": 9,
        "start_time": "2023-02-28T20:34:27.211Z"
      },
      {
        "duration": 23,
        "start_time": "2023-02-28T20:34:27.497Z"
      },
      {
        "duration": 7,
        "start_time": "2023-02-28T20:34:27.952Z"
      },
      {
        "duration": 4,
        "start_time": "2023-02-28T20:34:29.048Z"
      },
      {
        "duration": 12,
        "start_time": "2023-02-28T20:34:29.279Z"
      },
      {
        "duration": 21,
        "start_time": "2023-02-28T20:34:29.486Z"
      },
      {
        "duration": 5,
        "start_time": "2023-02-28T20:34:30.176Z"
      },
      {
        "duration": 6,
        "start_time": "2023-02-28T20:34:32.335Z"
      },
      {
        "duration": 10,
        "start_time": "2023-02-28T20:34:33.556Z"
      },
      {
        "duration": 5,
        "start_time": "2023-02-28T20:34:34.863Z"
      },
      {
        "duration": 10,
        "start_time": "2023-02-28T20:34:35.048Z"
      },
      {
        "duration": 7,
        "start_time": "2023-02-28T20:34:35.804Z"
      },
      {
        "duration": 14,
        "start_time": "2023-02-28T20:34:36.518Z"
      },
      {
        "duration": 9,
        "start_time": "2023-02-28T20:34:37.220Z"
      },
      {
        "duration": 13,
        "start_time": "2023-02-28T20:34:40.470Z"
      },
      {
        "duration": 196,
        "start_time": "2023-02-28T20:34:47.644Z"
      },
      {
        "duration": 172,
        "start_time": "2023-02-28T20:34:49.846Z"
      },
      {
        "duration": 6,
        "start_time": "2023-02-28T20:34:59.657Z"
      },
      {
        "duration": 14,
        "start_time": "2023-02-28T20:35:00.408Z"
      },
      {
        "duration": 331,
        "start_time": "2023-02-28T20:35:05.460Z"
      },
      {
        "duration": 4937,
        "start_time": "2023-02-28T20:35:10.704Z"
      },
      {
        "duration": 13,
        "start_time": "2023-02-28T20:35:21.489Z"
      },
      {
        "duration": 7,
        "start_time": "2023-02-28T20:35:24.874Z"
      },
      {
        "duration": 15,
        "start_time": "2023-02-28T20:35:38.636Z"
      },
      {
        "duration": 317,
        "start_time": "2023-02-28T20:35:46.309Z"
      },
      {
        "duration": 20,
        "start_time": "2023-02-28T20:35:50.229Z"
      },
      {
        "duration": 22,
        "start_time": "2023-02-28T20:35:58.872Z"
      },
      {
        "duration": 14,
        "start_time": "2023-02-28T20:36:04.961Z"
      },
      {
        "duration": 110,
        "start_time": "2023-02-28T20:36:32.950Z"
      },
      {
        "duration": 28,
        "start_time": "2023-02-28T20:36:40.308Z"
      },
      {
        "duration": 5,
        "start_time": "2023-02-28T20:37:53.376Z"
      },
      {
        "duration": 11,
        "start_time": "2023-02-28T20:37:53.715Z"
      },
      {
        "duration": 6,
        "start_time": "2023-02-28T20:37:54.549Z"
      },
      {
        "duration": 4,
        "start_time": "2023-02-28T20:37:55.515Z"
      },
      {
        "duration": 272,
        "start_time": "2023-02-28T20:37:58.940Z"
      },
      {
        "duration": 6,
        "start_time": "2023-02-28T20:38:12.463Z"
      },
      {
        "duration": 262,
        "start_time": "2023-02-28T20:38:12.715Z"
      },
      {
        "duration": 5,
        "start_time": "2023-02-28T20:38:16.667Z"
      },
      {
        "duration": 351,
        "start_time": "2023-02-28T20:38:17.491Z"
      },
      {
        "duration": 5,
        "start_time": "2023-02-28T20:38:21.325Z"
      },
      {
        "duration": 225,
        "start_time": "2023-02-28T20:38:21.569Z"
      },
      {
        "duration": 5,
        "start_time": "2023-02-28T20:38:25.899Z"
      },
      {
        "duration": 265,
        "start_time": "2023-02-28T20:38:27.538Z"
      },
      {
        "duration": 5,
        "start_time": "2023-02-28T20:38:31.340Z"
      },
      {
        "duration": 237,
        "start_time": "2023-02-28T20:38:31.525Z"
      },
      {
        "duration": 283,
        "start_time": "2023-02-28T20:39:29.984Z"
      },
      {
        "duration": 11,
        "start_time": "2023-02-28T20:39:40.503Z"
      },
      {
        "duration": 265,
        "start_time": "2023-02-28T20:40:28.268Z"
      },
      {
        "duration": 276,
        "start_time": "2023-02-28T20:41:05.076Z"
      },
      {
        "duration": 397,
        "start_time": "2023-02-28T20:41:24.991Z"
      },
      {
        "duration": 309,
        "start_time": "2023-02-28T20:41:39.337Z"
      },
      {
        "duration": 224,
        "start_time": "2023-02-28T20:41:53.391Z"
      }
    ],
    "kernelspec": {
      "display_name": "Python 3 (ipykernel)",
      "language": "python",
      "name": "python3"
    },
    "language_info": {
      "codemirror_mode": {
        "name": "ipython",
        "version": 3
      },
      "file_extension": ".py",
      "mimetype": "text/x-python",
      "name": "python",
      "nbconvert_exporter": "python",
      "pygments_lexer": "ipython3",
      "version": "3.9.5"
    },
    "toc": {
      "base_numbering": 1,
      "nav_menu": {},
      "number_sections": true,
      "sideBar": true,
      "skip_h1_title": true,
      "title_cell": "Table of Contents",
      "title_sidebar": "Contents",
      "toc_cell": false,
      "toc_position": {},
      "toc_section_display": true,
      "toc_window_display": false
    },
    "colab": {
      "provenance": []
    }
  },
  "nbformat": 4,
  "nbformat_minor": 5
}