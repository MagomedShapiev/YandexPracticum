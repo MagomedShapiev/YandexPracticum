{
  "cells": [
    {
      "cell_type": "markdown",
      "metadata": {
        "toc": true,
        "id": "6_5U8b704BfG"
      },
      "source": [
        "<h1>Содержание<span class=\"tocSkip\"></span></h1>\n",
        "<div class=\"toc\"><ul class=\"toc-item\"><li><span><a href=\"#Подготовка-данных\" data-toc-modified-id=\"Подготовка-данных-1\"><span class=\"toc-item-num\">1&nbsp;&nbsp;</span>Подготовка данных</a></span><ul class=\"toc-item\"><li><span><a href=\"#Изучение-данных\" data-toc-modified-id=\"Изучение-данных-1.1\"><span class=\"toc-item-num\">1.1&nbsp;&nbsp;</span>Изучение данных</a></span></li><li><span><a href=\"#Подготовка-выборок\" data-toc-modified-id=\"Подготовка-выборок-1.2\"><span class=\"toc-item-num\">1.2&nbsp;&nbsp;</span>Подготовка выборок</a></span></li></ul></li><li><span><a href=\"#Исследование-задачи\" data-toc-modified-id=\"Исследование-задачи-2\"><span class=\"toc-item-num\">2&nbsp;&nbsp;</span>Исследование задачи</a></span><ul class=\"toc-item\"><li><span><a href=\"#Исследование-дисбаланса\" data-toc-modified-id=\"Исследование-дисбаланса-2.1\"><span class=\"toc-item-num\">2.1&nbsp;&nbsp;</span>Исследование дисбаланса</a></span></li><li><span><a href=\"#Логистическая-регрессия\" data-toc-modified-id=\"Логистическая-регрессия-2.2\"><span class=\"toc-item-num\">2.2&nbsp;&nbsp;</span>Логистическая регрессия</a></span></li><li><span><a href=\"#Дерево-решений\" data-toc-modified-id=\"Дерево-решений-2.3\"><span class=\"toc-item-num\">2.3&nbsp;&nbsp;</span>Дерево решений</a></span></li><li><span><a href=\"#Случайный-лес\" data-toc-modified-id=\"Случайный-лес-2.4\"><span class=\"toc-item-num\">2.4&nbsp;&nbsp;</span>Случайный лес</a></span></li><li><span><a href=\"#Итог\" data-toc-modified-id=\"Итог-2.5\"><span class=\"toc-item-num\">2.5&nbsp;&nbsp;</span>Итог</a></span></li></ul></li><li><span><a href=\"#Балансировка-выборок\" data-toc-modified-id=\"Балансировка-выборок-3\"><span class=\"toc-item-num\">3&nbsp;&nbsp;</span>Балансировка выборок</a></span><ul class=\"toc-item\"><li><span><a href=\"#Параметр-class_weight\" data-toc-modified-id=\"Параметр-class_weight-3.1\"><span class=\"toc-item-num\">3.1&nbsp;&nbsp;</span>Параметр <code>class_weight</code></a></span><ul class=\"toc-item\"><li><span><a href=\"#Логистическая-регрессия\" data-toc-modified-id=\"Логистическая-регрессия-3.1.1\"><span class=\"toc-item-num\">3.1.1&nbsp;&nbsp;</span>Логистическая регрессия</a></span></li><li><span><a href=\"#Дерево-решений\" data-toc-modified-id=\"Дерево-решений-3.1.2\"><span class=\"toc-item-num\">3.1.2&nbsp;&nbsp;</span>Дерево решений</a></span></li><li><span><a href=\"#Случайный-лес\" data-toc-modified-id=\"Случайный-лес-3.1.3\"><span class=\"toc-item-num\">3.1.3&nbsp;&nbsp;</span>Случайный лес</a></span></li><li><span><a href=\"#Промежуточный-итог\" data-toc-modified-id=\"Промежуточный-итог-3.1.4\"><span class=\"toc-item-num\">3.1.4&nbsp;&nbsp;</span>Промежуточный итог</a></span></li></ul></li><li><span><a href=\"#Техника-Upsample\" data-toc-modified-id=\"Техника-Upsample-3.2\"><span class=\"toc-item-num\">3.2&nbsp;&nbsp;</span>Техника <code>Upsample</code></a></span><ul class=\"toc-item\"><li><span><a href=\"#ЛОгистическая-регрессия\" data-toc-modified-id=\"ЛОгистическая-регрессия-3.2.1\"><span class=\"toc-item-num\">3.2.1&nbsp;&nbsp;</span>ЛОгистическая регрессия</a></span></li><li><span><a href=\"#Дерево-решений\" data-toc-modified-id=\"Дерево-решений-3.2.2\"><span class=\"toc-item-num\">3.2.2&nbsp;&nbsp;</span>Дерево решений</a></span></li><li><span><a href=\"#Случайный-лес\" data-toc-modified-id=\"Случайный-лес-3.2.3\"><span class=\"toc-item-num\">3.2.3&nbsp;&nbsp;</span>Случайный лес</a></span></li><li><span><a href=\"#Промежуточный-итог\" data-toc-modified-id=\"Промежуточный-итог-3.2.4\"><span class=\"toc-item-num\">3.2.4&nbsp;&nbsp;</span>Промежуточный итог</a></span></li></ul></li><li><span><a href=\"#Техника-Downsample\" data-toc-modified-id=\"Техника-Downsample-3.3\"><span class=\"toc-item-num\">3.3&nbsp;&nbsp;</span>Техника <code>Downsample</code></a></span><ul class=\"toc-item\"><li><span><a href=\"#ЛОгистическая-регрессия\" data-toc-modified-id=\"ЛОгистическая-регрессия-3.3.1\"><span class=\"toc-item-num\">3.3.1&nbsp;&nbsp;</span>ЛОгистическая регрессия</a></span></li><li><span><a href=\"#Дерево-решений\" data-toc-modified-id=\"Дерево-решений-3.3.2\"><span class=\"toc-item-num\">3.3.2&nbsp;&nbsp;</span>Дерево решений</a></span></li><li><span><a href=\"#Случайный-лес\" data-toc-modified-id=\"Случайный-лес-3.3.3\"><span class=\"toc-item-num\">3.3.3&nbsp;&nbsp;</span>Случайный лес</a></span></li><li><span><a href=\"#Промежуточный-итог\" data-toc-modified-id=\"Промежуточный-итог-3.3.4\"><span class=\"toc-item-num\">3.3.4&nbsp;&nbsp;</span>Промежуточный итог</a></span></li></ul></li><li><span><a href=\"#ИТОГ\" data-toc-modified-id=\"ИТОГ-3.4\"><span class=\"toc-item-num\">3.4&nbsp;&nbsp;</span>ИТОГ</a></span></li></ul></li><li><span><a href=\"#Тестирование-модели\" data-toc-modified-id=\"Тестирование-модели-4\"><span class=\"toc-item-num\">4&nbsp;&nbsp;</span>Тестирование модели</a></span><ul class=\"toc-item\"><li><span><a href=\"#Логистическая-регрессия\" data-toc-modified-id=\"Логистическая-регрессия-4.1\"><span class=\"toc-item-num\">4.1&nbsp;&nbsp;</span>Логистическая регрессия</a></span></li><li><span><a href=\"#Дерево-решений\" data-toc-modified-id=\"Дерево-решений-4.2\"><span class=\"toc-item-num\">4.2&nbsp;&nbsp;</span>Дерево решений</a></span></li><li><span><a href=\"#Случайный-лес\" data-toc-modified-id=\"Случайный-лес-4.3\"><span class=\"toc-item-num\">4.3&nbsp;&nbsp;</span>Случайный лес</a></span></li><li><span><a href=\"#Итог\" data-toc-modified-id=\"Итог-4.4\"><span class=\"toc-item-num\">4.4&nbsp;&nbsp;</span>Итог</a></span></li></ul></li><li><span><a href=\"#Чек-лист-готовности-проекта\" data-toc-modified-id=\"Чек-лист-готовности-проекта-5\"><span class=\"toc-item-num\">5&nbsp;&nbsp;</span>Чек-лист готовности проекта</a></span></li></ul></div>"
      ]
    },
    {
      "cell_type": "markdown",
      "metadata": {
        "id": "SsH4AAu24BfJ"
      },
      "source": [
        "# Отток клиентов"
      ]
    },
    {
      "cell_type": "markdown",
      "metadata": {
        "id": "mQjOyIFI4BfK"
      },
      "source": [
        "Из «Бета-Банка» стали уходить клиенты. Каждый месяц. Немного, но заметно. Банковские маркетологи посчитали: сохранять текущих клиентов дешевле, чем привлекать новых.\n",
        "\n",
        "Нужно спрогнозировать, уйдёт клиент из банка в ближайшее время или нет. Вам предоставлены исторические данные о поведении клиентов и расторжении договоров с банком.\n",
        "\n",
        "Постройте модель с предельно большим значением *F1*-меры. Чтобы сдать проект успешно, нужно довести метрику до 0.59. Проверьте *F1*-меру на тестовой выборке самостоятельно.\n",
        "\n",
        "Дополнительно измеряйте *AUC-ROC*, сравнивайте её значение с *F1*-мерой.\n",
        "\n",
        "Источник данных: [https://www.kaggle.com/barelydedicated/bank-customer-churn-modeling](https://www.kaggle.com/barelydedicated/bank-customer-churn-modeling)"
      ]
    },
    {
      "cell_type": "markdown",
      "metadata": {
        "id": "6q6PlgsA4BfK"
      },
      "source": [
        "# Описание данных\n"
      ]
    },
    {
      "cell_type": "markdown",
      "metadata": {
        "id": "tfQs0IR84BfK"
      },
      "source": [
        "**Признаки**\n",
        "\n",
        "- `RowNumber` — индекс строки в данных\n",
        "\n",
        "- `CustomerId` — уникальный идентификатор клиента\n",
        "\n",
        "- `Surname` — фамилия\n",
        "\n",
        "- `CreditScore` — кредитный рейтинг\n",
        "\n",
        "- `Geography` — страна проживания\n",
        "\n",
        "- `Gender` — пол\n",
        "\n",
        "- `Age` — возраст\n",
        "\n",
        "- `Tenure` — количество недвижимости у клиента\n",
        "\n",
        "- `Balance` — баланс на счёте\n",
        "\n",
        "- `NumOfProducts` — количество продуктов банка, используемых клиентом\n",
        "\n",
        "- `HasCrCard` — наличие кредитной карты\n",
        "\n",
        "- `IsActiveMember` — активность клиента\n",
        "\n",
        "- `EstimatedSalary` — предполагаемая зарплата\n",
        "\n",
        "**Целевой признак**\n",
        "\n",
        "- `Exited` — факт ухода клиента"
      ]
    },
    {
      "cell_type": "markdown",
      "metadata": {
        "id": "I0K14c_v4BfL"
      },
      "source": [
        "## Подготовка данных"
      ]
    },
    {
      "cell_type": "markdown",
      "metadata": {
        "id": "LdlrUcDX4BfL"
      },
      "source": [
        "### Изучение данных"
      ]
    },
    {
      "cell_type": "code",
      "execution_count": null,
      "metadata": {
        "id": "uYO5LFgJ4BfM"
      },
      "outputs": [],
      "source": [
        "# Загрузим все необходимые библиотеки и функции\n",
        "\n",
        "import pandas as pd\n",
        "import numpy as np\n",
        "import warnings\n",
        "import re\n",
        "import matplotlib.pyplot as plt\n",
        "from sklearn.model_selection import train_test_split\n",
        "from sklearn.preprocessing import StandardScaler\n",
        "from sklearn.preprocessing import OneHotEncoder\n",
        "from sklearn.linear_model import LogisticRegression\n",
        "from sklearn.tree import DecisionTreeClassifier\n",
        "from sklearn.ensemble import RandomForestClassifier\n",
        "from sklearn.metrics import accuracy_score, roc_auc_score,f1_score,precision_score, recall_score, roc_curve\n",
        "from sklearn.dummy import DummyClassifier\n",
        "from sklearn.utils import shuffle\n"
      ]
    },
    {
      "cell_type": "code",
      "execution_count": null,
      "metadata": {
        "id": "olZxhFg54BfO"
      },
      "outputs": [],
      "source": [
        "# отключить некритические предупреждения в коде\n",
        "warnings.filterwarnings(\"ignore\")"
      ]
    },
    {
      "cell_type": "code",
      "execution_count": null,
      "metadata": {
        "id": "NqYwwi274BfP"
      },
      "outputs": [],
      "source": [
        "# сбросим ограничение на количество выводимых столбцов, что бы просмотреть все столбцы\n",
        "pd.set_option('display.max_columns', None)"
      ]
    },
    {
      "cell_type": "code",
      "execution_count": null,
      "metadata": {
        "id": "R5Tqyixf4BfP"
      },
      "outputs": [],
      "source": [
        "# загрузим файл\n",
        "data = pd.read_csv('/datasets/Churn.csv')"
      ]
    },
    {
      "cell_type": "code",
      "execution_count": null,
      "metadata": {
        "id": "xbqccZze4BfP",
        "outputId": "f1f8f7f4-11b6-4360-f4ea-93d40bcd97d7"
      },
      "outputs": [
        {
          "name": "stdout",
          "output_type": "stream",
          "text": [
            "<class 'pandas.core.frame.DataFrame'>\n",
            "RangeIndex: 10000 entries, 0 to 9999\n",
            "Data columns (total 14 columns):\n",
            " #   Column           Non-Null Count  Dtype  \n",
            "---  ------           --------------  -----  \n",
            " 0   RowNumber        10000 non-null  int64  \n",
            " 1   CustomerId       10000 non-null  int64  \n",
            " 2   Surname          10000 non-null  object \n",
            " 3   CreditScore      10000 non-null  int64  \n",
            " 4   Geography        10000 non-null  object \n",
            " 5   Gender           10000 non-null  object \n",
            " 6   Age              10000 non-null  int64  \n",
            " 7   Tenure           9091 non-null   float64\n",
            " 8   Balance          10000 non-null  float64\n",
            " 9   NumOfProducts    10000 non-null  int64  \n",
            " 10  HasCrCard        10000 non-null  int64  \n",
            " 11  IsActiveMember   10000 non-null  int64  \n",
            " 12  EstimatedSalary  10000 non-null  float64\n",
            " 13  Exited           10000 non-null  int64  \n",
            "dtypes: float64(3), int64(8), object(3)\n",
            "memory usage: 1.1+ MB\n"
          ]
        }
      ],
      "source": [
        "# информация о датасете\n",
        "\n",
        "data.info()"
      ]
    },
    {
      "cell_type": "markdown",
      "metadata": {
        "id": "fDyPNu474BfQ"
      },
      "source": [
        "Сразу выделим три необходимых шага:\n",
        "1. Привести названия колонок в змеинный регистр\n",
        "2. Удалить столбцы RowNumber, CustomerId и Surnamе - не думаю, что номер строки, фамилия и идентификатор клиента влияют на решение клиента уйти из банка\n",
        "3. Заполнить пропуски в столбце Tenure"
      ]
    },
    {
      "cell_type": "code",
      "execution_count": null,
      "metadata": {
        "id": "gm0eYNNU4BfR"
      },
      "outputs": [],
      "source": [
        "# удалим столбцы\n",
        "data.drop(['RowNumber', 'CustomerId', 'Surname'], axis='columns', inplace=True)"
      ]
    },
    {
      "cell_type": "code",
      "execution_count": null,
      "metadata": {
        "id": "JCS1LBcr4BfR"
      },
      "outputs": [],
      "source": [
        "# смена регистра в названиях столбцов\n",
        "data.columns = [re.sub(r'(?<!^)(?=[A-Z])', '_', i).lower()for i in data.columns]"
      ]
    },
    {
      "cell_type": "code",
      "execution_count": null,
      "metadata": {
        "id": "eP2B1mAq4BfR"
      },
      "outputs": [],
      "source": [
        "# Заполнение пропусков\n",
        "data = data.fillna(0)"
      ]
    },
    {
      "cell_type": "code",
      "execution_count": null,
      "metadata": {
        "id": "LXyfnzC54BfS",
        "outputId": "356331d6-91b7-49c9-e459-4c9ba0815015"
      },
      "outputs": [
        {
          "data": {
            "text/plain": [
              "0"
            ]
          },
          "execution_count": 9,
          "metadata": {},
          "output_type": "execute_result"
        }
      ],
      "source": [
        "# Проверим дубликаты\n",
        "data.duplicated().sum()"
      ]
    },
    {
      "cell_type": "code",
      "execution_count": null,
      "metadata": {
        "id": "foSso0oF4BfS",
        "outputId": "8b780aed-8779-463b-979e-130e2faa0ad2"
      },
      "outputs": [
        {
          "data": {
            "text/html": [
              "<div>\n",
              "<style scoped>\n",
              "    .dataframe tbody tr th:only-of-type {\n",
              "        vertical-align: middle;\n",
              "    }\n",
              "\n",
              "    .dataframe tbody tr th {\n",
              "        vertical-align: top;\n",
              "    }\n",
              "\n",
              "    .dataframe thead th {\n",
              "        text-align: right;\n",
              "    }\n",
              "</style>\n",
              "<table border=\"1\" class=\"dataframe\">\n",
              "  <thead>\n",
              "    <tr style=\"text-align: right;\">\n",
              "      <th></th>\n",
              "      <th>credit_score</th>\n",
              "      <th>age</th>\n",
              "      <th>tenure</th>\n",
              "      <th>balance</th>\n",
              "      <th>num_of_products</th>\n",
              "      <th>has_cr_card</th>\n",
              "      <th>is_active_member</th>\n",
              "      <th>estimated_salary</th>\n",
              "      <th>exited</th>\n",
              "    </tr>\n",
              "  </thead>\n",
              "  <tbody>\n",
              "    <tr>\n",
              "      <th>count</th>\n",
              "      <td>10000.000000</td>\n",
              "      <td>10000.000000</td>\n",
              "      <td>10000.000000</td>\n",
              "      <td>10000.000000</td>\n",
              "      <td>10000.000000</td>\n",
              "      <td>10000.00000</td>\n",
              "      <td>10000.000000</td>\n",
              "      <td>10000.000000</td>\n",
              "      <td>10000.000000</td>\n",
              "    </tr>\n",
              "    <tr>\n",
              "      <th>mean</th>\n",
              "      <td>650.528800</td>\n",
              "      <td>38.921800</td>\n",
              "      <td>4.543400</td>\n",
              "      <td>76485.889288</td>\n",
              "      <td>1.530200</td>\n",
              "      <td>0.70550</td>\n",
              "      <td>0.515100</td>\n",
              "      <td>100090.239881</td>\n",
              "      <td>0.203700</td>\n",
              "    </tr>\n",
              "    <tr>\n",
              "      <th>std</th>\n",
              "      <td>96.653299</td>\n",
              "      <td>10.487806</td>\n",
              "      <td>3.111573</td>\n",
              "      <td>62397.405202</td>\n",
              "      <td>0.581654</td>\n",
              "      <td>0.45584</td>\n",
              "      <td>0.499797</td>\n",
              "      <td>57510.492818</td>\n",
              "      <td>0.402769</td>\n",
              "    </tr>\n",
              "    <tr>\n",
              "      <th>min</th>\n",
              "      <td>350.000000</td>\n",
              "      <td>18.000000</td>\n",
              "      <td>0.000000</td>\n",
              "      <td>0.000000</td>\n",
              "      <td>1.000000</td>\n",
              "      <td>0.00000</td>\n",
              "      <td>0.000000</td>\n",
              "      <td>11.580000</td>\n",
              "      <td>0.000000</td>\n",
              "    </tr>\n",
              "    <tr>\n",
              "      <th>25%</th>\n",
              "      <td>584.000000</td>\n",
              "      <td>32.000000</td>\n",
              "      <td>2.000000</td>\n",
              "      <td>0.000000</td>\n",
              "      <td>1.000000</td>\n",
              "      <td>0.00000</td>\n",
              "      <td>0.000000</td>\n",
              "      <td>51002.110000</td>\n",
              "      <td>0.000000</td>\n",
              "    </tr>\n",
              "    <tr>\n",
              "      <th>50%</th>\n",
              "      <td>652.000000</td>\n",
              "      <td>37.000000</td>\n",
              "      <td>4.000000</td>\n",
              "      <td>97198.540000</td>\n",
              "      <td>1.000000</td>\n",
              "      <td>1.00000</td>\n",
              "      <td>1.000000</td>\n",
              "      <td>100193.915000</td>\n",
              "      <td>0.000000</td>\n",
              "    </tr>\n",
              "    <tr>\n",
              "      <th>75%</th>\n",
              "      <td>718.000000</td>\n",
              "      <td>44.000000</td>\n",
              "      <td>7.000000</td>\n",
              "      <td>127644.240000</td>\n",
              "      <td>2.000000</td>\n",
              "      <td>1.00000</td>\n",
              "      <td>1.000000</td>\n",
              "      <td>149388.247500</td>\n",
              "      <td>0.000000</td>\n",
              "    </tr>\n",
              "    <tr>\n",
              "      <th>max</th>\n",
              "      <td>850.000000</td>\n",
              "      <td>92.000000</td>\n",
              "      <td>10.000000</td>\n",
              "      <td>250898.090000</td>\n",
              "      <td>4.000000</td>\n",
              "      <td>1.00000</td>\n",
              "      <td>1.000000</td>\n",
              "      <td>199992.480000</td>\n",
              "      <td>1.000000</td>\n",
              "    </tr>\n",
              "  </tbody>\n",
              "</table>\n",
              "</div>"
            ],
            "text/plain": [
              "       credit_score           age        tenure        balance  \\\n",
              "count  10000.000000  10000.000000  10000.000000   10000.000000   \n",
              "mean     650.528800     38.921800      4.543400   76485.889288   \n",
              "std       96.653299     10.487806      3.111573   62397.405202   \n",
              "min      350.000000     18.000000      0.000000       0.000000   \n",
              "25%      584.000000     32.000000      2.000000       0.000000   \n",
              "50%      652.000000     37.000000      4.000000   97198.540000   \n",
              "75%      718.000000     44.000000      7.000000  127644.240000   \n",
              "max      850.000000     92.000000     10.000000  250898.090000   \n",
              "\n",
              "       num_of_products  has_cr_card  is_active_member  estimated_salary  \\\n",
              "count     10000.000000  10000.00000      10000.000000      10000.000000   \n",
              "mean          1.530200      0.70550          0.515100     100090.239881   \n",
              "std           0.581654      0.45584          0.499797      57510.492818   \n",
              "min           1.000000      0.00000          0.000000         11.580000   \n",
              "25%           1.000000      0.00000          0.000000      51002.110000   \n",
              "50%           1.000000      1.00000          1.000000     100193.915000   \n",
              "75%           2.000000      1.00000          1.000000     149388.247500   \n",
              "max           4.000000      1.00000          1.000000     199992.480000   \n",
              "\n",
              "             exited  \n",
              "count  10000.000000  \n",
              "mean       0.203700  \n",
              "std        0.402769  \n",
              "min        0.000000  \n",
              "25%        0.000000  \n",
              "50%        0.000000  \n",
              "75%        0.000000  \n",
              "max        1.000000  "
            ]
          },
          "execution_count": 10,
          "metadata": {},
          "output_type": "execute_result"
        }
      ],
      "source": [
        "# Посмотрим на аномалии\n",
        "data.describe()"
      ]
    },
    {
      "cell_type": "markdown",
      "metadata": {
        "id": "L8xvkHXn4BfT"
      },
      "source": [
        "Аномалий не видно. Данные в хорошем состоянии"
      ]
    },
    {
      "cell_type": "markdown",
      "metadata": {
        "id": "hsJQYMyF4BfT"
      },
      "source": [
        "### Подготовка выборок"
      ]
    },
    {
      "cell_type": "code",
      "execution_count": null,
      "metadata": {
        "id": "Ixub6_Qi4BfU"
      },
      "outputs": [],
      "source": [
        "# Разделим признаки\n",
        "target = data['exited']\n",
        "features = data.drop('exited', axis=1)"
      ]
    },
    {
      "cell_type": "code",
      "execution_count": null,
      "metadata": {
        "id": "u7xsytki4BfU"
      },
      "outputs": [],
      "source": [
        "#разделим датасет на тренировочную, валидационную и тестовую выборки в соотношении 3:1:1\n",
        "\n",
        "features_train_valid,features_test,target_train_valid, target_test = train_test_split(\n",
        "        features,target, test_size=0.20, random_state=12345)\n",
        "features_train, features_valid, target_train, target_valid = train_test_split(\n",
        "        features_train_valid,target_train_valid, test_size=0.25, random_state=12345 )\n"
      ]
    },
    {
      "cell_type": "code",
      "execution_count": null,
      "metadata": {
        "id": "mMngl1HK4BfV",
        "outputId": "aba35046-8d94-4fed-89ea-ca9a8bf54a50"
      },
      "outputs": [
        {
          "name": "stdout",
          "output_type": "stream",
          "text": [
            "2000\n",
            "2000\n",
            "6000\n"
          ]
        }
      ],
      "source": [
        "# посмотрим размеры выборок\n",
        "print(features_test.shape[0])\n",
        "print(features_valid.shape[0])\n",
        "print(features_train.shape[0])"
      ]
    },
    {
      "cell_type": "code",
      "execution_count": null,
      "metadata": {
        "id": "SGqbfQWV4BfV"
      },
      "outputs": [],
      "source": [
        "#Теперь перекодируем данные\n",
        "\n",
        "features_test = pd.get_dummies(features_test, drop_first=True)\n",
        "features_valid = pd.get_dummies(features_valid, drop_first=True)\n",
        "features_train = pd.get_dummies(features_train, drop_first=True)"
      ]
    },
    {
      "cell_type": "code",
      "execution_count": null,
      "metadata": {
        "id": "LffI978o4BfV"
      },
      "outputs": [],
      "source": [
        "# И стандартизируем\n",
        "\n",
        "scaler = StandardScaler()\n",
        "scaler.fit(features_train)\n",
        "\n",
        "features_train = scaler.transform(features_train)\n",
        "features_valid = scaler.transform(features_valid)\n",
        "features_test = scaler.transform(features_test)"
      ]
    },
    {
      "cell_type": "markdown",
      "metadata": {
        "id": "OPRS_3AV4BfW"
      },
      "source": [
        "## Исследование задачи"
      ]
    },
    {
      "cell_type": "markdown",
      "metadata": {
        "id": "2h1z9ryT4BfW"
      },
      "source": [
        "### Исследование дисбаланса"
      ]
    },
    {
      "cell_type": "code",
      "execution_count": null,
      "metadata": {
        "id": "cO8pFLv94BfW",
        "outputId": "e0418a83-0d48-4e68-df33-c35225cf8519"
      },
      "outputs": [
        {
          "name": "stdout",
          "output_type": "stream",
          "text": [
            "0    0.7963\n",
            "1    0.2037\n",
            "Name: exited, dtype: float64\n"
          ]
        },
        {
          "data": {
            "text/plain": [
              "<AxesSubplot:>"
            ]
          },
          "execution_count": 17,
          "metadata": {},
          "output_type": "execute_result"
        },
        {
          "data": {
            "image/png": "[encoded data removed]",
            "text/plain": [
              "<Figure size 432x288 with 1 Axes>"
            ]
          },
          "metadata": {
            "needs_background": "light"
          },
          "output_type": "display_data"
        }
      ],
      "source": [
        "# Посмотрим на баланс классов\n",
        "class_frequency = data['exited'].value_counts(normalize=True)\n",
        "print(class_frequency)\n",
        "class_frequency.plot(kind='bar')"
      ]
    },
    {
      "cell_type": "markdown",
      "metadata": {
        "id": "LVKs9d3a4BfW"
      },
      "source": [
        "Дисбаланс на лицо. Хотя, для банка, это хорошие новости))).\n",
        "\n",
        "Положительного класса в 4 раза меньше отрицательного. В дальнейшем поработаем с этим и проверим, что лучше: увеличить редкий или уменьший подавляющий класс"
      ]
    },
    {
      "cell_type": "markdown",
      "metadata": {
        "id": "KS4BuGkI4BfX"
      },
      "source": [
        "### Логистическая регрессия\n",
        "\n",
        "Начнем с логистической регрессии"
      ]
    },
    {
      "cell_type": "code",
      "execution_count": null,
      "metadata": {
        "id": "Q8vbPbV04BfX"
      },
      "outputs": [],
      "source": [
        "# создадим словарь для сохранения лучших результатов по каждой модели\n",
        "\n",
        "model_score = pd.DataFrame(columns=['model_name', 'f1', 'auc_roc'])\n",
        "\n",
        "\n",
        "def score_add(data, model, f1, auc_roc):\n",
        "# запись результатов в таблицу\n",
        "\n",
        "    return data.append({'model_name' : model, 'f1': f1, 'auc_roc': auc_roc},\n",
        "                              ignore_index=True)\n",
        "\n"
      ]
    },
    {
      "cell_type": "code",
      "execution_count": null,
      "metadata": {
        "id": "aGTMVpEY4BfX",
        "outputId": "0e0981e0-a559-4540-f69b-6b6039bea296"
      },
      "outputs": [
        {
          "name": "stdout",
          "output_type": "stream",
          "text": [
            "0.7707746865060505 0.3056603773584906 0.19000000000000003\n"
          ]
        }
      ],
      "source": [
        "best_auc_roc = 0\n",
        "best_f1 = 0\n",
        "best_c = 0\n",
        "\n",
        "for threshold in np.arange(0.03, 0.5, 0.01):\n",
        "    model = LogisticRegression(random_state=12345, C = threshold, solver='liblinear')\n",
        "    model.fit(features_train, target_train)\n",
        "    predicted_valid = model.predict(features_valid)\n",
        "\n",
        "    f1 = f1_score(target_valid, predicted_valid)\n",
        "\n",
        "    if f1 > best_f1:\n",
        "        best_f1 = f1\n",
        "        best_c = threshold\n",
        "        probabilities = model.predict_proba(features_valid)\n",
        "        probabilities_one = probabilities[:,1]\n",
        "        best_auc_roc = roc_auc_score(target_valid, probabilities_one)\n",
        "\n",
        "print(best_auc_roc, best_f1, best_c )\n",
        "\n",
        "model_score = score_add(model_score, 'Логистическая регрессия', best_f1, best_auc_roc )"
      ]
    },
    {
      "cell_type": "markdown",
      "metadata": {
        "id": "iVOQsai44BfY"
      },
      "source": [
        "Результат неудовлетворительный. Посмотрим, что покажет на сбалансированной выборке\n"
      ]
    },
    {
      "cell_type": "markdown",
      "metadata": {
        "id": "esaGF6Ew4BfY"
      },
      "source": [
        "### Дерево решений"
      ]
    },
    {
      "cell_type": "code",
      "execution_count": null,
      "metadata": {
        "id": "gHa8m51w4BfY",
        "outputId": "91c0daca-0404-4f92-e59f-181264f0c9c2"
      },
      "outputs": [
        {
          "name": "stdout",
          "output_type": "stream",
          "text": [
            "Лучшая глубина: 7\n",
            "Лучшая AUC-ROC: 0.8275652142122556\n",
            "Лучшая F1:  0.5488958990536277\n"
          ]
        }
      ],
      "source": [
        "best_f1 = 0\n",
        "best_depth = 0\n",
        "best_auc_roc = 0\n",
        "\n",
        "for depth in range(1,50):\n",
        "\n",
        "    model = DecisionTreeClassifier(random_state=12345, max_depth=depth)\n",
        "    model.fit(features_train, target_train)\n",
        "    predicted_valid = model.predict(features_valid)\n",
        "\n",
        "    f1 = f1_score(target_valid, predicted_valid)\n",
        "\n",
        "    if f1 > best_f1:\n",
        "\n",
        "        best_f1 = f1\n",
        "        best_depth = depth\n",
        "        probabilities = model.predict_proba(features_valid)\n",
        "        probabilities_one = probabilities[:,1]\n",
        "        best_auc_roc = roc_auc_score(target_valid, probabilities_one)\n",
        "\n",
        "print('Лучшая глубина:', best_depth)\n",
        "print('Лучшая AUC-ROC:', best_auc_roc )\n",
        "print('Лучшая F1: ', best_f1)\n",
        "\n",
        "model_score = score_add(model_score, 'Дерево решений', best_f1, best_auc_roc )"
      ]
    },
    {
      "cell_type": "markdown",
      "metadata": {
        "id": "Daf0-AXk4BfZ"
      },
      "source": [
        "Неплохо! увидели дерево, теперь пойдем в лес за ним"
      ]
    },
    {
      "cell_type": "markdown",
      "metadata": {
        "id": "jMzUTPgH4BfZ"
      },
      "source": [
        "### Случайный лес"
      ]
    },
    {
      "cell_type": "code",
      "execution_count": null,
      "metadata": {
        "id": "xzscWKLJ4BfZ",
        "outputId": "d9e6785e-d6da-4eff-cb4a-33c25ee683dc"
      },
      "outputs": [
        {
          "name": "stdout",
          "output_type": "stream",
          "text": [
            "Лучшая глубина: 23\n",
            "Лучшее кол-во деревьев: 17\n",
            "Лучшая AUC-ROC: 0.8216656944075762\n",
            "Лучшая F1:  0.5900151285930408\n"
          ]
        }
      ],
      "source": [
        "best_f1 = 0\n",
        "best_depth = 0\n",
        "best_auc_roc = 0\n",
        "best_est = 0\n",
        "\n",
        "for est in range(1,50):\n",
        "    for depth in range(1,50):\n",
        "\n",
        "        model = RandomForestClassifier(random_state=12345, max_depth=depth, n_estimators=est)\n",
        "        model.fit(features_train, target_train)\n",
        "        predicted_valid = model.predict(features_valid)\n",
        "\n",
        "        f1 = f1_score(target_valid, predicted_valid)\n",
        "\n",
        "        if f1 > best_f1:\n",
        "\n",
        "            best_f1 = f1\n",
        "            best_depth = depth\n",
        "            best_est = est\n",
        "            probabilities = model.predict_proba(features_valid)\n",
        "            probabilities_one = probabilities[:,1]\n",
        "            best_auc_roc = roc_auc_score(target_valid, probabilities_one)\n",
        "\n",
        "print('Лучшая глубина:', best_depth)\n",
        "print('Лучшее кол-во деревьев:',best_est )\n",
        "print('Лучшая AUC-ROC:', best_auc_roc )\n",
        "print('Лучшая F1: ', best_f1)\n",
        "\n",
        "model_score = score_add(model_score, 'Случайный лес', best_f1, best_auc_roc )"
      ]
    },
    {
      "cell_type": "markdown",
      "metadata": {
        "id": "J1AeKmvk4Bfa"
      },
      "source": [
        "отлично, сразу же перешли порог\n"
      ]
    },
    {
      "cell_type": "markdown",
      "metadata": {
        "id": "dB-fPBWH4Bfa"
      },
      "source": [
        "### Итог\n",
        "\n",
        "Как видим, несбалансированная выборка дает не самые лучшие результаты. Из всех алгоритмов, лучше всего показал себя случайный лес, набрав F1 - 0.5900151285930408\n",
        "\n",
        "Сильнее всего дисбаланс сказывается на логистической регрессии"
      ]
    },
    {
      "cell_type": "code",
      "execution_count": null,
      "metadata": {
        "id": "fFzIn8Bl4Bfa",
        "outputId": "6d2680cb-0746-419f-a88f-f3ce8cc3cef8"
      },
      "outputs": [
        {
          "data": {
            "text/html": [
              "<div>\n",
              "<style scoped>\n",
              "    .dataframe tbody tr th:only-of-type {\n",
              "        vertical-align: middle;\n",
              "    }\n",
              "\n",
              "    .dataframe tbody tr th {\n",
              "        vertical-align: top;\n",
              "    }\n",
              "\n",
              "    .dataframe thead th {\n",
              "        text-align: right;\n",
              "    }\n",
              "</style>\n",
              "<table border=\"1\" class=\"dataframe\">\n",
              "  <thead>\n",
              "    <tr style=\"text-align: right;\">\n",
              "      <th></th>\n",
              "      <th>model_name</th>\n",
              "      <th>f1</th>\n",
              "      <th>auc_roc</th>\n",
              "    </tr>\n",
              "  </thead>\n",
              "  <tbody>\n",
              "    <tr>\n",
              "      <th>0</th>\n",
              "      <td>Логистическая регрессия</td>\n",
              "      <td>0.305660</td>\n",
              "      <td>0.770775</td>\n",
              "    </tr>\n",
              "    <tr>\n",
              "      <th>1</th>\n",
              "      <td>Дерево решений</td>\n",
              "      <td>0.548896</td>\n",
              "      <td>0.827565</td>\n",
              "    </tr>\n",
              "    <tr>\n",
              "      <th>2</th>\n",
              "      <td>Случайный лес</td>\n",
              "      <td>0.590015</td>\n",
              "      <td>0.821666</td>\n",
              "    </tr>\n",
              "  </tbody>\n",
              "</table>\n",
              "</div>"
            ],
            "text/plain": [
              "                model_name        f1   auc_roc\n",
              "0  Логистическая регрессия  0.305660  0.770775\n",
              "1           Дерево решений  0.548896  0.827565\n",
              "2            Случайный лес  0.590015  0.821666"
            ]
          },
          "execution_count": 22,
          "metadata": {},
          "output_type": "execute_result"
        },
        {
          "data": {
            "image/png": "[encoded data removed]",
            "text/plain": [
              "<Figure size 864x504 with 1 Axes>"
            ]
          },
          "metadata": {
            "needs_background": "light"
          },
          "output_type": "display_data"
        }
      ],
      "source": [
        "model_score.plot(\n",
        "    x='model_name',\n",
        "    kind='bar',\n",
        "    figsize=(12,7),\n",
        "    fontsize=14,\n",
        "    grid=True,\n",
        "    title='Сравнение метрик моделей' )\n",
        "\n",
        "plt.xticks(rotation=0)\n",
        "\n",
        "model_score"
      ]
    },
    {
      "cell_type": "markdown",
      "metadata": {
        "id": "963zATVN4Bfb"
      },
      "source": [
        "## Балансировка выборок"
      ]
    },
    {
      "cell_type": "markdown",
      "metadata": {
        "id": "ns_Cu9Nd4Bfb"
      },
      "source": [
        "Для балансировки будем испльзовать 3 метода:\n",
        "\n",
        "   - параметр `class_weight`\n",
        "   - технику `upsample`\n",
        "   - технику `downsample`"
      ]
    },
    {
      "cell_type": "markdown",
      "metadata": {
        "id": "OudKEimQ4Bfc"
      },
      "source": [
        "### Параметр `class_weight`"
      ]
    },
    {
      "cell_type": "code",
      "execution_count": null,
      "metadata": {
        "id": "TBw3F2Qt4Bfc"
      },
      "outputs": [],
      "source": [
        "# создадим словарь с результатвми с параметром class_weight\n",
        "\n",
        "class_weight_model_score = pd.DataFrame(columns=['model_name', 'f1', 'auc_roc'])"
      ]
    },
    {
      "cell_type": "markdown",
      "metadata": {
        "id": "0F3b8fcO4Bfd"
      },
      "source": [
        "#### Логистическая регрессия"
      ]
    },
    {
      "cell_type": "code",
      "execution_count": null,
      "metadata": {
        "id": "jt_LtqWE4Bfe",
        "outputId": "1fffcec4-075a-4671-d74c-d9591cd8cd7c"
      },
      "outputs": [
        {
          "name": "stdout",
          "output_type": "stream",
          "text": [
            "0.7729459768342715 0.47763864042933807 0.1\n"
          ]
        }
      ],
      "source": [
        "best_auc_roc = 0\n",
        "best_f1 = 0\n",
        "best_c = 0\n",
        "\n",
        "for threshold in np.arange(0.03, 0.5, 0.01):\n",
        "    model = LogisticRegression(random_state=12345, C = threshold, solver='liblinear', class_weight='balanced')\n",
        "    model.fit(features_train, target_train)\n",
        "    predicted_valid = model.predict(features_valid)\n",
        "\n",
        "    f1 = f1_score(target_valid, predicted_valid)\n",
        "\n",
        "    if f1 > best_f1:\n",
        "        best_c = threshold\n",
        "        best_f1 = f1\n",
        "        probabilities = model.predict_proba(features_valid)\n",
        "        probabilities_one = probabilities[:,1]\n",
        "        best_auc_roc = roc_auc_score(target_valid, probabilities_one)\n",
        "\n",
        "print(best_auc_roc, best_f1, best_c)\n",
        "\n",
        "class_weight_model_score = score_add(class_weight_model_score, 'Логистическая регрессия', best_f1, best_auc_roc )"
      ]
    },
    {
      "cell_type": "markdown",
      "metadata": {
        "id": "SF8Nervw4Bff"
      },
      "source": [
        "результат лучше, но недостаточно"
      ]
    },
    {
      "cell_type": "markdown",
      "metadata": {
        "id": "y1HTmVdu4Bff"
      },
      "source": [
        "#### Дерево решений"
      ]
    },
    {
      "cell_type": "code",
      "execution_count": null,
      "metadata": {
        "id": "xTQ3K6c04Bff",
        "outputId": "28756686-6010-439c-e17d-a75a5d5cf810"
      },
      "outputs": [
        {
          "name": "stdout",
          "output_type": "stream",
          "text": [
            "Лучшая глубина: 6\n",
            "Лучшая AUC-ROC: 0.8089018134883863\n",
            "Лучшая F1:  0.5587044534412956\n"
          ]
        }
      ],
      "source": [
        "best_f1 = 0\n",
        "best_depth = 0\n",
        "best_auc_roc = 0\n",
        "\n",
        "for depth in range(1,50):\n",
        "\n",
        "    model = DecisionTreeClassifier(random_state=12345, max_depth=depth, class_weight='balanced')\n",
        "    model.fit(features_train, target_train)\n",
        "    predicted_valid = model.predict(features_valid)\n",
        "\n",
        "    f1 = f1_score(target_valid, predicted_valid)\n",
        "\n",
        "    if f1 > best_f1:\n",
        "        best_f1 = f1\n",
        "        best_depth = depth\n",
        "        probabilities = model.predict_proba(features_valid)\n",
        "        probabilities_one = probabilities[:,1]\n",
        "        best_auc_roc = roc_auc_score(target_valid, probabilities_one)\n",
        "\n",
        "print('Лучшая глубина:', best_depth)\n",
        "print('Лучшая AUC-ROC:', best_auc_roc )\n",
        "print('Лучшая F1: ', best_f1)\n",
        "\n",
        "class_weight_model_score = score_add(class_weight_model_score, 'Дерево решений', best_f1, best_auc_roc )"
      ]
    },
    {
      "cell_type": "markdown",
      "metadata": {
        "id": "7jyBC7W44Bfg"
      },
      "source": [
        "Результат чуть выше, но тоже мало"
      ]
    },
    {
      "cell_type": "markdown",
      "metadata": {
        "id": "l9gV-Q034Bfg"
      },
      "source": [
        "#### Случайный лес"
      ]
    },
    {
      "cell_type": "code",
      "execution_count": null,
      "metadata": {
        "id": "23FWkHSh4Bfg",
        "outputId": "41ae0cba-febd-4c95-81d7-6f41a9ad6af1"
      },
      "outputs": [
        {
          "name": "stdout",
          "output_type": "stream",
          "text": [
            "Лучшая глубина: 13\n",
            "Лучшее кол-во деревьев: 47\n",
            "Лучшая AUC-ROC: 0.8445500771714096\n",
            "Лучшая F1:  0.604992657856094\n"
          ]
        }
      ],
      "source": [
        "best_f1 = 0\n",
        "best_depth = 0\n",
        "best_auc_roc = 0\n",
        "best_est = 0\n",
        "\n",
        "for est in range(1,50):\n",
        "    for depth in range(1,50):\n",
        "\n",
        "        model = RandomForestClassifier(random_state=12345, max_depth=depth, n_estimators=est,class_weight='balanced')\n",
        "        model.fit(features_train, target_train)\n",
        "        predicted_valid = model.predict(features_valid)\n",
        "\n",
        "        f1 = f1_score(target_valid, predicted_valid)\n",
        "\n",
        "        if f1 > best_f1:\n",
        "            best_f1 = f1\n",
        "            best_depth = depth\n",
        "            best_est = est\n",
        "            probabilities = model.predict_proba(features_valid)\n",
        "            probabilities_one = probabilities[:,1]\n",
        "            best_auc_roc = roc_auc_score(target_valid, probabilities_one)\n",
        "\n",
        "print('Лучшая глубина:', best_depth)\n",
        "print('Лучшее кол-во деревьев:',best_est )\n",
        "print('Лучшая AUC-ROC:', best_auc_roc )\n",
        "print('Лучшая F1: ', best_f1)\n",
        "\n",
        "class_weight_model_score = score_add(class_weight_model_score, 'Случайный лес', best_f1, best_auc_roc )"
      ]
    },
    {
      "cell_type": "markdown",
      "metadata": {
        "id": "i2MtafWa4Bfh"
      },
      "source": [
        "Результат еще лучше."
      ]
    },
    {
      "cell_type": "markdown",
      "metadata": {
        "id": "gXXj2-LM4Bfh"
      },
      "source": [
        "#### Промежуточный итог"
      ]
    },
    {
      "cell_type": "markdown",
      "metadata": {
        "id": "DXhj6I6Y4Bfh"
      },
      "source": [
        "Параметр class_weight однозначно добавил добавил качества моделям.\n",
        "Как и при дисбалансе, лучше всего себя показывает Случайный лес"
      ]
    },
    {
      "cell_type": "code",
      "execution_count": null,
      "metadata": {
        "id": "u_YQWVJv4Bfi",
        "outputId": "05ab4854-e670-4d9e-f9ff-79193a3ccf3d"
      },
      "outputs": [
        {
          "data": {
            "text/html": [
              "<div>\n",
              "<style scoped>\n",
              "    .dataframe tbody tr th:only-of-type {\n",
              "        vertical-align: middle;\n",
              "    }\n",
              "\n",
              "    .dataframe tbody tr th {\n",
              "        vertical-align: top;\n",
              "    }\n",
              "\n",
              "    .dataframe thead th {\n",
              "        text-align: right;\n",
              "    }\n",
              "</style>\n",
              "<table border=\"1\" class=\"dataframe\">\n",
              "  <thead>\n",
              "    <tr style=\"text-align: right;\">\n",
              "      <th></th>\n",
              "      <th>model_name</th>\n",
              "      <th>f1</th>\n",
              "      <th>auc_roc</th>\n",
              "    </tr>\n",
              "  </thead>\n",
              "  <tbody>\n",
              "    <tr>\n",
              "      <th>0</th>\n",
              "      <td>Логистическая регрессия</td>\n",
              "      <td>0.477639</td>\n",
              "      <td>0.772946</td>\n",
              "    </tr>\n",
              "    <tr>\n",
              "      <th>1</th>\n",
              "      <td>Дерево решений</td>\n",
              "      <td>0.558704</td>\n",
              "      <td>0.808902</td>\n",
              "    </tr>\n",
              "    <tr>\n",
              "      <th>2</th>\n",
              "      <td>Случайный лес</td>\n",
              "      <td>0.604993</td>\n",
              "      <td>0.844550</td>\n",
              "    </tr>\n",
              "  </tbody>\n",
              "</table>\n",
              "</div>"
            ],
            "text/plain": [
              "                model_name        f1   auc_roc\n",
              "0  Логистическая регрессия  0.477639  0.772946\n",
              "1           Дерево решений  0.558704  0.808902\n",
              "2            Случайный лес  0.604993  0.844550"
            ]
          },
          "execution_count": 27,
          "metadata": {},
          "output_type": "execute_result"
        },
        {
          "data": {
            "image/png": "[encoded data removed]",
            "text/plain": [
              "<Figure size 864x504 with 1 Axes>"
            ]
          },
          "metadata": {
            "needs_background": "light"
          },
          "output_type": "display_data"
        }
      ],
      "source": [
        "class_weight_model_score.plot(\n",
        "    x='model_name',\n",
        "    kind='bar',\n",
        "    figsize=(12,7),\n",
        "    fontsize=14,\n",
        "    grid=True,\n",
        "    title='Сравнение метрик моделей' )\n",
        "\n",
        "plt.xticks(rotation=0)\n",
        "\n",
        "class_weight_model_score"
      ]
    },
    {
      "cell_type": "markdown",
      "metadata": {
        "id": "SPpwmMTS4Bfi"
      },
      "source": [
        "### Техника `Upsample`"
      ]
    },
    {
      "cell_type": "code",
      "execution_count": null,
      "metadata": {
        "id": "VSBM8UvE4Bfi"
      },
      "outputs": [],
      "source": [
        "#создадим словарь с результатвми с параметром class_weight\n",
        "\n",
        "upsample_model_score = pd.DataFrame(columns=['model_name', 'f1', 'auc_roc'])"
      ]
    },
    {
      "cell_type": "code",
      "execution_count": null,
      "metadata": {
        "id": "XVRk3_yQ4Bfi",
        "outputId": "10197c56-df49-4cbb-ce70-81a36bfa2be5"
      },
      "outputs": [
        {
          "data": {
            "text/plain": [
              "array([[-0.13404813, -0.0780676 , -0.1741417 , ..., -0.57914647,\n",
              "        -0.57683707, -1.10331088],\n",
              "       [-1.01079765,  0.49455539, -1.45107444, ..., -0.57914647,\n",
              "        -0.57683707,  0.90636285],\n",
              "       [ 0.6395544 ,  1.35348989, -1.13184126, ...,  1.7266789 ,\n",
              "        -0.57683707,  0.90636285],\n",
              "       ...,\n",
              "       [ 0.5673515 , -0.6506906 ,  1.42202422, ..., -0.57914647,\n",
              "        -0.57683707,  0.90636285],\n",
              "       [-0.41254504,  0.49455539, -0.81260807, ...,  1.7266789 ,\n",
              "        -0.57683707,  0.90636285],\n",
              "       [ 1.05214241, -1.89137375,  1.42202422, ..., -0.57914647,\n",
              "         1.73359178, -1.10331088]])"
            ]
          },
          "execution_count": 29,
          "metadata": {},
          "output_type": "execute_result"
        }
      ],
      "source": [
        "features_train"
      ]
    },
    {
      "cell_type": "code",
      "execution_count": null,
      "metadata": {
        "id": "sBGP3sde4Bfj"
      },
      "outputs": [],
      "source": [
        "# Увеличим редкий класс в 4 раза\n",
        "def upsample(features, target, repeat):\n",
        "    features_zeros = pd.DataFrame(features[target == 0])\n",
        "    features_ones = pd.DataFrame(features[target == 1])\n",
        "    target_zeros = pd.DataFrame(target[target == 0])\n",
        "    target_ones = pd.DataFrame(target[target == 1])\n",
        "\n",
        "    features_upsampled = pd.concat([features_zeros] + [features_ones] * repeat)\n",
        "    target_upsampled = pd.concat([target_zeros] + [target_ones] * repeat)\n",
        "\n",
        "    features_upsampled, target_upsampled = shuffle(\n",
        "        features_upsampled, target_upsampled, random_state=12345)\n",
        "\n",
        "    return features_upsampled, target_upsampled\n",
        "\n",
        "features_upsampled, target_upsampled = upsample(features_train, target_train, 4)"
      ]
    },
    {
      "cell_type": "code",
      "execution_count": null,
      "metadata": {
        "id": "1qMQxY034Bfj",
        "outputId": "a041d06b-a03c-46aa-e17f-e20abbbf2079"
      },
      "outputs": [
        {
          "data": {
            "text/plain": [
              "0    4781\n",
              "1    1219\n",
              "Name: exited, dtype: int64"
            ]
          },
          "execution_count": 31,
          "metadata": {},
          "output_type": "execute_result"
        }
      ],
      "source": [
        "target_train.value_counts()"
      ]
    },
    {
      "cell_type": "code",
      "execution_count": null,
      "metadata": {
        "id": "AlDfhmU04Bfk",
        "outputId": "01979fd3-6057-413d-c328-5d4b2a0402d6"
      },
      "outputs": [
        {
          "data": {
            "text/plain": [
              "exited\n",
              "1         4876\n",
              "0         4781\n",
              "dtype: int64"
            ]
          },
          "execution_count": 32,
          "metadata": {},
          "output_type": "execute_result"
        }
      ],
      "source": [
        "\n",
        "target_upsampled.value_counts()"
      ]
    },
    {
      "cell_type": "markdown",
      "metadata": {
        "id": "wL2CCWns4Bfk"
      },
      "source": [
        "#### ЛОгистическая регрессия"
      ]
    },
    {
      "cell_type": "code",
      "execution_count": null,
      "metadata": {
        "id": "J9buS8XG4Bfk",
        "outputId": "9ce703de-a01f-421b-cbf3-797b146e9ec7"
      },
      "outputs": [
        {
          "name": "stdout",
          "output_type": "stream",
          "text": [
            "0.7729873044686298 0.4783759929390997 0.41000000000000003\n"
          ]
        }
      ],
      "source": [
        "best_auc_roc = 0\n",
        "best_f1 = 0\n",
        "best_c = 0\n",
        "\n",
        "for threshold in np.arange(0.03, 0.5, 0.01):\n",
        "    model = LogisticRegression(random_state=12345, C = threshold, solver='liblinear')\n",
        "    model.fit(features_upsampled, target_upsampled)\n",
        "    predicted_valid = model.predict(features_valid)\n",
        "    f1 = f1_score(target_valid, predicted_valid)\n",
        "\n",
        "    if f1 > best_f1:\n",
        "        best_c = threshold\n",
        "        best_f1 = f1\n",
        "        probabilities = model.predict_proba(features_valid)\n",
        "        probabilities_one = probabilities[:,1]\n",
        "        best_auc_roc = roc_auc_score(target_valid, probabilities_one)\n",
        "\n",
        "print(best_auc_roc, best_f1, best_c)\n",
        "\n",
        "upsample_model_score = score_add(upsample_model_score, 'Логистическая регрессия', best_f1, best_auc_roc )"
      ]
    },
    {
      "cell_type": "markdown",
      "metadata": {
        "id": "dkuQwFir4Bfl"
      },
      "source": [
        "Недостаточно"
      ]
    },
    {
      "cell_type": "markdown",
      "metadata": {
        "id": "1L6-lab24Bfl"
      },
      "source": [
        "#### Дерево решений"
      ]
    },
    {
      "cell_type": "code",
      "execution_count": null,
      "metadata": {
        "id": "YF8Kp2mB4Bfm",
        "outputId": "c3f3bf3a-ca27-4f47-b2ac-00dbcb6394e2"
      },
      "outputs": [
        {
          "name": "stdout",
          "output_type": "stream",
          "text": [
            "Лучшая глубина: 6\n",
            "Лучшая AUC-ROC: 0.8088890972931989\n",
            "Лучшая F1:  0.5587044534412956\n"
          ]
        }
      ],
      "source": [
        "best_f1 = 0\n",
        "best_depth = 0\n",
        "best_auc_roc = 0\n",
        "\n",
        "for depth in range(1,50):\n",
        "\n",
        "    model = DecisionTreeClassifier(random_state=12345, max_depth=depth)\n",
        "    model.fit(features_upsampled, target_upsampled)\n",
        "    predicted_valid = model.predict(features_valid)\n",
        "\n",
        "    f1 = f1_score(target_valid, predicted_valid)\n",
        "\n",
        "    if f1 > best_f1:\n",
        "        best_f1 = f1\n",
        "        best_depth = depth\n",
        "        probabilities = model.predict_proba(features_valid)\n",
        "        probabilities_one = probabilities[:,1]\n",
        "        best_auc_roc = roc_auc_score(target_valid, probabilities_one)\n",
        "\n",
        "print('Лучшая глубина:', best_depth)\n",
        "print('Лучшая AUC-ROC:', best_auc_roc )\n",
        "print('Лучшая F1: ', best_f1)\n",
        "\n",
        "upsample_model_score = score_add(upsample_model_score, 'Дерево решений', best_f1, best_auc_roc )"
      ]
    },
    {
      "cell_type": "markdown",
      "metadata": {
        "id": "6pm5gy-I4Bfn"
      },
      "source": [
        "Результат неизменен"
      ]
    },
    {
      "cell_type": "markdown",
      "metadata": {
        "id": "QX39-_0g4Bfn"
      },
      "source": [
        "#### Случайный лес"
      ]
    },
    {
      "cell_type": "code",
      "execution_count": null,
      "metadata": {
        "id": "PiuaOLLc4Bfn",
        "outputId": "b84c65dc-d9c9-4ebc-f687-2031355fe34d"
      },
      "outputs": [
        {
          "name": "stdout",
          "output_type": "stream",
          "text": [
            "Лучшая глубина: 12\n",
            "Лучшее кол-во деревьев: 47\n",
            "Лучшая AUC-ROC: 0.8486836353694611\n",
            "Лучшая F1:  0.6069651741293531\n"
          ]
        }
      ],
      "source": [
        "best_f1 = 0\n",
        "best_depth = 0\n",
        "best_auc_roc = 0\n",
        "best_est = 0\n",
        "\n",
        "for est in range(1,50):\n",
        "    for depth in range(1,50):\n",
        "\n",
        "        model = RandomForestClassifier(random_state=12345, max_depth=depth, n_estimators=est)\n",
        "        model.fit(features_upsampled, target_upsampled)\n",
        "        predicted_valid = model.predict(features_valid)\n",
        "\n",
        "        f1 = f1_score(target_valid, predicted_valid)\n",
        "\n",
        "        if f1 > best_f1:\n",
        "            best_f1 = f1\n",
        "            best_depth = depth\n",
        "            best_est = est\n",
        "            probabilities = model.predict_proba(features_valid)\n",
        "            probabilities_one = probabilities[:,1]\n",
        "            best_auc_roc = roc_auc_score(target_valid, probabilities_one)\n",
        "\n",
        "print('Лучшая глубина:', best_depth)\n",
        "print('Лучшее кол-во деревьев:',best_est )\n",
        "print('Лучшая AUC-ROC:', best_auc_roc )\n",
        "print('Лучшая F1: ', best_f1)\n",
        "\n",
        "upsample_model_score = score_add(upsample_model_score, 'Случайный лес', best_f1, best_auc_roc )"
      ]
    },
    {
      "cell_type": "markdown",
      "metadata": {
        "id": "G93SxlDF4Bfo"
      },
      "source": [
        "результат еще лучше"
      ]
    },
    {
      "cell_type": "markdown",
      "metadata": {
        "id": "KXgX3oTW4Bfo"
      },
      "source": [
        "#### Промежуточный итог\n"
      ]
    },
    {
      "cell_type": "markdown",
      "metadata": {
        "id": "C6OiruUE4Bfo"
      },
      "source": [
        "Увеличение редкой выборки привело к улучшению результатов"
      ]
    },
    {
      "cell_type": "code",
      "execution_count": null,
      "metadata": {
        "id": "SWZ0bbnQ4Bfo",
        "outputId": "c85c630d-f436-424d-f204-ed834667095e"
      },
      "outputs": [
        {
          "data": {
            "text/html": [
              "<div>\n",
              "<style scoped>\n",
              "    .dataframe tbody tr th:only-of-type {\n",
              "        vertical-align: middle;\n",
              "    }\n",
              "\n",
              "    .dataframe tbody tr th {\n",
              "        vertical-align: top;\n",
              "    }\n",
              "\n",
              "    .dataframe thead th {\n",
              "        text-align: right;\n",
              "    }\n",
              "</style>\n",
              "<table border=\"1\" class=\"dataframe\">\n",
              "  <thead>\n",
              "    <tr style=\"text-align: right;\">\n",
              "      <th></th>\n",
              "      <th>model_name</th>\n",
              "      <th>f1</th>\n",
              "      <th>auc_roc</th>\n",
              "    </tr>\n",
              "  </thead>\n",
              "  <tbody>\n",
              "    <tr>\n",
              "      <th>0</th>\n",
              "      <td>Логистическая регрессия</td>\n",
              "      <td>0.478376</td>\n",
              "      <td>0.772987</td>\n",
              "    </tr>\n",
              "    <tr>\n",
              "      <th>1</th>\n",
              "      <td>Дерево решений</td>\n",
              "      <td>0.558704</td>\n",
              "      <td>0.808889</td>\n",
              "    </tr>\n",
              "    <tr>\n",
              "      <th>2</th>\n",
              "      <td>Случайный лес</td>\n",
              "      <td>0.606965</td>\n",
              "      <td>0.848684</td>\n",
              "    </tr>\n",
              "  </tbody>\n",
              "</table>\n",
              "</div>"
            ],
            "text/plain": [
              "                model_name        f1   auc_roc\n",
              "0  Логистическая регрессия  0.478376  0.772987\n",
              "1           Дерево решений  0.558704  0.808889\n",
              "2            Случайный лес  0.606965  0.848684"
            ]
          },
          "execution_count": 36,
          "metadata": {},
          "output_type": "execute_result"
        },
        {
          "data": {
            "image/png": "[encoded data removed]",
            "text/plain": [
              "<Figure size 864x504 with 1 Axes>"
            ]
          },
          "metadata": {
            "needs_background": "light"
          },
          "output_type": "display_data"
        }
      ],
      "source": [
        "upsample_model_score.plot(\n",
        "    x='model_name',\n",
        "    kind='bar',\n",
        "    figsize=(12,7),\n",
        "    fontsize=14,\n",
        "    grid=True,\n",
        "    title='Сравнение метрик моделей' )\n",
        "\n",
        "plt.xticks(rotation=0)\n",
        "\n",
        "upsample_model_score"
      ]
    },
    {
      "cell_type": "markdown",
      "metadata": {
        "id": "7fNNBgpx4Bfp"
      },
      "source": [
        "### Техника `Downsample`"
      ]
    },
    {
      "cell_type": "code",
      "execution_count": null,
      "metadata": {
        "id": "G4IEvje24Bfp"
      },
      "outputs": [],
      "source": [
        "#создадим словарь с результатвми с параметром class_weight\n",
        "\n",
        "downsample_model_score = pd.DataFrame(columns=['model_name', 'f1', 'auc_roc'])"
      ]
    },
    {
      "cell_type": "code",
      "execution_count": null,
      "metadata": {
        "id": "QhgVyHcI4Bfp"
      },
      "outputs": [],
      "source": [
        "def downsample(features, target, fraction):\n",
        "    features_zeros = pd.DataFrame(features[target == 0])\n",
        "    features_ones = pd.DataFrame(features[target == 1])\n",
        "    target_zeros = pd.DataFrame(target[target == 0])\n",
        "    target_ones = pd.DataFrame(target[target == 1])\n",
        "\n",
        "    features_downsampled = pd.concat(\n",
        "        [features_zeros.sample(frac=fraction, random_state=12345)] + [features_ones])\n",
        "    target_downsampled = pd.concat(\n",
        "        [target_zeros.sample(frac=fraction, random_state=12345)] + [target_ones])\n",
        "\n",
        "    features_downsampled, target_downsampled = shuffle(\n",
        "        features_downsampled, target_downsampled, random_state=12345)\n",
        "\n",
        "    return features_downsampled, target_downsampled\n",
        "\n",
        "features_downsampled, target_downsampled = downsample(features_train, target_train, 0.255)"
      ]
    },
    {
      "cell_type": "code",
      "execution_count": null,
      "metadata": {
        "id": "zJUQlF4i4Bfq",
        "outputId": "5498520b-f22e-49d2-8188-1f6943701eb5"
      },
      "outputs": [
        {
          "data": {
            "text/plain": [
              "exited\n",
              "0         1219\n",
              "1         1219\n",
              "dtype: int64"
            ]
          },
          "execution_count": 39,
          "metadata": {},
          "output_type": "execute_result"
        }
      ],
      "source": [
        "\n",
        "target_downsampled.value_counts()"
      ]
    },
    {
      "cell_type": "markdown",
      "metadata": {
        "id": "f3KKriWA4Bfq"
      },
      "source": [
        "#### ЛОгистическая регрессия"
      ]
    },
    {
      "cell_type": "code",
      "execution_count": null,
      "metadata": {
        "id": "KCYcoa_c4Bfq",
        "outputId": "5dfc86ec-b84c-421c-f536-31294258874f"
      },
      "outputs": [
        {
          "name": "stdout",
          "output_type": "stream",
          "text": [
            "0.7735611227764541 0.4799286351471901 0.1\n"
          ]
        }
      ],
      "source": [
        "best_auc_roc = 0\n",
        "best_f1 = 0\n",
        "best_c = 0\n",
        "for threshold in np.arange(0.03, 0.5, 0.01):\n",
        "    model = LogisticRegression(random_state=12345, C = threshold, solver='liblinear')\n",
        "    model.fit(features_downsampled, target_downsampled)\n",
        "    predicted_valid = model.predict(features_valid)\n",
        "    f1 = f1_score(target_valid, predicted_valid)\n",
        "\n",
        "    if f1 > best_f1:\n",
        "        best_c = threshold\n",
        "        best_f1 = f1\n",
        "        probabilities = model.predict_proba(features_valid)\n",
        "        probabilities_one = probabilities[:,1]\n",
        "        best_auc_roc = roc_auc_score(target_valid, probabilities_one)\n",
        "\n",
        "print(best_auc_roc, best_f1, best_c)\n",
        "\n",
        "downsample_model_score = score_add(downsample_model_score, 'Логистическая регрессия', best_f1, best_auc_roc )"
      ]
    },
    {
      "cell_type": "markdown",
      "metadata": {
        "id": "e0TRCDcQ4Bfr"
      },
      "source": [
        "#### Дерево решений"
      ]
    },
    {
      "cell_type": "code",
      "execution_count": null,
      "metadata": {
        "id": "Th3laa0i4Bfr",
        "outputId": "c3e556d3-7c33-4b5d-e953-a40471bc45cc"
      },
      "outputs": [
        {
          "name": "stdout",
          "output_type": "stream",
          "text": [
            "Лучшая глубина: 6\n",
            "Лучшая AUC-ROC: 0.8140399511062296\n",
            "Лучшая F1:  0.5452830188679245\n"
          ]
        }
      ],
      "source": [
        "best_f1 = 0\n",
        "best_depth = 0\n",
        "best_auc_roc = 0\n",
        "\n",
        "for depth in range(1,50):\n",
        "\n",
        "    model = DecisionTreeClassifier(random_state=12345, max_depth=depth)\n",
        "    model.fit(features_downsampled, target_downsampled)\n",
        "    predicted_valid = model.predict(features_valid)\n",
        "\n",
        "    f1 = f1_score(target_valid, predicted_valid)\n",
        "\n",
        "    if f1 > best_f1:\n",
        "        best_f1 = f1\n",
        "        best_depth = depth\n",
        "        probabilities = model.predict_proba(features_valid)\n",
        "        probabilities_one = probabilities[:,1]\n",
        "        best_auc_roc = roc_auc_score(target_valid, probabilities_one)\n",
        "\n",
        "print('Лучшая глубина:', best_depth)\n",
        "print('Лучшая AUC-ROC:', best_auc_roc )\n",
        "print('Лучшая F1: ', best_f1)\n",
        "\n",
        "downsample_model_score = score_add(downsample_model_score, 'Дерево решений', best_f1, best_auc_roc )"
      ]
    },
    {
      "cell_type": "markdown",
      "metadata": {
        "id": "eGRa2X_94Bfs"
      },
      "source": [
        "#### Случайный лес"
      ]
    },
    {
      "cell_type": "code",
      "execution_count": null,
      "metadata": {
        "id": "ZITqVhoL4Bfs",
        "outputId": "f22b7b51-053c-417d-98b3-2dc6480a7e79"
      },
      "outputs": [
        {
          "name": "stdout",
          "output_type": "stream",
          "text": [
            "Лучшая глубина: 10\n",
            "Лучшее кол-во деревьев: 45\n",
            "Лучшая AUC-ROC: 0.846766668944985\n",
            "Лучшая F1:  0.5736585365853658\n"
          ]
        }
      ],
      "source": [
        "best_f1 = 0\n",
        "best_depth = 0\n",
        "best_auc_roc = 0\n",
        "best_est = 0\n",
        "\n",
        "for est in range(1,50):\n",
        "    for depth in range(1,50):\n",
        "\n",
        "        model = RandomForestClassifier(random_state=12345, max_depth=depth, n_estimators=est)\n",
        "        model.fit(features_downsampled, target_downsampled)\n",
        "        predicted_valid = model.predict(features_valid)\n",
        "\n",
        "        f1 = f1_score(target_valid, predicted_valid)\n",
        "\n",
        "        if f1 > best_f1:\n",
        "            best_f1 = f1\n",
        "            best_depth = depth\n",
        "            best_est = est\n",
        "            probabilities = model.predict_proba(features_valid)\n",
        "            probabilities_one = probabilities[:,1]\n",
        "            best_auc_roc = roc_auc_score(target_valid, probabilities_one)\n",
        "\n",
        "print('Лучшая глубина:', best_depth)\n",
        "print('Лучшее кол-во деревьев:',best_est )\n",
        "print('Лучшая AUC-ROC:', best_auc_roc )\n",
        "print('Лучшая F1: ', best_f1)\n",
        "\n",
        "downsample_model_score = score_add(downsample_model_score, 'Случайный лес', best_f1, best_auc_roc )"
      ]
    },
    {
      "cell_type": "markdown",
      "metadata": {
        "id": "efeaVRBv4Bfs"
      },
      "source": [
        "#### Промежуточный итог\n"
      ]
    },
    {
      "cell_type": "markdown",
      "metadata": {
        "id": "eALlWAVf4Bft"
      },
      "source": [
        "Уменьшение подавляющей выборки привело к ухудшению результатов"
      ]
    },
    {
      "cell_type": "code",
      "execution_count": null,
      "metadata": {
        "id": "tp9kmC1G4Bft",
        "outputId": "996b5075-405f-4f0d-a167-0a51d41f5dbb"
      },
      "outputs": [
        {
          "data": {
            "text/html": [
              "<div>\n",
              "<style scoped>\n",
              "    .dataframe tbody tr th:only-of-type {\n",
              "        vertical-align: middle;\n",
              "    }\n",
              "\n",
              "    .dataframe tbody tr th {\n",
              "        vertical-align: top;\n",
              "    }\n",
              "\n",
              "    .dataframe thead th {\n",
              "        text-align: right;\n",
              "    }\n",
              "</style>\n",
              "<table border=\"1\" class=\"dataframe\">\n",
              "  <thead>\n",
              "    <tr style=\"text-align: right;\">\n",
              "      <th></th>\n",
              "      <th>model_name</th>\n",
              "      <th>f1</th>\n",
              "      <th>auc_roc</th>\n",
              "    </tr>\n",
              "  </thead>\n",
              "  <tbody>\n",
              "    <tr>\n",
              "      <th>0</th>\n",
              "      <td>Логистическая регрессия</td>\n",
              "      <td>0.479929</td>\n",
              "      <td>0.773561</td>\n",
              "    </tr>\n",
              "    <tr>\n",
              "      <th>1</th>\n",
              "      <td>Дерево решений</td>\n",
              "      <td>0.545283</td>\n",
              "      <td>0.814040</td>\n",
              "    </tr>\n",
              "    <tr>\n",
              "      <th>2</th>\n",
              "      <td>Случайный лес</td>\n",
              "      <td>0.573659</td>\n",
              "      <td>0.846767</td>\n",
              "    </tr>\n",
              "  </tbody>\n",
              "</table>\n",
              "</div>"
            ],
            "text/plain": [
              "                model_name        f1   auc_roc\n",
              "0  Логистическая регрессия  0.479929  0.773561\n",
              "1           Дерево решений  0.545283  0.814040\n",
              "2            Случайный лес  0.573659  0.846767"
            ]
          },
          "execution_count": 43,
          "metadata": {},
          "output_type": "execute_result"
        },
        {
          "data": {
            "image/png": "[encoded data removed]",
            "text/plain": [
              "<Figure size 864x504 with 1 Axes>"
            ]
          },
          "metadata": {
            "needs_background": "light"
          },
          "output_type": "display_data"
        }
      ],
      "source": [
        "downsample_model_score.plot(\n",
        "    x='model_name',\n",
        "    kind='bar',\n",
        "    figsize=(12,7),\n",
        "    fontsize=14,\n",
        "    grid=True,\n",
        "    title='Сравнение метрик моделей' )\n",
        "\n",
        "plt.xticks(rotation=0)\n",
        "\n",
        "downsample_model_score"
      ]
    },
    {
      "cell_type": "markdown",
      "metadata": {
        "id": "c9YNh4ML4Bfu"
      },
      "source": [
        "### ИТОГ\n"
      ]
    },
    {
      "cell_type": "markdown",
      "metadata": {
        "id": "gYQT5WbZ4Bfu"
      },
      "source": [
        "Как и ожидалось, лучшие показатели смогли получить, воспользовавшись техникой upsample - чем больше данных, тем лучше обучение.\n",
        "\n",
        "Минимальный порог преодолеть смогли: Случайный лес дал F1 0.606965.\n",
        "Есть предположение, что качестве будет выше, если увеличить количество деревьев, однако мой комп не выдерживает таких расчетов((\n"
      ]
    },
    {
      "cell_type": "code",
      "execution_count": null,
      "metadata": {
        "id": "BxPYLP8x4Bfu",
        "outputId": "5cac54c1-28e1-40b1-8f85-3d3b0656718b"
      },
      "outputs": [
        {
          "data": {
            "text/html": [
              "<div>\n",
              "<style scoped>\n",
              "    .dataframe tbody tr th:only-of-type {\n",
              "        vertical-align: middle;\n",
              "    }\n",
              "\n",
              "    .dataframe tbody tr th {\n",
              "        vertical-align: top;\n",
              "    }\n",
              "\n",
              "    .dataframe thead th {\n",
              "        text-align: right;\n",
              "    }\n",
              "</style>\n",
              "<table border=\"1\" class=\"dataframe\">\n",
              "  <thead>\n",
              "    <tr style=\"text-align: right;\">\n",
              "      <th></th>\n",
              "      <th>model_name</th>\n",
              "      <th>f1</th>\n",
              "      <th>auc_roc</th>\n",
              "    </tr>\n",
              "  </thead>\n",
              "  <tbody>\n",
              "    <tr>\n",
              "      <th>0</th>\n",
              "      <td>Логистическая регрессия</td>\n",
              "      <td>0.305660</td>\n",
              "      <td>0.770775</td>\n",
              "    </tr>\n",
              "    <tr>\n",
              "      <th>1</th>\n",
              "      <td>Дерево решений</td>\n",
              "      <td>0.548896</td>\n",
              "      <td>0.827565</td>\n",
              "    </tr>\n",
              "    <tr>\n",
              "      <th>2</th>\n",
              "      <td>Случайный лес</td>\n",
              "      <td>0.590015</td>\n",
              "      <td>0.821666</td>\n",
              "    </tr>\n",
              "  </tbody>\n",
              "</table>\n",
              "</div>"
            ],
            "text/plain": [
              "                model_name        f1   auc_roc\n",
              "0  Логистическая регрессия  0.305660  0.770775\n",
              "1           Дерево решений  0.548896  0.827565\n",
              "2            Случайный лес  0.590015  0.821666"
            ]
          },
          "execution_count": 44,
          "metadata": {},
          "output_type": "execute_result"
        }
      ],
      "source": [
        "model_score"
      ]
    },
    {
      "cell_type": "code",
      "execution_count": null,
      "metadata": {
        "id": "teAsdJBz4Bfv",
        "outputId": "6ba5f6b6-dc6a-45be-820c-dceb6ea35de9"
      },
      "outputs": [
        {
          "data": {
            "text/html": [
              "<div>\n",
              "<style scoped>\n",
              "    .dataframe tbody tr th:only-of-type {\n",
              "        vertical-align: middle;\n",
              "    }\n",
              "\n",
              "    .dataframe tbody tr th {\n",
              "        vertical-align: top;\n",
              "    }\n",
              "\n",
              "    .dataframe thead th {\n",
              "        text-align: right;\n",
              "    }\n",
              "</style>\n",
              "<table border=\"1\" class=\"dataframe\">\n",
              "  <thead>\n",
              "    <tr style=\"text-align: right;\">\n",
              "      <th></th>\n",
              "      <th>model_name</th>\n",
              "      <th>f1</th>\n",
              "      <th>auc_roc</th>\n",
              "    </tr>\n",
              "  </thead>\n",
              "  <tbody>\n",
              "    <tr>\n",
              "      <th>0</th>\n",
              "      <td>Логистическая регрессия</td>\n",
              "      <td>0.477639</td>\n",
              "      <td>0.772946</td>\n",
              "    </tr>\n",
              "    <tr>\n",
              "      <th>1</th>\n",
              "      <td>Дерево решений</td>\n",
              "      <td>0.558704</td>\n",
              "      <td>0.808902</td>\n",
              "    </tr>\n",
              "    <tr>\n",
              "      <th>2</th>\n",
              "      <td>Случайный лес</td>\n",
              "      <td>0.604993</td>\n",
              "      <td>0.844550</td>\n",
              "    </tr>\n",
              "  </tbody>\n",
              "</table>\n",
              "</div>"
            ],
            "text/plain": [
              "                model_name        f1   auc_roc\n",
              "0  Логистическая регрессия  0.477639  0.772946\n",
              "1           Дерево решений  0.558704  0.808902\n",
              "2            Случайный лес  0.604993  0.844550"
            ]
          },
          "execution_count": 45,
          "metadata": {},
          "output_type": "execute_result"
        }
      ],
      "source": [
        "class_weight_model_score"
      ]
    },
    {
      "cell_type": "code",
      "execution_count": null,
      "metadata": {
        "id": "05vrBX0M4Bfv",
        "outputId": "91b41a8c-d6f8-4b26-c154-4e34c7dfdfe1"
      },
      "outputs": [
        {
          "data": {
            "text/html": [
              "<div>\n",
              "<style scoped>\n",
              "    .dataframe tbody tr th:only-of-type {\n",
              "        vertical-align: middle;\n",
              "    }\n",
              "\n",
              "    .dataframe tbody tr th {\n",
              "        vertical-align: top;\n",
              "    }\n",
              "\n",
              "    .dataframe thead th {\n",
              "        text-align: right;\n",
              "    }\n",
              "</style>\n",
              "<table border=\"1\" class=\"dataframe\">\n",
              "  <thead>\n",
              "    <tr style=\"text-align: right;\">\n",
              "      <th></th>\n",
              "      <th>model_name</th>\n",
              "      <th>f1</th>\n",
              "      <th>auc_roc</th>\n",
              "    </tr>\n",
              "  </thead>\n",
              "  <tbody>\n",
              "    <tr>\n",
              "      <th>0</th>\n",
              "      <td>Логистическая регрессия</td>\n",
              "      <td>0.478376</td>\n",
              "      <td>0.772987</td>\n",
              "    </tr>\n",
              "    <tr>\n",
              "      <th>1</th>\n",
              "      <td>Дерево решений</td>\n",
              "      <td>0.558704</td>\n",
              "      <td>0.808889</td>\n",
              "    </tr>\n",
              "    <tr>\n",
              "      <th>2</th>\n",
              "      <td>Случайный лес</td>\n",
              "      <td>0.606965</td>\n",
              "      <td>0.848684</td>\n",
              "    </tr>\n",
              "  </tbody>\n",
              "</table>\n",
              "</div>"
            ],
            "text/plain": [
              "                model_name        f1   auc_roc\n",
              "0  Логистическая регрессия  0.478376  0.772987\n",
              "1           Дерево решений  0.558704  0.808889\n",
              "2            Случайный лес  0.606965  0.848684"
            ]
          },
          "execution_count": 46,
          "metadata": {},
          "output_type": "execute_result"
        }
      ],
      "source": [
        "upsample_model_score"
      ]
    },
    {
      "cell_type": "code",
      "execution_count": null,
      "metadata": {
        "id": "4SSS-L2X4Bfv",
        "outputId": "a151222b-4cb1-4c71-f79b-b22442db1222"
      },
      "outputs": [
        {
          "data": {
            "text/html": [
              "<div>\n",
              "<style scoped>\n",
              "    .dataframe tbody tr th:only-of-type {\n",
              "        vertical-align: middle;\n",
              "    }\n",
              "\n",
              "    .dataframe tbody tr th {\n",
              "        vertical-align: top;\n",
              "    }\n",
              "\n",
              "    .dataframe thead th {\n",
              "        text-align: right;\n",
              "    }\n",
              "</style>\n",
              "<table border=\"1\" class=\"dataframe\">\n",
              "  <thead>\n",
              "    <tr style=\"text-align: right;\">\n",
              "      <th></th>\n",
              "      <th>model_name</th>\n",
              "      <th>f1</th>\n",
              "      <th>auc_roc</th>\n",
              "    </tr>\n",
              "  </thead>\n",
              "  <tbody>\n",
              "    <tr>\n",
              "      <th>0</th>\n",
              "      <td>Логистическая регрессия</td>\n",
              "      <td>0.479929</td>\n",
              "      <td>0.773561</td>\n",
              "    </tr>\n",
              "    <tr>\n",
              "      <th>1</th>\n",
              "      <td>Дерево решений</td>\n",
              "      <td>0.545283</td>\n",
              "      <td>0.814040</td>\n",
              "    </tr>\n",
              "    <tr>\n",
              "      <th>2</th>\n",
              "      <td>Случайный лес</td>\n",
              "      <td>0.573659</td>\n",
              "      <td>0.846767</td>\n",
              "    </tr>\n",
              "  </tbody>\n",
              "</table>\n",
              "</div>"
            ],
            "text/plain": [
              "                model_name        f1   auc_roc\n",
              "0  Логистическая регрессия  0.479929  0.773561\n",
              "1           Дерево решений  0.545283  0.814040\n",
              "2            Случайный лес  0.573659  0.846767"
            ]
          },
          "execution_count": 47,
          "metadata": {},
          "output_type": "execute_result"
        }
      ],
      "source": [
        "downsample_model_score"
      ]
    },
    {
      "cell_type": "markdown",
      "metadata": {
        "id": "VPTES1eJ4Bfw"
      },
      "source": [
        "## Тестирование модели"
      ]
    },
    {
      "cell_type": "markdown",
      "metadata": {
        "id": "QMf7UnRl4Bfw"
      },
      "source": [
        "Все алгоритмы мы протестировали.\n",
        "Подобрав наилучшие параметры, проведем тестирование на тестовой выборке.\n",
        "B проверим их на вменяемость.\n",
        "\n",
        "Возьмем модели upsample."
      ]
    },
    {
      "cell_type": "markdown",
      "metadata": {
        "id": "zwffPUEt4Bfw"
      },
      "source": [
        "### Логистическая регрессия\n",
        "\n",
        "Установим порог в 0.22"
      ]
    },
    {
      "cell_type": "code",
      "execution_count": null,
      "metadata": {
        "id": "49MMIG9W4Bfx",
        "outputId": "d647fa54-82b8-48ae-fc66-47f41b7933f4"
      },
      "outputs": [
        {
          "name": "stdout",
          "output_type": "stream",
          "text": [
            "F1:  0.5029142381348876\n",
            "AUC-ROC:  0.7644010237154797\n",
            "Accuracy:  0.7015\n"
          ]
        }
      ],
      "source": [
        "model = LogisticRegression(random_state=12345, C = 0.22, solver='liblinear')\n",
        "model.fit(features_upsampled, target_upsampled)\n",
        "predicted_test = model.predict(features_test)\n",
        "\n",
        "f1 = f1_score(target_test, predicted_test)\n",
        "\n",
        "accuracy_score = model.score(features_test, target_test)\n",
        "\n",
        "probabilities = model.predict_proba(features_test)\n",
        "probabilities_one = probabilities[:,1]\n",
        "auc_roc = roc_auc_score(target_test, probabilities_one)\n",
        "\n",
        "print('F1: ', f1)\n",
        "print('AUC-ROC: ',auc_roc )\n",
        "print('Accuracy: ', accuracy_score)"
      ]
    },
    {
      "cell_type": "markdown",
      "metadata": {
        "id": "_TBCIJ7V4Bfx"
      },
      "source": [
        "### Дерево решений\n",
        "\n",
        "Глубина - 6"
      ]
    },
    {
      "cell_type": "code",
      "execution_count": null,
      "metadata": {
        "id": "ZpcgnBOL4Bfx",
        "outputId": "39d5ac17-ec85-46a9-a033-f475419f7896"
      },
      "outputs": [
        {
          "name": "stdout",
          "output_type": "stream",
          "text": [
            "F1:  0.5853658536585366\n",
            "AUC-ROC:  0.8331906543530985\n",
            "Accuracy:  0.7705\n"
          ]
        }
      ],
      "source": [
        "model = DecisionTreeClassifier(random_state=12345, max_depth=6)\n",
        "model.fit(features_downsampled, target_downsampled)\n",
        "predicted_test = model.predict(features_test)\n",
        "\n",
        "f1 = f1_score(target_test, predicted_test)\n",
        "accuracy_score = model.score(features_test, target_test)\n",
        "\n",
        "probabilities = model.predict_proba(features_test)\n",
        "probabilities_one = probabilities[:,1]\n",
        "auc_roc = roc_auc_score(target_test, probabilities_one)\n",
        "\n",
        "print('F1: ', f1)\n",
        "print('AUC-ROC: ',auc_roc )\n",
        "print('Accuracy: ', accuracy_score)"
      ]
    },
    {
      "cell_type": "markdown",
      "metadata": {
        "id": "m6DY26fj4Bfy"
      },
      "source": [
        "### Случайный лес\n",
        "\n",
        "Глубина - 12\n",
        "\n",
        "Количество деревьев - 47"
      ]
    },
    {
      "cell_type": "code",
      "execution_count": null,
      "metadata": {
        "id": "3Vl6uAhV4Bfy",
        "outputId": "031ac4b6-ef51-47a7-8cb9-e1bad31dc14a"
      },
      "outputs": [
        {
          "name": "stdout",
          "output_type": "stream",
          "text": [
            "F1:  0.6077547339945897\n",
            "AUC-ROC:  0.8538123575381401\n",
            "Accuracy:  0.7825\n"
          ]
        }
      ],
      "source": [
        "rfc_model = RandomForestClassifier(random_state=12345, max_depth=12, n_estimators=47)\n",
        "rfc_model.fit(features_downsampled, target_downsampled)\n",
        "predicted_test = rfc_model.predict(features_test)\n",
        "\n",
        "f1 = f1_score(target_test, predicted_test)\n",
        "accuracy_score = rfc_model.score(features_test, target_test)\n",
        "\n",
        "probabilities = rfc_model.predict_proba(features_test)\n",
        "probabilities_one = probabilities[:,1]\n",
        "auc_roc = roc_auc_score(target_test, probabilities_one)\n",
        "\n",
        "print('F1: ', f1)\n",
        "print('AUC-ROC: ',auc_roc )\n",
        "print('Accuracy: ', accuracy_score)"
      ]
    },
    {
      "cell_type": "markdown",
      "metadata": {
        "id": "XJO1Avs44Bfy"
      },
      "source": [
        "### Итог"
      ]
    },
    {
      "cell_type": "code",
      "execution_count": null,
      "metadata": {
        "id": "TuUdAfZT4Bfy",
        "outputId": "93c0e935-b0c0-4da0-863f-4ea844f15fec"
      },
      "outputs": [
        {
          "data": {
            "image/png": "[encoded data removed]",
            "text/plain": [
              "<Figure size 432x288 with 1 Axes>"
            ]
          },
          "metadata": {
            "needs_background": "light"
          },
          "output_type": "display_data"
        }
      ],
      "source": [
        "probabilities_valid = rfc_model.predict_proba(features_valid)\n",
        "probabilities_one_valid = probabilities_valid[:, 1]\n",
        "\n",
        "fpr, tpr, thresholds = roc_curve(target_valid,probabilities_one_valid)\n",
        "\n",
        "plt.figure()\n",
        "plt.plot(fpr, tpr)\n",
        "plt.plot([0, 1], [0, 1], linestyle='--')\n",
        "plt.xlim([0.0, 1.0])\n",
        "plt.ylim([0.0, 1.0])\n",
        "plt.xlabel('False Positive Rate')\n",
        "plt.ylabel('True Positive Rate')\n",
        "plt.title('ROC-кривая')\n",
        "plt.show()"
      ]
    },
    {
      "cell_type": "markdown",
      "metadata": {
        "id": "CDyjRmC44Bfz"
      },
      "source": [
        "В ходе проекта мы изучили данные о клиента и обучили модель предсказыванию возможного ухода из банка:\n",
        "\n",
        "- Изучили и скорректировали данные\n",
        "- Разделили общий массив на 3 выборки в соотношении 3:1:1 для дальнейшего обучения, валидации и тестирования\n",
        "- обучили модели с помощью трех алгоритмов на несбалансированных выборках\n",
        "- обучили модели, использовав 3 метода балансировки:\n",
        "    добавление параметра class_weight\n",
        "    техника upsampling\n",
        "    техника downsampling\n",
        "- сравнили результаты всех иследований и выбрали самую подходящую технику и самые подходящие\n",
        "\n",
        "Поставленную задачу мы выполнили: обучив модель Случайному лесу, на сбалансированных техникой upsampling выборках,Ю мы добились меры f1 более 0.59 - 0.6077547339945897. А Accuracy составляет - 0.7825\n",
        "\n",
        "Как показывает график, наша модель сильно отличается в положительную сторону от случайной модели, что говорит о вменяемости модели.\n",
        "\n",
        "Потому, учитывая указанный порог f1-меры, могу сказать, что модель справляется со своей задачей.\n",
        "Из чего следует, что маркетологи, могут использовать ее для определения потенциально \"бывшего\" клиента и его удержания.\n",
        "\n"
      ]
    },
    {
      "cell_type": "code",
      "execution_count": null,
      "metadata": {
        "id": "yV8aTPBI4Bf0"
      },
      "outputs": [],
      "source": []
    }
  ],
  "metadata": {
    "ExecuteTimeLog": [
      {
        "duration": 82,
        "start_time": "2023-04-27T12:30:30.480Z"
      },
      {
        "duration": 1134,
        "start_time": "2023-04-27T12:31:18.072Z"
      },
      {
        "duration": 6,
        "start_time": "2023-04-27T12:35:27.213Z"
      },
      {
        "duration": 4,
        "start_time": "2023-04-27T12:43:51.340Z"
      },
      {
        "duration": 3,
        "start_time": "2023-04-27T12:43:51.758Z"
      },
      {
        "duration": 3,
        "start_time": "2023-04-27T12:43:52.332Z"
      },
      {
        "duration": 167,
        "start_time": "2023-04-27T12:43:52.834Z"
      },
      {
        "duration": 18,
        "start_time": "2023-04-27T12:45:10.201Z"
      },
      {
        "duration": 112,
        "start_time": "2023-04-27T12:50:55.767Z"
      },
      {
        "duration": 8,
        "start_time": "2023-04-27T12:51:44.543Z"
      },
      {
        "duration": 12,
        "start_time": "2023-04-27T12:52:00.148Z"
      },
      {
        "duration": 14,
        "start_time": "2023-04-27T12:52:36.928Z"
      },
      {
        "duration": 13,
        "start_time": "2023-04-27T12:53:03.902Z"
      },
      {
        "duration": 4,
        "start_time": "2023-04-27T12:53:17.503Z"
      },
      {
        "duration": 10,
        "start_time": "2023-04-27T12:57:04.359Z"
      },
      {
        "duration": 9,
        "start_time": "2023-04-27T12:57:46.339Z"
      },
      {
        "duration": 10,
        "start_time": "2023-04-27T12:57:53.508Z"
      },
      {
        "duration": 8,
        "start_time": "2023-04-27T12:57:57.942Z"
      },
      {
        "duration": 7,
        "start_time": "2023-04-27T12:58:09.328Z"
      },
      {
        "duration": 12,
        "start_time": "2023-04-27T12:58:13.303Z"
      },
      {
        "duration": 4,
        "start_time": "2023-04-27T12:58:18.900Z"
      },
      {
        "duration": 2,
        "start_time": "2023-04-27T12:58:19.085Z"
      },
      {
        "duration": 3,
        "start_time": "2023-04-27T12:58:19.304Z"
      },
      {
        "duration": 45,
        "start_time": "2023-04-27T12:58:19.659Z"
      },
      {
        "duration": 13,
        "start_time": "2023-04-27T12:58:20.298Z"
      },
      {
        "duration": 5,
        "start_time": "2023-04-27T12:58:21.384Z"
      },
      {
        "duration": 8,
        "start_time": "2023-04-27T12:58:22.417Z"
      },
      {
        "duration": 9,
        "start_time": "2023-04-27T12:58:26.227Z"
      },
      {
        "duration": 8,
        "start_time": "2023-04-27T12:58:28.484Z"
      },
      {
        "duration": 3,
        "start_time": "2023-04-27T12:58:33.808Z"
      },
      {
        "duration": 8,
        "start_time": "2023-04-27T12:58:51.894Z"
      },
      {
        "duration": 3,
        "start_time": "2023-04-27T12:58:56.982Z"
      },
      {
        "duration": 3,
        "start_time": "2023-04-27T12:58:57.225Z"
      },
      {
        "duration": 3,
        "start_time": "2023-04-27T12:58:57.424Z"
      },
      {
        "duration": 40,
        "start_time": "2023-04-27T12:58:57.547Z"
      },
      {
        "duration": 13,
        "start_time": "2023-04-27T12:58:57.849Z"
      },
      {
        "duration": 4,
        "start_time": "2023-04-27T12:58:59.016Z"
      },
      {
        "duration": 13,
        "start_time": "2023-04-27T12:58:59.677Z"
      },
      {
        "duration": 4,
        "start_time": "2023-04-27T12:59:38.438Z"
      },
      {
        "duration": 11,
        "start_time": "2023-04-27T13:00:38.724Z"
      },
      {
        "duration": 12,
        "start_time": "2023-04-27T13:00:54.549Z"
      },
      {
        "duration": 4,
        "start_time": "2023-04-27T13:03:30.434Z"
      },
      {
        "duration": 3,
        "start_time": "2023-04-27T13:03:30.735Z"
      },
      {
        "duration": 2,
        "start_time": "2023-04-27T13:03:31.160Z"
      },
      {
        "duration": 41,
        "start_time": "2023-04-27T13:03:31.420Z"
      },
      {
        "duration": 11,
        "start_time": "2023-04-27T13:03:31.920Z"
      },
      {
        "duration": 4,
        "start_time": "2023-04-27T13:03:33.043Z"
      },
      {
        "duration": 3,
        "start_time": "2023-04-27T13:03:54.897Z"
      },
      {
        "duration": 3,
        "start_time": "2023-04-27T13:04:15.546Z"
      },
      {
        "duration": 6,
        "start_time": "2023-04-27T13:05:59.883Z"
      },
      {
        "duration": 10,
        "start_time": "2023-04-27T13:07:13.770Z"
      },
      {
        "duration": 9,
        "start_time": "2023-04-27T13:07:18.941Z"
      },
      {
        "duration": 13,
        "start_time": "2023-04-27T13:07:23.514Z"
      },
      {
        "duration": 9,
        "start_time": "2023-04-27T13:08:14.246Z"
      },
      {
        "duration": 13,
        "start_time": "2023-04-27T13:09:33.645Z"
      },
      {
        "duration": 35,
        "start_time": "2023-04-27T13:10:24.201Z"
      },
      {
        "duration": 8,
        "start_time": "2023-04-27T13:11:45.370Z"
      },
      {
        "duration": 9,
        "start_time": "2023-04-27T13:19:32.170Z"
      },
      {
        "duration": 10,
        "start_time": "2023-04-27T13:32:02.266Z"
      },
      {
        "duration": 10,
        "start_time": "2023-04-27T13:32:09.869Z"
      },
      {
        "duration": 5,
        "start_time": "2023-04-27T13:32:10.174Z"
      },
      {
        "duration": 10,
        "start_time": "2023-04-27T13:32:10.698Z"
      },
      {
        "duration": 1165,
        "start_time": "2023-04-27T13:37:08.798Z"
      },
      {
        "duration": 3,
        "start_time": "2023-04-27T13:37:09.965Z"
      },
      {
        "duration": 20,
        "start_time": "2023-04-27T13:37:09.970Z"
      },
      {
        "duration": 67,
        "start_time": "2023-04-27T13:37:09.993Z"
      },
      {
        "duration": 15,
        "start_time": "2023-04-27T13:37:10.062Z"
      },
      {
        "duration": 11,
        "start_time": "2023-04-27T13:37:10.078Z"
      },
      {
        "duration": 8,
        "start_time": "2023-04-27T13:37:10.091Z"
      },
      {
        "duration": 25,
        "start_time": "2023-04-27T13:37:10.100Z"
      },
      {
        "duration": 29,
        "start_time": "2023-04-27T13:37:10.127Z"
      },
      {
        "duration": 55,
        "start_time": "2023-04-27T13:37:10.158Z"
      },
      {
        "duration": 6,
        "start_time": "2023-04-27T13:37:10.215Z"
      },
      {
        "duration": 17,
        "start_time": "2023-04-27T13:37:10.223Z"
      },
      {
        "duration": 9,
        "start_time": "2023-04-27T13:37:10.242Z"
      },
      {
        "duration": 10,
        "start_time": "2023-04-27T13:37:10.252Z"
      },
      {
        "duration": 6,
        "start_time": "2023-04-27T13:37:10.264Z"
      },
      {
        "duration": 6,
        "start_time": "2023-04-27T13:38:07.501Z"
      },
      {
        "duration": 3,
        "start_time": "2023-04-27T13:40:16.274Z"
      },
      {
        "duration": 27,
        "start_time": "2023-04-27T13:42:16.133Z"
      },
      {
        "duration": 6,
        "start_time": "2023-04-27T13:42:25.574Z"
      },
      {
        "duration": 134,
        "start_time": "2023-04-27T13:42:56.580Z"
      },
      {
        "duration": 646,
        "start_time": "2023-04-27T13:43:08.057Z"
      },
      {
        "duration": 5,
        "start_time": "2023-04-27T13:46:31.830Z"
      },
      {
        "duration": 72,
        "start_time": "2023-04-28T06:07:48.610Z"
      },
      {
        "duration": 1834,
        "start_time": "2023-04-28T06:07:57.789Z"
      },
      {
        "duration": 8,
        "start_time": "2023-04-28T06:07:59.627Z"
      },
      {
        "duration": 11,
        "start_time": "2023-04-28T06:07:59.639Z"
      },
      {
        "duration": 117,
        "start_time": "2023-04-28T06:07:59.655Z"
      },
      {
        "duration": 21,
        "start_time": "2023-04-28T06:07:59.774Z"
      },
      {
        "duration": 4,
        "start_time": "2023-04-28T06:07:59.797Z"
      },
      {
        "duration": 13,
        "start_time": "2023-04-28T06:07:59.803Z"
      },
      {
        "duration": 24,
        "start_time": "2023-04-28T06:07:59.819Z"
      },
      {
        "duration": 33,
        "start_time": "2023-04-28T06:07:59.847Z"
      },
      {
        "duration": 93,
        "start_time": "2023-04-28T06:07:59.992Z"
      },
      {
        "duration": 26,
        "start_time": "2023-04-28T06:08:00.797Z"
      },
      {
        "duration": 16,
        "start_time": "2023-04-28T06:08:00.984Z"
      },
      {
        "duration": 27,
        "start_time": "2023-04-28T06:08:01.147Z"
      },
      {
        "duration": 8,
        "start_time": "2023-04-28T06:08:01.350Z"
      },
      {
        "duration": 61,
        "start_time": "2023-04-28T06:08:01.644Z"
      },
      {
        "duration": 1001,
        "start_time": "2023-04-28T06:08:02.285Z"
      },
      {
        "duration": 3186,
        "start_time": "2023-04-28T06:08:03.865Z"
      },
      {
        "duration": 2858,
        "start_time": "2023-04-28T06:10:37.789Z"
      },
      {
        "duration": 3200,
        "start_time": "2023-04-28T06:11:09.534Z"
      },
      {
        "duration": 60,
        "start_time": "2023-04-28T06:16:25.109Z"
      },
      {
        "duration": 408,
        "start_time": "2023-04-28T06:16:33.632Z"
      },
      {
        "duration": 552,
        "start_time": "2023-04-28T06:16:43.384Z"
      },
      {
        "duration": 1723,
        "start_time": "2023-04-28T06:16:50.108Z"
      },
      {
        "duration": 440,
        "start_time": "2023-04-28T06:16:56.692Z"
      },
      {
        "duration": 274,
        "start_time": "2023-04-28T06:19:40.237Z"
      },
      {
        "duration": 10,
        "start_time": "2023-04-28T06:19:48.264Z"
      },
      {
        "duration": 13,
        "start_time": "2023-04-28T06:19:57.297Z"
      },
      {
        "duration": 96107,
        "start_time": "2023-04-28T06:20:02.787Z"
      },
      {
        "duration": 65,
        "start_time": "2023-04-28T06:22:20.555Z"
      },
      {
        "duration": 444930,
        "start_time": "2023-04-28T06:23:51.242Z"
      },
      {
        "duration": 104540,
        "start_time": "2023-04-28T06:31:29.089Z"
      },
      {
        "duration": 273823,
        "start_time": "2023-04-28T06:35:24.084Z"
      },
      {
        "duration": 92,
        "start_time": "2023-04-28T06:41:03.260Z"
      },
      {
        "duration": 346876,
        "start_time": "2023-04-28T06:41:11.402Z"
      },
      {
        "duration": 118,
        "start_time": "2023-04-28T06:47:11.449Z"
      },
      {
        "duration": 94598,
        "start_time": "2023-04-28T06:47:17.185Z"
      },
      {
        "duration": 56,
        "start_time": "2023-04-28T09:07:57.603Z"
      },
      {
        "duration": 1113,
        "start_time": "2023-04-28T09:08:09.388Z"
      },
      {
        "duration": 3,
        "start_time": "2023-04-28T09:08:12.092Z"
      },
      {
        "duration": 10,
        "start_time": "2023-04-28T09:08:12.316Z"
      },
      {
        "duration": 92,
        "start_time": "2023-04-28T09:08:12.514Z"
      },
      {
        "duration": 13,
        "start_time": "2023-04-28T09:08:12.796Z"
      },
      {
        "duration": 10,
        "start_time": "2023-04-28T09:08:13.516Z"
      },
      {
        "duration": 4,
        "start_time": "2023-04-28T09:08:13.992Z"
      },
      {
        "duration": 5,
        "start_time": "2023-04-28T09:08:14.256Z"
      },
      {
        "duration": 20,
        "start_time": "2023-04-28T09:08:14.516Z"
      },
      {
        "duration": 44,
        "start_time": "2023-04-28T09:08:14.986Z"
      },
      {
        "duration": 9,
        "start_time": "2023-04-28T09:08:15.602Z"
      },
      {
        "duration": 6,
        "start_time": "2023-04-28T09:08:15.912Z"
      },
      {
        "duration": 9,
        "start_time": "2023-04-28T09:08:16.238Z"
      },
      {
        "duration": 4,
        "start_time": "2023-04-28T09:08:16.443Z"
      },
      {
        "duration": 28,
        "start_time": "2023-04-28T09:08:16.657Z"
      },
      {
        "duration": 648,
        "start_time": "2023-04-28T09:08:17.282Z"
      },
      {
        "duration": 6,
        "start_time": "2023-04-28T09:08:21.157Z"
      },
      {
        "duration": 3032,
        "start_time": "2023-04-28T09:09:46.646Z"
      },
      {
        "duration": 5,
        "start_time": "2023-04-28T09:10:29.455Z"
      },
      {
        "duration": 2349,
        "start_time": "2023-04-28T09:10:29.983Z"
      },
      {
        "duration": 345,
        "start_time": "2023-04-28T09:10:55.003Z"
      },
      {
        "duration": 9084,
        "start_time": "2023-04-28T09:11:27.747Z"
      },
      {
        "duration": 17,
        "start_time": "2023-04-28T09:12:17.667Z"
      },
      {
        "duration": 9,
        "start_time": "2023-04-28T09:12:50.139Z"
      },
      {
        "duration": 4,
        "start_time": "2023-04-28T09:12:52.734Z"
      },
      {
        "duration": 4,
        "start_time": "2023-04-28T09:14:04.532Z"
      },
      {
        "duration": 5,
        "start_time": "2023-04-28T09:14:56.587Z"
      },
      {
        "duration": 2703,
        "start_time": "2023-04-28T09:14:57.335Z"
      },
      {
        "duration": 6,
        "start_time": "2023-04-28T09:15:02.094Z"
      },
      {
        "duration": 16,
        "start_time": "2023-04-28T09:15:22.317Z"
      },
      {
        "duration": 345,
        "start_time": "2023-04-28T09:15:32.661Z"
      },
      {
        "duration": 9124,
        "start_time": "2023-04-28T09:15:37.050Z"
      },
      {
        "duration": 6,
        "start_time": "2023-04-28T09:15:56.860Z"
      },
      {
        "duration": 235,
        "start_time": "2023-04-28T09:15:59.475Z"
      },
      {
        "duration": 256,
        "start_time": "2023-04-28T09:16:35.384Z"
      },
      {
        "duration": 4,
        "start_time": "2023-04-28T09:16:54.829Z"
      },
      {
        "duration": 206,
        "start_time": "2023-04-28T09:17:01.787Z"
      },
      {
        "duration": 4,
        "start_time": "2023-04-28T09:22:14.186Z"
      },
      {
        "duration": 2645,
        "start_time": "2023-04-28T09:25:49.885Z"
      },
      {
        "duration": 2673,
        "start_time": "2023-04-28T09:26:05.452Z"
      },
      {
        "duration": 58870,
        "start_time": "2023-04-28T09:26:23.451Z"
      },
      {
        "duration": 13,
        "start_time": "2023-04-28T09:29:01.432Z"
      },
      {
        "duration": 12,
        "start_time": "2023-04-28T09:29:18.451Z"
      },
      {
        "duration": 2475,
        "start_time": "2023-04-28T09:29:44.268Z"
      },
      {
        "duration": 6213,
        "start_time": "2023-04-28T09:29:59.112Z"
      },
      {
        "duration": 5987,
        "start_time": "2023-04-28T09:30:36.236Z"
      },
      {
        "duration": 136,
        "start_time": "2023-04-28T09:31:55.897Z"
      },
      {
        "duration": 329,
        "start_time": "2023-04-28T09:32:26.129Z"
      },
      {
        "duration": 4,
        "start_time": "2023-04-28T09:33:34.096Z"
      },
      {
        "duration": 5534,
        "start_time": "2023-04-28T09:33:36.095Z"
      },
      {
        "duration": 516,
        "start_time": "2023-04-28T09:33:41.633Z"
      },
      {
        "duration": 6358,
        "start_time": "2023-04-28T09:34:56.480Z"
      },
      {
        "duration": 490,
        "start_time": "2023-04-28T09:35:02.840Z"
      },
      {
        "duration": 9266,
        "start_time": "2023-04-28T09:35:03.332Z"
      },
      {
        "duration": 336,
        "start_time": "2023-04-28T09:37:10.135Z"
      },
      {
        "duration": 9235,
        "start_time": "2023-04-28T09:37:52.749Z"
      },
      {
        "duration": 10,
        "start_time": "2023-04-28T09:38:29.070Z"
      },
      {
        "duration": 62,
        "start_time": "2023-04-28T09:39:06.983Z"
      },
      {
        "duration": 237,
        "start_time": "2023-04-28T09:41:59.434Z"
      },
      {
        "duration": 226,
        "start_time": "2023-04-28T09:42:36.171Z"
      },
      {
        "duration": 1653,
        "start_time": "2023-04-28T09:42:57.653Z"
      },
      {
        "duration": 22,
        "start_time": "2023-04-28T09:42:59.308Z"
      },
      {
        "duration": 6,
        "start_time": "2023-04-28T09:42:59.332Z"
      },
      {
        "duration": 50,
        "start_time": "2023-04-28T09:42:59.340Z"
      },
      {
        "duration": 14,
        "start_time": "2023-04-28T09:42:59.392Z"
      },
      {
        "duration": 19,
        "start_time": "2023-04-28T09:42:59.408Z"
      },
      {
        "duration": 14,
        "start_time": "2023-04-28T09:42:59.429Z"
      },
      {
        "duration": 15,
        "start_time": "2023-04-28T09:42:59.445Z"
      },
      {
        "duration": 18,
        "start_time": "2023-04-28T09:42:59.461Z"
      },
      {
        "duration": 54,
        "start_time": "2023-04-28T09:42:59.481Z"
      },
      {
        "duration": 11,
        "start_time": "2023-04-28T09:42:59.537Z"
      },
      {
        "duration": 9,
        "start_time": "2023-04-28T09:42:59.550Z"
      },
      {
        "duration": 17,
        "start_time": "2023-04-28T09:42:59.561Z"
      },
      {
        "duration": 11,
        "start_time": "2023-04-28T09:42:59.580Z"
      },
      {
        "duration": 38,
        "start_time": "2023-04-28T09:42:59.593Z"
      },
      {
        "duration": 140,
        "start_time": "2023-04-28T09:42:59.633Z"
      },
      {
        "duration": 6,
        "start_time": "2023-04-28T09:42:59.775Z"
      },
      {
        "duration": 6048,
        "start_time": "2023-04-28T09:42:59.782Z"
      },
      {
        "duration": 501,
        "start_time": "2023-04-28T09:43:05.832Z"
      },
      {
        "duration": 9037,
        "start_time": "2023-04-28T09:43:06.335Z"
      },
      {
        "duration": 200,
        "start_time": "2023-04-28T09:43:15.373Z"
      },
      {
        "duration": 5,
        "start_time": "2023-04-28T09:43:15.575Z"
      },
      {
        "duration": 5553,
        "start_time": "2023-04-28T09:43:15.581Z"
      },
      {
        "duration": 534,
        "start_time": "2023-04-28T09:43:21.137Z"
      },
      {
        "duration": 9373,
        "start_time": "2023-04-28T09:43:21.673Z"
      },
      {
        "duration": 214,
        "start_time": "2023-04-28T09:43:31.048Z"
      },
      {
        "duration": 6,
        "start_time": "2023-04-28T09:45:50.014Z"
      },
      {
        "duration": 5766,
        "start_time": "2023-04-28T09:45:53.354Z"
      },
      {
        "duration": 434,
        "start_time": "2023-04-28T09:45:59.123Z"
      },
      {
        "duration": 9293,
        "start_time": "2023-04-28T09:45:59.559Z"
      },
      {
        "duration": 237,
        "start_time": "2023-04-28T09:46:08.854Z"
      },
      {
        "duration": 5,
        "start_time": "2023-04-28T09:47:33.132Z"
      },
      {
        "duration": 5,
        "start_time": "2023-04-28T09:47:46.912Z"
      },
      {
        "duration": 13,
        "start_time": "2023-04-28T09:53:13.769Z"
      },
      {
        "duration": 3,
        "start_time": "2023-04-28T09:54:21.147Z"
      },
      {
        "duration": 6157,
        "start_time": "2023-04-28T09:54:59.367Z"
      },
      {
        "duration": 7032,
        "start_time": "2023-04-28T09:55:17.995Z"
      },
      {
        "duration": 193,
        "start_time": "2023-04-28T09:55:53.376Z"
      },
      {
        "duration": 9162,
        "start_time": "2023-04-28T09:56:02.972Z"
      },
      {
        "duration": 251,
        "start_time": "2023-04-28T09:56:17.430Z"
      },
      {
        "duration": 6628,
        "start_time": "2023-04-28T09:57:04.016Z"
      },
      {
        "duration": 464,
        "start_time": "2023-04-28T09:58:51.374Z"
      },
      {
        "duration": 9,
        "start_time": "2023-04-28T09:59:30.582Z"
      },
      {
        "duration": 8,
        "start_time": "2023-04-28T09:59:48.218Z"
      },
      {
        "duration": 6324,
        "start_time": "2023-04-28T09:59:48.715Z"
      },
      {
        "duration": 447,
        "start_time": "2023-04-28T09:59:55.117Z"
      },
      {
        "duration": 9276,
        "start_time": "2023-04-28T09:59:55.566Z"
      },
      {
        "duration": 214,
        "start_time": "2023-04-28T10:00:04.844Z"
      },
      {
        "duration": 8,
        "start_time": "2023-04-28T10:00:17.671Z"
      },
      {
        "duration": 430,
        "start_time": "2023-04-28T10:00:29.635Z"
      },
      {
        "duration": 6,
        "start_time": "2023-04-28T10:02:25.436Z"
      },
      {
        "duration": 8941,
        "start_time": "2023-04-28T10:03:53.028Z"
      },
      {
        "duration": 8940,
        "start_time": "2023-04-28T10:04:13.348Z"
      },
      {
        "duration": 11543,
        "start_time": "2023-04-28T10:04:47.856Z"
      },
      {
        "duration": 11650,
        "start_time": "2023-04-28T10:05:38.282Z"
      },
      {
        "duration": 8,
        "start_time": "2023-04-28T10:05:58.647Z"
      },
      {
        "duration": 27019,
        "start_time": "2023-04-28T10:06:51.503Z"
      },
      {
        "duration": 13322,
        "start_time": "2023-04-28T10:08:15.335Z"
      },
      {
        "duration": 9907,
        "start_time": "2023-04-28T10:08:36.470Z"
      },
      {
        "duration": 8,
        "start_time": "2023-04-28T10:08:59.332Z"
      },
      {
        "duration": 11880,
        "start_time": "2023-04-28T10:09:13.680Z"
      },
      {
        "duration": 1495,
        "start_time": "2023-04-28T10:12:10.073Z"
      },
      {
        "duration": 4,
        "start_time": "2023-04-28T10:12:11.571Z"
      },
      {
        "duration": 56,
        "start_time": "2023-04-28T10:12:11.577Z"
      },
      {
        "duration": 66,
        "start_time": "2023-04-28T10:12:11.635Z"
      },
      {
        "duration": 20,
        "start_time": "2023-04-28T10:12:11.703Z"
      },
      {
        "duration": 24,
        "start_time": "2023-04-28T10:12:11.727Z"
      },
      {
        "duration": 21,
        "start_time": "2023-04-28T10:12:11.753Z"
      },
      {
        "duration": 27,
        "start_time": "2023-04-28T10:12:11.776Z"
      },
      {
        "duration": 54,
        "start_time": "2023-04-28T10:12:11.805Z"
      },
      {
        "duration": 85,
        "start_time": "2023-04-28T10:12:11.861Z"
      },
      {
        "duration": 11,
        "start_time": "2023-04-28T10:12:11.948Z"
      },
      {
        "duration": 15,
        "start_time": "2023-04-28T10:12:11.960Z"
      },
      {
        "duration": 20,
        "start_time": "2023-04-28T10:12:11.977Z"
      },
      {
        "duration": 61,
        "start_time": "2023-04-28T10:12:11.999Z"
      },
      {
        "duration": 45,
        "start_time": "2023-04-28T10:12:12.062Z"
      },
      {
        "duration": 144,
        "start_time": "2023-04-28T10:12:12.109Z"
      },
      {
        "duration": 6,
        "start_time": "2023-04-28T10:12:12.255Z"
      },
      {
        "duration": 5668,
        "start_time": "2023-04-28T10:12:12.263Z"
      },
      {
        "duration": 463,
        "start_time": "2023-04-28T10:12:17.934Z"
      },
      {
        "duration": 9403,
        "start_time": "2023-04-28T10:12:18.398Z"
      },
      {
        "duration": 218,
        "start_time": "2023-04-28T10:12:27.803Z"
      },
      {
        "duration": 5,
        "start_time": "2023-04-28T10:12:28.031Z"
      },
      {
        "duration": 5890,
        "start_time": "2023-04-28T10:12:28.038Z"
      },
      {
        "duration": 430,
        "start_time": "2023-04-28T10:12:33.932Z"
      },
      {
        "duration": 9437,
        "start_time": "2023-04-28T10:12:34.364Z"
      },
      {
        "duration": 218,
        "start_time": "2023-04-28T10:12:43.803Z"
      },
      {
        "duration": 5,
        "start_time": "2023-04-28T10:12:44.029Z"
      },
      {
        "duration": 25,
        "start_time": "2023-04-28T10:12:44.037Z"
      },
      {
        "duration": 15,
        "start_time": "2023-04-28T10:12:44.063Z"
      },
      {
        "duration": 7043,
        "start_time": "2023-04-28T10:12:44.079Z"
      },
      {
        "duration": 516,
        "start_time": "2023-04-28T10:12:51.124Z"
      },
      {
        "duration": 11835,
        "start_time": "2023-04-28T10:12:51.642Z"
      },
      {
        "duration": 8,
        "start_time": "2023-04-28T10:13:03.478Z"
      },
      {
        "duration": 12,
        "start_time": "2023-04-28T10:13:03.488Z"
      },
      {
        "duration": 29,
        "start_time": "2023-04-28T10:13:03.502Z"
      },
      {
        "duration": 5,
        "start_time": "2023-04-28T10:16:18.496Z"
      },
      {
        "duration": 14,
        "start_time": "2023-04-28T10:16:58.428Z"
      },
      {
        "duration": 8,
        "start_time": "2023-04-28T10:17:09.176Z"
      },
      {
        "duration": 23,
        "start_time": "2023-04-28T10:18:56.685Z"
      },
      {
        "duration": 7,
        "start_time": "2023-04-28T10:19:14.638Z"
      },
      {
        "duration": 4,
        "start_time": "2023-04-28T10:20:05.454Z"
      },
      {
        "duration": 11,
        "start_time": "2023-04-28T10:20:59.958Z"
      },
      {
        "duration": 7,
        "start_time": "2023-04-28T10:21:00.541Z"
      },
      {
        "duration": 6,
        "start_time": "2023-04-28T10:21:21.374Z"
      },
      {
        "duration": 8,
        "start_time": "2023-04-28T10:21:26.287Z"
      },
      {
        "duration": 11,
        "start_time": "2023-04-28T10:21:39.956Z"
      },
      {
        "duration": 10,
        "start_time": "2023-04-28T10:21:40.712Z"
      },
      {
        "duration": 5,
        "start_time": "2023-04-28T10:21:44.397Z"
      },
      {
        "duration": 5,
        "start_time": "2023-04-28T10:22:06.755Z"
      },
      {
        "duration": 16,
        "start_time": "2023-04-28T10:23:10.614Z"
      },
      {
        "duration": 11,
        "start_time": "2023-04-28T10:23:30.356Z"
      },
      {
        "duration": 8,
        "start_time": "2023-04-28T10:23:30.713Z"
      },
      {
        "duration": 6,
        "start_time": "2023-04-28T10:23:38.392Z"
      },
      {
        "duration": 17,
        "start_time": "2023-04-28T10:24:40.715Z"
      },
      {
        "duration": 5,
        "start_time": "2023-04-28T10:24:42.181Z"
      },
      {
        "duration": 11,
        "start_time": "2023-04-28T10:24:46.736Z"
      },
      {
        "duration": 6,
        "start_time": "2023-04-28T10:24:47.853Z"
      },
      {
        "duration": 12,
        "start_time": "2023-04-28T10:24:54.872Z"
      },
      {
        "duration": 10,
        "start_time": "2023-04-28T10:24:55.816Z"
      },
      {
        "duration": 16,
        "start_time": "2023-04-28T10:25:01.281Z"
      },
      {
        "duration": 7,
        "start_time": "2023-04-28T10:25:02.431Z"
      },
      {
        "duration": 16,
        "start_time": "2023-04-28T10:25:07.606Z"
      },
      {
        "duration": 5,
        "start_time": "2023-04-28T10:25:08.376Z"
      },
      {
        "duration": 18,
        "start_time": "2023-04-28T10:25:12.418Z"
      },
      {
        "duration": 6,
        "start_time": "2023-04-28T10:25:12.732Z"
      },
      {
        "duration": 12,
        "start_time": "2023-04-28T10:25:18.467Z"
      },
      {
        "duration": 6,
        "start_time": "2023-04-28T10:25:18.560Z"
      },
      {
        "duration": 13,
        "start_time": "2023-04-28T10:25:23.229Z"
      },
      {
        "duration": 7,
        "start_time": "2023-04-28T10:25:23.791Z"
      },
      {
        "duration": 15,
        "start_time": "2023-04-28T10:25:29.416Z"
      },
      {
        "duration": 8,
        "start_time": "2023-04-28T10:25:29.829Z"
      },
      {
        "duration": 12,
        "start_time": "2023-04-28T10:25:34.972Z"
      },
      {
        "duration": 6,
        "start_time": "2023-04-28T10:25:35.275Z"
      },
      {
        "duration": 12,
        "start_time": "2023-04-28T10:25:39.655Z"
      },
      {
        "duration": 6,
        "start_time": "2023-04-28T10:25:39.952Z"
      },
      {
        "duration": 5,
        "start_time": "2023-04-28T10:31:39.646Z"
      },
      {
        "duration": 12,
        "start_time": "2023-04-28T10:31:40.365Z"
      },
      {
        "duration": 7,
        "start_time": "2023-04-28T10:31:42.887Z"
      },
      {
        "duration": 3,
        "start_time": "2023-04-28T10:32:00.874Z"
      },
      {
        "duration": 3949,
        "start_time": "2023-04-28T10:32:33.397Z"
      },
      {
        "duration": 3,
        "start_time": "2023-04-28T10:33:26.291Z"
      },
      {
        "duration": 220,
        "start_time": "2023-04-28T10:33:55.135Z"
      },
      {
        "duration": 5991,
        "start_time": "2023-04-28T10:34:25.355Z"
      },
      {
        "duration": 213,
        "start_time": "2023-04-28T10:35:17.473Z"
      },
      {
        "duration": 81,
        "start_time": "2023-04-28T10:35:45.665Z"
      },
      {
        "duration": 8,
        "start_time": "2023-04-28T10:36:13.242Z"
      },
      {
        "duration": 96,
        "start_time": "2023-04-28T10:36:59.310Z"
      },
      {
        "duration": 236,
        "start_time": "2023-04-28T10:36:59.564Z"
      },
      {
        "duration": 1745,
        "start_time": "2023-04-28T10:40:15.612Z"
      },
      {
        "duration": 2,
        "start_time": "2023-04-28T10:40:17.359Z"
      },
      {
        "duration": 8,
        "start_time": "2023-04-28T10:40:17.363Z"
      },
      {
        "duration": 68,
        "start_time": "2023-04-28T10:40:17.373Z"
      },
      {
        "duration": 16,
        "start_time": "2023-04-28T10:40:17.443Z"
      },
      {
        "duration": 12,
        "start_time": "2023-04-28T10:40:17.461Z"
      },
      {
        "duration": 25,
        "start_time": "2023-04-28T10:40:17.475Z"
      },
      {
        "duration": 13,
        "start_time": "2023-04-28T10:40:17.502Z"
      },
      {
        "duration": 43,
        "start_time": "2023-04-28T10:40:17.516Z"
      },
      {
        "duration": 41,
        "start_time": "2023-04-28T10:40:17.562Z"
      },
      {
        "duration": 11,
        "start_time": "2023-04-28T10:40:17.605Z"
      },
      {
        "duration": 42,
        "start_time": "2023-04-28T10:40:17.617Z"
      },
      {
        "duration": 15,
        "start_time": "2023-04-28T10:40:17.661Z"
      },
      {
        "duration": 22,
        "start_time": "2023-04-28T10:40:17.678Z"
      },
      {
        "duration": 55,
        "start_time": "2023-04-28T10:40:17.701Z"
      },
      {
        "duration": 151,
        "start_time": "2023-04-28T10:40:17.758Z"
      },
      {
        "duration": 10,
        "start_time": "2023-04-28T10:40:17.917Z"
      },
      {
        "duration": 6019,
        "start_time": "2023-04-28T10:40:17.931Z"
      },
      {
        "duration": 490,
        "start_time": "2023-04-28T10:40:23.956Z"
      },
      {
        "duration": 519823,
        "start_time": "2023-04-28T10:40:24.448Z"
      },
      {
        "duration": 0,
        "start_time": "2023-04-28T10:49:04.274Z"
      },
      {
        "duration": 0,
        "start_time": "2023-04-28T10:49:04.275Z"
      },
      {
        "duration": 0,
        "start_time": "2023-04-28T10:49:04.276Z"
      },
      {
        "duration": 0,
        "start_time": "2023-04-28T10:49:04.277Z"
      },
      {
        "duration": 0,
        "start_time": "2023-04-28T10:49:04.278Z"
      },
      {
        "duration": 0,
        "start_time": "2023-04-28T10:49:04.279Z"
      },
      {
        "duration": 0,
        "start_time": "2023-04-28T10:49:04.281Z"
      },
      {
        "duration": 0,
        "start_time": "2023-04-28T10:49:04.282Z"
      },
      {
        "duration": 0,
        "start_time": "2023-04-28T10:49:04.283Z"
      },
      {
        "duration": 0,
        "start_time": "2023-04-28T10:49:04.284Z"
      },
      {
        "duration": 0,
        "start_time": "2023-04-28T10:49:04.285Z"
      },
      {
        "duration": 0,
        "start_time": "2023-04-28T10:49:04.286Z"
      },
      {
        "duration": 0,
        "start_time": "2023-04-28T10:49:04.287Z"
      },
      {
        "duration": 0,
        "start_time": "2023-04-28T10:49:04.289Z"
      },
      {
        "duration": 0,
        "start_time": "2023-04-28T10:49:04.290Z"
      },
      {
        "duration": 0,
        "start_time": "2023-04-28T10:49:04.291Z"
      },
      {
        "duration": 0,
        "start_time": "2023-04-28T10:49:04.292Z"
      },
      {
        "duration": 0,
        "start_time": "2023-04-28T10:49:04.294Z"
      },
      {
        "duration": 0,
        "start_time": "2023-04-28T10:49:04.295Z"
      },
      {
        "duration": 0,
        "start_time": "2023-04-28T10:49:04.296Z"
      },
      {
        "duration": 0,
        "start_time": "2023-04-28T10:49:04.297Z"
      },
      {
        "duration": 1477,
        "start_time": "2023-04-28T10:50:58.561Z"
      },
      {
        "duration": 3,
        "start_time": "2023-04-28T10:51:00.040Z"
      },
      {
        "duration": 22,
        "start_time": "2023-04-28T10:51:00.044Z"
      },
      {
        "duration": 79,
        "start_time": "2023-04-28T10:51:00.069Z"
      },
      {
        "duration": 14,
        "start_time": "2023-04-28T10:51:00.150Z"
      },
      {
        "duration": 49,
        "start_time": "2023-04-28T10:51:00.165Z"
      },
      {
        "duration": 81,
        "start_time": "2023-04-28T10:51:00.215Z"
      },
      {
        "duration": 78,
        "start_time": "2023-04-28T10:51:00.298Z"
      },
      {
        "duration": 61,
        "start_time": "2023-04-28T10:51:00.377Z"
      },
      {
        "duration": 70,
        "start_time": "2023-04-28T10:51:00.441Z"
      },
      {
        "duration": 19,
        "start_time": "2023-04-28T10:51:00.512Z"
      },
      {
        "duration": 53,
        "start_time": "2023-04-28T10:51:00.533Z"
      },
      {
        "duration": 50,
        "start_time": "2023-04-28T10:51:00.588Z"
      },
      {
        "duration": 31,
        "start_time": "2023-04-28T10:51:00.640Z"
      },
      {
        "duration": 78,
        "start_time": "2023-04-28T10:51:00.673Z"
      },
      {
        "duration": 207,
        "start_time": "2023-04-28T10:51:00.753Z"
      },
      {
        "duration": 5,
        "start_time": "2023-04-28T10:51:00.962Z"
      },
      {
        "duration": 5952,
        "start_time": "2023-04-28T10:51:00.969Z"
      },
      {
        "duration": 423,
        "start_time": "2023-04-28T10:51:06.923Z"
      },
      {
        "duration": 97727,
        "start_time": "2023-04-28T10:51:07.349Z"
      },
      {
        "duration": 0,
        "start_time": "2023-04-28T10:52:45.079Z"
      },
      {
        "duration": 0,
        "start_time": "2023-04-28T10:52:45.081Z"
      },
      {
        "duration": 0,
        "start_time": "2023-04-28T10:52:45.083Z"
      },
      {
        "duration": 0,
        "start_time": "2023-04-28T10:52:45.085Z"
      },
      {
        "duration": 0,
        "start_time": "2023-04-28T10:52:45.086Z"
      },
      {
        "duration": 0,
        "start_time": "2023-04-28T10:52:45.087Z"
      },
      {
        "duration": 0,
        "start_time": "2023-04-28T10:52:45.089Z"
      },
      {
        "duration": 0,
        "start_time": "2023-04-28T10:52:45.090Z"
      },
      {
        "duration": 0,
        "start_time": "2023-04-28T10:52:45.092Z"
      },
      {
        "duration": 0,
        "start_time": "2023-04-28T10:52:45.093Z"
      },
      {
        "duration": 0,
        "start_time": "2023-04-28T10:52:45.119Z"
      },
      {
        "duration": 1,
        "start_time": "2023-04-28T10:52:45.120Z"
      },
      {
        "duration": 0,
        "start_time": "2023-04-28T10:52:45.124Z"
      },
      {
        "duration": 0,
        "start_time": "2023-04-28T10:52:45.128Z"
      },
      {
        "duration": 0,
        "start_time": "2023-04-28T10:52:45.129Z"
      },
      {
        "duration": 0,
        "start_time": "2023-04-28T10:52:45.129Z"
      },
      {
        "duration": 0,
        "start_time": "2023-04-28T10:52:45.132Z"
      },
      {
        "duration": 0,
        "start_time": "2023-04-28T10:52:45.133Z"
      },
      {
        "duration": 0,
        "start_time": "2023-04-28T10:52:45.134Z"
      },
      {
        "duration": 0,
        "start_time": "2023-04-28T10:52:45.135Z"
      },
      {
        "duration": 0,
        "start_time": "2023-04-28T10:52:45.137Z"
      },
      {
        "duration": 1533,
        "start_time": "2023-04-28T10:53:48.649Z"
      },
      {
        "duration": 3,
        "start_time": "2023-04-28T10:53:50.184Z"
      },
      {
        "duration": 9,
        "start_time": "2023-04-28T10:53:50.189Z"
      },
      {
        "duration": 53,
        "start_time": "2023-04-28T10:53:50.200Z"
      },
      {
        "duration": 14,
        "start_time": "2023-04-28T10:53:50.256Z"
      },
      {
        "duration": 5,
        "start_time": "2023-04-28T10:53:50.272Z"
      },
      {
        "duration": 17,
        "start_time": "2023-04-28T10:53:50.278Z"
      },
      {
        "duration": 13,
        "start_time": "2023-04-28T10:53:50.297Z"
      },
      {
        "duration": 42,
        "start_time": "2023-04-28T10:53:50.312Z"
      },
      {
        "duration": 45,
        "start_time": "2023-04-28T10:53:50.356Z"
      },
      {
        "duration": 10,
        "start_time": "2023-04-28T10:53:50.402Z"
      },
      {
        "duration": 16,
        "start_time": "2023-04-28T10:53:50.414Z"
      },
      {
        "duration": 26,
        "start_time": "2023-04-28T10:53:50.431Z"
      },
      {
        "duration": 9,
        "start_time": "2023-04-28T10:53:50.460Z"
      },
      {
        "duration": 37,
        "start_time": "2023-04-28T10:53:50.472Z"
      },
      {
        "duration": 150,
        "start_time": "2023-04-28T10:53:50.511Z"
      },
      {
        "duration": 6,
        "start_time": "2023-04-28T10:53:50.663Z"
      },
      {
        "duration": 6870,
        "start_time": "2023-04-28T10:53:50.671Z"
      },
      {
        "duration": 1633,
        "start_time": "2023-04-28T10:53:57.544Z"
      },
      {
        "duration": 450558,
        "start_time": "2023-04-28T10:53:59.180Z"
      },
      {
        "duration": 408,
        "start_time": "2023-04-28T11:01:29.740Z"
      },
      {
        "duration": 5,
        "start_time": "2023-04-28T11:01:30.150Z"
      },
      {
        "duration": 6683,
        "start_time": "2023-04-28T11:01:30.156Z"
      },
      {
        "duration": 1688,
        "start_time": "2023-04-28T11:01:36.842Z"
      },
      {
        "duration": 26390,
        "start_time": "2023-04-28T11:01:38.532Z"
      },
      {
        "duration": 0,
        "start_time": "2023-04-28T11:02:04.928Z"
      },
      {
        "duration": 0,
        "start_time": "2023-04-28T11:02:04.929Z"
      },
      {
        "duration": 0,
        "start_time": "2023-04-28T11:02:04.930Z"
      },
      {
        "duration": 0,
        "start_time": "2023-04-28T11:02:04.931Z"
      },
      {
        "duration": 0,
        "start_time": "2023-04-28T11:02:04.932Z"
      },
      {
        "duration": 0,
        "start_time": "2023-04-28T11:02:04.933Z"
      },
      {
        "duration": 0,
        "start_time": "2023-04-28T11:02:04.934Z"
      },
      {
        "duration": 0,
        "start_time": "2023-04-28T11:02:04.935Z"
      },
      {
        "duration": 0,
        "start_time": "2023-04-28T11:02:04.936Z"
      },
      {
        "duration": 0,
        "start_time": "2023-04-28T11:02:04.937Z"
      },
      {
        "duration": 0,
        "start_time": "2023-04-28T11:02:04.938Z"
      },
      {
        "duration": 0,
        "start_time": "2023-04-28T11:02:04.939Z"
      },
      {
        "duration": 0,
        "start_time": "2023-04-28T11:02:04.940Z"
      },
      {
        "duration": 0,
        "start_time": "2023-04-28T11:02:04.941Z"
      },
      {
        "duration": 0,
        "start_time": "2023-04-28T11:02:04.942Z"
      },
      {
        "duration": 0,
        "start_time": "2023-04-28T11:02:04.943Z"
      },
      {
        "duration": 0,
        "start_time": "2023-04-28T11:02:04.944Z"
      },
      {
        "duration": 199,
        "start_time": "2023-04-28T11:42:16.539Z"
      },
      {
        "duration": 445374,
        "start_time": "2023-04-28T11:42:59.077Z"
      },
      {
        "duration": 215,
        "start_time": "2023-04-28T11:50:24.453Z"
      },
      {
        "duration": 5,
        "start_time": "2023-04-28T11:50:24.670Z"
      },
      {
        "duration": 18,
        "start_time": "2023-04-28T11:50:24.677Z"
      },
      {
        "duration": 14,
        "start_time": "2023-04-28T11:50:24.697Z"
      },
      {
        "duration": 32,
        "start_time": "2023-04-28T11:50:24.712Z"
      },
      {
        "duration": 6996,
        "start_time": "2023-04-28T11:50:24.746Z"
      },
      {
        "duration": 2000,
        "start_time": "2023-04-28T11:50:31.818Z"
      },
      {
        "duration": 610422,
        "start_time": "2023-04-28T11:50:33.832Z"
      },
      {
        "duration": 239,
        "start_time": "2023-04-28T12:00:44.257Z"
      },
      {
        "duration": 5,
        "start_time": "2023-04-28T12:00:44.498Z"
      },
      {
        "duration": 61,
        "start_time": "2023-04-28T12:00:44.505Z"
      },
      {
        "duration": 10,
        "start_time": "2023-04-28T12:00:44.568Z"
      },
      {
        "duration": 4056,
        "start_time": "2023-04-28T12:00:44.580Z"
      },
      {
        "duration": 882,
        "start_time": "2023-04-28T12:00:48.638Z"
      },
      {
        "duration": 257212,
        "start_time": "2023-04-28T12:00:49.526Z"
      },
      {
        "duration": 225,
        "start_time": "2023-04-28T12:05:06.740Z"
      },
      {
        "duration": 3,
        "start_time": "2023-04-28T12:05:06.967Z"
      },
      {
        "duration": 8,
        "start_time": "2023-04-28T12:05:06.972Z"
      },
      {
        "duration": 246,
        "start_time": "2023-04-28T12:05:06.982Z"
      },
      {
        "duration": 3,
        "start_time": "2023-04-28T12:05:28.555Z"
      },
      {
        "duration": 87,
        "start_time": "2023-04-28T12:07:13.267Z"
      },
      {
        "duration": 5,
        "start_time": "2023-04-28T12:07:52.843Z"
      },
      {
        "duration": 26,
        "start_time": "2023-04-28T12:08:29.909Z"
      },
      {
        "duration": 13,
        "start_time": "2023-04-28T12:39:28.455Z"
      },
      {
        "duration": 8,
        "start_time": "2023-04-28T12:39:28.660Z"
      },
      {
        "duration": 18,
        "start_time": "2023-04-28T12:39:28.842Z"
      },
      {
        "duration": 25,
        "start_time": "2023-04-28T12:39:29.036Z"
      },
      {
        "duration": 51,
        "start_time": "2023-04-28T12:47:38.723Z"
      },
      {
        "duration": 6526,
        "start_time": "2023-04-28T12:47:49.201Z"
      },
      {
        "duration": 5927,
        "start_time": "2023-04-28T12:48:24.601Z"
      },
      {
        "duration": 6689,
        "start_time": "2023-04-28T12:49:04.850Z"
      },
      {
        "duration": 3283,
        "start_time": "2023-04-28T12:49:36.893Z"
      },
      {
        "duration": 227,
        "start_time": "2023-04-28T12:54:06.799Z"
      },
      {
        "duration": 184,
        "start_time": "2023-04-28T12:54:42.149Z"
      },
      {
        "duration": 169,
        "start_time": "2023-04-28T12:56:50.498Z"
      },
      {
        "duration": 39,
        "start_time": "2023-04-28T12:56:52.302Z"
      },
      {
        "duration": 496,
        "start_time": "2023-04-28T12:58:37.035Z"
      },
      {
        "duration": 84,
        "start_time": "2023-04-28T13:01:19.468Z"
      },
      {
        "duration": 9,
        "start_time": "2023-04-28T13:05:50.910Z"
      },
      {
        "duration": 889,
        "start_time": "2023-04-28T13:06:12.002Z"
      },
      {
        "duration": 967,
        "start_time": "2023-04-28T13:06:40.401Z"
      },
      {
        "duration": 599,
        "start_time": "2023-04-28T13:06:47.444Z"
      },
      {
        "duration": 514,
        "start_time": "2023-04-28T13:06:56.379Z"
      },
      {
        "duration": 963,
        "start_time": "2023-04-28T13:07:02.920Z"
      },
      {
        "duration": 1453,
        "start_time": "2023-04-28T13:07:11.139Z"
      },
      {
        "duration": 1704,
        "start_time": "2023-04-28T13:09:58.350Z"
      },
      {
        "duration": 1414,
        "start_time": "2023-04-28T13:10:33.966Z"
      },
      {
        "duration": 1555,
        "start_time": "2023-04-28T13:11:03.316Z"
      },
      {
        "duration": 1456,
        "start_time": "2023-04-28T13:11:49.042Z"
      },
      {
        "duration": 106,
        "start_time": "2023-04-28T13:12:32.818Z"
      },
      {
        "duration": 159471,
        "start_time": "2023-04-28T13:12:36.854Z"
      },
      {
        "duration": 336,
        "start_time": "2023-04-28T13:15:53.107Z"
      },
      {
        "duration": 9,
        "start_time": "2023-04-28T13:17:22.091Z"
      },
      {
        "duration": 109,
        "start_time": "2023-04-28T13:18:21.933Z"
      },
      {
        "duration": 35,
        "start_time": "2023-04-28T13:19:11.923Z"
      },
      {
        "duration": 251,
        "start_time": "2023-04-28T13:19:22.006Z"
      },
      {
        "duration": 210,
        "start_time": "2023-04-28T13:21:50.730Z"
      },
      {
        "duration": 219,
        "start_time": "2023-04-28T13:22:08.215Z"
      },
      {
        "duration": 219,
        "start_time": "2023-04-28T13:22:17.966Z"
      },
      {
        "duration": 4,
        "start_time": "2023-04-28T13:22:39.361Z"
      },
      {
        "duration": 215,
        "start_time": "2023-04-28T13:22:47.807Z"
      },
      {
        "duration": 11,
        "start_time": "2023-04-28T13:22:57.311Z"
      },
      {
        "duration": 248,
        "start_time": "2023-04-28T13:26:10.903Z"
      },
      {
        "duration": 204,
        "start_time": "2023-04-28T13:26:30.203Z"
      },
      {
        "duration": 266,
        "start_time": "2023-04-28T13:26:33.750Z"
      },
      {
        "duration": 6,
        "start_time": "2023-04-28T13:28:02.703Z"
      },
      {
        "duration": 298,
        "start_time": "2023-04-28T13:28:12.605Z"
      },
      {
        "duration": 226,
        "start_time": "2023-04-28T13:29:07.840Z"
      },
      {
        "duration": 4,
        "start_time": "2023-04-28T13:29:18.197Z"
      },
      {
        "duration": 40,
        "start_time": "2023-04-28T13:29:23.539Z"
      },
      {
        "duration": 8,
        "start_time": "2023-04-28T13:30:08.501Z"
      },
      {
        "duration": 259,
        "start_time": "2023-04-28T13:30:12.710Z"
      },
      {
        "duration": 195,
        "start_time": "2023-04-28T13:30:44.460Z"
      },
      {
        "duration": 462,
        "start_time": "2023-04-28T13:30:59.313Z"
      },
      {
        "duration": 290,
        "start_time": "2023-04-28T13:35:14.396Z"
      },
      {
        "duration": 243,
        "start_time": "2023-04-28T13:35:47.802Z"
      },
      {
        "duration": 245,
        "start_time": "2023-04-28T13:35:55.735Z"
      },
      {
        "duration": 236,
        "start_time": "2023-04-28T13:36:00.415Z"
      },
      {
        "duration": 4,
        "start_time": "2023-04-28T13:36:20.702Z"
      },
      {
        "duration": 11,
        "start_time": "2023-04-28T13:36:25.320Z"
      },
      {
        "duration": 280,
        "start_time": "2023-04-28T13:36:30.416Z"
      },
      {
        "duration": 241,
        "start_time": "2023-04-28T13:44:50.095Z"
      },
      {
        "duration": 2143,
        "start_time": "2023-04-28T16:07:55.441Z"
      },
      {
        "duration": 4,
        "start_time": "2023-04-28T16:07:57.587Z"
      },
      {
        "duration": 7,
        "start_time": "2023-04-28T16:07:57.595Z"
      },
      {
        "duration": 392,
        "start_time": "2023-04-28T16:07:57.606Z"
      },
      {
        "duration": 18,
        "start_time": "2023-04-28T16:07:58.001Z"
      },
      {
        "duration": 7,
        "start_time": "2023-04-28T16:07:58.021Z"
      },
      {
        "duration": 6,
        "start_time": "2023-04-28T16:07:58.031Z"
      },
      {
        "duration": 8,
        "start_time": "2023-04-28T16:07:58.039Z"
      },
      {
        "duration": 19,
        "start_time": "2023-04-28T16:07:58.049Z"
      },
      {
        "duration": 52,
        "start_time": "2023-04-28T16:07:58.096Z"
      },
      {
        "duration": 17,
        "start_time": "2023-04-28T16:07:58.151Z"
      },
      {
        "duration": 32,
        "start_time": "2023-04-28T16:07:58.170Z"
      },
      {
        "duration": 13,
        "start_time": "2023-04-28T16:07:58.204Z"
      },
      {
        "duration": 8,
        "start_time": "2023-04-28T16:07:58.220Z"
      },
      {
        "duration": 44,
        "start_time": "2023-04-28T16:07:58.231Z"
      },
      {
        "duration": 203,
        "start_time": "2023-04-28T16:07:58.277Z"
      },
      {
        "duration": 8,
        "start_time": "2023-04-28T16:07:58.489Z"
      },
      {
        "duration": 5395,
        "start_time": "2023-04-28T16:07:58.498Z"
      },
      {
        "duration": 1872,
        "start_time": "2023-04-28T16:08:03.905Z"
      },
      {
        "duration": 528214,
        "start_time": "2023-04-28T16:08:05.780Z"
      },
      {
        "duration": 281,
        "start_time": "2023-04-28T16:16:54.000Z"
      },
      {
        "duration": 8,
        "start_time": "2023-04-28T16:16:54.283Z"
      },
      {
        "duration": 7049,
        "start_time": "2023-04-28T16:16:54.294Z"
      },
      {
        "duration": 1877,
        "start_time": "2023-04-28T16:17:01.395Z"
      },
      {
        "duration": 1858,
        "start_time": "2023-04-28T16:22:04.690Z"
      },
      {
        "duration": 5,
        "start_time": "2023-04-28T16:22:06.551Z"
      },
      {
        "duration": 25,
        "start_time": "2023-04-28T16:22:06.558Z"
      },
      {
        "duration": 75,
        "start_time": "2023-04-28T16:22:06.586Z"
      },
      {
        "duration": 21,
        "start_time": "2023-04-28T16:22:06.663Z"
      },
      {
        "duration": 7,
        "start_time": "2023-04-28T16:22:06.686Z"
      },
      {
        "duration": 26,
        "start_time": "2023-04-28T16:22:06.695Z"
      },
      {
        "duration": 23,
        "start_time": "2023-04-28T16:22:06.723Z"
      },
      {
        "duration": 25,
        "start_time": "2023-04-28T16:22:06.748Z"
      },
      {
        "duration": 63,
        "start_time": "2023-04-28T16:22:06.777Z"
      },
      {
        "duration": 10,
        "start_time": "2023-04-28T16:22:06.841Z"
      },
      {
        "duration": 24,
        "start_time": "2023-04-28T16:22:06.853Z"
      },
      {
        "duration": 31,
        "start_time": "2023-04-28T16:22:06.880Z"
      },
      {
        "duration": 4,
        "start_time": "2023-04-28T16:22:06.917Z"
      },
      {
        "duration": 46,
        "start_time": "2023-04-28T16:22:06.923Z"
      },
      {
        "duration": 191,
        "start_time": "2023-04-28T16:22:06.972Z"
      },
      {
        "duration": 8,
        "start_time": "2023-04-28T16:22:07.168Z"
      },
      {
        "duration": 6644,
        "start_time": "2023-04-28T16:22:07.178Z"
      },
      {
        "duration": 3711,
        "start_time": "2023-04-28T16:22:13.826Z"
      },
      {
        "duration": 510428,
        "start_time": "2023-04-28T16:22:17.592Z"
      },
      {
        "duration": 346,
        "start_time": "2023-04-28T16:30:48.022Z"
      },
      {
        "duration": 7,
        "start_time": "2023-04-28T16:30:48.370Z"
      },
      {
        "duration": 6089,
        "start_time": "2023-04-28T16:30:48.379Z"
      },
      {
        "duration": 2089,
        "start_time": "2023-04-28T16:30:54.489Z"
      },
      {
        "duration": 503058,
        "start_time": "2023-04-28T16:30:56.580Z"
      },
      {
        "duration": 287,
        "start_time": "2023-04-28T16:39:19.640Z"
      },
      {
        "duration": 5,
        "start_time": "2023-04-28T16:39:19.929Z"
      },
      {
        "duration": 18,
        "start_time": "2023-04-28T16:39:19.940Z"
      },
      {
        "duration": 6,
        "start_time": "2023-04-28T16:39:19.960Z"
      },
      {
        "duration": 37,
        "start_time": "2023-04-28T16:39:19.968Z"
      },
      {
        "duration": 7389,
        "start_time": "2023-04-28T16:39:20.008Z"
      },
      {
        "duration": 2016,
        "start_time": "2023-04-28T16:39:27.401Z"
      },
      {
        "duration": 603428,
        "start_time": "2023-04-28T16:39:29.419Z"
      },
      {
        "duration": 272,
        "start_time": "2023-04-28T16:49:32.849Z"
      },
      {
        "duration": 5,
        "start_time": "2023-04-28T16:49:33.125Z"
      },
      {
        "duration": 17,
        "start_time": "2023-04-28T16:49:33.132Z"
      },
      {
        "duration": 7,
        "start_time": "2023-04-28T16:49:33.151Z"
      },
      {
        "duration": 2681,
        "start_time": "2023-04-28T16:49:33.160Z"
      },
      {
        "duration": 1025,
        "start_time": "2023-04-28T16:49:35.843Z"
      },
      {
        "duration": 69834,
        "start_time": "2023-04-28T16:49:36.870Z"
      },
      {
        "duration": 0,
        "start_time": "2023-04-28T16:50:46.706Z"
      },
      {
        "duration": 0,
        "start_time": "2023-04-28T16:50:46.707Z"
      },
      {
        "duration": 0,
        "start_time": "2023-04-28T16:50:46.708Z"
      },
      {
        "duration": 0,
        "start_time": "2023-04-28T16:50:46.709Z"
      },
      {
        "duration": 0,
        "start_time": "2023-04-28T16:50:46.711Z"
      },
      {
        "duration": 0,
        "start_time": "2023-04-28T16:50:46.713Z"
      },
      {
        "duration": 0,
        "start_time": "2023-04-28T16:50:46.715Z"
      },
      {
        "duration": 0,
        "start_time": "2023-04-28T16:50:46.717Z"
      },
      {
        "duration": 0,
        "start_time": "2023-04-28T16:50:46.719Z"
      },
      {
        "duration": 0,
        "start_time": "2023-04-28T16:50:46.720Z"
      },
      {
        "duration": 56,
        "start_time": "2023-05-01T12:38:50.440Z"
      },
      {
        "duration": 1802,
        "start_time": "2023-05-01T12:39:08.718Z"
      },
      {
        "duration": 99,
        "start_time": "2023-05-01T12:39:15.448Z"
      },
      {
        "duration": 10,
        "start_time": "2023-05-01T12:39:23.770Z"
      },
      {
        "duration": 2,
        "start_time": "2023-05-01T12:39:24.797Z"
      },
      {
        "duration": 3,
        "start_time": "2023-05-01T12:39:25.021Z"
      },
      {
        "duration": 102,
        "start_time": "2023-05-01T12:39:25.347Z"
      },
      {
        "duration": 16,
        "start_time": "2023-05-01T12:39:25.607Z"
      },
      {
        "duration": 5,
        "start_time": "2023-05-01T12:39:26.434Z"
      },
      {
        "duration": 4,
        "start_time": "2023-05-01T12:39:26.730Z"
      },
      {
        "duration": 6,
        "start_time": "2023-05-01T12:39:27.414Z"
      },
      {
        "duration": 11,
        "start_time": "2023-05-01T12:39:28.225Z"
      },
      {
        "duration": 42,
        "start_time": "2023-05-01T12:39:28.538Z"
      },
      {
        "duration": 3,
        "start_time": "2023-05-01T12:39:30.624Z"
      },
      {
        "duration": 5,
        "start_time": "2023-05-01T12:39:31.989Z"
      },
      {
        "duration": 11,
        "start_time": "2023-05-01T12:39:32.442Z"
      },
      {
        "duration": 6,
        "start_time": "2023-05-01T12:39:33.282Z"
      },
      {
        "duration": 17,
        "start_time": "2023-05-01T12:39:33.969Z"
      },
      {
        "duration": 65,
        "start_time": "2023-05-01T12:40:21.731Z"
      },
      {
        "duration": 12,
        "start_time": "2023-05-01T12:40:22.395Z"
      },
      {
        "duration": 181,
        "start_time": "2023-05-01T12:40:32.253Z"
      },
      {
        "duration": 12,
        "start_time": "2023-05-01T12:40:33.502Z"
      },
      {
        "duration": 11,
        "start_time": "2023-05-01T12:40:47.891Z"
      },
      {
        "duration": 13,
        "start_time": "2023-05-01T12:49:58.989Z"
      },
      {
        "duration": 18,
        "start_time": "2023-05-01T12:50:12.222Z"
      },
      {
        "duration": 16,
        "start_time": "2023-05-01T12:50:22.892Z"
      },
      {
        "duration": 15,
        "start_time": "2023-05-01T12:52:21.792Z"
      },
      {
        "duration": 13,
        "start_time": "2023-05-01T12:54:06.108Z"
      },
      {
        "duration": 12,
        "start_time": "2023-05-01T12:54:17.787Z"
      },
      {
        "duration": 4,
        "start_time": "2023-05-01T12:54:28.986Z"
      },
      {
        "duration": 2,
        "start_time": "2023-05-01T12:54:29.449Z"
      },
      {
        "duration": 3,
        "start_time": "2023-05-01T12:54:29.686Z"
      },
      {
        "duration": 38,
        "start_time": "2023-05-01T12:54:29.915Z"
      },
      {
        "duration": 14,
        "start_time": "2023-05-01T12:54:30.217Z"
      },
      {
        "duration": 6,
        "start_time": "2023-05-01T12:54:30.687Z"
      },
      {
        "duration": 3,
        "start_time": "2023-05-01T12:54:30.930Z"
      },
      {
        "duration": 8,
        "start_time": "2023-05-01T12:54:31.454Z"
      },
      {
        "duration": 15,
        "start_time": "2023-05-01T12:54:32.204Z"
      },
      {
        "duration": 37,
        "start_time": "2023-05-01T12:54:32.488Z"
      },
      {
        "duration": 4,
        "start_time": "2023-05-01T12:54:33.922Z"
      },
      {
        "duration": 4,
        "start_time": "2023-05-01T12:54:35.435Z"
      },
      {
        "duration": 9,
        "start_time": "2023-05-01T12:54:35.785Z"
      },
      {
        "duration": 4,
        "start_time": "2023-05-01T12:54:36.486Z"
      },
      {
        "duration": 19,
        "start_time": "2023-05-01T12:57:08.222Z"
      },
      {
        "duration": 33,
        "start_time": "2023-05-01T12:57:10.171Z"
      },
      {
        "duration": 48,
        "start_time": "2023-05-01T12:57:43.483Z"
      },
      {
        "duration": 4,
        "start_time": "2023-05-01T12:57:53.538Z"
      },
      {
        "duration": 4,
        "start_time": "2023-05-01T12:57:53.986Z"
      },
      {
        "duration": 3,
        "start_time": "2023-05-01T12:57:54.193Z"
      },
      {
        "duration": 47,
        "start_time": "2023-05-01T12:57:54.461Z"
      },
      {
        "duration": 17,
        "start_time": "2023-05-01T12:57:54.714Z"
      },
      {
        "duration": 5,
        "start_time": "2023-05-01T12:57:55.191Z"
      },
      {
        "duration": 4,
        "start_time": "2023-05-01T12:57:55.408Z"
      },
      {
        "duration": 7,
        "start_time": "2023-05-01T12:57:55.869Z"
      },
      {
        "duration": 9,
        "start_time": "2023-05-01T12:57:56.309Z"
      },
      {
        "duration": 53,
        "start_time": "2023-05-01T12:57:56.562Z"
      },
      {
        "duration": 3,
        "start_time": "2023-05-01T12:57:58.093Z"
      },
      {
        "duration": 9,
        "start_time": "2023-05-01T12:57:59.354Z"
      },
      {
        "duration": 9,
        "start_time": "2023-05-01T12:57:59.824Z"
      },
      {
        "duration": 5,
        "start_time": "2023-05-01T12:58:00.630Z"
      },
      {
        "duration": 33,
        "start_time": "2023-05-01T12:58:01.419Z"
      },
      {
        "duration": 23,
        "start_time": "2023-05-01T12:58:02.619Z"
      },
      {
        "duration": 15,
        "start_time": "2023-05-01T12:58:38.035Z"
      },
      {
        "duration": 16,
        "start_time": "2023-05-01T13:00:12.537Z"
      },
      {
        "duration": 19,
        "start_time": "2023-05-01T13:02:59.795Z"
      },
      {
        "duration": 25,
        "start_time": "2023-05-01T13:04:01.354Z"
      },
      {
        "duration": 17,
        "start_time": "2023-05-01T13:11:44.479Z"
      },
      {
        "duration": 11,
        "start_time": "2023-05-01T13:12:01.859Z"
      },
      {
        "duration": 2,
        "start_time": "2023-05-01T13:12:02.324Z"
      },
      {
        "duration": 2,
        "start_time": "2023-05-01T13:12:02.552Z"
      },
      {
        "duration": 38,
        "start_time": "2023-05-01T13:12:02.791Z"
      },
      {
        "duration": 15,
        "start_time": "2023-05-01T13:12:03.000Z"
      },
      {
        "duration": 5,
        "start_time": "2023-05-01T13:12:03.518Z"
      },
      {
        "duration": 7,
        "start_time": "2023-05-01T13:12:03.782Z"
      },
      {
        "duration": 4,
        "start_time": "2023-05-01T13:12:04.335Z"
      },
      {
        "duration": 16,
        "start_time": "2023-05-01T13:12:05.020Z"
      },
      {
        "duration": 38,
        "start_time": "2023-05-01T13:12:05.288Z"
      },
      {
        "duration": 3,
        "start_time": "2023-05-01T13:12:06.496Z"
      },
      {
        "duration": 6,
        "start_time": "2023-05-01T13:12:07.415Z"
      },
      {
        "duration": 20,
        "start_time": "2023-05-01T13:12:07.856Z"
      },
      {
        "duration": 6,
        "start_time": "2023-05-01T13:12:08.381Z"
      },
      {
        "duration": 155,
        "start_time": "2023-05-01T13:12:08.937Z"
      },
      {
        "duration": 14289,
        "start_time": "2023-05-01T13:12:34.790Z"
      },
      {
        "duration": 0,
        "start_time": "2023-05-01T13:12:49.081Z"
      },
      {
        "duration": 13905,
        "start_time": "2023-05-01T13:13:10.495Z"
      },
      {
        "duration": 13238,
        "start_time": "2023-05-01T13:13:46.382Z"
      },
      {
        "duration": 10,
        "start_time": "2023-05-01T13:14:16.709Z"
      },
      {
        "duration": 16,
        "start_time": "2023-05-01T13:14:34.281Z"
      },
      {
        "duration": 5,
        "start_time": "2023-05-01T13:15:00.294Z"
      },
      {
        "duration": 18,
        "start_time": "2023-05-01T13:15:32.688Z"
      },
      {
        "duration": 7,
        "start_time": "2023-05-01T13:19:08.957Z"
      },
      {
        "duration": 13614,
        "start_time": "2023-05-01T13:19:46.050Z"
      },
      {
        "duration": 4,
        "start_time": "2023-05-01T13:20:07.590Z"
      },
      {
        "duration": 9,
        "start_time": "2023-05-01T13:21:22.545Z"
      },
      {
        "duration": 21,
        "start_time": "2023-05-01T13:21:27.061Z"
      },
      {
        "duration": 13,
        "start_time": "2023-05-01T13:21:33.248Z"
      },
      {
        "duration": 3,
        "start_time": "2023-05-01T13:21:43.826Z"
      },
      {
        "duration": 117,
        "start_time": "2023-05-01T13:21:44.419Z"
      },
      {
        "duration": 121,
        "start_time": "2023-05-01T13:22:07.103Z"
      },
      {
        "duration": 127,
        "start_time": "2023-05-01T13:22:10.348Z"
      },
      {
        "duration": 9,
        "start_time": "2023-05-01T13:25:57.683Z"
      },
      {
        "duration": 4,
        "start_time": "2023-05-01T13:26:05.687Z"
      },
      {
        "duration": 2,
        "start_time": "2023-05-01T13:26:06.104Z"
      },
      {
        "duration": 3,
        "start_time": "2023-05-01T13:26:06.411Z"
      },
      {
        "duration": 43,
        "start_time": "2023-05-01T13:26:06.635Z"
      },
      {
        "duration": 15,
        "start_time": "2023-05-01T13:26:06.838Z"
      },
      {
        "duration": 6,
        "start_time": "2023-05-01T13:26:07.583Z"
      },
      {
        "duration": 3,
        "start_time": "2023-05-01T13:26:07.842Z"
      },
      {
        "duration": 6,
        "start_time": "2023-05-01T13:26:08.389Z"
      },
      {
        "duration": 12,
        "start_time": "2023-05-01T13:26:09.283Z"
      },
      {
        "duration": 38,
        "start_time": "2023-05-01T13:26:09.684Z"
      },
      {
        "duration": 7,
        "start_time": "2023-05-01T13:26:11.456Z"
      },
      {
        "duration": 4,
        "start_time": "2023-05-01T13:26:13.039Z"
      },
      {
        "duration": 10,
        "start_time": "2023-05-01T13:26:13.494Z"
      },
      {
        "duration": 4,
        "start_time": "2023-05-01T13:26:14.287Z"
      },
      {
        "duration": 5,
        "start_time": "2023-05-01T13:26:15.517Z"
      },
      {
        "duration": 5,
        "start_time": "2023-05-01T13:26:19.945Z"
      },
      {
        "duration": 4,
        "start_time": "2023-05-01T13:26:21.381Z"
      },
      {
        "duration": 16,
        "start_time": "2023-05-01T13:26:22.452Z"
      },
      {
        "duration": 13,
        "start_time": "2023-05-01T13:26:24.183Z"
      },
      {
        "duration": 130,
        "start_time": "2023-05-01T13:26:41.677Z"
      },
      {
        "duration": 4,
        "start_time": "2023-05-01T13:26:42.394Z"
      },
      {
        "duration": 8,
        "start_time": "2023-05-01T13:26:43.400Z"
      },
      {
        "duration": 4,
        "start_time": "2023-05-01T13:27:00.139Z"
      },
      {
        "duration": 2,
        "start_time": "2023-05-01T13:27:00.732Z"
      },
      {
        "duration": 4,
        "start_time": "2023-05-01T13:27:00.976Z"
      },
      {
        "duration": 37,
        "start_time": "2023-05-01T13:27:01.184Z"
      },
      {
        "duration": 13,
        "start_time": "2023-05-01T13:27:01.387Z"
      },
      {
        "duration": 6,
        "start_time": "2023-05-01T13:27:02.131Z"
      },
      {
        "duration": 3,
        "start_time": "2023-05-01T13:27:02.422Z"
      },
      {
        "duration": 5,
        "start_time": "2023-05-01T13:27:03.029Z"
      },
      {
        "duration": 9,
        "start_time": "2023-05-01T13:27:03.922Z"
      },
      {
        "duration": 44,
        "start_time": "2023-05-01T13:27:04.189Z"
      },
      {
        "duration": 2,
        "start_time": "2023-05-01T13:27:05.814Z"
      },
      {
        "duration": 5,
        "start_time": "2023-05-01T13:27:07.221Z"
      },
      {
        "duration": 9,
        "start_time": "2023-05-01T13:27:07.645Z"
      },
      {
        "duration": 4,
        "start_time": "2023-05-01T13:27:08.237Z"
      },
      {
        "duration": 4,
        "start_time": "2023-05-01T13:27:09.823Z"
      },
      {
        "duration": 120,
        "start_time": "2023-05-01T13:27:12.388Z"
      },
      {
        "duration": 4,
        "start_time": "2023-05-01T13:27:13.303Z"
      },
      {
        "duration": 8,
        "start_time": "2023-05-01T13:27:14.594Z"
      },
      {
        "duration": 144,
        "start_time": "2023-05-01T13:27:31.387Z"
      },
      {
        "duration": 5,
        "start_time": "2023-05-01T13:27:32.099Z"
      },
      {
        "duration": 6,
        "start_time": "2023-05-01T13:27:33.042Z"
      },
      {
        "duration": 4,
        "start_time": "2023-05-01T13:27:39.686Z"
      },
      {
        "duration": 3,
        "start_time": "2023-05-01T13:27:40.092Z"
      },
      {
        "duration": 3,
        "start_time": "2023-05-01T13:27:40.281Z"
      },
      {
        "duration": 34,
        "start_time": "2023-05-01T13:27:40.484Z"
      },
      {
        "duration": 14,
        "start_time": "2023-05-01T13:27:40.705Z"
      },
      {
        "duration": 5,
        "start_time": "2023-05-01T13:27:41.284Z"
      },
      {
        "duration": 3,
        "start_time": "2023-05-01T13:27:41.505Z"
      },
      {
        "duration": 5,
        "start_time": "2023-05-01T13:27:41.904Z"
      },
      {
        "duration": 11,
        "start_time": "2023-05-01T13:27:42.539Z"
      },
      {
        "duration": 38,
        "start_time": "2023-05-01T13:27:42.789Z"
      },
      {
        "duration": 3,
        "start_time": "2023-05-01T13:27:44.001Z"
      },
      {
        "duration": 4,
        "start_time": "2023-05-01T13:27:44.902Z"
      },
      {
        "duration": 11,
        "start_time": "2023-05-01T13:27:45.119Z"
      },
      {
        "duration": 6,
        "start_time": "2023-05-01T13:27:45.763Z"
      },
      {
        "duration": 4,
        "start_time": "2023-05-01T13:27:46.301Z"
      },
      {
        "duration": 138,
        "start_time": "2023-05-01T13:27:47.000Z"
      },
      {
        "duration": 6,
        "start_time": "2023-05-01T13:27:48.434Z"
      },
      {
        "duration": 9,
        "start_time": "2023-05-01T13:27:49.173Z"
      },
      {
        "duration": 10,
        "start_time": "2023-05-01T13:27:50.284Z"
      },
      {
        "duration": 3,
        "start_time": "2023-05-01T13:29:11.100Z"
      },
      {
        "duration": 9,
        "start_time": "2023-05-01T13:29:13.319Z"
      },
      {
        "duration": 3,
        "start_time": "2023-05-01T13:29:31.205Z"
      },
      {
        "duration": 3,
        "start_time": "2023-05-01T13:29:43.616Z"
      },
      {
        "duration": 7,
        "start_time": "2023-05-01T13:29:52.794Z"
      },
      {
        "duration": 20,
        "start_time": "2023-05-01T13:41:57.897Z"
      },
      {
        "duration": 16,
        "start_time": "2023-05-01T13:44:35.926Z"
      },
      {
        "duration": 1521,
        "start_time": "2023-05-01T13:44:50.304Z"
      },
      {
        "duration": 3,
        "start_time": "2023-05-01T13:44:51.827Z"
      },
      {
        "duration": 45,
        "start_time": "2023-05-01T13:44:51.831Z"
      },
      {
        "duration": 59,
        "start_time": "2023-05-01T13:44:51.878Z"
      },
      {
        "duration": 13,
        "start_time": "2023-05-01T13:44:51.939Z"
      },
      {
        "duration": 20,
        "start_time": "2023-05-01T13:44:51.954Z"
      },
      {
        "duration": 15,
        "start_time": "2023-05-01T13:44:51.978Z"
      },
      {
        "duration": 47,
        "start_time": "2023-05-01T13:44:51.994Z"
      },
      {
        "duration": 53,
        "start_time": "2023-05-01T13:44:52.043Z"
      },
      {
        "duration": 79,
        "start_time": "2023-05-01T13:44:52.098Z"
      },
      {
        "duration": 4,
        "start_time": "2023-05-01T13:44:52.180Z"
      },
      {
        "duration": 58,
        "start_time": "2023-05-01T13:44:52.191Z"
      },
      {
        "duration": 43,
        "start_time": "2023-05-01T13:44:52.251Z"
      },
      {
        "duration": 29,
        "start_time": "2023-05-01T13:44:52.297Z"
      },
      {
        "duration": 30,
        "start_time": "2023-05-01T13:44:52.329Z"
      },
      {
        "duration": 27,
        "start_time": "2023-05-01T13:44:52.361Z"
      },
      {
        "duration": 188,
        "start_time": "2023-05-01T13:44:52.393Z"
      },
      {
        "duration": 7,
        "start_time": "2023-05-01T13:44:52.583Z"
      },
      {
        "duration": 3171,
        "start_time": "2023-05-01T13:44:52.593Z"
      },
      {
        "duration": 1353,
        "start_time": "2023-05-01T13:44:55.766Z"
      },
      {
        "duration": 432149,
        "start_time": "2023-05-01T13:44:57.121Z"
      },
      {
        "duration": 251,
        "start_time": "2023-05-01T13:52:09.277Z"
      },
      {
        "duration": 6,
        "start_time": "2023-05-01T13:52:09.529Z"
      },
      {
        "duration": 4064,
        "start_time": "2023-05-01T13:52:09.537Z"
      },
      {
        "duration": 1697,
        "start_time": "2023-05-01T13:52:13.612Z"
      },
      {
        "duration": 428134,
        "start_time": "2023-05-01T13:52:15.311Z"
      },
      {
        "duration": 259,
        "start_time": "2023-05-01T13:59:23.448Z"
      },
      {
        "duration": 6,
        "start_time": "2023-05-01T13:59:23.710Z"
      },
      {
        "duration": 182,
        "start_time": "2023-05-01T13:59:23.718Z"
      },
      {
        "duration": 0,
        "start_time": "2023-05-01T13:59:23.904Z"
      },
      {
        "duration": 0,
        "start_time": "2023-05-01T13:59:23.906Z"
      },
      {
        "duration": 0,
        "start_time": "2023-05-01T13:59:23.908Z"
      },
      {
        "duration": 0,
        "start_time": "2023-05-01T13:59:23.910Z"
      },
      {
        "duration": 0,
        "start_time": "2023-05-01T13:59:23.911Z"
      },
      {
        "duration": 0,
        "start_time": "2023-05-01T13:59:23.913Z"
      },
      {
        "duration": 0,
        "start_time": "2023-05-01T13:59:23.915Z"
      },
      {
        "duration": 0,
        "start_time": "2023-05-01T13:59:23.917Z"
      },
      {
        "duration": 0,
        "start_time": "2023-05-01T13:59:23.918Z"
      },
      {
        "duration": 0,
        "start_time": "2023-05-01T13:59:23.920Z"
      },
      {
        "duration": 0,
        "start_time": "2023-05-01T13:59:23.921Z"
      },
      {
        "duration": 0,
        "start_time": "2023-05-01T13:59:23.922Z"
      },
      {
        "duration": 0,
        "start_time": "2023-05-01T13:59:23.924Z"
      },
      {
        "duration": 0,
        "start_time": "2023-05-01T13:59:23.926Z"
      },
      {
        "duration": 0,
        "start_time": "2023-05-01T13:59:23.927Z"
      },
      {
        "duration": 0,
        "start_time": "2023-05-01T13:59:23.929Z"
      },
      {
        "duration": 0,
        "start_time": "2023-05-01T13:59:23.930Z"
      },
      {
        "duration": 0,
        "start_time": "2023-05-01T13:59:23.931Z"
      },
      {
        "duration": 0,
        "start_time": "2023-05-01T13:59:23.932Z"
      },
      {
        "duration": 0,
        "start_time": "2023-05-01T13:59:23.956Z"
      },
      {
        "duration": 0,
        "start_time": "2023-05-01T13:59:23.958Z"
      },
      {
        "duration": 28,
        "start_time": "2023-05-01T14:09:57.250Z"
      },
      {
        "duration": 6,
        "start_time": "2023-05-01T14:10:55.999Z"
      },
      {
        "duration": 13,
        "start_time": "2023-05-01T14:12:01.488Z"
      },
      {
        "duration": 5,
        "start_time": "2023-05-01T14:12:04.713Z"
      },
      {
        "duration": 9,
        "start_time": "2023-05-01T14:12:05.376Z"
      },
      {
        "duration": 4866,
        "start_time": "2023-05-01T14:12:06.690Z"
      },
      {
        "duration": 1716,
        "start_time": "2023-05-01T14:12:26.805Z"
      },
      {
        "duration": 593014,
        "start_time": "2023-05-01T14:12:31.607Z"
      },
      {
        "duration": 228,
        "start_time": "2023-05-01T14:22:24.623Z"
      },
      {
        "duration": 8,
        "start_time": "2023-05-01T14:22:24.853Z"
      },
      {
        "duration": 51,
        "start_time": "2023-05-01T14:22:24.864Z"
      },
      {
        "duration": 0,
        "start_time": "2023-05-01T14:22:24.917Z"
      },
      {
        "duration": 0,
        "start_time": "2023-05-01T14:22:24.918Z"
      },
      {
        "duration": 0,
        "start_time": "2023-05-01T14:22:24.919Z"
      },
      {
        "duration": 0,
        "start_time": "2023-05-01T14:22:24.921Z"
      },
      {
        "duration": 0,
        "start_time": "2023-05-01T14:22:24.923Z"
      },
      {
        "duration": 0,
        "start_time": "2023-05-01T14:22:24.924Z"
      },
      {
        "duration": 0,
        "start_time": "2023-05-01T14:22:24.926Z"
      },
      {
        "duration": 0,
        "start_time": "2023-05-01T14:22:24.927Z"
      },
      {
        "duration": 0,
        "start_time": "2023-05-01T14:22:24.929Z"
      },
      {
        "duration": 0,
        "start_time": "2023-05-01T14:22:24.930Z"
      },
      {
        "duration": 0,
        "start_time": "2023-05-01T14:22:24.931Z"
      },
      {
        "duration": 0,
        "start_time": "2023-05-01T14:22:24.933Z"
      },
      {
        "duration": 0,
        "start_time": "2023-05-01T14:22:24.935Z"
      },
      {
        "duration": 0,
        "start_time": "2023-05-01T14:22:24.937Z"
      },
      {
        "duration": 10,
        "start_time": "2023-05-01T14:24:51.720Z"
      },
      {
        "duration": 7,
        "start_time": "2023-05-01T14:24:54.419Z"
      },
      {
        "duration": 2968,
        "start_time": "2023-05-01T14:24:55.295Z"
      },
      {
        "duration": 727,
        "start_time": "2023-05-01T14:24:58.266Z"
      },
      {
        "duration": 2883360,
        "start_time": "2023-05-01T14:24:58.995Z"
      },
      {
        "duration": 0,
        "start_time": "2023-05-01T15:13:02.358Z"
      },
      {
        "duration": 0,
        "start_time": "2023-05-01T15:13:02.360Z"
      },
      {
        "duration": 0,
        "start_time": "2023-05-01T15:13:02.361Z"
      },
      {
        "duration": 0,
        "start_time": "2023-05-01T15:13:02.362Z"
      },
      {
        "duration": 0,
        "start_time": "2023-05-01T15:13:02.363Z"
      },
      {
        "duration": 0,
        "start_time": "2023-05-01T15:13:02.364Z"
      },
      {
        "duration": 0,
        "start_time": "2023-05-01T15:13:02.365Z"
      },
      {
        "duration": 0,
        "start_time": "2023-05-01T15:13:02.367Z"
      },
      {
        "duration": 0,
        "start_time": "2023-05-01T15:13:02.368Z"
      },
      {
        "duration": 239401,
        "start_time": "2023-05-01T15:13:17.597Z"
      },
      {
        "duration": 242,
        "start_time": "2023-05-01T15:17:17.001Z"
      },
      {
        "duration": 13,
        "start_time": "2023-05-01T15:17:17.245Z"
      },
      {
        "duration": 18,
        "start_time": "2023-05-01T15:17:17.261Z"
      },
      {
        "duration": 14,
        "start_time": "2023-05-01T15:17:17.281Z"
      },
      {
        "duration": 29,
        "start_time": "2023-05-01T15:17:17.297Z"
      },
      {
        "duration": 96,
        "start_time": "2023-05-01T15:17:17.328Z"
      },
      {
        "duration": 0,
        "start_time": "2023-05-01T15:17:17.426Z"
      },
      {
        "duration": 0,
        "start_time": "2023-05-01T15:17:17.434Z"
      },
      {
        "duration": 0,
        "start_time": "2023-05-01T15:17:17.435Z"
      },
      {
        "duration": 27,
        "start_time": "2023-05-01T15:20:50.794Z"
      },
      {
        "duration": 1514,
        "start_time": "2023-05-02T09:52:08.330Z"
      },
      {
        "duration": 3,
        "start_time": "2023-05-02T09:52:09.846Z"
      },
      {
        "duration": 10,
        "start_time": "2023-05-02T09:52:09.850Z"
      },
      {
        "duration": 75,
        "start_time": "2023-05-02T09:52:09.862Z"
      },
      {
        "duration": 14,
        "start_time": "2023-05-02T09:52:09.938Z"
      },
      {
        "duration": 4,
        "start_time": "2023-05-02T09:52:09.954Z"
      },
      {
        "duration": 10,
        "start_time": "2023-05-02T09:52:09.959Z"
      },
      {
        "duration": 10,
        "start_time": "2023-05-02T09:52:09.971Z"
      },
      {
        "duration": 20,
        "start_time": "2023-05-02T09:52:09.983Z"
      },
      {
        "duration": 41,
        "start_time": "2023-05-02T09:52:10.006Z"
      },
      {
        "duration": 3,
        "start_time": "2023-05-02T09:52:10.049Z"
      },
      {
        "duration": 18,
        "start_time": "2023-05-02T09:52:10.054Z"
      },
      {
        "duration": 22,
        "start_time": "2023-05-02T09:52:10.074Z"
      },
      {
        "duration": 12,
        "start_time": "2023-05-02T09:52:10.097Z"
      },
      {
        "duration": 51,
        "start_time": "2023-05-02T09:52:10.111Z"
      },
      {
        "duration": 17,
        "start_time": "2023-05-02T09:52:10.164Z"
      },
      {
        "duration": 136,
        "start_time": "2023-05-02T09:52:10.183Z"
      },
      {
        "duration": 6,
        "start_time": "2023-05-02T09:52:10.321Z"
      },
      {
        "duration": 4671,
        "start_time": "2023-05-02T09:52:10.329Z"
      },
      {
        "duration": 1426,
        "start_time": "2023-05-02T09:52:15.003Z"
      },
      {
        "duration": 346145,
        "start_time": "2023-05-02T09:52:16.431Z"
      },
      {
        "duration": 0,
        "start_time": "2023-05-02T09:58:02.578Z"
      },
      {
        "duration": 0,
        "start_time": "2023-05-02T09:58:02.580Z"
      },
      {
        "duration": 0,
        "start_time": "2023-05-02T09:58:02.581Z"
      },
      {
        "duration": 0,
        "start_time": "2023-05-02T09:58:02.582Z"
      },
      {
        "duration": 1,
        "start_time": "2023-05-02T09:58:02.593Z"
      },
      {
        "duration": 0,
        "start_time": "2023-05-02T09:58:02.596Z"
      },
      {
        "duration": 0,
        "start_time": "2023-05-02T09:58:02.597Z"
      },
      {
        "duration": 0,
        "start_time": "2023-05-02T09:58:02.599Z"
      },
      {
        "duration": 0,
        "start_time": "2023-05-02T09:58:02.600Z"
      },
      {
        "duration": 0,
        "start_time": "2023-05-02T09:58:02.601Z"
      },
      {
        "duration": 0,
        "start_time": "2023-05-02T09:58:02.602Z"
      },
      {
        "duration": 0,
        "start_time": "2023-05-02T09:58:02.603Z"
      },
      {
        "duration": 0,
        "start_time": "2023-05-02T09:58:02.604Z"
      },
      {
        "duration": 0,
        "start_time": "2023-05-02T09:58:02.605Z"
      },
      {
        "duration": 0,
        "start_time": "2023-05-02T09:58:02.606Z"
      },
      {
        "duration": 0,
        "start_time": "2023-05-02T09:58:02.608Z"
      },
      {
        "duration": 0,
        "start_time": "2023-05-02T09:58:02.609Z"
      },
      {
        "duration": 0,
        "start_time": "2023-05-02T09:58:02.610Z"
      },
      {
        "duration": 0,
        "start_time": "2023-05-02T09:58:02.611Z"
      },
      {
        "duration": 0,
        "start_time": "2023-05-02T09:58:02.615Z"
      },
      {
        "duration": 0,
        "start_time": "2023-05-02T09:58:02.616Z"
      },
      {
        "duration": 0,
        "start_time": "2023-05-02T09:58:02.618Z"
      },
      {
        "duration": 0,
        "start_time": "2023-05-02T09:58:02.619Z"
      },
      {
        "duration": 0,
        "start_time": "2023-05-02T09:58:02.620Z"
      },
      {
        "duration": 0,
        "start_time": "2023-05-02T09:58:02.621Z"
      },
      {
        "duration": 0,
        "start_time": "2023-05-02T09:58:02.623Z"
      },
      {
        "duration": 0,
        "start_time": "2023-05-02T09:58:02.626Z"
      },
      {
        "duration": 0,
        "start_time": "2023-05-02T09:58:02.627Z"
      },
      {
        "duration": 0,
        "start_time": "2023-05-02T09:58:02.629Z"
      },
      {
        "duration": 0,
        "start_time": "2023-05-02T09:58:02.630Z"
      },
      {
        "duration": 1722,
        "start_time": "2023-09-02T20:57:17.954Z"
      },
      {
        "duration": 4,
        "start_time": "2023-09-02T20:57:19.678Z"
      },
      {
        "duration": 7,
        "start_time": "2023-09-02T20:57:19.686Z"
      },
      {
        "duration": 82,
        "start_time": "2023-09-02T20:57:19.696Z"
      },
      {
        "duration": 20,
        "start_time": "2023-09-02T20:57:19.780Z"
      },
      {
        "duration": 5,
        "start_time": "2023-09-02T20:57:19.802Z"
      },
      {
        "duration": 4,
        "start_time": "2023-09-02T20:57:19.810Z"
      },
      {
        "duration": 7,
        "start_time": "2023-09-02T20:57:19.815Z"
      },
      {
        "duration": 27,
        "start_time": "2023-09-02T20:57:19.824Z"
      },
      {
        "duration": 56,
        "start_time": "2023-09-02T20:57:19.853Z"
      },
      {
        "duration": 3,
        "start_time": "2023-09-02T20:57:19.912Z"
      },
      {
        "duration": 5,
        "start_time": "2023-09-02T20:57:19.917Z"
      },
      {
        "duration": 12,
        "start_time": "2023-09-02T20:57:19.924Z"
      },
      {
        "duration": 4,
        "start_time": "2023-09-02T20:57:19.940Z"
      },
      {
        "duration": 55,
        "start_time": "2023-09-02T20:57:19.945Z"
      },
      {
        "duration": 15,
        "start_time": "2023-09-02T20:57:20.002Z"
      },
      {
        "duration": 163,
        "start_time": "2023-09-02T20:57:20.019Z"
      },
      {
        "duration": 11,
        "start_time": "2023-09-02T20:57:20.184Z"
      },
      {
        "duration": 4184,
        "start_time": "2023-09-02T20:57:20.197Z"
      },
      {
        "duration": 1454,
        "start_time": "2023-09-02T20:57:24.384Z"
      },
      {
        "duration": 436384,
        "start_time": "2023-09-02T20:57:25.840Z"
      },
      {
        "duration": 224,
        "start_time": "2023-09-02T21:04:42.226Z"
      },
      {
        "duration": 5,
        "start_time": "2023-09-02T21:04:42.452Z"
      },
      {
        "duration": 4226,
        "start_time": "2023-09-02T21:04:42.458Z"
      },
      {
        "duration": 1502,
        "start_time": "2023-09-02T21:04:46.686Z"
      },
      {
        "duration": 433814,
        "start_time": "2023-09-02T21:04:48.191Z"
      },
      {
        "duration": 224,
        "start_time": "2023-09-02T21:12:02.008Z"
      },
      {
        "duration": 7,
        "start_time": "2023-09-02T21:12:02.234Z"
      },
      {
        "duration": 58,
        "start_time": "2023-09-02T21:12:02.243Z"
      },
      {
        "duration": 51,
        "start_time": "2023-09-02T21:12:02.303Z"
      },
      {
        "duration": 39,
        "start_time": "2023-09-02T21:12:02.356Z"
      },
      {
        "duration": 46,
        "start_time": "2023-09-02T21:12:02.397Z"
      },
      {
        "duration": 5063,
        "start_time": "2023-09-02T21:12:02.445Z"
      },
      {
        "duration": 1937,
        "start_time": "2023-09-02T21:12:07.585Z"
      },
      {
        "duration": 596337,
        "start_time": "2023-09-02T21:12:09.524Z"
      },
      {
        "duration": 231,
        "start_time": "2023-09-02T21:22:05.864Z"
      },
      {
        "duration": 4,
        "start_time": "2023-09-02T21:22:06.098Z"
      },
      {
        "duration": 14,
        "start_time": "2023-09-02T21:22:06.104Z"
      },
      {
        "duration": 7,
        "start_time": "2023-09-02T21:22:06.120Z"
      },
      {
        "duration": 3270,
        "start_time": "2023-09-02T21:22:06.129Z"
      },
      {
        "duration": 789,
        "start_time": "2023-09-02T21:22:09.488Z"
      },
      {
        "duration": 243689,
        "start_time": "2023-09-02T21:22:10.279Z"
      },
      {
        "duration": 221,
        "start_time": "2023-09-02T21:26:13.970Z"
      },
      {
        "duration": 11,
        "start_time": "2023-09-02T21:26:14.193Z"
      },
      {
        "duration": 11,
        "start_time": "2023-09-02T21:26:14.206Z"
      },
      {
        "duration": 10,
        "start_time": "2023-09-02T21:26:14.219Z"
      },
      {
        "duration": 13,
        "start_time": "2023-09-02T21:26:14.231Z"
      },
      {
        "duration": 157,
        "start_time": "2023-09-02T21:26:14.246Z"
      },
      {
        "duration": 98,
        "start_time": "2023-09-02T21:26:14.410Z"
      },
      {
        "duration": 365,
        "start_time": "2023-09-02T21:26:14.510Z"
      },
      {
        "duration": 0,
        "start_time": "2023-09-02T21:26:14.877Z"
      },
      {
        "duration": 201,
        "start_time": "2023-09-02T21:41:20.097Z"
      },
      {
        "duration": 21,
        "start_time": "2023-09-02T21:42:05.623Z"
      },
      {
        "duration": 198,
        "start_time": "2023-09-02T21:42:08.356Z"
      },
      {
        "duration": 240,
        "start_time": "2023-09-02T21:47:19.841Z"
      },
      {
        "duration": 239,
        "start_time": "2023-09-02T21:47:31.297Z"
      },
      {
        "duration": 17,
        "start_time": "2023-09-02T21:47:37.133Z"
      },
      {
        "duration": 243,
        "start_time": "2023-09-02T21:48:23.189Z"
      },
      {
        "duration": 156,
        "start_time": "2023-09-02T21:48:25.347Z"
      }
    ],
    "kernelspec": {
      "display_name": "Python 3 (ipykernel)",
      "language": "python",
      "name": "python3"
    },
    "language_info": {
      "codemirror_mode": {
        "name": "ipython",
        "version": 3
      },
      "file_extension": ".py",
      "mimetype": "text/x-python",
      "name": "python",
      "nbconvert_exporter": "python",
      "pygments_lexer": "ipython3",
      "version": "3.9.5"
    },
    "toc": {
      "base_numbering": 1,
      "nav_menu": {},
      "number_sections": true,
      "sideBar": true,
      "skip_h1_title": true,
      "title_cell": "Содержание",
      "title_sidebar": "Contents",
      "toc_cell": true,
      "toc_position": {
        "height": "calc(100% - 180px)",
        "left": "10px",
        "top": "150px",
        "width": "259.45px"
      },
      "toc_section_display": true,
      "toc_window_display": true
    },
    "colab": {
      "provenance": []
    }
  },
  "nbformat": 4,
  "nbformat_minor": 0
}